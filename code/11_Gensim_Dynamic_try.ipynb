{
 "cells": [
  {
   "cell_type": "markdown",
   "metadata": {
    "colab_type": "text",
    "id": "view-in-github"
   },
   "source": [
    "<a href=\"https://colab.research.google.com/github/mateosuster/nlpPapers/blob/main/code/11_Gensim_Dynamic_try.ipynb\" target=\"_parent\"><img src=\"https://colab.research.google.com/assets/colab-badge.svg\" alt=\"Open In Colab\"/></a>"
   ]
  },
  {
   "cell_type": "markdown",
   "metadata": {
    "id": "1IVF84Rzo4j8"
   },
   "source": [
    "# Importar modelo y corpus ya armado\n"
   ]
  },
  {
   "cell_type": "code",
   "execution_count": 2,
   "metadata": {
    "id": "uubUYEsOpBly"
   },
   "outputs": [
    {
     "ename": "ModuleNotFoundError",
     "evalue": "No module named 'gensim'",
     "output_type": "error",
     "traceback": [
      "\u001b[1;31m---------------------------------------------------------------------------\u001b[0m",
      "\u001b[1;31mModuleNotFoundError\u001b[0m                       Traceback (most recent call last)",
      "Input \u001b[1;32mIn [2]\u001b[0m, in \u001b[0;36m<cell line: 15>\u001b[1;34m()\u001b[0m\n\u001b[0;32m     12\u001b[0m nltk\u001b[38;5;241m.\u001b[39mdownload(\u001b[38;5;124m'\u001b[39m\u001b[38;5;124mstopwords\u001b[39m\u001b[38;5;124m'\u001b[39m)\n\u001b[0;32m     13\u001b[0m \u001b[38;5;28;01mfrom\u001b[39;00m \u001b[38;5;21;01mnltk\u001b[39;00m\u001b[38;5;21;01m.\u001b[39;00m\u001b[38;5;21;01mcorpus\u001b[39;00m \u001b[38;5;28;01mimport\u001b[39;00m stopwords\n\u001b[1;32m---> 15\u001b[0m \u001b[38;5;28;01mimport\u001b[39;00m \u001b[38;5;21;01mgensim\u001b[39;00m\n\u001b[0;32m     16\u001b[0m \u001b[38;5;28;01mfrom\u001b[39;00m \u001b[38;5;21;01mgensim\u001b[39;00m\u001b[38;5;21;01m.\u001b[39;00m\u001b[38;5;21;01mmodels\u001b[39;00m \u001b[38;5;28;01mimport\u001b[39;00m CoherenceModel, LdaModel, LsiModel, HdpModel\n\u001b[0;32m     17\u001b[0m \u001b[38;5;28;01mfrom\u001b[39;00m \u001b[38;5;21;01mgensim\u001b[39;00m\u001b[38;5;21;01m.\u001b[39;00m\u001b[38;5;21;01mmodels\u001b[39;00m\u001b[38;5;21;01m.\u001b[39;00m\u001b[38;5;21;01mwrappers\u001b[39;00m \u001b[38;5;28;01mimport\u001b[39;00m LdaMallet\n",
      "\u001b[1;31mModuleNotFoundError\u001b[0m: No module named 'gensim'"
     ]
    }
   ],
   "source": [
    "%%capture\n",
    "!pip install pyLDAvis==2.1.2\n",
    "\n",
    "import pandas as pd\n",
    "import numpy as np\n",
    "import matplotlib.pyplot  as plt\n",
    "from collections import Counter\n",
    "\n",
    "\n",
    "from nltk import word_tokenize, sent_tokenize\n",
    "import nltk\n",
    "nltk.download('punkt')\n",
    "nltk.download('stopwords')\n",
    "from nltk.corpus import stopwords\n",
    "\n",
    "import gensim\n",
    "from gensim.models import CoherenceModel, LdaModel, LsiModel, HdpModel\n",
    "from gensim.models.wrappers import LdaMallet\n",
    "from gensim.corpora import Dictionary\n",
    "from gensim import corpora\n",
    "\n",
    "from gensim.test.utils import common_corpus\n",
    "# from gensim.models import LdaSeqModel\n",
    "from gensim.models import ldaseqmodel\n",
    "\n",
    "import pyLDAvis.gensim\n",
    "pyLDAvis.enable_notebook()\n",
    "\n",
    "import os, re, operator, warnings\n",
    "warnings.filterwarnings('ignore')  \n",
    "%matplotlib inline"
   ]
  },
  {
   "cell_type": "code",
   "execution_count": 3,
   "metadata": {
    "id": "igCJl_e6xvJM"
   },
   "outputs": [
    {
     "ename": "NameError",
     "evalue": "name 'corpora' is not defined",
     "output_type": "error",
     "traceback": [
      "\u001b[1;31m---------------------------------------------------------------------------\u001b[0m",
      "\u001b[1;31mNameError\u001b[0m                                 Traceback (most recent call last)",
      "Input \u001b[1;32mIn [3]\u001b[0m, in \u001b[0;36m<cell line: 32>\u001b[1;34m()\u001b[0m\n\u001b[0;32m     29\u001b[0m   texts\u001b[38;5;241m=\u001b[39m [tokenize(\u001b[38;5;28mstr\u001b[39m(doc)\u001b[38;5;241m.\u001b[39mlower()) \u001b[38;5;28;01mfor\u001b[39;00m doc \u001b[38;5;129;01min\u001b[39;00m dataset]\n\u001b[0;32m     31\u001b[0m \u001b[38;5;66;03m#dictionaries\u001b[39;00m\n\u001b[1;32m---> 32\u001b[0m dictionary \u001b[38;5;241m=\u001b[39m \u001b[43mcorpora\u001b[49m\u001b[38;5;241m.\u001b[39mDictionary(texts)  \u001b[38;5;66;03m#crea diccionario asinandole un indice numerico a cada palabra\u001b[39;00m\n\u001b[0;32m     33\u001b[0m dictionary\u001b[38;5;241m.\u001b[39mfilter_extremes(no_below\u001b[38;5;241m=\u001b[39m\u001b[38;5;241m10\u001b[39m, no_above\u001b[38;5;241m=\u001b[39m\u001b[38;5;241m0.5\u001b[39m)  \u001b[38;5;66;03m#filtra tokens q aparencen en menos de 10 documentos y en mas de la mitad de los documentos.\u001b[39;00m\n\u001b[0;32m     35\u001b[0m \u001b[38;5;66;03m### doc2bow:\u001b[39;00m\n",
      "\u001b[1;31mNameError\u001b[0m: name 'corpora' is not defined"
     ]
    }
   ],
   "source": [
    "# params\n",
    "Tipo_Datos_ = \"sampleados\"\n",
    "\n",
    "# data\n",
    "from pandas.core.describe import describe_categorical_1d\n",
    "data_Total = pd.read_csv(\"https://raw.githubusercontent.com/mateosuster/nlpPapers/main/code/data/ACL_data.csv\")\n",
    "data_Sampleada = pd.read_csv(\"https://raw.githubusercontent.com/mateosuster/nlpPapers/main/code/data/data_clean.csv\")\n",
    "\n",
    "if Tipo_Datos_ == \"sampleados\":\n",
    "  data = data_Sampleada\n",
    "elif Tipo_Datos_ == \"totales\":\n",
    "  data = data_Total\n",
    "\n",
    "if Tipo_Datos_ == \"sampleados\":\n",
    "  dataset = data.text.tolist()\n",
    "elif Tipo_Datos_ == \"totales\":\n",
    "  dataset = data.ABSTRACT\n",
    "  dataset = dataset.tolist()\n",
    "\n",
    "#cleaning\n",
    "STOP_WORDS = stopwords.words(\"english\")\n",
    "\n",
    "def tokenize(x):\n",
    "    return [word for word in word_tokenize(x) if word not in STOP_WORDS and word.isalpha() and len(word)>1]\n",
    "\n",
    "if Tipo_Datos_ == \"sampleados\":\n",
    "  texts = [word_tokenize(str(doc)) for doc in dataset]\n",
    "elif Tipo_Datos_ == \"totales\":\n",
    "  texts= [tokenize(str(doc).lower()) for doc in dataset]\n",
    "\n",
    "#dictionaries\n",
    "dictionary = corpora.Dictionary(texts)  #crea diccionario asinandole un indice numerico a cada palabra\n",
    "dictionary.filter_extremes(no_below=10, no_above=0.5)  #filtra tokens q aparencen en menos de 10 documentos y en mas de la mitad de los documentos.\n",
    "\n",
    "### doc2bow:\n",
    "corpus = [dictionary.doc2bow(text) for text in texts] #el bow cuenta cantidad de apariciones de cada palabra del diccionario\n",
    "\n",
    "#time slice\n",
    "time_slice = pd.read_csv(\"https://raw.githubusercontent.com/mateosuster/nlpPapers/main/code/data/time_slice.csv\")\n",
    "time_slice = time_slice.YEAR.to_list()\n"
   ]
  },
  {
   "cell_type": "markdown",
   "metadata": {
    "id": "l0CnadJe-ARm"
   },
   "source": [
    "# prueba de usar el modelo con el corpus que ya existe del colab 05\n"
   ]
  },
  {
   "cell_type": "code",
   "execution_count": null,
   "metadata": {
    "id": "MFXUcrzWzJHS"
   },
   "outputs": [],
   "source": [
    "ldaseq = ldaseqmodel.LdaSeqModel(corpus=corpus, id2word=dictionary, time_slice=time_slice, num_topics=5)\n"
   ]
  },
  {
   "cell_type": "markdown",
   "metadata": {
    "id": "2VKTzr_D94pW"
   },
   "source": []
  },
  {
   "cell_type": "markdown",
   "metadata": {
    "id": "88zgnbV5-Tfb"
   },
   "source": [
    "# Armar corpus de 0 para que sea de index 0\n"
   ]
  },
  {
   "cell_type": "markdown",
   "metadata": {
    "id": "RC9ztPuZ-JJN"
   },
   "source": []
  },
  {
   "cell_type": "code",
   "execution_count": null,
   "metadata": {
    "colab": {
     "base_uri": "https://localhost:8080/",
     "height": 206
    },
    "id": "dZXpN9LM53Jc",
    "outputId": "be5acb96-b3c7-4f96-bc22-0bc1b6107aa4"
   },
   "outputs": [
    {
     "data": {
      "text/html": [
       "\n",
       "  <div id=\"df-4a326a94-b9f3-4705-b26c-bf81a4814cb2\">\n",
       "    <div class=\"colab-df-container\">\n",
       "      <div>\n",
       "<style scoped>\n",
       "    .dataframe tbody tr th:only-of-type {\n",
       "        vertical-align: middle;\n",
       "    }\n",
       "\n",
       "    .dataframe tbody tr th {\n",
       "        vertical-align: top;\n",
       "    }\n",
       "\n",
       "    .dataframe thead th {\n",
       "        text-align: right;\n",
       "    }\n",
       "</style>\n",
       "<table border=\"1\" class=\"dataframe\">\n",
       "  <thead>\n",
       "    <tr style=\"text-align: right;\">\n",
       "      <th></th>\n",
       "      <th>YEAR</th>\n",
       "      <th>TITLE</th>\n",
       "      <th>ABSTRACT</th>\n",
       "      <th>AUTHOR</th>\n",
       "      <th>PUBLISHER</th>\n",
       "      <th>BOOKTITLE</th>\n",
       "      <th>CATEGORY</th>\n",
       "    </tr>\n",
       "  </thead>\n",
       "  <tbody>\n",
       "    <tr>\n",
       "      <th>0</th>\n",
       "      <td>2022</td>\n",
       "      <td>A Systematic Survey of Text Worlds as Embodied...</td>\n",
       "      <td>Text Worlds are virtual environments for embod...</td>\n",
       "      <td>Jansen, Peter</td>\n",
       "      <td>Association for Computational Linguistics</td>\n",
       "      <td>Proceedings of the 3rd Wordplay: When Language...</td>\n",
       "      <td>INPROCEEDINGS</td>\n",
       "    </tr>\n",
       "    <tr>\n",
       "      <th>1</th>\n",
       "      <td>2022</td>\n",
       "      <td>A Minimal Computational Improviser Based on Or...</td>\n",
       "      <td>A prototype system for playing a minimal impro...</td>\n",
       "      <td>Montfort, Nick  and</td>\n",
       "      <td>Association for Computational Linguistics</td>\n",
       "      <td>Proceedings of the 3rd Wordplay: When Language...</td>\n",
       "      <td>INPROCEEDINGS</td>\n",
       "    </tr>\n",
       "    <tr>\n",
       "      <th>2</th>\n",
       "      <td>2022</td>\n",
       "      <td>Craft an Iron Sword: Dynamically Generating In...</td>\n",
       "      <td>Non-Player Characters (NPCs) significantly enh...</td>\n",
       "      <td>Volum, Ryan  and</td>\n",
       "      <td>Association for Computational Linguistics</td>\n",
       "      <td>Proceedings of the 3rd Wordplay: When Language...</td>\n",
       "      <td>INPROCEEDINGS</td>\n",
       "    </tr>\n",
       "    <tr>\n",
       "      <th>3</th>\n",
       "      <td>2022</td>\n",
       "      <td>A Sequence Modelling Approach to Question Answ...</td>\n",
       "      <td>Interactive Question Answering (IQA) requires ...</td>\n",
       "      <td>Furman, Gregory  and</td>\n",
       "      <td>Association for Computational Linguistics</td>\n",
       "      <td>Proceedings of the 3rd Wordplay: When Language...</td>\n",
       "      <td>INPROCEEDINGS</td>\n",
       "    </tr>\n",
       "    <tr>\n",
       "      <th>4</th>\n",
       "      <td>2022</td>\n",
       "      <td>Automatic Exploration of Textual Environments ...</td>\n",
       "      <td>The purpose of this extended abstract is to di...</td>\n",
       "      <td>Teodorescu, Laetitia  and</td>\n",
       "      <td>Association for Computational Linguistics</td>\n",
       "      <td>Proceedings of the 3rd Wordplay: When Language...</td>\n",
       "      <td>INPROCEEDINGS</td>\n",
       "    </tr>\n",
       "  </tbody>\n",
       "</table>\n",
       "</div>\n",
       "      <button class=\"colab-df-convert\" onclick=\"convertToInteractive('df-4a326a94-b9f3-4705-b26c-bf81a4814cb2')\"\n",
       "              title=\"Convert this dataframe to an interactive table.\"\n",
       "              style=\"display:none;\">\n",
       "        \n",
       "  <svg xmlns=\"http://www.w3.org/2000/svg\" height=\"24px\"viewBox=\"0 0 24 24\"\n",
       "       width=\"24px\">\n",
       "    <path d=\"M0 0h24v24H0V0z\" fill=\"none\"/>\n",
       "    <path d=\"M18.56 5.44l.94 2.06.94-2.06 2.06-.94-2.06-.94-.94-2.06-.94 2.06-2.06.94zm-11 1L8.5 8.5l.94-2.06 2.06-.94-2.06-.94L8.5 2.5l-.94 2.06-2.06.94zm10 10l.94 2.06.94-2.06 2.06-.94-2.06-.94-.94-2.06-.94 2.06-2.06.94z\"/><path d=\"M17.41 7.96l-1.37-1.37c-.4-.4-.92-.59-1.43-.59-.52 0-1.04.2-1.43.59L10.3 9.45l-7.72 7.72c-.78.78-.78 2.05 0 2.83L4 21.41c.39.39.9.59 1.41.59.51 0 1.02-.2 1.41-.59l7.78-7.78 2.81-2.81c.8-.78.8-2.07 0-2.86zM5.41 20L4 18.59l7.72-7.72 1.47 1.35L5.41 20z\"/>\n",
       "  </svg>\n",
       "      </button>\n",
       "      \n",
       "  <style>\n",
       "    .colab-df-container {\n",
       "      display:flex;\n",
       "      flex-wrap:wrap;\n",
       "      gap: 12px;\n",
       "    }\n",
       "\n",
       "    .colab-df-convert {\n",
       "      background-color: #E8F0FE;\n",
       "      border: none;\n",
       "      border-radius: 50%;\n",
       "      cursor: pointer;\n",
       "      display: none;\n",
       "      fill: #1967D2;\n",
       "      height: 32px;\n",
       "      padding: 0 0 0 0;\n",
       "      width: 32px;\n",
       "    }\n",
       "\n",
       "    .colab-df-convert:hover {\n",
       "      background-color: #E2EBFA;\n",
       "      box-shadow: 0px 1px 2px rgba(60, 64, 67, 0.3), 0px 1px 3px 1px rgba(60, 64, 67, 0.15);\n",
       "      fill: #174EA6;\n",
       "    }\n",
       "\n",
       "    [theme=dark] .colab-df-convert {\n",
       "      background-color: #3B4455;\n",
       "      fill: #D2E3FC;\n",
       "    }\n",
       "\n",
       "    [theme=dark] .colab-df-convert:hover {\n",
       "      background-color: #434B5C;\n",
       "      box-shadow: 0px 1px 3px 1px rgba(0, 0, 0, 0.15);\n",
       "      filter: drop-shadow(0px 1px 2px rgba(0, 0, 0, 0.3));\n",
       "      fill: #FFFFFF;\n",
       "    }\n",
       "  </style>\n",
       "\n",
       "      <script>\n",
       "        const buttonEl =\n",
       "          document.querySelector('#df-4a326a94-b9f3-4705-b26c-bf81a4814cb2 button.colab-df-convert');\n",
       "        buttonEl.style.display =\n",
       "          google.colab.kernel.accessAllowed ? 'block' : 'none';\n",
       "\n",
       "        async function convertToInteractive(key) {\n",
       "          const element = document.querySelector('#df-4a326a94-b9f3-4705-b26c-bf81a4814cb2');\n",
       "          const dataTable =\n",
       "            await google.colab.kernel.invokeFunction('convertToInteractive',\n",
       "                                                     [key], {});\n",
       "          if (!dataTable) return;\n",
       "\n",
       "          const docLinkHtml = 'Like what you see? Visit the ' +\n",
       "            '<a target=\"_blank\" href=https://colab.research.google.com/notebooks/data_table.ipynb>data table notebook</a>'\n",
       "            + ' to learn more about interactive tables.';\n",
       "          element.innerHTML = '';\n",
       "          dataTable['output_type'] = 'display_data';\n",
       "          await google.colab.output.renderOutput(dataTable, element);\n",
       "          const docLink = document.createElement('div');\n",
       "          docLink.innerHTML = docLinkHtml;\n",
       "          element.appendChild(docLink);\n",
       "        }\n",
       "      </script>\n",
       "    </div>\n",
       "  </div>\n",
       "  "
      ],
      "text/plain": [
       "   YEAR                                              TITLE  \\\n",
       "0  2022  A Systematic Survey of Text Worlds as Embodied...   \n",
       "1  2022  A Minimal Computational Improviser Based on Or...   \n",
       "2  2022  Craft an Iron Sword: Dynamically Generating In...   \n",
       "3  2022  A Sequence Modelling Approach to Question Answ...   \n",
       "4  2022  Automatic Exploration of Textual Environments ...   \n",
       "\n",
       "                                            ABSTRACT  \\\n",
       "0  Text Worlds are virtual environments for embod...   \n",
       "1  A prototype system for playing a minimal impro...   \n",
       "2  Non-Player Characters (NPCs) significantly enh...   \n",
       "3  Interactive Question Answering (IQA) requires ...   \n",
       "4  The purpose of this extended abstract is to di...   \n",
       "\n",
       "                      AUTHOR                                  PUBLISHER  \\\n",
       "0              Jansen, Peter  Association for Computational Linguistics   \n",
       "1        Montfort, Nick  and  Association for Computational Linguistics   \n",
       "2           Volum, Ryan  and  Association for Computational Linguistics   \n",
       "3       Furman, Gregory  and  Association for Computational Linguistics   \n",
       "4  Teodorescu, Laetitia  and  Association for Computational Linguistics   \n",
       "\n",
       "                                           BOOKTITLE       CATEGORY  \n",
       "0  Proceedings of the 3rd Wordplay: When Language...  INPROCEEDINGS  \n",
       "1  Proceedings of the 3rd Wordplay: When Language...  INPROCEEDINGS  \n",
       "2  Proceedings of the 3rd Wordplay: When Language...  INPROCEEDINGS  \n",
       "3  Proceedings of the 3rd Wordplay: When Language...  INPROCEEDINGS  \n",
       "4  Proceedings of the 3rd Wordplay: When Language...  INPROCEEDINGS  "
      ]
     },
     "execution_count": 3,
     "metadata": {},
     "output_type": "execute_result"
    }
   ],
   "source": [
    "\n",
    "data = pd.read_csv(\"https://raw.githubusercontent.com/mateosuster/nlpPapers/main/code/data/ACL_data.csv\")\n",
    "data.head()"
   ]
  }
 ],
 "metadata": {
  "colab": {
   "include_colab_link": true,
   "provenance": []
  },
  "kernelspec": {
   "display_name": "Python 3 (ipykernel)",
   "language": "python",
   "name": "python3"
  },
  "language_info": {
   "codemirror_mode": {
    "name": "ipython",
    "version": 3
   },
   "file_extension": ".py",
   "mimetype": "text/x-python",
   "name": "python",
   "nbconvert_exporter": "python",
   "pygments_lexer": "ipython3",
   "version": "3.10.4"
  }
 },
 "nbformat": 4,
 "nbformat_minor": 4
}
