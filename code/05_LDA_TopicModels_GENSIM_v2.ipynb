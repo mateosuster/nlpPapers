{
  "nbformat": 4,
  "nbformat_minor": 0,
  "metadata": {
    "kernelspec": {
      "display_name": "Python 3",
      "language": "python",
      "name": "python3"
    },
    "language_info": {
      "codemirror_mode": {
        "name": "ipython",
        "version": 3
      },
      "file_extension": ".py",
      "mimetype": "text/x-python",
      "name": "python",
      "nbconvert_exporter": "python",
      "pygments_lexer": "ipython3",
      "version": "3.6.6"
    },
    "colab": {
      "provenance": [],
      "collapsed_sections": [],
      "toc_visible": true,
      "include_colab_link": true
    }
  },
  "cells": [
    {
      "cell_type": "markdown",
      "metadata": {
        "id": "view-in-github",
        "colab_type": "text"
      },
      "source": [
        "<a href=\"https://colab.research.google.com/github/mateosuster/nlpPapers/blob/main/code/05_LDA_TopicModels_GENSIM.ipynb\" target=\"_parent\"><img src=\"https://colab.research.google.com/assets/colab-badge.svg\" alt=\"Open In Colab\"/></a>"
      ]
    },
    {
      "cell_type": "markdown",
      "source": [
        "# Dependencias"
      ],
      "metadata": {
        "id": "IlCxk75pDePP"
      }
    },
    {
      "cell_type": "code",
      "metadata": {
        "id": "ohKmaOtj21AU"
      },
      "source": [
        "%%capture\n",
        "!pip install pyLDAvis==2.1.2\n"
      ],
      "execution_count": 2,
      "outputs": []
    },
    {
      "cell_type": "code",
      "metadata": {
        "id": "eMOaCBjl21AY",
        "colab": {
          "base_uri": "https://localhost:8080/"
        },
        "outputId": "5dd068c3-2041-482e-e8c0-31dbbe9d25f7"
      },
      "source": [
        "import pandas as pd\n",
        "import numpy as np\n",
        "import matplotlib.pyplot  as plt\n",
        "from collections import Counter\n",
        "import numpy as np\n",
        "from nltk import word_tokenize, sent_tokenize\n",
        "import nltk\n",
        "nltk.download('punkt')\n",
        "nltk.download('stopwords')\n",
        "from nltk.corpus import stopwords\n",
        "\n",
        "import gensim\n",
        "from gensim.models import CoherenceModel, LdaModel, LsiModel, HdpModel\n",
        "from gensim.models.wrappers import LdaMallet\n",
        "from gensim.corpora import Dictionary\n",
        "from gensim import corpora\n",
        "\n",
        "import pyLDAvis.gensim\n",
        "pyLDAvis.enable_notebook()\n",
        "\n",
        "import os, re, operator, warnings\n",
        "warnings.filterwarnings('ignore')  \n",
        "%matplotlib inline"
      ],
      "execution_count": 3,
      "outputs": [
        {
          "output_type": "stream",
          "name": "stderr",
          "text": [
            "[nltk_data] Downloading package punkt to /root/nltk_data...\n",
            "[nltk_data]   Unzipping tokenizers/punkt.zip.\n",
            "[nltk_data] Downloading package stopwords to /root/nltk_data...\n",
            "[nltk_data]   Unzipping corpora/stopwords.zip.\n",
            "/usr/local/lib/python3.7/dist-packages/past/types/oldstr.py:5: DeprecationWarning: Using or importing the ABCs from 'collections' instead of from 'collections.abc' is deprecated since Python 3.3,and in 3.9 it will stop working\n",
            "  from collections import Iterable\n"
          ]
        }
      ]
    },
    {
      "cell_type": "markdown",
      "source": [
        "# Data"
      ],
      "metadata": {
        "id": "n358byU_Dhh8"
      }
    },
    {
      "cell_type": "code",
      "source": [
        "data = pd.read_csv(\"https://raw.githubusercontent.com/mateosuster/nlpPapers/main/code/data/ACL_data.csv\")\n",
        "data.head()"
      ],
      "metadata": {
        "colab": {
          "base_uri": "https://localhost:8080/",
          "height": 337
        },
        "id": "StS-k1EIDTwC",
        "outputId": "c2082a98-bf13-499a-a439-b3f1d32ac1b9"
      },
      "execution_count": 4,
      "outputs": [
        {
          "output_type": "execute_result",
          "data": {
            "text/plain": [
              "   YEAR                                              TITLE  \\\n",
              "0  2022  A Systematic Survey of Text Worlds as Embodied...   \n",
              "1  2022  A Minimal Computational Improviser Based on Or...   \n",
              "2  2022  Craft an Iron Sword: Dynamically Generating In...   \n",
              "3  2022  A Sequence Modelling Approach to Question Answ...   \n",
              "4  2022  Automatic Exploration of Textual Environments ...   \n",
              "\n",
              "                                            ABSTRACT  \\\n",
              "0  Text Worlds are virtual environments for embod...   \n",
              "1  A prototype system for playing a minimal impro...   \n",
              "2  Non-Player Characters (NPCs) significantly enh...   \n",
              "3  Interactive Question Answering (IQA) requires ...   \n",
              "4  The purpose of this extended abstract is to di...   \n",
              "\n",
              "                      AUTHOR                                  PUBLISHER  \\\n",
              "0              Jansen, Peter  Association for Computational Linguistics   \n",
              "1        Montfort, Nick  and  Association for Computational Linguistics   \n",
              "2           Volum, Ryan  and  Association for Computational Linguistics   \n",
              "3       Furman, Gregory  and  Association for Computational Linguistics   \n",
              "4  Teodorescu, Laetitia  and  Association for Computational Linguistics   \n",
              "\n",
              "                                           BOOKTITLE       CATEGORY  \n",
              "0  Proceedings of the 3rd Wordplay: When Language...  INPROCEEDINGS  \n",
              "1  Proceedings of the 3rd Wordplay: When Language...  INPROCEEDINGS  \n",
              "2  Proceedings of the 3rd Wordplay: When Language...  INPROCEEDINGS  \n",
              "3  Proceedings of the 3rd Wordplay: When Language...  INPROCEEDINGS  \n",
              "4  Proceedings of the 3rd Wordplay: When Language...  INPROCEEDINGS  "
            ],
            "text/html": [
              "\n",
              "  <div id=\"df-2596c3fc-1735-424b-b4da-6371194b155b\">\n",
              "    <div class=\"colab-df-container\">\n",
              "      <div>\n",
              "<style scoped>\n",
              "    .dataframe tbody tr th:only-of-type {\n",
              "        vertical-align: middle;\n",
              "    }\n",
              "\n",
              "    .dataframe tbody tr th {\n",
              "        vertical-align: top;\n",
              "    }\n",
              "\n",
              "    .dataframe thead th {\n",
              "        text-align: right;\n",
              "    }\n",
              "</style>\n",
              "<table border=\"1\" class=\"dataframe\">\n",
              "  <thead>\n",
              "    <tr style=\"text-align: right;\">\n",
              "      <th></th>\n",
              "      <th>YEAR</th>\n",
              "      <th>TITLE</th>\n",
              "      <th>ABSTRACT</th>\n",
              "      <th>AUTHOR</th>\n",
              "      <th>PUBLISHER</th>\n",
              "      <th>BOOKTITLE</th>\n",
              "      <th>CATEGORY</th>\n",
              "    </tr>\n",
              "  </thead>\n",
              "  <tbody>\n",
              "    <tr>\n",
              "      <th>0</th>\n",
              "      <td>2022</td>\n",
              "      <td>A Systematic Survey of Text Worlds as Embodied...</td>\n",
              "      <td>Text Worlds are virtual environments for embod...</td>\n",
              "      <td>Jansen, Peter</td>\n",
              "      <td>Association for Computational Linguistics</td>\n",
              "      <td>Proceedings of the 3rd Wordplay: When Language...</td>\n",
              "      <td>INPROCEEDINGS</td>\n",
              "    </tr>\n",
              "    <tr>\n",
              "      <th>1</th>\n",
              "      <td>2022</td>\n",
              "      <td>A Minimal Computational Improviser Based on Or...</td>\n",
              "      <td>A prototype system for playing a minimal impro...</td>\n",
              "      <td>Montfort, Nick  and</td>\n",
              "      <td>Association for Computational Linguistics</td>\n",
              "      <td>Proceedings of the 3rd Wordplay: When Language...</td>\n",
              "      <td>INPROCEEDINGS</td>\n",
              "    </tr>\n",
              "    <tr>\n",
              "      <th>2</th>\n",
              "      <td>2022</td>\n",
              "      <td>Craft an Iron Sword: Dynamically Generating In...</td>\n",
              "      <td>Non-Player Characters (NPCs) significantly enh...</td>\n",
              "      <td>Volum, Ryan  and</td>\n",
              "      <td>Association for Computational Linguistics</td>\n",
              "      <td>Proceedings of the 3rd Wordplay: When Language...</td>\n",
              "      <td>INPROCEEDINGS</td>\n",
              "    </tr>\n",
              "    <tr>\n",
              "      <th>3</th>\n",
              "      <td>2022</td>\n",
              "      <td>A Sequence Modelling Approach to Question Answ...</td>\n",
              "      <td>Interactive Question Answering (IQA) requires ...</td>\n",
              "      <td>Furman, Gregory  and</td>\n",
              "      <td>Association for Computational Linguistics</td>\n",
              "      <td>Proceedings of the 3rd Wordplay: When Language...</td>\n",
              "      <td>INPROCEEDINGS</td>\n",
              "    </tr>\n",
              "    <tr>\n",
              "      <th>4</th>\n",
              "      <td>2022</td>\n",
              "      <td>Automatic Exploration of Textual Environments ...</td>\n",
              "      <td>The purpose of this extended abstract is to di...</td>\n",
              "      <td>Teodorescu, Laetitia  and</td>\n",
              "      <td>Association for Computational Linguistics</td>\n",
              "      <td>Proceedings of the 3rd Wordplay: When Language...</td>\n",
              "      <td>INPROCEEDINGS</td>\n",
              "    </tr>\n",
              "  </tbody>\n",
              "</table>\n",
              "</div>\n",
              "      <button class=\"colab-df-convert\" onclick=\"convertToInteractive('df-2596c3fc-1735-424b-b4da-6371194b155b')\"\n",
              "              title=\"Convert this dataframe to an interactive table.\"\n",
              "              style=\"display:none;\">\n",
              "        \n",
              "  <svg xmlns=\"http://www.w3.org/2000/svg\" height=\"24px\"viewBox=\"0 0 24 24\"\n",
              "       width=\"24px\">\n",
              "    <path d=\"M0 0h24v24H0V0z\" fill=\"none\"/>\n",
              "    <path d=\"M18.56 5.44l.94 2.06.94-2.06 2.06-.94-2.06-.94-.94-2.06-.94 2.06-2.06.94zm-11 1L8.5 8.5l.94-2.06 2.06-.94-2.06-.94L8.5 2.5l-.94 2.06-2.06.94zm10 10l.94 2.06.94-2.06 2.06-.94-2.06-.94-.94-2.06-.94 2.06-2.06.94z\"/><path d=\"M17.41 7.96l-1.37-1.37c-.4-.4-.92-.59-1.43-.59-.52 0-1.04.2-1.43.59L10.3 9.45l-7.72 7.72c-.78.78-.78 2.05 0 2.83L4 21.41c.39.39.9.59 1.41.59.51 0 1.02-.2 1.41-.59l7.78-7.78 2.81-2.81c.8-.78.8-2.07 0-2.86zM5.41 20L4 18.59l7.72-7.72 1.47 1.35L5.41 20z\"/>\n",
              "  </svg>\n",
              "      </button>\n",
              "      \n",
              "  <style>\n",
              "    .colab-df-container {\n",
              "      display:flex;\n",
              "      flex-wrap:wrap;\n",
              "      gap: 12px;\n",
              "    }\n",
              "\n",
              "    .colab-df-convert {\n",
              "      background-color: #E8F0FE;\n",
              "      border: none;\n",
              "      border-radius: 50%;\n",
              "      cursor: pointer;\n",
              "      display: none;\n",
              "      fill: #1967D2;\n",
              "      height: 32px;\n",
              "      padding: 0 0 0 0;\n",
              "      width: 32px;\n",
              "    }\n",
              "\n",
              "    .colab-df-convert:hover {\n",
              "      background-color: #E2EBFA;\n",
              "      box-shadow: 0px 1px 2px rgba(60, 64, 67, 0.3), 0px 1px 3px 1px rgba(60, 64, 67, 0.15);\n",
              "      fill: #174EA6;\n",
              "    }\n",
              "\n",
              "    [theme=dark] .colab-df-convert {\n",
              "      background-color: #3B4455;\n",
              "      fill: #D2E3FC;\n",
              "    }\n",
              "\n",
              "    [theme=dark] .colab-df-convert:hover {\n",
              "      background-color: #434B5C;\n",
              "      box-shadow: 0px 1px 3px 1px rgba(0, 0, 0, 0.15);\n",
              "      filter: drop-shadow(0px 1px 2px rgba(0, 0, 0, 0.3));\n",
              "      fill: #FFFFFF;\n",
              "    }\n",
              "  </style>\n",
              "\n",
              "      <script>\n",
              "        const buttonEl =\n",
              "          document.querySelector('#df-2596c3fc-1735-424b-b4da-6371194b155b button.colab-df-convert');\n",
              "        buttonEl.style.display =\n",
              "          google.colab.kernel.accessAllowed ? 'block' : 'none';\n",
              "\n",
              "        async function convertToInteractive(key) {\n",
              "          const element = document.querySelector('#df-2596c3fc-1735-424b-b4da-6371194b155b');\n",
              "          const dataTable =\n",
              "            await google.colab.kernel.invokeFunction('convertToInteractive',\n",
              "                                                     [key], {});\n",
              "          if (!dataTable) return;\n",
              "\n",
              "          const docLinkHtml = 'Like what you see? Visit the ' +\n",
              "            '<a target=\"_blank\" href=https://colab.research.google.com/notebooks/data_table.ipynb>data table notebook</a>'\n",
              "            + ' to learn more about interactive tables.';\n",
              "          element.innerHTML = '';\n",
              "          dataTable['output_type'] = 'display_data';\n",
              "          await google.colab.output.renderOutput(dataTable, element);\n",
              "          const docLink = document.createElement('div');\n",
              "          docLink.innerHTML = docLinkHtml;\n",
              "          element.appendChild(docLink);\n",
              "        }\n",
              "      </script>\n",
              "    </div>\n",
              "  </div>\n",
              "  "
            ]
          },
          "metadata": {},
          "execution_count": 4
        }
      ]
    },
    {
      "cell_type": "code",
      "metadata": {
        "id": "dXS0khKmQe5T",
        "colab": {
          "base_uri": "https://localhost:8080/",
          "height": 127
        },
        "outputId": "aba3052a-2e6f-45e8-9418-58c3af3e1408"
      },
      "source": [
        "#from sklearn.datasets import fetch_20newsgroups\n",
        "#dataset = fetch_20newsgroups(shuffle=True, random_state=1,remove=('headers', 'footers', 'quotes')).data\n",
        "dataset = data.ABSTRACT\n",
        "#type(dataset)\n",
        "dataset = dataset.tolist()\n",
        "dataset[0]"
      ],
      "execution_count": 5,
      "outputs": [
        {
          "output_type": "execute_result",
          "data": {
            "text/plain": [
              "'Text Worlds are virtual environments for embodied agents that, unlike 2D or 3D environments, are rendered exclusively using textual descriptions. These environments offer an alternative to higher-fidelity 3D environments due to their low barrier to entry, providing the ability to study semantics, compositional inference, and other high-level tasks with rich action spaces while controlling for perceptual input. This systematic survey outlines recent developments in tooling, environments, and agent modeling for Text Worlds, while examining recent trends in knowledge graphs, common sense reasoning, transfer learning of Text World performance to higher-fidelity environments, as well as near-term development targets that, once achieved, make Text Worlds an attractive general research paradigm for natural language processing.'"
            ],
            "application/vnd.google.colaboratory.intrinsic+json": {
              "type": "string"
            }
          },
          "metadata": {},
          "execution_count": 5
        }
      ]
    },
    {
      "cell_type": "code",
      "source": [
        "type(dataset)\n",
        "#fetch_20newsgroups"
      ],
      "metadata": {
        "colab": {
          "base_uri": "https://localhost:8080/"
        },
        "id": "qYCZQmyR_MVL",
        "outputId": "0b2f3ae3-d582-452e-967e-c6b5de741f18"
      },
      "execution_count": 6,
      "outputs": [
        {
          "output_type": "execute_result",
          "data": {
            "text/plain": [
              "list"
            ]
          },
          "metadata": {},
          "execution_count": 6
        }
      ]
    },
    {
      "cell_type": "markdown",
      "source": [
        "# Preproc"
      ],
      "metadata": {
        "id": "SY3beaVvDkXD"
      }
    },
    {
      "cell_type": "markdown",
      "source": [
        "## Limpieza"
      ],
      "metadata": {
        "id": "kljKN4KUDnI4"
      }
    },
    {
      "cell_type": "code",
      "source": [
        "STOP_WORDS = stopwords.words(\"english\")\n",
        "\n",
        "def tokenize(x):\n",
        "    return [word for word in word_tokenize(x) if word not in STOP_WORDS and word.isalpha() and len(word)>1]\n",
        "    \n",
        "texts= [tokenize(str(doc).lower()) for doc in dataset]\n"
      ],
      "metadata": {
        "id": "2eEls9f2QLkN"
      },
      "execution_count": 7,
      "outputs": []
    },
    {
      "cell_type": "code",
      "source": [
        "print(texts[0])"
      ],
      "metadata": {
        "colab": {
          "base_uri": "https://localhost:8080/"
        },
        "id": "wUKvuUdw0jRq",
        "outputId": "6188c580-c277-4f57-dd1f-e7b82176cd55"
      },
      "execution_count": 8,
      "outputs": [
        {
          "output_type": "stream",
          "name": "stdout",
          "text": [
            "['text', 'worlds', 'virtual', 'environments', 'embodied', 'agents', 'unlike', 'environments', 'rendered', 'exclusively', 'using', 'textual', 'descriptions', 'environments', 'offer', 'alternative', 'environments', 'due', 'low', 'barrier', 'entry', 'providing', 'ability', 'study', 'semantics', 'compositional', 'inference', 'tasks', 'rich', 'action', 'spaces', 'controlling', 'perceptual', 'input', 'systematic', 'survey', 'outlines', 'recent', 'developments', 'tooling', 'environments', 'agent', 'modeling', 'text', 'worlds', 'examining', 'recent', 'trends', 'knowledge', 'graphs', 'common', 'sense', 'reasoning', 'transfer', 'learning', 'text', 'world', 'performance', 'environments', 'well', 'development', 'targets', 'achieved', 'make', 'text', 'worlds', 'attractive', 'general', 'research', 'paradigm', 'natural', 'language', 'processing']\n"
          ]
        }
      ]
    },
    {
      "cell_type": "markdown",
      "source": [
        "## Ajuste para LDA"
      ],
      "metadata": {
        "id": "fQCaFocqDpBy"
      }
    },
    {
      "cell_type": "code",
      "metadata": {
        "id": "u25ufjLL21Al",
        "colab": {
          "base_uri": "https://localhost:8080/"
        },
        "outputId": "0d661896-6f98-4c2b-d8af-7d6c4c415cf2"
      },
      "source": [
        "dictionary = corpora.Dictionary(texts)\n",
        "print(len(dictionary))\n",
        "dictionary.filter_extremes(no_below=10, no_above=0.5)\n",
        "print(len(dictionary))"
      ],
      "execution_count": 9,
      "outputs": [
        {
          "output_type": "stream",
          "name": "stdout",
          "text": [
            "48159\n",
            "10142\n"
          ]
        }
      ]
    },
    {
      "cell_type": "code",
      "metadata": {
        "id": "qcG0Toxp21Ao"
      },
      "source": [
        "corpus = [dictionary.doc2bow(text) for text in texts]"
      ],
      "execution_count": 10,
      "outputs": []
    },
    {
      "cell_type": "markdown",
      "source": [
        "## LDA"
      ],
      "metadata": {
        "id": "7cFr9cAzDrl2"
      }
    },
    {
      "cell_type": "code",
      "source": [
        "semilla = 420"
      ],
      "metadata": {
        "id": "h5nBM9dPD1EH"
      },
      "execution_count": 11,
      "outputs": []
    },
    {
      "cell_type": "code",
      "metadata": {
        "id": "Ro3bENF821Ar",
        "outputId": "6b6d4ba2-a204-42b3-b1f9-d8de04a8e08a",
        "colab": {
          "base_uri": "https://localhost:8080/",
          "height": 190
        }
      },
      "source": [
        "lsamodel = LsiModel(corpus=corpus, num_topics=25, id2word=dictionary\n",
        "                    # , random_seed = semilla\n",
        "                    )"
      ],
      "execution_count": 12,
      "outputs": [
        {
          "output_type": "error",
          "ename": "TypeError",
          "evalue": "ignored",
          "traceback": [
            "\u001b[0;31m---------------------------------------------------------------------------\u001b[0m",
            "\u001b[0;31mTypeError\u001b[0m                                 Traceback (most recent call last)",
            "\u001b[0;32m<ipython-input-12-efc4904432d1>\u001b[0m in \u001b[0;36m<module>\u001b[0;34m\u001b[0m\n\u001b[1;32m      1\u001b[0m lsamodel = LsiModel(corpus=corpus, num_topics=25, id2word=dictionary\n\u001b[0;32m----> 2\u001b[0;31m                     , random_seed = semilla)\n\u001b[0m",
            "\u001b[0;31mTypeError\u001b[0m: __init__() got an unexpected keyword argument 'random_seed'"
          ]
        }
      ]
    },
    {
      "cell_type": "code",
      "metadata": {
        "id": "NBp4urdZ21Au",
        "colab": {
          "base_uri": "https://localhost:8080/"
        },
        "outputId": "945a5604-ebb6-4b2f-a28d-5de884252069"
      },
      "source": [
        "lsamodel.print_topics(10,4)\n"
      ],
      "execution_count": null,
      "outputs": [
        {
          "output_type": "execute_result",
          "data": {
            "text/plain": [
              "[(0, '0.295*\"model\" + 0.283*\"language\" + 0.262*\"models\" + 0.226*\"data\"'),\n",
              " (1, '-0.681*\"de\" + -0.280*\"la\" + -0.280*\"des\" + -0.245*\"les\"'),\n",
              " (2,\n",
              "  '-0.448*\"translation\" + 0.447*\"model\" + -0.317*\"language\" + 0.284*\"models\"'),\n",
              " (3,\n",
              "  '0.705*\"language\" + -0.338*\"translation\" + 0.316*\"models\" + -0.207*\"system\"'),\n",
              " (4, '0.548*\"translation\" + 0.355*\"model\" + 0.303*\"models\" + -0.246*\"corpus\"'),\n",
              " (5, '-0.805*\"data\" + 0.262*\"word\" + -0.232*\"training\" + 0.206*\"language\"'),\n",
              " (6, '-0.641*\"model\" + 0.617*\"models\" + -0.257*\"language\" + -0.162*\"data\"'),\n",
              " (7, '-0.536*\"word\" + 0.463*\"task\" + 0.285*\"system\" + -0.238*\"embeddings\"'),\n",
              " (8, '-0.564*\"task\" + -0.378*\"word\" + 0.284*\"corpus\" + -0.198*\"embeddings\"'),\n",
              " (9, '-0.469*\"corpus\" + -0.356*\"models\" + -0.274*\"model\" + 0.273*\"knowledge\"')]"
            ]
          },
          "metadata": {},
          "execution_count": 55
        }
      ]
    },
    {
      "cell_type": "code",
      "metadata": {
        "id": "m_njO3Ak21A2"
      },
      "source": [
        "ldamodel = LdaModel(corpus=corpus, num_topics=10, id2word=dictionary, iterations = 2000, passes=10\n",
        "                    # , random_seed = semilla\n",
        "                    )\n"
      ],
      "execution_count": null,
      "outputs": []
    },
    {
      "cell_type": "code",
      "metadata": {
        "id": "KGbtvXC-W1_l",
        "colab": {
          "base_uri": "https://localhost:8080/"
        },
        "outputId": "9bab6104-aeda-4f41-cb1c-4fec56f9f90f"
      },
      "source": [
        "ldamodel.print_topics(10, 8)"
      ],
      "execution_count": null,
      "outputs": [
        {
          "output_type": "execute_result",
          "data": {
            "text/plain": [
              "[(0,\n",
              "  '0.014*\"information\" + 0.010*\"text\" + 0.009*\"analysis\" + 0.008*\"documents\" + 0.008*\"social\" + 0.008*\"sentiment\" + 0.008*\"news\" + 0.007*\"users\"'),\n",
              " (1,\n",
              "  '0.015*\"evaluation\" + 0.012*\"human\" + 0.008*\"results\" + 0.007*\"text\" + 0.007*\"automatic\" + 0.007*\"study\" + 0.006*\"different\" + 0.006*\"metrics\"'),\n",
              " (2,\n",
              "  '0.030*\"model\" + 0.023*\"models\" + 0.012*\"learning\" + 0.011*\"propose\" + 0.011*\"performance\" + 0.011*\"show\" + 0.011*\"neural\" + 0.011*\"tasks\"'),\n",
              " (3,\n",
              "  '0.044*\"task\" + 0.042*\"system\" + 0.022*\"paper\" + 0.017*\"model\" + 0.017*\"features\" + 0.015*\"results\" + 0.014*\"shared\" + 0.011*\"classification\"'),\n",
              " (4,\n",
              "  '0.016*\"speech\" + 0.011*\"parser\" + 0.011*\"grammar\" + 0.010*\"errors\" + 0.010*\"error\" + 0.009*\"ontology\" + 0.008*\"algorithm\" + 0.007*\"recognition\"'),\n",
              " (5,\n",
              "  '0.078*\"de\" + 0.033*\"des\" + 0.032*\"la\" + 0.027*\"les\" + 0.025*\"et\" + 0.021*\"un\" + 0.021*\"le\" + 0.020*\"une\"'),\n",
              " (6,\n",
              "  '0.039*\"word\" + 0.030*\"semantic\" + 0.025*\"words\" + 0.017*\"lexical\" + 0.016*\"syntactic\" + 0.016*\"parsing\" + 0.015*\"information\" + 0.012*\"relations\"'),\n",
              " (7,\n",
              "  '0.028*\"corpus\" + 0.027*\"language\" + 0.020*\"annotation\" + 0.016*\"paper\" + 0.013*\"data\" + 0.013*\"resources\" + 0.009*\"research\" + 0.009*\"processing\"'),\n",
              " (8,\n",
              "  '0.019*\"question\" + 0.018*\"dialogue\" + 0.015*\"system\" + 0.015*\"knowledge\" + 0.013*\"questions\" + 0.011*\"information\" + 0.011*\"user\" + 0.011*\"systems\"'),\n",
              " (9,\n",
              "  '0.046*\"translation\" + 0.021*\"machine\" + 0.019*\"languages\" + 0.019*\"language\" + 0.015*\"data\" + 0.014*\"mt\" + 0.011*\"system\" + 0.011*\"english\"')]"
            ]
          },
          "metadata": {},
          "execution_count": 41
        }
      ]
    },
    {
      "cell_type": "code",
      "metadata": {
        "id": "iPF_BUvFW1rd",
        "colab": {
          "base_uri": "https://localhost:8080/"
        },
        "outputId": "dc362aef-2e7a-4c9c-994d-62d272bfbc08"
      },
      "source": [
        "new_text = dataset[0]\n",
        "\n",
        "# transform held_out_text into the bag-of-words space\n",
        "bow_vector = dictionary.doc2bow(tokenize(new_text.lower()))\n",
        "lda_vector = ldamodel[bow_vector]\n",
        "print(lda_vector)\n",
        "# print the document's single most prominent LDA topic\n",
        "print(ldamodel.print_topic(max(lda_vector, key=lambda item: item[1])[0]))"
      ],
      "execution_count": null,
      "outputs": [
        {
          "output_type": "stream",
          "name": "stdout",
          "text": [
            "[(0, 0.0442734), (1, 0.12519147), (2, 0.28757638), (4, 0.07169536), (5, 0.042707674), (7, 0.122924335), (8, 0.30152035)]\n",
            "0.019*\"question\" + 0.018*\"dialogue\" + 0.015*\"system\" + 0.015*\"knowledge\" + 0.013*\"questions\" + 0.011*\"information\" + 0.011*\"user\" + 0.011*\"systems\" + 0.009*\"generation\" + 0.008*\"dataset\"\n"
          ]
        }
      ]
    },
    {
      "cell_type": "code",
      "metadata": {
        "id": "Oypnd8WN21BB",
        "colab": {
          "base_uri": "https://localhost:8080/",
          "height": 862
        },
        "outputId": "195abb80-db39-4fb5-857c-3fe7e8103775"
      },
      "source": [
        "pyLDAvis.gensim.prepare(ldamodel, corpus, dictionary)"
      ],
      "execution_count": null,
      "outputs": [
        {
          "output_type": "execute_result",
          "data": {
            "text/plain": [
              "PreparedData(topic_coordinates=              x         y  topics  cluster       Freq\n",
              "topic                                                \n",
              "2      0.097855 -0.079416       1        1  26.170669\n",
              "9      0.099078 -0.038675       2        1  11.460142\n",
              "1      0.079743  0.063833       3        1  11.036035\n",
              "7      0.033135 -0.006194       4        1   9.272911\n",
              "0      0.040081  0.025009       5        1   9.225107\n",
              "8      0.065611 -0.098139       6        1   7.689999\n",
              "6     -0.009030  0.306398       7        1   6.833015\n",
              "5     -0.520577 -0.042327       8        1   6.402450\n",
              "3      0.055401 -0.165743       9        1   6.233653\n",
              "4      0.058704  0.035253      10        1   5.676019, topic_info=             Term          Freq         Total Category  logprob  loglift\n",
              "4831           de  12795.000000  12795.000000  Default  30.0000  30.0000\n",
              "1518  translation  13660.000000  13660.000000  Default  29.0000  29.0000\n",
              "234          task  15172.000000  15172.000000  Default  28.0000  28.0000\n",
              "118        system  14868.000000  14868.000000  Default  27.0000  27.0000\n",
              "97          model  25202.000000  25202.000000  Default  26.0000  26.0000\n",
              "...           ...           ...           ...      ...      ...      ...\n",
              "1101         used    631.279987   8544.035340  Topic10  -5.4458   0.2637\n",
              "112          show    553.374658  11726.592622  Topic10  -5.5775  -0.1847\n",
              "236      training    536.796431   8500.365231  Topic10  -5.6079   0.1067\n",
              "1143       number    511.590771   3201.766958  Topic10  -5.6560   1.0350\n",
              "466     automatic    515.855210   4492.311473  Topic10  -5.6477   0.7046\n",
              "\n",
              "[696 rows x 6 columns], token_table=      Topic      Freq         Term\n",
              "term                              \n",
              "1184      3  0.995955  abstractive\n",
              "176       1  0.318508     accuracy\n",
              "176       2  0.126355     accuracy\n",
              "176       3  0.044041     accuracy\n",
              "176       5  0.001049     accuracy\n",
              "...     ...       ...          ...\n",
              "123      10  0.034770         work\n",
              "5977      4  0.996109     workflow\n",
              "4552      7  0.996618          wsd\n",
              "3479      5  0.189801         year\n",
              "3479      9  0.807132         year\n",
              "\n",
              "[1605 rows x 3 columns], R=30, lambda_step=0.01, plot_opts={'xlab': 'PC1', 'ylab': 'PC2'}, topic_order=[3, 10, 2, 8, 1, 9, 7, 6, 4, 5])"
            ],
            "text/html": [
              "\n",
              "<link rel=\"stylesheet\" type=\"text/css\" href=\"https://cdn.rawgit.com/bmabey/pyLDAvis/files/ldavis.v1.0.0.css\">\n",
              "\n",
              "\n",
              "<div id=\"ldavis_el571399794943909921141394971\"></div>\n",
              "<script type=\"text/javascript\">\n",
              "\n",
              "var ldavis_el571399794943909921141394971_data = {\"mdsDat\": {\"x\": [0.09785539867456211, 0.09907787320348689, 0.07974255594819155, 0.033134915969182, 0.04008126557601776, 0.06561103901492088, -0.009030402193607614, -0.5205773277924655, 0.05540087576378503, 0.05870380583592678], \"y\": [-0.07941586160558615, -0.03867473729151465, 0.06383323654209956, -0.006194014732583069, 0.025009236570256103, -0.0981386820134236, 0.30639757746891805, -0.04232682220269095, -0.1657432344602532, 0.03525330172477838], \"topics\": [1, 2, 3, 4, 5, 6, 7, 8, 9, 10], \"cluster\": [1, 1, 1, 1, 1, 1, 1, 1, 1, 1], \"Freq\": [26.170669373874382, 11.460141537599752, 11.03603506161215, 9.27291129974322, 9.22510712590963, 7.689998725536007, 6.833015350242999, 6.402449784592397, 6.233653002133059, 5.676018738756391]}, \"tinfo\": {\"Term\": [\"de\", \"translation\", \"task\", \"system\", \"model\", \"word\", \"des\", \"la\", \"semantic\", \"corpus\", \"language\", \"les\", \"models\", \"words\", \"machine\", \"et\", \"languages\", \"annotation\", \"information\", \"knowledge\", \"un\", \"le\", \"question\", \"une\", \"dialogue\", \"neural\", \"mt\", \"nous\", \"features\", \"paper\", \"latent\", \"generalization\", \"discriminative\", \"nli\", \"pretraining\", \"encoders\", \"rnns\", \"variational\", \"ter\", \"kg\", \"unlabeled\", \"keyphrase\", \"keyphrases\", \"normal\", \"probing\", \"cnns\", \"lms\", \"schemas\", \"email\", \"completed\", \"cl\", \"gated\", \"masked\", \"rl\", \"math\", \"trec\", \"ace\", \"meanwhile\", \"convolution\", \"discriminator\", \"regularization\", \"downstream\", \"supervision\", \"alleviate\", \"outperforms\", \"ner\", \"sequence\", \"jointly\", \"pretrained\", \"model\", \"models\", \"learn\", \"inference\", \"learns\", \"auxiliary\", \"entity\", \"encoder\", \"datasets\", \"attention\", \"tasks\", \"neural\", \"baselines\", \"effectiveness\", \"learned\", \"propose\", \"learning\", \"networks\", \"outperform\", \"modeling\", \"performance\", \"benchmark\", \"demonstrate\", \"network\", \"mechanism\", \"proposed\", \"training\", \"show\", \"representations\", \"novel\", \"methods\", \"experiments\", \"experimental\", \"problem\", \"method\", \"relation\", \"knowledge\", \"approach\", \"however\", \"results\", \"data\", \"language\", \"text\", \"task\", \"two\", \"information\", \"paper\", \"translation\", \"mt\", \"parallel\", \"translations\", \"bilingual\", \"nmt\", \"smt\", \"monolingual\", \"translated\", \"portuguese\", \"translate\", \"translating\", \"hindi\", \"reordering\", \"synsets\", \"preprocessing\", \"collocations\", \"foreign\", \"discusses\", \"transliteration\", \"patent\", \"compound\", \"romanian\", \"orthographic\", \"multiword\", \"graphical\", \"pivot\", \"taggers\", \"persian\", \"basque\", \"russian\", \"translators\", \"alignments\", \"bleu\", \"multilingual\", \"languages\", \"machine\", \"alignment\", \"adaptation\", \"constructions\", \"nouns\", \"verbs\", \"statistical\", \"english\", \"source\", \"pairs\", \"target\", \"quality\", \"corpora\", \"language\", \"data\", \"systems\", \"dictionaries\", \"german\", \"system\", \"using\", \"domain\", \"training\", \"approach\", \"results\", \"method\", \"paper\", \"sentences\", \"corpus\", \"different\", \"two\", \"show\", \"emotion\", \"summaries\", \"emotions\", \"emotional\", \"judgments\", \"coherence\", \"summary\", \"legal\", \"story\", \"claim\", \"claims\", \"prosodic\", \"abstractive\", \"parsed\", \"metaphor\", \"anaphora\", \"fragments\", \"iso\", \"rouge\", \"verification\", \"danish\", \"literary\", \"ratings\", \"oov\", \"intensity\", \"fake\", \"propositions\", \"gestures\", \"planning\", \"humanities\", \"negation\", \"metrics\", \"style\", \"cognitive\", \"recorded\", \"opinions\", \"summarization\", \"human\", \"metric\", \"measures\", \"annotators\", \"agreement\", \"evaluation\", \"correlation\", \"theory\", \"phenomena\", \"differences\", \"measure\", \"study\", \"automatic\", \"evidence\", \"whether\", \"quality\", \"reference\", \"properties\", \"evaluating\", \"analysis\", \"results\", \"text\", \"different\", \"linguistic\", \"content\", \"find\", \"two\", \"systems\", \"used\", \"sentences\", \"paper\", \"work\", \"show\", \"based\", \"also\", \"using\", \"context\", \"use\", \"features\", \"task\", \"project\", \"database\", \"software\", \"infrastructure\", \"recordings\", \"synthesis\", \"documentation\", \"interfaces\", \"workflow\", \"ldc\", \"files\", \"swedish\", \"wordnets\", \"adjectives\", \"predicate\", \"repository\", \"recording\", \"translator\", \"functionality\", \"interoperability\", \"broadcast\", \"initiative\", \"hlt\", \"catalan\", \"file\", \"page\", \"plan\", \"pronoun\", \"lrs\", \"usages\", \"annotation\", \"tools\", \"format\", \"tool\", \"resolution\", \"linguists\", \"dutch\", \"interface\", \"technology\", \"creation\", \"resources\", \"development\", \"guidelines\", \"coreference\", \"technologies\", \"material\", \"corpus\", \"resource\", \"web\", \"annotated\", \"processing\", \"developed\", \"service\", \"annotations\", \"conceptual\", \"research\", \"language\", \"describe\", \"spoken\", \"available\", \"corpora\", \"linguistic\", \"speech\", \"nlp\", \"paper\", \"data\", \"arabic\", \"present\", \"describes\", \"process\", \"natural\", \"new\", \"also\", \"used\", \"system\", \"platform\", \"scientific\", \"clinical\", \"gender\", \"reviews\", \"health\", \"tutorial\", \"comments\", \"section\", \"posts\", \"activities\", \"author\", \"political\", \"stance\", \"business\", \"platforms\", \"tm\", \"syntactically\", \"argumentation\", \"government\", \"motivation\", \"consortium\", \"mobile\", \"compilation\", \"valency\", \"acl\", \"meeting\", \"multimedia\", \"audience\", \"companies\", \"medical\", \"events\", \"social\", \"topics\", \"internet\", \"opinion\", \"review\", \"articles\", \"event\", \"media\", \"mining\", \"news\", \"papers\", \"online\", \"topic\", \"temporal\", \"argument\", \"arguments\", \"sentiment\", \"documents\", \"users\", \"twitter\", \"content\", \"people\", \"detection\", \"information\", \"user\", \"analysis\", \"text\", \"extraction\", \"texts\", \"research\", \"document\", \"dataset\", \"automatically\", \"data\", \"paper\", \"present\", \"domain\", \"work\", \"different\", \"answer\", \"answering\", \"multimodal\", \"dialog\", \"visual\", \"qa\", \"answers\", \"comprehension\", \"conversational\", \"objects\", \"agents\", \"commonsense\", \"exploitation\", \"lr\", \"intent\", \"tracking\", \"nlg\", \"passage\", \"instructions\", \"slot\", \"specifications\", \"specification\", \"kb\", \"captions\", \"grounding\", \"rhetorical\", \"inflected\", \"realization\", \"robot\", \"monitoring\", \"image\", \"question\", \"conversation\", \"questions\", \"dialogue\", \"response\", \"images\", \"dialogues\", \"responses\", \"query\", \"reasoning\", \"agent\", \"utterances\", \"reading\", \"retrieval\", \"object\", \"user\", \"video\", \"conversations\", \"knowledge\", \"generation\", \"system\", \"systems\", \"dataset\", \"information\", \"task\", \"natural\", \"new\", \"users\", \"human\", \"syntactic\", \"parsing\", \"lexicon\", \"wordnet\", \"treebank\", \"grammars\", \"trees\", \"lexicons\", \"parsers\", \"senses\", \"parse\", \"tree\", \"noun\", \"syntax\", \"spontaneous\", \"korean\", \"wsd\", \"sent\", \"compounds\", \"thesaurus\", \"dependency\", \"mwes\", \"penn\", \"amr\", \"ie\", \"lemmas\", \"clause\", \"mwe\", \"constituency\", \"statistique\", \"meanings\", \"sense\", \"word\", \"tag\", \"lexical\", \"semantic\", \"pos\", \"words\", \"structures\", \"disambiguation\", \"meaning\", \"morphological\", \"similarity\", \"structure\", \"relations\", \"embeddings\", \"semantics\", \"concepts\", \"discourse\", \"information\", \"representation\", \"vector\", \"sentence\", \"linguistic\", \"representations\", \"features\", \"based\", \"paper\", \"chinese\", \"two\", \"sentences\", \"using\", \"de\", \"des\", \"la\", \"les\", \"un\", \"le\", \"une\", \"nous\", \"en\", \"dans\", \"pour\", \"sur\", \"pr\", \"du\", \"es\", \"est\", \"que\", \"syst\", \"qui\", \"cet\", \"sont\", \"ce\", \"cette\", \"ces\", \"mod\", \"au\", \"plus\", \"automatique\", \"sentons\", \"sultats\", \"par\", \"et\", \"analyse\", \"article\", \"corpus\", \"subtask\", \"campaign\", \"participated\", \"ranked\", \"submitted\", \"submission\", \"czech\", \"team\", \"semeval\", \"subtasks\", \"teams\", \"submissions\", \"nan\", \"sarcasm\", \"terminological\", \"competition\", \"participating\", \"chunks\", \"moses\", \"systran\", \"kernel\", \"diagnosis\", \"recursive\", \"organizations\", \"edition\", \"lectures\", \"facial\", \"voting\", \"ape\", \"stock\", \"cnn\", \"tracks\", \"shared\", \"crf\", \"participation\", \"track\", \"task\", \"system\", \"identification\", \"describes\", \"score\", \"ensemble\", \"year\", \"features\", \"best\", \"achieved\", \"arabic\", \"classification\", \"paper\", \"classifier\", \"feature\", \"detection\", \"results\", \"systems\", \"model\", \"based\", \"using\", \"two\", \"evaluation\", \"network\", \"used\", \"second\", \"approach\", \"models\", \"test\", \"neural\", \"english\", \"first\", \"learning\", \"language\", \"ontology\", \"frames\", \"frame\", \"databases\", \"sign\", \"framenet\", \"spelling\", \"learner\", \"entry\", \"punctuation\", \"referring\", \"pilot\", \"presentation\", \"stochastic\", \"treatment\", \"msa\", \"ud\", \"adequacy\", \"strings\", \"finite\", \"synonyms\", \"greek\", \"ted\", \"da\", \"gec\", \"wer\", \"lemma\", \"captioning\", \"teacher\", \"thematic\", \"asr\", \"children\", \"errors\", \"error\", \"correction\", \"grammar\", \"parser\", \"rate\", \"rule\", \"grammatical\", \"speech\", \"algorithm\", \"spatial\", \"rules\", \"recognition\", \"noise\", \"input\", \"time\", \"accuracy\", \"search\", \"output\", \"examples\", \"algorithms\", \"set\", \"correct\", \"using\", \"method\", \"data\", \"used\", \"show\", \"training\", \"number\", \"automatic\"], \"Freq\": [12795.0, 13660.0, 15172.0, 14868.0, 25202.0, 8396.0, 5388.0, 5352.0, 6853.0, 11231.0, 20925.0, 4461.0, 18710.0, 5827.0, 7450.0, 5637.0, 6539.0, 4959.0, 12804.0, 7854.0, 3536.0, 3484.0, 3824.0, 3360.0, 3628.0, 9148.0, 3999.0, 3143.0, 6732.0, 18266.0, 1352.3661570366362, 757.0638838059488, 565.7627024161384, 448.12229280270174, 338.90522289527263, 328.62691539800335, 318.2520269006365, 308.9399809926742, 285.51803803529026, 281.86824223794645, 595.0620675069238, 244.41672605130745, 223.78257530369197, 216.37195188230154, 211.96177950622675, 210.50112686539381, 208.31577312401183, 202.1929814524483, 192.7243129305851, 193.29761413445755, 193.27523106063944, 191.77407290990587, 189.33396444677848, 183.46368918957856, 176.63013675291413, 160.2306574117918, 153.78565746576174, 151.16612117799693, 150.22231138247156, 149.74522794460404, 281.2957656736358, 924.129183356683, 1006.8821560607198, 352.5871712807125, 2871.582814652454, 1146.5519869259258, 1969.4232072764898, 1014.5269574833633, 620.3891830974579, 20448.892250054087, 15360.326447287169, 2353.7338305424873, 1832.7091202117892, 981.835260846968, 425.49814935273065, 3288.926770944702, 931.8586477743297, 4683.344519254551, 3268.833524846749, 7149.861239706443, 7199.041172425359, 1589.5651664211698, 1588.858646659529, 1314.797542032233, 7573.141658397856, 7875.535886160907, 2431.5139910780536, 1003.5843046477527, 2006.5395271155653, 7447.538843324863, 1588.8456095007439, 2822.399112152684, 3713.0092105127137, 1527.509075974265, 4719.469386729136, 5645.715537646404, 7330.936380039777, 3108.225467212681, 3407.374227809208, 5252.31597274244, 4182.935326744228, 2399.8976244301402, 3441.311365795103, 5365.501443832166, 2296.1386474389783, 4127.0134551170995, 4916.121575697843, 3323.02035483602, 5266.459248059836, 5760.027230766135, 6054.557067371821, 4552.118133593239, 5003.174611762189, 3738.8683364262083, 3641.7908247753994, 3197.6685443381934, 13659.481204110805, 3998.6579308402993, 2394.7348800870514, 1633.921166951665, 1364.5593676474596, 1089.0382726520356, 1006.5448287629026, 919.8224104024509, 684.0414183378863, 508.91632035984503, 461.7624261715924, 449.3916286244643, 388.0687130859035, 382.76431913506906, 330.3944857098072, 312.23148641211804, 309.5481995994932, 299.10576296173286, 298.3057499162421, 285.5078626087569, 271.68039957507204, 261.38256163259865, 258.6658119752802, 254.4486681499786, 252.2838662773339, 234.86016198576598, 231.35700108673515, 218.08994612528275, 207.96184700088259, 206.85869084691112, 445.97047404935114, 415.1555961873902, 416.9283015622428, 1159.0668240885095, 2027.7215529015307, 5567.742480386337, 6257.8961469626765, 1680.999434423082, 827.4384088774055, 426.80400210780806, 474.54705558942766, 838.5892742282631, 1880.4397771503982, 3264.4529913850943, 2114.6591927235368, 1649.0555896518129, 1877.1852489704963, 2068.37123991919, 2006.8543568122097, 5522.981919009053, 4321.339076086874, 2743.3166110406, 657.1140426091528, 880.3516610169568, 3274.318924769413, 2945.1160671231087, 1535.762984776387, 2057.6328651739386, 2139.0462811342354, 2302.2874607967283, 1911.586704103332, 2279.9887565393437, 1400.6168380913807, 1670.2788056468564, 1561.2991590729052, 1483.9431044338542, 1477.7635178090602, 1171.8566430237165, 787.6838507339793, 531.9537710034784, 503.7556600016334, 445.04745559321555, 444.3640846104031, 580.8377144058131, 416.77664907391033, 399.99405262138725, 380.9038123121032, 339.1881105929568, 294.8655045633956, 317.27321060774506, 273.9458376749662, 267.0285031627474, 257.754161391137, 254.35505809318352, 252.08993863023525, 231.64367025049637, 230.64086953378717, 226.4921578794812, 225.33020531349868, 271.66112850879347, 223.39180169553657, 214.89525228271992, 208.38193263040856, 208.33708992852198, 190.99490358498934, 187.1931598526294, 180.52959727778588, 265.006772928872, 1743.117029352004, 755.6390042637973, 452.3316457987857, 511.9303454570757, 383.1253475832621, 1229.776059669333, 3518.3114939619713, 757.0011096132744, 915.382883181795, 778.2535696257123, 849.4700727721154, 4405.105664350156, 580.3246397103721, 491.98600733467975, 646.7569498407262, 776.4611862977192, 778.9788688659755, 1856.7339961852101, 2004.0492268069045, 685.4450074527316, 862.8697609645155, 1660.0085993470923, 696.4417362078467, 773.0043240100388, 611.0736844419906, 1674.8371601614979, 2275.5415162505446, 2011.6564566832294, 1844.605403191043, 1245.2941515422904, 916.7343905515057, 911.6529904403827, 1484.0079493664189, 1316.7777900161802, 1297.9561753752878, 1088.7700713520733, 1534.6921252255113, 1163.0028257773683, 1212.1059155300604, 1156.4013441808754, 1089.826226273169, 1087.7828695368325, 938.0976656898761, 998.4855505352087, 949.7887608318113, 910.5596101153575, 1920.8505671278497, 1402.6371885582694, 721.7447945208407, 313.8067559855823, 307.9414439890793, 272.09823862015764, 254.9679422791685, 240.7515043757678, 237.97795282324705, 221.34421262211262, 213.1617082086833, 212.94598845996364, 200.48731031502874, 239.93376178858045, 189.14058232221132, 177.50770286189078, 171.30783324426002, 165.58207678695067, 164.21386203654117, 157.4209439894936, 150.04071000377172, 141.26137260393048, 131.78178084949923, 128.6539279759389, 128.45522481988462, 126.1290301662825, 125.64345202447602, 122.93672851330591, 122.22972595966216, 119.27038326907034, 4713.8327031243625, 2030.6236463591995, 581.5665843910027, 1588.3304846999604, 569.0385876322829, 197.73787139953913, 473.49416263169314, 706.6985090133935, 884.0658354211541, 629.7113253066885, 3105.548030357332, 1889.2063277449715, 428.5292287653752, 565.1864651637887, 495.8591135046298, 344.4073202941918, 6811.4710585424755, 1587.374327506203, 1409.4306909854413, 1992.5641376276578, 2174.180575401647, 1514.7130594106266, 398.14538599998406, 1202.9662990182421, 356.74992941540256, 2240.1658849578985, 6354.451517752374, 1623.3770408214173, 953.8952530899106, 1911.275192688293, 1891.5367243699432, 1943.1353744408907, 1946.1033576090338, 1474.9340260773195, 3780.8062764788324, 3169.060911090797, 1087.1306934122708, 1921.2149977043762, 1211.4745396956857, 1229.3714871044285, 1433.7040603783978, 1535.8613865201442, 1537.420624002118, 1447.7276250131742, 1394.055816882421, 878.3491745400561, 900.020118686431, 665.7860460773215, 627.2011281325971, 576.9962242013851, 564.4367483369333, 434.9257598000681, 413.14983729392054, 403.8226816699647, 381.70137150123225, 371.0071717302386, 347.69760176241437, 334.86341591272446, 293.12507760233314, 289.60871781245265, 288.3452678168571, 281.79256400188933, 274.32088427641287, 262.474774017082, 253.98298812048267, 231.18078587405898, 228.375355482638, 225.17211745916237, 212.61244780554432, 211.26529473221345, 209.56219248673722, 208.2045471142624, 203.85565522410258, 178.5248642523247, 178.21510611216257, 883.4608897989796, 1305.0315031021532, 1989.7314825418239, 869.8279880585204, 573.3867071908732, 724.0088383411597, 533.1948341112974, 1106.984954977963, 1536.6335866236327, 1459.8023834601167, 796.0958058732892, 1798.4761926962512, 431.56310250318785, 1342.605450650735, 1312.843974918558, 1033.6409601768908, 670.2335628110176, 662.9165822085394, 1924.940566382218, 2001.5196221562805, 1737.3480025153754, 725.0474929039091, 1309.1957554431299, 753.3505667392463, 1416.25895443447, 3292.4316466056957, 1501.092875007312, 2048.2234756417456, 2407.6718157095306, 1507.9633100024244, 1275.3510866098006, 1466.0954374764804, 1070.5102903169993, 1245.6119796842415, 1008.3263367584111, 1492.8658051118057, 1440.1702120793238, 1132.9905751949454, 1042.127818291834, 1059.4784821342373, 1067.240900977417, 1668.351474427865, 1661.759839219708, 1257.4292789426222, 1123.1026496111729, 1105.4264922795078, 1090.66962219098, 1000.9568097644809, 794.9200239620388, 883.0710523295137, 547.1495231243545, 533.6717854730807, 424.4710114346103, 373.04371656839425, 366.87298950274794, 356.81241026444127, 334.6145423829055, 322.9900790449491, 322.62206423335766, 307.98346566357367, 300.33158686797435, 295.3088204712816, 281.87301440040926, 270.4666322043315, 251.581105323444, 234.5930920732264, 234.25097007022626, 233.01233841646408, 227.89576251270924, 227.63916524111679, 210.70462225605607, 1043.3949845814152, 3741.4999489253714, 911.6814519544317, 2649.7400594892156, 3490.289673852599, 844.5490148091128, 759.1356547867241, 785.4140862225588, 795.526312613831, 1361.471753193262, 1122.781135699146, 512.634224653187, 957.4388909828675, 969.9043628979122, 1419.7365726397743, 494.4324109988009, 2098.14717348448, 653.190497574644, 650.4339519412979, 2897.028658696772, 1690.9396037052009, 3011.571059146468, 2093.9208763417196, 1669.4724807292298, 2133.8670644893814, 1495.6797648454249, 1090.9044575031237, 1120.7497733253126, 906.8398198310306, 955.2777414829044, 2842.1545814953483, 2806.4863246473687, 1869.6511840490873, 1362.9097179561754, 1196.7951013956317, 811.2559895537004, 719.6088453893898, 709.6945529504765, 689.7079109256462, 520.1573764159652, 499.8152083383649, 926.45561715895, 473.3331311664795, 512.6606939448444, 361.77435445369304, 286.56375919713093, 274.9908919945627, 263.18518373021084, 254.41048988298596, 237.91722249202368, 1993.8481757868906, 227.15018426752417, 211.75819050616545, 194.1331576618328, 188.3291507633273, 174.85717813618632, 163.8965670694819, 162.61733561031528, 162.11077557775073, 156.4657690837428, 309.29657238155977, 1145.0255211509595, 6955.352408909656, 394.66660449743347, 3014.3671526973003, 5343.157370157433, 706.0986913393479, 4338.578952757817, 1146.5609803060765, 641.4350682328633, 963.4690412154722, 1243.3755350885692, 1299.7196681109758, 1945.7280997969071, 2142.25473233805, 1827.5026661963443, 791.529850641939, 820.0706898220208, 978.3831725282353, 2723.9583478658974, 1310.776778520415, 757.6464830393921, 1260.4942642203084, 1163.0268932297188, 1074.3181191921663, 1193.5032147646775, 1257.076227152358, 1390.4488176778466, 852.3903005446367, 956.370741496296, 886.1100334776079, 917.6009719863271, 12794.23901619096, 5387.343417231397, 5351.293379960854, 4460.498274745389, 3535.8363993458433, 3483.10874693763, 3359.2441537227546, 3142.199676422172, 2697.7182229298523, 2514.7149742858323, 2317.295614914389, 1941.3872543688174, 1858.6876363881752, 1789.003542702131, 1782.5289046084179, 1532.6475000890684, 1290.923220394524, 1096.189676105826, 1040.8818059457878, 1013.982307691813, 854.2401374761076, 826.9466858609243, 818.6981048324832, 794.1239766233946, 768.4670530756273, 691.7031732728196, 679.9561234664673, 645.135595730183, 581.0288318138586, 578.3686475243168, 1346.39025509047, 4169.651561560752, 764.935075974367, 1017.8733464597854, 1046.3034680344447, 728.3683949493713, 719.900438487484, 617.0016277237318, 601.2655776727844, 588.9549546664798, 549.6417301130299, 535.7428882432544, 516.2983003787624, 486.19236781042827, 474.6504128029461, 408.3965066603966, 348.954244869349, 334.1145937759965, 311.9933988066248, 301.3289674583483, 272.84797546878536, 267.3788343768477, 212.89834416048146, 208.94235099798516, 193.65300387095803, 177.18586805554298, 169.60175819721772, 162.25745255103422, 158.29792377764042, 150.50215429233353, 137.34523885641772, 137.16265916139443, 129.83827640201417, 129.58274901019342, 124.2557245107856, 452.61034981485676, 283.76607286875407, 2315.805233669251, 278.3776334985715, 390.3733466183072, 492.6350739708185, 7146.784646576842, 6797.778471253252, 1182.0304487042085, 1712.1401921479155, 1252.8246778610726, 611.4712962442509, 421.38794989422956, 2676.903273089964, 1520.7200481537998, 990.2518049892498, 1061.601181177826, 1799.7697657408037, 3472.015695904181, 768.2309299705122, 947.9429265380285, 1070.2507445740664, 2343.9974841021863, 1773.6689507488113, 2708.2010245486604, 1708.4366677932098, 1624.227171061278, 1462.3333065176696, 1319.1055219914124, 1108.8287117163284, 1285.4813759760466, 797.1639002399376, 1271.2415066636202, 1418.9535682240391, 896.7944222211573, 1136.093547091838, 1005.4264224780005, 969.9707177761245, 1038.6503148914485, 1096.0954990265632, 1247.8792785702187, 622.6271060244025, 541.9517899319264, 482.28249079728073, 467.471863848247, 452.8278245145802, 357.6990739366946, 332.4806387318833, 291.87420911275416, 275.65073863032467, 257.47321926653893, 250.0753834978652, 238.1479316730732, 237.77954820093203, 232.86609928952964, 220.71874499905388, 200.80576764021086, 191.81720751326645, 188.06011171478994, 182.08815010586736, 175.13313419779632, 175.14633515913675, 168.6603706993642, 162.7686198348959, 157.44890495067995, 156.48141926916395, 144.59469453929447, 143.38589528447545, 141.05730532126893, 140.69908233098525, 800.19465079486, 224.23393105177976, 1525.2003050303254, 1509.9425146785704, 520.3114795568124, 1626.9517479604733, 1661.6642464273257, 589.1986608087587, 320.85364078719937, 755.5438554249881, 2286.9346788835383, 1234.259838238551, 300.9107185379867, 849.3785370545448, 1057.7594762163521, 381.57387271253106, 982.1376925269736, 880.1574556449231, 922.5393208800978, 682.7504500951648, 673.7063437295994, 567.5046267793639, 528.8240045010717, 820.7505405212296, 458.89982386021546, 954.5740852481624, 801.4592177237804, 846.7959180114023, 631.2799869963329, 553.374658430541, 536.7964312747733, 511.5907711938399, 515.8552097452514], \"Total\": [12795.0, 13660.0, 15172.0, 14868.0, 25202.0, 8396.0, 5388.0, 5352.0, 6853.0, 11231.0, 20925.0, 4461.0, 18710.0, 5827.0, 7450.0, 5637.0, 6539.0, 4959.0, 12804.0, 7854.0, 3536.0, 3484.0, 3824.0, 3360.0, 3628.0, 9148.0, 3999.0, 3143.0, 6732.0, 18266.0, 1353.2154210307044, 757.9140551344738, 566.6117927996929, 448.98312554822326, 339.7574373987632, 329.47575134533434, 319.1009220777105, 309.788870322138, 286.3717458852926, 282.71705657367136, 597.0395665079784, 245.2656431105581, 224.63152750080607, 217.22232556902267, 212.81065351529637, 211.3501217924941, 209.16481089568094, 203.04226226900718, 193.5736644330184, 194.15015455653474, 194.12947267063277, 192.6230842973849, 190.18277893925466, 184.3125792437082, 177.47998872596511, 161.08147287849408, 154.6348423412202, 152.01513264895402, 151.07128605495183, 150.5940684508633, 283.0587426782331, 947.3349355388563, 1034.6492458495522, 359.1976100131926, 3089.2766458662068, 1204.8505331950666, 2141.6976201000566, 1075.816778941358, 653.0337633927485, 25202.481296079084, 18710.32504859973, 2629.295050077399, 2027.535903310241, 1061.6993382329451, 443.2633139648692, 3831.906925190609, 1014.2780403557392, 5659.925247289781, 3862.987043605505, 8903.811201240425, 9148.755243207142, 1804.4195648199016, 1803.818765400731, 1476.9542787012456, 9795.341627833035, 10545.319036499095, 2930.97143595779, 1113.5081445927462, 2410.5319047617368, 10654.912076760675, 1869.9514566082821, 3622.8451317756553, 4975.80414168114, 1792.344761994305, 6837.50055134868, 8500.365231083384, 11726.592622103535, 4201.72173792872, 4769.298305649808, 8240.486692530701, 6532.354014092082, 3197.797294066308, 5204.560561768627, 9555.755395667053, 3040.1144990857197, 7854.492350776773, 10930.579233132346, 5765.344874597024, 13950.690797155352, 16800.071354584707, 20925.77647566225, 11738.460189958008, 15172.488251647132, 10293.299405437332, 12804.078268913598, 18266.47024918045, 13660.418505436026, 3999.5952862110116, 2395.6721898936726, 1634.8584506786324, 1365.4966502767713, 1089.9754956039856, 1007.4821247460342, 920.759682049123, 684.978749002072, 509.8537661993812, 462.6997430323336, 450.3289382938541, 389.00604690390196, 383.7016028534207, 331.33202042639266, 313.16896399122254, 310.4865538067493, 300.043306746853, 299.24348437875625, 286.4451803521926, 272.621669508226, 262.31994035868604, 259.60320902964884, 255.38624288234305, 253.22135082981936, 235.79799980816858, 232.29474544245028, 219.0273845192878, 208.89922671294676, 207.7961258349184, 448.15776386965405, 417.13240828303657, 422.50613954175867, 1207.370067237148, 2183.8607160535607, 6539.868758606718, 7450.895756801231, 1873.8756775364914, 886.7841646648793, 441.0602850453006, 495.24459293802636, 935.5802054988916, 2455.930500355321, 5522.4893788481695, 3298.9790652069173, 2704.362788467346, 3363.883021015915, 4034.989546896576, 4234.620897558592, 20925.77647566225, 16800.071354584707, 8611.161626072651, 865.0877426039092, 1462.2759300763496, 14868.528227201534, 12392.076298909567, 4412.82075406906, 8500.365231083384, 10930.579233132346, 13950.690797155352, 9555.755395667053, 18266.47024918045, 4799.004699954229, 11231.961053099696, 9758.506022458647, 10293.299405437332, 11726.592622103535, 1172.767868856435, 788.6805010035024, 532.8649861172204, 504.6668830212229, 445.9586901258093, 445.2753174859788, 582.0886008658993, 417.68799520705846, 400.9052485680468, 381.81505041752234, 340.09932261905294, 295.77685925782976, 318.2873450707897, 274.85773027349813, 267.9397434942624, 258.6655237404287, 255.26694046685253, 253.00175551720744, 232.5548746353286, 231.55213804096792, 227.40363350139341, 226.2415099045832, 272.7641428656357, 224.30333538793087, 215.80652039057665, 209.2931357960505, 209.24957951748434, 191.90624403708387, 188.10458863275164, 181.44096843440036, 268.14247230652245, 1837.6937541896266, 787.8389066450197, 465.9840329971702, 532.057947348289, 399.6823794944913, 1450.5357961451816, 4785.936871760408, 885.3495417952965, 1106.9089656294632, 939.2910747623916, 1087.2479014579367, 8007.760987126038, 707.3920648701198, 599.6693392541544, 859.5389647423491, 1131.4734908386106, 1140.5885099046307, 3927.154629368535, 4492.311472804, 975.8560541420952, 1432.3724422841167, 4034.989546896576, 1081.964821660772, 1346.099730321856, 877.352267197139, 6603.130518438731, 13950.690797155352, 11738.460189958008, 9758.506022458647, 4427.918910805456, 2282.4199130457127, 2410.803958009093, 10293.299405437332, 8611.161626072651, 8544.035339966904, 4799.004699954229, 18266.47024918045, 7621.442277517635, 11726.592622103535, 9827.531833058849, 8538.547553602171, 12392.076298909567, 4428.730556721981, 7791.889963299323, 6732.239896100377, 15172.488251647132, 1921.8022527910612, 1403.589221357645, 722.6964450269511, 314.7583289162905, 308.89317629148405, 273.04991202334554, 255.91956572545323, 241.70332767031232, 238.9295724031102, 222.29591050336487, 214.11334905045612, 213.89765304830655, 201.43896890883445, 241.079446221827, 190.09227885670208, 178.45932200158768, 172.25951327734845, 166.53397142199964, 165.16545398954582, 158.37250905084403, 150.99246509409255, 142.2130270353121, 132.73353001530697, 129.6058714639331, 129.40690673525836, 127.0807688397856, 126.59541364293052, 123.88834152057842, 123.18134216871258, 120.2229809755941, 4959.569967978908, 2118.915276200265, 602.7787098437997, 1694.9724405381608, 603.5994544090146, 202.05622397540884, 503.39941335167106, 766.2105487349723, 988.7552057494727, 693.8238959576132, 3934.51809256369, 2309.3135201575033, 468.1156380768103, 641.0157126841618, 570.2460631789357, 377.4197595406788, 11231.961053099696, 2149.058034865871, 1960.7926569504782, 3210.603916437883, 3684.682773077845, 2408.28940165482, 456.928456087832, 1916.5834806037428, 402.81560424482996, 4825.279983932676, 20925.77647566225, 3198.4077058138882, 1581.4454655291156, 4288.535152501626, 4234.620897558592, 4427.918910805456, 4844.107031610368, 3469.8803832596127, 18266.47024918045, 16800.071354584707, 2149.653176890075, 7894.862247905749, 2948.4525920913234, 3324.6216494978453, 5264.295818726319, 7879.959491097717, 8538.547553602171, 8544.035339966904, 14868.528227201534, 879.2642813872668, 901.0950934795744, 666.7009357184801, 628.1160357750106, 577.9111054108688, 565.3516163045995, 435.84079703887056, 414.0647245593924, 404.737847175557, 382.61622818933404, 371.92222810600185, 348.6125898628538, 335.77828605523405, 294.03995155872434, 290.52371145990423, 289.2601753691988, 282.707842146135, 275.2364245572198, 263.38968389893586, 254.8980755944725, 232.09623738766427, 229.29098009947808, 226.08726468675013, 213.52810805671024, 212.18072827240664, 210.47715080454032, 209.11958478616506, 204.77076814332688, 179.43983943402407, 179.13008973521343, 890.9040360665496, 1330.998562340135, 2087.3907222387675, 921.8157557662427, 598.9218560010208, 768.091600304827, 561.5120227165237, 1213.7901775101343, 1733.7238730895333, 1645.1433338498152, 872.2675079115363, 2148.9589829550855, 452.42233909828735, 1637.9401140444033, 1632.7595355121475, 1334.2663080972486, 794.3876358956975, 784.2520036666939, 3102.941216779603, 3271.3132901681242, 2784.8201005926076, 948.2566409128029, 2282.4199130457127, 1016.8549484081213, 2988.407152810763, 12804.078268913598, 3600.0537576863785, 6603.130518438731, 11738.460189958008, 4444.18699880061, 3368.02117414515, 4825.279983932676, 3162.0504664660657, 5728.583846882828, 3074.9796295929755, 16800.071354584707, 18266.47024918045, 7894.862247905749, 4412.82075406906, 7621.442277517635, 9758.506022458647, 1669.2428136737958, 1662.651170528732, 1258.3909005038831, 1123.9939845097415, 1106.3181799418173, 1091.5609330130185, 1001.848139615323, 795.8113848593192, 884.0874235451065, 548.0410165584535, 534.5631846985635, 425.36231911966803, 373.93759891596665, 367.7649822116227, 357.7037623300805, 335.5059691372816, 323.8814248320687, 323.5135595933514, 308.87488758857967, 301.22292266318726, 296.20095484939077, 282.76480153954213, 271.3579590628448, 252.47764342302494, 235.48444814668957, 235.1425238787517, 233.90427767547888, 228.78740216972602, 228.53061729643352, 211.5963945888678, 1047.9793523164342, 3824.041557360369, 923.9635530036402, 2727.5157072469283, 3628.646039340068, 862.0646580544477, 773.6799435307539, 812.2744654553113, 825.1635061412057, 1452.5190618742242, 1209.0796921372032, 532.804149361514, 1075.8736680709565, 1139.9451827947232, 1807.0466372008982, 530.1918624048664, 3600.0537576863785, 778.4423415394276, 796.6675344232331, 7854.492350776773, 3992.557167194072, 14868.528227201534, 8611.161626072651, 5728.583846882828, 12804.078268913598, 15172.488251647132, 5264.295818726319, 7879.959491097717, 2784.8201005926076, 4785.936871760408, 2843.0969216410963, 2807.4286667499046, 1870.5935873842004, 1363.8520727942343, 1197.7374551776188, 812.1985251706249, 720.5511485314895, 710.6370446795524, 690.6502352086122, 521.0996556550697, 500.7575601035031, 928.2626181069907, 474.2754974064303, 513.6849395257898, 362.71766912766446, 287.5061728078687, 275.9331351965484, 264.1293197737779, 255.35283170335654, 238.85975822688238, 2001.7947247186187, 228.09244880665094, 212.70050190669738, 195.07538389388773, 189.27162557479122, 175.79948526504228, 164.83897278415583, 163.55961081941632, 163.05303212349662, 157.41325165722637, 312.27836309287517, 1205.635241478001, 8396.716252059881, 413.45860014598725, 3565.861841741474, 6853.190353643694, 782.3392164654098, 5827.957608855365, 1494.099376097858, 763.0861526945818, 1238.53847604383, 1692.1682602521073, 1874.9286548165348, 3308.3576928619777, 3879.8184784523996, 3153.41457873533, 1128.152294185141, 1232.122404650935, 1697.0492047834687, 12804.078268913598, 3724.9260332216586, 1215.507907838653, 5348.623734993604, 4427.918910805456, 4201.72173792872, 6732.239896100377, 9827.531833058849, 18266.47024918045, 1824.9683051511975, 10293.299405437332, 4799.004699954229, 12392.076298909567, 12795.211538846732, 5388.315929452749, 5352.265896886466, 4461.470785778341, 3536.808922738506, 3484.0812709260676, 3360.216664774086, 3143.1721873816286, 2698.690748739071, 2515.6874858850006, 2318.2681268922834, 1942.3597651860405, 1859.6601605166445, 1789.9760593079552, 1783.5014305689738, 1533.620022103409, 1291.895732395718, 1097.1621872318826, 1041.8543171812735, 1014.9548186675471, 855.2126484603722, 827.919230795446, 819.670615718842, 795.0964876134575, 769.439569473917, 692.6756936990331, 680.9287606831911, 646.1081074200125, 582.0013429440468, 579.3411581315845, 1462.3392405948928, 5637.938222517686, 974.1363722005746, 1968.736037442753, 11231.961053099696, 729.2707619250546, 720.8029942528759, 617.9040229765563, 602.1680145846267, 589.8573508911747, 550.5441109180421, 536.6456806479498, 517.2007236951815, 487.0947993514868, 475.55280427832383, 409.29890361880456, 349.85660784433855, 335.01693252282195, 312.8961046906163, 302.23215394959374, 273.7504405065058, 268.28128954569587, 213.8014649950355, 209.84553616494318, 194.55651713817264, 178.08866079569165, 170.50425980434315, 163.16011988380694, 159.20092432485123, 151.4048718453692, 138.24809418074037, 138.065500550063, 130.74071666880087, 130.4851499805776, 125.15838009014455, 458.6373510786715, 289.62518043387877, 2467.5572839117162, 291.53037503545374, 430.3571210486314, 592.6194204303495, 15172.488251647132, 14868.528227201534, 1844.4445698431728, 2948.4525920913234, 2060.874568305911, 838.0231085654524, 521.5998919161444, 6732.239896100377, 3151.831737134681, 1881.361537356422, 2149.653176890075, 5544.045632761204, 18266.47024918045, 1438.201583911718, 2241.320312601899, 2988.407152810763, 13950.690797155352, 8611.161626072651, 25202.481296079084, 9827.531833058849, 12392.076298909567, 10293.299405437332, 8007.760987126038, 4975.80414168114, 8544.035339966904, 1975.8320170650782, 10930.579233132346, 18710.32504859973, 3233.2987153801687, 9148.755243207142, 5522.4893788481695, 5748.499791041539, 10545.319036499095, 20925.77647566225, 1248.962721650834, 623.5535571485926, 542.8782447649337, 483.20912480866906, 468.3982814394791, 453.7543249515504, 358.62543021838974, 333.40707338191567, 292.80084430909807, 276.57717108557273, 258.3996803598086, 251.0020463000965, 239.0746286370588, 238.7059989465214, 233.79269641342074, 221.64520198126266, 201.73213311513535, 192.74374848898557, 188.98656015730847, 183.01460502668698, 176.05959961195376, 176.0728833694408, 169.58721453444926, 163.69499137276017, 158.37517203479354, 157.40785916443423, 145.5212725790717, 144.31225677838628, 141.98621142434854, 141.62565265894474, 807.323789122974, 226.3713235163389, 1584.213905040277, 1661.6713813340689, 552.0196065549753, 1895.8094160969529, 1984.6872467872156, 712.078311633955, 355.02861878195733, 1012.7726758082079, 4844.107031610368, 2435.858525916809, 356.7808188754588, 1601.0614002842508, 2908.058803437814, 580.4788983183558, 3515.0864510648216, 3207.6523116630688, 3814.6631203901734, 2087.6178232240554, 2115.561160087742, 1538.6021237150248, 1365.9670688434649, 5347.618006657787, 1093.309173849266, 12392.076298909567, 9555.755395667053, 16800.071354584707, 8544.035339966904, 11726.592622103535, 8500.365231083384, 3201.7669580284883, 4492.311472804], \"Category\": [\"Default\", \"Default\", \"Default\", \"Default\", \"Default\", \"Default\", \"Default\", \"Default\", \"Default\", \"Default\", \"Default\", \"Default\", \"Default\", \"Default\", \"Default\", \"Default\", \"Default\", \"Default\", \"Default\", \"Default\", \"Default\", \"Default\", \"Default\", \"Default\", \"Default\", \"Default\", \"Default\", \"Default\", \"Default\", \"Default\", \"Topic1\", \"Topic1\", \"Topic1\", \"Topic1\", \"Topic1\", \"Topic1\", \"Topic1\", \"Topic1\", \"Topic1\", \"Topic1\", \"Topic1\", \"Topic1\", \"Topic1\", \"Topic1\", \"Topic1\", \"Topic1\", \"Topic1\", \"Topic1\", \"Topic1\", \"Topic1\", \"Topic1\", \"Topic1\", \"Topic1\", \"Topic1\", \"Topic1\", \"Topic1\", \"Topic1\", \"Topic1\", \"Topic1\", \"Topic1\", \"Topic1\", \"Topic1\", \"Topic1\", \"Topic1\", \"Topic1\", \"Topic1\", \"Topic1\", \"Topic1\", \"Topic1\", \"Topic1\", \"Topic1\", \"Topic1\", \"Topic1\", \"Topic1\", \"Topic1\", \"Topic1\", \"Topic1\", \"Topic1\", \"Topic1\", \"Topic1\", \"Topic1\", \"Topic1\", \"Topic1\", \"Topic1\", \"Topic1\", \"Topic1\", \"Topic1\", \"Topic1\", \"Topic1\", \"Topic1\", \"Topic1\", \"Topic1\", \"Topic1\", \"Topic1\", \"Topic1\", \"Topic1\", \"Topic1\", \"Topic1\", \"Topic1\", \"Topic1\", \"Topic1\", \"Topic1\", \"Topic1\", \"Topic1\", \"Topic1\", \"Topic1\", \"Topic1\", \"Topic1\", \"Topic1\", \"Topic1\", \"Topic1\", \"Topic1\", \"Topic1\", \"Topic1\", \"Topic1\", \"Topic1\", \"Topic2\", \"Topic2\", \"Topic2\", \"Topic2\", \"Topic2\", \"Topic2\", \"Topic2\", \"Topic2\", \"Topic2\", \"Topic2\", \"Topic2\", \"Topic2\", \"Topic2\", \"Topic2\", \"Topic2\", \"Topic2\", \"Topic2\", \"Topic2\", \"Topic2\", \"Topic2\", \"Topic2\", \"Topic2\", \"Topic2\", \"Topic2\", \"Topic2\", \"Topic2\", \"Topic2\", \"Topic2\", \"Topic2\", \"Topic2\", \"Topic2\", \"Topic2\", \"Topic2\", \"Topic2\", \"Topic2\", \"Topic2\", \"Topic2\", \"Topic2\", \"Topic2\", \"Topic2\", \"Topic2\", \"Topic2\", \"Topic2\", \"Topic2\", \"Topic2\", \"Topic2\", \"Topic2\", \"Topic2\", \"Topic2\", \"Topic2\", \"Topic2\", \"Topic2\", \"Topic2\", \"Topic2\", \"Topic2\", \"Topic2\", \"Topic2\", \"Topic2\", \"Topic2\", \"Topic2\", \"Topic2\", \"Topic2\", \"Topic2\", \"Topic2\", \"Topic2\", \"Topic2\", \"Topic2\", \"Topic3\", \"Topic3\", \"Topic3\", \"Topic3\", \"Topic3\", \"Topic3\", \"Topic3\", \"Topic3\", \"Topic3\", \"Topic3\", \"Topic3\", \"Topic3\", \"Topic3\", \"Topic3\", \"Topic3\", \"Topic3\", \"Topic3\", \"Topic3\", \"Topic3\", \"Topic3\", \"Topic3\", \"Topic3\", \"Topic3\", \"Topic3\", \"Topic3\", \"Topic3\", \"Topic3\", \"Topic3\", \"Topic3\", \"Topic3\", \"Topic3\", \"Topic3\", \"Topic3\", \"Topic3\", \"Topic3\", \"Topic3\", \"Topic3\", \"Topic3\", \"Topic3\", \"Topic3\", \"Topic3\", \"Topic3\", \"Topic3\", \"Topic3\", \"Topic3\", \"Topic3\", \"Topic3\", \"Topic3\", \"Topic3\", \"Topic3\", \"Topic3\", \"Topic3\", \"Topic3\", \"Topic3\", \"Topic3\", \"Topic3\", \"Topic3\", \"Topic3\", \"Topic3\", \"Topic3\", \"Topic3\", \"Topic3\", \"Topic3\", \"Topic3\", \"Topic3\", \"Topic3\", \"Topic3\", \"Topic3\", \"Topic3\", \"Topic3\", \"Topic3\", \"Topic3\", \"Topic3\", \"Topic3\", \"Topic3\", \"Topic3\", \"Topic3\", \"Topic4\", \"Topic4\", \"Topic4\", \"Topic4\", \"Topic4\", \"Topic4\", \"Topic4\", \"Topic4\", \"Topic4\", \"Topic4\", \"Topic4\", \"Topic4\", \"Topic4\", \"Topic4\", \"Topic4\", \"Topic4\", \"Topic4\", \"Topic4\", \"Topic4\", \"Topic4\", \"Topic4\", \"Topic4\", \"Topic4\", \"Topic4\", \"Topic4\", \"Topic4\", \"Topic4\", \"Topic4\", \"Topic4\", \"Topic4\", \"Topic4\", \"Topic4\", \"Topic4\", \"Topic4\", \"Topic4\", \"Topic4\", \"Topic4\", \"Topic4\", \"Topic4\", \"Topic4\", \"Topic4\", \"Topic4\", \"Topic4\", \"Topic4\", \"Topic4\", \"Topic4\", \"Topic4\", \"Topic4\", \"Topic4\", \"Topic4\", \"Topic4\", \"Topic4\", \"Topic4\", \"Topic4\", \"Topic4\", \"Topic4\", \"Topic4\", \"Topic4\", \"Topic4\", \"Topic4\", \"Topic4\", \"Topic4\", \"Topic4\", \"Topic4\", \"Topic4\", \"Topic4\", \"Topic4\", \"Topic4\", \"Topic4\", \"Topic4\", \"Topic4\", \"Topic4\", \"Topic4\", \"Topic4\", \"Topic4\", \"Topic5\", \"Topic5\", \"Topic5\", \"Topic5\", \"Topic5\", \"Topic5\", \"Topic5\", \"Topic5\", \"Topic5\", \"Topic5\", \"Topic5\", \"Topic5\", \"Topic5\", \"Topic5\", \"Topic5\", \"Topic5\", \"Topic5\", \"Topic5\", \"Topic5\", \"Topic5\", \"Topic5\", \"Topic5\", \"Topic5\", \"Topic5\", \"Topic5\", \"Topic5\", \"Topic5\", \"Topic5\", \"Topic5\", \"Topic5\", \"Topic5\", \"Topic5\", \"Topic5\", \"Topic5\", \"Topic5\", \"Topic5\", \"Topic5\", \"Topic5\", \"Topic5\", \"Topic5\", \"Topic5\", \"Topic5\", \"Topic5\", \"Topic5\", \"Topic5\", \"Topic5\", \"Topic5\", \"Topic5\", \"Topic5\", \"Topic5\", \"Topic5\", \"Topic5\", \"Topic5\", \"Topic5\", \"Topic5\", \"Topic5\", \"Topic5\", \"Topic5\", \"Topic5\", \"Topic5\", \"Topic5\", \"Topic5\", \"Topic5\", \"Topic5\", \"Topic5\", \"Topic5\", \"Topic5\", \"Topic5\", \"Topic5\", \"Topic5\", \"Topic5\", \"Topic6\", \"Topic6\", \"Topic6\", \"Topic6\", \"Topic6\", \"Topic6\", \"Topic6\", \"Topic6\", \"Topic6\", \"Topic6\", \"Topic6\", \"Topic6\", \"Topic6\", \"Topic6\", \"Topic6\", \"Topic6\", \"Topic6\", \"Topic6\", \"Topic6\", \"Topic6\", \"Topic6\", \"Topic6\", \"Topic6\", \"Topic6\", \"Topic6\", \"Topic6\", \"Topic6\", \"Topic6\", \"Topic6\", \"Topic6\", \"Topic6\", \"Topic6\", \"Topic6\", \"Topic6\", \"Topic6\", \"Topic6\", \"Topic6\", \"Topic6\", \"Topic6\", \"Topic6\", \"Topic6\", \"Topic6\", \"Topic6\", \"Topic6\", \"Topic6\", \"Topic6\", \"Topic6\", \"Topic6\", \"Topic6\", \"Topic6\", \"Topic6\", \"Topic6\", \"Topic6\", \"Topic6\", \"Topic6\", \"Topic6\", \"Topic6\", \"Topic6\", \"Topic6\", \"Topic6\", \"Topic7\", \"Topic7\", \"Topic7\", \"Topic7\", \"Topic7\", \"Topic7\", \"Topic7\", \"Topic7\", \"Topic7\", \"Topic7\", \"Topic7\", \"Topic7\", \"Topic7\", \"Topic7\", \"Topic7\", \"Topic7\", \"Topic7\", \"Topic7\", \"Topic7\", \"Topic7\", \"Topic7\", \"Topic7\", \"Topic7\", \"Topic7\", \"Topic7\", \"Topic7\", \"Topic7\", \"Topic7\", \"Topic7\", \"Topic7\", \"Topic7\", \"Topic7\", \"Topic7\", \"Topic7\", \"Topic7\", \"Topic7\", \"Topic7\", \"Topic7\", \"Topic7\", \"Topic7\", \"Topic7\", \"Topic7\", \"Topic7\", \"Topic7\", \"Topic7\", \"Topic7\", \"Topic7\", \"Topic7\", \"Topic7\", \"Topic7\", \"Topic7\", \"Topic7\", \"Topic7\", \"Topic7\", \"Topic7\", \"Topic7\", \"Topic7\", \"Topic7\", \"Topic7\", \"Topic7\", \"Topic7\", \"Topic7\", \"Topic8\", \"Topic8\", \"Topic8\", \"Topic8\", \"Topic8\", \"Topic8\", \"Topic8\", \"Topic8\", \"Topic8\", \"Topic8\", \"Topic8\", \"Topic8\", \"Topic8\", \"Topic8\", \"Topic8\", \"Topic8\", \"Topic8\", \"Topic8\", \"Topic8\", \"Topic8\", \"Topic8\", \"Topic8\", \"Topic8\", \"Topic8\", \"Topic8\", \"Topic8\", \"Topic8\", \"Topic8\", \"Topic8\", \"Topic8\", \"Topic8\", \"Topic8\", \"Topic8\", \"Topic8\", \"Topic8\", \"Topic9\", \"Topic9\", \"Topic9\", \"Topic9\", \"Topic9\", \"Topic9\", \"Topic9\", \"Topic9\", \"Topic9\", \"Topic9\", \"Topic9\", \"Topic9\", \"Topic9\", \"Topic9\", \"Topic9\", \"Topic9\", \"Topic9\", \"Topic9\", \"Topic9\", \"Topic9\", \"Topic9\", \"Topic9\", \"Topic9\", \"Topic9\", \"Topic9\", \"Topic9\", \"Topic9\", \"Topic9\", \"Topic9\", \"Topic9\", \"Topic9\", \"Topic9\", \"Topic9\", \"Topic9\", \"Topic9\", \"Topic9\", \"Topic9\", \"Topic9\", \"Topic9\", \"Topic9\", \"Topic9\", \"Topic9\", \"Topic9\", \"Topic9\", \"Topic9\", \"Topic9\", \"Topic9\", \"Topic9\", \"Topic9\", \"Topic9\", \"Topic9\", \"Topic9\", \"Topic9\", \"Topic9\", \"Topic9\", \"Topic9\", \"Topic9\", \"Topic9\", \"Topic9\", \"Topic9\", \"Topic9\", \"Topic9\", \"Topic9\", \"Topic9\", \"Topic9\", \"Topic9\", \"Topic9\", \"Topic9\", \"Topic9\", \"Topic9\", \"Topic10\", \"Topic10\", \"Topic10\", \"Topic10\", \"Topic10\", \"Topic10\", \"Topic10\", \"Topic10\", \"Topic10\", \"Topic10\", \"Topic10\", \"Topic10\", \"Topic10\", \"Topic10\", \"Topic10\", \"Topic10\", \"Topic10\", \"Topic10\", \"Topic10\", \"Topic10\", \"Topic10\", \"Topic10\", \"Topic10\", \"Topic10\", \"Topic10\", \"Topic10\", \"Topic10\", \"Topic10\", \"Topic10\", \"Topic10\", \"Topic10\", \"Topic10\", \"Topic10\", \"Topic10\", \"Topic10\", \"Topic10\", \"Topic10\", \"Topic10\", \"Topic10\", \"Topic10\", \"Topic10\", \"Topic10\", \"Topic10\", \"Topic10\", \"Topic10\", \"Topic10\", \"Topic10\", \"Topic10\", \"Topic10\", \"Topic10\", \"Topic10\", \"Topic10\", \"Topic10\", \"Topic10\", \"Topic10\", \"Topic10\", \"Topic10\", \"Topic10\", \"Topic10\", \"Topic10\", \"Topic10\", \"Topic10\", \"Topic10\"], \"logprob\": [30.0, 29.0, 28.0, 27.0, 26.0, 25.0, 24.0, 23.0, 22.0, 21.0, 20.0, 19.0, 18.0, 17.0, 16.0, 15.0, 14.0, 13.0, 12.0, 11.0, 10.0, 9.0, 8.0, 7.0, 6.0, 5.0, 4.0, 3.0, 2.0, 1.0, -6.212299823760986, -6.792500019073486, -7.083700180053711, -7.31689977645874, -7.596199989318848, -7.626999855041504, -7.65910005569458, -7.688799858093262, -7.767600059509277, -7.7804999351501465, -7.033299922943115, -7.922999858856201, -8.011199951171875, -8.044899940490723, -8.065500259399414, -8.072400093078613, -8.082900047302246, -8.112700462341309, -8.160699844360352, -8.157699584960938, -8.15779972076416, -8.165599822998047, -8.178400039672852, -8.20989990234375, -8.247900009155273, -8.34529972076416, -8.38640022277832, -8.403499603271484, -8.409799575805664, -8.413000106811523, -7.78249979019165, -6.593100070953369, -6.507299900054932, -7.556600093841553, -5.4593000411987305, -6.377399921417236, -5.836400032043457, -6.49970006942749, -6.991600036621094, -3.4962000846862793, -3.782399892807007, -5.658199787139893, -5.908400058746338, -6.53249979019165, -7.36870002746582, -5.323599815368652, -6.584700107574463, -4.970200061798096, -5.329699993133545, -4.547100067138672, -4.540200233459473, -6.0507001876831055, -6.05109977722168, -6.240499973297119, -4.48960018157959, -4.450399875640869, -5.6255998611450195, -6.5106000900268555, -5.817800045013428, -4.50629997253418, -6.051199913024902, -5.476600170135498, -5.202300071716309, -6.0904998779296875, -4.962500095367432, -4.783299922943115, -4.52209997177124, -5.380099773406982, -5.2881999015808105, -4.855500221252441, -5.083099842071533, -5.638700008392334, -5.278299808502197, -4.834199905395508, -5.6828999519348145, -5.09660005569458, -4.921599864959717, -5.313300132751465, -4.852799892425537, -4.763199806213379, -4.713399887084961, -4.998600006103516, -4.904099941253662, -5.195400238037109, -5.221700191497803, -5.3516998291015625, -3.0739998817443848, -4.3024001121521, -4.815100193023682, -5.197400093078613, -5.377600193023682, -5.603099822998047, -5.6819000244140625, -5.771999835968018, -6.0680999755859375, -6.363900184631348, -6.461100101470947, -6.48829984664917, -6.635000228881836, -6.64870023727417, -6.795899868011475, -6.852399826049805, -6.861000061035156, -6.895400047302246, -6.8979997634887695, -6.94189977645874, -6.991499900817871, -7.030200004577637, -7.040599822998047, -7.05709981918335, -7.0655999183654785, -7.137199878692627, -7.152200222015381, -7.21120023727417, -7.258800029754639, -7.264100074768066, -6.4959001541137695, -6.567500114440918, -6.563199996948242, -5.540800094604492, -4.981500148773193, -3.971400022506714, -3.854599952697754, -5.169000148773193, -5.877799987792969, -6.53980016708374, -6.433800220489502, -5.8643999099731445, -5.0569000244140625, -4.505300045013428, -4.939499855041504, -5.188199996948242, -5.058599948883057, -4.961599826812744, -4.991799831390381, -3.9795000553131104, -4.224800109863281, -4.679200172424316, -6.10830020904541, -5.815800189971924, -4.502299785614014, -4.6082000732421875, -5.259399890899658, -4.966800212860107, -4.927999973297119, -4.854499816894531, -5.040500164031982, -4.864200115203857, -5.351500034332275, -5.1753997802734375, -5.2428998947143555, -5.293700218200684, -5.297900199890137, -5.492099761962891, -5.8892998695373535, -6.281899929046631, -6.336400032043457, -6.460299968719482, -6.4618000984191895, -6.193999767303467, -6.525899887084961, -6.566999912261963, -6.615900039672852, -6.731900215148926, -6.8719000816345215, -6.798699855804443, -6.945499897003174, -6.971099853515625, -7.006400108337402, -7.019700050354004, -7.02869987487793, -7.1132001876831055, -7.117599964141846, -7.135700225830078, -7.140900135040283, -6.95389986038208, -7.149499893188477, -7.188300132751465, -7.219099998474121, -7.219299793243408, -7.30620002746582, -7.326300144195557, -7.362500190734863, -6.978700160980225, -5.09499979019165, -5.9309000968933105, -6.443999767303467, -6.320300102233887, -6.610099792480469, -5.443900108337402, -4.3927001953125, -5.929100036621094, -5.739099979400635, -5.901400089263916, -5.813799858093262, -4.167900085449219, -6.194900035858154, -6.360000133514404, -6.08650016784668, -5.90369987487793, -5.9004998207092285, -5.031899929046631, -4.95550012588501, -6.02839994430542, -5.7982001304626465, -5.143899917602539, -6.012499809265137, -5.908199787139893, -6.143199920654297, -5.135000228881836, -4.828499794006348, -4.951700210571289, -5.038400173187256, -5.431300163269043, -5.737599849700928, -5.743199825286865, -5.255899906158447, -5.375500202178955, -5.389900207519531, -5.5655999183654785, -5.222400188446045, -5.49970006942749, -5.4583001136779785, -5.50540018081665, -5.564700126647949, -5.566500186920166, -5.714600086212158, -5.652200222015381, -5.702199935913086, -5.7444000244140625, -4.82390022277832, -5.138299942016602, -5.802700042724609, -6.6356000900268555, -6.6545000076293945, -6.778200149536133, -6.843200206756592, -6.900599956512451, -6.912199974060059, -6.9847002029418945, -7.022299766540527, -7.0233001708984375, -7.083600044250488, -6.9039998054504395, -7.141900062561035, -7.205399990081787, -7.240900039672852, -7.274899959564209, -7.283199787139893, -7.325500011444092, -7.373499870300293, -7.433800220489502, -7.503200054168701, -7.527200222015381, -7.528800010681152, -7.547100067138672, -7.550899982452393, -7.572700023651123, -7.578499794006348, -7.603000164031982, -3.926100015640259, -4.7683000564575195, -6.018599987030029, -5.013899803161621, -6.04040002822876, -7.097400188446045, -6.2241997718811035, -5.823800086975098, -5.599800109863281, -5.9390997886657715, -4.343400001525879, -4.8404998779296875, -6.323999881744385, -6.0472002029418945, -6.178100109100342, -6.542600154876709, -3.558000087738037, -5.014500141143799, -5.133399963378906, -4.787199974060059, -4.699999809265137, -5.061399936676025, -6.397600173950195, -5.291800022125244, -6.507299900054932, -4.670100212097168, -3.627500057220459, -4.992099761962891, -5.523799896240234, -4.828800201416016, -4.839200019836426, -4.812300205230713, -4.810800075531006, -5.0879998207092285, -4.146699905395508, -4.323200225830078, -5.393099784851074, -4.823699951171875, -5.284800052642822, -5.270100116729736, -5.116399765014648, -5.047500133514404, -5.046500205993652, -5.106599807739258, -5.144400119781494, -5.601200103759766, -5.5767998695373535, -5.878200054168701, -5.937900066375732, -6.021399974822998, -6.043399810791016, -6.303999900817871, -6.355400085449219, -6.378200054168701, -6.434599876403809, -6.4629998207092285, -6.527900218963623, -6.565499782562256, -6.698599815368652, -6.710700035095215, -6.715000152587891, -6.73799991607666, -6.764900207519531, -6.809100151062012, -6.841899871826172, -6.935999870300293, -6.948200225830078, -6.962299823760986, -7.019700050354004, -7.026100158691406, -7.034200191497803, -7.0406999588012695, -7.061800003051758, -7.194499969482422, -7.196199893951416, -5.595399856567383, -5.2052001953125, -4.7835001945495605, -5.610899925231934, -6.027599811553955, -5.794400215148926, -6.100299835205078, -5.369800090789795, -5.041900157928467, -5.093200206756592, -5.69950008392334, -4.884500026702881, -6.311800003051758, -5.176799774169922, -5.1992998123168945, -5.438399791717529, -5.871600151062012, -5.882599830627441, -4.8165998458862305, -4.777500152587891, -4.919099807739258, -5.793000221252441, -5.202000141143799, -5.754700183868408, -5.1234002113342285, -4.279799938201904, -5.065299987792969, -4.754499912261963, -4.592800140380859, -5.060699939727783, -5.2281999588012695, -5.088799953460693, -5.403299808502197, -5.251800060272217, -5.463200092315674, -5.070799827575684, -5.1066999435424805, -5.34660005569458, -5.430200099945068, -5.413700103759766, -5.406400203704834, -4.777599811553955, -4.781599998474121, -5.060400009155273, -5.173299789428711, -5.189199924468994, -5.202700138092041, -5.28849983215332, -5.519000053405762, -5.41379976272583, -5.892499923706055, -5.917399883270264, -6.146399974822998, -6.2754998207092285, -6.292200088500977, -6.320000171661377, -6.384200096130371, -6.419600009918213, -6.4207000732421875, -6.467199802398682, -6.492300033569336, -6.509200096130371, -6.555699825286865, -6.5970001220703125, -6.669400215148926, -6.739299774169922, -6.740799903869629, -6.746099948883057, -6.7683000564575195, -6.769400119781494, -6.846700191497803, -5.247000217437744, -3.9700000286102295, -5.381899833679199, -4.315000057220459, -4.0395002365112305, -5.458399772644043, -5.565000057220459, -5.531000137329102, -5.518199920654297, -4.980899810791016, -5.173600196838379, -5.957600116729736, -5.332900047302246, -5.320000171661377, -4.939000129699707, -5.993800163269043, -4.548399925231934, -5.7153000831604, -5.719600200653076, -4.225800037384033, -4.764200210571289, -4.186999797821045, -4.5503997802734375, -4.776899814605713, -4.531499862670898, -4.886899948120117, -5.202400207519531, -5.1753997802734375, -5.387199878692627, -5.33519983291626, -4.126699924468994, -4.139400005340576, -4.545499801635742, -4.861700057983398, -4.991600036621094, -5.380499839782715, -5.50029993057251, -5.514200210571289, -5.542799949645996, -5.824900150299072, -5.864799976348877, -5.247700214385986, -5.9191999435424805, -5.839399814605713, -6.188000202178955, -6.42110013961792, -6.462299823760986, -6.506199836730957, -6.54010009765625, -6.607100009918213, -4.481200218200684, -6.65339994430542, -6.723599910736084, -6.810500144958496, -6.84089994430542, -6.91510009765625, -6.979800224304199, -6.987599849700928, -6.990799903869629, -7.026199817657471, -6.344699859619141, -5.035900115966797, -3.231800079345703, -6.10099983215332, -4.06790018081665, -3.495500087738037, -5.5192999839782715, -3.703700065612793, -5.0345001220703125, -5.615300178527832, -5.208499908447266, -4.953499794006348, -4.90910005569458, -4.50570011138916, -4.40939998626709, -4.568299770355225, -5.405099868774414, -5.369699954986572, -5.1930999755859375, -4.1691999435424805, -4.900700092315674, -5.448800086975098, -4.939799785614014, -5.020299911499023, -5.099599838256836, -4.9944000244140625, -4.942500114440918, -4.841700077056885, -5.330999851226807, -5.21589994430542, -5.292200088500977, -5.257299900054932, -2.5571999549865723, -3.4221999645233154, -3.4289000034332275, -3.6108999252319336, -3.8433001041412354, -3.858299970626831, -3.8945000171661377, -3.9612998962402344, -4.113800048828125, -4.184000015258789, -4.2657999992370605, -4.442800045013428, -4.486299991607666, -4.524499893188477, -4.528200149536133, -4.679200172424316, -4.850800037384033, -5.014400005340576, -5.066100120544434, -5.092299938201904, -5.263700008392334, -5.296199798583984, -5.30620002746582, -5.336699962615967, -5.36959981918335, -5.474800109863281, -5.4918999671936035, -5.54449987411499, -5.649199962615967, -5.65369987487793, -4.808800220489502, -3.6784000396728516, -5.374199867248535, -5.088500022888184, -5.0609002113342285, -5.396399974822998, -5.408100128173828, -5.562399864196777, -5.588200092315674, -5.60890007019043, -5.677999973297119, -5.70359992980957, -5.740600109100342, -5.800600051879883, -5.824699878692627, -5.974999904632568, -6.132299900054932, -6.17579984664917, -6.24429988861084, -6.2789998054504395, -6.378300189971924, -6.398600101470947, -6.626399993896484, -6.645199775695801, -6.721199989318848, -6.809999942779541, -6.853799819946289, -6.898099899291992, -6.922800064086914, -6.973299980163574, -7.064700126647949, -7.066100120544434, -7.120999813079834, -7.122900009155273, -7.164899826049805, -5.872200012207031, -6.339099884033203, -4.239699840545654, -6.35830020904541, -6.020100116729736, -5.787499904632568, -3.112799882888794, -3.162899971008301, -4.912300109863281, -4.5416998863220215, -4.854100227355957, -5.571400165557861, -5.943699836730957, -4.094799995422363, -4.660299777984619, -5.089300155639648, -5.019700050354004, -4.491799831390381, -3.8348000049591064, -5.343200206756592, -5.132900238037109, -5.011600017547607, -4.22760009765625, -4.506400108337402, -4.083199977874756, -4.543900012969971, -4.5945000648498535, -4.69950008392334, -4.802499771118164, -4.976200103759766, -4.828400135040283, -5.30620002746582, -4.8394999504089355, -4.729599952697754, -5.188399791717529, -4.951900005340576, -5.074100017547607, -5.110000133514404, -5.041600227355957, -4.98769998550415, -4.7642998695373535, -5.45959997177124, -5.598400115966797, -5.715000152587891, -5.746200084686279, -5.7779998779296875, -6.013800144195557, -6.086900234222412, -6.217199802398682, -6.274400234222412, -6.342599868774414, -6.371799945831299, -6.420599937438965, -6.4222002029418945, -6.4430999755859375, -6.496600151062012, -6.59119987487793, -6.63700008392334, -6.656799793243408, -6.689000129699707, -6.728000164031982, -6.72790002822876, -6.765600204467773, -6.801199913024902, -6.834400177001953, -6.84060001373291, -6.919600009918213, -6.927999973297119, -6.944399833679199, -6.946899890899658, -5.208700180053711, -6.480800151824951, -4.563600063323975, -4.573699951171875, -5.639100074768066, -4.499100208282471, -4.478000164031982, -5.514800071716309, -6.122499942779541, -5.26609992980957, -4.158599853515625, -4.775300025939941, -6.186699867248535, -5.14900016784668, -4.929599761962891, -5.94920015335083, -5.003799915313721, -5.113399982452393, -5.066400051116943, -5.367400169372559, -5.38070011138916, -5.552299976348877, -5.622900009155273, -5.183300018310547, -5.764699935913086, -5.032299995422363, -5.207099914550781, -5.152100086212158, -5.445799827575684, -5.577499866485596, -5.607900142669678, -5.656000137329102, -5.64769983291626], \"loglift\": [30.0, 29.0, 28.0, 27.0, 26.0, 25.0, 24.0, 23.0, 22.0, 21.0, 20.0, 19.0, 18.0, 17.0, 16.0, 15.0, 14.0, 13.0, 12.0, 11.0, 10.0, 9.0, 8.0, 7.0, 6.0, 5.0, 4.0, 3.0, 2.0, 1.0, 1.3399, 1.3394, 1.339, 1.3386, 1.338, 1.338, 1.3379, 1.3378, 1.3375, 1.3375, 1.3372, 1.3371, 1.3367, 1.3366, 1.3365, 1.3365, 1.3365, 1.3363, 1.3361, 1.3361, 1.3361, 1.3361, 1.3361, 1.3359, 1.3357, 1.3352, 1.335, 1.3349, 1.3349, 1.3349, 1.3343, 1.3157, 1.3133, 1.322, 1.2675, 1.2909, 1.2567, 1.2819, 1.2892, 1.1315, 1.1432, 1.2298, 1.2395, 1.2623, 1.2996, 1.1877, 1.2558, 1.1511, 1.1735, 1.1211, 1.1009, 1.2138, 1.2136, 1.2242, 1.0832, 1.0486, 1.1537, 1.2366, 1.1571, 0.9824, 1.1776, 1.0909, 1.0478, 1.1806, 0.9698, 0.9313, 0.8708, 1.0391, 1.0043, 0.8901, 0.8948, 1.0535, 0.9268, 0.7634, 1.0599, 0.697, 0.5415, 0.7895, 0.3664, 0.2701, 0.1004, 0.3933, 0.2311, 0.3278, 0.0832, -0.4021, 2.1662, 2.1661, 2.1659, 2.1657, 2.1656, 2.1654, 2.1654, 2.1653, 2.1649, 2.1645, 2.1643, 2.1642, 2.1639, 2.1638, 2.1635, 2.1633, 2.1633, 2.1632, 2.1632, 2.163, 2.1628, 2.1627, 2.1627, 2.1626, 2.1626, 2.1623, 2.1623, 2.162, 2.1618, 2.1618, 2.1614, 2.1615, 2.153, 2.1255, 2.0921, 2.0054, 1.9918, 2.0577, 2.097, 2.1334, 2.1236, 2.0568, 1.8993, 1.6406, 1.7216, 1.6716, 1.583, 1.4981, 1.4196, 0.8342, 0.8085, 1.0224, 1.8913, 1.6589, 0.6532, 0.7294, 1.1108, 0.7477, 0.5351, 0.3647, 0.5571, 0.0854, 0.9348, 0.2605, 0.3337, 0.2295, 0.095, 2.2032, 2.2027, 2.2023, 2.2022, 2.202, 2.202, 2.2019, 2.2018, 2.2017, 2.2016, 2.2013, 2.2009, 2.2008, 2.2007, 2.2006, 2.2005, 2.2004, 2.2004, 2.2001, 2.2001, 2.2, 2.2, 2.2, 2.1999, 2.1998, 2.1996, 2.1996, 2.1992, 2.1991, 2.199, 2.1922, 2.1512, 2.1623, 2.1743, 2.1654, 2.1617, 2.0389, 1.8963, 2.0474, 2.014, 2.0159, 1.9572, 1.6064, 2.006, 2.0061, 1.9196, 1.8275, 1.8227, 1.4549, 1.3968, 1.8508, 1.6972, 1.3158, 1.7635, 1.6493, 1.8423, 0.8322, 0.3907, 0.4401, 0.5381, 0.9354, 1.2918, 1.2315, 0.2673, 0.3261, 0.3196, 0.7206, -0.2727, 0.324, -0.0655, 0.0641, 0.1454, -0.2289, 0.652, 0.1494, 0.2456, -0.6092, 2.3776, 2.3774, 2.3768, 2.375, 2.375, 2.3746, 2.3743, 2.3741, 2.3741, 2.3738, 2.3736, 2.3736, 2.3733, 2.3733, 2.3731, 2.3727, 2.3725, 2.3723, 2.3723, 2.372, 2.3717, 2.3714, 2.3709, 2.3707, 2.3707, 2.3706, 2.3705, 2.3704, 2.3703, 2.3701, 2.3273, 2.3355, 2.3422, 2.3131, 2.3191, 2.3565, 2.3168, 2.2972, 2.2662, 2.2811, 2.1415, 2.1773, 2.2897, 2.2522, 2.2383, 2.2865, 1.8779, 2.0751, 2.0479, 1.901, 1.8505, 1.9144, 2.2404, 1.9123, 2.2566, 1.6108, 1.1862, 1.6999, 1.8725, 1.5699, 1.5722, 1.5544, 1.4661, 1.5226, 0.8029, 0.7101, 1.6963, 0.9648, 1.4886, 1.3832, 1.0774, 0.7428, 0.6636, 0.6028, 0.011, 2.3822, 2.382, 2.3819, 2.3818, 2.3817, 2.3816, 2.3811, 2.381, 2.381, 2.3808, 2.3808, 2.3806, 2.3805, 2.3801, 2.3801, 2.3801, 2.38, 2.3799, 2.3798, 2.3796, 2.3793, 2.3792, 2.3792, 2.3789, 2.3789, 2.3789, 2.3789, 2.3788, 2.3781, 2.3781, 2.3749, 2.3635, 2.3353, 2.3252, 2.3397, 2.3241, 2.3315, 2.2911, 2.2626, 2.2637, 2.2919, 2.2052, 2.336, 2.1844, 2.1652, 2.1279, 2.2133, 2.2152, 1.9058, 1.892, 1.9114, 2.1149, 1.8274, 2.0833, 1.6365, 1.0251, 1.5085, 1.2127, 0.799, 1.3024, 1.4121, 1.192, 1.3002, 0.8574, 1.2682, -0.0374, -0.1571, 0.4419, 0.94, 0.4101, 0.1702, 2.5647, 2.5647, 2.5645, 2.5645, 2.5644, 2.5644, 2.5644, 2.5641, 2.5641, 2.5636, 2.5636, 2.5632, 2.5629, 2.5628, 2.5628, 2.5626, 2.5625, 2.5625, 2.5624, 2.5623, 2.5622, 2.5621, 2.562, 2.5617, 2.5615, 2.5615, 2.5614, 2.5613, 2.5613, 2.561, 2.5609, 2.5434, 2.5519, 2.5363, 2.5264, 2.5447, 2.5463, 2.5316, 2.5287, 2.5005, 2.4912, 2.5267, 2.4486, 2.4037, 2.324, 2.4954, 2.0254, 2.3898, 2.3625, 1.5678, 1.7061, 0.9685, 1.1512, 1.3323, 0.7734, 0.2483, 0.9913, 0.6149, 1.4433, 0.9538, 2.6831, 2.6831, 2.6829, 2.6827, 2.6826, 2.6822, 2.6821, 2.6821, 2.682, 2.6816, 2.6815, 2.6815, 2.6814, 2.6814, 2.6808, 2.6801, 2.68, 2.6798, 2.6797, 2.6795, 2.6794, 2.6793, 2.679, 2.6786, 2.6784, 2.678, 2.6777, 2.6776, 2.6776, 2.6774, 2.6738, 2.6318, 2.4951, 2.6369, 2.5154, 2.4345, 2.5809, 2.3883, 2.4186, 2.5097, 2.4323, 2.3752, 2.317, 2.1526, 2.0895, 2.1379, 2.329, 2.2763, 2.1327, 1.1357, 1.639, 2.2107, 1.2381, 1.3465, 1.3196, 0.9534, 0.627, 0.108, 1.9221, 0.3073, 0.9941, 0.0804, 2.7484, 2.7483, 2.7483, 2.7483, 2.7482, 2.7482, 2.7482, 2.7482, 2.7481, 2.7481, 2.7481, 2.748, 2.748, 2.7479, 2.7479, 2.7479, 2.7477, 2.7476, 2.7476, 2.7475, 2.7474, 2.7473, 2.7473, 2.7473, 2.7472, 2.7471, 2.7471, 2.747, 2.7468, 2.7468, 2.6659, 2.4468, 2.5067, 2.0888, 0.375, 2.774, 2.774, 2.7737, 2.7737, 2.7737, 2.7736, 2.7735, 2.7735, 2.7734, 2.7733, 2.773, 2.7726, 2.7725, 2.7723, 2.7722, 2.7719, 2.7718, 2.771, 2.7709, 2.7706, 2.7701, 2.7699, 2.7697, 2.7695, 2.7692, 2.7687, 2.7686, 2.7683, 2.7683, 2.768, 2.762, 2.7548, 2.7117, 2.729, 2.6777, 2.5904, 2.0224, 1.9926, 2.3303, 2.2317, 2.2775, 2.46, 2.5619, 1.853, 2.0464, 2.1334, 2.0697, 1.6501, 1.1149, 2.1481, 1.9147, 1.7484, 0.9915, 1.1952, 0.5445, 1.0256, 0.7432, 0.8237, 0.9718, 1.2739, 0.8811, 1.8675, 0.6236, 0.1961, 1.4928, 0.6892, 1.0718, 0.9958, 0.4574, -0.174, 2.8681, 2.8674, 2.8672, 2.867, 2.8669, 2.8669, 2.8663, 2.8661, 2.8658, 2.8656, 2.8653, 2.8652, 2.865, 2.865, 2.8649, 2.8647, 2.8643, 2.8641, 2.864, 2.8638, 2.8636, 2.8636, 2.8634, 2.8632, 2.8631, 2.863, 2.8625, 2.8625, 2.8624, 2.8624, 2.8601, 2.8594, 2.831, 2.7732, 2.8098, 2.716, 2.6913, 2.6795, 2.7677, 2.5759, 2.1184, 2.1891, 2.6986, 2.235, 1.8576, 2.4494, 1.5938, 1.5757, 1.4494, 1.7513, 1.7246, 1.8715, 1.92, 0.9947, 2.0008, 0.3054, 0.3905, -0.1188, 0.2637, -0.1847, 0.1067, 1.035, 0.7046]}, \"token.table\": {\"Topic\": [3, 1, 2, 3, 5, 6, 7, 9, 10, 1, 1, 2, 4, 6, 9, 10, 5, 5, 2, 8, 10, 4, 6, 8, 6, 3, 5, 7, 1, 2, 7, 9, 10, 1, 2, 4, 5, 7, 9, 10, 1, 2, 2, 10, 1, 2, 3, 1, 2, 3, 4, 5, 6, 7, 9, 10, 7, 2, 3, 4, 5, 7, 8, 1, 2, 3, 4, 5, 6, 7, 9, 10, 3, 1, 2, 3, 4, 5, 6, 7, 4, 5, 7, 8, 1, 3, 4, 5, 6, 7, 8, 10, 3, 5, 7, 10, 6, 6, 6, 9, 1, 2, 3, 4, 5, 6, 7, 9, 10, 4, 9, 1, 5, 5, 1, 3, 5, 8, 2, 3, 4, 5, 7, 8, 9, 5, 8, 9, 9, 10, 1, 3, 5, 6, 8, 9, 10, 8, 5, 5, 2, 3, 4, 5, 6, 9, 10, 1, 2, 3, 4, 5, 6, 7, 9, 10, 8, 1, 2, 1, 2, 3, 4, 5, 6, 1, 2, 3, 4, 5, 6, 7, 9, 10, 1, 2, 3, 6, 8, 2, 1, 2, 3, 4, 5, 6, 1, 2, 3, 4, 5, 6, 9, 10, 2, 2, 3, 9, 4, 5, 9, 10, 6, 4, 8, 8, 8, 8, 5, 10, 1, 2, 3, 4, 6, 7, 9, 9, 1, 3, 3, 1, 5, 8, 9, 1, 2, 3, 5, 9, 10, 7, 5, 8, 9, 1, 3, 4, 3, 2, 5, 6, 5, 9, 5, 1, 2, 7, 6, 1, 4, 6, 7, 8, 1, 4, 5, 7, 2, 8, 1, 3, 5, 6, 10, 1, 2, 3, 4, 5, 6, 7, 9, 3, 6, 8, 6, 3, 5, 6, 8, 1, 1, 4, 2, 4, 5, 7, 2, 3, 4, 5, 6, 7, 8, 1, 2, 3, 6, 7, 10, 8, 10, 1, 3, 7, 9, 4, 5, 6, 8, 9, 9, 10, 3, 8, 1, 2, 3, 4, 5, 6, 9, 10, 4, 10, 1, 2, 3, 5, 6, 9, 1, 2, 3, 4, 5, 6, 9, 8, 1, 2, 3, 5, 6, 10, 1, 7, 8, 2, 3, 4, 5, 6, 7, 9, 10, 2, 4, 7, 9, 1, 3, 5, 9, 10, 2, 4, 5, 6, 9, 2, 3, 4, 5, 6, 9, 9, 6, 6, 8, 6, 8, 2, 7, 2, 3, 4, 5, 7, 10, 1, 2, 3, 4, 5, 6, 7, 9, 10, 1, 2, 4, 7, 3, 5, 7, 1, 1, 2, 1, 2, 3, 5, 6, 8, 9, 4, 1, 2, 5, 6, 8, 1, 2, 4, 5, 6, 1, 2, 4, 8, 4, 7, 9, 1, 2, 3, 5, 6, 9, 10, 1, 1, 7, 9, 3, 3, 3, 8, 1, 9, 1, 2, 3, 4, 5, 7, 9, 1, 8, 9, 1, 4, 9, 10, 9, 10, 2, 10, 8, 8, 1, 2, 3, 4, 6, 7, 8, 9, 10, 2, 3, 4, 6, 7, 10, 2, 3, 4, 5, 6, 7, 9, 10, 1, 5, 1, 3, 5, 1, 3, 5, 6, 1, 2, 3, 4, 6, 10, 1, 2, 3, 5, 6, 9, 10, 1, 2, 3, 5, 6, 7, 9, 10, 6, 1, 2, 4, 5, 7, 8, 9, 9, 3, 1, 2, 3, 5, 7, 9, 10, 1, 3, 5, 7, 9, 10, 4, 4, 1, 2, 3, 5, 6, 7, 10, 10, 1, 2, 3, 4, 5, 6, 7, 9, 10, 2, 4, 5, 8, 3, 10, 10, 10, 4, 1, 10, 5, 1, 1, 2, 3, 4, 6, 2, 4, 5, 7, 9, 3, 5, 2, 4, 10, 7, 4, 7, 10, 2, 10, 6, 4, 5, 5, 2, 4, 1, 2, 3, 4, 5, 6, 7, 10, 2, 3, 4, 6, 10, 3, 3, 5, 7, 8, 9, 7, 6, 10, 6, 8, 1, 6, 10, 6, 1, 2, 3, 4, 5, 6, 7, 8, 9, 4, 4, 1, 2, 3, 6, 7, 9, 10, 6, 3, 6, 4, 8, 4, 5, 8, 4, 3, 1, 2, 6, 9, 3, 6, 9, 1, 1, 1, 1, 2, 4, 6, 7, 7, 8, 1, 2, 3, 4, 5, 6, 7, 9, 10, 2, 4, 7, 1, 4, 8, 1, 2, 6, 7, 1, 2, 6, 7, 10, 1, 2, 4, 5, 6, 9, 10, 1, 6, 9, 3, 10, 7, 8, 2, 4, 7, 7, 7, 1, 2, 3, 4, 5, 7, 4, 10, 3, 1, 6, 4, 2, 3, 5, 6, 9, 10, 1, 2, 4, 1, 1, 3, 7, 6, 7, 1, 1, 2, 3, 5, 7, 10, 3, 7, 1, 3, 6, 9, 10, 5, 8, 9, 5, 6, 5, 3, 1, 2, 3, 5, 6, 7, 9, 10, 1, 2, 3, 4, 5, 6, 7, 9, 10, 2, 3, 7, 9, 10, 3, 9, 1, 2, 5, 5, 8, 1, 2, 3, 6, 9, 10, 1, 2, 3, 4, 5, 6, 7, 9, 10, 1, 2, 3, 5, 6, 9, 10, 6, 2, 2, 4, 7, 9, 5, 10, 2, 2, 4, 9, 5, 6, 2, 7, 7, 9, 1, 3, 4, 5, 6, 7, 10, 1, 3, 1, 8, 9, 1, 5, 6, 7, 9, 1, 5, 7, 9, 10, 1, 2, 3, 6, 9, 1, 2, 3, 4, 5, 6, 7, 10, 5, 9, 6, 1, 1, 4, 5, 7, 10, 2, 1, 2, 10, 1, 7, 2, 5, 6, 8, 1, 2, 3, 5, 6, 7, 10, 1, 2, 3, 4, 5, 6, 7, 10, 6, 10, 6, 2, 4, 5, 6, 10, 10, 3, 1, 5, 8, 1, 3, 9, 2, 1, 2, 3, 9, 1, 2, 6, 9, 1, 2, 3, 9, 10, 4, 1, 2, 3, 6, 7, 1, 2, 3, 4, 5, 6, 7, 9, 10, 4, 5, 1, 2, 8, 2, 7, 3, 1, 2, 4, 10, 7, 7, 9, 9, 5, 8, 9, 6, 2, 7, 3, 5, 6, 1, 2, 3, 5, 6, 8, 9, 10, 2, 3, 5, 7, 10, 10, 2, 4, 3, 5, 5, 8, 5, 2, 4, 7, 5, 8, 8, 4, 2, 1, 2, 3, 4, 5, 6, 7, 9, 10, 10, 1, 9, 1, 1, 1, 2, 3, 5, 6, 9, 10, 1, 2, 3, 4, 5, 6, 7, 9, 10, 1, 2, 3, 4, 5, 7, 9, 10, 4, 4, 1, 2, 3, 4, 10, 1, 2, 3, 5, 6, 7, 8, 9, 10, 1, 2, 3, 5, 6, 7, 9, 10, 3, 3, 10, 6, 1, 2, 3, 5, 6, 10, 8, 1, 4, 6, 6, 8, 6, 8, 8, 9, 3, 9, 10, 3, 3, 6, 6, 1, 6, 1, 2, 4, 9, 10, 3, 9, 4, 4, 9, 2, 3, 4, 6, 10, 1, 10, 1, 5, 7, 8, 1, 5, 7, 8, 2, 4, 1, 4, 6, 7, 9, 1, 7, 9, 1, 2, 3, 4, 5, 6, 9, 3, 4, 2, 4, 5, 7, 2, 4, 5, 7, 3, 6, 3, 6, 1, 2, 3, 4, 5, 6, 7, 9, 10, 1, 2, 4, 5, 6, 1, 5, 5, 6, 1, 1, 6, 2, 3, 3, 4, 10, 2, 4, 6, 7, 10, 2, 9, 9, 1, 5, 1, 2, 3, 6, 8, 9, 1, 2, 4, 5, 6, 10, 1, 2, 3, 4, 5, 6, 7, 8, 9, 10, 5, 1, 4, 6, 7, 1, 3, 4, 6, 7, 9, 6, 7, 7, 7, 1, 2, 3, 7, 9, 1, 2, 3, 5, 6, 7, 9, 10, 1, 5, 9, 8, 1, 2, 6, 9, 10, 3, 4, 8, 1, 2, 3, 4, 5, 6, 7, 9, 10, 2, 9, 1, 2, 3, 5, 6, 7, 9, 10, 10, 1, 2, 3, 7, 9, 6, 2, 5, 9, 4, 8, 1, 2, 3, 4, 5, 6, 8, 7, 10, 6, 6, 4, 5, 9, 10, 10, 2, 4, 6, 9, 10, 7, 5, 1, 2, 3, 4, 5, 9, 10, 7, 10, 9, 3, 10, 1, 3, 4, 5, 6, 7, 8, 1, 4, 5, 7, 8, 1, 2, 3, 4, 5, 6, 7, 10, 1, 3, 8, 9, 9, 9, 9, 9, 8, 3, 1, 3, 5, 1, 3, 1, 6, 8, 8, 4, 10, 2, 7, 5, 7, 4, 8, 2, 3, 4, 5, 6, 9, 10, 2, 3, 4, 5, 6, 9, 10, 9, 2, 7, 2, 1, 2, 3, 5, 6, 7, 9, 1, 2, 3, 4, 5, 6, 7, 9, 1, 2, 3, 4, 5, 6, 9, 10, 9, 9, 4, 5, 8, 2, 4, 5, 9, 10, 1, 5, 6, 1, 9, 1, 2, 3, 4, 6, 7, 8, 9, 10, 1, 2, 3, 4, 5, 6, 7, 9, 10, 1, 2, 3, 4, 5, 7, 9, 10, 10, 1, 3, 4, 10, 7, 1, 2, 3, 4, 5, 6, 7, 10, 5, 4, 5, 4, 5, 1, 3, 5, 5, 6, 5, 6, 9, 6, 6, 9, 1, 2, 6, 9, 10, 2, 2, 2, 2, 2, 4, 2, 4, 2, 10, 1, 1, 7, 7, 7, 5, 5, 9, 1, 2, 3, 4, 5, 6, 7, 9, 10, 10, 8, 8, 1, 2, 4, 1, 2, 3, 4, 5, 6, 7, 9, 10, 1, 2, 3, 4, 5, 6, 7, 9, 10, 5, 6, 4, 5, 6, 1, 2, 3, 4, 5, 6, 7, 9, 10, 3, 6, 10, 5, 1, 1, 2, 5, 7, 2, 5, 6, 3, 6, 10, 6, 9, 4, 5, 6, 8, 10, 1, 2, 3, 5, 6, 7, 9, 10, 1, 2, 7, 9, 10, 7, 4, 1, 2, 3, 5, 7, 9, 10, 1, 2, 3, 4, 5, 6, 7, 9, 10, 4, 7, 5, 9], \"Freq\": [0.9959553997646267, 0.3185078109533632, 0.1263545389954906, 0.04404058620589714, 0.0010485853858546938, 0.04797278140285224, 0.014155902709038366, 0.20630917466691098, 0.2419610777859706, 0.9958945711612693, 0.310945019542606, 0.11108975911864044, 0.016477428386018438, 0.010099069010785494, 0.526214648456718, 0.02445037760505962, 0.997733004258579, 0.9975203737870192, 0.9325831842210759, 0.06540486660800773, 0.9961412575255167, 0.9955224460701898, 0.9628303394685528, 0.035660382943279736, 0.998946458127525, 0.7808706725131775, 0.10577164586456468, 0.11220991996066862, 0.16667634662698222, 0.08087497607269827, 0.22907734339373417, 0.01642131493861894, 0.5065975658563943, 0.17057512242756784, 0.04026451387775207, 0.0819931918965133, 0.1200614595627516, 0.12079354163325619, 0.07906486361449497, 0.3872714152969244, 0.1024614398391758, 0.8970712519252839, 0.9869679064362697, 0.011834147559187887, 0.9827459597713777, 0.002783982888870758, 0.013919914444353792, 0.26573606175476217, 0.1379625741503349, 0.12765637166711802, 0.18000719564436732, 0.0678101277020746, 0.06417953364548686, 0.048368882108733705, 0.06078317146351766, 0.047549070547568725, 0.9944873419063848, 0.029769959142875432, 0.11292053467987233, 0.023610657251246035, 0.04722131450249207, 0.0010265503152715667, 0.7853109911827485, 0.09132032121978646, 0.013629898689520366, 0.2536675589438513, 0.09722661065191195, 0.31015591684597454, 0.0018173198252693823, 0.13130135737571286, 0.07829619580535588, 0.022565054497094828, 0.9974270875731528, 0.021802751700889952, 0.0457857785718689, 0.0034261466958541353, 0.6207554877124811, 0.24481375481285003, 0.02585183415962666, 0.037999081535836775, 0.9504856329148672, 0.013912496536089487, 0.0006048911537430211, 0.03488205653251422, 0.08452540765350247, 0.125222826153337, 0.6276794160936017, 0.04330622737802904, 0.06417669840358521, 0.018783423923000548, 0.032870991865250956, 0.0036523324294723287, 0.8282842463895521, 0.11072180157392471, 0.003193898122324751, 0.056425533494403934, 0.999255462618371, 0.9996083540911802, 0.9991534249735208, 0.9962819525390452, 0.4497474374549898, 0.19568953798133099, 0.02278012854481132, 0.0017382427403671288, 0.05910025317248238, 0.06340011679339054, 0.052879173891168446, 0.11627929068455899, 0.03824134028807684, 0.5056629653963873, 0.4940331823835909, 0.15483624674157165, 0.8434169537955529, 0.9947238484121151, 0.09435742548826169, 0.036977909988643094, 0.8453915283610473, 0.02295180619984744, 0.0015238203308843702, 0.07365131599274456, 0.11022300393396946, 0.20774750511056916, 0.022349364852970764, 0.5170830322800963, 0.06755603466920708, 0.9120192439444562, 0.05602286231998466, 0.03213075927175591, 0.007431962343780337, 0.9909283125040449, 0.8462363355350244, 0.06575222674392664, 0.04556059805878382, 0.005695074757347977, 0.0031064044130988968, 0.03339384744081314, 0.00025886703442490805, 0.9990245165159113, 0.9975488195073549, 0.9982427775683753, 0.13979440290412823, 0.44609551499979766, 0.16428068366759016, 0.05898967638470379, 0.0037842433907168465, 0.0721232269760152, 0.11486291703587605, 0.08227696780986114, 0.16520434643244847, 0.13886270851703839, 0.0032520540636308756, 0.32780704961399226, 0.10243970300437258, 0.0991876489407417, 0.0013008216254523502, 0.07935011915259337, 0.9982849504482504, 0.9587980475949862, 0.03835192190379945, 0.18934204130898566, 0.2142922856686673, 0.0013990791229728005, 0.44560670066683694, 0.09280558182386243, 0.056429524626569624, 0.24685750615827823, 0.1246498124665667, 0.11762872098885804, 0.02665979662550243, 0.07478988747994002, 0.08028465472336418, 0.12790597083304028, 0.17379745281052728, 0.027372081268168525, 0.8811697850098945, 0.026047157166959146, 0.004987753500056006, 0.08700858883431034, 0.0011083896666791125, 0.9961687166605268, 0.8497546791306166, 0.007486825366789574, 0.007486825366789574, 0.011230238050184362, 0.01283455777163927, 0.11123283402087367, 0.25445520791953674, 0.15260966958765235, 0.05647509602204182, 0.013325584454639081, 0.006662792227319541, 0.02823754801102091, 0.4825765227501439, 0.006028240586622441, 0.9996362859794122, 0.9599376624038441, 0.03809933776581262, 0.0008282464731698396, 0.9934270554926428, 0.9981973538157263, 0.9988859726453991, 0.9909068238022121, 0.9981081753752563, 0.9953252776506988, 0.998889709574009, 0.9986209376716672, 0.9990592500769634, 0.9991818473103933, 0.004417520666781023, 0.9895246293589491, 0.1479477748944416, 0.18794846958812397, 0.0005479547218312652, 0.10191957826061533, 0.0016438641654937958, 0.46685742300023797, 0.09260434798948383, 0.9962513587310821, 0.9941818588641145, 0.9978653266375145, 0.9967676424328422, 0.47203796168910805, 0.17712696919323812, 0.025973812183122492, 0.32467265228903114, 0.26143762057147074, 0.0006953128206688053, 0.002781251282675221, 0.16339851285716922, 0.5340002462736424, 0.03824220513678429, 0.9949103493549769, 0.9989486504654074, 0.010901859580865961, 0.987708478026456, 0.9983434038763515, 0.9699903172492284, 0.027897951602300818, 0.9971358900080534, 0.9984329311502096, 0.997428603558235, 0.9967972736219619, 0.9936912344716406, 0.9972586692276465, 0.997526751576097, 0.9940759534332494, 0.9949682042589625, 0.9947021080818554, 0.9989804306965744, 0.0308410916452457, 0.10632060540861019, 0.1558286735759783, 0.6655182933974073, 0.04058038374374435, 0.11171364645707507, 0.8862615952261289, 0.994369686505252, 0.993541781408278, 0.96812162526976, 0.02947442887238145, 0.0021906573682701036, 0.401766561340737, 0.5735140990131131, 0.018401521893468872, 0.003943183262886187, 0.39740507521475893, 0.023934623848161616, 0.2117988412224113, 0.003612773411043263, 0.015128488658743663, 0.17725169547931008, 0.15986522343866438, 0.010838320233129788, 0.002164587546227725, 0.9870519210798426, 0.010822937731138625, 0.9987700045084388, 0.0338911764736934, 0.10418398693765007, 0.8158986928852113, 0.04518823529825786, 0.9929087381002227, 0.11700181214895373, 0.8814136515221181, 0.4739503366540098, 0.4467932421272479, 0.05880101336664098, 0.020544932381115523, 0.14868285173933438, 0.03009269693885929, 0.6063945528123391, 0.08395684382646246, 0.00044515823874052206, 0.03721522875870764, 0.09312710354451721, 0.011890506648023703, 0.08963612703894791, 0.09969732497189104, 0.31098248156369684, 0.06859907681552137, 0.41982635011099073, 0.05615742562744051, 0.9419955266538409, 0.01413643225109691, 0.8199130705636208, 0.077750377381033, 0.08764587995680084, 0.9080113897352531, 0.0677405322500903, 0.024501894643649685, 0.04116209159522623, 0.9535884552894076, 0.9987968213082975, 0.9957543516332912, 0.99382756783706, 0.9997267204734858, 0.3428556866473134, 0.25720128854219465, 0.0007738062372248392, 0.18863015121273197, 0.08886867016743731, 0.028214165880351832, 0.04303553150104298, 0.050416452533033757, 0.9995802038454846, 0.9974977194208661, 0.35506157444248426, 0.003491264252138488, 0.058827802648533524, 0.21750576290822782, 0.2913460018409568, 0.0736656757201221, 0.8273960865900879, 0.0028268924589881284, 0.019081524098169867, 0.0005300423360602741, 0.056361168401075815, 0.07561937327793244, 0.018198120204736077, 0.9999053131053712, 0.7789458001526167, 0.05299702113015677, 0.05713741340595027, 0.03560737357182408, 0.062381910288622035, 0.012973229130819627, 0.003496862047622766, 0.9961061318513993, 0.9997557809397263, 0.09473463919225288, 0.01532012316970426, 0.5074399980495922, 0.04908692525803202, 0.05596534790565434, 0.03314149093854391, 0.2438713484157005, 0.0003126555748919237, 0.007122380077037223, 0.4107239177758132, 0.0010174828681481748, 0.5806435567565584, 0.1586129251344405, 0.003011637819008364, 0.4738310168573159, 0.35805027403766104, 0.00635790206235099, 0.017854996982693692, 0.6290772192739753, 0.072250452906714, 0.007058952295483552, 0.27363820957198004, 0.038539591624583695, 0.02684780540139538, 0.8179920065038044, 0.01342390270069769, 0.007361495029414863, 0.09569943538239321, 0.9970425383804381, 0.9991156674115342, 0.9617912472484411, 0.038030714074580196, 0.9664221065474181, 0.03200888505762149, 0.7594605352081787, 0.23928208643545357, 0.1051725921672289, 0.6858313573257953, 0.022978885683596233, 0.07954229659706388, 0.10428878887170596, 0.0017676065910458639, 0.2850846219285396, 0.15996301036321003, 0.18906582582967488, 0.07952036902104483, 0.10934050740393664, 0.011784590769871334, 0.07132239283330825, 0.0904851621721425, 0.003484139879788047, 0.036693104574270455, 0.005241872082038636, 0.11532118580485, 0.8400100011466914, 0.36828631617652213, 0.054801003847066494, 0.5762944275530218, 0.998920261089749, 0.9960551669997738, 0.9958445732533232, 0.4816494917306357, 0.009487514610583763, 0.06419884886495013, 0.33870427159784033, 0.06483134983898904, 0.023718786526459406, 0.017393776786070233, 0.9964068174199713, 0.14092199649160095, 0.06939109154792499, 0.6119866311847834, 0.1066849821595851, 0.07122521731571155, 0.29436953649254677, 0.3480766805639352, 0.022208017379730244, 0.23613014397631543, 0.0990296285198175, 0.9753678085084204, 0.0010555928663511043, 0.023223043059724297, 0.999454708177308, 0.9396117425936803, 0.05760833094126158, 0.9973258994876816, 0.8809088975449219, 0.026610212134774228, 0.012196347228438188, 0.006098173614219094, 0.0659711509174611, 0.006098173614219094, 0.0022175176778978524, 0.9970364541338892, 0.3364606757242531, 0.5796890812666678, 0.08371877322450784, 0.9993452507722747, 0.9986785678956571, 0.9983767255500813, 0.9997440430181215, 0.9188801915430588, 0.08084568208855239, 0.998556035327663, 0.5910378048894999, 0.012132209843013633, 0.12023563187703062, 0.009778198977951286, 0.08456331338339353, 0.18198314764520448, 0.032218681948066125, 0.2374636188024133, 0.7290968396395705, 0.8583193861986605, 0.11795693601757208, 0.023487000534472315, 0.9972648838804145, 0.09087236002028874, 0.9087236002028873, 0.03661121759850063, 0.9626225316847149, 0.9997188504812055, 0.9995957133485004, 0.09985919990243985, 0.038489247564528324, 0.01986541809782107, 0.00017736980444483098, 0.007449531786682902, 0.06899685392903926, 0.7396320845349452, 0.016318022008924453, 0.009400599635576042, 0.12423744039349244, 0.6964135420222374, 0.04559172124531832, 0.0843446843038389, 0.01823668849812733, 0.02963461880945691, 0.1613434769190951, 0.550091343520599, 0.08017222305112928, 0.0002497577042091255, 0.04108514234240115, 0.0008741519647319393, 0.16471520592591826, 0.0014985462252547531, 0.1130514512964073, 0.8865310236866225, 0.0015026312248479366, 0.017280259085751273, 0.9804668742132787, 0.11169680152860785, 0.7019477894229025, 0.00204948259685519, 0.18342869241853949, 0.40491299888221793, 0.053945070477085216, 0.003899643648945919, 0.13518764649679185, 0.03314697101604031, 0.369166265433547, 0.7505166148127446, 0.07004821738252281, 0.0691100716140069, 0.010319603453675236, 0.07286265468807061, 0.023766359469070242, 0.0034398678178917457, 0.6403510879808596, 0.1766591335237657, 0.08496171499626513, 0.010715891981510918, 0.03429085434083494, 0.003827104279111042, 0.043169736268372554, 0.005970282675413226, 0.9974926326780599, 0.4882782836513486, 0.0015750912375849955, 0.07222918389496907, 0.33931965518259616, 0.00922553439156926, 0.05805336275670412, 0.031276811717759194, 0.992282644499763, 0.9938214132483034, 0.31811606578101914, 0.008477146212958434, 0.018738954786539697, 0.0022308279507785352, 0.15035780388247327, 0.42296497946761025, 0.07897130945756015, 0.17572160503152123, 0.14111202432793335, 0.10724513848922936, 0.1773555337342657, 0.39763883065881855, 0.0010397728108374037, 0.9891280398337886, 0.9948001885198023, 0.4243397712208922, 0.07300469182294919, 0.3782970394461913, 0.022813966194671624, 0.02613236127753295, 0.01742157418502197, 0.058071913950073224, 0.9944561526849782, 0.1969209430544137, 0.09967818053902744, 0.11011568635463241, 0.15708446252485475, 0.08002087791963808, 0.07741150146573685, 0.05079586163594418, 0.16873967735228032, 0.059319824718688234, 0.9965228127960434, 0.9655284609352176, 0.0016589836098543258, 0.03152068858723219, 0.9950368016142809, 0.9983822435814977, 0.9983375917097188, 0.9991122540441851, 0.9929437181844358, 0.996765266740185, 0.9913169973732283, 0.9982232012694382, 0.9987939857714981, 0.3997438065793939, 0.004508388796008202, 0.17006644402719828, 0.002003728353781423, 0.42353808078054833, 0.6018016038560197, 0.3617648277725391, 0.000683865458927295, 0.00136773091785459, 0.034193272946364754, 0.995277673003132, 0.9964767266587714, 0.027956396645141227, 0.1134080241265163, 0.8582086290876373, 0.9985243445617276, 0.0039495536318729565, 0.24980926721596453, 0.7464656364239889, 0.9966157481877803, 0.9939065951047689, 0.997942759487931, 0.9164402235364074, 0.08331274759421886, 0.9976092465898757, 0.997413801374274, 0.9944736645275509, 0.5763748868938678, 0.09921349241748191, 0.13078142182304434, 0.015783964702781213, 0.08377642803783875, 0.04873949540089583, 0.0031221029082424377, 0.04214838926127291, 0.056624232049328774, 0.7350702891126887, 0.003134182585756205, 0.19954295795981172, 0.005432583148644089, 0.9975696313891766, 0.03361445554597049, 0.2103614314812347, 0.06180722471355865, 0.053132526508146906, 0.6408433299247923, 0.9932814780296335, 0.9952486160100121, 0.0038168690930393562, 0.981025818681869, 0.018095337894000217, 0.9040530414319009, 0.06658328455717764, 0.029592570914301175, 0.9961339840191658, 0.2844406230194824, 0.0025773038329607143, 0.026163538910358764, 0.032567748434685385, 0.2571055823668688, 0.16666564786479285, 0.2127447163934844, 0.016947725204620453, 0.0007810011615032467, 0.9975907582210726, 0.9914703521850293, 0.4958626265001234, 0.06969956597391293, 0.019914161706832266, 0.052630284510913845, 0.02418148207258204, 0.058320044998580206, 0.27936723994441837, 0.9971675017175724, 0.9962627617130522, 0.9980325554154191, 0.9227228744987522, 0.07700233323256914, 0.9970901200364454, 0.9567191349901636, 0.04174167255628986, 0.9913336660568824, 0.996040519500904, 0.9434692039278251, 0.02230863142292394, 0.01952005249505845, 0.01487242094861596, 0.9978502714555493, 0.9949956910512792, 0.9938869729783605, 0.994839704842037, 0.9971886070141965, 0.9974636953908562, 0.5254317931306991, 0.0008912097290804202, 0.10452616965357499, 0.368833512163711, 0.0002546313511658343, 0.9982394367295655, 0.9997634839316928, 0.28935604884446103, 0.263932858425757, 0.03655778321486585, 0.3036446464670034, 0.01032219761360918, 0.02800373982210639, 0.001051334942126861, 0.05237559529868362, 0.014718689189776054, 0.8513932321152926, 0.11789227405906799, 0.030734561719679206, 0.9991018273869665, 0.9941703358355517, 0.9996896539311265, 0.895297011239079, 0.031947726824164246, 0.0654167739732887, 0.00684594146232091, 0.8903457737069156, 0.01286431155926342, 0.005416552235479335, 0.09140431897371377, 0.9957797134666551, 0.7468716662568349, 0.031767649593199554, 0.004646611433035159, 0.05319895946801478, 0.06363012799115493, 0.09852712814129654, 0.0014224320713372934, 0.924932289808531, 0.0744090131312362, 0.990972069538198, 0.998352848980691, 0.9964178943062193, 0.9954522889311255, 0.9996703361180734, 0.039541632922923134, 0.11497921630069848, 0.8452374583665981, 0.999682674318888, 0.9991035583012144, 0.002710076729435217, 0.002710076729435217, 0.2811704606789038, 0.43880659044105225, 0.011743665827552608, 0.26265160302776314, 0.979925270820153, 0.014847352588184136, 0.9945124574835679, 0.994431133560693, 0.9979199155748263, 0.9904097313122747, 0.8398990140598401, 0.0012079084574206712, 0.0444241888229158, 0.05811381800701674, 0.055966425193824436, 0.0004026361524735571, 0.9937808304944769, 0.08478623387112565, 0.9114520141146008, 0.9972955332631543, 0.0008074032574217835, 0.2212284925335687, 0.7775293368971775, 0.006404542345462395, 0.98950179237394, 0.9933221605555662, 0.06312530713291178, 0.08504381655406171, 0.6829807535630317, 0.009644144145305967, 0.13238779690374552, 0.026302211305379908, 0.8266262433601929, 0.17255258194731896, 0.852514556574387, 0.010600639119707692, 0.06918311846546073, 0.04463426997771659, 0.023432991738301212, 0.8874606667757273, 0.007902047032934558, 0.10394231097167765, 0.9911280724448764, 0.007857187437275351, 0.9946461983113161, 0.9964927058524167, 0.561546395634316, 0.20008883869787777, 0.035057406361814356, 0.0021976284585017956, 0.019255411255444305, 0.08560286090735565, 0.012348578957295804, 0.08382382834571134, 0.6373409964681443, 0.14865626821657973, 0.07669449919418644, 0.0007281123341220232, 0.09368378699036699, 0.0020629849466790658, 0.0012135205568700386, 0.02912449336488093, 0.010436276789082332, 0.07002883841141146, 0.8550295270554593, 0.013553968724789315, 0.03501441920570573, 0.02710793744957863, 0.9484714175178857, 0.05115106898834266, 0.025221620432330945, 0.06190761378844869, 0.9125640847334288, 0.9951909512096732, 0.9981290675304089, 0.8113883613190652, 0.03186194210666582, 0.005078864993341501, 0.03336973015156408, 0.10744973751538113, 0.01079258811085069, 0.8325963228428529, 0.001244538599167194, 0.06181208375863731, 0.026965002981955873, 0.030698618779457454, 0.012860232191394339, 0.0016593847988895921, 0.016179001789173524, 0.016179001789173524, 0.8209371007773878, 0.03784006948895772, 0.036022891010674435, 0.00048101783248675063, 0.02073721322276214, 0.07584047825541101, 0.0081238567264429, 0.9971814520279204, 0.9991749399284814, 0.19915277216569002, 0.06559631368068722, 0.7345605216675155, 0.995970673570685, 0.9952767981075313, 0.9970890324920402, 0.9998511633881898, 0.9286306517133494, 0.005036951266689765, 0.06593827112757511, 0.9962359464179604, 0.9988946991723111, 0.9951767462505948, 0.9965785512901827, 0.9952104998987626, 0.9969645339560481, 0.46577929592741885, 0.039131539543657536, 0.2724011053670141, 0.0015196714385886422, 0.2072451924375261, 0.00037991785964716055, 0.0134870840174742, 0.007458721413270682, 0.9882805872583654, 0.9519853030718619, 0.009129763150645582, 0.039008988007303846, 0.7462110433361058, 0.007034038921832401, 0.0008038901624951314, 0.02311184217173503, 0.2228785475517752, 0.8297590246577292, 0.020471028568858452, 0.00034118380948097417, 0.1490973247431857, 0.00034118380948097417, 0.7868830030560916, 0.08656915382975754, 0.00021860897431756954, 0.001967480768858126, 0.1241698974123795, 0.3772862034834962, 0.12208184586314272, 0.04885811918639288, 0.19492485992285574, 0.07335063088242878, 0.1422596145660946, 0.033629614504919775, 0.007614252340736552, 0.8366841872093467, 0.16286955813307638, 0.9972785570134942, 0.9978103285128527, 0.49137140525816037, 0.4250866995635112, 0.07291317626411412, 0.0002881943725854313, 0.010086803040490096, 0.999105029784688, 0.29458435180914594, 0.04651331870670725, 0.6580773239245249, 0.9943729284463706, 0.9973106403063086, 0.9591220313624712, 0.022211247042078282, 0.01817283848897314, 0.999627068670837, 0.7143608517764549, 0.04193489003677458, 0.0448703323393488, 0.061853962804242504, 0.11741769210296882, 0.01740297936526145, 0.0020967445018387288, 0.19301842017275925, 0.161161011018032, 0.16209799364022986, 0.13398851497429404, 0.11962144810059352, 0.026235513421540093, 0.044038183243299445, 0.1599117008551015, 0.93173817824984, 0.06601383853996842, 0.9981004769223464, 0.05494706383237169, 0.009157843972061949, 0.8199322969652798, 0.10684151300738941, 0.009157843972061949, 0.9992291830379361, 0.9941894070113725, 0.010415424406184233, 0.942595908759673, 0.04686940982782905, 0.04003178729128969, 0.958260908285247, 0.9924565492948978, 0.9945719751122941, 0.9016548328590828, 0.052985692369209046, 0.0008980625825289669, 0.044903129126448345, 0.9296674688694692, 0.02719083126219896, 0.02524862902918475, 0.017803520469296938, 0.13849753225184375, 0.34506211107114654, 0.16969492859526247, 0.028361269403107934, 0.31859159296157913, 0.9914954178381769, 0.2514455541615328, 0.609755468841717, 0.00073954574753392, 0.10094799453838009, 0.036607514502929046, 0.17507487524271323, 0.12481886039818205, 0.08403375031193396, 0.2069912768269852, 0.07883296446200971, 0.04757350424825447, 0.07609570875152326, 0.19007503653617897, 0.016478279377128417, 0.04420648202266392, 0.9548600116895407, 0.07180276442372227, 0.0075221943681994755, 0.920443056326954, 0.9997194149113938, 0.9984871719094035, 0.9968793663811287, 0.06802079280679418, 0.092709821307038, 0.0015115731734843152, 0.8374115381103107, 0.9990585173573193, 0.9994911120033698, 0.998536952434455, 0.9952240816052972, 0.04182572826061348, 0.048796682970715724, 0.906224112313292, 0.9984125562032179, 0.997719662162779, 0.9967066278620975, 0.17209927558887447, 0.7405185972481284, 0.08654135001040544, 0.6990203153571545, 0.12154018641078343, 0.023651063301557855, 9.385342579983277e-05, 0.037916784023132435, 0.0054434986963903, 0.07620898174946421, 0.036227422358735446, 0.9956954043004553, 0.7527291100688395, 0.03490243168789055, 0.21174141890653597, 0.0011634143895963515, 0.9960078162115918, 0.9944262818343816, 0.9952967202697413, 0.9941277953888291, 0.9985621144699839, 0.9956434536223648, 0.998636038398115, 0.9976821429867385, 0.998325468485316, 0.09586634342433739, 0.9024218461010959, 0.9983894353037501, 0.9994529852360161, 0.9996450101310655, 0.9942539546410222, 0.9962673057498275, 0.0955051495927002, 0.11640481760701789, 0.08575197118601861, 0.24332280154851074, 0.14351105369831477, 0.09829177199460923, 0.09740511941218363, 0.0834720074026385, 0.03635275587944955, 0.995505049435044, 0.9494149227122254, 0.0490020605270826, 0.9977706524850132, 0.9961907286975269, 0.6611509193065611, 0.07820064636959326, 0.03573788753008439, 0.06052384178482033, 0.0772399504682469, 0.03439291326819949, 0.05264613539378023, 0.20694084095371162, 0.06587215722218437, 0.11610343693042542, 0.3696661243199296, 0.030078610603737156, 0.10768142596137902, 0.0066172943328221745, 0.0003007861060373715, 0.0962515539319589, 0.2757360843716071, 0.001628362702981932, 0.0035281191897941857, 0.59001008604712, 0.027682165950692842, 0.029853316221335417, 0.04233743027753023, 0.02903913486984445, 0.9995825518520982, 0.9928294986463204, 0.22212321514135383, 0.0052002090501320295, 0.5742516565360084, 0.15823493252544604, 0.03937301137957108, 0.7731226013068959, 0.04277543509145509, 0.05369899488807966, 0.013169525362285694, 0.08177356445884373, 0.008983862262644506, 0.010106845045475068, 0.0005104467194684377, 0.015721758959627883, 0.690164478168735, 0.07414990261316988, 0.04840950249498862, 0.003802559108367686, 0.06230346846787055, 0.015210236433470744, 0.08848262540624809, 0.017404020534452103, 0.9940282818232381, 0.9973734954797374, 0.9979131644043241, 0.9994861184602217, 0.002726153282964614, 0.5125168171973474, 0.4114013136110235, 0.0007434963498994401, 0.028500693412811872, 0.044114116760700116, 0.9993066527171997, 0.002753836493435544, 0.05989594373222309, 0.9369928668914439, 0.9782843475640233, 0.021443281609262205, 0.9715801060133324, 0.02823081817472702, 0.9991800032238818, 0.9980603177911527, 0.10953851384831396, 0.061790956529818135, 0.8271562135468836, 0.9971985215592942, 0.14825274280792575, 0.8509181096076212, 0.9965583674526717, 0.0711284794205616, 0.9288056091777984, 0.22729939271468205, 0.003438720010812134, 0.2857576328984883, 0.11966745637626226, 0.36381657714392374, 0.9623011977393529, 0.0357103960098588, 0.9926882802964818, 0.9971084622127061, 0.9928896847793865, 0.1488033592005991, 0.6432741490907886, 0.2033337827585826, 0.0036969778683378657, 0.9945832736408202, 0.9927268005970995, 0.0035328355893135214, 0.7552347126039155, 0.01907822880271215, 0.19867672753169205, 0.02664373332792559, 0.30748861232185004, 0.08118936536578605, 0.5520876844873451, 0.05902337990084129, 0.9981714883435379, 0.9974261809557722, 0.5812195948834745, 0.015302317278687319, 0.023087706771352797, 0.35195329740980835, 0.02845694090422554, 0.739696770479646, 0.255609501768063, 0.0045219558040905, 0.046214934831253385, 0.03792526042205995, 0.07709397200549892, 0.4642217669148322, 0.30381656709693927, 0.07004774875768449, 0.0006217255806895074, 0.05632874541493658, 0.9426781217970268, 0.20567150483099286, 0.7384630727755332, 0.0037225611734116354, 0.05165053628108644, 0.14182168867252892, 0.7894232347972667, 0.006608179042089162, 0.0620152187026829, 0.01972009853456524, 0.9802048977475076, 0.035144549879108915, 0.9646573001300239, 0.3774723471810999, 0.16500974994509912, 0.16314604295180085, 0.008458362508045915, 0.03318832068834965, 0.031969743038885404, 0.04315198499867492, 0.16802035354965783, 0.009605259119306377, 0.059766028046343726, 0.07747448080081594, 0.06696008697784807, 0.010514393822967878, 0.7858125909797046, 0.049865361501147495, 0.9492227742897006, 0.9984234505924211, 0.9951411430824787, 0.9928785151339419, 0.9965499251129009, 0.997678134760625, 0.9976764192095178, 0.9976140055709488, 0.005633348677246524, 0.08731690449732113, 0.9041524626980671, 0.14615304569734544, 0.07744862250628562, 0.053714367222101315, 0.19174779926959423, 0.5302732299019072, 0.995185258309434, 0.0022313570814112872, 0.9971360950897667, 0.9948667717875094, 0.9987847081983926, 0.17371265845368003, 0.14411357419201948, 0.0533753978488961, 0.007763694232566705, 0.013101234017456316, 0.6079943045878801, 0.12119076450941306, 0.08813873782502768, 0.18154663932437767, 0.04071626475612692, 0.24142349925985843, 0.3271671626874669, 0.0647828352281347, 0.07895408043428917, 0.130577902256709, 0.07794184863384956, 0.005061159002198024, 0.051117705922200045, 0.05719109672483767, 0.007591738503297036, 0.4033743724751825, 0.12298616375341198, 0.9981769750946049, 0.14008074348753333, 0.020574359199731454, 0.05953431598220166, 0.7796368879728026, 0.2171692609790439, 0.04697947278322174, 0.002659215440559721, 0.031910585286716656, 0.7020328763077663, 0.9977523895698652, 0.04976629575496264, 0.9497068106572037, 0.9978897402001018, 0.9957243679923714, 0.4442264249128082, 0.22342196034124825, 0.06992452984738648, 0.23557461927194376, 0.026735849647530126, 0.28422560203223163, 0.29193553405216754, 0.22692205323541076, 0.007293178937777205, 0.002292141951872836, 0.18462161539630295, 0.00041675308215869745, 0.002292141951872836, 0.18659715397409846, 0.6203791388603446, 0.19272037664336938, 0.9982794834476129, 0.9193641443688075, 0.0009338386433405866, 0.0056030318600435195, 0.042489658271996696, 0.031283594551909655, 0.10504926834929561, 0.8710335167295762, 0.021885264239436587, 0.13276939360965007, 0.12828141410735203, 0.09929654648834392, 0.09162958150525145, 0.06769369082632862, 0.08882459431631518, 0.0740516617879175, 0.16362425268794903, 0.15352629880777846, 0.061194121402776906, 0.9385800342306709, 0.6251602862183298, 0.12603831715055128, 0.10335483111398386, 0.014155859707030793, 0.05005716655437997, 0.032746085105420625, 0.0012791439494304934, 0.04715777360233752, 0.9970147596716583, 0.17067316091092147, 0.08533658045546073, 0.033601278554337664, 0.6933597162006185, 0.016533962463245518, 0.9959401407689192, 0.9995214557815051, 0.9533433193885646, 0.046469498482759185, 0.9990363242662345, 0.998582050367759, 0.20248688663870074, 0.6411074329952875, 0.08002475759373802, 0.009396846535628329, 0.030009284097651755, 0.01939994123484558, 0.017581196744078806, 0.1541562693122211, 0.8436552193268827, 0.9972952731903756, 0.99594547272813, 0.4017252276428489, 0.005573782706247132, 0.12035241917563252, 0.4721200388587849, 0.9982560349442903, 0.0790416127047276, 0.6032455881624811, 0.2510361619502149, 0.034778309590080145, 0.03098431218025322, 0.9980214111725231, 0.9964632304106585, 0.022801948178866622, 0.7654939745762366, 0.07939964097998199, 0.0631125351379344, 0.007736375274972604, 0.010993796443382121, 0.05049002811034752, 0.9910220286897842, 0.9970423912694395, 0.9907446861383934, 0.997741988733547, 0.9947797337731991, 0.21793290415834113, 0.03899215622250486, 0.009672472861396556, 0.06831183958361317, 0.044432922207040426, 0.5882072558836781, 0.032342331130294735, 0.14992309319144567, 0.020748285218459, 0.013385990463521935, 0.767686553082983, 0.04818956566867896, 0.16322250089324067, 0.07893755893432856, 0.47286144174531664, 0.039978054040934144, 0.1723894432210982, 0.02011634566390954, 0.0239359049671835, 0.028774013417997187, 0.01650083524734768, 0.9595870343842189, 0.022847310342481403, 0.9990116851542835, 0.9975515459044304, 0.9985465114745464, 0.9982574895479148, 0.9988375543717742, 0.9976850287386627, 0.9991371651731765, 0.14891049264280337, 0.847962527549297, 0.0027576017156074697, 0.00171795152578564, 0.9981298364814568, 0.9732766964645595, 0.023196266847218896, 0.002899533355902362, 0.9992999416429375, 0.9958033525122231, 0.9939815857000176, 0.9959798016965626, 0.999614180708105, 0.9955077727840389, 0.9986666155203575, 0.9961548714095327, 0.99894073342537, 0.2201966428667979, 0.01923525957846799, 0.09375507640693839, 0.00047079306660585994, 0.2025755309452643, 0.45720732382666224, 0.006591102932482039, 0.31854006684705766, 0.15294103829295477, 0.05876094561597199, 0.0018580536163153199, 0.2431727670352675, 0.20601169470896108, 0.018696664514172907, 0.9971395605433386, 0.043535193109163574, 0.9553556265622005, 0.9953093330245317, 0.3953764122268233, 0.5579861095862761, 0.008918264937447141, 0.007134611949957713, 0.001189101991659619, 0.0017836529874894283, 0.027349345808171235, 0.32974156361313195, 0.02649532451978394, 0.06004288715801783, 0.00026363506984859644, 0.013840841167051312, 0.09859951612337506, 6.590876746214911e-05, 0.47104996105197966, 0.8030269104317829, 0.02246229120088903, 0.002021606208080013, 0.07670872445103605, 0.0011231145600444515, 0.008086424832320051, 0.08670444403543166, 0.9930541746662914, 0.9976784183776797, 0.9968265157631249, 0.8697999548387267, 0.12100039694329061, 0.008768144706035551, 0.025284316941775388, 0.8940534470611776, 0.058659615304918894, 0.021238826231091325, 0.9965373891182701, 0.2150994882043307, 0.7749577379905155, 0.009743182392530659, 0.9987018765271574, 0.9959231539943985, 0.0674234022866544, 0.20938368508286712, 0.2455696395211174, 0.0015464083093269358, 0.02597965959669252, 0.0034020982805192585, 0.02690750458228868, 0.27742565069325226, 0.14257884611994348, 0.3877851035261111, 0.02291612320925393, 0.1714023787993268, 0.10461338030098076, 0.20513763824491993, 0.012863697414860013, 0.0001703800982100664, 0.06065531496278363, 0.034501969887538446, 0.0834317795140708, 0.11371662474693636, 0.14429838022718294, 0.24643550532625894, 0.37856056541081945, 0.006532025442382767, 0.023158999295720722, 0.0038598332159534535, 0.9955823493329178, 0.0016675856752052082, 0.8204521522009623, 0.17509649589654686, 0.0016675856752052082, 0.9964005731511051, 0.23724516439421858, 0.07731511270665731, 0.09976143575052555, 0.02494035893763139, 0.2600032419248072, 0.011534916008654517, 0.014964215362578833, 0.27434394831394526, 0.9974962061867066, 0.9368883894630189, 0.06253788997675064, 0.9585093008730775, 0.04105874405512444, 0.12126709150584955, 0.0741076670313525, 0.8041600562988912, 0.9437894661247445, 0.0553255893935195, 0.062434673458948195, 0.10462026363391319, 0.8318998382503097, 0.9984919221002754, 0.01726369230917578, 0.9805777231611842, 0.6642067542408892, 0.24210724410693407, 0.009764286326956039, 0.020822634697243603, 0.06317375611536619, 0.9984876952216404, 0.9985711250115453, 0.9970489609242325, 0.9998961594452277, 0.9994749082538149, 0.9967936186386467, 0.9948879342849102, 0.0023973203235780967, 0.9984458445010481, 0.99660940471802, 0.993286174634684, 0.001077281343117429, 0.9975625237267393, 0.9993842931316618, 0.9992351014461461, 0.9980708620106631, 0.7645609518770219, 0.23411383629889498, 0.36324601594945455, 0.144171459660067, 0.144171459660067, 0.025356301193583213, 0.020207320491437964, 0.057415992357883826, 0.09287595379718602, 0.14203414691578028, 0.01049226256286202, 0.9963707660062391, 0.9997712845799201, 0.9996379207368261, 0.996583867096267, 0.0016749308690693562, 0.9898273943494849, 0.1991814575552394, 0.17377042108878488, 0.12808189087637173, 0.10844608997047506, 0.11306627841892133, 0.0550572456773181, 0.08123831355184699, 0.08393342348010732, 0.05711066276551645, 0.07982176721692279, 0.15437670228610142, 0.1519188472838208, 0.16947495444296803, 0.09339849008666333, 0.023759265022045933, 0.10299582866699715, 0.1503973179966947, 0.07385269078281273, 0.41693821843500395, 0.5827690754674472, 0.050272547217756765, 0.6237386751231678, 0.32569428804646705, 0.24838452618879103, 0.23765186147692968, 0.08779803914665518, 0.010167787621763374, 0.06383111118107007, 0.07012545589930455, 0.0740795955299903, 0.13105148490272794, 0.07706537443479383, 0.015801111696023783, 0.88950964077028, 0.09387719301755307, 0.9944352709031578, 0.997453522712686, 0.3118038126744204, 0.027149144639197556, 0.03702156087163303, 0.6236076253488408, 0.8967697211513888, 0.08123301407330816, 0.021377108966660043, 0.9976154915016582, 0.8388546783165005, 0.15929246571400624, 0.998808498345488, 0.9943344606969129, 0.7185869423804078, 0.18257922311723634, 0.04640980252421371, 0.05201977865351426, 0.9910559792128071, 0.14800619848699167, 0.003490712228466785, 0.6024969306333671, 0.04468111652437484, 0.021642415816494065, 0.06562538989517555, 0.0956455150599899, 0.01815170358802728, 0.03882470125390098, 0.08705784238221355, 0.828299991475096, 0.03989654883453015, 0.00571652043002223, 0.9993752454454327, 0.9928565514575995, 0.06949261253798716, 0.1199391016396371, 0.026595938131822247, 0.018188189948213924, 0.7445146809933982, 0.0030885605572438736, 0.018016603250589264, 0.3969065027131934, 0.1078536017290066, 0.15259578930758474, 0.08344877214069124, 0.13895007813992455, 0.05865031626869337, 0.02571691720059038, 0.0010496700898200155, 0.03477032172528802, 0.9961094292608457, 0.9966182561007625, 0.18980065282666095, 0.8071320690911541], \"Term\": [\"abstractive\", \"accuracy\", \"accuracy\", \"accuracy\", \"accuracy\", \"accuracy\", \"accuracy\", \"accuracy\", \"accuracy\", \"ace\", \"achieved\", \"achieved\", \"achieved\", \"achieved\", \"achieved\", \"achieved\", \"acl\", \"activities\", \"adaptation\", \"adaptation\", \"adequacy\", \"adjectives\", \"agent\", \"agent\", \"agents\", \"agreement\", \"agreement\", \"agreement\", \"algorithm\", \"algorithm\", \"algorithm\", \"algorithm\", \"algorithm\", \"algorithms\", \"algorithms\", \"algorithms\", \"algorithms\", \"algorithms\", \"algorithms\", \"algorithms\", \"alignment\", \"alignment\", \"alignments\", \"alignments\", \"alleviate\", \"alleviate\", \"alleviate\", \"also\", \"also\", \"also\", \"also\", \"also\", \"also\", \"also\", \"also\", \"also\", \"amr\", \"analyse\", \"analyse\", \"analyse\", \"analyse\", \"analyse\", \"analyse\", \"analysis\", \"analysis\", \"analysis\", \"analysis\", \"analysis\", \"analysis\", \"analysis\", \"analysis\", \"analysis\", \"anaphora\", \"annotated\", \"annotated\", \"annotated\", \"annotated\", \"annotated\", \"annotated\", \"annotated\", \"annotation\", \"annotation\", \"annotation\", \"annotation\", \"annotations\", \"annotations\", \"annotations\", \"annotations\", \"annotations\", \"annotations\", \"annotations\", \"annotations\", \"annotators\", \"annotators\", \"annotators\", \"annotators\", \"answer\", \"answering\", \"answers\", \"ape\", \"approach\", \"approach\", \"approach\", \"approach\", \"approach\", \"approach\", \"approach\", \"approach\", \"approach\", \"arabic\", \"arabic\", \"argument\", \"argument\", \"argumentation\", \"arguments\", \"arguments\", \"arguments\", \"arguments\", \"article\", \"article\", \"article\", \"article\", \"article\", \"article\", \"article\", \"articles\", \"articles\", \"articles\", \"asr\", \"asr\", \"attention\", \"attention\", \"attention\", \"attention\", \"attention\", \"attention\", \"attention\", \"au\", \"audience\", \"author\", \"automatic\", \"automatic\", \"automatic\", \"automatic\", \"automatic\", \"automatic\", \"automatic\", \"automatically\", \"automatically\", \"automatically\", \"automatically\", \"automatically\", \"automatically\", \"automatically\", \"automatically\", \"automatically\", \"automatique\", \"auxiliary\", \"auxiliary\", \"available\", \"available\", \"available\", \"available\", \"available\", \"available\", \"based\", \"based\", \"based\", \"based\", \"based\", \"based\", \"based\", \"based\", \"based\", \"baselines\", \"baselines\", \"baselines\", \"baselines\", \"baselines\", \"basque\", \"benchmark\", \"benchmark\", \"benchmark\", \"benchmark\", \"benchmark\", \"benchmark\", \"best\", \"best\", \"best\", \"best\", \"best\", \"best\", \"best\", \"best\", \"bilingual\", \"bleu\", \"bleu\", \"bleu\", \"broadcast\", \"business\", \"campaign\", \"captioning\", \"captions\", \"catalan\", \"ce\", \"ces\", \"cet\", \"cette\", \"children\", \"children\", \"chinese\", \"chinese\", \"chinese\", \"chinese\", \"chinese\", \"chinese\", \"chinese\", \"chunks\", \"cl\", \"claim\", \"claims\", \"classification\", \"classification\", \"classification\", \"classification\", \"classifier\", \"classifier\", \"classifier\", \"classifier\", \"classifier\", \"classifier\", \"clause\", \"clinical\", \"cnn\", \"cnn\", \"cnns\", \"cognitive\", \"cognitive\", \"coherence\", \"collocations\", \"comments\", \"commonsense\", \"companies\", \"competition\", \"compilation\", \"completed\", \"compound\", \"compounds\", \"comprehension\", \"concepts\", \"concepts\", \"concepts\", \"concepts\", \"concepts\", \"conceptual\", \"conceptual\", \"consortium\", \"constituency\", \"constructions\", \"constructions\", \"content\", \"content\", \"content\", \"content\", \"content\", \"context\", \"context\", \"context\", \"context\", \"context\", \"context\", \"context\", \"context\", \"conversation\", \"conversation\", \"conversation\", \"conversational\", \"conversations\", \"conversations\", \"conversations\", \"conversations\", \"convolution\", \"coreference\", \"coreference\", \"corpora\", \"corpora\", \"corpora\", \"corpora\", \"corpus\", \"corpus\", \"corpus\", \"corpus\", \"corpus\", \"corpus\", \"corpus\", \"correct\", \"correct\", \"correct\", \"correct\", \"correct\", \"correct\", \"correction\", \"correction\", \"correlation\", \"correlation\", \"correlation\", \"correlation\", \"creation\", \"creation\", \"creation\", \"crf\", \"crf\", \"czech\", \"da\", \"danish\", \"dans\", \"data\", \"data\", \"data\", \"data\", \"data\", \"data\", \"data\", \"data\", \"database\", \"databases\", \"dataset\", \"dataset\", \"dataset\", \"dataset\", \"dataset\", \"dataset\", \"datasets\", \"datasets\", \"datasets\", \"datasets\", \"datasets\", \"datasets\", \"datasets\", \"de\", \"demonstrate\", \"demonstrate\", \"demonstrate\", \"demonstrate\", \"demonstrate\", \"demonstrate\", \"dependency\", \"dependency\", \"des\", \"describe\", \"describe\", \"describe\", \"describe\", \"describe\", \"describe\", \"describe\", \"describe\", \"describes\", \"describes\", \"describes\", \"describes\", \"detection\", \"detection\", \"detection\", \"detection\", \"detection\", \"developed\", \"developed\", \"developed\", \"developed\", \"developed\", \"development\", \"development\", \"development\", \"development\", \"development\", \"development\", \"diagnosis\", \"dialog\", \"dialogue\", \"dialogue\", \"dialogues\", \"dialogues\", \"dictionaries\", \"dictionaries\", \"differences\", \"differences\", \"differences\", \"differences\", \"differences\", \"differences\", \"different\", \"different\", \"different\", \"different\", \"different\", \"different\", \"different\", \"different\", \"different\", \"disambiguation\", \"disambiguation\", \"disambiguation\", \"disambiguation\", \"discourse\", \"discourse\", \"discourse\", \"discriminative\", \"discriminator\", \"discusses\", \"document\", \"document\", \"document\", \"document\", \"document\", \"document\", \"document\", \"documentation\", \"documents\", \"documents\", \"documents\", \"documents\", \"documents\", \"domain\", \"domain\", \"domain\", \"domain\", \"domain\", \"downstream\", \"downstream\", \"downstream\", \"du\", \"dutch\", \"dutch\", \"edition\", \"effectiveness\", \"effectiveness\", \"effectiveness\", \"effectiveness\", \"effectiveness\", \"effectiveness\", \"effectiveness\", \"email\", \"embeddings\", \"embeddings\", \"embeddings\", \"emotion\", \"emotional\", \"emotions\", \"en\", \"encoder\", \"encoder\", \"encoders\", \"english\", \"english\", \"english\", \"english\", \"english\", \"english\", \"ensemble\", \"ensemble\", \"ensemble\", \"entity\", \"entity\", \"entity\", \"entry\", \"error\", \"error\", \"errors\", \"errors\", \"es\", \"est\", \"et\", \"et\", \"et\", \"et\", \"et\", \"et\", \"et\", \"et\", \"et\", \"evaluating\", \"evaluating\", \"evaluating\", \"evaluating\", \"evaluating\", \"evaluating\", \"evaluation\", \"evaluation\", \"evaluation\", \"evaluation\", \"evaluation\", \"evaluation\", \"evaluation\", \"evaluation\", \"event\", \"event\", \"events\", \"events\", \"events\", \"evidence\", \"evidence\", \"evidence\", \"evidence\", \"examples\", \"examples\", \"examples\", \"examples\", \"examples\", \"examples\", \"experimental\", \"experimental\", \"experimental\", \"experimental\", \"experimental\", \"experimental\", \"experimental\", \"experiments\", \"experiments\", \"experiments\", \"experiments\", \"experiments\", \"experiments\", \"experiments\", \"experiments\", \"exploitation\", \"extraction\", \"extraction\", \"extraction\", \"extraction\", \"extraction\", \"extraction\", \"extraction\", \"facial\", \"fake\", \"feature\", \"feature\", \"feature\", \"feature\", \"feature\", \"feature\", \"feature\", \"features\", \"features\", \"features\", \"features\", \"features\", \"features\", \"file\", \"files\", \"find\", \"find\", \"find\", \"find\", \"find\", \"find\", \"find\", \"finite\", \"first\", \"first\", \"first\", \"first\", \"first\", \"first\", \"first\", \"first\", \"first\", \"foreign\", \"format\", \"format\", \"format\", \"fragments\", \"frame\", \"framenet\", \"frames\", \"functionality\", \"gated\", \"gec\", \"gender\", \"generalization\", \"generation\", \"generation\", \"generation\", \"generation\", \"generation\", \"german\", \"german\", \"german\", \"german\", \"german\", \"gestures\", \"government\", \"grammar\", \"grammar\", \"grammar\", \"grammars\", \"grammatical\", \"grammatical\", \"grammatical\", \"graphical\", \"greek\", \"grounding\", \"guidelines\", \"guidelines\", \"health\", \"hindi\", \"hlt\", \"however\", \"however\", \"however\", \"however\", \"however\", \"however\", \"however\", \"however\", \"human\", \"human\", \"human\", \"human\", \"human\", \"humanities\", \"identification\", \"identification\", \"identification\", \"identification\", \"identification\", \"ie\", \"image\", \"image\", \"images\", \"images\", \"inference\", \"inference\", \"inference\", \"inflected\", \"information\", \"information\", \"information\", \"information\", \"information\", \"information\", \"information\", \"information\", \"information\", \"infrastructure\", \"initiative\", \"input\", \"input\", \"input\", \"input\", \"input\", \"input\", \"input\", \"instructions\", \"intensity\", \"intent\", \"interface\", \"interface\", \"interfaces\", \"internet\", \"internet\", \"interoperability\", \"iso\", \"jointly\", \"jointly\", \"jointly\", \"jointly\", \"judgments\", \"kb\", \"kernel\", \"keyphrase\", \"keyphrases\", \"kg\", \"knowledge\", \"knowledge\", \"knowledge\", \"knowledge\", \"knowledge\", \"korean\", \"la\", \"language\", \"language\", \"language\", \"language\", \"language\", \"language\", \"language\", \"language\", \"language\", \"languages\", \"languages\", \"languages\", \"latent\", \"ldc\", \"le\", \"learn\", \"learn\", \"learn\", \"learn\", \"learned\", \"learned\", \"learned\", \"learned\", \"learner\", \"learning\", \"learning\", \"learning\", \"learning\", \"learning\", \"learning\", \"learning\", \"learns\", \"learns\", \"lectures\", \"legal\", \"lemma\", \"lemmas\", \"les\", \"lexical\", \"lexical\", \"lexical\", \"lexicon\", \"lexicons\", \"linguistic\", \"linguistic\", \"linguistic\", \"linguistic\", \"linguistic\", \"linguistic\", \"linguists\", \"linguists\", \"literary\", \"lms\", \"lr\", \"lrs\", \"machine\", \"machine\", \"machine\", \"machine\", \"machine\", \"machine\", \"masked\", \"material\", \"material\", \"math\", \"meaning\", \"meaning\", \"meaning\", \"meanings\", \"meanings\", \"meanwhile\", \"measure\", \"measure\", \"measure\", \"measure\", \"measure\", \"measure\", \"measures\", \"measures\", \"mechanism\", \"mechanism\", \"mechanism\", \"mechanism\", \"mechanism\", \"media\", \"media\", \"media\", \"medical\", \"medical\", \"meeting\", \"metaphor\", \"method\", \"method\", \"method\", \"method\", \"method\", \"method\", \"method\", \"method\", \"methods\", \"methods\", \"methods\", \"methods\", \"methods\", \"methods\", \"methods\", \"methods\", \"methods\", \"metric\", \"metric\", \"metric\", \"metric\", \"metric\", \"metrics\", \"metrics\", \"mining\", \"mining\", \"mining\", \"mobile\", \"mod\", \"model\", \"model\", \"model\", \"model\", \"model\", \"model\", \"modeling\", \"modeling\", \"modeling\", \"modeling\", \"modeling\", \"modeling\", \"modeling\", \"modeling\", \"modeling\", \"models\", \"models\", \"models\", \"models\", \"models\", \"models\", \"models\", \"monitoring\", \"monolingual\", \"morphological\", \"morphological\", \"morphological\", \"moses\", \"motivation\", \"msa\", \"mt\", \"multilingual\", \"multilingual\", \"multilingual\", \"multimedia\", \"multimodal\", \"multiword\", \"mwe\", \"mwes\", \"nan\", \"natural\", \"natural\", \"natural\", \"natural\", \"natural\", \"natural\", \"natural\", \"negation\", \"negation\", \"ner\", \"ner\", \"ner\", \"network\", \"network\", \"network\", \"network\", \"network\", \"networks\", \"networks\", \"networks\", \"networks\", \"networks\", \"neural\", \"neural\", \"neural\", \"neural\", \"neural\", \"new\", \"new\", \"new\", \"new\", \"new\", \"new\", \"new\", \"new\", \"news\", \"news\", \"nlg\", \"nli\", \"nlp\", \"nlp\", \"nlp\", \"nlp\", \"nlp\", \"nmt\", \"noise\", \"noise\", \"noise\", \"normal\", \"noun\", \"nouns\", \"nouns\", \"nouns\", \"nous\", \"novel\", \"novel\", \"novel\", \"novel\", \"novel\", \"novel\", \"novel\", \"number\", \"number\", \"number\", \"number\", \"number\", \"number\", \"number\", \"number\", \"object\", \"object\", \"objects\", \"online\", \"online\", \"online\", \"online\", \"online\", \"ontology\", \"oov\", \"opinion\", \"opinion\", \"opinion\", \"opinions\", \"opinions\", \"organizations\", \"orthographic\", \"outperform\", \"outperform\", \"outperform\", \"outperform\", \"outperforms\", \"outperforms\", \"outperforms\", \"outperforms\", \"output\", \"output\", \"output\", \"output\", \"output\", \"page\", \"pairs\", \"pairs\", \"pairs\", \"pairs\", \"pairs\", \"paper\", \"paper\", \"paper\", \"paper\", \"paper\", \"paper\", \"paper\", \"paper\", \"paper\", \"papers\", \"papers\", \"par\", \"par\", \"par\", \"parallel\", \"parse\", \"parsed\", \"parser\", \"parser\", \"parser\", \"parser\", \"parsers\", \"parsing\", \"participated\", \"participating\", \"participation\", \"participation\", \"participation\", \"passage\", \"patent\", \"penn\", \"people\", \"people\", \"people\", \"performance\", \"performance\", \"performance\", \"performance\", \"performance\", \"performance\", \"performance\", \"performance\", \"persian\", \"phenomena\", \"phenomena\", \"phenomena\", \"phenomena\", \"pilot\", \"pivot\", \"plan\", \"planning\", \"platform\", \"platforms\", \"plus\", \"political\", \"portuguese\", \"pos\", \"pos\", \"posts\", \"pour\", \"pr\", \"predicate\", \"preprocessing\", \"present\", \"present\", \"present\", \"present\", \"present\", \"present\", \"present\", \"present\", \"present\", \"presentation\", \"pretrained\", \"pretrained\", \"pretraining\", \"probing\", \"problem\", \"problem\", \"problem\", \"problem\", \"problem\", \"problem\", \"problem\", \"process\", \"process\", \"process\", \"process\", \"process\", \"process\", \"process\", \"process\", \"process\", \"processing\", \"processing\", \"processing\", \"processing\", \"processing\", \"processing\", \"processing\", \"processing\", \"project\", \"pronoun\", \"properties\", \"properties\", \"properties\", \"properties\", \"properties\", \"propose\", \"propose\", \"propose\", \"propose\", \"propose\", \"propose\", \"propose\", \"propose\", \"propose\", \"proposed\", \"proposed\", \"proposed\", \"proposed\", \"proposed\", \"proposed\", \"proposed\", \"proposed\", \"propositions\", \"prosodic\", \"punctuation\", \"qa\", \"quality\", \"quality\", \"quality\", \"quality\", \"quality\", \"quality\", \"que\", \"query\", \"query\", \"query\", \"question\", \"question\", \"questions\", \"questions\", \"qui\", \"ranked\", \"rate\", \"rate\", \"rate\", \"ratings\", \"reading\", \"reading\", \"realization\", \"reasoning\", \"reasoning\", \"recognition\", \"recognition\", \"recognition\", \"recognition\", \"recognition\", \"recorded\", \"recorded\", \"recording\", \"recordings\", \"recursive\", \"reference\", \"reference\", \"reference\", \"reference\", \"referring\", \"regularization\", \"regularization\", \"relation\", \"relation\", \"relation\", \"relation\", \"relations\", \"relations\", \"relations\", \"relations\", \"reordering\", \"repository\", \"representation\", \"representation\", \"representation\", \"representation\", \"representation\", \"representations\", \"representations\", \"representations\", \"research\", \"research\", \"research\", \"research\", \"research\", \"research\", \"research\", \"resolution\", \"resolution\", \"resource\", \"resource\", \"resource\", \"resource\", \"resources\", \"resources\", \"resources\", \"resources\", \"response\", \"response\", \"responses\", \"responses\", \"results\", \"results\", \"results\", \"results\", \"results\", \"results\", \"results\", \"results\", \"results\", \"retrieval\", \"retrieval\", \"retrieval\", \"retrieval\", \"retrieval\", \"review\", \"review\", \"reviews\", \"rhetorical\", \"rl\", \"rnns\", \"robot\", \"romanian\", \"rouge\", \"rule\", \"rule\", \"rule\", \"rules\", \"rules\", \"rules\", \"rules\", \"rules\", \"russian\", \"russian\", \"sarcasm\", \"schemas\", \"scientific\", \"score\", \"score\", \"score\", \"score\", \"score\", \"score\", \"search\", \"search\", \"search\", \"search\", \"search\", \"search\", \"second\", \"second\", \"second\", \"second\", \"second\", \"second\", \"second\", \"second\", \"second\", \"second\", \"section\", \"semantic\", \"semantic\", \"semantic\", \"semantic\", \"semantics\", \"semantics\", \"semantics\", \"semantics\", \"semantics\", \"semeval\", \"sense\", \"sense\", \"senses\", \"sent\", \"sentence\", \"sentence\", \"sentence\", \"sentence\", \"sentence\", \"sentences\", \"sentences\", \"sentences\", \"sentences\", \"sentences\", \"sentences\", \"sentences\", \"sentences\", \"sentiment\", \"sentiment\", \"sentiment\", \"sentons\", \"sequence\", \"sequence\", \"sequence\", \"sequence\", \"sequence\", \"service\", \"service\", \"service\", \"set\", \"set\", \"set\", \"set\", \"set\", \"set\", \"set\", \"set\", \"set\", \"shared\", \"shared\", \"show\", \"show\", \"show\", \"show\", \"show\", \"show\", \"show\", \"show\", \"sign\", \"similarity\", \"similarity\", \"similarity\", \"similarity\", \"similarity\", \"slot\", \"smt\", \"social\", \"social\", \"software\", \"sont\", \"source\", \"source\", \"source\", \"source\", \"source\", \"source\", \"source\", \"spatial\", \"spatial\", \"specification\", \"specifications\", \"speech\", \"speech\", \"speech\", \"speech\", \"spelling\", \"spoken\", \"spoken\", \"spoken\", \"spoken\", \"spoken\", \"spontaneous\", \"stance\", \"statistical\", \"statistical\", \"statistical\", \"statistical\", \"statistical\", \"statistical\", \"statistical\", \"statistique\", \"stochastic\", \"stock\", \"story\", \"strings\", \"structure\", \"structure\", \"structure\", \"structure\", \"structure\", \"structure\", \"structure\", \"structures\", \"structures\", \"structures\", \"structures\", \"structures\", \"study\", \"study\", \"study\", \"study\", \"study\", \"study\", \"study\", \"study\", \"style\", \"style\", \"style\", \"submission\", \"submissions\", \"submitted\", \"subtask\", \"subtasks\", \"sultats\", \"summaries\", \"summarization\", \"summarization\", \"summarization\", \"summary\", \"summary\", \"supervision\", \"supervision\", \"supervision\", \"sur\", \"swedish\", \"synonyms\", \"synsets\", \"syntactic\", \"syntactically\", \"syntax\", \"synthesis\", \"syst\", \"system\", \"system\", \"system\", \"system\", \"system\", \"system\", \"system\", \"systems\", \"systems\", \"systems\", \"systems\", \"systems\", \"systems\", \"systems\", \"systran\", \"tag\", \"tag\", \"taggers\", \"target\", \"target\", \"target\", \"target\", \"target\", \"target\", \"target\", \"task\", \"task\", \"task\", \"task\", \"task\", \"task\", \"task\", \"task\", \"tasks\", \"tasks\", \"tasks\", \"tasks\", \"tasks\", \"tasks\", \"tasks\", \"teacher\", \"team\", \"teams\", \"technologies\", \"technologies\", \"technologies\", \"technology\", \"technology\", \"technology\", \"technology\", \"ted\", \"temporal\", \"temporal\", \"temporal\", \"ter\", \"terminological\", \"test\", \"test\", \"test\", \"test\", \"test\", \"test\", \"test\", \"test\", \"test\", \"text\", \"text\", \"text\", \"text\", \"text\", \"text\", \"text\", \"text\", \"text\", \"texts\", \"texts\", \"texts\", \"texts\", \"texts\", \"texts\", \"texts\", \"texts\", \"thematic\", \"theory\", \"theory\", \"theory\", \"theory\", \"thesaurus\", \"time\", \"time\", \"time\", \"time\", \"time\", \"time\", \"time\", \"time\", \"tm\", \"tool\", \"tool\", \"tools\", \"tools\", \"topic\", \"topic\", \"topic\", \"topics\", \"topics\", \"track\", \"track\", \"track\", \"tracking\", \"tracks\", \"tracks\", \"training\", \"training\", \"training\", \"training\", \"training\", \"translate\", \"translated\", \"translating\", \"translation\", \"translations\", \"translator\", \"translators\", \"translators\", \"transliteration\", \"treatment\", \"trec\", \"tree\", \"tree\", \"treebank\", \"trees\", \"tutorial\", \"twitter\", \"twitter\", \"two\", \"two\", \"two\", \"two\", \"two\", \"two\", \"two\", \"two\", \"two\", \"ud\", \"un\", \"une\", \"unlabeled\", \"unlabeled\", \"usages\", \"use\", \"use\", \"use\", \"use\", \"use\", \"use\", \"use\", \"use\", \"use\", \"used\", \"used\", \"used\", \"used\", \"used\", \"used\", \"used\", \"used\", \"used\", \"user\", \"user\", \"users\", \"users\", \"users\", \"using\", \"using\", \"using\", \"using\", \"using\", \"using\", \"using\", \"using\", \"using\", \"utterances\", \"utterances\", \"utterances\", \"valency\", \"variational\", \"vector\", \"vector\", \"vector\", \"vector\", \"verbs\", \"verbs\", \"verbs\", \"verification\", \"video\", \"video\", \"visual\", \"voting\", \"web\", \"web\", \"web\", \"web\", \"wer\", \"whether\", \"whether\", \"whether\", \"whether\", \"whether\", \"whether\", \"whether\", \"whether\", \"word\", \"word\", \"word\", \"word\", \"word\", \"wordnet\", \"wordnets\", \"words\", \"words\", \"words\", \"words\", \"words\", \"words\", \"words\", \"work\", \"work\", \"work\", \"work\", \"work\", \"work\", \"work\", \"work\", \"work\", \"workflow\", \"wsd\", \"year\", \"year\"]}, \"R\": 30, \"lambda.step\": 0.01, \"plot.opts\": {\"xlab\": \"PC1\", \"ylab\": \"PC2\"}, \"topic.order\": [3, 10, 2, 8, 1, 9, 7, 6, 4, 5]};\n",
              "\n",
              "function LDAvis_load_lib(url, callback){\n",
              "  var s = document.createElement('script');\n",
              "  s.src = url;\n",
              "  s.async = true;\n",
              "  s.onreadystatechange = s.onload = callback;\n",
              "  s.onerror = function(){console.warn(\"failed to load library \" + url);};\n",
              "  document.getElementsByTagName(\"head\")[0].appendChild(s);\n",
              "}\n",
              "\n",
              "if(typeof(LDAvis) !== \"undefined\"){\n",
              "   // already loaded: just create the visualization\n",
              "   !function(LDAvis){\n",
              "       new LDAvis(\"#\" + \"ldavis_el571399794943909921141394971\", ldavis_el571399794943909921141394971_data);\n",
              "   }(LDAvis);\n",
              "}else if(typeof define === \"function\" && define.amd){\n",
              "   // require.js is available: use it to load d3/LDAvis\n",
              "   require.config({paths: {d3: \"https://cdnjs.cloudflare.com/ajax/libs/d3/3.5.5/d3.min\"}});\n",
              "   require([\"d3\"], function(d3){\n",
              "      window.d3 = d3;\n",
              "      LDAvis_load_lib(\"https://cdn.rawgit.com/bmabey/pyLDAvis/files/ldavis.v1.0.0.js\", function(){\n",
              "        new LDAvis(\"#\" + \"ldavis_el571399794943909921141394971\", ldavis_el571399794943909921141394971_data);\n",
              "      });\n",
              "    });\n",
              "}else{\n",
              "    // require.js not available: dynamically load d3 & LDAvis\n",
              "    LDAvis_load_lib(\"https://cdnjs.cloudflare.com/ajax/libs/d3/3.5.5/d3.min.js\", function(){\n",
              "         LDAvis_load_lib(\"https://cdn.rawgit.com/bmabey/pyLDAvis/files/ldavis.v1.0.0.js\", function(){\n",
              "                 new LDAvis(\"#\" + \"ldavis_el571399794943909921141394971\", ldavis_el571399794943909921141394971_data);\n",
              "            })\n",
              "         });\n",
              "}\n",
              "</script>"
            ]
          },
          "metadata": {},
          "execution_count": 56
        }
      ]
    },
    {
      "cell_type": "markdown",
      "source": [
        "topicos de sklearn\n",
        "\n",
        "\n",
        "1 embedings\n",
        "6 sequence 2 sequence\n",
        "3 herramientas - implementacion\n",
        "7 palabras en otro idioma? articulos? parte de nombres?\n",
        "9 emotions analysis (hater etc)\n",
        "5 computation and social sceince,\n",
        "\n",
        "promediar la distribucion para todos los años y ver como se distribuyo para cada año y decir este año el topico no fue tan frecuente"
      ],
      "metadata": {
        "id": "F5s2gpon-GMM"
      }
    },
    {
      "cell_type": "code",
      "metadata": {
        "id": "4gpsFpeM21BH"
      },
      "source": [
        "lsatopics  = [[word for word, prob in topic] for topicid, topic in lsamodel.show_topics(10,formatted=False)]\n",
        "ldatopics = [[word for word, prob in topic] for topicid, topic in ldamodel.show_topics(10,formatted=False)]"
      ],
      "execution_count": null,
      "outputs": []
    },
    {
      "cell_type": "code",
      "source": [
        "ldatopics[0]"
      ],
      "metadata": {
        "colab": {
          "base_uri": "https://localhost:8080/"
        },
        "id": "6PzNfDlj6FcU",
        "outputId": "a71bd42a-56d6-4480-f42b-6e69ee928d40"
      },
      "execution_count": null,
      "outputs": [
        {
          "output_type": "execute_result",
          "data": {
            "text/plain": [
              "['information',\n",
              " 'text',\n",
              " 'analysis',\n",
              " 'documents',\n",
              " 'social',\n",
              " 'sentiment',\n",
              " 'news',\n",
              " 'users',\n",
              " 'event',\n",
              " 'extraction']"
            ]
          },
          "metadata": {},
          "execution_count": 50
        }
      ]
    },
    {
      "cell_type": "code",
      "metadata": {
        "id": "Ni9GdVOZ21BK"
      },
      "source": [
        "lsa_coherence = CoherenceModel(topics=lsatopics, texts=texts, dictionary=dictionary, window_size=30,coherence='c_npmi',topn=5).get_coherence_per_topic()\n",
        "lda_coherence = CoherenceModel(topics=ldatopics, texts=texts, dictionary=dictionary, window_size=30,coherence='c_npmi',topn=5).get_coherence_per_topic()"
      ],
      "execution_count": null,
      "outputs": []
    },
    {
      "cell_type": "code",
      "metadata": {
        "id": "mzWg3JKK21BM",
        "colab": {
          "base_uri": "https://localhost:8080/",
          "height": 275
        },
        "outputId": "1a3bca2a-d128-425a-e404-62ecc4591846"
      },
      "source": [
        "df_lda = pd.DataFrame([range(10),lda_coherence,ldatopics],index=['topic_id','coherence','topic']).transpose()\n",
        "df_lsa = pd.DataFrame([range(10),lsa_coherence,lsatopics],index=['topic_id','coherence','topic']).transpose()\n",
        "pd.Series({'LSA':np.mean(lsa_coherence),'LDA':np.mean(lda_coherence)}).plot.bar();"
      ],
      "execution_count": null,
      "outputs": [
        {
          "output_type": "display_data",
          "data": {
            "text/plain": [
              "<Figure size 432x288 with 1 Axes>"
            ],
            "image/png": "[encoded data removed]"
          },
          "metadata": {
            "needs_background": "light"
          }
        }
      ]
    },
    {
      "cell_type": "code",
      "metadata": {
        "id": "aq1ChgAcVF2e",
        "colab": {
          "base_uri": "https://localhost:8080/",
          "height": 363
        },
        "outputId": "3ef7f837-119f-43a9-d907-90af4e45d138"
      },
      "source": [
        "df_lda.sort_values(by='coherence',ascending=False)"
      ],
      "execution_count": null,
      "outputs": [
        {
          "output_type": "execute_result",
          "data": {
            "text/plain": [
              "  topic_id coherence                                              topic\n",
              "5        5  0.555164      [de, des, la, les, et, un, le, une, nous, en]\n",
              "6        6  0.168902  [word, semantic, words, lexical, syntactic, pa...\n",
              "9        9  0.135183  [translation, machine, languages, language, da...\n",
              "4        4  0.106065  [speech, parser, grammar, errors, error, ontol...\n",
              "1        1  0.089009  [evaluation, human, results, text, automatic, ...\n",
              "2        2  0.079501  [model, models, learning, propose, performance...\n",
              "8        8  0.073562  [question, dialogue, system, knowledge, questi...\n",
              "7        7  0.029253  [corpus, language, annotation, paper, data, re...\n",
              "3        3  0.026759  [task, system, paper, model, features, results...\n",
              "0        0   0.02665  [information, text, analysis, documents, socia..."
            ],
            "text/html": [
              "\n",
              "  <div id=\"df-7eafb6bb-2704-46b1-bf11-16d9d5e668f9\">\n",
              "    <div class=\"colab-df-container\">\n",
              "      <div>\n",
              "<style scoped>\n",
              "    .dataframe tbody tr th:only-of-type {\n",
              "        vertical-align: middle;\n",
              "    }\n",
              "\n",
              "    .dataframe tbody tr th {\n",
              "        vertical-align: top;\n",
              "    }\n",
              "\n",
              "    .dataframe thead th {\n",
              "        text-align: right;\n",
              "    }\n",
              "</style>\n",
              "<table border=\"1\" class=\"dataframe\">\n",
              "  <thead>\n",
              "    <tr style=\"text-align: right;\">\n",
              "      <th></th>\n",
              "      <th>topic_id</th>\n",
              "      <th>coherence</th>\n",
              "      <th>topic</th>\n",
              "    </tr>\n",
              "  </thead>\n",
              "  <tbody>\n",
              "    <tr>\n",
              "      <th>5</th>\n",
              "      <td>5</td>\n",
              "      <td>0.555164</td>\n",
              "      <td>[de, des, la, les, et, un, le, une, nous, en]</td>\n",
              "    </tr>\n",
              "    <tr>\n",
              "      <th>6</th>\n",
              "      <td>6</td>\n",
              "      <td>0.168902</td>\n",
              "      <td>[word, semantic, words, lexical, syntactic, pa...</td>\n",
              "    </tr>\n",
              "    <tr>\n",
              "      <th>9</th>\n",
              "      <td>9</td>\n",
              "      <td>0.135183</td>\n",
              "      <td>[translation, machine, languages, language, da...</td>\n",
              "    </tr>\n",
              "    <tr>\n",
              "      <th>4</th>\n",
              "      <td>4</td>\n",
              "      <td>0.106065</td>\n",
              "      <td>[speech, parser, grammar, errors, error, ontol...</td>\n",
              "    </tr>\n",
              "    <tr>\n",
              "      <th>1</th>\n",
              "      <td>1</td>\n",
              "      <td>0.089009</td>\n",
              "      <td>[evaluation, human, results, text, automatic, ...</td>\n",
              "    </tr>\n",
              "    <tr>\n",
              "      <th>2</th>\n",
              "      <td>2</td>\n",
              "      <td>0.079501</td>\n",
              "      <td>[model, models, learning, propose, performance...</td>\n",
              "    </tr>\n",
              "    <tr>\n",
              "      <th>8</th>\n",
              "      <td>8</td>\n",
              "      <td>0.073562</td>\n",
              "      <td>[question, dialogue, system, knowledge, questi...</td>\n",
              "    </tr>\n",
              "    <tr>\n",
              "      <th>7</th>\n",
              "      <td>7</td>\n",
              "      <td>0.029253</td>\n",
              "      <td>[corpus, language, annotation, paper, data, re...</td>\n",
              "    </tr>\n",
              "    <tr>\n",
              "      <th>3</th>\n",
              "      <td>3</td>\n",
              "      <td>0.026759</td>\n",
              "      <td>[task, system, paper, model, features, results...</td>\n",
              "    </tr>\n",
              "    <tr>\n",
              "      <th>0</th>\n",
              "      <td>0</td>\n",
              "      <td>0.02665</td>\n",
              "      <td>[information, text, analysis, documents, socia...</td>\n",
              "    </tr>\n",
              "  </tbody>\n",
              "</table>\n",
              "</div>\n",
              "      <button class=\"colab-df-convert\" onclick=\"convertToInteractive('df-7eafb6bb-2704-46b1-bf11-16d9d5e668f9')\"\n",
              "              title=\"Convert this dataframe to an interactive table.\"\n",
              "              style=\"display:none;\">\n",
              "        \n",
              "  <svg xmlns=\"http://www.w3.org/2000/svg\" height=\"24px\"viewBox=\"0 0 24 24\"\n",
              "       width=\"24px\">\n",
              "    <path d=\"M0 0h24v24H0V0z\" fill=\"none\"/>\n",
              "    <path d=\"M18.56 5.44l.94 2.06.94-2.06 2.06-.94-2.06-.94-.94-2.06-.94 2.06-2.06.94zm-11 1L8.5 8.5l.94-2.06 2.06-.94-2.06-.94L8.5 2.5l-.94 2.06-2.06.94zm10 10l.94 2.06.94-2.06 2.06-.94-2.06-.94-.94-2.06-.94 2.06-2.06.94z\"/><path d=\"M17.41 7.96l-1.37-1.37c-.4-.4-.92-.59-1.43-.59-.52 0-1.04.2-1.43.59L10.3 9.45l-7.72 7.72c-.78.78-.78 2.05 0 2.83L4 21.41c.39.39.9.59 1.41.59.51 0 1.02-.2 1.41-.59l7.78-7.78 2.81-2.81c.8-.78.8-2.07 0-2.86zM5.41 20L4 18.59l7.72-7.72 1.47 1.35L5.41 20z\"/>\n",
              "  </svg>\n",
              "      </button>\n",
              "      \n",
              "  <style>\n",
              "    .colab-df-container {\n",
              "      display:flex;\n",
              "      flex-wrap:wrap;\n",
              "      gap: 12px;\n",
              "    }\n",
              "\n",
              "    .colab-df-convert {\n",
              "      background-color: #E8F0FE;\n",
              "      border: none;\n",
              "      border-radius: 50%;\n",
              "      cursor: pointer;\n",
              "      display: none;\n",
              "      fill: #1967D2;\n",
              "      height: 32px;\n",
              "      padding: 0 0 0 0;\n",
              "      width: 32px;\n",
              "    }\n",
              "\n",
              "    .colab-df-convert:hover {\n",
              "      background-color: #E2EBFA;\n",
              "      box-shadow: 0px 1px 2px rgba(60, 64, 67, 0.3), 0px 1px 3px 1px rgba(60, 64, 67, 0.15);\n",
              "      fill: #174EA6;\n",
              "    }\n",
              "\n",
              "    [theme=dark] .colab-df-convert {\n",
              "      background-color: #3B4455;\n",
              "      fill: #D2E3FC;\n",
              "    }\n",
              "\n",
              "    [theme=dark] .colab-df-convert:hover {\n",
              "      background-color: #434B5C;\n",
              "      box-shadow: 0px 1px 3px 1px rgba(0, 0, 0, 0.15);\n",
              "      filter: drop-shadow(0px 1px 2px rgba(0, 0, 0, 0.3));\n",
              "      fill: #FFFFFF;\n",
              "    }\n",
              "  </style>\n",
              "\n",
              "      <script>\n",
              "        const buttonEl =\n",
              "          document.querySelector('#df-7eafb6bb-2704-46b1-bf11-16d9d5e668f9 button.colab-df-convert');\n",
              "        buttonEl.style.display =\n",
              "          google.colab.kernel.accessAllowed ? 'block' : 'none';\n",
              "\n",
              "        async function convertToInteractive(key) {\n",
              "          const element = document.querySelector('#df-7eafb6bb-2704-46b1-bf11-16d9d5e668f9');\n",
              "          const dataTable =\n",
              "            await google.colab.kernel.invokeFunction('convertToInteractive',\n",
              "                                                     [key], {});\n",
              "          if (!dataTable) return;\n",
              "\n",
              "          const docLinkHtml = 'Like what you see? Visit the ' +\n",
              "            '<a target=\"_blank\" href=https://colab.research.google.com/notebooks/data_table.ipynb>data table notebook</a>'\n",
              "            + ' to learn more about interactive tables.';\n",
              "          element.innerHTML = '';\n",
              "          dataTable['output_type'] = 'display_data';\n",
              "          await google.colab.output.renderOutput(dataTable, element);\n",
              "          const docLink = document.createElement('div');\n",
              "          docLink.innerHTML = docLinkHtml;\n",
              "          element.appendChild(docLink);\n",
              "        }\n",
              "      </script>\n",
              "    </div>\n",
              "  </div>\n",
              "  "
            ]
          },
          "metadata": {},
          "execution_count": 48
        }
      ]
    },
    {
      "cell_type": "code",
      "source": [],
      "metadata": {
        "id": "mQqqpWE_YobL"
      },
      "execution_count": null,
      "outputs": []
    }
  ]
}