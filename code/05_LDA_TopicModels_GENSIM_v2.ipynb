{
  "nbformat": 4,
  "nbformat_minor": 0,
  "metadata": {
    "kernelspec": {
      "display_name": "Python 3",
      "language": "python",
      "name": "python3"
    },
    "language_info": {
      "codemirror_mode": {
        "name": "ipython",
        "version": 3
      },
      "file_extension": ".py",
      "mimetype": "text/x-python",
      "name": "python",
      "nbconvert_exporter": "python",
      "pygments_lexer": "ipython3",
      "version": "3.6.6"
    },
    "colab": {
      "provenance": [],
      "collapsed_sections": [],
      "include_colab_link": true
    }
  },
  "cells": [
    {
      "cell_type": "markdown",
      "metadata": {
        "id": "view-in-github",
        "colab_type": "text"
      },
      "source": [
        "<a href=\"https://colab.research.google.com/github/mateosuster/nlpPapers/blob/main/code/05_LDA_TopicModels_GENSIM_v2.ipynb\" target=\"_parent\"><img src=\"https://colab.research.google.com/assets/colab-badge.svg\" alt=\"Open In Colab\"/></a>"
      ]
    },
    {
      "cell_type": "markdown",
      "source": [
        "# Dependencias"
      ],
      "metadata": {
        "id": "IlCxk75pDePP"
      }
    },
    {
      "cell_type": "code",
      "metadata": {
        "id": "eMOaCBjl21AY"
      },
      "source": [
        "%%capture\n",
        "!pip install pyLDAvis==2.1.2\n",
        "\n",
        "import pandas as pd\n",
        "import numpy as np\n",
        "import matplotlib.pyplot  as plt\n",
        "from collections import Counter\n",
        "\n",
        "\n",
        "from nltk import word_tokenize, sent_tokenize\n",
        "import nltk\n",
        "nltk.download('punkt')\n",
        "nltk.download('stopwords')\n",
        "from nltk.corpus import stopwords\n",
        "\n",
        "import gensim\n",
        "from gensim.models import CoherenceModel, LdaModel, LsiModel, HdpModel\n",
        "from gensim.models.wrappers import LdaMallet\n",
        "from gensim.corpora import Dictionary\n",
        "from gensim import corpora\n",
        "\n",
        "import pyLDAvis.gensim\n",
        "pyLDAvis.enable_notebook()\n",
        "\n",
        "import os, re, operator, warnings\n",
        "warnings.filterwarnings('ignore')  \n",
        "%matplotlib inline"
      ],
      "execution_count": 69,
      "outputs": []
    },
    {
      "cell_type": "markdown",
      "source": [
        "# Data"
      ],
      "metadata": {
        "id": "n358byU_Dhh8"
      }
    },
    {
      "cell_type": "code",
      "source": [
        "data = pd.read_csv(\"https://raw.githubusercontent.com/mateosuster/nlpPapers/main/code/data/data_clean.csv\")\n",
        "\n",
        "dataset = data.text.tolist()\n",
        "dataset[0]"
      ],
      "metadata": {
        "colab": {
          "base_uri": "https://localhost:8080/",
          "height": 140
        },
        "id": "StS-k1EIDTwC",
        "outputId": "67948e25-9ed0-411d-acee-a23ac50c9ad3"
      },
      "execution_count": 74,
      "outputs": [
        {
          "output_type": "execute_result",
          "data": {
            "text/plain": [
              "'used think output translation machine would stylistically inelegant would tolerable message got across find getting message across accurately difficult may able stylistic elegance output since much style reflects depth phenomena thus systematic example order clauses many twoclause sentences reversed without change meaning normally true sentences two clauses meaning usually changes clause order changed equivalently appear severe restrictions clause order given meaning restrictions appear follow depth considerations idea investigated normal clause order deviations order must signalled special syntactic semantic devices nature devices explored translating sentences may trouble due fact clause types two languages exactly parallel therefore list allowed preferred clause orders two languages equivalent special syntactic semantic devices available signal deviations normal order different thus one would predict sentences language often split two sentences translated language time sentences language often broken two sentences translating language'"
            ],
            "application/vnd.google.colaboratory.intrinsic+json": {
              "type": "string"
            }
          },
          "metadata": {},
          "execution_count": 74
        }
      ]
    },
    {
      "cell_type": "code",
      "source": [
        "type(dataset)"
      ],
      "metadata": {
        "colab": {
          "base_uri": "https://localhost:8080/"
        },
        "id": "qYCZQmyR_MVL",
        "outputId": "37fe9461-91f6-4de7-e599-c41184b35303"
      },
      "execution_count": 42,
      "outputs": [
        {
          "output_type": "execute_result",
          "data": {
            "text/plain": [
              "list"
            ]
          },
          "metadata": {},
          "execution_count": 42
        }
      ]
    },
    {
      "cell_type": "markdown",
      "source": [
        "# Preproc"
      ],
      "metadata": {
        "id": "SY3beaVvDkXD"
      }
    },
    {
      "cell_type": "code",
      "source": [
        "texts = [word_tokenize(str(doc)) for doc in dataset]\n",
        "\n",
        "print(texts[0])\n",
        "'translation' in texts[0]"
      ],
      "metadata": {
        "colab": {
          "base_uri": "https://localhost:8080/"
        },
        "id": "wUKvuUdw0jRq",
        "outputId": "8773f0bc-37f4-4bd5-af87-776597461b4d"
      },
      "execution_count": 86,
      "outputs": [
        {
          "output_type": "stream",
          "name": "stdout",
          "text": [
            "['used', 'think', 'output', 'translation', 'machine', 'would', 'stylistically', 'inelegant', 'would', 'tolerable', 'message', 'got', 'across', 'find', 'getting', 'message', 'across', 'accurately', 'difficult', 'may', 'able', 'stylistic', 'elegance', 'output', 'since', 'much', 'style', 'reflects', 'depth', 'phenomena', 'thus', 'systematic', 'example', 'order', 'clauses', 'many', 'twoclause', 'sentences', 'reversed', 'without', 'change', 'meaning', 'normally', 'true', 'sentences', 'two', 'clauses', 'meaning', 'usually', 'changes', 'clause', 'order', 'changed', 'equivalently', 'appear', 'severe', 'restrictions', 'clause', 'order', 'given', 'meaning', 'restrictions', 'appear', 'follow', 'depth', 'considerations', 'idea', 'investigated', 'normal', 'clause', 'order', 'deviations', 'order', 'must', 'signalled', 'special', 'syntactic', 'semantic', 'devices', 'nature', 'devices', 'explored', 'translating', 'sentences', 'may', 'trouble', 'due', 'fact', 'clause', 'types', 'two', 'languages', 'exactly', 'parallel', 'therefore', 'list', 'allowed', 'preferred', 'clause', 'orders', 'two', 'languages', 'equivalent', 'special', 'syntactic', 'semantic', 'devices', 'available', 'signal', 'deviations', 'normal', 'order', 'different', 'thus', 'one', 'would', 'predict', 'sentences', 'language', 'often', 'split', 'two', 'sentences', 'translated', 'language', 'time', 'sentences', 'language', 'often', 'broken', 'two', 'sentences', 'translating', 'language']\n"
          ]
        },
        {
          "output_type": "execute_result",
          "data": {
            "text/plain": [
              "True"
            ]
          },
          "metadata": {},
          "execution_count": 86
        }
      ]
    },
    {
      "cell_type": "markdown",
      "source": [
        "## Ajuste para LDA"
      ],
      "metadata": {
        "id": "fQCaFocqDpBy"
      }
    },
    {
      "cell_type": "markdown",
      "source": [
        "Documentacion de filter_extremes: https://tedboy.github.io/nlps/generated/generated/gensim.corpora.Dictionary.filter_extremes.html "
      ],
      "metadata": {
        "id": "u9pxsqAdj0T7"
      }
    },
    {
      "cell_type": "code",
      "metadata": {
        "id": "u25ufjLL21Al",
        "colab": {
          "base_uri": "https://localhost:8080/"
        },
        "outputId": "f2b8179b-1e9b-4434-c488-d44a29894818"
      },
      "source": [
        "dictionary = corpora.Dictionary(texts) # asocia cada palabra con un ID\n",
        "print(len(dictionary))\n",
        "\n",
        "dictionary.filter_extremes(no_below=10, no_above=0.5) #filtra palabras con frecuencia menor a no_below (absoluto) y mayor a no_above (fraccion)\n",
        "print(len(dictionary))"
      ],
      "execution_count": 76,
      "outputs": [
        {
          "output_type": "stream",
          "name": "stdout",
          "text": [
            "37082\n",
            "7917\n"
          ]
        }
      ]
    },
    {
      "cell_type": "markdown",
      "source": [
        "\n",
        "por cada texto en el dataset, le pasamos un conversor a bag of words: el documento # tiene n palabras de ID_i, ID_j, etc.\n",
        "\n",
        "esto es mas economico dado que permite  reducir la esparcidad de la matriz "
      ],
      "metadata": {
        "id": "n3TDpvx3ZTwd"
      }
    },
    {
      "cell_type": "code",
      "metadata": {
        "id": "qcG0Toxp21Ao"
      },
      "source": [
        "corpus = [dictionary.doc2bow(text) for text in texts] "
      ],
      "execution_count": 77,
      "outputs": []
    },
    {
      "cell_type": "markdown",
      "source": [
        "## LSI y LDA"
      ],
      "metadata": {
        "id": "7cFr9cAzDrl2"
      }
    },
    {
      "cell_type": "code",
      "source": [
        "semilla = 420\n",
        "\n",
        "# before training/inference:\n",
        "np.random.seed(semilla)"
      ],
      "metadata": {
        "id": "h5nBM9dPD1EH"
      },
      "execution_count": 78,
      "outputs": []
    },
    {
      "cell_type": "code",
      "metadata": {
        "id": "Ro3bENF821Ar"
      },
      "source": [
        "lsamodel = LsiModel(corpus=corpus, num_topics=25, id2word=dictionary )"
      ],
      "execution_count": 79,
      "outputs": []
    },
    {
      "cell_type": "code",
      "metadata": {
        "id": "NBp4urdZ21Au",
        "colab": {
          "base_uri": "https://localhost:8080/"
        },
        "outputId": "b14dec6e-7b60-4182-f20b-7ea097f1803b"
      },
      "source": [
        "lsamodel.print_topics(10,4)\n"
      ],
      "execution_count": 80,
      "outputs": [
        {
          "output_type": "execute_result",
          "data": {
            "text/plain": [
              "[(0, '-0.679*\"de\" + -0.280*\"la\" + -0.277*\"des\" + -0.233*\"les\"'),\n",
              " (1, '0.298*\"language\" + 0.263*\"model\" + 0.227*\"data\" + 0.220*\"models\"'),\n",
              " (2,\n",
              "  '-0.544*\"translation\" + 0.398*\"model\" + 0.301*\"models\" + -0.236*\"system\"'),\n",
              " (3,\n",
              "  '0.561*\"translation\" + -0.363*\"corpus\" + 0.323*\"model\" + -0.250*\"language\"'),\n",
              " (4, '-0.772*\"language\" + -0.251*\"models\" + 0.189*\"corpus\" + 0.167*\"system\"'),\n",
              " (5, '-0.796*\"data\" + 0.315*\"word\" + -0.210*\"training\" + 0.158*\"words\"'),\n",
              " (6, '0.543*\"word\" + -0.386*\"system\" + -0.332*\"task\" + 0.244*\"data\"'),\n",
              " (7, '-0.607*\"model\" + -0.478*\"corpus\" + 0.294*\"word\" + 0.233*\"task\"'),\n",
              " (8, '-0.615*\"models\" + 0.416*\"model\" + 0.247*\"data\" + 0.247*\"system\"'),\n",
              " (9,\n",
              "  '-0.355*\"corpus\" + -0.351*\"models\" + 0.328*\"information\" + -0.300*\"task\"')]"
            ]
          },
          "metadata": {},
          "execution_count": 80
        }
      ]
    },
    {
      "cell_type": "code",
      "metadata": {
        "id": "m_njO3Ak21A2"
      },
      "source": [
        "ldamodel = LdaModel(corpus=corpus, num_topics=10, id2word=dictionary, iterations = 2000, passes=10)\n"
      ],
      "execution_count": 81,
      "outputs": []
    },
    {
      "cell_type": "code",
      "metadata": {
        "id": "KGbtvXC-W1_l",
        "colab": {
          "base_uri": "https://localhost:8080/"
        },
        "outputId": "73daf9f3-a121-4dcf-e4d0-c26f28f46436"
      },
      "source": [
        "ldamodel.print_topics(10, 8)"
      ],
      "execution_count": 82,
      "outputs": [
        {
          "output_type": "execute_result",
          "data": {
            "text/plain": [
              "[(0,\n",
              "  '0.026*\"task\" + 0.022*\"classification\" + 0.021*\"social\" + 0.020*\"text\" + 0.018*\"extraction\" + 0.017*\"news\" + 0.017*\"media\" + 0.017*\"information\"'),\n",
              " (1,\n",
              "  '0.070*\"de\" + 0.030*\"des\" + 0.029*\"la\" + 0.026*\"les\" + 0.026*\"et\" + 0.019*\"transformer\" + 0.019*\"le\" + 0.017*\"un\"'),\n",
              " (2,\n",
              "  '0.024*\"task\" + 0.015*\"system\" + 0.012*\"paper\" + 0.011*\"results\" + 0.011*\"languages\" + 0.010*\"using\" + 0.009*\"features\" + 0.008*\"data\"'),\n",
              " (3,\n",
              "  '0.027*\"dialogue\" + 0.026*\"speech\" + 0.016*\"user\" + 0.013*\"human\" + 0.012*\"users\" + 0.011*\"system\" + 0.010*\"systems\" + 0.010*\"multimodal\"'),\n",
              " (4,\n",
              "  '0.048*\"translation\" + 0.024*\"machine\" + 0.016*\"evaluation\" + 0.015*\"systems\" + 0.014*\"quality\" + 0.014*\"system\" + 0.012*\"summarization\" + 0.012*\"language\"'),\n",
              " (5,\n",
              "  '0.025*\"language\" + 0.021*\"corpus\" + 0.017*\"data\" + 0.015*\"annotation\" + 0.013*\"research\" + 0.012*\"paper\" + 0.011*\"languages\" + 0.008*\"available\"'),\n",
              " (6,\n",
              "  '0.026*\"semantic\" + 0.020*\"word\" + 0.015*\"words\" + 0.012*\"information\" + 0.011*\"relations\" + 0.011*\"knowledge\" + 0.010*\"lexical\" + 0.010*\"graph\"'),\n",
              " (7,\n",
              "  '0.066*\"bias\" + 0.032*\"evidence\" + 0.026*\"wikipedia\" + 0.023*\"recurrent\" + 0.019*\"claims\" + 0.019*\"cognitive\" + 0.018*\"detection\" + 0.018*\"scientific\"'),\n",
              " (8,\n",
              "  '0.025*\"models\" + 0.023*\"model\" + 0.012*\"language\" + 0.010*\"data\" + 0.010*\"tasks\" + 0.010*\"learning\" + 0.010*\"propose\" + 0.010*\"performance\"'),\n",
              " (9,\n",
              "  '0.037*\"privacy\" + 0.032*\"signals\" + 0.028*\"extractive\" + 0.023*\"prompts\" + 0.023*\"legal\" + 0.019*\"gradient\" + 0.019*\"ood\" + 0.019*\"sign\"')]"
            ]
          },
          "metadata": {},
          "execution_count": 82
        }
      ]
    },
    {
      "cell_type": "markdown",
      "source": [
        "## Visualizacion de los topicos"
      ],
      "metadata": {
        "id": "5iJIDwlJlzQ3"
      }
    },
    {
      "cell_type": "code",
      "metadata": {
        "id": "Oypnd8WN21BB",
        "colab": {
          "base_uri": "https://localhost:8080/",
          "height": 861
        },
        "outputId": "a21a6c87-84e8-4afd-ae41-69d9d2f20eed"
      },
      "source": [
        "pyLDAvis.gensim.prepare(ldamodel, corpus, dictionary)"
      ],
      "execution_count": 143,
      "outputs": [
        {
          "output_type": "execute_result",
          "data": {
            "text/plain": [
              "PreparedData(topic_coordinates=              x         y  topics  cluster       Freq\n",
              "topic                                                \n",
              "8      0.167464 -0.000629       1        1  29.714165\n",
              "5      0.138703  0.018633       2        1  15.119252\n",
              "2      0.161187 -0.004200       3        1  13.266794\n",
              "6      0.130983  0.018275       4        1  10.836866\n",
              "1     -0.309116  0.244280       5        1   9.593947\n",
              "4      0.167630  0.013342       6        1   9.375251\n",
              "3      0.080084 -0.030335       7        1   5.675240\n",
              "0      0.065944 -0.011626       8        1   4.486292\n",
              "7     -0.296434 -0.364026       9        1   1.217152\n",
              "9     -0.306445  0.116285      10        1   0.715039, topic_info=              Term          Freq         Total Category  logprob  loglift\n",
              "1208            de   9427.000000   9427.000000  Default  30.0000  30.0000\n",
              "72     translation   6333.000000   6333.000000  Default  29.0000  29.0000\n",
              "222           task   9162.000000   9162.000000  Default  28.0000  28.0000\n",
              "731         models  10756.000000  10756.000000  Default  27.0000  27.0000\n",
              "1210           des   3962.000000   3962.000000  Default  26.0000  26.0000\n",
              "...            ...           ...           ...      ...      ...      ...\n",
              "622          codes    182.958868    226.471488  Topic10  -4.0017   4.7272\n",
              "1955  interactions    160.557687    368.363566  Topic10  -4.1324   4.1102\n",
              "3293       medical    163.229571    481.566294  Topic10  -4.1158   3.8587\n",
              "2682  instructions     84.324665    161.964247  Topic10  -4.7763   4.2879\n",
              "1723       experts     83.283133    317.825110  Topic10  -4.7888   3.6013\n",
              "\n",
              "[607 rows x 6 columns], token_table=      Topic      Freq         Term\n",
              "term                              \n",
              "6111      9  0.996553     ablation\n",
              "7646      8  0.986443         absa\n",
              "7611      1  0.091013  abstractive\n",
              "7611      6  0.905344  abstractive\n",
              "7562      8  0.997249      abusive\n",
              "...     ...       ...          ...\n",
              "574       6  0.057522         work\n",
              "574       7  0.029760         work\n",
              "574       8  0.035313         work\n",
              "5276      8  0.989559        worse\n",
              "4769      6  0.993392          wsd\n",
              "\n",
              "[1230 rows x 3 columns], R=30, lambda_step=0.01, plot_opts={'xlab': 'PC1', 'ylab': 'PC2'}, topic_order=[9, 6, 3, 7, 2, 5, 4, 1, 8, 10])"
            ],
            "text/html": [
              "\n",
              "<link rel=\"stylesheet\" type=\"text/css\" href=\"https://cdn.rawgit.com/bmabey/pyLDAvis/files/ldavis.v1.0.0.css\">\n",
              "\n",
              "\n",
              "<div id=\"ldavis_el551405319446403364262660340\"></div>\n",
              "<script type=\"text/javascript\">\n",
              "\n",
              "var ldavis_el551405319446403364262660340_data = {\"mdsDat\": {\"x\": [0.16746424699988138, 0.1387028473788096, 0.16118708093445183, 0.13098328489505584, -0.3091162663857599, 0.16763046791663416, 0.08008382398817283, 0.06594424476562868, -0.29643448814614015, -0.3064452423467349], \"y\": [-0.0006293012818718175, 0.018632768673609357, -0.004199507667712036, 0.01827493003305905, 0.24428034439384075, 0.013342415934800648, -0.03033542641396526, -0.011626005885955713, -0.3640255152409174, 0.1162852974551125], \"topics\": [1, 2, 3, 4, 5, 6, 7, 8, 9, 10], \"cluster\": [1, 1, 1, 1, 1, 1, 1, 1, 1, 1], \"Freq\": [29.714165398283974, 15.119252467919509, 13.266793678297214, 10.836866270223073, 9.593947455452295, 9.375251193887461, 5.675239789295867, 4.486292142858498, 1.2171522699803843, 0.7150393338017128]}, \"tinfo\": {\"Term\": [\"de\", \"translation\", \"task\", \"models\", \"des\", \"la\", \"semantic\", \"les\", \"model\", \"et\", \"machine\", \"text\", \"system\", \"word\", \"dialogue\", \"classification\", \"transformer\", \"speech\", \"le\", \"corpus\", \"information\", \"detection\", \"un\", \"language\", \"annotation\", \"en\", \"une\", \"systems\", \"nous\", \"bias\", \"inference\", \"benchmark\", \"answer\", \"answering\", \"downstream\", \"qa\", \"adversarial\", \"gender\", \"parameters\", \"benchmarks\", \"generative\", \"commonsense\", \"biases\", \"pretraining\", \"jointly\", \"latent\", \"answers\", \"comprehension\", \"plms\", \"labeling\", \"vectors\", \"intent\", \"decoder\", \"supervision\", \"regression\", \"story\", \"relational\", \"interpretability\", \"unseen\", \"probing\", \"reasoning\", \"learn\", \"models\", \"datasets\", \"baselines\", \"modeling\", \"attention\", \"embedding\", \"question\", \"mechanism\", \"outperforms\", \"tasks\", \"model\", \"neural\", \"demonstrate\", \"embeddings\", \"propose\", \"learning\", \"effectiveness\", \"dataset\", \"entity\", \"questions\", \"training\", \"performance\", \"generation\", \"novel\", \"show\", \"however\", \"methods\", \"representations\", \"experiments\", \"proposed\", \"knowledge\", \"work\", \"data\", \"language\", \"existing\", \"method\", \"results\", \"text\", \"task\", \"new\", \"approach\", \"two\", \"information\", \"tools\", \"project\", \"generalize\", \"prompt\", \"software\", \"overview\", \"guidelines\", \"attack\", \"digital\", \"portuguese\", \"tutorial\", \"phonetic\", \"turkish\", \"dialects\", \"reader\", \"script\", \"skills\", \"probe\", \"ongoing\", \"ed\", \"projects\", \"daily\", \"recordings\", \"literary\", \"national\", \"tabular\", \"latin\", \"countries\", \"nine\", \"dutch\", \"creation\", \"metadata\", \"annotation\", \"tool\", \"survey\", \"development\", \"platform\", \"documentation\", \"research\", \"hope\", \"annotated\", \"corpus\", \"community\", \"researchers\", \"annotators\", \"resources\", \"database\", \"web\", \"technology\", \"annotations\", \"corpora\", \"available\", \"processing\", \"resource\", \"language\", \"nlp\", \"linguistic\", \"data\", \"languages\", \"discuss\", \"developed\", \"future\", \"paper\", \"present\", \"texts\", \"provide\", \"describe\", \"also\", \"new\", \"applications\", \"used\", \"analysis\", \"text\", \"different\", \"work\", \"evaluation\", \"encoder\", \"loss\", \"parser\", \"responses\", \"predicting\", \"learns\", \"submitted\", \"utilize\", \"ranked\", \"contextualized\", \"auxiliary\", \"classify\", \"parsers\", \"uncertainty\", \"participated\", \"pretrained\", \"teacher\", \"parse\", \"constrained\", \"simultaneous\", \"constituency\", \"gec\", \"iwslt\", \"reward\", \"spurious\", \"learner\", \"financial\", \"conditioned\", \"suffers\", \"tokenization\", \"submission\", \"team\", \"teams\", \"gains\", \"dependency\", \"augmentation\", \"sentiment\", \"error\", \"parsing\", \"shared\", \"tree\", \"classifier\", \"segmentation\", \"tagging\", \"task\", \"system\", \"best\", \"features\", \"accuracy\", \"score\", \"languages\", \"test\", \"results\", \"english\", \"using\", \"paper\", \"labels\", \"set\", \"two\", \"based\", \"analysis\", \"data\", \"word\", \"detection\", \"different\", \"model\", \"approach\", \"language\", \"used\", \"performance\", \"first\", \"systems\", \"outperform\", \"sense\", \"unlabeled\", \"span\", \"verb\", \"verbs\", \"entailment\", \"distributional\", \"senses\", \"explanation\", \"disambiguation\", \"kg\", \"nlg\", \"amr\", \"dense\", \"meanings\", \"frames\", \"ontology\", \"nodes\", \"frame\", \"noun\", \"nouns\", \"kgs\", \"massive\", \"citation\", \"node\", \"videos\", \"korean\", \"differential\", \"entries\", \"lexicon\", \"semantic\", \"wordnet\", \"meaning\", \"dictionary\", \"label\", \"graphs\", \"concepts\", \"lexical\", \"graph\", \"relations\", \"semantics\", \"words\", \"word\", \"concept\", \"syntactic\", \"similarity\", \"relation\", \"knowledge\", \"entities\", \"structure\", \"information\", \"structures\", \"patterns\", \"representation\", \"expressions\", \"query\", \"paper\", \"based\", \"linguistic\", \"method\", \"approach\", \"used\", \"two\", \"present\", \"de\", \"des\", \"la\", \"les\", \"transformer\", \"le\", \"un\", \"en\", \"une\", \"nous\", \"pour\", \"dans\", \"sur\", \"es\", \"du\", \"pr\", \"leverage\", \"est\", \"que\", \"qui\", \"mod\", \"syst\", \"ces\", \"cet\", \"cette\", \"ce\", \"sont\", \"plus\", \"predicted\", \"leverages\", \"par\", \"et\", \"corpus\", \"article\", \"translation\", \"summarization\", \"mt\", \"nmt\", \"translations\", \"summaries\", \"clinical\", \"summary\", \"distillation\", \"wmt\", \"smt\", \"grounding\", \"translating\", \"rouge\", \"ratings\", \"perplexity\", \"predicts\", \"fluency\", \"wsd\", \"thereby\", \"deployed\", \"translators\", \"aggregation\", \"correlated\", \"retriever\", \"bleu\", \"stress\", \"typing\", \"transferability\", \"readability\", \"translated\", \"parallel\", \"translate\", \"machine\", \"quality\", \"abstractive\", \"metrics\", \"metric\", \"bilingual\", \"source\", \"evaluation\", \"monolingual\", \"systems\", \"pairs\", \"output\", \"human\", \"alignment\", \"biomedical\", \"target\", \"system\", \"automatic\", \"statistical\", \"multilingual\", \"sentences\", \"using\", \"language\", \"english\", \"results\", \"data\", \"paper\", \"languages\", \"text\", \"approach\", \"used\", \"multimodal\", \"emotion\", \"conversational\", \"conversation\", \"video\", \"speaker\", \"hate\", \"comments\", \"emotions\", \"agents\", \"reinforcement\", \"suffer\", \"tracking\", \"emotional\", \"acoustic\", \"readers\", \"children\", \"moral\", \"transcripts\", \"game\", \"voice\", \"rl\", \"captions\", \"endangered\", \"da\", \"plausible\", \"depression\", \"visualization\", \"movie\", \"harmful\", \"dialogue\", \"images\", \"asr\", \"dialog\", \"conversations\", \"dialogues\", \"agent\", \"user\", \"speech\", \"mental\", \"audio\", \"people\", \"utterance\", \"users\", \"communication\", \"feedback\", \"human\", \"interaction\", \"systems\", \"system\", \"recognition\", \"spoken\", \"detection\", \"content\", \"automatic\", \"study\", \"information\", \"event\", \"tweets\", \"subtask\", \"temporal\", \"twitter\", \"offensive\", \"events\", \"sarcasm\", \"posts\", \"reviews\", \"compositional\", \"polarity\", \"attacks\", \"cnn\", \"media\", \"unstructured\", \"tweet\", \"abusive\", \"memes\", \"pruning\", \"figurative\", \"reddit\", \"location\", \"personality\", \"individuals\", \"ie\", \"propaganda\", \"meme\", \"absa\", \"worse\", \"opinion\", \"negation\", \"social\", \"narrative\", \"news\", \"health\", \"causal\", \"extraction\", \"classification\", \"mining\", \"articles\", \"identifying\", \"task\", \"text\", \"information\", \"content\", \"extract\", \"features\", \"detecting\", \"identify\", \"relation\", \"analysis\", \"paper\", \"identification\", \"based\", \"using\", \"shared\", \"bias\", \"wikipedia\", \"recurrent\", \"claims\", \"claim\", \"stance\", \"cognitive\", \"pcl\", \"attribution\", \"toxic\", \"light\", \"patients\", \"ablation\", \"perturbations\", \"mbert\", \"debiasing\", \"argumentation\", \"metaphor\", \"solely\", \"squad\", \"titles\", \"ocr\", \"essay\", \"gendered\", \"intuition\", \"metaphors\", \"orders\", \"rhetorical\", \"physical\", \"selective\", \"verification\", \"evidence\", \"scientific\", \"risk\", \"argument\", \"perspectives\", \"detection\", \"fact\", \"articles\", \"theory\", \"qualitative\", \"privacy\", \"signals\", \"extractive\", \"prompts\", \"legal\", \"gradient\", \"ood\", \"sign\", \"patient\", \"recognizing\", \"behaviors\", \"fake\", \"counterfactual\", \"personalized\", \"diagnosis\", \"devices\", \"inductive\", \"vanilla\", \"severely\", \"navigation\", \"interventions\", \"box\", \"updates\", \"directed\", \"accuracies\", \"inject\", \"forgetting\", \"plan\", \"revision\", \"configuration\", \"rewriting\", \"codes\", \"interactions\", \"medical\", \"instructions\", \"experts\"], \"Freq\": [9427.0, 6333.0, 9162.0, 10756.0, 3962.0, 3949.0, 4232.0, 3471.0, 11422.0, 4196.0, 3727.0, 6078.0, 5917.0, 5108.0, 2231.0, 2993.0, 2591.0, 2305.0, 2510.0, 6360.0, 5940.0, 2196.0, 2343.0, 13876.0, 3278.0, 2267.0, 2245.0, 4586.0, 2150.0, 1120.0, 1016.7475837901889, 1077.8137760080438, 823.7221990148972, 801.6383125079517, 749.4575992760592, 671.5790605311952, 629.5454832632173, 551.5631538437799, 482.03850574649726, 479.99575616861983, 474.5075822014093, 463.7983112966621, 431.5576552697198, 414.95511694401705, 413.9287801475486, 408.50000504120624, 365.20953916348793, 362.3962503285289, 362.2358685632018, 395.56656872231144, 324.4963399967165, 307.2725583282903, 291.5047506936637, 402.0497583262661, 241.19185812053925, 230.74968845038072, 214.6746478324615, 213.5019681212379, 322.47017078546287, 196.16769101684457, 1036.980665693456, 1062.2484666904602, 10229.391235349858, 2936.094116025634, 965.3798168260712, 1010.424582312243, 1456.517482546202, 949.0119693540678, 1856.2009441987368, 620.0888166982946, 1306.9531840929076, 4275.959690940436, 9621.337441148597, 2971.711744942914, 1646.6171708622999, 1674.4526292190835, 4032.775816743397, 4088.6725169020247, 856.7762369980804, 2963.503374242985, 1451.146896054989, 1086.8485993181941, 3639.416131126081, 3975.9531333649757, 2014.709830039885, 1764.638398932589, 3848.8742325449844, 2293.5072667285212, 2872.5964917083766, 1738.312552700756, 2147.735007044198, 1954.9124594547566, 2539.2841650360288, 2556.000660100512, 4355.407966818562, 5052.134626739969, 1834.6847113531935, 2439.144172529399, 2551.777386569834, 2432.31722472575, 2733.871541371853, 1985.9849862944536, 1918.313466472668, 1846.8477778494102, 1830.1733025169835, 1168.8020991273215, 838.1452738781945, 467.0154986233248, 373.88733184791323, 354.03233320910135, 345.1758841422967, 340.65413176267924, 303.8079044236032, 281.1958172004595, 271.77460477889554, 253.91290450702297, 248.45380457410783, 206.28391656006082, 203.22475298440438, 202.1377042234763, 202.1773494877595, 187.46944907944396, 173.5616341957103, 158.9704773289109, 155.40272375991043, 152.23808579987337, 142.7921674447425, 141.76089793263037, 136.76797162456242, 136.03596905150508, 134.46525791913703, 131.29006513105065, 128.94918408358936, 124.7443967619378, 240.34047944527128, 414.14263317070714, 227.80782194855354, 3106.124949176239, 887.8407050273175, 256.5555280133033, 1207.5829759521573, 415.7400207996385, 228.21535900824003, 2644.869356927225, 425.0995053353412, 1683.9450026594836, 4491.061649174225, 758.1211539723353, 571.3316846028445, 454.73746249777537, 1501.5754075626983, 465.4580148950699, 774.7010769111823, 464.42489798014867, 946.1756755214199, 1569.66230021323, 1744.0682590727906, 1419.8563571595873, 890.6285590264301, 5390.592128008601, 1583.4696410161864, 1473.0024411716515, 3527.639212195987, 2239.695199329666, 651.2806767944672, 753.7811860291329, 719.1566699403127, 2472.7749669905547, 1588.585419611059, 926.5216743082375, 959.6027961942268, 821.7282179709973, 1364.7592187248183, 1242.1500993937084, 799.025066105384, 1154.222100573489, 1068.3655575750524, 1157.98223035501, 1090.5050298955546, 994.2725859678885, 902.74092006806, 729.0664516688171, 700.7664515197163, 609.5302946419625, 598.5077383835616, 546.5263562774034, 537.2008913736202, 467.66756704257574, 383.06890956970085, 377.09413992252456, 399.8419249467595, 326.055497488981, 308.23149931666154, 338.37182707712435, 295.20713693865383, 285.7304818106475, 1002.5092424970533, 206.92242073253925, 204.53648985740813, 188.48553478351198, 174.4633169256317, 174.04295622859044, 173.91251548474676, 165.45868005519455, 165.62039631790182, 154.2675018476475, 148.21902831704008, 146.8930608716465, 144.12335106566394, 136.5211305073934, 131.02857013861853, 456.09757032683046, 513.9249888456442, 340.2814925354211, 383.1214316919113, 1129.9500437587087, 668.0810486924205, 1426.1075501268251, 774.3062843716103, 1161.3748724248694, 1467.458584381838, 495.4533691310234, 570.268862745412, 540.8965467415353, 469.3809121568241, 4455.151364841279, 2825.1494780467056, 1149.9421681043013, 1679.0341193175514, 1208.6658777193388, 851.0726181944235, 1981.4377380168894, 994.1839457756432, 1982.2063333526112, 1320.4237894293703, 1842.3126449850652, 2196.1607962138273, 673.818928438598, 1041.430080318792, 1307.5558262597228, 1220.87400741292, 1057.5702365442778, 1471.416029027207, 1144.6784572128781, 865.1567602828112, 1127.8110317000928, 1429.6623683966648, 1020.7341163074951, 1284.1468676888137, 988.0354424583733, 1024.9828317836907, 904.3510589647175, 933.7534184870602, 804.7823904450556, 767.9866014657873, 558.0895813939018, 525.8077087231949, 393.3024167021032, 383.32243676022296, 381.2358693686204, 367.0824721596263, 357.75799612788126, 357.189179467228, 347.27561855438046, 342.51827173749797, 334.8006701098966, 314.74021657561656, 292.3710397107867, 286.9919458108585, 283.341353293013, 273.66239526633973, 290.0689370968471, 259.5602688867745, 224.1146823701085, 214.65588523977726, 204.14038642798153, 201.21380016813066, 188.28770726621076, 186.1517758115631, 170.79346114525927, 168.89103795163965, 166.47045099324524, 164.10420687678672, 636.0935226958227, 3945.5304358688927, 496.89244396586986, 1052.324381436246, 510.5841565365846, 997.816568897664, 714.294319971618, 654.3587909903229, 1546.7927603605958, 1500.5175176151727, 1716.504290480295, 698.413004003603, 2311.8387043368302, 2960.806219308662, 423.2760427338563, 992.2072859226349, 890.6368067431321, 890.6213407491308, 1662.48220902272, 830.939482317847, 886.0626154305521, 1825.84533702028, 608.3795913812158, 570.6056312471013, 782.2687054056821, 508.97357453113926, 496.85067165787103, 1173.9110347973406, 893.5211086928996, 736.9116059845068, 807.9904189541918, 807.755180479223, 708.599303130299, 690.996812706583, 666.2622391770208, 9426.957385515105, 3961.8985257741524, 3948.9188734043546, 3470.756942971399, 2590.3893445485937, 2509.982822690051, 2342.4072352891876, 2266.21889413085, 2244.555296386419, 2150.0767516536316, 1900.9329983939608, 1728.1756534720055, 1576.9940014793913, 1469.3099777821371, 1257.7548486330595, 1172.4665459979487, 1060.0730499667925, 1040.6799723253534, 986.6638389190978, 685.4471738447869, 666.638606954611, 650.6941990147095, 609.6524661969803, 607.8016509472591, 605.2183997737976, 599.82500797171, 584.6745568218707, 564.1577855519737, 550.4099976500314, 535.9156440318807, 1003.9135020685533, 3466.591280083907, 954.0623438165279, 648.0359849157197, 6332.218322146251, 1530.9080275659242, 1256.1426066007302, 1029.8554113612158, 727.0381803924861, 704.0126177789156, 658.5624941025001, 594.0443025210886, 415.4328673299127, 248.78218473964696, 229.0728988286276, 226.0748101992877, 213.42296996586427, 204.48263658967772, 202.47253170302187, 196.0936795218078, 194.50939862195372, 188.03659603567428, 180.2195588129138, 171.8565522796246, 151.30142251692075, 136.550338303367, 136.39251200918056, 129.78115892308838, 129.09772356710548, 838.7496872987119, 124.99149823435208, 124.02681498637251, 123.82118105637815, 123.52855403061888, 297.6083675743811, 1223.2614616803394, 289.44404529878824, 3130.330109722521, 1895.6050795796689, 378.1645699388779, 1109.1037923172719, 484.2496221526755, 483.40411432910213, 1187.6339284598353, 2041.844757918887, 521.4903957866094, 2019.1198488207297, 945.7402436279211, 656.6214124446673, 1371.9894587303381, 592.1647445555991, 449.0108123607056, 925.8706570338971, 1821.3629065189518, 993.7449751970363, 495.37572674760327, 793.130816414499, 805.9629968255532, 1127.8977834756424, 1508.995573344411, 834.7831503791475, 1016.0191789541645, 1144.8764896817756, 999.9957701199073, 844.1516752129187, 846.3229055788519, 710.8249462234618, 706.4325700430904, 762.685909610204, 734.9765872445346, 605.5903277284712, 570.8329958837897, 453.1579141646216, 387.94249594486416, 363.1563172867345, 348.49913965219423, 344.49447197593577, 327.29101789238746, 257.5593504111272, 252.7203785099828, 210.88752106849282, 203.69281443727613, 175.07115154490506, 173.3722531751393, 167.2537633044372, 159.59577623023745, 153.22587817438483, 151.96146818079478, 142.60754145917298, 142.14122832578758, 140.73627902087068, 139.12690049401718, 132.6127369858861, 127.01746017764215, 126.83777327130493, 114.67538107098457, 112.14559949904277, 108.89934481955379, 2182.1225245150736, 411.9869229114225, 325.8617700802227, 647.0327817567069, 495.7514221366535, 381.58087306556666, 319.7908046871667, 1298.5589751368261, 2033.6292799115981, 228.8032875562925, 250.94009678375, 567.5430815577163, 284.10761465307576, 960.8922727454413, 379.4652756377168, 314.12917853036475, 996.314392516728, 303.569091661295, 794.6208052591202, 863.3175301565607, 401.89949193676244, 331.3895140509712, 457.45109425342235, 379.6051862205456, 401.21935563799906, 396.04259010527477, 356.1999172482901, 1029.6742634344237, 627.3882621986082, 584.4237772171683, 581.9366144802012, 401.3446905972725, 381.1829785572687, 724.3939239105969, 341.48195911694614, 322.59777141065086, 305.1661438113645, 250.03496228108926, 245.24356629329873, 221.885836103025, 216.483525213132, 1064.4734918510474, 202.15453606478005, 188.4768513159107, 187.51731204789508, 153.89391063118563, 153.76041917621816, 144.70714915253606, 136.23820391306486, 134.38123720271872, 125.5389631997331, 120.08842026257058, 118.7909277589666, 114.44254447751025, 109.03897644075705, 105.44178226222095, 104.09548760986436, 316.56902131673075, 191.43901091421287, 1326.8023856376121, 198.60577127633454, 1064.8122783118804, 305.48595612540066, 316.2383039845818, 1099.2983309804508, 1373.257061134605, 292.0523186652612, 374.64224809554526, 362.9270134493835, 1614.3639125945342, 1224.6958651584132, 1058.327388559528, 487.4105726240185, 381.43946575271974, 651.5157170989966, 303.6470426286862, 390.6501714936598, 423.0312925427061, 482.73170589820126, 568.2969803508325, 355.8184911464592, 393.67004290363644, 371.9183616812082, 326.60997023291515, 1119.5942980468997, 447.1295185324842, 390.27818129043374, 331.1873950335329, 276.2513793675972, 230.15040632914565, 323.82958160999635, 177.99063608917695, 174.20536316378679, 159.38084777229898, 154.6565063336262, 152.0897095457576, 145.50864709668502, 120.79013053319298, 115.8767411947839, 109.61290546812691, 106.92740049583887, 104.7113821890451, 96.00408213205912, 91.0885908513227, 87.9707203082272, 87.06894739050385, 86.41806706808798, 86.36015657400498, 83.62986040049971, 78.86443987007841, 78.52092697078416, 78.73881510562329, 75.85419670600118, 73.19187655417672, 166.01094496653263, 542.3056257521547, 298.2982955055931, 131.53346711074647, 240.18703023695412, 140.59257679032635, 303.8238180408742, 155.26246854509944, 177.8136763407874, 126.50045742426646, 111.51256162500957, 369.06584374051397, 316.4604607697762, 282.9334865081658, 231.57528726001945, 229.29023449516336, 192.65988585471072, 192.55759565296245, 185.133634500021, 163.37849549332287, 145.26943928461864, 131.64100331798204, 131.63233623638348, 116.74961513191019, 114.13483116916274, 109.71323095694858, 108.69338571663188, 107.4972166227185, 105.1062297540657, 96.4470510428044, 90.51832921558241, 89.73143276197304, 84.53233941371182, 83.49134835818313, 81.25828876347586, 80.88783160151382, 80.17985218766431, 79.16485305748874, 70.3982491316181, 68.75764048082844, 73.16877029930498, 118.91871539219706, 182.95886801864603, 160.55768661347915, 163.2295708009088, 84.32466495527903, 83.28313337208074], \"Total\": [9427.0, 6333.0, 9162.0, 10756.0, 3962.0, 3949.0, 4232.0, 3471.0, 11422.0, 4196.0, 3727.0, 6078.0, 5917.0, 5108.0, 2231.0, 2993.0, 2591.0, 2305.0, 2510.0, 6360.0, 5940.0, 2196.0, 2343.0, 13876.0, 3278.0, 2267.0, 2245.0, 4586.0, 2150.0, 1120.0, 1017.764325705798, 1079.0343852894855, 824.7388950964718, 802.655019881295, 750.4743489179417, 672.5957523527569, 630.5736886858431, 552.5802024352514, 483.0553550083909, 481.01249860933734, 475.581685939727, 464.8562332188747, 432.57454697572996, 415.9718694612101, 414.9455413178144, 409.5169405340373, 366.2262364332009, 363.4129668554812, 363.25265781646624, 396.7766462646796, 325.5130514773863, 308.2893771307999, 292.5215003033467, 403.7250882461265, 242.20881054482064, 231.76655320310584, 215.6914450910266, 214.51873190112482, 324.07473479217373, 197.18443751919227, 1048.0268063488757, 1076.200511224404, 10756.3530063963, 3038.257381734429, 991.322686823159, 1038.683122025556, 1520.8908273894374, 980.0976239847752, 1969.1215453693912, 635.2717109527294, 1386.3038142260616, 4837.583832273753, 11422.041012216352, 3367.484492387167, 1801.5215496392268, 1848.2607254427103, 4767.009203179883, 4887.712010749911, 907.4310569169373, 3612.9178356886528, 1639.714880418281, 1199.2540223849503, 4844.829327755656, 5431.584284517709, 2479.375714700395, 2129.07114494888, 5542.3190060706675, 3074.543947912368, 4145.5251461915495, 2177.5409093099584, 3077.8577637055946, 2833.256609695873, 4215.062911178678, 4502.65052644556, 10541.900934554798, 13876.476300695555, 2667.4580684984935, 4492.855924493545, 6570.5897311714625, 6078.778627996538, 9162.65551193105, 4092.9008865396186, 4739.46140831789, 4987.36047813815, 5940.828971996639, 1169.7564385426967, 839.098798537547, 467.9697993020895, 374.8415423829502, 354.9859951762291, 346.1308179716563, 341.60749565496997, 304.76177833826745, 282.1491926828903, 272.72797879876356, 254.87173656913592, 249.40724686746725, 207.2373550610137, 204.17812723911135, 203.09141288110038, 203.14277326811205, 188.45055017994324, 174.51560424211746, 159.92388698377673, 156.35639816462822, 153.19139793423676, 143.74582468717065, 142.71427832153933, 137.7213382487704, 136.98930588411824, 135.4196131162743, 132.24354327431055, 129.90256490969412, 125.69819853119269, 242.3463109420448, 419.4352506490313, 230.23080901057745, 3278.806716573405, 934.4061291464626, 263.30348857023904, 1337.203317245855, 440.5083578026511, 235.38191047737598, 3370.587341529566, 465.2498651020842, 2118.985146649737, 6360.715575182644, 893.0697141619495, 655.9413643757206, 508.9639334537418, 2008.5211793963188, 524.2653816797797, 948.2084629742888, 530.9252099064022, 1297.9723847402825, 2439.553421532893, 2787.3614968090997, 2217.164352232717, 1250.2950475164203, 13876.476300695555, 2840.8674912576794, 2578.7610343016104, 10541.900934554798, 5543.241103747815, 893.3924841353237, 1132.4634562147771, 1109.3298996440185, 9058.962384239612, 4300.695993234851, 1731.8761147780833, 1991.8521940374674, 1499.2560626471607, 4716.202213506141, 4092.9008865396186, 1433.1652933383023, 4354.668024307354, 3530.565466500434, 6078.778627996538, 5082.581516525954, 4502.65052644556, 4027.799381720557, 730.0580391106291, 701.7580500716767, 610.5216233316207, 599.4994465950198, 547.517969450538, 538.1925000085963, 468.6589207552426, 384.0605837921699, 378.0858869540011, 400.9964275407825, 327.04711082223974, 309.2230878559184, 339.46158507703285, 296.1987080845242, 286.72199141139487, 1006.9557660334372, 207.91393142627336, 205.53895182360006, 189.47713646780457, 175.45478668777628, 175.03427751325137, 174.90384269759414, 166.45257770478082, 166.6270901560513, 155.25924804072434, 149.21039596595492, 147.88452862131635, 145.11506373317275, 137.51290131243715, 132.01999971682395, 461.04852828208004, 520.9791666557987, 345.0415118924485, 389.1293128209089, 1196.3785720469411, 722.8416052878764, 1660.3510044842483, 885.5246672951397, 1391.148567085749, 1845.270665459959, 553.4449913811153, 672.4053772445383, 657.9805837490862, 554.7154830397004, 9162.65551193105, 5917.066589233175, 1808.3683880937194, 3068.931691407312, 1975.76066504555, 1401.1283691909584, 5543.241103747815, 1889.1003633968555, 6570.5897311714625, 3317.278356223761, 6075.108738922912, 9058.962384239612, 1037.5885127468282, 2756.0724419811872, 4987.36047813815, 4693.997826870633, 3530.565466500434, 10541.900934554798, 5108.986063612719, 2196.8226163668187, 5082.581516525954, 11422.041012216352, 4739.46140831789, 13876.476300695555, 4354.668024307354, 5431.584284517709, 3090.9052309967315, 4586.948969596161, 805.7474227461734, 768.9510321944035, 559.0543325157726, 526.7724901553281, 394.26679960723703, 384.2868578340619, 382.20040499505916, 368.04821882654613, 358.722377404191, 358.1538863581418, 348.24007771550436, 343.48271275077536, 335.7653748841485, 315.70482703745444, 293.3360010048338, 287.9564533365312, 284.3058469973518, 274.62676895181295, 291.1424144903323, 260.52471787216206, 225.0790937544747, 215.62029091923813, 205.10480028994553, 202.1791215480723, 189.25265605579108, 187.11622698395365, 171.75829189302743, 169.85564166715795, 167.43644447909227, 165.06861727838316, 653.9848885724963, 4232.089747824816, 513.9366931576482, 1114.1997219179325, 530.8166152374777, 1080.0151360739733, 760.2578326227142, 714.592379802416, 1818.5749324984956, 1836.5072830161625, 2194.039906954261, 807.9177112287183, 3352.355062407426, 5108.986063612719, 487.7232182048902, 1587.1492487476348, 1367.064757709777, 1558.786038468167, 4215.062911178678, 1447.6792669155504, 1654.261118775961, 5940.828971996639, 947.0089525350387, 887.0911038446898, 1895.184231822793, 736.8167830680753, 744.1070447400816, 9058.962384239612, 4693.997826870633, 2578.7610343016104, 4492.855924493545, 4739.46140831789, 4354.668024307354, 4987.36047813815, 4300.695993234851, 9427.85954761658, 3962.800683435557, 3949.8210342917787, 3471.6590995349193, 2591.2930178062757, 2510.8849847445517, 2343.309401412303, 2267.1210739274616, 2245.4574526253714, 2150.9789080093374, 1901.8351556707405, 1729.0778106931143, 1577.8961579590784, 1470.212144363858, 1258.6570094242381, 1173.368708115872, 1060.977427512134, 1041.582130498855, 987.565995618906, 686.349329853282, 667.5407682153901, 651.5963552425947, 610.5546227776591, 608.7038069697824, 606.1205559810253, 600.7271731149381, 585.5767131376966, 565.0600171496766, 551.3139593527891, 536.8200494770218, 1042.2618315316772, 4196.560195962438, 6360.715575182644, 1166.242916848137, 6333.195968221333, 1531.885955749667, 1257.120235883601, 1030.833042124629, 728.0158146891213, 704.9903100191854, 659.5403675680573, 595.0220331037843, 416.41089422128823, 249.7598171859427, 230.05051359126554, 227.0529038751856, 214.40061251820802, 205.46028456226526, 203.45038657743945, 197.07155276919542, 195.48780565738664, 189.01430749241658, 181.19731049904945, 172.83485577976344, 152.27940946511447, 137.5279731854307, 137.37058211607112, 130.7592860724388, 130.0760729805708, 845.1495352635351, 125.96944977128115, 125.0047473267689, 124.7996280542528, 124.5062931783391, 302.9412982621909, 1343.8949555076615, 299.7600102513575, 3727.2960438551117, 2407.2947157613976, 417.5208365989158, 1346.0640166335672, 559.8647674664006, 566.9844660693778, 1915.9084567276416, 4027.799381720557, 734.3606513776301, 4586.948969596161, 1647.2066151189981, 1067.2625556029266, 3080.93559471166, 956.0985735045355, 638.9196281812546, 1941.4410415955388, 5917.066589233175, 2502.375169783382, 760.5221356705155, 2238.69123571824, 2350.190144131509, 6075.108738922912, 13876.476300695555, 3317.278356223761, 6570.5897311714625, 10541.900934554798, 9058.962384239612, 5543.241103747815, 6078.778627996538, 4739.46140831789, 4354.668024307354, 763.6815281457536, 735.9721668267559, 606.5859067376447, 571.8285842076232, 454.1535282195719, 388.97646179124695, 364.15196061100346, 349.49480135938586, 345.4900860193392, 328.2866030517992, 258.55504848888734, 253.71643864543682, 211.88312863331745, 204.68838045542034, 176.06856901363773, 174.36796291034017, 168.24940810791452, 160.59141377000478, 154.22148138426914, 152.95707365941408, 143.60312506823394, 143.13688241782208, 141.7319217499301, 140.1228660509515, 133.60840497358726, 128.0134566197438, 127.83341801197544, 115.67123091987675, 113.14132826834206, 109.89524195637824, 2231.92630823132, 419.0865868550574, 331.8434662115154, 671.9282436455497, 513.9891500902249, 394.6331918551624, 329.6166028114329, 1403.0447970625355, 2305.5272295627774, 235.33911482484766, 260.94810394417175, 649.3692042209274, 306.2050579543977, 1258.1177658293886, 477.9674947402608, 383.9547391812459, 3080.93559471166, 446.9402076108142, 4586.948969596161, 5917.066589233175, 1277.6936920013807, 652.1627950939275, 2196.8226163668187, 1430.1405707659012, 2502.375169783382, 2393.7185043285413, 5940.828971996639, 1030.6755320217248, 628.3895507181388, 585.425092923086, 583.2967119855889, 402.3459635218793, 382.1848876241863, 726.358586209489, 342.48323761637084, 323.60582219698927, 306.1684605669568, 251.03660765114998, 246.24485926939798, 222.88740258879244, 217.48778089756394, 1069.5363476957075, 203.1560970508729, 189.47809445920944, 188.5186375040756, 154.8960779771224, 154.76199118766704, 145.7086259335429, 137.23962712888263, 135.38259616867788, 126.54030090334172, 121.08985977132087, 119.79221820402984, 115.44382206031953, 110.04024656048578, 106.44306195489315, 105.09726946254769, 323.94650637671236, 197.98552949620404, 1517.9773572999788, 205.89930712920352, 1246.8216967567928, 346.61983502904343, 361.66741040746444, 1995.0625830893696, 2993.0446143586782, 396.7236940350646, 637.2714493933311, 650.5879908016094, 9162.65551193105, 6078.778627996538, 5940.828971996639, 1430.1405707659012, 855.2067593988885, 3068.931691407312, 526.9634376547261, 1086.099033567393, 1558.786038468167, 3530.565466500434, 9058.962384239612, 1010.6252679963463, 4693.997826870633, 6075.108738922912, 1845.270665459959, 1120.5905408632264, 448.1511804492983, 391.27443685651485, 332.18360411714457, 277.2475814571977, 231.1465874877158, 325.5636819098463, 178.98692627461799, 175.20168530030054, 160.37711276215035, 155.65277594706896, 153.08605802072074, 146.5050013166058, 121.78644580769407, 116.87307057497524, 110.60913451596541, 107.92357770707132, 105.70754473724891, 97.0005024431118, 92.08484809776189, 88.966948464028, 88.06525198981123, 87.41431193560965, 87.35635247397431, 84.62618117273905, 79.86060395457582, 79.51720848916437, 79.7546263643758, 76.8505500250935, 74.18821712613146, 170.67450602622515, 730.5643854723572, 487.2132650963006, 168.85891512405848, 426.76000481178716, 210.60180544289108, 2196.8226163668187, 419.4157742839186, 637.2714493933311, 304.6187073935063, 288.1421411669542, 370.0558598665379, 317.4505408051794, 283.92356721199513, 232.5653526257432, 230.28039492069175, 193.64994882617117, 193.54757654349294, 186.12361560603264, 164.36855217208443, 146.2595193049987, 132.63108241088398, 132.6223709800698, 117.73965548057045, 115.12487760049508, 110.70323950877571, 109.68677665726966, 108.48732465644927, 106.09632961544892, 97.43723952133668, 91.50835150756988, 90.72150104727842, 85.52238470799712, 84.48143785916812, 82.24842169856218, 81.87788298469543, 81.1699491965801, 80.15486580840738, 71.38891764442542, 69.74794632209638, 74.23329067719892, 124.1251451289748, 226.47148829614832, 368.36356628787735, 481.5662938638982, 161.96424657640506, 317.8251101066311], \"Category\": [\"Default\", \"Default\", \"Default\", \"Default\", \"Default\", \"Default\", \"Default\", \"Default\", \"Default\", \"Default\", \"Default\", \"Default\", \"Default\", \"Default\", \"Default\", \"Default\", \"Default\", \"Default\", \"Default\", \"Default\", \"Default\", \"Default\", \"Default\", \"Default\", \"Default\", \"Default\", \"Default\", \"Default\", \"Default\", \"Default\", \"Topic1\", \"Topic1\", \"Topic1\", \"Topic1\", \"Topic1\", \"Topic1\", \"Topic1\", \"Topic1\", \"Topic1\", \"Topic1\", \"Topic1\", \"Topic1\", \"Topic1\", \"Topic1\", \"Topic1\", \"Topic1\", \"Topic1\", \"Topic1\", \"Topic1\", \"Topic1\", \"Topic1\", \"Topic1\", \"Topic1\", \"Topic1\", \"Topic1\", \"Topic1\", \"Topic1\", \"Topic1\", \"Topic1\", \"Topic1\", \"Topic1\", \"Topic1\", \"Topic1\", \"Topic1\", \"Topic1\", \"Topic1\", \"Topic1\", \"Topic1\", \"Topic1\", \"Topic1\", \"Topic1\", \"Topic1\", \"Topic1\", \"Topic1\", \"Topic1\", \"Topic1\", \"Topic1\", \"Topic1\", \"Topic1\", \"Topic1\", \"Topic1\", \"Topic1\", \"Topic1\", \"Topic1\", \"Topic1\", \"Topic1\", \"Topic1\", \"Topic1\", \"Topic1\", \"Topic1\", \"Topic1\", \"Topic1\", \"Topic1\", \"Topic1\", \"Topic1\", \"Topic1\", \"Topic1\", \"Topic1\", \"Topic1\", \"Topic1\", \"Topic1\", \"Topic1\", \"Topic1\", \"Topic1\", \"Topic1\", \"Topic2\", \"Topic2\", \"Topic2\", \"Topic2\", \"Topic2\", \"Topic2\", \"Topic2\", \"Topic2\", \"Topic2\", \"Topic2\", \"Topic2\", \"Topic2\", \"Topic2\", \"Topic2\", \"Topic2\", \"Topic2\", \"Topic2\", \"Topic2\", \"Topic2\", \"Topic2\", \"Topic2\", \"Topic2\", \"Topic2\", \"Topic2\", \"Topic2\", \"Topic2\", \"Topic2\", \"Topic2\", \"Topic2\", \"Topic2\", \"Topic2\", \"Topic2\", \"Topic2\", \"Topic2\", \"Topic2\", \"Topic2\", \"Topic2\", \"Topic2\", \"Topic2\", \"Topic2\", \"Topic2\", \"Topic2\", \"Topic2\", \"Topic2\", \"Topic2\", \"Topic2\", \"Topic2\", \"Topic2\", \"Topic2\", \"Topic2\", \"Topic2\", \"Topic2\", \"Topic2\", \"Topic2\", \"Topic2\", \"Topic2\", \"Topic2\", \"Topic2\", \"Topic2\", \"Topic2\", \"Topic2\", \"Topic2\", \"Topic2\", \"Topic2\", \"Topic2\", \"Topic2\", \"Topic2\", \"Topic2\", \"Topic2\", \"Topic2\", \"Topic2\", \"Topic2\", \"Topic2\", \"Topic2\", \"Topic2\", \"Topic2\", \"Topic3\", \"Topic3\", \"Topic3\", \"Topic3\", \"Topic3\", \"Topic3\", \"Topic3\", \"Topic3\", \"Topic3\", \"Topic3\", \"Topic3\", \"Topic3\", \"Topic3\", \"Topic3\", \"Topic3\", \"Topic3\", \"Topic3\", \"Topic3\", \"Topic3\", \"Topic3\", \"Topic3\", \"Topic3\", \"Topic3\", \"Topic3\", \"Topic3\", \"Topic3\", \"Topic3\", \"Topic3\", \"Topic3\", \"Topic3\", \"Topic3\", \"Topic3\", \"Topic3\", \"Topic3\", \"Topic3\", \"Topic3\", \"Topic3\", \"Topic3\", \"Topic3\", \"Topic3\", \"Topic3\", \"Topic3\", \"Topic3\", \"Topic3\", \"Topic3\", \"Topic3\", \"Topic3\", \"Topic3\", \"Topic3\", \"Topic3\", \"Topic3\", \"Topic3\", \"Topic3\", \"Topic3\", \"Topic3\", \"Topic3\", \"Topic3\", \"Topic3\", \"Topic3\", \"Topic3\", \"Topic3\", \"Topic3\", \"Topic3\", \"Topic3\", \"Topic3\", \"Topic3\", \"Topic3\", \"Topic3\", \"Topic3\", \"Topic3\", \"Topic3\", \"Topic3\", \"Topic4\", \"Topic4\", \"Topic4\", \"Topic4\", \"Topic4\", \"Topic4\", \"Topic4\", \"Topic4\", \"Topic4\", \"Topic4\", \"Topic4\", \"Topic4\", \"Topic4\", \"Topic4\", \"Topic4\", \"Topic4\", \"Topic4\", \"Topic4\", \"Topic4\", \"Topic4\", \"Topic4\", \"Topic4\", \"Topic4\", \"Topic4\", \"Topic4\", \"Topic4\", \"Topic4\", \"Topic4\", \"Topic4\", \"Topic4\", \"Topic4\", \"Topic4\", \"Topic4\", \"Topic4\", \"Topic4\", \"Topic4\", \"Topic4\", \"Topic4\", \"Topic4\", \"Topic4\", \"Topic4\", \"Topic4\", \"Topic4\", \"Topic4\", \"Topic4\", \"Topic4\", \"Topic4\", \"Topic4\", \"Topic4\", \"Topic4\", \"Topic4\", \"Topic4\", \"Topic4\", \"Topic4\", \"Topic4\", \"Topic4\", \"Topic4\", \"Topic4\", \"Topic4\", \"Topic4\", \"Topic4\", \"Topic4\", \"Topic4\", \"Topic4\", \"Topic4\", \"Topic5\", \"Topic5\", \"Topic5\", \"Topic5\", \"Topic5\", \"Topic5\", \"Topic5\", \"Topic5\", \"Topic5\", \"Topic5\", \"Topic5\", \"Topic5\", \"Topic5\", \"Topic5\", \"Topic5\", \"Topic5\", \"Topic5\", \"Topic5\", \"Topic5\", \"Topic5\", \"Topic5\", \"Topic5\", \"Topic5\", \"Topic5\", \"Topic5\", \"Topic5\", \"Topic5\", \"Topic5\", \"Topic5\", \"Topic5\", \"Topic5\", \"Topic5\", \"Topic5\", \"Topic5\", \"Topic6\", \"Topic6\", \"Topic6\", \"Topic6\", \"Topic6\", \"Topic6\", \"Topic6\", \"Topic6\", \"Topic6\", \"Topic6\", \"Topic6\", \"Topic6\", \"Topic6\", \"Topic6\", \"Topic6\", \"Topic6\", \"Topic6\", \"Topic6\", \"Topic6\", \"Topic6\", \"Topic6\", \"Topic6\", \"Topic6\", \"Topic6\", \"Topic6\", \"Topic6\", \"Topic6\", \"Topic6\", \"Topic6\", \"Topic6\", \"Topic6\", \"Topic6\", \"Topic6\", \"Topic6\", \"Topic6\", \"Topic6\", \"Topic6\", \"Topic6\", \"Topic6\", \"Topic6\", \"Topic6\", \"Topic6\", \"Topic6\", \"Topic6\", \"Topic6\", \"Topic6\", \"Topic6\", \"Topic6\", \"Topic6\", \"Topic6\", \"Topic6\", \"Topic6\", \"Topic6\", \"Topic6\", \"Topic6\", \"Topic6\", \"Topic6\", \"Topic6\", \"Topic6\", \"Topic6\", \"Topic6\", \"Topic6\", \"Topic6\", \"Topic6\", \"Topic7\", \"Topic7\", \"Topic7\", \"Topic7\", \"Topic7\", \"Topic7\", \"Topic7\", \"Topic7\", \"Topic7\", \"Topic7\", \"Topic7\", \"Topic7\", \"Topic7\", \"Topic7\", \"Topic7\", \"Topic7\", \"Topic7\", \"Topic7\", \"Topic7\", \"Topic7\", \"Topic7\", \"Topic7\", \"Topic7\", \"Topic7\", \"Topic7\", \"Topic7\", \"Topic7\", \"Topic7\", \"Topic7\", \"Topic7\", \"Topic7\", \"Topic7\", \"Topic7\", \"Topic7\", \"Topic7\", \"Topic7\", \"Topic7\", \"Topic7\", \"Topic7\", \"Topic7\", \"Topic7\", \"Topic7\", \"Topic7\", \"Topic7\", \"Topic7\", \"Topic7\", \"Topic7\", \"Topic7\", \"Topic7\", \"Topic7\", \"Topic7\", \"Topic7\", \"Topic7\", \"Topic7\", \"Topic7\", \"Topic7\", \"Topic7\", \"Topic8\", \"Topic8\", \"Topic8\", \"Topic8\", \"Topic8\", \"Topic8\", \"Topic8\", \"Topic8\", \"Topic8\", \"Topic8\", \"Topic8\", \"Topic8\", \"Topic8\", \"Topic8\", \"Topic8\", \"Topic8\", \"Topic8\", \"Topic8\", \"Topic8\", \"Topic8\", \"Topic8\", \"Topic8\", \"Topic8\", \"Topic8\", \"Topic8\", \"Topic8\", \"Topic8\", \"Topic8\", \"Topic8\", \"Topic8\", \"Topic8\", \"Topic8\", \"Topic8\", \"Topic8\", \"Topic8\", \"Topic8\", \"Topic8\", \"Topic8\", \"Topic8\", \"Topic8\", \"Topic8\", \"Topic8\", \"Topic8\", \"Topic8\", \"Topic8\", \"Topic8\", \"Topic8\", \"Topic8\", \"Topic8\", \"Topic8\", \"Topic8\", \"Topic8\", \"Topic8\", \"Topic8\", \"Topic8\", \"Topic8\", \"Topic8\", \"Topic9\", \"Topic9\", \"Topic9\", \"Topic9\", \"Topic9\", \"Topic9\", \"Topic9\", \"Topic9\", \"Topic9\", \"Topic9\", \"Topic9\", \"Topic9\", \"Topic9\", \"Topic9\", \"Topic9\", \"Topic9\", \"Topic9\", \"Topic9\", \"Topic9\", \"Topic9\", \"Topic9\", \"Topic9\", \"Topic9\", \"Topic9\", \"Topic9\", \"Topic9\", \"Topic9\", \"Topic9\", \"Topic9\", \"Topic9\", \"Topic9\", \"Topic9\", \"Topic9\", \"Topic9\", \"Topic9\", \"Topic9\", \"Topic9\", \"Topic9\", \"Topic9\", \"Topic9\", \"Topic9\", \"Topic10\", \"Topic10\", \"Topic10\", \"Topic10\", \"Topic10\", \"Topic10\", \"Topic10\", \"Topic10\", \"Topic10\", \"Topic10\", \"Topic10\", \"Topic10\", \"Topic10\", \"Topic10\", \"Topic10\", \"Topic10\", \"Topic10\", \"Topic10\", \"Topic10\", \"Topic10\", \"Topic10\", \"Topic10\", \"Topic10\", \"Topic10\", \"Topic10\", \"Topic10\", \"Topic10\", \"Topic10\", \"Topic10\", \"Topic10\", \"Topic10\", \"Topic10\", \"Topic10\", \"Topic10\", \"Topic10\", \"Topic10\"], \"logprob\": [30.0, 29.0, 28.0, 27.0, 26.0, 25.0, 24.0, 23.0, 22.0, 21.0, 20.0, 19.0, 18.0, 17.0, 16.0, 15.0, 14.0, 13.0, 12.0, 11.0, 10.0, 9.0, 8.0, 7.0, 6.0, 5.0, 4.0, 3.0, 2.0, 1.0, -6.013700008392334, -5.955399990081787, -6.2241997718811035, -6.251399993896484, -6.318699836730957, -6.428400039672852, -6.493100166320801, -6.62529993057251, -6.760000228881836, -6.7642998695373535, -6.7758002281188965, -6.798600196838379, -6.87060022354126, -6.909900188446045, -6.912399768829346, -6.925600051879883, -7.037600040435791, -7.045300006866455, -7.04580020904541, -6.957699775695801, -7.155799865722656, -7.210299968719482, -7.263000011444092, -6.941500186920166, -7.452499866485596, -7.496699810028076, -7.568900108337402, -7.574399948120117, -7.1620001792907715, -7.65910005569458, -5.99399995803833, -5.969900131225586, -3.7049999237060547, -4.953199863433838, -6.065499782562256, -6.019899845123291, -5.654200077056885, -6.082600116729736, -5.411799907684326, -6.508200168609619, -5.762599945068359, -4.577300071716309, -3.7662999629974365, -4.941199779510498, -5.531599998474121, -5.514800071716309, -4.635799884796143, -4.622099876403809, -6.184899806976318, -4.943900108337402, -5.657899856567383, -5.947000026702881, -4.738500118255615, -4.650000095367432, -5.329800128936768, -5.462299823760986, -4.682499885559082, -5.200200080871582, -4.975100040435791, -5.477399826049805, -5.265900135040283, -5.359899997711182, -5.098400115966797, -5.091899871826172, -4.558899879455566, -4.4105000495910645, -5.423399925231934, -5.138599872589111, -5.093500137329102, -5.14139986038208, -5.024600028991699, -5.344200134277344, -5.378799915313721, -5.416800022125244, -5.425899982452393, -5.198699951171875, -5.531199932098389, -6.116000175476074, -6.338399887084961, -6.39300012588501, -6.418300151824951, -6.43149995803833, -6.546000003814697, -6.623300075531006, -6.657400131225586, -6.725399971008301, -6.747099876403809, -6.93310022354126, -6.9481000900268555, -6.953400135040283, -6.953199863433838, -7.028800010681152, -7.105899810791016, -7.193699836730957, -7.216400146484375, -7.2368998527526855, -7.301000118255615, -7.308300018310547, -7.344099998474121, -7.3495001792907715, -7.361100196838379, -7.385000228881836, -7.4029998779296875, -7.436100006103516, -6.780300140380859, -6.236199855804443, -6.833899974822998, -4.22130012512207, -5.473599910736084, -6.715000152587891, -5.165999889373779, -6.2322998046875, -6.832099914550781, -4.381999969482422, -6.210100173950195, -4.833499908447266, -3.85260009765625, -5.6315999031066895, -5.914400100708008, -6.1427001953125, -4.9481000900268555, -6.1194000244140625, -5.609899997711182, -6.121600151062012, -5.409999847412109, -4.903800010681152, -4.798399925231934, -5.0040998458862305, -5.4704999923706055, -3.6700000762939453, -4.894999980926514, -4.967299938201904, -4.093999862670898, -4.548299789428711, -5.7835001945495605, -5.63730001449585, -5.684299945831299, -4.4492998123168945, -4.8917999267578125, -5.431000232696533, -5.395899772644043, -5.551000118255615, -5.043700218200684, -5.137800216674805, -5.578999996185303, -5.21120023727417, -5.28849983215332, -5.208000183105469, -5.26800012588501, -5.360400199890137, -5.456999778747559, -5.539899826049805, -5.579500198364258, -5.718999862670898, -5.737299919128418, -5.828100204467773, -5.845300197601318, -5.98390007019043, -6.183499813079834, -6.19920015335083, -6.140600204467773, -6.344600200653076, -6.4008002281188965, -6.307499885559082, -6.443999767303467, -6.476600170135498, -5.221399784088135, -6.799300193786621, -6.8109002113342285, -6.8927001953125, -6.96999979019165, -6.972400188446045, -6.973100185394287, -7.0229997634887695, -7.021999835968018, -7.0929999351501465, -7.132999897003174, -7.142000198364258, -7.160999774932861, -7.215199947357178, -7.25629997253418, -6.008999824523926, -5.889599800109863, -6.3018999099731445, -6.183300018310547, -5.101799964904785, -5.627299785614014, -4.86899995803833, -5.479700088500977, -5.0742998123168945, -4.840400218963623, -5.926199913024902, -5.785600185394287, -5.838500022888184, -5.980299949645996, -3.7298998832702637, -4.185400009155273, -5.084199905395508, -4.705699920654297, -5.03439998626709, -5.385200023651123, -4.54010009765625, -5.229800224304199, -4.539700031280518, -4.946000099182129, -4.6128997802734375, -4.43720006942749, -5.61870002746582, -5.183300018310547, -4.9558000564575195, -5.024400234222412, -5.168000221252441, -4.837699890136719, -5.088799953460693, -5.368800163269043, -5.103700160980225, -4.866499900817871, -5.203400135040283, -4.973800182342529, -5.236000061035156, -5.1992998123168945, -5.32450008392334, -5.292500019073486, -5.238800048828125, -5.285600185394287, -5.604899883270264, -5.664400100708008, -5.954800128936768, -5.980500221252441, -5.986000061035156, -6.023799896240234, -6.049499988555908, -6.05109977722168, -6.0792999267578125, -6.093100070953369, -6.115799903869629, -6.177599906921387, -6.251399993896484, -6.269899845123291, -6.282700061798096, -6.317500114440918, -6.259300231933594, -6.3703999519348145, -6.517199993133545, -6.560299873352051, -6.610599994659424, -6.625, -6.691400051116943, -6.7027997970581055, -6.788899898529053, -6.800099849700928, -6.814599990844727, -6.82889986038208, -5.473999977111816, -3.6489999294281006, -5.7210001945495605, -4.970600128173828, -5.69379997253418, -5.023799896240234, -5.358099937438965, -5.445700168609619, -4.585400104522705, -4.615799903869629, -4.481299877166748, -5.3805999755859375, -4.183599948883057, -3.936199903488159, -5.881400108337402, -5.029399871826172, -5.137400150299072, -5.137499809265137, -4.513299942016602, -5.2067999839782715, -5.142600059509277, -4.419600009918213, -5.518599987030029, -5.582699775695801, -5.267199993133545, -5.697000026702881, -5.721099853515625, -4.861299991607666, -5.134200096130371, -5.326900005340576, -5.234799861907959, -5.235099792480469, -5.366099834442139, -5.391200065612793, -5.427700042724609, -2.6561999320983887, -3.523099899291992, -3.526400089263916, -3.655400037765503, -3.947999954223633, -3.9795000553131104, -4.048600196838379, -4.081699848175049, -4.091300010681152, -4.134300231933594, -4.257500171661377, -4.352700233459473, -4.444300174713135, -4.514999866485596, -4.670499801635742, -4.740699768066406, -4.8414998054504395, -4.859899997711182, -4.9131999015808105, -5.277500152587891, -5.305300235748291, -5.329500198364258, -5.394700050354004, -5.39769983291626, -5.4019999504089355, -5.410900115966797, -5.436500072479248, -5.4721999168396, -5.4969000816345215, -5.523600101470947, -4.895899772644043, -3.656599998474121, -4.946800231933594, -5.333600044250488, -3.031100034713745, -4.450900077819824, -4.64870023727417, -4.847300052642822, -5.195499897003174, -5.227700233459473, -5.294400215148926, -5.397500038146973, -5.755199909210205, -6.267899990081787, -6.350500106811523, -6.36359977722168, -6.421199798583984, -6.464000225067139, -6.473899841308594, -6.505899906158447, -6.513999938964844, -6.547900199890137, -6.5903000831604, -6.637800216674805, -6.765200138092041, -6.867800235748291, -6.86899995803833, -6.918600082397461, -6.923900127410889, -5.052599906921387, -6.956299781799316, -6.964000225067139, -6.965700149536133, -6.9679999351501465, -6.088699817657471, -4.67519998550415, -6.116499900817871, -3.735599994659424, -4.237199783325195, -5.8491997718811035, -4.773200035095215, -5.601900100708008, -5.603600025177002, -4.704800128936768, -4.162899971008301, -5.5278000831604, -4.174099922180176, -4.932499885559082, -5.297399997711182, -4.560500144958496, -5.400700092315674, -5.677499771118164, -4.953800201416016, -4.277200222015381, -4.882999897003174, -5.57919979095459, -5.108500003814697, -5.09250020980835, -4.756400108337402, -4.4653000831604, -5.057300090789795, -4.860899925231934, -4.741399765014648, -4.876699924468994, -5.046199798583984, -5.043600082397461, -5.218100070953369, -5.224299907684326, -4.645699977874756, -4.682700157165527, -4.876299858093262, -4.935400009155273, -5.166299819946289, -5.321700096130371, -5.387700080871582, -5.428899765014648, -5.440499782562256, -5.491700172424316, -5.731299877166748, -5.75029993057251, -5.93120002746582, -5.96589994430542, -6.117300033569336, -6.127099990844727, -6.163000106811523, -6.20989990234375, -6.2505998611450195, -6.258900165557861, -6.322400093078613, -6.325699806213379, -6.335700035095215, -6.3471999168396, -6.395100116729736, -6.438199996948242, -6.439599990844727, -6.54040002822876, -6.562699794769287, -6.592100143432617, -3.5945000648498535, -5.261499881744385, -5.496099948883057, -4.810100078582764, -5.076499938964844, -5.338200092315674, -5.514900207519531, -4.113500118255615, -3.6649999618530273, -5.849699974060059, -5.757299900054932, -4.941199779510498, -5.633200168609619, -4.414700031280518, -5.343800067901611, -5.532700061798096, -4.378499984741211, -5.56689977645874, -4.604700088500977, -4.5218000411987305, -5.286300182342529, -5.4791998863220215, -5.156899929046631, -5.343400001525879, -5.288000106811523, -5.301000118255615, -5.4070000648498535, -4.110499858856201, -4.605899810791016, -4.676799774169922, -4.681099891662598, -5.052599906921387, -5.1041998863220215, -4.462100028991699, -5.214200019836426, -5.270999908447266, -5.326600074768066, -5.525899887084961, -5.545199871063232, -5.645299911499023, -5.669899940490723, -4.077199935913086, -5.738399982452393, -5.808499813079834, -5.813600063323975, -6.011199951171875, -6.0121002197265625, -6.072700023651123, -6.132999897003174, -6.1468000411987305, -6.214799880981445, -6.259200096130371, -6.270100116729736, -6.307400226593018, -6.3557000160217285, -6.3892998695373535, -6.402100086212158, -5.289899826049805, -5.792900085449219, -3.8568999767303467, -5.756100177764893, -4.076900005340576, -5.325500011444092, -5.290999889373779, -4.045000076293945, -3.822499990463257, -5.370500087738037, -5.121500015258789, -5.153299808502197, -3.660799980163574, -3.937000036239624, -4.083000183105469, -4.85830020904541, -5.103499889373779, -4.56820011138916, -5.331600189208984, -5.079599857330322, -5.0, -4.868000030517578, -4.704800128936768, -5.172999858856201, -5.071899890899658, -5.128799915313721, -5.258699893951416, -2.7221999168395996, -3.6401000022888184, -3.776099920272827, -3.9402999877929688, -4.121600151062012, -4.304200172424316, -3.9626998901367188, -4.561200141906738, -4.582699775695801, -4.671599864959717, -4.701700210571289, -4.718500137329102, -4.762700080871582, -4.94890022277832, -4.9903998374938965, -5.046000003814697, -5.070799827575684, -5.091700077056885, -5.178500175476074, -5.231100082397461, -5.265900135040283, -5.276199817657471, -5.283699989318848, -5.28439998626709, -5.316500186920166, -5.375199794769287, -5.3796000480651855, -5.376800060272217, -5.414100170135498, -5.449900150299072, -4.630899906158447, -3.4470999240875244, -4.0447998046875, -4.863699913024902, -4.261499881744385, -4.797100067138672, -4.026500225067139, -4.697800159454346, -4.56220006942749, -4.902699947357178, -5.028800010681152, -3.299999952316284, -3.4537999629974365, -3.5657999515533447, -3.7660999298095703, -3.7760000228881836, -3.9500999450683594, -3.9505999088287354, -3.9899001121520996, -4.1149001121521, -4.232399940490723, -4.330900192260742, -4.330999851226807, -4.451000213623047, -4.473599910736084, -4.5131001472473145, -4.522500038146973, -4.5335001945495605, -4.556000232696533, -4.642000198364258, -4.70550012588501, -4.714200019836426, -4.773900032043457, -4.786300182342529, -4.813399791717529, -4.81790018081665, -4.826700210571289, -4.8394999504089355, -4.9567999839782715, -4.980400085449219, -4.9182000160217285, -4.432600021362305, -4.001699924468994, -4.132400035858154, -4.115799903869629, -4.776299953460693, -4.78879976272583], \"loglift\": [30.0, 29.0, 28.0, 27.0, 26.0, 25.0, 24.0, 23.0, 22.0, 21.0, 20.0, 19.0, 18.0, 17.0, 16.0, 15.0, 14.0, 13.0, 12.0, 11.0, 10.0, 9.0, 8.0, 7.0, 6.0, 5.0, 4.0, 3.0, 2.0, 1.0, 1.2125, 1.2124, 1.2123, 1.2123, 1.2122, 1.212, 1.2119, 1.2117, 1.2114, 1.2114, 1.2113, 1.2113, 1.2112, 1.2111, 1.2111, 1.2111, 1.2108, 1.2107, 1.2107, 1.2105, 1.2104, 1.2102, 1.2101, 1.2094, 1.2093, 1.2091, 1.2088, 1.2088, 1.2086, 1.2084, 1.203, 1.2005, 1.1633, 1.1793, 1.187, 1.186, 1.1703, 1.1813, 1.1545, 1.1894, 1.1546, 1.0901, 1.042, 1.0885, 1.1236, 1.1148, 1.0463, 1.035, 1.1561, 1.0154, 1.0914, 1.1151, 0.9275, 0.9016, 1.006, 1.0258, 0.8489, 0.9205, 0.8467, 0.9883, 0.8537, 0.8425, 0.7068, 0.6473, 0.3296, 0.2032, 0.8393, 0.6027, 0.2677, 0.2976, 0.0041, 0.4904, 0.3091, 0.2201, 0.0361, 1.8884, 1.8881, 1.8872, 1.8867, 1.8865, 1.8864, 1.8864, 1.8861, 1.8858, 1.8857, 1.8854, 1.8854, 1.8846, 1.8845, 1.8845, 1.8844, 1.884, 1.8837, 1.8832, 1.8831, 1.883, 1.8825, 1.8825, 1.8823, 1.8822, 1.8821, 1.882, 1.8818, 1.8816, 1.8809, 1.8765, 1.8786, 1.8351, 1.8381, 1.8632, 1.7872, 1.8313, 1.8583, 1.6467, 1.7989, 1.6594, 1.5411, 1.7254, 1.7511, 1.7765, 1.5983, 1.7702, 1.6871, 1.7554, 1.5731, 1.4482, 1.4203, 1.4435, 1.55, 0.9437, 1.3047, 1.3292, 0.7945, 0.983, 1.5731, 1.4822, 1.4558, 0.5908, 0.8933, 1.2637, 1.1589, 1.2879, 0.6492, 0.6968, 1.305, 0.5614, 0.6939, 0.2311, 0.35, 0.3788, 0.3937, 2.0185, 2.0185, 2.0183, 2.0183, 2.0181, 2.0181, 2.0178, 2.0173, 2.0173, 2.017, 2.0169, 2.0167, 2.0167, 2.0166, 2.0164, 2.0155, 2.0151, 2.015, 2.0147, 2.0142, 2.0142, 2.0142, 2.0139, 2.0138, 2.0135, 2.0132, 2.0132, 2.013, 2.0127, 2.0124, 2.0091, 2.0063, 2.006, 2.0043, 1.9628, 1.9411, 1.8678, 1.8857, 1.8394, 1.7908, 1.9092, 1.8552, 1.824, 1.8529, 1.2988, 1.2806, 1.5672, 1.4168, 1.5285, 1.5214, 0.9911, 1.378, 0.8215, 1.0987, 0.8267, 0.6029, 1.5882, 1.0467, 0.6812, 0.6732, 0.8144, 0.0508, 0.524, 1.088, 0.5144, -0.0582, 0.4845, -0.3602, 0.5366, 0.3524, 0.7909, 0.4281, 2.221, 2.221, 2.2205, 2.2204, 2.2198, 2.2197, 2.2197, 2.2196, 2.2195, 2.2195, 2.2194, 2.2194, 2.2193, 2.2192, 2.2189, 2.2189, 2.2188, 2.2187, 2.2185, 2.2185, 2.2179, 2.2177, 2.2175, 2.2174, 2.2171, 2.217, 2.2166, 2.2165, 2.2164, 2.2164, 2.1945, 2.1521, 2.1885, 2.1651, 2.1834, 2.1431, 2.1599, 2.1342, 2.0603, 2.0202, 1.9768, 2.0766, 1.8506, 1.6767, 2.0805, 1.7525, 1.7937, 1.6625, 1.2919, 1.6671, 1.5979, 1.0424, 1.7797, 1.781, 1.3373, 1.8523, 1.8183, 0.1788, 0.5633, 0.9696, 0.5065, 0.4528, 0.4065, 0.2457, 0.3574, 2.3439, 2.3438, 2.3438, 2.3438, 2.3437, 2.3437, 2.3437, 2.3436, 2.3436, 2.3436, 2.3436, 2.3435, 2.3435, 2.3434, 2.3433, 2.3433, 2.3432, 2.3432, 2.3431, 2.3427, 2.3427, 2.3427, 2.3426, 2.3426, 2.3425, 2.3425, 2.3425, 2.3424, 2.3424, 2.3424, 2.3066, 2.1529, 0.4469, 1.7564, 2.3669, 2.3665, 2.3663, 2.3661, 2.3658, 2.3657, 2.3656, 2.3655, 2.3647, 2.3632, 2.3628, 2.3628, 2.3625, 2.3623, 2.3623, 2.3621, 2.3621, 2.3619, 2.3617, 2.3614, 2.3607, 2.36, 2.36, 2.3596, 2.3595, 2.3595, 2.3593, 2.3592, 2.3592, 2.3592, 2.3493, 2.273, 2.3321, 2.1926, 2.1281, 2.2681, 2.1735, 2.222, 2.2076, 1.8889, 1.6877, 2.0248, 1.5465, 1.8122, 1.8814, 1.5581, 1.888, 2.0144, 1.6266, 1.1888, 1.4436, 1.9384, 1.3294, 1.2969, 0.6833, 0.1483, 0.9874, 0.5004, 0.147, 0.1633, 0.4851, 0.3954, 0.4698, 0.5483, 2.8678, 2.8677, 2.8674, 2.8673, 2.8669, 2.8664, 2.8663, 2.8662, 2.8662, 2.866, 2.8652, 2.8651, 2.8643, 2.8642, 2.8634, 2.8633, 2.8631, 2.8628, 2.8626, 2.8625, 2.8621, 2.8621, 2.862, 2.8619, 2.8616, 2.8612, 2.8612, 2.8604, 2.8602, 2.86, 2.8465, 2.852, 2.8509, 2.8313, 2.8329, 2.8354, 2.8388, 2.7917, 2.7436, 2.8409, 2.83, 2.7344, 2.7942, 2.5995, 2.6383, 2.6683, 1.7401, 2.4822, 1.116, 0.9442, 1.7124, 2.1921, 1.3, 1.5427, 1.0386, 1.07, 0.0549, 3.1032, 3.1025, 3.1024, 3.1018, 3.1017, 3.1015, 3.1014, 3.1012, 3.101, 3.1009, 3.1001, 3.1001, 3.0996, 3.0995, 3.0994, 3.0992, 3.0988, 3.0988, 3.0977, 3.0977, 3.0972, 3.0968, 3.0967, 3.0962, 3.0958, 3.0957, 3.0954, 3.095, 3.0947, 3.0946, 3.0811, 3.0705, 2.9695, 3.0681, 2.9463, 2.9778, 2.9699, 2.5081, 2.325, 2.7978, 2.5729, 2.5205, 1.3679, 1.502, 1.379, 2.0277, 2.2968, 1.5544, 2.5529, 2.0816, 1.7999, 1.1144, 0.3353, 2.0602, 0.6256, 0.3109, 1.3725, 4.4078, 4.4064, 4.4061, 4.4057, 4.4051, 4.4043, 4.4033, 4.4031, 4.403, 4.4024, 4.4022, 4.4021, 4.4018, 4.4004, 4.4001, 4.3996, 4.3994, 4.3992, 4.3983, 4.3978, 4.3974, 4.3973, 4.3972, 4.3972, 4.3968, 4.3961, 4.396, 4.3958, 4.3956, 4.3951, 4.381, 4.1107, 3.918, 4.1589, 3.8339, 4.0046, 2.4303, 3.4149, 3.1322, 3.5298, 3.4593, 4.9379, 4.9375, 4.9371, 4.9363, 4.9363, 4.9355, 4.9355, 4.9353, 4.9345, 4.9338, 4.9331, 4.9331, 4.9321, 4.932, 4.9316, 4.9315, 4.9314, 4.9312, 4.9304, 4.9297, 4.9296, 4.9289, 4.9288, 4.9285, 4.9284, 4.9283, 4.9282, 4.9266, 4.9263, 4.9261, 4.8977, 4.7272, 4.1102, 3.8587, 4.2879, 3.6013]}, \"token.table\": {\"Topic\": [9, 8, 1, 6, 8, 10, 1, 3, 6, 8, 7, 1, 5, 7, 7, 6, 1, 3, 4, 6, 1, 2, 3, 4, 6, 7, 8, 4, 1, 2, 3, 4, 6, 7, 8, 1, 2, 3, 4, 7, 8, 2, 3, 5, 1, 2, 3, 4, 5, 7, 1, 2, 3, 1, 1, 1, 1, 2, 4, 5, 6, 7, 8, 1, 2, 3, 4, 6, 7, 8, 2, 3, 8, 9, 9, 2, 3, 4, 5, 6, 8, 9, 2, 5, 6, 8, 9, 3, 7, 2, 8, 1, 5, 7, 8, 9, 5, 7, 3, 5, 9, 1, 2, 3, 4, 6, 7, 8, 3, 1, 2, 3, 4, 6, 7, 8, 1, 2, 3, 4, 6, 7, 8, 1, 6, 8, 10, 1, 1, 1, 2, 3, 6, 8, 9, 1, 4, 6, 2, 6, 5, 6, 10, 7, 1, 8, 5, 5, 5, 5, 7, 4, 9, 9, 1, 3, 4, 5, 8, 1, 3, 3, 6, 8, 3, 6, 10, 6, 9, 7, 1, 2, 5, 7, 1, 2, 7, 8, 1, 1, 2, 4, 5, 6, 4, 5, 8, 3, 10, 3, 3, 1, 2, 3, 4, 6, 7, 8, 3, 7, 7, 5, 7, 1, 2, 3, 4, 6, 1, 2, 3, 4, 5, 6, 7, 6, 10, 2, 2, 4, 7, 2, 5, 1, 2, 3, 6, 7, 8, 2, 4, 1, 2, 3, 1, 3, 8, 5, 9, 1, 1, 3, 4, 6, 7, 4, 3, 4, 6, 7, 5, 2, 3, 4, 6, 7, 8, 3, 4, 7, 8, 1, 2, 3, 7, 9, 2, 3, 4, 6, 7, 8, 2, 3, 6, 7, 10, 10, 2, 1, 7, 5, 7, 5, 7, 4, 6, 1, 2, 3, 4, 6, 7, 8, 4, 2, 10, 4, 1, 2, 3, 4, 6, 7, 6, 4, 2, 5, 1, 5, 2, 4, 2, 1, 3, 4, 6, 7, 1, 4, 1, 3, 4, 8, 7, 7, 7, 5, 3, 7, 1, 2, 3, 4, 6, 4, 1, 2, 4, 1, 2, 4, 4, 1, 2, 3, 6, 5, 9, 5, 1, 3, 4, 5, 6, 9, 10, 1, 2, 3, 4, 6, 7, 8, 2, 8, 1, 9, 1, 2, 3, 4, 6, 7, 1, 3, 4, 6, 7, 8, 1, 2, 4, 6, 10, 4, 2, 3, 4, 5, 7, 8, 1, 2, 3, 4, 6, 8, 1, 2, 4, 5, 8, 10, 1, 2, 3, 6, 9, 10, 1, 2, 3, 4, 6, 7, 8, 6, 7, 8, 3, 1, 2, 3, 4, 6, 7, 8, 6, 10, 4, 4, 1, 2, 3, 4, 6, 7, 8, 3, 5, 7, 3, 1, 9, 2, 1, 3, 4, 6, 7, 1, 10, 1, 4, 8, 1, 3, 4, 6, 2, 7, 7, 7, 8, 1, 2, 1, 2, 3, 4, 6, 7, 8, 1, 2, 3, 4, 6, 7, 1, 2, 3, 4, 5, 8, 9, 1, 2, 3, 4, 6, 7, 8, 1, 2, 3, 4, 7, 8, 8, 5, 7, 8, 10, 1, 1, 2, 3, 4, 5, 6, 7, 8, 10, 7, 10, 1, 1, 4, 5, 7, 1, 10, 1, 10, 9, 3, 1, 4, 4, 1, 2, 4, 7, 4, 5, 2, 4, 1, 2, 3, 4, 7, 1, 2, 3, 4, 6, 7, 8, 1, 2, 3, 4, 6, 1, 2, 5, 1, 3, 7, 3, 1, 3, 6, 7, 8, 3, 10, 5, 5, 5, 2, 3, 4, 5, 6, 2, 4, 9, 1, 2, 3, 4, 7, 8, 2, 8, 3, 1, 2, 3, 6, 7, 8, 4, 9, 1, 3, 4, 6, 7, 4, 1, 6, 7, 7, 8, 1, 6, 8, 10, 8, 8, 5, 7, 1, 2, 9, 9, 1, 3, 4, 6, 7, 8, 1, 2, 3, 4, 6, 8, 1, 3, 6, 1, 3, 6, 1, 2, 6, 8, 5, 1, 3, 4, 6, 7, 8, 1, 3, 4, 7, 1, 3, 6, 8, 1, 2, 3, 4, 6, 7, 7, 6, 1, 2, 3, 4, 6, 7, 7, 8, 2, 10, 7, 8, 1, 6, 1, 2, 3, 4, 6, 7, 8, 2, 6, 8, 2, 4, 1, 2, 3, 4, 6, 4, 4, 4, 4, 5, 1, 3, 4, 6, 7, 8, 9, 8, 2, 4, 10, 5, 8, 9, 4, 1, 3, 6, 8, 1, 3, 4, 6, 7, 2, 1, 3, 4, 6, 1, 2, 3, 4, 6, 7, 8, 5, 10, 2, 3, 6, 1, 3, 3, 3, 3, 4, 3, 10, 9, 1, 3, 4, 7, 9, 2, 7, 1, 3, 5, 6, 8, 6, 8, 10, 4, 5, 9, 9, 2, 9, 10, 2, 7, 7, 1, 5, 8, 2, 8, 5, 5, 5, 3, 6, 1, 2, 3, 4, 6, 7, 8, 3, 7, 1, 10, 2, 1, 1, 2, 3, 4, 7, 8, 2, 2, 2, 10, 8, 1, 3, 4, 5, 6, 7, 8, 1, 3, 4, 6, 7, 8, 1, 2, 3, 4, 6, 7, 8, 8, 1, 2, 9, 1, 2, 3, 4, 6, 7, 5, 1, 4, 6, 7, 9, 1, 5, 1, 2, 5, 7, 5, 3, 6, 6, 2, 7, 1, 4, 1, 2, 3, 7, 10, 2, 9, 8, 1, 7, 1, 4, 5, 8, 1, 1, 4, 5, 8, 1, 3, 4, 8, 1, 3, 4, 8, 1, 2, 4, 6, 7, 8, 1, 2, 7, 2, 4, 6, 1, 2, 4, 6, 3, 1, 2, 3, 4, 6, 7, 8, 6, 8, 10, 3, 3, 4, 10, 9, 1, 6, 9, 7, 6, 8, 2, 6, 9, 1, 3, 5, 6, 8, 2, 1, 2, 3, 5, 6, 9, 1, 3, 4, 1, 4, 4, 4, 1, 2, 3, 4, 6, 8, 1, 3, 1, 2, 3, 4, 6, 7, 8, 10, 1, 2, 3, 6, 8, 1, 3, 4, 6, 7, 8, 10, 10, 1, 3, 4, 6, 8, 3, 2, 6, 7, 8, 2, 9, 5, 1, 2, 3, 4, 5, 6, 4, 7, 2, 7, 2, 3, 6, 7, 3, 9, 9, 2, 3, 4, 6, 1, 6, 1, 2, 3, 4, 5, 8, 9, 1, 3, 4, 5, 8, 1, 2, 3, 4, 6, 7, 8, 3, 9, 3, 8, 7, 3, 6, 6, 6, 1, 3, 5, 1, 2, 2, 3, 4, 5, 1, 2, 3, 4, 6, 7, 8, 1, 2, 3, 4, 6, 7, 8, 2, 1, 2, 3, 1, 3, 4, 6, 8, 1, 2, 3, 4, 6, 7, 8, 1, 2, 3, 4, 6, 7, 8, 3, 3, 7, 3, 7, 2, 6, 7, 8, 1, 2, 3, 5, 6, 7, 1, 2, 3, 4, 6, 7, 8, 1, 2, 3, 4, 6, 8, 1, 2, 3, 4, 7, 8, 9, 6, 9, 3, 2, 4, 2, 9, 7, 1, 3, 6, 7, 6, 5, 4, 6, 4, 6, 6, 6, 6, 6, 3, 4, 2, 2, 8, 8, 8, 1, 2, 3, 4, 6, 7, 8, 6, 5, 3, 5, 4, 1, 7, 8, 10, 1, 2, 3, 4, 6, 7, 8, 2, 6, 7, 2, 6, 7, 8, 1, 2, 3, 4, 6, 7, 8, 3, 4, 7, 10, 1, 4, 4, 2, 9, 7, 4, 7, 7, 1, 2, 4, 5, 6, 7, 9, 6, 1, 3, 4, 6, 4, 5, 1, 2, 3, 4, 6, 8, 1, 2, 3, 4, 6, 7, 8, 8, 6], \"Freq\": [0.9965530097125185, 0.9864428744495845, 0.09101342177205887, 0.9053440376273225, 0.9972488794161565, 0.9892781426107521, 0.3310117523697752, 0.6119162211239423, 0.04352753930244751, 0.013159488626321339, 0.9939309496315895, 0.9990902115071774, 0.027304449846383253, 0.9708248834269602, 0.9960808542296921, 0.9900227392578634, 0.03869893860878612, 0.058571366543027636, 0.28239766011816897, 0.6191830177405779, 0.3140238549905154, 0.28942779342474917, 0.14121531898965783, 0.07951313006174428, 0.11471094230240975, 0.037530197389143295, 0.023535886498276305, 0.9977674492846104, 0.12207676194918875, 0.30250111777664407, 0.2996687103068253, 0.06797777927565035, 0.0062312964336012815, 0.06457889031186782, 0.13680528079224633, 0.04624855448134916, 0.7947200586386937, 0.08164285638034086, 0.057574731089026505, 0.0070788603797983405, 0.012741948683637013, 0.9472958513535068, 0.006709758122916017, 0.04544336183247666, 0.1032379437154302, 0.7288290653343058, 0.063175458094517, 0.018490377978883022, 0.06471632292609057, 0.0208016752262434, 0.021612533378064513, 0.893972971547214, 0.0825205819889736, 0.9991040860315127, 0.9991839334893939, 0.996651696926076, 0.23863262778529346, 0.5575072210539458, 0.09698811480162511, 0.05372722906277075, 0.002093268664783276, 0.00907083088072753, 0.04186537329566552, 0.40468733359319164, 0.0006329833163605709, 0.21542532200138095, 0.17048350653978042, 0.1500170459774553, 0.00042198887757371393, 0.058445459543959376, 0.037491798246315135, 0.06561064693105148, 0.3327397094360468, 0.5623769736947271, 0.991442299016642, 0.1629163163652817, 0.03258326327305634, 0.07717088669934397, 0.5556303842352766, 0.014576723043209415, 0.12776069020224723, 0.02915344608641883, 0.07218274103412452, 0.04864489069691, 0.010984330157366773, 0.5884462584303629, 0.27931582400161226, 0.015067345025901532, 0.9823908956887799, 0.9975004137906627, 0.9960186059037638, 0.957991181063861, 0.015780225357263325, 0.012492678407833467, 0.013150187797719438, 0.9931411316150252, 0.03448961637952922, 0.9618770790290928, 0.9241305358093833, 0.01798457629569159, 0.056720586778719634, 0.0027973423348050387, 0.34047652417912755, 0.03676507068600908, 0.03396772835120404, 0.3972226115423155, 0.16024775375097436, 0.02877266401513754, 0.9967982875017389, 0.23319544334098874, 0.625681312594899, 0.03587622205245981, 0.0186556354672791, 0.08323283516170675, 0.0021525733231475886, 0.0003587622205245981, 0.2571368893889488, 0.03877291952675119, 0.2601194216602374, 0.19045598932371188, 0.12228382312283068, 0.04729444030186134, 0.08393697963483499, 0.9734469036439447, 0.019166312092471452, 0.006052519608148879, 0.9952418211522325, 0.9990413787516067, 0.9978950679820907, 0.17695509504970172, 0.0154835708168489, 0.6359323728348656, 0.0929014249010934, 0.07852382342830513, 0.9994730092378155, 0.998671796619226, 0.14638849027980932, 0.8518751904234687, 0.29581185436109775, 0.702748796868428, 0.0070993353834467605, 0.9927237311186387, 0.9938918365082928, 0.99483587225169, 0.12165873599290683, 0.8737309221308763, 0.9987895118658151, 0.9990916082575283, 0.9988437611828223, 0.99815126550326, 0.9925740713030434, 0.9933810384387852, 0.9955001177985376, 0.9964368978406075, 0.3357784896284755, 0.16705397493954008, 0.004343403348428042, 0.03374490293778709, 0.458730215183977, 0.15020700817993107, 0.8477029174510962, 0.9960446425123073, 0.9991806906830437, 0.9931592437449869, 0.04857123553502554, 0.1368825728714356, 0.8080487366281521, 0.003071595683319848, 0.9951970013956307, 0.9957229653958465, 0.9981580687582787, 0.11507058660942694, 0.08787208431992603, 0.792940951363142, 0.10077600726216025, 0.8487579278301941, 0.04926827021705612, 0.9958706912874218, 0.996111952559901, 0.07176201315332227, 0.03280549172723304, 0.8672951875387235, 0.02460411879542478, 0.002050343232952065, 0.9152070725702817, 0.05597596774130163, 0.026588584677118277, 0.9923160028705011, 0.9833862857762584, 0.9940910001861032, 0.9922041440178955, 0.05593855711481326, 0.15802642384934745, 0.004195391783610994, 0.024473118737730802, 0.1510341042099958, 0.265708146295363, 0.34052596643642574, 0.997515121152342, 0.9985509919746818, 0.9990340910806916, 0.03307462812593582, 0.9650009147331862, 0.06189657445792647, 0.6435604099267852, 0.020085643367141703, 0.06968488515130795, 0.20495554456267043, 0.010218976030559827, 0.7060526362037567, 0.047793364819849034, 0.028455917869712747, 0.14998312512544731, 0.047007289740575206, 0.01053340606226936, 0.9941932531505397, 0.9937178728988849, 0.9930519854606291, 0.9870415024950315, 0.009536632874348132, 0.9954463570333952, 0.9948115036468449, 0.9993766557604008, 0.41311334900947055, 0.33466449949607624, 0.1395384010087098, 0.1086141870530066, 0.0038892416324657385, 9.485955201135948e-05, 0.8869553784194378, 0.11063099343726321, 0.820389539646156, 0.10019602339807977, 0.07916039417638347, 0.9663434104203331, 0.013165441558860123, 0.02040643441623319, 0.999908828975205, 0.994492909481382, 0.9982172240235131, 0.9142271988530077, 0.026089057890765856, 0.01498733112873783, 0.03885604366709808, 0.005550863381014012, 0.9954454925400998, 0.9445170838078696, 0.05516648454099061, 0.991598276683575, 0.9934804370802527, 0.9997979501116713, 0.5482719199738544, 0.21877517001389807, 0.11272257235472187, 0.08404168116387548, 0.012005954451982211, 0.023344911434409855, 0.3662493186604273, 0.03985096213403613, 0.01518131890820424, 0.5768901185117611, 0.24626476255726307, 0.013200883760001163, 0.39375049835865533, 0.20802771994208727, 0.13838167803587426, 0.6658051488215089, 0.2004479692075365, 0.022958798235224443, 0.0388533508596106, 0.0194266754298053, 0.051215780678577606, 0.9033779563814079, 0.03963496000680018, 0.0441219366113436, 0.01271310037953968, 0.9937387470194736, 0.9936475254753502, 0.9942299047648152, 0.03571809970330744, 0.9629004378349965, 0.021954129856029982, 0.9776308437930086, 0.030407984547848724, 0.9679875081065178, 0.9626676809492632, 0.035793905945275935, 0.3456904713258676, 0.21465469790354103, 0.2219344630936703, 0.06512438589007523, 0.08243842201795022, 0.030299563223781228, 0.040137083750982926, 0.9914209568677765, 0.9959270034694663, 0.9848213294215225, 0.9964390149357897, 0.011193288702980943, 0.7286830945640594, 0.04253449707132758, 0.08954630962384755, 0.06827906108818375, 0.05820510125550091, 0.9966117739932653, 0.9971519524537079, 0.9686385820286495, 0.025490489000753937, 0.9980354439561225, 0.9994780075752816, 0.9903183550311773, 0.004126326479296572, 0.9913249590003982, 0.9444243653195202, 0.0011020120948885884, 0.011020120948885884, 0.03967243541598918, 0.003306036284665765, 0.9682708913645338, 0.030609195722798754, 0.9057163726719508, 0.03138085401133402, 0.017854623834034872, 0.0443660349815412, 0.9986790712059839, 0.9966369343785478, 0.995687036822076, 0.9995055076941615, 0.9985507465791102, 0.9919865609190208, 0.0003014519412047033, 0.2541239864355649, 0.39791656239020834, 0.09586171730309564, 0.25171237090592724, 0.9968592262609595, 0.4179102469907047, 0.007598368127103722, 0.5740221739657448, 0.8849099421662009, 0.00487889699333536, 0.10916532022587867, 0.9935262238455601, 0.013551288228541777, 0.014680562247586924, 0.8740580907409446, 0.09598829161883758, 0.9991755309813588, 0.9838205906528047, 0.9994411093644856, 0.04193911007623142, 0.0817336065690192, 0.028833138177409103, 0.826152810422127, 0.011676229509859885, 0.007625292741132985, 0.0021446135834436524, 0.1536819343111328, 0.22419190094176564, 0.10452357729400148, 0.002482745303895522, 0.5069765910554656, 0.00794478497246567, 0.9993445735338261, 0.0013767304730553432, 0.9967528624920684, 0.25596648799009325, 0.7418921737466875, 0.687920841819612, 0.14770616440159517, 0.0018744437106801418, 0.12671239484197758, 0.032990209307970496, 0.0029991099370882267, 0.6978880003258857, 0.1504293036084195, 0.006498026073797819, 0.13028542277964628, 0.0012996052147595638, 0.013320953451285528, 0.17934391647304507, 0.3398095259489275, 0.11641622648250294, 0.09753791948534031, 0.26114991346074984, 0.9967782386228585, 0.027143789961896373, 0.0013571894980948186, 0.6908094545302627, 0.08143136988568912, 0.13300457081329223, 0.06514509590855129, 0.21398334144204828, 0.0046772315069300175, 0.012862386644057547, 0.2911576613063936, 0.030402004795045113, 0.44550630103508415, 0.04711631644880046, 0.050624978312009, 0.24560633042459815, 0.10576109330528614, 0.5508599125237416, 0.9967471273305554, 0.29564934750417765, 0.2551167756689275, 0.059606723287132596, 0.019074151451882432, 0.3695616843802221, 0.9953071945896418, 0.11078773794541093, 0.04170832487356647, 0.5470959176774851, 0.053112944956182295, 0.000325846288074738, 0.03421386024784749, 0.21245177982472918, 0.1797086816720565, 0.8178047252902282, 0.9951366919494108, 0.9940187886483965, 0.24102971276144824, 0.26529444894548665, 0.2924709534716097, 0.07602950670998702, 0.06891185076266909, 0.031058862315569168, 0.024911795815612772, 0.9946336999252965, 0.9855920685942157, 0.9979859190465776, 0.9954068936283116, 0.22085404898815036, 0.648139025397878, 0.006310115685375725, 0.0009014450979108179, 0.026141907839413718, 0.08383439410570606, 0.013521676468662269, 0.9842486478942545, 0.01284919905867173, 0.9937428610752245, 0.9948323451122977, 0.998950012264836, 0.9844733389666378, 0.9979276455370928, 0.8127045804526203, 0.00040332733521221853, 0.022989658107096456, 0.12099820056366556, 0.042752697532495165, 0.9987768958374047, 0.9966436922389554, 0.04410546081089902, 0.8173123046562893, 0.13830601291318953, 0.04603701336329291, 0.01315343238951226, 0.9391550726111754, 0.9953627376826487, 0.9982216559569186, 0.9918536786448534, 0.9968365936872327, 0.11540020494397957, 0.8799265626978442, 0.08382592435882319, 0.913487637243586, 0.7461269179637645, 0.04716146604391711, 0.028947382606266364, 0.04618571157404296, 0.08684214781879909, 0.03707866985521759, 0.007806035758993177, 0.21032572089863674, 0.005842381136073243, 0.003894920757382162, 0.011035608812582792, 0.4453192732606938, 0.3232784228627194, 0.014842296620723547, 0.14248604755894606, 0.3364253900697337, 0.04551637630355221, 0.10290658990368326, 0.35225717313183885, 0.005936918648289419, 0.129822415490853, 0.03498760133796038, 0.13718822629884467, 0.19427326006078002, 0.03498760133796038, 0.10864570941787698, 0.3600040032405924, 0.07992769730644614, 0.0707052706941639, 0.10759497714329287, 0.16139246571493931, 0.021518995428658576, 0.557956810043076, 0.9933867306582425, 0.014316850474804438, 0.9830903992699047, 0.9909995785495245, 0.9862903370402096, 0.9992490150357078, 0.3080378190697114, 0.06968724431413142, 0.0033665335417454793, 0.30736451236136225, 0.033160355386192976, 0.04023007582385848, 0.059924297043069535, 0.17808962435833586, 0.9855864244321912, 0.47541356581852773, 0.5186329808929393, 0.9958176400925652, 0.12082153066663008, 0.1275338379258873, 0.069360508345658, 0.6801804689380656, 0.5619448255591836, 0.4370681976571428, 0.9975818806286627, 0.9920470777164233, 0.9926006211782038, 0.9912733240613606, 0.9977212881603416, 0.9985946519785245, 0.9946134839926528, 0.6023634886365212, 0.00023724438307858262, 0.3943001646766043, 0.0026096882138644086, 0.9949625360761661, 0.9997921337993163, 0.07499894889848292, 0.9240611234652587, 0.9980426109449962, 0.007710185590645607, 0.6495831360118923, 0.2457621657018287, 0.09637731988307008, 0.3640693711087713, 0.3884992042057376, 0.09253069526992524, 0.027960988913341898, 0.10874518626348692, 0.018160229912789067, 7.206440441582963e-05, 0.04528036852488656, 0.40409571910655734, 0.35737215158486163, 0.04095077153445916, 0.15225749416336357, 0.9987376821741167, 0.9905965671856577, 0.9996475407077868, 0.986804957741334, 0.0074335590037011975, 0.004645974377313249, 0.9918879917306092, 0.8365877512846002, 0.10945816750727834, 0.000204594705621081, 0.03478109995558377, 0.018822712917139453, 0.9977842500432889, 0.9944398439948277, 0.9998101485439606, 0.9990787480611855, 0.9984723940958973, 0.030243460974377804, 0.08413180961963279, 0.8506660750429539, 0.012647265498376171, 0.021995244345002038, 0.02599448442472, 0.9724995349483483, 0.9958062042703887, 0.07484214218874645, 0.5712045359793966, 0.06320864858427809, 0.2857961595497727, 0.0034900480813405085, 0.0011633493604468362, 0.9947623348862076, 0.9897874896197495, 0.9989197842880473, 0.0490972538394682, 0.0018780370321108053, 0.0764629363073685, 0.8397508443581172, 0.012341386211013864, 0.02012182534404434, 0.9941679361397763, 0.9925297541111906, 0.04577276317410215, 0.0008975051602765128, 0.9441754286108914, 0.008077546442488615, 0.0008975051602765128, 0.9966784792441745, 0.9759603478489131, 0.01888955511965638, 0.0031482591866093972, 0.00373993834675924, 0.9948236002379578, 0.16197146892104664, 0.23049785961841254, 0.26579933361402525, 0.3384788388991103, 0.9905466718496129, 0.9942149731043886, 0.02549512436326418, 0.9730639131979162, 0.008686934683481543, 0.9903105539168958, 0.993306582429782, 0.9892236733513144, 0.5428618324267621, 0.11618445122048782, 0.1798410662570003, 0.14645472969938886, 0.0008903023082029719, 0.01357711020009532, 0.6930364425938641, 0.007477942819495227, 0.07743289177606348, 0.05210437577454739, 0.12398911642646925, 0.04583255276464817, 0.08216269833904241, 0.051798222865918044, 0.8644944781760114, 0.10549275387000855, 0.06983323143507608, 0.8238835495904189, 0.005041292037937187, 0.19661038947955028, 0.06301615047421484, 0.7360286375388293, 0.9991899098285251, 0.8423188105969798, 0.12519653873336253, 8.755002708626751e-05, 0.008667452681540483, 0.00017510005417253503, 0.02355095728620596, 0.9723851082035294, 0.0038510301314991263, 0.0009627575328747816, 0.022143423256119975, 0.9509728802984888, 0.0465771251373099, 0.0008367148228259262, 0.0014874930183572021, 0.053107420620695865, 0.049022234419103874, 0.17157782046686357, 0.01634074480636796, 0.7094606703431422, 0.9963172765210736, 0.9899123663668229, 0.9991088872395617, 0.10497204627890763, 0.24031898254490341, 0.26756704562155603, 0.03260833778025641, 0.35422481999648403, 0.999107575447833, 0.029140457457853174, 0.966491839018797, 0.9927782254407865, 0.9944447528646844, 0.030305245111941565, 0.9647169693968065, 0.8825578875622934, 0.11729823875743806, 0.4852304160433952, 0.303452254141942, 0.023699572183388383, 0.09870749651638049, 0.07012141460445842, 0.011971948834907533, 0.006596788133520478, 0.0024061178978546324, 0.14356503457199304, 0.8541718537383944, 0.9944454372508813, 0.997720506813984, 0.43648639150396984, 0.5572241594764389, 0.0003520051544386853, 0.005632082471018965, 0.9991918748326964, 0.9940345794592718, 0.9960760973548557, 0.9952057130830114, 0.9971232256639962, 0.9995449011584018, 0.8290000097870748, 0.03992351321920757, 0.04790821586304908, 0.04509008551816384, 0.0065756374713988935, 0.03146912218455185, 0.9879038330585317, 0.9968997004786034, 0.9942229581759074, 0.9977177426869013, 0.9971708426771756, 0.021608505917516545, 0.9785566251218206, 0.9934956407676855, 0.9990723858059316, 0.9427947803271861, 0.026689676260218734, 0.0014426852032550668, 0.028132361463473803, 0.16397089833357603, 0.20426089049554041, 0.009369765619061486, 0.6155936011723397, 0.006558835933343041, 0.9967329751846918, 0.21915890616668054, 0.006070883827331871, 0.19973207791921857, 0.574305610065595, 0.15697161989257552, 0.2729893220775944, 0.24241186869486345, 0.12959541614197162, 0.11038791834920922, 0.024837281628572076, 0.06270033762235083, 0.9632896165108064, 0.03645916875240104, 0.043902240839733285, 0.044646346616677914, 0.9100413652032848, 0.9978152503694476, 0.9973778604064177, 0.9991456103900559, 0.9956944021318312, 0.8345621937649145, 0.1646121811991089, 0.9974819112833276, 0.9916738807150188, 0.9929055719719836, 0.1521827909387259, 0.09018239463035609, 0.6436768416741665, 0.11385527322082456, 0.9944860426671401, 0.1247364357186891, 0.8746950060273507, 0.732014784587485, 0.18871105487982195, 0.010310067388556127, 0.06719954637183904, 0.001656975116017949, 0.9945626207631784, 0.9957302069025865, 0.9902290658288592, 0.22791827401031547, 0.09971424487951303, 0.6695099299053018, 0.9935424192529939, 0.994357634410619, 0.9889324146045048, 0.9805443521171822, 0.9443634669614352, 0.05448250770931357, 0.9920832024499251, 0.9965515522336545, 0.998124062723419, 0.9949446283951209, 0.9973307513150285, 0.9981279008119314, 0.9995608685283526, 0.9988335225693296, 0.9976166767945952, 0.9990539681262739, 0.9975046747507025, 0.12393342864467242, 0.3694750808937795, 0.17253021398564153, 0.1548586556798346, 0.07487160229565576, 0.03813336265989921, 0.06580330263872851, 0.9960715592810799, 0.003972369129735114, 0.9976636173439591, 0.9971467554468163, 0.9970455120941384, 0.9939932505115826, 0.2742241455342429, 0.6404577083201067, 0.013981823209805148, 0.06088858494592564, 0.0022551327757750236, 0.008118477992790085, 0.998690501595924, 0.9922228143988332, 0.9977549383198022, 0.9975690591080736, 0.9874932929753042, 0.846023120179786, 0.030627169736238222, 0.040067050819325344, 0.013425608651501686, 0.05013625730795161, 0.0004195502703594277, 0.019299312436533673, 0.6900186849682681, 0.09176719083976967, 0.07411965413981396, 0.0776491614798051, 0.003176556605992027, 0.06282523065184231, 0.26658604568628536, 0.48196347242718257, 0.01355522266201451, 0.09287837749898831, 0.046188166107605, 0.07179247558029907, 0.02711044532402902, 0.9950763673831061, 0.999114249011129, 0.6108096486241585, 0.38869704912446457, 0.09180429739368261, 0.07144949842404258, 0.027416667999923313, 0.0008308081212097975, 0.7876060989068879, 0.020770203030244936, 0.9994268781818968, 0.24324457251069803, 0.6679146549050659, 0.08600913061151753, 0.0013438926658049615, 0.0013438926658049615, 0.9425522788903462, 0.05687815476062434, 0.9063967930983369, 0.02668325425864469, 0.06253887716869849, 0.003335406782330586, 0.9980340479773318, 0.9971279357641476, 0.9928710551902177, 0.9959335936729407, 0.9946260018303219, 0.9921547348061663, 0.9894785073415336, 0.009541740668674385, 0.3294999440284824, 0.276279050456186, 0.07904868015885208, 0.31462940023622316, 0.9913884627066757, 0.9949950465367591, 0.996742856837892, 0.9909674257004613, 0.995009221414772, 0.9978532676421084, 0.11483295050288295, 0.5715986530618363, 0.04234064096754343, 0.2713650171101647, 0.996794285973026, 0.0027346813432984115, 0.7825746444072288, 0.08067309962730314, 0.13399938582162216, 0.5598400314778513, 0.013718982863736226, 0.41262479228622034, 0.013191329676669448, 0.798148035965375, 0.002755401735208429, 0.194715055954729, 0.004133102602812644, 0.13647473077830194, 0.7847297019752362, 0.00029668419734413465, 0.01602094665658327, 0.06171031304758001, 0.000890052592032404, 0.12653570045699683, 0.8705046380836771, 0.0015245265115300824, 0.712631791807764, 0.22714638481863633, 0.0599858410612596, 0.0004978787429568256, 0.7478138719211521, 0.23848391787631948, 0.012944847316877466, 0.9991668939848795, 0.38839740486201485, 0.045962388819877936, 0.30164720079800683, 0.051593542417015296, 0.15462843391058273, 0.011110113853811554, 0.046723355522193796, 0.9917273564929074, 0.9961836024364068, 0.9892764395005644, 0.9962365654020362, 0.03222554137474496, 0.00805638534368624, 0.9587098558986625, 0.9905381493365899, 0.11251996962103507, 0.10067576229250506, 0.7817176836829804, 0.992057376138014, 0.9928926188076863, 0.9956691672658378, 0.3797105154011635, 0.008209957089754886, 0.6116418031867391, 0.0028548419173824065, 0.607367617923107, 0.01712905150429444, 0.18627843510920203, 0.18627843510920203, 0.9943745315192493, 0.009118810111102054, 0.06687127414808174, 0.8222127116843686, 0.08358909268510217, 0.01823762022220411, 0.9839837487385455, 0.06639745769673876, 0.0011814494252088746, 0.9323998863748438, 0.1349147301576392, 0.8639493729360749, 0.9987632083779255, 0.9979862493959304, 0.2127487434361488, 0.0017019899474891905, 0.22253518563421165, 0.21785471327861639, 0.3429509744190719, 0.0025529849212337858, 0.14033177284243964, 0.8588545410872057, 0.19302830792704953, 0.18178041780348086, 0.3777114070527417, 0.16472716503548965, 0.042088879172063436, 0.003991186818040498, 0.03628351652764089, 0.9852495870326667, 0.0021677036734353253, 0.011922370203894288, 0.7950053222324055, 0.013006222040611951, 0.17720977530333784, 0.6944746406304068, 0.12449662302805421, 0.04149887434268474, 0.1208880252591251, 0.00469117709960784, 0.013893101410377064, 0.9939630680267302, 0.9954306557440404, 0.21359631894043057, 0.057056550949841044, 0.651761370465492, 0.073149424294668, 0.00438896545768008, 0.9917084810552071, 0.992302754337633, 0.9954335525060726, 0.1251665573839338, 0.8741895876235798, 0.9972224392240049, 0.9896855952504106, 0.9990151364889386, 0.1999051670005995, 0.09342826342847861, 0.01931198741259055, 0.026097280287284527, 0.041755648459655244, 0.6200713796258803, 0.9985335411970729, 0.9974896635473769, 0.11754361281232524, 0.8822277064954596, 0.46614127988735776, 0.02453375157301883, 0.0015333594733136769, 0.5075419856668271, 0.9918893846478373, 0.988219037983207, 0.9950395655839966, 0.0525954447923254, 0.23141995708623173, 0.06311453375079047, 0.6508686293050268, 0.9966925633034113, 0.9923040882290004, 0.12754939205494079, 0.02599347800171779, 0.22850080661975172, 0.5355865467330688, 0.04775545958455129, 0.01934398362918533, 0.015716986698713083, 0.04962994264646197, 0.23653419474058474, 0.6420213857244442, 0.05174185509950291, 0.020063168303888882, 0.3070536484013912, 0.29869844708434656, 0.08940065409237785, 0.05013120790226796, 0.073525771589993, 0.16543298607748425, 0.015874882502384852, 0.9890498982810086, 0.008675876300710601, 0.9985940292053318, 0.9975657126072776, 0.9971762229942143, 0.9962701585993607, 0.9985952856300132, 0.9994216568496228, 0.9982823609094723, 0.9957270719696398, 0.0024769330148498503, 0.999432055173873, 0.02278739272533199, 0.9760599884017203, 0.0018901814069264106, 0.3723657371645029, 0.6250199852236664, 0.9990847781179306, 0.0010140159671208928, 0.04765875045468195, 0.47743251785275365, 0.015717247490373835, 0.30775384602119094, 0.14584929660422172, 0.004225066529670386, 0.10420870237893305, 0.07782951202778055, 0.20362118833038384, 0.00021800983761283065, 0.4401618621403051, 0.17331782090220038, 0.0008720393504513226, 0.989516931236132, 0.0018027259569541004, 0.15142898038414443, 0.8454784738114731, 0.3445893981154299, 0.11537821401772241, 0.04687239944469973, 0.4769652954482632, 0.015967520689952656, 0.29838511296642684, 0.00032741599813433816, 0.48621275722949214, 0.00021827733208955877, 0.030558826492538226, 0.008076261287313674, 0.17614980699627392, 0.8839123306707022, 0.03286764746881236, 0.053539123864291834, 0.0004134295279095894, 0.026872919314123313, 0.0010335738197739736, 0.0012402885837287682, 0.9956042800018071, 0.9866037509703152, 0.011516775303155431, 0.9853886801480861, 0.01159280800174219, 0.8739460687538259, 0.03955359362894471, 0.08287419617493176, 0.9977769256041668, 0.20274200747667778, 0.06828647249214474, 0.5261763849394718, 0.03811337999561567, 0.15774704498185374, 0.006352229999269278, 0.40008036956620446, 0.19049879439048714, 0.044581324075839396, 0.0230309423270019, 0.13917269434745436, 0.0009870403854429386, 0.20152074536126663, 0.051966765539423296, 0.53525768505606, 0.03810896139557708, 0.03810896139557708, 0.1616743816782058, 0.17553218582205202, 0.02954513226390198, 0.06893864194910462, 0.01969675484260132, 0.43004581406346215, 0.022979547316368205, 0.016413962368834432, 0.4169146441683946, 0.9951696330234032, 0.9891313742831254, 0.9922739000226345, 0.9503362320741062, 0.049229129138973975, 0.9993533367137187, 0.9914132837383555, 0.9958320011649168, 0.7511100502864875, 0.12755867300825757, 0.12116009879586924, 0.9920796936113873, 0.9935927048283735, 0.9995010144366575, 0.030024018188594393, 0.9641045840559755, 0.013203878186783445, 0.9836889249153666, 0.9934673110223085, 0.9998111588166017, 0.9986046804634937, 0.9961609760312629, 0.8943978312365488, 0.10299126541511774, 0.994029285595498, 0.9965797048316518, 0.9921991274852743, 0.9977887112913466, 0.9966547110101526, 0.3703361744346, 0.05433735964903985, 0.262262975723041, 0.13855024176194294, 0.09463923894592918, 0.035289207742549865, 0.04471303026470807, 0.9919623266455437, 0.9994412170191808, 0.9959530273029343, 0.9997962764225007, 0.9981140786244729, 0.9935979742650897, 0.00308570799461208, 0.9943093164928081, 0.9824643389517387, 0.10195955180087966, 0.26500297923021426, 0.22688296661997548, 0.16281378879915245, 0.16212487290860594, 0.022045308497487495, 0.059017127956815484, 0.07127356176321922, 0.0028509424705287687, 0.9258435673042177, 0.16691601192163577, 0.0015896763040155787, 0.7638394640794857, 0.06676640476865431, 0.2592546187542381, 0.05333237871515756, 0.30320444936209945, 0.09514232993012675, 0.18567568886017816, 0.042139163429260294, 0.06123347185814386, 0.9972384987240872, 0.06858149287373128, 0.9274830464828421, 0.9896666584091776, 0.9953517947421183, 0.9967869483088634, 0.9966513092815222, 0.023436423477243732, 0.972611574305615, 0.9974600478739115, 0.9955851220650255, 0.9941970798223657, 0.995800056106388, 0.001054620412122514, 0.8173308193949483, 0.12339058821833414, 0.05589488184249324, 0.001054620412122514, 0.001054620412122514, 0.9974312676178959, 0.9969578085277945, 0.17850900132522524, 0.2241149194269549, 0.5795670536447279, 0.017811753421705587, 0.9670451762189066, 0.031132239073445686, 0.11215995710489664, 0.002982977582577038, 0.16197568273393317, 0.6896644170918113, 0.031321264617058905, 0.001789786549546223, 0.5676656416010446, 0.22075886062262845, 0.03087070586171565, 0.05796585776912075, 0.05752167495096657, 0.029760248816330194, 0.03531253404325747, 0.9895594864818186, 0.9933922280868748], \"Term\": [\"ablation\", \"absa\", \"abstractive\", \"abstractive\", \"abusive\", \"accuracies\", \"accuracy\", \"accuracy\", \"accuracy\", \"accuracy\", \"acoustic\", \"adversarial\", \"agent\", \"agent\", \"agents\", \"aggregation\", \"alignment\", \"alignment\", \"alignment\", \"alignment\", \"also\", \"also\", \"also\", \"also\", \"also\", \"also\", \"also\", \"amr\", \"analysis\", \"analysis\", \"analysis\", \"analysis\", \"analysis\", \"analysis\", \"analysis\", \"annotated\", \"annotated\", \"annotated\", \"annotated\", \"annotated\", \"annotated\", \"annotation\", \"annotation\", \"annotation\", \"annotations\", \"annotations\", \"annotations\", \"annotations\", \"annotations\", \"annotations\", \"annotators\", \"annotators\", \"annotators\", \"answer\", \"answering\", \"answers\", \"applications\", \"applications\", \"applications\", \"applications\", \"applications\", \"applications\", \"applications\", \"approach\", \"approach\", \"approach\", \"approach\", \"approach\", \"approach\", \"approach\", \"argument\", \"argument\", \"argument\", \"argument\", \"argumentation\", \"article\", \"article\", \"article\", \"article\", \"article\", \"article\", \"article\", \"articles\", \"articles\", \"articles\", \"articles\", \"articles\", \"asr\", \"asr\", \"attack\", \"attacks\", \"attention\", \"attention\", \"attention\", \"attention\", \"attribution\", \"audio\", \"audio\", \"augmentation\", \"augmentation\", \"augmentation\", \"automatic\", \"automatic\", \"automatic\", \"automatic\", \"automatic\", \"automatic\", \"automatic\", \"auxiliary\", \"available\", \"available\", \"available\", \"available\", \"available\", \"available\", \"available\", \"based\", \"based\", \"based\", \"based\", \"based\", \"based\", \"based\", \"baselines\", \"baselines\", \"baselines\", \"behaviors\", \"benchmark\", \"benchmarks\", \"best\", \"best\", \"best\", \"best\", \"best\", \"bias\", \"biases\", \"bilingual\", \"bilingual\", \"biomedical\", \"biomedical\", \"bleu\", \"bleu\", \"box\", \"captions\", \"causal\", \"causal\", \"ce\", \"ces\", \"cet\", \"cette\", \"children\", \"citation\", \"claim\", \"claims\", \"classification\", \"classification\", \"classification\", \"classification\", \"classification\", \"classifier\", \"classifier\", \"classify\", \"clinical\", \"cnn\", \"codes\", \"codes\", \"codes\", \"cognitive\", \"cognitive\", \"comments\", \"commonsense\", \"communication\", \"communication\", \"communication\", \"community\", \"community\", \"community\", \"compositional\", \"comprehension\", \"concept\", \"concept\", \"concept\", \"concept\", \"concept\", \"concepts\", \"concepts\", \"concepts\", \"conditioned\", \"configuration\", \"constituency\", \"constrained\", \"content\", \"content\", \"content\", \"content\", \"content\", \"content\", \"content\", \"contextualized\", \"conversation\", \"conversational\", \"conversations\", \"conversations\", \"corpora\", \"corpora\", \"corpora\", \"corpora\", \"corpora\", \"corpus\", \"corpus\", \"corpus\", \"corpus\", \"corpus\", \"corpus\", \"corpus\", \"correlated\", \"counterfactual\", \"countries\", \"creation\", \"creation\", \"da\", \"daily\", \"dans\", \"data\", \"data\", \"data\", \"data\", \"data\", \"data\", \"database\", \"database\", \"dataset\", \"dataset\", \"dataset\", \"datasets\", \"datasets\", \"datasets\", \"de\", \"debiasing\", \"decoder\", \"demonstrate\", \"demonstrate\", \"demonstrate\", \"demonstrate\", \"demonstrate\", \"dense\", \"dependency\", \"dependency\", \"deployed\", \"depression\", \"des\", \"describe\", \"describe\", \"describe\", \"describe\", \"describe\", \"describe\", \"detecting\", \"detecting\", \"detecting\", \"detecting\", \"detection\", \"detection\", \"detection\", \"detection\", \"detection\", \"developed\", \"developed\", \"developed\", \"developed\", \"developed\", \"developed\", \"development\", \"development\", \"development\", \"development\", \"devices\", \"diagnosis\", \"dialects\", \"dialog\", \"dialog\", \"dialogue\", \"dialogue\", \"dialogues\", \"dialogues\", \"dictionary\", \"dictionary\", \"different\", \"different\", \"different\", \"different\", \"different\", \"different\", \"different\", \"differential\", \"digital\", \"directed\", \"disambiguation\", \"discuss\", \"discuss\", \"discuss\", \"discuss\", \"discuss\", \"discuss\", \"distillation\", \"distributional\", \"documentation\", \"documentation\", \"downstream\", \"du\", \"dutch\", \"dutch\", \"ed\", \"effectiveness\", \"effectiveness\", \"effectiveness\", \"effectiveness\", \"effectiveness\", \"embedding\", \"embedding\", \"embeddings\", \"embeddings\", \"embeddings\", \"embeddings\", \"emotion\", \"emotional\", \"emotions\", \"en\", \"encoder\", \"endangered\", \"english\", \"english\", \"english\", \"english\", \"english\", \"entailment\", \"entities\", \"entities\", \"entities\", \"entity\", \"entity\", \"entity\", \"entries\", \"error\", \"error\", \"error\", \"error\", \"es\", \"essay\", \"est\", \"et\", \"et\", \"et\", \"et\", \"et\", \"et\", \"et\", \"evaluation\", \"evaluation\", \"evaluation\", \"evaluation\", \"evaluation\", \"evaluation\", \"event\", \"events\", \"events\", \"evidence\", \"evidence\", \"existing\", \"existing\", \"existing\", \"existing\", \"existing\", \"existing\", \"experiments\", \"experiments\", \"experiments\", \"experiments\", \"experiments\", \"experiments\", \"experts\", \"experts\", \"experts\", \"experts\", \"experts\", \"explanation\", \"expressions\", \"expressions\", \"expressions\", \"expressions\", \"expressions\", \"expressions\", \"extract\", \"extract\", \"extract\", \"extract\", \"extract\", \"extract\", \"extraction\", \"extraction\", \"extraction\", \"extraction\", \"extraction\", \"extractive\", \"fact\", \"fact\", \"fact\", \"fact\", \"fact\", \"fake\", \"features\", \"features\", \"features\", \"features\", \"features\", \"features\", \"features\", \"feedback\", \"feedback\", \"figurative\", \"financial\", \"first\", \"first\", \"first\", \"first\", \"first\", \"first\", \"first\", \"fluency\", \"forgetting\", \"frame\", \"frames\", \"future\", \"future\", \"future\", \"future\", \"future\", \"future\", \"future\", \"gains\", \"gains\", \"game\", \"gec\", \"gender\", \"gendered\", \"generalize\", \"generation\", \"generation\", \"generation\", \"generation\", \"generation\", \"generative\", \"gradient\", \"graph\", \"graph\", \"graph\", \"graphs\", \"graphs\", \"graphs\", \"grounding\", \"guidelines\", \"harmful\", \"hate\", \"health\", \"health\", \"hope\", \"hope\", \"however\", \"however\", \"however\", \"however\", \"however\", \"however\", \"however\", \"human\", \"human\", \"human\", \"human\", \"human\", \"human\", \"identification\", \"identification\", \"identification\", \"identification\", \"identification\", \"identification\", \"identification\", \"identify\", \"identify\", \"identify\", \"identify\", \"identify\", \"identify\", \"identify\", \"identifying\", \"identifying\", \"identifying\", \"identifying\", \"identifying\", \"identifying\", \"ie\", \"images\", \"images\", \"individuals\", \"inductive\", \"inference\", \"information\", \"information\", \"information\", \"information\", \"information\", \"information\", \"information\", \"information\", \"inject\", \"instructions\", \"instructions\", \"intent\", \"interaction\", \"interaction\", \"interaction\", \"interaction\", \"interactions\", \"interactions\", \"interpretability\", \"interventions\", \"intuition\", \"iwslt\", \"jointly\", \"kg\", \"kgs\", \"knowledge\", \"knowledge\", \"knowledge\", \"knowledge\", \"korean\", \"la\", \"label\", \"label\", \"labeling\", \"labels\", \"labels\", \"labels\", \"labels\", \"language\", \"language\", \"language\", \"language\", \"language\", \"language\", \"language\", \"languages\", \"languages\", \"languages\", \"languages\", \"languages\", \"latent\", \"latin\", \"le\", \"learn\", \"learn\", \"learn\", \"learner\", \"learning\", \"learning\", \"learning\", \"learning\", \"learning\", \"learns\", \"legal\", \"les\", \"leverage\", \"leverages\", \"lexical\", \"lexical\", \"lexical\", \"lexical\", \"lexical\", \"lexicon\", \"lexicon\", \"light\", \"linguistic\", \"linguistic\", \"linguistic\", \"linguistic\", \"linguistic\", \"linguistic\", \"literary\", \"location\", \"loss\", \"machine\", \"machine\", \"machine\", \"machine\", \"machine\", \"machine\", \"massive\", \"mbert\", \"meaning\", \"meaning\", \"meaning\", \"meaning\", \"meaning\", \"meanings\", \"mechanism\", \"mechanism\", \"mechanism\", \"media\", \"media\", \"medical\", \"medical\", \"medical\", \"medical\", \"meme\", \"memes\", \"mental\", \"mental\", \"metadata\", \"metadata\", \"metaphor\", \"metaphors\", \"method\", \"method\", \"method\", \"method\", \"method\", \"method\", \"methods\", \"methods\", \"methods\", \"methods\", \"methods\", \"methods\", \"metric\", \"metric\", \"metric\", \"metrics\", \"metrics\", \"metrics\", \"mining\", \"mining\", \"mining\", \"mining\", \"mod\", \"model\", \"model\", \"model\", \"model\", \"model\", \"model\", \"modeling\", \"modeling\", \"modeling\", \"modeling\", \"models\", \"models\", \"models\", \"models\", \"monolingual\", \"monolingual\", \"monolingual\", \"monolingual\", \"monolingual\", \"moral\", \"movie\", \"mt\", \"multilingual\", \"multilingual\", \"multilingual\", \"multilingual\", \"multilingual\", \"multimodal\", \"narrative\", \"narrative\", \"national\", \"navigation\", \"negation\", \"negation\", \"neural\", \"neural\", \"new\", \"new\", \"new\", \"new\", \"new\", \"new\", \"new\", \"news\", \"news\", \"news\", \"nine\", \"nlg\", \"nlp\", \"nlp\", \"nlp\", \"nlp\", \"nmt\", \"node\", \"nodes\", \"noun\", \"nouns\", \"nous\", \"novel\", \"novel\", \"novel\", \"novel\", \"novel\", \"novel\", \"ocr\", \"offensive\", \"ongoing\", \"ontology\", \"ood\", \"opinion\", \"opinion\", \"orders\", \"outperform\", \"outperforms\", \"outperforms\", \"outperforms\", \"outperforms\", \"output\", \"output\", \"output\", \"output\", \"output\", \"overview\", \"pairs\", \"pairs\", \"pairs\", \"pairs\", \"paper\", \"paper\", \"paper\", \"paper\", \"paper\", \"paper\", \"paper\", \"par\", \"par\", \"parallel\", \"parallel\", \"parallel\", \"parameters\", \"parse\", \"parser\", \"parsers\", \"parsing\", \"parsing\", \"participated\", \"patient\", \"patients\", \"patterns\", \"patterns\", \"patterns\", \"patterns\", \"pcl\", \"people\", \"people\", \"performance\", \"performance\", \"performance\", \"performance\", \"performance\", \"perplexity\", \"personality\", \"personalized\", \"perspectives\", \"perspectives\", \"perspectives\", \"perturbations\", \"phonetic\", \"physical\", \"plan\", \"platform\", \"platform\", \"plausible\", \"plms\", \"plus\", \"polarity\", \"portuguese\", \"posts\", \"pour\", \"pr\", \"predicted\", \"predicting\", \"predicts\", \"present\", \"present\", \"present\", \"present\", \"present\", \"present\", \"present\", \"pretrained\", \"pretrained\", \"pretraining\", \"privacy\", \"probe\", \"probing\", \"processing\", \"processing\", \"processing\", \"processing\", \"processing\", \"processing\", \"project\", \"projects\", \"prompt\", \"prompts\", \"propaganda\", \"propose\", \"propose\", \"propose\", \"propose\", \"propose\", \"propose\", \"propose\", \"proposed\", \"proposed\", \"proposed\", \"proposed\", \"proposed\", \"proposed\", \"provide\", \"provide\", \"provide\", \"provide\", \"provide\", \"provide\", \"provide\", \"pruning\", \"qa\", \"qualitative\", \"qualitative\", \"quality\", \"quality\", \"quality\", \"quality\", \"quality\", \"quality\", \"que\", \"query\", \"query\", \"query\", \"query\", \"query\", \"question\", \"question\", \"questions\", \"questions\", \"questions\", \"questions\", \"qui\", \"ranked\", \"ratings\", \"readability\", \"reader\", \"readers\", \"reasoning\", \"reasoning\", \"recognition\", \"recognition\", \"recognition\", \"recognition\", \"recognizing\", \"recordings\", \"recurrent\", \"reddit\", \"regression\", \"reinforcement\", \"relation\", \"relation\", \"relation\", \"relation\", \"relational\", \"relations\", \"relations\", \"relations\", \"relations\", \"representation\", \"representation\", \"representation\", \"representation\", \"representations\", \"representations\", \"representations\", \"representations\", \"research\", \"research\", \"research\", \"research\", \"research\", \"research\", \"researchers\", \"researchers\", \"researchers\", \"resource\", \"resource\", \"resource\", \"resources\", \"resources\", \"resources\", \"resources\", \"responses\", \"results\", \"results\", \"results\", \"results\", \"results\", \"results\", \"results\", \"retriever\", \"reviews\", \"revision\", \"reward\", \"rewriting\", \"rewriting\", \"rewriting\", \"rhetorical\", \"risk\", \"risk\", \"risk\", \"rl\", \"rouge\", \"sarcasm\", \"scientific\", \"scientific\", \"scientific\", \"score\", \"score\", \"score\", \"score\", \"score\", \"script\", \"segmentation\", \"segmentation\", \"segmentation\", \"segmentation\", \"segmentation\", \"selective\", \"semantic\", \"semantic\", \"semantic\", \"semantics\", \"semantics\", \"sense\", \"senses\", \"sentences\", \"sentences\", \"sentences\", \"sentences\", \"sentences\", \"sentences\", \"sentiment\", \"sentiment\", \"set\", \"set\", \"set\", \"set\", \"set\", \"set\", \"set\", \"severely\", \"shared\", \"shared\", \"shared\", \"shared\", \"shared\", \"show\", \"show\", \"show\", \"show\", \"show\", \"show\", \"sign\", \"signals\", \"similarity\", \"similarity\", \"similarity\", \"similarity\", \"similarity\", \"simultaneous\", \"skills\", \"smt\", \"social\", \"social\", \"software\", \"solely\", \"sont\", \"source\", \"source\", \"source\", \"source\", \"source\", \"source\", \"span\", \"speaker\", \"speech\", \"speech\", \"spoken\", \"spoken\", \"spoken\", \"spoken\", \"spurious\", \"squad\", \"stance\", \"statistical\", \"statistical\", \"statistical\", \"statistical\", \"story\", \"stress\", \"structure\", \"structure\", \"structure\", \"structure\", \"structure\", \"structure\", \"structure\", \"structures\", \"structures\", \"structures\", \"structures\", \"structures\", \"study\", \"study\", \"study\", \"study\", \"study\", \"study\", \"study\", \"submission\", \"submission\", \"submitted\", \"subtask\", \"suffer\", \"suffers\", \"summaries\", \"summarization\", \"summary\", \"supervision\", \"supervision\", \"sur\", \"survey\", \"survey\", \"syntactic\", \"syntactic\", \"syntactic\", \"syst\", \"system\", \"system\", \"system\", \"system\", \"system\", \"system\", \"system\", \"systems\", \"systems\", \"systems\", \"systems\", \"systems\", \"systems\", \"systems\", \"tabular\", \"tagging\", \"tagging\", \"tagging\", \"target\", \"target\", \"target\", \"target\", \"target\", \"task\", \"task\", \"task\", \"task\", \"task\", \"task\", \"task\", \"tasks\", \"tasks\", \"tasks\", \"tasks\", \"tasks\", \"tasks\", \"tasks\", \"teacher\", \"team\", \"team\", \"teams\", \"teams\", \"technology\", \"technology\", \"technology\", \"temporal\", \"test\", \"test\", \"test\", \"test\", \"test\", \"test\", \"text\", \"text\", \"text\", \"text\", \"text\", \"text\", \"text\", \"texts\", \"texts\", \"texts\", \"texts\", \"texts\", \"texts\", \"theory\", \"theory\", \"theory\", \"theory\", \"theory\", \"theory\", \"theory\", \"thereby\", \"titles\", \"tokenization\", \"tool\", \"tool\", \"tools\", \"toxic\", \"tracking\", \"training\", \"training\", \"training\", \"transcripts\", \"transferability\", \"transformer\", \"translate\", \"translate\", \"translated\", \"translated\", \"translating\", \"translation\", \"translations\", \"translators\", \"tree\", \"tree\", \"turkish\", \"tutorial\", \"tweet\", \"tweets\", \"twitter\", \"two\", \"two\", \"two\", \"two\", \"two\", \"two\", \"two\", \"typing\", \"un\", \"uncertainty\", \"une\", \"unlabeled\", \"unseen\", \"unseen\", \"unstructured\", \"updates\", \"used\", \"used\", \"used\", \"used\", \"used\", \"used\", \"used\", \"user\", \"user\", \"user\", \"users\", \"users\", \"users\", \"users\", \"using\", \"using\", \"using\", \"using\", \"using\", \"using\", \"using\", \"utilize\", \"utterance\", \"utterance\", \"vanilla\", \"vectors\", \"verb\", \"verbs\", \"verification\", \"verification\", \"video\", \"videos\", \"visualization\", \"voice\", \"web\", \"web\", \"web\", \"web\", \"web\", \"web\", \"wikipedia\", \"wmt\", \"word\", \"word\", \"word\", \"word\", \"wordnet\", \"wordnet\", \"words\", \"words\", \"words\", \"words\", \"words\", \"words\", \"work\", \"work\", \"work\", \"work\", \"work\", \"work\", \"work\", \"worse\", \"wsd\"]}, \"R\": 30, \"lambda.step\": 0.01, \"plot.opts\": {\"xlab\": \"PC1\", \"ylab\": \"PC2\"}, \"topic.order\": [9, 6, 3, 7, 2, 5, 4, 1, 8, 10]};\n",
              "\n",
              "function LDAvis_load_lib(url, callback){\n",
              "  var s = document.createElement('script');\n",
              "  s.src = url;\n",
              "  s.async = true;\n",
              "  s.onreadystatechange = s.onload = callback;\n",
              "  s.onerror = function(){console.warn(\"failed to load library \" + url);};\n",
              "  document.getElementsByTagName(\"head\")[0].appendChild(s);\n",
              "}\n",
              "\n",
              "if(typeof(LDAvis) !== \"undefined\"){\n",
              "   // already loaded: just create the visualization\n",
              "   !function(LDAvis){\n",
              "       new LDAvis(\"#\" + \"ldavis_el551405319446403364262660340\", ldavis_el551405319446403364262660340_data);\n",
              "   }(LDAvis);\n",
              "}else if(typeof define === \"function\" && define.amd){\n",
              "   // require.js is available: use it to load d3/LDAvis\n",
              "   require.config({paths: {d3: \"https://cdnjs.cloudflare.com/ajax/libs/d3/3.5.5/d3.min\"}});\n",
              "   require([\"d3\"], function(d3){\n",
              "      window.d3 = d3;\n",
              "      LDAvis_load_lib(\"https://cdn.rawgit.com/bmabey/pyLDAvis/files/ldavis.v1.0.0.js\", function(){\n",
              "        new LDAvis(\"#\" + \"ldavis_el551405319446403364262660340\", ldavis_el551405319446403364262660340_data);\n",
              "      });\n",
              "    });\n",
              "}else{\n",
              "    // require.js not available: dynamically load d3 & LDAvis\n",
              "    LDAvis_load_lib(\"https://cdnjs.cloudflare.com/ajax/libs/d3/3.5.5/d3.min.js\", function(){\n",
              "         LDAvis_load_lib(\"https://cdn.rawgit.com/bmabey/pyLDAvis/files/ldavis.v1.0.0.js\", function(){\n",
              "                 new LDAvis(\"#\" + \"ldavis_el551405319446403364262660340\", ldavis_el551405319446403364262660340_data);\n",
              "            })\n",
              "         });\n",
              "}\n",
              "</script>"
            ]
          },
          "metadata": {},
          "execution_count": 143
        }
      ]
    },
    {
      "cell_type": "markdown",
      "source": [
        "\n"
      ],
      "metadata": {
        "id": "F5s2gpon-GMM"
      }
    },
    {
      "cell_type": "markdown",
      "source": [
        "## Distribucion de los topicos por año"
      ],
      "metadata": {
        "id": "GKgOmlvXc0cZ"
      }
    },
    {
      "cell_type": "markdown",
      "source": [
        "Para un documento en particular"
      ],
      "metadata": {
        "id": "j1Z9x0LJpYwv"
      }
    },
    {
      "cell_type": "code",
      "metadata": {
        "id": "iPF_BUvFW1rd",
        "colab": {
          "base_uri": "https://localhost:8080/"
        },
        "outputId": "735b4ba5-9d8d-4869-fcbe-f592bdadb19d"
      },
      "source": [
        "new_text = dataset[0]\n",
        "\n",
        "# transform held_out_text into the bag-of-words space\n",
        "bow_vector = dictionary.doc2bow(word_tokenize(new_text))\n",
        "lda_vector = ldamodel[bow_vector]\n",
        "print(lda_vector) # imprime las probabilidades de cada topico\n",
        "\n",
        "# print the document's single most prominent LDA topic (palabras mas frecuentes de topico mas probable )\n",
        "print(ldamodel.print_topic(max(lda_vector, key=lambda item: item[1])[0]))"
      ],
      "execution_count": 135,
      "outputs": [
        {
          "output_type": "stream",
          "name": "stdout",
          "text": [
            "[(2, 0.2957455), (3, 0.0627075), (4, 0.15181106), (5, 0.20666568), (6, 0.20013016), (7, 0.011000595), (8, 0.038367312), (9, 0.031997275)]\n",
            "0.024*\"task\" + 0.015*\"system\" + 0.012*\"paper\" + 0.011*\"results\" + 0.011*\"languages\" + 0.010*\"using\" + 0.009*\"features\" + 0.008*\"data\" + 0.008*\"shared\" + 0.008*\"model\"\n"
          ]
        }
      ]
    },
    {
      "cell_type": "markdown",
      "source": [
        "Cargo todos los papers y corro el LDA sobre ellos y Aplico el mismo preprocesamiento\n"
      ],
      "metadata": {
        "id": "dfdS6WX1pbGA"
      }
    },
    {
      "cell_type": "code",
      "source": [
        "papers = pd.read_csv('https://raw.githubusercontent.com/mateosuster/nlpPapers/main/code/data/ACL_data.csv')\n",
        "\n",
        "STOP_WORDS_en = stopwords.words(\"english\")\n",
        "\n",
        "STOP_WORDS_fr = stopwords.words(\"french\")\n",
        "STOP_WORDS = STOP_WORDS_fr + STOP_WORDS_en\n",
        "\n",
        "def tokenize(x):\n",
        "    return [word for word in word_tokenize(x) if word not in STOP_WORDS_en and word.isalpha() and len(word)>1]\n",
        "    \n",
        "papers_text  = [tokenize(str(doc).lower()) for doc in papers.ABSTRACT]\n",
        "papers_text_df = pd.DataFrame([' '.join(text) for text in papers_text], columns = ['text'])\n",
        "\n",
        "papers_text_df"
      ],
      "metadata": {
        "id": "Nhvmdz45pjxD",
        "outputId": "d6409bb7-2fe1-4ff7-8677-abcf4ad304f9",
        "colab": {
          "base_uri": "https://localhost:8080/",
          "height": 424
        }
      },
      "execution_count": 148,
      "outputs": [
        {
          "output_type": "execute_result",
          "data": {
            "text/plain": [
              "                                                    text\n",
              "0      text worlds virtual environments embodied agen...\n",
              "1      prototype system playing minimal improvisation...\n",
              "2      characters npcs significantly enhance player e...\n",
              "3      interactive question answering iqa requires in...\n",
              "4      purpose extended abstract discuss possible fru...\n",
              "...                                                  ...\n",
              "33806  paper deals problem representing useful form w...\n",
              "33807  becomes evident successful pragmatics automati...\n",
              "33808  establishing grammatical description language ...\n",
              "33809  grammar based upon conventional morphemic anal...\n",
              "33810  used think output translation machine would st...\n",
              "\n",
              "[33811 rows x 1 columns]"
            ],
            "text/html": [
              "\n",
              "  <div id=\"df-f5c13047-46cc-44d2-ac8c-59362371ef30\">\n",
              "    <div class=\"colab-df-container\">\n",
              "      <div>\n",
              "<style scoped>\n",
              "    .dataframe tbody tr th:only-of-type {\n",
              "        vertical-align: middle;\n",
              "    }\n",
              "\n",
              "    .dataframe tbody tr th {\n",
              "        vertical-align: top;\n",
              "    }\n",
              "\n",
              "    .dataframe thead th {\n",
              "        text-align: right;\n",
              "    }\n",
              "</style>\n",
              "<table border=\"1\" class=\"dataframe\">\n",
              "  <thead>\n",
              "    <tr style=\"text-align: right;\">\n",
              "      <th></th>\n",
              "      <th>text</th>\n",
              "    </tr>\n",
              "  </thead>\n",
              "  <tbody>\n",
              "    <tr>\n",
              "      <th>0</th>\n",
              "      <td>text worlds virtual environments embodied agen...</td>\n",
              "    </tr>\n",
              "    <tr>\n",
              "      <th>1</th>\n",
              "      <td>prototype system playing minimal improvisation...</td>\n",
              "    </tr>\n",
              "    <tr>\n",
              "      <th>2</th>\n",
              "      <td>characters npcs significantly enhance player e...</td>\n",
              "    </tr>\n",
              "    <tr>\n",
              "      <th>3</th>\n",
              "      <td>interactive question answering iqa requires in...</td>\n",
              "    </tr>\n",
              "    <tr>\n",
              "      <th>4</th>\n",
              "      <td>purpose extended abstract discuss possible fru...</td>\n",
              "    </tr>\n",
              "    <tr>\n",
              "      <th>...</th>\n",
              "      <td>...</td>\n",
              "    </tr>\n",
              "    <tr>\n",
              "      <th>33806</th>\n",
              "      <td>paper deals problem representing useful form w...</td>\n",
              "    </tr>\n",
              "    <tr>\n",
              "      <th>33807</th>\n",
              "      <td>becomes evident successful pragmatics automati...</td>\n",
              "    </tr>\n",
              "    <tr>\n",
              "      <th>33808</th>\n",
              "      <td>establishing grammatical description language ...</td>\n",
              "    </tr>\n",
              "    <tr>\n",
              "      <th>33809</th>\n",
              "      <td>grammar based upon conventional morphemic anal...</td>\n",
              "    </tr>\n",
              "    <tr>\n",
              "      <th>33810</th>\n",
              "      <td>used think output translation machine would st...</td>\n",
              "    </tr>\n",
              "  </tbody>\n",
              "</table>\n",
              "<p>33811 rows × 1 columns</p>\n",
              "</div>\n",
              "      <button class=\"colab-df-convert\" onclick=\"convertToInteractive('df-f5c13047-46cc-44d2-ac8c-59362371ef30')\"\n",
              "              title=\"Convert this dataframe to an interactive table.\"\n",
              "              style=\"display:none;\">\n",
              "        \n",
              "  <svg xmlns=\"http://www.w3.org/2000/svg\" height=\"24px\"viewBox=\"0 0 24 24\"\n",
              "       width=\"24px\">\n",
              "    <path d=\"M0 0h24v24H0V0z\" fill=\"none\"/>\n",
              "    <path d=\"M18.56 5.44l.94 2.06.94-2.06 2.06-.94-2.06-.94-.94-2.06-.94 2.06-2.06.94zm-11 1L8.5 8.5l.94-2.06 2.06-.94-2.06-.94L8.5 2.5l-.94 2.06-2.06.94zm10 10l.94 2.06.94-2.06 2.06-.94-2.06-.94-.94-2.06-.94 2.06-2.06.94z\"/><path d=\"M17.41 7.96l-1.37-1.37c-.4-.4-.92-.59-1.43-.59-.52 0-1.04.2-1.43.59L10.3 9.45l-7.72 7.72c-.78.78-.78 2.05 0 2.83L4 21.41c.39.39.9.59 1.41.59.51 0 1.02-.2 1.41-.59l7.78-7.78 2.81-2.81c.8-.78.8-2.07 0-2.86zM5.41 20L4 18.59l7.72-7.72 1.47 1.35L5.41 20z\"/>\n",
              "  </svg>\n",
              "      </button>\n",
              "      \n",
              "  <style>\n",
              "    .colab-df-container {\n",
              "      display:flex;\n",
              "      flex-wrap:wrap;\n",
              "      gap: 12px;\n",
              "    }\n",
              "\n",
              "    .colab-df-convert {\n",
              "      background-color: #E8F0FE;\n",
              "      border: none;\n",
              "      border-radius: 50%;\n",
              "      cursor: pointer;\n",
              "      display: none;\n",
              "      fill: #1967D2;\n",
              "      height: 32px;\n",
              "      padding: 0 0 0 0;\n",
              "      width: 32px;\n",
              "    }\n",
              "\n",
              "    .colab-df-convert:hover {\n",
              "      background-color: #E2EBFA;\n",
              "      box-shadow: 0px 1px 2px rgba(60, 64, 67, 0.3), 0px 1px 3px 1px rgba(60, 64, 67, 0.15);\n",
              "      fill: #174EA6;\n",
              "    }\n",
              "\n",
              "    [theme=dark] .colab-df-convert {\n",
              "      background-color: #3B4455;\n",
              "      fill: #D2E3FC;\n",
              "    }\n",
              "\n",
              "    [theme=dark] .colab-df-convert:hover {\n",
              "      background-color: #434B5C;\n",
              "      box-shadow: 0px 1px 3px 1px rgba(0, 0, 0, 0.15);\n",
              "      filter: drop-shadow(0px 1px 2px rgba(0, 0, 0, 0.3));\n",
              "      fill: #FFFFFF;\n",
              "    }\n",
              "  </style>\n",
              "\n",
              "      <script>\n",
              "        const buttonEl =\n",
              "          document.querySelector('#df-f5c13047-46cc-44d2-ac8c-59362371ef30 button.colab-df-convert');\n",
              "        buttonEl.style.display =\n",
              "          google.colab.kernel.accessAllowed ? 'block' : 'none';\n",
              "\n",
              "        async function convertToInteractive(key) {\n",
              "          const element = document.querySelector('#df-f5c13047-46cc-44d2-ac8c-59362371ef30');\n",
              "          const dataTable =\n",
              "            await google.colab.kernel.invokeFunction('convertToInteractive',\n",
              "                                                     [key], {});\n",
              "          if (!dataTable) return;\n",
              "\n",
              "          const docLinkHtml = 'Like what you see? Visit the ' +\n",
              "            '<a target=\"_blank\" href=https://colab.research.google.com/notebooks/data_table.ipynb>data table notebook</a>'\n",
              "            + ' to learn more about interactive tables.';\n",
              "          element.innerHTML = '';\n",
              "          dataTable['output_type'] = 'display_data';\n",
              "          await google.colab.output.renderOutput(dataTable, element);\n",
              "          const docLink = document.createElement('div');\n",
              "          docLink.innerHTML = docLinkHtml;\n",
              "          element.appendChild(docLink);\n",
              "        }\n",
              "      </script>\n",
              "    </div>\n",
              "  </div>\n",
              "  "
            ]
          },
          "metadata": {},
          "execution_count": 148
        }
      ]
    },
    {
      "cell_type": "code",
      "source": [
        "results = []\n",
        "\n",
        "for text_i in papers_text_df.text:\n",
        "\n",
        "  # transform held_out_text into the bag-of-words space\n",
        "  bow_vector = dictionary.doc2bow(word_tokenize(str(text_i)))\n",
        "  lda_vector_i = ldamodel[bow_vector]\n",
        "\n",
        "  # converting to dict\n",
        "  result = dict(lda_vector_i)\n",
        "  results.append(result)\n",
        "\n",
        "topics_dis = pd.DataFrame(results)\n",
        "topics_dis['year'] = papers.YEAR \n",
        "topics_dis = topics_dis.melt(id_vars = 'year', var_name='topic', value_name='prob')\n",
        "topics_dis"
      ],
      "metadata": {
        "id": "IfpjfVySim2X",
        "outputId": "08a8aca2-f29b-43a6-c363-fc2a50bc2593",
        "colab": {
          "base_uri": "https://localhost:8080/",
          "height": 424
        }
      },
      "execution_count": 163,
      "outputs": [
        {
          "output_type": "execute_result",
          "data": {
            "text/plain": [
              "        year topic      prob\n",
              "0       2022     0  0.029780\n",
              "1       2022     0  0.059540\n",
              "2       2022     0       NaN\n",
              "3       2022     0  0.019596\n",
              "4       2022     0       NaN\n",
              "...      ...   ...       ...\n",
              "338105  1963     9       NaN\n",
              "338106  1963     9  0.011225\n",
              "338107  1963     9  0.046298\n",
              "338108  1963     9       NaN\n",
              "338109  1963     9  0.031997\n",
              "\n",
              "[338110 rows x 3 columns]"
            ],
            "text/html": [
              "\n",
              "  <div id=\"df-6569a8ca-0638-40f6-90f9-f31c3744f5dd\">\n",
              "    <div class=\"colab-df-container\">\n",
              "      <div>\n",
              "<style scoped>\n",
              "    .dataframe tbody tr th:only-of-type {\n",
              "        vertical-align: middle;\n",
              "    }\n",
              "\n",
              "    .dataframe tbody tr th {\n",
              "        vertical-align: top;\n",
              "    }\n",
              "\n",
              "    .dataframe thead th {\n",
              "        text-align: right;\n",
              "    }\n",
              "</style>\n",
              "<table border=\"1\" class=\"dataframe\">\n",
              "  <thead>\n",
              "    <tr style=\"text-align: right;\">\n",
              "      <th></th>\n",
              "      <th>year</th>\n",
              "      <th>topic</th>\n",
              "      <th>prob</th>\n",
              "    </tr>\n",
              "  </thead>\n",
              "  <tbody>\n",
              "    <tr>\n",
              "      <th>0</th>\n",
              "      <td>2022</td>\n",
              "      <td>0</td>\n",
              "      <td>0.029780</td>\n",
              "    </tr>\n",
              "    <tr>\n",
              "      <th>1</th>\n",
              "      <td>2022</td>\n",
              "      <td>0</td>\n",
              "      <td>0.059540</td>\n",
              "    </tr>\n",
              "    <tr>\n",
              "      <th>2</th>\n",
              "      <td>2022</td>\n",
              "      <td>0</td>\n",
              "      <td>NaN</td>\n",
              "    </tr>\n",
              "    <tr>\n",
              "      <th>3</th>\n",
              "      <td>2022</td>\n",
              "      <td>0</td>\n",
              "      <td>0.019596</td>\n",
              "    </tr>\n",
              "    <tr>\n",
              "      <th>4</th>\n",
              "      <td>2022</td>\n",
              "      <td>0</td>\n",
              "      <td>NaN</td>\n",
              "    </tr>\n",
              "    <tr>\n",
              "      <th>...</th>\n",
              "      <td>...</td>\n",
              "      <td>...</td>\n",
              "      <td>...</td>\n",
              "    </tr>\n",
              "    <tr>\n",
              "      <th>338105</th>\n",
              "      <td>1963</td>\n",
              "      <td>9</td>\n",
              "      <td>NaN</td>\n",
              "    </tr>\n",
              "    <tr>\n",
              "      <th>338106</th>\n",
              "      <td>1963</td>\n",
              "      <td>9</td>\n",
              "      <td>0.011225</td>\n",
              "    </tr>\n",
              "    <tr>\n",
              "      <th>338107</th>\n",
              "      <td>1963</td>\n",
              "      <td>9</td>\n",
              "      <td>0.046298</td>\n",
              "    </tr>\n",
              "    <tr>\n",
              "      <th>338108</th>\n",
              "      <td>1963</td>\n",
              "      <td>9</td>\n",
              "      <td>NaN</td>\n",
              "    </tr>\n",
              "    <tr>\n",
              "      <th>338109</th>\n",
              "      <td>1963</td>\n",
              "      <td>9</td>\n",
              "      <td>0.031997</td>\n",
              "    </tr>\n",
              "  </tbody>\n",
              "</table>\n",
              "<p>338110 rows × 3 columns</p>\n",
              "</div>\n",
              "      <button class=\"colab-df-convert\" onclick=\"convertToInteractive('df-6569a8ca-0638-40f6-90f9-f31c3744f5dd')\"\n",
              "              title=\"Convert this dataframe to an interactive table.\"\n",
              "              style=\"display:none;\">\n",
              "        \n",
              "  <svg xmlns=\"http://www.w3.org/2000/svg\" height=\"24px\"viewBox=\"0 0 24 24\"\n",
              "       width=\"24px\">\n",
              "    <path d=\"M0 0h24v24H0V0z\" fill=\"none\"/>\n",
              "    <path d=\"M18.56 5.44l.94 2.06.94-2.06 2.06-.94-2.06-.94-.94-2.06-.94 2.06-2.06.94zm-11 1L8.5 8.5l.94-2.06 2.06-.94-2.06-.94L8.5 2.5l-.94 2.06-2.06.94zm10 10l.94 2.06.94-2.06 2.06-.94-2.06-.94-.94-2.06-.94 2.06-2.06.94z\"/><path d=\"M17.41 7.96l-1.37-1.37c-.4-.4-.92-.59-1.43-.59-.52 0-1.04.2-1.43.59L10.3 9.45l-7.72 7.72c-.78.78-.78 2.05 0 2.83L4 21.41c.39.39.9.59 1.41.59.51 0 1.02-.2 1.41-.59l7.78-7.78 2.81-2.81c.8-.78.8-2.07 0-2.86zM5.41 20L4 18.59l7.72-7.72 1.47 1.35L5.41 20z\"/>\n",
              "  </svg>\n",
              "      </button>\n",
              "      \n",
              "  <style>\n",
              "    .colab-df-container {\n",
              "      display:flex;\n",
              "      flex-wrap:wrap;\n",
              "      gap: 12px;\n",
              "    }\n",
              "\n",
              "    .colab-df-convert {\n",
              "      background-color: #E8F0FE;\n",
              "      border: none;\n",
              "      border-radius: 50%;\n",
              "      cursor: pointer;\n",
              "      display: none;\n",
              "      fill: #1967D2;\n",
              "      height: 32px;\n",
              "      padding: 0 0 0 0;\n",
              "      width: 32px;\n",
              "    }\n",
              "\n",
              "    .colab-df-convert:hover {\n",
              "      background-color: #E2EBFA;\n",
              "      box-shadow: 0px 1px 2px rgba(60, 64, 67, 0.3), 0px 1px 3px 1px rgba(60, 64, 67, 0.15);\n",
              "      fill: #174EA6;\n",
              "    }\n",
              "\n",
              "    [theme=dark] .colab-df-convert {\n",
              "      background-color: #3B4455;\n",
              "      fill: #D2E3FC;\n",
              "    }\n",
              "\n",
              "    [theme=dark] .colab-df-convert:hover {\n",
              "      background-color: #434B5C;\n",
              "      box-shadow: 0px 1px 3px 1px rgba(0, 0, 0, 0.15);\n",
              "      filter: drop-shadow(0px 1px 2px rgba(0, 0, 0, 0.3));\n",
              "      fill: #FFFFFF;\n",
              "    }\n",
              "  </style>\n",
              "\n",
              "      <script>\n",
              "        const buttonEl =\n",
              "          document.querySelector('#df-6569a8ca-0638-40f6-90f9-f31c3744f5dd button.colab-df-convert');\n",
              "        buttonEl.style.display =\n",
              "          google.colab.kernel.accessAllowed ? 'block' : 'none';\n",
              "\n",
              "        async function convertToInteractive(key) {\n",
              "          const element = document.querySelector('#df-6569a8ca-0638-40f6-90f9-f31c3744f5dd');\n",
              "          const dataTable =\n",
              "            await google.colab.kernel.invokeFunction('convertToInteractive',\n",
              "                                                     [key], {});\n",
              "          if (!dataTable) return;\n",
              "\n",
              "          const docLinkHtml = 'Like what you see? Visit the ' +\n",
              "            '<a target=\"_blank\" href=https://colab.research.google.com/notebooks/data_table.ipynb>data table notebook</a>'\n",
              "            + ' to learn more about interactive tables.';\n",
              "          element.innerHTML = '';\n",
              "          dataTable['output_type'] = 'display_data';\n",
              "          await google.colab.output.renderOutput(dataTable, element);\n",
              "          const docLink = document.createElement('div');\n",
              "          docLink.innerHTML = docLinkHtml;\n",
              "          element.appendChild(docLink);\n",
              "        }\n",
              "      </script>\n",
              "    </div>\n",
              "  </div>\n",
              "  "
            ]
          },
          "metadata": {},
          "execution_count": 163
        }
      ]
    },
    {
      "cell_type": "code",
      "source": [
        "topics_dis = topics_dis.groupby(['year', 'topic' ], as_index= False).agg(\n",
        "    {'prob' : ['mean', 'median', 'std', 'count'] }\n",
        "     )\n",
        "\n",
        "topics_dis.column = ['year', 'topic' , 'prob_mean', 'prob_median', 'std', 'count' ]\n",
        "\n",
        "topics_dis"
      ],
      "metadata": {
        "id": "_2BFMHZ7rNYG",
        "outputId": "55e5d3f3-9c7b-4e96-db55-13bf8fd52e5e",
        "colab": {
          "base_uri": "https://localhost:8080/",
          "height": 455
        }
      },
      "execution_count": 164,
      "outputs": [
        {
          "output_type": "execute_result",
          "data": {
            "text/plain": [
              "     year topic      prob                          \n",
              "                     mean    median       std count\n",
              "0    1963     0  0.079241  0.057825  0.081513     7\n",
              "1    1963     1  0.255191  0.017786  0.476987     4\n",
              "2    1963     2  0.218025  0.196896  0.101049    27\n",
              "3    1963     3  0.080099  0.068073  0.063991    15\n",
              "4    1963     4  0.108632  0.091057  0.106631    23\n",
              "..    ...   ...       ...       ...       ...   ...\n",
              "385  2022     5  0.154214  0.111579  0.131584  1764\n",
              "386  2022     6  0.114545  0.085499  0.096387  1839\n",
              "387  2022     7  0.036736  0.025144  0.031659  1194\n",
              "388  2022     8  0.486340  0.504630  0.206353  2982\n",
              "389  2022     9  0.028372  0.019129  0.023880   863\n",
              "\n",
              "[390 rows x 6 columns]"
            ],
            "text/html": [
              "\n",
              "  <div id=\"df-a81041d0-3ff8-443c-b83a-4d21053476ab\">\n",
              "    <div class=\"colab-df-container\">\n",
              "      <div>\n",
              "<style scoped>\n",
              "    .dataframe tbody tr th:only-of-type {\n",
              "        vertical-align: middle;\n",
              "    }\n",
              "\n",
              "    .dataframe tbody tr th {\n",
              "        vertical-align: top;\n",
              "    }\n",
              "\n",
              "    .dataframe thead tr th {\n",
              "        text-align: left;\n",
              "    }\n",
              "</style>\n",
              "<table border=\"1\" class=\"dataframe\">\n",
              "  <thead>\n",
              "    <tr>\n",
              "      <th></th>\n",
              "      <th>year</th>\n",
              "      <th>topic</th>\n",
              "      <th colspan=\"4\" halign=\"left\">prob</th>\n",
              "    </tr>\n",
              "    <tr>\n",
              "      <th></th>\n",
              "      <th></th>\n",
              "      <th></th>\n",
              "      <th>mean</th>\n",
              "      <th>median</th>\n",
              "      <th>std</th>\n",
              "      <th>count</th>\n",
              "    </tr>\n",
              "  </thead>\n",
              "  <tbody>\n",
              "    <tr>\n",
              "      <th>0</th>\n",
              "      <td>1963</td>\n",
              "      <td>0</td>\n",
              "      <td>0.079241</td>\n",
              "      <td>0.057825</td>\n",
              "      <td>0.081513</td>\n",
              "      <td>7</td>\n",
              "    </tr>\n",
              "    <tr>\n",
              "      <th>1</th>\n",
              "      <td>1963</td>\n",
              "      <td>1</td>\n",
              "      <td>0.255191</td>\n",
              "      <td>0.017786</td>\n",
              "      <td>0.476987</td>\n",
              "      <td>4</td>\n",
              "    </tr>\n",
              "    <tr>\n",
              "      <th>2</th>\n",
              "      <td>1963</td>\n",
              "      <td>2</td>\n",
              "      <td>0.218025</td>\n",
              "      <td>0.196896</td>\n",
              "      <td>0.101049</td>\n",
              "      <td>27</td>\n",
              "    </tr>\n",
              "    <tr>\n",
              "      <th>3</th>\n",
              "      <td>1963</td>\n",
              "      <td>3</td>\n",
              "      <td>0.080099</td>\n",
              "      <td>0.068073</td>\n",
              "      <td>0.063991</td>\n",
              "      <td>15</td>\n",
              "    </tr>\n",
              "    <tr>\n",
              "      <th>4</th>\n",
              "      <td>1963</td>\n",
              "      <td>4</td>\n",
              "      <td>0.108632</td>\n",
              "      <td>0.091057</td>\n",
              "      <td>0.106631</td>\n",
              "      <td>23</td>\n",
              "    </tr>\n",
              "    <tr>\n",
              "      <th>...</th>\n",
              "      <td>...</td>\n",
              "      <td>...</td>\n",
              "      <td>...</td>\n",
              "      <td>...</td>\n",
              "      <td>...</td>\n",
              "      <td>...</td>\n",
              "    </tr>\n",
              "    <tr>\n",
              "      <th>385</th>\n",
              "      <td>2022</td>\n",
              "      <td>5</td>\n",
              "      <td>0.154214</td>\n",
              "      <td>0.111579</td>\n",
              "      <td>0.131584</td>\n",
              "      <td>1764</td>\n",
              "    </tr>\n",
              "    <tr>\n",
              "      <th>386</th>\n",
              "      <td>2022</td>\n",
              "      <td>6</td>\n",
              "      <td>0.114545</td>\n",
              "      <td>0.085499</td>\n",
              "      <td>0.096387</td>\n",
              "      <td>1839</td>\n",
              "    </tr>\n",
              "    <tr>\n",
              "      <th>387</th>\n",
              "      <td>2022</td>\n",
              "      <td>7</td>\n",
              "      <td>0.036736</td>\n",
              "      <td>0.025144</td>\n",
              "      <td>0.031659</td>\n",
              "      <td>1194</td>\n",
              "    </tr>\n",
              "    <tr>\n",
              "      <th>388</th>\n",
              "      <td>2022</td>\n",
              "      <td>8</td>\n",
              "      <td>0.486340</td>\n",
              "      <td>0.504630</td>\n",
              "      <td>0.206353</td>\n",
              "      <td>2982</td>\n",
              "    </tr>\n",
              "    <tr>\n",
              "      <th>389</th>\n",
              "      <td>2022</td>\n",
              "      <td>9</td>\n",
              "      <td>0.028372</td>\n",
              "      <td>0.019129</td>\n",
              "      <td>0.023880</td>\n",
              "      <td>863</td>\n",
              "    </tr>\n",
              "  </tbody>\n",
              "</table>\n",
              "<p>390 rows × 6 columns</p>\n",
              "</div>\n",
              "      <button class=\"colab-df-convert\" onclick=\"convertToInteractive('df-a81041d0-3ff8-443c-b83a-4d21053476ab')\"\n",
              "              title=\"Convert this dataframe to an interactive table.\"\n",
              "              style=\"display:none;\">\n",
              "        \n",
              "  <svg xmlns=\"http://www.w3.org/2000/svg\" height=\"24px\"viewBox=\"0 0 24 24\"\n",
              "       width=\"24px\">\n",
              "    <path d=\"M0 0h24v24H0V0z\" fill=\"none\"/>\n",
              "    <path d=\"M18.56 5.44l.94 2.06.94-2.06 2.06-.94-2.06-.94-.94-2.06-.94 2.06-2.06.94zm-11 1L8.5 8.5l.94-2.06 2.06-.94-2.06-.94L8.5 2.5l-.94 2.06-2.06.94zm10 10l.94 2.06.94-2.06 2.06-.94-2.06-.94-.94-2.06-.94 2.06-2.06.94z\"/><path d=\"M17.41 7.96l-1.37-1.37c-.4-.4-.92-.59-1.43-.59-.52 0-1.04.2-1.43.59L10.3 9.45l-7.72 7.72c-.78.78-.78 2.05 0 2.83L4 21.41c.39.39.9.59 1.41.59.51 0 1.02-.2 1.41-.59l7.78-7.78 2.81-2.81c.8-.78.8-2.07 0-2.86zM5.41 20L4 18.59l7.72-7.72 1.47 1.35L5.41 20z\"/>\n",
              "  </svg>\n",
              "      </button>\n",
              "      \n",
              "  <style>\n",
              "    .colab-df-container {\n",
              "      display:flex;\n",
              "      flex-wrap:wrap;\n",
              "      gap: 12px;\n",
              "    }\n",
              "\n",
              "    .colab-df-convert {\n",
              "      background-color: #E8F0FE;\n",
              "      border: none;\n",
              "      border-radius: 50%;\n",
              "      cursor: pointer;\n",
              "      display: none;\n",
              "      fill: #1967D2;\n",
              "      height: 32px;\n",
              "      padding: 0 0 0 0;\n",
              "      width: 32px;\n",
              "    }\n",
              "\n",
              "    .colab-df-convert:hover {\n",
              "      background-color: #E2EBFA;\n",
              "      box-shadow: 0px 1px 2px rgba(60, 64, 67, 0.3), 0px 1px 3px 1px rgba(60, 64, 67, 0.15);\n",
              "      fill: #174EA6;\n",
              "    }\n",
              "\n",
              "    [theme=dark] .colab-df-convert {\n",
              "      background-color: #3B4455;\n",
              "      fill: #D2E3FC;\n",
              "    }\n",
              "\n",
              "    [theme=dark] .colab-df-convert:hover {\n",
              "      background-color: #434B5C;\n",
              "      box-shadow: 0px 1px 3px 1px rgba(0, 0, 0, 0.15);\n",
              "      filter: drop-shadow(0px 1px 2px rgba(0, 0, 0, 0.3));\n",
              "      fill: #FFFFFF;\n",
              "    }\n",
              "  </style>\n",
              "\n",
              "      <script>\n",
              "        const buttonEl =\n",
              "          document.querySelector('#df-a81041d0-3ff8-443c-b83a-4d21053476ab button.colab-df-convert');\n",
              "        buttonEl.style.display =\n",
              "          google.colab.kernel.accessAllowed ? 'block' : 'none';\n",
              "\n",
              "        async function convertToInteractive(key) {\n",
              "          const element = document.querySelector('#df-a81041d0-3ff8-443c-b83a-4d21053476ab');\n",
              "          const dataTable =\n",
              "            await google.colab.kernel.invokeFunction('convertToInteractive',\n",
              "                                                     [key], {});\n",
              "          if (!dataTable) return;\n",
              "\n",
              "          const docLinkHtml = 'Like what you see? Visit the ' +\n",
              "            '<a target=\"_blank\" href=https://colab.research.google.com/notebooks/data_table.ipynb>data table notebook</a>'\n",
              "            + ' to learn more about interactive tables.';\n",
              "          element.innerHTML = '';\n",
              "          dataTable['output_type'] = 'display_data';\n",
              "          await google.colab.output.renderOutput(dataTable, element);\n",
              "          const docLink = document.createElement('div');\n",
              "          docLink.innerHTML = docLinkHtml;\n",
              "          element.appendChild(docLink);\n",
              "        }\n",
              "      </script>\n",
              "    </div>\n",
              "  </div>\n",
              "  "
            ]
          },
          "metadata": {},
          "execution_count": 164
        }
      ]
    },
    {
      "cell_type": "code",
      "source": [],
      "metadata": {
        "id": "dCw-vo6NrD4E"
      },
      "execution_count": null,
      "outputs": []
    },
    {
      "cell_type": "markdown",
      "source": [
        "# Comparacion LDA y LSA"
      ],
      "metadata": {
        "id": "3vO_h8eTmnlV"
      }
    },
    {
      "cell_type": "code",
      "metadata": {
        "id": "4gpsFpeM21BH"
      },
      "source": [
        "lsatopics  = [[word for word, prob in topic] for topicid, topic in lsamodel.show_topics(10,formatted=False)]\n",
        "ldatopics = [[word for word, prob in topic] for topicid, topic in ldamodel.show_topics(10,formatted=False)]"
      ],
      "execution_count": null,
      "outputs": []
    },
    {
      "cell_type": "code",
      "source": [
        "ldatopics[0]"
      ],
      "metadata": {
        "colab": {
          "base_uri": "https://localhost:8080/"
        },
        "id": "6PzNfDlj6FcU",
        "outputId": "a71bd42a-56d6-4480-f42b-6e69ee928d40"
      },
      "execution_count": null,
      "outputs": [
        {
          "output_type": "execute_result",
          "data": {
            "text/plain": [
              "['information',\n",
              " 'text',\n",
              " 'analysis',\n",
              " 'documents',\n",
              " 'social',\n",
              " 'sentiment',\n",
              " 'news',\n",
              " 'users',\n",
              " 'event',\n",
              " 'extraction']"
            ]
          },
          "metadata": {},
          "execution_count": 50
        }
      ]
    },
    {
      "cell_type": "code",
      "metadata": {
        "id": "Ni9GdVOZ21BK"
      },
      "source": [
        "lsa_coherence = CoherenceModel(topics=lsatopics, texts=texts, dictionary=dictionary, window_size=30,coherence='c_npmi',topn=5).get_coherence_per_topic()\n",
        "lda_coherence = CoherenceModel(topics=ldatopics, texts=texts, dictionary=dictionary, window_size=30,coherence='c_npmi',topn=5).get_coherence_per_topic()"
      ],
      "execution_count": null,
      "outputs": []
    },
    {
      "cell_type": "code",
      "metadata": {
        "id": "mzWg3JKK21BM",
        "colab": {
          "base_uri": "https://localhost:8080/",
          "height": 275
        },
        "outputId": "1a3bca2a-d128-425a-e404-62ecc4591846"
      },
      "source": [
        "df_lda = pd.DataFrame([range(10),lda_coherence,ldatopics],index=['topic_id','coherence','topic']).transpose()\n",
        "df_lsa = pd.DataFrame([range(10),lsa_coherence,lsatopics],index=['topic_id','coherence','topic']).transpose()\n",
        "pd.Series({'LSA':np.mean(lsa_coherence),'LDA':np.mean(lda_coherence)}).plot.bar();"
      ],
      "execution_count": null,
      "outputs": [
        {
          "output_type": "display_data",
          "data": {
            "text/plain": [
              "<Figure size 432x288 with 1 Axes>"
            ],
            "image/png": "[encoded data removed]"
          },
          "metadata": {
            "needs_background": "light"
          }
        }
      ]
    },
    {
      "cell_type": "code",
      "metadata": {
        "id": "aq1ChgAcVF2e",
        "colab": {
          "base_uri": "https://localhost:8080/",
          "height": 363
        },
        "outputId": "3ef7f837-119f-43a9-d907-90af4e45d138"
      },
      "source": [
        "df_lda.sort_values(by='coherence',ascending=False)"
      ],
      "execution_count": null,
      "outputs": [
        {
          "output_type": "execute_result",
          "data": {
            "text/plain": [
              "  topic_id coherence                                              topic\n",
              "5        5  0.555164      [de, des, la, les, et, un, le, une, nous, en]\n",
              "6        6  0.168902  [word, semantic, words, lexical, syntactic, pa...\n",
              "9        9  0.135183  [translation, machine, languages, language, da...\n",
              "4        4  0.106065  [speech, parser, grammar, errors, error, ontol...\n",
              "1        1  0.089009  [evaluation, human, results, text, automatic, ...\n",
              "2        2  0.079501  [model, models, learning, propose, performance...\n",
              "8        8  0.073562  [question, dialogue, system, knowledge, questi...\n",
              "7        7  0.029253  [corpus, language, annotation, paper, data, re...\n",
              "3        3  0.026759  [task, system, paper, model, features, results...\n",
              "0        0   0.02665  [information, text, analysis, documents, socia..."
            ],
            "text/html": [
              "\n",
              "  <div id=\"df-7eafb6bb-2704-46b1-bf11-16d9d5e668f9\">\n",
              "    <div class=\"colab-df-container\">\n",
              "      <div>\n",
              "<style scoped>\n",
              "    .dataframe tbody tr th:only-of-type {\n",
              "        vertical-align: middle;\n",
              "    }\n",
              "\n",
              "    .dataframe tbody tr th {\n",
              "        vertical-align: top;\n",
              "    }\n",
              "\n",
              "    .dataframe thead th {\n",
              "        text-align: right;\n",
              "    }\n",
              "</style>\n",
              "<table border=\"1\" class=\"dataframe\">\n",
              "  <thead>\n",
              "    <tr style=\"text-align: right;\">\n",
              "      <th></th>\n",
              "      <th>topic_id</th>\n",
              "      <th>coherence</th>\n",
              "      <th>topic</th>\n",
              "    </tr>\n",
              "  </thead>\n",
              "  <tbody>\n",
              "    <tr>\n",
              "      <th>5</th>\n",
              "      <td>5</td>\n",
              "      <td>0.555164</td>\n",
              "      <td>[de, des, la, les, et, un, le, une, nous, en]</td>\n",
              "    </tr>\n",
              "    <tr>\n",
              "      <th>6</th>\n",
              "      <td>6</td>\n",
              "      <td>0.168902</td>\n",
              "      <td>[word, semantic, words, lexical, syntactic, pa...</td>\n",
              "    </tr>\n",
              "    <tr>\n",
              "      <th>9</th>\n",
              "      <td>9</td>\n",
              "      <td>0.135183</td>\n",
              "      <td>[translation, machine, languages, language, da...</td>\n",
              "    </tr>\n",
              "    <tr>\n",
              "      <th>4</th>\n",
              "      <td>4</td>\n",
              "      <td>0.106065</td>\n",
              "      <td>[speech, parser, grammar, errors, error, ontol...</td>\n",
              "    </tr>\n",
              "    <tr>\n",
              "      <th>1</th>\n",
              "      <td>1</td>\n",
              "      <td>0.089009</td>\n",
              "      <td>[evaluation, human, results, text, automatic, ...</td>\n",
              "    </tr>\n",
              "    <tr>\n",
              "      <th>2</th>\n",
              "      <td>2</td>\n",
              "      <td>0.079501</td>\n",
              "      <td>[model, models, learning, propose, performance...</td>\n",
              "    </tr>\n",
              "    <tr>\n",
              "      <th>8</th>\n",
              "      <td>8</td>\n",
              "      <td>0.073562</td>\n",
              "      <td>[question, dialogue, system, knowledge, questi...</td>\n",
              "    </tr>\n",
              "    <tr>\n",
              "      <th>7</th>\n",
              "      <td>7</td>\n",
              "      <td>0.029253</td>\n",
              "      <td>[corpus, language, annotation, paper, data, re...</td>\n",
              "    </tr>\n",
              "    <tr>\n",
              "      <th>3</th>\n",
              "      <td>3</td>\n",
              "      <td>0.026759</td>\n",
              "      <td>[task, system, paper, model, features, results...</td>\n",
              "    </tr>\n",
              "    <tr>\n",
              "      <th>0</th>\n",
              "      <td>0</td>\n",
              "      <td>0.02665</td>\n",
              "      <td>[information, text, analysis, documents, socia...</td>\n",
              "    </tr>\n",
              "  </tbody>\n",
              "</table>\n",
              "</div>\n",
              "      <button class=\"colab-df-convert\" onclick=\"convertToInteractive('df-7eafb6bb-2704-46b1-bf11-16d9d5e668f9')\"\n",
              "              title=\"Convert this dataframe to an interactive table.\"\n",
              "              style=\"display:none;\">\n",
              "        \n",
              "  <svg xmlns=\"http://www.w3.org/2000/svg\" height=\"24px\"viewBox=\"0 0 24 24\"\n",
              "       width=\"24px\">\n",
              "    <path d=\"M0 0h24v24H0V0z\" fill=\"none\"/>\n",
              "    <path d=\"M18.56 5.44l.94 2.06.94-2.06 2.06-.94-2.06-.94-.94-2.06-.94 2.06-2.06.94zm-11 1L8.5 8.5l.94-2.06 2.06-.94-2.06-.94L8.5 2.5l-.94 2.06-2.06.94zm10 10l.94 2.06.94-2.06 2.06-.94-2.06-.94-.94-2.06-.94 2.06-2.06.94z\"/><path d=\"M17.41 7.96l-1.37-1.37c-.4-.4-.92-.59-1.43-.59-.52 0-1.04.2-1.43.59L10.3 9.45l-7.72 7.72c-.78.78-.78 2.05 0 2.83L4 21.41c.39.39.9.59 1.41.59.51 0 1.02-.2 1.41-.59l7.78-7.78 2.81-2.81c.8-.78.8-2.07 0-2.86zM5.41 20L4 18.59l7.72-7.72 1.47 1.35L5.41 20z\"/>\n",
              "  </svg>\n",
              "      </button>\n",
              "      \n",
              "  <style>\n",
              "    .colab-df-container {\n",
              "      display:flex;\n",
              "      flex-wrap:wrap;\n",
              "      gap: 12px;\n",
              "    }\n",
              "\n",
              "    .colab-df-convert {\n",
              "      background-color: #E8F0FE;\n",
              "      border: none;\n",
              "      border-radius: 50%;\n",
              "      cursor: pointer;\n",
              "      display: none;\n",
              "      fill: #1967D2;\n",
              "      height: 32px;\n",
              "      padding: 0 0 0 0;\n",
              "      width: 32px;\n",
              "    }\n",
              "\n",
              "    .colab-df-convert:hover {\n",
              "      background-color: #E2EBFA;\n",
              "      box-shadow: 0px 1px 2px rgba(60, 64, 67, 0.3), 0px 1px 3px 1px rgba(60, 64, 67, 0.15);\n",
              "      fill: #174EA6;\n",
              "    }\n",
              "\n",
              "    [theme=dark] .colab-df-convert {\n",
              "      background-color: #3B4455;\n",
              "      fill: #D2E3FC;\n",
              "    }\n",
              "\n",
              "    [theme=dark] .colab-df-convert:hover {\n",
              "      background-color: #434B5C;\n",
              "      box-shadow: 0px 1px 3px 1px rgba(0, 0, 0, 0.15);\n",
              "      filter: drop-shadow(0px 1px 2px rgba(0, 0, 0, 0.3));\n",
              "      fill: #FFFFFF;\n",
              "    }\n",
              "  </style>\n",
              "\n",
              "      <script>\n",
              "        const buttonEl =\n",
              "          document.querySelector('#df-7eafb6bb-2704-46b1-bf11-16d9d5e668f9 button.colab-df-convert');\n",
              "        buttonEl.style.display =\n",
              "          google.colab.kernel.accessAllowed ? 'block' : 'none';\n",
              "\n",
              "        async function convertToInteractive(key) {\n",
              "          const element = document.querySelector('#df-7eafb6bb-2704-46b1-bf11-16d9d5e668f9');\n",
              "          const dataTable =\n",
              "            await google.colab.kernel.invokeFunction('convertToInteractive',\n",
              "                                                     [key], {});\n",
              "          if (!dataTable) return;\n",
              "\n",
              "          const docLinkHtml = 'Like what you see? Visit the ' +\n",
              "            '<a target=\"_blank\" href=https://colab.research.google.com/notebooks/data_table.ipynb>data table notebook</a>'\n",
              "            + ' to learn more about interactive tables.';\n",
              "          element.innerHTML = '';\n",
              "          dataTable['output_type'] = 'display_data';\n",
              "          await google.colab.output.renderOutput(dataTable, element);\n",
              "          const docLink = document.createElement('div');\n",
              "          docLink.innerHTML = docLinkHtml;\n",
              "          element.appendChild(docLink);\n",
              "        }\n",
              "      </script>\n",
              "    </div>\n",
              "  </div>\n",
              "  "
            ]
          },
          "metadata": {},
          "execution_count": 48
        }
      ]
    },
    {
      "cell_type": "code",
      "source": [],
      "metadata": {
        "id": "mQqqpWE_YobL"
      },
      "execution_count": null,
      "outputs": []
    }
  ]
}