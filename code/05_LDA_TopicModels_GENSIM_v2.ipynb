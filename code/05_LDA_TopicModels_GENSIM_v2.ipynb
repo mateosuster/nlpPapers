{
  "nbformat": 4,
  "nbformat_minor": 0,
  "metadata": {
    "kernelspec": {
      "display_name": "Python 3",
      "language": "python",
      "name": "python3"
    },
    "language_info": {
      "codemirror_mode": {
        "name": "ipython",
        "version": 3
      },
      "file_extension": ".py",
      "mimetype": "text/x-python",
      "name": "python",
      "nbconvert_exporter": "python",
      "pygments_lexer": "ipython3",
      "version": "3.6.6"
    },
    "colab": {
      "provenance": [],
      "collapsed_sections": [],
      "include_colab_link": true
    }
  },
  "cells": [
    {
      "cell_type": "markdown",
      "metadata": {
        "id": "view-in-github",
        "colab_type": "text"
      },
      "source": [
        "<a href=\"https://colab.research.google.com/github/mateosuster/nlpPapers/blob/main/code/05_LDA_TopicModels_GENSIM_v2.ipynb\" target=\"_parent\"><img src=\"https://colab.research.google.com/assets/colab-badge.svg\" alt=\"Open In Colab\"/></a>"
      ]
    },
    {
      "cell_type": "markdown",
      "source": [
        "# Dependencias"
      ],
      "metadata": {
        "id": "IlCxk75pDePP"
      }
    },
    {
      "cell_type": "code",
      "metadata": {
        "id": "eMOaCBjl21AY"
      },
      "source": [
        "%%capture\n",
        "!pip install pyLDAvis==2.1.2\n",
        "\n",
        "import pandas as pd\n",
        "import numpy as np\n",
        "import matplotlib.pyplot  as plt\n",
        "from collections import Counter\n",
        "\n",
        "\n",
        "from nltk import word_tokenize, sent_tokenize\n",
        "import nltk\n",
        "nltk.download('punkt')\n",
        "nltk.download('stopwords')\n",
        "from nltk.corpus import stopwords\n",
        "\n",
        "import gensim\n",
        "from gensim.models import CoherenceModel, LdaModel, LsiModel, HdpModel\n",
        "from gensim.models.wrappers import LdaMallet\n",
        "from gensim.corpora import Dictionary\n",
        "from gensim import corpora\n",
        "\n",
        "import pyLDAvis.gensim\n",
        "pyLDAvis.enable_notebook()\n",
        "\n",
        "import os, re, operator, warnings\n",
        "warnings.filterwarnings('ignore')  \n",
        "%matplotlib inline"
      ],
      "execution_count": 1,
      "outputs": []
    },
    {
      "cell_type": "markdown",
      "source": [
        "# Data"
      ],
      "metadata": {
        "id": "n358byU_Dhh8"
      }
    },
    {
      "cell_type": "code",
      "source": [
        "data = pd.read_csv(\"https://raw.githubusercontent.com/mateosuster/nlpPapers/main/code/data/data_clean.csv\")\n",
        "\n",
        "dataset = data.text.tolist()\n",
        "dataset[0]"
      ],
      "metadata": {
        "colab": {
          "base_uri": "https://localhost:8080/",
          "height": 110
        },
        "id": "StS-k1EIDTwC",
        "outputId": "b1aada25-56e4-4567-8df3-f78a51311ca1"
      },
      "execution_count": 2,
      "outputs": [
        {
          "output_type": "execute_result",
          "data": {
            "text/plain": [
              "'used think output translation machine would stylistically inelegant would tolerable message got across find getting message across accurately difficult may able stylistic elegance output since much style reflects depth phenomena thus systematic example order clauses many twoclause sentences reversed without change meaning normally true sentences two clauses meaning usually changes clause order changed equivalently appear severe restrictions clause order given meaning restrictions appear follow depth considerations idea investigated normal clause order deviations order must signalled special syntactic semantic devices nature devices explored translating sentences may trouble due fact clause types two languages exactly parallel therefore list allowed preferred clause orders two languages equivalent special syntactic semantic devices available signal deviations normal order different thus one would predict sentences language often split two sentences translated language time sentences language often broken two sentences translating language'"
            ],
            "application/vnd.google.colaboratory.intrinsic+json": {
              "type": "string"
            }
          },
          "metadata": {},
          "execution_count": 2
        }
      ]
    },
    {
      "cell_type": "code",
      "source": [
        "type(dataset)"
      ],
      "metadata": {
        "colab": {
          "base_uri": "https://localhost:8080/"
        },
        "id": "qYCZQmyR_MVL",
        "outputId": "617cb758-831d-4e37-b86d-55fc4fd6dce1"
      },
      "execution_count": 3,
      "outputs": [
        {
          "output_type": "execute_result",
          "data": {
            "text/plain": [
              "list"
            ]
          },
          "metadata": {},
          "execution_count": 3
        }
      ]
    },
    {
      "cell_type": "markdown",
      "source": [
        "# Preproc"
      ],
      "metadata": {
        "id": "SY3beaVvDkXD"
      }
    },
    {
      "cell_type": "code",
      "source": [
        "texts = [word_tokenize(str(doc)) for doc in dataset]\n",
        "\n",
        "print(texts[0])\n",
        "'translation' in texts[0]"
      ],
      "metadata": {
        "colab": {
          "base_uri": "https://localhost:8080/"
        },
        "id": "wUKvuUdw0jRq",
        "outputId": "a659d08c-37ae-41d4-9cca-9084798736b9"
      },
      "execution_count": 4,
      "outputs": [
        {
          "output_type": "stream",
          "name": "stdout",
          "text": [
            "['used', 'think', 'output', 'translation', 'machine', 'would', 'stylistically', 'inelegant', 'would', 'tolerable', 'message', 'got', 'across', 'find', 'getting', 'message', 'across', 'accurately', 'difficult', 'may', 'able', 'stylistic', 'elegance', 'output', 'since', 'much', 'style', 'reflects', 'depth', 'phenomena', 'thus', 'systematic', 'example', 'order', 'clauses', 'many', 'twoclause', 'sentences', 'reversed', 'without', 'change', 'meaning', 'normally', 'true', 'sentences', 'two', 'clauses', 'meaning', 'usually', 'changes', 'clause', 'order', 'changed', 'equivalently', 'appear', 'severe', 'restrictions', 'clause', 'order', 'given', 'meaning', 'restrictions', 'appear', 'follow', 'depth', 'considerations', 'idea', 'investigated', 'normal', 'clause', 'order', 'deviations', 'order', 'must', 'signalled', 'special', 'syntactic', 'semantic', 'devices', 'nature', 'devices', 'explored', 'translating', 'sentences', 'may', 'trouble', 'due', 'fact', 'clause', 'types', 'two', 'languages', 'exactly', 'parallel', 'therefore', 'list', 'allowed', 'preferred', 'clause', 'orders', 'two', 'languages', 'equivalent', 'special', 'syntactic', 'semantic', 'devices', 'available', 'signal', 'deviations', 'normal', 'order', 'different', 'thus', 'one', 'would', 'predict', 'sentences', 'language', 'often', 'split', 'two', 'sentences', 'translated', 'language', 'time', 'sentences', 'language', 'often', 'broken', 'two', 'sentences', 'translating', 'language']\n"
          ]
        },
        {
          "output_type": "execute_result",
          "data": {
            "text/plain": [
              "True"
            ]
          },
          "metadata": {},
          "execution_count": 4
        }
      ]
    },
    {
      "cell_type": "markdown",
      "source": [
        "## Ajuste para LDA"
      ],
      "metadata": {
        "id": "fQCaFocqDpBy"
      }
    },
    {
      "cell_type": "markdown",
      "source": [
        "Documentacion de filter_extremes: https://tedboy.github.io/nlps/generated/generated/gensim.corpora.Dictionary.filter_extremes.html "
      ],
      "metadata": {
        "id": "u9pxsqAdj0T7"
      }
    },
    {
      "cell_type": "code",
      "metadata": {
        "id": "u25ufjLL21Al",
        "colab": {
          "base_uri": "https://localhost:8080/"
        },
        "outputId": "d53ae8c4-8ff0-4f0d-dce9-1d46ea601bb9"
      },
      "source": [
        "dictionary = corpora.Dictionary(texts) # asocia cada palabra con un ID\n",
        "print(len(dictionary))\n",
        "\n",
        "dictionary.filter_extremes(no_below=10, no_above=0.5) #filtra palabras con frecuencia menor a no_below (absoluto) y mayor a no_above (fraccion)\n",
        "print(len(dictionary))"
      ],
      "execution_count": 5,
      "outputs": [
        {
          "output_type": "stream",
          "name": "stdout",
          "text": [
            "37032\n",
            "7924\n"
          ]
        }
      ]
    },
    {
      "cell_type": "markdown",
      "source": [
        "\n",
        "por cada texto en el dataset, le pasamos un conversor a bag of words: el documento # tiene n palabras de ID_i, ID_j, etc.\n",
        "\n",
        "esto es mas economico dado que permite  reducir la esparcidad de la matriz "
      ],
      "metadata": {
        "id": "n3TDpvx3ZTwd"
      }
    },
    {
      "cell_type": "code",
      "metadata": {
        "id": "qcG0Toxp21Ao"
      },
      "source": [
        "corpus = [dictionary.doc2bow(text) for text in texts] "
      ],
      "execution_count": 6,
      "outputs": []
    },
    {
      "cell_type": "markdown",
      "source": [
        "## LSI y LDA"
      ],
      "metadata": {
        "id": "7cFr9cAzDrl2"
      }
    },
    {
      "cell_type": "code",
      "source": [
        "semilla = 420\n",
        "\n",
        "# before training/inference:\n",
        "np.random.seed(semilla)"
      ],
      "metadata": {
        "id": "h5nBM9dPD1EH"
      },
      "execution_count": 7,
      "outputs": []
    },
    {
      "cell_type": "code",
      "metadata": {
        "id": "Ro3bENF821Ar"
      },
      "source": [
        "lsamodel = LsiModel(corpus=corpus, num_topics=25, id2word=dictionary \n",
        "                    # ,random_seed=semilla\n",
        "                    )"
      ],
      "execution_count": 8,
      "outputs": []
    },
    {
      "cell_type": "code",
      "metadata": {
        "id": "NBp4urdZ21Au",
        "colab": {
          "base_uri": "https://localhost:8080/"
        },
        "outputId": "0772e17d-8fe5-4716-936b-495218656c6c"
      },
      "source": [
        "lsamodel.print_topics(10,4)\n"
      ],
      "execution_count": 9,
      "outputs": [
        {
          "output_type": "execute_result",
          "data": {
            "text/plain": [
              "[(0, '-0.681*\"de\" + -0.278*\"la\" + -0.275*\"des\" + -0.235*\"les\"'),\n",
              " (1, '0.295*\"language\" + 0.260*\"model\" + 0.226*\"data\" + 0.221*\"models\"'),\n",
              " (2,\n",
              "  '0.583*\"translation\" + -0.371*\"model\" + -0.300*\"models\" + 0.235*\"system\"'),\n",
              " (3,\n",
              "  '0.529*\"translation\" + -0.352*\"corpus\" + 0.338*\"model\" + -0.304*\"language\"'),\n",
              " (4, '0.752*\"language\" + 0.256*\"models\" + -0.199*\"corpus\" + -0.162*\"system\"'),\n",
              " (5, '0.779*\"data\" + -0.351*\"word\" + 0.206*\"training\" + -0.171*\"language\"'),\n",
              " (6, '-0.565*\"word\" + 0.363*\"system\" + 0.304*\"task\" + -0.291*\"data\"'),\n",
              " (7, '-0.674*\"model\" + -0.450*\"corpus\" + 0.231*\"task\" + 0.212*\"models\"'),\n",
              " (8, '-0.610*\"models\" + -0.326*\"corpus\" + 0.309*\"model\" + 0.288*\"system\"'),\n",
              " (9, '0.326*\"models\" + 0.323*\"corpus\" + -0.322*\"information\" + 0.306*\"task\"')]"
            ]
          },
          "metadata": {},
          "execution_count": 9
        }
      ]
    },
    {
      "cell_type": "code",
      "metadata": {
        "id": "m_njO3Ak21A2"
      },
      "source": [
        "ldamodel = LdaModel(corpus=corpus, num_topics=10, id2word=dictionary, iterations = 2000, passes=10,\n",
        "                    random_state=semilla)\n"
      ],
      "execution_count": 10,
      "outputs": []
    },
    {
      "cell_type": "code",
      "metadata": {
        "id": "KGbtvXC-W1_l",
        "colab": {
          "base_uri": "https://localhost:8080/"
        },
        "outputId": "dc0f24e3-a286-4d4d-f61a-e56e1f690af1"
      },
      "source": [
        "ldamodel.print_topics(10, 8)"
      ],
      "execution_count": 11,
      "outputs": [
        {
          "output_type": "execute_result",
          "data": {
            "text/plain": [
              "[(0,\n",
              "  '0.125*\"et\" + 0.066*\"predicting\" + 0.047*\"al\" + 0.045*\"opinion\" + 0.022*\"macro\" + 0.020*\"completion\" + 0.020*\"st\" + 0.020*\"simplification\"'),\n",
              " (1,\n",
              "  '0.019*\"dataset\" + 0.016*\"knowledge\" + 0.014*\"social\" + 0.013*\"graph\" + 0.012*\"reasoning\" + 0.012*\"transformer\" + 0.010*\"bias\" + 0.010*\"media\"'),\n",
              " (2,\n",
              "  '0.072*\"de\" + 0.029*\"la\" + 0.028*\"des\" + 0.026*\"les\" + 0.022*\"et\" + 0.019*\"le\" + 0.018*\"un\" + 0.017*\"une\"'),\n",
              " (3,\n",
              "  '0.024*\"word\" + 0.018*\"task\" + 0.016*\"features\" + 0.015*\"embeddings\" + 0.014*\"classification\" + 0.013*\"words\" + 0.013*\"analysis\" + 0.012*\"detection\"'),\n",
              " (4,\n",
              "  '0.021*\"semantic\" + 0.020*\"information\" + 0.019*\"entity\" + 0.016*\"extraction\" + 0.015*\"relations\" + 0.014*\"knowledge\" + 0.013*\"relation\" + 0.012*\"entities\"'),\n",
              " (5,\n",
              "  '0.023*\"model\" + 0.019*\"task\" + 0.013*\"models\" + 0.012*\"neural\" + 0.012*\"translation\" + 0.011*\"results\" + 0.010*\"system\" + 0.009*\"performance\"'),\n",
              " (6,\n",
              "  '0.036*\"models\" + 0.024*\"data\" + 0.022*\"model\" + 0.019*\"language\" + 0.019*\"learning\" + 0.017*\"training\" + 0.017*\"tasks\" + 0.013*\"performance\"'),\n",
              " (7,\n",
              "  '0.035*\"parsing\" + 0.028*\"dependency\" + 0.027*\"syntactic\" + 0.019*\"augmentation\" + 0.016*\"outperform\" + 0.015*\"parser\" + 0.015*\"learns\" + 0.014*\"languages\"'),\n",
              " (8,\n",
              "  '0.019*\"language\" + 0.012*\"data\" + 0.011*\"system\" + 0.010*\"translation\" + 0.010*\"research\" + 0.010*\"paper\" + 0.008*\"nlp\" + 0.008*\"systems\"'),\n",
              " (9,\n",
              "  '0.023*\"corpus\" + 0.018*\"languages\" + 0.018*\"language\" + 0.015*\"speech\" + 0.013*\"english\" + 0.011*\"paper\" + 0.009*\"corpora\" + 0.008*\"data\"')]"
            ]
          },
          "metadata": {},
          "execution_count": 11
        }
      ]
    },
    {
      "cell_type": "markdown",
      "source": [
        "# Save models"
      ],
      "metadata": {
        "id": "jdtZHNHOryiU"
      }
    },
    {
      "cell_type": "code",
      "source": [
        "import os\n",
        "from google.colab import files\n",
        "from gensim.test.utils import datapath\n",
        "\n",
        "# Save models to disk.\n",
        "temp_file = datapath(\"/content/lsa\")\n",
        "lsamodel.save(temp_file)\n",
        "\n",
        "temp_file = datapath(\"/content/lda\")\n",
        "ldamodel.save(temp_file)\n",
        "\n",
        "# Dowload models\n",
        "path = \"/content\"\n",
        "dir_list = os.listdir(path)\n",
        "\n",
        "for i in dir_list:\n",
        "  if 'lsa' in i or 'lda' in i  :\n",
        "    print('downloading')\n",
        "    files.download(path + i)\n"
      ],
      "metadata": {
        "id": "1tQqhi3wr0X4",
        "outputId": "07e9a5be-59f8-439d-c8ee-8dbd71947518",
        "colab": {
          "base_uri": "https://localhost:8080/",
          "height": 91
        }
      },
      "execution_count": 35,
      "outputs": [
        {
          "output_type": "stream",
          "name": "stdout",
          "text": [
            "downloading\n"
          ]
        },
        {
          "output_type": "display_data",
          "data": {
            "text/plain": [
              "<IPython.core.display.Javascript object>"
            ],
            "application/javascript": [
              "\n",
              "    async function download(id, filename, size) {\n",
              "      if (!google.colab.kernel.accessAllowed) {\n",
              "        return;\n",
              "      }\n",
              "      const div = document.createElement('div');\n",
              "      const label = document.createElement('label');\n",
              "      label.textContent = `Downloading \"${filename}\": `;\n",
              "      div.appendChild(label);\n",
              "      const progress = document.createElement('progress');\n",
              "      progress.max = size;\n",
              "      div.appendChild(progress);\n",
              "      document.body.appendChild(div);\n",
              "\n",
              "      const buffers = [];\n",
              "      let downloaded = 0;\n",
              "\n",
              "      const channel = await google.colab.kernel.comms.open(id);\n",
              "      // Send a message to notify the kernel that we're ready.\n",
              "      channel.send({})\n",
              "\n",
              "      for await (const message of channel.messages) {\n",
              "        // Send a message to notify the kernel that we're ready.\n",
              "        channel.send({})\n",
              "        if (message.buffers) {\n",
              "          for (const buffer of message.buffers) {\n",
              "            buffers.push(buffer);\n",
              "            downloaded += buffer.byteLength;\n",
              "            progress.value = downloaded;\n",
              "          }\n",
              "        }\n",
              "      }\n",
              "      const blob = new Blob(buffers, {type: 'application/binary'});\n",
              "      const a = document.createElement('a');\n",
              "      a.href = window.URL.createObjectURL(blob);\n",
              "      a.download = filename;\n",
              "      div.appendChild(a);\n",
              "      a.click();\n",
              "      div.remove();\n",
              "    }\n",
              "  "
            ]
          },
          "metadata": {}
        },
        {
          "output_type": "display_data",
          "data": {
            "text/plain": [
              "<IPython.core.display.Javascript object>"
            ],
            "application/javascript": [
              "download(\"download_cc0b4ef7-9c1e-4a4d-bd91-ad1524faae28\", \"contentlda.state\", 492053)"
            ]
          },
          "metadata": {}
        },
        {
          "output_type": "stream",
          "name": "stdout",
          "text": [
            "downloading\n"
          ]
        },
        {
          "output_type": "display_data",
          "data": {
            "text/plain": [
              "<IPython.core.display.Javascript object>"
            ],
            "application/javascript": [
              "\n",
              "    async function download(id, filename, size) {\n",
              "      if (!google.colab.kernel.accessAllowed) {\n",
              "        return;\n",
              "      }\n",
              "      const div = document.createElement('div');\n",
              "      const label = document.createElement('label');\n",
              "      label.textContent = `Downloading \"${filename}\": `;\n",
              "      div.appendChild(label);\n",
              "      const progress = document.createElement('progress');\n",
              "      progress.max = size;\n",
              "      div.appendChild(progress);\n",
              "      document.body.appendChild(div);\n",
              "\n",
              "      const buffers = [];\n",
              "      let downloaded = 0;\n",
              "\n",
              "      const channel = await google.colab.kernel.comms.open(id);\n",
              "      // Send a message to notify the kernel that we're ready.\n",
              "      channel.send({})\n",
              "\n",
              "      for await (const message of channel.messages) {\n",
              "        // Send a message to notify the kernel that we're ready.\n",
              "        channel.send({})\n",
              "        if (message.buffers) {\n",
              "          for (const buffer of message.buffers) {\n",
              "            buffers.push(buffer);\n",
              "            downloaded += buffer.byteLength;\n",
              "            progress.value = downloaded;\n",
              "          }\n",
              "        }\n",
              "      }\n",
              "      const blob = new Blob(buffers, {type: 'application/binary'});\n",
              "      const a = document.createElement('a');\n",
              "      a.href = window.URL.createObjectURL(blob);\n",
              "      a.download = filename;\n",
              "      div.appendChild(a);\n",
              "      a.click();\n",
              "      div.remove();\n",
              "    }\n",
              "  "
            ]
          },
          "metadata": {}
        },
        {
          "output_type": "display_data",
          "data": {
            "text/plain": [
              "<IPython.core.display.Javascript object>"
            ],
            "application/javascript": [
              "download(\"download_39379108-31fa-466c-abad-9a2a5295f2eb\", \"contentlda\", 60457)"
            ]
          },
          "metadata": {}
        },
        {
          "output_type": "stream",
          "name": "stdout",
          "text": [
            "downloading\n"
          ]
        },
        {
          "output_type": "display_data",
          "data": {
            "text/plain": [
              "<IPython.core.display.Javascript object>"
            ],
            "application/javascript": [
              "\n",
              "    async function download(id, filename, size) {\n",
              "      if (!google.colab.kernel.accessAllowed) {\n",
              "        return;\n",
              "      }\n",
              "      const div = document.createElement('div');\n",
              "      const label = document.createElement('label');\n",
              "      label.textContent = `Downloading \"${filename}\": `;\n",
              "      div.appendChild(label);\n",
              "      const progress = document.createElement('progress');\n",
              "      progress.max = size;\n",
              "      div.appendChild(progress);\n",
              "      document.body.appendChild(div);\n",
              "\n",
              "      const buffers = [];\n",
              "      let downloaded = 0;\n",
              "\n",
              "      const channel = await google.colab.kernel.comms.open(id);\n",
              "      // Send a message to notify the kernel that we're ready.\n",
              "      channel.send({})\n",
              "\n",
              "      for await (const message of channel.messages) {\n",
              "        // Send a message to notify the kernel that we're ready.\n",
              "        channel.send({})\n",
              "        if (message.buffers) {\n",
              "          for (const buffer of message.buffers) {\n",
              "            buffers.push(buffer);\n",
              "            downloaded += buffer.byteLength;\n",
              "            progress.value = downloaded;\n",
              "          }\n",
              "        }\n",
              "      }\n",
              "      const blob = new Blob(buffers, {type: 'application/binary'});\n",
              "      const a = document.createElement('a');\n",
              "      a.href = window.URL.createObjectURL(blob);\n",
              "      a.download = filename;\n",
              "      div.appendChild(a);\n",
              "      a.click();\n",
              "      div.remove();\n",
              "    }\n",
              "  "
            ]
          },
          "metadata": {}
        },
        {
          "output_type": "display_data",
          "data": {
            "text/plain": [
              "<IPython.core.display.Javascript object>"
            ],
            "application/javascript": [
              "download(\"download_0b2b7988-9289-4b5c-b18a-abd2c850ded5\", \"contentlda.expElogbeta.npy\", 317088)"
            ]
          },
          "metadata": {}
        },
        {
          "output_type": "stream",
          "name": "stdout",
          "text": [
            "downloading\n"
          ]
        },
        {
          "output_type": "display_data",
          "data": {
            "text/plain": [
              "<IPython.core.display.Javascript object>"
            ],
            "application/javascript": [
              "\n",
              "    async function download(id, filename, size) {\n",
              "      if (!google.colab.kernel.accessAllowed) {\n",
              "        return;\n",
              "      }\n",
              "      const div = document.createElement('div');\n",
              "      const label = document.createElement('label');\n",
              "      label.textContent = `Downloading \"${filename}\": `;\n",
              "      div.appendChild(label);\n",
              "      const progress = document.createElement('progress');\n",
              "      progress.max = size;\n",
              "      div.appendChild(progress);\n",
              "      document.body.appendChild(div);\n",
              "\n",
              "      const buffers = [];\n",
              "      let downloaded = 0;\n",
              "\n",
              "      const channel = await google.colab.kernel.comms.open(id);\n",
              "      // Send a message to notify the kernel that we're ready.\n",
              "      channel.send({})\n",
              "\n",
              "      for await (const message of channel.messages) {\n",
              "        // Send a message to notify the kernel that we're ready.\n",
              "        channel.send({})\n",
              "        if (message.buffers) {\n",
              "          for (const buffer of message.buffers) {\n",
              "            buffers.push(buffer);\n",
              "            downloaded += buffer.byteLength;\n",
              "            progress.value = downloaded;\n",
              "          }\n",
              "        }\n",
              "      }\n",
              "      const blob = new Blob(buffers, {type: 'application/binary'});\n",
              "      const a = document.createElement('a');\n",
              "      a.href = window.URL.createObjectURL(blob);\n",
              "      a.download = filename;\n",
              "      div.appendChild(a);\n",
              "      a.click();\n",
              "      div.remove();\n",
              "    }\n",
              "  "
            ]
          },
          "metadata": {}
        },
        {
          "output_type": "display_data",
          "data": {
            "text/plain": [
              "<IPython.core.display.Javascript object>"
            ],
            "application/javascript": [
              "download(\"download_22dd884a-89ac-4133-9fb8-40f79765941f\", \"contentlda.id2word\", 266522)"
            ]
          },
          "metadata": {}
        }
      ]
    },
    {
      "cell_type": "code",
      "source": [
        "dir_list"
      ],
      "metadata": {
        "id": "m6j6vmlJsBuX",
        "outputId": "113ad202-3f4e-4e74-ab00-7730c9e9e232",
        "colab": {
          "base_uri": "https://localhost:8080/"
        }
      },
      "execution_count": 33,
      "outputs": [
        {
          "output_type": "execute_result",
          "data": {
            "text/plain": [
              "['.config',\n",
              " 'lsa',\n",
              " 'lda.state',\n",
              " 'lda',\n",
              " 'lda.expElogbeta.npy',\n",
              " 'lsa.projection',\n",
              " 'lda.id2word',\n",
              " 'sample_data']"
            ]
          },
          "metadata": {},
          "execution_count": 33
        }
      ]
    },
    {
      "cell_type": "markdown",
      "source": [
        "## Visualizacion de los topicos"
      ],
      "metadata": {
        "id": "5iJIDwlJlzQ3"
      }
    },
    {
      "cell_type": "markdown",
      "source": [
        "lambda \n",
        "* cercano a 1 muestra las palabras mas probables de cada topico\n",
        "* cercano a 0 muestra las palabras mas especificas de cada topico (palabras raras, altamente probables en ese topico y poco probables en los otros). Son palabras muy asociados al topico y son palabras poco probables. Serian palabras diferencialmente mas probables para del topico (pueden ser palabras poco proablbes para el topico pq son poco proablabes en si)´\n",
        "\n",
        "\n",
        "el grafico de la izquierda muestra los topicos distribuidos espacialmente segun si tienen palabras parecidas"
      ],
      "metadata": {
        "id": "_RcoM7Oh85fA"
      }
    },
    {
      "cell_type": "code",
      "metadata": {
        "id": "Oypnd8WN21BB",
        "colab": {
          "base_uri": "https://localhost:8080/",
          "height": 862
        },
        "outputId": "e287e5ff-7656-4f21-e57c-368dc976b236"
      },
      "source": [
        "pyLDAvis.gensim.prepare(ldamodel, corpus, dictionary)"
      ],
      "execution_count": 12,
      "outputs": [
        {
          "output_type": "execute_result",
          "data": {
            "text/plain": [
              "PreparedData(topic_coordinates=              x         y  topics  cluster       Freq\n",
              "topic                                                \n",
              "5     -0.155788  0.022317       1        1  21.098307\n",
              "9     -0.107617 -0.030677       2        1  15.928407\n",
              "8     -0.119269  0.045043       3        1  13.657366\n",
              "6     -0.155190  0.062645       4        1  12.283210\n",
              "2      0.371226  0.123339       5        1   9.573583\n",
              "3     -0.129672 -0.013468       6        1   9.009664\n",
              "4     -0.106712 -0.000086       7        1   8.206111\n",
              "1     -0.082149  0.112763       8        1   6.452083\n",
              "7      0.133042 -0.412314       9        1   3.138410\n",
              "0      0.352127  0.090438      10        1   0.652860, topic_info=            Term          Freq         Total Category  logprob  loglift\n",
              "279           de   9619.000000   9619.000000  Default  30.0000  30.0000\n",
              "286           et   4135.000000   4135.000000  Default  29.0000  29.0000\n",
              "1296      models  10551.000000  10551.000000  Default  28.0000  28.0000\n",
              "354        model  11690.000000  11690.000000  Default  27.0000  27.0000\n",
              "290           la   3842.000000   3842.000000  Default  26.0000  26.0000\n",
              "...          ...           ...           ...      ...      ...      ...\n",
              "286           et   1141.900412   4135.468946  Topic10  -2.0790   3.7447\n",
              "3453          si     97.130005    216.065287  Topic10  -4.5434   4.2320\n",
              "2158  diagnostic     62.043831    120.023919  Topic10  -4.9916   4.3717\n",
              "3103          id     55.144765     95.521679  Topic10  -5.1095   4.4822\n",
              "7895         ood     51.015381    149.322951  Topic10  -5.1873   3.9576\n",
              "\n",
              "[660 rows x 6 columns], token_table=      Topic      Freq      Term\n",
              "term                           \n",
              "6415      1  0.994811  ablation\n",
              "6417     10  0.985432     abuse\n",
              "7510      8  0.992640   abusive\n",
              "2248      1  0.754988  achieves\n",
              "2248      4  0.220558  achieves\n",
              "...     ...       ...       ...\n",
              "548       7  0.084614      work\n",
              "548       8  0.109043      work\n",
              "548       9  0.000444      work\n",
              "3938      6  0.992230       wsd\n",
              "3834      7  0.992242      zero\n",
              "\n",
              "[1362 rows x 3 columns], R=30, lambda_step=0.01, plot_opts={'xlab': 'PC1', 'ylab': 'PC2'}, topic_order=[6, 10, 9, 7, 3, 4, 5, 2, 8, 1])"
            ],
            "text/html": [
              "\n",
              "<link rel=\"stylesheet\" type=\"text/css\" href=\"https://cdn.rawgit.com/bmabey/pyLDAvis/files/ldavis.v1.0.0.css\">\n",
              "\n",
              "\n",
              "<div id=\"ldavis_el531396962703415847245733823\"></div>\n",
              "<script type=\"text/javascript\">\n",
              "\n",
              "var ldavis_el531396962703415847245733823_data = {\"mdsDat\": {\"x\": [-0.15578783351272088, -0.10761707713165995, -0.11926926708632576, -0.15518982554613905, 0.3712264566096486, -0.12967153102837833, -0.1067115555151012, -0.08214866469936663, 0.1330421781681416, 0.35212711974190136], \"y\": [0.022316655454192227, -0.030677256974063153, 0.045043155726052775, 0.0626450146620424, 0.1233387762677273, -0.013468158214860205, -8.561149251347567e-05, 0.11276335623992238, -0.4123141173465376, 0.090438185678038], \"topics\": [1, 2, 3, 4, 5, 6, 7, 8, 9, 10], \"cluster\": [1, 1, 1, 1, 1, 1, 1, 1, 1, 1], \"Freq\": [21.09830651241311, 15.928406684122203, 13.657365639162839, 12.283209541760375, 9.57358349935791, 9.009663715468957, 8.20611077633674, 6.452082966850389, 3.138410393659298, 0.6528602708681828]}, \"tinfo\": {\"Term\": [\"de\", \"et\", \"models\", \"model\", \"la\", \"des\", \"les\", \"languages\", \"word\", \"task\", \"corpus\", \"data\", \"semantic\", \"training\", \"speech\", \"le\", \"knowledge\", \"translation\", \"un\", \"dataset\", \"neural\", \"entity\", \"une\", \"en\", \"language\", \"parsing\", \"learning\", \"datasets\", \"nous\", \"information\", \"neural\", \"qa\", \"nmt\", \"clinical\", \"decoding\", \"submitted\", \"submission\", \"decoder\", \"auxiliary\", \"explanation\", \"rank\", \"wmt\", \"sequential\", \"teacher\", \"interpretable\", \"sota\", \"sensitive\", \"cnn\", \"optimization\", \"game\", \"iwslt\", \"ablation\", \"paths\", \"rnn\", \"ranking\", \"perturbations\", \"glue\", \"fluency\", \"pruning\", \"predicts\", \"bleu\", \"robustness\", \"subtasks\", \"metric\", \"architectures\", \"metrics\", \"comprehension\", \"answer\", \"scoring\", \"answers\", \"score\", \"noisy\", \"question\", \"memory\", \"outputs\", \"visual\", \"baseline\", \"datasets\", \"scores\", \"task\", \"model\", \"answering\", \"translation\", \"best\", \"sentence\", \"inference\", \"sequence\", \"system\", \"shared\", \"input\", \"achieves\", \"machine\", \"attention\", \"results\", \"performance\", \"systems\", \"generation\", \"pairs\", \"models\", \"approach\", \"proposed\", \"two\", \"show\", \"method\", \"using\", \"propose\", \"experiments\", \"evaluation\", \"paper\", \"based\", \"dataset\", \"language\", \"training\", \"tasks\", \"data\", \"lexicon\", \"spanish\", \"prompt\", \"french\", \"readers\", \"ground\", \"phonetic\", \"portuguese\", \"dialect\", \"opinions\", \"poorly\", \"ratings\", \"tagger\", \"turkish\", \"dutch\", \"arabic\", \"logistic\", \"mrc\", \"matrix\", \"entries\", \"body\", \"ethical\", \"endangered\", \"transferability\", \"czech\", \"transcribed\", \"argumentation\", \"correlate\", \"recordings\", \"children\", \"speech\", \"italian\", \"russian\", \"asr\", \"speakers\", \"dictionary\", \"german\", \"native\", \"lexicons\", \"acoustic\", \"corpora\", \"english\", \"corpus\", \"dictionaries\", \"languages\", \"database\", \"regression\", \"annotated\", \"resource\", \"japanese\", \"spoken\", \"lexical\", \"manually\", \"resources\", \"annotation\", \"automatic\", \"chinese\", \"recognition\", \"language\", \"annotations\", \"linguistic\", \"used\", \"paper\", \"available\", \"different\", \"present\", \"evaluation\", \"data\", \"using\", \"texts\", \"results\", \"set\", \"two\", \"also\", \"first\", \"words\", \"one\", \"based\", \"privacy\", \"suffer\", \"nlg\", \"software\", \"students\", \"legal\", \"captions\", \"ask\", \"patients\", \"survey\", \"pseudo\", \"rouge\", \"deployment\", \"numerous\", \"engine\", \"retriever\", \"compositionality\", \"typologically\", \"constituency\", \"interpretations\", \"policies\", \"old\", \"programs\", \"translators\", \"inform\", \"streaming\", \"business\", \"teaching\", \"lightweight\", \"industry\", \"technology\", \"program\", \"management\", \"digital\", \"technologies\", \"metadata\", \"tools\", \"tool\", \"interface\", \"mt\", \"web\", \"services\", \"platform\", \"researchers\", \"toolkit\", \"community\", \"research\", \"development\", \"nlp\", \"pipeline\", \"processing\", \"applications\", \"system\", \"challenges\", \"translation\", \"language\", \"machine\", \"systems\", \"project\", \"user\", \"data\", \"search\", \"provide\", \"paper\", \"support\", \"text\", \"available\", \"process\", \"design\", \"resources\", \"present\", \"use\", \"natural\", \"evaluation\", \"new\", \"also\", \"work\", \"used\", \"information\", \"embedding\", \"adversarial\", \"downstream\", \"label\", \"probing\", \"unlabeled\", \"intent\", \"prompts\", \"sampling\", \"political\", \"lms\", \"attacks\", \"nlu\", \"reinforcement\", \"risk\", \"toxic\", \"spurious\", \"curriculum\", \"subword\", \"treebanks\", \"dialects\", \"citation\", \"perplexity\", \"sparsity\", \"vanilla\", \"removing\", \"srl\", \"scarcity\", \"conditioned\", \"prevent\", \"pretraining\", \"transfer\", \"plms\", \"labeled\", \"spaces\", \"pretrained\", \"samples\", \"latent\", \"generalization\", \"supervision\", \"learning\", \"unseen\", \"training\", \"models\", \"tasks\", \"contrastive\", \"labels\", \"conversations\", \"data\", \"domains\", \"dialogue\", \"learn\", \"performance\", \"examples\", \"model\", \"methods\", \"propose\", \"across\", \"space\", \"supervised\", \"domain\", \"however\", \"show\", \"language\", \"large\", \"method\", \"existing\", \"trained\", \"nlp\", \"work\", \"experiments\", \"natural\", \"text\", \"representations\", \"new\", \"recent\", \"different\", \"results\", \"de\", \"la\", \"des\", \"les\", \"le\", \"un\", \"une\", \"en\", \"nous\", \"pour\", \"dans\", \"sur\", \"es\", \"pr\", \"du\", \"est\", \"que\", \"contextualized\", \"distillation\", \"sont\", \"syst\", \"mod\", \"cet\", \"qui\", \"extractive\", \"signals\", \"ces\", \"cette\", \"ce\", \"automatique\", \"par\", \"et\", \"article\", \"corpus\", \"sentiment\", \"gender\", \"emotion\", \"encoder\", \"tweets\", \"vector\", \"leverage\", \"twitter\", \"vectors\", \"nli\", \"emotions\", \"posts\", \"sarcasm\", \"dense\", \"polarity\", \"amr\", \"uncertainty\", \"emotional\", \"modalities\", \"clip\", \"captures\", \"tweet\", \"financial\", \"wsd\", \"personality\", \"depression\", \"intents\", \"bridge\", \"sarcastic\", \"ignore\", \"cues\", \"embeddings\", \"biases\", \"story\", \"similarity\", \"word\", \"detection\", \"features\", \"detect\", \"classification\", \"change\", \"classifiers\", \"words\", \"analysis\", \"representations\", \"sense\", \"task\", \"meaning\", \"context\", \"semantic\", \"information\", \"text\", \"different\", \"paper\", \"using\", \"based\", \"use\", \"used\", \"results\", \"model\", \"two\", \"show\", \"entity\", \"entities\", \"event\", \"discourse\", \"biomedical\", \"coreference\", \"argument\", \"resolution\", \"summary\", \"causal\", \"facts\", \"generalize\", \"tamil\", \"summaries\", \"fake\", \"unstructured\", \"patient\", \"kb\", \"node\", \"triples\", \"ie\", \"literal\", \"hierarchy\", \"predicate\", \"differential\", \"unfortunately\", \"zero\", \"mwes\", \"pronouns\", \"paired\", \"ner\", \"nodes\", \"relation\", \"temporal\", \"arguments\", \"mentions\", \"named\", \"relations\", \"linking\", \"extraction\", \"ontology\", \"events\", \"logical\", \"semantic\", \"semantics\", \"summarization\", \"concepts\", \"information\", \"knowledge\", \"types\", \"structure\", \"text\", \"representation\", \"sentences\", \"annotation\", \"paper\", \"approach\", \"present\", \"new\", \"task\", \"existing\", \"two\", \"propose\", \"social\", \"transformer\", \"bias\", \"commonsense\", \"wikipedia\", \"agents\", \"explanations\", \"comments\", \"recurrent\", \"span\", \"offensive\", \"hate\", \"claims\", \"entailment\", \"slot\", \"claim\", \"lm\", \"kg\", \"stance\", \"moral\", \"tracking\", \"mental\", \"memes\", \"abusive\", \"customer\", \"recommendation\", \"grounding\", \"reddit\", \"kgs\", \"reader\", \"media\", \"agent\", \"reasoning\", \"graph\", \"response\", \"video\", \"graphs\", \"conversation\", \"multimodal\", \"health\", \"interactions\", \"news\", \"online\", \"dataset\", \"knowledge\", \"responses\", \"content\", \"user\", \"evidence\", \"users\", \"understanding\", \"datasets\", \"dialogue\", \"people\", \"human\", \"information\", \"detection\", \"research\", \"work\", \"natural\", \"parsing\", \"augmentation\", \"outperform\", \"parser\", \"dependency\", \"learns\", \"tree\", \"trees\", \"parsers\", \"conditional\", \"leverages\", \"pcl\", \"parse\", \"grammars\", \"soft\", \"title\", \"correlated\", \"vulnerable\", \"balanced\", \"templates\", \"induce\", \"mixture\", \"ignoring\", \"smoothing\", \"gendered\", \"imbalance\", \"replacement\", \"patronizing\", \"parses\", \"extrinsic\", \"grammar\", \"substitution\", \"syntactic\", \"universal\", \"morphological\", \"syntax\", \"dependencies\", \"labeling\", \"morphology\", \"pos\", \"tagging\", \"algorithm\", \"grammatical\", \"structures\", \"loss\", \"sizes\", \"tokens\", \"unsupervised\", \"structure\", \"constraints\", \"gains\", \"languages\", \"sentence\", \"word\", \"words\", \"predicting\", \"al\", \"opinion\", \"macro\", \"completion\", \"st\", \"attribution\", \"perception\", \"inductive\", \"gaps\", \"authorship\", \"approximation\", \"specificity\", \"globally\", \"edge\", \"stream\", \"abuse\", \"nuances\", \"chatbots\", \"perceptual\", \"reflecting\", \"publication\", \"reproduction\", \"bird\", \"adjacency\", \"manipulation\", \"assistance\", \"contact\", \"kappa\", \"intrinsically\", \"simplification\", \"et\", \"si\", \"diagnostic\", \"id\", \"ood\"], \"Freq\": [9619.0, 4135.0, 10551.0, 11690.0, 3842.0, 3814.0, 3489.0, 5915.0, 4840.0, 9014.0, 6594.0, 9693.0, 3578.0, 4503.0, 3482.0, 2539.0, 4027.0, 5475.0, 2387.0, 3983.0, 3533.0, 2188.0, 2329.0, 2272.0, 13607.0, 1522.0, 4665.0, 3486.0, 2105.0, 6015.0, 3532.23634210534, 758.2962839659534, 746.8073898046121, 489.88747077863326, 419.3580691696085, 360.58332162753203, 357.99947987721964, 338.9295920279495, 306.71200924146706, 218.84814639532237, 247.18086283671556, 204.4822020045637, 202.1357612143983, 196.31633727307775, 189.44113950819647, 187.01388173536037, 184.45183738164928, 184.17273107954176, 167.02443232025072, 158.8443623507906, 152.4483637745483, 150.7851829071617, 148.48597839804717, 143.17333104508464, 448.5266273099896, 137.21608022407239, 136.0869098081733, 125.02832099037592, 123.83629196702023, 122.69984716383931, 659.0379823437397, 532.1000788671863, 284.9675000981195, 481.451586287831, 439.56932298370356, 1020.9607187799209, 354.35129306543945, 851.2278096347013, 245.0627879943943, 435.06033653971116, 1082.0994446550546, 371.42080170793764, 1850.816292696444, 574.9525925609282, 329.2592775102374, 690.1082559823996, 1127.2327321198866, 2670.1263239262853, 812.3714166105457, 5620.635119682621, 6892.713184016913, 847.933362449089, 3505.7438996432006, 1257.5890651371888, 1853.1667700415355, 947.4303532936603, 803.4385720894293, 3089.3583151675616, 1176.7153302219294, 1152.4360191764151, 979.2258326726721, 1977.4030674249093, 1182.9076459542803, 3287.951595778757, 2677.497794648302, 2340.0330082841547, 1563.1004139984898, 1084.7767627113594, 3973.175723361473, 2253.018350710328, 1644.988681169745, 2191.9214675917906, 2267.3358564419727, 1929.1326038251204, 2304.355771566188, 2056.9137865678235, 1579.6979033670686, 1783.848094434748, 2571.7990064615105, 1867.1591527449145, 1505.3670289200463, 1978.6709922692917, 1425.0437770357391, 1447.0281949563368, 1443.5558645247017, 751.9129854444155, 595.373692241798, 377.1329613704319, 585.3226802698802, 284.78350522048, 284.47585611430435, 274.4760930577298, 262.46112720652974, 249.59124334092496, 236.13189320612778, 233.96073913217035, 225.8153776176258, 221.1691810379912, 226.6116809818908, 212.7686901812236, 999.1036216982035, 192.66110303276173, 173.19069084770996, 172.41610862038831, 170.5299228952848, 169.1237548448651, 168.77846009060193, 164.38901383355926, 162.33298826932312, 161.43387584614055, 161.01749137681858, 159.85954080832892, 151.7907414385686, 149.34162165095097, 175.66307494558217, 3407.0270620855476, 254.07910255812473, 295.7112989900184, 503.77419238540335, 622.1667081775088, 537.341765092967, 860.2598320158991, 307.71848413544774, 318.3857539400953, 230.11502156223102, 2025.7463771441614, 2912.655126424897, 5065.9731254444105, 350.86426126092636, 4064.7992135547247, 486.5746310509183, 408.80694371456684, 1461.5352414561867, 929.4944193334633, 385.3866303093053, 599.9954833409984, 1186.0086234409753, 693.8536702112715, 1173.380745460527, 1602.5869879507443, 1418.5663457085632, 800.3368302651719, 973.7957868800145, 4035.7939873542728, 822.0080669488535, 1314.2733505863866, 1584.4791070245813, 2419.126204298821, 1157.848485629971, 1591.7927629636038, 1354.3567456632397, 1266.4983647555396, 1838.9206348575076, 1405.946352176629, 882.1435338384941, 1388.6389502601614, 998.4221356154289, 1210.8783526528991, 1158.9597778995221, 1018.1942576345847, 967.985570781389, 951.3622485162861, 948.5283079890899, 400.3579546745157, 341.0198502709441, 304.85827557877565, 293.4980818724373, 262.6571518046639, 248.16253644244145, 217.2003435063492, 212.67212159416255, 200.36673130703883, 187.61200349612093, 186.56360116219645, 185.1866127027853, 183.82841520683087, 172.4494638937757, 168.60263122570356, 155.29691678571265, 153.72731539141367, 152.807125246613, 152.3557418427738, 145.4388993834949, 143.28571070636255, 140.40594552151327, 136.78534938211186, 135.92177674377362, 134.79961153909662, 133.57121623686618, 134.62183123453497, 130.01617721021074, 129.45351572218533, 127.27216283769451, 549.9099179858504, 220.96563006436725, 186.34588172110432, 241.99051662758507, 353.4216192984481, 197.1833864326876, 942.7463281019199, 771.4986074752234, 415.8397961097521, 974.7043086742578, 730.1353160551881, 233.99259334822827, 326.39638894154047, 496.4166037790696, 231.81808971432284, 595.3166244608893, 1844.4891283421507, 872.8507043422699, 1570.1512023232292, 435.9431026640083, 1195.0165024425166, 752.699460498342, 2079.769781081313, 606.7591426012119, 1969.1140002340212, 3547.8256983733263, 1341.4996456863662, 1518.124116973909, 493.1362130295408, 714.9682732929613, 2285.985060777834, 607.8372769092686, 801.9852444899883, 1833.2042319165987, 545.8597426315675, 1398.3766231092945, 899.7580297426717, 736.5781036464336, 582.8598390504363, 734.9945924916113, 1025.0690720113705, 975.3230539609078, 804.5934746934316, 871.8401285513511, 867.4761774640812, 887.5122813064247, 744.825001632135, 681.8856368793698, 684.5762359924505, 981.5025840301347, 690.6459569639796, 662.7953309239215, 617.2708091367089, 291.93862517183277, 248.8396639728782, 242.72882171674664, 240.88303083009833, 233.86385337428726, 214.25548525652772, 199.82666381101134, 199.82146372399538, 188.05862688988637, 167.5731840955471, 146.74410555095918, 144.86006402424155, 124.70858681833475, 121.9442105604851, 112.50526261330488, 110.54479980778738, 99.79131986381013, 96.3145616852765, 94.93424858772762, 94.04931377961994, 89.13844160325696, 85.00370241436012, 83.41882089365372, 80.42077072560821, 80.30771383376418, 80.23654264281696, 358.6560015909015, 1081.3673751233798, 254.2730948935081, 536.6228196089216, 166.45320535431821, 603.4765383094818, 448.0178969333345, 369.749587226057, 440.45245033649724, 298.9481024653256, 3204.6328249083226, 269.82619515220887, 2975.872196929152, 6153.575611212627, 2957.434128394668, 355.13866273330876, 560.8517450450438, 351.11139534279744, 4057.1158899828906, 673.355507633248, 986.124021363223, 696.8299804446934, 2282.6481168239998, 588.2890441686721, 3863.193604973143, 1664.739697017796, 1948.279961655178, 885.8366631989273, 557.1098024290311, 517.3460170394334, 990.921941649499, 1313.4882193309227, 1930.9310313458516, 3345.53758274622, 1097.0840381190671, 1338.9371251816574, 1034.362428563394, 805.5512397381605, 968.6888496107703, 1187.1481852126703, 1004.8957754814539, 954.7349361121535, 1230.4460297396506, 839.513088040709, 969.8001482067494, 763.7420601218404, 857.763553435925, 808.3129659516654, 9618.716489002858, 3841.1560825260553, 3814.056061322754, 3489.0096949976523, 2538.139774276338, 2386.624828984474, 2328.115669958025, 2271.2888048252416, 2104.986383971991, 1913.5661555136464, 1703.5800867503795, 1574.4194477527396, 1479.2573572830718, 1271.9492410085063, 1213.5721464174458, 1157.7247280037768, 917.2007850413871, 745.5484451341506, 657.5516920547947, 646.2666052260691, 641.7877003826328, 639.4699009528571, 634.9612535524423, 628.5454660100087, 601.9927203257847, 596.2231007455476, 586.2862184597741, 555.7128651937314, 550.0465027924383, 501.79821415671046, 896.0939202459284, 2992.7906108791053, 693.7264978650768, 992.3299851420047, 1487.502550137814, 768.904681200807, 711.5700547949778, 630.0105241707563, 605.7377953262179, 574.540354018348, 519.7457727258407, 413.9614259040112, 380.08821143340117, 343.6786487224107, 307.75011959771723, 307.19793587742987, 295.22147588000485, 282.8579591536727, 246.7077056732826, 222.43654653273126, 218.7533168129505, 204.95811268942697, 204.6324357874509, 188.59154272349514, 183.59461746790106, 167.67962346578128, 161.90469716773237, 153.20307979111465, 143.81438684224247, 141.6674865620763, 139.17652770614237, 137.79194609869174, 129.71935458707088, 125.89806426708755, 182.79044491224238, 1932.395037116088, 547.3165816782463, 268.2335699016135, 950.6607938765302, 3043.044462387058, 1567.4478382581688, 1974.1632464958268, 435.9893900263526, 1712.0949750707118, 361.66666422639247, 399.44773745836244, 1602.1573675408442, 1579.6032738503736, 1077.0106981697827, 412.62532907858895, 2318.1909563085806, 496.5665554251445, 795.1045370972005, 937.5515650654571, 1109.3491822450264, 1032.8896345447047, 927.9773096331122, 1092.9480934615115, 953.9128684544606, 826.5463827828597, 752.942816131038, 687.7840808877172, 763.9447686850185, 765.1520617627223, 606.5029306640316, 567.0597022812647, 2187.9217222025, 1416.6680832536572, 1157.177249228778, 957.7820370548276, 589.4805745974029, 498.80785686747043, 454.0546574620688, 443.9318088101093, 478.02255935241016, 415.49066606482745, 384.33920274633965, 344.9318187845369, 249.95178619565132, 601.0013811656275, 204.34725735649712, 194.30401790763742, 168.40974166011335, 167.52765351781167, 159.6404498868394, 157.03946837186876, 152.67973543574865, 132.89830489431785, 125.06379993689805, 117.12663678756562, 115.27377868339644, 112.14353893835171, 111.89366785702124, 107.49028214034946, 101.61264969487492, 100.99304610952073, 740.4448506257723, 242.1818317686402, 1511.1530636480404, 601.3875352390722, 386.88546796612843, 400.40211653955805, 1125.5494935884215, 1766.5790448145451, 341.68045493306397, 1815.5026547662178, 233.87481585969022, 689.4636941875395, 300.8510619362347, 2390.0659238039316, 524.7729636597464, 751.5164357424674, 438.05077580367663, 2346.5336126337816, 1606.6713869982682, 774.729185950636, 704.815362952057, 1175.7093310444227, 678.720540459262, 640.4841787464795, 632.775314161122, 799.142354219644, 662.2187471955813, 628.3755628357296, 622.117087605537, 637.4390398766517, 536.7941403920664, 546.8418961065602, 536.9622844356729, 1301.8386517750969, 1044.1268149523482, 908.3720499162366, 532.0309715492202, 370.15712419322944, 342.8608772376671, 339.959179542844, 338.70425165295904, 321.91150698306876, 311.09617425816117, 305.8524599823158, 311.99647145244495, 259.1147691337627, 243.49874785979912, 230.28544515048105, 224.22810577534864, 222.76678273657808, 204.16705620736175, 202.00330048790366, 188.44994900636075, 156.61203174442667, 154.4249323407161, 149.94191540481305, 149.0962058718145, 143.64359608846422, 138.87459275619736, 125.55359602920512, 122.42740184977772, 115.13552616492866, 112.20220628756736, 904.0138618085459, 275.4424471004632, 1098.0548858360821, 1149.9310657843002, 536.3721824320002, 372.2156127136733, 419.947584824612, 438.9234157175718, 559.5798807938336, 296.31802525866675, 306.7681375338208, 825.593202392496, 557.2015144614551, 1671.1961654841575, 1467.589988041364, 391.31658760609986, 668.036949086612, 692.9353521262656, 427.09903070414936, 561.2752500062209, 597.1278712369465, 809.8376653098588, 587.5988154360415, 394.08353908390137, 683.5483335040705, 668.5622765336686, 525.626817725599, 475.3051044275745, 491.3335377938038, 399.262223024228, 1521.2702108481787, 839.9857046395837, 689.3712440778855, 665.7796039046959, 1247.5338273626487, 637.4985878618704, 550.0832449380163, 365.87482938453655, 336.32475434415045, 312.7681699200278, 294.3261681830856, 196.68084225807002, 191.70480643221612, 172.2896652774458, 151.25311907582045, 150.72779385656773, 149.93496158889633, 134.974343225684, 133.80147802118975, 131.01169449690764, 119.25943347810382, 118.613375441438, 118.60737610479012, 115.27381965657139, 108.47676542088143, 103.51769535113571, 102.70742719194591, 100.32569054273509, 100.08371389115868, 100.03334808025444, 445.0084304472065, 144.9422461763144, 1163.7019791795585, 339.6148845889333, 599.9231582842334, 277.22325517915766, 394.2142648622502, 484.04005335634395, 196.5217934047235, 340.3187181793819, 426.40415023105624, 539.1388605200111, 352.18599884833105, 469.8340329875497, 383.97328478062343, 196.83292084294317, 376.29425651534916, 490.01993048638076, 589.9482339634546, 270.9564114828528, 270.77632918006617, 617.6296842735518, 398.47982387990226, 398.97755419464175, 346.79280982891646, 598.4329239525878, 428.72379350685344, 411.8994425756936, 200.9522712791079, 186.11806614444504, 183.92339331837877, 166.2608132314381, 119.15665653253983, 118.75728030124526, 100.98631364499647, 86.85590260235429, 85.91373459603723, 85.56677001061526, 71.31240963508439, 69.4446058696637, 69.33314076460903, 69.04625865169879, 62.07329014338014, 61.841889707846626, 60.19481355375532, 53.979237125143854, 49.826496504889796, 49.40159904217165, 49.35153881932092, 48.759388421445195, 48.17552115566096, 47.569568372380196, 47.016409925879735, 46.685008104038296, 45.88333868630813, 178.22611219457465, 1141.900412058721, 97.13000540186081, 62.043831447728245, 55.14476480581115, 51.01538108729149], \"Total\": [9619.0, 4135.0, 10551.0, 11690.0, 3842.0, 3814.0, 3489.0, 5915.0, 4840.0, 9014.0, 6594.0, 9693.0, 3578.0, 4503.0, 3482.0, 2539.0, 4027.0, 5475.0, 2387.0, 3983.0, 3533.0, 2188.0, 2329.0, 2272.0, 13607.0, 1522.0, 4665.0, 3486.0, 2105.0, 6015.0, 3533.238495432376, 759.2984218602735, 747.8094262256456, 490.88980803947624, 420.36016661126183, 361.58541348563915, 359.00157756298097, 339.93166598822677, 307.71426069001825, 219.85055836460182, 248.37728380491532, 205.48423078029884, 203.137923445244, 197.31856753097486, 190.44343565131385, 188.01632003135046, 185.45420584934107, 185.1749156252866, 168.02658152876498, 159.84674514904484, 153.4503847137302, 151.78758663078546, 149.489661004113, 144.1975130586736, 451.7789088633238, 138.21854615603127, 137.0891941163718, 126.03049487068654, 124.83850318395135, 123.70212916539325, 668.3586060279312, 551.2573136980014, 292.03448738569443, 501.21618541891104, 457.85207069714465, 1091.5501810092708, 366.80113548456563, 920.0813466150822, 251.64765007701672, 465.4436121133985, 1231.5338150832736, 393.54114256399936, 2247.5643744164427, 635.058892814494, 346.8562069880096, 777.5006298541618, 1345.0063982690745, 3486.7942507933776, 975.4653488188897, 9014.547829713696, 11690.384781499246, 1039.9901807391716, 5475.738803292917, 1676.0139636415734, 2689.24377642157, 1205.5240192238361, 991.8359260133452, 5475.735096291062, 1626.8276223399287, 1592.9208332684398, 1296.7085109047798, 3343.006617484378, 1680.406465294437, 6883.162301593588, 5273.362560895554, 4423.662332858445, 2547.988589789821, 1541.9495215924728, 10551.302716412421, 4607.661845856691, 2974.077343254852, 5098.6112405081385, 5432.0310360414605, 4306.588118957263, 6102.5687127635665, 4986.895050914108, 3098.6764911005184, 3939.7115907133216, 8909.136896681906, 4698.141936606389, 3983.0965438546773, 13607.138303296844, 4503.206870890539, 5034.538414436636, 9693.858254325733, 752.8837630941797, 596.3229650395551, 378.08106872558284, 586.9302894432309, 285.73131060684256, 285.4237741763147, 275.42353472182083, 263.408547726424, 250.54121024864256, 237.08067245474487, 234.9088937440204, 226.7629835590867, 222.11694903186438, 227.58344015040245, 213.71617834302552, 1003.5772146837837, 193.6087369471454, 174.13855706613688, 173.36388169150507, 171.47739082298975, 170.071383284071, 169.7265084872726, 165.33653512093488, 163.28158372678072, 162.38134083529042, 161.9653209859137, 160.80723282350368, 152.7385648239821, 150.2890082067231, 176.79568601429332, 3482.3512555606226, 256.00271063919143, 300.3499123318118, 518.2267875550838, 644.7135843656865, 554.5877791770546, 901.8964872591017, 313.8594020564422, 328.8210593483239, 235.11777120740666, 2380.625962774219, 3587.239731143673, 6594.619050043214, 376.53988818022697, 5915.687171197473, 545.9030946383452, 454.1567508748885, 2067.8931150849166, 1231.0370063073697, 431.20588311108827, 767.6499265568718, 1869.7733420030625, 937.74892247178, 1920.9751920247459, 2929.530036362847, 2532.003880533548, 1173.7261078560834, 1651.2782569890803, 13607.138303296844, 1313.3538201457818, 2624.5008965396823, 4167.501545543941, 8909.136896681906, 2787.421584245146, 5034.749055393324, 4299.296437898847, 3939.7115907133216, 9693.858254325733, 6102.5687127635665, 1812.657454613639, 6883.162301593588, 2782.880677257041, 5098.6112405081385, 4626.097263970476, 3068.4346969752773, 3191.815450436526, 2941.3374791935903, 4698.141936606389, 401.3208638819261, 341.98354114748645, 305.8212485789828, 294.46093637097783, 263.6201205678844, 249.1262589204065, 218.16364307042204, 213.6353861422354, 201.33078269445622, 188.57487810064322, 187.52715172001834, 186.1498787173746, 184.79221741834223, 173.4126009192646, 169.5657703264139, 156.26037405427854, 154.69074325145465, 153.77048562661437, 153.31899190583715, 146.40197602674934, 144.24870016034416, 141.36909776491927, 137.7482359804755, 136.8845826322024, 135.76274022101575, 134.53441482260953, 135.61832780444226, 130.97906372744723, 130.41689998130224, 128.23502405974745, 559.2078181038249, 222.65832692717493, 188.6379336787661, 246.85124320138996, 372.1597710446874, 202.60361955651908, 1084.985492035487, 880.3876425131391, 460.3343269713067, 1179.3080093669507, 869.7068453768662, 249.30817486216037, 368.1634865584659, 600.6673521711796, 251.05912341437218, 776.176175462611, 3136.7686020641845, 1270.087247195515, 2772.729970191218, 570.2975193276868, 2159.9301993803138, 1304.8508318711279, 5475.735096291062, 984.1822860152618, 5475.738803292917, 13607.138303296844, 3343.006617484378, 4423.662332858445, 777.3124686290602, 1413.0178930832074, 9693.858254325733, 1096.6207221605766, 1915.9625909312583, 8909.136896681906, 942.6752942730778, 6136.652634574219, 2787.421584245146, 1810.5053889009844, 1106.422287883715, 1920.9751920247459, 4299.296437898847, 3896.65348396484, 2831.459309775144, 3939.7115907133216, 4146.662926198179, 4626.097263970476, 4502.805277909204, 4167.501545543941, 6015.304885176337, 982.5205691650699, 691.6928448570396, 663.8133114320409, 618.7138902088808, 292.9571699609347, 249.8575971393399, 243.7468574936299, 241.90104300343324, 234.88183676398617, 215.27365180925742, 200.84463877226278, 200.83943225351274, 189.07662175407145, 168.59112420420476, 147.76218510797838, 145.87822692711407, 125.72657587919878, 122.96218520593554, 113.52326246792066, 111.5628481286235, 100.80937919439819, 97.33269050970667, 95.95215914986318, 95.06727398841474, 90.15644456739612, 86.02179419787218, 84.43676804337451, 81.43887676187367, 81.3257374345267, 81.25474603562166, 363.3421264603765, 1177.5482573476534, 266.7682473810351, 584.8347383254329, 173.9376747357943, 678.9873780659378, 494.7631606637099, 411.52718956728, 497.77456646817853, 330.20793727625, 4665.760281153736, 300.7100267628221, 4503.206870890539, 10551.302716412421, 5034.538414436636, 432.546024478119, 756.7743885883858, 428.2214536102281, 9693.858254325733, 984.9714693857544, 1652.7546523846383, 1058.8823265974556, 5273.362560895554, 859.3597890884444, 11690.384781499246, 3928.9452953652226, 4986.895050914108, 1608.9569718826103, 818.3910698282192, 736.0026207638881, 1940.2893073010969, 2995.3748607169605, 5432.0310360414605, 13607.138303296844, 2633.8495456392193, 4306.588118957263, 2697.640076394541, 1664.964566897582, 2772.729970191218, 4502.805277909204, 3098.6764911005184, 2831.459309775144, 6136.652634574219, 2231.5509129534526, 4146.662926198179, 1667.3271494115697, 5034.749055393324, 6883.162301593588, 9619.604522040485, 3842.044111587783, 3814.9440859637893, 3489.897719358635, 2539.0278046926487, 2387.512861770744, 2329.0036937416944, 2272.176855687131, 2105.8744072127506, 1914.4541804798666, 1704.468110854627, 1575.3074712846035, 1480.1453917261272, 1272.837279014061, 1214.4601740967194, 1158.6127559804838, 918.088808980648, 746.4386058384125, 658.4412231774062, 647.1546292499203, 642.6757237099805, 640.3579249826744, 635.8492772507453, 629.4334896957926, 602.8821583302105, 597.112833123555, 587.1742421975171, 556.6008888241776, 550.934532840945, 502.6862381127253, 972.4278768791817, 4135.468946298171, 1212.0507342224848, 6594.619050043214, 1488.4975785559398, 769.8997855159436, 712.5650696564064, 631.0057964548491, 606.7328730188692, 575.5353940634362, 520.7413280091263, 414.95646339634897, 381.0832434405982, 344.67380795512327, 308.74512913848116, 308.19302889210985, 296.2164615095603, 283.85336160777456, 247.70273270245576, 223.43184301813756, 219.7486110147897, 205.95314321538905, 205.62763486914844, 189.58681856806376, 184.58993227433578, 168.67463398778736, 162.89978150093395, 154.1980686731524, 144.8094478813091, 142.66253390511565, 140.17195065806945, 138.7874840240023, 130.71435955865755, 126.89344382673856, 185.11117165442218, 2188.0121516514137, 592.7334888463339, 283.40827451623403, 1240.6406894459935, 4840.187762391652, 2257.9021606958204, 3010.473920790161, 520.1242390662517, 2755.00850736465, 422.91236878978833, 487.1863075416275, 3191.815450436526, 3474.7130390525936, 2231.5509129534526, 566.8351122573304, 9014.547829713696, 873.5309813722878, 2141.734190910642, 3578.541575537151, 6015.304885176337, 6136.652634574219, 5034.749055393324, 8909.136896681906, 6102.5687127635665, 4698.141936606389, 3896.65348396484, 4167.501545543941, 6883.162301593588, 11690.384781499246, 5098.6112405081385, 5432.0310360414605, 2188.903357027924, 1417.6497230165921, 1158.1588561728315, 958.7640880967937, 590.4622417455787, 499.78946749507423, 455.0362961442533, 444.9134743118627, 479.1038038199964, 416.4724458502892, 385.32092465939803, 345.91393607753275, 250.93446723408638, 603.5986287657983, 205.32907795510556, 195.28572220549506, 169.39168074368132, 168.509251955783, 160.62217873631562, 158.02116426609743, 153.66131080932018, 133.88022300132604, 126.04544578826005, 118.10824326127198, 116.25602012540014, 113.12573176407642, 112.87565459299115, 108.47187493727056, 102.59439069288051, 101.97488108623551, 748.5979092917104, 245.7484605031423, 1570.2248236228975, 617.7805040199289, 396.8330923267711, 411.602851408114, 1198.082049679629, 1934.9746863162923, 355.77236873118545, 2115.7876111895453, 241.01555528499682, 799.9968414485866, 323.52695710921483, 3578.541575537151, 676.1288140325468, 1128.213519063857, 568.5809075199269, 6015.304885176337, 4027.0429194566514, 1835.7754369355687, 1606.8662898900398, 6136.652634574219, 1902.8867185748006, 2198.5767104369593, 2929.530036362847, 8909.136896681906, 4607.661845856691, 4299.296437898847, 4146.662926198179, 9014.547829713696, 2697.640076394541, 5098.6112405081385, 4986.895050914108, 1302.8472493685042, 1045.1357442137303, 909.3808064849377, 533.0397611734571, 371.16585173382674, 343.8695048017337, 340.96783162200694, 339.712855905183, 322.9202742964295, 312.1050389271947, 306.8610657743319, 313.1230106076835, 260.14540884886543, 244.50858724528453, 231.29418033556445, 225.23673428409944, 223.77560559841038, 205.17565776623107, 203.01185288420706, 189.4586282668489, 157.62069692600843, 155.43364083236938, 150.9505352388154, 150.10479087784427, 144.65255568025108, 139.92376785028245, 126.56226629198711, 123.43600227046386, 116.14415860492898, 113.21091628289282, 928.0670134837953, 286.1776271371776, 1221.8309277207804, 1282.850021599112, 589.612044247619, 400.336399730629, 462.48088786939854, 494.3020714342767, 682.944893057338, 331.21289751216597, 349.15544924300815, 1300.839295362179, 842.9637242010838, 3983.0965438546773, 4027.0429194566514, 532.7615827292622, 1310.7339321177533, 1413.0178930832074, 635.6450024810744, 1137.767452578672, 1294.6129445173167, 3486.7942507933776, 1652.7546523846383, 597.2725932896927, 2796.646906892658, 6015.304885176337, 2257.9021606958204, 3136.7686020641845, 4502.805277909204, 2831.459309775144, 1522.2494530122633, 840.9646843721279, 690.3502141005453, 666.7582961681802, 1249.446500746352, 638.4775189474674, 551.1826657156809, 366.8551232274411, 337.3034961778472, 313.7470364138541, 295.30518433238694, 197.65962931872374, 192.68353327851784, 173.26833845377598, 152.23194549677643, 151.70677657759094, 150.91407138451726, 135.95347615057455, 134.78044035647062, 131.99057670914863, 120.23826239126731, 119.59232455923284, 119.58647315124246, 116.25259372290864, 109.45578883598421, 104.49666712258814, 103.68621958278085, 101.30452329334261, 101.06296819047768, 101.01225702568075, 454.5346015743759, 150.2426098873301, 1464.5992174832502, 382.7877704470506, 744.6099053808626, 316.8464790425398, 479.8346685078428, 616.031258234557, 215.94369557035523, 431.1402866336101, 587.0628174844661, 914.8361233114125, 515.2830001909986, 802.0992598981107, 604.2560788753682, 232.02086335887444, 680.6034486466234, 1085.4772096569209, 1606.8662898900398, 415.53672170686525, 415.6161376305425, 5915.687171197473, 2689.24377642157, 4840.187762391652, 3191.815450436526, 599.4067681566185, 429.69761323343954, 412.8733755138559, 201.92613405952395, 187.0924958832696, 184.89718028290997, 167.2346468976624, 120.13047654260508, 119.73117845159827, 101.96018922397198, 87.82966100025534, 86.88757534077887, 86.54058376825279, 72.28630352150513, 70.41847549498644, 70.30696134034697, 70.02008657899653, 63.04722007587718, 62.815723348247914, 61.16862927023828, 54.953113231660836, 50.80033834161659, 50.375439371976626, 50.32545848079909, 49.73339632067785, 49.149335465419064, 48.5433866696679, 47.99031162326646, 47.65880509302819, 46.857304850132365, 293.1688853058714, 4135.468946298171, 216.06528661857055, 120.02391938432831, 95.52167874532293, 149.32295140910054], \"Category\": [\"Default\", \"Default\", \"Default\", \"Default\", \"Default\", \"Default\", \"Default\", \"Default\", \"Default\", \"Default\", \"Default\", \"Default\", \"Default\", \"Default\", \"Default\", \"Default\", \"Default\", \"Default\", \"Default\", \"Default\", \"Default\", \"Default\", \"Default\", \"Default\", \"Default\", \"Default\", \"Default\", \"Default\", \"Default\", \"Default\", \"Topic1\", \"Topic1\", \"Topic1\", \"Topic1\", \"Topic1\", \"Topic1\", \"Topic1\", \"Topic1\", \"Topic1\", \"Topic1\", \"Topic1\", \"Topic1\", \"Topic1\", \"Topic1\", \"Topic1\", \"Topic1\", \"Topic1\", \"Topic1\", \"Topic1\", \"Topic1\", \"Topic1\", \"Topic1\", \"Topic1\", \"Topic1\", \"Topic1\", \"Topic1\", \"Topic1\", \"Topic1\", \"Topic1\", \"Topic1\", \"Topic1\", \"Topic1\", \"Topic1\", \"Topic1\", \"Topic1\", \"Topic1\", \"Topic1\", \"Topic1\", \"Topic1\", \"Topic1\", \"Topic1\", \"Topic1\", \"Topic1\", \"Topic1\", \"Topic1\", \"Topic1\", \"Topic1\", \"Topic1\", \"Topic1\", \"Topic1\", \"Topic1\", \"Topic1\", \"Topic1\", \"Topic1\", \"Topic1\", \"Topic1\", \"Topic1\", \"Topic1\", \"Topic1\", \"Topic1\", \"Topic1\", \"Topic1\", \"Topic1\", \"Topic1\", \"Topic1\", \"Topic1\", \"Topic1\", \"Topic1\", \"Topic1\", \"Topic1\", \"Topic1\", \"Topic1\", \"Topic1\", \"Topic1\", \"Topic1\", \"Topic1\", \"Topic1\", \"Topic1\", \"Topic1\", \"Topic1\", \"Topic1\", \"Topic1\", \"Topic1\", \"Topic1\", \"Topic1\", \"Topic2\", \"Topic2\", \"Topic2\", \"Topic2\", \"Topic2\", \"Topic2\", \"Topic2\", \"Topic2\", \"Topic2\", \"Topic2\", \"Topic2\", \"Topic2\", \"Topic2\", \"Topic2\", \"Topic2\", \"Topic2\", \"Topic2\", \"Topic2\", \"Topic2\", \"Topic2\", \"Topic2\", \"Topic2\", \"Topic2\", \"Topic2\", \"Topic2\", \"Topic2\", \"Topic2\", \"Topic2\", \"Topic2\", \"Topic2\", \"Topic2\", \"Topic2\", \"Topic2\", \"Topic2\", \"Topic2\", \"Topic2\", \"Topic2\", \"Topic2\", \"Topic2\", \"Topic2\", \"Topic2\", \"Topic2\", \"Topic2\", \"Topic2\", \"Topic2\", \"Topic2\", \"Topic2\", \"Topic2\", \"Topic2\", \"Topic2\", \"Topic2\", \"Topic2\", \"Topic2\", \"Topic2\", \"Topic2\", \"Topic2\", \"Topic2\", \"Topic2\", \"Topic2\", \"Topic2\", \"Topic2\", \"Topic2\", \"Topic2\", \"Topic2\", \"Topic2\", \"Topic2\", \"Topic2\", \"Topic2\", \"Topic2\", \"Topic2\", \"Topic2\", \"Topic2\", \"Topic2\", \"Topic2\", \"Topic2\", \"Topic2\", \"Topic2\", \"Topic2\", \"Topic3\", \"Topic3\", \"Topic3\", \"Topic3\", \"Topic3\", \"Topic3\", \"Topic3\", \"Topic3\", \"Topic3\", \"Topic3\", \"Topic3\", \"Topic3\", \"Topic3\", \"Topic3\", \"Topic3\", \"Topic3\", \"Topic3\", \"Topic3\", \"Topic3\", \"Topic3\", \"Topic3\", \"Topic3\", \"Topic3\", \"Topic3\", \"Topic3\", \"Topic3\", \"Topic3\", \"Topic3\", \"Topic3\", \"Topic3\", \"Topic3\", \"Topic3\", \"Topic3\", \"Topic3\", \"Topic3\", \"Topic3\", \"Topic3\", \"Topic3\", \"Topic3\", \"Topic3\", \"Topic3\", \"Topic3\", \"Topic3\", \"Topic3\", \"Topic3\", \"Topic3\", \"Topic3\", \"Topic3\", \"Topic3\", \"Topic3\", \"Topic3\", \"Topic3\", \"Topic3\", \"Topic3\", \"Topic3\", \"Topic3\", \"Topic3\", \"Topic3\", \"Topic3\", \"Topic3\", \"Topic3\", \"Topic3\", \"Topic3\", \"Topic3\", \"Topic3\", \"Topic3\", \"Topic3\", \"Topic3\", \"Topic3\", \"Topic3\", \"Topic3\", \"Topic3\", \"Topic3\", \"Topic3\", \"Topic3\", \"Topic3\", \"Topic3\", \"Topic3\", \"Topic3\", \"Topic4\", \"Topic4\", \"Topic4\", \"Topic4\", \"Topic4\", \"Topic4\", \"Topic4\", \"Topic4\", \"Topic4\", \"Topic4\", \"Topic4\", \"Topic4\", \"Topic4\", \"Topic4\", \"Topic4\", \"Topic4\", \"Topic4\", \"Topic4\", \"Topic4\", \"Topic4\", \"Topic4\", \"Topic4\", \"Topic4\", \"Topic4\", \"Topic4\", \"Topic4\", \"Topic4\", \"Topic4\", \"Topic4\", \"Topic4\", \"Topic4\", \"Topic4\", \"Topic4\", \"Topic4\", \"Topic4\", \"Topic4\", \"Topic4\", \"Topic4\", \"Topic4\", \"Topic4\", \"Topic4\", \"Topic4\", \"Topic4\", \"Topic4\", \"Topic4\", \"Topic4\", \"Topic4\", \"Topic4\", \"Topic4\", \"Topic4\", \"Topic4\", \"Topic4\", \"Topic4\", \"Topic4\", \"Topic4\", \"Topic4\", \"Topic4\", \"Topic4\", \"Topic4\", \"Topic4\", \"Topic4\", \"Topic4\", \"Topic4\", \"Topic4\", \"Topic4\", \"Topic4\", \"Topic4\", \"Topic4\", \"Topic4\", \"Topic4\", \"Topic4\", \"Topic4\", \"Topic4\", \"Topic4\", \"Topic4\", \"Topic4\", \"Topic4\", \"Topic4\", \"Topic5\", \"Topic5\", \"Topic5\", \"Topic5\", \"Topic5\", \"Topic5\", \"Topic5\", \"Topic5\", \"Topic5\", \"Topic5\", \"Topic5\", \"Topic5\", \"Topic5\", \"Topic5\", \"Topic5\", \"Topic5\", \"Topic5\", \"Topic5\", \"Topic5\", \"Topic5\", \"Topic5\", \"Topic5\", \"Topic5\", \"Topic5\", \"Topic5\", \"Topic5\", \"Topic5\", \"Topic5\", \"Topic5\", \"Topic5\", \"Topic5\", \"Topic5\", \"Topic5\", \"Topic5\", \"Topic6\", \"Topic6\", \"Topic6\", \"Topic6\", \"Topic6\", \"Topic6\", \"Topic6\", \"Topic6\", \"Topic6\", \"Topic6\", \"Topic6\", \"Topic6\", \"Topic6\", \"Topic6\", \"Topic6\", \"Topic6\", \"Topic6\", \"Topic6\", \"Topic6\", \"Topic6\", \"Topic6\", \"Topic6\", \"Topic6\", \"Topic6\", \"Topic6\", \"Topic6\", \"Topic6\", \"Topic6\", \"Topic6\", \"Topic6\", \"Topic6\", \"Topic6\", \"Topic6\", \"Topic6\", \"Topic6\", \"Topic6\", \"Topic6\", \"Topic6\", \"Topic6\", \"Topic6\", \"Topic6\", \"Topic6\", \"Topic6\", \"Topic6\", \"Topic6\", \"Topic6\", \"Topic6\", \"Topic6\", \"Topic6\", \"Topic6\", \"Topic6\", \"Topic6\", \"Topic6\", \"Topic6\", \"Topic6\", \"Topic6\", \"Topic6\", \"Topic6\", \"Topic6\", \"Topic6\", \"Topic6\", \"Topic6\", \"Topic7\", \"Topic7\", \"Topic7\", \"Topic7\", \"Topic7\", \"Topic7\", \"Topic7\", \"Topic7\", \"Topic7\", \"Topic7\", \"Topic7\", \"Topic7\", \"Topic7\", \"Topic7\", \"Topic7\", \"Topic7\", \"Topic7\", \"Topic7\", \"Topic7\", \"Topic7\", \"Topic7\", \"Topic7\", \"Topic7\", \"Topic7\", \"Topic7\", \"Topic7\", \"Topic7\", \"Topic7\", \"Topic7\", \"Topic7\", \"Topic7\", \"Topic7\", \"Topic7\", \"Topic7\", \"Topic7\", \"Topic7\", \"Topic7\", \"Topic7\", \"Topic7\", \"Topic7\", \"Topic7\", \"Topic7\", \"Topic7\", \"Topic7\", \"Topic7\", \"Topic7\", \"Topic7\", \"Topic7\", \"Topic7\", \"Topic7\", \"Topic7\", \"Topic7\", \"Topic7\", \"Topic7\", \"Topic7\", \"Topic7\", \"Topic7\", \"Topic7\", \"Topic7\", \"Topic7\", \"Topic7\", \"Topic7\", \"Topic7\", \"Topic8\", \"Topic8\", \"Topic8\", \"Topic8\", \"Topic8\", \"Topic8\", \"Topic8\", \"Topic8\", \"Topic8\", \"Topic8\", \"Topic8\", \"Topic8\", \"Topic8\", \"Topic8\", \"Topic8\", \"Topic8\", \"Topic8\", \"Topic8\", \"Topic8\", \"Topic8\", \"Topic8\", \"Topic8\", \"Topic8\", \"Topic8\", \"Topic8\", \"Topic8\", \"Topic8\", \"Topic8\", \"Topic8\", \"Topic8\", \"Topic8\", \"Topic8\", \"Topic8\", \"Topic8\", \"Topic8\", \"Topic8\", \"Topic8\", \"Topic8\", \"Topic8\", \"Topic8\", \"Topic8\", \"Topic8\", \"Topic8\", \"Topic8\", \"Topic8\", \"Topic8\", \"Topic8\", \"Topic8\", \"Topic8\", \"Topic8\", \"Topic8\", \"Topic8\", \"Topic8\", \"Topic8\", \"Topic8\", \"Topic8\", \"Topic8\", \"Topic8\", \"Topic8\", \"Topic8\", \"Topic9\", \"Topic9\", \"Topic9\", \"Topic9\", \"Topic9\", \"Topic9\", \"Topic9\", \"Topic9\", \"Topic9\", \"Topic9\", \"Topic9\", \"Topic9\", \"Topic9\", \"Topic9\", \"Topic9\", \"Topic9\", \"Topic9\", \"Topic9\", \"Topic9\", \"Topic9\", \"Topic9\", \"Topic9\", \"Topic9\", \"Topic9\", \"Topic9\", \"Topic9\", \"Topic9\", \"Topic9\", \"Topic9\", \"Topic9\", \"Topic9\", \"Topic9\", \"Topic9\", \"Topic9\", \"Topic9\", \"Topic9\", \"Topic9\", \"Topic9\", \"Topic9\", \"Topic9\", \"Topic9\", \"Topic9\", \"Topic9\", \"Topic9\", \"Topic9\", \"Topic9\", \"Topic9\", \"Topic9\", \"Topic9\", \"Topic9\", \"Topic9\", \"Topic9\", \"Topic9\", \"Topic9\", \"Topic9\", \"Topic10\", \"Topic10\", \"Topic10\", \"Topic10\", \"Topic10\", \"Topic10\", \"Topic10\", \"Topic10\", \"Topic10\", \"Topic10\", \"Topic10\", \"Topic10\", \"Topic10\", \"Topic10\", \"Topic10\", \"Topic10\", \"Topic10\", \"Topic10\", \"Topic10\", \"Topic10\", \"Topic10\", \"Topic10\", \"Topic10\", \"Topic10\", \"Topic10\", \"Topic10\", \"Topic10\", \"Topic10\", \"Topic10\", \"Topic10\", \"Topic10\", \"Topic10\", \"Topic10\", \"Topic10\", \"Topic10\", \"Topic10\"], \"logprob\": [30.0, 29.0, 28.0, 27.0, 26.0, 25.0, 24.0, 23.0, 22.0, 21.0, 20.0, 19.0, 18.0, 17.0, 16.0, 15.0, 14.0, 13.0, 12.0, 11.0, 10.0, 9.0, 8.0, 7.0, 6.0, 5.0, 4.0, 3.0, 2.0, 1.0, -4.4253997802734375, -5.964000225067139, -5.9791998863220215, -6.400899887084961, -6.556300163269043, -6.707300186157227, -6.7144999504089355, -6.7692999839782715, -6.869100093841553, -7.206699848175049, -7.08489990234375, -7.274600028991699, -7.286099910736084, -7.315299987792969, -7.35099983215332, -7.363900184631348, -7.377699851989746, -7.379199981689453, -7.476900100708008, -7.527100086212158, -7.56820011138916, -7.57919979095459, -7.594600200653076, -7.63100004196167, -6.489099979400635, -7.673500061035156, -7.68179988861084, -7.766499996185303, -7.776100158691406, -7.785299777984619, -6.104300022125244, -6.31820011138916, -6.942699909210205, -6.4182000160217285, -6.509300231933594, -5.666600227355957, -6.724800109863281, -5.848400115966797, -7.093500137329102, -6.519599914550781, -5.608399868011475, -6.677700042724609, -5.071700096130371, -6.240799903869629, -6.7982001304626465, -6.058199882507324, -5.567500114440918, -4.7052001953125, -5.895100116729736, -3.960900068283081, -3.7567999362945557, -5.85230016708374, -4.4328999519348145, -5.458099842071533, -5.070400238037109, -5.741300106048584, -5.906199932098389, -4.559299945831299, -5.524600028991699, -5.545400142669678, -5.7083001136779785, -5.005499839782715, -5.5192999839782715, -4.497000217437744, -4.702400207519531, -4.837100028991699, -5.240600109100342, -5.605899810791016, -4.307700157165527, -4.875, -5.189599990844727, -4.902500152587891, -4.86870002746582, -5.030200004577637, -4.852499961853027, -4.966100215911865, -5.230100154876709, -5.108500003814697, -4.742700099945068, -5.062900066375732, -5.278299808502197, -5.004899978637695, -5.333099842071533, -5.317800045013428, -5.320199966430664, -5.691299915313721, -5.924799919128418, -6.381400108337402, -5.941800117492676, -6.662199974060059, -6.663300037384033, -6.699100017547607, -6.743899822235107, -6.794099807739258, -6.849599838256836, -6.858799934387207, -6.894199848175049, -6.914999961853027, -6.890699863433838, -6.953800201416016, -5.407100200653076, -7.052999973297119, -7.159599781036377, -7.164100170135498, -7.175099849700928, -7.183300018310547, -7.185400009155273, -7.211699962615967, -7.224299907684326, -7.229899883270264, -7.232500076293945, -7.239699840545654, -7.291500091552734, -7.307700157165527, -7.145400047302246, -4.1803998947143555, -6.776299953460693, -6.624599933624268, -6.091800212860107, -5.880799770355225, -6.027299880981445, -5.556700229644775, -6.584799766540527, -6.5507001876831055, -6.875400066375732, -4.700300216674805, -4.337100028991699, -3.7836999893188477, -6.45359992980957, -4.003799915313721, -6.1265997886657715, -6.3007001876831055, -5.026700019836426, -5.479300022125244, -6.3597002029418945, -5.916999816894531, -5.235599994659424, -5.771699905395508, -5.246300220489502, -4.934599876403809, -5.056600093841553, -5.628900051116943, -5.432799816131592, -4.011000156402588, -5.602200031280518, -5.132900238037109, -4.946000099182129, -4.522799968719482, -5.2596001625061035, -4.941400051116943, -5.10290002822876, -5.170000076293945, -4.796999931335449, -5.065499782562256, -5.531599998474121, -5.077899932861328, -5.407800197601318, -5.214900016784668, -5.258699893951416, -5.388199806213379, -5.438700199127197, -5.456099987030029, -5.459099769592285, -6.167799949645996, -6.328199863433838, -6.440299987792969, -6.478300094604492, -6.589300155639648, -6.646100044250488, -6.779300212860107, -6.8003997802734375, -6.860000133514404, -6.92579984664917, -6.931399822235107, -6.938799858093262, -6.946100234985352, -7.010000228881836, -7.032599925994873, -7.114799976348877, -7.125, -7.13100004196167, -7.133900165557861, -7.1803998947143555, -7.195300102233887, -7.21560001373291, -7.241700172424316, -7.2480998039245605, -7.256400108337402, -7.265500068664551, -7.257699966430664, -7.292500019073486, -7.296800136566162, -7.313799858093262, -5.850399971008301, -6.7621002197265625, -6.932499885559082, -6.671199798583984, -6.292500019073486, -6.875999927520752, -5.311299800872803, -5.5117998123168945, -6.129799842834473, -5.2779998779296875, -5.56689977645874, -6.704899787902832, -6.372000217437744, -5.952700138092041, -6.714200019836426, -5.770999908447266, -4.640200138092041, -5.388400077819824, -4.801199913024902, -6.082600116729736, -5.07420015335083, -5.536499977111816, -4.520100116729736, -5.751999855041504, -4.57480001449585, -3.9860999584198, -4.958600044250488, -4.83489990234375, -5.959400177001953, -5.587900161743164, -4.425600051879883, -5.750199794769287, -5.473100185394287, -4.646299839019775, -5.857800006866455, -4.917099952697754, -5.357999801635742, -5.55810022354126, -5.792200088500977, -5.560299873352051, -5.22760009765625, -5.277400016784668, -5.469799995422363, -5.389500141143799, -5.394599914550781, -5.371699810028076, -5.546999931335449, -5.635300159454346, -5.63129997253418, -5.164999961853027, -5.516499996185303, -5.557600021362305, -5.628799915313721, -6.377600193023682, -6.537300109863281, -6.56220006942749, -6.569799900054932, -6.599400043487549, -6.6869001388549805, -6.7565999031066895, -6.756700038909912, -6.817299842834473, -6.932700157165527, -7.065400123596191, -7.0782999992370605, -7.228099822998047, -7.250500202178955, -7.331099987030029, -7.348700046539307, -7.451000213623047, -7.486499786376953, -7.500899791717529, -7.510300159454346, -7.563899993896484, -7.611400127410889, -7.630199909210205, -7.666800022125244, -7.6682000160217285, -7.669099807739258, -6.1717000007629395, -5.0680999755859375, -6.515699863433838, -5.768799781799316, -6.9394001960754395, -5.651400089263916, -5.9492998123168945, -6.141300201416016, -5.966300010681152, -6.353799819946289, -3.9816999435424805, -6.456299781799316, -4.055799961090088, -3.3292999267578125, -4.061999797821045, -6.181600093841553, -5.724599838256836, -6.192999839782715, -3.7458999156951904, -5.541800022125244, -5.160299777984619, -5.507599830627441, -4.321000099182129, -5.6768999099731445, -3.794800043106079, -4.63670015335083, -4.479400157928467, -5.267600059509277, -5.731299877166748, -5.8053998947143555, -5.1554999351501465, -4.873700141906738, -4.48829984664917, -3.938699960708618, -5.053699970245361, -4.854499816894531, -5.112599849700928, -5.362599849700928, -5.178199768066406, -4.974800109863281, -5.141499996185303, -5.192699909210205, -4.939000129699707, -5.321300029754639, -5.177000045776367, -5.415900230407715, -5.299799919128418, -5.359099864959717, -2.6333999633789062, -3.551300048828125, -3.5583999156951904, -3.6475000381469727, -3.9656999111175537, -4.027200222015381, -4.05210018157959, -4.0767998695373535, -4.1528000831604, -4.2480998039245605, -4.3643999099731445, -4.44320011138916, -4.5055999755859375, -4.656599998474121, -4.703499794006348, -4.750699996948242, -4.983500003814697, -5.190700054168701, -5.316299915313721, -5.333700180053711, -5.34060001373291, -5.344200134277344, -5.35129976272583, -5.361499786376953, -5.404600143432617, -5.414299964904785, -5.431099891662598, -5.484600067138672, -5.494900226593018, -5.586699962615967, -5.006800174713135, -3.8008999824523926, -5.262800216674805, -4.904799938201904, -4.439300060272217, -5.0991997718811035, -5.176700115203857, -5.298399925231934, -5.337699890136719, -5.390600204467773, -5.490799903869629, -5.718400001525879, -5.803800106048584, -5.9045000076293945, -6.014900207519531, -6.01669979095459, -6.056399822235107, -6.0991997718811035, -6.236000061035156, -6.3394999504089355, -6.356200218200684, -6.42140007019043, -6.422900199890137, -6.5046000480651855, -6.531400203704834, -6.622099876403809, -6.657199859619141, -6.712399959564209, -6.775599956512451, -6.7906999588012695, -6.8084001541137695, -6.818399906158447, -6.878799915313721, -6.908699989318848, -6.535799980163574, -4.177599906921387, -5.4390997886657715, -6.152299880981445, -4.88700008392334, -3.7235000133514404, -4.38700008392334, -4.156300067901611, -5.666500091552734, -4.298699855804443, -5.853400230407715, -5.7540998458862305, -4.365099906921387, -4.379199981689453, -4.762199878692627, -5.72160005569458, -3.9955999851226807, -5.536399841308594, -5.065700054168701, -4.900899887084961, -4.732600212097168, -4.803999900817871, -4.911200046539307, -4.747499942779541, -4.883600234985352, -5.026899814605713, -5.120200157165527, -5.210700035095215, -5.1057000160217285, -5.104100227355957, -5.33650016784668, -5.40369987487793, -3.9600000381469727, -4.394700050354004, -4.5970001220703125, -4.786099910736084, -5.271500110626221, -5.438499927520752, -5.53249979019165, -5.555099964141846, -5.481100082397461, -5.621300220489502, -5.69920015335083, -5.807400226593018, -6.129499912261963, -5.252099990844727, -6.330900192260742, -6.38129997253418, -6.5243000984191895, -6.529600143432617, -6.5777997970581055, -6.594200134277344, -6.622399806976318, -6.761199951171875, -6.821899890899658, -6.887499809265137, -6.90339994430542, -6.931000232696533, -6.933199882507324, -6.973299980163574, -7.029600143432617, -7.035699844360352, -5.043499946594238, -6.161099910736084, -4.330100059509277, -5.251500129699707, -5.692599773406982, -5.658299922943115, -4.62470006942749, -4.173900127410889, -5.81689977645874, -4.146599769592285, -6.196000099182129, -5.114799976348877, -5.9440999031066895, -3.8717000484466553, -5.387800216674805, -5.028600215911865, -5.568399906158447, -3.890000104904175, -4.268799781799316, -4.998199939727783, -5.092800140380859, -4.581099987030029, -5.130499839782715, -5.188499927520752, -5.2006001472473145, -4.967199802398682, -5.155099868774414, -5.207600116729736, -5.217599868774414, -5.193299770355225, -5.365099906921387, -5.34660005569458, -5.364799976348877, -4.238699913024902, -4.4593000411987305, -4.598599910736084, -5.133600234985352, -5.496300220489502, -5.57289981842041, -5.581399917602539, -5.585100173950195, -5.636000156402588, -5.670199871063232, -5.68720006942749, -5.667300224304199, -5.853000164031982, -5.915200233459473, -5.970900058746338, -5.997600078582764, -6.0040998458862305, -6.091300010681152, -6.1020002365112305, -6.17140007019043, -6.356500148773193, -6.37060022354126, -6.400000095367432, -6.405700206756592, -6.44290018081665, -6.4766998291015625, -6.577499866485596, -6.602700233459473, -6.6641998291015625, -6.690000057220459, -4.603400230407715, -5.791900157928467, -4.408999919891357, -4.362800121307373, -5.125400066375732, -5.490799903869629, -5.370100021362305, -5.325900077819824, -5.083099842071533, -5.718800067901611, -5.684199810028076, -4.694200038909912, -5.087299823760986, -3.989000082015991, -4.118899822235107, -5.440700054168701, -4.905900001525879, -4.86929988861084, -5.3531999588012695, -5.080100059509277, -5.018099784851074, -4.713399887084961, -5.034200191497803, -5.433700084686279, -4.882999897003174, -4.905099868774414, -5.145699977874756, -5.246300220489502, -5.213099956512451, -5.420599937438965, -3.362299919128418, -3.956199884414673, -4.153800010681152, -4.188600063323975, -3.560699939727783, -4.23199987411499, -4.379499912261963, -4.787300109863281, -4.871500015258789, -4.9440999031066895, -5.004899978637695, -5.4079999923706055, -5.433599948883057, -5.54040002822876, -5.670599937438965, -5.674099922180176, -5.6793999671936035, -5.7845001220703125, -5.7932000160217285, -5.814300060272217, -5.908299922943115, -5.913700103759766, -5.91379976272583, -5.942299842834473, -6.002999782562256, -6.049799919128418, -6.057700157165527, -6.081200122833252, -6.083600044250488, -6.084099769592285, -4.5914998054504395, -5.713200092315674, -3.630199909210205, -4.861800193786621, -4.292799949645996, -5.064799785614014, -4.712699890136719, -4.507400035858154, -5.40880012512207, -4.8597002029418945, -4.634200096130371, -4.399600028991699, -4.825399875640869, -4.537199974060059, -4.738999843597412, -5.407199859619141, -4.759200096130371, -4.495100021362305, -4.309500217437744, -5.087600231170654, -5.0883002281188965, -4.263700008392334, -4.701900005340576, -4.700699806213379, -4.84089994430542, -2.7251999378204346, -3.0587000846862793, -3.0987000465393066, -3.8164000511169434, -3.8931000232696533, -3.9049999713897705, -4.005899906158447, -4.339000225067139, -4.342400074005127, -4.504499912261963, -4.655200004577637, -4.666100025177002, -4.670199871063232, -4.852399826049805, -4.878900051116943, -4.880499839782715, -4.884699821472168, -4.991199970245361, -4.994900226593018, -5.021900177001953, -5.130899906158447, -5.210899829864502, -5.2195000648498535, -5.2204999923706055, -5.232600212097168, -5.24459981918335, -5.257299900054932, -5.269000053405762, -5.276000022888184, -5.293399810791016, -3.9363999366760254, -2.0789999961853027, -4.543399810791016, -4.991600036621094, -5.109499931335449, -5.187300205230713], \"loglift\": [30.0, 29.0, 28.0, 27.0, 26.0, 25.0, 24.0, 23.0, 22.0, 21.0, 20.0, 19.0, 18.0, 17.0, 16.0, 15.0, 14.0, 13.0, 12.0, 11.0, 10.0, 9.0, 8.0, 7.0, 6.0, 5.0, 4.0, 3.0, 2.0, 1.0, 1.5557, 1.5547, 1.5546, 1.5539, 1.5536, 1.5532, 1.5532, 1.553, 1.5527, 1.5514, 1.5511, 1.5511, 1.551, 1.5509, 1.5507, 1.5506, 1.5506, 1.5506, 1.55, 1.5497, 1.5494, 1.5494, 1.5492, 1.5488, 1.5488, 1.5487, 1.5486, 1.548, 1.5479, 1.5478, 1.5419, 1.5206, 1.5315, 1.5157, 1.5152, 1.4891, 1.5214, 1.4782, 1.5295, 1.4885, 1.4266, 1.4981, 1.3618, 1.4565, 1.5039, 1.4367, 1.3793, 1.2891, 1.373, 1.0836, 1.0277, 1.3518, 1.1101, 1.2688, 1.1836, 1.3151, 1.3453, 0.9836, 1.2321, 1.2323, 1.2752, 1.0309, 1.2049, 0.8172, 0.8782, 0.9192, 1.0673, 1.2043, 0.5793, 0.8405, 0.9638, 0.7118, 0.6823, 0.7529, 0.5821, 0.6704, 0.8822, 0.7636, 0.3135, 0.6332, 0.583, -0.3722, 0.4054, 0.3092, -0.3484, 1.8358, 1.8355, 1.8346, 1.8343, 1.8337, 1.8337, 1.8336, 1.8335, 1.8333, 1.8331, 1.833, 1.8329, 1.8328, 1.8328, 1.8326, 1.8326, 1.8322, 1.8316, 1.8316, 1.8315, 1.8315, 1.8315, 1.8313, 1.8312, 1.8312, 1.8312, 1.8312, 1.8308, 1.8307, 1.8306, 1.8152, 1.8295, 1.8215, 1.8088, 1.8015, 1.8055, 1.7898, 1.8173, 1.8048, 1.8156, 1.6756, 1.6287, 1.5734, 1.7664, 1.4618, 1.722, 1.7319, 1.49, 1.5561, 1.7247, 1.5907, 1.3818, 1.5358, 1.3441, 1.2338, 1.2577, 1.4542, 1.309, 0.6217, 1.3685, 1.1455, 0.87, 0.5334, 0.9585, 0.6856, 0.6819, 0.7022, 0.1748, 0.3691, 1.1169, 0.2363, 0.812, 0.3994, 0.4529, 0.7339, 0.6439, 0.7083, 0.2371, 1.9885, 1.9881, 1.9877, 1.9876, 1.9872, 1.987, 1.9865, 1.9864, 1.9861, 1.9858, 1.9857, 1.9857, 1.9857, 1.9853, 1.9852, 1.9847, 1.9846, 1.9846, 1.9846, 1.9843, 1.9842, 1.9841, 1.9839, 1.9838, 1.9838, 1.9837, 1.9835, 1.9835, 1.9835, 1.9834, 1.9741, 1.9833, 1.9787, 1.971, 1.9392, 1.9638, 1.8504, 1.8589, 1.8892, 1.8003, 1.816, 1.9275, 1.8705, 1.8003, 1.9112, 1.7256, 1.4599, 1.6158, 1.4222, 1.7222, 1.399, 1.4407, 1.0228, 1.5072, 0.9681, 0.6466, 1.0778, 0.9214, 1.5358, 1.3096, 0.5462, 1.4008, 1.12, 0.4099, 1.4445, 0.5119, 0.8601, 1.0915, 1.35, 1.0302, 0.5572, 0.6058, 0.7327, 0.4826, 0.4264, 0.3398, 0.1916, 0.1807, -0.1824, 2.0959, 2.0954, 2.0954, 2.0946, 2.0935, 2.0929, 2.0928, 2.0927, 2.0926, 2.0922, 2.0919, 2.0919, 2.0915, 2.0909, 2.09, 2.0899, 2.0888, 2.0886, 2.0879, 2.0878, 2.0868, 2.0864, 2.0863, 2.0862, 2.0856, 2.085, 2.0848, 2.0844, 2.0843, 2.0843, 2.084, 2.0117, 2.049, 2.0109, 2.053, 1.979, 1.9977, 1.9899, 1.9746, 1.9975, 1.7213, 1.9886, 1.6827, 1.5577, 1.5649, 1.8998, 1.7973, 1.8984, 1.2259, 1.7166, 1.5805, 1.6785, 1.2596, 1.718, 0.9897, 1.2382, 1.1571, 1.5001, 1.7124, 1.7444, 1.425, 1.2726, 1.0626, 0.694, 1.2211, 0.9287, 1.1383, 1.3709, 1.0453, 0.7638, 0.9708, 1.0098, 0.49, 1.1193, 0.644, 1.3162, 0.3271, -0.0449, 2.3461, 2.3459, 2.3459, 2.3459, 2.3458, 2.3458, 2.3458, 2.3458, 2.3457, 2.3457, 2.3456, 2.3456, 2.3456, 2.3455, 2.3454, 2.3454, 2.3452, 2.345, 2.3448, 2.3448, 2.3448, 2.3448, 2.3448, 2.3448, 2.3447, 2.3447, 2.3446, 2.3446, 2.3445, 2.3444, 2.2644, 2.0228, 1.7882, 0.4522, 2.4062, 2.4056, 2.4055, 2.4053, 2.4052, 2.4051, 2.405, 2.4045, 2.4043, 2.404, 2.4036, 2.4036, 2.4035, 2.4034, 2.4028, 2.4024, 2.4023, 2.402, 2.402, 2.4016, 2.4015, 2.401, 2.4007, 2.4004, 2.4, 2.3999, 2.3997, 2.3997, 2.3992, 2.399, 2.3943, 2.2826, 2.3272, 2.3518, 2.1406, 1.9428, 2.0419, 1.9849, 2.2304, 1.9312, 2.2504, 2.2083, 1.7176, 1.6185, 1.6784, 2.0893, 1.0488, 1.842, 1.416, 1.0674, 0.7163, 0.625, 0.7158, 0.3087, 0.551, 0.6692, 0.763, 0.6053, 0.2085, -0.3196, 0.2779, 0.1473, 2.4998, 2.4996, 2.4994, 2.4993, 2.4986, 2.4983, 2.4981, 2.4981, 2.498, 2.4979, 2.4977, 2.4974, 2.4964, 2.496, 2.4955, 2.4953, 2.4945, 2.4944, 2.4942, 2.4941, 2.4939, 2.4929, 2.4925, 2.4919, 2.4918, 2.4916, 2.4916, 2.4912, 2.4907, 2.4906, 2.4893, 2.4857, 2.4619, 2.4734, 2.4749, 2.4727, 2.4378, 2.4092, 2.4599, 2.3472, 2.4702, 2.3516, 2.4276, 2.0967, 2.2469, 2.094, 2.2395, 1.5589, 1.5814, 1.6376, 1.6762, 0.8479, 1.4694, 1.267, 0.9678, 0.089, 0.5604, 0.5772, 0.6034, -0.1488, 0.8858, 0.2677, 0.2717, 2.74, 2.7398, 2.7397, 2.7389, 2.738, 2.7378, 2.7378, 2.7378, 2.7376, 2.7375, 2.7375, 2.7372, 2.7368, 2.7366, 2.7364, 2.7363, 2.7362, 2.7358, 2.7358, 2.7354, 2.7343, 2.7343, 2.7341, 2.734, 2.7338, 2.7332, 2.7328, 2.7326, 2.732, 2.7318, 2.7145, 2.7025, 2.634, 2.6314, 2.6461, 2.6679, 2.6443, 2.6219, 2.5415, 2.6294, 2.6113, 2.2861, 2.3268, 1.8722, 1.7314, 2.4322, 2.0668, 2.0282, 2.3431, 2.0342, 1.9669, 1.2809, 1.7066, 2.325, 1.3319, 0.5438, 1.2832, 0.8538, 0.5254, 0.7818, 3.4608, 3.4603, 3.46, 3.46, 3.4599, 3.4599, 3.4595, 3.4588, 3.4585, 3.4583, 3.4581, 3.4565, 3.4564, 3.4558, 3.455, 3.455, 3.4549, 3.4542, 3.4542, 3.454, 3.4533, 3.4532, 3.4532, 3.453, 3.4525, 3.452, 3.452, 3.4517, 3.4517, 3.4517, 3.4403, 3.4255, 3.2315, 3.3418, 3.2454, 3.3279, 3.2649, 3.2203, 3.3672, 3.2249, 3.1417, 2.9327, 3.0809, 2.9266, 3.008, 3.297, 2.8688, 2.6661, 2.4594, 3.0338, 3.033, 1.202, 1.5521, 0.9657, 1.2418, 5.0299, 5.0293, 5.0292, 5.0267, 5.0263, 5.0263, 5.0257, 5.0234, 5.0234, 5.022, 5.0204, 5.0203, 5.0202, 5.018, 5.0176, 5.0176, 5.0176, 5.016, 5.0159, 5.0155, 5.0137, 5.0122, 5.012, 5.012, 5.0118, 5.0116, 5.0113, 5.0111, 5.0109, 5.0106, 4.5339, 3.7447, 4.232, 4.3717, 4.4822, 3.9576]}, \"token.table\": {\"Topic\": [1, 10, 8, 1, 4, 7, 2, 6, 1, 2, 3, 4, 6, 7, 8, 10, 4, 5, 8, 8, 10, 1, 2, 4, 6, 7, 9, 1, 2, 3, 4, 6, 7, 8, 9, 6, 1, 2, 3, 4, 6, 7, 8, 9, 2, 3, 4, 6, 7, 2, 3, 5, 7, 2, 3, 4, 5, 7, 1, 7, 1, 7, 8, 1, 7, 1, 2, 3, 4, 5, 6, 7, 8, 1, 2, 3, 4, 6, 7, 8, 9, 10, 2, 3, 6, 1, 5, 7, 2, 5, 7, 1, 2, 3, 5, 7, 8, 9, 3, 1, 2, 10, 4, 1, 3, 4, 5, 6, 8, 10, 9, 10, 1, 2, 3, 6, 7, 8, 5, 1, 1, 2, 3, 4, 6, 7, 8, 9, 1, 2, 3, 4, 6, 7, 8, 9, 1, 4, 6, 1, 2, 3, 4, 6, 8, 1, 6, 7, 10, 1, 5, 2, 6, 3, 3, 6, 7, 5, 5, 5, 5, 1, 2, 3, 4, 7, 8, 2, 3, 4, 6, 10, 2, 1, 2, 6, 7, 4, 8, 8, 1, 2, 4, 5, 6, 7, 1, 2, 6, 7, 1, 6, 1, 8, 8, 1, 2, 3, 6, 7, 8, 10, 3, 1, 6, 2, 3, 5, 6, 7, 8, 9, 4, 3, 1, 2, 3, 7, 8, 9, 10, 1, 2, 3, 4, 6, 7, 8, 1, 2, 3, 4, 6, 7, 8, 5, 1, 4, 4, 5, 6, 8, 3, 4, 5, 10, 7, 1, 2, 3, 4, 7, 2, 3, 4, 5, 6, 7, 2, 9, 2, 6, 4, 8, 2, 5, 1, 2, 3, 4, 6, 7, 8, 2, 3, 1, 2, 6, 7, 8, 1, 2, 8, 5, 1, 1, 6, 1, 4, 9, 7, 9, 3, 6, 5, 1, 2, 3, 4, 6, 7, 8, 2, 6, 7, 1, 2, 6, 7, 8, 2, 3, 6, 10, 2, 4, 4, 5, 6, 8, 2, 3, 2, 3, 1, 2, 3, 4, 6, 7, 8, 7, 2, 3, 7, 5, 1, 2, 3, 4, 7, 8, 2, 3, 4, 7, 8, 4, 5, 2, 10, 4, 1, 4, 6, 6, 6, 6, 5, 6, 2, 3, 1, 2, 3, 6, 7, 8, 7, 7, 2, 5, 5, 5, 10, 2, 1, 2, 3, 4, 7, 7, 6, 7, 8, 1, 2, 6, 8, 1, 2, 3, 4, 7, 1, 2, 3, 4, 6, 7, 8, 1, 2, 3, 4, 6, 7, 8, 1, 8, 1, 2, 3, 5, 7, 5, 9, 7, 7, 1, 2, 3, 4, 6, 7, 9, 6, 1, 2, 3, 4, 6, 7, 8, 9, 1, 2, 5, 3, 8, 9, 1, 10, 6, 9, 1, 4, 7, 1, 3, 4, 7, 8, 1, 2, 3, 10, 1, 3, 9, 9, 1, 2, 3, 5, 9, 6, 8, 6, 8, 2, 8, 8, 3, 8, 7, 1, 2, 3, 4, 6, 7, 8, 1, 2, 3, 4, 6, 7, 8, 5, 10, 7, 6, 9, 9, 9, 10, 3, 1, 7, 9, 3, 1, 2, 3, 4, 5, 6, 7, 8, 1, 3, 4, 6, 7, 9, 4, 6, 5, 6, 8, 3, 5, 1, 3, 10, 2, 3, 1, 1, 2, 3, 6, 7, 10, 7, 8, 8, 1, 2, 3, 4, 6, 7, 8, 5, 1, 4, 4, 6, 2, 9, 2, 4, 6, 1, 2, 3, 4, 6, 7, 8, 9, 1, 2, 3, 4, 9, 1, 2, 3, 4, 5, 6, 7, 8, 9, 4, 6, 5, 1, 4, 6, 7, 8, 1, 3, 4, 6, 7, 8, 9, 3, 5, 6, 9, 1, 2, 5, 6, 7, 9, 2, 2, 6, 3, 2, 3, 4, 6, 7, 8, 2, 3, 7, 7, 8, 4, 7, 8, 2, 8, 9, 1, 3, 5, 10, 3, 4, 10, 1, 2, 3, 4, 6, 7, 2, 1, 2, 4, 6, 7, 5, 8, 8, 1, 3, 8, 7, 8, 2, 3, 1, 2, 4, 6, 7, 9, 1, 2, 3, 4, 6, 7, 8, 1, 2, 1, 2, 9, 5, 6, 1, 2, 4, 6, 7, 8, 1, 4, 6, 8, 8, 2, 3, 9, 2, 3, 9, 2, 1, 3, 6, 8, 7, 1, 3, 4, 7, 2, 6, 1, 2, 3, 4, 6, 7, 8, 9, 5, 7, 1, 1, 2, 3, 4, 6, 7, 8, 9, 1, 2, 6, 7, 8, 3, 6, 1, 2, 3, 4, 6, 7, 8, 9, 4, 1, 7, 6, 7, 1, 2, 5, 10, 3, 8, 3, 1, 2, 3, 4, 6, 7, 8, 9, 2, 3, 4, 6, 8, 3, 7, 4, 10, 10, 2, 1, 9, 1, 2, 3, 7, 1, 2, 3, 7, 1, 2, 3, 4, 6, 7, 8, 9, 1, 5, 9, 9, 9, 9, 9, 1, 7, 3, 9, 9, 2, 3, 6, 8, 10, 10, 1, 2, 3, 4, 5, 6, 7, 8, 9, 4, 6, 1, 2, 3, 4, 2, 3, 8, 4, 9, 6, 3, 4, 2, 2, 2, 5, 9, 6, 5, 5, 7, 10, 1, 1, 2, 3, 4, 6, 7, 8, 9, 1, 4, 1, 4, 4, 3, 4, 1, 2, 3, 4, 6, 7, 8, 1, 2, 3, 4, 6, 7, 8, 9, 1, 3, 3, 2, 3, 2, 4, 7, 1, 4, 5, 6, 7, 8, 1, 2, 4, 6, 7, 8, 1, 2, 3, 4, 6, 7, 8, 1, 3, 10, 1, 5, 1, 5, 7, 8, 5, 1, 1, 4, 2, 8, 2, 7, 8, 1, 2, 3, 4, 6, 7, 8, 1, 2, 3, 4, 6, 7, 8, 2, 8, 8, 10, 2, 9, 4, 5, 7, 5, 7, 4, 9, 1, 2, 4, 6, 7, 8, 9, 1, 4, 6, 7, 10, 1, 2, 3, 4, 6, 7, 8, 2, 3, 4, 8, 7, 2, 3, 7, 2, 3, 4, 7, 1, 8, 1, 4, 8, 1, 2, 3, 4, 6, 7, 8, 9, 3, 4, 1, 1, 7, 3, 2, 3, 2, 4, 4, 6, 6, 4, 1, 5, 6, 1, 2, 5, 6, 1, 2, 1, 3, 4, 7, 9, 1, 2, 4, 6, 7, 4, 6, 7, 2, 6, 7, 1, 1, 2, 3, 4, 6, 7, 9, 1, 2, 3, 4, 6, 7, 9, 6, 1, 6, 9, 1, 3, 5, 8, 1, 2, 3, 4, 6, 7, 8, 9, 1, 3, 6, 7, 8, 1, 2, 3, 4, 6, 7, 8, 9, 5, 10, 5, 1, 2, 4, 6, 2, 4, 10, 6, 9, 8, 9, 8, 9, 3, 5, 1, 1, 4, 6, 7, 2, 4, 8, 2, 4, 2, 6, 10, 2, 3, 6, 1, 2, 3, 4, 4, 4, 10, 8, 6, 7, 10, 3, 1, 2, 3, 4, 5, 6, 7, 9, 3, 4, 5, 7, 9, 3, 1, 1, 5, 9, 1, 7, 4, 3, 1, 7, 1, 4, 7, 7, 1, 4, 1, 4, 7, 8, 1, 2, 3, 5, 6, 7, 8, 5, 3, 2, 6, 7, 9, 2, 7, 9, 5, 1, 2, 3, 6, 7, 8, 1, 2, 3, 4, 6, 7, 8, 2, 2, 4, 9, 7, 1, 2, 3, 4, 6, 7, 8, 1, 2, 3, 4, 6, 7, 8, 1, 3, 2, 3, 5, 2, 3, 9, 6, 7, 1, 2, 3, 4, 6, 7, 8, 9, 1, 2, 3, 4, 6, 7, 9, 2, 4, 6, 9, 2, 3, 1, 3, 2, 3, 4, 8, 1, 2, 4, 6, 1, 2, 3, 4, 2, 1, 2, 3, 4, 2, 8, 1, 3, 3, 9, 4, 9, 7, 2, 6, 6, 6, 1, 2, 3, 4, 6, 7, 8, 9, 1, 2, 3, 4, 5, 6, 7, 8, 3, 5, 6, 1, 3, 4, 6, 7, 8, 5, 7, 2, 3, 9, 4, 4, 6, 7, 7, 2, 6, 7, 9, 1, 2, 3, 4, 6, 7, 8, 9, 1, 2, 3, 4, 6, 7, 8, 9, 3, 6, 8, 3, 8, 1, 2, 3, 4, 6, 7, 8, 9, 4, 6, 6, 2, 3, 8, 1, 2, 9, 2, 3, 5, 7, 8, 1, 1, 2, 4, 6, 9, 1, 2, 4, 6, 7, 9, 1, 2, 3, 4, 6, 7, 8, 9, 6, 7], \"Freq\": [0.9948112579673514, 0.9854315150289672, 0.9926398693114109, 0.7549884895232943, 0.22055843514163656, 0.023135500189682155, 0.9782331587224341, 0.017012750586477117, 0.08763441314096707, 0.08328376851694742, 0.06401662803914615, 0.5506673052687717, 0.11808892550910455, 0.07333943794775967, 0.022374743780672442, 0.9852534438639792, 0.9989983345032536, 0.03494333257297769, 0.9609416457568863, 0.997471410550828, 0.9983765019586912, 0.21424602177988233, 0.03497894233140936, 0.018582563113561223, 0.05246841349711404, 0.09072663167209302, 0.5891765598946764, 0.26199189745521423, 0.25053515606484594, 0.1919544595216421, 0.08279116891530285, 0.08365582864287781, 0.09511257003324608, 0.030695420328911236, 0.0032424739784061166, 0.9935915892793252, 0.02993052917784439, 0.2662090335529429, 0.17094936857345738, 0.004604696796591444, 0.45471380866340516, 0.04863710991399713, 0.004604696796591444, 0.02014554848508757, 0.7069997909151915, 0.022728447450761968, 0.023695615427390137, 0.005803007859769014, 0.24082482618041406, 0.5471867433010524, 0.1607766413567035, 0.0761214246763161, 0.21607561354308558, 0.6258785617334697, 0.04111610989489947, 0.03654765323991064, 0.07081107815232687, 0.22537719497944894, 0.9249182185148869, 0.07390650864748802, 0.8153923139902005, 0.1480783211727487, 0.03557725898306299, 0.9345922656985969, 0.062306151046573124, 0.002299113375049978, 0.07740348362668259, 0.5770774571375444, 0.16400342075356508, 0.049047752001066196, 0.026056618250566415, 0.06897340125149934, 0.03525307175076633, 0.4889681741783951, 0.10091886417796438, 0.036895068624202026, 0.15257196025184722, 0.07053469001685682, 0.14367373781895143, 0.004557626124166133, 0.0015192087080553778, 0.9897847841040823, 0.9954391006324053, 0.0029893066085057217, 0.0009964355361685739, 0.9610090860352289, 0.03712989650590657, 0.9977226077281431, 0.9949801211716038, 0.022679560182921877, 0.9752210878656408, 0.06517878977291945, 0.17408512205172155, 0.05032792628035552, 0.5725832924355202, 0.037952206703218916, 0.0957055647298564, 0.0041252398590455345, 0.9970258384918855, 0.027015199399571563, 0.9725471783845764, 0.9888061648157022, 0.9958203812662986, 0.7039963392385052, 0.03153998814847065, 0.028564517568426248, 0.008926411740133202, 0.0601045057168969, 0.16662635248248645, 0.9926172780547208, 0.998852883610864, 0.9905537492595704, 0.22274847378241497, 0.5604256813780972, 0.16706135533681124, 0.014217987688239253, 0.027251143069125235, 0.008293826151472897, 0.9986348579676625, 0.9976788183673496, 0.05775947237762385, 0.4154376957347106, 0.3228790381357855, 0.15534069279199456, 0.0017937724340876971, 0.03946299354992933, 0.0071750897363507884, 0.9942095429098874, 0.3973911442421407, 0.2019947487336859, 0.06321648089979422, 0.04618847257661732, 0.17602703604084113, 0.09237694515323464, 0.014899507282779782, 0.007875453849469314, 0.837914229590556, 0.10037126973799916, 0.060966252729747636, 0.7505904051459512, 0.09665790590909705, 0.03878249311167474, 0.005369883661616503, 0.10799432697250967, 0.9984815970657276, 0.07591944920740971, 0.922843082587847, 0.9975235643497612, 0.9736622671544105, 0.9859976277053578, 0.01346582496107469, 0.9937003906043296, 0.99432597233432, 0.9954406766810023, 0.9946661916071579, 0.9968040929043789, 0.9964644819484204, 0.9983037315956107, 0.9980001810142038, 0.9986643418792306, 0.9989204314325711, 0.01625715096415776, 0.0060964316115591595, 0.616755664702735, 0.05690002837455216, 0.07315717933870991, 0.2306483293039882, 0.021281004444855846, 0.11822780247142137, 0.0023645560494284274, 0.8559692898930906, 0.9870140260309417, 0.9954994036775932, 0.30756749601438027, 0.6815900188684327, 0.0034079500943421637, 0.0068159001886843274, 0.9863078837877829, 0.9945091803606977, 0.9955970437689682, 0.02504529471163162, 0.0014519011427032824, 0.271142538399838, 0.038838355567312806, 0.6214136890770049, 0.042105133138395194, 0.12931397911797218, 0.043104659705990735, 0.8189885344138239, 0.0061578085294272476, 0.9981873568672571, 0.9969047501693632, 0.9936551037632759, 0.9979015927928793, 0.9980493740820232, 0.0012883672954841561, 0.03220918238710391, 0.7665785408130729, 0.014172040250325717, 0.014172040250325717, 0.1700644830039086, 0.9941606643381826, 0.9955346827034646, 0.9651006110772951, 0.03271527495177271, 0.019346411134310706, 0.017587646485737008, 0.059797998051505825, 0.09145576172583243, 0.7703389160752809, 0.040451586917195116, 0.9976189849555464, 0.9836984271357635, 0.9913970742343047, 0.12513936141769608, 0.004813052362219079, 0.04813052362219079, 0.1636437803154487, 0.0024065261811095397, 0.6521685950806853, 0.9793643427231604, 0.035094841807961574, 0.02975432240240221, 0.2525302747485931, 0.02975432240240221, 0.13503884782628695, 0.008392244780164725, 0.5096381375590943, 0.2180475999224893, 0.03781981925850457, 0.03128306037431859, 0.13633811387016462, 0.37119452235198924, 0.11486019182212498, 0.09011389033199237, 0.9994124019912932, 0.17570384583165802, 0.8207219114505079, 0.09103744977120388, 0.014161381075520604, 0.006069163318080259, 0.888120898879078, 0.0793981705338546, 0.8196693487465578, 0.07239244960439685, 0.025687643408011787, 0.998420399895518, 0.02478339769564028, 0.8510366734130036, 0.036124952573306175, 0.06678915650181025, 0.021002879403084984, 0.76820206922594, 0.01546715575622698, 0.0009098326915427636, 0.15042567166840357, 0.00030327756384758783, 0.06459812109953621, 0.9951645164085885, 0.9939431003608121, 0.005402159097490163, 0.9885951148406998, 0.9921749503367715, 0.9954888064218268, 0.9914932292824731, 0.9997253625036187, 0.1489602965213193, 0.1897077460545057, 0.23581941679206092, 0.41851241204085354, 0.0025789525021004036, 0.00268211060218442, 0.0017536877014282745, 0.8920997238944617, 0.10807778995846662, 0.37784672890291604, 0.001004243797748614, 0.08987981989850095, 0.11122000060065901, 0.4195228465094835, 0.7657463583899377, 0.0017207783334605342, 0.2323050750171721, 0.9999371572875891, 0.9972592550755215, 0.9967642828238774, 0.9969936533323367, 0.11045471175481295, 0.0666896372859248, 0.8211161590829491, 0.0008003543964488707, 0.9988422867681905, 0.995712928664367, 0.9953559362295058, 0.9997525295410585, 0.1256301518165087, 0.08224707780793016, 0.5269235863958602, 0.14461024669526182, 0.02711442125536159, 0.06778605313840397, 0.0262106072135162, 0.019226175688240196, 0.8382612600072726, 0.14227370009297746, 0.003986000880227007, 0.003986000880227007, 0.694007042146191, 0.06466179205701589, 0.23295960699993393, 0.3117896041192519, 0.6873543545356234, 0.4749053379725123, 0.5165637009525572, 0.9978398354182714, 0.9919711915610808, 0.5965797758169206, 0.046588887158116515, 0.0006050504825729418, 0.35576968375288975, 0.9321721576333964, 0.06639402832146699, 0.968286753085052, 0.028850257075159837, 0.20537269854440085, 0.3162024526911858, 0.07527684018213532, 0.17041564347301347, 0.18431901764913344, 0.030190183925289098, 0.018074386428955973, 0.989196085294806, 0.016204090966382773, 0.9803475034661577, 0.9992030488977633, 0.9993298973972544, 0.04226173885071827, 0.04277712590987337, 0.22986262838317498, 0.5107485756227049, 0.17317005187611387, 0.0010307741183102016, 0.010152578334310715, 0.22640249685512895, 0.6832685218991111, 0.07817485317419251, 0.0010152578334310714, 0.9987747889082152, 0.9996210875362285, 0.9966489278042582, 0.9798564867385203, 0.9994701697028976, 0.007769609500189092, 0.10877453300264729, 0.8829932679038427, 0.9992069922025804, 0.9953720385107585, 0.997586588197973, 0.9994820580606718, 0.9984060424476289, 0.991916274766752, 0.9966634166475651, 0.14830344216509594, 0.8120449756145197, 0.022022503629779283, 0.015610888648957467, 0.0019513610811196834, 0.9938301257134533, 0.9995416900197254, 0.9995873015475885, 0.9972160130224833, 0.9992261626914966, 0.9994711296096811, 0.7237389613768367, 0.2761476424631966, 0.9957195343629714, 0.45282502511230527, 0.3213433193902346, 0.22133599882170976, 0.0015229541203328652, 0.0027920825539435863, 0.9989993979093154, 0.012500049352560688, 0.8612534003914314, 0.12500049352560688, 0.09911192529493026, 0.08652628398763752, 0.14001525954363164, 0.6717586047767495, 0.05120090625449496, 0.17222123012875576, 0.06981941761976586, 0.6842302926737054, 0.022109482246259186, 0.19387315771902444, 0.061905960495367264, 0.12863094785564336, 0.3832979829473638, 0.004448332490685073, 0.19906287895815702, 0.028543466815229217, 0.5098951131354958, 0.024203881952634294, 0.0012908737041404958, 0.32433201816529955, 0.07357980113600826, 0.06260737465081403, 0.004195339538456611, 0.9961311976147394, 0.9971615163301392, 0.019378126510982283, 0.014651754191230507, 0.026467684990609947, 0.08082096666775537, 0.8583092132669226, 0.9985367649083301, 0.9899788693423274, 0.9965718844348626, 0.9935270836048066, 0.14316682733025474, 0.1325372717048066, 0.027902583516801388, 0.008968687558971875, 0.6557107126448326, 0.03089214603645868, 0.0006643472265905093, 0.9944764720207511, 0.3340465420399522, 0.33176524858211837, 0.08571145420147067, 0.04888485981072471, 0.054099244857202015, 0.10298410466792673, 0.04106328224100876, 0.0013035962616193258, 0.9918234481920913, 0.9967112117436263, 0.001703779849134404, 0.03368492878985645, 0.31278862447723843, 0.6520439787179355, 0.9947027689037065, 0.9905827045704793, 0.9988312952765137, 0.9866997547460403, 0.11250072577498782, 0.8839342739463328, 0.9973579090571016, 0.613425038975127, 0.07770835426556312, 0.20486747942739367, 0.04945077089626744, 0.05416036812448338, 0.03326324076410494, 0.9535462352376748, 0.012196521613505143, 0.9822054323040262, 0.9920548506875954, 0.019800472766708217, 0.9790233756872396, 0.9926799179521517, 0.007762724558189055, 0.2542292292806915, 0.03105089823275622, 0.023288173674567165, 0.6831197611206369, 0.10289589412444171, 0.896441501841727, 0.09081456358875638, 0.9081456358875637, 0.9950117183460857, 0.9955573939337501, 0.9964135161912755, 0.10265300734175403, 0.8936850050929175, 0.9917058027624713, 0.23936903838085288, 0.03939406768332028, 0.08846972827186335, 0.4383424649847418, 0.05975879758740958, 0.05975879758740958, 0.07478195899206562, 0.4126370036760215, 0.1626948324719149, 0.13659214506433295, 0.03039354013211597, 0.012514987113224223, 0.0007151421207556699, 0.2445786052984391, 0.4082842817700121, 0.5757855255730939, 0.9956963089418077, 0.9929591017487202, 0.9950958236681106, 0.9952470529801158, 0.9897015944289191, 0.9938931658315394, 0.9903690581508214, 0.7855505032655558, 0.20737869674381093, 0.005806603508826706, 0.9943818147764693, 0.10057678065344888, 0.03308227991741542, 0.11387618966547519, 0.037238345233673635, 0.029424942439108186, 0.18436305742921458, 0.39017141189032156, 0.11121630786306994, 0.7231997823998981, 0.052733317466659234, 0.02573888114444082, 0.05963887094443604, 0.008161108655554406, 0.1305777384888705, 0.9969359297538865, 0.9916391927731086, 0.07732945328087465, 0.040096753553046115, 0.879264524341797, 0.9036910254705595, 0.0955827046170784, 0.99242065946575, 0.9904237902738883, 0.9817039231583132, 0.9921769943990396, 0.0039062086393662977, 0.9905481845716063, 0.025509856035906994, 0.8928449612567447, 0.023190778214460903, 0.00463815564289218, 0.053338789893260075, 0.9861766342705776, 0.996977899136858, 0.9942699939211572, 0.9901488062880468, 0.04146963500019823, 0.0029798540119902917, 0.003724817514987865, 0.18797912392305424, 0.0002483211676658577, 0.39905211643903327, 0.36453547413347903, 0.9997282406038406, 0.001616255939659598, 0.997229914769972, 0.9182081104443302, 0.08036458322324677, 0.21265154689621463, 0.7856744175402128, 0.15856773406911465, 0.741304156773111, 0.09910483379319666, 0.14543836888322892, 0.2966090231494249, 0.26074549408675907, 0.2459003447616392, 0.021385833928761807, 0.00022047251472950315, 0.023664049914300003, 0.006099739574182921, 0.03448458211131297, 0.6871560111886629, 0.0485150738526805, 0.12526017325726918, 0.10446799874897753, 0.10289122263976166, 0.2532414963126237, 0.17351029057701506, 0.41650063186648906, 0.008732465390090472, 0.00037967240826480316, 0.039865602867804335, 0.004176396490912835, 0.0011390172247944094, 0.8990900464901341, 0.09962889704350135, 0.9995951975434262, 0.1945447523540667, 0.658241225197983, 0.1284373122337528, 0.0028331760051563113, 0.015110272027500328, 0.18239256813887728, 0.008144439000325894, 0.6869191314748551, 0.08615959152976341, 0.0047152015265044655, 0.03193477397496206, 0.9976858716186232, 0.9954791641584184, 0.9997427662840502, 0.9985763987429987, 0.9955802186970146, 0.0005348241829829031, 0.634301481017723, 0.014440252940538382, 0.19735012352069123, 0.05615653921320482, 0.09680317711990545, 0.9988261626329307, 0.9670913433288923, 0.030411677463172717, 0.98913561063401, 0.5006666226452677, 0.20651545622049858, 0.0034292234427758064, 0.20765853070142384, 0.07582394056804283, 0.005715372404626344, 0.005621572038134194, 0.03372943222880516, 0.961288818520947, 0.9934252947777259, 0.9965340029073487, 0.995794566499629, 0.9303706951949284, 0.06800051592786853, 0.9968558394794365, 0.3624291217849216, 0.6354921587461638, 0.5913838129006452, 0.40113590950923883, 0.006880034242142053, 0.9954135007643392, 0.9860158896605692, 0.0053011606970998345, 0.9766154424157428, 0.02452682103795448, 0.7400701652321917, 0.007464684663725277, 0.0021327670467786507, 0.0063983011403359515, 0.219675005818201, 0.992132838292511, 0.002289558175553278, 0.011447790877766392, 0.0263299190188627, 0.5689552066249897, 0.39036966893183395, 0.024782693130814087, 0.9740675908806928, 0.993703001865402, 0.9054278374902819, 0.09290476941204631, 0.9907765087101349, 0.9718105660142536, 0.02429526415035634, 0.024678729881255558, 0.9723419573214689, 0.4479183861369731, 0.08336065351123553, 0.31091898343048574, 0.07709118931958273, 0.07894880833933171, 0.0016254166422803586, 0.3339318573734533, 0.05904892599896431, 0.020616219853086676, 0.4237778525356706, 0.09111860132598804, 0.06006701092998094, 0.011707976706691199, 0.9596657370471495, 0.03790779418689364, 0.9353669833630199, 0.06412898025015808, 0.9950471356634643, 0.9978794281608818, 0.9969477114807656, 0.5896298649560788, 0.0001710807674324906, 0.3304425022958556, 0.06543839354292766, 0.004961342255542228, 0.009238361441354493, 0.3765411823338219, 0.5832455162553083, 0.038857761076483005, 0.0012320753512055588, 0.9923010723755772, 0.1866749273620024, 0.006714925444676344, 0.8057910533611614, 0.07872422464151697, 0.009261673487237292, 0.9122748384928732, 0.9934617750065284, 0.17298279870880096, 0.8267560232405928, 0.17863813206632653, 0.8199783111241218, 0.9864308150096811, 0.02837869076587176, 0.001669334750933633, 0.030048025516805393, 0.9398354647756353, 0.9813311246435482, 0.015930700075382276, 0.043440497122936884, 0.02225001072150426, 0.2843056925525544, 0.337281908556136, 0.049444468270009465, 0.12078577248816597, 0.14091673456952697, 0.0014126990934288418, 0.009350814253038837, 0.9885146496069628, 0.9996494730163341, 0.18593264360334266, 0.14373003318753855, 0.20908378988858378, 0.23392304059045704, 0.011575573142620555, 0.15000013530645803, 0.06535375670104522, 0.0002411577738045949, 0.12299751442813917, 0.023830768420451964, 0.11684763870673222, 0.10147294940321482, 0.6349746682352685, 0.9973146124319392, 0.9980450851223049, 0.0061311415762666625, 0.02452456630506665, 0.5662289573375683, 0.3494750698471998, 0.036786849457599975, 0.004688520028909801, 0.010098350831498033, 0.0018032769341960772, 0.9943058970269112, 0.9989176036069365, 0.9961264456676496, 0.012207604449923462, 0.9847467589604926, 0.9427222718896955, 0.053361638031492194, 0.9995847771311738, 0.9833899087919047, 0.9918541045357928, 0.9971939556028097, 0.9903154381928932, 0.26076572492126404, 0.3233223003912935, 0.13361268565066073, 0.07241603573432756, 0.10777410013043116, 0.07377596128802386, 0.027878473850773994, 0.00033998138842407307, 0.023725813372283532, 0.302504120496615, 0.010676616017527589, 0.0011862906686141766, 0.6607639024180963, 0.024894658740615732, 0.9708916908840135, 0.6495987327108799, 0.3415416017345863, 0.9978846407502812, 0.995441752195337, 0.9938903623496664, 0.998044160669517, 0.948519857427182, 0.002883039080325781, 0.0461286252852125, 0.9904399880063494, 0.7036546818208738, 0.17445447871872355, 0.003242648303321999, 0.11868092790158516, 0.288692387357737, 0.27151900661678297, 0.20574383593574339, 0.015489715962429125, 0.1226830401951814, 0.08968321053609327, 0.004826505698438061, 0.001346931822819924, 0.07815489642677381, 0.9214050947156491, 0.9964525599728866, 0.99886271206142, 0.9961355390838881, 0.9894821198158928, 0.9991792061348481, 0.990035023197544, 0.9917842438449668, 0.9933900684403744, 0.9871227537435306, 0.9966628020046516, 0.0719939278699565, 0.21263322882522034, 0.0552511539467108, 0.6596652925758805, 0.9905895941218201, 0.9808949573632693, 0.5076457325068457, 0.01422242433246673, 0.00037926464886577945, 0.43293059668028727, 0.007964557626181368, 0.030910068882561027, 0.004361543461956463, 0.0005688969732986691, 0.0009481616221644486, 0.9900767303383341, 0.9944102550410071, 0.9911839171376056, 0.9948314702908064, 0.764513232521145, 0.23321160533328505, 0.010864738481785275, 0.8854761862655, 0.1004988309565138, 0.9521373045466024, 0.04498286478172925, 0.9971629997990378, 0.9913434217503788, 0.9940835685252093, 0.9961308670372829, 0.9946526119270552, 0.18555445287808436, 0.023194306609760545, 0.7886064247318586, 0.9961289556210972, 0.9997627624183971, 0.9993421947739387, 0.9906167153903018, 0.9976530659456103, 0.9943240333037884, 0.12885829297938595, 0.31493525035034037, 0.23841110163153537, 0.013025387015966809, 0.08582799658735273, 0.14607041153619924, 0.0367501990807635, 0.03581981429390873, 0.11045860707106782, 0.8880872008513853, 0.01100890788240656, 0.9880494824459888, 0.9845578738862639, 0.9967087086648087, 0.9967327307228482, 0.10328607754849767, 0.25793902788849415, 0.4070686585734908, 0.0662798358599985, 0.0038663237584999127, 0.10880939720349754, 0.053023868687998806, 0.00972253640697506, 0.14074528893906754, 0.5532586193492951, 0.15093080327018427, 0.08333602634550051, 0.03703823393133356, 0.008796580558691721, 0.015741249420816762, 0.00449118617659905, 0.99255214502839, 0.9945680902905969, 0.3640749523793499, 0.6342365778198569, 0.9971406430657138, 0.9962751586671726, 0.9942064016476316, 0.4124811087859063, 0.3906238210573386, 0.01503941816185852, 0.026870427115853888, 0.107682234038907, 0.04732403581598148, 0.553112717035025, 0.01849313035679415, 0.2515065728524004, 0.09044821938141138, 0.07935234116733489, 0.006724774675197873, 0.043320261258158306, 0.1330923689256671, 0.4185885485426863, 0.112737065442918, 0.0976010705454892, 0.07985542135540025, 0.11430285801851409, 0.9932832967188352, 0.9971889312284474, 0.9842454131656652, 0.9982899716068258, 0.9988140483033914, 0.8235581685977709, 0.026250638545255795, 0.13837200995889073, 0.011123151925955846, 0.9993113018247535, 0.9944548721049825, 0.9938489628249456, 0.004426944155122252, 0.9966353258053341, 0.989303891155982, 0.9974405653853987, 0.10066859269100827, 0.8986513396319274, 0.18592631932455767, 0.012595008728437778, 0.21351538606304044, 0.4582184127869744, 0.036585501544509735, 0.0023990492816071958, 0.09176363502147523, 0.030279572681571765, 0.589846075837018, 0.024223658145257412, 0.019984517969837367, 0.02361806669162598, 0.3118795986201892, 0.9933980633563922, 0.9914231371801318, 0.9971501501463957, 0.9883664227287806, 0.9826558828861455, 0.9005701208054302, 0.09908473211795688, 0.996493740658086, 0.036937385734470585, 0.9622825835307768, 0.0868228412433808, 0.9131902409348445, 0.9881216823317845, 0.9933817667811392, 0.11140967979364584, 0.0021020694300687894, 0.28272833834425215, 0.22860005051998084, 0.356826285754177, 0.00788276036275796, 0.00998482979282675, 0.020165347668650142, 0.376419823148136, 0.48262398753636004, 0.12054396717481973, 0.9726962307599888, 0.0015939970824464693, 0.19574284172442644, 0.5878661240062578, 0.022634758570739863, 0.03060474398297221, 0.009245183078189521, 0.15142972283241457, 0.0033296299403834345, 0.8257482252150917, 0.03163148443364262, 0.13817964252591253, 0.9979468495233247, 0.7546483129590371, 0.14134424806767756, 0.10235273135935272, 0.6106273547258227, 0.3826181634471268, 0.0010411378597200728, 0.005205689298600364, 0.08819358509942785, 0.9090723387171793, 0.005631036653640498, 0.2571506738495828, 0.733911777191145, 0.47768741400137593, 0.20179678164474182, 0.020048924310276727, 0.11738790465727243, 0.11099549400761897, 0.0717693377483819, 0.00014528206021939658, 0.00014528206021939658, 0.991934141576797, 0.9948418121495604, 0.9916953279340793, 0.9650665610786775, 0.03265262800642142, 0.9938228339158875, 0.9855171846129716, 0.013317799792067183, 0.09297377747019883, 0.9054837457967191, 0.9962456153437175, 0.9958933358957802, 0.994534957283427, 0.9823318196531501, 0.8785792048485794, 0.02192388034280189, 0.09906345932673447, 0.8324232131701896, 0.07893668400751798, 0.027679096989649165, 0.06048395268108521, 0.9735835002831054, 0.02384286123142299, 0.1687000767553531, 0.5544305225257009, 0.10030815374642615, 0.004559461533928461, 0.17143575367571015, 0.001956104142495334, 0.026267684199223058, 0.04163707389025782, 0.26211795509437474, 0.6678698429376926, 0.02218512166422469, 0.1996660949780222, 0.7764792582478641, 0.20993759459625128, 0.7286069459516956, 0.061746351351838605, 0.99215867959057, 0.6890412896913667, 0.003718517483493614, 0.0003718517483493614, 0.001859258741746807, 0.03421036084814125, 0.1223392252069399, 0.14799699584304585, 0.48986237090901874, 0.17647780864688883, 0.004548397130074454, 0.0027290382780446724, 0.007732275121126573, 0.29109741632476505, 0.027290382780446727, 0.9996657175912759, 0.8096097136021625, 0.0010082312747224937, 0.18853924837310632, 0.9943982717458922, 0.9385973810500835, 0.028077699433122157, 0.03208879935213961, 0.25908405124673073, 0.3586211971487341, 0.0614471189503342, 0.1228942379006684, 0.08408553119519417, 0.10313054467102875, 0.0007186797538050783, 0.009342836799466018, 0.7234939853720185, 0.03319343688197876, 0.22805120524470593, 0.012293865511843985, 0.002458773102368797, 0.41733929444778245, 0.030007192322447526, 0.001288652431025354, 0.3554839777585655, 0.10438084691305367, 0.08597152646983433, 0.002209118453186321, 0.003129584475347288, 0.5461312265690811, 0.4489383811627192, 0.9981363101547598, 0.16120702932072117, 0.0709310929011173, 0.0008060351466036059, 0.7665394244200291, 0.3274563052618646, 0.061398057236599614, 0.607158566006374, 0.1465385461798367, 0.8490615763949361, 0.9944046134940064, 0.9892252406351102, 0.9993496940113932, 0.991907444309693, 0.9950386071952945, 0.9982158371465896, 0.9945945116297298, 0.0464325692214313, 0.6806037120088745, 0.26148867929963937, 0.010997187447181096, 0.04024430021059425, 0.9543648335655207, 0.9964594005563221, 0.9977814621989824, 0.988773486988332, 0.9647694962282612, 0.03412367993090313, 0.9937534074221128, 0.978361960057791, 0.020101361081316514, 0.001148649204646658, 0.00911873988107703, 0.7816062755208882, 0.18888818325088133, 0.019540156888022207, 0.9942209841147914, 0.9829840947650145, 0.9951476800157947, 0.9950157940542309, 0.9456322348296453, 0.049398698834384455, 0.9814106410598498, 0.9960276720026308, 0.009957269065053884, 0.011824257014751488, 0.04107373489334727, 0.026760160612332315, 0.05227566259153289, 0.05227566259153289, 0.4387421681789368, 0.367174296773862, 0.002493456982187038, 0.001246728491093519, 0.06358315304576947, 0.34783724901509183, 0.585962390813954, 0.9976476736049261, 0.9972101026135317, 0.9983809814671565, 0.03327950708357368, 0.9651057054236368, 0.9759121347322111, 0.020545518625941284, 0.9953907026934808, 0.9971240102836929, 0.00331346014501305, 0.9956947735764216, 0.32706574931505905, 0.006204499309499765, 0.6665404972491176, 0.9976961071667653, 0.2948359066639985, 0.7024431508999411, 0.03936913239345993, 0.9054900450495785, 0.04542592199245377, 0.009085184398490754, 0.012729727906207113, 0.025459455812414225, 0.5792026197324236, 0.022277023835862445, 0.2026148358404632, 0.006364863953103556, 0.15169592421563474, 0.9991700215301225, 0.9969514597785586, 0.07647143236390598, 0.0006827806461063035, 0.12767998082187876, 0.7947566720677373, 0.0315610261165547, 0.09152697573800864, 0.8742404234285652, 0.9989485775095412, 0.5641251714481779, 0.03122868381924196, 0.37985767452645186, 0.02118437031012905, 0.0029219821117419374, 0.0005478716459516133, 0.5289734667627668, 0.12094051483678643, 0.34315458228456414, 0.0022605703707810547, 0.0015823992595467384, 0.00045211407415621095, 0.0027126844449372658, 0.9949713471361245, 0.24528891238084635, 0.027254323597871815, 0.7256463657933371, 0.9962760506980707, 0.6235476372394514, 0.0059903170985465895, 0.003438885741758227, 0.011869702398971945, 0.2571399080450184, 0.07066355540322551, 0.02728922233782335, 0.2874146308727528, 0.005164326470415738, 0.060184266174460335, 0.5873428220392053, 0.028999679410796068, 0.015492979411247214, 0.015294351470077377, 0.9933175699201857, 0.9925250364479277, 0.03493123387169919, 0.9485173505161396, 0.013435089950653536, 0.014305951635523603, 0.9835341749422477, 0.9924950952269006, 0.024280468390300833, 0.97283743350472, 0.14828931246214147, 0.04008700095130418, 0.22781149321107008, 0.2004350047565209, 0.16833281293779356, 0.19163541918184437, 0.023139650955630867, 0.0001629552884199357, 0.020963696093424092, 0.48657841985263284, 0.15005592993187772, 0.026480458223272538, 0.08826819407757512, 0.22729059974975593, 0.9953411667327237, 0.12195060158017872, 0.323242558405293, 0.0014692843563876954, 0.5524509180017735, 0.12267323481700072, 0.875750592999144, 0.07169625925241149, 0.9240851192533037, 0.1299556547391956, 0.8691360455252586, 0.9939797257917533, 0.9960620848777251, 0.4474569698430271, 0.03303373602867985, 0.48409438616574474, 0.035436189558038386, 0.3164411586799247, 0.008438430898131325, 0.013990030173217722, 0.6608623777062848, 0.9940399526266634, 0.05689788047490546, 0.00084922209664038, 0.02292899660929026, 0.9180090864682509, 0.9921510822131343, 0.9989133045922329, 0.6402788967749183, 0.35958618019104793, 0.99353774826067, 0.9978543125732279, 0.9949548784558226, 0.9976690437905894, 0.993537800643097, 0.9974363681732867, 0.9960003826785466, 0.9987920993711406, 0.9976950271155666, 0.4299209915407358, 0.23751565727912002, 0.006864614372228902, 0.08786706396452995, 0.11905202639836981, 0.10728411604597742, 0.009610460121120464, 0.0019613183920654006, 0.04412304379407758, 0.2217046768418466, 0.06972530377335716, 0.025602259979279583, 0.05229397783001787, 0.11330361863170539, 0.42216492519024845, 0.05011506208710046, 0.9949893789859956, 0.9997851899443324, 0.9965933299358178, 0.0007724316400782165, 0.0038621582003910823, 0.328283447033242, 0.08573991204868203, 0.11972690421212355, 0.46114168912669523, 0.9995690458781189, 0.9900488443564358, 0.09404689172268038, 0.015674481953780062, 0.8882206440475369, 0.9965676563404168, 0.8978749491880299, 0.06650925549540962, 0.03325462774770481, 0.9934161996536433, 0.044220182213840324, 0.35560396530296595, 0.14740060737946775, 0.45141436009962, 0.23353372419301605, 0.1773316521070045, 0.2502147044925172, 0.07878555310687464, 0.19324274100806713, 0.035671634794317834, 0.01719424123179349, 0.013858045171893261, 0.21187754589896649, 0.3800838422468436, 0.16364720985627987, 0.017036586363337054, 0.16508692137994216, 0.05398918213733574, 0.0007198557618311431, 0.007678461459532194, 0.5060091620212033, 0.0028308204868319068, 0.4904396493436278, 0.5062545942007178, 0.4930708808100741, 0.3775459332692424, 0.23039478393079638, 0.07078986248798295, 0.10978983302534392, 0.15632761299429568, 0.049159626727765936, 0.0008193271121294323, 0.005243693517628367, 0.9871729128966302, 0.9990697460678201, 0.9971574624199737, 0.004995798536794864, 0.0624474817099358, 0.9292185278438446, 0.8874590881417361, 0.11189701546134934, 0.9929867468080145, 0.003449438182471731, 0.8393632910681211, 0.07818726546935922, 0.07818726546935922, 0.9968589466720047, 0.9927769115193771, 0.1037149847575231, 0.18325735354566333, 0.0018594319976448365, 0.6286946187592486, 0.08243481856225442, 0.08083174105968903, 0.3032756796348023, 0.0018798079316206752, 0.5019087177427203, 0.003133013219367792, 0.10871555871206239, 0.18677245585678603, 0.12192399318118376, 0.16545241333330035, 0.26361344245184903, 0.0677355517673243, 0.08461391876508381, 0.10904313415657782, 0.0004441675525726184, 0.9922303263363701, 0.9922423077310284], \"Term\": [\"ablation\", \"abuse\", \"abusive\", \"achieves\", \"achieves\", \"achieves\", \"acoustic\", \"acoustic\", \"across\", \"across\", \"across\", \"across\", \"across\", \"across\", \"across\", \"adjacency\", \"adversarial\", \"agent\", \"agent\", \"agents\", \"al\", \"algorithm\", \"algorithm\", \"algorithm\", \"algorithm\", \"algorithm\", \"algorithm\", \"also\", \"also\", \"also\", \"also\", \"also\", \"also\", \"also\", \"also\", \"amr\", \"analysis\", \"analysis\", \"analysis\", \"analysis\", \"analysis\", \"analysis\", \"analysis\", \"analysis\", \"annotated\", \"annotated\", \"annotated\", \"annotated\", \"annotated\", \"annotation\", \"annotation\", \"annotation\", \"annotation\", \"annotations\", \"annotations\", \"annotations\", \"annotations\", \"annotations\", \"answer\", \"answer\", \"answering\", \"answering\", \"answering\", \"answers\", \"answers\", \"applications\", \"applications\", \"applications\", \"applications\", \"applications\", \"applications\", \"applications\", \"applications\", \"approach\", \"approach\", \"approach\", \"approach\", \"approach\", \"approach\", \"approach\", \"approach\", \"approximation\", \"arabic\", \"arabic\", \"arabic\", \"architectures\", \"architectures\", \"argument\", \"argumentation\", \"arguments\", \"arguments\", \"article\", \"article\", \"article\", \"article\", \"article\", \"article\", \"article\", \"ask\", \"asr\", \"asr\", \"assistance\", \"attacks\", \"attention\", \"attention\", \"attention\", \"attention\", \"attention\", \"attention\", \"attribution\", \"augmentation\", \"authorship\", \"automatic\", \"automatic\", \"automatic\", \"automatic\", \"automatic\", \"automatic\", \"automatique\", \"auxiliary\", \"available\", \"available\", \"available\", \"available\", \"available\", \"available\", \"available\", \"balanced\", \"based\", \"based\", \"based\", \"based\", \"based\", \"based\", \"based\", \"based\", \"baseline\", \"baseline\", \"baseline\", \"best\", \"best\", \"best\", \"best\", \"best\", \"bias\", \"biases\", \"biases\", \"biomedical\", \"bird\", \"bleu\", \"bleu\", \"body\", \"bridge\", \"business\", \"captions\", \"captures\", \"causal\", \"ce\", \"ces\", \"cet\", \"cette\", \"challenges\", \"challenges\", \"challenges\", \"challenges\", \"challenges\", \"challenges\", \"change\", \"change\", \"change\", \"change\", \"chatbots\", \"children\", \"chinese\", \"chinese\", \"chinese\", \"chinese\", \"citation\", \"claim\", \"claims\", \"classification\", \"classification\", \"classification\", \"classification\", \"classification\", \"classification\", \"classifiers\", \"classifiers\", \"classifiers\", \"classifiers\", \"clinical\", \"clip\", \"cnn\", \"comments\", \"commonsense\", \"community\", \"community\", \"community\", \"community\", \"community\", \"community\", \"completion\", \"compositionality\", \"comprehension\", \"comprehension\", \"concepts\", \"concepts\", \"concepts\", \"concepts\", \"concepts\", \"concepts\", \"conditional\", \"conditioned\", \"constituency\", \"constraints\", \"constraints\", \"constraints\", \"constraints\", \"constraints\", \"constraints\", \"contact\", \"content\", \"content\", \"content\", \"content\", \"content\", \"content\", \"content\", \"context\", \"context\", \"context\", \"context\", \"context\", \"context\", \"context\", \"contextualized\", \"contrastive\", \"contrastive\", \"conversation\", \"conversation\", \"conversation\", \"conversation\", \"conversations\", \"conversations\", \"conversations\", \"conversations\", \"coreference\", \"corpora\", \"corpora\", \"corpora\", \"corpora\", \"corpora\", \"corpus\", \"corpus\", \"corpus\", \"corpus\", \"corpus\", \"corpus\", \"correlate\", \"correlated\", \"cues\", \"cues\", \"curriculum\", \"customer\", \"czech\", \"dans\", \"data\", \"data\", \"data\", \"data\", \"data\", \"data\", \"data\", \"database\", \"database\", \"dataset\", \"dataset\", \"dataset\", \"dataset\", \"dataset\", \"datasets\", \"datasets\", \"datasets\", \"de\", \"decoder\", \"decoding\", \"dense\", \"dependencies\", \"dependencies\", \"dependencies\", \"dependency\", \"dependency\", \"deployment\", \"depression\", \"des\", \"design\", \"design\", \"design\", \"design\", \"design\", \"design\", \"design\", \"detect\", \"detect\", \"detect\", \"detection\", \"detection\", \"detection\", \"detection\", \"detection\", \"development\", \"development\", \"diagnostic\", \"diagnostic\", \"dialect\", \"dialects\", \"dialogue\", \"dialogue\", \"dialogue\", \"dialogue\", \"dictionaries\", \"dictionaries\", \"dictionary\", \"dictionary\", \"different\", \"different\", \"different\", \"different\", \"different\", \"different\", \"different\", \"differential\", \"digital\", \"digital\", \"discourse\", \"distillation\", \"domain\", \"domain\", \"domain\", \"domain\", \"domain\", \"domain\", \"domains\", \"domains\", \"domains\", \"domains\", \"domains\", \"downstream\", \"du\", \"dutch\", \"edge\", \"embedding\", \"embeddings\", \"embeddings\", \"embeddings\", \"emotion\", \"emotional\", \"emotions\", \"en\", \"encoder\", \"endangered\", \"engine\", \"english\", \"english\", \"english\", \"english\", \"english\", \"entailment\", \"entities\", \"entity\", \"entries\", \"es\", \"est\", \"et\", \"et\", \"ethical\", \"evaluation\", \"evaluation\", \"evaluation\", \"evaluation\", \"evaluation\", \"event\", \"events\", \"events\", \"events\", \"evidence\", \"evidence\", \"evidence\", \"evidence\", \"examples\", \"examples\", \"examples\", \"examples\", \"examples\", \"existing\", \"existing\", \"existing\", \"existing\", \"existing\", \"existing\", \"existing\", \"experiments\", \"experiments\", \"experiments\", \"experiments\", \"experiments\", \"experiments\", \"experiments\", \"explanation\", \"explanations\", \"extraction\", \"extraction\", \"extraction\", \"extraction\", \"extraction\", \"extractive\", \"extrinsic\", \"facts\", \"fake\", \"features\", \"features\", \"features\", \"features\", \"features\", \"features\", \"features\", \"financial\", \"first\", \"first\", \"first\", \"first\", \"first\", \"first\", \"first\", \"first\", \"fluency\", \"french\", \"french\", \"gains\", \"gains\", \"gains\", \"game\", \"gaps\", \"gender\", \"gendered\", \"generalization\", \"generalization\", \"generalize\", \"generation\", \"generation\", \"generation\", \"generation\", \"generation\", \"german\", \"german\", \"german\", \"globally\", \"glue\", \"grammar\", \"grammar\", \"grammars\", \"grammatical\", \"grammatical\", \"grammatical\", \"grammatical\", \"grammatical\", \"graph\", \"graph\", \"graphs\", \"graphs\", \"ground\", \"grounding\", \"hate\", \"health\", \"health\", \"hierarchy\", \"however\", \"however\", \"however\", \"however\", \"however\", \"however\", \"however\", \"human\", \"human\", \"human\", \"human\", \"human\", \"human\", \"human\", \"id\", \"id\", \"ie\", \"ignore\", \"ignoring\", \"imbalance\", \"induce\", \"inductive\", \"industry\", \"inference\", \"inference\", \"inference\", \"inform\", \"information\", \"information\", \"information\", \"information\", \"information\", \"information\", \"information\", \"information\", \"input\", \"input\", \"input\", \"input\", \"input\", \"input\", \"intent\", \"intents\", \"interactions\", \"interactions\", \"interactions\", \"interface\", \"interface\", \"interpretable\", \"interpretations\", \"intrinsically\", \"italian\", \"italian\", \"iwslt\", \"japanese\", \"japanese\", \"japanese\", \"japanese\", \"japanese\", \"kappa\", \"kb\", \"kg\", \"kgs\", \"knowledge\", \"knowledge\", \"knowledge\", \"knowledge\", \"knowledge\", \"knowledge\", \"knowledge\", \"la\", \"label\", \"label\", \"labeled\", \"labeled\", \"labeling\", \"labeling\", \"labels\", \"labels\", \"labels\", \"language\", \"language\", \"language\", \"language\", \"language\", \"language\", \"language\", \"language\", \"languages\", \"languages\", \"languages\", \"languages\", \"languages\", \"large\", \"large\", \"large\", \"large\", \"large\", \"large\", \"large\", \"large\", \"large\", \"latent\", \"latent\", \"le\", \"learn\", \"learn\", \"learn\", \"learn\", \"learn\", \"learning\", \"learning\", \"learning\", \"learning\", \"learning\", \"learning\", \"learns\", \"legal\", \"les\", \"leverage\", \"leverages\", \"lexical\", \"lexical\", \"lexical\", \"lexical\", \"lexical\", \"lexical\", \"lexicon\", \"lexicons\", \"lexicons\", \"lightweight\", \"linguistic\", \"linguistic\", \"linguistic\", \"linguistic\", \"linguistic\", \"linguistic\", \"linking\", \"linking\", \"linking\", \"literal\", \"lm\", \"lms\", \"logical\", \"logical\", \"logistic\", \"loss\", \"loss\", \"machine\", \"machine\", \"machine\", \"macro\", \"management\", \"management\", \"manipulation\", \"manually\", \"manually\", \"manually\", \"manually\", \"manually\", \"manually\", \"matrix\", \"meaning\", \"meaning\", \"meaning\", \"meaning\", \"meaning\", \"media\", \"media\", \"memes\", \"memory\", \"memory\", \"mental\", \"mentions\", \"mentions\", \"metadata\", \"metadata\", \"method\", \"method\", \"method\", \"method\", \"method\", \"method\", \"methods\", \"methods\", \"methods\", \"methods\", \"methods\", \"methods\", \"methods\", \"metric\", \"metric\", \"metrics\", \"metrics\", \"mixture\", \"mod\", \"modalities\", \"model\", \"model\", \"model\", \"model\", \"model\", \"model\", \"models\", \"models\", \"models\", \"models\", \"moral\", \"morphological\", \"morphological\", \"morphological\", \"morphology\", \"morphology\", \"morphology\", \"mrc\", \"mt\", \"mt\", \"multimodal\", \"multimodal\", \"mwes\", \"named\", \"named\", \"named\", \"named\", \"native\", \"native\", \"natural\", \"natural\", \"natural\", \"natural\", \"natural\", \"natural\", \"natural\", \"natural\", \"ner\", \"ner\", \"neural\", \"new\", \"new\", \"new\", \"new\", \"new\", \"new\", \"new\", \"new\", \"news\", \"news\", \"news\", \"news\", \"news\", \"nlg\", \"nli\", \"nlp\", \"nlp\", \"nlp\", \"nlp\", \"nlp\", \"nlp\", \"nlp\", \"nlp\", \"nlu\", \"nmt\", \"node\", \"nodes\", \"nodes\", \"noisy\", \"noisy\", \"nous\", \"nuances\", \"numerous\", \"offensive\", \"old\", \"one\", \"one\", \"one\", \"one\", \"one\", \"one\", \"one\", \"one\", \"online\", \"online\", \"online\", \"online\", \"online\", \"ontology\", \"ontology\", \"ood\", \"ood\", \"opinion\", \"opinions\", \"optimization\", \"outperform\", \"outputs\", \"outputs\", \"outputs\", \"paired\", \"pairs\", \"pairs\", \"pairs\", \"pairs\", \"paper\", \"paper\", \"paper\", \"paper\", \"paper\", \"paper\", \"paper\", \"paper\", \"par\", \"par\", \"parse\", \"parser\", \"parsers\", \"parses\", \"parsing\", \"paths\", \"patient\", \"patients\", \"patronizing\", \"pcl\", \"people\", \"people\", \"people\", \"people\", \"perception\", \"perceptual\", \"performance\", \"performance\", \"performance\", \"performance\", \"performance\", \"performance\", \"performance\", \"performance\", \"performance\", \"perplexity\", \"personality\", \"perturbations\", \"phonetic\", \"pipeline\", \"pipeline\", \"platform\", \"platform\", \"platform\", \"plms\", \"plms\", \"polarity\", \"policies\", \"political\", \"poorly\", \"portuguese\", \"pos\", \"pos\", \"pos\", \"posts\", \"pour\", \"pr\", \"predicate\", \"predicting\", \"predicts\", \"present\", \"present\", \"present\", \"present\", \"present\", \"present\", \"present\", \"present\", \"pretrained\", \"pretrained\", \"pretraining\", \"pretraining\", \"prevent\", \"privacy\", \"probing\", \"process\", \"process\", \"process\", \"process\", \"process\", \"process\", \"process\", \"processing\", \"processing\", \"processing\", \"processing\", \"processing\", \"processing\", \"processing\", \"processing\", \"program\", \"program\", \"programs\", \"project\", \"project\", \"prompt\", \"prompts\", \"pronouns\", \"propose\", \"propose\", \"propose\", \"propose\", \"propose\", \"propose\", \"proposed\", \"proposed\", \"proposed\", \"proposed\", \"proposed\", \"proposed\", \"provide\", \"provide\", \"provide\", \"provide\", \"provide\", \"provide\", \"provide\", \"pruning\", \"pseudo\", \"publication\", \"qa\", \"que\", \"question\", \"question\", \"question\", \"question\", \"qui\", \"rank\", \"ranking\", \"ranking\", \"ratings\", \"reader\", \"readers\", \"reasoning\", \"reasoning\", \"recent\", \"recent\", \"recent\", \"recent\", \"recent\", \"recent\", \"recent\", \"recognition\", \"recognition\", \"recognition\", \"recognition\", \"recognition\", \"recognition\", \"recommendation\", \"recordings\", \"recurrent\", \"reddit\", \"reflecting\", \"regression\", \"regression\", \"reinforcement\", \"relation\", \"relation\", \"relations\", \"relations\", \"removing\", \"replacement\", \"representation\", \"representation\", \"representation\", \"representation\", \"representation\", \"representation\", \"representation\", \"representations\", \"representations\", \"representations\", \"representations\", \"reproduction\", \"research\", \"research\", \"research\", \"research\", \"research\", \"research\", \"research\", \"researchers\", \"researchers\", \"researchers\", \"researchers\", \"resolution\", \"resource\", \"resource\", \"resource\", \"resources\", \"resources\", \"resources\", \"resources\", \"response\", \"response\", \"responses\", \"responses\", \"responses\", \"results\", \"results\", \"results\", \"results\", \"results\", \"results\", \"results\", \"results\", \"retriever\", \"risk\", \"rnn\", \"robustness\", \"robustness\", \"rouge\", \"russian\", \"russian\", \"samples\", \"samples\", \"sampling\", \"sarcasm\", \"sarcastic\", \"scarcity\", \"score\", \"score\", \"score\", \"scores\", \"scores\", \"scores\", \"scores\", \"scoring\", \"scoring\", \"search\", \"search\", \"search\", \"search\", \"search\", \"semantic\", \"semantic\", \"semantic\", \"semantic\", \"semantic\", \"semantics\", \"semantics\", \"semantics\", \"sense\", \"sense\", \"sense\", \"sensitive\", \"sentence\", \"sentence\", \"sentence\", \"sentence\", \"sentence\", \"sentence\", \"sentence\", \"sentences\", \"sentences\", \"sentences\", \"sentences\", \"sentences\", \"sentences\", \"sentences\", \"sentiment\", \"sequence\", \"sequence\", \"sequence\", \"sequential\", \"services\", \"services\", \"services\", \"set\", \"set\", \"set\", \"set\", \"set\", \"set\", \"set\", \"set\", \"shared\", \"shared\", \"shared\", \"shared\", \"shared\", \"show\", \"show\", \"show\", \"show\", \"show\", \"show\", \"show\", \"show\", \"si\", \"si\", \"signals\", \"similarity\", \"similarity\", \"similarity\", \"similarity\", \"simplification\", \"simplification\", \"simplification\", \"sizes\", \"sizes\", \"slot\", \"smoothing\", \"social\", \"soft\", \"software\", \"sont\", \"sota\", \"space\", \"space\", \"space\", \"space\", \"spaces\", \"spaces\", \"span\", \"spanish\", \"sparsity\", \"speakers\", \"speakers\", \"specificity\", \"speech\", \"speech\", \"speech\", \"spoken\", \"spoken\", \"spoken\", \"spoken\", \"spurious\", \"srl\", \"st\", \"stance\", \"story\", \"story\", \"stream\", \"streaming\", \"structure\", \"structure\", \"structure\", \"structure\", \"structure\", \"structure\", \"structure\", \"structure\", \"structures\", \"structures\", \"structures\", \"structures\", \"structures\", \"students\", \"submission\", \"submitted\", \"substitution\", \"substitution\", \"subtasks\", \"subtasks\", \"subword\", \"suffer\", \"summaries\", \"summaries\", \"summarization\", \"summarization\", \"summarization\", \"summary\", \"supervised\", \"supervised\", \"supervision\", \"supervision\", \"supervision\", \"supervision\", \"support\", \"support\", \"support\", \"support\", \"support\", \"support\", \"support\", \"sur\", \"survey\", \"syntactic\", \"syntactic\", \"syntactic\", \"syntactic\", \"syntax\", \"syntax\", \"syntax\", \"syst\", \"system\", \"system\", \"system\", \"system\", \"system\", \"system\", \"systems\", \"systems\", \"systems\", \"systems\", \"systems\", \"systems\", \"systems\", \"tagger\", \"tagging\", \"tagging\", \"tagging\", \"tamil\", \"task\", \"task\", \"task\", \"task\", \"task\", \"task\", \"task\", \"tasks\", \"tasks\", \"tasks\", \"tasks\", \"tasks\", \"tasks\", \"tasks\", \"teacher\", \"teaching\", \"technologies\", \"technologies\", \"technologies\", \"technology\", \"technology\", \"templates\", \"temporal\", \"temporal\", \"text\", \"text\", \"text\", \"text\", \"text\", \"text\", \"text\", \"text\", \"texts\", \"texts\", \"texts\", \"texts\", \"texts\", \"texts\", \"title\", \"tokens\", \"tokens\", \"tokens\", \"tokens\", \"tool\", \"tool\", \"toolkit\", \"toolkit\", \"tools\", \"tools\", \"toxic\", \"tracking\", \"trained\", \"trained\", \"trained\", \"trained\", \"training\", \"training\", \"training\", \"training\", \"transcribed\", \"transfer\", \"transfer\", \"transfer\", \"transfer\", \"transferability\", \"transformer\", \"translation\", \"translation\", \"translators\", \"tree\", \"treebanks\", \"trees\", \"triples\", \"turkish\", \"tweet\", \"tweets\", \"twitter\", \"two\", \"two\", \"two\", \"two\", \"two\", \"two\", \"two\", \"two\", \"types\", \"types\", \"types\", \"types\", \"types\", \"types\", \"types\", \"types\", \"typologically\", \"un\", \"uncertainty\", \"understanding\", \"understanding\", \"understanding\", \"understanding\", \"understanding\", \"understanding\", \"une\", \"unfortunately\", \"universal\", \"universal\", \"universal\", \"unlabeled\", \"unseen\", \"unseen\", \"unseen\", \"unstructured\", \"unsupervised\", \"unsupervised\", \"unsupervised\", \"unsupervised\", \"use\", \"use\", \"use\", \"use\", \"use\", \"use\", \"use\", \"use\", \"used\", \"used\", \"used\", \"used\", \"used\", \"used\", \"used\", \"used\", \"user\", \"user\", \"user\", \"users\", \"users\", \"using\", \"using\", \"using\", \"using\", \"using\", \"using\", \"using\", \"using\", \"vanilla\", \"vector\", \"vectors\", \"video\", \"video\", \"video\", \"visual\", \"visual\", \"vulnerable\", \"web\", \"web\", \"web\", \"web\", \"wikipedia\", \"wmt\", \"word\", \"word\", \"word\", \"word\", \"word\", \"words\", \"words\", \"words\", \"words\", \"words\", \"words\", \"work\", \"work\", \"work\", \"work\", \"work\", \"work\", \"work\", \"work\", \"wsd\", \"zero\"]}, \"R\": 30, \"lambda.step\": 0.01, \"plot.opts\": {\"xlab\": \"PC1\", \"ylab\": \"PC2\"}, \"topic.order\": [6, 10, 9, 7, 3, 4, 5, 2, 8, 1]};\n",
              "\n",
              "function LDAvis_load_lib(url, callback){\n",
              "  var s = document.createElement('script');\n",
              "  s.src = url;\n",
              "  s.async = true;\n",
              "  s.onreadystatechange = s.onload = callback;\n",
              "  s.onerror = function(){console.warn(\"failed to load library \" + url);};\n",
              "  document.getElementsByTagName(\"head\")[0].appendChild(s);\n",
              "}\n",
              "\n",
              "if(typeof(LDAvis) !== \"undefined\"){\n",
              "   // already loaded: just create the visualization\n",
              "   !function(LDAvis){\n",
              "       new LDAvis(\"#\" + \"ldavis_el531396962703415847245733823\", ldavis_el531396962703415847245733823_data);\n",
              "   }(LDAvis);\n",
              "}else if(typeof define === \"function\" && define.amd){\n",
              "   // require.js is available: use it to load d3/LDAvis\n",
              "   require.config({paths: {d3: \"https://cdnjs.cloudflare.com/ajax/libs/d3/3.5.5/d3.min\"}});\n",
              "   require([\"d3\"], function(d3){\n",
              "      window.d3 = d3;\n",
              "      LDAvis_load_lib(\"https://cdn.rawgit.com/bmabey/pyLDAvis/files/ldavis.v1.0.0.js\", function(){\n",
              "        new LDAvis(\"#\" + \"ldavis_el531396962703415847245733823\", ldavis_el531396962703415847245733823_data);\n",
              "      });\n",
              "    });\n",
              "}else{\n",
              "    // require.js not available: dynamically load d3 & LDAvis\n",
              "    LDAvis_load_lib(\"https://cdnjs.cloudflare.com/ajax/libs/d3/3.5.5/d3.min.js\", function(){\n",
              "         LDAvis_load_lib(\"https://cdn.rawgit.com/bmabey/pyLDAvis/files/ldavis.v1.0.0.js\", function(){\n",
              "                 new LDAvis(\"#\" + \"ldavis_el531396962703415847245733823\", ldavis_el531396962703415847245733823_data);\n",
              "            })\n",
              "         });\n",
              "}\n",
              "</script>"
            ]
          },
          "metadata": {},
          "execution_count": 12
        }
      ]
    },
    {
      "cell_type": "markdown",
      "source": [
        "\n"
      ],
      "metadata": {
        "id": "F5s2gpon-GMM"
      }
    },
    {
      "cell_type": "markdown",
      "source": [
        "## Distribucion de los topicos por año"
      ],
      "metadata": {
        "id": "GKgOmlvXc0cZ"
      }
    },
    {
      "cell_type": "markdown",
      "source": [
        "Para un documento en particular"
      ],
      "metadata": {
        "id": "j1Z9x0LJpYwv"
      }
    },
    {
      "cell_type": "code",
      "metadata": {
        "id": "iPF_BUvFW1rd",
        "colab": {
          "base_uri": "https://localhost:8080/"
        },
        "outputId": "327d6a9a-570f-4e8e-c997-2bdd5a5e1bc5"
      },
      "source": [
        "new_text = dataset[0]\n",
        "\n",
        "# transform held_out_text into the bag-of-words space\n",
        "bow_vector = dictionary.doc2bow(word_tokenize(new_text))\n",
        "lda_vector = ldamodel[bow_vector]\n",
        "print(lda_vector) # imprime las probabilidades de cada topico\n",
        "\n",
        "# print the document's single most prominent LDA topic (palabras mas frecuentes de topico mas probable )\n",
        "print(ldamodel.print_topic(max(lda_vector, key=lambda item: item[1])[0]))"
      ],
      "execution_count": 13,
      "outputs": [
        {
          "output_type": "stream",
          "name": "stdout",
          "text": [
            "[(3, 0.34036872), (4, 0.0924002), (7, 0.068607666), (8, 0.27132958), (9, 0.22335625)]\n",
            "0.024*\"word\" + 0.018*\"task\" + 0.016*\"features\" + 0.015*\"embeddings\" + 0.014*\"classification\" + 0.013*\"words\" + 0.013*\"analysis\" + 0.012*\"detection\" + 0.012*\"sentiment\" + 0.009*\"information\"\n"
          ]
        }
      ]
    },
    {
      "cell_type": "markdown",
      "source": [
        "Cargo todos los papers y corro el LDA sobre ellos y Aplico el mismo preprocesamiento\n"
      ],
      "metadata": {
        "id": "dfdS6WX1pbGA"
      }
    },
    {
      "cell_type": "code",
      "source": [
        "papers = pd.read_csv('https://raw.githubusercontent.com/mateosuster/nlpPapers/main/code/data/ACL_data.csv')\n",
        "\n",
        "STOP_WORDS_en = stopwords.words(\"english\")\n",
        "\n",
        "STOP_WORDS_fr = stopwords.words(\"french\")\n",
        "STOP_WORDS = STOP_WORDS_fr + STOP_WORDS_en\n",
        "\n",
        "def tokenize(x):\n",
        "    return [word for word in word_tokenize(x) if word not in STOP_WORDS_en and word.isalpha() and len(word)>1]\n",
        "    \n",
        "papers_text  = [tokenize(str(doc).lower()) for doc in papers.ABSTRACT]\n",
        "papers_text_df = pd.DataFrame([' '.join(text) for text in papers_text], columns = ['text'])\n",
        "\n",
        "papers_text_df"
      ],
      "metadata": {
        "colab": {
          "base_uri": "https://localhost:8080/",
          "height": 423
        },
        "id": "Nhvmdz45pjxD",
        "outputId": "e7c077c1-40e7-4e28-85ab-17479ee8440f"
      },
      "execution_count": 14,
      "outputs": [
        {
          "output_type": "execute_result",
          "data": {
            "text/plain": [
              "                                                    text\n",
              "0      text worlds virtual environments embodied agen...\n",
              "1      prototype system playing minimal improvisation...\n",
              "2      characters npcs significantly enhance player e...\n",
              "3      interactive question answering iqa requires in...\n",
              "4      purpose extended abstract discuss possible fru...\n",
              "...                                                  ...\n",
              "33806  paper deals problem representing useful form w...\n",
              "33807  becomes evident successful pragmatics automati...\n",
              "33808  establishing grammatical description language ...\n",
              "33809  grammar based upon conventional morphemic anal...\n",
              "33810  used think output translation machine would st...\n",
              "\n",
              "[33811 rows x 1 columns]"
            ],
            "text/html": [
              "\n",
              "  <div id=\"df-80546f8d-960d-42d9-a0a4-7d84f89eb969\">\n",
              "    <div class=\"colab-df-container\">\n",
              "      <div>\n",
              "<style scoped>\n",
              "    .dataframe tbody tr th:only-of-type {\n",
              "        vertical-align: middle;\n",
              "    }\n",
              "\n",
              "    .dataframe tbody tr th {\n",
              "        vertical-align: top;\n",
              "    }\n",
              "\n",
              "    .dataframe thead th {\n",
              "        text-align: right;\n",
              "    }\n",
              "</style>\n",
              "<table border=\"1\" class=\"dataframe\">\n",
              "  <thead>\n",
              "    <tr style=\"text-align: right;\">\n",
              "      <th></th>\n",
              "      <th>text</th>\n",
              "    </tr>\n",
              "  </thead>\n",
              "  <tbody>\n",
              "    <tr>\n",
              "      <th>0</th>\n",
              "      <td>text worlds virtual environments embodied agen...</td>\n",
              "    </tr>\n",
              "    <tr>\n",
              "      <th>1</th>\n",
              "      <td>prototype system playing minimal improvisation...</td>\n",
              "    </tr>\n",
              "    <tr>\n",
              "      <th>2</th>\n",
              "      <td>characters npcs significantly enhance player e...</td>\n",
              "    </tr>\n",
              "    <tr>\n",
              "      <th>3</th>\n",
              "      <td>interactive question answering iqa requires in...</td>\n",
              "    </tr>\n",
              "    <tr>\n",
              "      <th>4</th>\n",
              "      <td>purpose extended abstract discuss possible fru...</td>\n",
              "    </tr>\n",
              "    <tr>\n",
              "      <th>...</th>\n",
              "      <td>...</td>\n",
              "    </tr>\n",
              "    <tr>\n",
              "      <th>33806</th>\n",
              "      <td>paper deals problem representing useful form w...</td>\n",
              "    </tr>\n",
              "    <tr>\n",
              "      <th>33807</th>\n",
              "      <td>becomes evident successful pragmatics automati...</td>\n",
              "    </tr>\n",
              "    <tr>\n",
              "      <th>33808</th>\n",
              "      <td>establishing grammatical description language ...</td>\n",
              "    </tr>\n",
              "    <tr>\n",
              "      <th>33809</th>\n",
              "      <td>grammar based upon conventional morphemic anal...</td>\n",
              "    </tr>\n",
              "    <tr>\n",
              "      <th>33810</th>\n",
              "      <td>used think output translation machine would st...</td>\n",
              "    </tr>\n",
              "  </tbody>\n",
              "</table>\n",
              "<p>33811 rows × 1 columns</p>\n",
              "</div>\n",
              "      <button class=\"colab-df-convert\" onclick=\"convertToInteractive('df-80546f8d-960d-42d9-a0a4-7d84f89eb969')\"\n",
              "              title=\"Convert this dataframe to an interactive table.\"\n",
              "              style=\"display:none;\">\n",
              "        \n",
              "  <svg xmlns=\"http://www.w3.org/2000/svg\" height=\"24px\"viewBox=\"0 0 24 24\"\n",
              "       width=\"24px\">\n",
              "    <path d=\"M0 0h24v24H0V0z\" fill=\"none\"/>\n",
              "    <path d=\"M18.56 5.44l.94 2.06.94-2.06 2.06-.94-2.06-.94-.94-2.06-.94 2.06-2.06.94zm-11 1L8.5 8.5l.94-2.06 2.06-.94-2.06-.94L8.5 2.5l-.94 2.06-2.06.94zm10 10l.94 2.06.94-2.06 2.06-.94-2.06-.94-.94-2.06-.94 2.06-2.06.94z\"/><path d=\"M17.41 7.96l-1.37-1.37c-.4-.4-.92-.59-1.43-.59-.52 0-1.04.2-1.43.59L10.3 9.45l-7.72 7.72c-.78.78-.78 2.05 0 2.83L4 21.41c.39.39.9.59 1.41.59.51 0 1.02-.2 1.41-.59l7.78-7.78 2.81-2.81c.8-.78.8-2.07 0-2.86zM5.41 20L4 18.59l7.72-7.72 1.47 1.35L5.41 20z\"/>\n",
              "  </svg>\n",
              "      </button>\n",
              "      \n",
              "  <style>\n",
              "    .colab-df-container {\n",
              "      display:flex;\n",
              "      flex-wrap:wrap;\n",
              "      gap: 12px;\n",
              "    }\n",
              "\n",
              "    .colab-df-convert {\n",
              "      background-color: #E8F0FE;\n",
              "      border: none;\n",
              "      border-radius: 50%;\n",
              "      cursor: pointer;\n",
              "      display: none;\n",
              "      fill: #1967D2;\n",
              "      height: 32px;\n",
              "      padding: 0 0 0 0;\n",
              "      width: 32px;\n",
              "    }\n",
              "\n",
              "    .colab-df-convert:hover {\n",
              "      background-color: #E2EBFA;\n",
              "      box-shadow: 0px 1px 2px rgba(60, 64, 67, 0.3), 0px 1px 3px 1px rgba(60, 64, 67, 0.15);\n",
              "      fill: #174EA6;\n",
              "    }\n",
              "\n",
              "    [theme=dark] .colab-df-convert {\n",
              "      background-color: #3B4455;\n",
              "      fill: #D2E3FC;\n",
              "    }\n",
              "\n",
              "    [theme=dark] .colab-df-convert:hover {\n",
              "      background-color: #434B5C;\n",
              "      box-shadow: 0px 1px 3px 1px rgba(0, 0, 0, 0.15);\n",
              "      filter: drop-shadow(0px 1px 2px rgba(0, 0, 0, 0.3));\n",
              "      fill: #FFFFFF;\n",
              "    }\n",
              "  </style>\n",
              "\n",
              "      <script>\n",
              "        const buttonEl =\n",
              "          document.querySelector('#df-80546f8d-960d-42d9-a0a4-7d84f89eb969 button.colab-df-convert');\n",
              "        buttonEl.style.display =\n",
              "          google.colab.kernel.accessAllowed ? 'block' : 'none';\n",
              "\n",
              "        async function convertToInteractive(key) {\n",
              "          const element = document.querySelector('#df-80546f8d-960d-42d9-a0a4-7d84f89eb969');\n",
              "          const dataTable =\n",
              "            await google.colab.kernel.invokeFunction('convertToInteractive',\n",
              "                                                     [key], {});\n",
              "          if (!dataTable) return;\n",
              "\n",
              "          const docLinkHtml = 'Like what you see? Visit the ' +\n",
              "            '<a target=\"_blank\" href=https://colab.research.google.com/notebooks/data_table.ipynb>data table notebook</a>'\n",
              "            + ' to learn more about interactive tables.';\n",
              "          element.innerHTML = '';\n",
              "          dataTable['output_type'] = 'display_data';\n",
              "          await google.colab.output.renderOutput(dataTable, element);\n",
              "          const docLink = document.createElement('div');\n",
              "          docLink.innerHTML = docLinkHtml;\n",
              "          element.appendChild(docLink);\n",
              "        }\n",
              "      </script>\n",
              "    </div>\n",
              "  </div>\n",
              "  "
            ]
          },
          "metadata": {},
          "execution_count": 14
        }
      ]
    },
    {
      "cell_type": "code",
      "source": [
        "results = []\n",
        "\n",
        "for text_i in papers_text_df.text:\n",
        "\n",
        "  # transform held_out_text into the bag-of-words space\n",
        "  bow_vector = dictionary.doc2bow(word_tokenize(str(text_i)))\n",
        "  lda_vector_i = ldamodel[bow_vector]\n",
        "\n",
        "  # converting to dict\n",
        "  result = dict(lda_vector_i)\n",
        "  results.append(result)\n",
        "\n",
        "topics_dis = pd.DataFrame(results)\n",
        "topics_dis['year'] = papers.YEAR \n",
        "topics_dis = topics_dis.melt(id_vars = 'year', var_name='topic', value_name='prob')\n",
        "topics_dis"
      ],
      "metadata": {
        "colab": {
          "base_uri": "https://localhost:8080/",
          "height": 423
        },
        "id": "IfpjfVySim2X",
        "outputId": "f4736689-6897-4c2e-9fd4-788049c394a6"
      },
      "execution_count": 15,
      "outputs": [
        {
          "output_type": "execute_result",
          "data": {
            "text/plain": [
              "        year topic      prob\n",
              "0       2022     0  0.015069\n",
              "1       2022     0       NaN\n",
              "2       2022     0  0.014138\n",
              "3       2022     0       NaN\n",
              "4       2022     0       NaN\n",
              "...      ...   ...       ...\n",
              "338105  1963     7       NaN\n",
              "338106  1963     7  0.198032\n",
              "338107  1963     7  0.062229\n",
              "338108  1963     7  0.054126\n",
              "338109  1963     7  0.068615\n",
              "\n",
              "[338110 rows x 3 columns]"
            ],
            "text/html": [
              "\n",
              "  <div id=\"df-d677fd0a-d947-4f7d-aede-6b1e7619dd15\">\n",
              "    <div class=\"colab-df-container\">\n",
              "      <div>\n",
              "<style scoped>\n",
              "    .dataframe tbody tr th:only-of-type {\n",
              "        vertical-align: middle;\n",
              "    }\n",
              "\n",
              "    .dataframe tbody tr th {\n",
              "        vertical-align: top;\n",
              "    }\n",
              "\n",
              "    .dataframe thead th {\n",
              "        text-align: right;\n",
              "    }\n",
              "</style>\n",
              "<table border=\"1\" class=\"dataframe\">\n",
              "  <thead>\n",
              "    <tr style=\"text-align: right;\">\n",
              "      <th></th>\n",
              "      <th>year</th>\n",
              "      <th>topic</th>\n",
              "      <th>prob</th>\n",
              "    </tr>\n",
              "  </thead>\n",
              "  <tbody>\n",
              "    <tr>\n",
              "      <th>0</th>\n",
              "      <td>2022</td>\n",
              "      <td>0</td>\n",
              "      <td>0.015069</td>\n",
              "    </tr>\n",
              "    <tr>\n",
              "      <th>1</th>\n",
              "      <td>2022</td>\n",
              "      <td>0</td>\n",
              "      <td>NaN</td>\n",
              "    </tr>\n",
              "    <tr>\n",
              "      <th>2</th>\n",
              "      <td>2022</td>\n",
              "      <td>0</td>\n",
              "      <td>0.014138</td>\n",
              "    </tr>\n",
              "    <tr>\n",
              "      <th>3</th>\n",
              "      <td>2022</td>\n",
              "      <td>0</td>\n",
              "      <td>NaN</td>\n",
              "    </tr>\n",
              "    <tr>\n",
              "      <th>4</th>\n",
              "      <td>2022</td>\n",
              "      <td>0</td>\n",
              "      <td>NaN</td>\n",
              "    </tr>\n",
              "    <tr>\n",
              "      <th>...</th>\n",
              "      <td>...</td>\n",
              "      <td>...</td>\n",
              "      <td>...</td>\n",
              "    </tr>\n",
              "    <tr>\n",
              "      <th>338105</th>\n",
              "      <td>1963</td>\n",
              "      <td>7</td>\n",
              "      <td>NaN</td>\n",
              "    </tr>\n",
              "    <tr>\n",
              "      <th>338106</th>\n",
              "      <td>1963</td>\n",
              "      <td>7</td>\n",
              "      <td>0.198032</td>\n",
              "    </tr>\n",
              "    <tr>\n",
              "      <th>338107</th>\n",
              "      <td>1963</td>\n",
              "      <td>7</td>\n",
              "      <td>0.062229</td>\n",
              "    </tr>\n",
              "    <tr>\n",
              "      <th>338108</th>\n",
              "      <td>1963</td>\n",
              "      <td>7</td>\n",
              "      <td>0.054126</td>\n",
              "    </tr>\n",
              "    <tr>\n",
              "      <th>338109</th>\n",
              "      <td>1963</td>\n",
              "      <td>7</td>\n",
              "      <td>0.068615</td>\n",
              "    </tr>\n",
              "  </tbody>\n",
              "</table>\n",
              "<p>338110 rows × 3 columns</p>\n",
              "</div>\n",
              "      <button class=\"colab-df-convert\" onclick=\"convertToInteractive('df-d677fd0a-d947-4f7d-aede-6b1e7619dd15')\"\n",
              "              title=\"Convert this dataframe to an interactive table.\"\n",
              "              style=\"display:none;\">\n",
              "        \n",
              "  <svg xmlns=\"http://www.w3.org/2000/svg\" height=\"24px\"viewBox=\"0 0 24 24\"\n",
              "       width=\"24px\">\n",
              "    <path d=\"M0 0h24v24H0V0z\" fill=\"none\"/>\n",
              "    <path d=\"M18.56 5.44l.94 2.06.94-2.06 2.06-.94-2.06-.94-.94-2.06-.94 2.06-2.06.94zm-11 1L8.5 8.5l.94-2.06 2.06-.94-2.06-.94L8.5 2.5l-.94 2.06-2.06.94zm10 10l.94 2.06.94-2.06 2.06-.94-2.06-.94-.94-2.06-.94 2.06-2.06.94z\"/><path d=\"M17.41 7.96l-1.37-1.37c-.4-.4-.92-.59-1.43-.59-.52 0-1.04.2-1.43.59L10.3 9.45l-7.72 7.72c-.78.78-.78 2.05 0 2.83L4 21.41c.39.39.9.59 1.41.59.51 0 1.02-.2 1.41-.59l7.78-7.78 2.81-2.81c.8-.78.8-2.07 0-2.86zM5.41 20L4 18.59l7.72-7.72 1.47 1.35L5.41 20z\"/>\n",
              "  </svg>\n",
              "      </button>\n",
              "      \n",
              "  <style>\n",
              "    .colab-df-container {\n",
              "      display:flex;\n",
              "      flex-wrap:wrap;\n",
              "      gap: 12px;\n",
              "    }\n",
              "\n",
              "    .colab-df-convert {\n",
              "      background-color: #E8F0FE;\n",
              "      border: none;\n",
              "      border-radius: 50%;\n",
              "      cursor: pointer;\n",
              "      display: none;\n",
              "      fill: #1967D2;\n",
              "      height: 32px;\n",
              "      padding: 0 0 0 0;\n",
              "      width: 32px;\n",
              "    }\n",
              "\n",
              "    .colab-df-convert:hover {\n",
              "      background-color: #E2EBFA;\n",
              "      box-shadow: 0px 1px 2px rgba(60, 64, 67, 0.3), 0px 1px 3px 1px rgba(60, 64, 67, 0.15);\n",
              "      fill: #174EA6;\n",
              "    }\n",
              "\n",
              "    [theme=dark] .colab-df-convert {\n",
              "      background-color: #3B4455;\n",
              "      fill: #D2E3FC;\n",
              "    }\n",
              "\n",
              "    [theme=dark] .colab-df-convert:hover {\n",
              "      background-color: #434B5C;\n",
              "      box-shadow: 0px 1px 3px 1px rgba(0, 0, 0, 0.15);\n",
              "      filter: drop-shadow(0px 1px 2px rgba(0, 0, 0, 0.3));\n",
              "      fill: #FFFFFF;\n",
              "    }\n",
              "  </style>\n",
              "\n",
              "      <script>\n",
              "        const buttonEl =\n",
              "          document.querySelector('#df-d677fd0a-d947-4f7d-aede-6b1e7619dd15 button.colab-df-convert');\n",
              "        buttonEl.style.display =\n",
              "          google.colab.kernel.accessAllowed ? 'block' : 'none';\n",
              "\n",
              "        async function convertToInteractive(key) {\n",
              "          const element = document.querySelector('#df-d677fd0a-d947-4f7d-aede-6b1e7619dd15');\n",
              "          const dataTable =\n",
              "            await google.colab.kernel.invokeFunction('convertToInteractive',\n",
              "                                                     [key], {});\n",
              "          if (!dataTable) return;\n",
              "\n",
              "          const docLinkHtml = 'Like what you see? Visit the ' +\n",
              "            '<a target=\"_blank\" href=https://colab.research.google.com/notebooks/data_table.ipynb>data table notebook</a>'\n",
              "            + ' to learn more about interactive tables.';\n",
              "          element.innerHTML = '';\n",
              "          dataTable['output_type'] = 'display_data';\n",
              "          await google.colab.output.renderOutput(dataTable, element);\n",
              "          const docLink = document.createElement('div');\n",
              "          docLink.innerHTML = docLinkHtml;\n",
              "          element.appendChild(docLink);\n",
              "        }\n",
              "      </script>\n",
              "    </div>\n",
              "  </div>\n",
              "  "
            ]
          },
          "metadata": {},
          "execution_count": 15
        }
      ]
    },
    {
      "cell_type": "code",
      "source": [
        "topics_dis_agg = topics_dis.groupby(['year', 'topic' ], as_index= False).agg(\n",
        "    {'prob' : ['mean', 'median', 'std', 'count'] }\n",
        "     )\n",
        "\n",
        "topics_dis_agg.column = ['year', 'topic' , 'prob_mean', 'prob_median', 'std', 'count' ]\n",
        "topics_dis_agg = topics_dis_agg.reset_index()\n",
        "topics_dis_agg.columns"
      ],
      "metadata": {
        "colab": {
          "base_uri": "https://localhost:8080/"
        },
        "id": "_2BFMHZ7rNYG",
        "outputId": "63fd22b0-ef24-47f4-c902-3747314d9335"
      },
      "execution_count": 18,
      "outputs": [
        {
          "output_type": "execute_result",
          "data": {
            "text/plain": [
              "MultiIndex([('index',       ''),\n",
              "            ( 'year',       ''),\n",
              "            ('topic',       ''),\n",
              "            ( 'prob',   'mean'),\n",
              "            ( 'prob', 'median'),\n",
              "            ( 'prob',    'std'),\n",
              "            ( 'prob',  'count')],\n",
              "           )"
            ]
          },
          "metadata": {},
          "execution_count": 18
        }
      ]
    },
    {
      "cell_type": "code",
      "source": [
        "fig = plt.figure(figsize=(20, 6), dpi=80)\n",
        "ax = fig.add_subplot(1, 1, 1)\n",
        "\n",
        "plt.ylabel(\"year\", fontsize=11)\n",
        "plt.xticks(rotation=25)  # Rotates X-Axis Ticks by 45-degrees\n",
        "# plt.xlabel('Days')\n",
        "\n",
        "# displaying the title\n",
        "plt.title(\n",
        "    \"Topic distribution by year\", fontsize=16, fontweight=\"bold\", pad=20\n",
        ")\n",
        "for i in topics_dis_agg.topic.unique():\n",
        "    ax.plot(\n",
        "        topics_dis_agg[topics_dis_agg[\"topic\"] == i][\"year\"],\n",
        "        topics_dis_agg[topics_dis_agg[\"topic\"] == i][\"prob\", \"median\"],\n",
        "        label=(i),\n",
        "        # color=\"green\",\n",
        "        # color=\"#e41a1c\",\n",
        "        alpha=0.5,\n",
        "    )\n",
        "\n",
        "ax.legend()\n",
        "plt.show()"
      ],
      "metadata": {
        "id": "G53s4LRLpqvj",
        "outputId": "a39c53d1-a619-4bea-8a1d-283a1e3c9081",
        "colab": {
          "base_uri": "https://localhost:8080/",
          "height": 460
        }
      },
      "execution_count": 21,
      "outputs": [
        {
          "output_type": "display_data",
          "data": {
            "text/plain": [
              "<Figure size 1600x480 with 1 Axes>"
            ],
            "image/png": "[encoded data removed]"
          },
          "metadata": {
            "needs_background": "light"
          }
        }
      ]
    },
    {
      "cell_type": "code",
      "source": [
        "topics_dis_agg.to_csv('topic_distribution_year.csv', index = False)"
      ],
      "metadata": {
        "id": "dCw-vo6NrD4E"
      },
      "execution_count": null,
      "outputs": []
    },
    {
      "cell_type": "markdown",
      "source": [
        "# Comparacion LDA y LSA"
      ],
      "metadata": {
        "id": "3vO_h8eTmnlV"
      }
    },
    {
      "cell_type": "code",
      "metadata": {
        "id": "4gpsFpeM21BH"
      },
      "source": [
        "# palabras mas frecuentes para cada topico\n",
        "lsatopics  = [[word for word, prob in topic] for topicid, topic in lsamodel.show_topics(10,formatted=False)]\n",
        "ldatopics = [[word for word, prob in topic] for topicid, topic in ldamodel.show_topics(10,formatted=False)]"
      ],
      "execution_count": null,
      "outputs": []
    },
    {
      "cell_type": "code",
      "source": [
        "ldatopics[0]"
      ],
      "metadata": {
        "colab": {
          "base_uri": "https://localhost:8080/"
        },
        "id": "6PzNfDlj6FcU",
        "outputId": "4a05da4a-a8e4-4b61-fb04-af384f7cbee2"
      },
      "execution_count": null,
      "outputs": [
        {
          "output_type": "execute_result",
          "data": {
            "text/plain": [
              "['task',\n",
              " 'classification',\n",
              " 'social',\n",
              " 'text',\n",
              " 'extraction',\n",
              " 'news',\n",
              " 'media',\n",
              " 'information',\n",
              " 'event',\n",
              " 'events']"
            ]
          },
          "metadata": {},
          "execution_count": 176
        }
      ]
    },
    {
      "cell_type": "code",
      "metadata": {
        "id": "Ni9GdVOZ21BK"
      },
      "source": [
        "# with only train papers (sample)\n",
        "lsa_coherence = CoherenceModel(topics=lsatopics, texts=texts, dictionary=dictionary, window_size=30,coherence='c_npmi',topn=5).get_coherence_per_topic()\n",
        "lda_coherence = CoherenceModel(topics=ldatopics, texts=texts, dictionary=dictionary, window_size=30,coherence='c_npmi',topn=5).get_coherence_per_topic()\n",
        "\n",
        "# with all papers\n",
        "# lsa_coherence = CoherenceModel(topics=lsatopics, texts=papers_text, dictionary=dictionary, window_size=30,coherence='c_npmi',topn=5).get_coherence_per_topic()\n",
        "# lda_coherence = CoherenceModel(topics=ldatopics, texts=papers_text, dictionary=dictionary, window_size=30,coherence='c_npmi',topn=5).get_coherence_per_topic()"
      ],
      "execution_count": null,
      "outputs": []
    },
    {
      "cell_type": "code",
      "metadata": {
        "id": "mzWg3JKK21BM",
        "colab": {
          "base_uri": "https://localhost:8080/",
          "height": 275
        },
        "outputId": "4dd3d7ec-5cc5-4b69-b2e1-8e2684293639"
      },
      "source": [
        "df_lda = pd.DataFrame([range(10),lda_coherence,ldatopics],index=['topic_id','coherence','topic']).transpose()\n",
        "df_lsa = pd.DataFrame([range(10),lsa_coherence,lsatopics],index=['topic_id','coherence','topic']).transpose()\n",
        "pd.Series({'LSA':np.mean(lsa_coherence),'LDA':np.mean(lda_coherence)}).plot.bar();"
      ],
      "execution_count": null,
      "outputs": [
        {
          "output_type": "display_data",
          "data": {
            "text/plain": [
              "<Figure size 432x288 with 1 Axes>"
            ],
            "image/png": "[encoded data removed]"
          },
          "metadata": {
            "needs_background": "light"
          }
        }
      ]
    },
    {
      "cell_type": "code",
      "metadata": {
        "id": "aq1ChgAcVF2e",
        "colab": {
          "base_uri": "https://localhost:8080/",
          "height": 363
        },
        "outputId": "9dd5015b-f86a-46d5-899a-62f1d3af11a7"
      },
      "source": [
        "df_lda.sort_values(by='coherence',ascending=False)"
      ],
      "execution_count": null,
      "outputs": [
        {
          "output_type": "execute_result",
          "data": {
            "text/plain": [
              "  topic_id coherence                                              topic\n",
              "1        1  0.555057  [de, des, la, les, et, transformer, le, un, en...\n",
              "4        4  0.184648  [translation, machine, evaluation, systems, qu...\n",
              "6        6  0.095622  [semantic, word, words, information, relations...\n",
              "3        3  0.084426  [dialogue, speech, user, human, users, system,...\n",
              "0        0  0.071822  [task, classification, social, text, extractio...\n",
              "7        7  0.059421  [bias, evidence, wikipedia, recurrent, claims,...\n",
              "8        8  0.056829  [models, model, language, data, tasks, learnin...\n",
              "5        5  0.041655  [language, corpus, data, annotation, research,...\n",
              "2        2  0.014946  [task, system, paper, results, languages, usin...\n",
              "9        9 -0.242661  [privacy, signals, extractive, prompts, legal,..."
            ],
            "text/html": [
              "\n",
              "  <div id=\"df-93fd93ce-f3a2-447b-b05e-ae022acf643f\">\n",
              "    <div class=\"colab-df-container\">\n",
              "      <div>\n",
              "<style scoped>\n",
              "    .dataframe tbody tr th:only-of-type {\n",
              "        vertical-align: middle;\n",
              "    }\n",
              "\n",
              "    .dataframe tbody tr th {\n",
              "        vertical-align: top;\n",
              "    }\n",
              "\n",
              "    .dataframe thead th {\n",
              "        text-align: right;\n",
              "    }\n",
              "</style>\n",
              "<table border=\"1\" class=\"dataframe\">\n",
              "  <thead>\n",
              "    <tr style=\"text-align: right;\">\n",
              "      <th></th>\n",
              "      <th>topic_id</th>\n",
              "      <th>coherence</th>\n",
              "      <th>topic</th>\n",
              "    </tr>\n",
              "  </thead>\n",
              "  <tbody>\n",
              "    <tr>\n",
              "      <th>1</th>\n",
              "      <td>1</td>\n",
              "      <td>0.555057</td>\n",
              "      <td>[de, des, la, les, et, transformer, le, un, en...</td>\n",
              "    </tr>\n",
              "    <tr>\n",
              "      <th>4</th>\n",
              "      <td>4</td>\n",
              "      <td>0.184648</td>\n",
              "      <td>[translation, machine, evaluation, systems, qu...</td>\n",
              "    </tr>\n",
              "    <tr>\n",
              "      <th>6</th>\n",
              "      <td>6</td>\n",
              "      <td>0.095622</td>\n",
              "      <td>[semantic, word, words, information, relations...</td>\n",
              "    </tr>\n",
              "    <tr>\n",
              "      <th>3</th>\n",
              "      <td>3</td>\n",
              "      <td>0.084426</td>\n",
              "      <td>[dialogue, speech, user, human, users, system,...</td>\n",
              "    </tr>\n",
              "    <tr>\n",
              "      <th>0</th>\n",
              "      <td>0</td>\n",
              "      <td>0.071822</td>\n",
              "      <td>[task, classification, social, text, extractio...</td>\n",
              "    </tr>\n",
              "    <tr>\n",
              "      <th>7</th>\n",
              "      <td>7</td>\n",
              "      <td>0.059421</td>\n",
              "      <td>[bias, evidence, wikipedia, recurrent, claims,...</td>\n",
              "    </tr>\n",
              "    <tr>\n",
              "      <th>8</th>\n",
              "      <td>8</td>\n",
              "      <td>0.056829</td>\n",
              "      <td>[models, model, language, data, tasks, learnin...</td>\n",
              "    </tr>\n",
              "    <tr>\n",
              "      <th>5</th>\n",
              "      <td>5</td>\n",
              "      <td>0.041655</td>\n",
              "      <td>[language, corpus, data, annotation, research,...</td>\n",
              "    </tr>\n",
              "    <tr>\n",
              "      <th>2</th>\n",
              "      <td>2</td>\n",
              "      <td>0.014946</td>\n",
              "      <td>[task, system, paper, results, languages, usin...</td>\n",
              "    </tr>\n",
              "    <tr>\n",
              "      <th>9</th>\n",
              "      <td>9</td>\n",
              "      <td>-0.242661</td>\n",
              "      <td>[privacy, signals, extractive, prompts, legal,...</td>\n",
              "    </tr>\n",
              "  </tbody>\n",
              "</table>\n",
              "</div>\n",
              "      <button class=\"colab-df-convert\" onclick=\"convertToInteractive('df-93fd93ce-f3a2-447b-b05e-ae022acf643f')\"\n",
              "              title=\"Convert this dataframe to an interactive table.\"\n",
              "              style=\"display:none;\">\n",
              "        \n",
              "  <svg xmlns=\"http://www.w3.org/2000/svg\" height=\"24px\"viewBox=\"0 0 24 24\"\n",
              "       width=\"24px\">\n",
              "    <path d=\"M0 0h24v24H0V0z\" fill=\"none\"/>\n",
              "    <path d=\"M18.56 5.44l.94 2.06.94-2.06 2.06-.94-2.06-.94-.94-2.06-.94 2.06-2.06.94zm-11 1L8.5 8.5l.94-2.06 2.06-.94-2.06-.94L8.5 2.5l-.94 2.06-2.06.94zm10 10l.94 2.06.94-2.06 2.06-.94-2.06-.94-.94-2.06-.94 2.06-2.06.94z\"/><path d=\"M17.41 7.96l-1.37-1.37c-.4-.4-.92-.59-1.43-.59-.52 0-1.04.2-1.43.59L10.3 9.45l-7.72 7.72c-.78.78-.78 2.05 0 2.83L4 21.41c.39.39.9.59 1.41.59.51 0 1.02-.2 1.41-.59l7.78-7.78 2.81-2.81c.8-.78.8-2.07 0-2.86zM5.41 20L4 18.59l7.72-7.72 1.47 1.35L5.41 20z\"/>\n",
              "  </svg>\n",
              "      </button>\n",
              "      \n",
              "  <style>\n",
              "    .colab-df-container {\n",
              "      display:flex;\n",
              "      flex-wrap:wrap;\n",
              "      gap: 12px;\n",
              "    }\n",
              "\n",
              "    .colab-df-convert {\n",
              "      background-color: #E8F0FE;\n",
              "      border: none;\n",
              "      border-radius: 50%;\n",
              "      cursor: pointer;\n",
              "      display: none;\n",
              "      fill: #1967D2;\n",
              "      height: 32px;\n",
              "      padding: 0 0 0 0;\n",
              "      width: 32px;\n",
              "    }\n",
              "\n",
              "    .colab-df-convert:hover {\n",
              "      background-color: #E2EBFA;\n",
              "      box-shadow: 0px 1px 2px rgba(60, 64, 67, 0.3), 0px 1px 3px 1px rgba(60, 64, 67, 0.15);\n",
              "      fill: #174EA6;\n",
              "    }\n",
              "\n",
              "    [theme=dark] .colab-df-convert {\n",
              "      background-color: #3B4455;\n",
              "      fill: #D2E3FC;\n",
              "    }\n",
              "\n",
              "    [theme=dark] .colab-df-convert:hover {\n",
              "      background-color: #434B5C;\n",
              "      box-shadow: 0px 1px 3px 1px rgba(0, 0, 0, 0.15);\n",
              "      filter: drop-shadow(0px 1px 2px rgba(0, 0, 0, 0.3));\n",
              "      fill: #FFFFFF;\n",
              "    }\n",
              "  </style>\n",
              "\n",
              "      <script>\n",
              "        const buttonEl =\n",
              "          document.querySelector('#df-93fd93ce-f3a2-447b-b05e-ae022acf643f button.colab-df-convert');\n",
              "        buttonEl.style.display =\n",
              "          google.colab.kernel.accessAllowed ? 'block' : 'none';\n",
              "\n",
              "        async function convertToInteractive(key) {\n",
              "          const element = document.querySelector('#df-93fd93ce-f3a2-447b-b05e-ae022acf643f');\n",
              "          const dataTable =\n",
              "            await google.colab.kernel.invokeFunction('convertToInteractive',\n",
              "                                                     [key], {});\n",
              "          if (!dataTable) return;\n",
              "\n",
              "          const docLinkHtml = 'Like what you see? Visit the ' +\n",
              "            '<a target=\"_blank\" href=https://colab.research.google.com/notebooks/data_table.ipynb>data table notebook</a>'\n",
              "            + ' to learn more about interactive tables.';\n",
              "          element.innerHTML = '';\n",
              "          dataTable['output_type'] = 'display_data';\n",
              "          await google.colab.output.renderOutput(dataTable, element);\n",
              "          const docLink = document.createElement('div');\n",
              "          docLink.innerHTML = docLinkHtml;\n",
              "          element.appendChild(docLink);\n",
              "        }\n",
              "      </script>\n",
              "    </div>\n",
              "  </div>\n",
              "  "
            ]
          },
          "metadata": {},
          "execution_count": 184
        }
      ]
    },
    {
      "cell_type": "code",
      "source": [],
      "metadata": {
        "id": "mQqqpWE_YobL"
      },
      "execution_count": null,
      "outputs": []
    }
  ]
}