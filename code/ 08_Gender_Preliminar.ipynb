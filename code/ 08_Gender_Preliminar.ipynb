{
 "cells": [
  {
   "cell_type": "code",
   "execution_count": 66,
   "metadata": {
    "colab": {
     "base_uri": "https://localhost:8080/"
    },
    "executionInfo": {
     "elapsed": 1542,
     "status": "ok",
     "timestamp": 1665432954679,
     "user": {
      "displayName": "Clara Trinco",
      "userId": "07775861695630223845"
     },
     "user_tz": 180
    },
    "id": "3kpmC6Rm_m3B",
    "outputId": "7e278eac-9169-4bf0-e72c-2328846d462a"
   },
   "outputs": [],
   "source": [
    "# !pip install nltk\n",
    "# nltk.download('punkt')\n",
    "# nltk.download('stopwords')"
   ]
  },
  {
   "cell_type": "code",
   "execution_count": 1,
   "metadata": {
    "executionInfo": {
     "elapsed": 309,
     "status": "ok",
     "timestamp": 1665432956826,
     "user": {
      "displayName": "Clara Trinco",
      "userId": "07775861695630223845"
     },
     "user_tz": 180
    },
    "id": "I9z79By8L9dy"
   },
   "outputs": [],
   "source": [
    "import pandas as pd\n",
    "import numpy as np\n",
    "\n",
    "import requests\n",
    "\n",
    "import re\n",
    "\n",
    "import nltk\n",
    "from nltk import word_tokenize, sent_tokenize\n",
    "from nltk.corpus import stopwords\n",
    "\n",
    "from sklearn.feature_extraction.text import CountVectorizer, TfidfVectorizer\n",
    "\n",
    "\n",
    "#instalamos una libreria de gender guesser https://pypi.org/project/gender-guesser/\n",
    "# !pip install gender_guesser\n",
    "# !pip install xlrd\n",
    "# !pip install openpyxl\n",
    "import gender_guesser.detector as gender\n"
   ]
  },
  {
   "cell_type": "markdown",
   "metadata": {
    "id": "mXpyxS7x_m3H"
   },
   "source": [
    "# Data"
   ]
  },
  {
   "cell_type": "code",
   "execution_count": 68,
   "metadata": {
    "colab": {
     "base_uri": "https://localhost:8080/",
     "height": 327
    },
    "executionInfo": {
     "elapsed": 677,
     "status": "ok",
     "timestamp": 1665257482515,
     "user": {
      "displayName": "Clara Trinco",
      "userId": "07775861695630223845"
     },
     "user_tz": 180
    },
    "id": "Ehp6FKi7_m3K",
    "outputId": "8c312729-052d-4f93-ffae-ed87f91afa80"
   },
   "outputs": [
    {
     "data": {
      "text/html": [
       "<div>\n",
       "<style scoped>\n",
       "    .dataframe tbody tr th:only-of-type {\n",
       "        vertical-align: middle;\n",
       "    }\n",
       "\n",
       "    .dataframe tbody tr th {\n",
       "        vertical-align: top;\n",
       "    }\n",
       "\n",
       "    .dataframe thead th {\n",
       "        text-align: right;\n",
       "    }\n",
       "</style>\n",
       "<table border=\"1\" class=\"dataframe\">\n",
       "  <thead>\n",
       "    <tr style=\"text-align: right;\">\n",
       "      <th></th>\n",
       "      <th>YEAR</th>\n",
       "      <th>TITLE</th>\n",
       "      <th>ABSTRACT</th>\n",
       "      <th>AUTHOR</th>\n",
       "      <th>PUBLISHER</th>\n",
       "      <th>BOOKTITLE</th>\n",
       "      <th>CATEGORY</th>\n",
       "    </tr>\n",
       "  </thead>\n",
       "  <tbody>\n",
       "    <tr>\n",
       "      <th>0</th>\n",
       "      <td>2022</td>\n",
       "      <td>A Systematic Survey of Text Worlds as Embodied...</td>\n",
       "      <td>Text Worlds are virtual environments for embod...</td>\n",
       "      <td>Jansen, Peter</td>\n",
       "      <td>Association for Computational Linguistics</td>\n",
       "      <td>Proceedings of the 3rd Wordplay: When Language...</td>\n",
       "      <td>INPROCEEDINGS</td>\n",
       "    </tr>\n",
       "    <tr>\n",
       "      <th>1</th>\n",
       "      <td>2022</td>\n",
       "      <td>A Minimal Computational Improviser Based on Or...</td>\n",
       "      <td>A prototype system for playing a minimal impro...</td>\n",
       "      <td>Montfort, Nick  and</td>\n",
       "      <td>Association for Computational Linguistics</td>\n",
       "      <td>Proceedings of the 3rd Wordplay: When Language...</td>\n",
       "      <td>INPROCEEDINGS</td>\n",
       "    </tr>\n",
       "    <tr>\n",
       "      <th>2</th>\n",
       "      <td>2022</td>\n",
       "      <td>Craft an Iron Sword: Dynamically Generating In...</td>\n",
       "      <td>Non-Player Characters (NPCs) significantly enh...</td>\n",
       "      <td>Volum, Ryan  and</td>\n",
       "      <td>Association for Computational Linguistics</td>\n",
       "      <td>Proceedings of the 3rd Wordplay: When Language...</td>\n",
       "      <td>INPROCEEDINGS</td>\n",
       "    </tr>\n",
       "  </tbody>\n",
       "</table>\n",
       "</div>"
      ],
      "text/plain": [
       "   YEAR                                              TITLE  \\\n",
       "0  2022  A Systematic Survey of Text Worlds as Embodied...   \n",
       "1  2022  A Minimal Computational Improviser Based on Or...   \n",
       "2  2022  Craft an Iron Sword: Dynamically Generating In...   \n",
       "\n",
       "                                            ABSTRACT               AUTHOR  \\\n",
       "0  Text Worlds are virtual environments for embod...        Jansen, Peter   \n",
       "1  A prototype system for playing a minimal impro...  Montfort, Nick  and   \n",
       "2  Non-Player Characters (NPCs) significantly enh...     Volum, Ryan  and   \n",
       "\n",
       "                                   PUBLISHER  \\\n",
       "0  Association for Computational Linguistics   \n",
       "1  Association for Computational Linguistics   \n",
       "2  Association for Computational Linguistics   \n",
       "\n",
       "                                           BOOKTITLE       CATEGORY  \n",
       "0  Proceedings of the 3rd Wordplay: When Language...  INPROCEEDINGS  \n",
       "1  Proceedings of the 3rd Wordplay: When Language...  INPROCEEDINGS  \n",
       "2  Proceedings of the 3rd Wordplay: When Language...  INPROCEEDINGS  "
      ]
     },
     "execution_count": 68,
     "metadata": {},
     "output_type": "execute_result"
    }
   ],
   "source": [
    "# data = pd.read_csv('/content/ACL_data.csv')\n",
    "data = pd.read_csv(\"https://raw.githubusercontent.com/mateosuster/nlpPapers/main/code/data/ACL_data_without_nulls.csv\")\n",
    "data.head(3)"
   ]
  },
  {
   "cell_type": "code",
   "execution_count": 69,
   "metadata": {
    "colab": {
     "base_uri": "https://localhost:8080/"
    },
    "executionInfo": {
     "elapsed": 643,
     "status": "ok",
     "timestamp": 1665257487456,
     "user": {
      "displayName": "Clara Trinco",
      "userId": "07775861695630223845"
     },
     "user_tz": 180
    },
    "id": "AS9JvRQTbDd4",
    "outputId": "6b0d6cec-7c0a-4bf1-f2c3-0c64a8394562"
   },
   "outputs": [
    {
     "data": {
      "text/plain": [
       "Wu, Chuhan  and                    22\n",
       "Liu, Yang  and                     19\n",
       "Sawhney, Ramit  and                19\n",
       "Grabar, Natalia  and               17\n",
       "Ljube{\\v{s}}i{\\'c}, Nikola  and    17\n",
       "                                   ..\n",
       "Miklashevsky, Alex                  1\n",
       "Kim, Yekyung                        1\n",
       "Huber, Christian  and               1\n",
       "Tittel, Sabine  and                 1\n",
       "Yngve, Victor H.                    1\n",
       "Name: AUTHOR, Length: 19048, dtype: int64"
      ]
     },
     "execution_count": 69,
     "metadata": {},
     "output_type": "execute_result"
    }
   ],
   "source": [
    "# filtro nulos segun columna autor\n",
    "data_original = data.copy() #GUARDO LA DATA ORIGINAL ANTES DE QUITARLE LOS N/A, POR LAS DUDAS, PARA COMPARAR RESULTADOS\n",
    "data = data.dropna(subset = \"AUTHOR\")\n",
    "\n",
    "#XXX/33811 = se perdieron el xx% de los datos.\n",
    "\n",
    "data.AUTHOR.value_counts()  "
   ]
  },
  {
   "cell_type": "code",
   "execution_count": 70,
   "metadata": {
    "colab": {
     "base_uri": "https://localhost:8080/"
    },
    "executionInfo": {
     "elapsed": 242,
     "status": "ok",
     "timestamp": 1665257491975,
     "user": {
      "displayName": "Clara Trinco",
      "userId": "07775861695630223845"
     },
     "user_tz": 180
    },
    "id": "bwj5PG-eSD-7",
    "outputId": "8e6b9c41-ad5e-47e9-d2ea-8b3749023c3f"
   },
   "outputs": [
    {
     "data": {
      "text/plain": [
       "Michael     159\n",
       "David       156\n",
       "Daniel      152\n",
       "John        115\n",
       "Maria       113\n",
       "           ... \n",
       "Benny         1\n",
       "YuYun         1\n",
       "Yoshinao      1\n",
       "Ioanna        1\n",
       "Bertram       1\n",
       "Name: name, Length: 8797, dtype: int64"
      ]
     },
     "execution_count": 70,
     "metadata": {},
     "output_type": "execute_result"
    }
   ],
   "source": [
    "data['name'] = data['AUTHOR']\\\n",
    "     .str.replace(\"[^,A-Za-z\\s]+\", \"\", regex = True) \\\n",
    "    .str.extract('(,\\s[a-zA-Z]+)', expand=False)\\\n",
    "    .str.replace(', ', '')\\\n",
    "    .str.strip()\n",
    "#,\\s[a-zA-Z]+ \n",
    "\n",
    "data['last_name'] = data['AUTHOR'].str.extract('([a-zA-Z]+,)', expand=False).str.strip() # me quedo con el primer nombre\n",
    "data['last_name'] = data['last_name'].str.replace(',', '') # le saco la coma\n",
    "\n",
    "data = data[data.name.str.len() > 1]\n",
    "\n",
    "data.name.value_counts() #8823 unique"
   ]
  },
  {
   "cell_type": "code",
   "execution_count": 71,
   "metadata": {
    "colab": {
     "base_uri": "https://localhost:8080/"
    },
    "executionInfo": {
     "elapsed": 416,
     "status": "ok",
     "timestamp": 1665257497774,
     "user": {
      "displayName": "Clara Trinco",
      "userId": "07775861695630223845"
     },
     "user_tz": 180
    },
    "id": "_tMmD6biTJQN",
    "outputId": "b463d349-1ca6-4181-b940-4791b7135a7a"
   },
   "outputs": [
    {
     "data": {
      "text/plain": [
       "0"
      ]
     },
     "execution_count": 71,
     "metadata": {},
     "output_type": "execute_result"
    }
   ],
   "source": [
    "data.name.isna().sum() #89 \n",
    "#data.info()#28171 del total 32245 hay 100 que no se que son\n"
   ]
  },
  {
   "cell_type": "markdown",
   "metadata": {
    "id": "aIHDb_DRBFes"
   },
   "source": [
    "# GENDER-GUESSER\n",
    "https://pypi.org/project/gender-guesser/"
   ]
  },
  {
   "cell_type": "code",
   "execution_count": 72,
   "metadata": {
    "executionInfo": {
     "elapsed": 676,
     "status": "ok",
     "timestamp": 1665257527427,
     "user": {
      "displayName": "Clara Trinco",
      "userId": "07775861695630223845"
     },
     "user_tz": 180
    },
    "id": "LWQSFU_hasqe"
   },
   "outputs": [
    {
     "data": {
      "text/plain": [
       "male             12858\n",
       "unknown          11154\n",
       "female            5914\n",
       "andy              2509\n",
       "mostly_male        700\n",
       "mostly_female      357\n",
       "Name: gender_g, dtype: int64"
      ]
     },
     "execution_count": 72,
     "metadata": {},
     "output_type": "execute_result"
    }
   ],
   "source": [
    "d = gender.Detector()\n",
    "\n",
    "#aplico sobre todo el dataset\n",
    "data['gender_g'] = data['name'].map(lambda x: d.get_gender(x))\n",
    "data['gender_g'].value_counts()"
   ]
  },
  {
   "cell_type": "code",
   "execution_count": 73,
   "metadata": {
    "colab": {
     "base_uri": "https://localhost:8080/"
    },
    "executionInfo": {
     "elapsed": 273,
     "status": "ok",
     "timestamp": 1665252948020,
     "user": {
      "displayName": "Clara Trinco",
      "userId": "07775861695630223845"
     },
     "user_tz": 180
    },
    "id": "ToUCCIMpn-0W",
    "outputId": "dbd95329-cb6a-47c0-b6dc-bc8c45412f16"
   },
   "outputs": [
    {
     "data": {
      "text/plain": [
       "8797"
      ]
     },
     "execution_count": 73,
     "metadata": {},
     "output_type": "execute_result"
    }
   ],
   "source": [
    "len(data['gender_g']) #32245 total de registros\n",
    "len(data['name'].unique()) #7774 unicos\n",
    "# data['Gender'].isna().sum() "
   ]
  },
  {
   "cell_type": "code",
   "execution_count": 74,
   "metadata": {
    "colab": {
     "base_uri": "https://localhost:8080/"
    },
    "executionInfo": {
     "elapsed": 502,
     "status": "ok",
     "timestamp": 1664802286086,
     "user": {
      "displayName": "Clara Trinco",
      "userId": "07775861695630223845"
     },
     "user_tz": 180
    },
    "id": "YgNIKQJzo8ZB",
    "outputId": "13af7e8d-1739-4348-b5b6-873980596985"
   },
   "outputs": [
    {
     "data": {
      "text/plain": [
       "gender_g\n",
       "andy              304\n",
       "female           1388\n",
       "male             1991\n",
       "mostly_female      92\n",
       "mostly_male       144\n",
       "unknown          4878\n",
       "Name: name, dtype: int64"
      ]
     },
     "execution_count": 74,
     "metadata": {},
     "output_type": "execute_result"
    }
   ],
   "source": [
    "df1 = data.groupby('gender_g')['name'].nunique()\n",
    "df1"
   ]
  },
  {
   "cell_type": "markdown",
   "metadata": {
    "id": "JGqzJaXB-66V",
    "tags": []
   },
   "source": [
    "# GENDERIZE\n",
    "## Tratamiento unknown\n",
    "**TRABAJO SOBRE LOS UNKNOWN y ANDY**\n",
    "**API PARA TOMAR LOS NOMBERS UNKNOWN** "
   ]
  },
  {
   "cell_type": "code",
   "execution_count": 75,
   "metadata": {
    "colab": {
     "base_uri": "https://localhost:8080/"
    },
    "executionInfo": {
     "elapsed": 403,
     "status": "ok",
     "timestamp": 1664754055646,
     "user": {
      "displayName": "Clara Trinco",
      "userId": "07775861695630223845"
     },
     "user_tz": 180
    },
    "id": "6fLZ2HDzpGL4",
    "outputId": "a371f8e7-2d64-47ec-a58d-fc911840102a"
   },
   "outputs": [
    {
     "data": {
      "text/plain": [
       "5182"
      ]
     },
     "execution_count": 75,
     "metadata": {},
     "output_type": "execute_result"
    }
   ],
   "source": [
    "#guardo los unknown para consultarlos via API\n",
    "df_unk = data[(data['gender_g']== 'unknown') | (data['gender_g']== 'andy')]\n",
    "len(df_unk)\n",
    "\n",
    "len(df_unk['name'])\n",
    "len(df_unk['name'].unique())"
   ]
  },
  {
   "cell_type": "code",
   "execution_count": 76,
   "metadata": {
    "colab": {
     "base_uri": "https://localhost:8080/"
    },
    "executionInfo": {
     "elapsed": 511,
     "status": "ok",
     "timestamp": 1664727248303,
     "user": {
      "displayName": "Clara Trinco",
      "userId": "07775861695630223845"
     },
     "user_tz": 180
    },
    "id": "GSTQBWuidnNI",
    "outputId": "f3723742-7c71-4eae-bce5-9be0bf92b6e4"
   },
   "outputs": [
    {
     "data": {
      "text/html": [
       "<div>\n",
       "<style scoped>\n",
       "    .dataframe tbody tr th:only-of-type {\n",
       "        vertical-align: middle;\n",
       "    }\n",
       "\n",
       "    .dataframe tbody tr th {\n",
       "        vertical-align: top;\n",
       "    }\n",
       "\n",
       "    .dataframe thead th {\n",
       "        text-align: right;\n",
       "    }\n",
       "</style>\n",
       "<table border=\"1\" class=\"dataframe\">\n",
       "  <thead>\n",
       "    <tr style=\"text-align: right;\">\n",
       "      <th></th>\n",
       "      <th>0</th>\n",
       "    </tr>\n",
       "  </thead>\n",
       "  <tbody>\n",
       "    <tr>\n",
       "      <th>0</th>\n",
       "      <td>Shuzhou</td>\n",
       "    </tr>\n",
       "    <tr>\n",
       "      <th>1</th>\n",
       "      <td>Siddhartha</td>\n",
       "    </tr>\n",
       "    <tr>\n",
       "      <th>2</th>\n",
       "      <td>Awantee</td>\n",
       "    </tr>\n",
       "  </tbody>\n",
       "</table>\n",
       "</div>"
      ],
      "text/plain": [
       "            0\n",
       "0     Shuzhou\n",
       "1  Siddhartha\n",
       "2     Awantee"
      ]
     },
     "execution_count": 76,
     "metadata": {},
     "output_type": "execute_result"
    }
   ],
   "source": [
    "#guardo los unknown en un dataset separado\n",
    "unk_names = pd.DataFrame(df_unk['name'].unique())\n",
    "# df_unk.to_csv(\"names_unk.csv\")\n",
    "\n",
    "unk_names.head(3)"
   ]
  },
  {
   "cell_type": "markdown",
   "metadata": {
    "id": "t5W76OKnXZ9J"
   },
   "source": [
    "Llamamos a una API para ver los nombres que nos faltan\n",
    "\n",
    "*   con nombres unknown\n",
    "*   y andy\n",
    "\n"
   ]
  },
  {
   "cell_type": "code",
   "execution_count": null,
   "metadata": {
    "executionInfo": {
     "elapsed": 241,
     "status": "ok",
     "timestamp": 1665256122849,
     "user": {
      "displayName": "Clara Trinco",
      "userId": "07775861695630223845"
     },
     "user_tz": 180
    },
    "id": "KlMnsg-4XfRh"
   },
   "outputs": [],
   "source": []
  },
  {
   "cell_type": "code",
   "execution_count": 77,
   "metadata": {
    "id": "mShgky8-ds9v"
   },
   "outputs": [],
   "source": [
    "#api endpoint como solo se podia consultar 1000 por dia lo hicimos en otra pc cambiando la IP\n",
    "\n",
    "# url= 'https://api.genderize.io'\n",
    "\n",
    "# list = df_unk['name'].unique()[:3]\n",
    "# dict ={} \n",
    "\n",
    "# for i in list:\n",
    "#  PARAM = {'name': i}\n",
    "#  response = requests.get(url = url, params = PARAM)\n",
    "#  data_i = response.json()\n",
    "#  gender = data_i['gender']\n",
    "#  dict[i]=gender\n",
    "\n",
    "# dict"
   ]
  },
  {
   "cell_type": "code",
   "execution_count": 78,
   "metadata": {},
   "outputs": [],
   "source": [
    "#guardo el dict en un dataset aparte para trabajarlo separado\n",
    "#df_names = pd.DataFrame.from_dict(dict, orient=\"index\")\n",
    "#df_names.to_csv(\"names950_1949.csv\")"
   ]
  },
  {
   "cell_type": "code",
   "execution_count": 79,
   "metadata": {
    "colab": {
     "base_uri": "https://localhost:8080/",
     "height": 201
    },
    "executionInfo": {
     "elapsed": 619,
     "status": "ok",
     "timestamp": 1665255156114,
     "user": {
      "displayName": "Clara Trinco",
      "userId": "07775861695630223845"
     },
     "user_tz": 180
    },
    "id": "HkmVUB1-FZbz",
    "outputId": "d86d8729-f9c6-4dc8-dbb9-2ad7af85d5d9"
   },
   "outputs": [
    {
     "data": {
      "text/html": [
       "<div>\n",
       "<style scoped>\n",
       "    .dataframe tbody tr th:only-of-type {\n",
       "        vertical-align: middle;\n",
       "    }\n",
       "\n",
       "    .dataframe tbody tr th {\n",
       "        vertical-align: top;\n",
       "    }\n",
       "\n",
       "    .dataframe thead th {\n",
       "        text-align: right;\n",
       "    }\n",
       "</style>\n",
       "<table border=\"1\" class=\"dataframe\">\n",
       "  <thead>\n",
       "    <tr style=\"text-align: right;\">\n",
       "      <th></th>\n",
       "      <th>name</th>\n",
       "      <th>gender_ize</th>\n",
       "    </tr>\n",
       "  </thead>\n",
       "  <tbody>\n",
       "    <tr>\n",
       "      <th>0</th>\n",
       "      <td>Hao</td>\n",
       "      <td>male</td>\n",
       "    </tr>\n",
       "    <tr>\n",
       "      <th>1</th>\n",
       "      <td>Ying</td>\n",
       "      <td>female</td>\n",
       "    </tr>\n",
       "    <tr>\n",
       "      <th>2</th>\n",
       "      <td>Yue</td>\n",
       "      <td>female</td>\n",
       "    </tr>\n",
       "    <tr>\n",
       "      <th>3</th>\n",
       "      <td>Bin</td>\n",
       "      <td>male</td>\n",
       "    </tr>\n",
       "    <tr>\n",
       "      <th>4</th>\n",
       "      <td>Yang</td>\n",
       "      <td>male</td>\n",
       "    </tr>\n",
       "  </tbody>\n",
       "</table>\n",
       "</div>"
      ],
      "text/plain": [
       "   name gender_ize\n",
       "0   Hao       male\n",
       "1  Ying     female\n",
       "2   Yue     female\n",
       "3   Bin       male\n",
       "4  Yang       male"
      ]
     },
     "execution_count": 79,
     "metadata": {},
     "output_type": "execute_result"
    }
   ],
   "source": [
    "#cargo el dataset de los nombres unknown (lo hice por afuera y guarde el dataset)\n",
    "data_unkn = pd.read_csv(\"data/data_gender/out.csv\")\n",
    "data_andy = pd.read_csv(\"data/data_gender/andy.csv\")\n",
    "data_andy.columns = [\"name\", \"gender_ize\"]\n",
    "data_unkn.columns = [\"name\", \"gender_ize\"]\n",
    "data_imp = pd.concat([data_andy, data_unkn], axis = 0)\n",
    "data_imp.head()"
   ]
  },
  {
   "cell_type": "markdown",
   "metadata": {
    "id": "-e4AYiGe09Gm"
   },
   "source": [
    "# Jurafsky data\n",
    "**Levanto los datasets de ACL por gender**\n",
    "https://nlp.stanford.edu/pubs/vogeljurafsky12.pdf\n",
    "\n",
    "https://nlp.stanford.edu/projects/gender/\n",
    "\n"
   ]
  },
  {
   "cell_type": "code",
   "execution_count": 98,
   "metadata": {
    "colab": {
     "base_uri": "https://localhost:8080/",
     "height": 201
    },
    "executionInfo": {
     "elapsed": 6,
     "status": "ok",
     "timestamp": 1665253885183,
     "user": {
      "displayName": "Clara Trinco",
      "userId": "07775861695630223845"
     },
     "user_tz": 180
    },
    "id": "UeRM8lRG2Hnt",
    "outputId": "2237fcc2-676e-4389-f6d2-b3272500da67"
   },
   "outputs": [
    {
     "name": "stdout",
     "output_type": "stream",
     "text": [
      "11932\n"
     ]
    },
    {
     "data": {
      "text/html": [
       "<div>\n",
       "<style scoped>\n",
       "    .dataframe tbody tr th:only-of-type {\n",
       "        vertical-align: middle;\n",
       "    }\n",
       "\n",
       "    .dataframe tbody tr th {\n",
       "        vertical-align: top;\n",
       "    }\n",
       "\n",
       "    .dataframe thead th {\n",
       "        text-align: right;\n",
       "    }\n",
       "</style>\n",
       "<table border=\"1\" class=\"dataframe\">\n",
       "  <thead>\n",
       "    <tr style=\"text-align: right;\">\n",
       "      <th></th>\n",
       "      <th>complete_name</th>\n",
       "      <th>name</th>\n",
       "      <th>last_name</th>\n",
       "      <th>gender_jur</th>\n",
       "      <th>concate_name</th>\n",
       "    </tr>\n",
       "  </thead>\n",
       "  <tbody>\n",
       "    <tr>\n",
       "      <th>1060</th>\n",
       "      <td>Chang, Jason S.</td>\n",
       "      <td>Jason</td>\n",
       "      <td>Chang</td>\n",
       "      <td>male</td>\n",
       "      <td>Jason Chang</td>\n",
       "    </tr>\n",
       "    <tr>\n",
       "      <th>113</th>\n",
       "      <td>Ayache, Christelle</td>\n",
       "      <td>Christelle</td>\n",
       "      <td>Ayache</td>\n",
       "      <td>female</td>\n",
       "      <td>Christelle Ayache</td>\n",
       "    </tr>\n",
       "    <tr>\n",
       "      <th>4541</th>\n",
       "      <td>Lyons, Daniel</td>\n",
       "      <td>Daniel</td>\n",
       "      <td>Lyons</td>\n",
       "      <td>male</td>\n",
       "      <td>Daniel Lyons</td>\n",
       "    </tr>\n",
       "    <tr>\n",
       "      <th>1244</th>\n",
       "      <td>Christoudias, Mario</td>\n",
       "      <td>Mario</td>\n",
       "      <td>Christoudias</td>\n",
       "      <td>male</td>\n",
       "      <td>Mario Christoudias</td>\n",
       "    </tr>\n",
       "    <tr>\n",
       "      <th>8050</th>\n",
       "      <td>we, Welf</td>\n",
       "      <td>Welf</td>\n",
       "      <td>we</td>\n",
       "      <td>male</td>\n",
       "      <td>Welf we</td>\n",
       "    </tr>\n",
       "  </tbody>\n",
       "</table>\n",
       "</div>"
      ],
      "text/plain": [
       "            complete_name        name     last_name gender_jur  \\\n",
       "1060      Chang, Jason S.       Jason         Chang       male   \n",
       "113    Ayache, Christelle  Christelle        Ayache     female   \n",
       "4541        Lyons, Daniel      Daniel         Lyons       male   \n",
       "1244  Christoudias, Mario       Mario  Christoudias       male   \n",
       "8050             we, Welf        Welf            we       male   \n",
       "\n",
       "            concate_name  \n",
       "1060         Jason Chang  \n",
       "113    Christelle Ayache  \n",
       "4541        Daniel Lyons  \n",
       "1244  Mario Christoudias  \n",
       "8050             Welf we  "
      ]
     },
     "execution_count": 98,
     "metadata": {},
     "output_type": "execute_result"
    }
   ],
   "source": [
    "data_male = pd.read_csv(\"data/data_gender/acl-male.txt\", delimiter=\"\\t\", header= None)\n",
    "data_female = pd.read_csv(\"data/data_gender/acl-female.txt\", delimiter=\"\\t\",header= None)\n",
    "# data_unknow = pd.read_csv(\"code/data/data_gender/acl-unknown.txt\", delimiter=\"\\t\",header= None)\n",
    "\n",
    "data_male.columns =['complete_name']\n",
    "data_male['name'] = data_male['complete_name'].str.extract('(,\\s[a-zA-Z]+)', expand=False).str.strip() # me quedo con el primer nombre\n",
    "data_male['name'] = data_male['name'].str.replace(', ', '') # le saco la coma\n",
    "data_male['last_name'] = data_male['complete_name'].str.extract('([a-zA-Z]+,)', expand=False).str.strip() # me quedo con el primer nombre\n",
    "data_male['last_name'] = data_male['last_name'].str.replace(',', '') # le saco la coma\n",
    "data_male['gender_jur']='male' #agrego columna de genero# incluyo nombre de columnas\n",
    "\n",
    "\n",
    "data_female.columns =['complete_name']\n",
    "data_female['name'] = data_female['complete_name'].str.extract('(,\\s[a-zA-Z]+)', expand=False).str.strip() # me quedo con el primer nombre\n",
    "data_female['name'] = data_female['name'].str.replace(', ', '') # le saco la coma\n",
    "data_female['last_name'] = data_female['complete_name'].str.extract('([a-zA-Z]+,)', expand=False).str.strip() # me quedo con el primer nombre\n",
    "data_female['last_name'] = data_female['last_name'].str.replace(',', '') # le saco la coma\n",
    "data_female['gender_jur']='female' #agrego columna de genero\n",
    "\n",
    "\n",
    "names = pd.concat([data_female, data_male], axis=0)\n",
    "names.drop_duplicates(inplace= True)\n",
    "names[\"concate_name\"] =  names.name + \" \"+ names.last_name\n",
    "print(len(names))\n",
    "names.sample(5)"
   ]
  },
  {
   "cell_type": "code",
   "execution_count": 105,
   "metadata": {},
   "outputs": [
    {
     "data": {
      "text/html": [
       "<div>\n",
       "<style scoped>\n",
       "    .dataframe tbody tr th:only-of-type {\n",
       "        vertical-align: middle;\n",
       "    }\n",
       "\n",
       "    .dataframe tbody tr th {\n",
       "        vertical-align: top;\n",
       "    }\n",
       "\n",
       "    .dataframe thead th {\n",
       "        text-align: right;\n",
       "    }\n",
       "</style>\n",
       "<table border=\"1\" class=\"dataframe\">\n",
       "  <thead>\n",
       "    <tr style=\"text-align: right;\">\n",
       "      <th></th>\n",
       "      <th>complete_name</th>\n",
       "      <th>name</th>\n",
       "      <th>last_name</th>\n",
       "      <th>gender_jur</th>\n",
       "      <th>concate_name</th>\n",
       "    </tr>\n",
       "  </thead>\n",
       "  <tbody>\n",
       "    <tr>\n",
       "      <th>4147</th>\n",
       "      <td>Lau, Gerd</td>\n",
       "      <td>Gerd</td>\n",
       "      <td>Lau</td>\n",
       "      <td>male</td>\n",
       "      <td>Gerd Lau</td>\n",
       "    </tr>\n",
       "    <tr>\n",
       "      <th>4077</th>\n",
       "      <td>Lagarda, Antonio L.</td>\n",
       "      <td>Antonio</td>\n",
       "      <td>Lagarda</td>\n",
       "      <td>NaN</td>\n",
       "      <td>Antonio Lagarda</td>\n",
       "    </tr>\n",
       "    <tr>\n",
       "      <th>813</th>\n",
       "      <td>Brooks, James</td>\n",
       "      <td>James</td>\n",
       "      <td>Brooks</td>\n",
       "      <td>male</td>\n",
       "      <td>James Brooks</td>\n",
       "    </tr>\n",
       "    <tr>\n",
       "      <th>1936</th>\n",
       "      <td>Ellison, Noel</td>\n",
       "      <td>Noel</td>\n",
       "      <td>Ellison</td>\n",
       "      <td>male</td>\n",
       "      <td>Noel Ellison</td>\n",
       "    </tr>\n",
       "    <tr>\n",
       "      <th>8381</th>\n",
       "      <td>You, Jia-Ming</td>\n",
       "      <td>Jia</td>\n",
       "      <td>You</td>\n",
       "      <td>male</td>\n",
       "      <td>Jia You</td>\n",
       "    </tr>\n",
       "  </tbody>\n",
       "</table>\n",
       "</div>"
      ],
      "text/plain": [
       "            complete_name     name last_name gender_jur     concate_name\n",
       "4147            Lau, Gerd     Gerd       Lau       male         Gerd Lau\n",
       "4077  Lagarda, Antonio L.  Antonio   Lagarda        NaN  Antonio Lagarda\n",
       "813         Brooks, James    James    Brooks       male     James Brooks\n",
       "1936        Ellison, Noel     Noel   Ellison       male     Noel Ellison\n",
       "8381        You, Jia-Ming      Jia       You       male          Jia You"
      ]
     },
     "execution_count": 105,
     "metadata": {},
     "output_type": "execute_result"
    }
   ],
   "source": [
    "count_gender = names.groupby(by = [\"concate_name\"], as_index= False)[\"gender_jur\"].count().sort_values(ascending = False, by = 'gender_jur')\n",
    "count_gender_df = count_gender[count_gender[\"gender_jur\"] >= 2]\n",
    "\n",
    "names.loc[names[\"concate_name\"].isin(count_gender_df[\"concate_name\"]), \"gender_jur\"] = np.nan\n",
    "names.sample(5)"
   ]
  },
  {
   "cell_type": "markdown",
   "metadata": {
    "id": "U80qcy7HDjnu"
   },
   "source": [
    "# **UNO TODOS LOS DATASETS**\n",
    "\n",
    "data = original con gender de GENDER-GUESSER\n",
    "\n",
    "data_imp =  unknown y andy imputados con la API de genderize\n",
    "\n",
    "names = dataset que tomamos del ACL (Jurafsky)\n"
   ]
  },
  {
   "cell_type": "code",
   "execution_count": 82,
   "metadata": {
    "colab": {
     "base_uri": "https://localhost:8080/"
    },
    "executionInfo": {
     "elapsed": 5,
     "status": "ok",
     "timestamp": 1665257742325,
     "user": {
      "displayName": "Clara Trinco",
      "userId": "07775861695630223845"
     },
     "user_tz": 180
    },
    "id": "4MIT-B6iEDt8",
    "outputId": "c3087a94-0597-45c9-9c20-28594d43afa7"
   },
   "outputs": [
    {
     "data": {
      "text/plain": [
       "11932"
      ]
     },
     "execution_count": 82,
     "metadata": {},
     "output_type": "execute_result"
    }
   ],
   "source": [
    "#len(data) #32245\n",
    "#len(data_out) #4411\n",
    "#len(df_andy) # 290\n",
    "len(names) #11930"
   ]
  },
  {
   "cell_type": "code",
   "execution_count": 113,
   "metadata": {
    "executionInfo": {
     "elapsed": 384,
     "status": "ok",
     "timestamp": 1665259513561,
     "user": {
      "displayName": "Clara Trinco",
      "userId": "07775861695630223845"
     },
     "user_tz": 180
    },
    "id": "KlGE-vfRMMTA"
   },
   "outputs": [
    {
     "name": "stderr",
     "output_type": "stream",
     "text": [
      "/tmp/ipykernel_12396/335155803.py:3: FutureWarning: In a future version of pandas all arguments of DataFrame.drop except for the argument 'labels' will be keyword-only.\n",
      "  df=pd.merge(df, names.drop([\"complete_name\", \"concate_name\"], 1), on=[\"name\", \"last_name\"], how= \"left\")\n"
     ]
    },
    {
     "data": {
      "text/html": [
       "<div>\n",
       "<style scoped>\n",
       "    .dataframe tbody tr th:only-of-type {\n",
       "        vertical-align: middle;\n",
       "    }\n",
       "\n",
       "    .dataframe tbody tr th {\n",
       "        vertical-align: top;\n",
       "    }\n",
       "\n",
       "    .dataframe thead th {\n",
       "        text-align: right;\n",
       "    }\n",
       "</style>\n",
       "<table border=\"1\" class=\"dataframe\">\n",
       "  <thead>\n",
       "    <tr style=\"text-align: right;\">\n",
       "      <th></th>\n",
       "      <th>YEAR</th>\n",
       "      <th>TITLE</th>\n",
       "      <th>ABSTRACT</th>\n",
       "      <th>AUTHOR</th>\n",
       "      <th>PUBLISHER</th>\n",
       "      <th>BOOKTITLE</th>\n",
       "      <th>CATEGORY</th>\n",
       "      <th>name</th>\n",
       "      <th>last_name</th>\n",
       "      <th>gender_g</th>\n",
       "      <th>gender_ize</th>\n",
       "      <th>gender_jur</th>\n",
       "    </tr>\n",
       "  </thead>\n",
       "  <tbody>\n",
       "    <tr>\n",
       "      <th>21931</th>\n",
       "      <td>2018</td>\n",
       "      <td>A Corpus of Non-Native Written {E}nglish Annot...</td>\n",
       "      <td>We present a corpus of 240 argumentative essay...</td>\n",
       "      <td>Beigman Klebanov, Beata  and</td>\n",
       "      <td>Association for Computational Linguistics</td>\n",
       "      <td>Proceedings of the 2018 Conference of the Nort...</td>\n",
       "      <td>INPROCEEDINGS</td>\n",
       "      <td>Beata</td>\n",
       "      <td>Klebanov</td>\n",
       "      <td>female</td>\n",
       "      <td>NaN</td>\n",
       "      <td>female</td>\n",
       "    </tr>\n",
       "    <tr>\n",
       "      <th>3384</th>\n",
       "      <td>2021</td>\n",
       "      <td>NADI} 2021: The Second Nuanced {A}rabic Dialec...</td>\n",
       "      <td>We present the findings and results of theSeco...</td>\n",
       "      <td>Abdul-Mageed, Muhammad  and</td>\n",
       "      <td>Association for Computational Linguistics</td>\n",
       "      <td>Proceedings of the Sixth Arabic Natural Langua...</td>\n",
       "      <td>INPROCEEDINGS</td>\n",
       "      <td>Muhammad</td>\n",
       "      <td>Mageed</td>\n",
       "      <td>male</td>\n",
       "      <td>NaN</td>\n",
       "      <td>NaN</td>\n",
       "    </tr>\n",
       "    <tr>\n",
       "      <th>16363</th>\n",
       "      <td>2019</td>\n",
       "      <td>Gendered Pronoun Resolution using {BERT} and a...</td>\n",
       "      <td>The resolution of ambiguous pronouns is a long...</td>\n",
       "      <td>Chada, Rakesh</td>\n",
       "      <td>Association for Computational Linguistics</td>\n",
       "      <td>Proceedings of the First Workshop on Gender Bi...</td>\n",
       "      <td>INPROCEEDINGS</td>\n",
       "      <td>Rakesh</td>\n",
       "      <td>Chada</td>\n",
       "      <td>male</td>\n",
       "      <td>NaN</td>\n",
       "      <td>NaN</td>\n",
       "    </tr>\n",
       "  </tbody>\n",
       "</table>\n",
       "</div>"
      ],
      "text/plain": [
       "       YEAR                                              TITLE  \\\n",
       "21931  2018  A Corpus of Non-Native Written {E}nglish Annot...   \n",
       "3384   2021  NADI} 2021: The Second Nuanced {A}rabic Dialec...   \n",
       "16363  2019  Gendered Pronoun Resolution using {BERT} and a...   \n",
       "\n",
       "                                                ABSTRACT  \\\n",
       "21931  We present a corpus of 240 argumentative essay...   \n",
       "3384   We present the findings and results of theSeco...   \n",
       "16363  The resolution of ambiguous pronouns is a long...   \n",
       "\n",
       "                             AUTHOR  \\\n",
       "21931  Beigman Klebanov, Beata  and   \n",
       "3384    Abdul-Mageed, Muhammad  and   \n",
       "16363                 Chada, Rakesh   \n",
       "\n",
       "                                       PUBLISHER  \\\n",
       "21931  Association for Computational Linguistics   \n",
       "3384   Association for Computational Linguistics   \n",
       "16363  Association for Computational Linguistics   \n",
       "\n",
       "                                               BOOKTITLE       CATEGORY  \\\n",
       "21931  Proceedings of the 2018 Conference of the Nort...  INPROCEEDINGS   \n",
       "3384   Proceedings of the Sixth Arabic Natural Langua...  INPROCEEDINGS   \n",
       "16363  Proceedings of the First Workshop on Gender Bi...  INPROCEEDINGS   \n",
       "\n",
       "           name last_name gender_g gender_ize gender_jur  \n",
       "21931     Beata  Klebanov   female        NaN     female  \n",
       "3384   Muhammad    Mageed     male        NaN        NaN  \n",
       "16363    Rakesh     Chada     male        NaN        NaN  "
      ]
     },
     "execution_count": 113,
     "metadata": {},
     "output_type": "execute_result"
    }
   ],
   "source": [
    "#dfs =[data,data_out]\n",
    "df=pd.merge(data,data_imp, on=\"name\", how= \"left\")\n",
    "df=pd.merge(df, names.drop([\"complete_name\", \"concate_name\"], 1), on=[\"name\", \"last_name\"], how= \"left\")\n",
    "\n",
    "df.drop_duplicates(inplace = True)\n",
    "\n",
    "df.loc[df[\"gender_g\"] == \"mostly_male\", \"gender_g\"] = 'male' #cambio mostly_male por male\n",
    "df.loc[df[\"gender_g\"] == \"mostly_female\", \"gender_g\"] = 'female'#cambio mostly_female por female\n",
    "df.loc[df[\"gender_g\"] == \"unknown\", \"gender_g\"] = np.nan\n",
    "\n",
    "df.sample(3)"
   ]
  },
  {
   "cell_type": "code",
   "execution_count": 114,
   "metadata": {},
   "outputs": [
    {
     "name": "stdout",
     "output_type": "stream",
     "text": [
      "longitud data original 33492 y final 33492\n"
     ]
    }
   ],
   "source": [
    "print(f'longitud data original {len(data)} y final {len(df.drop_duplicates() )}' )"
   ]
  },
  {
   "cell_type": "code",
   "execution_count": 108,
   "metadata": {},
   "outputs": [],
   "source": [
    " df[df.duplicated(subset=\"ABSTRACT\", keep=False)].sort_values(by= \"ABSTRACT\", ascending= False).to_csv('data/duplicated.csv')"
   ]
  },
  {
   "cell_type": "code",
   "execution_count": null,
   "metadata": {},
   "outputs": [],
   "source": []
  },
  {
   "cell_type": "code",
   "execution_count": 196,
   "metadata": {
    "executionInfo": {
     "elapsed": 1239,
     "status": "ok",
     "timestamp": 1665263476992,
     "user": {
      "displayName": "Clara Trinco",
      "userId": "07775861695630223845"
     },
     "user_tz": 180
    },
    "id": "gb6TmQ_jb93i"
   },
   "outputs": [],
   "source": [
    "# df.to_csv('code/data/data_gender/data_gender.csv', index = False)"
   ]
  },
  {
   "cell_type": "markdown",
   "metadata": {},
   "source": [
    "# Imputacion final\n"
   ]
  },
  {
   "cell_type": "code",
   "execution_count": 115,
   "metadata": {},
   "outputs": [
    {
     "data": {
      "text/html": [
       "<div>\n",
       "<style scoped>\n",
       "    .dataframe tbody tr th:only-of-type {\n",
       "        vertical-align: middle;\n",
       "    }\n",
       "\n",
       "    .dataframe tbody tr th {\n",
       "        vertical-align: top;\n",
       "    }\n",
       "\n",
       "    .dataframe thead th {\n",
       "        text-align: right;\n",
       "    }\n",
       "</style>\n",
       "<table border=\"1\" class=\"dataframe\">\n",
       "  <thead>\n",
       "    <tr style=\"text-align: right;\">\n",
       "      <th></th>\n",
       "      <th>YEAR</th>\n",
       "      <th>TITLE</th>\n",
       "      <th>ABSTRACT</th>\n",
       "      <th>AUTHOR</th>\n",
       "      <th>PUBLISHER</th>\n",
       "      <th>BOOKTITLE</th>\n",
       "      <th>CATEGORY</th>\n",
       "      <th>name</th>\n",
       "      <th>last_name</th>\n",
       "      <th>gender_g</th>\n",
       "      <th>gender_ize</th>\n",
       "      <th>gender_jur</th>\n",
       "      <th>gender_final</th>\n",
       "    </tr>\n",
       "  </thead>\n",
       "  <tbody>\n",
       "    <tr>\n",
       "      <th>11</th>\n",
       "      <td>2022</td>\n",
       "      <td>S}tereo{KG}: Data-Driven Knowledge Graph Const...</td>\n",
       "      <td>Analyzing ethnic or religious bias is importan...</td>\n",
       "      <td>Deshpande, Awantee  and</td>\n",
       "      <td>Association for Computational Linguistics</td>\n",
       "      <td>Proceedings of the Sixth Workshop on Online Ab...</td>\n",
       "      <td>INPROCEEDINGS</td>\n",
       "      <td>Awantee</td>\n",
       "      <td>Deshpande</td>\n",
       "      <td>NaN</td>\n",
       "      <td>NaN</td>\n",
       "      <td>NaN</td>\n",
       "      <td>NaN</td>\n",
       "    </tr>\n",
       "    <tr>\n",
       "      <th>35</th>\n",
       "      <td>2022</td>\n",
       "      <td>Narrative Detection and Feature Analysis in On...</td>\n",
       "      <td>Narratives have been shown to be an effective ...</td>\n",
       "      <td>Ganti, Achyutarama  and</td>\n",
       "      <td>Association for Computational Linguistics</td>\n",
       "      <td>Proceedings of the 4th Workshop of Narrative U...</td>\n",
       "      <td>INPROCEEDINGS</td>\n",
       "      <td>Achyutarama</td>\n",
       "      <td>Ganti</td>\n",
       "      <td>NaN</td>\n",
       "      <td>NaN</td>\n",
       "      <td>NaN</td>\n",
       "      <td>NaN</td>\n",
       "    </tr>\n",
       "    <tr>\n",
       "      <th>80</th>\n",
       "      <td>2022</td>\n",
       "      <td>Attributing Fair Decisions with Attention Inte...</td>\n",
       "      <td>The widespread use of Artificial Intelligence ...</td>\n",
       "      <td>Mehrabi, Ninareh  and</td>\n",
       "      <td>Association for Computational Linguistics</td>\n",
       "      <td>Proceedings of the 2nd Workshop on Trustworthy...</td>\n",
       "      <td>INPROCEEDINGS</td>\n",
       "      <td>Ninareh</td>\n",
       "      <td>Mehrabi</td>\n",
       "      <td>NaN</td>\n",
       "      <td>NaN</td>\n",
       "      <td>NaN</td>\n",
       "      <td>NaN</td>\n",
       "    </tr>\n",
       "    <tr>\n",
       "      <th>95</th>\n",
       "      <td>2022</td>\n",
       "      <td>Samanantar: The Largest Publicly Available Par...</td>\n",
       "      <td>We present Samanantar, the largest publicly av...</td>\n",
       "      <td>Ramesh, Gowtham  and</td>\n",
       "      <td>MIT Press</td>\n",
       "      <td>NaN</td>\n",
       "      <td>ARTICLE</td>\n",
       "      <td>Gowtham</td>\n",
       "      <td>Ramesh</td>\n",
       "      <td>NaN</td>\n",
       "      <td>NaN</td>\n",
       "      <td>NaN</td>\n",
       "      <td>NaN</td>\n",
       "    </tr>\n",
       "    <tr>\n",
       "      <th>108</th>\n",
       "      <td>2022</td>\n",
       "      <td>VILA}: Improving Structured Content Extraction...</td>\n",
       "      <td>Accurately extracting structured content from ...</td>\n",
       "      <td>Shen, Zejiang  and</td>\n",
       "      <td>MIT Press</td>\n",
       "      <td>NaN</td>\n",
       "      <td>ARTICLE</td>\n",
       "      <td>Zejiang</td>\n",
       "      <td>Shen</td>\n",
       "      <td>NaN</td>\n",
       "      <td>NaN</td>\n",
       "      <td>NaN</td>\n",
       "      <td>NaN</td>\n",
       "    </tr>\n",
       "    <tr>\n",
       "      <th>...</th>\n",
       "      <td>...</td>\n",
       "      <td>...</td>\n",
       "      <td>...</td>\n",
       "      <td>...</td>\n",
       "      <td>...</td>\n",
       "      <td>...</td>\n",
       "      <td>...</td>\n",
       "      <td>...</td>\n",
       "      <td>...</td>\n",
       "      <td>...</td>\n",
       "      <td>...</td>\n",
       "      <td>...</td>\n",
       "      <td>...</td>\n",
       "    </tr>\n",
       "    <tr>\n",
       "      <th>33664</th>\n",
       "      <td>1991</td>\n",
       "      <td>Probabilistic {LR} Parsing for General Context...</td>\n",
       "      <td>To combine the advantages of probabilistic gra...</td>\n",
       "      <td>Ng, See-Kiong  and</td>\n",
       "      <td>Association for Computational Linguistics</td>\n",
       "      <td>Proceedings of the Second International Worksh...</td>\n",
       "      <td>INPROCEEDINGS</td>\n",
       "      <td>SeeKiong</td>\n",
       "      <td>Ng</td>\n",
       "      <td>NaN</td>\n",
       "      <td>NaN</td>\n",
       "      <td>NaN</td>\n",
       "      <td>NaN</td>\n",
       "    </tr>\n",
       "    <tr>\n",
       "      <th>33667</th>\n",
       "      <td>1991</td>\n",
       "      <td>Unification-Based Dependency Parsing of Govern...</td>\n",
       "      <td>This paper describes a unification-based depen...</td>\n",
       "      <td>Kwon, Hyuk-Chul  and</td>\n",
       "      <td>Association for Computational Linguistics</td>\n",
       "      <td>Proceedings of the Second International Worksh...</td>\n",
       "      <td>INPROCEEDINGS</td>\n",
       "      <td>HyukChul</td>\n",
       "      <td>Kwon</td>\n",
       "      <td>NaN</td>\n",
       "      <td>NaN</td>\n",
       "      <td>NaN</td>\n",
       "      <td>NaN</td>\n",
       "    </tr>\n",
       "    <tr>\n",
       "      <th>33676</th>\n",
       "      <td>1989</td>\n",
       "      <td>A Sequential Truncation Parsing Algorithm Base...</td>\n",
       "      <td>In a natural language processing system, a lar...</td>\n",
       "      <td>Su, Keh-Yih  and</td>\n",
       "      <td>Carnegy Mellon University</td>\n",
       "      <td>Proceedings of the First International Worksho...</td>\n",
       "      <td>INPROCEEDINGS</td>\n",
       "      <td>KehYih</td>\n",
       "      <td>Su</td>\n",
       "      <td>NaN</td>\n",
       "      <td>NaN</td>\n",
       "      <td>NaN</td>\n",
       "      <td>NaN</td>\n",
       "    </tr>\n",
       "    <tr>\n",
       "      <th>33705</th>\n",
       "      <td>1984</td>\n",
       "      <td>A new dictionary structure for bi-directional ...</td>\n",
       "      <td>The importance and structure of MT-dictionary ...</td>\n",
       "      <td>Loh, Shiu-chang  and</td>\n",
       "      <td>NaN</td>\n",
       "      <td>Proceedings of the International Conference on...</td>\n",
       "      <td>INPROCEEDINGS</td>\n",
       "      <td>Shiuchang</td>\n",
       "      <td>Loh</td>\n",
       "      <td>NaN</td>\n",
       "      <td>NaN</td>\n",
       "      <td>NaN</td>\n",
       "      <td>NaN</td>\n",
       "    </tr>\n",
       "    <tr>\n",
       "      <th>33719</th>\n",
       "      <td>1963</td>\n",
       "      <td>Writing of {C}hinese recognition grammar for m...</td>\n",
       "      <td>Our approach to this problem is based on the s...</td>\n",
       "      <td>Dougherty, Ching-yi</td>\n",
       "      <td>NaN</td>\n",
       "      <td>Proceedings of the Annual meeting of the Assoc...</td>\n",
       "      <td>INPROCEEDINGS</td>\n",
       "      <td>Chingyi</td>\n",
       "      <td>Dougherty</td>\n",
       "      <td>NaN</td>\n",
       "      <td>NaN</td>\n",
       "      <td>NaN</td>\n",
       "      <td>NaN</td>\n",
       "    </tr>\n",
       "  </tbody>\n",
       "</table>\n",
       "<p>1797 rows × 13 columns</p>\n",
       "</div>"
      ],
      "text/plain": [
       "       YEAR                                              TITLE  \\\n",
       "11     2022  S}tereo{KG}: Data-Driven Knowledge Graph Const...   \n",
       "35     2022  Narrative Detection and Feature Analysis in On...   \n",
       "80     2022  Attributing Fair Decisions with Attention Inte...   \n",
       "95     2022  Samanantar: The Largest Publicly Available Par...   \n",
       "108    2022  VILA}: Improving Structured Content Extraction...   \n",
       "...     ...                                                ...   \n",
       "33664  1991  Probabilistic {LR} Parsing for General Context...   \n",
       "33667  1991  Unification-Based Dependency Parsing of Govern...   \n",
       "33676  1989  A Sequential Truncation Parsing Algorithm Base...   \n",
       "33705  1984  A new dictionary structure for bi-directional ...   \n",
       "33719  1963  Writing of {C}hinese recognition grammar for m...   \n",
       "\n",
       "                                                ABSTRACT  \\\n",
       "11     Analyzing ethnic or religious bias is importan...   \n",
       "35     Narratives have been shown to be an effective ...   \n",
       "80     The widespread use of Artificial Intelligence ...   \n",
       "95     We present Samanantar, the largest publicly av...   \n",
       "108    Accurately extracting structured content from ...   \n",
       "...                                                  ...   \n",
       "33664  To combine the advantages of probabilistic gra...   \n",
       "33667  This paper describes a unification-based depen...   \n",
       "33676  In a natural language processing system, a lar...   \n",
       "33705  The importance and structure of MT-dictionary ...   \n",
       "33719  Our approach to this problem is based on the s...   \n",
       "\n",
       "                        AUTHOR                                  PUBLISHER  \\\n",
       "11     Deshpande, Awantee  and  Association for Computational Linguistics   \n",
       "35     Ganti, Achyutarama  and  Association for Computational Linguistics   \n",
       "80       Mehrabi, Ninareh  and  Association for Computational Linguistics   \n",
       "95        Ramesh, Gowtham  and                                  MIT Press   \n",
       "108         Shen, Zejiang  and                                  MIT Press   \n",
       "...                        ...                                        ...   \n",
       "33664       Ng, See-Kiong  and  Association for Computational Linguistics   \n",
       "33667     Kwon, Hyuk-Chul  and  Association for Computational Linguistics   \n",
       "33676         Su, Keh-Yih  and                  Carnegy Mellon University   \n",
       "33705     Loh, Shiu-chang  and                                        NaN   \n",
       "33719      Dougherty, Ching-yi                                        NaN   \n",
       "\n",
       "                                               BOOKTITLE       CATEGORY  \\\n",
       "11     Proceedings of the Sixth Workshop on Online Ab...  INPROCEEDINGS   \n",
       "35     Proceedings of the 4th Workshop of Narrative U...  INPROCEEDINGS   \n",
       "80     Proceedings of the 2nd Workshop on Trustworthy...  INPROCEEDINGS   \n",
       "95                                                   NaN        ARTICLE   \n",
       "108                                                  NaN        ARTICLE   \n",
       "...                                                  ...            ...   \n",
       "33664  Proceedings of the Second International Worksh...  INPROCEEDINGS   \n",
       "33667  Proceedings of the Second International Worksh...  INPROCEEDINGS   \n",
       "33676  Proceedings of the First International Worksho...  INPROCEEDINGS   \n",
       "33705  Proceedings of the International Conference on...  INPROCEEDINGS   \n",
       "33719  Proceedings of the Annual meeting of the Assoc...  INPROCEEDINGS   \n",
       "\n",
       "              name  last_name gender_g gender_ize gender_jur gender_final  \n",
       "11         Awantee  Deshpande      NaN        NaN        NaN          NaN  \n",
       "35     Achyutarama      Ganti      NaN        NaN        NaN          NaN  \n",
       "80         Ninareh    Mehrabi      NaN        NaN        NaN          NaN  \n",
       "95         Gowtham     Ramesh      NaN        NaN        NaN          NaN  \n",
       "108        Zejiang       Shen      NaN        NaN        NaN          NaN  \n",
       "...            ...        ...      ...        ...        ...          ...  \n",
       "33664     SeeKiong         Ng      NaN        NaN        NaN          NaN  \n",
       "33667     HyukChul       Kwon      NaN        NaN        NaN          NaN  \n",
       "33676       KehYih         Su      NaN        NaN        NaN          NaN  \n",
       "33705    Shiuchang        Loh      NaN        NaN        NaN          NaN  \n",
       "33719      Chingyi  Dougherty      NaN        NaN        NaN          NaN  \n",
       "\n",
       "[1797 rows x 13 columns]"
      ]
     },
     "execution_count": 115,
     "metadata": {},
     "output_type": "execute_result"
    }
   ],
   "source": [
    "df[\"gender_final\"] = np.where(\n",
    "    df[\"gender_jur\"].isna(),\n",
    "    df[\"gender_g\"],          \n",
    "    df[\"gender_jur\"]\n",
    "    )\n",
    "    \n",
    "df[\"gender_final\"] = np.where(\n",
    "    df[\"gender_final\"].isna(),\n",
    "    df[\"gender_ize\"],          \n",
    "    df[\"gender_final\"]\n",
    "    )  \n",
    "\n",
    "df[( df[\"gender_final\"].isna() )   ]"
   ]
  },
  {
   "cell_type": "code",
   "execution_count": 119,
   "metadata": {},
   "outputs": [],
   "source": [
    "# df[( df[\"gender_final\"].isna() )   ]\n",
    "df_final = df[[\"YEAR\",'ABSTRACT', 'AUTHOR', 'gender_g', 'gender_ize', 'gender_jur','gender_final']]\n",
    "df_final.to_csv(\"data/data_gender_abstract_year.csv\", index = False)"
   ]
  },
  {
   "cell_type": "code",
   "execution_count": null,
   "metadata": {},
   "outputs": [],
   "source": []
  },
  {
   "cell_type": "code",
   "execution_count": null,
   "metadata": {},
   "outputs": [],
   "source": []
  },
  {
   "cell_type": "markdown",
   "metadata": {
    "id": "oKlb_Ge5vo9b"
   },
   "source": [
    "El dataset final lo trabajamos por afuera para ver puntualmente que nos traia"
   ]
  },
  {
   "cell_type": "code",
   "execution_count": 210,
   "metadata": {
    "executionInfo": {
     "elapsed": 891,
     "status": "ok",
     "timestamp": 1665433032343,
     "user": {
      "displayName": "Clara Trinco",
      "userId": "07775861695630223845"
     },
     "user_tz": 180
    },
    "id": "OhngjC7WvudS"
   },
   "outputs": [],
   "source": [
    "# data_final = pd.read_csv(\"/content/df_3 _tunned.csv\")\n",
    "data_final = df.copy()"
   ]
  },
  {
   "cell_type": "code",
   "execution_count": null,
   "metadata": {
    "colab": {
     "base_uri": "https://localhost:8080/",
     "height": 610
    },
    "executionInfo": {
     "elapsed": 540,
     "status": "ok",
     "timestamp": 1665433035795,
     "user": {
      "displayName": "Clara Trinco",
      "userId": "07775861695630223845"
     },
     "user_tz": 180
    },
    "id": "pzW1kT_NxJEo",
    "outputId": "cb39d193-b802-45ae-f5fc-e21807d20096"
   },
   "outputs": [
    {
     "data": {
      "text/html": [
       "\n",
       "  <div id=\"df-b04fd53b-94db-4308-9ba4-fe5a15b78641\">\n",
       "    <div class=\"colab-df-container\">\n",
       "      <div>\n",
       "<style scoped>\n",
       "    .dataframe tbody tr th:only-of-type {\n",
       "        vertical-align: middle;\n",
       "    }\n",
       "\n",
       "    .dataframe tbody tr th {\n",
       "        vertical-align: top;\n",
       "    }\n",
       "\n",
       "    .dataframe thead th {\n",
       "        text-align: right;\n",
       "    }\n",
       "</style>\n",
       "<table border=\"1\" class=\"dataframe\">\n",
       "  <thead>\n",
       "    <tr style=\"text-align: right;\">\n",
       "      <th></th>\n",
       "      <th>Unnamed: 0</th>\n",
       "      <th>YEAR</th>\n",
       "      <th>TITLE</th>\n",
       "      <th>ABSTRACT</th>\n",
       "      <th>AUTHOR</th>\n",
       "      <th>PUBLISHER</th>\n",
       "      <th>BOOKTITLE</th>\n",
       "      <th>CATEGORY</th>\n",
       "      <th>name</th>\n",
       "      <th>Gender_Guesser</th>\n",
       "      <th>Gender_API</th>\n",
       "      <th>Gender_Andy_API</th>\n",
       "      <th>Gender_ACL</th>\n",
       "      <th>Gender=gender3</th>\n",
       "      <th>gender_final_form</th>\n",
       "      <th>gender_final</th>\n",
       "    </tr>\n",
       "  </thead>\n",
       "  <tbody>\n",
       "    <tr>\n",
       "      <th>0</th>\n",
       "      <td>0</td>\n",
       "      <td>2022</td>\n",
       "      <td>A Systematic Survey of Text Worlds as Embodied...</td>\n",
       "      <td>Text Worlds are virtual environments for embod...</td>\n",
       "      <td>Jansen, Peter</td>\n",
       "      <td>Association for Computational Linguistics</td>\n",
       "      <td>Proceedings of the 3rd Wordplay: When Language...</td>\n",
       "      <td>INPROCEEDINGS</td>\n",
       "      <td>Peter</td>\n",
       "      <td>male</td>\n",
       "      <td>NaN</td>\n",
       "      <td>NaN</td>\n",
       "      <td>male</td>\n",
       "      <td>True</td>\n",
       "      <td>male</td>\n",
       "      <td>male</td>\n",
       "    </tr>\n",
       "    <tr>\n",
       "      <th>1</th>\n",
       "      <td>1</td>\n",
       "      <td>2022</td>\n",
       "      <td>A Minimal Computational Improviser Based on Or...</td>\n",
       "      <td>A prototype system for playing a minimal impro...</td>\n",
       "      <td>Montfort, Nick  and</td>\n",
       "      <td>Association for Computational Linguistics</td>\n",
       "      <td>Proceedings of the 3rd Wordplay: When Language...</td>\n",
       "      <td>INPROCEEDINGS</td>\n",
       "      <td>Nick</td>\n",
       "      <td>male</td>\n",
       "      <td>NaN</td>\n",
       "      <td>NaN</td>\n",
       "      <td>male</td>\n",
       "      <td>True</td>\n",
       "      <td>male</td>\n",
       "      <td>male</td>\n",
       "    </tr>\n",
       "    <tr>\n",
       "      <th>2</th>\n",
       "      <td>2</td>\n",
       "      <td>2022</td>\n",
       "      <td>Craft an Iron Sword: Dynamically Generating In...</td>\n",
       "      <td>Non-Player Characters (NPCs) significantly enh...</td>\n",
       "      <td>Volum, Ryan  and</td>\n",
       "      <td>Association for Computational Linguistics</td>\n",
       "      <td>Proceedings of the 3rd Wordplay: When Language...</td>\n",
       "      <td>INPROCEEDINGS</td>\n",
       "      <td>Ryan</td>\n",
       "      <td>male</td>\n",
       "      <td>NaN</td>\n",
       "      <td>NaN</td>\n",
       "      <td>male</td>\n",
       "      <td>True</td>\n",
       "      <td>male</td>\n",
       "      <td>male</td>\n",
       "    </tr>\n",
       "    <tr>\n",
       "      <th>3</th>\n",
       "      <td>3</td>\n",
       "      <td>2022</td>\n",
       "      <td>A Sequence Modelling Approach to Question Answ...</td>\n",
       "      <td>Interactive Question Answering (IQA) requires ...</td>\n",
       "      <td>Furman, Gregory  and</td>\n",
       "      <td>Association for Computational Linguistics</td>\n",
       "      <td>Proceedings of the 3rd Wordplay: When Language...</td>\n",
       "      <td>INPROCEEDINGS</td>\n",
       "      <td>Gregory</td>\n",
       "      <td>male</td>\n",
       "      <td>NaN</td>\n",
       "      <td>NaN</td>\n",
       "      <td>male</td>\n",
       "      <td>True</td>\n",
       "      <td>male</td>\n",
       "      <td>male</td>\n",
       "    </tr>\n",
       "    <tr>\n",
       "      <th>4</th>\n",
       "      <td>4</td>\n",
       "      <td>2022</td>\n",
       "      <td>Automatic Exploration of Textual Environments ...</td>\n",
       "      <td>The purpose of this extended abstract is to di...</td>\n",
       "      <td>Teodorescu, Laetitia  and</td>\n",
       "      <td>Association for Computational Linguistics</td>\n",
       "      <td>Proceedings of the 3rd Wordplay: When Language...</td>\n",
       "      <td>INPROCEEDINGS</td>\n",
       "      <td>Laetitia</td>\n",
       "      <td>female</td>\n",
       "      <td>NaN</td>\n",
       "      <td>NaN</td>\n",
       "      <td>male</td>\n",
       "      <td>False</td>\n",
       "      <td>female</td>\n",
       "      <td>female</td>\n",
       "    </tr>\n",
       "  </tbody>\n",
       "</table>\n",
       "</div>\n",
       "      <button class=\"colab-df-convert\" onclick=\"convertToInteractive('df-b04fd53b-94db-4308-9ba4-fe5a15b78641')\"\n",
       "              title=\"Convert this dataframe to an interactive table.\"\n",
       "              style=\"display:none;\">\n",
       "        \n",
       "  <svg xmlns=\"http://www.w3.org/2000/svg\" height=\"24px\"viewBox=\"0 0 24 24\"\n",
       "       width=\"24px\">\n",
       "    <path d=\"M0 0h24v24H0V0z\" fill=\"none\"/>\n",
       "    <path d=\"M18.56 5.44l.94 2.06.94-2.06 2.06-.94-2.06-.94-.94-2.06-.94 2.06-2.06.94zm-11 1L8.5 8.5l.94-2.06 2.06-.94-2.06-.94L8.5 2.5l-.94 2.06-2.06.94zm10 10l.94 2.06.94-2.06 2.06-.94-2.06-.94-.94-2.06-.94 2.06-2.06.94z\"/><path d=\"M17.41 7.96l-1.37-1.37c-.4-.4-.92-.59-1.43-.59-.52 0-1.04.2-1.43.59L10.3 9.45l-7.72 7.72c-.78.78-.78 2.05 0 2.83L4 21.41c.39.39.9.59 1.41.59.51 0 1.02-.2 1.41-.59l7.78-7.78 2.81-2.81c.8-.78.8-2.07 0-2.86zM5.41 20L4 18.59l7.72-7.72 1.47 1.35L5.41 20z\"/>\n",
       "  </svg>\n",
       "      </button>\n",
       "      \n",
       "  <style>\n",
       "    .colab-df-container {\n",
       "      display:flex;\n",
       "      flex-wrap:wrap;\n",
       "      gap: 12px;\n",
       "    }\n",
       "\n",
       "    .colab-df-convert {\n",
       "      background-color: #E8F0FE;\n",
       "      border: none;\n",
       "      border-radius: 50%;\n",
       "      cursor: pointer;\n",
       "      display: none;\n",
       "      fill: #1967D2;\n",
       "      height: 32px;\n",
       "      padding: 0 0 0 0;\n",
       "      width: 32px;\n",
       "    }\n",
       "\n",
       "    .colab-df-convert:hover {\n",
       "      background-color: #E2EBFA;\n",
       "      box-shadow: 0px 1px 2px rgba(60, 64, 67, 0.3), 0px 1px 3px 1px rgba(60, 64, 67, 0.15);\n",
       "      fill: #174EA6;\n",
       "    }\n",
       "\n",
       "    [theme=dark] .colab-df-convert {\n",
       "      background-color: #3B4455;\n",
       "      fill: #D2E3FC;\n",
       "    }\n",
       "\n",
       "    [theme=dark] .colab-df-convert:hover {\n",
       "      background-color: #434B5C;\n",
       "      box-shadow: 0px 1px 3px 1px rgba(0, 0, 0, 0.15);\n",
       "      filter: drop-shadow(0px 1px 2px rgba(0, 0, 0, 0.3));\n",
       "      fill: #FFFFFF;\n",
       "    }\n",
       "  </style>\n",
       "\n",
       "      <script>\n",
       "        const buttonEl =\n",
       "          document.querySelector('#df-b04fd53b-94db-4308-9ba4-fe5a15b78641 button.colab-df-convert');\n",
       "        buttonEl.style.display =\n",
       "          google.colab.kernel.accessAllowed ? 'block' : 'none';\n",
       "\n",
       "        async function convertToInteractive(key) {\n",
       "          const element = document.querySelector('#df-b04fd53b-94db-4308-9ba4-fe5a15b78641');\n",
       "          const dataTable =\n",
       "            await google.colab.kernel.invokeFunction('convertToInteractive',\n",
       "                                                     [key], {});\n",
       "          if (!dataTable) return;\n",
       "\n",
       "          const docLinkHtml = 'Like what you see? Visit the ' +\n",
       "            '<a target=\"_blank\" href=https://colab.research.google.com/notebooks/data_table.ipynb>data table notebook</a>'\n",
       "            + ' to learn more about interactive tables.';\n",
       "          element.innerHTML = '';\n",
       "          dataTable['output_type'] = 'display_data';\n",
       "          await google.colab.output.renderOutput(dataTable, element);\n",
       "          const docLink = document.createElement('div');\n",
       "          docLink.innerHTML = docLinkHtml;\n",
       "          element.appendChild(docLink);\n",
       "        }\n",
       "      </script>\n",
       "    </div>\n",
       "  </div>\n",
       "  "
      ],
      "text/plain": [
       "   Unnamed: 0  YEAR                                              TITLE  \\\n",
       "0           0  2022  A Systematic Survey of Text Worlds as Embodied...   \n",
       "1           1  2022  A Minimal Computational Improviser Based on Or...   \n",
       "2           2  2022  Craft an Iron Sword: Dynamically Generating In...   \n",
       "3           3  2022  A Sequence Modelling Approach to Question Answ...   \n",
       "4           4  2022  Automatic Exploration of Textual Environments ...   \n",
       "\n",
       "                                            ABSTRACT  \\\n",
       "0  Text Worlds are virtual environments for embod...   \n",
       "1  A prototype system for playing a minimal impro...   \n",
       "2  Non-Player Characters (NPCs) significantly enh...   \n",
       "3  Interactive Question Answering (IQA) requires ...   \n",
       "4  The purpose of this extended abstract is to di...   \n",
       "\n",
       "                      AUTHOR                                  PUBLISHER  \\\n",
       "0              Jansen, Peter  Association for Computational Linguistics   \n",
       "1        Montfort, Nick  and  Association for Computational Linguistics   \n",
       "2           Volum, Ryan  and  Association for Computational Linguistics   \n",
       "3       Furman, Gregory  and  Association for Computational Linguistics   \n",
       "4  Teodorescu, Laetitia  and  Association for Computational Linguistics   \n",
       "\n",
       "                                           BOOKTITLE       CATEGORY      name  \\\n",
       "0  Proceedings of the 3rd Wordplay: When Language...  INPROCEEDINGS     Peter   \n",
       "1  Proceedings of the 3rd Wordplay: When Language...  INPROCEEDINGS      Nick   \n",
       "2  Proceedings of the 3rd Wordplay: When Language...  INPROCEEDINGS      Ryan   \n",
       "3  Proceedings of the 3rd Wordplay: When Language...  INPROCEEDINGS   Gregory   \n",
       "4  Proceedings of the 3rd Wordplay: When Language...  INPROCEEDINGS  Laetitia   \n",
       "\n",
       "  Gender_Guesser Gender_API Gender_Andy_API Gender_ACL  Gender=gender3  \\\n",
       "0           male        NaN             NaN       male            True   \n",
       "1           male        NaN             NaN       male            True   \n",
       "2           male        NaN             NaN       male            True   \n",
       "3           male        NaN             NaN       male            True   \n",
       "4         female        NaN             NaN       male           False   \n",
       "\n",
       "  gender_final_form gender_final  \n",
       "0              male         male  \n",
       "1              male         male  \n",
       "2              male         male  \n",
       "3              male         male  \n",
       "4            female       female  "
      ]
     },
     "execution_count": 5,
     "metadata": {},
     "output_type": "execute_result"
    }
   ],
   "source": [
    "data_final.head()"
   ]
  },
  {
   "cell_type": "code",
   "execution_count": 211,
   "metadata": {
    "executionInfo": {
     "elapsed": 562,
     "status": "ok",
     "timestamp": 1665433042271,
     "user": {
      "displayName": "Clara Trinco",
      "userId": "07775861695630223845"
     },
     "user_tz": 180
    },
    "id": "VfPLGpzMzA0x"
   },
   "outputs": [],
   "source": [
    "data_final.loc[data_final[\"gender_final\"] == \"Y\", \"gender_final\"] = 'unknown' #cambio mostly_male por male"
   ]
  },
  {
   "cell_type": "markdown",
   "metadata": {
    "id": "qC9Orit5xS5L"
   },
   "source": [
    "# **GRAFICOS DE GENDER**"
   ]
  },
  {
   "cell_type": "code",
   "execution_count": 212,
   "metadata": {
    "colab": {
     "base_uri": "https://localhost:8080/",
     "height": 280
    },
    "executionInfo": {
     "elapsed": 1341,
     "status": "ok",
     "timestamp": 1664802290186,
     "user": {
      "displayName": "Clara Trinco",
      "userId": "07775861695630223845"
     },
     "user_tz": 180
    },
    "id": "i9RCFBT6DbQ0",
    "outputId": "4401272f-d595-4351-c65d-f85c89e5813b"
   },
   "outputs": [
    {
     "data": {
      "image/png": "[encoded data removed]",
      "text/plain": [
       "<Figure size 432x288 with 1 Axes>"
      ]
     },
     "metadata": {
      "needs_background": "light"
     },
     "output_type": "display_data"
    }
   ],
   "source": [
    "import matplotlib.pyplot as plt\n",
    "import numpy as np\n",
    "%matplotlib inline\n",
    "\n",
    "plt.hist(data['gender_g'])  # density=False would make counts\n",
    "plt.ylabel('Qty')\n",
    "plt.xlabel('Gender');"
   ]
  },
  {
   "cell_type": "code",
   "execution_count": 213,
   "metadata": {
    "colab": {
     "base_uri": "https://localhost:8080/",
     "height": 278
    },
    "executionInfo": {
     "elapsed": 291,
     "status": "ok",
     "timestamp": 1665433045515,
     "user": {
      "displayName": "Clara Trinco",
      "userId": "07775861695630223845"
     },
     "user_tz": 180
    },
    "id": "8k75HKmnxVL4",
    "outputId": "4edbb4ca-82e3-4c56-8664-f39621523725"
   },
   "outputs": [
    {
     "ename": "TypeError",
     "evalue": "'value' must be an instance of str or bytes, not a float",
     "output_type": "error",
     "traceback": [
      "\u001b[0;31m---------------------------------------------------------------------------\u001b[0m",
      "\u001b[0;31mTypeError\u001b[0m                                 Traceback (most recent call last)",
      "Input \u001b[0;32mIn [213]\u001b[0m, in \u001b[0;36m<cell line: 5>\u001b[0;34m()\u001b[0m\n\u001b[1;32m      2\u001b[0m \u001b[38;5;28;01mimport\u001b[39;00m \u001b[38;5;21;01mnumpy\u001b[39;00m \u001b[38;5;28;01mas\u001b[39;00m \u001b[38;5;21;01mnp\u001b[39;00m\n\u001b[1;32m      3\u001b[0m get_ipython()\u001b[38;5;241m.\u001b[39mrun_line_magic(\u001b[38;5;124m'\u001b[39m\u001b[38;5;124mmatplotlib\u001b[39m\u001b[38;5;124m'\u001b[39m, \u001b[38;5;124m'\u001b[39m\u001b[38;5;124minline\u001b[39m\u001b[38;5;124m'\u001b[39m)\n\u001b[0;32m----> 5\u001b[0m \u001b[43mplt\u001b[49m\u001b[38;5;241;43m.\u001b[39;49m\u001b[43mhist\u001b[49m\u001b[43m(\u001b[49m\u001b[43mdata_final\u001b[49m\u001b[43m[\u001b[49m\u001b[38;5;124;43m'\u001b[39;49m\u001b[38;5;124;43mgender_final\u001b[39;49m\u001b[38;5;124;43m'\u001b[39;49m\u001b[43m]\u001b[49m\u001b[43m)\u001b[49m  \u001b[38;5;66;03m# density=False would make counts\u001b[39;00m\n\u001b[1;32m      6\u001b[0m plt\u001b[38;5;241m.\u001b[39mylabel(\u001b[38;5;124m'\u001b[39m\u001b[38;5;124mQty\u001b[39m\u001b[38;5;124m'\u001b[39m)\n\u001b[1;32m      7\u001b[0m plt\u001b[38;5;241m.\u001b[39mxlabel(\u001b[38;5;124m'\u001b[39m\u001b[38;5;124mGender\u001b[39m\u001b[38;5;124m'\u001b[39m)\n",
      "File \u001b[0;32m~/anaconda3/lib/python3.9/site-packages/matplotlib/pyplot.py:2590\u001b[0m, in \u001b[0;36mhist\u001b[0;34m(x, bins, range, density, weights, cumulative, bottom, histtype, align, orientation, rwidth, log, color, label, stacked, data, **kwargs)\u001b[0m\n\u001b[1;32m   2584\u001b[0m \u001b[38;5;129m@_copy_docstring_and_deprecators\u001b[39m(Axes\u001b[38;5;241m.\u001b[39mhist)\n\u001b[1;32m   2585\u001b[0m \u001b[38;5;28;01mdef\u001b[39;00m \u001b[38;5;21mhist\u001b[39m(\n\u001b[1;32m   2586\u001b[0m         x, bins\u001b[38;5;241m=\u001b[39m\u001b[38;5;28;01mNone\u001b[39;00m, \u001b[38;5;28mrange\u001b[39m\u001b[38;5;241m=\u001b[39m\u001b[38;5;28;01mNone\u001b[39;00m, density\u001b[38;5;241m=\u001b[39m\u001b[38;5;28;01mFalse\u001b[39;00m, weights\u001b[38;5;241m=\u001b[39m\u001b[38;5;28;01mNone\u001b[39;00m,\n\u001b[1;32m   2587\u001b[0m         cumulative\u001b[38;5;241m=\u001b[39m\u001b[38;5;28;01mFalse\u001b[39;00m, bottom\u001b[38;5;241m=\u001b[39m\u001b[38;5;28;01mNone\u001b[39;00m, histtype\u001b[38;5;241m=\u001b[39m\u001b[38;5;124m'\u001b[39m\u001b[38;5;124mbar\u001b[39m\u001b[38;5;124m'\u001b[39m, align\u001b[38;5;241m=\u001b[39m\u001b[38;5;124m'\u001b[39m\u001b[38;5;124mmid\u001b[39m\u001b[38;5;124m'\u001b[39m,\n\u001b[1;32m   2588\u001b[0m         orientation\u001b[38;5;241m=\u001b[39m\u001b[38;5;124m'\u001b[39m\u001b[38;5;124mvertical\u001b[39m\u001b[38;5;124m'\u001b[39m, rwidth\u001b[38;5;241m=\u001b[39m\u001b[38;5;28;01mNone\u001b[39;00m, log\u001b[38;5;241m=\u001b[39m\u001b[38;5;28;01mFalse\u001b[39;00m, color\u001b[38;5;241m=\u001b[39m\u001b[38;5;28;01mNone\u001b[39;00m,\n\u001b[1;32m   2589\u001b[0m         label\u001b[38;5;241m=\u001b[39m\u001b[38;5;28;01mNone\u001b[39;00m, stacked\u001b[38;5;241m=\u001b[39m\u001b[38;5;28;01mFalse\u001b[39;00m, \u001b[38;5;241m*\u001b[39m, data\u001b[38;5;241m=\u001b[39m\u001b[38;5;28;01mNone\u001b[39;00m, \u001b[38;5;241m*\u001b[39m\u001b[38;5;241m*\u001b[39mkwargs):\n\u001b[0;32m-> 2590\u001b[0m     \u001b[38;5;28;01mreturn\u001b[39;00m \u001b[43mgca\u001b[49m\u001b[43m(\u001b[49m\u001b[43m)\u001b[49m\u001b[38;5;241;43m.\u001b[39;49m\u001b[43mhist\u001b[49m\u001b[43m(\u001b[49m\n\u001b[1;32m   2591\u001b[0m \u001b[43m        \u001b[49m\u001b[43mx\u001b[49m\u001b[43m,\u001b[49m\u001b[43m \u001b[49m\u001b[43mbins\u001b[49m\u001b[38;5;241;43m=\u001b[39;49m\u001b[43mbins\u001b[49m\u001b[43m,\u001b[49m\u001b[43m \u001b[49m\u001b[38;5;28;43mrange\u001b[39;49m\u001b[38;5;241;43m=\u001b[39;49m\u001b[38;5;28;43mrange\u001b[39;49m\u001b[43m,\u001b[49m\u001b[43m \u001b[49m\u001b[43mdensity\u001b[49m\u001b[38;5;241;43m=\u001b[39;49m\u001b[43mdensity\u001b[49m\u001b[43m,\u001b[49m\u001b[43m \u001b[49m\u001b[43mweights\u001b[49m\u001b[38;5;241;43m=\u001b[39;49m\u001b[43mweights\u001b[49m\u001b[43m,\u001b[49m\n\u001b[1;32m   2592\u001b[0m \u001b[43m        \u001b[49m\u001b[43mcumulative\u001b[49m\u001b[38;5;241;43m=\u001b[39;49m\u001b[43mcumulative\u001b[49m\u001b[43m,\u001b[49m\u001b[43m \u001b[49m\u001b[43mbottom\u001b[49m\u001b[38;5;241;43m=\u001b[39;49m\u001b[43mbottom\u001b[49m\u001b[43m,\u001b[49m\u001b[43m \u001b[49m\u001b[43mhisttype\u001b[49m\u001b[38;5;241;43m=\u001b[39;49m\u001b[43mhisttype\u001b[49m\u001b[43m,\u001b[49m\n\u001b[1;32m   2593\u001b[0m \u001b[43m        \u001b[49m\u001b[43malign\u001b[49m\u001b[38;5;241;43m=\u001b[39;49m\u001b[43malign\u001b[49m\u001b[43m,\u001b[49m\u001b[43m \u001b[49m\u001b[43morientation\u001b[49m\u001b[38;5;241;43m=\u001b[39;49m\u001b[43morientation\u001b[49m\u001b[43m,\u001b[49m\u001b[43m \u001b[49m\u001b[43mrwidth\u001b[49m\u001b[38;5;241;43m=\u001b[39;49m\u001b[43mrwidth\u001b[49m\u001b[43m,\u001b[49m\u001b[43m \u001b[49m\u001b[43mlog\u001b[49m\u001b[38;5;241;43m=\u001b[39;49m\u001b[43mlog\u001b[49m\u001b[43m,\u001b[49m\n\u001b[1;32m   2594\u001b[0m \u001b[43m        \u001b[49m\u001b[43mcolor\u001b[49m\u001b[38;5;241;43m=\u001b[39;49m\u001b[43mcolor\u001b[49m\u001b[43m,\u001b[49m\u001b[43m \u001b[49m\u001b[43mlabel\u001b[49m\u001b[38;5;241;43m=\u001b[39;49m\u001b[43mlabel\u001b[49m\u001b[43m,\u001b[49m\u001b[43m \u001b[49m\u001b[43mstacked\u001b[49m\u001b[38;5;241;43m=\u001b[39;49m\u001b[43mstacked\u001b[49m\u001b[43m,\u001b[49m\n\u001b[1;32m   2595\u001b[0m \u001b[43m        \u001b[49m\u001b[38;5;241;43m*\u001b[39;49m\u001b[38;5;241;43m*\u001b[39;49m\u001b[43m(\u001b[49m\u001b[43m{\u001b[49m\u001b[38;5;124;43m\"\u001b[39;49m\u001b[38;5;124;43mdata\u001b[39;49m\u001b[38;5;124;43m\"\u001b[39;49m\u001b[43m:\u001b[49m\u001b[43m \u001b[49m\u001b[43mdata\u001b[49m\u001b[43m}\u001b[49m\u001b[43m \u001b[49m\u001b[38;5;28;43;01mif\u001b[39;49;00m\u001b[43m \u001b[49m\u001b[43mdata\u001b[49m\u001b[43m \u001b[49m\u001b[38;5;129;43;01mis\u001b[39;49;00m\u001b[43m \u001b[49m\u001b[38;5;129;43;01mnot\u001b[39;49;00m\u001b[43m \u001b[49m\u001b[38;5;28;43;01mNone\u001b[39;49;00m\u001b[43m \u001b[49m\u001b[38;5;28;43;01melse\u001b[39;49;00m\u001b[43m \u001b[49m\u001b[43m{\u001b[49m\u001b[43m}\u001b[49m\u001b[43m)\u001b[49m\u001b[43m,\u001b[49m\u001b[43m \u001b[49m\u001b[38;5;241;43m*\u001b[39;49m\u001b[38;5;241;43m*\u001b[39;49m\u001b[43mkwargs\u001b[49m\u001b[43m)\u001b[49m\n",
      "File \u001b[0;32m~/anaconda3/lib/python3.9/site-packages/matplotlib/__init__.py:1412\u001b[0m, in \u001b[0;36m_preprocess_data.<locals>.inner\u001b[0;34m(ax, data, *args, **kwargs)\u001b[0m\n\u001b[1;32m   1409\u001b[0m \u001b[38;5;129m@functools\u001b[39m\u001b[38;5;241m.\u001b[39mwraps(func)\n\u001b[1;32m   1410\u001b[0m \u001b[38;5;28;01mdef\u001b[39;00m \u001b[38;5;21minner\u001b[39m(ax, \u001b[38;5;241m*\u001b[39margs, data\u001b[38;5;241m=\u001b[39m\u001b[38;5;28;01mNone\u001b[39;00m, \u001b[38;5;241m*\u001b[39m\u001b[38;5;241m*\u001b[39mkwargs):\n\u001b[1;32m   1411\u001b[0m     \u001b[38;5;28;01mif\u001b[39;00m data \u001b[38;5;129;01mis\u001b[39;00m \u001b[38;5;28;01mNone\u001b[39;00m:\n\u001b[0;32m-> 1412\u001b[0m         \u001b[38;5;28;01mreturn\u001b[39;00m \u001b[43mfunc\u001b[49m\u001b[43m(\u001b[49m\u001b[43max\u001b[49m\u001b[43m,\u001b[49m\u001b[43m \u001b[49m\u001b[38;5;241;43m*\u001b[39;49m\u001b[38;5;28;43mmap\u001b[39;49m\u001b[43m(\u001b[49m\u001b[43msanitize_sequence\u001b[49m\u001b[43m,\u001b[49m\u001b[43m \u001b[49m\u001b[43margs\u001b[49m\u001b[43m)\u001b[49m\u001b[43m,\u001b[49m\u001b[43m \u001b[49m\u001b[38;5;241;43m*\u001b[39;49m\u001b[38;5;241;43m*\u001b[39;49m\u001b[43mkwargs\u001b[49m\u001b[43m)\u001b[49m\n\u001b[1;32m   1414\u001b[0m     bound \u001b[38;5;241m=\u001b[39m new_sig\u001b[38;5;241m.\u001b[39mbind(ax, \u001b[38;5;241m*\u001b[39margs, \u001b[38;5;241m*\u001b[39m\u001b[38;5;241m*\u001b[39mkwargs)\n\u001b[1;32m   1415\u001b[0m     auto_label \u001b[38;5;241m=\u001b[39m (bound\u001b[38;5;241m.\u001b[39marguments\u001b[38;5;241m.\u001b[39mget(label_namer)\n\u001b[1;32m   1416\u001b[0m                   \u001b[38;5;129;01mor\u001b[39;00m bound\u001b[38;5;241m.\u001b[39mkwargs\u001b[38;5;241m.\u001b[39mget(label_namer))\n",
      "File \u001b[0;32m~/anaconda3/lib/python3.9/site-packages/matplotlib/axes/_axes.py:6560\u001b[0m, in \u001b[0;36mAxes.hist\u001b[0;34m(self, x, bins, range, density, weights, cumulative, bottom, histtype, align, orientation, rwidth, log, color, label, stacked, **kwargs)\u001b[0m\n\u001b[1;32m   6558\u001b[0m \u001b[38;5;28;01mif\u001b[39;00m orientation \u001b[38;5;241m==\u001b[39m \u001b[38;5;124m\"\u001b[39m\u001b[38;5;124mvertical\u001b[39m\u001b[38;5;124m\"\u001b[39m:\n\u001b[1;32m   6559\u001b[0m     convert_units \u001b[38;5;241m=\u001b[39m \u001b[38;5;28mself\u001b[39m\u001b[38;5;241m.\u001b[39mconvert_xunits\n\u001b[0;32m-> 6560\u001b[0m     x \u001b[38;5;241m=\u001b[39m [\u001b[38;5;241m*\u001b[39m\u001b[38;5;28;43mself\u001b[39;49m\u001b[38;5;241;43m.\u001b[39;49m\u001b[43m_process_unit_info\u001b[49m\u001b[43m(\u001b[49m\u001b[43m[\u001b[49m\u001b[43m(\u001b[49m\u001b[38;5;124;43m\"\u001b[39;49m\u001b[38;5;124;43mx\u001b[39;49m\u001b[38;5;124;43m\"\u001b[39;49m\u001b[43m,\u001b[49m\u001b[43m \u001b[49m\u001b[43mx\u001b[49m\u001b[43m[\u001b[49m\u001b[38;5;241;43m0\u001b[39;49m\u001b[43m]\u001b[49m\u001b[43m)\u001b[49m\u001b[43m]\u001b[49m\u001b[43m,\u001b[49m\u001b[43m \u001b[49m\u001b[43mkwargs\u001b[49m\u001b[43m)\u001b[49m,\n\u001b[1;32m   6561\u001b[0m          \u001b[38;5;241m*\u001b[39m\u001b[38;5;28mmap\u001b[39m(convert_units, x[\u001b[38;5;241m1\u001b[39m:])]\n\u001b[1;32m   6562\u001b[0m \u001b[38;5;28;01melse\u001b[39;00m:  \u001b[38;5;66;03m# horizontal\u001b[39;00m\n\u001b[1;32m   6563\u001b[0m     convert_units \u001b[38;5;241m=\u001b[39m \u001b[38;5;28mself\u001b[39m\u001b[38;5;241m.\u001b[39mconvert_yunits\n",
      "File \u001b[0;32m~/anaconda3/lib/python3.9/site-packages/matplotlib/axes/_base.py:2521\u001b[0m, in \u001b[0;36m_AxesBase._process_unit_info\u001b[0;34m(self, datasets, kwargs, convert)\u001b[0m\n\u001b[1;32m   2519\u001b[0m     \u001b[38;5;66;03m# Update from data if axis is already set but no unit is set yet.\u001b[39;00m\n\u001b[1;32m   2520\u001b[0m     \u001b[38;5;28;01mif\u001b[39;00m axis \u001b[38;5;129;01mis\u001b[39;00m \u001b[38;5;129;01mnot\u001b[39;00m \u001b[38;5;28;01mNone\u001b[39;00m \u001b[38;5;129;01mand\u001b[39;00m data \u001b[38;5;129;01mis\u001b[39;00m \u001b[38;5;129;01mnot\u001b[39;00m \u001b[38;5;28;01mNone\u001b[39;00m \u001b[38;5;129;01mand\u001b[39;00m \u001b[38;5;129;01mnot\u001b[39;00m axis\u001b[38;5;241m.\u001b[39mhave_units():\n\u001b[0;32m-> 2521\u001b[0m         \u001b[43maxis\u001b[49m\u001b[38;5;241;43m.\u001b[39;49m\u001b[43mupdate_units\u001b[49m\u001b[43m(\u001b[49m\u001b[43mdata\u001b[49m\u001b[43m)\u001b[49m\n\u001b[1;32m   2522\u001b[0m \u001b[38;5;28;01mfor\u001b[39;00m axis_name, axis \u001b[38;5;129;01min\u001b[39;00m axis_map\u001b[38;5;241m.\u001b[39mitems():\n\u001b[1;32m   2523\u001b[0m     \u001b[38;5;66;03m# Return if no axis is set.\u001b[39;00m\n\u001b[1;32m   2524\u001b[0m     \u001b[38;5;28;01mif\u001b[39;00m axis \u001b[38;5;129;01mis\u001b[39;00m \u001b[38;5;28;01mNone\u001b[39;00m:\n",
      "File \u001b[0;32m~/anaconda3/lib/python3.9/site-packages/matplotlib/axis.py:1449\u001b[0m, in \u001b[0;36mAxis.update_units\u001b[0;34m(self, data)\u001b[0m\n\u001b[1;32m   1447\u001b[0m neednew \u001b[38;5;241m=\u001b[39m \u001b[38;5;28mself\u001b[39m\u001b[38;5;241m.\u001b[39mconverter \u001b[38;5;241m!=\u001b[39m converter\n\u001b[1;32m   1448\u001b[0m \u001b[38;5;28mself\u001b[39m\u001b[38;5;241m.\u001b[39mconverter \u001b[38;5;241m=\u001b[39m converter\n\u001b[0;32m-> 1449\u001b[0m default \u001b[38;5;241m=\u001b[39m \u001b[38;5;28;43mself\u001b[39;49m\u001b[38;5;241;43m.\u001b[39;49m\u001b[43mconverter\u001b[49m\u001b[38;5;241;43m.\u001b[39;49m\u001b[43mdefault_units\u001b[49m\u001b[43m(\u001b[49m\u001b[43mdata\u001b[49m\u001b[43m,\u001b[49m\u001b[43m \u001b[49m\u001b[38;5;28;43mself\u001b[39;49m\u001b[43m)\u001b[49m\n\u001b[1;32m   1450\u001b[0m \u001b[38;5;28;01mif\u001b[39;00m default \u001b[38;5;129;01mis\u001b[39;00m \u001b[38;5;129;01mnot\u001b[39;00m \u001b[38;5;28;01mNone\u001b[39;00m \u001b[38;5;129;01mand\u001b[39;00m \u001b[38;5;28mself\u001b[39m\u001b[38;5;241m.\u001b[39munits \u001b[38;5;129;01mis\u001b[39;00m \u001b[38;5;28;01mNone\u001b[39;00m:\n\u001b[1;32m   1451\u001b[0m     \u001b[38;5;28mself\u001b[39m\u001b[38;5;241m.\u001b[39mset_units(default)\n",
      "File \u001b[0;32m~/anaconda3/lib/python3.9/site-packages/matplotlib/category.py:116\u001b[0m, in \u001b[0;36mStrCategoryConverter.default_units\u001b[0;34m(data, axis)\u001b[0m\n\u001b[1;32m    114\u001b[0m \u001b[38;5;66;03m# the conversion call stack is default_units -> axis_info -> convert\u001b[39;00m\n\u001b[1;32m    115\u001b[0m \u001b[38;5;28;01mif\u001b[39;00m axis\u001b[38;5;241m.\u001b[39munits \u001b[38;5;129;01mis\u001b[39;00m \u001b[38;5;28;01mNone\u001b[39;00m:\n\u001b[0;32m--> 116\u001b[0m     axis\u001b[38;5;241m.\u001b[39mset_units(\u001b[43mUnitData\u001b[49m\u001b[43m(\u001b[49m\u001b[43mdata\u001b[49m\u001b[43m)\u001b[49m)\n\u001b[1;32m    117\u001b[0m \u001b[38;5;28;01melse\u001b[39;00m:\n\u001b[1;32m    118\u001b[0m     axis\u001b[38;5;241m.\u001b[39munits\u001b[38;5;241m.\u001b[39mupdate(data)\n",
      "File \u001b[0;32m~/anaconda3/lib/python3.9/site-packages/matplotlib/category.py:192\u001b[0m, in \u001b[0;36mUnitData.__init__\u001b[0;34m(self, data)\u001b[0m\n\u001b[1;32m    190\u001b[0m \u001b[38;5;28mself\u001b[39m\u001b[38;5;241m.\u001b[39m_counter \u001b[38;5;241m=\u001b[39m itertools\u001b[38;5;241m.\u001b[39mcount()\n\u001b[1;32m    191\u001b[0m \u001b[38;5;28;01mif\u001b[39;00m data \u001b[38;5;129;01mis\u001b[39;00m \u001b[38;5;129;01mnot\u001b[39;00m \u001b[38;5;28;01mNone\u001b[39;00m:\n\u001b[0;32m--> 192\u001b[0m     \u001b[38;5;28;43mself\u001b[39;49m\u001b[38;5;241;43m.\u001b[39;49m\u001b[43mupdate\u001b[49m\u001b[43m(\u001b[49m\u001b[43mdata\u001b[49m\u001b[43m)\u001b[49m\n",
      "File \u001b[0;32m~/anaconda3/lib/python3.9/site-packages/matplotlib/category.py:227\u001b[0m, in \u001b[0;36mUnitData.update\u001b[0;34m(self, data)\u001b[0m\n\u001b[1;32m    224\u001b[0m convertible \u001b[38;5;241m=\u001b[39m \u001b[38;5;28;01mTrue\u001b[39;00m\n\u001b[1;32m    225\u001b[0m \u001b[38;5;28;01mfor\u001b[39;00m val \u001b[38;5;129;01min\u001b[39;00m OrderedDict\u001b[38;5;241m.\u001b[39mfromkeys(data):\n\u001b[1;32m    226\u001b[0m     \u001b[38;5;66;03m# OrderedDict just iterates over unique values in data.\u001b[39;00m\n\u001b[0;32m--> 227\u001b[0m     \u001b[43m_api\u001b[49m\u001b[38;5;241;43m.\u001b[39;49m\u001b[43mcheck_isinstance\u001b[49m\u001b[43m(\u001b[49m\u001b[43m(\u001b[49m\u001b[38;5;28;43mstr\u001b[39;49m\u001b[43m,\u001b[49m\u001b[43m \u001b[49m\u001b[38;5;28;43mbytes\u001b[39;49m\u001b[43m)\u001b[49m\u001b[43m,\u001b[49m\u001b[43m \u001b[49m\u001b[43mvalue\u001b[49m\u001b[38;5;241;43m=\u001b[39;49m\u001b[43mval\u001b[49m\u001b[43m)\u001b[49m\n\u001b[1;32m    228\u001b[0m     \u001b[38;5;28;01mif\u001b[39;00m convertible:\n\u001b[1;32m    229\u001b[0m         \u001b[38;5;66;03m# this will only be called so long as convertible is True.\u001b[39;00m\n\u001b[1;32m    230\u001b[0m         convertible \u001b[38;5;241m=\u001b[39m \u001b[38;5;28mself\u001b[39m\u001b[38;5;241m.\u001b[39m_str_is_convertible(val)\n",
      "File \u001b[0;32m~/anaconda3/lib/python3.9/site-packages/matplotlib/_api/__init__.py:93\u001b[0m, in \u001b[0;36mcheck_isinstance\u001b[0;34m(_types, **kwargs)\u001b[0m\n\u001b[1;32m     91\u001b[0m     names\u001b[38;5;241m.\u001b[39mremove(\u001b[38;5;124m\"\u001b[39m\u001b[38;5;124mNone\u001b[39m\u001b[38;5;124m\"\u001b[39m)\n\u001b[1;32m     92\u001b[0m     names\u001b[38;5;241m.\u001b[39mappend(\u001b[38;5;124m\"\u001b[39m\u001b[38;5;124mNone\u001b[39m\u001b[38;5;124m\"\u001b[39m)\n\u001b[0;32m---> 93\u001b[0m \u001b[38;5;28;01mraise\u001b[39;00m \u001b[38;5;167;01mTypeError\u001b[39;00m(\n\u001b[1;32m     94\u001b[0m     \u001b[38;5;124m\"\u001b[39m\u001b[38;5;132;01m{!r}\u001b[39;00m\u001b[38;5;124m must be an instance of \u001b[39m\u001b[38;5;132;01m{}\u001b[39;00m\u001b[38;5;124m, not a \u001b[39m\u001b[38;5;132;01m{}\u001b[39;00m\u001b[38;5;124m\"\u001b[39m\u001b[38;5;241m.\u001b[39mformat(\n\u001b[1;32m     95\u001b[0m         k,\n\u001b[1;32m     96\u001b[0m         \u001b[38;5;124m\"\u001b[39m\u001b[38;5;124m, \u001b[39m\u001b[38;5;124m\"\u001b[39m\u001b[38;5;241m.\u001b[39mjoin(names[:\u001b[38;5;241m-\u001b[39m\u001b[38;5;241m1\u001b[39m]) \u001b[38;5;241m+\u001b[39m \u001b[38;5;124m\"\u001b[39m\u001b[38;5;124m or \u001b[39m\u001b[38;5;124m\"\u001b[39m \u001b[38;5;241m+\u001b[39m names[\u001b[38;5;241m-\u001b[39m\u001b[38;5;241m1\u001b[39m]\n\u001b[1;32m     97\u001b[0m         \u001b[38;5;28;01mif\u001b[39;00m \u001b[38;5;28mlen\u001b[39m(names) \u001b[38;5;241m>\u001b[39m \u001b[38;5;241m1\u001b[39m \u001b[38;5;28;01melse\u001b[39;00m names[\u001b[38;5;241m0\u001b[39m],\n\u001b[1;32m     98\u001b[0m         type_name(\u001b[38;5;28mtype\u001b[39m(v))))\n",
      "\u001b[0;31mTypeError\u001b[0m: 'value' must be an instance of str or bytes, not a float"
     ]
    },
    {
     "data": {
      "image/png": "[encoded data removed]",
      "text/plain": [
       "<Figure size 432x288 with 1 Axes>"
      ]
     },
     "metadata": {
      "needs_background": "light"
     },
     "output_type": "display_data"
    }
   ],
   "source": [
    "import matplotlib.pyplot as plt\n",
    "import numpy as np\n",
    "%matplotlib inline\n",
    "\n",
    "plt.hist(data_final['gender_final'])  # density=False would make counts\n",
    "plt.ylabel('Qty')\n",
    "plt.xlabel('Gender');"
   ]
  },
  {
   "cell_type": "code",
   "execution_count": 50,
   "metadata": {
    "executionInfo": {
     "elapsed": 498,
     "status": "ok",
     "timestamp": 1665435241569,
     "user": {
      "displayName": "Clara Trinco",
      "userId": "07775861695630223845"
     },
     "user_tz": 180
    },
    "id": "QlrVxMs-oEpe"
   },
   "outputs": [],
   "source": [
    "table=data_final.value_counts(['YEAR', 'gender_final'])"
   ]
  },
  {
   "cell_type": "code",
   "execution_count": 51,
   "metadata": {
    "colab": {
     "base_uri": "https://localhost:8080/"
    },
    "executionInfo": {
     "elapsed": 315,
     "status": "ok",
     "timestamp": 1665435243224,
     "user": {
      "displayName": "Clara Trinco",
      "userId": "07775861695630223845"
     },
     "user_tz": 180
    },
    "id": "d1a6Vx9noLBl",
    "outputId": "f7d80696-c3f8-4e2e-8a4b-a8fc1a5b444c"
   },
   "outputs": [
    {
     "data": {
      "text/plain": [
       "YEAR  gender_final\n",
       "2020  male            4430\n",
       "2021  male            4060\n",
       "2019  male            2986\n",
       "2018  male            2391\n",
       "2022  male            2120\n",
       "                      ... \n",
       "1997  female             1\n",
       "1995  unknown            1\n",
       "1997  unknown            1\n",
       "1995  female             1\n",
       "1993  unknown            1\n",
       "Length: 83, dtype: int64"
      ]
     },
     "execution_count": 51,
     "metadata": {},
     "output_type": "execute_result"
    }
   ],
   "source": [
    "table"
   ]
  },
  {
   "cell_type": "code",
   "execution_count": 61,
   "metadata": {
    "colab": {
     "base_uri": "https://localhost:8080/",
     "height": 931
    },
    "executionInfo": {
     "elapsed": 8,
     "status": "ok",
     "timestamp": 1665435970356,
     "user": {
      "displayName": "Clara Trinco",
      "userId": "07775861695630223845"
     },
     "user_tz": 180
    },
    "id": "fItljB2Yt_ff",
    "outputId": "299d07a0-6ab2-43c1-cf04-235dce3578c9"
   },
   "outputs": [
    {
     "data": {
      "text/html": [
       "\n",
       "  <div id=\"df-6b3dfecc-c7fe-4358-8cb1-ea821787aa45\">\n",
       "    <div class=\"colab-df-container\">\n",
       "      <div>\n",
       "<style scoped>\n",
       "    .dataframe tbody tr th:only-of-type {\n",
       "        vertical-align: middle;\n",
       "    }\n",
       "\n",
       "    .dataframe tbody tr th {\n",
       "        vertical-align: top;\n",
       "    }\n",
       "\n",
       "    .dataframe thead th {\n",
       "        text-align: right;\n",
       "    }\n",
       "</style>\n",
       "<table border=\"1\" class=\"dataframe\">\n",
       "  <thead>\n",
       "    <tr style=\"text-align: right;\">\n",
       "      <th>gender_final</th>\n",
       "      <th>female</th>\n",
       "      <th>male</th>\n",
       "      <th>unknown</th>\n",
       "    </tr>\n",
       "    <tr>\n",
       "      <th>YEAR</th>\n",
       "      <th></th>\n",
       "      <th></th>\n",
       "      <th></th>\n",
       "    </tr>\n",
       "  </thead>\n",
       "  <tbody>\n",
       "    <tr>\n",
       "      <th>1989</th>\n",
       "      <td>2</td>\n",
       "      <td>24</td>\n",
       "      <td>2</td>\n",
       "    </tr>\n",
       "    <tr>\n",
       "      <th>1991</th>\n",
       "      <td>3</td>\n",
       "      <td>24</td>\n",
       "      <td>0</td>\n",
       "    </tr>\n",
       "    <tr>\n",
       "      <th>1993</th>\n",
       "      <td>5</td>\n",
       "      <td>35</td>\n",
       "      <td>1</td>\n",
       "    </tr>\n",
       "    <tr>\n",
       "      <th>1995</th>\n",
       "      <td>1</td>\n",
       "      <td>20</td>\n",
       "      <td>1</td>\n",
       "    </tr>\n",
       "    <tr>\n",
       "      <th>1997</th>\n",
       "      <td>1</td>\n",
       "      <td>25</td>\n",
       "      <td>1</td>\n",
       "    </tr>\n",
       "    <tr>\n",
       "      <th>1998</th>\n",
       "      <td>24</td>\n",
       "      <td>23</td>\n",
       "      <td>4</td>\n",
       "    </tr>\n",
       "    <tr>\n",
       "      <th>2000</th>\n",
       "      <td>14</td>\n",
       "      <td>49</td>\n",
       "      <td>4</td>\n",
       "    </tr>\n",
       "    <tr>\n",
       "      <th>2001</th>\n",
       "      <td>16</td>\n",
       "      <td>38</td>\n",
       "      <td>5</td>\n",
       "    </tr>\n",
       "    <tr>\n",
       "      <th>2002</th>\n",
       "      <td>20</td>\n",
       "      <td>60</td>\n",
       "      <td>7</td>\n",
       "    </tr>\n",
       "    <tr>\n",
       "      <th>2003</th>\n",
       "      <td>18</td>\n",
       "      <td>41</td>\n",
       "      <td>5</td>\n",
       "    </tr>\n",
       "    <tr>\n",
       "      <th>2004</th>\n",
       "      <td>72</td>\n",
       "      <td>114</td>\n",
       "      <td>15</td>\n",
       "    </tr>\n",
       "    <tr>\n",
       "      <th>2005</th>\n",
       "      <td>33</td>\n",
       "      <td>53</td>\n",
       "      <td>2</td>\n",
       "    </tr>\n",
       "    <tr>\n",
       "      <th>2006</th>\n",
       "      <td>200</td>\n",
       "      <td>375</td>\n",
       "      <td>47</td>\n",
       "    </tr>\n",
       "    <tr>\n",
       "      <th>2007</th>\n",
       "      <td>44</td>\n",
       "      <td>39</td>\n",
       "      <td>5</td>\n",
       "    </tr>\n",
       "    <tr>\n",
       "      <th>2008</th>\n",
       "      <td>269</td>\n",
       "      <td>433</td>\n",
       "      <td>33</td>\n",
       "    </tr>\n",
       "    <tr>\n",
       "      <th>2009</th>\n",
       "      <td>30</td>\n",
       "      <td>63</td>\n",
       "      <td>8</td>\n",
       "    </tr>\n",
       "    <tr>\n",
       "      <th>2010</th>\n",
       "      <td>301</td>\n",
       "      <td>498</td>\n",
       "      <td>27</td>\n",
       "    </tr>\n",
       "    <tr>\n",
       "      <th>2011</th>\n",
       "      <td>31</td>\n",
       "      <td>63</td>\n",
       "      <td>3</td>\n",
       "    </tr>\n",
       "    <tr>\n",
       "      <th>2012</th>\n",
       "      <td>264</td>\n",
       "      <td>473</td>\n",
       "      <td>25</td>\n",
       "    </tr>\n",
       "    <tr>\n",
       "      <th>2014</th>\n",
       "      <td>282</td>\n",
       "      <td>514</td>\n",
       "      <td>23</td>\n",
       "    </tr>\n",
       "    <tr>\n",
       "      <th>2015</th>\n",
       "      <td>35</td>\n",
       "      <td>69</td>\n",
       "      <td>3</td>\n",
       "    </tr>\n",
       "    <tr>\n",
       "      <th>2016</th>\n",
       "      <td>568</td>\n",
       "      <td>1158</td>\n",
       "      <td>51</td>\n",
       "    </tr>\n",
       "    <tr>\n",
       "      <th>2017</th>\n",
       "      <td>706</td>\n",
       "      <td>1734</td>\n",
       "      <td>54</td>\n",
       "    </tr>\n",
       "    <tr>\n",
       "      <th>2018</th>\n",
       "      <td>894</td>\n",
       "      <td>2391</td>\n",
       "      <td>75</td>\n",
       "    </tr>\n",
       "    <tr>\n",
       "      <th>2019</th>\n",
       "      <td>1222</td>\n",
       "      <td>2986</td>\n",
       "      <td>90</td>\n",
       "    </tr>\n",
       "    <tr>\n",
       "      <th>2020</th>\n",
       "      <td>1978</td>\n",
       "      <td>4430</td>\n",
       "      <td>165</td>\n",
       "    </tr>\n",
       "    <tr>\n",
       "      <th>2021</th>\n",
       "      <td>1659</td>\n",
       "      <td>4060</td>\n",
       "      <td>51</td>\n",
       "    </tr>\n",
       "    <tr>\n",
       "      <th>2022</th>\n",
       "      <td>914</td>\n",
       "      <td>2120</td>\n",
       "      <td>20</td>\n",
       "    </tr>\n",
       "  </tbody>\n",
       "</table>\n",
       "</div>\n",
       "      <button class=\"colab-df-convert\" onclick=\"convertToInteractive('df-6b3dfecc-c7fe-4358-8cb1-ea821787aa45')\"\n",
       "              title=\"Convert this dataframe to an interactive table.\"\n",
       "              style=\"display:none;\">\n",
       "        \n",
       "  <svg xmlns=\"http://www.w3.org/2000/svg\" height=\"24px\"viewBox=\"0 0 24 24\"\n",
       "       width=\"24px\">\n",
       "    <path d=\"M0 0h24v24H0V0z\" fill=\"none\"/>\n",
       "    <path d=\"M18.56 5.44l.94 2.06.94-2.06 2.06-.94-2.06-.94-.94-2.06-.94 2.06-2.06.94zm-11 1L8.5 8.5l.94-2.06 2.06-.94-2.06-.94L8.5 2.5l-.94 2.06-2.06.94zm10 10l.94 2.06.94-2.06 2.06-.94-2.06-.94-.94-2.06-.94 2.06-2.06.94z\"/><path d=\"M17.41 7.96l-1.37-1.37c-.4-.4-.92-.59-1.43-.59-.52 0-1.04.2-1.43.59L10.3 9.45l-7.72 7.72c-.78.78-.78 2.05 0 2.83L4 21.41c.39.39.9.59 1.41.59.51 0 1.02-.2 1.41-.59l7.78-7.78 2.81-2.81c.8-.78.8-2.07 0-2.86zM5.41 20L4 18.59l7.72-7.72 1.47 1.35L5.41 20z\"/>\n",
       "  </svg>\n",
       "      </button>\n",
       "      \n",
       "  <style>\n",
       "    .colab-df-container {\n",
       "      display:flex;\n",
       "      flex-wrap:wrap;\n",
       "      gap: 12px;\n",
       "    }\n",
       "\n",
       "    .colab-df-convert {\n",
       "      background-color: #E8F0FE;\n",
       "      border: none;\n",
       "      border-radius: 50%;\n",
       "      cursor: pointer;\n",
       "      display: none;\n",
       "      fill: #1967D2;\n",
       "      height: 32px;\n",
       "      padding: 0 0 0 0;\n",
       "      width: 32px;\n",
       "    }\n",
       "\n",
       "    .colab-df-convert:hover {\n",
       "      background-color: #E2EBFA;\n",
       "      box-shadow: 0px 1px 2px rgba(60, 64, 67, 0.3), 0px 1px 3px 1px rgba(60, 64, 67, 0.15);\n",
       "      fill: #174EA6;\n",
       "    }\n",
       "\n",
       "    [theme=dark] .colab-df-convert {\n",
       "      background-color: #3B4455;\n",
       "      fill: #D2E3FC;\n",
       "    }\n",
       "\n",
       "    [theme=dark] .colab-df-convert:hover {\n",
       "      background-color: #434B5C;\n",
       "      box-shadow: 0px 1px 3px 1px rgba(0, 0, 0, 0.15);\n",
       "      filter: drop-shadow(0px 1px 2px rgba(0, 0, 0, 0.3));\n",
       "      fill: #FFFFFF;\n",
       "    }\n",
       "  </style>\n",
       "\n",
       "      <script>\n",
       "        const buttonEl =\n",
       "          document.querySelector('#df-6b3dfecc-c7fe-4358-8cb1-ea821787aa45 button.colab-df-convert');\n",
       "        buttonEl.style.display =\n",
       "          google.colab.kernel.accessAllowed ? 'block' : 'none';\n",
       "\n",
       "        async function convertToInteractive(key) {\n",
       "          const element = document.querySelector('#df-6b3dfecc-c7fe-4358-8cb1-ea821787aa45');\n",
       "          const dataTable =\n",
       "            await google.colab.kernel.invokeFunction('convertToInteractive',\n",
       "                                                     [key], {});\n",
       "          if (!dataTable) return;\n",
       "\n",
       "          const docLinkHtml = 'Like what you see? Visit the ' +\n",
       "            '<a target=\"_blank\" href=https://colab.research.google.com/notebooks/data_table.ipynb>data table notebook</a>'\n",
       "            + ' to learn more about interactive tables.';\n",
       "          element.innerHTML = '';\n",
       "          dataTable['output_type'] = 'display_data';\n",
       "          await google.colab.output.renderOutput(dataTable, element);\n",
       "          const docLink = document.createElement('div');\n",
       "          docLink.innerHTML = docLinkHtml;\n",
       "          element.appendChild(docLink);\n",
       "        }\n",
       "      </script>\n",
       "    </div>\n",
       "  </div>\n",
       "  "
      ],
      "text/plain": [
       "gender_final  female  male  unknown\n",
       "YEAR                               \n",
       "1989               2    24        2\n",
       "1991               3    24        0\n",
       "1993               5    35        1\n",
       "1995               1    20        1\n",
       "1997               1    25        1\n",
       "1998              24    23        4\n",
       "2000              14    49        4\n",
       "2001              16    38        5\n",
       "2002              20    60        7\n",
       "2003              18    41        5\n",
       "2004              72   114       15\n",
       "2005              33    53        2\n",
       "2006             200   375       47\n",
       "2007              44    39        5\n",
       "2008             269   433       33\n",
       "2009              30    63        8\n",
       "2010             301   498       27\n",
       "2011              31    63        3\n",
       "2012             264   473       25\n",
       "2014             282   514       23\n",
       "2015              35    69        3\n",
       "2016             568  1158       51\n",
       "2017             706  1734       54\n",
       "2018             894  2391       75\n",
       "2019            1222  2986       90\n",
       "2020            1978  4430      165\n",
       "2021            1659  4060       51\n",
       "2022             914  2120       20"
      ]
     },
     "execution_count": 61,
     "metadata": {},
     "output_type": "execute_result"
    }
   ],
   "source": [
    "#gender per year\n",
    "\n",
    "per_year = pd.crosstab(data_final.YEAR, data_final.gender_final)\n",
    "per_year"
   ]
  },
  {
   "cell_type": "code",
   "execution_count": null,
   "metadata": {
    "id": "ZTk8MdcuwsKK"
   },
   "outputs": [],
   "source": [
    "#reseteo el index para quedarme con la columna año\n",
    "per_year= per_year.reset_index()\n",
    "per_year.info()"
   ]
  },
  {
   "cell_type": "code",
   "execution_count": 80,
   "metadata": {
    "colab": {
     "base_uri": "https://localhost:8080/",
     "height": 201
    },
    "executionInfo": {
     "elapsed": 639,
     "status": "ok",
     "timestamp": 1665436539474,
     "user": {
      "displayName": "Clara Trinco",
      "userId": "07775861695630223845"
     },
     "user_tz": 180
    },
    "id": "_rZnw6VnwAU6",
    "outputId": "319e887b-3f60-465d-f218-d37d068bf9b0"
   },
   "outputs": [
    {
     "data": {
      "text/html": [
       "\n",
       "  <div id=\"df-d08209e4-5377-4709-893a-31944d1272b6\">\n",
       "    <div class=\"colab-df-container\">\n",
       "      <div>\n",
       "<style scoped>\n",
       "    .dataframe tbody tr th:only-of-type {\n",
       "        vertical-align: middle;\n",
       "    }\n",
       "\n",
       "    .dataframe tbody tr th {\n",
       "        vertical-align: top;\n",
       "    }\n",
       "\n",
       "    .dataframe thead th {\n",
       "        text-align: right;\n",
       "    }\n",
       "</style>\n",
       "<table border=\"1\" class=\"dataframe\">\n",
       "  <thead>\n",
       "    <tr style=\"text-align: right;\">\n",
       "      <th>gender_final</th>\n",
       "      <th>YEAR</th>\n",
       "      <th>female</th>\n",
       "      <th>male</th>\n",
       "      <th>unknown</th>\n",
       "      <th>total</th>\n",
       "    </tr>\n",
       "  </thead>\n",
       "  <tbody>\n",
       "    <tr>\n",
       "      <th>0</th>\n",
       "      <td>1989</td>\n",
       "      <td>2</td>\n",
       "      <td>24</td>\n",
       "      <td>2</td>\n",
       "      <td>28</td>\n",
       "    </tr>\n",
       "    <tr>\n",
       "      <th>1</th>\n",
       "      <td>1991</td>\n",
       "      <td>3</td>\n",
       "      <td>24</td>\n",
       "      <td>0</td>\n",
       "      <td>27</td>\n",
       "    </tr>\n",
       "    <tr>\n",
       "      <th>2</th>\n",
       "      <td>1993</td>\n",
       "      <td>5</td>\n",
       "      <td>35</td>\n",
       "      <td>1</td>\n",
       "      <td>41</td>\n",
       "    </tr>\n",
       "    <tr>\n",
       "      <th>3</th>\n",
       "      <td>1995</td>\n",
       "      <td>1</td>\n",
       "      <td>20</td>\n",
       "      <td>1</td>\n",
       "      <td>22</td>\n",
       "    </tr>\n",
       "    <tr>\n",
       "      <th>4</th>\n",
       "      <td>1997</td>\n",
       "      <td>1</td>\n",
       "      <td>25</td>\n",
       "      <td>1</td>\n",
       "      <td>27</td>\n",
       "    </tr>\n",
       "  </tbody>\n",
       "</table>\n",
       "</div>\n",
       "      <button class=\"colab-df-convert\" onclick=\"convertToInteractive('df-d08209e4-5377-4709-893a-31944d1272b6')\"\n",
       "              title=\"Convert this dataframe to an interactive table.\"\n",
       "              style=\"display:none;\">\n",
       "        \n",
       "  <svg xmlns=\"http://www.w3.org/2000/svg\" height=\"24px\"viewBox=\"0 0 24 24\"\n",
       "       width=\"24px\">\n",
       "    <path d=\"M0 0h24v24H0V0z\" fill=\"none\"/>\n",
       "    <path d=\"M18.56 5.44l.94 2.06.94-2.06 2.06-.94-2.06-.94-.94-2.06-.94 2.06-2.06.94zm-11 1L8.5 8.5l.94-2.06 2.06-.94-2.06-.94L8.5 2.5l-.94 2.06-2.06.94zm10 10l.94 2.06.94-2.06 2.06-.94-2.06-.94-.94-2.06-.94 2.06-2.06.94z\"/><path d=\"M17.41 7.96l-1.37-1.37c-.4-.4-.92-.59-1.43-.59-.52 0-1.04.2-1.43.59L10.3 9.45l-7.72 7.72c-.78.78-.78 2.05 0 2.83L4 21.41c.39.39.9.59 1.41.59.51 0 1.02-.2 1.41-.59l7.78-7.78 2.81-2.81c.8-.78.8-2.07 0-2.86zM5.41 20L4 18.59l7.72-7.72 1.47 1.35L5.41 20z\"/>\n",
       "  </svg>\n",
       "      </button>\n",
       "      \n",
       "  <style>\n",
       "    .colab-df-container {\n",
       "      display:flex;\n",
       "      flex-wrap:wrap;\n",
       "      gap: 12px;\n",
       "    }\n",
       "\n",
       "    .colab-df-convert {\n",
       "      background-color: #E8F0FE;\n",
       "      border: none;\n",
       "      border-radius: 50%;\n",
       "      cursor: pointer;\n",
       "      display: none;\n",
       "      fill: #1967D2;\n",
       "      height: 32px;\n",
       "      padding: 0 0 0 0;\n",
       "      width: 32px;\n",
       "    }\n",
       "\n",
       "    .colab-df-convert:hover {\n",
       "      background-color: #E2EBFA;\n",
       "      box-shadow: 0px 1px 2px rgba(60, 64, 67, 0.3), 0px 1px 3px 1px rgba(60, 64, 67, 0.15);\n",
       "      fill: #174EA6;\n",
       "    }\n",
       "\n",
       "    [theme=dark] .colab-df-convert {\n",
       "      background-color: #3B4455;\n",
       "      fill: #D2E3FC;\n",
       "    }\n",
       "\n",
       "    [theme=dark] .colab-df-convert:hover {\n",
       "      background-color: #434B5C;\n",
       "      box-shadow: 0px 1px 3px 1px rgba(0, 0, 0, 0.15);\n",
       "      filter: drop-shadow(0px 1px 2px rgba(0, 0, 0, 0.3));\n",
       "      fill: #FFFFFF;\n",
       "    }\n",
       "  </style>\n",
       "\n",
       "      <script>\n",
       "        const buttonEl =\n",
       "          document.querySelector('#df-d08209e4-5377-4709-893a-31944d1272b6 button.colab-df-convert');\n",
       "        buttonEl.style.display =\n",
       "          google.colab.kernel.accessAllowed ? 'block' : 'none';\n",
       "\n",
       "        async function convertToInteractive(key) {\n",
       "          const element = document.querySelector('#df-d08209e4-5377-4709-893a-31944d1272b6');\n",
       "          const dataTable =\n",
       "            await google.colab.kernel.invokeFunction('convertToInteractive',\n",
       "                                                     [key], {});\n",
       "          if (!dataTable) return;\n",
       "\n",
       "          const docLinkHtml = 'Like what you see? Visit the ' +\n",
       "            '<a target=\"_blank\" href=https://colab.research.google.com/notebooks/data_table.ipynb>data table notebook</a>'\n",
       "            + ' to learn more about interactive tables.';\n",
       "          element.innerHTML = '';\n",
       "          dataTable['output_type'] = 'display_data';\n",
       "          await google.colab.output.renderOutput(dataTable, element);\n",
       "          const docLink = document.createElement('div');\n",
       "          docLink.innerHTML = docLinkHtml;\n",
       "          element.appendChild(docLink);\n",
       "        }\n",
       "      </script>\n",
       "    </div>\n",
       "  </div>\n",
       "  "
      ],
      "text/plain": [
       "gender_final  YEAR  female  male  unknown  total\n",
       "0             1989       2    24        2     28\n",
       "1             1991       3    24        0     27\n",
       "2             1993       5    35        1     41\n",
       "3             1995       1    20        1     22\n",
       "4             1997       1    25        1     27"
      ]
     },
     "execution_count": 80,
     "metadata": {},
     "output_type": "execute_result"
    }
   ],
   "source": [
    "#creamos el total por año\n",
    "per_year['total'] = per_year['female'] + per_year['male'] + per_year['unknown']\n"
   ]
  },
  {
   "cell_type": "code",
   "execution_count": 82,
   "metadata": {
    "colab": {
     "base_uri": "https://localhost:8080/",
     "height": 201
    },
    "executionInfo": {
     "elapsed": 274,
     "status": "ok",
     "timestamp": 1665436618114,
     "user": {
      "displayName": "Clara Trinco",
      "userId": "07775861695630223845"
     },
     "user_tz": 180
    },
    "id": "Etqe_XYjwZ_I",
    "outputId": "fa93094f-9578-4de9-fe5a-afb5abf49736"
   },
   "outputs": [
    {
     "data": {
      "text/html": [
       "\n",
       "  <div id=\"df-dba6c560-2cd2-4fa8-8d36-1a717aff9c5e\">\n",
       "    <div class=\"colab-df-container\">\n",
       "      <div>\n",
       "<style scoped>\n",
       "    .dataframe tbody tr th:only-of-type {\n",
       "        vertical-align: middle;\n",
       "    }\n",
       "\n",
       "    .dataframe tbody tr th {\n",
       "        vertical-align: top;\n",
       "    }\n",
       "\n",
       "    .dataframe thead th {\n",
       "        text-align: right;\n",
       "    }\n",
       "</style>\n",
       "<table border=\"1\" class=\"dataframe\">\n",
       "  <thead>\n",
       "    <tr style=\"text-align: right;\">\n",
       "      <th>gender_final</th>\n",
       "      <th>YEAR</th>\n",
       "      <th>female</th>\n",
       "      <th>male</th>\n",
       "      <th>unknown</th>\n",
       "      <th>total</th>\n",
       "      <th>female_%</th>\n",
       "      <th>male_%</th>\n",
       "      <th>unknown_%</th>\n",
       "    </tr>\n",
       "  </thead>\n",
       "  <tbody>\n",
       "    <tr>\n",
       "      <th>0</th>\n",
       "      <td>1989</td>\n",
       "      <td>2</td>\n",
       "      <td>24</td>\n",
       "      <td>2</td>\n",
       "      <td>28</td>\n",
       "      <td>7.142857</td>\n",
       "      <td>85.714286</td>\n",
       "      <td>7.142857</td>\n",
       "    </tr>\n",
       "    <tr>\n",
       "      <th>1</th>\n",
       "      <td>1991</td>\n",
       "      <td>3</td>\n",
       "      <td>24</td>\n",
       "      <td>0</td>\n",
       "      <td>27</td>\n",
       "      <td>11.111111</td>\n",
       "      <td>88.888889</td>\n",
       "      <td>0.000000</td>\n",
       "    </tr>\n",
       "    <tr>\n",
       "      <th>2</th>\n",
       "      <td>1993</td>\n",
       "      <td>5</td>\n",
       "      <td>35</td>\n",
       "      <td>1</td>\n",
       "      <td>41</td>\n",
       "      <td>12.195122</td>\n",
       "      <td>85.365854</td>\n",
       "      <td>2.439024</td>\n",
       "    </tr>\n",
       "    <tr>\n",
       "      <th>3</th>\n",
       "      <td>1995</td>\n",
       "      <td>1</td>\n",
       "      <td>20</td>\n",
       "      <td>1</td>\n",
       "      <td>22</td>\n",
       "      <td>4.545455</td>\n",
       "      <td>90.909091</td>\n",
       "      <td>4.545455</td>\n",
       "    </tr>\n",
       "    <tr>\n",
       "      <th>4</th>\n",
       "      <td>1997</td>\n",
       "      <td>1</td>\n",
       "      <td>25</td>\n",
       "      <td>1</td>\n",
       "      <td>27</td>\n",
       "      <td>3.703704</td>\n",
       "      <td>92.592593</td>\n",
       "      <td>3.703704</td>\n",
       "    </tr>\n",
       "  </tbody>\n",
       "</table>\n",
       "</div>\n",
       "      <button class=\"colab-df-convert\" onclick=\"convertToInteractive('df-dba6c560-2cd2-4fa8-8d36-1a717aff9c5e')\"\n",
       "              title=\"Convert this dataframe to an interactive table.\"\n",
       "              style=\"display:none;\">\n",
       "        \n",
       "  <svg xmlns=\"http://www.w3.org/2000/svg\" height=\"24px\"viewBox=\"0 0 24 24\"\n",
       "       width=\"24px\">\n",
       "    <path d=\"M0 0h24v24H0V0z\" fill=\"none\"/>\n",
       "    <path d=\"M18.56 5.44l.94 2.06.94-2.06 2.06-.94-2.06-.94-.94-2.06-.94 2.06-2.06.94zm-11 1L8.5 8.5l.94-2.06 2.06-.94-2.06-.94L8.5 2.5l-.94 2.06-2.06.94zm10 10l.94 2.06.94-2.06 2.06-.94-2.06-.94-.94-2.06-.94 2.06-2.06.94z\"/><path d=\"M17.41 7.96l-1.37-1.37c-.4-.4-.92-.59-1.43-.59-.52 0-1.04.2-1.43.59L10.3 9.45l-7.72 7.72c-.78.78-.78 2.05 0 2.83L4 21.41c.39.39.9.59 1.41.59.51 0 1.02-.2 1.41-.59l7.78-7.78 2.81-2.81c.8-.78.8-2.07 0-2.86zM5.41 20L4 18.59l7.72-7.72 1.47 1.35L5.41 20z\"/>\n",
       "  </svg>\n",
       "      </button>\n",
       "      \n",
       "  <style>\n",
       "    .colab-df-container {\n",
       "      display:flex;\n",
       "      flex-wrap:wrap;\n",
       "      gap: 12px;\n",
       "    }\n",
       "\n",
       "    .colab-df-convert {\n",
       "      background-color: #E8F0FE;\n",
       "      border: none;\n",
       "      border-radius: 50%;\n",
       "      cursor: pointer;\n",
       "      display: none;\n",
       "      fill: #1967D2;\n",
       "      height: 32px;\n",
       "      padding: 0 0 0 0;\n",
       "      width: 32px;\n",
       "    }\n",
       "\n",
       "    .colab-df-convert:hover {\n",
       "      background-color: #E2EBFA;\n",
       "      box-shadow: 0px 1px 2px rgba(60, 64, 67, 0.3), 0px 1px 3px 1px rgba(60, 64, 67, 0.15);\n",
       "      fill: #174EA6;\n",
       "    }\n",
       "\n",
       "    [theme=dark] .colab-df-convert {\n",
       "      background-color: #3B4455;\n",
       "      fill: #D2E3FC;\n",
       "    }\n",
       "\n",
       "    [theme=dark] .colab-df-convert:hover {\n",
       "      background-color: #434B5C;\n",
       "      box-shadow: 0px 1px 3px 1px rgba(0, 0, 0, 0.15);\n",
       "      filter: drop-shadow(0px 1px 2px rgba(0, 0, 0, 0.3));\n",
       "      fill: #FFFFFF;\n",
       "    }\n",
       "  </style>\n",
       "\n",
       "      <script>\n",
       "        const buttonEl =\n",
       "          document.querySelector('#df-dba6c560-2cd2-4fa8-8d36-1a717aff9c5e button.colab-df-convert');\n",
       "        buttonEl.style.display =\n",
       "          google.colab.kernel.accessAllowed ? 'block' : 'none';\n",
       "\n",
       "        async function convertToInteractive(key) {\n",
       "          const element = document.querySelector('#df-dba6c560-2cd2-4fa8-8d36-1a717aff9c5e');\n",
       "          const dataTable =\n",
       "            await google.colab.kernel.invokeFunction('convertToInteractive',\n",
       "                                                     [key], {});\n",
       "          if (!dataTable) return;\n",
       "\n",
       "          const docLinkHtml = 'Like what you see? Visit the ' +\n",
       "            '<a target=\"_blank\" href=https://colab.research.google.com/notebooks/data_table.ipynb>data table notebook</a>'\n",
       "            + ' to learn more about interactive tables.';\n",
       "          element.innerHTML = '';\n",
       "          dataTable['output_type'] = 'display_data';\n",
       "          await google.colab.output.renderOutput(dataTable, element);\n",
       "          const docLink = document.createElement('div');\n",
       "          docLink.innerHTML = docLinkHtml;\n",
       "          element.appendChild(docLink);\n",
       "        }\n",
       "      </script>\n",
       "    </div>\n",
       "  </div>\n",
       "  "
      ],
      "text/plain": [
       "gender_final  YEAR  female  male  unknown  total   female_%     male_%  \\\n",
       "0             1989       2    24        2     28   7.142857  85.714286   \n",
       "1             1991       3    24        0     27  11.111111  88.888889   \n",
       "2             1993       5    35        1     41  12.195122  85.365854   \n",
       "3             1995       1    20        1     22   4.545455  90.909091   \n",
       "4             1997       1    25        1     27   3.703704  92.592593   \n",
       "\n",
       "gender_final  unknown_%  \n",
       "0              7.142857  \n",
       "1              0.000000  \n",
       "2              2.439024  \n",
       "3              4.545455  \n",
       "4              3.703704  "
      ]
     },
     "execution_count": 82,
     "metadata": {},
     "output_type": "execute_result"
    }
   ],
   "source": [
    "#creo % por genero por año\n",
    "per_year['female_%'] = per_year['female'] / per_year['total'] * 100\n",
    "per_year['male_%'] = per_year['male'] / per_year['total'] *100\n",
    "per_year['unknown_%'] = per_year['unknown'] / per_year['total'] *100\n",
    "per_year.head()"
   ]
  },
  {
   "cell_type": "code",
   "execution_count": 83,
   "metadata": {
    "colab": {
     "base_uri": "https://localhost:8080/"
    },
    "executionInfo": {
     "elapsed": 368,
     "status": "ok",
     "timestamp": 1665436653396,
     "user": {
      "displayName": "Clara Trinco",
      "userId": "07775861695630223845"
     },
     "user_tz": 180
    },
    "id": "p20VpF0LuRYj",
    "outputId": "c5883a59-b384-4b1a-a4e9-f3221e736127"
   },
   "outputs": [
    {
     "data": {
      "text/plain": [
       "pandas.core.frame.DataFrame"
      ]
     },
     "execution_count": 83,
     "metadata": {},
     "output_type": "execute_result"
    }
   ],
   "source": [
    "type(per_year)"
   ]
  },
  {
   "cell_type": "code",
   "execution_count": 79,
   "metadata": {
    "colab": {
     "base_uri": "https://localhost:8080/",
     "height": 264
    },
    "executionInfo": {
     "elapsed": 332,
     "status": "ok",
     "timestamp": 1665436446603,
     "user": {
      "displayName": "Clara Trinco",
      "userId": "07775861695630223845"
     },
     "user_tz": 180
    },
    "id": "Iz-uF2XvdSjd",
    "outputId": "134f0ce0-a8ee-4a15-e6c1-8707a91ee564"
   },
   "outputs": [
    {
     "data": {
      "image/png": "[encoded data removed]",
      "text/plain": [
       "<Figure size 432x288 with 1 Axes>"
      ]
     },
     "metadata": {
      "needs_background": "light"
     },
     "output_type": "display_data"
    }
   ],
   "source": [
    "#gender per year\n",
    "\n",
    "import numpy as np\n",
    "import matplotlib.pyplot as plt\n",
    "\n",
    "Y = per_year['female']\n",
    "M = per_year['male']\n",
    "Z= per_year['unknown']\n",
    "X = per_year['YEAR']\n",
    "\n",
    "fig, ax = plt.subplots()\n",
    "ax.plot(X,Y,X,M,X,Z)\n",
    "fig.show()"
   ]
  },
  {
   "cell_type": "code",
   "execution_count": 95,
   "metadata": {
    "colab": {
     "base_uri": "https://localhost:8080/",
     "height": 294
    },
    "executionInfo": {
     "elapsed": 349,
     "status": "ok",
     "timestamp": 1665437221456,
     "user": {
      "displayName": "Clara Trinco",
      "userId": "07775861695630223845"
     },
     "user_tz": 180
    },
    "id": "B_f0dlc0w3rK",
    "outputId": "9c2578a4-075d-49c0-c756-f7af1695ceb4"
   },
   "outputs": [
    {
     "data": {
      "image/png": "[encoded data removed]",
      "text/plain": [
       "<Figure size 432x288 with 1 Axes>"
      ]
     },
     "metadata": {
      "needs_background": "light"
     },
     "output_type": "display_data"
    }
   ],
   "source": [
    "Y = per_year['female_%']\n",
    "M = per_year['male_%']\n",
    "Z= per_year['unknown_%']\n",
    "X = per_year['YEAR']\n",
    "\n",
    "fig, ax = plt.subplots()\n",
    "ax.plot(X,Y, label='female')\n",
    "ax.plot(X,M, label='male')\n",
    "ax.plot(X,Z, label='unknown')\n",
    "ax.set_title('Gender mix por año')\n",
    "ax.set_xlabel('AÑO') \n",
    "ax.set_ylabel('Gender_%') \n",
    "ax.legend(loc='best')\n",
    "fig.show()"
   ]
  },
  {
   "cell_type": "code",
   "execution_count": 121,
   "metadata": {
    "colab": {
     "base_uri": "https://localhost:8080/"
    },
    "executionInfo": {
     "elapsed": 340,
     "status": "ok",
     "timestamp": 1665441319127,
     "user": {
      "displayName": "Clara Trinco",
      "userId": "07775861695630223845"
     },
     "user_tz": 180
    },
    "id": "o4Z2wy1HCY_5",
    "outputId": "7f6896b0-ad8e-48c3-80de-bd50f77c285c"
   },
   "outputs": [
    {
     "name": "stdout",
     "output_type": "stream",
     "text": [
      "<class 'pandas.core.frame.DataFrame'>\n",
      "RangeIndex: 28 entries, 0 to 27\n",
      "Data columns (total 8 columns):\n",
      " #   Column     Non-Null Count  Dtype  \n",
      "---  ------     --------------  -----  \n",
      " 0   YEAR       28 non-null     int64  \n",
      " 1   female     28 non-null     int64  \n",
      " 2   male       28 non-null     int64  \n",
      " 3   unknown    28 non-null     int64  \n",
      " 4   total      28 non-null     int64  \n",
      " 5   female_%   28 non-null     float64\n",
      " 6   male_%     28 non-null     float64\n",
      " 7   unknown_%  28 non-null     float64\n",
      "dtypes: float64(3), int64(5)\n",
      "memory usage: 1.9 KB\n"
     ]
    }
   ],
   "source": [
    "per_year.reset_index()\n",
    "per_year.info()"
   ]
  },
  {
   "cell_type": "code",
   "execution_count": 134,
   "metadata": {
    "colab": {
     "base_uri": "https://localhost:8080/",
     "height": 931
    },
    "executionInfo": {
     "elapsed": 384,
     "status": "ok",
     "timestamp": 1665443071683,
     "user": {
      "displayName": "Clara Trinco",
      "userId": "07775861695630223845"
     },
     "user_tz": 180
    },
    "id": "MeaBc-l_JAnz",
    "outputId": "3e28ad68-7e45-495c-84bd-2d4ff298d517"
   },
   "outputs": [
    {
     "data": {
      "text/html": [
       "\n",
       "  <div id=\"df-149129d3-6042-4180-bd4d-d3d5b34b9f8b\">\n",
       "    <div class=\"colab-df-container\">\n",
       "      <div>\n",
       "<style scoped>\n",
       "    .dataframe tbody tr th:only-of-type {\n",
       "        vertical-align: middle;\n",
       "    }\n",
       "\n",
       "    .dataframe tbody tr th {\n",
       "        vertical-align: top;\n",
       "    }\n",
       "\n",
       "    .dataframe thead th {\n",
       "        text-align: right;\n",
       "    }\n",
       "</style>\n",
       "<table border=\"1\" class=\"dataframe\">\n",
       "  <thead>\n",
       "    <tr style=\"text-align: right;\">\n",
       "      <th>gender_final</th>\n",
       "      <th>female</th>\n",
       "      <th>male</th>\n",
       "      <th>unknown</th>\n",
       "      <th>total</th>\n",
       "      <th>female_%</th>\n",
       "      <th>male_%</th>\n",
       "      <th>unknown_%</th>\n",
       "    </tr>\n",
       "    <tr>\n",
       "      <th>YEAR</th>\n",
       "      <th></th>\n",
       "      <th></th>\n",
       "      <th></th>\n",
       "      <th></th>\n",
       "      <th></th>\n",
       "      <th></th>\n",
       "      <th></th>\n",
       "    </tr>\n",
       "  </thead>\n",
       "  <tbody>\n",
       "    <tr>\n",
       "      <th>1989</th>\n",
       "      <td>2</td>\n",
       "      <td>24</td>\n",
       "      <td>2</td>\n",
       "      <td>28</td>\n",
       "      <td>7.142857</td>\n",
       "      <td>85.714286</td>\n",
       "      <td>7.142857</td>\n",
       "    </tr>\n",
       "    <tr>\n",
       "      <th>1991</th>\n",
       "      <td>3</td>\n",
       "      <td>24</td>\n",
       "      <td>0</td>\n",
       "      <td>27</td>\n",
       "      <td>11.111111</td>\n",
       "      <td>88.888889</td>\n",
       "      <td>0.000000</td>\n",
       "    </tr>\n",
       "    <tr>\n",
       "      <th>1993</th>\n",
       "      <td>5</td>\n",
       "      <td>35</td>\n",
       "      <td>1</td>\n",
       "      <td>41</td>\n",
       "      <td>12.195122</td>\n",
       "      <td>85.365854</td>\n",
       "      <td>2.439024</td>\n",
       "    </tr>\n",
       "    <tr>\n",
       "      <th>1995</th>\n",
       "      <td>1</td>\n",
       "      <td>20</td>\n",
       "      <td>1</td>\n",
       "      <td>22</td>\n",
       "      <td>4.545455</td>\n",
       "      <td>90.909091</td>\n",
       "      <td>4.545455</td>\n",
       "    </tr>\n",
       "    <tr>\n",
       "      <th>1997</th>\n",
       "      <td>1</td>\n",
       "      <td>25</td>\n",
       "      <td>1</td>\n",
       "      <td>27</td>\n",
       "      <td>3.703704</td>\n",
       "      <td>92.592593</td>\n",
       "      <td>3.703704</td>\n",
       "    </tr>\n",
       "    <tr>\n",
       "      <th>1998</th>\n",
       "      <td>24</td>\n",
       "      <td>23</td>\n",
       "      <td>4</td>\n",
       "      <td>51</td>\n",
       "      <td>47.058824</td>\n",
       "      <td>45.098039</td>\n",
       "      <td>7.843137</td>\n",
       "    </tr>\n",
       "    <tr>\n",
       "      <th>2000</th>\n",
       "      <td>14</td>\n",
       "      <td>49</td>\n",
       "      <td>4</td>\n",
       "      <td>67</td>\n",
       "      <td>20.895522</td>\n",
       "      <td>73.134328</td>\n",
       "      <td>5.970149</td>\n",
       "    </tr>\n",
       "    <tr>\n",
       "      <th>2001</th>\n",
       "      <td>16</td>\n",
       "      <td>38</td>\n",
       "      <td>5</td>\n",
       "      <td>59</td>\n",
       "      <td>27.118644</td>\n",
       "      <td>64.406780</td>\n",
       "      <td>8.474576</td>\n",
       "    </tr>\n",
       "    <tr>\n",
       "      <th>2002</th>\n",
       "      <td>20</td>\n",
       "      <td>60</td>\n",
       "      <td>7</td>\n",
       "      <td>87</td>\n",
       "      <td>22.988506</td>\n",
       "      <td>68.965517</td>\n",
       "      <td>8.045977</td>\n",
       "    </tr>\n",
       "    <tr>\n",
       "      <th>2003</th>\n",
       "      <td>18</td>\n",
       "      <td>41</td>\n",
       "      <td>5</td>\n",
       "      <td>64</td>\n",
       "      <td>28.125000</td>\n",
       "      <td>64.062500</td>\n",
       "      <td>7.812500</td>\n",
       "    </tr>\n",
       "    <tr>\n",
       "      <th>2004</th>\n",
       "      <td>72</td>\n",
       "      <td>114</td>\n",
       "      <td>15</td>\n",
       "      <td>201</td>\n",
       "      <td>35.820896</td>\n",
       "      <td>56.716418</td>\n",
       "      <td>7.462687</td>\n",
       "    </tr>\n",
       "    <tr>\n",
       "      <th>2005</th>\n",
       "      <td>33</td>\n",
       "      <td>53</td>\n",
       "      <td>2</td>\n",
       "      <td>88</td>\n",
       "      <td>37.500000</td>\n",
       "      <td>60.227273</td>\n",
       "      <td>2.272727</td>\n",
       "    </tr>\n",
       "    <tr>\n",
       "      <th>2006</th>\n",
       "      <td>200</td>\n",
       "      <td>375</td>\n",
       "      <td>47</td>\n",
       "      <td>622</td>\n",
       "      <td>32.154341</td>\n",
       "      <td>60.289389</td>\n",
       "      <td>7.556270</td>\n",
       "    </tr>\n",
       "    <tr>\n",
       "      <th>2007</th>\n",
       "      <td>44</td>\n",
       "      <td>39</td>\n",
       "      <td>5</td>\n",
       "      <td>88</td>\n",
       "      <td>50.000000</td>\n",
       "      <td>44.318182</td>\n",
       "      <td>5.681818</td>\n",
       "    </tr>\n",
       "    <tr>\n",
       "      <th>2008</th>\n",
       "      <td>269</td>\n",
       "      <td>433</td>\n",
       "      <td>33</td>\n",
       "      <td>735</td>\n",
       "      <td>36.598639</td>\n",
       "      <td>58.911565</td>\n",
       "      <td>4.489796</td>\n",
       "    </tr>\n",
       "    <tr>\n",
       "      <th>2009</th>\n",
       "      <td>30</td>\n",
       "      <td>63</td>\n",
       "      <td>8</td>\n",
       "      <td>101</td>\n",
       "      <td>29.702970</td>\n",
       "      <td>62.376238</td>\n",
       "      <td>7.920792</td>\n",
       "    </tr>\n",
       "    <tr>\n",
       "      <th>2010</th>\n",
       "      <td>301</td>\n",
       "      <td>498</td>\n",
       "      <td>27</td>\n",
       "      <td>826</td>\n",
       "      <td>36.440678</td>\n",
       "      <td>60.290557</td>\n",
       "      <td>3.268765</td>\n",
       "    </tr>\n",
       "    <tr>\n",
       "      <th>2011</th>\n",
       "      <td>31</td>\n",
       "      <td>63</td>\n",
       "      <td>3</td>\n",
       "      <td>97</td>\n",
       "      <td>31.958763</td>\n",
       "      <td>64.948454</td>\n",
       "      <td>3.092784</td>\n",
       "    </tr>\n",
       "    <tr>\n",
       "      <th>2012</th>\n",
       "      <td>264</td>\n",
       "      <td>473</td>\n",
       "      <td>25</td>\n",
       "      <td>762</td>\n",
       "      <td>34.645669</td>\n",
       "      <td>62.073491</td>\n",
       "      <td>3.280840</td>\n",
       "    </tr>\n",
       "    <tr>\n",
       "      <th>2014</th>\n",
       "      <td>282</td>\n",
       "      <td>514</td>\n",
       "      <td>23</td>\n",
       "      <td>819</td>\n",
       "      <td>34.432234</td>\n",
       "      <td>62.759463</td>\n",
       "      <td>2.808303</td>\n",
       "    </tr>\n",
       "    <tr>\n",
       "      <th>2015</th>\n",
       "      <td>35</td>\n",
       "      <td>69</td>\n",
       "      <td>3</td>\n",
       "      <td>107</td>\n",
       "      <td>32.710280</td>\n",
       "      <td>64.485981</td>\n",
       "      <td>2.803738</td>\n",
       "    </tr>\n",
       "    <tr>\n",
       "      <th>2016</th>\n",
       "      <td>568</td>\n",
       "      <td>1158</td>\n",
       "      <td>51</td>\n",
       "      <td>1777</td>\n",
       "      <td>31.963984</td>\n",
       "      <td>65.166010</td>\n",
       "      <td>2.870006</td>\n",
       "    </tr>\n",
       "    <tr>\n",
       "      <th>2017</th>\n",
       "      <td>706</td>\n",
       "      <td>1734</td>\n",
       "      <td>54</td>\n",
       "      <td>2494</td>\n",
       "      <td>28.307939</td>\n",
       "      <td>69.526864</td>\n",
       "      <td>2.165196</td>\n",
       "    </tr>\n",
       "    <tr>\n",
       "      <th>2018</th>\n",
       "      <td>894</td>\n",
       "      <td>2391</td>\n",
       "      <td>75</td>\n",
       "      <td>3360</td>\n",
       "      <td>26.607143</td>\n",
       "      <td>71.160714</td>\n",
       "      <td>2.232143</td>\n",
       "    </tr>\n",
       "    <tr>\n",
       "      <th>2019</th>\n",
       "      <td>1222</td>\n",
       "      <td>2986</td>\n",
       "      <td>90</td>\n",
       "      <td>4298</td>\n",
       "      <td>28.431829</td>\n",
       "      <td>69.474174</td>\n",
       "      <td>2.093997</td>\n",
       "    </tr>\n",
       "    <tr>\n",
       "      <th>2020</th>\n",
       "      <td>1978</td>\n",
       "      <td>4430</td>\n",
       "      <td>165</td>\n",
       "      <td>6573</td>\n",
       "      <td>30.092804</td>\n",
       "      <td>67.396927</td>\n",
       "      <td>2.510269</td>\n",
       "    </tr>\n",
       "    <tr>\n",
       "      <th>2021</th>\n",
       "      <td>1659</td>\n",
       "      <td>4060</td>\n",
       "      <td>51</td>\n",
       "      <td>5770</td>\n",
       "      <td>28.752166</td>\n",
       "      <td>70.363951</td>\n",
       "      <td>0.883882</td>\n",
       "    </tr>\n",
       "    <tr>\n",
       "      <th>2022</th>\n",
       "      <td>914</td>\n",
       "      <td>2120</td>\n",
       "      <td>20</td>\n",
       "      <td>3054</td>\n",
       "      <td>29.927963</td>\n",
       "      <td>69.417158</td>\n",
       "      <td>0.654879</td>\n",
       "    </tr>\n",
       "  </tbody>\n",
       "</table>\n",
       "</div>\n",
       "      <button class=\"colab-df-convert\" onclick=\"convertToInteractive('df-149129d3-6042-4180-bd4d-d3d5b34b9f8b')\"\n",
       "              title=\"Convert this dataframe to an interactive table.\"\n",
       "              style=\"display:none;\">\n",
       "        \n",
       "  <svg xmlns=\"http://www.w3.org/2000/svg\" height=\"24px\"viewBox=\"0 0 24 24\"\n",
       "       width=\"24px\">\n",
       "    <path d=\"M0 0h24v24H0V0z\" fill=\"none\"/>\n",
       "    <path d=\"M18.56 5.44l.94 2.06.94-2.06 2.06-.94-2.06-.94-.94-2.06-.94 2.06-2.06.94zm-11 1L8.5 8.5l.94-2.06 2.06-.94-2.06-.94L8.5 2.5l-.94 2.06-2.06.94zm10 10l.94 2.06.94-2.06 2.06-.94-2.06-.94-.94-2.06-.94 2.06-2.06.94z\"/><path d=\"M17.41 7.96l-1.37-1.37c-.4-.4-.92-.59-1.43-.59-.52 0-1.04.2-1.43.59L10.3 9.45l-7.72 7.72c-.78.78-.78 2.05 0 2.83L4 21.41c.39.39.9.59 1.41.59.51 0 1.02-.2 1.41-.59l7.78-7.78 2.81-2.81c.8-.78.8-2.07 0-2.86zM5.41 20L4 18.59l7.72-7.72 1.47 1.35L5.41 20z\"/>\n",
       "  </svg>\n",
       "      </button>\n",
       "      \n",
       "  <style>\n",
       "    .colab-df-container {\n",
       "      display:flex;\n",
       "      flex-wrap:wrap;\n",
       "      gap: 12px;\n",
       "    }\n",
       "\n",
       "    .colab-df-convert {\n",
       "      background-color: #E8F0FE;\n",
       "      border: none;\n",
       "      border-radius: 50%;\n",
       "      cursor: pointer;\n",
       "      display: none;\n",
       "      fill: #1967D2;\n",
       "      height: 32px;\n",
       "      padding: 0 0 0 0;\n",
       "      width: 32px;\n",
       "    }\n",
       "\n",
       "    .colab-df-convert:hover {\n",
       "      background-color: #E2EBFA;\n",
       "      box-shadow: 0px 1px 2px rgba(60, 64, 67, 0.3), 0px 1px 3px 1px rgba(60, 64, 67, 0.15);\n",
       "      fill: #174EA6;\n",
       "    }\n",
       "\n",
       "    [theme=dark] .colab-df-convert {\n",
       "      background-color: #3B4455;\n",
       "      fill: #D2E3FC;\n",
       "    }\n",
       "\n",
       "    [theme=dark] .colab-df-convert:hover {\n",
       "      background-color: #434B5C;\n",
       "      box-shadow: 0px 1px 3px 1px rgba(0, 0, 0, 0.15);\n",
       "      filter: drop-shadow(0px 1px 2px rgba(0, 0, 0, 0.3));\n",
       "      fill: #FFFFFF;\n",
       "    }\n",
       "  </style>\n",
       "\n",
       "      <script>\n",
       "        const buttonEl =\n",
       "          document.querySelector('#df-149129d3-6042-4180-bd4d-d3d5b34b9f8b button.colab-df-convert');\n",
       "        buttonEl.style.display =\n",
       "          google.colab.kernel.accessAllowed ? 'block' : 'none';\n",
       "\n",
       "        async function convertToInteractive(key) {\n",
       "          const element = document.querySelector('#df-149129d3-6042-4180-bd4d-d3d5b34b9f8b');\n",
       "          const dataTable =\n",
       "            await google.colab.kernel.invokeFunction('convertToInteractive',\n",
       "                                                     [key], {});\n",
       "          if (!dataTable) return;\n",
       "\n",
       "          const docLinkHtml = 'Like what you see? Visit the ' +\n",
       "            '<a target=\"_blank\" href=https://colab.research.google.com/notebooks/data_table.ipynb>data table notebook</a>'\n",
       "            + ' to learn more about interactive tables.';\n",
       "          element.innerHTML = '';\n",
       "          dataTable['output_type'] = 'display_data';\n",
       "          await google.colab.output.renderOutput(dataTable, element);\n",
       "          const docLink = document.createElement('div');\n",
       "          docLink.innerHTML = docLinkHtml;\n",
       "          element.appendChild(docLink);\n",
       "        }\n",
       "      </script>\n",
       "    </div>\n",
       "  </div>\n",
       "  "
      ],
      "text/plain": [
       "gender_final  female  male  unknown  total   female_%     male_%  unknown_%\n",
       "YEAR                                                                       \n",
       "1989               2    24        2     28   7.142857  85.714286   7.142857\n",
       "1991               3    24        0     27  11.111111  88.888889   0.000000\n",
       "1993               5    35        1     41  12.195122  85.365854   2.439024\n",
       "1995               1    20        1     22   4.545455  90.909091   4.545455\n",
       "1997               1    25        1     27   3.703704  92.592593   3.703704\n",
       "1998              24    23        4     51  47.058824  45.098039   7.843137\n",
       "2000              14    49        4     67  20.895522  73.134328   5.970149\n",
       "2001              16    38        5     59  27.118644  64.406780   8.474576\n",
       "2002              20    60        7     87  22.988506  68.965517   8.045977\n",
       "2003              18    41        5     64  28.125000  64.062500   7.812500\n",
       "2004              72   114       15    201  35.820896  56.716418   7.462687\n",
       "2005              33    53        2     88  37.500000  60.227273   2.272727\n",
       "2006             200   375       47    622  32.154341  60.289389   7.556270\n",
       "2007              44    39        5     88  50.000000  44.318182   5.681818\n",
       "2008             269   433       33    735  36.598639  58.911565   4.489796\n",
       "2009              30    63        8    101  29.702970  62.376238   7.920792\n",
       "2010             301   498       27    826  36.440678  60.290557   3.268765\n",
       "2011              31    63        3     97  31.958763  64.948454   3.092784\n",
       "2012             264   473       25    762  34.645669  62.073491   3.280840\n",
       "2014             282   514       23    819  34.432234  62.759463   2.808303\n",
       "2015              35    69        3    107  32.710280  64.485981   2.803738\n",
       "2016             568  1158       51   1777  31.963984  65.166010   2.870006\n",
       "2017             706  1734       54   2494  28.307939  69.526864   2.165196\n",
       "2018             894  2391       75   3360  26.607143  71.160714   2.232143\n",
       "2019            1222  2986       90   4298  28.431829  69.474174   2.093997\n",
       "2020            1978  4430      165   6573  30.092804  67.396927   2.510269\n",
       "2021            1659  4060       51   5770  28.752166  70.363951   0.883882\n",
       "2022             914  2120       20   3054  29.927963  69.417158   0.654879"
      ]
     },
     "execution_count": 134,
     "metadata": {},
     "output_type": "execute_result"
    }
   ],
   "source": [
    "per_year.set_index('YEAR')\n",
    "#per_year.head()"
   ]
  },
  {
   "cell_type": "code",
   "execution_count": null,
   "metadata": {
    "id": "mMQ1w24JJHFG"
   },
   "outputs": [],
   "source": [
    "per_year.head()"
   ]
  },
  {
   "cell_type": "code",
   "execution_count": 136,
   "metadata": {
    "colab": {
     "base_uri": "https://localhost:8080/",
     "height": 636
    },
    "executionInfo": {
     "elapsed": 667,
     "status": "ok",
     "timestamp": 1665443272395,
     "user": {
      "displayName": "Clara Trinco",
      "userId": "07775861695630223845"
     },
     "user_tz": 180
    },
    "id": "Q0lKUle9zIYC",
    "outputId": "3160ab52-55fc-44af-d9f0-83c5691d4081"
   },
   "outputs": [
    {
     "data": {
      "image/png": "[encoded data removed]",
      "text/plain": [
       "<Figure size 864x720 with 1 Axes>"
      ]
     },
     "metadata": {
      "needs_background": "light"
     },
     "output_type": "display_data"
    }
   ],
   "source": [
    "\n",
    "\n",
    "fields = ['male_%','female_%','unknown_%']\n",
    "colors = ['#1D2F6F', '#8390FA', '#6EAF46']\n",
    "labels = ['male', 'female', 'unknown']\n",
    "# figure and axis\n",
    "fig, ax = plt.subplots(1, figsize=(12, 10))\n",
    "# plot bars\n",
    "left = len(per_year) * [0]\n",
    "for idx, name in enumerate(fields):\n",
    "    plt.barh(per_year.index, per_year[name], left = left, color=colors[idx])\n",
    "    left = left + per_year[name]\n",
    "# title, legend, labels\n",
    "plt.title('Gender mix\\n', loc='left')\n",
    "plt.legend(labels, bbox_to_anchor=([0.55, 1, 0, 0]), ncol=4, frameon=False)\n",
    "plt.xlabel('Gender_Mix_%')\n",
    "# remove spines\n",
    "ax.spines['right'].set_visible(False)\n",
    "ax.spines['left'].set_visible(False)\n",
    "ax.spines['top'].set_visible(False)\n",
    "ax.spines['bottom'].set_visible(False)\n",
    "# adjust limits and draw grid lines\n",
    "plt.ylim(-0.5, ax.get_yticks()[-1] + 0.5)\n",
    "ax.set_axisbelow(True)\n",
    "ax.xaxis.grid(color='gray', linestyle='dashed')\n",
    "plt.show()"
   ]
  },
  {
   "cell_type": "code",
   "execution_count": 138,
   "metadata": {
    "colab": {
     "base_uri": "https://localhost:8080/",
     "height": 636
    },
    "executionInfo": {
     "elapsed": 619,
     "status": "ok",
     "timestamp": 1665443519786,
     "user": {
      "displayName": "Clara Trinco",
      "userId": "07775861695630223845"
     },
     "user_tz": 180
    },
    "id": "uXfJFjTHKuQc",
    "outputId": "48d2b9b0-1644-4b21-daf0-f5837e674d5d"
   },
   "outputs": [
    {
     "data": {
      "image/png": "[encoded data removed]",
      "text/plain": [
       "<Figure size 864x720 with 1 Axes>"
      ]
     },
     "metadata": {
      "needs_background": "light"
     },
     "output_type": "display_data"
    }
   ],
   "source": [
    "\n",
    "\n",
    "fields = ['male_%','female_%','unknown_%']\n",
    "colors = ['#1D2F6F', '#8390FA', '#6EAF46']\n",
    "labels = ['male', 'female', 'unknown']\n",
    "# figure and axis\n",
    "fig, ax = plt.subplots(1, figsize=(12, 10))\n",
    "# plot bars\n",
    "left = len(per_year) * [0]\n",
    "for idx, name in enumerate(fields):\n",
    "    plt.bar(per_year.index, per_year[name], color=colors[idx])\n",
    "    \n",
    "# title, legend, labels\n",
    "plt.title('Gender mix\\n', loc='left')\n",
    "plt.legend(labels, bbox_to_anchor=([0.55, 1, 0, 0]), ncol=4, frameon=False)\n",
    "plt.xlabel('Gender_Mix_%')\n",
    "# remove spines\n",
    "ax.spines['right'].set_visible(False)\n",
    "ax.spines['left'].set_visible(False)\n",
    "ax.spines['top'].set_visible(False)\n",
    "ax.spines['bottom'].set_visible(False)\n",
    "# adjust limits and draw grid lines\n",
    "plt.ylim(-0.5, ax.get_yticks()[-1] + 0.5)\n",
    "ax.set_axisbelow(True)\n",
    "ax.xaxis.grid(color='gray', linestyle='dashed')\n",
    "plt.show()"
   ]
  },
  {
   "cell_type": "code",
   "execution_count": 141,
   "metadata": {
    "colab": {
     "base_uri": "https://localhost:8080/",
     "height": 882
    },
    "executionInfo": {
     "elapsed": 891,
     "status": "error",
     "timestamp": 1665443659890,
     "user": {
      "displayName": "Clara Trinco",
      "userId": "07775861695630223845"
     },
     "user_tz": 180
    },
    "id": "n5mUHOc1LAtV",
    "outputId": "a950996f-b01a-4c9e-e0cc-bf3bf54e07d0"
   },
   "outputs": [
    {
     "ename": "IndexError",
     "evalue": "ignored",
     "output_type": "error",
     "traceback": [
      "\u001b[0;31m---------------------------------------------------------------------------\u001b[0m",
      "\u001b[0;31mIndexError\u001b[0m                                Traceback (most recent call last)",
      "\u001b[0;32m<ipython-input-141-52a701793148>\u001b[0m in \u001b[0;36m<module>\u001b[0;34m\u001b[0m\n\u001b[1;32m     34\u001b[0m \u001b[0mplt\u001b[0m\u001b[0;34m.\u001b[0m\u001b[0mshow\u001b[0m\u001b[0;34m(\u001b[0m\u001b[0;34m)\u001b[0m\u001b[0;34m\u001b[0m\u001b[0;34m\u001b[0m\u001b[0m\n\u001b[1;32m     35\u001b[0m \u001b[0;34m\u001b[0m\u001b[0m\n\u001b[0;32m---> 36\u001b[0;31m \u001b[0mplot_stackedbar_p\u001b[0m\u001b[0;34m(\u001b[0m\u001b[0mper_year\u001b[0m\u001b[0;34m,\u001b[0m \u001b[0mlabels\u001b[0m\u001b[0;34m,\u001b[0m \u001b[0mcolors\u001b[0m\u001b[0;34m,\u001b[0m \u001b[0mtitle\u001b[0m\u001b[0;34m,\u001b[0m \u001b[0msubtitle\u001b[0m\u001b[0;34m)\u001b[0m\u001b[0;34m\u001b[0m\u001b[0;34m\u001b[0m\u001b[0m\n\u001b[0m",
      "\u001b[0;32m<ipython-input-141-52a701793148>\u001b[0m in \u001b[0;36mplot_stackedbar_p\u001b[0;34m(per_year, labels, colors, title, subtitle)\u001b[0m\n\u001b[1;32m     13\u001b[0m     \u001b[0mleft\u001b[0m \u001b[0;34m=\u001b[0m \u001b[0mlen\u001b[0m\u001b[0;34m(\u001b[0m\u001b[0mper_year\u001b[0m\u001b[0;34m)\u001b[0m \u001b[0;34m*\u001b[0m \u001b[0;34m[\u001b[0m\u001b[0;36m0\u001b[0m\u001b[0;34m]\u001b[0m\u001b[0;34m\u001b[0m\u001b[0;34m\u001b[0m\u001b[0m\n\u001b[1;32m     14\u001b[0m     \u001b[0;32mfor\u001b[0m \u001b[0midx\u001b[0m\u001b[0;34m,\u001b[0m \u001b[0mname\u001b[0m \u001b[0;32min\u001b[0m \u001b[0menumerate\u001b[0m\u001b[0;34m(\u001b[0m\u001b[0mfields\u001b[0m\u001b[0;34m)\u001b[0m\u001b[0;34m:\u001b[0m\u001b[0;34m\u001b[0m\u001b[0;34m\u001b[0m\u001b[0m\n\u001b[0;32m---> 15\u001b[0;31m         \u001b[0mplt\u001b[0m\u001b[0;34m.\u001b[0m\u001b[0mbarh\u001b[0m\u001b[0;34m(\u001b[0m\u001b[0mper_year\u001b[0m\u001b[0;34m.\u001b[0m\u001b[0mindex\u001b[0m\u001b[0;34m,\u001b[0m \u001b[0mper_year\u001b[0m\u001b[0;34m[\u001b[0m\u001b[0mname\u001b[0m\u001b[0;34m]\u001b[0m\u001b[0;34m,\u001b[0m \u001b[0mleft\u001b[0m \u001b[0;34m=\u001b[0m \u001b[0mleft\u001b[0m\u001b[0;34m,\u001b[0m \u001b[0mcolor\u001b[0m\u001b[0;34m=\u001b[0m\u001b[0mcolors\u001b[0m\u001b[0;34m[\u001b[0m\u001b[0midx\u001b[0m\u001b[0;34m]\u001b[0m\u001b[0;34m)\u001b[0m\u001b[0;34m\u001b[0m\u001b[0;34m\u001b[0m\u001b[0m\n\u001b[0m\u001b[1;32m     16\u001b[0m         \u001b[0mleft\u001b[0m \u001b[0;34m=\u001b[0m \u001b[0mleft\u001b[0m \u001b[0;34m+\u001b[0m \u001b[0mper_year\u001b[0m\u001b[0;34m[\u001b[0m\u001b[0mname\u001b[0m\u001b[0;34m]\u001b[0m\u001b[0;34m\u001b[0m\u001b[0;34m\u001b[0m\u001b[0m\n\u001b[1;32m     17\u001b[0m \u001b[0;31m# title and subtitle\u001b[0m\u001b[0;34m\u001b[0m\u001b[0;34m\u001b[0m\u001b[0;34m\u001b[0m\u001b[0m\n",
      "\u001b[0;31mIndexError\u001b[0m: list index out of range"
     ]
    },
    {
     "data": {
      "image/png": "[encoded data removed]",
      "text/plain": [
       "<Figure size 864x720 with 1 Axes>"
      ]
     },
     "metadata": {
      "needs_background": "light"
     },
     "output_type": "display_data"
    }
   ],
   "source": [
    "# variables\n",
    "fields = ['male_%','female_%','unknown_%']\n",
    "colors = ['#1D2F6F', '#8390FA', '#6EAF46']\n",
    "\n",
    "title = 'Video Game Sales By Platform and Region\\n'\n",
    "subtitle = 'Proportion of Games Sold by Region'\n",
    "def plot_stackedbar_p(per_year, labels, colors, title, subtitle):\n",
    "    fields = per_year.columns.tolist()\n",
    "    \n",
    "    # figure and axis\n",
    "    fig, ax = plt.subplots(1, figsize=(12, 10))\n",
    "# plot bars\n",
    "    left = len(per_year) * [0]\n",
    "    for idx, name in enumerate(fields):\n",
    "        plt.barh(per_year.index, per_year[name], left = left, color=colors[idx])\n",
    "        left = left + per_year[name]\n",
    "# title and subtitle\n",
    "    plt.title(title, loc='left')\n",
    "    plt.text(0, ax.get_yticks()[-1] + 0.75, subtitle)\n",
    "# legend\n",
    "    plt.legend(labels, bbox_to_anchor=([0.58, 1, 0, 0]), ncol=4, frameon=False)\n",
    "# remove spines\n",
    "    ax.spines['right'].set_visible(False)\n",
    "    ax.spines['left'].set_visible(False)\n",
    "    ax.spines['top'].set_visible(False)\n",
    "    ax.spines['bottom'].set_visible(False)\n",
    "# format x ticks\n",
    "    xticks = np.arange(0,1.1,0.1)\n",
    "    xlabels = ['{}%'.format(i) for i in np.arange(0,101,10)]\n",
    "    plt.xticks(xticks, xlabels)\n",
    "# adjust limits and draw grid lines\n",
    "    plt.ylim(-0.5, ax.get_yticks()[-1] + 0.5)\n",
    "    ax.xaxis.grid(color='gray', linestyle='dashed')\n",
    "plt.show()\n",
    "    \n",
    "plot_stackedbar_p(per_year, labels, colors, title, subtitle)"
   ]
  },
  {
   "cell_type": "code",
   "execution_count": 107,
   "metadata": {
    "colab": {
     "base_uri": "https://localhost:8080/",
     "height": 278
    },
    "executionInfo": {
     "elapsed": 740,
     "status": "ok",
     "timestamp": 1665438371816,
     "user": {
      "displayName": "Clara Trinco",
      "userId": "07775861695630223845"
     },
     "user_tz": 180
    },
    "id": "n-GdBPji1-I2",
    "outputId": "72381770-89d0-490a-c021-5cc2484b75f0"
   },
   "outputs": [
    {
     "data": {
      "image/png": "[encoded data removed]",
      "text/plain": [
       "<Figure size 432x288 with 1 Axes>"
      ]
     },
     "metadata": {
      "needs_background": "light"
     },
     "output_type": "display_data"
    }
   ],
   "source": [
    "import seaborn as sns\n",
    "\n",
    "bar_plot1 = sns.barplot(x='YEAR', y='female_%', data=per_year, label=\"female_%\", color=\"y\")\n",
    "bar_plot2 = sns.barplot(x='YEAR', y='male_%', data=per_year, label=\"male_%\", color=\"g\")\n",
    "bar_plot3 = sns.barplot(x='YEAR', y='unknown_%', data=per_year, label=\"unknown_%\", color=\"b\")\n",
    "\n",
    "plt.show()"
   ]
  },
  {
   "cell_type": "code",
   "execution_count": 133,
   "metadata": {
    "colab": {
     "base_uri": "https://localhost:8080/",
     "height": 729
    },
    "executionInfo": {
     "elapsed": 744,
     "status": "ok",
     "timestamp": 1665442812615,
     "user": {
      "displayName": "Clara Trinco",
      "userId": "07775861695630223845"
     },
     "user_tz": 180
    },
    "id": "hYd8CWEt28vU",
    "outputId": "343a8100-b7b5-4b07-bff5-a3f9d683758f"
   },
   "outputs": [
    {
     "data": {
      "image/png": "[encoded data removed]",
      "text/plain": [
       "<Figure size 1152x864 with 1 Axes>"
      ]
     },
     "metadata": {
      "needs_background": "light"
     },
     "output_type": "display_data"
    }
   ],
   "source": [
    "# Define Data\n",
    "\n",
    "año = per_year['YEAR']\n",
    "female = per_year['female_%']\n",
    "male = per_year['male_%']\n",
    "unknown = per_year['unknown_%']\n",
    "a = female + male\n",
    "\n",
    "# Define height of stacked chart\n",
    "\n",
    "\n",
    "h = 1\n",
    "\n",
    "# Plot stacked bar chart\n",
    "\n",
    "\n",
    "\n",
    "# Display\n",
    "fig, ax = plt.subplots(1, figsize=(16, 12))\n",
    "ax.barh(año, male, label = 'male')\n",
    "ax.barh(año, female, left=male, label = 'female')\n",
    "ax.barh(año, unknown, left=sum(female,male), label = 'unknown')\n",
    "\n",
    "\n",
    "ax.set_title('Gender mix por año')\n",
    "ax.set_xlabel('AÑO') \n",
    "ax.set_ylabel('Gender_%') \n",
    "ax.legend(loc='best')\n",
    "\n",
    "\n",
    "\n",
    "plt.show()"
   ]
  }
 ],
 "metadata": {
  "colab": {
   "collapsed_sections": [],
   "provenance": [
    {
     "file_id": "16EuHONunsXzcpC1XHZqKxdxQBCaQNr5v",
     "timestamp": 1664630343176
    }
   ]
  },
  "kernelspec": {
   "display_name": "Python 3 (ipykernel)",
   "language": "python",
   "name": "python3"
  },
  "language_info": {
   "codemirror_mode": {
    "name": "ipython",
    "version": 3
   },
   "file_extension": ".py",
   "mimetype": "text/x-python",
   "name": "python",
   "nbconvert_exporter": "python",
   "pygments_lexer": "ipython3",
   "version": "3.10.4"
  }
 },
 "nbformat": 4,
 "nbformat_minor": 4
}
