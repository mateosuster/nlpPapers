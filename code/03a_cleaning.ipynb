{
 "cells": [
  {
   "cell_type": "code",
   "execution_count": 2,
   "id": "7df02a7c-d592-4511-aba0-0833e10e2927",
   "metadata": {},
   "outputs": [],
   "source": [
    "import pandas as pd\n",
    "import numpy as np\n",
    "import matplotlib.pyplot  as plt\n",
    "\n",
    "\n",
    "from nltk import word_tokenize, sent_tokenize\n",
    "import nltk\n",
    "from nltk.corpus import stopwords\n",
    "\n",
    "# nltk.download('punkt')\n",
    "# nltk.download('stopwords')"
   ]
  },
  {
   "cell_type": "markdown",
   "id": "7b339420-6159-48aa-bf1a-2db31994be78",
   "metadata": {},
   "source": [
    "## Data"
   ]
  },
  {
   "cell_type": "code",
   "execution_count": 65,
   "id": "d59369ca-9200-4d07-b472-b1471936b206",
   "metadata": {},
   "outputs": [
    {
     "name": "stdout",
     "output_type": "stream",
     "text": [
      "<class 'pandas.core.frame.DataFrame'>\n",
      "Int64Index: 33668 entries, 33810 to 0\n",
      "Data columns (total 7 columns):\n",
      " #   Column     Non-Null Count  Dtype \n",
      "---  ------     --------------  ----- \n",
      " 0   YEAR       33668 non-null  int64 \n",
      " 1   TITLE      33668 non-null  object\n",
      " 2   ABSTRACT   33668 non-null  object\n",
      " 3   AUTHOR     33628 non-null  object\n",
      " 4   PUBLISHER  32809 non-null  object\n",
      " 5   BOOKTITLE  33014 non-null  object\n",
      " 6   CATEGORY   33668 non-null  object\n",
      "dtypes: int64(1), object(6)\n",
      "memory usage: 2.1+ MB\n"
     ]
    }
   ],
   "source": [
    "data = pd.read_csv(\"data/ACL_data.csv\")\n",
    "data = data[~pd.isnull(data['ABSTRACT'])] # filtro abstracts nulos \n",
    "data = data[data[\"ABSTRACT\"]!= 't']\n",
    "data = data.drop_duplicates(subset = ['YEAR',  'TITLE', 'ABSTRACT', 'AUTHOR']) \n",
    "data.sort_values(by = 'YEAR', inplace = True, ascending =True)\n",
    "\n",
    "data.info()"
   ]
  },
  {
   "cell_type": "code",
   "execution_count": 66,
   "id": "d0ff2255-a46a-4dcb-9e1c-a6ad39cc803e",
   "metadata": {},
   "outputs": [
    {
     "data": {
      "text/plain": [
       "False"
      ]
     },
     "execution_count": 66,
     "metadata": {},
     "output_type": "execute_result"
    }
   ],
   "source": [
    "data.ABSTRACT.isnull().values.any()"
   ]
  },
  {
   "cell_type": "markdown",
   "id": "c1d4fbcd-3e18-4da8-8e18-a7afb5859a53",
   "metadata": {
    "tags": []
   },
   "source": [
    "## Cleaning"
   ]
  },
  {
   "cell_type": "code",
   "execution_count": 67,
   "id": "cdcc2877-24be-4b95-815c-4c0e6662af73",
   "metadata": {},
   "outputs": [],
   "source": [
    "STOP_WORDS_en = stopwords.words(\"english\")\n",
    "STOP_WORDS_fr = stopwords.words(\"french\")\n",
    "STOP_WORDS = STOP_WORDS_fr + STOP_WORDS_en\n",
    "\n",
    "def tokenize(x):\n",
    "    return [word for word in word_tokenize(x) if word not in STOP_WORDS_en and word.isalpha() and len(word)>1]\n",
    "    \n",
    "texts= [tokenize(str(doc).lower()) for doc in data['ABSTRACT']]\n",
    "\n",
    "texts_df = pd.DataFrame([' '.join(text) for text in texts], columns = ['text'])\n",
    "\n",
    "data['ABSTRACT'] = texts_df\n"
   ]
  },
  {
   "cell_type": "code",
   "execution_count": 70,
   "id": "26991c19-a48d-4aa0-874c-099049238d9e",
   "metadata": {},
   "outputs": [
    {
     "name": "stdout",
     "output_type": "stream",
     "text": [
      "124\n"
     ]
    }
   ],
   "source": [
    "print(len(data[data.ABSTRACT.isnull()]))\n",
    "data[data.ABSTRACT.isnull()].to_csv('data/abstracts_nulos_postprocesamiento.csv')"
   ]
  },
  {
   "cell_type": "markdown",
   "id": "ce2a3803-4efd-4ac9-aae5-62daba15f9ab",
   "metadata": {
    "jp-MarkdownHeadingCollapsed": true,
    "tags": []
   },
   "source": [
    "## Sampling"
   ]
  },
  {
   "cell_type": "code",
   "execution_count": 51,
   "id": "dfe6edca-05c6-4a40-9c4a-7a22e8d75684",
   "metadata": {},
   "outputs": [
    {
     "data": {
      "text/plain": [
       "1816"
      ]
     },
     "execution_count": 51,
     "metadata": {},
     "output_type": "execute_result"
    }
   ],
   "source": [
    "anio_corte = 2016\n",
    "len(data[data['YEAR']==anio_corte])"
   ]
  },
  {
   "cell_type": "code",
   "execution_count": 57,
   "id": "6f167765-8d99-42de-8cb1-33a2d61ba445",
   "metadata": {},
   "outputs": [
    {
     "data": {
      "text/html": [
       "<div>\n",
       "<style scoped>\n",
       "    .dataframe tbody tr th:only-of-type {\n",
       "        vertical-align: middle;\n",
       "    }\n",
       "\n",
       "    .dataframe tbody tr th {\n",
       "        vertical-align: top;\n",
       "    }\n",
       "\n",
       "    .dataframe thead th {\n",
       "        text-align: right;\n",
       "    }\n",
       "</style>\n",
       "<table border=\"1\" class=\"dataframe\">\n",
       "  <thead>\n",
       "    <tr style=\"text-align: right;\">\n",
       "      <th></th>\n",
       "      <th>YEAR</th>\n",
       "      <th>TITLE</th>\n",
       "      <th>ABSTRACT</th>\n",
       "      <th>AUTHOR</th>\n",
       "      <th>PUBLISHER</th>\n",
       "      <th>BOOKTITLE</th>\n",
       "      <th>CATEGORY</th>\n",
       "    </tr>\n",
       "  </thead>\n",
       "  <tbody>\n",
       "    <tr>\n",
       "      <th>33645</th>\n",
       "      <td>1991</td>\n",
       "      <td>The Translator{'}s Workbench: An Environment f...</td>\n",
       "      <td>work assumes languages structured semantic fra...</td>\n",
       "      <td>Kugler, Marianne  and</td>\n",
       "      <td>NaN</td>\n",
       "      <td>Proceedings of Machine Translation Summit III:...</td>\n",
       "      <td>INPROCEEDINGS</td>\n",
       "    </tr>\n",
       "    <tr>\n",
       "      <th>33635</th>\n",
       "      <td>1991</td>\n",
       "      <td>ULTRA}: A Multi-lingual Machine Translator</td>\n",
       "      <td>spread fake news propaganda misinformation dis...</td>\n",
       "      <td>Farwell, David  and</td>\n",
       "      <td>NaN</td>\n",
       "      <td>Proceedings of Machine Translation Summit III:...</td>\n",
       "      <td>INPROCEEDINGS</td>\n",
       "    </tr>\n",
       "    <tr>\n",
       "      <th>33653</th>\n",
       "      <td>1991</td>\n",
       "      <td>Parsing = Parsimonious Covering?</td>\n",
       "      <td>social media one significantdigital platforms ...</td>\n",
       "      <td>Dasigi, Venu</td>\n",
       "      <td>Association for Computational Linguistics</td>\n",
       "      <td>Proceedings of the Second International Worksh...</td>\n",
       "      <td>INPROCEEDINGS</td>\n",
       "    </tr>\n",
       "    <tr>\n",
       "      <th>33651</th>\n",
       "      <td>1991</td>\n",
       "      <td>Proceedings of the Second International Worksh...</td>\n",
       "      <td>increasing interest modeling dynamics temporal...</td>\n",
       "      <td>Tomita, Masaru  and</td>\n",
       "      <td>Association for Computational Linguistics</td>\n",
       "      <td>Proceedings of the Second International Worksh...</td>\n",
       "      <td>INPROCEEDINGS</td>\n",
       "    </tr>\n",
       "    <tr>\n",
       "      <th>33650</th>\n",
       "      <td>1991</td>\n",
       "      <td>Connectionist and Symbolic Processing in Speec...</td>\n",
       "      <td>work propose application abstract meaning repr...</td>\n",
       "      <td>Jain, A. N.  and</td>\n",
       "      <td>NaN</td>\n",
       "      <td>Proceedings of Machine Translation Summit III:...</td>\n",
       "      <td>INPROCEEDINGS</td>\n",
       "    </tr>\n",
       "    <tr>\n",
       "      <th>...</th>\n",
       "      <td>...</td>\n",
       "      <td>...</td>\n",
       "      <td>...</td>\n",
       "      <td>...</td>\n",
       "      <td>...</td>\n",
       "      <td>...</td>\n",
       "      <td>...</td>\n",
       "    </tr>\n",
       "    <tr>\n",
       "      <th>2515</th>\n",
       "      <td>2022</td>\n",
       "      <td>Cross-Utterance Conditioned {VAE} for Non-Auto...</td>\n",
       "      <td>propose two general robust methods enriching r...</td>\n",
       "      <td>Li, Yang  and</td>\n",
       "      <td>Association for Computational Linguistics</td>\n",
       "      <td>Proceedings of the 60th Annual Meeting of the ...</td>\n",
       "      <td>INPROCEEDINGS</td>\n",
       "    </tr>\n",
       "    <tr>\n",
       "      <th>2278</th>\n",
       "      <td>2022</td>\n",
       "      <td>Improving {R}omanian {B}io{NER} Using a Biolog...</td>\n",
       "      <td>paper investigate coverage two knowledge sourc...</td>\n",
       "      <td>Mitrofan, Maria  and</td>\n",
       "      <td>Association for Computational Linguistics</td>\n",
       "      <td>Proceedings of the 21st Workshop on Biomedical...</td>\n",
       "      <td>INPROCEEDINGS</td>\n",
       "    </tr>\n",
       "    <tr>\n",
       "      <th>2434</th>\n",
       "      <td>2022</td>\n",
       "      <td>Revisiting the Compositional Generalization Ab...</td>\n",
       "      <td>cet article pr sente un projet de rep rage ext...</td>\n",
       "      <td>Patel, Arkil  and</td>\n",
       "      <td>Association for Computational Linguistics</td>\n",
       "      <td>Proceedings of the 60th Annual Meeting of the ...</td>\n",
       "      <td>INPROCEEDINGS</td>\n",
       "    </tr>\n",
       "    <tr>\n",
       "      <th>2603</th>\n",
       "      <td>2022</td>\n",
       "      <td>DYLE}: Dynamic Latent Extraction for Abstracti...</td>\n",
       "      <td>paper describes statistical mt system improvem...</td>\n",
       "      <td>Mao, Ziming  and</td>\n",
       "      <td>Association for Computational Linguistics</td>\n",
       "      <td>Proceedings of the 60th Annual Meeting of the ...</td>\n",
       "      <td>INPROCEEDINGS</td>\n",
       "    </tr>\n",
       "    <tr>\n",
       "      <th>2163</th>\n",
       "      <td>2022</td>\n",
       "      <td>Automated speech tools for helping communities...</td>\n",
       "      <td>embodied conversational agents typically const...</td>\n",
       "      <td>San, Nay  and</td>\n",
       "      <td>Association for Computational Linguistics</td>\n",
       "      <td>Proceedings of the Fifth Workshop on the Use o...</td>\n",
       "      <td>INPROCEEDINGS</td>\n",
       "    </tr>\n",
       "  </tbody>\n",
       "</table>\n",
       "<p>18456 rows × 7 columns</p>\n",
       "</div>"
      ],
      "text/plain": [
       "       YEAR                                              TITLE  \\\n",
       "33645  1991  The Translator{'}s Workbench: An Environment f...   \n",
       "33635  1991         ULTRA}: A Multi-lingual Machine Translator   \n",
       "33653  1991                   Parsing = Parsimonious Covering?   \n",
       "33651  1991  Proceedings of the Second International Worksh...   \n",
       "33650  1991  Connectionist and Symbolic Processing in Speec...   \n",
       "...     ...                                                ...   \n",
       "2515   2022  Cross-Utterance Conditioned {VAE} for Non-Auto...   \n",
       "2278   2022  Improving {R}omanian {B}io{NER} Using a Biolog...   \n",
       "2434   2022  Revisiting the Compositional Generalization Ab...   \n",
       "2603   2022  DYLE}: Dynamic Latent Extraction for Abstracti...   \n",
       "2163   2022  Automated speech tools for helping communities...   \n",
       "\n",
       "                                                ABSTRACT  \\\n",
       "33645  work assumes languages structured semantic fra...   \n",
       "33635  spread fake news propaganda misinformation dis...   \n",
       "33653  social media one significantdigital platforms ...   \n",
       "33651  increasing interest modeling dynamics temporal...   \n",
       "33650  work propose application abstract meaning repr...   \n",
       "...                                                  ...   \n",
       "2515   propose two general robust methods enriching r...   \n",
       "2278   paper investigate coverage two knowledge sourc...   \n",
       "2434   cet article pr sente un projet de rep rage ext...   \n",
       "2603   paper describes statistical mt system improvem...   \n",
       "2163   embodied conversational agents typically const...   \n",
       "\n",
       "                      AUTHOR                                  PUBLISHER  \\\n",
       "33645  Kugler, Marianne  and                                        NaN   \n",
       "33635    Farwell, David  and                                        NaN   \n",
       "33653           Dasigi, Venu  Association for Computational Linguistics   \n",
       "33651    Tomita, Masaru  and  Association for Computational Linguistics   \n",
       "33650       Jain, A. N.  and                                        NaN   \n",
       "...                      ...                                        ...   \n",
       "2515           Li, Yang  and  Association for Computational Linguistics   \n",
       "2278    Mitrofan, Maria  and  Association for Computational Linguistics   \n",
       "2434       Patel, Arkil  and  Association for Computational Linguistics   \n",
       "2603        Mao, Ziming  and  Association for Computational Linguistics   \n",
       "2163           San, Nay  and  Association for Computational Linguistics   \n",
       "\n",
       "                                               BOOKTITLE       CATEGORY  \n",
       "33645  Proceedings of Machine Translation Summit III:...  INPROCEEDINGS  \n",
       "33635  Proceedings of Machine Translation Summit III:...  INPROCEEDINGS  \n",
       "33653  Proceedings of the Second International Worksh...  INPROCEEDINGS  \n",
       "33651  Proceedings of the Second International Worksh...  INPROCEEDINGS  \n",
       "33650  Proceedings of Machine Translation Summit III:...  INPROCEEDINGS  \n",
       "...                                                  ...            ...  \n",
       "2515   Proceedings of the 60th Annual Meeting of the ...  INPROCEEDINGS  \n",
       "2278   Proceedings of the 21st Workshop on Biomedical...  INPROCEEDINGS  \n",
       "2434   Proceedings of the 60th Annual Meeting of the ...  INPROCEEDINGS  \n",
       "2603   Proceedings of the 60th Annual Meeting of the ...  INPROCEEDINGS  \n",
       "2163   Proceedings of the Fifth Workshop on the Use o...  INPROCEEDINGS  \n",
       "\n",
       "[18456 rows x 7 columns]"
      ]
     },
     "execution_count": 57,
     "metadata": {},
     "output_type": "execute_result"
    }
   ],
   "source": [
    "paper_sample = len(data[data['YEAR']==anio_corte])\n",
    "semilla = 420\n",
    "\n",
    "data_original = data.copy() \n",
    "\n",
    "data =data[~pd.isnull(data['ABSTRACT'])]\n",
    "\n",
    "data_sample = data[data['YEAR']<anio_corte].sort_values('YEAR', ascending =True)\n",
    "data_sample\n",
    "\n",
    "for i in range(anio_corte, 2023):\n",
    "    data_i = data[data['YEAR']== i].sample(paper_sample, random_state= semilla) \n",
    "    \n",
    "    data_sample = pd.concat([data_sample, data_i])\n",
    "\n",
    "# ordeno por año y creo time_slice\n",
    "data_sample.sort_values(by = 'YEAR', inplace = True, ascending =True)\n",
    "time_slice = data_sample.groupby(['YEAR'])['YEAR'].count()\n",
    "\n",
    "data_sample.YEAR.value_counts(normalize = True)\n",
    "data_sample"
   ]
  },
  {
   "cell_type": "code",
   "execution_count": 59,
   "id": "851154de-e9af-463e-bc9a-9e134fa5d024",
   "metadata": {},
   "outputs": [
    {
     "data": {
      "text/plain": [
       "'work assumes languages structured semantic frames schematic representations concepts metaphors hand cognitive projections domains result interaction world experiences expectations human biology work use semantic frames metaphors multilingual contrast brazilian portuguese english german aim present descriptive study metaphors frames multilingual shared annotation task multilingual framenet task consisted using frames berkeley framenet annotate parallel corpora result shows parameters annotation considering frames metaphors'"
      ]
     },
     "execution_count": 59,
     "metadata": {},
     "output_type": "execute_result"
    }
   ],
   "source": [
    "dataset = data_sample.ABSTRACT.tolist()\n",
    "dataset[0]"
   ]
  },
  {
   "cell_type": "markdown",
   "id": "d943312b-6a91-499b-b8db-76059a22144b",
   "metadata": {},
   "source": [
    "## Export"
   ]
  },
  {
   "cell_type": "code",
   "execution_count": 62,
   "id": "f98dc1ca-c028-495d-839e-bf2d5d8a261a",
   "metadata": {},
   "outputs": [],
   "source": [
    "data.to_csv('data/ACL_data_without_nulls.csv', index = False)\n",
    "\n",
    "data_sample.to_csv('data/data_sample.csv', index = False)\n",
    "time_slice.to_csv('data/time_slice.csv', index = False)\n",
    "\n",
    "data_abstracts = data_sample['ABSTRACT']\n",
    "data_abstracts.to_csv('data/data_clean.csv', index = False)\n"
   ]
  },
  {
   "cell_type": "code",
   "execution_count": 73,
   "id": "5792438a-ecb1-4c19-8c14-4165136bd482",
   "metadata": {},
   "outputs": [
    {
     "data": {
      "text/html": [
       "<div>\n",
       "<style scoped>\n",
       "    .dataframe tbody tr th:only-of-type {\n",
       "        vertical-align: middle;\n",
       "    }\n",
       "\n",
       "    .dataframe tbody tr th {\n",
       "        vertical-align: top;\n",
       "    }\n",
       "\n",
       "    .dataframe thead th {\n",
       "        text-align: right;\n",
       "    }\n",
       "</style>\n",
       "<table border=\"1\" class=\"dataframe\">\n",
       "  <thead>\n",
       "    <tr style=\"text-align: right;\">\n",
       "      <th></th>\n",
       "      <th>text</th>\n",
       "    </tr>\n",
       "  </thead>\n",
       "  <tbody>\n",
       "  </tbody>\n",
       "</table>\n",
       "</div>"
      ],
      "text/plain": [
       "Empty DataFrame\n",
       "Columns: [text]\n",
       "Index: []"
      ]
     },
     "execution_count": 73,
     "metadata": {},
     "output_type": "execute_result"
    }
   ],
   "source": [
    "pd.DataFrame(data_abstracts, columns = ['text'])"
   ]
  },
  {
   "cell_type": "markdown",
   "id": "be66f3a2-8ab8-4b34-b4cd-e89793dc2778",
   "metadata": {},
   "source": [
    "## Word count"
   ]
  },
  {
   "cell_type": "code",
   "execution_count": 63,
   "id": "7b3cf278-c313-49bb-939f-923b1a7000f8",
   "metadata": {},
   "outputs": [
    {
     "data": {
      "text/html": [
       "<div>\n",
       "<style scoped>\n",
       "    .dataframe tbody tr th:only-of-type {\n",
       "        vertical-align: middle;\n",
       "    }\n",
       "\n",
       "    .dataframe tbody tr th {\n",
       "        vertical-align: top;\n",
       "    }\n",
       "\n",
       "    .dataframe thead th {\n",
       "        text-align: right;\n",
       "    }\n",
       "</style>\n",
       "<table border=\"1\" class=\"dataframe\">\n",
       "  <thead>\n",
       "    <tr style=\"text-align: right;\">\n",
       "      <th></th>\n",
       "      <th>Word</th>\n",
       "      <th>Frequency</th>\n",
       "    </tr>\n",
       "  </thead>\n",
       "  <tbody>\n",
       "    <tr>\n",
       "      <th>0</th>\n",
       "      <td>model</td>\n",
       "      <td>24566</td>\n",
       "    </tr>\n",
       "    <tr>\n",
       "      <th>1</th>\n",
       "      <td>language</td>\n",
       "      <td>24078</td>\n",
       "    </tr>\n",
       "    <tr>\n",
       "      <th>2</th>\n",
       "      <td>models</td>\n",
       "      <td>21509</td>\n",
       "    </tr>\n",
       "    <tr>\n",
       "      <th>3</th>\n",
       "      <td>data</td>\n",
       "      <td>19228</td>\n",
       "    </tr>\n",
       "    <tr>\n",
       "      <th>4</th>\n",
       "      <td>task</td>\n",
       "      <td>17089</td>\n",
       "    </tr>\n",
       "    <tr>\n",
       "      <th>...</th>\n",
       "      <td>...</td>\n",
       "      <td>...</td>\n",
       "    </tr>\n",
       "    <tr>\n",
       "      <th>48153</th>\n",
       "      <td>maillard</td>\n",
       "      <td>1</td>\n",
       "    </tr>\n",
       "    <tr>\n",
       "      <th>48154</th>\n",
       "      <td>pathlstm</td>\n",
       "      <td>1</td>\n",
       "    </tr>\n",
       "    <tr>\n",
       "      <th>48155</th>\n",
       "      <td>biosmile</td>\n",
       "      <td>1</td>\n",
       "    </tr>\n",
       "    <tr>\n",
       "      <th>48156</th>\n",
       "      <td>biokit</td>\n",
       "      <td>1</td>\n",
       "    </tr>\n",
       "    <tr>\n",
       "      <th>48157</th>\n",
       "      <td>slip</td>\n",
       "      <td>1</td>\n",
       "    </tr>\n",
       "  </tbody>\n",
       "</table>\n",
       "<p>48158 rows × 2 columns</p>\n",
       "</div>"
      ],
      "text/plain": [
       "           Word  Frequency\n",
       "0         model      24566\n",
       "1      language      24078\n",
       "2        models      21509\n",
       "3          data      19228\n",
       "4          task      17089\n",
       "...         ...        ...\n",
       "48153  maillard          1\n",
       "48154  pathlstm          1\n",
       "48155  biosmile          1\n",
       "48156    biokit          1\n",
       "48157      slip          1\n",
       "\n",
       "[48158 rows x 2 columns]"
      ]
     },
     "execution_count": 63,
     "metadata": {},
     "output_type": "execute_result"
    }
   ],
   "source": [
    "new_df = texts_df.text.str.split(expand=True).stack().value_counts().reset_index()\n",
    " \n",
    "new_df.columns = ['Word', 'Frequency'] \n",
    " \n",
    "new_df.to_csv('data/word_count.csv', index = False)\n",
    "\n",
    "new_df"
   ]
  },
  {
   "cell_type": "code",
   "execution_count": 17,
   "id": "8f8a6406-0388-410a-8566-1c3a7f17245c",
   "metadata": {},
   "outputs": [
    {
     "data": {
      "image/png": "[encoded data removed]",
      "text/plain": [
       "<Figure size 640x480 with 1 Axes>"
      ]
     },
     "metadata": {},
     "output_type": "display_data"
    }
   ],
   "source": [
    "# plot de frecuencia vs ranking (la palabra mas frecuente tiene rank=1, la segunda tiene rank=2, etc..)\n",
    "plt.plot(range(len(new_df)),new_df.Frequency)\n",
    "plt.xlabel('rank');plt.ylabel('freq');"
   ]
  },
  {
   "cell_type": "code",
   "execution_count": 18,
   "id": "c3b18237-ed8f-4fb0-92b6-aa4e4d2586e2",
   "metadata": {},
   "outputs": [
    {
     "name": "stdout",
     "output_type": "stream",
     "text": [
      "el  37.25 % de las palabras aparecen 1 sola vez\n",
      "las 10 palabras mas frecuentes representan el  6.32 % del corpus\n"
     ]
    }
   ],
   "source": [
    "\n",
    "  # palabras con 1 sola occurrencia\n",
    "print(\"el \",\n",
    "      round(100*sum(new_df.Frequency==1)/len(new_df.Frequency),2),\n",
    "      \"% de las palabras aparecen 1 sola vez\")\n",
    "\n",
    "print(\"las 10 palabras mas frecuentes representan el \",\n",
    "      round(100*new_df.Frequency[:10].sum()/new_df.Frequency.sum(),2),\n",
    "      \"% del corpus\")\n",
    "\n"
   ]
  }
 ],
 "metadata": {
  "kernelspec": {
   "display_name": "Python 3 (ipykernel)",
   "language": "python",
   "name": "python3"
  },
  "language_info": {
   "codemirror_mode": {
    "name": "ipython",
    "version": 3
   },
   "file_extension": ".py",
   "mimetype": "text/x-python",
   "name": "python",
   "nbconvert_exporter": "python",
   "pygments_lexer": "ipython3",
   "version": "3.10.4"
  }
 },
 "nbformat": 4,
 "nbformat_minor": 5
}
