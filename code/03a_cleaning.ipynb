{
 "cells": [
  {
   "cell_type": "code",
   "execution_count": 1,
   "id": "7df02a7c-d592-4511-aba0-0833e10e2927",
   "metadata": {},
   "outputs": [],
   "source": [
    "import pandas as pd\n",
    "import numpy as np\n",
    "import matplotlib.pyplot  as plt\n",
    "\n",
    "\n",
    "from nltk import word_tokenize, sent_tokenize\n",
    "import nltk\n",
    "from nltk.corpus import stopwords\n",
    "\n",
    "# nltk.download('punkt')\n",
    "# nltk.download('stopwords')"
   ]
  },
  {
   "cell_type": "markdown",
   "id": "7b339420-6159-48aa-bf1a-2db31994be78",
   "metadata": {},
   "source": [
    "## Data"
   ]
  },
  {
   "cell_type": "code",
   "execution_count": 85,
   "id": "d59369ca-9200-4d07-b472-b1471936b206",
   "metadata": {},
   "outputs": [
    {
     "name": "stdout",
     "output_type": "stream",
     "text": [
      "<class 'pandas.core.frame.DataFrame'>\n",
      "Int64Index: 33668 entries, 0 to 33810\n",
      "Data columns (total 7 columns):\n",
      " #   Column     Non-Null Count  Dtype \n",
      "---  ------     --------------  ----- \n",
      " 0   YEAR       33668 non-null  int64 \n",
      " 1   TITLE      33668 non-null  object\n",
      " 2   ABSTRACT   33668 non-null  object\n",
      " 3   AUTHOR     33628 non-null  object\n",
      " 4   PUBLISHER  32809 non-null  object\n",
      " 5   BOOKTITLE  33014 non-null  object\n",
      " 6   CATEGORY   33668 non-null  object\n",
      "dtypes: int64(1), object(6)\n",
      "memory usage: 2.1+ MB\n"
     ]
    }
   ],
   "source": [
    "data = pd.read_csv(\"data/ACL_data.csv\")\n",
    "data = data[~pd.isnull(data['ABSTRACT'])] # filtro abstracts nulos \n",
    "data = data[data[\"ABSTRACT\"]!= 't']\n",
    "data = data.drop_duplicates(subset = ['YEAR',  'TITLE', 'ABSTRACT', 'AUTHOR']) \n",
    "data.sort_values(by = 'YEAR', inplace = True, ascending =False)\n",
    "\n",
    "data.info()"
   ]
  },
  {
   "cell_type": "code",
   "execution_count": 86,
   "id": "b679c0e3-0569-4430-a7ff-ebcad10ec327",
   "metadata": {},
   "outputs": [
    {
     "data": {
      "text/plain": [
       "2057"
      ]
     },
     "execution_count": 86,
     "metadata": {},
     "output_type": "execute_result"
    }
   ],
   "source": [
    "data.loc[2,:]\n",
    "data.index.get_loc(2)"
   ]
  },
  {
   "cell_type": "code",
   "execution_count": 87,
   "id": "3897a5b7-8b08-4d8a-8750-3e5e8f8087e9",
   "metadata": {},
   "outputs": [
    {
     "data": {
      "text/plain": [
       "\"Non-Player Characters (NPCs) significantly enhance the player experience in many games. Historically, players{'} interactions with NPCs have tended to be highly scripted, to be limited to natural language responses to be selected by the player, and to not involve dynamic change in game state. In this work, we demonstrate that use of a few example conversational prompts can power a conversational agent to generate both natural language and novel code. This approach can permit development of NPCs with which players can have grounded conversations that are free-form and less repetitive. We demonstrate our approach using OpenAI Codex (GPT-3 finetuned on GitHub), with Minecraft game development as our test bed. We show that with a few example prompts, a Codex-based agent can generate novel code, hold multi-turn conversations and answer questions about structured data. We evaluate this application using experienced gamers in a Minecraft realm and provide analysis of failure cases and suggest possible directions for solutions.\""
      ]
     },
     "execution_count": 87,
     "metadata": {},
     "output_type": "execute_result"
    }
   ],
   "source": [
    "data.loc[2, 'ABSTRACT']"
   ]
  },
  {
   "cell_type": "code",
   "execution_count": 88,
   "id": "d0ff2255-a46a-4dcb-9e1c-a6ad39cc803e",
   "metadata": {},
   "outputs": [
    {
     "data": {
      "text/plain": [
       "False"
      ]
     },
     "execution_count": 88,
     "metadata": {},
     "output_type": "execute_result"
    }
   ],
   "source": [
    "data.ABSTRACT.isnull().values.any()"
   ]
  },
  {
   "cell_type": "markdown",
   "id": "c1d4fbcd-3e18-4da8-8e18-a7afb5859a53",
   "metadata": {
    "tags": []
   },
   "source": [
    "## Cleaning"
   ]
  },
  {
   "cell_type": "code",
   "execution_count": 89,
   "id": "cdcc2877-24be-4b95-815c-4c0e6662af73",
   "metadata": {},
   "outputs": [],
   "source": [
    "STOP_WORDS_en = stopwords.words(\"english\")\n",
    "STOP_WORDS_fr = stopwords.words(\"french\")\n",
    "STOP_WORDS = STOP_WORDS_fr + STOP_WORDS_en\n",
    "\n",
    "def tokenize(x):\n",
    "    return [word for word in word_tokenize(x) if word not in STOP_WORDS_en and word.isalpha() and len(word)>1]\n",
    "    \n",
    "texts= [tokenize(str(doc).lower()) for doc in data['ABSTRACT']]\n",
    "\n",
    "texts_df = pd.DataFrame([' '.join(text) for text in texts], columns = ['text'])\n",
    "\n",
    "data['ABSTRACT'] = texts_df.text\n"
   ]
  },
  {
   "cell_type": "code",
   "execution_count": 90,
   "id": "60408de0-1826-4f6b-9072-9d6402bd241d",
   "metadata": {},
   "outputs": [
    {
     "data": {
      "text/plain": [
       "33668"
      ]
     },
     "execution_count": 90,
     "metadata": {},
     "output_type": "execute_result"
    }
   ],
   "source": [
    "len(texts_df)"
   ]
  },
  {
   "cell_type": "code",
   "execution_count": 91,
   "id": "26991c19-a48d-4aa0-874c-099049238d9e",
   "metadata": {},
   "outputs": [
    {
     "name": "stdout",
     "output_type": "stream",
     "text": [
      "124\n"
     ]
    }
   ],
   "source": [
    "print(len(data[data.ABSTRACT.isnull()]))\n",
    "# data[data.ABSTRACT.isnull()].to_csv('data/abstracts_nulos_postprocesamiento.csv')"
   ]
  },
  {
   "cell_type": "code",
   "execution_count": 92,
   "id": "0606a056-9b45-415e-8e34-b142d24be480",
   "metadata": {},
   "outputs": [
    {
     "data": {
      "text/plain": [
       "'characters npcs significantly enhance player experience many games historically players interactions npcs tended highly scripted limited natural language responses selected player involve dynamic change game state work demonstrate use example conversational prompts power conversational agent generate natural language novel code approach permit development npcs players grounded conversations less repetitive demonstrate approach using openai codex finetuned github minecraft game development test bed show example prompts agent generate novel code hold conversations answer questions structured data evaluate application using experienced gamers minecraft realm provide analysis failure cases suggest possible directions solutions'"
      ]
     },
     "execution_count": 92,
     "metadata": {},
     "output_type": "execute_result"
    }
   ],
   "source": [
    "data.loc[2057, 'ABSTRACT']"
   ]
  },
  {
   "cell_type": "markdown",
   "id": "ce2a3803-4efd-4ac9-aae5-62daba15f9ab",
   "metadata": {
    "tags": []
   },
   "source": [
    "## Sampling"
   ]
  },
  {
   "cell_type": "code",
   "execution_count": 93,
   "id": "dfe6edca-05c6-4a40-9c4a-7a22e8d75684",
   "metadata": {},
   "outputs": [
    {
     "data": {
      "text/plain": [
       "1816"
      ]
     },
     "execution_count": 93,
     "metadata": {},
     "output_type": "execute_result"
    }
   ],
   "source": [
    "anio_corte = 2016\n",
    "len(data[data['YEAR']==anio_corte])"
   ]
  },
  {
   "cell_type": "code",
   "execution_count": 94,
   "id": "6f167765-8d99-42de-8cb1-33a2d61ba445",
   "metadata": {},
   "outputs": [
    {
     "data": {
      "text/html": [
       "<div>\n",
       "<style scoped>\n",
       "    .dataframe tbody tr th:only-of-type {\n",
       "        vertical-align: middle;\n",
       "    }\n",
       "\n",
       "    .dataframe tbody tr th {\n",
       "        vertical-align: top;\n",
       "    }\n",
       "\n",
       "    .dataframe thead th {\n",
       "        text-align: right;\n",
       "    }\n",
       "</style>\n",
       "<table border=\"1\" class=\"dataframe\">\n",
       "  <thead>\n",
       "    <tr style=\"text-align: right;\">\n",
       "      <th></th>\n",
       "      <th>YEAR</th>\n",
       "      <th>TITLE</th>\n",
       "      <th>ABSTRACT</th>\n",
       "      <th>AUTHOR</th>\n",
       "      <th>PUBLISHER</th>\n",
       "      <th>BOOKTITLE</th>\n",
       "      <th>CATEGORY</th>\n",
       "    </tr>\n",
       "  </thead>\n",
       "  <tbody>\n",
       "    <tr>\n",
       "      <th>33645</th>\n",
       "      <td>1991</td>\n",
       "      <td>The Translator{'}s Workbench: An Environment f...</td>\n",
       "      <td>mechanical translation research involves desig...</td>\n",
       "      <td>Kugler, Marianne  and</td>\n",
       "      <td>NaN</td>\n",
       "      <td>Proceedings of Machine Translation Summit III:...</td>\n",
       "      <td>INPROCEEDINGS</td>\n",
       "    </tr>\n",
       "    <tr>\n",
       "      <th>33634</th>\n",
       "      <td>1991</td>\n",
       "      <td>Advances in Machine Translation Research in {IBM</td>\n",
       "      <td>sakai described new technique mechanical trans...</td>\n",
       "      <td>Rimon, Mori  and</td>\n",
       "      <td>NaN</td>\n",
       "      <td>Proceedings of Machine Translation Summit III:...</td>\n",
       "      <td>INPROCEEDINGS</td>\n",
       "    </tr>\n",
       "    <tr>\n",
       "      <th>33652</th>\n",
       "      <td>1991</td>\n",
       "      <td>Parsing without Parser</td>\n",
       "      <td>approach problem based stratificational gramma...</td>\n",
       "      <td>Hasida, Ko{\\^\\i}ti  and</td>\n",
       "      <td>Association for Computational Linguistics</td>\n",
       "      <td>Proceedings of the Second International Worksh...</td>\n",
       "      <td>INPROCEEDINGS</td>\n",
       "    </tr>\n",
       "    <tr>\n",
       "      <th>33651</th>\n",
       "      <td>1991</td>\n",
       "      <td>Proceedings of the Second International Worksh...</td>\n",
       "      <td>approach study information processing verbal i...</td>\n",
       "      <td>Tomita, Masaru  and</td>\n",
       "      <td>Association for Computational Linguistics</td>\n",
       "      <td>Proceedings of the Second International Worksh...</td>\n",
       "      <td>INPROCEEDINGS</td>\n",
       "    </tr>\n",
       "    <tr>\n",
       "      <th>33650</th>\n",
       "      <td>1991</td>\n",
       "      <td>Connectionist and Symbolic Processing in Speec...</td>\n",
       "      <td>comprehensive grammars developed linguistics r...</td>\n",
       "      <td>Jain, A. N.  and</td>\n",
       "      <td>NaN</td>\n",
       "      <td>Proceedings of Machine Translation Summit III:...</td>\n",
       "      <td>INPROCEEDINGS</td>\n",
       "    </tr>\n",
       "    <tr>\n",
       "      <th>...</th>\n",
       "      <td>...</td>\n",
       "      <td>...</td>\n",
       "      <td>...</td>\n",
       "      <td>...</td>\n",
       "      <td>...</td>\n",
       "      <td>...</td>\n",
       "      <td>...</td>\n",
       "    </tr>\n",
       "    <tr>\n",
       "      <th>596</th>\n",
       "      <td>2022</td>\n",
       "      <td>Towards Process-Oriented, Modular, and Versati...</td>\n",
       "      <td>paper set quantify syntactic capacity bert eva...</td>\n",
       "      <td>Wang, Xu  and</td>\n",
       "      <td>Association for Computational Linguistics</td>\n",
       "      <td>Proceedings of the 2022 Conference of the Nort...</td>\n",
       "      <td>INPROCEEDINGS</td>\n",
       "    </tr>\n",
       "    <tr>\n",
       "      <th>843</th>\n",
       "      <td>2022</td>\n",
       "      <td>FRUIT}: Faithfully Reflecting Updated Informat...</td>\n",
       "      <td>works financial forecasting use information di...</td>\n",
       "      <td>Iv, Robert  and</td>\n",
       "      <td>Association for Computational Linguistics</td>\n",
       "      <td>Proceedings of the 2022 Conference of the Nort...</td>\n",
       "      <td>INPROCEEDINGS</td>\n",
       "    </tr>\n",
       "    <tr>\n",
       "      <th>699</th>\n",
       "      <td>2022</td>\n",
       "      <td>V}al{CAT}: Variable-Length Contextualized Adve...</td>\n",
       "      <td>recent vlp architectures clip tremendous amoun...</td>\n",
       "      <td>Deng, Chuyun  and</td>\n",
       "      <td>Association for Computational Linguistics</td>\n",
       "      <td>Proceedings of the 2022 Conference of the Nort...</td>\n",
       "      <td>INPROCEEDINGS</td>\n",
       "    </tr>\n",
       "    <tr>\n",
       "      <th>509</th>\n",
       "      <td>2022</td>\n",
       "      <td>Beyond Static models and test sets: Benchmarki...</td>\n",
       "      <td>multidomain multilingual machine translation o...</td>\n",
       "      <td>Ahuja, Kabir  and</td>\n",
       "      <td>Association for Computational Linguistics</td>\n",
       "      <td>Proceedings of NLP Power! The First Workshop o...</td>\n",
       "      <td>INPROCEEDINGS</td>\n",
       "    </tr>\n",
       "    <tr>\n",
       "      <th>948</th>\n",
       "      <td>2022</td>\n",
       "      <td>A Corpus for Understanding and Generating Mora...</td>\n",
       "      <td>neural chat translation nct aims translate con...</td>\n",
       "      <td>Guan, Jian  and</td>\n",
       "      <td>Association for Computational Linguistics</td>\n",
       "      <td>Proceedings of the 2022 Conference of the Nort...</td>\n",
       "      <td>INPROCEEDINGS</td>\n",
       "    </tr>\n",
       "  </tbody>\n",
       "</table>\n",
       "<p>18456 rows × 7 columns</p>\n",
       "</div>"
      ],
      "text/plain": [
       "       YEAR                                              TITLE  \\\n",
       "33645  1991  The Translator{'}s Workbench: An Environment f...   \n",
       "33634  1991   Advances in Machine Translation Research in {IBM   \n",
       "33652  1991                             Parsing without Parser   \n",
       "33651  1991  Proceedings of the Second International Worksh...   \n",
       "33650  1991  Connectionist and Symbolic Processing in Speec...   \n",
       "...     ...                                                ...   \n",
       "596    2022  Towards Process-Oriented, Modular, and Versati...   \n",
       "843    2022  FRUIT}: Faithfully Reflecting Updated Informat...   \n",
       "699    2022  V}al{CAT}: Variable-Length Contextualized Adve...   \n",
       "509    2022  Beyond Static models and test sets: Benchmarki...   \n",
       "948    2022  A Corpus for Understanding and Generating Mora...   \n",
       "\n",
       "                                                ABSTRACT  \\\n",
       "33645  mechanical translation research involves desig...   \n",
       "33634  sakai described new technique mechanical trans...   \n",
       "33652  approach problem based stratificational gramma...   \n",
       "33651  approach study information processing verbal i...   \n",
       "33650  comprehensive grammars developed linguistics r...   \n",
       "...                                                  ...   \n",
       "596    paper set quantify syntactic capacity bert eva...   \n",
       "843    works financial forecasting use information di...   \n",
       "699    recent vlp architectures clip tremendous amoun...   \n",
       "509    multidomain multilingual machine translation o...   \n",
       "948    neural chat translation nct aims translate con...   \n",
       "\n",
       "                        AUTHOR                                  PUBLISHER  \\\n",
       "33645    Kugler, Marianne  and                                        NaN   \n",
       "33634         Rimon, Mori  and                                        NaN   \n",
       "33652  Hasida, Ko{\\^\\i}ti  and  Association for Computational Linguistics   \n",
       "33651      Tomita, Masaru  and  Association for Computational Linguistics   \n",
       "33650         Jain, A. N.  and                                        NaN   \n",
       "...                        ...                                        ...   \n",
       "596              Wang, Xu  and  Association for Computational Linguistics   \n",
       "843            Iv, Robert  and  Association for Computational Linguistics   \n",
       "699          Deng, Chuyun  and  Association for Computational Linguistics   \n",
       "509          Ahuja, Kabir  and  Association for Computational Linguistics   \n",
       "948            Guan, Jian  and  Association for Computational Linguistics   \n",
       "\n",
       "                                               BOOKTITLE       CATEGORY  \n",
       "33645  Proceedings of Machine Translation Summit III:...  INPROCEEDINGS  \n",
       "33634  Proceedings of Machine Translation Summit III:...  INPROCEEDINGS  \n",
       "33652  Proceedings of the Second International Worksh...  INPROCEEDINGS  \n",
       "33651  Proceedings of the Second International Worksh...  INPROCEEDINGS  \n",
       "33650  Proceedings of Machine Translation Summit III:...  INPROCEEDINGS  \n",
       "...                                                  ...            ...  \n",
       "596    Proceedings of the 2022 Conference of the Nort...  INPROCEEDINGS  \n",
       "843    Proceedings of the 2022 Conference of the Nort...  INPROCEEDINGS  \n",
       "699    Proceedings of the 2022 Conference of the Nort...  INPROCEEDINGS  \n",
       "509    Proceedings of NLP Power! The First Workshop o...  INPROCEEDINGS  \n",
       "948    Proceedings of the 2022 Conference of the Nort...  INPROCEEDINGS  \n",
       "\n",
       "[18456 rows x 7 columns]"
      ]
     },
     "execution_count": 94,
     "metadata": {},
     "output_type": "execute_result"
    }
   ],
   "source": [
    "paper_sample = len(data[data['YEAR']==anio_corte])\n",
    "semilla = 420\n",
    "\n",
    "data_original = data.copy() \n",
    "\n",
    "data =data[~pd.isnull(data['ABSTRACT'])]\n",
    "\n",
    "data_sample = data[data['YEAR']<anio_corte].sort_values('YEAR', ascending =True)\n",
    "data_sample\n",
    "\n",
    "for i in range(anio_corte, 2023):\n",
    "    data_i = data[data['YEAR']== i].sample(paper_sample, random_state= semilla) \n",
    "    \n",
    "    data_sample = pd.concat([data_sample, data_i])\n",
    "\n",
    "# ordeno por año y creo time_slice\n",
    "data_sample.sort_values(by = 'YEAR', inplace = True, ascending =True)\n",
    "time_slice = data_sample.groupby(['YEAR'])['YEAR'].count()\n",
    "\n",
    "data_sample.YEAR.value_counts(normalize = True)\n",
    "data_sample"
   ]
  },
  {
   "cell_type": "code",
   "execution_count": 95,
   "id": "851154de-e9af-463e-bc9a-9e134fa5d024",
   "metadata": {},
   "outputs": [
    {
     "data": {
      "text/plain": [
       "'mechanical translation research involves design computer system simulates language processes associated problem collecting language data used translation large quantities information needed computer may useful data accumulation verification generalized information system able accept many types data linguist encodes suitable means communication linguist system established may achieved central input called linguistic requests central output called information displays requests coordinated possible inputs system compatible displays composed system clearly understandable information system interpretive linguist needs allowing program data manipulation key scheme linguist permitted classify data freely retrieve chooses disposal selecting sorting displaying functions verify data select data introduction mechanical translation system perform activities necessary research information system designed linguistics research center university texas'"
      ]
     },
     "execution_count": 95,
     "metadata": {},
     "output_type": "execute_result"
    }
   ],
   "source": [
    "dataset = data_sample.ABSTRACT.tolist()\n",
    "dataset[0]"
   ]
  },
  {
   "cell_type": "markdown",
   "id": "d943312b-6a91-499b-b8db-76059a22144b",
   "metadata": {},
   "source": [
    "## Export"
   ]
  },
  {
   "cell_type": "code",
   "execution_count": 96,
   "id": "f98dc1ca-c028-495d-839e-bf2d5d8a261a",
   "metadata": {},
   "outputs": [],
   "source": [
    "data.to_csv('data/ACL_data_without_nulls.csv', index = False)\n",
    "\n",
    "data_sample.to_csv('data/data_sample.csv', index = False)\n",
    "time_slice.to_csv('data/time_slice.csv', index = False)\n",
    "\n",
    "data_abstracts = pd.DataFrame(data_sample['ABSTRACT'])\n",
    "data_abstracts.columns = ['text']\n",
    "data_abstracts.to_csv('data/data_clean.csv', index = False)\n"
   ]
  },
  {
   "cell_type": "markdown",
   "id": "be66f3a2-8ab8-4b34-b4cd-e89793dc2778",
   "metadata": {},
   "source": [
    "## Word count"
   ]
  },
  {
   "cell_type": "code",
   "execution_count": 97,
   "id": "7b3cf278-c313-49bb-939f-923b1a7000f8",
   "metadata": {},
   "outputs": [
    {
     "data": {
      "text/html": [
       "<div>\n",
       "<style scoped>\n",
       "    .dataframe tbody tr th:only-of-type {\n",
       "        vertical-align: middle;\n",
       "    }\n",
       "\n",
       "    .dataframe tbody tr th {\n",
       "        vertical-align: top;\n",
       "    }\n",
       "\n",
       "    .dataframe thead th {\n",
       "        text-align: right;\n",
       "    }\n",
       "</style>\n",
       "<table border=\"1\" class=\"dataframe\">\n",
       "  <thead>\n",
       "    <tr style=\"text-align: right;\">\n",
       "      <th></th>\n",
       "      <th>Word</th>\n",
       "      <th>Frequency</th>\n",
       "    </tr>\n",
       "  </thead>\n",
       "  <tbody>\n",
       "    <tr>\n",
       "      <th>0</th>\n",
       "      <td>model</td>\n",
       "      <td>24566</td>\n",
       "    </tr>\n",
       "    <tr>\n",
       "      <th>1</th>\n",
       "      <td>language</td>\n",
       "      <td>24078</td>\n",
       "    </tr>\n",
       "    <tr>\n",
       "      <th>2</th>\n",
       "      <td>models</td>\n",
       "      <td>21509</td>\n",
       "    </tr>\n",
       "    <tr>\n",
       "      <th>3</th>\n",
       "      <td>data</td>\n",
       "      <td>19228</td>\n",
       "    </tr>\n",
       "    <tr>\n",
       "      <th>4</th>\n",
       "      <td>task</td>\n",
       "      <td>17089</td>\n",
       "    </tr>\n",
       "    <tr>\n",
       "      <th>...</th>\n",
       "      <td>...</td>\n",
       "      <td>...</td>\n",
       "    </tr>\n",
       "    <tr>\n",
       "      <th>48153</th>\n",
       "      <td>okwugbe</td>\n",
       "      <td>1</td>\n",
       "    </tr>\n",
       "    <tr>\n",
       "      <th>48154</th>\n",
       "      <td>fallible</td>\n",
       "      <td>1</td>\n",
       "    </tr>\n",
       "    <tr>\n",
       "      <th>48155</th>\n",
       "      <td>wikismall</td>\n",
       "      <td>1</td>\n",
       "    </tr>\n",
       "    <tr>\n",
       "      <th>48156</th>\n",
       "      <td>representataions</td>\n",
       "      <td>1</td>\n",
       "    </tr>\n",
       "    <tr>\n",
       "      <th>48157</th>\n",
       "      <td>twoclause</td>\n",
       "      <td>1</td>\n",
       "    </tr>\n",
       "  </tbody>\n",
       "</table>\n",
       "<p>48158 rows × 2 columns</p>\n",
       "</div>"
      ],
      "text/plain": [
       "                   Word  Frequency\n",
       "0                 model      24566\n",
       "1              language      24078\n",
       "2                models      21509\n",
       "3                  data      19228\n",
       "4                  task      17089\n",
       "...                 ...        ...\n",
       "48153           okwugbe          1\n",
       "48154          fallible          1\n",
       "48155         wikismall          1\n",
       "48156  representataions          1\n",
       "48157         twoclause          1\n",
       "\n",
       "[48158 rows x 2 columns]"
      ]
     },
     "execution_count": 97,
     "metadata": {},
     "output_type": "execute_result"
    }
   ],
   "source": [
    "new_df = texts_df.text.str.split(expand=True).stack().value_counts().reset_index()\n",
    " \n",
    "new_df.columns = ['Word', 'Frequency'] \n",
    " \n",
    "new_df.to_csv('data/word_count.csv', index = False)\n",
    "\n",
    "new_df"
   ]
  },
  {
   "cell_type": "code",
   "execution_count": 98,
   "id": "8f8a6406-0388-410a-8566-1c3a7f17245c",
   "metadata": {},
   "outputs": [
    {
     "data": {
      "image/png": "[encoded data removed]",
      "text/plain": [
       "<Figure size 640x480 with 1 Axes>"
      ]
     },
     "metadata": {},
     "output_type": "display_data"
    }
   ],
   "source": [
    "# plot de frecuencia vs ranking (la palabra mas frecuente tiene rank=1, la segunda tiene rank=2, etc..)\n",
    "plt.plot(range(len(new_df)),new_df.Frequency)\n",
    "plt.xlabel('rank');plt.ylabel('freq');"
   ]
  },
  {
   "cell_type": "code",
   "execution_count": 99,
   "id": "c3b18237-ed8f-4fb0-92b6-aa4e4d2586e2",
   "metadata": {},
   "outputs": [
    {
     "name": "stdout",
     "output_type": "stream",
     "text": [
      "el  37.81 % de las palabras aparecen 1 sola vez\n",
      "las 10 palabras mas frecuentes representan el  6.45 % del corpus\n"
     ]
    }
   ],
   "source": [
    "\n",
    "  # palabras con 1 sola occurrencia\n",
    "print(\"el \",\n",
    "      round(100*sum(new_df.Frequency==1)/len(new_df.Frequency),2),\n",
    "      \"% de las palabras aparecen 1 sola vez\")\n",
    "\n",
    "print(\"las 10 palabras mas frecuentes representan el \",\n",
    "      round(100*new_df.Frequency[:10].sum()/new_df.Frequency.sum(),2),\n",
    "      \"% del corpus\")\n",
    "\n"
   ]
  }
 ],
 "metadata": {
  "kernelspec": {
   "display_name": "Python 3 (ipykernel)",
   "language": "python",
   "name": "python3"
  },
  "language_info": {
   "codemirror_mode": {
    "name": "ipython",
    "version": 3
   },
   "file_extension": ".py",
   "mimetype": "text/x-python",
   "name": "python",
   "nbconvert_exporter": "python",
   "pygments_lexer": "ipython3",
   "version": "3.10.4"
  }
 },
 "nbformat": 4,
 "nbformat_minor": 5
}
