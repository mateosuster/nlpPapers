{
  "nbformat": 4,
  "nbformat_minor": 0,
  "metadata": {
    "kernelspec": {
      "display_name": "Python 3",
      "language": "python",
      "name": "python3"
    },
    "language_info": {
      "codemirror_mode": {
        "name": "ipython",
        "version": 3
      },
      "file_extension": ".py",
      "mimetype": "text/x-python",
      "name": "python",
      "nbconvert_exporter": "python",
      "pygments_lexer": "ipython3",
      "version": "3.6.6"
    },
    "colab": {
      "provenance": [],
      "collapsed_sections": [],
      "include_colab_link": true
    }
  },
  "cells": [
    {
      "cell_type": "markdown",
      "metadata": {
        "id": "view-in-github",
        "colab_type": "text"
      },
      "source": [
        "<a href=\"https://colab.research.google.com/github/mateosuster/nlpPapers/blob/main/code/05_LDA_TopicModels_GENSIM.ipynb\" target=\"_parent\"><img src=\"https://colab.research.google.com/assets/colab-badge.svg\" alt=\"Open In Colab\"/></a>"
      ]
    },
    {
      "cell_type": "markdown",
      "source": [
        "# Dependencias"
      ],
      "metadata": {
        "id": "IlCxk75pDePP"
      }
    },
    {
      "cell_type": "code",
      "metadata": {
        "id": "ohKmaOtj21AU"
      },
      "source": [
        "%%capture\n",
        "!pip install pyLDAvis==2.1.2\n"
      ],
      "execution_count": 9,
      "outputs": []
    },
    {
      "cell_type": "code",
      "metadata": {
        "id": "eMOaCBjl21AY",
        "colab": {
          "base_uri": "https://localhost:8080/"
        },
        "outputId": "db7b38a7-0b41-483f-9664-fb7adca1e8e7"
      },
      "source": [
        "import pandas as pd\n",
        "import numpy as np\n",
        "import matplotlib.pyplot  as plt\n",
        "from collections import Counter\n",
        "import numpy as np\n",
        "from nltk import word_tokenize, sent_tokenize\n",
        "import nltk\n",
        "nltk.download('punkt')\n",
        "nltk.download('stopwords')\n",
        "from nltk.corpus import stopwords\n",
        "\n",
        "import gensim\n",
        "from gensim.models import CoherenceModel, LdaModel, LsiModel, HdpModel\n",
        "from gensim.models.wrappers import LdaMallet\n",
        "from gensim.corpora import Dictionary\n",
        "from gensim import corpora\n",
        "\n",
        "import pyLDAvis.gensim\n",
        "pyLDAvis.enable_notebook()\n",
        "\n",
        "import os, re, operator, warnings\n",
        "warnings.filterwarnings('ignore')  \n",
        "%matplotlib inline"
      ],
      "execution_count": 10,
      "outputs": [
        {
          "output_type": "stream",
          "name": "stderr",
          "text": [
            "[nltk_data] Downloading package punkt to /root/nltk_data...\n",
            "[nltk_data]   Package punkt is already up-to-date!\n",
            "[nltk_data] Downloading package stopwords to /root/nltk_data...\n",
            "[nltk_data]   Package stopwords is already up-to-date!\n"
          ]
        }
      ]
    },
    {
      "cell_type": "markdown",
      "source": [
        "# Data"
      ],
      "metadata": {
        "id": "n358byU_Dhh8"
      }
    },
    {
      "cell_type": "code",
      "source": [
        "data = pd.read_csv(\"https://raw.githubusercontent.com/mateosuster/nlpPapers/main/code/data/ACL_data.csv\")\n",
        "data.head()\n",
        "#data.tail()"
      ],
      "metadata": {
        "colab": {
          "base_uri": "https://localhost:8080/",
          "height": 337
        },
        "id": "StS-k1EIDTwC",
        "outputId": "5e9a1ae3-49a3-44a3-943f-c288509ad7f6"
      },
      "execution_count": 11,
      "outputs": [
        {
          "output_type": "execute_result",
          "data": {
            "text/plain": [
              "   YEAR                                              TITLE  \\\n",
              "0  2022  A Systematic Survey of Text Worlds as Embodied...   \n",
              "1  2022  A Minimal Computational Improviser Based on Or...   \n",
              "2  2022  Craft an Iron Sword: Dynamically Generating In...   \n",
              "3  2022  A Sequence Modelling Approach to Question Answ...   \n",
              "4  2022  Automatic Exploration of Textual Environments ...   \n",
              "\n",
              "                                            ABSTRACT  \\\n",
              "0  Text Worlds are virtual environments for embod...   \n",
              "1  A prototype system for playing a minimal impro...   \n",
              "2  Non-Player Characters (NPCs) significantly enh...   \n",
              "3  Interactive Question Answering (IQA) requires ...   \n",
              "4  The purpose of this extended abstract is to di...   \n",
              "\n",
              "                      AUTHOR                                  PUBLISHER  \\\n",
              "0              Jansen, Peter  Association for Computational Linguistics   \n",
              "1        Montfort, Nick  and  Association for Computational Linguistics   \n",
              "2           Volum, Ryan  and  Association for Computational Linguistics   \n",
              "3       Furman, Gregory  and  Association for Computational Linguistics   \n",
              "4  Teodorescu, Laetitia  and  Association for Computational Linguistics   \n",
              "\n",
              "                                           BOOKTITLE       CATEGORY  \n",
              "0  Proceedings of the 3rd Wordplay: When Language...  INPROCEEDINGS  \n",
              "1  Proceedings of the 3rd Wordplay: When Language...  INPROCEEDINGS  \n",
              "2  Proceedings of the 3rd Wordplay: When Language...  INPROCEEDINGS  \n",
              "3  Proceedings of the 3rd Wordplay: When Language...  INPROCEEDINGS  \n",
              "4  Proceedings of the 3rd Wordplay: When Language...  INPROCEEDINGS  "
            ],
            "text/html": [
              "\n",
              "  <div id=\"df-696e809f-a060-4649-9be0-c24031cb4227\">\n",
              "    <div class=\"colab-df-container\">\n",
              "      <div>\n",
              "<style scoped>\n",
              "    .dataframe tbody tr th:only-of-type {\n",
              "        vertical-align: middle;\n",
              "    }\n",
              "\n",
              "    .dataframe tbody tr th {\n",
              "        vertical-align: top;\n",
              "    }\n",
              "\n",
              "    .dataframe thead th {\n",
              "        text-align: right;\n",
              "    }\n",
              "</style>\n",
              "<table border=\"1\" class=\"dataframe\">\n",
              "  <thead>\n",
              "    <tr style=\"text-align: right;\">\n",
              "      <th></th>\n",
              "      <th>YEAR</th>\n",
              "      <th>TITLE</th>\n",
              "      <th>ABSTRACT</th>\n",
              "      <th>AUTHOR</th>\n",
              "      <th>PUBLISHER</th>\n",
              "      <th>BOOKTITLE</th>\n",
              "      <th>CATEGORY</th>\n",
              "    </tr>\n",
              "  </thead>\n",
              "  <tbody>\n",
              "    <tr>\n",
              "      <th>0</th>\n",
              "      <td>2022</td>\n",
              "      <td>A Systematic Survey of Text Worlds as Embodied...</td>\n",
              "      <td>Text Worlds are virtual environments for embod...</td>\n",
              "      <td>Jansen, Peter</td>\n",
              "      <td>Association for Computational Linguistics</td>\n",
              "      <td>Proceedings of the 3rd Wordplay: When Language...</td>\n",
              "      <td>INPROCEEDINGS</td>\n",
              "    </tr>\n",
              "    <tr>\n",
              "      <th>1</th>\n",
              "      <td>2022</td>\n",
              "      <td>A Minimal Computational Improviser Based on Or...</td>\n",
              "      <td>A prototype system for playing a minimal impro...</td>\n",
              "      <td>Montfort, Nick  and</td>\n",
              "      <td>Association for Computational Linguistics</td>\n",
              "      <td>Proceedings of the 3rd Wordplay: When Language...</td>\n",
              "      <td>INPROCEEDINGS</td>\n",
              "    </tr>\n",
              "    <tr>\n",
              "      <th>2</th>\n",
              "      <td>2022</td>\n",
              "      <td>Craft an Iron Sword: Dynamically Generating In...</td>\n",
              "      <td>Non-Player Characters (NPCs) significantly enh...</td>\n",
              "      <td>Volum, Ryan  and</td>\n",
              "      <td>Association for Computational Linguistics</td>\n",
              "      <td>Proceedings of the 3rd Wordplay: When Language...</td>\n",
              "      <td>INPROCEEDINGS</td>\n",
              "    </tr>\n",
              "    <tr>\n",
              "      <th>3</th>\n",
              "      <td>2022</td>\n",
              "      <td>A Sequence Modelling Approach to Question Answ...</td>\n",
              "      <td>Interactive Question Answering (IQA) requires ...</td>\n",
              "      <td>Furman, Gregory  and</td>\n",
              "      <td>Association for Computational Linguistics</td>\n",
              "      <td>Proceedings of the 3rd Wordplay: When Language...</td>\n",
              "      <td>INPROCEEDINGS</td>\n",
              "    </tr>\n",
              "    <tr>\n",
              "      <th>4</th>\n",
              "      <td>2022</td>\n",
              "      <td>Automatic Exploration of Textual Environments ...</td>\n",
              "      <td>The purpose of this extended abstract is to di...</td>\n",
              "      <td>Teodorescu, Laetitia  and</td>\n",
              "      <td>Association for Computational Linguistics</td>\n",
              "      <td>Proceedings of the 3rd Wordplay: When Language...</td>\n",
              "      <td>INPROCEEDINGS</td>\n",
              "    </tr>\n",
              "  </tbody>\n",
              "</table>\n",
              "</div>\n",
              "      <button class=\"colab-df-convert\" onclick=\"convertToInteractive('df-696e809f-a060-4649-9be0-c24031cb4227')\"\n",
              "              title=\"Convert this dataframe to an interactive table.\"\n",
              "              style=\"display:none;\">\n",
              "        \n",
              "  <svg xmlns=\"http://www.w3.org/2000/svg\" height=\"24px\"viewBox=\"0 0 24 24\"\n",
              "       width=\"24px\">\n",
              "    <path d=\"M0 0h24v24H0V0z\" fill=\"none\"/>\n",
              "    <path d=\"M18.56 5.44l.94 2.06.94-2.06 2.06-.94-2.06-.94-.94-2.06-.94 2.06-2.06.94zm-11 1L8.5 8.5l.94-2.06 2.06-.94-2.06-.94L8.5 2.5l-.94 2.06-2.06.94zm10 10l.94 2.06.94-2.06 2.06-.94-2.06-.94-.94-2.06-.94 2.06-2.06.94z\"/><path d=\"M17.41 7.96l-1.37-1.37c-.4-.4-.92-.59-1.43-.59-.52 0-1.04.2-1.43.59L10.3 9.45l-7.72 7.72c-.78.78-.78 2.05 0 2.83L4 21.41c.39.39.9.59 1.41.59.51 0 1.02-.2 1.41-.59l7.78-7.78 2.81-2.81c.8-.78.8-2.07 0-2.86zM5.41 20L4 18.59l7.72-7.72 1.47 1.35L5.41 20z\"/>\n",
              "  </svg>\n",
              "      </button>\n",
              "      \n",
              "  <style>\n",
              "    .colab-df-container {\n",
              "      display:flex;\n",
              "      flex-wrap:wrap;\n",
              "      gap: 12px;\n",
              "    }\n",
              "\n",
              "    .colab-df-convert {\n",
              "      background-color: #E8F0FE;\n",
              "      border: none;\n",
              "      border-radius: 50%;\n",
              "      cursor: pointer;\n",
              "      display: none;\n",
              "      fill: #1967D2;\n",
              "      height: 32px;\n",
              "      padding: 0 0 0 0;\n",
              "      width: 32px;\n",
              "    }\n",
              "\n",
              "    .colab-df-convert:hover {\n",
              "      background-color: #E2EBFA;\n",
              "      box-shadow: 0px 1px 2px rgba(60, 64, 67, 0.3), 0px 1px 3px 1px rgba(60, 64, 67, 0.15);\n",
              "      fill: #174EA6;\n",
              "    }\n",
              "\n",
              "    [theme=dark] .colab-df-convert {\n",
              "      background-color: #3B4455;\n",
              "      fill: #D2E3FC;\n",
              "    }\n",
              "\n",
              "    [theme=dark] .colab-df-convert:hover {\n",
              "      background-color: #434B5C;\n",
              "      box-shadow: 0px 1px 3px 1px rgba(0, 0, 0, 0.15);\n",
              "      filter: drop-shadow(0px 1px 2px rgba(0, 0, 0, 0.3));\n",
              "      fill: #FFFFFF;\n",
              "    }\n",
              "  </style>\n",
              "\n",
              "      <script>\n",
              "        const buttonEl =\n",
              "          document.querySelector('#df-696e809f-a060-4649-9be0-c24031cb4227 button.colab-df-convert');\n",
              "        buttonEl.style.display =\n",
              "          google.colab.kernel.accessAllowed ? 'block' : 'none';\n",
              "\n",
              "        async function convertToInteractive(key) {\n",
              "          const element = document.querySelector('#df-696e809f-a060-4649-9be0-c24031cb4227');\n",
              "          const dataTable =\n",
              "            await google.colab.kernel.invokeFunction('convertToInteractive',\n",
              "                                                     [key], {});\n",
              "          if (!dataTable) return;\n",
              "\n",
              "          const docLinkHtml = 'Like what you see? Visit the ' +\n",
              "            '<a target=\"_blank\" href=https://colab.research.google.com/notebooks/data_table.ipynb>data table notebook</a>'\n",
              "            + ' to learn more about interactive tables.';\n",
              "          element.innerHTML = '';\n",
              "          dataTable['output_type'] = 'display_data';\n",
              "          await google.colab.output.renderOutput(dataTable, element);\n",
              "          const docLink = document.createElement('div');\n",
              "          docLink.innerHTML = docLinkHtml;\n",
              "          element.appendChild(docLink);\n",
              "        }\n",
              "      </script>\n",
              "    </div>\n",
              "  </div>\n",
              "  "
            ]
          },
          "metadata": {},
          "execution_count": 11
        }
      ]
    },
    {
      "cell_type": "code",
      "metadata": {
        "id": "dXS0khKmQe5T",
        "colab": {
          "base_uri": "https://localhost:8080/",
          "height": 140
        },
        "outputId": "299a81ad-82c3-4196-d0bd-df2e22ec80f1"
      },
      "source": [
        "#from sklearn.datasets import fetch_20newsgroups\n",
        "#dataset = fetch_20newsgroups(shuffle=True, random_state=1,remove=('headers', 'footers', 'quotes')).data\n",
        "dataset = data.ABSTRACT\n",
        "#type(dataset)\n",
        "dataset = dataset.tolist()\n",
        "dataset[3]"
      ],
      "execution_count": 13,
      "outputs": [
        {
          "output_type": "execute_result",
          "data": {
            "text/plain": [
              "'Interactive Question Answering (IQA) requires an intelligent agent to interact with a dynamic environment in order to gather information necessary to answer a question. IQA tasks have been proposed as means of training systems to develop language or visual comprehension abilities. To this end, the Question Answering with Interactive Text (QAit) task was created to produce and benchmark interactive agents capable of seeking information and answering questions in unseen environments. While prior work has exclusively focused on IQA as a reinforcement learning problem, such methods suffer from low sample efficiency and poor accuracy in zero-shot evaluation. In this paper, we propose the use of the recently proposed Decision Transformer architecture to provide improvements upon prior baselines. By utilising a causally masked GPT-2 Transformer for command generation and a BERT model for question answer prediction, we show that the Decision Transformer achieves performance greater than or equal to current state-of-the-art RL baselines on the QAit task in a sample efficient manner. In addition, these results are achievable by training on sub-optimal random trajectories, therefore not requiring the use of online agents to gather data.'"
            ],
            "application/vnd.google.colaboratory.intrinsic+json": {
              "type": "string"
            }
          },
          "metadata": {},
          "execution_count": 13
        }
      ]
    },
    {
      "cell_type": "code",
      "source": [
        "type(dataset)\n",
        "#fetch_20newsgroups"
      ],
      "metadata": {
        "colab": {
          "base_uri": "https://localhost:8080/"
        },
        "id": "qYCZQmyR_MVL",
        "outputId": "d0916558-3b99-4d65-fa64-b7dd04d72ad7"
      },
      "execution_count": 14,
      "outputs": [
        {
          "output_type": "execute_result",
          "data": {
            "text/plain": [
              "list"
            ]
          },
          "metadata": {},
          "execution_count": 14
        }
      ]
    },
    {
      "cell_type": "markdown",
      "source": [
        "# Preproc"
      ],
      "metadata": {
        "id": "SY3beaVvDkXD"
      }
    },
    {
      "cell_type": "markdown",
      "source": [
        "## Limpieza"
      ],
      "metadata": {
        "id": "kljKN4KUDnI4"
      }
    },
    {
      "cell_type": "code",
      "source": [
        "STOP_WORDS = stopwords.words(\"english\")\n",
        "\n",
        "def tokenize(x):\n",
        "    return [word for word in word_tokenize(x) if word not in STOP_WORDS and word.isalpha() and len(word)>1]\n",
        "    \n",
        "texts= [tokenize(str(doc).lower()) for doc in dataset]\n"
      ],
      "metadata": {
        "id": "2eEls9f2QLkN"
      },
      "execution_count": 16,
      "outputs": []
    },
    {
      "cell_type": "code",
      "source": [
        "print(texts[100])"
      ],
      "metadata": {
        "colab": {
          "base_uri": "https://localhost:8080/"
        },
        "id": "wUKvuUdw0jRq",
        "outputId": "b7afdd81-df4e-4502-c778-cf9ea341b833"
      },
      "execution_count": 19,
      "outputs": [
        {
          "output_type": "stream",
          "name": "stdout",
          "text": [
            "['introduce', 'natural', 'logic', 'framework', 'based', 'reinforcement', 'learning', 'introspective', 'revision', 'model', 'samples', 'rewards', 'specific', 'reasoning', 'paths', 'policy', 'gradient', 'introspective', 'revision', 'algorithm', 'modifies', 'intermediate', 'symbolic', 'reasoning', 'steps', 'discover', 'operations', 'well', 'leverages', 'external', 'knowledge', 'alleviate', 'spurious', 'reasoning', 'training', 'inefficiency', 'framework', 'supported', 'properly', 'designed', 'local', 'relation', 'models', 'avoid', 'input', 'entangling', 'helps', 'ensure', 'interpretability', 'proof', 'paths', 'proposed', 'model', 'interpretability', 'shows', 'superior', 'capability', 'monotonicity', 'inference', 'systematic', 'generalization', 'interpretability', 'compared', 'previous', 'models', 'existing', 'datasets']\n"
          ]
        }
      ]
    },
    {
      "cell_type": "markdown",
      "source": [
        "## Ajustes para LDA"
      ],
      "metadata": {
        "id": "fQCaFocqDpBy"
      }
    },
    {
      "cell_type": "code",
      "metadata": {
        "id": "u25ufjLL21Al",
        "colab": {
          "base_uri": "https://localhost:8080/"
        },
        "outputId": "432b95e9-5ecf-47e8-edba-363e0c11c441"
      },
      "source": [
        "### dictionary:\n",
        "dictionary = corpora.Dictionary(texts)  #crea diccionario asinandole un indice numerico a cada palabra\n",
        "print(len(dictionary))\n",
        "dictionary.filter_extremes(no_below=10, no_above=0.5)  #filtra tokens q aparencen en menos de 10 documentos y en mas de la mitad de los documentos.\n",
        "print(len(dictionary))"
      ],
      "execution_count": 20,
      "outputs": [
        {
          "output_type": "stream",
          "name": "stdout",
          "text": [
            "48159\n",
            "10142\n"
          ]
        }
      ]
    },
    {
      "cell_type": "code",
      "metadata": {
        "id": "qcG0Toxp21Ao",
        "colab": {
          "base_uri": "https://localhost:8080/"
        },
        "outputId": "0808865b-b118-477b-b661-44fc97e575b4"
      },
      "source": [
        "### doc2bow:\n",
        "#bow_corpus = [dictionary.doc2bow(doc) for doc in processed_docs]\n",
        "corpus = [dictionary.doc2bow(text) for text in texts] #el bow cuenta cantidad de apariciones de cada palabra del diccionario\n",
        "len(corpus) "
      ],
      "execution_count": 44,
      "outputs": [
        {
          "output_type": "execute_result",
          "data": {
            "text/plain": [
              "33811"
            ]
          },
          "metadata": {},
          "execution_count": 44
        }
      ]
    },
    {
      "cell_type": "code",
      "source": [
        "### TF-IDF:\n",
        "from gensim import corpora, models\n",
        "\n",
        "#tfidf = models.TfidfModel(bow_corpus)\n",
        "tfidf = models.TfidfModel(corpus)\n",
        "\n",
        "#corpus_tfidf = tfidf[bow_corpus]\n",
        "corpus_tfidf = tfidf[corpus]\n",
        "\n",
        "#from pprint import pprint\n",
        "#for text in corpus_tfidf:\n",
        " #   pprint(text)\n",
        "  #  break\n",
        "len(corpus_tfidf)"
      ],
      "metadata": {
        "id": "0kxMnG59uLG_",
        "outputId": "f6bb8590-eb82-4815-86e2-381557f94153",
        "colab": {
          "base_uri": "https://localhost:8080/"
        }
      },
      "execution_count": 45,
      "outputs": [
        {
          "output_type": "execute_result",
          "data": {
            "text/plain": [
              "33811"
            ]
          },
          "metadata": {},
          "execution_count": 45
        }
      ]
    },
    {
      "cell_type": "markdown",
      "source": [
        "## LDA"
      ],
      "metadata": {
        "id": "7cFr9cAzDrl2"
      }
    },
    {
      "cell_type": "code",
      "source": [
        "n_topics = 10"
      ],
      "metadata": {
        "id": "vdBuakNSC1kj"
      },
      "execution_count": 85,
      "outputs": []
    },
    {
      "cell_type": "code",
      "source": [
        "semilla = 420"
      ],
      "metadata": {
        "id": "h5nBM9dPD1EH"
      },
      "execution_count": 86,
      "outputs": []
    },
    {
      "cell_type": "code",
      "metadata": {
        "id": "Ro3bENF821Ar"
      },
      "source": [
        "lsamodel = LsiModel(corpus=corpus, num_topics=n_topics, id2word=dictionary  #25\n",
        "                    # , random_seed = semilla\n",
        "                    )"
      ],
      "execution_count": 87,
      "outputs": []
    },
    {
      "cell_type": "code",
      "metadata": {
        "id": "NBp4urdZ21Au",
        "colab": {
          "base_uri": "https://localhost:8080/"
        },
        "outputId": "8155082e-e164-49a8-ec56-c02dab49300c"
      },
      "source": [
        "lsamodel.print_topics(n_topics,8)\n"
      ],
      "execution_count": 88,
      "outputs": [
        {
          "output_type": "execute_result",
          "data": {
            "text/plain": [
              "[(0,\n",
              "  '0.296*\"model\" + 0.284*\"language\" + 0.261*\"models\" + 0.226*\"data\" + 0.181*\"task\" + 0.154*\"paper\" + 0.135*\"results\" + 0.134*\"translation\"'),\n",
              " (1,\n",
              "  '-0.681*\"de\" + -0.280*\"la\" + -0.280*\"des\" + -0.244*\"les\" + -0.209*\"et\" + -0.172*\"le\" + -0.169*\"un\" + -0.160*\"une\"'),\n",
              " (2,\n",
              "  '-0.457*\"translation\" + 0.457*\"model\" + -0.333*\"language\" + 0.262*\"models\" + -0.181*\"system\" + -0.178*\"machine\" + -0.168*\"languages\" + -0.161*\"data\"'),\n",
              " (3,\n",
              "  '0.699*\"language\" + -0.437*\"translation\" + 0.200*\"models\" + -0.194*\"system\" + -0.165*\"machine\" + 0.132*\"languages\" + 0.127*\"natural\" + -0.126*\"task\"'),\n",
              " (4,\n",
              "  '0.469*\"translation\" + 0.410*\"model\" + 0.305*\"models\" + 0.249*\"language\" + -0.192*\"corpus\" + -0.178*\"data\" + 0.163*\"machine\" + -0.155*\"text\"'),\n",
              " (5,\n",
              "  '-0.800*\"data\" + 0.265*\"word\" + -0.240*\"training\" + 0.155*\"language\" + 0.139*\"information\" + 0.131*\"words\" + -0.127*\"models\" + 0.109*\"semantic\"'),\n",
              " (6,\n",
              "  '-0.578*\"word\" + 0.358*\"task\" + -0.257*\"embeddings\" + 0.250*\"system\" + -0.226*\"data\" + -0.207*\"words\" + 0.135*\"systems\" + -0.130*\"languages\"'),\n",
              " (7,\n",
              "  '-0.637*\"model\" + 0.600*\"models\" + -0.189*\"language\" + 0.150*\"tasks\" + -0.131*\"corpus\" + -0.112*\"data\" + 0.109*\"translation\" + -0.109*\"system\"'),\n",
              " (8,\n",
              "  '-0.594*\"task\" + -0.263*\"word\" + -0.244*\"system\" + 0.236*\"knowledge\" + 0.197*\"information\" + -0.142*\"shared\" + 0.141*\"text\" + 0.132*\"translation\"'),\n",
              " (9,\n",
              "  '-0.454*\"corpus\" + -0.429*\"models\" + 0.346*\"knowledge\" + 0.250*\"tasks\" + 0.245*\"learning\" + 0.148*\"task\" + 0.143*\"language\" + -0.136*\"model\"')]"
            ]
          },
          "metadata": {},
          "execution_count": 88
        }
      ]
    },
    {
      "cell_type": "code",
      "metadata": {
        "id": "m_njO3Ak21A2"
      },
      "source": [
        "ldamodel = LdaModel(corpus=corpus, num_topics=n_topics, id2word=dictionary, iterations = 200, passes=10\n",
        "                    # , random_seed = semilla\n",
        "                    )\n",
        "# LDA hecho con el doc2bow (bolsa de palabras comun)  (NO con TF-IDF)"
      ],
      "execution_count": 89,
      "outputs": []
    },
    {
      "cell_type": "code",
      "metadata": {
        "id": "KGbtvXC-W1_l",
        "colab": {
          "base_uri": "https://localhost:8080/"
        },
        "outputId": "c586a659-1441-4d08-e54e-2632f68ee20b"
      },
      "source": [
        "ldamodel.print_topics(10, 8)"
      ],
      "execution_count": 90,
      "outputs": [
        {
          "output_type": "execute_result",
          "data": {
            "text/plain": [
              "[(0,\n",
              "  '0.079*\"de\" + 0.033*\"des\" + 0.033*\"la\" + 0.028*\"les\" + 0.025*\"et\" + 0.022*\"un\" + 0.022*\"le\" + 0.021*\"une\"'),\n",
              " (1,\n",
              "  '0.035*\"language\" + 0.030*\"languages\" + 0.019*\"resources\" + 0.019*\"corpus\" + 0.015*\"data\" + 0.013*\"corpora\" + 0.013*\"english\" + 0.010*\"resource\"'),\n",
              " (2,\n",
              "  '0.026*\"parsing\" + 0.025*\"dependency\" + 0.023*\"features\" + 0.023*\"sentiment\" + 0.016*\"syntactic\" + 0.016*\"discourse\" + 0.015*\"treebank\" + 0.015*\"analysis\"'),\n",
              " (3,\n",
              "  '0.016*\"corpus\" + 0.016*\"annotation\" + 0.011*\"paper\" + 0.011*\"language\" + 0.011*\"research\" + 0.007*\"text\" + 0.007*\"present\" + 0.007*\"speech\"'),\n",
              " (4,\n",
              "  '0.020*\"information\" + 0.016*\"knowledge\" + 0.014*\"extraction\" + 0.010*\"relations\" + 0.010*\"text\" + 0.010*\"documents\" + 0.010*\"entity\" + 0.009*\"document\"'),\n",
              " (5,\n",
              "  '0.056*\"translation\" + 0.027*\"system\" + 0.024*\"machine\" + 0.016*\"mt\" + 0.015*\"systems\" + 0.012*\"paper\" + 0.012*\"evaluation\" + 0.011*\"data\"'),\n",
              " (6,\n",
              "  '0.030*\"task\" + 0.015*\"system\" + 0.014*\"paper\" + 0.013*\"detection\" + 0.012*\"social\" + 0.012*\"classification\" + 0.010*\"features\" + 0.010*\"media\"'),\n",
              " (7,\n",
              "  '0.022*\"data\" + 0.009*\"training\" + 0.009*\"dialogue\" + 0.009*\"learning\" + 0.008*\"models\" + 0.007*\"show\" + 0.007*\"human\" + 0.007*\"systems\"'),\n",
              " (8,\n",
              "  '0.032*\"model\" + 0.025*\"models\" + 0.013*\"language\" + 0.012*\"tasks\" + 0.010*\"performance\" + 0.010*\"neural\" + 0.009*\"learning\" + 0.009*\"propose\"'),\n",
              " (9,\n",
              "  '0.042*\"word\" + 0.034*\"semantic\" + 0.024*\"words\" + 0.014*\"lexical\" + 0.013*\"embeddings\" + 0.010*\"parser\" + 0.010*\"syntactic\" + 0.009*\"similarity\"')]"
            ]
          },
          "metadata": {},
          "execution_count": 90
        }
      ]
    },
    {
      "cell_type": "code",
      "source": [
        "#### LDA MODEL USANDO TF-IDF COMO INPUT (EN VEZ DE UNA BOLSA DE PALABRAS bow2word):\n",
        "\n",
        "# Running LDA using TF-IDF (from Susan Li: https://towardsdatascience.com/topic-modeling-and-latent-dirichlet-allocation-in-python-9bf156893c24):\n",
        "\n",
        "lda_model_tfidf = gensim.models.LdaMulticore(corpus_tfidf, num_topics=n_topics, id2word=dictionary, passes=10, workers=4)\n",
        "#for idx, topic in lda_model_tfidf.print_topics(-1):\n",
        " #   print('Topic: {} Word: {}'.format(idx, topic))\n",
        "\n",
        "##NO FUNCIONA DE ESTA MANERA SIMIL PROFES, DA UNA COHERENCIA NEGATIVA!!!!\n",
        "#lda_model_tfidf = LdaModel(corpus=corpus_tfidf, num_topics=10, id2word=dictionary, iterations = 200, passes=10\n",
        "                    # , random_seed = semilla\n",
        "#                    )\n",
        "\n"
      ],
      "metadata": {
        "id": "ya82SNPftjKy"
      },
      "execution_count": 91,
      "outputs": []
    },
    {
      "cell_type": "code",
      "metadata": {
        "id": "Oypnd8WN21BB",
        "colab": {
          "base_uri": "https://localhost:8080/",
          "height": 861
        },
        "outputId": "35116c73-b79d-4a4e-b63b-a965f9755bbe"
      },
      "source": [
        "# GRAFICO LDA doc2bow:\n",
        "pyLDAvis.gensim.prepare(ldamodel, corpus, dictionary)"
      ],
      "execution_count": 47,
      "outputs": [
        {
          "output_type": "execute_result",
          "data": {
            "text/plain": [
              "PreparedData(topic_coordinates=              x         y  topics  cluster       Freq\n",
              "topic                                                \n",
              "7     -0.125550 -0.000043       1        1  26.145077\n",
              "3     -0.069832  0.048141       2        1  19.844070\n",
              "9     -0.106080 -0.044346       3        1  11.729019\n",
              "0     -0.096324 -0.008878       4        1   9.743678\n",
              "4     -0.108936 -0.094646       5        1   6.935885\n",
              "5      0.465217 -0.216215       6        1   6.130832\n",
              "6     -0.053802  0.028491       7        1   6.004807\n",
              "2     -0.021875  0.062173       8        1   5.454078\n",
              "1     -0.097533 -0.136385       9        1   4.739351\n",
              "8      0.214716  0.361708      10        1   3.273204, topic_info=             Term          Freq         Total Category  logprob  loglift\n",
              "1518  translation  13088.000000  13088.000000  Default  30.0000  30.0000\n",
              "4831           de  12668.000000  12668.000000  Default  29.0000  29.0000\n",
              "118        system  13343.000000  13343.000000  Default  28.0000  28.0000\n",
              "234          task  14631.000000  14631.000000  Default  27.0000  27.0000\n",
              "419       machine   7381.000000   7381.000000  Default  26.0000  26.0000\n",
              "...           ...           ...           ...      ...      ...      ...\n",
              "267    properties    378.870735   1166.089178  Topic10  -5.4059   2.2952\n",
              "903       whether    357.310941   1434.110223  Topic10  -5.4644   2.0297\n",
              "644         words    421.984863   6328.820494  Topic10  -5.2981   0.7115\n",
              "1309     patterns    338.193986   1367.673634  Topic10  -5.5194   2.0222\n",
              "417   investigate    332.616511   1886.598592  Topic10  -5.5361   1.6839\n",
              "\n",
              "[683 rows x 6 columns], token_table=      Topic      Freq         Term\n",
              "term                              \n",
              "1184      1  0.998416  abstractive\n",
              "176       1  0.545911     accuracy\n",
              "176       2  0.002364     accuracy\n",
              "176       3  0.023643     accuracy\n",
              "176       4  0.110412     accuracy\n",
              "...     ...       ...          ...\n",
              "5977      2  0.998204     workflow\n",
              "4552      4  0.996047          wsd\n",
              "7876      2  0.996540          xml\n",
              "3479      2  0.217951         year\n",
              "3479      9  0.780760         year\n",
              "\n",
              "[1521 rows x 3 columns], R=30, lambda_step=0.01, plot_opts={'xlab': 'PC1', 'ylab': 'PC2'}, topic_order=[8, 4, 10, 1, 5, 6, 7, 3, 2, 9])"
            ],
            "text/html": [
              "\n",
              "<link rel=\"stylesheet\" type=\"text/css\" href=\"https://cdn.rawgit.com/bmabey/pyLDAvis/files/ldavis.v1.0.0.css\">\n",
              "\n",
              "\n",
              "<div id=\"ldavis_el521398257658448163912345750\"></div>\n",
              "<script type=\"text/javascript\">\n",
              "\n",
              "var ldavis_el521398257658448163912345750_data = {\"mdsDat\": {\"x\": [-0.12555023375438246, -0.0698316165305546, -0.10608017358706442, -0.09632427506422218, -0.10893627582199374, 0.4652170566425651, -0.05380198939447262, -0.021875356577237447, -0.0975332546967309, 0.21471611878409358], \"y\": [-4.268429490426e-05, 0.04814064047809189, -0.04434565764127445, -0.008877793999948983, -0.0946455227683258, -0.2162151379594893, 0.028491215796131408, 0.06217264143223548, -0.13638547840279674, 0.3617077773602794], \"topics\": [1, 2, 3, 4, 5, 6, 7, 8, 9, 10], \"cluster\": [1, 1, 1, 1, 1, 1, 1, 1, 1, 1], \"Freq\": [26.145076516112255, 19.844070305130387, 11.729018552136765, 9.74367778656833, 6.935885393673857, 6.130832043743017, 6.004806813575899, 5.454078102182839, 4.739350972909868, 3.273203513966774]}, \"tinfo\": {\"Term\": [\"translation\", \"de\", \"system\", \"task\", \"machine\", \"model\", \"word\", \"des\", \"la\", \"models\", \"les\", \"languages\", \"systems\", \"semantic\", \"language\", \"mt\", \"et\", \"training\", \"data\", \"features\", \"un\", \"annotation\", \"le\", \"paper\", \"knowledge\", \"sentiment\", \"une\", \"words\", \"speech\", \"nous\", \"adversarial\", \"synsets\", \"unlabeled\", \"sampling\", \"optimization\", \"punctuation\", \"abstractive\", \"nli\", \"persian\", \"parameter\", \"motivation\", \"rouge\", \"sparsity\", \"perplexity\", \"adequacy\", \"comprises\", \"chunking\", \"valency\", \"pretraining\", \"weak\", \"finite\", \"lm\", \"connectives\", \"lemmatization\", \"restrictions\", \"aligner\", \"reward\", \"stylistic\", \"captioning\", \"intelligibility\", \"parameters\", \"downstream\", \"training\", \"augmentation\", \"models\", \"summarization\", \"generalization\", \"noise\", \"robustness\", \"transfer\", \"summaries\", \"pretrained\", \"learning\", \"tasks\", \"adaptation\", \"settings\", \"performance\", \"summary\", \"reinforcement\", \"supervised\", \"model\", \"trained\", \"show\", \"datasets\", \"data\", \"unsupervised\", \"labeled\", \"methods\", \"train\", \"better\", \"effective\", \"however\", \"domain\", \"propose\", \"method\", \"neural\", \"experiments\", \"language\", \"domains\", \"large\", \"approach\", \"work\", \"improve\", \"using\", \"results\", \"text\", \"problem\", \"new\", \"accuracy\", \"proposed\", \"task\", \"approaches\", \"different\", \"two\", \"software\", \"speaker\", \"terminology\", \"management\", \"environment\", \"feedback\", \"material\", \"ontologies\", \"projects\", \"recorded\", \"students\", \"czech\", \"infrastructure\", \"xml\", \"tutorial\", \"formats\", \"standards\", \"hours\", \"crowdsourcing\", \"transcribed\", \"commercial\", \"discusses\", \"interfaces\", \"workflow\", \"survey\", \"tagged\", \"collaborative\", \"files\", \"goals\", \"developers\", \"toolkit\", \"documentation\", \"project\", \"tool\", \"tools\", \"technologies\", \"database\", \"interface\", \"web\", \"dialogue\", \"technology\", \"transcription\", \"development\", \"freely\", \"service\", \"collection\", \"research\", \"spoken\", \"researchers\", \"user\", \"corpus\", \"annotation\", \"speakers\", \"human\", \"services\", \"discuss\", \"automatic\", \"resources\", \"collected\", \"application\", \"language\", \"processing\", \"available\", \"users\", \"process\", \"evaluation\", \"speech\", \"provide\", \"data\", \"paper\", \"present\", \"linguistic\", \"systems\", \"system\", \"describe\", \"new\", \"text\", \"used\", \"also\", \"corpora\", \"information\", \"use\", \"natural\", \"different\", \"answer\", \"answering\", \"reasoning\", \"qa\", \"answers\", \"commonsense\", \"kb\", \"valence\", \"rnns\", \"paths\", \"hpsg\", \"kg\", \"lattice\", \"formation\", \"disfluencies\", \"customization\", \"asian\", \"mrc\", \"memories\", \"pruning\", \"gated\", \"decoders\", \"math\", \"gaussian\", \"synchronous\", \"ordered\", \"categorial\", \"kgs\", \"shorter\", \"lab\", \"ir\", \"question\", \"graph\", \"passage\", \"questions\", \"comprehension\", \"explanations\", \"facts\", \"mechanism\", \"hierarchical\", \"attention\", \"relational\", \"knowledge\", \"retrieval\", \"relation\", \"reading\", \"document\", \"network\", \"information\", \"query\", \"entailment\", \"entities\", \"recurrent\", \"context\", \"matching\", \"extraction\", \"propose\", \"representation\", \"latent\", \"model\", \"generation\", \"novel\", \"proposed\", \"neural\", \"representations\", \"experimental\", \"sentence\", \"show\", \"two\", \"method\", \"problem\", \"results\", \"approach\", \"existing\", \"experiments\", \"paper\", \"text\", \"task\", \"dictionary\", \"dictionaries\", \"disambiguation\", \"senses\", \"linking\", \"morphology\", \"spontaneous\", \"analyzer\", \"wsd\", \"compounds\", \"thesaurus\", \"multiword\", \"morphologically\", \"mwes\", \"wordnets\", \"predicate\", \"basque\", \"ontological\", \"msa\", \"constituents\", \"srl\", \"mwe\", \"oov\", \"indian\", \"synonyms\", \"greek\", \"catalan\", \"chunks\", \"unification\", \"lexica\", \"lexicon\", \"character\", \"wordnet\", \"lexicons\", \"orthographic\", \"morphological\", \"ner\", \"pos\", \"russian\", \"word\", \"bilingual\", \"sense\", \"distributional\", \"arabic\", \"languages\", \"tagger\", \"embeddings\", \"words\", \"named\", \"similarity\", \"lexical\", \"spanish\", \"tagging\", \"multilingual\", \"english\", \"entity\", \"resources\", \"semantic\", \"segmentation\", \"corpora\", \"language\", \"paper\", \"method\", \"used\", \"using\", \"different\", \"corpus\", \"based\", \"results\", \"two\", \"approach\", \"information\", \"temporal\", \"multimodal\", \"visual\", \"coreference\", \"resolution\", \"medical\", \"image\", \"clinical\", \"subtask\", \"sign\", \"subtasks\", \"spatial\", \"swedish\", \"causal\", \"modalities\", \"amr\", \"anaphora\", \"patient\", \"institute\", \"danish\", \"videos\", \"notes\", \"motion\", \"disease\", \"irony\", \"kernel\", \"grid\", \"diagnosis\", \"logistic\", \"signs\", \"images\", \"team\", \"regression\", \"semeval\", \"ranked\", \"shared\", \"participation\", \"competition\", \"track\", \"features\", \"task\", \"video\", \"system\", \"feature\", \"score\", \"objects\", \"identification\", \"best\", \"ensemble\", \"classification\", \"describes\", \"achieved\", \"paper\", \"results\", \"model\", \"based\", \"using\", \"two\", \"approach\", \"text\", \"used\", \"learning\", \"set\", \"systems\", \"models\", \"de\", \"des\", \"la\", \"les\", \"un\", \"le\", \"une\", \"nous\", \"en\", \"dans\", \"pour\", \"sur\", \"pr\", \"du\", \"es\", \"est\", \"que\", \"syst\", \"qui\", \"cet\", \"sont\", \"ce\", \"cette\", \"ces\", \"mod\", \"au\", \"automatique\", \"sentons\", \"sultats\", \"thode\", \"par\", \"et\", \"plus\", \"analyse\", \"article\", \"corpus\", \"social\", \"media\", \"tweets\", \"emotion\", \"twitter\", \"polarity\", \"reviews\", \"emotions\", \"emotional\", \"comments\", \"section\", \"posts\", \"tweet\", \"adjectives\", \"political\", \"romanian\", \"stance\", \"platforms\", \"sarcasm\", \"offensive\", \"hate\", \"financial\", \"forums\", \"intensity\", \"coding\", \"fake\", \"affective\", \"personality\", \"market\", \"humor\", \"sentiment\", \"opinion\", \"news\", \"opinions\", \"articles\", \"fragments\", \"messages\", \"detection\", \"health\", \"topics\", \"topic\", \"product\", \"online\", \"analysis\", \"content\", \"classification\", \"dataset\", \"users\", \"mining\", \"text\", \"user\", \"information\", \"paper\", \"different\", \"features\", \"data\", \"research\", \"using\", \"work\", \"task\", \"parsing\", \"grammar\", \"parser\", \"treebank\", \"trees\", \"parsers\", \"argument\", \"syntax\", \"parse\", \"frame\", \"framenet\", \"reordering\", \"event\", \"treebanks\", \"collocations\", \"transliteration\", \"formalism\", \"ldc\", \"lr\", \"penn\", \"programs\", \"syntactically\", \"terminological\", \"parsed\", \"argumentation\", \"iso\", \"ud\", \"nist\", \"strings\", \"lexicalized\", \"discourse\", \"frames\", \"dependency\", \"tree\", \"arguments\", \"syntactic\", \"correction\", \"structures\", \"grammatical\", \"tag\", \"rules\", \"structure\", \"semantic\", \"relations\", \"annotation\", \"events\", \"sentences\", \"scheme\", \"errors\", \"sentence\", \"error\", \"annotated\", \"corpus\", \"algorithm\", \"paper\", \"present\", \"linguistic\", \"representation\", \"translation\", \"mt\", \"translations\", \"bleu\", \"nmt\", \"smt\", \"asr\", \"campaign\", \"translate\", \"iwslt\", \"translating\", \"translators\", \"pronunciation\", \"patent\", \"nan\", \"wmt\", \"interlingua\", \"hlt\", \"ebmt\", \"ted\", \"moses\", \"systran\", \"essay\", \"normalisation\", \"europarl\", \"talks\", \"kit\", \"btec\", \"lectures\", \"thai\", \"simultaneous\", \"parallel\", \"machine\", \"year\", \"international\", \"system\", \"quality\", \"speech\", \"systems\", \"alignment\", \"source\", \"english\", \"output\", \"pairs\", \"evaluation\", \"target\", \"monolingual\", \"language\", \"multilingual\", \"languages\", \"paper\", \"data\", \"using\", \"sentences\", \"results\", \"automatic\", \"sentence\", \"training\", \"neural\", \"task\", \"verbs\", \"verb\", \"verbal\", \"polish\", \"gles\", \"lexicales\", \"synthesis\", \"sent\", \"dialects\", \"grammaire\", \"compound\", \"entry\", \"alis\", \"biases\", \"niveau\", \"association\", \"aussi\", \"tm\", \"taggers\", \"te\", \"consortium\", \"entr\", \"interpr\", \"latin\", \"phrasal\", \"phonological\", \"fr\", \"dialectal\", \"derivational\", \"men\", \"dialect\", \"gender\", \"databases\", \"noun\", \"variation\", \"bias\", \"dimension\", \"phonetic\", \"differences\", \"measures\", \"al\", \"nouns\", \"linguistic\", \"classes\", \"frequency\", \"et\", \"linguistics\", \"lexical\", \"study\", \"measure\", \"find\", \"properties\", \"whether\", \"words\", \"patterns\", \"investigate\"], \"Freq\": [13088.0, 12668.0, 13343.0, 14631.0, 7381.0, 23927.0, 8892.0, 5334.0, 5299.0, 18721.0, 4417.0, 6690.0, 7738.0, 7146.0, 22037.0, 3832.0, 5657.0, 9570.0, 18708.0, 6828.0, 3501.0, 5669.0, 3449.0, 18164.0, 7521.0, 3414.0, 3326.0, 6328.0, 4794.0, 3112.0, 949.1055084868013, 634.0903934915733, 561.2862591404189, 492.06725041611594, 474.90256948205206, 468.53108329218026, 465.87214225311857, 421.0704490294865, 399.11800302076404, 364.99236331640395, 351.03678703100667, 340.04316545556304, 334.9478360127283, 326.4775956964698, 326.03696266287864, 323.9203980488449, 322.3876761273344, 320.79577552605423, 318.44175082011105, 314.6421735837399, 309.49866951793064, 303.52232900388213, 301.7059731050867, 287.76085165439844, 285.3884672387223, 265.52151556602394, 262.99829122743483, 262.00143352621797, 243.71728106023124, 242.87041983372376, 1132.643839053243, 885.7789466029059, 8622.349883713785, 567.1027171822095, 15796.483352961777, 1700.4910660032137, 658.749288249799, 769.6054509983337, 575.6702678830677, 1836.571665337988, 965.2334150430387, 585.9970161556254, 7657.525482204241, 6503.178661659779, 1323.1656069038397, 898.3183145093287, 7992.646990086601, 718.7019003989211, 494.94737103525125, 1603.9751703811905, 13763.142675465211, 2583.1811875942935, 7330.9881586059155, 3730.5593213906245, 10331.006783692075, 1479.364838932235, 1105.7802099211015, 4730.688346272486, 1412.6486352539655, 2661.8233565691894, 1748.9238233581784, 3462.3955179837903, 2900.927034801257, 4897.011310552354, 4868.4009198057465, 4223.605403254491, 3404.512531575421, 8026.16020793489, 1578.0415311612917, 2830.2992714262896, 4162.694790866738, 3347.130121868318, 2157.0741366550283, 4347.422030328837, 4437.056957815898, 4071.998452468277, 2587.360610748377, 3178.2747730100696, 2309.4925238432006, 2784.067953112725, 3594.7257150739674, 2370.169638384093, 2874.328052254283, 2597.147120639027, 832.6497546119052, 622.5681731051161, 579.2798423636598, 540.7769895431712, 656.6994291075716, 440.6579299429047, 428.0896411983929, 419.8188973076696, 401.7860381015692, 388.7427091328689, 375.718793867702, 364.2771549917399, 362.02721989957803, 359.2972125036308, 330.14720911651665, 327.27841756080124, 320.3322718531823, 309.7827105199484, 305.89773664186225, 295.7179587199482, 292.984735557158, 286.2007776457754, 277.7458120008178, 274.5463324214195, 257.2039102667471, 251.1768188125944, 247.03310969393624, 245.91670263829366, 234.18768437636223, 225.90915416129235, 411.7352931818344, 292.7094599602781, 2082.163057251575, 1795.9876782087354, 2243.337529624953, 609.409374286259, 1477.1315326633217, 818.623294257831, 1836.584114346457, 2027.6955894905218, 1000.8265592857964, 535.6250928558213, 2136.321096780852, 509.82303028402146, 485.03327920413324, 1099.985206297922, 3597.146309500927, 1273.0676632907266, 745.7907607104296, 1990.244411530152, 6803.413062577467, 3471.1208833357973, 763.0704456360457, 2564.7050699722313, 545.4871946995188, 1058.0017027286099, 2312.5651289901743, 2455.0064493761624, 811.0705298660332, 1121.6241013841022, 7357.916076479848, 2141.5358795753527, 2354.2464695787257, 1482.1968418508634, 1858.4282229982073, 3142.7022382242203, 2346.7296741345785, 1693.181756084331, 5235.468036064414, 4758.565049156577, 2886.448497732707, 2087.4071392550895, 2738.261197510754, 3559.8843853743883, 1748.6817232069213, 2527.1234748010083, 2919.7547904374715, 2412.6993443804695, 2404.927907843351, 1901.2265066035413, 2367.9196719899783, 1979.752793551329, 1919.4282233445151, 1967.0745732217788, 1857.0632418717373, 1849.7260854880585, 1321.529951645381, 1214.0384212901213, 1114.1777419478335, 472.48401554119096, 301.0598739215782, 274.6229222991817, 267.3536986377627, 251.2657516779708, 237.34366181600913, 236.7888837839377, 233.45974041443634, 200.67428230620214, 196.63832184048366, 194.90357354174049, 183.68189738536014, 178.07725420826725, 177.7066512897836, 169.66688400693948, 161.10362998222547, 152.26825788715368, 148.3828405577591, 147.35219028642757, 145.98206999445637, 135.1940721131864, 134.62129894937647, 132.8253760022978, 130.15917504595816, 130.0610773791509, 263.61993319119523, 3853.198915926567, 1869.858246915315, 328.44781325900846, 2512.729321315154, 752.062753123281, 316.63990938799753, 525.2576740227735, 1351.1215862549573, 1062.724582952416, 2632.7206133594236, 441.25375919478427, 5114.341957228238, 1407.2141629994005, 1958.3508603644977, 905.4825762476435, 2021.425513025181, 2538.5246078977593, 5706.965907241732, 949.8856562079577, 561.4766912624696, 1394.6133117879394, 817.9517915904147, 2109.5581182446886, 722.1788318164793, 2023.4761660815832, 3688.9830697081497, 1858.5222818733505, 807.0343343555326, 6849.520238424837, 1903.4289791342312, 1885.1779557424425, 2306.1052940829486, 2580.264725145489, 1649.9101137685432, 1376.6961090893694, 1667.7807139156769, 2302.2232029930638, 2033.2764996174594, 2015.7170524572566, 1638.053213861581, 1980.0696204386884, 1863.7196631007507, 1528.5670661462082, 1546.5155249366783, 1622.9645466867403, 1556.8208837051884, 1560.1060115984276, 1440.0427764648755, 883.1409884502957, 811.3460410819333, 556.5343534522099, 539.1049841651736, 481.67750013139215, 387.0752350771251, 331.72106913019655, 294.22224626503635, 272.20254734182413, 254.5557758606752, 254.01608624443617, 250.6332086867656, 243.03579880276925, 242.732868509426, 228.9950528072493, 208.2789190778146, 205.9053023314409, 196.82087313586433, 180.40231440004263, 179.2890455720062, 173.98987074555737, 172.04168684696336, 171.73518922777185, 156.17107813354568, 156.1828473848073, 155.7626778046726, 151.91819705435114, 186.89534453024737, 140.40664122467714, 1969.4305404616691, 656.1509920725817, 1409.8358307969215, 747.0405481300941, 254.7230600506575, 1747.506614634484, 598.6477462250887, 824.9384882557939, 442.5039932227331, 8104.294371734884, 1331.3758321674918, 1187.1828839201578, 618.70857389235, 1897.4562911088685, 5292.39667341415, 477.52615625718164, 2400.190165982566, 4571.430996485455, 1411.6342308704527, 1511.4522187186203, 2643.7522038287043, 847.4856835585343, 1012.7872006189862, 1452.1958953800943, 2512.646546022818, 1514.3545014595543, 2026.8743113847743, 2589.7768093221243, 853.0721743176463, 1740.1449406602303, 3515.3448812969386, 2917.2998961787007, 2092.8635236562363, 1975.991612946373, 2310.37846865799, 1905.6855855140182, 2026.224707195883, 1778.321409234679, 1912.213323970304, 1687.2336619099583, 1612.9187789546922, 1597.220556876835, 1425.8059684594427, 1203.4063528403076, 1057.8534064267305, 1056.6371016146943, 1047.3147900393838, 1037.388197519056, 1003.3160104235832, 777.0809841824974, 761.4700045691595, 610.7510305505415, 496.21822784824724, 479.2687634439789, 377.73491140930304, 331.4570484938459, 316.42668395908544, 304.3221448541684, 290.836035343958, 280.0980803436863, 267.9975792142217, 255.56165553622586, 210.58320895848206, 196.7554326078038, 194.8823115412562, 190.4485936802407, 186.25994346343285, 185.24414286548276, 178.60691845155077, 177.31491200693557, 171.75072753370642, 166.53922066906003, 736.337312324667, 514.8976941478749, 492.32287202370446, 464.77788491823986, 551.5948150590694, 1954.9469341434615, 415.8618919167679, 270.04239749472106, 504.4492453360934, 3938.3691716337244, 7111.3493378216135, 565.1221577103684, 5074.54023593184, 1352.5419409382393, 1163.9773125782096, 415.6594519721812, 988.8421580005248, 1393.5557824938628, 603.2826908798395, 1720.124757631075, 1195.9199463516022, 915.7714537576807, 2970.647456908095, 2086.1368435015493, 2641.6660203954593, 1567.1943884373939, 1718.8407646944452, 1488.0582287789516, 1359.0066980088807, 1342.9327249627456, 1178.2397749049055, 1224.7002209165908, 1044.001901766693, 1083.7324164434933, 1154.0705352776274, 12667.571098394972, 5334.010813703139, 5298.317378418425, 4416.339928332996, 3500.8332805524456, 3448.629291175313, 3325.985432361193, 3111.0906519167156, 2671.010659387477, 2489.819934789404, 2294.355456877547, 1922.1673796970597, 1840.2868122458306, 1771.2914359878594, 1764.883355741799, 1517.4743791268065, 1278.1430248538172, 1085.3367440902216, 1030.577588462047, 1003.9450582462987, 845.7832110467284, 818.7598257630283, 810.5921985729541, 786.2621881295659, 760.8596996396215, 684.8557937852946, 638.7485105641257, 575.276289535347, 572.6427094121714, 520.4660232228018, 1330.935909402057, 3998.69005650242, 648.788724311163, 743.9979573746817, 1001.7027379553139, 1029.357408264977, 2502.981385155614, 1979.026978610619, 1368.8715370162809, 1365.634103921592, 1114.0350094690664, 703.7477770042723, 695.5395859356142, 619.9174765696223, 587.0564206155657, 498.03101099112934, 486.7874290632637, 460.12149405566544, 446.7455484273905, 439.7601345555598, 403.6607084575593, 394.0980126910598, 353.34729033427175, 347.5855546681672, 336.8820735146371, 293.99464459454714, 287.2792630897062, 280.69532076303165, 268.1241562832227, 250.43023362820617, 244.7326137553449, 242.83990040185563, 230.38467774715258, 217.93201395772235, 212.02179202508492, 211.86034925058635, 3336.5832854713967, 885.1037131363166, 2206.145517119565, 410.0330037938905, 1194.8015192440166, 280.529967609912, 435.9563272670444, 1982.7544163848665, 560.4362208196738, 761.8338745348626, 1184.2997199224083, 577.0524827711141, 949.4989632996059, 2291.30311178331, 1098.1285983685077, 1450.7520541937874, 1462.9217291082623, 892.9976323010508, 570.3918645871462, 1258.3547946114945, 722.687632784817, 1014.8617528588519, 1099.3435187677371, 883.63441990476, 711.7845601400103, 788.0554679938967, 667.5142447417647, 701.196263964111, 683.6468451162945, 701.8763454809742, 2858.1847322652757, 1679.5174428346843, 1653.6785860341238, 1218.840509141384, 732.8644521335511, 702.4127857472196, 566.0438567258112, 522.142587052026, 509.02216619637124, 460.005114774465, 384.3574468584898, 366.8366006272382, 1255.7031801556086, 344.2395491753164, 296.66817036036485, 273.62718418799346, 257.5878062070111, 255.08150557882524, 228.08943001435816, 215.65889775756602, 215.68614958478088, 208.01005457795813, 204.66783483895114, 200.81766722860127, 199.02716489446186, 184.79585153626851, 170.44271514506605, 170.5685318392406, 159.62419802975387, 146.25283121922936, 1511.7974225566077, 524.9720632527989, 1999.420177361697, 929.3680978279173, 561.6112201814702, 2630.0351190865517, 448.6925784994976, 1186.7575303737608, 778.2875031209272, 381.21247142564874, 1019.1784666938668, 1823.7946720717425, 2950.8628117274175, 1803.1398493433187, 2031.401546914095, 710.6115757102624, 1605.2619259190617, 603.2166584439801, 700.0690958718143, 1205.2928320108845, 716.1053476672122, 866.1210751798487, 1190.9533624519488, 737.7416289945021, 1091.8512498607347, 885.6102726068112, 794.3316112989456, 703.0153702942118, 13087.269761497177, 3831.1448518801108, 1565.4723889206907, 1145.15732424589, 1043.4162602764134, 964.3784436205793, 683.2132298456476, 488.8251442791611, 442.4182321712073, 438.0345432901771, 430.56568864419626, 398.96148493644256, 260.57772000726953, 260.3017731781548, 226.86973818030157, 218.44272138966392, 164.43323377770758, 151.82347918059708, 146.33788036592628, 143.1164336754743, 141.87625165273704, 131.4946091187704, 126.35417851334533, 109.45614732791238, 106.89987017036697, 97.65206730055128, 97.15349415888457, 97.08197582932041, 93.26012931319765, 90.69971337989344, 180.91075254570822, 1899.6843058188615, 5621.250532476053, 283.02231516988235, 289.02786368967514, 4233.632516872669, 1681.992551779166, 1917.8946915960628, 2692.312601020671, 916.691099540069, 1429.6278126986363, 1741.1670893121436, 928.4526184455805, 998.4350781930849, 1602.6650492654096, 960.2115640098834, 445.68052616055724, 2107.5419873132987, 669.6973251415089, 1121.457584888381, 1657.5109109229759, 1528.8163187197115, 1225.190267576268, 842.5984230087521, 1074.3601941359648, 779.8082737290352, 810.7329217469063, 784.5978186411766, 719.7855005044586, 721.0035237208996, 956.958292815799, 912.1751229994402, 443.55169069613754, 385.0953329107169, 352.1132922758007, 307.0304107432021, 343.3457423008918, 293.5483145323904, 289.27799229541347, 284.87934566603496, 274.3503214112883, 271.32206613469043, 257.4748976360652, 250.44974616251557, 243.51028835088505, 321.4892811105057, 238.06249355068405, 234.01391004870962, 228.90981323458718, 191.0055145142792, 189.65376673902298, 181.1241433894012, 176.14837096768034, 169.17783397834324, 167.34830769371686, 165.88461987132285, 164.07262719358846, 162.2754079302885, 162.1988199566545, 156.16938089958992, 349.5718720831132, 517.1219586859477, 426.76913118957367, 429.39294460053, 389.3671285600377, 535.0890631349862, 206.8989384305642, 311.8949896467061, 509.20270131114586, 483.7825664438998, 374.8993194911813, 328.01968036448386, 926.3115518094127, 449.6264322714014, 353.92782904551547, 747.4422007980727, 356.30348052676936, 597.1231411282783, 533.3113027373743, 387.0390977657375, 451.4368041955576, 378.87073547733314, 357.31094095100946, 421.9848630815592, 338.1939855088199, 332.616510776861], \"Total\": [13088.0, 12668.0, 13343.0, 14631.0, 7381.0, 23927.0, 8892.0, 5334.0, 5299.0, 18721.0, 4417.0, 6690.0, 7738.0, 7146.0, 22037.0, 3832.0, 5657.0, 9570.0, 18708.0, 6828.0, 3501.0, 5669.0, 3449.0, 18164.0, 7521.0, 3414.0, 3326.0, 6328.0, 4794.0, 3112.0, 949.9726161540867, 634.9586948858632, 562.1534134250969, 492.9344866610144, 475.7697803605321, 469.39881307136733, 466.7393128777696, 421.93768305197915, 399.98620396810026, 365.85956787087395, 351.9053082561943, 340.91037632507135, 335.8155535943906, 327.3448407624547, 326.9046602601037, 324.7890882142407, 323.25634201767474, 321.6643668599475, 319.3088531626595, 315.50944745357214, 310.3671242315129, 304.38949011723895, 302.57362681830824, 288.6287610767875, 286.2568372769295, 266.3921904333508, 263.8654250739583, 262.8690121806409, 244.58451816261274, 243.73867056332702, 1162.122076507786, 907.1176697158426, 9570.208901877055, 583.2042836411036, 18721.602758061475, 1858.1201047054144, 685.8788459933928, 816.0079765506848, 600.1693708529133, 2064.315740507101, 1061.6747906120233, 617.7384343667231, 10322.137652052865, 8640.76271050208, 1515.1350182592892, 991.5150879843018, 10957.096136140039, 786.6882190867757, 521.2302092750175, 2009.6088127846147, 23927.166166430663, 3532.591770459019, 12066.951313914655, 5469.495711624766, 18708.800212507027, 1869.543978118935, 1339.0349719824808, 8239.991892586117, 1840.3083413126183, 4124.292450668836, 2435.561108800117, 5849.079303713051, 4750.474323945681, 9494.2641057879, 9792.373048791536, 8522.366478053, 6510.025089820121, 22037.454518616578, 2211.732248113742, 5367.990276110517, 10937.606565796772, 7666.085085548436, 3747.479519081785, 12614.296350365908, 13588.433378345546, 11719.943645471847, 5212.046096085488, 7927.404885728241, 4229.625832025722, 6535.51838599387, 14631.935656417478, 4641.462422483855, 9719.202336086439, 10042.700370092387, 833.5983818675047, 623.5168517446995, 580.228571030457, 541.7255720916799, 658.0619736456557, 441.606534375752, 429.03829402023047, 420.7679885513201, 402.7346924381084, 389.69134347972675, 376.6673690972456, 365.2260212018069, 362.97580401860245, 360.2463191751036, 331.09577495564315, 328.22723252519586, 321.2816021662519, 310.7313480716581, 306.8464391992814, 296.66662346512925, 293.9335519956528, 287.14957155731406, 278.69471897581457, 275.49491443192437, 258.17153410395446, 252.12575524418733, 247.98180033481307, 246.86533481898394, 235.1362932997531, 226.85773746040908, 416.00317858948705, 295.2308058767939, 2221.7558837820693, 1917.010047479576, 2418.604144455717, 635.2309579159449, 1624.1091729689945, 875.5462368973858, 2071.416139978008, 2350.6438997479054, 1110.2494890101657, 562.8626713002117, 2533.9603135485563, 534.9875996337253, 509.7241467337578, 1279.8564152587776, 4922.773737461, 1547.624142751956, 842.6424779854055, 2713.751438220234, 12106.182704315912, 5669.980071448579, 896.4195860898581, 4151.760146957643, 592.435467368617, 1411.118866720572, 4107.408118820402, 4483.211670490687, 1008.1692292639773, 1579.2116630814467, 22037.454518616578, 3929.400077555249, 4568.497233986248, 2376.0138332447623, 3321.175817014302, 7275.501686948366, 4794.781871919068, 3021.3739480778318, 18708.800212507027, 18164.865321866226, 7906.7368981498985, 4558.731345594277, 7738.602014037797, 13343.541979987194, 3339.3707094359847, 7927.404885728241, 11719.943645471847, 8649.859479020435, 8586.541828795087, 4568.951989166429, 12599.831409060598, 7903.687033847021, 5199.134583241032, 9719.202336086439, 1857.9476326785345, 1850.6104726274277, 1322.4145244419421, 1214.9227860975438, 1115.062156538051, 473.36837423884674, 301.944215104909, 275.5084597024229, 268.2381676266968, 252.15025290878265, 238.2294770117644, 237.6732064094784, 234.34452813336725, 201.55990895594826, 197.52321429850468, 195.78898310643422, 184.5675986545351, 178.96161005750696, 178.591530336477, 170.55146878315895, 161.98808550848443, 153.15289298197712, 149.26768187152535, 148.2367355502634, 146.86726074063523, 136.07922856554762, 135.5062215117535, 133.70969634640073, 131.04387220539115, 130.94609399377643, 267.4081574719729, 4156.110858108962, 2017.4270548463621, 339.6583337951082, 2814.635279080298, 832.7596802588007, 333.1987480390821, 577.7502529303605, 1605.369077155725, 1248.594134102889, 3432.5584429463815, 484.2901592349798, 7521.417506202465, 1850.2161557614759, 2716.592917838848, 1127.8586191643612, 3032.99911231984, 4515.500700600562, 12599.831409060598, 1368.5689660773721, 714.72802565745, 2353.2270997953174, 1166.3889724416645, 4269.634446230762, 1006.9470482717119, 4095.4847949949585, 9494.2641057879, 3726.3686889383757, 1175.9515543683274, 23927.166166430663, 3941.016279502723, 4563.366061720865, 6535.51838599387, 8522.366478053, 4146.271670708761, 3034.0722870934355, 5229.079609632913, 12066.951313914655, 10042.700370092387, 9792.373048791536, 5212.046096085488, 13588.433378345546, 10937.606565796772, 4747.7549210338375, 6510.025089820121, 18164.865321866226, 11719.943645471847, 14631.935656417478, 1440.9874165347112, 884.0856031410502, 812.2906162931764, 557.4788743649129, 540.1347154430744, 482.66614485249187, 388.0203591283008, 332.6656845644346, 295.1667230238954, 273.1471274128686, 255.50051253326953, 254.96064426645148, 251.5781981642056, 243.98030378751938, 243.67738228568516, 229.93971860083727, 209.22357432068597, 206.85009166383813, 197.76556192320606, 181.34708851912123, 180.2336027066034, 174.9343826945414, 172.98625320568365, 172.67977301848794, 157.115646638762, 157.12751719508395, 156.70790916221063, 152.863476571368, 188.0702948643232, 141.35126882724057, 2002.6645188069203, 662.1294505347058, 1438.5468374528027, 759.9331489947944, 257.0695098186115, 1802.025323393058, 610.7168744865967, 848.5096682196579, 450.5116010903083, 8892.967330413718, 1413.4296341365061, 1261.3608394952541, 658.2203448606249, 2144.5995840377645, 6690.949498357582, 504.7947414770047, 2879.895167715604, 6328.820494119989, 1738.82629006805, 2006.047404892191, 3857.2817259356184, 1028.5462146858497, 1284.7435550970008, 2126.552537995429, 5407.689935408723, 2740.055426220364, 4483.211670490687, 7146.37450983827, 1231.628995862261, 4568.951989166429, 22037.454518616578, 18164.865321866226, 9792.373048791536, 8649.859479020435, 12614.296350365908, 9719.202336086439, 12106.182704315912, 9702.901952776238, 13588.433378345546, 10042.700370092387, 10937.606565796772, 12599.831409060598, 1426.7108816586706, 1204.3112142314644, 1058.7582433327432, 1057.5419357945605, 1048.2196539516426, 1038.2930407312983, 1004.2208267521245, 777.9857794335468, 762.3902830359369, 611.6559730155896, 497.13856789657433, 480.17360152912414, 378.6401184614048, 332.36187734897646, 317.3315211505812, 305.22693974525623, 291.74100691960047, 281.00309157793674, 268.90307955936254, 256.4667288229608, 211.48805871816322, 197.6602978273426, 195.787506060805, 191.35344022033354, 187.16483017143128, 186.14911278365253, 179.51212446531522, 178.2196990645407, 172.65552496460163, 167.44407603624924, 746.893395467034, 532.0490955868667, 517.595983678397, 495.38998979543413, 604.1604485883753, 2417.497649054562, 450.10767986411804, 281.3359593391777, 584.9977635424414, 6828.010313487869, 14631.935656417478, 710.6917007591031, 13343.541979987194, 2293.495553150752, 2031.2401000673551, 486.7671876081653, 1852.804203291101, 3183.023529851017, 865.6013205024651, 5548.284480918481, 3019.4609256839876, 1861.3185748157985, 18164.865321866226, 13588.433378345546, 23927.166166430663, 9702.901952776238, 12614.296350365908, 10042.700370092387, 10937.606565796772, 11719.943645471847, 8649.859479020435, 10322.137652052865, 5539.207363290379, 7738.602014037797, 18721.602758061475, 12668.551938475464, 5334.991643148333, 5299.298214404167, 4417.320756171054, 3501.814122295303, 3449.610130722286, 3326.9662605102244, 3112.071479718515, 2671.9915015911215, 2490.800762987805, 2295.336286478683, 1923.1482070861723, 1841.267654864107, 1772.2722699108454, 1765.8642008548086, 1518.4552182469852, 1279.1238535299772, 1086.3175719706803, 1031.5584169172605, 1004.9258861549663, 846.7640390987601, 819.7406859251648, 811.573026323176, 787.2430160199503, 761.8405340416169, 685.8366300863285, 639.7293404515713, 576.2571174993448, 573.6235365954237, 521.4468507375576, 1457.3881989203678, 5657.494151980688, 693.0907895983811, 958.2842439106962, 1991.2876660708805, 12106.182704315912, 2503.882056711955, 1979.9276862189076, 1369.772239018508, 1366.5347721071612, 1114.9356943785237, 704.6485000282686, 696.4402677985939, 620.8181453122369, 587.9571177396331, 498.93169724510534, 487.68846957243034, 461.0221390696859, 447.6462229247928, 440.66120275539896, 404.5613683301468, 394.9990580639911, 354.2479682659506, 348.4862543295212, 337.78271281652087, 294.89528319874063, 288.1798984778641, 281.59601806368295, 269.0250346620719, 251.33093706392535, 245.63361162399116, 243.7405496599054, 231.28538047291016, 218.8326872395601, 212.92264007371082, 212.76101368377982, 3414.921033870366, 918.7958543247022, 2420.4030504876414, 429.1802347488888, 1381.774227142946, 287.455294335626, 492.1778893059151, 3191.6603023999687, 677.4902545181221, 1041.811183965626, 1876.034081354541, 744.2928482701861, 1614.7741342039735, 6663.637747322181, 2378.9390441429555, 5548.284480918481, 5904.180434435867, 2376.0138332447623, 951.3171728815101, 11719.943645471847, 2713.751438220234, 12599.831409060598, 18164.865321866226, 9719.202336086439, 6828.010313487869, 18708.800212507027, 4922.773737461, 12614.296350365908, 7666.085085548436, 14631.935656417478, 2859.1333591792354, 1680.4661225254176, 1654.6272049792276, 1219.7891563747048, 733.8130756884273, 703.3614058812235, 566.992488111244, 523.0917418728462, 509.97079938084505, 460.9537879574971, 385.3061194060665, 367.78549135073837, 1259.0058185733867, 345.1881655048266, 297.6173866437476, 274.57602470982664, 258.53647379008663, 256.0306618162646, 229.0383744681944, 216.60752598042407, 216.63496769910478, 208.9589346820346, 205.61686124003816, 201.7663351543549, 199.9758280122443, 185.74477245897634, 171.3912881532545, 171.51793291385835, 160.57294576891832, 147.20153372923758, 1533.5509592838766, 531.3232767275969, 2062.034943865451, 954.5020630223296, 578.0855938004403, 2908.8404117523914, 475.86479800228864, 1455.5031192669167, 915.6298982201068, 423.5930741607491, 1486.1010781524437, 3241.238177250003, 7146.37450983827, 3844.0254267541072, 5669.980071448579, 1181.7939281034057, 4674.398183019402, 1057.6363615783248, 1465.1570405380514, 5229.079609632913, 1634.816375627424, 3554.842497966457, 12106.182704315912, 2724.407196389839, 18164.865321866226, 7906.7368981498985, 4558.731345594277, 3726.3686889383757, 13088.218405702784, 3832.0935042039196, 1566.4210437015024, 1146.1059615253566, 1044.364849784127, 965.3270774303942, 684.1618498052176, 489.77390862548765, 443.36691322456335, 438.9831448704918, 431.514350511946, 399.91016156588586, 261.52648434658624, 261.25054601792425, 227.81830761529022, 219.39131200969518, 165.38232275780737, 152.77265530752612, 147.28676703978078, 144.06510321672778, 142.82502694233906, 132.44345386532677, 127.30298637122768, 110.40610690747228, 107.84864718257829, 98.60079790779557, 98.10224353348245, 98.03084372254152, 94.20890368481903, 91.64851654367237, 189.01480548954405, 2317.551899219248, 7381.600768785875, 362.4674327397326, 374.2202008234088, 13343.541979987194, 3991.3638551141107, 4794.781871919068, 7738.602014037797, 1839.2376177423835, 3476.4678634100446, 5407.689935408723, 2165.514845271593, 2724.1748118107193, 7275.501686948366, 3509.974207183846, 904.4778907629203, 22037.454518616578, 2126.552537995429, 6690.949498357582, 18164.865321866226, 18708.800212507027, 12614.296350365908, 4674.398183019402, 13588.433378345546, 4107.408118820402, 5229.079609632913, 9570.208901877055, 8522.366478053, 14631.935656417478, 957.8992635302707, 913.1214273411406, 444.49323818943964, 386.0363738405775, 353.0546349460128, 307.9718398354856, 344.4068306483385, 294.4896125346137, 290.21891301150856, 285.8207176143442, 275.2913067692038, 272.26331280938257, 258.4164012474716, 251.39060046032762, 244.45151836751864, 322.74647860657376, 239.00384681644218, 234.9551478665801, 229.85092582016372, 191.9467191689639, 190.595383741153, 182.0656148905486, 177.08970327832608, 170.11877684134603, 168.28958253146524, 166.82552927481743, 165.01391889784014, 163.21638624555663, 163.13985347413785, 157.11054921347915, 352.3456627769283, 523.4853284602607, 458.9969521841842, 524.8638663757796, 466.954599404005, 693.826301897811, 225.07227331345845, 413.9523857002168, 1010.265273168651, 976.0953680873213, 640.5119239829819, 506.61076472998184, 4558.731345594277, 1085.1631938592625, 671.3941236983085, 5657.494151980688, 752.1739720753326, 3857.2817259356184, 3718.4581844042777, 1155.4051070314233, 2519.3436961923185, 1166.0891777284137, 1434.1102228773266, 6328.820494119989, 1367.6736337586117, 1886.5985917861476], \"Category\": [\"Default\", \"Default\", \"Default\", \"Default\", \"Default\", \"Default\", \"Default\", \"Default\", \"Default\", \"Default\", \"Default\", \"Default\", \"Default\", \"Default\", \"Default\", \"Default\", \"Default\", \"Default\", \"Default\", \"Default\", \"Default\", \"Default\", \"Default\", \"Default\", \"Default\", \"Default\", \"Default\", \"Default\", \"Default\", \"Default\", \"Topic1\", \"Topic1\", \"Topic1\", \"Topic1\", \"Topic1\", \"Topic1\", \"Topic1\", \"Topic1\", \"Topic1\", \"Topic1\", \"Topic1\", \"Topic1\", \"Topic1\", \"Topic1\", \"Topic1\", \"Topic1\", \"Topic1\", \"Topic1\", \"Topic1\", \"Topic1\", \"Topic1\", \"Topic1\", \"Topic1\", \"Topic1\", \"Topic1\", \"Topic1\", \"Topic1\", \"Topic1\", \"Topic1\", \"Topic1\", \"Topic1\", \"Topic1\", \"Topic1\", \"Topic1\", \"Topic1\", \"Topic1\", \"Topic1\", \"Topic1\", \"Topic1\", \"Topic1\", \"Topic1\", \"Topic1\", \"Topic1\", \"Topic1\", \"Topic1\", \"Topic1\", \"Topic1\", \"Topic1\", \"Topic1\", \"Topic1\", \"Topic1\", \"Topic1\", \"Topic1\", \"Topic1\", \"Topic1\", \"Topic1\", \"Topic1\", \"Topic1\", \"Topic1\", \"Topic1\", \"Topic1\", \"Topic1\", \"Topic1\", \"Topic1\", \"Topic1\", \"Topic1\", \"Topic1\", \"Topic1\", \"Topic1\", \"Topic1\", \"Topic1\", \"Topic1\", \"Topic1\", \"Topic1\", \"Topic1\", \"Topic1\", \"Topic1\", \"Topic1\", \"Topic1\", \"Topic1\", \"Topic1\", \"Topic1\", \"Topic1\", \"Topic1\", \"Topic2\", \"Topic2\", \"Topic2\", \"Topic2\", \"Topic2\", \"Topic2\", \"Topic2\", \"Topic2\", \"Topic2\", \"Topic2\", \"Topic2\", \"Topic2\", \"Topic2\", \"Topic2\", \"Topic2\", \"Topic2\", \"Topic2\", \"Topic2\", \"Topic2\", \"Topic2\", \"Topic2\", \"Topic2\", \"Topic2\", \"Topic2\", \"Topic2\", \"Topic2\", \"Topic2\", \"Topic2\", \"Topic2\", \"Topic2\", \"Topic2\", \"Topic2\", \"Topic2\", \"Topic2\", \"Topic2\", \"Topic2\", \"Topic2\", \"Topic2\", \"Topic2\", \"Topic2\", \"Topic2\", \"Topic2\", \"Topic2\", \"Topic2\", \"Topic2\", \"Topic2\", \"Topic2\", \"Topic2\", \"Topic2\", \"Topic2\", \"Topic2\", \"Topic2\", \"Topic2\", \"Topic2\", \"Topic2\", \"Topic2\", \"Topic2\", \"Topic2\", \"Topic2\", \"Topic2\", \"Topic2\", \"Topic2\", \"Topic2\", \"Topic2\", \"Topic2\", \"Topic2\", \"Topic2\", \"Topic2\", \"Topic2\", \"Topic2\", \"Topic2\", \"Topic2\", \"Topic2\", \"Topic2\", \"Topic2\", \"Topic2\", \"Topic2\", \"Topic2\", \"Topic2\", \"Topic2\", \"Topic2\", \"Topic2\", \"Topic2\", \"Topic2\", \"Topic3\", \"Topic3\", \"Topic3\", \"Topic3\", \"Topic3\", \"Topic3\", \"Topic3\", \"Topic3\", \"Topic3\", \"Topic3\", \"Topic3\", \"Topic3\", \"Topic3\", \"Topic3\", \"Topic3\", \"Topic3\", \"Topic3\", \"Topic3\", \"Topic3\", \"Topic3\", \"Topic3\", \"Topic3\", \"Topic3\", \"Topic3\", \"Topic3\", \"Topic3\", \"Topic3\", \"Topic3\", \"Topic3\", \"Topic3\", \"Topic3\", \"Topic3\", \"Topic3\", \"Topic3\", \"Topic3\", \"Topic3\", \"Topic3\", \"Topic3\", \"Topic3\", \"Topic3\", \"Topic3\", \"Topic3\", \"Topic3\", \"Topic3\", \"Topic3\", \"Topic3\", \"Topic3\", \"Topic3\", \"Topic3\", \"Topic3\", \"Topic3\", \"Topic3\", \"Topic3\", \"Topic3\", \"Topic3\", \"Topic3\", \"Topic3\", \"Topic3\", \"Topic3\", \"Topic3\", \"Topic3\", \"Topic3\", \"Topic3\", \"Topic3\", \"Topic3\", \"Topic3\", \"Topic3\", \"Topic3\", \"Topic3\", \"Topic3\", \"Topic3\", \"Topic3\", \"Topic3\", \"Topic3\", \"Topic3\", \"Topic3\", \"Topic3\", \"Topic3\", \"Topic4\", \"Topic4\", \"Topic4\", \"Topic4\", \"Topic4\", \"Topic4\", \"Topic4\", \"Topic4\", \"Topic4\", \"Topic4\", \"Topic4\", \"Topic4\", \"Topic4\", \"Topic4\", \"Topic4\", \"Topic4\", \"Topic4\", \"Topic4\", \"Topic4\", \"Topic4\", \"Topic4\", \"Topic4\", \"Topic4\", \"Topic4\", \"Topic4\", \"Topic4\", \"Topic4\", \"Topic4\", \"Topic4\", \"Topic4\", \"Topic4\", \"Topic4\", \"Topic4\", \"Topic4\", \"Topic4\", \"Topic4\", \"Topic4\", \"Topic4\", \"Topic4\", \"Topic4\", \"Topic4\", \"Topic4\", \"Topic4\", \"Topic4\", \"Topic4\", \"Topic4\", \"Topic4\", \"Topic4\", \"Topic4\", \"Topic4\", \"Topic4\", \"Topic4\", \"Topic4\", \"Topic4\", \"Topic4\", \"Topic4\", \"Topic4\", \"Topic4\", \"Topic4\", \"Topic4\", \"Topic4\", \"Topic4\", \"Topic4\", \"Topic4\", \"Topic4\", \"Topic4\", \"Topic4\", \"Topic4\", \"Topic4\", \"Topic4\", \"Topic4\", \"Topic4\", \"Topic5\", \"Topic5\", \"Topic5\", \"Topic5\", \"Topic5\", \"Topic5\", \"Topic5\", \"Topic5\", \"Topic5\", \"Topic5\", \"Topic5\", \"Topic5\", \"Topic5\", \"Topic5\", \"Topic5\", \"Topic5\", \"Topic5\", \"Topic5\", \"Topic5\", \"Topic5\", \"Topic5\", \"Topic5\", \"Topic5\", \"Topic5\", \"Topic5\", \"Topic5\", \"Topic5\", \"Topic5\", \"Topic5\", \"Topic5\", \"Topic5\", \"Topic5\", \"Topic5\", \"Topic5\", \"Topic5\", \"Topic5\", \"Topic5\", \"Topic5\", \"Topic5\", \"Topic5\", \"Topic5\", \"Topic5\", \"Topic5\", \"Topic5\", \"Topic5\", \"Topic5\", \"Topic5\", \"Topic5\", \"Topic5\", \"Topic5\", \"Topic5\", \"Topic5\", \"Topic5\", \"Topic5\", \"Topic5\", \"Topic5\", \"Topic5\", \"Topic5\", \"Topic5\", \"Topic5\", \"Topic5\", \"Topic5\", \"Topic5\", \"Topic5\", \"Topic5\", \"Topic6\", \"Topic6\", \"Topic6\", \"Topic6\", \"Topic6\", \"Topic6\", \"Topic6\", \"Topic6\", \"Topic6\", \"Topic6\", \"Topic6\", \"Topic6\", \"Topic6\", \"Topic6\", \"Topic6\", \"Topic6\", \"Topic6\", \"Topic6\", \"Topic6\", \"Topic6\", \"Topic6\", \"Topic6\", \"Topic6\", \"Topic6\", \"Topic6\", \"Topic6\", \"Topic6\", \"Topic6\", \"Topic6\", \"Topic6\", \"Topic6\", \"Topic6\", \"Topic6\", \"Topic6\", \"Topic6\", \"Topic6\", \"Topic7\", \"Topic7\", \"Topic7\", \"Topic7\", \"Topic7\", \"Topic7\", \"Topic7\", \"Topic7\", \"Topic7\", \"Topic7\", \"Topic7\", \"Topic7\", \"Topic7\", \"Topic7\", \"Topic7\", \"Topic7\", \"Topic7\", \"Topic7\", \"Topic7\", \"Topic7\", \"Topic7\", \"Topic7\", \"Topic7\", \"Topic7\", \"Topic7\", \"Topic7\", \"Topic7\", \"Topic7\", \"Topic7\", \"Topic7\", \"Topic7\", \"Topic7\", \"Topic7\", \"Topic7\", \"Topic7\", \"Topic7\", \"Topic7\", \"Topic7\", \"Topic7\", \"Topic7\", \"Topic7\", \"Topic7\", \"Topic7\", \"Topic7\", \"Topic7\", \"Topic7\", \"Topic7\", \"Topic7\", \"Topic7\", \"Topic7\", \"Topic7\", \"Topic7\", \"Topic7\", \"Topic7\", \"Topic7\", \"Topic7\", \"Topic7\", \"Topic7\", \"Topic7\", \"Topic7\", \"Topic8\", \"Topic8\", \"Topic8\", \"Topic8\", \"Topic8\", \"Topic8\", \"Topic8\", \"Topic8\", \"Topic8\", \"Topic8\", \"Topic8\", \"Topic8\", \"Topic8\", \"Topic8\", \"Topic8\", \"Topic8\", \"Topic8\", \"Topic8\", \"Topic8\", \"Topic8\", \"Topic8\", \"Topic8\", \"Topic8\", \"Topic8\", \"Topic8\", \"Topic8\", \"Topic8\", \"Topic8\", \"Topic8\", \"Topic8\", \"Topic8\", \"Topic8\", \"Topic8\", \"Topic8\", \"Topic8\", \"Topic8\", \"Topic8\", \"Topic8\", \"Topic8\", \"Topic8\", \"Topic8\", \"Topic8\", \"Topic8\", \"Topic8\", \"Topic8\", \"Topic8\", \"Topic8\", \"Topic8\", \"Topic8\", \"Topic8\", \"Topic8\", \"Topic8\", \"Topic8\", \"Topic8\", \"Topic8\", \"Topic8\", \"Topic8\", \"Topic8\", \"Topic9\", \"Topic9\", \"Topic9\", \"Topic9\", \"Topic9\", \"Topic9\", \"Topic9\", \"Topic9\", \"Topic9\", \"Topic9\", \"Topic9\", \"Topic9\", \"Topic9\", \"Topic9\", \"Topic9\", \"Topic9\", \"Topic9\", \"Topic9\", \"Topic9\", \"Topic9\", \"Topic9\", \"Topic9\", \"Topic9\", \"Topic9\", \"Topic9\", \"Topic9\", \"Topic9\", \"Topic9\", \"Topic9\", \"Topic9\", \"Topic9\", \"Topic9\", \"Topic9\", \"Topic9\", \"Topic9\", \"Topic9\", \"Topic9\", \"Topic9\", \"Topic9\", \"Topic9\", \"Topic9\", \"Topic9\", \"Topic9\", \"Topic9\", \"Topic9\", \"Topic9\", \"Topic9\", \"Topic9\", \"Topic9\", \"Topic9\", \"Topic9\", \"Topic9\", \"Topic9\", \"Topic9\", \"Topic9\", \"Topic9\", \"Topic9\", \"Topic9\", \"Topic9\", \"Topic9\", \"Topic10\", \"Topic10\", \"Topic10\", \"Topic10\", \"Topic10\", \"Topic10\", \"Topic10\", \"Topic10\", \"Topic10\", \"Topic10\", \"Topic10\", \"Topic10\", \"Topic10\", \"Topic10\", \"Topic10\", \"Topic10\", \"Topic10\", \"Topic10\", \"Topic10\", \"Topic10\", \"Topic10\", \"Topic10\", \"Topic10\", \"Topic10\", \"Topic10\", \"Topic10\", \"Topic10\", \"Topic10\", \"Topic10\", \"Topic10\", \"Topic10\", \"Topic10\", \"Topic10\", \"Topic10\", \"Topic10\", \"Topic10\", \"Topic10\", \"Topic10\", \"Topic10\", \"Topic10\", \"Topic10\", \"Topic10\", \"Topic10\", \"Topic10\", \"Topic10\", \"Topic10\", \"Topic10\", \"Topic10\", \"Topic10\", \"Topic10\", \"Topic10\", \"Topic10\", \"Topic10\", \"Topic10\", \"Topic10\", \"Topic10\"], \"logprob\": [30.0, 29.0, 28.0, 27.0, 26.0, 25.0, 24.0, 23.0, 22.0, 21.0, 20.0, 19.0, 18.0, 17.0, 16.0, 15.0, 14.0, 13.0, 12.0, 11.0, 10.0, 9.0, 8.0, 7.0, 6.0, 5.0, 4.0, 3.0, 2.0, 1.0, -6.565400123596191, -6.968699932098389, -7.090700149536133, -7.222300052642822, -7.257800102233887, -7.271299839019775, -7.2769999504089355, -7.3780999183654785, -7.431700229644775, -7.521100044250488, -7.559999942779541, -7.591899871826172, -7.60699987411499, -7.632599830627441, -7.633900165557861, -7.640399932861328, -7.645199775695801, -7.650100231170654, -7.65749979019165, -7.66949987411499, -7.685999870300293, -7.70550012588501, -7.71150016784668, -7.758800029754639, -7.767099857330322, -7.839200019836426, -7.848800182342529, -7.85260009765625, -7.924900054931641, -7.928400039672852, -6.388599872589111, -6.634500026702881, -4.358799934387207, -7.080399990081787, -3.7534000873565674, -5.9822998046875, -6.930600166320801, -6.775100231170654, -7.065400123596191, -5.905300140380859, -6.548600196838379, -7.047599792480469, -4.477499961853027, -4.640900135040283, -6.2332000732421875, -6.6203999519348145, -4.434700012207031, -6.843500137329102, -7.2164998054504395, -6.0406999588012695, -3.891200065612793, -5.564199924468994, -4.521100044250488, -5.196599960327148, -4.177999973297119, -6.121600151062012, -6.412600040435791, -4.959099769592285, -6.167699813842773, -5.534200191497803, -5.95419979095459, -5.271200180053711, -5.448200225830078, -4.924600124359131, -4.9303998947143555, -5.072500228881836, -5.288099765777588, -4.430500030517578, -6.057000160217285, -5.472799777984619, -5.086999893188477, -5.305099964141846, -5.7444000244140625, -5.043600082397461, -5.023200035095215, -5.109000205993652, -5.5625, -5.356800079345703, -5.676199913024902, -5.489299774169922, -5.233699798583984, -5.650199890136719, -5.457399845123291, -5.558800220489502, -6.420599937438965, -6.711299896240234, -6.783400058746338, -6.852200031280518, -6.6579999923706055, -7.0569000244140625, -7.085899829864502, -7.105400085449219, -7.1493000984191895, -7.182300090789795, -7.216300010681152, -7.247300148010254, -7.253499984741211, -7.261000156402588, -7.345600128173828, -7.354400157928467, -7.375800132751465, -7.409299850463867, -7.421899795532227, -7.4558000564575195, -7.465099811553955, -7.488500118255615, -7.518499851226807, -7.530099868774414, -7.595300197601318, -7.61899995803833, -7.635700225830078, -7.640200138092041, -7.6890997886657715, -7.725100040435791, -7.124800205230713, -7.466000080108643, -5.504000186920166, -5.651899814605713, -5.429500102996826, -6.732699871063232, -5.847300052642822, -6.437600135803223, -5.629499912261963, -5.5304999351501465, -6.236599922180176, -6.861700057983398, -5.478300094604492, -6.911099910736084, -6.960999965667725, -6.142099857330322, -4.957300186157227, -5.995999813079834, -6.530700206756592, -5.549200057983398, -4.320000171661377, -4.993000030517578, -6.507800102233887, -5.295599937438965, -6.843500137329102, -6.181000232696533, -5.399099826812744, -5.339300155639648, -6.446800231933594, -6.122700214385986, -4.241700172424316, -5.475900173187256, -5.381199836730957, -5.843900203704834, -5.617700099945068, -5.092299938201904, -5.384399890899658, -5.7108001708984375, -4.581999778747559, -4.677499771118164, -5.1774001121521, -5.501500129699707, -5.230100154876709, -4.967700004577637, -5.678599834442139, -5.310299873352051, -5.165900230407715, -5.3566999435424805, -5.359899997711182, -5.594900131225586, -5.375400066375732, -5.554500102996826, -5.585400104522705, -5.5609002113342285, -5.092599868774414, -5.09660005569458, -5.432799816131592, -5.517600059509277, -5.603499889373779, -6.461299896240234, -6.9120001792907715, -7.003900051116943, -7.030799865722656, -7.092800140380859, -7.149799823760986, -7.152200222015381, -7.166299819946289, -7.317699909210205, -7.3379998207092285, -7.346799850463867, -7.406099796295166, -7.437099933624268, -7.439199924468994, -7.485499858856201, -7.537300109863281, -7.593699932098389, -7.619500160217285, -7.626500129699707, -7.635900020599365, -7.712600231170654, -7.716899871826172, -7.730299949645996, -7.7505998611450195, -7.751299858093262, -7.0447998046875, -4.36269998550415, -5.085700035095215, -6.824999809265137, -4.790200233459473, -5.996500015258789, -6.861599922180176, -6.355500221252441, -5.410699844360352, -5.6508002281188965, -4.743599891662598, -6.529699802398682, -4.079500198364258, -5.369999885559082, -5.0395002365112305, -5.8109002113342285, -5.007800102233887, -4.78000020980835, -3.969899892807007, -5.763000011444092, -6.28879976272583, -5.379000186920166, -5.912499904632568, -4.965099811553955, -6.037099838256836, -5.006800174713135, -4.406199932098389, -5.091800212860107, -5.926000118255615, -3.787400007247925, -5.06790018081665, -5.077600002288818, -4.875999927520752, -4.763700008392334, -5.210899829864502, -5.391900062561035, -5.200099945068359, -4.877699851989746, -5.0019001960754395, -5.0106000900268555, -5.218100070953369, -5.028500080108643, -5.089000225067139, -5.287300109863281, -5.275599956512451, -5.22730016708374, -5.268899917602539, -5.2667999267578125, -5.161499977111816, -5.650400161743164, -5.735199928283691, -6.112199783325195, -6.144000053405762, -6.2565999031066895, -6.475299835205078, -6.6296000480651855, -6.749599933624268, -6.827400207519531, -6.894400119781494, -6.896500110626221, -6.909900188446045, -6.940700054168701, -6.94189977645874, -7.000199794769287, -7.09499979019165, -7.106500148773193, -7.151599884033203, -7.238699913024902, -7.244900226593018, -7.274899959564209, -7.286200046539307, -7.287899971008301, -7.382900238037109, -7.382900238037109, -7.3856000900268555, -7.410600185394287, -7.2032999992370605, -7.4893999099731445, -4.848400115966797, -5.947500228881836, -5.182700157165527, -5.817800045013428, -6.893700122833252, -4.9679999351501465, -6.0391998291015625, -5.718599796295166, -6.341400146484375, -3.4337000846862793, -5.2399001121521, -5.354599952697754, -6.00629997253418, -4.8856000900268555, -3.8598999977111816, -6.2652997970581055, -4.650599956512451, -4.00629997253418, -5.181399822235107, -5.113100051879883, -4.553899765014648, -5.6915998458862305, -5.513400077819824, -5.15310001373291, -4.604800224304199, -5.111199855804443, -4.8196001052856445, -4.5746002197265625, -5.685100078582764, -4.9721999168396, -4.269000053405762, -4.45550012588501, -4.787600040435791, -4.845099925994873, -4.688700199127197, -4.88129997253418, -4.820000171661377, -4.950500011444092, -4.877900123596191, -5.0030999183654785, -5.048099994659424, -5.0578999519348145, -4.831500053405762, -5.001100063323975, -5.130000114440918, -5.131100177764893, -5.139999866485596, -5.149499893188477, -5.1828999519348145, -5.438399791717529, -5.458700180053711, -5.679299831390381, -5.88700008392334, -5.9217000007629395, -6.159800052642822, -6.290500164031982, -6.336900234222412, -6.375899791717529, -6.421199798583984, -6.458799839019775, -6.502999782562256, -6.55049991607666, -6.744100093841553, -6.811999797821045, -6.821599960327148, -6.844600200653076, -6.866799831390381, -6.872300148010254, -6.90880012512207, -6.916100025177002, -6.94789981842041, -6.978799819946289, -5.492300033569336, -5.849999904632568, -5.894899845123291, -5.952400207519531, -5.781199932098389, -4.515900135040283, -6.063600063323975, -6.4953999519348145, -5.870500087738037, -3.815500020980835, -3.2244999408721924, -5.756899833679199, -3.562000036239624, -4.884200096130371, -5.03439998626709, -6.0640997886657715, -5.197500228881836, -4.854400157928467, -5.6915998458862305, -4.643799781799316, -5.007299900054932, -5.274199962615967, -4.097499847412109, -4.450900077819824, -4.214799880981445, -4.7368998527526855, -4.644599914550781, -4.78879976272583, -4.879499912261963, -4.89139986038208, -5.022200107574463, -4.983500003814697, -5.143199920654297, -5.105800151824951, -5.042900085449219, -2.5237998962402344, -3.3887999057769775, -3.3954999446868896, -3.577500104904175, -3.8099000453948975, -3.824899911880493, -3.8610999584198, -3.9279000759124756, -4.080399990081787, -4.150599956512451, -4.232399940490723, -4.40939998626709, -4.452899932861328, -4.491099834442139, -4.494800090789795, -4.6458001136779785, -4.817399978637695, -4.980999946594238, -5.032700061798096, -5.058899879455566, -5.230299949645996, -5.262800216674805, -5.272799968719482, -5.303299903869629, -5.33620023727417, -5.441400051116943, -5.511099815368652, -5.615799903869629, -5.620299816131592, -5.71589994430542, -4.7769999504089355, -3.6768999099731445, -5.495500087738037, -5.35860013961792, -5.061200141906738, -5.033899784088135, -4.124599933624268, -4.359499931335449, -4.728099822998047, -4.730500221252441, -4.934100151062012, -5.393400192260742, -5.405200004577637, -5.520299911499023, -5.574699878692627, -5.739200115203857, -5.76200008392334, -5.818299770355225, -5.847799777984619, -5.86359977722168, -5.9492998123168945, -5.973199844360352, -6.082399845123291, -6.098800182342529, -6.130099773406982, -6.266300201416016, -6.289400100708008, -6.312600135803223, -6.358399868011475, -6.426700115203857, -6.449699878692627, -6.457399845123291, -6.5100998878479, -6.565700054168701, -6.593200206756592, -6.593900203704834, -3.837100028991699, -5.164100170135498, -4.250800132751465, -5.933599948883057, -4.864099979400635, -6.313199996948242, -5.872300148010254, -4.357600212097168, -5.621099948883057, -5.3140997886657715, -4.872900009155273, -5.591899871826172, -5.093900203704834, -4.2129998207092285, -4.948500156402588, -4.670000076293945, -4.661600112915039, -5.155300140380859, -5.603499889373779, -4.812300205230713, -5.3668999671936035, -5.027299880981445, -4.947400093078613, -5.165800094604492, -5.3821001052856445, -5.280300140380859, -5.446300029754639, -5.39709997177124, -5.422399997711182, -5.396100044250488, -3.895699977874756, -4.4274001121521, -4.44290018081665, -4.748000144958496, -5.256700038909912, -5.299099922180176, -5.514999866485596, -5.595699787139893, -5.621200084686279, -5.722400188446045, -5.902100086212158, -5.948699951171875, -4.718200206756592, -6.01230001449585, -6.160999774932861, -6.2418999671936035, -6.302299976348877, -6.312099933624268, -6.423900127410889, -6.479899883270264, -6.479800224304199, -6.51609992980957, -6.532299995422363, -6.551199913024902, -6.560200214385986, -6.634399890899658, -6.715199947357178, -6.7144999504089355, -6.780799865722656, -6.868299961090088, -4.532599925994873, -5.5903000831604, -4.252999782562256, -5.019100189208984, -5.522799968719482, -3.9788999557495117, -5.747300148010254, -4.774700164794922, -5.196499824523926, -5.910299777984619, -4.9268999099731445, -4.34499979019165, -3.863800048828125, -4.356400012969971, -4.237199783325195, -5.287499904632568, -4.472599983215332, -5.451399803161621, -5.302499771118164, -4.759200096130371, -5.279799938201904, -5.089600086212158, -4.771100044250488, -5.25, -4.857999801635742, -5.067399978637695, -5.17609977722168, -5.298299789428711, -2.233799934387207, -3.4623000621795654, -4.3572001457214355, -4.669899940490723, -4.762899875640869, -4.841700077056885, -5.186399936676025, -5.521200180053711, -5.6209001541137695, -5.630899906158447, -5.648099899291992, -5.724299907684326, -6.150300025939941, -6.151299953460693, -6.28879976272583, -6.326700210571289, -6.6107001304626465, -6.690499782562256, -6.72730016708374, -6.749499797821045, -6.758200168609619, -6.834199905395508, -6.874100208282471, -7.0177001953125, -7.041299819946289, -7.131800174713135, -7.136899948120117, -7.137599945068359, -7.177800178527832, -7.205599784851074, -6.515200138092041, -4.163700103759766, -3.078900098800659, -6.067699909210205, -6.0467000007629395, -3.3624000549316406, -4.285399913787842, -4.154200077056885, -3.815000057220459, -4.892399787902832, -4.447999954223633, -4.250899791717529, -4.879700183868408, -4.807000160217285, -4.333799839019775, -4.8460001945495605, -5.61359977722168, -4.059899806976318, -5.206399917602539, -4.690800189971924, -4.300099849700928, -4.380899906158447, -4.60230016708374, -4.9766998291015625, -4.733699798583984, -5.054100036621094, -5.015200138092041, -5.047999858856201, -5.134200096130371, -5.132500171661377, -4.479300022125244, -4.527200222015381, -5.248199939727783, -5.389599800109863, -5.479100227355957, -5.616099834442139, -5.504300117492676, -5.660999774932861, -5.6757001876831055, -5.690999984741211, -5.728600025177002, -5.739699840545654, -5.792099952697754, -5.819799900054932, -5.847899913787842, -5.570099830627441, -5.870500087738037, -5.887700080871582, -5.9096999168396, -6.090700149536133, -6.097799777984619, -6.143899917602539, -6.1717000007629395, -6.212100028991699, -6.2230000495910645, -6.231800079345703, -6.242700099945068, -6.253799915313721, -6.254199981689453, -6.292099952697754, -5.486299991607666, -5.094799995422363, -5.286799907684326, -5.280700206756592, -5.378499984741211, -5.0605998039245605, -6.010799884796143, -5.600399971008301, -5.110199928283691, -5.161399841308594, -5.416399955749512, -5.550000190734863, -4.5117998123168945, -5.234600067138672, -5.473999977111816, -4.726399898529053, -5.467299938201904, -4.950900077819824, -5.063899993896484, -5.384500026702881, -5.230599880218506, -5.405900001525879, -5.464399814605713, -5.298099994659424, -5.519400119781494, -5.536099910736084], \"loglift\": [30.0, 29.0, 28.0, 27.0, 26.0, 25.0, 24.0, 23.0, 22.0, 21.0, 20.0, 19.0, 18.0, 17.0, 16.0, 15.0, 14.0, 13.0, 12.0, 11.0, 10.0, 9.0, 8.0, 7.0, 6.0, 5.0, 4.0, 3.0, 2.0, 1.0, 1.3406, 1.3401, 1.34, 1.3397, 1.3397, 1.3397, 1.3396, 1.3395, 1.3393, 1.3391, 1.339, 1.339, 1.3389, 1.3389, 1.3389, 1.3388, 1.3388, 1.3388, 1.3388, 1.3388, 1.3387, 1.3387, 1.3386, 1.3385, 1.3385, 1.3382, 1.3382, 1.3382, 1.338, 1.3379, 1.3158, 1.3177, 1.2372, 1.3135, 1.1716, 1.2529, 1.3012, 1.283, 1.2998, 1.2246, 1.2463, 1.2888, 1.0429, 1.0573, 1.206, 1.2428, 1.026, 1.2511, 1.2898, 1.1161, 0.7885, 1.0285, 0.8431, 0.9589, 0.7477, 1.1074, 1.1501, 0.7866, 1.077, 0.9036, 1.0103, 0.8172, 0.8483, 0.6794, 0.6427, 0.6395, 0.6933, 0.3315, 1.0039, 0.7014, 0.3755, 0.5128, 0.7892, 0.2763, 0.2223, 0.2844, 0.6412, 0.4275, 0.7364, 0.4882, -0.0622, 0.6694, 0.1232, -0.0109, 1.6161, 1.6157, 1.6156, 1.6155, 1.6152, 1.6151, 1.6151, 1.615, 1.6149, 1.6148, 1.6147, 1.6147, 1.6146, 1.6146, 1.6144, 1.6144, 1.6143, 1.6142, 1.6142, 1.6141, 1.614, 1.614, 1.6139, 1.6138, 1.6135, 1.6135, 1.6134, 1.6134, 1.6132, 1.6131, 1.607, 1.6087, 1.5524, 1.5521, 1.542, 1.5758, 1.5224, 1.55, 1.4969, 1.4695, 1.5135, 1.5677, 1.4466, 1.5691, 1.5676, 1.4658, 1.3035, 1.422, 1.4952, 1.3072, 1.041, 1.1266, 1.4562, 1.1356, 1.5347, 1.3293, 1.0428, 1.0151, 1.3997, 1.2751, 0.5203, 1.0103, 0.9543, 1.1454, 1.0367, 0.7778, 0.9028, 1.0382, 0.3437, 0.2777, 0.6096, 0.8361, 0.5784, 0.296, 0.9703, 0.474, 0.2275, 0.3405, 0.3446, 0.7405, -0.0544, 0.2329, 0.6208, 0.0197, 2.1426, 2.1426, 2.1424, 2.1424, 2.1423, 2.1412, 2.1402, 2.1399, 2.1398, 2.1396, 2.1394, 2.1394, 2.1393, 2.1387, 2.1386, 2.1386, 2.1383, 2.1382, 2.1381, 2.1379, 2.1376, 2.1373, 2.1372, 2.1371, 2.1371, 2.1366, 2.1366, 2.1365, 2.1363, 2.1363, 2.1288, 2.0674, 2.0671, 2.1095, 2.0296, 2.0412, 2.0921, 2.0479, 1.9707, 1.9819, 1.8778, 2.05, 1.7574, 1.8694, 1.8158, 1.9235, 1.7374, 1.5672, 1.3511, 1.7779, 1.9018, 1.6199, 1.7882, 1.4381, 1.8107, 1.438, 1.1978, 1.4475, 1.7666, 0.8923, 1.4153, 1.2591, 1.1014, 0.9483, 1.2216, 1.3529, 1.0004, 0.4865, 0.5459, 0.5625, 0.9856, 0.217, 0.3735, 1.0098, 0.7058, -0.2721, 0.1245, -0.0953, 2.3279, 2.3275, 2.3274, 2.3269, 2.3266, 2.3265, 2.3261, 2.3257, 2.3253, 2.3251, 2.3248, 2.3248, 2.3248, 2.3247, 2.3247, 2.3244, 2.324, 2.324, 2.3238, 2.3233, 2.3233, 2.3231, 2.3231, 2.3231, 2.3225, 2.3225, 2.3225, 2.3223, 2.3223, 2.3218, 2.3118, 2.3195, 2.3084, 2.3114, 2.3194, 2.2978, 2.3086, 2.3004, 2.3106, 2.2357, 2.2687, 2.2679, 2.2666, 2.2061, 2.0941, 2.273, 2.1463, 2.0033, 2.1201, 2.0455, 1.9508, 2.1349, 2.0907, 1.9471, 1.5621, 1.7356, 1.5347, 1.3135, 1.9613, 1.3632, 0.4929, 0.4997, 0.7855, 0.8521, 0.6311, 0.6993, 0.541, 0.6318, 0.3676, 0.5448, 0.4144, 0.2631, 2.6678, 2.6677, 2.6676, 2.6676, 2.6676, 2.6676, 2.6676, 2.6673, 2.6673, 2.667, 2.6666, 2.6666, 2.6661, 2.6657, 2.6656, 2.6655, 2.6654, 2.6652, 2.6651, 2.6649, 2.6642, 2.6639, 2.6638, 2.6637, 2.6636, 2.6636, 2.6634, 2.6634, 2.6632, 2.663, 2.6542, 2.6357, 2.6184, 2.6047, 2.5774, 2.4561, 2.5893, 2.6275, 2.5203, 2.1182, 1.9469, 2.4393, 1.7017, 2.1404, 2.1117, 2.5105, 2.0405, 1.8425, 2.3074, 1.4974, 1.7423, 1.9592, 0.8578, 0.7946, 0.4649, 0.8453, 0.6753, 0.7591, 0.583, 0.502, 0.6749, 0.5369, 0.9997, 0.7027, -0.1179, 2.7918, 2.7917, 2.7917, 2.7916, 2.7916, 2.7916, 2.7915, 2.7915, 2.7915, 2.7914, 2.7914, 2.7913, 2.7913, 2.7913, 2.7913, 2.7912, 2.7911, 2.7909, 2.7909, 2.7909, 2.7907, 2.7906, 2.7906, 2.7906, 2.7906, 2.7904, 2.7903, 2.7901, 2.7901, 2.79, 2.7011, 2.4448, 2.7258, 2.5387, 2.1048, 0.3271, 2.8123, 2.8122, 2.812, 2.812, 2.8118, 2.8113, 2.8113, 2.8112, 2.8111, 2.8108, 2.8108, 2.8107, 2.8106, 2.8106, 2.8104, 2.8103, 2.8101, 2.81, 2.8099, 2.8096, 2.8095, 2.8094, 2.8093, 2.809, 2.8089, 2.8089, 2.8087, 2.8085, 2.8084, 2.8084, 2.7894, 2.7753, 2.7199, 2.767, 2.6672, 2.7882, 2.6913, 2.3366, 2.6229, 2.4996, 2.3526, 2.5581, 2.2816, 1.7451, 2.0396, 1.4712, 1.4174, 1.834, 2.3011, 0.5811, 1.4895, 0.2937, 0.0078, 0.4148, 0.5516, -0.3546, 0.8145, -0.0772, 0.3955, -0.2246, 2.9085, 2.9082, 2.9082, 2.908, 2.9075, 2.9075, 2.9071, 2.907, 2.9069, 2.9067, 2.9063, 2.9062, 2.9062, 2.9061, 2.9056, 2.9053, 2.9051, 2.9051, 2.9047, 2.9044, 2.9044, 2.9043, 2.9042, 2.9041, 2.9041, 2.9037, 2.9033, 2.9033, 2.9029, 2.9023, 2.8945, 2.8968, 2.878, 2.8821, 2.8799, 2.808, 2.85, 2.7047, 2.7463, 2.8034, 2.5316, 2.3338, 2.0243, 2.1518, 1.8823, 2.4001, 1.84, 2.3473, 2.1703, 1.4413, 2.0833, 1.4968, 0.5898, 1.6024, 0.0972, 0.7196, 1.1615, 1.241, 3.0492, 3.049, 3.0487, 3.0484, 3.0484, 3.0483, 3.0479, 3.0473, 3.0471, 3.0471, 3.0471, 3.0469, 3.0456, 3.0456, 3.0451, 3.0449, 3.0435, 3.043, 3.0428, 3.0427, 3.0426, 3.0421, 3.0418, 3.0406, 3.0404, 3.0396, 3.0396, 3.0395, 3.0391, 3.0389, 3.0054, 2.8504, 2.7768, 2.8019, 2.7909, 1.9013, 2.1851, 2.133, 1.9934, 2.3529, 2.1607, 1.916, 2.2024, 2.0455, 1.5364, 1.7531, 2.3415, 0.702, 1.8938, 1.2631, 0.6551, 0.5448, 0.7175, 1.3359, 0.5118, 1.3878, 1.1852, 0.548, 0.5778, 0.039, 3.4184, 3.4184, 3.4173, 3.417, 3.4167, 3.4163, 3.4163, 3.4162, 3.4162, 3.4161, 3.416, 3.4159, 3.4158, 3.4157, 3.4155, 3.4155, 3.4155, 3.4154, 3.4153, 3.4145, 3.4144, 3.4142, 3.4141, 3.4139, 3.4138, 3.4137, 3.4137, 3.4136, 3.4136, 3.4134, 3.4115, 3.4072, 3.3466, 3.2186, 3.2377, 3.1596, 3.3352, 3.1363, 2.7343, 2.7175, 2.8838, 2.9847, 1.8258, 2.5383, 2.7791, 1.3953, 2.6722, 1.5538, 1.4774, 2.3257, 1.7001, 2.2952, 2.0297, 0.7115, 2.0222, 1.6839]}, \"token.table\": {\"Topic\": [1, 1, 2, 3, 4, 5, 7, 8, 9, 1, 3, 4, 5, 7, 9, 1, 2, 4, 6, 1, 7, 1, 7, 1, 8, 10, 1, 3, 4, 5, 8, 9, 1, 1, 3, 4, 8, 9, 10, 1, 2, 3, 4, 5, 7, 8, 9, 10, 5, 1, 2, 4, 5, 6, 7, 8, 10, 1, 2, 3, 4, 5, 7, 8, 10, 4, 5, 1, 2, 4, 7, 8, 2, 6, 7, 8, 3, 3, 3, 1, 2, 4, 5, 6, 8, 1, 2, 3, 4, 5, 7, 8, 9, 1, 2, 3, 4, 5, 7, 8, 9, 4, 7, 9, 8, 8, 6, 8, 2, 4, 5, 6, 7, 8, 4, 6, 7, 3, 9, 10, 1, 2, 3, 5, 6, 7, 9, 6, 1, 6, 9, 10, 1, 2, 4, 5, 7, 8, 9, 6, 1, 2, 3, 4, 5, 7, 8, 9, 1, 2, 3, 4, 5, 7, 8, 9, 4, 1, 2, 3, 4, 5, 7, 8, 9, 1, 2, 3, 4, 5, 7, 8, 9, 1, 10, 10, 1, 4, 9, 9, 9, 1, 4, 3, 5, 6, 6, 6, 6, 1, 3, 4, 8, 9, 1, 4, 1, 4, 5, 6, 7, 10, 1, 3, 4, 5, 6, 7, 5, 7, 2, 2, 7, 9, 1, 2, 4, 6, 7, 8, 8, 7, 2, 3, 4, 5, 10, 4, 2, 3, 5, 1, 1, 10, 4, 1, 2, 3, 5, 7, 1, 2, 3, 4, 5, 7, 8, 9, 10, 5, 1, 2, 4, 8, 9, 10, 2, 4, 6, 7, 8, 9, 10, 6, 8, 2, 3, 2, 5, 6, 1, 2, 4, 5, 7, 8, 9, 2, 4, 8, 7, 10, 1, 2, 3, 4, 5, 7, 1, 2, 3, 4, 7, 6, 3, 3, 8, 10, 6, 2, 4, 5, 7, 8, 9, 2, 4, 5, 8, 9, 1, 4, 5, 7, 8, 2, 2, 4, 5, 7, 8, 9, 5, 9, 10, 10, 10, 2, 3, 6, 4, 4, 1, 2, 4, 7, 8, 9, 10, 1, 2, 3, 4, 5, 7, 8, 9, 10, 3, 10, 4, 7, 8, 2, 4, 7, 8, 9, 10, 2, 5, 3, 4, 8, 10, 1, 2, 3, 4, 5, 6, 7, 2, 10, 1, 2, 4, 5, 7, 9, 1, 2, 7, 1, 3, 8, 6, 9, 1, 2, 3, 4, 5, 7, 9, 1, 3, 4, 10, 7, 7, 7, 6, 2, 4, 5, 7, 8, 9, 10, 1, 5, 6, 9, 1, 3, 8, 3, 4, 1, 3, 4, 10, 10, 2, 7, 1, 2, 4, 5, 7, 8, 9, 1, 2, 8, 9, 6, 9, 6, 1, 3, 4, 6, 8, 9, 10, 9, 1, 2, 3, 4, 5, 9, 5, 8, 5, 7, 8, 1, 2, 3, 4, 7, 8, 1, 2, 3, 4, 5, 7, 9, 1, 2, 3, 4, 5, 7, 8, 9, 1, 2, 3, 1, 2, 3, 4, 5, 6, 7, 8, 2, 3, 7, 7, 1, 3, 4, 5, 1, 2, 3, 4, 5, 7, 8, 10, 2, 2, 7, 1, 2, 3, 4, 5, 7, 8, 10, 1, 8, 3, 2, 7, 10, 6, 7, 8, 8, 5, 8, 2, 9, 2, 4, 5, 10, 3, 3, 7, 10, 1, 8, 1, 2, 3, 10, 2, 10, 8, 8, 10, 3, 8, 4, 5, 7, 5, 7, 1, 2, 3, 4, 5, 9, 2, 1, 2, 3, 4, 5, 7, 8, 9, 3, 1, 2, 3, 7, 9, 7, 4, 5, 6, 7, 5, 5, 6, 1, 2, 3, 4, 5, 7, 8, 9, 4, 1, 2, 3, 4, 5, 6, 7, 8, 10, 2, 5, 1, 7, 2, 6, 2, 9, 4, 9, 10, 1, 2, 3, 4, 5, 7, 8, 9, 10, 2, 3, 5, 8, 9, 3, 5, 3, 3, 9, 1, 2, 3, 4, 5, 6, 3, 1, 7, 8, 1, 2, 3, 4, 5, 7, 8, 9, 10, 1, 2, 4, 8, 9, 1, 2, 3, 4, 6, 7, 8, 9, 1, 3, 10, 3, 8, 6, 1, 2, 3, 4, 5, 7, 9, 1, 6, 4, 2, 4, 8, 10, 10, 8, 4, 10, 2, 4, 10, 1, 2, 4, 5, 7, 8, 10, 4, 7, 8, 10, 4, 1, 5, 8, 1, 2, 3, 5, 7, 9, 2, 7, 1, 2, 3, 4, 2, 3, 1, 2, 3, 4, 5, 7, 10, 1, 2, 10, 1, 3, 5, 9, 7, 5, 3, 10, 2, 6, 7, 1, 2, 3, 4, 5, 7, 8, 9, 1, 2, 3, 4, 5, 7, 9, 1, 4, 5, 7, 8, 6, 5, 1, 3, 4, 5, 7, 8, 9, 1, 2, 3, 4, 5, 7, 9, 4, 9, 4, 8, 4, 4, 9, 5, 1, 3, 4, 9, 1, 4, 9, 5, 4, 4, 4, 1, 3, 4, 9, 1, 2, 3, 4, 5, 7, 8, 1, 4, 6, 1, 3, 4, 5, 7, 1, 3, 4, 5, 9, 1, 2, 3, 4, 5, 7, 8, 9, 7, 9, 8, 10, 1, 9, 1, 9, 9, 5, 4, 10, 4, 10, 6, 1, 2, 3, 4, 5, 7, 8, 2, 5, 7, 1, 2, 3, 7, 9, 4, 2, 4, 6, 7, 6, 7, 1, 3, 4, 8, 1, 2, 3, 5, 8, 9, 1, 3, 4, 8, 9, 1, 2, 3, 4, 5, 7, 8, 9, 1, 6, 1, 4, 8, 9, 1, 1, 5, 8, 8, 8, 8, 8, 4, 5, 6, 7, 3, 6, 9, 3, 5, 1, 2, 3, 4, 5, 7, 8, 10, 8, 1, 2, 3, 4, 5, 6, 7, 8, 9, 1, 1, 7, 9, 10, 10, 10, 7, 4, 6, 10, 7, 10, 7, 4, 10, 7, 6, 6, 4, 1, 2, 3, 4, 5, 7, 8, 9, 1, 5, 1, 1, 2, 3, 4, 5, 7, 8, 1, 2, 3, 4, 5, 7, 8, 9, 1, 2, 3, 4, 5, 7, 8, 2, 3, 7, 8, 2, 4, 8, 2, 9, 1, 2, 3, 4, 5, 8, 10, 1, 2, 3, 4, 5, 6, 7, 8, 1, 2, 3, 4, 5, 7, 8, 9, 1, 2, 3, 4, 5, 7, 8, 10, 3, 1, 3, 1, 2, 3, 8, 9, 6, 2, 3, 1, 2, 3, 6, 2, 3, 6, 6, 4, 5, 9, 2, 3, 3, 2, 3, 4, 5, 9, 5, 10, 1, 3, 1, 3, 4, 5, 6, 8, 3, 4, 3, 4, 5, 6, 8, 8, 1, 3, 4, 5, 8, 1, 3, 4, 5, 8, 1, 2, 3, 4, 5, 7, 8, 9, 1, 2, 7, 5, 2, 4, 1, 1, 2, 3, 4, 5, 7, 8, 9, 2, 3, 4, 5, 7, 1, 3, 1, 9, 7, 1, 1, 2, 3, 4, 8, 9, 4, 8, 1, 7, 1, 2, 4, 5, 7, 8, 1, 3, 4, 5, 6, 7, 9, 7, 4, 6, 8, 9, 1, 2, 3, 4, 5, 8, 4, 5, 2, 4, 8, 4, 10, 1, 3, 4, 5, 8, 9, 1, 2, 3, 4, 5, 7, 8, 9, 1, 7, 6, 2, 6, 7, 2, 6, 7, 1, 2, 3, 4, 5, 7, 8, 9, 10, 1, 2, 4, 9, 4, 5, 7, 9, 3, 1, 2, 3, 4, 5, 7, 8, 9, 10, 5, 5, 1, 3, 4, 3, 9, 9, 7, 2, 6, 1, 2, 3, 4, 6, 7, 8, 9, 4, 9, 1, 5, 2, 2, 10, 2, 7, 9, 10, 2, 9, 4, 4, 7, 2, 8, 1, 2, 3, 4, 5, 6, 8, 10, 3, 6, 8, 2, 1, 2, 3, 4, 5, 7, 8, 9, 10, 1, 5, 5, 6, 1, 2, 1, 2, 1, 2, 1, 4, 7, 6, 2, 5, 3, 4, 1, 4, 8, 8, 8, 10, 6, 2, 3, 4, 5, 8, 9, 1, 2, 3, 4, 5, 7, 9, 9, 8, 10, 2, 4, 8, 10, 1, 4, 9, 1, 3, 4, 7, 8, 9, 1, 2, 3, 4, 5, 7, 9, 1, 2, 3, 4, 5, 7, 9, 10, 4, 5, 9, 2, 7, 9, 10, 2, 7, 9, 9, 5, 8, 2, 1, 2, 3, 4, 5, 7, 8, 9, 9, 4, 6, 10, 2, 4, 8, 1, 2, 2, 4, 7, 1, 2, 3, 7, 2, 3, 7, 2, 3, 4, 5, 1, 3, 4, 5, 7, 8, 9, 1, 2, 4, 5, 7, 8, 9, 1, 2, 4, 8, 9, 2, 2, 6, 1, 4, 9, 9, 9, 9, 9, 9, 8, 3, 5, 8, 8, 8, 8, 2, 7, 7, 7, 1, 2, 3, 4, 5, 7, 8, 9, 10, 8, 6, 6, 4, 1, 1, 4, 1, 2, 3, 4, 5, 7, 8, 9, 10, 1, 2, 3, 4, 5, 7, 8, 9, 10, 2, 7, 2, 7, 1, 2, 3, 4, 5, 7, 8, 9, 3, 1, 2, 10, 10, 10, 10, 2, 5, 5, 5, 1, 2, 4, 6, 7, 1, 2, 3, 4, 5, 7, 8, 10, 9, 1, 3, 4, 9, 10, 4, 6, 4, 1, 3, 4, 7, 8, 9, 10, 1, 2, 3, 4, 5, 7, 8, 9, 10, 2, 4, 2, 2, 9], \"Freq\": [0.99841600470033, 0.5459111731626, 0.002364275327685578, 0.02364275327685578, 0.1104116578029165, 0.2068740911724881, 0.03617341251358935, 0.05839760059383378, 0.01631349976103049, 0.2879678993441755, 0.0333097197002591, 0.08166253861999007, 0.4921242458941506, 0.0037607748048679632, 0.101540919731435, 0.8731895072427079, 0.06600071861244958, 0.021120229955983866, 0.03894042398134525, 0.9972326480161405, 0.9984995212846864, 0.9989761640098382, 0.9944424482417266, 0.3216177440054548, 0.09211381988505744, 0.5854691941846871, 0.4356911116564789, 0.03817344196484735, 0.2176620296649469, 0.034135866372411575, 0.27088461701978217, 0.003303470939265636, 0.9985277705299364, 0.007611849532082014, 0.12233329605131808, 0.35666952093184295, 0.015223699064164029, 0.49857614435137193, 0.9945189189206487, 0.2774108654559779, 0.28008947582771904, 0.08839414226745894, 0.12601114879234596, 0.05485328196043895, 0.05578497252452284, 0.05392159139635506, 0.06253972911413103, 0.001164613205104861, 0.9959802377002493, 0.005217658572361915, 0.11583202030643451, 0.02400122943286481, 0.013565912288140978, 0.776387595567453, 0.029218888005226724, 0.004174126857889531, 0.03130595143417149, 0.10564799989058622, 0.24941331792351462, 0.02055934088779874, 0.12065481805686268, 0.038567522687330484, 0.3438062041893935, 0.0997953408057384, 0.02160981815943809, 0.9979989382875296, 0.9974600522311741, 0.027286722282488952, 0.4056438508386502, 0.14881109368491396, 0.17440997747570255, 0.2436113556354168, 0.6121714637902107, 0.028747896455720064, 0.000705469851674112, 0.3582023171875304, 0.9994899572722787, 0.9996701236502996, 0.9990474463402571, 0.10511573836536355, 0.7104810749755296, 0.06838855267144135, 0.0006332273395503828, 0.07535405340649556, 0.03926009505212374, 0.3806134344800999, 0.026056888980741884, 0.17042119670211534, 0.14747284886293566, 0.12425021798185341, 0.046170978720261935, 0.05165663955831286, 0.0534851931709965, 0.510614927855369, 0.07217552777702473, 0.1538308263665542, 0.08811877868896452, 0.09393591077845607, 0.05278508747871958, 0.0040935373963088655, 0.02434577504120536, 0.8845474064806101, 0.09885295212118575, 0.01632006285019576, 0.9982495568600033, 0.9951202701749305, 0.027677562235746227, 0.9721743735305863, 0.16773066277211157, 0.07482595435043302, 0.03465094530322066, 0.5031919883163347, 0.19434660626588976, 0.025611568267597876, 0.08612116050684546, 0.048488384487047446, 0.8648301412242044, 0.9969247112782916, 0.9983017910081535, 0.9945886981815758, 0.10633467894772317, 0.022432247339656666, 0.7670663278612468, 0.03612465805347308, 0.0029132788752800867, 0.058848233280657754, 0.006409213525616191, 0.9987801321048962, 0.9722150812405974, 0.024005310647915987, 0.0034293300925594267, 0.9957998717183278, 0.06037870910943776, 0.5631288474601998, 0.03968439348725143, 0.052587907934026436, 0.0693868229685071, 0.024833178746623594, 0.18990077865065103, 0.9988599233997045, 0.23443157457392125, 0.5152679052726523, 0.007223381849616621, 0.17029669936368882, 0.0037211361043479564, 0.02998797919386294, 0.0037211361043479564, 0.03546023817084523, 0.2112769983637158, 0.12089166784421397, 0.15108881931766213, 0.18324414784911547, 0.16149807631021593, 0.05977593124436837, 0.04998504595434252, 0.062146356104058845, 0.9941518333932554, 0.3154233673060509, 0.02827500304536313, 0.0072258341115928, 0.09802001055725884, 0.43794838050262447, 0.02639000284233892, 0.0009425001015121043, 0.08576750923760149, 0.6454440444853283, 0.029338365658424015, 0.14572196496456888, 0.02594384401199479, 0.06546577460970648, 0.023519185693116774, 0.002182192486990216, 0.062313718795165056, 0.22772270173071466, 0.7710863634552679, 0.9944683673224805, 0.057307415978641627, 0.9416811193527408, 0.9990350268103617, 0.9894844960688175, 0.9984198655504954, 0.9976101587827234, 0.9954826200796422, 0.9962642194129102, 0.995902426115055, 0.999096438742297, 0.9984210517023896, 0.9990786522989183, 0.9992939312857992, 0.0015102786912626304, 0.0015102786912626304, 0.9907428214682854, 0.004530836073787891, 0.0015102786912626304, 0.9961134806827516, 0.9943513219067416, 0.10413180306837355, 0.14652174060063183, 0.26263330862377404, 0.02211648914726518, 0.0506836209624827, 0.4146841715112221, 0.3815593824146423, 0.00036047178310311036, 0.02144807109463507, 0.31000573346867494, 0.02505278892566617, 0.26152227864130656, 0.998732908158984, 0.9974205011284812, 0.9960408371360822, 0.8044284396500353, 0.19341990842386794, 0.0019837939325524916, 0.03125350588012038, 0.8594714117033105, 0.05938166117222873, 0.012501402352048153, 0.03437885646813242, 0.003125350588012038, 0.9979255692998655, 0.9981326156460899, 0.9968239352421169, 0.9971092825095318, 0.0355446919174098, 0.9597066817700645, 0.995309307858797, 0.9958003314047865, 0.07685290428579637, 0.9030216253581074, 0.019213226071449093, 0.9975704595909325, 0.9981041744307322, 0.9968761901287095, 0.9925717664941768, 0.15763329494434303, 0.3018152153867688, 0.07440291521372991, 0.004623909985034063, 0.4615502875970364, 0.11780868042322663, 0.13232982989885297, 0.4941875063479288, 0.17097482447108436, 0.028339662686303026, 0.051526659429641866, 0.003044757148115201, 0.0014052725298993236, 0.0007026362649496618, 0.9994875514849884, 0.044649188803846086, 0.4160691564515265, 0.38083131626809896, 0.02932838872409498, 0.12825698352477355, 0.0006566057177036189, 0.5619442698130351, 0.167352504871558, 0.08499789117119111, 0.025358943235719796, 0.09837948336723869, 0.057078272885610355, 0.00470833799490563, 0.05463736781781231, 0.9435453134691433, 0.997241489256026, 0.9959702374775331, 0.9966431165069439, 0.9981801583967526, 0.9996785118265163, 0.5522000279362447, 0.279814843311029, 0.033567091040941015, 0.010155648563342027, 0.042119216146913246, 0.00037415547338628523, 0.08172624554394715, 0.9094216229934421, 0.0658822705892338, 0.024013164046543158, 0.06753857482600552, 0.9302894016356243, 0.33586371927833397, 0.053013284989469764, 0.2577834496932044, 0.006774860701529682, 0.09874359472479512, 0.24779053015844812, 0.6821469833261229, 0.0009141610604745683, 0.23640205023872338, 0.0029253153935186187, 0.0775208579282434, 0.9999564323943143, 0.9924722742121966, 0.03006738570772035, 0.9694307101569836, 0.9930130286998293, 0.9998141247044675, 0.5237513747898339, 0.09043620079275577, 0.21710677342631765, 0.0023956609481524706, 0.06288609988900236, 0.1033128783890753, 0.2629608461716185, 0.11492117584578292, 0.39609719398143045, 0.005961329006409488, 0.21990680334755003, 0.09336833239299273, 0.057023612401089524, 0.2255879171911234, 0.6213067219305524, 0.0028198489648890426, 0.9962190513314152, 0.8429492713754254, 0.036701442995278354, 0.03906927802723179, 0.00039463917199224034, 0.0007892783439844807, 0.0801117519144248, 0.9931562051168149, 0.005676244129805592, 0.9933427227159787, 0.9925474011921414, 0.995800022132051, 0.8627423320978106, 0.06338688731882336, 0.07359685574601639, 0.9987720610569913, 0.9993147639435425, 0.07225824933191935, 0.23855120669852828, 0.07819728352358396, 0.05939034191664604, 0.04256307837359633, 0.004949195159720504, 0.5038280672595473, 0.2957032789953474, 0.2023828635295227, 0.07819571747963257, 0.19610662831076273, 0.07490326621733225, 0.0909539661210463, 0.01903448386017372, 0.04053830616707267, 0.002263560242831469, 0.07553129379167943, 0.9197045773457436, 0.9984111397235315, 0.013693708626289396, 0.9859470210928365, 0.7497596587726042, 0.06590514958965235, 0.040393478780754666, 0.08999950535361127, 0.04110213630322405, 0.012047177881979463, 0.9959966105779663, 0.9929270139132323, 0.9973511250292131, 0.9404145660843565, 0.0364619540969702, 0.022788721310606375, 0.07088693139628177, 0.1467194626574204, 0.6663371551250485, 0.013517972963942105, 0.04945599864856867, 0.023738879351312962, 0.02934389253148408, 0.9924438580514363, 0.006774360805811852, 0.6106758614349204, 0.29218134976617355, 0.037469942549264335, 0.013472338894117513, 0.004841621790073481, 0.041259037863234885, 0.7134679169894025, 0.2843924713474868, 0.0018085371786803613, 0.9767200326695679, 0.008819142507174428, 0.014331106574158444, 0.9992821250253442, 0.9912635258031481, 0.7181096765260995, 0.041058300544659775, 0.17572952633114383, 0.015602154206970713, 0.007801077103485357, 0.017244486228757103, 0.023813814315902668, 0.08472530623173556, 0.08090572275407534, 0.8333636678531366, 0.0006944697232109472, 0.9996086655692364, 0.9983721300231679, 0.9986821498076133, 0.9996289278650283, 0.03051210442366626, 0.46470859646468676, 0.002034140294911084, 0.06879092633699302, 0.10651498271534403, 0.321948932130927, 0.005362733504765585, 0.06585017680762384, 0.6966255546490733, 0.22758745317722626, 0.009242130078262994, 0.08954455079766732, 0.7849139530858026, 0.12312375734679257, 0.5928029641173759, 0.40710053019673553, 0.0003649561211173751, 0.4467062922476671, 0.5525435673717058, 0.994147083230465, 0.995359959458559, 0.9983862102838545, 0.0015196137142828837, 0.2434524182248004, 0.007951963409352777, 0.004893515944217094, 0.08685990800985341, 0.0012233789860542734, 0.4379696770074299, 0.21776145951766065, 0.1556147182122343, 0.06210938314611105, 0.4777644857393158, 0.3037217087914222, 0.9995106074100204, 0.9897646833874891, 0.999041645595143, 0.10304915645310773, 0.0008837835030283683, 0.0017675670060567365, 0.7068500457220889, 0.046840525660503514, 0.008837835030283682, 0.1320372553524382, 0.9921311281620288, 0.20301005532712788, 0.43199770067241905, 0.006597483179216072, 0.07545871386228382, 0.06253864263631902, 0.22032844867257007, 0.0015885550094329617, 0.9976125459238999, 0.03892387573341386, 0.3596227649282802, 0.6016277314447229, 0.38481346033804237, 0.19567143111879656, 0.3220469517552637, 0.049707704783677066, 0.010320667518644813, 0.03770203032321269, 0.4037477963893599, 0.014831551704098936, 0.4538454821454274, 0.021423352461476242, 0.03592531412770631, 0.03361818386262425, 0.03658449420344404, 0.5230394588377975, 0.010445428252854692, 0.23763349275244425, 0.06190452332206531, 0.04116727605536849, 0.03794148203610454, 0.017357844008420296, 0.07066024994578174, 0.03601454108282687, 0.012004847027608956, 0.9513841269380098, 0.0026858847122184326, 0.05640357895658708, 0.49395861571071714, 0.10401698976409565, 0.15919971203331074, 0.06128700570607514, 0.01001102483645052, 0.11231881523822536, 0.038078737115934735, 0.9086971357211698, 0.051925550612638274, 0.9969617297534665, 0.19533502011135262, 0.05188586471707805, 0.16306986053938813, 0.5899292013630806, 0.061804241737361244, 0.03427059849891595, 0.026801365492741962, 0.1611011040547331, 0.5767419525159445, 0.10427635098815452, 0.033977687400634615, 0.0010251888439846652, 0.9986265276246209, 0.9964947090703583, 0.9978834286515083, 0.6378645368747364, 0.05199766915406999, 0.0650963186356296, 0.0027785014051793125, 0.012701720709391143, 0.03453280317865717, 0.01587715088673893, 0.17901487624798143, 0.9955951383868444, 0.9979249589730144, 0.997222121408724, 0.9962610277162128, 0.9961898168199868, 0.9938555553094411, 0.020872810896968703, 0.9775433103413677, 0.9979308382262713, 0.9966101773621456, 0.011292560034173185, 0.9880990029901537, 0.9532931237082265, 0.04486085288038713, 0.028299324240939686, 0.391722225019323, 0.05213033412804679, 0.5272610937522447, 0.9939002581246466, 0.9916570238431616, 0.011461639273918023, 0.9876112507692696, 0.960811087628074, 0.037907569466358, 0.3930458262901296, 0.1238259284890789, 0.48287037277605976, 0.9970128279262668, 0.9951675120679709, 0.997128557995395, 0.999722623075128, 0.8496882872789042, 0.14853162862458993, 0.9269232290247097, 0.07286508805702263, 0.9928241900896069, 0.9971471316110786, 0.9959056877870517, 0.17122017508946635, 0.8265801556043204, 0.07528467212248975, 0.01121261074164741, 0.8513575155979426, 0.02082341994877376, 0.040845939130286994, 0.9949424502312224, 0.9976463653371419, 0.5918880254884371, 0.13831236644140543, 0.17045417718427838, 0.028551502096062678, 0.000512901235258611, 0.06240298362313101, 0.007009650215201017, 0.000683868313678148, 0.9948391062802707, 0.27361888928782324, 0.617810256182453, 0.05877025438928597, 0.0002408616983167458, 0.049617509853249635, 0.9964231525757303, 0.22614370112920634, 0.533785490254857, 0.051813353958004314, 0.1883631305348282, 0.9987843044880149, 0.9854150598557344, 0.013388791574126827, 0.5755868681914805, 0.03762528901947091, 0.1259513221077324, 0.05016705202596121, 0.05310235826152277, 0.005603766449708433, 0.008272226663855306, 0.14383000554251646, 0.9960633894369599, 0.01634942510832839, 0.1879390226044739, 0.4529425684137384, 0.1267477276601963, 0.05904840912910835, 0.020714562879969464, 0.08055663342210347, 0.05039749972712877, 0.005317531467271854, 0.9973116554662899, 0.9966416168946731, 0.9969694158025076, 0.9947044439515744, 0.935416047132171, 0.06396007159878092, 0.9975072402578433, 0.9916416535046996, 0.22446677067451754, 0.7722725800587568, 0.9938466028337434, 0.5501965306871494, 0.04293441135419952, 0.004770490150466614, 0.04876501042699204, 0.03657375782024404, 0.08056827809676947, 0.027032777519310807, 0.03392348551442925, 0.1765081355672647, 0.011218805096902963, 0.9872548485274608, 0.9937764473679999, 0.995990344981898, 0.997760404056557, 0.9968728822819773, 0.993826923123786, 0.9971675124022243, 0.9946922596805385, 0.9887643391855125, 0.14558425976180936, 0.11500491752873525, 0.6799250268693087, 0.05929733319978719, 0.00013295366188293092, 0.9997550214478139, 0.9927749353575878, 0.825967971816699, 0.1299443282966597, 0.04406158258335013, 0.3641981424497043, 0.333886111655236, 4.5377291608485456e-05, 0.15950118000382638, 0.01987525372451663, 0.011571209360163792, 0.004900747493716429, 0.09565533071068735, 0.01039139977834317, 0.0020923786681451653, 0.02421181030282263, 0.7909191365588725, 0.014945561915322609, 0.16753974907076644, 0.5271991666219136, 0.2893075285384564, 0.02719826089286197, 0.13338325204992582, 0.0065201310359600615, 0.01099107803204696, 0.0022354734980434498, 0.002794341872554312, 0.3129380616344135, 0.6862527601602492, 0.9934235546356567, 0.9942626006927626, 0.9959744594301589, 0.9998231305280407, 0.7419005886321404, 0.03119508873590353, 0.05299289918801003, 0.008234728393018012, 0.11867696801702429, 0.04698639141898513, 0.9871678404319034, 0.9978215577877901, 0.9997010051467943, 0.9904403487959341, 0.013999495975861554, 0.6854568029662583, 0.14569845811915172, 0.15477220551091384, 0.9968443873439704, 0.9918374917788039, 0.9831901356963293, 0.015978712210402507, 0.011843147008266185, 0.9829812016860934, 0.003947715669422062, 0.010309885895211287, 0.45780280560225434, 0.1364414686557749, 0.014697071382535237, 0.0032903891154929636, 0.17417126384676088, 0.20312668806309894, 0.13028900711574343, 0.23398842094255962, 0.16086703939800973, 0.47329476054290465, 0.9978991991985859, 0.9987204219268907, 0.9962032783790961, 0.9954663733943911, 0.048769909302371114, 0.04660235777782129, 0.02248834706720446, 0.07166467228042867, 0.048769909302371114, 0.7614879449684112, 0.9986606279469542, 0.9956667826709672, 0.11122729858757997, 0.009931008802462497, 0.7170188355377923, 0.16088234259989245, 0.9975799502405687, 0.9915073252586822, 0.37735682259550735, 0.131555589528709, 0.004327486497654901, 0.13242108682823997, 0.015578951391557643, 0.003461989198123921, 0.3349474549184893, 0.13830615779330585, 0.36471846055123613, 0.49585318794044464, 0.111500839618226, 0.8415510297442644, 0.0379974928307921, 0.008097826340988481, 0.999531454494341, 0.998754647598921, 0.9966878029693652, 0.9929314153693769, 0.05688999975087563, 0.05688999975087563, 0.885858567549349, 0.4971215838841795, 0.0009190826324892389, 0.20587450967758952, 0.21373777219999746, 0.005003894332441412, 0.007659021937410325, 0.02573431370969869, 0.04411596635948347, 0.5741510503495384, 0.040412661121622555, 0.1739079380999553, 0.12148070205028282, 0.0127427309842954, 0.06638356046104366, 0.011043700186389347, 0.008409393026900008, 0.08514510439736257, 0.19656956200378767, 0.5991692531666255, 0.10932210934970009, 0.9988967060637246, 0.9958040060257697, 0.5752039294694754, 0.28628546950998374, 0.010364787801237367, 0.1104184248825368, 0.0026329904495078797, 0.00016717399679415108, 0.014920279213877985, 0.8437311807183967, 0.00037389961161235605, 0.07317749541556112, 0.0029911968928988484, 0.06164002168580841, 0.011644302190213375, 0.00640970762764039, 0.5063694808655637, 0.49310215822279785, 0.9700196647118515, 0.029966282548306626, 0.9977017159339531, 0.9986198641450283, 0.9942235127834274, 0.9959777512025695, 0.997427409490694, 0.994626724372909, 0.9961289421891192, 0.9997146457405802, 0.0018809786866448904, 0.6827952632520952, 0.31506393001301913, 0.9989112330633729, 0.9962321860724217, 0.9946586675520903, 0.9959820371878334, 0.06211086214700225, 0.12594702602031013, 0.8120420125145109, 0.9964080691150069, 0.4516136219224981, 0.36909988946732275, 0.12963695961489086, 0.022311405512355102, 0.007885927810401372, 0.0017310573242344477, 0.01769525264772991, 0.0016374199596837025, 0.9808145558505379, 0.016374199596837027, 0.15258551502568984, 0.5622853739480791, 0.033883285629797595, 0.21459414232205146, 0.036540798228213094, 0.4956369819201914, 0.3027328156614805, 0.0012907213070838318, 0.11593024103625689, 0.084483576463669, 0.40088781206588475, 0.3187676214885119, 0.11630540047978155, 0.07392078598823426, 0.0005045787439469916, 0.02434592439544234, 0.06509065796916191, 0.0001261446859867479, 0.9114184513837704, 0.08800187223243114, 0.99698029876492, 0.9981529328574682, 0.99777767407453, 0.9986931293365444, 0.9436182269379727, 0.05637199797291785, 0.9872642288831841, 0.9966594311826882, 0.1809993144622079, 0.8173547989924967, 0.3513545553949532, 0.6474398548850823, 0.9996557020860549, 0.44199829089305637, 0.042074205181689056, 0.4130722748306451, 0.02848774309176863, 0.00920373238349448, 0.051935347021147424, 0.01314818911927783, 0.1438059133442416, 0.8546179993029214, 0.9969640640262895, 0.019817012994064874, 0.37342683860690995, 0.003715689936387164, 0.5876982916052365, 0.014862759745548655, 0.995890300763223, 0.9981747933012579, 0.994298661382584, 0.035916574769761435, 0.9632172324617839, 0.04194042162853028, 0.9553096037609676, 0.9983820318307128, 0.9920691160809472, 0.9919496099709696, 0.0038899984704743903, 0.3047774072946725, 0.03278666048169962, 0.1269905863727802, 0.0013853518513394206, 0.10528674070179596, 0.4285355060143274, 0.15417512788793172, 0.2631989683229692, 0.19492141168688512, 0.021290850994047716, 0.3663494705527521, 0.11269007304644826, 0.26198928071717015, 0.08934830901533246, 0.16058473037444534, 0.16355750220859688, 0.060501411958010086, 0.06011605264617563, 0.09127510557450476, 0.08645603147695358, 0.9132776023478192, 0.0051778775716059, 0.14368610261206372, 0.0310672654296354, 0.8198306155042675, 0.9976505524349788, 0.9749406046950775, 0.024093854308439692, 0.9980963628073927, 0.9962018680977248, 0.9996209387967633, 0.9980644290831997, 0.9996036004492072, 0.006665071791056004, 0.924223288359766, 0.046655502537392035, 0.022216905970186683, 0.9656762910397457, 0.02944135033657761, 0.9952132309884686, 0.995438224251162, 0.9964303183559156, 0.03582726082489376, 0.14330904329957503, 0.21935057647894138, 0.013161034588736482, 0.005849348706105103, 0.033633755060104346, 0.3012414583644128, 0.2471349828329406, 0.9971952683653338, 0.7294815981066833, 0.002099096303822559, 0.11079577881915595, 0.035410841994919694, 0.07237318995353433, 0.005202108231212429, 0.0036506022675174945, 0.0007301204535034989, 0.04024788999938037, 0.9958916695942961, 0.9975344050411826, 0.9961948680973398, 0.2439894139736736, 0.75370987286917, 0.995051541101617, 0.9923371220483946, 0.9986046671182003, 0.03607031052091533, 0.936385261122962, 0.02597062357505904, 0.9990796829508009, 0.997315346659521, 0.9986124025324912, 0.9722929872219537, 0.02710634994679386, 0.997782885065458, 0.9994178254025108, 0.9993115314545616, 0.9959131958299533, 0.11433287987760506, 0.3650051895207613, 0.04186303455695495, 0.17491412928177855, 0.09485581848252632, 0.0733551662931537, 0.11205634023402443, 0.023650717408309898, 0.9486215644016712, 0.050183052041726635, 0.9959009806659112, 0.4963501765540732, 0.018035143639769186, 0.31427197108448857, 0.06005319105582718, 0.022639861164816637, 0.07904765084664792, 0.009401298280305214, 0.15325897454522144, 0.559440421817331, 0.14934469818159105, 0.03703507636358004, 0.011140632727255784, 0.0003010981818177239, 0.07136026909080057, 0.018366989090881157, 0.22369827013056062, 0.5451213818198645, 0.0010179670995702419, 0.18068916017371792, 0.02901206233775189, 0.018577899567156914, 0.001781442424247923, 0.024184029232356415, 0.20019001975672812, 0.7752324926149806, 0.9970689510292414, 0.9370966518859108, 0.04635972869560462, 0.016203400320793846, 0.9981757408738227, 0.9979868794248443, 0.1689407669349642, 0.09261727324353368, 0.0377329631732915, 0.16808319959011667, 0.000857567344847534, 0.20581616276340817, 0.32501802369721544, 0.5157851040834948, 0.011059308950125985, 0.38855038778109297, 0.016430973297330037, 0.014219111507304838, 0.010532675190596176, 0.02875420327032756, 0.014745745266834647, 0.42597998132272585, 0.004743311573636675, 0.35284117705826357, 0.08124833695487335, 0.0821663972594482, 0.026623748832670366, 0.0022951507614371006, 0.024175588020470793, 0.18733199191052918, 0.560341099477961, 0.07248357990884433, 0.05560384212185319, 0.01721071303771646, 0.08307478793205446, 0.023499242801497476, 0.0003309752507253166, 0.9967665550634448, 0.9991503747767111, 0.9992404570001457, 0.2778498879722641, 0.29664045749248036, 0.0035075729771070316, 0.0005010818538724331, 0.4214098391067162, 0.9991213880290984, 0.3054285245105933, 0.6941557375240757, 0.02694827058847035, 0.023339127206085927, 0.9270686301551451, 0.02261729852960904, 0.0696360205021108, 0.8928332628663492, 0.03730501098327364, 0.999458666704568, 0.056276441265629376, 0.9136645758419829, 0.02979341008180379, 0.19683318124082028, 0.8024055361393799, 0.9996865397087823, 0.9982259203564713, 0.7013097854377317, 0.03429387703851988, 0.2417718331215652, 0.022291020075037925, 0.9505483340568175, 0.046368211417405734, 0.9496763449081332, 0.047963451763037034, 0.00036810815247046206, 0.7207557625371647, 0.03644270709457574, 0.039755680466809905, 0.034234058179752974, 0.16822542567900117, 0.9106111111087533, 0.08672486772464316, 0.3803304707155675, 0.0814250597359594, 0.0002601439608177617, 0.06867800565588908, 0.46903956135442426, 0.9978642677070987, 0.1365941060826731, 0.4988770986398611, 0.10680639336130432, 0.06896794747199801, 0.18865551390200236, 0.38227114040722304, 0.39794787487187255, 0.16689692691596109, 0.017364998176227164, 0.035212357412905085, 0.0684573409164674, 0.7306856239659739, 0.013610213179238325, 0.03676788933495726, 0.0034533376723440523, 0.13569585677210746, 0.00040627502027577086, 0.010766288037307928, 0.05340343167553843, 0.8853102228878148, 0.06052388923227689, 0.998836451933481, 0.5475985031354321, 0.4521312284543873, 0.9956094069616453, 0.32652770753328925, 0.07719800883534379, 0.14571216157672137, 0.14070790552257134, 0.1535129136611317, 0.04776120851681423, 0.02943680031852957, 0.0790378088552519, 0.18700517716407036, 0.7604516886411763, 0.04702153298634139, 0.005404773906476022, 0.9993678312140313, 0.9967202028317437, 0.995384073647491, 0.9597290831110463, 0.0399887117962936, 0.9974707330470919, 0.9973295728487792, 0.004710312173854666, 0.08747722608587237, 0.022878659130151236, 0.17226284521525637, 0.6856868721654149, 0.02624316782576171, 0.9833265090796128, 0.01553789066265754, 0.9981042376090496, 0.9976827919641168, 0.14938972007752693, 0.19571944339270933, 0.02647412760867566, 0.0434932096428243, 0.01323706380433783, 0.5701392481439793, 0.14326223669488927, 0.03741556697186112, 0.00935389174296528, 0.5730489467795571, 0.013292372476845397, 0.030030915595835896, 0.19347786605186076, 0.9985883004922509, 0.6925786928252825, 0.08525294577567956, 0.07307395352201104, 0.1485837054947558, 0.021549388404986516, 0.0012593798418498612, 0.20024139485412795, 0.3624215322656823, 0.0015392420289276083, 0.41293665703321564, 0.060558349215712196, 0.938654412843539, 0.03250457657810794, 0.941047131663759, 0.02616222017262346, 0.9991409999787733, 0.9983374200183168, 0.21189197386837696, 0.3189853902639465, 0.08223244473231235, 0.0013386677049446198, 0.2304420834940381, 0.15509421553001237, 0.15146334828126928, 0.00021393128288314873, 0.2716927292615989, 0.03893549348473307, 0.013049808255872071, 0.0010696564144157437, 0.3433597090274537, 0.18034407147049436, 0.022840938114342634, 0.9771821857379663, 0.9978184781390641, 0.9514950451294357, 0.019618454538751252, 0.027465836354251753, 0.9199314187259786, 0.01012768534377224, 0.06751790229181494, 0.2984181475051497, 0.208152525150295, 0.019136311939229204, 0.1565205891633181, 0.18847461947693667, 0.022205343099294263, 0.07022665419207698, 0.03664784267607102, 0.00018053124470970947, 0.9056846546083196, 0.0534535486572839, 0.016136920349368724, 0.02319682300221754, 0.07818001398012295, 0.8086874461965098, 0.005791112146675774, 0.10713557471350181, 0.9920341776549838, 0.6075271051724945, 0.019640420669196728, 0.1907689805084003, 0.05916987492745343, 0.00878432316850149, 0.0438387448692197, 0.03754055089935071, 0.027015937291806468, 0.005718097156854744, 0.9989275458026585, 0.9973479143200438, 0.1664965639323712, 0.07975883302149518, 0.7532224793467451, 0.03703413593379714, 0.9575969434310403, 0.9986252561837106, 0.999647724336859, 0.999282170070719, 0.9990976953868125, 0.3293572801437828, 0.09003391151528735, 0.07795268377202194, 0.04055840742381954, 0.016108303657687194, 0.026175993443741687, 0.008054151828843597, 0.4113370398302265, 0.8234924089032795, 0.1750042899676391, 0.9975714239984975, 0.9975558807785626, 0.9991710701270491, 0.8511639101150965, 0.147252471998942, 0.4894904633191654, 0.10678275126519501, 0.40001819712235165, 0.0035455210381021784, 0.822551138118313, 0.1770455709696919, 0.9973703464153452, 0.9931555343283487, 0.9964771335963918, 0.9960109693253189, 0.9964318661143401, 0.005244909219977004, 0.06818381985970105, 0.3011194940410327, 0.005244909219977004, 0.008330149937610536, 0.046895658908029686, 0.5627479068963562, 0.0021596685023434724, 0.11817219607652237, 0.06595657455433807, 0.8155255624583259, 0.9982282269397397, 0.3046961788495987, 0.35767512609882285, 0.023127865296615615, 0.026086080625252497, 0.00833678865343121, 0.11375682581940005, 0.021783221965417033, 0.0013446433311985822, 0.14333897910576887, 0.9966941246766519, 0.9981764155880888, 0.997709757459793, 0.9989129863828033, 0.9089412393824542, 0.09042316992820269, 0.9149031839734156, 0.0844939999316625, 0.9139580110080314, 0.08516715818850919, 0.798165289580621, 0.09902424727340622, 0.10250751225287277, 0.9994029544462868, 0.9954621871538992, 0.9983094277912073, 0.9940949348666154, 0.9928992009221903, 0.9984901460621222, 0.09557072944834491, 0.9041403541336227, 0.9954108940902968, 0.997912905547051, 0.9959152068915411, 0.99878712081561, 0.26679572825111436, 0.0015737950262003936, 0.033574293892275064, 0.3803337979984285, 0.00044965572177154106, 0.31730705433011747, 0.1013102881602939, 0.35381067472306726, 0.036053023465206634, 0.02067556901230488, 0.14007698005836555, 0.00012922230632690548, 0.3478664486320296, 0.9891013574231118, 0.8994481336949681, 0.09915176276952405, 0.9955349454755346, 0.9469195312958201, 0.05150608329224126, 0.9962979230249893, 0.21093703792080043, 0.7884842044788591, 0.9939067642398047, 0.4415986866306946, 0.06296342564218291, 0.1578359176731644, 0.05726537807275459, 0.006552754704842565, 0.2735062833325593, 0.2456954489424135, 0.002802089960122101, 0.10661610579976775, 0.06157763546512227, 0.48599174893727465, 0.04797724760989549, 0.049275777103610606, 0.7525956003971942, 0.04814389816472901, 0.05126862232445902, 0.05138435284889347, 0.07719225979777465, 0.003587646257467787, 0.015739351323084485, 0.9950678022887667, 0.0018795257961992566, 0.9679557850426173, 0.030072412739188106, 0.9587064238776979, 0.007871152905399819, 0.022039228135119493, 0.009445383486479782, 0.9015991539815378, 0.018013969110520237, 0.07926146408628904, 0.9926067923949253, 0.9995017339057202, 0.9969999481739096, 0.997882608523956, 0.3474419436797608, 0.24914795568391493, 0.13285046815063545, 0.03762816727965975, 0.11459099468612936, 0.10733840008574143, 0.01066558029468814, 0.0003412985694300204, 0.9929238729863855, 0.9980410507661727, 0.9972253150335243, 0.9959347651019654, 0.936875632113313, 0.038601779942308, 0.023995701045218483, 0.007211483359747132, 0.9903770480719394, 0.927394425061967, 0.07152886113942054, 0.0008269232501667115, 0.023453731697790352, 0.05916736860124384, 0.2857090952276279, 0.6311185984132676, 0.12286295441057896, 0.14493989153122988, 0.7314185254754779, 0.09059863695727594, 0.020512898933722854, 0.025641123667153567, 0.8615417552163599, 0.7678061161164784, 0.032059844905075886, 0.01738839045699031, 0.07118372343330409, 0.030429683299733043, 0.010324356833837997, 0.07118372343330409, 0.7311911955409355, 0.00028307827934221275, 0.04755715092949174, 0.11719440764767608, 0.010190818056319658, 0.0042461741901331914, 0.08916965799279701, 0.9009207728275317, 0.005851491913516791, 0.010553583629735642, 0.0005224546351354279, 0.08202537771626217, 0.997752954284702, 0.9522749106133491, 0.046192439693931116, 0.8898832499086304, 0.040691449641984186, 0.0692723487952826, 0.9969169706087856, 0.9988080338201133, 0.9999069082082055, 0.9990928085988015, 0.9977240849236688, 0.9979021303464664, 0.013619666738945413, 0.012572000066718842, 0.9732823384984837, 0.9993530387029753, 0.9965579193507722, 0.9988919852815862, 0.9966904592612517, 0.9985563981293741, 0.9994362281578569, 0.9991607638151316, 0.2585957864215468, 0.09200712616615682, 0.20243559252791862, 0.16798270762154388, 0.148167320059785, 0.024196679283956826, 0.04351419278637503, 0.06054148561582613, 0.002389795484835242, 0.9918823869740075, 0.9997675141321409, 0.9997095670846761, 0.994309070100117, 0.9979482230338701, 0.791102010602668, 0.20807213125384577, 0.25798086276292526, 0.25051599228572435, 0.05933939413232562, 0.1419590622952438, 0.09236195675180747, 0.07781178548268712, 0.04554836223376807, 0.07047343823391337, 0.004048743309668272, 0.139655447921427, 0.2789640693993405, 0.0186130191352233, 0.22844301746087728, 0.13618718348629222, 0.06890285344467756, 0.043353305439184704, 0.08312273762873014, 0.0026590027336033284, 0.7333022368861853, 0.2664208629491015, 0.6237337423141734, 0.3758395626764891, 0.344608995956711, 0.0953679830080339, 0.04788217933237945, 0.1831255534069479, 0.13627395078205343, 0.05557186707284436, 0.03995466619787954, 0.09711203589762388, 0.9981544679137182, 0.9979345960311582, 0.16489825798541985, 0.8330574331990691, 0.9987718749034222, 0.9988903358992619, 0.9990612128388568, 0.20402658402387813, 0.7950001377482148, 0.9976922634728346, 0.9992838371389143, 0.9983853179114482, 0.8868329084369804, 0.04634510572125755, 0.05020719786469568, 0.016896653127541815, 0.29007533267935187, 0.07182153669705107, 0.03416752716655828, 0.022313487129180916, 0.1541025204859057, 0.14782685223082356, 0.029983748329836853, 0.2489348407849246, 0.9936583085403414, 0.023614165238390727, 0.04509181076473658, 0.9112818813900879, 0.0014618292766622831, 0.018553986973021287, 0.9801557817169514, 0.019464086445443004, 0.9972201675866208, 0.016906783831112302, 0.15468917168840135, 0.7222514849720966, 0.004898227091256835, 0.01248257871642871, 0.02196301824789355, 0.06667909137130272, 0.43659833704553175, 0.22958263316406807, 0.10383396363556716, 0.06730945381401086, 0.019305812334251177, 0.08922415970694464, 0.04069873951544843, 0.008870238099520813, 0.004435119049760406, 0.998203544218067, 0.9960472406511729, 0.9965403694395616, 0.21795061532252316, 0.7807597991933425], \"Term\": [\"abstractive\", \"accuracy\", \"accuracy\", \"accuracy\", \"accuracy\", \"accuracy\", \"accuracy\", \"accuracy\", \"accuracy\", \"achieved\", \"achieved\", \"achieved\", \"achieved\", \"achieved\", \"achieved\", \"adaptation\", \"adaptation\", \"adaptation\", \"adaptation\", \"adequacy\", \"adjectives\", \"adversarial\", \"affective\", \"al\", \"al\", \"al\", \"algorithm\", \"algorithm\", \"algorithm\", \"algorithm\", \"algorithm\", \"algorithm\", \"aligner\", \"alignment\", \"alignment\", \"alignment\", \"alignment\", \"alignment\", \"alis\", \"also\", \"also\", \"also\", \"also\", \"also\", \"also\", \"also\", \"also\", \"also\", \"amr\", \"analyse\", \"analyse\", \"analyse\", \"analyse\", \"analyse\", \"analyse\", \"analyse\", \"analyse\", \"analysis\", \"analysis\", \"analysis\", \"analysis\", \"analysis\", \"analysis\", \"analysis\", \"analysis\", \"analyzer\", \"anaphora\", \"annotated\", \"annotated\", \"annotated\", \"annotated\", \"annotated\", \"annotation\", \"annotation\", \"annotation\", \"annotation\", \"answer\", \"answering\", \"answers\", \"application\", \"application\", \"application\", \"application\", \"application\", \"application\", \"approach\", \"approach\", \"approach\", \"approach\", \"approach\", \"approach\", \"approach\", \"approach\", \"approaches\", \"approaches\", \"approaches\", \"approaches\", \"approaches\", \"approaches\", \"approaches\", \"approaches\", \"arabic\", \"arabic\", \"arabic\", \"argument\", \"argumentation\", \"arguments\", \"arguments\", \"article\", \"article\", \"article\", \"article\", \"article\", \"article\", \"articles\", \"articles\", \"articles\", \"asian\", \"asr\", \"association\", \"attention\", \"attention\", \"attention\", \"attention\", \"attention\", \"attention\", \"attention\", \"au\", \"augmentation\", \"augmentation\", \"augmentation\", \"aussi\", \"automatic\", \"automatic\", \"automatic\", \"automatic\", \"automatic\", \"automatic\", \"automatic\", \"automatique\", \"available\", \"available\", \"available\", \"available\", \"available\", \"available\", \"available\", \"available\", \"based\", \"based\", \"based\", \"based\", \"based\", \"based\", \"based\", \"based\", \"basque\", \"best\", \"best\", \"best\", \"best\", \"best\", \"best\", \"best\", \"best\", \"better\", \"better\", \"better\", \"better\", \"better\", \"better\", \"better\", \"better\", \"bias\", \"bias\", \"biases\", \"bilingual\", \"bilingual\", \"bleu\", \"btec\", \"campaign\", \"captioning\", \"catalan\", \"categorial\", \"causal\", \"ce\", \"ces\", \"cet\", \"cette\", \"character\", \"character\", \"character\", \"character\", \"character\", \"chunking\", \"chunks\", \"classes\", \"classes\", \"classes\", \"classes\", \"classes\", \"classes\", \"classification\", \"classification\", \"classification\", \"classification\", \"classification\", \"classification\", \"clinical\", \"coding\", \"collaborative\", \"collected\", \"collected\", \"collected\", \"collection\", \"collection\", \"collection\", \"collection\", \"collection\", \"collection\", \"collocations\", \"comments\", \"commercial\", \"commonsense\", \"competition\", \"competition\", \"compound\", \"compounds\", \"comprehension\", \"comprehension\", \"comprehension\", \"comprises\", \"connectives\", \"consortium\", \"constituents\", \"content\", \"content\", \"content\", \"content\", \"content\", \"context\", \"context\", \"context\", \"context\", \"context\", \"context\", \"context\", \"context\", \"context\", \"coreference\", \"corpora\", \"corpora\", \"corpora\", \"corpora\", \"corpora\", \"corpora\", \"corpus\", \"corpus\", \"corpus\", \"corpus\", \"corpus\", \"corpus\", \"corpus\", \"correction\", \"correction\", \"crowdsourcing\", \"customization\", \"czech\", \"danish\", \"dans\", \"data\", \"data\", \"data\", \"data\", \"data\", \"data\", \"data\", \"database\", \"database\", \"database\", \"databases\", \"databases\", \"dataset\", \"dataset\", \"dataset\", \"dataset\", \"dataset\", \"dataset\", \"datasets\", \"datasets\", \"datasets\", \"datasets\", \"datasets\", \"de\", \"decoders\", \"dependency\", \"dependency\", \"derivational\", \"des\", \"describe\", \"describe\", \"describe\", \"describe\", \"describe\", \"describe\", \"describes\", \"describes\", \"describes\", \"describes\", \"describes\", \"detection\", \"detection\", \"detection\", \"detection\", \"detection\", \"developers\", \"development\", \"development\", \"development\", \"development\", \"development\", \"development\", \"diagnosis\", \"dialect\", \"dialect\", \"dialectal\", \"dialects\", \"dialogue\", \"dialogue\", \"dialogue\", \"dictionaries\", \"dictionary\", \"differences\", \"differences\", \"differences\", \"differences\", \"differences\", \"differences\", \"differences\", \"different\", \"different\", \"different\", \"different\", \"different\", \"different\", \"different\", \"different\", \"different\", \"dimension\", \"dimension\", \"disambiguation\", \"discourse\", \"discourse\", \"discuss\", \"discuss\", \"discuss\", \"discuss\", \"discuss\", \"discuss\", \"discusses\", \"disease\", \"disfluencies\", \"distributional\", \"distributional\", \"distributional\", \"document\", \"document\", \"document\", \"document\", \"document\", \"document\", \"document\", \"documentation\", \"documentation\", \"domain\", \"domain\", \"domain\", \"domain\", \"domain\", \"domain\", \"domains\", \"domains\", \"domains\", \"downstream\", \"downstream\", \"downstream\", \"du\", \"ebmt\", \"effective\", \"effective\", \"effective\", \"effective\", \"effective\", \"effective\", \"effective\", \"embeddings\", \"embeddings\", \"embeddings\", \"embeddings\", \"emotion\", \"emotional\", \"emotions\", \"en\", \"english\", \"english\", \"english\", \"english\", \"english\", \"english\", \"english\", \"ensemble\", \"ensemble\", \"ensemble\", \"ensemble\", \"entailment\", \"entailment\", \"entailment\", \"entities\", \"entities\", \"entity\", \"entity\", \"entity\", \"entr\", \"entry\", \"environment\", \"environment\", \"error\", \"error\", \"error\", \"error\", \"error\", \"error\", \"error\", \"errors\", \"errors\", \"errors\", \"errors\", \"es\", \"essay\", \"est\", \"et\", \"et\", \"et\", \"et\", \"et\", \"et\", \"et\", \"europarl\", \"evaluation\", \"evaluation\", \"evaluation\", \"evaluation\", \"evaluation\", \"evaluation\", \"event\", \"event\", \"events\", \"events\", \"events\", \"existing\", \"existing\", \"existing\", \"existing\", \"existing\", \"existing\", \"experimental\", \"experimental\", \"experimental\", \"experimental\", \"experimental\", \"experimental\", \"experimental\", \"experiments\", \"experiments\", \"experiments\", \"experiments\", \"experiments\", \"experiments\", \"experiments\", \"experiments\", \"explanations\", \"explanations\", \"explanations\", \"extraction\", \"extraction\", \"extraction\", \"extraction\", \"extraction\", \"extraction\", \"extraction\", \"extraction\", \"facts\", \"facts\", \"facts\", \"fake\", \"feature\", \"feature\", \"feature\", \"feature\", \"features\", \"features\", \"features\", \"features\", \"features\", \"features\", \"features\", \"features\", \"feedback\", \"files\", \"financial\", \"find\", \"find\", \"find\", \"find\", \"find\", \"find\", \"find\", \"find\", \"finite\", \"formalism\", \"formation\", \"formats\", \"forums\", \"fr\", \"fragments\", \"fragments\", \"frame\", \"framenet\", \"frames\", \"frames\", \"freely\", \"freely\", \"frequency\", \"frequency\", \"frequency\", \"frequency\", \"gated\", \"gaussian\", \"gender\", \"gender\", \"generalization\", \"generalization\", \"generation\", \"generation\", \"generation\", \"gles\", \"goals\", \"grammaire\", \"grammar\", \"grammatical\", \"grammatical\", \"graph\", \"graph\", \"greek\", \"grid\", \"hate\", \"health\", \"health\", \"hierarchical\", \"hierarchical\", \"hierarchical\", \"hierarchical\", \"hierarchical\", \"hlt\", \"hours\", \"however\", \"however\", \"however\", \"however\", \"however\", \"however\", \"however\", \"however\", \"hpsg\", \"human\", \"human\", \"human\", \"human\", \"human\", \"humor\", \"identification\", \"identification\", \"identification\", \"identification\", \"image\", \"images\", \"images\", \"improve\", \"improve\", \"improve\", \"improve\", \"improve\", \"improve\", \"improve\", \"improve\", \"indian\", \"information\", \"information\", \"information\", \"information\", \"information\", \"information\", \"information\", \"information\", \"information\", \"infrastructure\", \"institute\", \"intelligibility\", \"intensity\", \"interface\", \"interface\", \"interfaces\", \"interlingua\", \"international\", \"international\", \"interpr\", \"investigate\", \"investigate\", \"investigate\", \"investigate\", \"investigate\", \"investigate\", \"investigate\", \"investigate\", \"investigate\", \"ir\", \"ir\", \"irony\", \"iso\", \"iwslt\", \"kb\", \"kernel\", \"kg\", \"kgs\", \"kit\", \"knowledge\", \"knowledge\", \"knowledge\", \"knowledge\", \"knowledge\", \"la\", \"lab\", \"labeled\", \"labeled\", \"labeled\", \"language\", \"language\", \"language\", \"language\", \"language\", \"language\", \"language\", \"language\", \"language\", \"languages\", \"languages\", \"languages\", \"languages\", \"languages\", \"large\", \"large\", \"large\", \"large\", \"large\", \"large\", \"large\", \"large\", \"latent\", \"latent\", \"latin\", \"lattice\", \"ldc\", \"le\", \"learning\", \"learning\", \"learning\", \"learning\", \"learning\", \"learning\", \"lectures\", \"lemmatization\", \"les\", \"lexica\", \"lexical\", \"lexical\", \"lexical\", \"lexical\", \"lexicales\", \"lexicalized\", \"lexicon\", \"lexicon\", \"lexicons\", \"lexicons\", \"lexicons\", \"linguistic\", \"linguistic\", \"linguistic\", \"linguistic\", \"linguistic\", \"linguistic\", \"linguistic\", \"linguistics\", \"linguistics\", \"linguistics\", \"linguistics\", \"linking\", \"lm\", \"logistic\", \"lr\", \"machine\", \"machine\", \"machine\", \"machine\", \"machine\", \"machine\", \"management\", \"market\", \"matching\", \"matching\", \"matching\", \"matching\", \"material\", \"math\", \"measure\", \"measure\", \"measure\", \"measure\", \"measure\", \"measure\", \"measure\", \"measures\", \"measures\", \"measures\", \"mechanism\", \"mechanism\", \"mechanism\", \"mechanism\", \"media\", \"medical\", \"memories\", \"men\", \"messages\", \"messages\", \"messages\", \"method\", \"method\", \"method\", \"method\", \"method\", \"method\", \"method\", \"method\", \"methods\", \"methods\", \"methods\", \"methods\", \"methods\", \"methods\", \"methods\", \"mining\", \"mining\", \"mining\", \"mining\", \"mining\", \"mod\", \"modalities\", \"model\", \"model\", \"model\", \"model\", \"model\", \"model\", \"model\", \"models\", \"models\", \"models\", \"models\", \"models\", \"models\", \"models\", \"monolingual\", \"monolingual\", \"morphological\", \"morphological\", \"morphologically\", \"morphology\", \"moses\", \"motion\", \"motivation\", \"mrc\", \"msa\", \"mt\", \"multilingual\", \"multilingual\", \"multilingual\", \"multimodal\", \"multiword\", \"mwe\", \"mwes\", \"named\", \"named\", \"named\", \"nan\", \"natural\", \"natural\", \"natural\", \"natural\", \"natural\", \"natural\", \"natural\", \"ner\", \"ner\", \"ner\", \"network\", \"network\", \"network\", \"network\", \"network\", \"neural\", \"neural\", \"neural\", \"neural\", \"neural\", \"new\", \"new\", \"new\", \"new\", \"new\", \"new\", \"new\", \"new\", \"news\", \"news\", \"nist\", \"niveau\", \"nli\", \"nmt\", \"noise\", \"noise\", \"normalisation\", \"notes\", \"noun\", \"noun\", \"nouns\", \"nouns\", \"nous\", \"novel\", \"novel\", \"novel\", \"novel\", \"novel\", \"novel\", \"novel\", \"objects\", \"objects\", \"offensive\", \"online\", \"online\", \"online\", \"online\", \"online\", \"ontological\", \"ontologies\", \"oov\", \"opinion\", \"opinion\", \"opinions\", \"opinions\", \"optimization\", \"ordered\", \"orthographic\", \"orthographic\", \"output\", \"output\", \"output\", \"output\", \"output\", \"output\", \"pairs\", \"pairs\", \"pairs\", \"pairs\", \"pairs\", \"paper\", \"paper\", \"paper\", \"paper\", \"paper\", \"paper\", \"paper\", \"paper\", \"par\", \"par\", \"parallel\", \"parallel\", \"parallel\", \"parallel\", \"parameter\", \"parameters\", \"parameters\", \"parse\", \"parsed\", \"parser\", \"parsers\", \"parsing\", \"participation\", \"participation\", \"participation\", \"participation\", \"passage\", \"passage\", \"patent\", \"paths\", \"patient\", \"patterns\", \"patterns\", \"patterns\", \"patterns\", \"patterns\", \"patterns\", \"patterns\", \"patterns\", \"penn\", \"performance\", \"performance\", \"performance\", \"performance\", \"performance\", \"performance\", \"performance\", \"performance\", \"performance\", \"perplexity\", \"persian\", \"personality\", \"phonetic\", \"phonetic\", \"phonological\", \"phrasal\", \"platforms\", \"plus\", \"plus\", \"plus\", \"polarity\", \"polish\", \"political\", \"pos\", \"pos\", \"posts\", \"pour\", \"pr\", \"predicate\", \"present\", \"present\", \"present\", \"present\", \"present\", \"present\", \"present\", \"present\", \"pretrained\", \"pretrained\", \"pretraining\", \"problem\", \"problem\", \"problem\", \"problem\", \"problem\", \"problem\", \"problem\", \"process\", \"process\", \"process\", \"process\", \"process\", \"process\", \"process\", \"process\", \"processing\", \"processing\", \"processing\", \"processing\", \"processing\", \"processing\", \"processing\", \"product\", \"product\", \"product\", \"programs\", \"project\", \"project\", \"project\", \"projects\", \"pronunciation\", \"properties\", \"properties\", \"properties\", \"properties\", \"properties\", \"properties\", \"properties\", \"propose\", \"propose\", \"propose\", \"propose\", \"propose\", \"propose\", \"propose\", \"propose\", \"proposed\", \"proposed\", \"proposed\", \"proposed\", \"proposed\", \"proposed\", \"proposed\", \"proposed\", \"provide\", \"provide\", \"provide\", \"provide\", \"provide\", \"provide\", \"provide\", \"provide\", \"pruning\", \"punctuation\", \"qa\", \"quality\", \"quality\", \"quality\", \"quality\", \"quality\", \"que\", \"query\", \"query\", \"question\", \"question\", \"question\", \"question\", \"questions\", \"questions\", \"questions\", \"qui\", \"ranked\", \"ranked\", \"ranked\", \"reading\", \"reading\", \"reasoning\", \"recorded\", \"recurrent\", \"recurrent\", \"recurrent\", \"recurrent\", \"regression\", \"regression\", \"reinforcement\", \"reinforcement\", \"relation\", \"relation\", \"relation\", \"relation\", \"relation\", \"relation\", \"relational\", \"relational\", \"relations\", \"relations\", \"relations\", \"relations\", \"relations\", \"reordering\", \"representation\", \"representation\", \"representation\", \"representation\", \"representation\", \"representations\", \"representations\", \"representations\", \"representations\", \"representations\", \"research\", \"research\", \"research\", \"research\", \"research\", \"research\", \"research\", \"research\", \"researchers\", \"researchers\", \"researchers\", \"resolution\", \"resources\", \"resources\", \"restrictions\", \"results\", \"results\", \"results\", \"results\", \"results\", \"results\", \"results\", \"results\", \"retrieval\", \"retrieval\", \"retrieval\", \"retrieval\", \"reviews\", \"reward\", \"rnns\", \"robustness\", \"robustness\", \"romanian\", \"rouge\", \"rules\", \"rules\", \"rules\", \"rules\", \"rules\", \"rules\", \"russian\", \"russian\", \"sampling\", \"sarcasm\", \"scheme\", \"scheme\", \"scheme\", \"scheme\", \"scheme\", \"scheme\", \"score\", \"score\", \"score\", \"score\", \"score\", \"score\", \"score\", \"section\", \"segmentation\", \"segmentation\", \"segmentation\", \"segmentation\", \"semantic\", \"semantic\", \"semantic\", \"semantic\", \"semantic\", \"semantic\", \"semeval\", \"semeval\", \"sense\", \"sense\", \"sense\", \"senses\", \"sent\", \"sentence\", \"sentence\", \"sentence\", \"sentence\", \"sentence\", \"sentence\", \"sentences\", \"sentences\", \"sentences\", \"sentences\", \"sentences\", \"sentences\", \"sentences\", \"sentences\", \"sentiment\", \"sentiment\", \"sentons\", \"service\", \"service\", \"service\", \"services\", \"services\", \"services\", \"set\", \"set\", \"set\", \"set\", \"set\", \"set\", \"set\", \"set\", \"set\", \"settings\", \"settings\", \"settings\", \"settings\", \"shared\", \"shared\", \"shared\", \"shared\", \"shorter\", \"show\", \"show\", \"show\", \"show\", \"show\", \"show\", \"show\", \"show\", \"show\", \"sign\", \"signs\", \"similarity\", \"similarity\", \"similarity\", \"simultaneous\", \"simultaneous\", \"smt\", \"social\", \"software\", \"sont\", \"source\", \"source\", \"source\", \"source\", \"source\", \"source\", \"source\", \"source\", \"spanish\", \"spanish\", \"sparsity\", \"spatial\", \"speaker\", \"speakers\", \"speakers\", \"speech\", \"speech\", \"speech\", \"speech\", \"spoken\", \"spoken\", \"spontaneous\", \"srl\", \"stance\", \"standards\", \"strings\", \"structure\", \"structure\", \"structure\", \"structure\", \"structure\", \"structure\", \"structure\", \"structure\", \"structures\", \"structures\", \"structures\", \"students\", \"study\", \"study\", \"study\", \"study\", \"study\", \"study\", \"study\", \"study\", \"study\", \"stylistic\", \"subtask\", \"subtasks\", \"sultats\", \"summaries\", \"summaries\", \"summarization\", \"summarization\", \"summary\", \"summary\", \"supervised\", \"supervised\", \"supervised\", \"sur\", \"survey\", \"swedish\", \"synchronous\", \"synonyms\", \"synsets\", \"syntactic\", \"syntactic\", \"syntactically\", \"syntax\", \"synthesis\", \"syst\", \"system\", \"system\", \"system\", \"system\", \"system\", \"system\", \"systems\", \"systems\", \"systems\", \"systems\", \"systems\", \"systems\", \"systems\", \"systran\", \"tag\", \"tag\", \"tagged\", \"tagger\", \"tagger\", \"taggers\", \"tagging\", \"tagging\", \"talks\", \"target\", \"target\", \"target\", \"target\", \"target\", \"target\", \"task\", \"task\", \"task\", \"task\", \"task\", \"task\", \"task\", \"tasks\", \"tasks\", \"tasks\", \"tasks\", \"tasks\", \"tasks\", \"tasks\", \"te\", \"team\", \"team\", \"team\", \"technologies\", \"technologies\", \"technologies\", \"technologies\", \"technology\", \"technology\", \"technology\", \"ted\", \"temporal\", \"terminological\", \"terminology\", \"text\", \"text\", \"text\", \"text\", \"text\", \"text\", \"text\", \"text\", \"thai\", \"thesaurus\", \"thode\", \"tm\", \"tool\", \"tool\", \"tool\", \"toolkit\", \"toolkit\", \"tools\", \"tools\", \"tools\", \"topic\", \"topic\", \"topic\", \"topic\", \"topics\", \"topics\", \"topics\", \"track\", \"track\", \"track\", \"track\", \"train\", \"train\", \"train\", \"train\", \"train\", \"train\", \"train\", \"trained\", \"trained\", \"trained\", \"trained\", \"trained\", \"trained\", \"trained\", \"training\", \"training\", \"training\", \"training\", \"training\", \"transcribed\", \"transcription\", \"transcription\", \"transfer\", \"transfer\", \"transfer\", \"translate\", \"translating\", \"translation\", \"translations\", \"translators\", \"transliteration\", \"tree\", \"tree\", \"tree\", \"treebank\", \"treebanks\", \"trees\", \"tutorial\", \"tweet\", \"tweets\", \"twitter\", \"two\", \"two\", \"two\", \"two\", \"two\", \"two\", \"two\", \"two\", \"two\", \"ud\", \"un\", \"une\", \"unification\", \"unlabeled\", \"unsupervised\", \"unsupervised\", \"use\", \"use\", \"use\", \"use\", \"use\", \"use\", \"use\", \"use\", \"use\", \"used\", \"used\", \"used\", \"used\", \"used\", \"used\", \"used\", \"used\", \"used\", \"user\", \"user\", \"users\", \"users\", \"using\", \"using\", \"using\", \"using\", \"using\", \"using\", \"using\", \"using\", \"valence\", \"valency\", \"variation\", \"variation\", \"verb\", \"verbal\", \"verbs\", \"video\", \"video\", \"videos\", \"visual\", \"weak\", \"web\", \"web\", \"web\", \"web\", \"whether\", \"whether\", \"whether\", \"whether\", \"whether\", \"whether\", \"whether\", \"whether\", \"wmt\", \"word\", \"word\", \"word\", \"word\", \"word\", \"wordnet\", \"wordnet\", \"wordnets\", \"words\", \"words\", \"words\", \"words\", \"words\", \"words\", \"words\", \"work\", \"work\", \"work\", \"work\", \"work\", \"work\", \"work\", \"work\", \"work\", \"workflow\", \"wsd\", \"xml\", \"year\", \"year\"]}, \"R\": 30, \"lambda.step\": 0.01, \"plot.opts\": {\"xlab\": \"PC1\", \"ylab\": \"PC2\"}, \"topic.order\": [8, 4, 10, 1, 5, 6, 7, 3, 2, 9]};\n",
              "\n",
              "function LDAvis_load_lib(url, callback){\n",
              "  var s = document.createElement('script');\n",
              "  s.src = url;\n",
              "  s.async = true;\n",
              "  s.onreadystatechange = s.onload = callback;\n",
              "  s.onerror = function(){console.warn(\"failed to load library \" + url);};\n",
              "  document.getElementsByTagName(\"head\")[0].appendChild(s);\n",
              "}\n",
              "\n",
              "if(typeof(LDAvis) !== \"undefined\"){\n",
              "   // already loaded: just create the visualization\n",
              "   !function(LDAvis){\n",
              "       new LDAvis(\"#\" + \"ldavis_el521398257658448163912345750\", ldavis_el521398257658448163912345750_data);\n",
              "   }(LDAvis);\n",
              "}else if(typeof define === \"function\" && define.amd){\n",
              "   // require.js is available: use it to load d3/LDAvis\n",
              "   require.config({paths: {d3: \"https://cdnjs.cloudflare.com/ajax/libs/d3/3.5.5/d3.min\"}});\n",
              "   require([\"d3\"], function(d3){\n",
              "      window.d3 = d3;\n",
              "      LDAvis_load_lib(\"https://cdn.rawgit.com/bmabey/pyLDAvis/files/ldavis.v1.0.0.js\", function(){\n",
              "        new LDAvis(\"#\" + \"ldavis_el521398257658448163912345750\", ldavis_el521398257658448163912345750_data);\n",
              "      });\n",
              "    });\n",
              "}else{\n",
              "    // require.js not available: dynamically load d3 & LDAvis\n",
              "    LDAvis_load_lib(\"https://cdnjs.cloudflare.com/ajax/libs/d3/3.5.5/d3.min.js\", function(){\n",
              "         LDAvis_load_lib(\"https://cdn.rawgit.com/bmabey/pyLDAvis/files/ldavis.v1.0.0.js\", function(){\n",
              "                 new LDAvis(\"#\" + \"ldavis_el521398257658448163912345750\", ldavis_el521398257658448163912345750_data);\n",
              "            })\n",
              "         });\n",
              "}\n",
              "</script>"
            ]
          },
          "metadata": {},
          "execution_count": 47
        }
      ]
    },
    {
      "cell_type": "code",
      "metadata": {
        "colab": {
          "base_uri": "https://localhost:8080/"
        },
        "outputId": "0fab2476-7418-4558-b1c2-e0ddb91113cb",
        "id": "jLmCaj_ezSGR"
      },
      "source": [
        "new_text = dataset[0]\n",
        "\n",
        "# transform held_out_text into the bag-of-words space\n",
        "bow_vector = dictionary.doc2bow(tokenize(new_text.lower()))\n",
        "lda_vector = ldamodel[bow_vector]\n",
        "print(lda_vector)\n",
        "# print the document's single most prominent LDA topic\n",
        "print(ldamodel.print_topic(max(lda_vector, key=lambda item: item[1])[0]))"
      ],
      "execution_count": null,
      "outputs": [
        {
          "output_type": "stream",
          "name": "stdout",
          "text": [
            "[(3, 0.47890756), (4, 0.024004132), (7, 0.39605656), (8, 0.01757542), (9, 0.07660518)]\n",
            "0.014*\"language\" + 0.013*\"corpus\" + 0.010*\"data\" + 0.009*\"paper\" + 0.007*\"research\" + 0.007*\"system\" + 0.007*\"annotation\" + 0.006*\"evaluation\" + 0.006*\"text\" + 0.006*\"present\"\n"
          ]
        }
      ]
    },
    {
      "cell_type": "code",
      "metadata": {
        "colab": {
          "base_uri": "https://localhost:8080/"
        },
        "outputId": "0fab2476-7418-4558-b1c2-e0ddb91113cb",
        "id": "rzAE2vJQybQs"
      },
      "source": [
        "new_text = dataset[0]\n",
        "\n",
        "# transform held_out_text into the bag-of-words space\n",
        "bow_vector = dictionary.doc2bow(tokenize(new_text.lower()))\n",
        "lda_vector = ldamodel[bow_vector]\n",
        "print(lda_vector)\n",
        "# print the document's single most prominent LDA topic\n",
        "print(ldamodel.print_topic(max(lda_vector, key=lambda item: item[1])[0]))"
      ],
      "execution_count": null,
      "outputs": [
        {
          "output_type": "stream",
          "name": "stdout",
          "text": [
            "[(3, 0.47890756), (4, 0.024004132), (7, 0.39605656), (8, 0.01757542), (9, 0.07660518)]\n",
            "0.014*\"language\" + 0.013*\"corpus\" + 0.010*\"data\" + 0.009*\"paper\" + 0.007*\"research\" + 0.007*\"system\" + 0.007*\"annotation\" + 0.006*\"evaluation\" + 0.006*\"text\" + 0.006*\"present\"\n"
          ]
        }
      ]
    },
    {
      "cell_type": "markdown",
      "source": [
        "topicos de sklearn\n",
        "\n",
        "\n",
        "1 embedings\n",
        "6 sequence 2 sequence\n",
        "3 herramientas - implementacion\n",
        "7 palabras en otro idioma? articulos? parte de nombres?\n",
        "9 emotions analysis (hater etc)\n",
        "5 computation and social sceince,\n",
        "\n",
        "promediar la distribucion para todos los años y ver como se distribuyo para cada año y decir este año el topico no fue tan frecuente"
      ],
      "metadata": {
        "id": "F5s2gpon-GMM"
      }
    },
    {
      "cell_type": "code",
      "metadata": {
        "id": "4gpsFpeM21BH"
      },
      "source": [
        "lsatopics  = [[word for word, prob in topic] for topicid, topic in lsamodel.show_topics(n_topics,formatted=False)]\n",
        "ldatopics = [[word for word, prob in topic] for topicid, topic in ldamodel.show_topics(n_topics,formatted=False)]"
      ],
      "execution_count": 37,
      "outputs": []
    },
    {
      "cell_type": "code",
      "source": [
        "ldatopics[0]"
      ],
      "metadata": {
        "colab": {
          "base_uri": "https://localhost:8080/"
        },
        "id": "6PzNfDlj6FcU",
        "outputId": "b05dc05b-b92f-465f-911f-72bc0c1f9f26"
      },
      "execution_count": 38,
      "outputs": [
        {
          "output_type": "execute_result",
          "data": {
            "text/plain": [
              "['word',\n",
              " 'languages',\n",
              " 'words',\n",
              " 'language',\n",
              " 'paper',\n",
              " 'lexical',\n",
              " 'semantic',\n",
              " 'english',\n",
              " 'embeddings',\n",
              " 'using']"
            ]
          },
          "metadata": {},
          "execution_count": 38
        }
      ]
    },
    {
      "cell_type": "code",
      "source": [
        "lda_tf_idf_topics = [[word for word, prob in topic] for topicid, topic in lda_model_tfidf.show_topics(n_topics,formatted=False)]"
      ],
      "metadata": {
        "id": "daJGTzlM0yAB"
      },
      "execution_count": 93,
      "outputs": []
    },
    {
      "cell_type": "code",
      "source": [
        "lda_tf_idf_topics[0]"
      ],
      "metadata": {
        "id": "okSbkWqP011m",
        "outputId": "ec0e017c-0691-4998-9ef2-ec22b53cd172",
        "colab": {
          "base_uri": "https://localhost:8080/"
        }
      },
      "execution_count": 94,
      "outputs": [
        {
          "output_type": "execute_result",
          "data": {
            "text/plain": [
              "['model',\n",
              " 'models',\n",
              " 'word',\n",
              " 'data',\n",
              " 'training',\n",
              " 'tasks',\n",
              " 'neural',\n",
              " 'method',\n",
              " 'performance',\n",
              " 'learning']"
            ]
          },
          "metadata": {},
          "execution_count": 94
        }
      ]
    },
    {
      "cell_type": "code",
      "metadata": {
        "id": "Ni9GdVOZ21BK"
      },
      "source": [
        "#window_size=30,coherence='c_npmi',topn=5\n",
        "lsa_coherence = CoherenceModel(topics=lsatopics, texts=texts, dictionary=dictionary, window_size=10,coherence='c_npmi',topn=20).get_coherence_per_topic()\n",
        "lda_coherence = CoherenceModel(topics=ldatopics, texts=texts, dictionary=dictionary, window_size=10,coherence='c_npmi',topn=20).get_coherence_per_topic()"
      ],
      "execution_count": 100,
      "outputs": []
    },
    {
      "cell_type": "code",
      "source": [
        "lda_tf_idf_coherence = CoherenceModel(topics=lda_tf_idf_topics, texts=texts, dictionary=dictionary, window_size=10,coherence='c_npmi',topn=20).get_coherence_per_topic()"
      ],
      "metadata": {
        "id": "ccdzzLuZ1BvV"
      },
      "execution_count": 101,
      "outputs": []
    },
    {
      "cell_type": "code",
      "metadata": {
        "id": "mzWg3JKK21BM",
        "colab": {
          "base_uri": "https://localhost:8080/",
          "height": 303
        },
        "outputId": "0064491a-c502-4ca5-c103-6e03686194cd"
      },
      "source": [
        "df_lda = pd.DataFrame([range(10),lda_coherence,ldatopics],index=['topic_id','coherence','topic']).transpose()\n",
        "df_lsa = pd.DataFrame([range(10),lsa_coherence,lsatopics],index=['topic_id','coherence','topic']).transpose()\n",
        "\n",
        "df_tf_idf = pd.DataFrame([range(10),lda_tf_idf_coherence,lda_tf_idf_topics],index=['topic_id','coherence','topic']).transpose()\n",
        "\n",
        "#pd.Series({'LSA':np.mean(lsa_coherence),'LDA':np.mean(lda_coherence)}).plot.bar();\n",
        "pd.Series({'LSA':np.mean(lsa_coherence),'LDA':np.mean(lda_coherence),'TF-IDF':np.mean(lda_tf_idf_coherence)}).plot.bar(title=\"Coherence - n Topics: 10\", color=[\"green\",\"blue\",\"red\"]);"
      ],
      "execution_count": 102,
      "outputs": [
        {
          "output_type": "display_data",
          "data": {
            "text/plain": [
              "<Figure size 432x288 with 1 Axes>"
            ],
            "image/png": "[encoded data removed]"
          },
          "metadata": {
            "needs_background": "light"
          }
        }
      ]
    },
    {
      "cell_type": "code",
      "source": [
        "#### ANALIZADOR DE CANTIDAD OPTIMA DE TOPICOS, POR COMPARACION DE COHERENCIAS PROMEDIO:\n",
        "nro_topics = 5 # INGRESE NRO DE TOPICOS \n",
        "window_size_=10  # INGRESE COHERENCIA WINDOW_SIZE \n",
        "coherence_='c_npmi' # INGRESE METRICA DE COHERENCIA \n",
        "topn_=20  # INGRESE COHERENCIA TOP WORDS TO EVALUATE. \n",
        "\n",
        "semilla = 420\n",
        "\n",
        "lsamodel = LsiModel(corpus=corpus, num_topics=nro_topics, id2word=dictionary  #25\n",
        "                    # , random_seed = semilla\n",
        "                    )\n",
        "ldamodel = LdaModel(corpus=corpus, num_topics=nro_topics, id2word=dictionary, iterations = 200, passes=10\n",
        "                    # , random_seed = semilla\n",
        "                    )\n",
        "lda_model_tfidf = gensim.models.LdaMulticore(corpus_tfidf, num_topics=nro_topics, id2word=dictionary, passes=10, workers=4)\n",
        "\n",
        "lsatopics  = [[word for word, prob in topic] for topicid, topic in lsamodel.show_topics(nro_topics,formatted=False)]\n",
        "ldatopics = [[word for word, prob in topic] for topicid, topic in ldamodel.show_topics(nro_topics,formatted=False)]\n",
        "lda_tf_idf_topics = [[word for word, prob in topic] for topicid, topic in lda_model_tfidf.show_topics(nro_topics,formatted=False)]\n",
        "\n",
        "lsa_coherence = CoherenceModel(topics=lsatopics, texts=texts, dictionary=dictionary, window_size=window_size_,coherence=coherence_,topn=topn_).get_coherence_per_topic()\n",
        "lda_coherence = CoherenceModel(topics=ldatopics, texts=texts, dictionary=dictionary, window_size=window_size_,coherence=coherence_,topn=topn_).get_coherence_per_topic()\n",
        "lda_tf_idf_coherence = CoherenceModel(topics=lda_tf_idf_topics, texts=texts, dictionary=dictionary, window_size=window_size_,coherence=coherence_,topn=topn_).get_coherence_per_topic()\n",
        "\n",
        "df_lda = pd.DataFrame([range(10),lda_coherence,ldatopics],index=['topic_id','coherence','topic']).transpose()\n",
        "df_lsa = pd.DataFrame([range(10),lsa_coherence,lsatopics],index=['topic_id','coherence','topic']).transpose()\n",
        "df_tf_idf = pd.DataFrame([range(10),lda_tf_idf_coherence,lda_tf_idf_topics],index=['topic_id','coherence','topic']).transpose()\n",
        "\n",
        "title = \"Coherence - n Topics: \" + str(nro_topics)\n",
        "pd.Series({'LSA':np.mean(lsa_coherence),'LDA':np.mean(lda_coherence),'TF-IDF':np.mean(lda_tf_idf_coherence)}).plot.bar(title=title, ylim=(0,0.20), color=[\"green\",\"blue\",\"red\"]);\n",
        "print('LSA Mean Coherence: %.2f LSA' % (np.mean(lsa_coherence)))\n",
        "print('LDA Mean Coherence: %.2f LDA' % (np.mean(lda_coherence)))\n",
        "print('LDA Mean Coherence: %.2f TF-IF' % (np.mean(lda_tf_idf_coherence)))"
      ],
      "metadata": {
        "colab": {
          "base_uri": "https://localhost:8080/",
          "height": 303
        },
        "id": "ME-R7szcGDi_",
        "outputId": "b53a05b6-4f38-4f45-9022-a9f99e3dfe0b"
      },
      "execution_count": 103,
      "outputs": [
        {
          "output_type": "display_data",
          "data": {
            "text/plain": [
              "<Figure size 432x288 with 1 Axes>"
            ],
            "image/png": "[encoded data removed]"
          },
          "metadata": {
            "needs_background": "light"
          }
        }
      ]
    },
    {
      "cell_type": "code",
      "source": [
        "print('LSA Mean Coherence: %.2f LSA' % (np.mean(lsa_coherence)))\n",
        "print('LDA Mean Coherence: %.2f LDA' % (np.mean(lda_coherence)))\n",
        "print('LDA Mean Coherence: %.2f TF-IF' % (np.mean(lda_tf_idf_coherence)))\n",
        "pd.Series({'LSA':np.mean(lsa_coherence),'LDA':np.mean(lda_coherence),'TF-IDF':np.mean(lda_tf_idf_coherence)}).plot.bar(title=title, ylim=(0,0.20), color=[\"green\",\"blue\",\"red\"]);"
      ],
      "metadata": {
        "id": "w76DhzFLS6Qo",
        "outputId": "f49c4f5b-33ed-4bd3-ea81-11c366ef09c2",
        "colab": {
          "base_uri": "https://localhost:8080/",
          "height": 355
        }
      },
      "execution_count": 107,
      "outputs": [
        {
          "output_type": "stream",
          "name": "stdout",
          "text": [
            "LSA Mean Coherence: 0.08 LSA\n",
            "LDA Mean Coherence: 0.11 LDA\n",
            "LDA Mean Coherence: 0.09 TF-IF\n"
          ]
        },
        {
          "output_type": "display_data",
          "data": {
            "text/plain": [
              "<Figure size 432x288 with 1 Axes>"
            ],
            "image/png": "[encoded data removed]"
          },
          "metadata": {
            "needs_background": "light"
          }
        }
      ]
    },
    {
      "cell_type": "code",
      "source": [
        "#### ANALIZADOR DE CANTIDAD OPTIMA DE TOPICOS, POR COMPARACION DE COHERENCIAS PROMEDIO:\n",
        "nro_topics = 10 # INGRESE NRO DE TOPICOS \n",
        "window_size_=10  # INGRESE COHERENCIA WINDOW_SIZE \n",
        "coherence_='c_npmi' # INGRESE METRICA DE COHERENCIA \n",
        "topn_=20  # INGRESE COHERENCIA TOP WORDS TO EVALUATE. \n",
        "\n",
        "semilla = 420\n",
        "\n",
        "lsamodel = LsiModel(corpus=corpus, num_topics=nro_topics, id2word=dictionary  #25\n",
        "                    # , random_seed = semilla\n",
        "                    )\n",
        "ldamodel = LdaModel(corpus=corpus, num_topics=nro_topics, id2word=dictionary, iterations = 200, passes=10\n",
        "                    # , random_seed = semilla\n",
        "                    )\n",
        "lda_model_tfidf = gensim.models.LdaMulticore(corpus_tfidf, num_topics=nro_topics, id2word=dictionary, passes=10, workers=4)\n",
        "\n",
        "lsatopics  = [[word for word, prob in topic] for topicid, topic in lsamodel.show_topics(nro_topics,formatted=False)]\n",
        "ldatopics = [[word for word, prob in topic] for topicid, topic in ldamodel.show_topics(nro_topics,formatted=False)]\n",
        "lda_tf_idf_topics = [[word for word, prob in topic] for topicid, topic in lda_model_tfidf.show_topics(nro_topics,formatted=False)]\n",
        "\n",
        "lsa_coherence = CoherenceModel(topics=lsatopics, texts=texts, dictionary=dictionary, window_size=window_size_,coherence=coherence_,topn=topn_).get_coherence_per_topic()\n",
        "lda_coherence = CoherenceModel(topics=ldatopics, texts=texts, dictionary=dictionary, window_size=window_size_,coherence=coherence_,topn=topn_).get_coherence_per_topic()\n",
        "lda_tf_idf_coherence = CoherenceModel(topics=lda_tf_idf_topics, texts=texts, dictionary=dictionary, window_size=window_size_,coherence=coherence_,topn=topn_).get_coherence_per_topic()\n",
        "\n",
        "df_lda = pd.DataFrame([range(10),lda_coherence,ldatopics],index=['topic_id','coherence','topic']).transpose()\n",
        "df_lsa = pd.DataFrame([range(10),lsa_coherence,lsatopics],index=['topic_id','coherence','topic']).transpose()\n",
        "df_tf_idf = pd.DataFrame([range(10),lda_tf_idf_coherence,lda_tf_idf_topics],index=['topic_id','coherence','topic']).transpose()\n",
        "\n",
        "title = \"Coherence - n Topics: \" + str(nro_topics)\n",
        "pd.Series({'LSA':np.mean(lsa_coherence),'LDA':np.mean(lda_coherence),'TF-IDF':np.mean(lda_tf_idf_coherence)}).plot.bar(title=title, ylim=(0,0.20), color=[\"green\",\"blue\",\"red\"]);\n",
        "print('LSA Mean Coherence: %.2f LSA' % (np.mean(lsa_coherence)))\n",
        "print('LDA Mean Coherence: %.2f LDA' % (np.mean(lda_coherence)))\n",
        "print('LDA Mean Coherence: %.2f TF-IF' % (np.mean(lda_tf_idf_coherence)))"
      ],
      "metadata": {
        "outputId": "162558d0-0efb-44b2-f1be-cc7c4ce063cd",
        "colab": {
          "base_uri": "https://localhost:8080/",
          "height": 355
        },
        "id": "XJL56GoUU1v8"
      },
      "execution_count": 108,
      "outputs": [
        {
          "output_type": "stream",
          "name": "stdout",
          "text": [
            "LSA Mean Coherence: 0.04 LSA\n",
            "LDA Mean Coherence: 0.09 LDA\n",
            "LDA Mean Coherence: -0.02 TF-IF\n"
          ]
        },
        {
          "output_type": "display_data",
          "data": {
            "text/plain": [
              "<Figure size 432x288 with 1 Axes>"
            ],
            "image/png": "[encoded data removed]"
          },
          "metadata": {
            "needs_background": "light"
          }
        }
      ]
    },
    {
      "cell_type": "code",
      "source": [
        "#### ANALIZADOR DE CANTIDAD OPTIMA DE TOPICOS, POR COMPARACION DE COHERENCIAS PROMEDIO:\n",
        "nro_topics = 50 # INGRESE NRO DE TOPICOS \n",
        "window_size_=10  # INGRESE COHERENCIA WINDOW_SIZE \n",
        "coherence_='c_npmi' # INGRESE METRICA DE COHERENCIA \n",
        "topn_=20  # INGRESE COHERENCIA TOP WORDS TO EVALUATE. \n",
        "\n",
        "semilla = 420\n",
        "\n",
        "lsamodel = LsiModel(corpus=corpus, num_topics=nro_topics, id2word=dictionary  #25\n",
        "                    # , random_seed = semilla\n",
        "                    )\n",
        "ldamodel = LdaModel(corpus=corpus, num_topics=nro_topics, id2word=dictionary, iterations = 200, passes=10\n",
        "                    # , random_seed = semilla\n",
        "                    )\n",
        "lda_model_tfidf = gensim.models.LdaMulticore(corpus_tfidf, num_topics=nro_topics, id2word=dictionary, passes=10, workers=4)\n",
        "\n",
        "lsatopics  = [[word for word, prob in topic] for topicid, topic in lsamodel.show_topics(nro_topics,formatted=False)]\n",
        "ldatopics = [[word for word, prob in topic] for topicid, topic in ldamodel.show_topics(nro_topics,formatted=False)]\n",
        "lda_tf_idf_topics = [[word for word, prob in topic] for topicid, topic in lda_model_tfidf.show_topics(nro_topics,formatted=False)]\n",
        "\n",
        "lsa_coherence = CoherenceModel(topics=lsatopics, texts=texts, dictionary=dictionary, window_size=window_size_,coherence=coherence_,topn=topn_).get_coherence_per_topic()\n",
        "lda_coherence = CoherenceModel(topics=ldatopics, texts=texts, dictionary=dictionary, window_size=window_size_,coherence=coherence_,topn=topn_).get_coherence_per_topic()\n",
        "lda_tf_idf_coherence = CoherenceModel(topics=lda_tf_idf_topics, texts=texts, dictionary=dictionary, window_size=window_size_,coherence=coherence_,topn=topn_).get_coherence_per_topic()\n",
        "\n",
        "df_lda = pd.DataFrame([range(10),lda_coherence,ldatopics],index=['topic_id','coherence','topic']).transpose()\n",
        "df_lsa = pd.DataFrame([range(10),lsa_coherence,lsatopics],index=['topic_id','coherence','topic']).transpose()\n",
        "df_tf_idf = pd.DataFrame([range(10),lda_tf_idf_coherence,lda_tf_idf_topics],index=['topic_id','coherence','topic']).transpose()\n",
        "\n",
        "title = \"Coherence - n Topics: \" + str(nro_topics)\n",
        "pd.Series({'LSA':np.mean(lsa_coherence),'LDA':np.mean(lda_coherence),'TF-IDF':np.mean(lda_tf_idf_coherence)}).plot.bar(title=title, ylim=(0,0.20), color=[\"green\",\"blue\",\"red\"]);\n",
        "print('LSA Mean Coherence: %.2f LSA' % (np.mean(lsa_coherence)))\n",
        "print('LDA Mean Coherence: %.2f LDA' % (np.mean(lda_coherence)))\n",
        "print('LDA Mean Coherence: %.2f TF-IF' % (np.mean(lda_tf_idf_coherence)))"
      ],
      "metadata": {
        "outputId": "4d036e8c-3269-4bbf-e7f3-aa7ff2efe5c0",
        "colab": {
          "base_uri": "https://localhost:8080/",
          "height": 355
        },
        "id": "W78r0MiEU-8M"
      },
      "execution_count": 109,
      "outputs": [
        {
          "output_type": "stream",
          "name": "stdout",
          "text": [
            "LSA Mean Coherence: -0.00 LSA\n",
            "LDA Mean Coherence: 0.01 LDA\n",
            "LDA Mean Coherence: -0.17 TF-IF\n"
          ]
        },
        {
          "output_type": "display_data",
          "data": {
            "text/plain": [
              "<Figure size 432x288 with 1 Axes>"
            ],
            "image/png": "[encoded data removed]"
          },
          "metadata": {
            "needs_background": "light"
          }
        }
      ]
    },
    {
      "cell_type": "code",
      "source": [
        "##### CON MEDIA NO ES COMPARABLE: \n",
        "### ****HACER SUMATORIA TOTAL COHERENCIA!!!! PARA COMPARAR NUMERO DE TOPICS!!!!****"
      ],
      "metadata": {
        "id": "KRdmEY05pTNm"
      },
      "execution_count": null,
      "outputs": []
    },
    {
      "cell_type": "markdown",
      "source": [],
      "metadata": {
        "id": "8OOD9cK2NnRa"
      }
    },
    {
      "cell_type": "markdown",
      "source": [],
      "metadata": {
        "id": "y6S8HblWNmv8"
      }
    },
    {
      "cell_type": "code",
      "metadata": {
        "id": "aq1ChgAcVF2e",
        "colab": {
          "base_uri": "https://localhost:8080/",
          "height": 363
        },
        "outputId": "cd47ca46-11dd-4d83-f189-62002257f7c0"
      },
      "source": [
        "df_lda.sort_values(by='coherence',ascending=False)"
      ],
      "execution_count": 41,
      "outputs": [
        {
          "output_type": "execute_result",
          "data": {
            "text/plain": [
              "  topic_id coherence                                              topic\n",
              "5        5  0.555076      [de, des, la, les, et, un, le, une, nous, en]\n",
              "1        1  0.257901  [translation, machine, system, mt, systems, la...\n",
              "2        2  0.198918  [semantic, parsing, syntactic, annotation, dep...\n",
              "6        6  0.158358  [sentiment, social, analysis, news, detection,...\n",
              "7        7  0.085927  [models, model, data, training, language, perf...\n",
              "8        8  0.080812  [verbs, linguistic, verb, et, lexical, bias, s...\n",
              "0        0  0.052261  [word, languages, words, language, paper, lexi...\n",
              "9        9   0.05089  [model, information, knowledge, question, prop...\n",
              "4        4  0.026575  [task, system, features, paper, model, results...\n",
              "3        3   0.02495  [language, corpus, data, paper, research, syst..."
            ],
            "text/html": [
              "\n",
              "  <div id=\"df-d6cca9a7-e364-4bc7-b739-c805209c94d7\">\n",
              "    <div class=\"colab-df-container\">\n",
              "      <div>\n",
              "<style scoped>\n",
              "    .dataframe tbody tr th:only-of-type {\n",
              "        vertical-align: middle;\n",
              "    }\n",
              "\n",
              "    .dataframe tbody tr th {\n",
              "        vertical-align: top;\n",
              "    }\n",
              "\n",
              "    .dataframe thead th {\n",
              "        text-align: right;\n",
              "    }\n",
              "</style>\n",
              "<table border=\"1\" class=\"dataframe\">\n",
              "  <thead>\n",
              "    <tr style=\"text-align: right;\">\n",
              "      <th></th>\n",
              "      <th>topic_id</th>\n",
              "      <th>coherence</th>\n",
              "      <th>topic</th>\n",
              "    </tr>\n",
              "  </thead>\n",
              "  <tbody>\n",
              "    <tr>\n",
              "      <th>5</th>\n",
              "      <td>5</td>\n",
              "      <td>0.555076</td>\n",
              "      <td>[de, des, la, les, et, un, le, une, nous, en]</td>\n",
              "    </tr>\n",
              "    <tr>\n",
              "      <th>1</th>\n",
              "      <td>1</td>\n",
              "      <td>0.257901</td>\n",
              "      <td>[translation, machine, system, mt, systems, la...</td>\n",
              "    </tr>\n",
              "    <tr>\n",
              "      <th>2</th>\n",
              "      <td>2</td>\n",
              "      <td>0.198918</td>\n",
              "      <td>[semantic, parsing, syntactic, annotation, dep...</td>\n",
              "    </tr>\n",
              "    <tr>\n",
              "      <th>6</th>\n",
              "      <td>6</td>\n",
              "      <td>0.158358</td>\n",
              "      <td>[sentiment, social, analysis, news, detection,...</td>\n",
              "    </tr>\n",
              "    <tr>\n",
              "      <th>7</th>\n",
              "      <td>7</td>\n",
              "      <td>0.085927</td>\n",
              "      <td>[models, model, data, training, language, perf...</td>\n",
              "    </tr>\n",
              "    <tr>\n",
              "      <th>8</th>\n",
              "      <td>8</td>\n",
              "      <td>0.080812</td>\n",
              "      <td>[verbs, linguistic, verb, et, lexical, bias, s...</td>\n",
              "    </tr>\n",
              "    <tr>\n",
              "      <th>0</th>\n",
              "      <td>0</td>\n",
              "      <td>0.052261</td>\n",
              "      <td>[word, languages, words, language, paper, lexi...</td>\n",
              "    </tr>\n",
              "    <tr>\n",
              "      <th>9</th>\n",
              "      <td>9</td>\n",
              "      <td>0.05089</td>\n",
              "      <td>[model, information, knowledge, question, prop...</td>\n",
              "    </tr>\n",
              "    <tr>\n",
              "      <th>4</th>\n",
              "      <td>4</td>\n",
              "      <td>0.026575</td>\n",
              "      <td>[task, system, features, paper, model, results...</td>\n",
              "    </tr>\n",
              "    <tr>\n",
              "      <th>3</th>\n",
              "      <td>3</td>\n",
              "      <td>0.02495</td>\n",
              "      <td>[language, corpus, data, paper, research, syst...</td>\n",
              "    </tr>\n",
              "  </tbody>\n",
              "</table>\n",
              "</div>\n",
              "      <button class=\"colab-df-convert\" onclick=\"convertToInteractive('df-d6cca9a7-e364-4bc7-b739-c805209c94d7')\"\n",
              "              title=\"Convert this dataframe to an interactive table.\"\n",
              "              style=\"display:none;\">\n",
              "        \n",
              "  <svg xmlns=\"http://www.w3.org/2000/svg\" height=\"24px\"viewBox=\"0 0 24 24\"\n",
              "       width=\"24px\">\n",
              "    <path d=\"M0 0h24v24H0V0z\" fill=\"none\"/>\n",
              "    <path d=\"M18.56 5.44l.94 2.06.94-2.06 2.06-.94-2.06-.94-.94-2.06-.94 2.06-2.06.94zm-11 1L8.5 8.5l.94-2.06 2.06-.94-2.06-.94L8.5 2.5l-.94 2.06-2.06.94zm10 10l.94 2.06.94-2.06 2.06-.94-2.06-.94-.94-2.06-.94 2.06-2.06.94z\"/><path d=\"M17.41 7.96l-1.37-1.37c-.4-.4-.92-.59-1.43-.59-.52 0-1.04.2-1.43.59L10.3 9.45l-7.72 7.72c-.78.78-.78 2.05 0 2.83L4 21.41c.39.39.9.59 1.41.59.51 0 1.02-.2 1.41-.59l7.78-7.78 2.81-2.81c.8-.78.8-2.07 0-2.86zM5.41 20L4 18.59l7.72-7.72 1.47 1.35L5.41 20z\"/>\n",
              "  </svg>\n",
              "      </button>\n",
              "      \n",
              "  <style>\n",
              "    .colab-df-container {\n",
              "      display:flex;\n",
              "      flex-wrap:wrap;\n",
              "      gap: 12px;\n",
              "    }\n",
              "\n",
              "    .colab-df-convert {\n",
              "      background-color: #E8F0FE;\n",
              "      border: none;\n",
              "      border-radius: 50%;\n",
              "      cursor: pointer;\n",
              "      display: none;\n",
              "      fill: #1967D2;\n",
              "      height: 32px;\n",
              "      padding: 0 0 0 0;\n",
              "      width: 32px;\n",
              "    }\n",
              "\n",
              "    .colab-df-convert:hover {\n",
              "      background-color: #E2EBFA;\n",
              "      box-shadow: 0px 1px 2px rgba(60, 64, 67, 0.3), 0px 1px 3px 1px rgba(60, 64, 67, 0.15);\n",
              "      fill: #174EA6;\n",
              "    }\n",
              "\n",
              "    [theme=dark] .colab-df-convert {\n",
              "      background-color: #3B4455;\n",
              "      fill: #D2E3FC;\n",
              "    }\n",
              "\n",
              "    [theme=dark] .colab-df-convert:hover {\n",
              "      background-color: #434B5C;\n",
              "      box-shadow: 0px 1px 3px 1px rgba(0, 0, 0, 0.15);\n",
              "      filter: drop-shadow(0px 1px 2px rgba(0, 0, 0, 0.3));\n",
              "      fill: #FFFFFF;\n",
              "    }\n",
              "  </style>\n",
              "\n",
              "      <script>\n",
              "        const buttonEl =\n",
              "          document.querySelector('#df-d6cca9a7-e364-4bc7-b739-c805209c94d7 button.colab-df-convert');\n",
              "        buttonEl.style.display =\n",
              "          google.colab.kernel.accessAllowed ? 'block' : 'none';\n",
              "\n",
              "        async function convertToInteractive(key) {\n",
              "          const element = document.querySelector('#df-d6cca9a7-e364-4bc7-b739-c805209c94d7');\n",
              "          const dataTable =\n",
              "            await google.colab.kernel.invokeFunction('convertToInteractive',\n",
              "                                                     [key], {});\n",
              "          if (!dataTable) return;\n",
              "\n",
              "          const docLinkHtml = 'Like what you see? Visit the ' +\n",
              "            '<a target=\"_blank\" href=https://colab.research.google.com/notebooks/data_table.ipynb>data table notebook</a>'\n",
              "            + ' to learn more about interactive tables.';\n",
              "          element.innerHTML = '';\n",
              "          dataTable['output_type'] = 'display_data';\n",
              "          await google.colab.output.renderOutput(dataTable, element);\n",
              "          const docLink = document.createElement('div');\n",
              "          docLink.innerHTML = docLinkHtml;\n",
              "          element.appendChild(docLink);\n",
              "        }\n",
              "      </script>\n",
              "    </div>\n",
              "  </div>\n",
              "  "
            ]
          },
          "metadata": {},
          "execution_count": 41
        }
      ]
    },
    {
      "cell_type": "code",
      "source": [
        "df_tf_idf.sort_values(by='coherence',ascending=False)"
      ],
      "metadata": {
        "id": "Zf-vYr0i-IDd",
        "outputId": "ab272d7b-75ff-41c8-b919-fc0cd8ab8f12",
        "colab": {
          "base_uri": "https://localhost:8080/",
          "height": 363
        }
      },
      "execution_count": 74,
      "outputs": [
        {
          "output_type": "execute_result",
          "data": {
            "text/plain": [
              "  topic_id coherence                                              topic\n",
              "4        4  0.568605      [de, des, la, les, un, le, une, nous, et, en]\n",
              "6        6  0.254704  [translation, mt, system, machine, systems, ev...\n",
              "0        0  0.231611  [social, news, media, sentiment, analysis, fea...\n",
              "9        9  0.227263  [dialogue, dialog, conversation, user, convers...\n",
              "3        3  0.155374  [task, subtask, shared, system, tweets, emotio...\n",
              "2        2  0.042644  [model, models, word, tasks, learning, knowled...\n",
              "8        8 -0.161693  [nan, annotation, corpus, resources, lexical, ...\n",
              "1        1 -0.363209  [ud, afips, hpsg, attachment, amharic, ashingt...\n",
              "5        5 -0.400593  [privacy, hyperpartisan, tl, gender, bridging,...\n",
              "7        7 -0.428394  [gec, bibliography, urdu, poetry, attacks, att..."
            ],
            "text/html": [
              "\n",
              "  <div id=\"df-56b99015-84b6-494b-9636-ec48d11261ef\">\n",
              "    <div class=\"colab-df-container\">\n",
              "      <div>\n",
              "<style scoped>\n",
              "    .dataframe tbody tr th:only-of-type {\n",
              "        vertical-align: middle;\n",
              "    }\n",
              "\n",
              "    .dataframe tbody tr th {\n",
              "        vertical-align: top;\n",
              "    }\n",
              "\n",
              "    .dataframe thead th {\n",
              "        text-align: right;\n",
              "    }\n",
              "</style>\n",
              "<table border=\"1\" class=\"dataframe\">\n",
              "  <thead>\n",
              "    <tr style=\"text-align: right;\">\n",
              "      <th></th>\n",
              "      <th>topic_id</th>\n",
              "      <th>coherence</th>\n",
              "      <th>topic</th>\n",
              "    </tr>\n",
              "  </thead>\n",
              "  <tbody>\n",
              "    <tr>\n",
              "      <th>4</th>\n",
              "      <td>4</td>\n",
              "      <td>0.568605</td>\n",
              "      <td>[de, des, la, les, un, le, une, nous, et, en]</td>\n",
              "    </tr>\n",
              "    <tr>\n",
              "      <th>6</th>\n",
              "      <td>6</td>\n",
              "      <td>0.254704</td>\n",
              "      <td>[translation, mt, system, machine, systems, ev...</td>\n",
              "    </tr>\n",
              "    <tr>\n",
              "      <th>0</th>\n",
              "      <td>0</td>\n",
              "      <td>0.231611</td>\n",
              "      <td>[social, news, media, sentiment, analysis, fea...</td>\n",
              "    </tr>\n",
              "    <tr>\n",
              "      <th>9</th>\n",
              "      <td>9</td>\n",
              "      <td>0.227263</td>\n",
              "      <td>[dialogue, dialog, conversation, user, convers...</td>\n",
              "    </tr>\n",
              "    <tr>\n",
              "      <th>3</th>\n",
              "      <td>3</td>\n",
              "      <td>0.155374</td>\n",
              "      <td>[task, subtask, shared, system, tweets, emotio...</td>\n",
              "    </tr>\n",
              "    <tr>\n",
              "      <th>2</th>\n",
              "      <td>2</td>\n",
              "      <td>0.042644</td>\n",
              "      <td>[model, models, word, tasks, learning, knowled...</td>\n",
              "    </tr>\n",
              "    <tr>\n",
              "      <th>8</th>\n",
              "      <td>8</td>\n",
              "      <td>-0.161693</td>\n",
              "      <td>[nan, annotation, corpus, resources, lexical, ...</td>\n",
              "    </tr>\n",
              "    <tr>\n",
              "      <th>1</th>\n",
              "      <td>1</td>\n",
              "      <td>-0.363209</td>\n",
              "      <td>[ud, afips, hpsg, attachment, amharic, ashingt...</td>\n",
              "    </tr>\n",
              "    <tr>\n",
              "      <th>5</th>\n",
              "      <td>5</td>\n",
              "      <td>-0.400593</td>\n",
              "      <td>[privacy, hyperpartisan, tl, gender, bridging,...</td>\n",
              "    </tr>\n",
              "    <tr>\n",
              "      <th>7</th>\n",
              "      <td>7</td>\n",
              "      <td>-0.428394</td>\n",
              "      <td>[gec, bibliography, urdu, poetry, attacks, att...</td>\n",
              "    </tr>\n",
              "  </tbody>\n",
              "</table>\n",
              "</div>\n",
              "      <button class=\"colab-df-convert\" onclick=\"convertToInteractive('df-56b99015-84b6-494b-9636-ec48d11261ef')\"\n",
              "              title=\"Convert this dataframe to an interactive table.\"\n",
              "              style=\"display:none;\">\n",
              "        \n",
              "  <svg xmlns=\"http://www.w3.org/2000/svg\" height=\"24px\"viewBox=\"0 0 24 24\"\n",
              "       width=\"24px\">\n",
              "    <path d=\"M0 0h24v24H0V0z\" fill=\"none\"/>\n",
              "    <path d=\"M18.56 5.44l.94 2.06.94-2.06 2.06-.94-2.06-.94-.94-2.06-.94 2.06-2.06.94zm-11 1L8.5 8.5l.94-2.06 2.06-.94-2.06-.94L8.5 2.5l-.94 2.06-2.06.94zm10 10l.94 2.06.94-2.06 2.06-.94-2.06-.94-.94-2.06-.94 2.06-2.06.94z\"/><path d=\"M17.41 7.96l-1.37-1.37c-.4-.4-.92-.59-1.43-.59-.52 0-1.04.2-1.43.59L10.3 9.45l-7.72 7.72c-.78.78-.78 2.05 0 2.83L4 21.41c.39.39.9.59 1.41.59.51 0 1.02-.2 1.41-.59l7.78-7.78 2.81-2.81c.8-.78.8-2.07 0-2.86zM5.41 20L4 18.59l7.72-7.72 1.47 1.35L5.41 20z\"/>\n",
              "  </svg>\n",
              "      </button>\n",
              "      \n",
              "  <style>\n",
              "    .colab-df-container {\n",
              "      display:flex;\n",
              "      flex-wrap:wrap;\n",
              "      gap: 12px;\n",
              "    }\n",
              "\n",
              "    .colab-df-convert {\n",
              "      background-color: #E8F0FE;\n",
              "      border: none;\n",
              "      border-radius: 50%;\n",
              "      cursor: pointer;\n",
              "      display: none;\n",
              "      fill: #1967D2;\n",
              "      height: 32px;\n",
              "      padding: 0 0 0 0;\n",
              "      width: 32px;\n",
              "    }\n",
              "\n",
              "    .colab-df-convert:hover {\n",
              "      background-color: #E2EBFA;\n",
              "      box-shadow: 0px 1px 2px rgba(60, 64, 67, 0.3), 0px 1px 3px 1px rgba(60, 64, 67, 0.15);\n",
              "      fill: #174EA6;\n",
              "    }\n",
              "\n",
              "    [theme=dark] .colab-df-convert {\n",
              "      background-color: #3B4455;\n",
              "      fill: #D2E3FC;\n",
              "    }\n",
              "\n",
              "    [theme=dark] .colab-df-convert:hover {\n",
              "      background-color: #434B5C;\n",
              "      box-shadow: 0px 1px 3px 1px rgba(0, 0, 0, 0.15);\n",
              "      filter: drop-shadow(0px 1px 2px rgba(0, 0, 0, 0.3));\n",
              "      fill: #FFFFFF;\n",
              "    }\n",
              "  </style>\n",
              "\n",
              "      <script>\n",
              "        const buttonEl =\n",
              "          document.querySelector('#df-56b99015-84b6-494b-9636-ec48d11261ef button.colab-df-convert');\n",
              "        buttonEl.style.display =\n",
              "          google.colab.kernel.accessAllowed ? 'block' : 'none';\n",
              "\n",
              "        async function convertToInteractive(key) {\n",
              "          const element = document.querySelector('#df-56b99015-84b6-494b-9636-ec48d11261ef');\n",
              "          const dataTable =\n",
              "            await google.colab.kernel.invokeFunction('convertToInteractive',\n",
              "                                                     [key], {});\n",
              "          if (!dataTable) return;\n",
              "\n",
              "          const docLinkHtml = 'Like what you see? Visit the ' +\n",
              "            '<a target=\"_blank\" href=https://colab.research.google.com/notebooks/data_table.ipynb>data table notebook</a>'\n",
              "            + ' to learn more about interactive tables.';\n",
              "          element.innerHTML = '';\n",
              "          dataTable['output_type'] = 'display_data';\n",
              "          await google.colab.output.renderOutput(dataTable, element);\n",
              "          const docLink = document.createElement('div');\n",
              "          docLink.innerHTML = docLinkHtml;\n",
              "          element.appendChild(docLink);\n",
              "        }\n",
              "      </script>\n",
              "    </div>\n",
              "  </div>\n",
              "  "
            ]
          },
          "metadata": {},
          "execution_count": 74
        }
      ]
    },
    {
      "cell_type": "code",
      "source": [],
      "metadata": {
        "id": "mQqqpWE_YobL"
      },
      "execution_count": null,
      "outputs": []
    }
  ]
}