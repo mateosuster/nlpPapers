{
  "nbformat": 4,
  "nbformat_minor": 0,
  "metadata": {
    "kernelspec": {
      "display_name": "Python 3",
      "language": "python",
      "name": "python3"
    },
    "language_info": {
      "codemirror_mode": {
        "name": "ipython",
        "version": 3
      },
      "file_extension": ".py",
      "mimetype": "text/x-python",
      "name": "python",
      "nbconvert_exporter": "python",
      "pygments_lexer": "ipython3",
      "version": "3.6.6"
    },
    "colab": {
      "provenance": [],
      "collapsed_sections": [],
      "toc_visible": true,
      "include_colab_link": true
    }
  },
  "cells": [
    {
      "cell_type": "markdown",
      "metadata": {
        "id": "view-in-github",
        "colab_type": "text"
      },
      "source": [
        "<a href=\"https://colab.research.google.com/github/mateosuster/nlpPapers/blob/main/code/05_LDA_TopicModels_GENSIM.ipynb\" target=\"_parent\"><img src=\"https://colab.research.google.com/assets/colab-badge.svg\" alt=\"Open In Colab\"/></a>"
      ]
    },
    {
      "cell_type": "markdown",
      "source": [
        "# Dependencias"
      ],
      "metadata": {
        "id": "IlCxk75pDePP"
      }
    },
    {
      "cell_type": "code",
      "metadata": {
        "id": "ohKmaOtj21AU"
      },
      "source": [
        "%%capture\n",
        "!pip install pyLDAvis==2.1.2\n"
      ],
      "execution_count": 9,
      "outputs": []
    },
    {
      "cell_type": "code",
      "metadata": {
        "id": "eMOaCBjl21AY",
        "colab": {
          "base_uri": "https://localhost:8080/"
        },
        "outputId": "db7b38a7-0b41-483f-9664-fb7adca1e8e7"
      },
      "source": [
        "import pandas as pd\n",
        "import numpy as np\n",
        "import matplotlib.pyplot  as plt\n",
        "from collections import Counter\n",
        "import numpy as np\n",
        "from nltk import word_tokenize, sent_tokenize\n",
        "import nltk\n",
        "nltk.download('punkt')\n",
        "nltk.download('stopwords')\n",
        "from nltk.corpus import stopwords\n",
        "\n",
        "import gensim\n",
        "from gensim.models import CoherenceModel, LdaModel, LsiModel, HdpModel\n",
        "from gensim.models.wrappers import LdaMallet\n",
        "from gensim.corpora import Dictionary\n",
        "from gensim import corpora\n",
        "\n",
        "import pyLDAvis.gensim\n",
        "pyLDAvis.enable_notebook()\n",
        "\n",
        "import os, re, operator, warnings\n",
        "warnings.filterwarnings('ignore')  \n",
        "%matplotlib inline"
      ],
      "execution_count": 10,
      "outputs": [
        {
          "output_type": "stream",
          "name": "stderr",
          "text": [
            "[nltk_data] Downloading package punkt to /root/nltk_data...\n",
            "[nltk_data]   Package punkt is already up-to-date!\n",
            "[nltk_data] Downloading package stopwords to /root/nltk_data...\n",
            "[nltk_data]   Package stopwords is already up-to-date!\n"
          ]
        }
      ]
    },
    {
      "cell_type": "markdown",
      "source": [
        "# Data"
      ],
      "metadata": {
        "id": "n358byU_Dhh8"
      }
    },
    {
      "cell_type": "code",
      "source": [
        "data = pd.read_csv(\"https://raw.githubusercontent.com/mateosuster/nlpPapers/main/code/data/ACL_data.csv\")\n",
        "data.head()\n",
        "#data.tail()"
      ],
      "metadata": {
        "colab": {
          "base_uri": "https://localhost:8080/",
          "height": 424
        },
        "id": "StS-k1EIDTwC",
        "outputId": "5e9a1ae3-49a3-44a3-943f-c288509ad7f6"
      },
      "execution_count": 11,
      "outputs": [
        {
          "output_type": "execute_result",
          "data": {
            "text/plain": [
              "   YEAR                                              TITLE  \\\n",
              "0  2022  A Systematic Survey of Text Worlds as Embodied...   \n",
              "1  2022  A Minimal Computational Improviser Based on Or...   \n",
              "2  2022  Craft an Iron Sword: Dynamically Generating In...   \n",
              "3  2022  A Sequence Modelling Approach to Question Answ...   \n",
              "4  2022  Automatic Exploration of Textual Environments ...   \n",
              "\n",
              "                                            ABSTRACT  \\\n",
              "0  Text Worlds are virtual environments for embod...   \n",
              "1  A prototype system for playing a minimal impro...   \n",
              "2  Non-Player Characters (NPCs) significantly enh...   \n",
              "3  Interactive Question Answering (IQA) requires ...   \n",
              "4  The purpose of this extended abstract is to di...   \n",
              "\n",
              "                      AUTHOR                                  PUBLISHER  \\\n",
              "0              Jansen, Peter  Association for Computational Linguistics   \n",
              "1        Montfort, Nick  and  Association for Computational Linguistics   \n",
              "2           Volum, Ryan  and  Association for Computational Linguistics   \n",
              "3       Furman, Gregory  and  Association for Computational Linguistics   \n",
              "4  Teodorescu, Laetitia  and  Association for Computational Linguistics   \n",
              "\n",
              "                                           BOOKTITLE       CATEGORY  \n",
              "0  Proceedings of the 3rd Wordplay: When Language...  INPROCEEDINGS  \n",
              "1  Proceedings of the 3rd Wordplay: When Language...  INPROCEEDINGS  \n",
              "2  Proceedings of the 3rd Wordplay: When Language...  INPROCEEDINGS  \n",
              "3  Proceedings of the 3rd Wordplay: When Language...  INPROCEEDINGS  \n",
              "4  Proceedings of the 3rd Wordplay: When Language...  INPROCEEDINGS  "
            ],
            "text/html": [
              "\n",
              "  <div id=\"df-696e809f-a060-4649-9be0-c24031cb4227\">\n",
              "    <div class=\"colab-df-container\">\n",
              "      <div>\n",
              "<style scoped>\n",
              "    .dataframe tbody tr th:only-of-type {\n",
              "        vertical-align: middle;\n",
              "    }\n",
              "\n",
              "    .dataframe tbody tr th {\n",
              "        vertical-align: top;\n",
              "    }\n",
              "\n",
              "    .dataframe thead th {\n",
              "        text-align: right;\n",
              "    }\n",
              "</style>\n",
              "<table border=\"1\" class=\"dataframe\">\n",
              "  <thead>\n",
              "    <tr style=\"text-align: right;\">\n",
              "      <th></th>\n",
              "      <th>YEAR</th>\n",
              "      <th>TITLE</th>\n",
              "      <th>ABSTRACT</th>\n",
              "      <th>AUTHOR</th>\n",
              "      <th>PUBLISHER</th>\n",
              "      <th>BOOKTITLE</th>\n",
              "      <th>CATEGORY</th>\n",
              "    </tr>\n",
              "  </thead>\n",
              "  <tbody>\n",
              "    <tr>\n",
              "      <th>0</th>\n",
              "      <td>2022</td>\n",
              "      <td>A Systematic Survey of Text Worlds as Embodied...</td>\n",
              "      <td>Text Worlds are virtual environments for embod...</td>\n",
              "      <td>Jansen, Peter</td>\n",
              "      <td>Association for Computational Linguistics</td>\n",
              "      <td>Proceedings of the 3rd Wordplay: When Language...</td>\n",
              "      <td>INPROCEEDINGS</td>\n",
              "    </tr>\n",
              "    <tr>\n",
              "      <th>1</th>\n",
              "      <td>2022</td>\n",
              "      <td>A Minimal Computational Improviser Based on Or...</td>\n",
              "      <td>A prototype system for playing a minimal impro...</td>\n",
              "      <td>Montfort, Nick  and</td>\n",
              "      <td>Association for Computational Linguistics</td>\n",
              "      <td>Proceedings of the 3rd Wordplay: When Language...</td>\n",
              "      <td>INPROCEEDINGS</td>\n",
              "    </tr>\n",
              "    <tr>\n",
              "      <th>2</th>\n",
              "      <td>2022</td>\n",
              "      <td>Craft an Iron Sword: Dynamically Generating In...</td>\n",
              "      <td>Non-Player Characters (NPCs) significantly enh...</td>\n",
              "      <td>Volum, Ryan  and</td>\n",
              "      <td>Association for Computational Linguistics</td>\n",
              "      <td>Proceedings of the 3rd Wordplay: When Language...</td>\n",
              "      <td>INPROCEEDINGS</td>\n",
              "    </tr>\n",
              "    <tr>\n",
              "      <th>3</th>\n",
              "      <td>2022</td>\n",
              "      <td>A Sequence Modelling Approach to Question Answ...</td>\n",
              "      <td>Interactive Question Answering (IQA) requires ...</td>\n",
              "      <td>Furman, Gregory  and</td>\n",
              "      <td>Association for Computational Linguistics</td>\n",
              "      <td>Proceedings of the 3rd Wordplay: When Language...</td>\n",
              "      <td>INPROCEEDINGS</td>\n",
              "    </tr>\n",
              "    <tr>\n",
              "      <th>4</th>\n",
              "      <td>2022</td>\n",
              "      <td>Automatic Exploration of Textual Environments ...</td>\n",
              "      <td>The purpose of this extended abstract is to di...</td>\n",
              "      <td>Teodorescu, Laetitia  and</td>\n",
              "      <td>Association for Computational Linguistics</td>\n",
              "      <td>Proceedings of the 3rd Wordplay: When Language...</td>\n",
              "      <td>INPROCEEDINGS</td>\n",
              "    </tr>\n",
              "  </tbody>\n",
              "</table>\n",
              "</div>\n",
              "      <button class=\"colab-df-convert\" onclick=\"convertToInteractive('df-696e809f-a060-4649-9be0-c24031cb4227')\"\n",
              "              title=\"Convert this dataframe to an interactive table.\"\n",
              "              style=\"display:none;\">\n",
              "        \n",
              "  <svg xmlns=\"http://www.w3.org/2000/svg\" height=\"24px\"viewBox=\"0 0 24 24\"\n",
              "       width=\"24px\">\n",
              "    <path d=\"M0 0h24v24H0V0z\" fill=\"none\"/>\n",
              "    <path d=\"M18.56 5.44l.94 2.06.94-2.06 2.06-.94-2.06-.94-.94-2.06-.94 2.06-2.06.94zm-11 1L8.5 8.5l.94-2.06 2.06-.94-2.06-.94L8.5 2.5l-.94 2.06-2.06.94zm10 10l.94 2.06.94-2.06 2.06-.94-2.06-.94-.94-2.06-.94 2.06-2.06.94z\"/><path d=\"M17.41 7.96l-1.37-1.37c-.4-.4-.92-.59-1.43-.59-.52 0-1.04.2-1.43.59L10.3 9.45l-7.72 7.72c-.78.78-.78 2.05 0 2.83L4 21.41c.39.39.9.59 1.41.59.51 0 1.02-.2 1.41-.59l7.78-7.78 2.81-2.81c.8-.78.8-2.07 0-2.86zM5.41 20L4 18.59l7.72-7.72 1.47 1.35L5.41 20z\"/>\n",
              "  </svg>\n",
              "      </button>\n",
              "      \n",
              "  <style>\n",
              "    .colab-df-container {\n",
              "      display:flex;\n",
              "      flex-wrap:wrap;\n",
              "      gap: 12px;\n",
              "    }\n",
              "\n",
              "    .colab-df-convert {\n",
              "      background-color: #E8F0FE;\n",
              "      border: none;\n",
              "      border-radius: 50%;\n",
              "      cursor: pointer;\n",
              "      display: none;\n",
              "      fill: #1967D2;\n",
              "      height: 32px;\n",
              "      padding: 0 0 0 0;\n",
              "      width: 32px;\n",
              "    }\n",
              "\n",
              "    .colab-df-convert:hover {\n",
              "      background-color: #E2EBFA;\n",
              "      box-shadow: 0px 1px 2px rgba(60, 64, 67, 0.3), 0px 1px 3px 1px rgba(60, 64, 67, 0.15);\n",
              "      fill: #174EA6;\n",
              "    }\n",
              "\n",
              "    [theme=dark] .colab-df-convert {\n",
              "      background-color: #3B4455;\n",
              "      fill: #D2E3FC;\n",
              "    }\n",
              "\n",
              "    [theme=dark] .colab-df-convert:hover {\n",
              "      background-color: #434B5C;\n",
              "      box-shadow: 0px 1px 3px 1px rgba(0, 0, 0, 0.15);\n",
              "      filter: drop-shadow(0px 1px 2px rgba(0, 0, 0, 0.3));\n",
              "      fill: #FFFFFF;\n",
              "    }\n",
              "  </style>\n",
              "\n",
              "      <script>\n",
              "        const buttonEl =\n",
              "          document.querySelector('#df-696e809f-a060-4649-9be0-c24031cb4227 button.colab-df-convert');\n",
              "        buttonEl.style.display =\n",
              "          google.colab.kernel.accessAllowed ? 'block' : 'none';\n",
              "\n",
              "        async function convertToInteractive(key) {\n",
              "          const element = document.querySelector('#df-696e809f-a060-4649-9be0-c24031cb4227');\n",
              "          const dataTable =\n",
              "            await google.colab.kernel.invokeFunction('convertToInteractive',\n",
              "                                                     [key], {});\n",
              "          if (!dataTable) return;\n",
              "\n",
              "          const docLinkHtml = 'Like what you see? Visit the ' +\n",
              "            '<a target=\"_blank\" href=https://colab.research.google.com/notebooks/data_table.ipynb>data table notebook</a>'\n",
              "            + ' to learn more about interactive tables.';\n",
              "          element.innerHTML = '';\n",
              "          dataTable['output_type'] = 'display_data';\n",
              "          await google.colab.output.renderOutput(dataTable, element);\n",
              "          const docLink = document.createElement('div');\n",
              "          docLink.innerHTML = docLinkHtml;\n",
              "          element.appendChild(docLink);\n",
              "        }\n",
              "      </script>\n",
              "    </div>\n",
              "  </div>\n",
              "  "
            ]
          },
          "metadata": {},
          "execution_count": 11
        }
      ]
    },
    {
      "cell_type": "code",
      "metadata": {
        "id": "dXS0khKmQe5T",
        "colab": {
          "base_uri": "https://localhost:8080/",
          "height": 157
        },
        "outputId": "299a81ad-82c3-4196-d0bd-df2e22ec80f1"
      },
      "source": [
        "#from sklearn.datasets import fetch_20newsgroups\n",
        "#dataset = fetch_20newsgroups(shuffle=True, random_state=1,remove=('headers', 'footers', 'quotes')).data\n",
        "dataset = data.ABSTRACT\n",
        "#type(dataset)\n",
        "dataset = dataset.tolist()\n",
        "dataset[3]"
      ],
      "execution_count": 13,
      "outputs": [
        {
          "output_type": "execute_result",
          "data": {
            "text/plain": [
              "'Interactive Question Answering (IQA) requires an intelligent agent to interact with a dynamic environment in order to gather information necessary to answer a question. IQA tasks have been proposed as means of training systems to develop language or visual comprehension abilities. To this end, the Question Answering with Interactive Text (QAit) task was created to produce and benchmark interactive agents capable of seeking information and answering questions in unseen environments. While prior work has exclusively focused on IQA as a reinforcement learning problem, such methods suffer from low sample efficiency and poor accuracy in zero-shot evaluation. In this paper, we propose the use of the recently proposed Decision Transformer architecture to provide improvements upon prior baselines. By utilising a causally masked GPT-2 Transformer for command generation and a BERT model for question answer prediction, we show that the Decision Transformer achieves performance greater than or equal to current state-of-the-art RL baselines on the QAit task in a sample efficient manner. In addition, these results are achievable by training on sub-optimal random trajectories, therefore not requiring the use of online agents to gather data.'"
            ],
            "application/vnd.google.colaboratory.intrinsic+json": {
              "type": "string"
            }
          },
          "metadata": {},
          "execution_count": 13
        }
      ]
    },
    {
      "cell_type": "code",
      "source": [
        "type(dataset)\n",
        "#fetch_20newsgroups"
      ],
      "metadata": {
        "colab": {
          "base_uri": "https://localhost:8080/"
        },
        "id": "qYCZQmyR_MVL",
        "outputId": "d0916558-3b99-4d65-fa64-b7dd04d72ad7"
      },
      "execution_count": 14,
      "outputs": [
        {
          "output_type": "execute_result",
          "data": {
            "text/plain": [
              "list"
            ]
          },
          "metadata": {},
          "execution_count": 14
        }
      ]
    },
    {
      "cell_type": "markdown",
      "source": [
        "# Preproc"
      ],
      "metadata": {
        "id": "SY3beaVvDkXD"
      }
    },
    {
      "cell_type": "markdown",
      "source": [
        "## Limpieza"
      ],
      "metadata": {
        "id": "kljKN4KUDnI4"
      }
    },
    {
      "cell_type": "code",
      "source": [
        "STOP_WORDS = stopwords.words(\"english\")\n",
        "\n",
        "def tokenize(x):\n",
        "    return [word for word in word_tokenize(x) if word not in STOP_WORDS and word.isalpha() and len(word)>1]\n",
        "    \n",
        "texts= [tokenize(str(doc).lower()) for doc in dataset]\n"
      ],
      "metadata": {
        "id": "2eEls9f2QLkN"
      },
      "execution_count": 16,
      "outputs": []
    },
    {
      "cell_type": "code",
      "source": [
        "print(texts[100])"
      ],
      "metadata": {
        "colab": {
          "base_uri": "https://localhost:8080/"
        },
        "id": "wUKvuUdw0jRq",
        "outputId": "b7afdd81-df4e-4502-c778-cf9ea341b833"
      },
      "execution_count": 19,
      "outputs": [
        {
          "output_type": "stream",
          "name": "stdout",
          "text": [
            "['introduce', 'natural', 'logic', 'framework', 'based', 'reinforcement', 'learning', 'introspective', 'revision', 'model', 'samples', 'rewards', 'specific', 'reasoning', 'paths', 'policy', 'gradient', 'introspective', 'revision', 'algorithm', 'modifies', 'intermediate', 'symbolic', 'reasoning', 'steps', 'discover', 'operations', 'well', 'leverages', 'external', 'knowledge', 'alleviate', 'spurious', 'reasoning', 'training', 'inefficiency', 'framework', 'supported', 'properly', 'designed', 'local', 'relation', 'models', 'avoid', 'input', 'entangling', 'helps', 'ensure', 'interpretability', 'proof', 'paths', 'proposed', 'model', 'interpretability', 'shows', 'superior', 'capability', 'monotonicity', 'inference', 'systematic', 'generalization', 'interpretability', 'compared', 'previous', 'models', 'existing', 'datasets']\n"
          ]
        }
      ]
    },
    {
      "cell_type": "markdown",
      "source": [
        "## Ajuste para LDA"
      ],
      "metadata": {
        "id": "fQCaFocqDpBy"
      }
    },
    {
      "cell_type": "code",
      "metadata": {
        "id": "u25ufjLL21Al",
        "colab": {
          "base_uri": "https://localhost:8080/"
        },
        "outputId": "432b95e9-5ecf-47e8-edba-363e0c11c441"
      },
      "source": [
        "dictionary = corpora.Dictionary(texts)  #crea diccionario asinandole un indice numerico a cada palabra\n",
        "print(len(dictionary))\n",
        "dictionary.filter_extremes(no_below=10, no_above=0.5)  #filtra tokens q aparencen en menos de 10 documentos y en mas de la mitad de los documentos.\n",
        "print(len(dictionary))"
      ],
      "execution_count": 20,
      "outputs": [
        {
          "output_type": "stream",
          "name": "stdout",
          "text": [
            "48159\n",
            "10142\n"
          ]
        }
      ]
    },
    {
      "cell_type": "code",
      "metadata": {
        "id": "qcG0Toxp21Ao"
      },
      "source": [
        "corpus = [dictionary.doc2bow(text) for text in texts]  #el bow cuenta cantidad de apariciones de cada palabra del diccionario"
      ],
      "execution_count": 21,
      "outputs": []
    },
    {
      "cell_type": "markdown",
      "source": [
        "## LDA"
      ],
      "metadata": {
        "id": "7cFr9cAzDrl2"
      }
    },
    {
      "cell_type": "code",
      "source": [
        "semilla = 420"
      ],
      "metadata": {
        "id": "h5nBM9dPD1EH"
      },
      "execution_count": 22,
      "outputs": []
    },
    {
      "cell_type": "code",
      "metadata": {
        "id": "Ro3bENF821Ar"
      },
      "source": [
        "lsamodel = LsiModel(corpus=corpus, num_topics=10, id2word=dictionary  #25\n",
        "                    # , random_seed = semilla\n",
        "                    )"
      ],
      "execution_count": 24,
      "outputs": []
    },
    {
      "cell_type": "code",
      "metadata": {
        "id": "NBp4urdZ21Au",
        "colab": {
          "base_uri": "https://localhost:8080/"
        },
        "outputId": "486a0e60-fd05-492a-83c7-107615f9e29d"
      },
      "source": [
        "lsamodel.print_topics(10,4)\n"
      ],
      "execution_count": 25,
      "outputs": [
        {
          "output_type": "execute_result",
          "data": {
            "text/plain": [
              "[(0, '0.296*\"model\" + 0.284*\"language\" + 0.261*\"models\" + 0.226*\"data\"'),\n",
              " (1, '-0.681*\"de\" + -0.280*\"la\" + -0.280*\"des\" + -0.244*\"les\"'),\n",
              " (2,\n",
              "  '-0.457*\"translation\" + 0.457*\"model\" + -0.333*\"language\" + 0.262*\"models\"'),\n",
              " (3,\n",
              "  '0.699*\"language\" + -0.437*\"translation\" + 0.200*\"models\" + -0.194*\"system\"'),\n",
              " (4,\n",
              "  '0.469*\"translation\" + 0.410*\"model\" + 0.305*\"models\" + 0.249*\"language\"'),\n",
              " (5, '-0.800*\"data\" + 0.265*\"word\" + -0.240*\"training\" + 0.156*\"language\"'),\n",
              " (6, '-0.578*\"word\" + 0.359*\"task\" + -0.257*\"embeddings\" + 0.251*\"system\"'),\n",
              " (7, '-0.636*\"model\" + 0.601*\"models\" + -0.190*\"language\" + 0.149*\"tasks\"'),\n",
              " (8, '-0.593*\"task\" + -0.264*\"word\" + -0.244*\"system\" + 0.237*\"knowledge\"'),\n",
              " (9, '-0.455*\"corpus\" + -0.427*\"models\" + 0.346*\"knowledge\" + 0.250*\"tasks\"')]"
            ]
          },
          "metadata": {},
          "execution_count": 25
        }
      ]
    },
    {
      "cell_type": "code",
      "metadata": {
        "id": "m_njO3Ak21A2"
      },
      "source": [
        "ldamodel = LdaModel(corpus=corpus, num_topics=10, id2word=dictionary, iterations = 200, passes=10\n",
        "                    # , random_seed = semilla\n",
        "                    )\n",
        "# LDA hecho con el doc2bow (bolsa de palabras comun)  (NO con TF-IDF)"
      ],
      "execution_count": 31,
      "outputs": []
    },
    {
      "cell_type": "code",
      "metadata": {
        "id": "KGbtvXC-W1_l",
        "colab": {
          "base_uri": "https://localhost:8080/"
        },
        "outputId": "e0cb8db1-073c-4a5c-d10f-496cfe9329a7"
      },
      "source": [
        "ldamodel.print_topics(10, 8)"
      ],
      "execution_count": 32,
      "outputs": [
        {
          "output_type": "execute_result",
          "data": {
            "text/plain": [
              "[(0,\n",
              "  '0.032*\"word\" + 0.021*\"languages\" + 0.018*\"words\" + 0.014*\"language\" + 0.012*\"paper\" + 0.011*\"lexical\" + 0.010*\"semantic\" + 0.010*\"english\"'),\n",
              " (1,\n",
              "  '0.107*\"translation\" + 0.046*\"machine\" + 0.035*\"system\" + 0.031*\"mt\" + 0.022*\"systems\" + 0.017*\"language\" + 0.016*\"speech\" + 0.016*\"parallel\"'),\n",
              " (2,\n",
              "  '0.021*\"semantic\" + 0.020*\"parsing\" + 0.019*\"syntactic\" + 0.014*\"annotation\" + 0.014*\"dependency\" + 0.013*\"structure\" + 0.013*\"relations\" + 0.012*\"grammar\"'),\n",
              " (3,\n",
              "  '0.014*\"language\" + 0.013*\"corpus\" + 0.010*\"data\" + 0.009*\"paper\" + 0.007*\"research\" + 0.007*\"system\" + 0.007*\"annotation\" + 0.006*\"evaluation\"'),\n",
              " (4,\n",
              "  '0.040*\"task\" + 0.028*\"system\" + 0.022*\"features\" + 0.017*\"paper\" + 0.015*\"model\" + 0.012*\"results\" + 0.011*\"shared\" + 0.010*\"classification\"'),\n",
              " (5,\n",
              "  '0.080*\"de\" + 0.034*\"des\" + 0.034*\"la\" + 0.028*\"les\" + 0.025*\"et\" + 0.022*\"un\" + 0.022*\"le\" + 0.021*\"une\"'),\n",
              " (6,\n",
              "  '0.022*\"sentiment\" + 0.016*\"social\" + 0.015*\"analysis\" + 0.014*\"news\" + 0.013*\"detection\" + 0.013*\"media\" + 0.009*\"dataset\" + 0.009*\"classification\"'),\n",
              " (7,\n",
              "  '0.023*\"models\" + 0.020*\"model\" + 0.015*\"data\" + 0.013*\"training\" + 0.012*\"language\" + 0.012*\"performance\" + 0.011*\"learning\" + 0.011*\"show\"'),\n",
              " (8,\n",
              "  '0.011*\"verbs\" + 0.011*\"linguistic\" + 0.011*\"verb\" + 0.009*\"et\" + 0.007*\"lexical\" + 0.006*\"bias\" + 0.006*\"study\" + 0.006*\"gender\"'),\n",
              " (9,\n",
              "  '0.023*\"model\" + 0.019*\"information\" + 0.017*\"knowledge\" + 0.013*\"question\" + 0.012*\"propose\" + 0.009*\"attention\" + 0.009*\"neural\" + 0.008*\"network\"')]"
            ]
          },
          "metadata": {},
          "execution_count": 32
        }
      ]
    },
    {
      "cell_type": "code",
      "metadata": {
        "id": "iPF_BUvFW1rd",
        "colab": {
          "base_uri": "https://localhost:8080/"
        },
        "outputId": "56e468a1-5fa4-4bc4-d1a1-8b0fa3e65a3d"
      },
      "source": [
        "new_text = dataset[0]\n",
        "\n",
        "# transform held_out_text into the bag-of-words space\n",
        "bow_vector = dictionary.doc2bow(tokenize(new_text.lower()))\n",
        "lda_vector = ldamodel[bow_vector]\n",
        "print(lda_vector)\n",
        "# print the document's single most prominent LDA topic\n",
        "print(ldamodel.print_topic(max(lda_vector, key=lambda item: item[1])[0]))"
      ],
      "execution_count": 33,
      "outputs": [
        {
          "output_type": "stream",
          "name": "stdout",
          "text": [
            "[(3, 0.47888765), (4, 0.024003707), (7, 0.39608443), (8, 0.017575355), (9, 0.07659768)]\n",
            "0.014*\"language\" + 0.013*\"corpus\" + 0.010*\"data\" + 0.009*\"paper\" + 0.007*\"research\" + 0.007*\"system\" + 0.007*\"annotation\" + 0.006*\"evaluation\" + 0.006*\"text\" + 0.006*\"present\"\n"
          ]
        }
      ]
    },
    {
      "cell_type": "code",
      "metadata": {
        "id": "Oypnd8WN21BB",
        "colab": {
          "base_uri": "https://localhost:8080/",
          "height": 881
        },
        "outputId": "12026cbf-ac60-4d4e-ef81-96c8ca9437fb"
      },
      "source": [
        "pyLDAvis.gensim.prepare(ldamodel, corpus, dictionary)"
      ],
      "execution_count": 34,
      "outputs": [
        {
          "output_type": "execute_result",
          "data": {
            "text/plain": [
              "PreparedData(topic_coordinates=              x         y  topics  cluster       Freq\n",
              "topic                                                \n",
              "7     -0.125550 -0.000043       1        1  26.143486\n",
              "3     -0.069832  0.048141       2        1  19.844388\n",
              "9     -0.106080 -0.044346       3        1  11.729938\n",
              "0     -0.096324 -0.008878       4        1   9.741767\n",
              "4     -0.108936 -0.094646       5        1   6.937067\n",
              "5      0.465217 -0.216215       6        1   6.130813\n",
              "6     -0.053802  0.028491       7        1   6.004640\n",
              "2     -0.021875  0.062173       8        1   5.455043\n",
              "1     -0.097533 -0.136385       9        1   4.739524\n",
              "8      0.214716  0.361708      10        1   3.273333, topic_info=             Term          Freq         Total Category  logprob  loglift\n",
              "1518  translation  13088.000000  13088.000000  Default  30.0000  30.0000\n",
              "4831           de  12668.000000  12668.000000  Default  29.0000  29.0000\n",
              "118        system  13344.000000  13344.000000  Default  28.0000  28.0000\n",
              "234          task  14632.000000  14632.000000  Default  27.0000  27.0000\n",
              "419       machine   7381.000000   7381.000000  Default  26.0000  26.0000\n",
              "...           ...           ...           ...      ...      ...      ...\n",
              "267    properties    378.885666   1166.101569  Topic10  -5.4059   2.2952\n",
              "903       whether    357.325022   1434.137488  Topic10  -5.4644   2.0297\n",
              "644         words    422.001492   6328.029332  Topic10  -5.2981   0.7116\n",
              "1309     patterns    338.207313   1367.780141  Topic10  -5.5194   2.0221\n",
              "417   investigate    332.629618   1886.551330  Topic10  -5.5361   1.6839\n",
              "\n",
              "[683 rows x 6 columns], token_table=      Topic      Freq         Term\n",
              "term                              \n",
              "1184      1  0.998477  abstractive\n",
              "176       1  0.545915     accuracy\n",
              "176       2  0.002364     accuracy\n",
              "176       3  0.023643     accuracy\n",
              "176       4  0.110413     accuracy\n",
              "...     ...       ...          ...\n",
              "5977      2  0.998188     workflow\n",
              "4552      4  0.996242          wsd\n",
              "7876      2  0.996524          xml\n",
              "3479      2  0.217944         year\n",
              "3479      9  0.780735         year\n",
              "\n",
              "[1521 rows x 3 columns], R=30, lambda_step=0.01, plot_opts={'xlab': 'PC1', 'ylab': 'PC2'}, topic_order=[8, 4, 10, 1, 5, 6, 7, 3, 2, 9])"
            ],
            "text/html": [
              "\n",
              "<link rel=\"stylesheet\" type=\"text/css\" href=\"https://cdn.rawgit.com/bmabey/pyLDAvis/files/ldavis.v1.0.0.css\">\n",
              "\n",
              "\n",
              "<div id=\"ldavis_el521398258148566564297780151\"></div>\n",
              "<script type=\"text/javascript\">\n",
              "\n",
              "var ldavis_el521398258148566564297780151_data = {\"mdsDat\": {\"x\": [-0.12555023375438246, -0.0698316165305546, -0.10608017358706442, -0.09632427506422218, -0.10893627582199374, 0.4652170566425651, -0.05380198939447262, -0.021875356577237447, -0.0975332546967309, 0.21471611878409358], \"y\": [-4.268429490426e-05, 0.04814064047809189, -0.04434565764127445, -0.008877793999948983, -0.0946455227683258, -0.2162151379594893, 0.028491215796131408, 0.06217264143223548, -0.13638547840279674, 0.3617077773602794], \"topics\": [1, 2, 3, 4, 5, 6, 7, 8, 9, 10], \"cluster\": [1, 1, 1, 1, 1, 1, 1, 1, 1, 1], \"Freq\": [26.143486076264573, 19.844387848169863, 11.72993844534333, 9.741767414236648, 6.9370669484794085, 6.13081301498747, 6.004640134507672, 5.455043134820039, 4.739524480720343, 3.2733325024706703]}, \"tinfo\": {\"Term\": [\"translation\", \"de\", \"system\", \"task\", \"machine\", \"model\", \"word\", \"des\", \"la\", \"models\", \"les\", \"languages\", \"systems\", \"semantic\", \"language\", \"mt\", \"et\", \"training\", \"data\", \"features\", \"un\", \"annotation\", \"le\", \"paper\", \"knowledge\", \"sentiment\", \"une\", \"words\", \"speech\", \"nous\", \"adversarial\", \"synsets\", \"unlabeled\", \"sampling\", \"optimization\", \"punctuation\", \"abstractive\", \"nli\", \"persian\", \"parameter\", \"motivation\", \"rouge\", \"sparsity\", \"perplexity\", \"adequacy\", \"comprises\", \"chunking\", \"valency\", \"pretraining\", \"weak\", \"finite\", \"lm\", \"connectives\", \"lemmatization\", \"restrictions\", \"aligner\", \"reward\", \"stylistic\", \"captioning\", \"intelligibility\", \"parameters\", \"downstream\", \"training\", \"augmentation\", \"models\", \"summarization\", \"generalization\", \"noise\", \"robustness\", \"transfer\", \"summaries\", \"pretrained\", \"learning\", \"tasks\", \"adaptation\", \"settings\", \"performance\", \"summary\", \"reinforcement\", \"supervised\", \"model\", \"trained\", \"show\", \"datasets\", \"data\", \"unsupervised\", \"labeled\", \"methods\", \"train\", \"better\", \"effective\", \"however\", \"domain\", \"propose\", \"method\", \"neural\", \"experiments\", \"language\", \"domains\", \"large\", \"approach\", \"work\", \"improve\", \"using\", \"results\", \"text\", \"problem\", \"new\", \"accuracy\", \"proposed\", \"task\", \"approaches\", \"different\", \"two\", \"software\", \"speaker\", \"terminology\", \"management\", \"environment\", \"feedback\", \"material\", \"ontologies\", \"projects\", \"recorded\", \"students\", \"czech\", \"infrastructure\", \"xml\", \"tutorial\", \"formats\", \"standards\", \"hours\", \"crowdsourcing\", \"transcribed\", \"commercial\", \"discusses\", \"interfaces\", \"workflow\", \"survey\", \"tagged\", \"collaborative\", \"files\", \"goals\", \"developers\", \"toolkit\", \"documentation\", \"project\", \"tool\", \"tools\", \"technologies\", \"database\", \"interface\", \"web\", \"dialogue\", \"technology\", \"transcription\", \"development\", \"freely\", \"service\", \"collection\", \"research\", \"spoken\", \"researchers\", \"user\", \"corpus\", \"annotation\", \"speakers\", \"human\", \"services\", \"discuss\", \"automatic\", \"resources\", \"collected\", \"application\", \"language\", \"processing\", \"available\", \"users\", \"process\", \"evaluation\", \"speech\", \"provide\", \"data\", \"paper\", \"present\", \"linguistic\", \"systems\", \"system\", \"describe\", \"new\", \"text\", \"used\", \"also\", \"corpora\", \"information\", \"use\", \"natural\", \"different\", \"answer\", \"answering\", \"reasoning\", \"qa\", \"answers\", \"commonsense\", \"kb\", \"valence\", \"rnns\", \"paths\", \"hpsg\", \"kg\", \"lattice\", \"formation\", \"disfluencies\", \"customization\", \"asian\", \"mrc\", \"memories\", \"pruning\", \"gated\", \"decoders\", \"math\", \"gaussian\", \"synchronous\", \"ordered\", \"categorial\", \"kgs\", \"shorter\", \"lab\", \"ir\", \"question\", \"graph\", \"passage\", \"questions\", \"comprehension\", \"explanations\", \"facts\", \"mechanism\", \"hierarchical\", \"attention\", \"relational\", \"knowledge\", \"retrieval\", \"relation\", \"reading\", \"document\", \"network\", \"information\", \"query\", \"entailment\", \"entities\", \"recurrent\", \"context\", \"matching\", \"extraction\", \"propose\", \"representation\", \"latent\", \"model\", \"generation\", \"novel\", \"proposed\", \"neural\", \"representations\", \"experimental\", \"sentence\", \"show\", \"two\", \"method\", \"problem\", \"results\", \"approach\", \"existing\", \"experiments\", \"paper\", \"text\", \"task\", \"dictionary\", \"dictionaries\", \"disambiguation\", \"senses\", \"linking\", \"morphology\", \"spontaneous\", \"analyzer\", \"wsd\", \"compounds\", \"thesaurus\", \"multiword\", \"morphologically\", \"mwes\", \"wordnets\", \"predicate\", \"basque\", \"ontological\", \"msa\", \"constituents\", \"srl\", \"mwe\", \"oov\", \"indian\", \"synonyms\", \"greek\", \"catalan\", \"chunks\", \"unification\", \"lexica\", \"lexicon\", \"character\", \"wordnet\", \"lexicons\", \"orthographic\", \"morphological\", \"ner\", \"pos\", \"russian\", \"word\", \"bilingual\", \"sense\", \"distributional\", \"arabic\", \"languages\", \"tagger\", \"embeddings\", \"words\", \"named\", \"similarity\", \"lexical\", \"spanish\", \"tagging\", \"multilingual\", \"english\", \"entity\", \"resources\", \"semantic\", \"segmentation\", \"corpora\", \"language\", \"paper\", \"method\", \"used\", \"using\", \"different\", \"corpus\", \"based\", \"results\", \"two\", \"approach\", \"information\", \"temporal\", \"multimodal\", \"visual\", \"coreference\", \"resolution\", \"medical\", \"image\", \"clinical\", \"subtask\", \"sign\", \"subtasks\", \"spatial\", \"swedish\", \"causal\", \"modalities\", \"amr\", \"anaphora\", \"patient\", \"institute\", \"danish\", \"videos\", \"notes\", \"motion\", \"disease\", \"irony\", \"kernel\", \"grid\", \"diagnosis\", \"logistic\", \"signs\", \"images\", \"team\", \"regression\", \"semeval\", \"ranked\", \"shared\", \"participation\", \"competition\", \"track\", \"features\", \"task\", \"video\", \"system\", \"feature\", \"score\", \"objects\", \"identification\", \"best\", \"ensemble\", \"classification\", \"describes\", \"achieved\", \"paper\", \"results\", \"model\", \"based\", \"using\", \"two\", \"approach\", \"text\", \"used\", \"learning\", \"set\", \"systems\", \"models\", \"de\", \"des\", \"la\", \"les\", \"un\", \"le\", \"une\", \"nous\", \"en\", \"dans\", \"pour\", \"sur\", \"pr\", \"du\", \"es\", \"est\", \"que\", \"syst\", \"qui\", \"cet\", \"sont\", \"ce\", \"cette\", \"ces\", \"mod\", \"au\", \"automatique\", \"sentons\", \"sultats\", \"thode\", \"par\", \"et\", \"plus\", \"analyse\", \"article\", \"corpus\", \"social\", \"media\", \"tweets\", \"emotion\", \"twitter\", \"polarity\", \"reviews\", \"emotions\", \"emotional\", \"comments\", \"section\", \"posts\", \"tweet\", \"adjectives\", \"political\", \"romanian\", \"stance\", \"platforms\", \"sarcasm\", \"offensive\", \"hate\", \"financial\", \"forums\", \"intensity\", \"coding\", \"fake\", \"affective\", \"personality\", \"market\", \"humor\", \"sentiment\", \"opinion\", \"news\", \"opinions\", \"articles\", \"fragments\", \"messages\", \"detection\", \"health\", \"topics\", \"topic\", \"product\", \"online\", \"analysis\", \"content\", \"classification\", \"dataset\", \"users\", \"mining\", \"text\", \"user\", \"information\", \"paper\", \"different\", \"features\", \"data\", \"research\", \"using\", \"work\", \"task\", \"parsing\", \"grammar\", \"parser\", \"treebank\", \"trees\", \"parsers\", \"argument\", \"syntax\", \"parse\", \"frame\", \"framenet\", \"reordering\", \"event\", \"treebanks\", \"collocations\", \"transliteration\", \"formalism\", \"ldc\", \"lr\", \"penn\", \"programs\", \"syntactically\", \"terminological\", \"parsed\", \"argumentation\", \"iso\", \"ud\", \"nist\", \"strings\", \"lexicalized\", \"discourse\", \"frames\", \"dependency\", \"tree\", \"arguments\", \"syntactic\", \"correction\", \"structures\", \"grammatical\", \"tag\", \"rules\", \"structure\", \"semantic\", \"relations\", \"annotation\", \"events\", \"sentences\", \"scheme\", \"errors\", \"sentence\", \"error\", \"annotated\", \"corpus\", \"algorithm\", \"paper\", \"present\", \"linguistic\", \"representation\", \"translation\", \"mt\", \"translations\", \"bleu\", \"nmt\", \"smt\", \"asr\", \"campaign\", \"translate\", \"iwslt\", \"translating\", \"translators\", \"pronunciation\", \"patent\", \"nan\", \"wmt\", \"interlingua\", \"hlt\", \"ebmt\", \"ted\", \"moses\", \"systran\", \"essay\", \"normalisation\", \"europarl\", \"talks\", \"kit\", \"btec\", \"lectures\", \"thai\", \"simultaneous\", \"parallel\", \"machine\", \"year\", \"international\", \"system\", \"quality\", \"speech\", \"systems\", \"alignment\", \"source\", \"english\", \"output\", \"pairs\", \"evaluation\", \"target\", \"monolingual\", \"language\", \"multilingual\", \"languages\", \"paper\", \"data\", \"using\", \"sentences\", \"results\", \"automatic\", \"sentence\", \"training\", \"neural\", \"task\", \"verbs\", \"verb\", \"verbal\", \"polish\", \"gles\", \"lexicales\", \"synthesis\", \"sent\", \"dialects\", \"grammaire\", \"compound\", \"entry\", \"alis\", \"biases\", \"niveau\", \"association\", \"aussi\", \"tm\", \"taggers\", \"te\", \"consortium\", \"entr\", \"interpr\", \"latin\", \"phrasal\", \"phonological\", \"fr\", \"dialectal\", \"derivational\", \"men\", \"dialect\", \"gender\", \"databases\", \"noun\", \"variation\", \"bias\", \"dimension\", \"phonetic\", \"differences\", \"measures\", \"al\", \"nouns\", \"linguistic\", \"classes\", \"frequency\", \"et\", \"linguistics\", \"lexical\", \"study\", \"measure\", \"find\", \"properties\", \"whether\", \"words\", \"patterns\", \"investigate\"], \"Freq\": [13088.0, 12668.0, 13344.0, 14632.0, 7381.0, 23927.0, 8891.0, 5334.0, 5299.0, 18720.0, 4417.0, 6689.0, 7738.0, 7146.0, 22036.0, 3832.0, 5657.0, 9569.0, 18708.0, 6828.0, 3501.0, 5670.0, 3449.0, 18165.0, 7521.0, 3414.0, 3326.0, 6328.0, 4794.0, 3112.0, 949.0477732070268, 634.0518209767757, 561.2521153925265, 492.03731734743536, 474.8736805624646, 468.5025819580977, 465.843802665758, 421.0448347853776, 399.0937241715093, 364.9701603726604, 351.01543302249115, 340.0224802028515, 334.92746071530445, 326.4577356543995, 326.0171294250691, 323.9006935643184, 322.3680648802068, 320.776261116239, 318.4223796085744, 314.6230335052573, 309.4798423252585, 303.50386535950736, 301.6876199519218, 287.7433468004809, 285.3711066999275, 265.50536355884424, 262.9822927111598, 261.98549565004856, 243.70245543201386, 242.8556457211381, 1132.57493890637, 885.7250635574034, 8621.825375344168, 567.0682196118713, 15795.522433045413, 1700.3876229965385, 658.7092157034716, 769.5586349324359, 575.635249137863, 1836.459944377593, 965.1746986824583, 585.9613692213569, 7657.059665314398, 6502.783065136425, 1323.08511707861, 898.2636686783321, 7992.1607873346575, 718.6581808599204, 494.9172627652172, 1603.877598557631, 13762.305446215314, 2583.0240494392197, 7330.542205391467, 3730.332386783028, 10330.37833557785, 1479.2748473115978, 1105.7129439225187, 4730.400572560548, 1412.5627020637667, 2661.661434512234, 1748.8174341260615, 3462.184896117061, 2900.750567767337, 4896.713419205665, 4868.10476886505, 4223.348476034668, 3404.305430803432, 8025.671966531825, 1577.9455369135683, 2830.127100767896, 4162.441568915946, 3346.9265117403606, 2156.9429191268814, 4347.157571188125, 4436.787046070002, 4071.7507476896276, 2587.203218353745, 3178.081434564998, 2309.3520345131856, 2783.8985947634715, 3594.5070433951955, 2370.0254579890143, 2874.153203269869, 2596.9891329187108, 832.6630786630558, 622.5781354333786, 579.2891119925854, 540.7856430499186, 656.7099376037737, 440.66498134568957, 428.09649148357556, 419.82561524451006, 401.79246747681805, 388.7489297889278, 375.72480611522866, 364.2829841503018, 362.03301305470615, 359.3029619732141, 330.15249212810363, 327.28365466602094, 320.3373978062637, 309.78766765907886, 305.90263161368836, 295.72269079509294, 292.98942389529935, 286.2053574271055, 277.7502564858915, 274.5507257084602, 257.2080260405614, 251.18083814096528, 247.03706271472464, 245.92063779435009, 234.19143184481243, 225.9127691568037, 411.74188176494084, 292.7141438934627, 2082.196375999254, 1796.016417581512, 2243.3734274845597, 609.4191260475843, 1477.1551697039722, 818.6363938577354, 1836.6135033429066, 2027.7280366504501, 1000.8425745001107, 535.6336639219811, 2136.3552821648145, 509.8311884658928, 485.0410407007122, 1100.0028082476886, 3597.2038709920084, 1273.0880349038448, 745.8026948450263, 1990.2762593967905, 6803.521930709767, 3471.1764281695564, 763.0826562799483, 2564.7461103512733, 545.4959235789113, 1058.0186328588677, 2312.6021346289767, 2455.0457343592248, 811.0835086066944, 1121.642049599202, 7358.033817762568, 2141.5701484062056, 2354.2841422018278, 1482.2205599465294, 1858.4579615438151, 3142.7525277068526, 2346.767226474012, 1693.2088503580044, 5235.55181395965, 4758.6411956560705, 2886.49468664613, 2087.440541918504, 2738.305015132818, 3559.941350600617, 1748.709705590387, 2527.163913799826, 2919.8015123177815, 2412.737952365757, 2404.9663914702064, 1901.256930006758, 2367.9575634114976, 1979.7844735312253, 1919.4589380113798, 1967.1060503249491, 1857.2088893129248, 1849.8711574840868, 1321.6335977956949, 1214.1336369971457, 1114.2651256908766, 472.52107194633317, 301.08348571857687, 274.6444606749475, 267.3746668962585, 251.28545817636288, 237.36227642010346, 236.80745487739708, 233.47805040681837, 200.69002097092343, 196.65374396923494, 194.91885961607795, 183.69630335589653, 178.0912206127624, 177.72058862829675, 169.68019079528824, 161.11626516391658, 152.28020012026414, 148.3944780618333, 147.36374695772702, 145.99351920871817, 135.20467523656046, 134.63185715077702, 132.8357933514237, 130.16938328785596, 130.07127792735582, 263.64060861454624, 3853.501118107859, 1870.0048978547693, 328.47357306216765, 2512.9263919306254, 752.1217365833674, 316.66474311015645, 525.2988694082943, 1351.227553244844, 1062.8079312804127, 2632.927094760838, 441.2883662450408, 5114.74306948044, 1407.3245292687996, 1958.5044516829453, 905.5535922568437, 2021.5840512197265, 2538.7237016093763, 5707.413498342881, 949.9601547022081, 561.5207272659426, 1394.7226897863445, 818.0159426558032, 2109.723568583175, 722.2354715132661, 2023.6348651066075, 3689.272392620031, 1858.668043745451, 807.0976291766776, 6850.057438813921, 1903.5782629895368, 1885.325808189923, 2306.286159401705, 2580.4670924889, 1650.0395144162117, 1376.8040818611416, 1667.911516134991, 2302.403763843657, 2033.4359672719359, 2015.8751429434762, 1638.1816845855437, 1980.2249151357603, 1863.8658325977829, 1528.6869499912211, 1546.636816459705, 1623.0918340230212, 1556.9429834662444, 1560.2283690084753, 1439.7604378186973, 882.967837461215, 811.1869664026497, 556.4252378353176, 538.9992857971357, 481.583061149784, 386.9993440691448, 331.65603100834517, 294.1645602628956, 272.1491785808687, 254.50586697303106, 253.96628316978462, 250.5840688681544, 242.98814855270152, 242.68527765268345, 228.9501554234717, 208.23808335473683, 205.8649319860239, 196.7822839079824, 180.3669442387894, 179.25389368122305, 173.95575782519288, 172.00795589275532, 171.70151836630848, 156.14045881341642, 156.15222575716712, 155.73213855660634, 151.88841156548432, 186.858701328105, 140.37911272229815, 1969.0444086316825, 656.0223453505414, 1409.5594146054682, 746.8940813581021, 254.67311836482676, 1747.1639938041678, 598.5303737435422, 824.7767486048884, 442.4172347038774, 8102.705422060236, 1331.1147990536483, 1186.950121662196, 618.5872682311666, 1897.0842707431063, 5291.359031938334, 477.4325311991794, 2399.719578265931, 4570.5347094725, 1411.357462079861, 1511.1558793458112, 2643.2338626861642, 847.3195232440896, 1012.588630846086, 1451.9111739608504, 2512.15390980692, 1514.0575930574128, 2026.4769169751066, 2589.2690507400894, 852.9049187008511, 1739.8037631794434, 3514.6556533581193, 2916.72792254247, 2092.4531912247544, 1975.6041947349306, 2309.9254896634347, 1905.3119516907398, 2025.8274401493536, 1777.9727467731477, 1911.8384103011288, 1686.9028583562895, 1612.6025457761452, 1596.9074015337808, 1426.0488601107234, 1203.6113578428601, 1058.0336159127223, 1056.81710389838, 1047.4932042306486, 1037.5649206762655, 1003.4869292497904, 777.2133629827005, 761.5997239776218, 610.855074389334, 496.30276057389426, 479.3504087617398, 377.7992600362608, 331.5135135049471, 316.4805884885069, 304.37398732777285, 290.8855804057962, 280.14579615268156, 268.04323365528484, 255.60519146880742, 210.61908263588796, 196.7889506691542, 194.91551050907003, 190.48103734678887, 186.29167357695184, 185.275699933377, 178.6373448421765, 177.34511829918486, 171.779985945259, 166.56759127993286, 736.462750280214, 514.9854089940312, 492.40674116017493, 464.85706165788315, 551.6887814040219, 1955.2799670381921, 415.93273562472456, 270.0884002786161, 504.53518024792396, 3939.0400883030416, 7112.560784134581, 565.2184284913147, 5075.404703808017, 1352.772351774446, 1164.1756006887658, 415.7302611936976, 989.0106111490778, 1393.7931801991954, 603.3854624576126, 1720.4177876449985, 1196.1236760153818, 915.9274590245399, 2971.1535183793912, 2086.49222511302, 2642.116038585886, 1567.461366161787, 1719.1335759751248, 1488.3117253474788, 1359.238210141866, 1343.1614988312388, 1178.4404926819818, 1224.9088534132718, 1044.1797515944183, 1083.9170345205664, 1154.2671357297288, 12667.531782014317, 5333.994258516835, 5298.300934013948, 4416.3262213247335, 3500.8224150050733, 3448.6185876536283, 3325.975109489642, 3111.0809960147776, 2671.0023693632097, 2489.812207127364, 2294.348335879228, 1922.161413860058, 1840.2811005418062, 1771.2859384250035, 1764.877878067722, 1517.469669336756, 1278.1390578772512, 1085.3333755271217, 1030.5743898551123, 1003.9419422988326, 845.7805859866899, 818.7572845755565, 810.5896827353727, 786.2597478051152, 760.8573381569549, 684.8536681961921, 638.7465280783446, 575.2745040484999, 572.6409320991753, 520.4644078507524, 1330.9317785720475, 3998.6776457553906, 648.7867106635387, 743.9956482258582, 1001.6996289673443, 1029.3542134451193, 2502.9119085747166, 1978.9720457098817, 1368.8335405235207, 1365.5961972919781, 1114.0040866088657, 703.7282427042369, 695.5202794746887, 619.9002691916666, 587.0401253793565, 498.01718688039887, 486.77391704659595, 460.1087222194888, 446.7331478744259, 439.74792790043034, 403.6495038333329, 394.08707350364807, 353.3374822862585, 347.57590655170463, 336.87272250037375, 293.98648402937886, 287.2712889269415, 280.6875293542436, 268.1167138189099, 250.42328230348235, 244.72582058247565, 242.83315976603407, 230.3782828375476, 217.9259647033061, 212.01590682383133, 211.8544685305854, 3336.4906701607397, 885.0791448434428, 2206.0842799691804, 410.02162229048514, 1194.7683545049974, 280.5221807909191, 435.9442261962099, 1982.6993800196635, 560.4206644944592, 761.8127279082323, 1184.266846687399, 577.0364652195099, 949.4726075536433, 2291.2395108684373, 1098.0981170309904, 1450.711784900115, 1462.8811220144732, 892.9728448924787, 570.3760319178509, 1258.3198657905277, 722.6675727611665, 1014.8335828032972, 1099.3130037070302, 883.6098923958369, 711.764802758726, 788.0335935205992, 667.4957161950883, 701.1768004877755, 683.6278687684791, 701.8568631272555, 2858.69045343394, 1679.81461310307, 1653.9711844297713, 1219.0561682062935, 732.9941236215491, 702.5370691816956, 566.1440113300631, 522.2349738583624, 509.1122315031581, 460.08650710772093, 384.425454253189, 366.90150792041766, 1255.9253616236556, 344.3004581939478, 296.72066219972237, 273.6755992039313, 257.6333832492919, 255.12663916156743, 228.12978767627018, 215.69705598735982, 215.72431263645544, 208.04685943759776, 204.70404833329053, 200.8531994824171, 199.06238034057708, 184.82854892386152, 170.47287291902674, 170.59871187494136, 159.6524415981501, 146.2787088862289, 1512.0649167989106, 525.0649507006771, 1999.7739505441414, 929.532538255874, 561.7105904843759, 2630.5004719446224, 448.7719692164825, 1186.9675127441817, 778.4252116676115, 381.27992235503854, 1019.3587979787679, 1824.1173704482865, 2951.384931159682, 1803.458893099162, 2031.7609788125078, 710.7373098213149, 1605.5459575731477, 603.3233903252411, 700.1929646187548, 1205.5060939784216, 716.2320538346692, 866.2743248132263, 1191.1640872240341, 737.8721634398709, 1092.0444397143694, 885.766970617611, 794.472158656238, 703.1397603487248, 13087.748887925341, 3831.285110527034, 1565.5297010421461, 1145.1992485852254, 1043.454459863874, 964.4137496246208, 683.2382423593693, 488.84304022305497, 442.4344291527931, 438.05057978441647, 430.58145170282114, 398.9760909615904, 260.58725978711067, 260.3113028555513, 226.87804390711045, 218.45071860243368, 164.439253697019, 151.8290374553646, 146.34323781229992, 143.12167318431977, 141.88144575837822, 131.4994231513026, 126.35880435413092, 109.46015452986249, 106.90378378672082, 97.65564235379472, 97.15705095930882, 97.08553001145053, 93.26354357709397, 90.70303390667245, 180.91737570884794, 1899.7538534764458, 5621.456327094681, 283.0326766488943, 289.0384450324986, 4233.787510638591, 1682.0541297169802, 1917.9649059379328, 2692.411166889912, 916.7246597050428, 1429.6801515347713, 1741.2308336364788, 928.4866092010934, 998.471631014375, 1602.7237230143728, 960.2467174639903, 445.6968425750954, 2107.6191446641433, 669.7218428364288, 1121.4986415775743, 1657.5715925851457, 1528.8722888582856, 1225.2351219307227, 842.6292706324467, 1074.3995265843485, 779.8368225982534, 810.7626027709907, 784.6265428561765, 719.8118519331512, 721.0299197415601, 956.9960041464426, 912.2110695374728, 443.56916995786816, 385.11050855372844, 352.12716817915896, 307.04251004306093, 343.35927269705456, 293.55988253658904, 289.2893920169032, 284.89057204787275, 274.36113287063887, 271.3327582580815, 257.4850440772111, 250.4596157600289, 243.51988448173847, 321.501950198249, 238.07187499758257, 234.02313195106765, 228.9188339972675, 191.01304156343767, 189.6612405191856, 181.1312810384609, 176.1553125340054, 169.1845008532558, 167.35490247157864, 165.89115696891176, 164.07909288508213, 162.28180279787023, 162.20521180609592, 156.17553514393236, 349.585647835464, 517.1423371677619, 426.785949092648, 429.4098659015223, 389.3824725438217, 535.1101496554074, 206.90709179977114, 311.9072806474414, 509.22276771485224, 483.8016311037285, 374.914093334829, 328.0326067989134, 926.3480554287152, 449.64415092348986, 353.9417764552253, 747.4716556240385, 356.3175215549568, 597.1466722564154, 533.3323192007086, 387.0543500076559, 451.4545941898714, 378.8856658245427, 357.32502168069016, 422.0014924486045, 338.2073128871445, 332.6296183608692], \"Total\": [13088.0, 12668.0, 13344.0, 14632.0, 7381.0, 23927.0, 8891.0, 5334.0, 5299.0, 18720.0, 4417.0, 6689.0, 7738.0, 7146.0, 22036.0, 3832.0, 5657.0, 9569.0, 18708.0, 6828.0, 3501.0, 5670.0, 3449.0, 18165.0, 7521.0, 3414.0, 3326.0, 6328.0, 4794.0, 3112.0, 949.9149152844261, 634.9201567312489, 562.1193040886486, 492.90458800778885, 475.74092585675606, 469.37034617566155, 466.7110077016018, 421.9121032257253, 399.961959557084, 365.8373993391771, 351.88398868710607, 340.88972548469104, 335.79521261282207, 327.3250151328723, 326.88486145038246, 324.7694181752938, 323.23676519273977, 321.6448869236645, 319.28951636088374, 315.4903417940663, 310.3483315183233, 304.37106088298776, 302.5553081204646, 288.61129063060235, 286.23951118839005, 266.37607287131675, 263.84946096959766, 262.8531087275319, 244.56972695870314, 243.72393088914203, 1162.0580534823748, 907.0666554069826, 9569.695096260499, 583.1698329727732, 18720.933308140236, 1858.0192046139287, 685.8434545397333, 815.9628619492194, 600.1352516897425, 2064.1928219190972, 1061.6176380420472, 617.7080811004344, 10321.898295025598, 8640.439221351548, 1515.0496887148408, 991.4590915342973, 10956.78079415887, 786.6456080028016, 521.2021194085278, 2009.4666229287034, 23927.279644538583, 3532.485401813234, 12066.647938322905, 5469.355323036303, 18708.20007118539, 1869.377691852986, 1338.9733418297046, 8239.63175520234, 1840.2494612857774, 4124.212834834415, 2435.486699902167, 5848.924761043593, 4750.302565012063, 9494.26638798107, 9791.891318368736, 8522.504418024806, 6509.936937911817, 22036.56768976719, 2211.646238827232, 5367.715043695561, 10937.526684264934, 7665.936294354441, 3747.409239975012, 12614.052874920722, 13588.40817415441, 11719.994393564632, 5211.974678540924, 7927.29590781349, 4229.592600896418, 6535.5212690785265, 14632.881645970288, 4641.374518196708, 9718.892399546148, 10042.733138644926, 833.6117291270627, 623.5268372832566, 580.2378638668863, 541.7342488072978, 658.0724938629037, 441.6136089892185, 429.0451675174748, 420.77472969622585, 402.74114502314825, 389.6975873469279, 376.67340455536316, 365.23187357447836, 362.9816203816346, 360.2520918661791, 331.1010811764225, 328.23249284526827, 321.28675132568395, 310.73632841959767, 306.851357380021, 296.6713787524855, 293.9382635456015, 287.154174556741, 278.6991866726993, 275.49933092931985, 258.17567255807575, 252.12979777701028, 247.98577656517335, 246.86929318949157, 235.1400639772381, 226.86137566513867, 416.00958847810244, 295.2355749959153, 2221.7754944471662, 1917.0324690975697, 2418.6061789668524, 635.2412471297698, 1624.1188383533981, 875.5591859791375, 2071.4254534255133, 2350.6875179858907, 1110.2681908949612, 562.8711839858585, 2534.000785102202, 534.9966675676752, 509.7315229774651, 1279.8561616080674, 4922.767385812798, 1547.6545543892673, 842.6502744089204, 2713.7632528620816, 12106.120886340814, 5670.394454011325, 896.4370375156775, 4151.758700202493, 592.4430897268973, 1411.141288934898, 4107.4736434471015, 4482.853652550955, 1008.1768950079529, 1579.2092355901966, 22036.56768976719, 3929.26072326405, 4568.3278881039205, 2376.0127907276633, 3321.2396564367177, 7275.494423890817, 4794.876115389273, 3021.3652935521054, 18708.20007118539, 18165.10170963046, 7906.758287640389, 4558.827985100366, 7738.871722708105, 13344.533398915028, 3339.512375131388, 7927.29590781349, 11719.994393564632, 8649.727494421717, 8586.45166123075, 4568.674112046271, 12600.204054664233, 7903.604087537075, 5199.075576362517, 9718.892399546148, 1858.0932932175938, 1850.7555577210662, 1322.5181836956322, 1215.0180149012658, 1115.1495533802597, 473.40544374058186, 301.96783999709305, 275.5300111959096, 268.25914898555584, 252.1699725097063, 238.24810479676526, 237.6917905985086, 234.36285123347497, 201.57566072492813, 197.53864953905273, 195.80428230534412, 184.5820177406819, 178.9755895587558, 178.60548078247598, 170.56478867125475, 162.00073379349604, 153.16484831838676, 149.27933247443488, 148.2483053202751, 146.8787230766307, 136.0898448131879, 135.51679285310925, 133.72012679089744, 131.05409355185205, 130.9563076630457, 267.4288924531923, 4156.407551491735, 2017.5996729057556, 339.6840746499639, 2814.8351673484804, 832.8224149413256, 333.22295994371314, 577.7909786491583, 1605.4751166271571, 1248.675592252197, 3432.7601615749873, 484.31651497534176, 7521.678519043092, 1850.316647264456, 2716.8260175191317, 1127.9331925784493, 3033.16662520081, 4515.788408732397, 12600.204054664233, 1368.6501632820446, 714.7838000610511, 2353.1487335458073, 1166.4943771272315, 4269.652468302361, 1006.9652965838585, 4095.753524391076, 9494.26638798107, 3726.5735965367567, 1175.992474394064, 23927.279644538583, 3941.0791821829507, 4563.379989974603, 6535.5212690785265, 8522.504418024806, 4146.207058995711, 3034.113447478031, 5229.302711171151, 12066.647938322905, 10042.733138644926, 9791.891318368736, 5211.974678540924, 13588.40817415441, 10937.526684264934, 4747.762583782257, 6509.936937911817, 18165.10170963046, 11719.994393564632, 14632.881645970288, 1440.7051191467772, 883.9124934083437, 812.1315828708289, 557.3698000014077, 540.0290559711677, 482.5717488639803, 387.94450940039275, 332.6006877023497, 295.1090782714408, 273.09379990863016, 255.45064490095461, 254.9108824491194, 251.52909967824914, 243.93269479104362, 243.62983268000983, 229.89486248549403, 209.18277985762495, 206.80976259042097, 197.7270139505256, 181.3117596335122, 180.19849207332499, 174.90031102911786, 172.95256350428778, 172.646143411736, 157.08506857458715, 157.09693682519253, 156.67741117664696, 152.8337323524162, 188.03371077896983, 141.3237815829554, 2002.2797011459352, 662.0013816139696, 1438.270376336721, 759.7869802230782, 257.01985741875507, 1801.6922230577068, 610.59945045896, 848.3488614727881, 450.4261335415085, 8891.404096641807, 1413.1637083100936, 1261.1345130109828, 658.1038652389374, 2144.223012215956, 6689.972428303939, 504.7058153736188, 2879.428128297103, 6328.029332365371, 1738.5601409826775, 2005.7433888830824, 3856.887213829015, 1028.3866883449991, 1284.5285406003652, 2126.2921416388685, 5407.358299543894, 2739.85445247921, 4482.853652550955, 7146.493771119563, 1231.4840468215193, 4568.674112046271, 22036.56768976719, 18165.10170963046, 9791.891318368736, 8649.727494421717, 12614.052874920722, 9718.892399546148, 12106.120886340814, 9702.921224662376, 13588.40817415441, 10042.733138644926, 10937.526684264934, 12600.204054664233, 1426.9537765134758, 1204.516222433363, 1058.9384560193487, 1057.721941279259, 1048.3980713422916, 1038.4697670850999, 1004.3917487760235, 778.1181614308374, 762.5200025974027, 611.760020050547, 497.22310238242466, 480.25525004920195, 378.704470282298, 332.4183455616513, 317.38542887964707, 305.2787854210915, 291.7905551884209, 281.0508105848451, 268.9487371981693, 256.51026795153757, 211.5239355920644, 197.69381908606672, 195.82070823336787, 191.38588708369673, 187.19656348113384, 186.1806730506985, 179.54255404914863, 178.24990855542157, 172.68478657320256, 167.47244984533427, 747.0188066668891, 532.1372686357003, 517.680816301773, 495.4633452585604, 604.248424100572, 2417.802713148431, 450.1775909088537, 281.37993078383016, 585.0825784071596, 6828.479436737364, 14632.881645970288, 710.7902896609949, 13344.533398915028, 2293.634854414165, 2031.4356707574043, 486.8391234169415, 1852.8806239723574, 3183.1500465839677, 865.7003548269855, 5548.384946511222, 3019.636909499335, 1861.4238186436326, 18165.10170963046, 13588.40817415441, 23927.279644538583, 9702.921224662376, 12614.052874920722, 10042.733138644926, 10937.526684264934, 11719.994393564632, 8649.727494421717, 10321.898295025598, 5539.214252938457, 7738.871722708105, 18720.933308140236, 12668.512646755307, 5334.975112622278, 5299.281794660202, 4417.307073823008, 3501.8032814082503, 3449.599451860866, 3326.955962298908, 3112.061848476799, 2671.9832362273046, 2490.7930599859947, 2295.329190140725, 1923.1422659093726, 1841.2619678206538, 1772.2667970082816, 1765.8587478409993, 1518.4505331174578, 1279.1199112136323, 1086.3142280678035, 1031.555242970585, 1004.9227948677205, 846.761438698958, 819.7381693985412, 811.5705351458053, 787.2406003557234, 761.8381972199301, 685.8345291578689, 639.7273826261857, 576.2553566727266, 573.6217839426121, 521.4452600257164, 1457.3764601769903, 5657.522904044571, 693.0845668182259, 958.282238800689, 1991.2706714622427, 12106.120886340814, 2503.8126082270146, 1979.8727814150125, 1369.734270623139, 1366.4968935743375, 1114.9047996142785, 704.6289938249528, 696.4209894338436, 620.8009660308854, 587.9408506002853, 498.9179012334009, 487.6749856696076, 461.0093953292623, 447.6338504699175, 440.6490241959423, 404.5501918015866, 394.98814697539456, 354.2381883177494, 348.47663430939355, 337.77338989790434, 294.8871507295095, 288.17195241007533, 281.5882547524568, 269.0176202968524, 251.32401383804546, 245.62684656302815, 243.73383711960236, 231.27901365864943, 218.82666608165536, 212.91678297679536, 212.75516106126466, 3414.8237355412984, 918.7712123556449, 2420.3496524518287, 429.1688247097676, 1381.7176119793237, 287.44751693867056, 492.16617556018167, 3191.6757946487073, 677.4945134677681, 1041.8039782947953, 1876.0423796300718, 744.2888038728624, 1614.7568269245965, 6663.577968096937, 2378.9129630164152, 5548.384946511222, 5904.235100989783, 2376.0127907276633, 951.3352801529032, 11719.994393564632, 2713.7632528620816, 12600.204054664233, 18165.10170963046, 9718.892399546148, 6828.479436737364, 18708.20007118539, 4922.767385812798, 12614.052874920722, 7665.936294354441, 14632.881645970288, 2859.639090475841, 1680.763302921343, 1654.9198135031015, 1220.0048255666472, 733.9427573065047, 703.4856994428851, 567.0926528444587, 523.1841387839191, 510.0608748172313, 461.0351904193057, 385.37413692540235, 367.8504087770787, 1259.2284111862868, 345.24908465057854, 297.66988860966427, 274.6244498470167, 258.5820609622183, 256.07580553590094, 229.0787422624426, 216.6456943370931, 216.67314088019293, 208.99574967762518, 205.65308485855562, 201.80187753593222, 200.01105358715395, 185.77747997577563, 171.42145605506505, 171.54812309571915, 160.60119946415492, 147.22742152144923, 1533.817886163229, 531.4170946438263, 2062.3935635838548, 954.669470426011, 578.1849260451686, 2909.251302327155, 475.9441174568611, 1455.7262914900582, 915.772991826811, 423.6621679346989, 1486.2370339049037, 3241.6410655779882, 7146.493771119563, 3844.3970498357558, 5670.394454011325, 1181.9156895560798, 4674.744286417917, 1057.7387000716194, 1465.2848250408024, 5229.302711171151, 1634.954719946242, 3554.89199173696, 12106.120886340814, 2724.3734414572327, 18165.10170963046, 7906.758287640389, 4558.827985100366, 3726.5735965367567, 13088.697553664999, 3832.233784386119, 1566.4783773553875, 1146.1479073996359, 1044.4030709052001, 965.3624049681605, 684.1868838531418, 489.79182610906383, 443.383131739343, 438.9992028988232, 431.5301351051506, 399.9247891265011, 261.53604565811133, 261.26009723558354, 227.82663487553148, 219.39933075632956, 165.38836423330181, 152.77823512171528, 147.2921460265965, 144.07036426036447, 142.83024258295998, 132.4482894355124, 127.30763375295561, 110.41013564512518, 107.85258232904367, 98.60439449812988, 98.10582187191339, 98.03441944194684, 94.21233948909885, 91.65185859333317, 189.02201137900357, 2317.5683108683565, 7381.883320532927, 362.479071854514, 374.2142867360178, 13344.533398915028, 3991.3783875747704, 4794.876115389273, 7738.871722708105, 1839.1642734206341, 3476.451351255571, 5407.358299543894, 2165.572209978691, 2724.1481137919377, 7275.494423890817, 3509.822242786598, 904.4044822379922, 22036.56768976719, 2126.2921416388685, 6689.972428303939, 18165.10170963046, 18708.20007118539, 12614.052874920722, 4674.744286417917, 13588.40817415441, 4107.4736434471015, 5229.302711171151, 9569.695096260499, 8522.504418024806, 14632.881645970288, 957.93699586469, 913.1573938400281, 444.5107384428861, 386.05157048332296, 353.06853184873387, 307.98396013458415, 344.420391367278, 294.50120154082464, 290.23033373235836, 285.8319649970631, 275.30213922708674, 272.2740259469267, 258.4265686881968, 251.40049105813378, 244.46113549792665, 322.7592225617384, 239.01324926294018, 234.96439077979184, 229.85996757488752, 191.95426722206446, 190.6028785511177, 182.0727735388962, 177.09666584440458, 170.12546471668867, 168.2961983313764, 166.83208737330222, 165.02040558856623, 163.22280210937163, 163.146266316184, 157.11672445780943, 352.3595266340453, 523.5055774276286, 459.0129226537396, 524.8622748917996, 466.97119088519537, 693.8378104688202, 225.08179919306454, 413.968399583436, 1010.2753809786507, 976.1119414859925, 640.5247097980168, 506.5888816093822, 4558.827985100366, 1085.1898557638765, 671.3628325522777, 5657.522904044571, 752.1853685736746, 3856.887213829015, 3718.427329991906, 1155.3696792101841, 2519.287359019277, 1166.1015690238255, 1434.1374882766236, 6328.029332365371, 1367.780140831396, 1886.5513298708497], \"Category\": [\"Default\", \"Default\", \"Default\", \"Default\", \"Default\", \"Default\", \"Default\", \"Default\", \"Default\", \"Default\", \"Default\", \"Default\", \"Default\", \"Default\", \"Default\", \"Default\", \"Default\", \"Default\", \"Default\", \"Default\", \"Default\", \"Default\", \"Default\", \"Default\", \"Default\", \"Default\", \"Default\", \"Default\", \"Default\", \"Default\", \"Topic1\", \"Topic1\", \"Topic1\", \"Topic1\", \"Topic1\", \"Topic1\", \"Topic1\", \"Topic1\", \"Topic1\", \"Topic1\", \"Topic1\", \"Topic1\", \"Topic1\", \"Topic1\", \"Topic1\", \"Topic1\", \"Topic1\", \"Topic1\", \"Topic1\", \"Topic1\", \"Topic1\", \"Topic1\", \"Topic1\", \"Topic1\", \"Topic1\", \"Topic1\", \"Topic1\", \"Topic1\", \"Topic1\", \"Topic1\", \"Topic1\", \"Topic1\", \"Topic1\", \"Topic1\", \"Topic1\", \"Topic1\", \"Topic1\", \"Topic1\", \"Topic1\", \"Topic1\", \"Topic1\", \"Topic1\", \"Topic1\", \"Topic1\", \"Topic1\", \"Topic1\", \"Topic1\", \"Topic1\", \"Topic1\", \"Topic1\", \"Topic1\", \"Topic1\", \"Topic1\", \"Topic1\", \"Topic1\", \"Topic1\", \"Topic1\", \"Topic1\", \"Topic1\", \"Topic1\", \"Topic1\", \"Topic1\", \"Topic1\", \"Topic1\", \"Topic1\", \"Topic1\", \"Topic1\", \"Topic1\", \"Topic1\", \"Topic1\", \"Topic1\", \"Topic1\", \"Topic1\", \"Topic1\", \"Topic1\", \"Topic1\", \"Topic1\", \"Topic1\", \"Topic1\", \"Topic1\", \"Topic1\", \"Topic1\", \"Topic1\", \"Topic1\", \"Topic2\", \"Topic2\", \"Topic2\", \"Topic2\", \"Topic2\", \"Topic2\", \"Topic2\", \"Topic2\", \"Topic2\", \"Topic2\", \"Topic2\", \"Topic2\", \"Topic2\", \"Topic2\", \"Topic2\", \"Topic2\", \"Topic2\", \"Topic2\", \"Topic2\", \"Topic2\", \"Topic2\", \"Topic2\", \"Topic2\", \"Topic2\", \"Topic2\", \"Topic2\", \"Topic2\", \"Topic2\", \"Topic2\", \"Topic2\", \"Topic2\", \"Topic2\", \"Topic2\", \"Topic2\", \"Topic2\", \"Topic2\", \"Topic2\", \"Topic2\", \"Topic2\", \"Topic2\", \"Topic2\", \"Topic2\", \"Topic2\", \"Topic2\", \"Topic2\", \"Topic2\", \"Topic2\", \"Topic2\", \"Topic2\", \"Topic2\", \"Topic2\", \"Topic2\", \"Topic2\", \"Topic2\", \"Topic2\", \"Topic2\", \"Topic2\", \"Topic2\", \"Topic2\", \"Topic2\", \"Topic2\", \"Topic2\", \"Topic2\", \"Topic2\", \"Topic2\", \"Topic2\", \"Topic2\", \"Topic2\", \"Topic2\", \"Topic2\", \"Topic2\", \"Topic2\", \"Topic2\", \"Topic2\", \"Topic2\", \"Topic2\", \"Topic2\", \"Topic2\", \"Topic2\", \"Topic2\", \"Topic2\", \"Topic2\", \"Topic2\", \"Topic2\", \"Topic3\", \"Topic3\", \"Topic3\", \"Topic3\", \"Topic3\", \"Topic3\", \"Topic3\", \"Topic3\", \"Topic3\", \"Topic3\", \"Topic3\", \"Topic3\", \"Topic3\", \"Topic3\", \"Topic3\", \"Topic3\", \"Topic3\", \"Topic3\", \"Topic3\", \"Topic3\", \"Topic3\", \"Topic3\", \"Topic3\", \"Topic3\", \"Topic3\", \"Topic3\", \"Topic3\", \"Topic3\", \"Topic3\", \"Topic3\", \"Topic3\", \"Topic3\", \"Topic3\", \"Topic3\", \"Topic3\", \"Topic3\", \"Topic3\", \"Topic3\", \"Topic3\", \"Topic3\", \"Topic3\", \"Topic3\", \"Topic3\", \"Topic3\", \"Topic3\", \"Topic3\", \"Topic3\", \"Topic3\", \"Topic3\", \"Topic3\", \"Topic3\", \"Topic3\", \"Topic3\", \"Topic3\", \"Topic3\", \"Topic3\", \"Topic3\", \"Topic3\", \"Topic3\", \"Topic3\", \"Topic3\", \"Topic3\", \"Topic3\", \"Topic3\", \"Topic3\", \"Topic3\", \"Topic3\", \"Topic3\", \"Topic3\", \"Topic3\", \"Topic3\", \"Topic3\", \"Topic3\", \"Topic3\", \"Topic3\", \"Topic3\", \"Topic3\", \"Topic3\", \"Topic4\", \"Topic4\", \"Topic4\", \"Topic4\", \"Topic4\", \"Topic4\", \"Topic4\", \"Topic4\", \"Topic4\", \"Topic4\", \"Topic4\", \"Topic4\", \"Topic4\", \"Topic4\", \"Topic4\", \"Topic4\", \"Topic4\", \"Topic4\", \"Topic4\", \"Topic4\", \"Topic4\", \"Topic4\", \"Topic4\", \"Topic4\", \"Topic4\", \"Topic4\", \"Topic4\", \"Topic4\", \"Topic4\", \"Topic4\", \"Topic4\", \"Topic4\", \"Topic4\", \"Topic4\", \"Topic4\", \"Topic4\", \"Topic4\", \"Topic4\", \"Topic4\", \"Topic4\", \"Topic4\", \"Topic4\", \"Topic4\", \"Topic4\", \"Topic4\", \"Topic4\", \"Topic4\", \"Topic4\", \"Topic4\", \"Topic4\", \"Topic4\", \"Topic4\", \"Topic4\", \"Topic4\", \"Topic4\", \"Topic4\", \"Topic4\", \"Topic4\", \"Topic4\", \"Topic4\", \"Topic4\", \"Topic4\", \"Topic4\", \"Topic4\", \"Topic4\", \"Topic4\", \"Topic4\", \"Topic4\", \"Topic4\", \"Topic4\", \"Topic4\", \"Topic4\", \"Topic5\", \"Topic5\", \"Topic5\", \"Topic5\", \"Topic5\", \"Topic5\", \"Topic5\", \"Topic5\", \"Topic5\", \"Topic5\", \"Topic5\", \"Topic5\", \"Topic5\", \"Topic5\", \"Topic5\", \"Topic5\", \"Topic5\", \"Topic5\", \"Topic5\", \"Topic5\", \"Topic5\", \"Topic5\", \"Topic5\", \"Topic5\", \"Topic5\", \"Topic5\", \"Topic5\", \"Topic5\", \"Topic5\", \"Topic5\", \"Topic5\", \"Topic5\", \"Topic5\", \"Topic5\", \"Topic5\", \"Topic5\", \"Topic5\", \"Topic5\", \"Topic5\", \"Topic5\", \"Topic5\", \"Topic5\", \"Topic5\", \"Topic5\", \"Topic5\", \"Topic5\", \"Topic5\", \"Topic5\", \"Topic5\", \"Topic5\", \"Topic5\", \"Topic5\", \"Topic5\", \"Topic5\", \"Topic5\", \"Topic5\", \"Topic5\", \"Topic5\", \"Topic5\", \"Topic5\", \"Topic5\", \"Topic5\", \"Topic5\", \"Topic5\", \"Topic5\", \"Topic6\", \"Topic6\", \"Topic6\", \"Topic6\", \"Topic6\", \"Topic6\", \"Topic6\", \"Topic6\", \"Topic6\", \"Topic6\", \"Topic6\", \"Topic6\", \"Topic6\", \"Topic6\", \"Topic6\", \"Topic6\", \"Topic6\", \"Topic6\", \"Topic6\", \"Topic6\", \"Topic6\", \"Topic6\", \"Topic6\", \"Topic6\", \"Topic6\", \"Topic6\", \"Topic6\", \"Topic6\", \"Topic6\", \"Topic6\", \"Topic6\", \"Topic6\", \"Topic6\", \"Topic6\", \"Topic6\", \"Topic6\", \"Topic7\", \"Topic7\", \"Topic7\", \"Topic7\", \"Topic7\", \"Topic7\", \"Topic7\", \"Topic7\", \"Topic7\", \"Topic7\", \"Topic7\", \"Topic7\", \"Topic7\", \"Topic7\", \"Topic7\", \"Topic7\", \"Topic7\", \"Topic7\", \"Topic7\", \"Topic7\", \"Topic7\", \"Topic7\", \"Topic7\", \"Topic7\", \"Topic7\", \"Topic7\", \"Topic7\", \"Topic7\", \"Topic7\", \"Topic7\", \"Topic7\", \"Topic7\", \"Topic7\", \"Topic7\", \"Topic7\", \"Topic7\", \"Topic7\", \"Topic7\", \"Topic7\", \"Topic7\", \"Topic7\", \"Topic7\", \"Topic7\", \"Topic7\", \"Topic7\", \"Topic7\", \"Topic7\", \"Topic7\", \"Topic7\", \"Topic7\", \"Topic7\", \"Topic7\", \"Topic7\", \"Topic7\", \"Topic7\", \"Topic7\", \"Topic7\", \"Topic7\", \"Topic7\", \"Topic7\", \"Topic8\", \"Topic8\", \"Topic8\", \"Topic8\", \"Topic8\", \"Topic8\", \"Topic8\", \"Topic8\", \"Topic8\", \"Topic8\", \"Topic8\", \"Topic8\", \"Topic8\", \"Topic8\", \"Topic8\", \"Topic8\", \"Topic8\", \"Topic8\", \"Topic8\", \"Topic8\", \"Topic8\", \"Topic8\", \"Topic8\", \"Topic8\", \"Topic8\", \"Topic8\", \"Topic8\", \"Topic8\", \"Topic8\", \"Topic8\", \"Topic8\", \"Topic8\", \"Topic8\", \"Topic8\", \"Topic8\", \"Topic8\", \"Topic8\", \"Topic8\", \"Topic8\", \"Topic8\", \"Topic8\", \"Topic8\", \"Topic8\", \"Topic8\", \"Topic8\", \"Topic8\", \"Topic8\", \"Topic8\", \"Topic8\", \"Topic8\", \"Topic8\", \"Topic8\", \"Topic8\", \"Topic8\", \"Topic8\", \"Topic8\", \"Topic8\", \"Topic8\", \"Topic9\", \"Topic9\", \"Topic9\", \"Topic9\", \"Topic9\", \"Topic9\", \"Topic9\", \"Topic9\", \"Topic9\", \"Topic9\", \"Topic9\", \"Topic9\", \"Topic9\", \"Topic9\", \"Topic9\", \"Topic9\", \"Topic9\", \"Topic9\", \"Topic9\", \"Topic9\", \"Topic9\", \"Topic9\", \"Topic9\", \"Topic9\", \"Topic9\", \"Topic9\", \"Topic9\", \"Topic9\", \"Topic9\", \"Topic9\", \"Topic9\", \"Topic9\", \"Topic9\", \"Topic9\", \"Topic9\", \"Topic9\", \"Topic9\", \"Topic9\", \"Topic9\", \"Topic9\", \"Topic9\", \"Topic9\", \"Topic9\", \"Topic9\", \"Topic9\", \"Topic9\", \"Topic9\", \"Topic9\", \"Topic9\", \"Topic9\", \"Topic9\", \"Topic9\", \"Topic9\", \"Topic9\", \"Topic9\", \"Topic9\", \"Topic9\", \"Topic9\", \"Topic9\", \"Topic9\", \"Topic10\", \"Topic10\", \"Topic10\", \"Topic10\", \"Topic10\", \"Topic10\", \"Topic10\", \"Topic10\", \"Topic10\", \"Topic10\", \"Topic10\", \"Topic10\", \"Topic10\", \"Topic10\", \"Topic10\", \"Topic10\", \"Topic10\", \"Topic10\", \"Topic10\", \"Topic10\", \"Topic10\", \"Topic10\", \"Topic10\", \"Topic10\", \"Topic10\", \"Topic10\", \"Topic10\", \"Topic10\", \"Topic10\", \"Topic10\", \"Topic10\", \"Topic10\", \"Topic10\", \"Topic10\", \"Topic10\", \"Topic10\", \"Topic10\", \"Topic10\", \"Topic10\", \"Topic10\", \"Topic10\", \"Topic10\", \"Topic10\", \"Topic10\", \"Topic10\", \"Topic10\", \"Topic10\", \"Topic10\", \"Topic10\", \"Topic10\", \"Topic10\", \"Topic10\", \"Topic10\", \"Topic10\", \"Topic10\", \"Topic10\"], \"logprob\": [30.0, 29.0, 28.0, 27.0, 26.0, 25.0, 24.0, 23.0, 22.0, 21.0, 20.0, 19.0, 18.0, 17.0, 16.0, 15.0, 14.0, 13.0, 12.0, 11.0, 10.0, 9.0, 8.0, 7.0, 6.0, 5.0, 4.0, 3.0, 2.0, 1.0, -6.565400123596191, -6.968699932098389, -7.090700149536133, -7.222300052642822, -7.257800102233887, -7.271299839019775, -7.2769999504089355, -7.3780999183654785, -7.431700229644775, -7.521100044250488, -7.559999942779541, -7.591899871826172, -7.60699987411499, -7.632599830627441, -7.633900165557861, -7.640399932861328, -7.645199775695801, -7.650100231170654, -7.65749979019165, -7.66949987411499, -7.685999870300293, -7.70550012588501, -7.71150016784668, -7.758800029754639, -7.767099857330322, -7.839200019836426, -7.848800182342529, -7.85260009765625, -7.924900054931641, -7.928400039672852, -6.388599872589111, -6.634500026702881, -4.358799934387207, -7.080399990081787, -3.7534000873565674, -5.9822998046875, -6.930600166320801, -6.775100231170654, -7.065400123596191, -5.905300140380859, -6.548600196838379, -7.047599792480469, -4.477499961853027, -4.640900135040283, -6.2332000732421875, -6.6203999519348145, -4.434700012207031, -6.843500137329102, -7.2164998054504395, -6.0406999588012695, -3.891200065612793, -5.564199924468994, -4.521100044250488, -5.196599960327148, -4.177999973297119, -6.121600151062012, -6.412600040435791, -4.959099769592285, -6.167699813842773, -5.534200191497803, -5.95419979095459, -5.271200180053711, -5.448200225830078, -4.924600124359131, -4.9303998947143555, -5.072500228881836, -5.288099765777588, -4.430500030517578, -6.057000160217285, -5.472799777984619, -5.086999893188477, -5.305099964141846, -5.7444000244140625, -5.043600082397461, -5.023200035095215, -5.109000205993652, -5.5625, -5.356800079345703, -5.676199913024902, -5.489299774169922, -5.233699798583984, -5.650199890136719, -5.457399845123291, -5.558800220489502, -6.420599937438965, -6.711299896240234, -6.783400058746338, -6.852200031280518, -6.6579999923706055, -7.0569000244140625, -7.085899829864502, -7.105400085449219, -7.1493000984191895, -7.182300090789795, -7.216300010681152, -7.247300148010254, -7.253499984741211, -7.261000156402588, -7.345600128173828, -7.354400157928467, -7.375800132751465, -7.409299850463867, -7.421899795532227, -7.4558000564575195, -7.465099811553955, -7.488500118255615, -7.518499851226807, -7.530099868774414, -7.595300197601318, -7.61899995803833, -7.635700225830078, -7.640200138092041, -7.6890997886657715, -7.725100040435791, -7.124800205230713, -7.466000080108643, -5.504000186920166, -5.651899814605713, -5.429500102996826, -6.732699871063232, -5.847300052642822, -6.437600135803223, -5.629499912261963, -5.5304999351501465, -6.236599922180176, -6.861700057983398, -5.478300094604492, -6.911099910736084, -6.960999965667725, -6.142099857330322, -4.957300186157227, -5.995999813079834, -6.530700206756592, -5.549200057983398, -4.320000171661377, -4.993000030517578, -6.507800102233887, -5.295599937438965, -6.843500137329102, -6.181000232696533, -5.399099826812744, -5.339300155639648, -6.446800231933594, -6.122700214385986, -4.241700172424316, -5.475900173187256, -5.381199836730957, -5.843900203704834, -5.617700099945068, -5.092299938201904, -5.384399890899658, -5.7108001708984375, -4.581999778747559, -4.677499771118164, -5.1774001121521, -5.501500129699707, -5.230100154876709, -4.967700004577637, -5.678599834442139, -5.310299873352051, -5.165900230407715, -5.3566999435424805, -5.359899997711182, -5.594900131225586, -5.375400066375732, -5.554500102996826, -5.585400104522705, -5.5609002113342285, -5.092599868774414, -5.09660005569458, -5.432799816131592, -5.517600059509277, -5.603499889373779, -6.461299896240234, -6.9120001792907715, -7.003900051116943, -7.030799865722656, -7.092800140380859, -7.149799823760986, -7.152200222015381, -7.166299819946289, -7.317699909210205, -7.3379998207092285, -7.346799850463867, -7.406099796295166, -7.437099933624268, -7.439199924468994, -7.485499858856201, -7.537300109863281, -7.593699932098389, -7.619500160217285, -7.626500129699707, -7.635900020599365, -7.712600231170654, -7.716899871826172, -7.730299949645996, -7.7505998611450195, -7.751299858093262, -7.0447998046875, -4.36269998550415, -5.085700035095215, -6.824999809265137, -4.790200233459473, -5.996500015258789, -6.861599922180176, -6.355500221252441, -5.410699844360352, -5.6508002281188965, -4.743599891662598, -6.529699802398682, -4.079500198364258, -5.369999885559082, -5.0395002365112305, -5.8109002113342285, -5.007800102233887, -4.78000020980835, -3.969899892807007, -5.763000011444092, -6.28879976272583, -5.379000186920166, -5.912499904632568, -4.965099811553955, -6.037099838256836, -5.006800174713135, -4.406199932098389, -5.091800212860107, -5.926000118255615, -3.787400007247925, -5.06790018081665, -5.077600002288818, -4.875999927520752, -4.763700008392334, -5.210899829864502, -5.391900062561035, -5.200099945068359, -4.877699851989746, -5.0019001960754395, -5.0106000900268555, -5.218100070953369, -5.028500080108643, -5.089000225067139, -5.287300109863281, -5.275599956512451, -5.22730016708374, -5.268899917602539, -5.2667999267578125, -5.161499977111816, -5.650400161743164, -5.735199928283691, -6.112199783325195, -6.144000053405762, -6.2565999031066895, -6.475299835205078, -6.6296000480651855, -6.749599933624268, -6.827400207519531, -6.894400119781494, -6.896500110626221, -6.909900188446045, -6.940700054168701, -6.94189977645874, -7.000199794769287, -7.09499979019165, -7.106500148773193, -7.151599884033203, -7.238699913024902, -7.244900226593018, -7.274899959564209, -7.286200046539307, -7.287899971008301, -7.382900238037109, -7.382900238037109, -7.3856000900268555, -7.410600185394287, -7.2032999992370605, -7.4893999099731445, -4.848400115966797, -5.947500228881836, -5.182700157165527, -5.817800045013428, -6.893700122833252, -4.9679999351501465, -6.0391998291015625, -5.718599796295166, -6.341400146484375, -3.4337000846862793, -5.2399001121521, -5.354599952697754, -6.00629997253418, -4.8856000900268555, -3.8598999977111816, -6.2652997970581055, -4.650599956512451, -4.00629997253418, -5.181399822235107, -5.113100051879883, -4.553899765014648, -5.6915998458862305, -5.513400077819824, -5.15310001373291, -4.604800224304199, -5.111199855804443, -4.8196001052856445, -4.5746002197265625, -5.685100078582764, -4.9721999168396, -4.269000053405762, -4.45550012588501, -4.787600040435791, -4.845099925994873, -4.688700199127197, -4.88129997253418, -4.820000171661377, -4.950500011444092, -4.877900123596191, -5.0030999183654785, -5.048099994659424, -5.0578999519348145, -4.831500053405762, -5.001100063323975, -5.130000114440918, -5.131100177764893, -5.139999866485596, -5.149499893188477, -5.1828999519348145, -5.438399791717529, -5.458700180053711, -5.679299831390381, -5.88700008392334, -5.9217000007629395, -6.159800052642822, -6.290500164031982, -6.336900234222412, -6.375899791717529, -6.421199798583984, -6.458799839019775, -6.502999782562256, -6.55049991607666, -6.744100093841553, -6.811999797821045, -6.821599960327148, -6.844600200653076, -6.866799831390381, -6.872300148010254, -6.90880012512207, -6.916100025177002, -6.94789981842041, -6.978799819946289, -5.492300033569336, -5.849999904632568, -5.894899845123291, -5.952400207519531, -5.781199932098389, -4.515900135040283, -6.063600063323975, -6.4953999519348145, -5.870500087738037, -3.815500020980835, -3.2244999408721924, -5.756899833679199, -3.562000036239624, -4.884200096130371, -5.03439998626709, -6.0640997886657715, -5.197500228881836, -4.854400157928467, -5.6915998458862305, -4.643799781799316, -5.007299900054932, -5.274199962615967, -4.097499847412109, -4.450900077819824, -4.214799880981445, -4.7368998527526855, -4.644599914550781, -4.78879976272583, -4.879499912261963, -4.89139986038208, -5.022200107574463, -4.983500003814697, -5.143199920654297, -5.105800151824951, -5.042900085449219, -2.5237998962402344, -3.3887999057769775, -3.3954999446868896, -3.577500104904175, -3.8099000453948975, -3.824899911880493, -3.8610999584198, -3.9279000759124756, -4.080399990081787, -4.150599956512451, -4.232399940490723, -4.40939998626709, -4.452899932861328, -4.491099834442139, -4.494800090789795, -4.6458001136779785, -4.817399978637695, -4.980999946594238, -5.032700061798096, -5.058899879455566, -5.230299949645996, -5.262800216674805, -5.272799968719482, -5.303299903869629, -5.33620023727417, -5.441400051116943, -5.511099815368652, -5.615799903869629, -5.620299816131592, -5.71589994430542, -4.7769999504089355, -3.6768999099731445, -5.495500087738037, -5.35860013961792, -5.061200141906738, -5.033899784088135, -4.124599933624268, -4.359499931335449, -4.728099822998047, -4.730500221252441, -4.934100151062012, -5.393400192260742, -5.405200004577637, -5.520299911499023, -5.574699878692627, -5.739200115203857, -5.76200008392334, -5.818299770355225, -5.847799777984619, -5.86359977722168, -5.9492998123168945, -5.973199844360352, -6.082399845123291, -6.098800182342529, -6.130099773406982, -6.266300201416016, -6.289400100708008, -6.312600135803223, -6.358399868011475, -6.426700115203857, -6.449699878692627, -6.457399845123291, -6.5100998878479, -6.565700054168701, -6.593200206756592, -6.593900203704834, -3.837100028991699, -5.164100170135498, -4.250800132751465, -5.933599948883057, -4.864099979400635, -6.313199996948242, -5.872300148010254, -4.357600212097168, -5.621099948883057, -5.3140997886657715, -4.872900009155273, -5.591899871826172, -5.093900203704834, -4.2129998207092285, -4.948500156402588, -4.670000076293945, -4.661600112915039, -5.155300140380859, -5.603499889373779, -4.812300205230713, -5.3668999671936035, -5.027299880981445, -4.947400093078613, -5.165800094604492, -5.3821001052856445, -5.280300140380859, -5.446300029754639, -5.39709997177124, -5.422399997711182, -5.396100044250488, -3.895699977874756, -4.4274001121521, -4.44290018081665, -4.748000144958496, -5.256700038909912, -5.299099922180176, -5.514999866485596, -5.595699787139893, -5.621200084686279, -5.722400188446045, -5.902100086212158, -5.948699951171875, -4.718200206756592, -6.01230001449585, -6.160999774932861, -6.2418999671936035, -6.302299976348877, -6.312099933624268, -6.423900127410889, -6.479899883270264, -6.479800224304199, -6.51609992980957, -6.532299995422363, -6.551199913024902, -6.560200214385986, -6.634399890899658, -6.715199947357178, -6.7144999504089355, -6.780799865722656, -6.868299961090088, -4.532599925994873, -5.5903000831604, -4.252999782562256, -5.019100189208984, -5.522799968719482, -3.9788999557495117, -5.747300148010254, -4.774700164794922, -5.196499824523926, -5.910299777984619, -4.9268999099731445, -4.34499979019165, -3.863800048828125, -4.356400012969971, -4.237199783325195, -5.287499904632568, -4.472599983215332, -5.451399803161621, -5.302499771118164, -4.759200096130371, -5.279799938201904, -5.089600086212158, -4.771100044250488, -5.25, -4.857999801635742, -5.067399978637695, -5.17609977722168, -5.298299789428711, -2.233799934387207, -3.4623000621795654, -4.3572001457214355, -4.669899940490723, -4.762899875640869, -4.841700077056885, -5.186399936676025, -5.521200180053711, -5.6209001541137695, -5.630899906158447, -5.648099899291992, -5.724299907684326, -6.150300025939941, -6.151299953460693, -6.28879976272583, -6.326700210571289, -6.6107001304626465, -6.690499782562256, -6.72730016708374, -6.749499797821045, -6.758200168609619, -6.834199905395508, -6.874100208282471, -7.0177001953125, -7.041299819946289, -7.131800174713135, -7.136899948120117, -7.137599945068359, -7.177800178527832, -7.205599784851074, -6.515200138092041, -4.163700103759766, -3.078900098800659, -6.067699909210205, -6.0467000007629395, -3.3624000549316406, -4.285399913787842, -4.154200077056885, -3.815000057220459, -4.892399787902832, -4.447999954223633, -4.250899791717529, -4.879700183868408, -4.807000160217285, -4.333799839019775, -4.8460001945495605, -5.61359977722168, -4.059899806976318, -5.206399917602539, -4.690800189971924, -4.300099849700928, -4.380899906158447, -4.60230016708374, -4.9766998291015625, -4.733699798583984, -5.054100036621094, -5.015200138092041, -5.047999858856201, -5.134200096130371, -5.132500171661377, -4.479300022125244, -4.527200222015381, -5.248199939727783, -5.389599800109863, -5.479100227355957, -5.616099834442139, -5.504300117492676, -5.660999774932861, -5.6757001876831055, -5.690999984741211, -5.728600025177002, -5.739699840545654, -5.792099952697754, -5.819799900054932, -5.847899913787842, -5.570099830627441, -5.870500087738037, -5.887700080871582, -5.9096999168396, -6.090700149536133, -6.097799777984619, -6.143899917602539, -6.1717000007629395, -6.212100028991699, -6.2230000495910645, -6.231800079345703, -6.242700099945068, -6.253799915313721, -6.254199981689453, -6.292099952697754, -5.486299991607666, -5.094799995422363, -5.286799907684326, -5.280700206756592, -5.378499984741211, -5.0605998039245605, -6.010799884796143, -5.600399971008301, -5.110199928283691, -5.161399841308594, -5.416399955749512, -5.550000190734863, -4.5117998123168945, -5.234600067138672, -5.473999977111816, -4.726399898529053, -5.467299938201904, -4.950900077819824, -5.063899993896484, -5.384500026702881, -5.230599880218506, -5.405900001525879, -5.464399814605713, -5.298099994659424, -5.519400119781494, -5.536099910736084], \"loglift\": [30.0, 29.0, 28.0, 27.0, 26.0, 25.0, 24.0, 23.0, 22.0, 21.0, 20.0, 19.0, 18.0, 17.0, 16.0, 15.0, 14.0, 13.0, 12.0, 11.0, 10.0, 9.0, 8.0, 7.0, 6.0, 5.0, 4.0, 3.0, 2.0, 1.0, 1.3407, 1.3402, 1.34, 1.3398, 1.3397, 1.3397, 1.3397, 1.3395, 1.3394, 1.3392, 1.3391, 1.339, 1.339, 1.3389, 1.3389, 1.3389, 1.3389, 1.3389, 1.3389, 1.3388, 1.3388, 1.3387, 1.3387, 1.3386, 1.3385, 1.3383, 1.3383, 1.3383, 1.338, 1.338, 1.3159, 1.3178, 1.2373, 1.3136, 1.1717, 1.2529, 1.3012, 1.283, 1.2999, 1.2247, 1.2463, 1.2888, 1.0429, 1.0573, 1.2061, 1.2429, 1.0261, 1.2512, 1.2898, 1.1161, 0.7885, 1.0285, 0.8432, 0.9589, 0.7477, 1.1075, 1.1502, 0.7866, 1.0771, 0.9036, 1.0104, 0.8172, 0.8483, 0.6794, 0.6427, 0.6395, 0.6933, 0.3315, 1.004, 0.7015, 0.3755, 0.5128, 0.7892, 0.2763, 0.2223, 0.2843, 0.6412, 0.4275, 0.7364, 0.4882, -0.0623, 0.6695, 0.1233, -0.0109, 1.6161, 1.6157, 1.6156, 1.6155, 1.6152, 1.6151, 1.615, 1.615, 1.6149, 1.6148, 1.6147, 1.6146, 1.6146, 1.6146, 1.6144, 1.6144, 1.6143, 1.6142, 1.6142, 1.614, 1.614, 1.6139, 1.6138, 1.6138, 1.6135, 1.6135, 1.6134, 1.6134, 1.6132, 1.6131, 1.6069, 1.6087, 1.5524, 1.552, 1.542, 1.5758, 1.5224, 1.55, 1.4969, 1.4695, 1.5135, 1.5676, 1.4466, 1.5691, 1.5676, 1.4658, 1.3035, 1.422, 1.4952, 1.3072, 1.041, 1.1265, 1.4562, 1.1356, 1.5347, 1.3292, 1.0428, 1.0151, 1.3997, 1.2751, 0.5203, 1.0103, 0.9543, 1.1454, 1.0367, 0.7778, 0.9027, 1.0382, 0.3438, 0.2777, 0.6096, 0.8361, 0.5783, 0.2959, 0.9703, 0.474, 0.2275, 0.3405, 0.3446, 0.7405, -0.0544, 0.2329, 0.6208, 0.0197, 2.1425, 2.1425, 2.1424, 2.1423, 2.1422, 2.1412, 2.1401, 2.1398, 2.1397, 2.1395, 2.1393, 2.1393, 2.1392, 2.1386, 2.1385, 2.1385, 2.1382, 2.1381, 2.1381, 2.1378, 2.1376, 2.1372, 2.1371, 2.137, 2.137, 2.1365, 2.1365, 2.1364, 2.1363, 2.1362, 2.1288, 2.0674, 2.0671, 2.1095, 2.0296, 2.0411, 2.0921, 2.0478, 1.9706, 1.9819, 1.8778, 2.05, 1.7574, 1.8694, 1.8157, 1.9234, 1.7373, 1.5671, 1.3511, 1.7779, 1.9017, 1.62, 1.7881, 1.4381, 1.8107, 1.438, 1.1978, 1.4474, 1.7666, 0.8923, 1.4153, 1.2591, 1.1014, 0.9483, 1.2216, 1.3529, 1.0003, 0.4865, 0.5459, 0.5625, 0.9857, 0.217, 0.3735, 1.0098, 0.7058, -0.2721, 0.1245, -0.0954, 2.3281, 2.3277, 2.3276, 2.3271, 2.3268, 2.3267, 2.3263, 2.3259, 2.3255, 2.3253, 2.325, 2.325, 2.325, 2.3249, 2.3249, 2.3246, 2.3242, 2.3242, 2.324, 2.3235, 2.3235, 2.3233, 2.3233, 2.3233, 2.3227, 2.3227, 2.3227, 2.3225, 2.3225, 2.322, 2.312, 2.3197, 2.3086, 2.3116, 2.3196, 2.298, 2.3088, 2.3006, 2.3108, 2.2359, 2.2689, 2.2681, 2.2668, 2.2063, 2.0942, 2.2732, 2.1465, 2.0034, 2.1202, 2.0456, 1.9509, 2.1351, 2.0909, 1.9472, 1.5621, 1.7356, 1.5348, 1.3135, 1.9614, 1.3633, 0.493, 0.4997, 0.7855, 0.8521, 0.6312, 0.6993, 0.541, 0.6318, 0.3676, 0.5448, 0.4144, 0.2631, 2.6677, 2.6675, 2.6674, 2.6674, 2.6674, 2.6674, 2.6674, 2.6671, 2.6671, 2.6668, 2.6664, 2.6664, 2.6659, 2.6656, 2.6654, 2.6653, 2.6652, 2.6651, 2.6649, 2.6648, 2.664, 2.6637, 2.6637, 2.6636, 2.6634, 2.6634, 2.6632, 2.6632, 2.663, 2.6629, 2.6541, 2.6355, 2.6182, 2.6045, 2.5773, 2.456, 2.5892, 2.6273, 2.5202, 2.1181, 1.9469, 2.4391, 1.7016, 2.1403, 2.1116, 2.5104, 2.0405, 1.8424, 2.3073, 1.4974, 1.7422, 1.9591, 0.8577, 0.7946, 0.4649, 0.8453, 0.6753, 0.7591, 0.583, 0.502, 0.675, 0.5369, 0.9997, 0.7026, -0.1179, 2.7918, 2.7917, 2.7917, 2.7916, 2.7916, 2.7916, 2.7915, 2.7915, 2.7915, 2.7914, 2.7914, 2.7913, 2.7913, 2.7913, 2.7913, 2.7912, 2.7911, 2.7909, 2.7909, 2.7909, 2.7907, 2.7906, 2.7906, 2.7906, 2.7906, 2.7904, 2.7903, 2.7901, 2.7901, 2.79, 2.7011, 2.4448, 2.7258, 2.5387, 2.1048, 0.3271, 2.8123, 2.8122, 2.812, 2.812, 2.8118, 2.8114, 2.8113, 2.8112, 2.8111, 2.8108, 2.8108, 2.8107, 2.8106, 2.8106, 2.8104, 2.8104, 2.8101, 2.81, 2.81, 2.8096, 2.8095, 2.8094, 2.8093, 2.809, 2.809, 2.8089, 2.8087, 2.8085, 2.8084, 2.8084, 2.7894, 2.7753, 2.7199, 2.767, 2.6673, 2.7883, 2.6913, 2.3366, 2.6229, 2.4996, 2.3526, 2.5581, 2.2816, 1.7451, 2.0396, 1.4712, 1.4174, 1.834, 2.3011, 0.5811, 1.4895, 0.2936, 0.0078, 0.4148, 0.5515, -0.3545, 0.8145, -0.0772, 0.3955, -0.2247, 2.9083, 2.9081, 2.9081, 2.9079, 2.9073, 2.9073, 2.907, 2.9068, 2.9068, 2.9066, 2.9062, 2.906, 2.906, 2.9059, 2.9054, 2.9052, 2.905, 2.9049, 2.9045, 2.9042, 2.9042, 2.9041, 2.904, 2.9039, 2.9039, 2.9035, 2.9031, 2.9031, 2.9027, 2.9022, 2.8943, 2.8966, 2.8778, 2.8819, 2.8797, 2.8079, 2.8498, 2.7045, 2.7461, 2.8032, 2.5316, 2.3336, 2.0243, 2.1517, 1.8823, 2.4, 1.8399, 2.3472, 2.1702, 1.4413, 2.0833, 1.4968, 0.5898, 1.6024, 0.0972, 0.7196, 1.1615, 1.2409, 3.0492, 3.049, 3.0486, 3.0484, 3.0483, 3.0483, 3.0478, 3.0473, 3.0471, 3.0471, 3.047, 3.0469, 3.0456, 3.0456, 3.0451, 3.0449, 3.0435, 3.043, 3.0428, 3.0426, 3.0426, 3.042, 3.0418, 3.0406, 3.0404, 3.0396, 3.0395, 3.0395, 3.0391, 3.0388, 3.0054, 2.8504, 2.7768, 2.8018, 2.791, 1.9012, 2.1851, 2.133, 1.9934, 2.353, 2.1607, 1.9161, 2.2023, 2.0455, 1.5364, 1.7531, 2.3416, 0.7021, 1.894, 1.2633, 0.6551, 0.5448, 0.7176, 1.3358, 0.5118, 1.3878, 1.1852, 0.5481, 0.5778, 0.0389, 3.4184, 3.4183, 3.4172, 3.4169, 3.4167, 3.4163, 3.4163, 3.4162, 3.4161, 3.4161, 3.4159, 3.4159, 3.4157, 3.4156, 3.4155, 3.4155, 3.4154, 3.4153, 3.4153, 3.4144, 3.4144, 3.4142, 3.414, 3.4138, 3.4138, 3.4137, 3.4136, 3.4136, 3.4136, 3.4134, 3.4115, 3.4071, 3.3466, 3.2186, 3.2377, 3.1596, 3.3352, 3.1363, 2.7343, 2.7175, 2.8838, 2.9848, 1.8258, 2.5383, 2.7792, 1.3953, 2.6722, 1.5539, 1.4775, 2.3258, 1.7001, 2.2952, 2.0297, 0.7116, 2.0221, 1.6839]}, \"token.table\": {\"Topic\": [1, 1, 2, 3, 4, 5, 7, 8, 9, 1, 3, 4, 5, 7, 9, 1, 2, 4, 6, 1, 7, 1, 7, 1, 8, 10, 1, 3, 4, 5, 8, 9, 1, 1, 3, 4, 8, 9, 10, 1, 2, 3, 4, 5, 7, 8, 9, 10, 5, 1, 2, 4, 5, 6, 7, 8, 10, 1, 2, 3, 4, 5, 7, 8, 10, 4, 5, 1, 2, 4, 7, 8, 2, 6, 7, 8, 3, 3, 3, 1, 2, 4, 5, 6, 8, 1, 2, 3, 4, 5, 7, 8, 9, 1, 2, 3, 4, 5, 7, 8, 9, 4, 7, 9, 8, 8, 6, 8, 2, 4, 5, 6, 7, 8, 4, 6, 7, 3, 9, 10, 1, 2, 3, 5, 6, 7, 9, 6, 1, 6, 9, 10, 1, 2, 4, 5, 7, 8, 9, 6, 1, 2, 3, 4, 5, 7, 8, 9, 1, 2, 3, 4, 5, 7, 8, 9, 4, 1, 2, 3, 4, 5, 7, 8, 9, 1, 2, 3, 4, 5, 7, 8, 9, 1, 10, 10, 1, 4, 9, 9, 9, 1, 4, 3, 5, 6, 6, 6, 6, 1, 3, 4, 8, 9, 1, 4, 1, 4, 5, 6, 7, 10, 1, 3, 4, 5, 6, 7, 5, 7, 2, 2, 7, 9, 1, 2, 4, 6, 7, 8, 8, 7, 2, 3, 4, 5, 10, 4, 2, 3, 5, 1, 1, 10, 4, 1, 2, 3, 5, 7, 1, 2, 3, 4, 5, 7, 8, 9, 10, 5, 1, 2, 4, 8, 9, 10, 2, 4, 6, 7, 8, 9, 10, 6, 8, 2, 3, 2, 5, 6, 1, 2, 4, 5, 7, 8, 9, 2, 4, 8, 7, 10, 1, 2, 3, 4, 5, 7, 1, 2, 3, 4, 7, 6, 3, 3, 8, 10, 6, 2, 4, 5, 7, 8, 9, 2, 4, 5, 8, 9, 1, 4, 5, 7, 8, 2, 2, 4, 5, 7, 8, 9, 5, 9, 10, 10, 10, 2, 3, 6, 4, 4, 1, 2, 4, 7, 8, 9, 10, 1, 2, 3, 4, 5, 7, 8, 9, 10, 3, 10, 4, 7, 8, 2, 4, 7, 8, 9, 10, 2, 5, 3, 4, 8, 10, 1, 2, 3, 4, 5, 6, 7, 2, 10, 1, 2, 4, 5, 7, 9, 1, 2, 7, 1, 3, 8, 6, 9, 1, 2, 3, 4, 5, 7, 9, 1, 3, 4, 10, 7, 7, 7, 6, 2, 4, 5, 7, 8, 9, 10, 1, 5, 6, 9, 1, 3, 8, 3, 4, 1, 3, 4, 10, 10, 2, 7, 1, 2, 4, 5, 7, 8, 9, 1, 2, 8, 9, 6, 9, 6, 1, 3, 4, 6, 8, 9, 10, 9, 1, 2, 3, 4, 5, 9, 5, 8, 5, 7, 8, 1, 2, 3, 4, 7, 8, 1, 2, 3, 4, 5, 7, 9, 1, 2, 3, 4, 5, 7, 8, 9, 1, 2, 3, 1, 2, 3, 4, 5, 6, 7, 8, 2, 3, 7, 7, 1, 3, 4, 5, 1, 2, 3, 4, 5, 7, 8, 10, 2, 2, 7, 1, 2, 3, 4, 5, 7, 8, 10, 1, 8, 3, 2, 7, 10, 6, 7, 8, 8, 5, 8, 2, 9, 2, 4, 5, 10, 3, 3, 7, 10, 1, 8, 1, 2, 3, 10, 2, 10, 8, 8, 10, 3, 8, 4, 5, 7, 5, 7, 1, 2, 3, 4, 5, 9, 2, 1, 2, 3, 4, 5, 7, 8, 9, 3, 1, 2, 3, 7, 9, 7, 4, 5, 6, 7, 5, 5, 6, 1, 2, 3, 4, 5, 7, 8, 9, 4, 1, 2, 3, 4, 5, 6, 7, 8, 10, 2, 5, 1, 7, 2, 6, 2, 9, 4, 9, 10, 1, 2, 3, 4, 5, 7, 8, 9, 10, 2, 3, 5, 8, 9, 3, 5, 3, 3, 9, 1, 2, 3, 4, 5, 6, 3, 1, 7, 8, 1, 2, 3, 4, 5, 7, 8, 9, 10, 1, 2, 4, 8, 9, 1, 2, 3, 4, 6, 7, 8, 9, 1, 3, 10, 3, 8, 6, 1, 2, 3, 4, 5, 7, 9, 1, 6, 4, 2, 4, 8, 10, 10, 8, 4, 10, 2, 4, 10, 1, 2, 4, 5, 7, 8, 10, 4, 7, 8, 10, 4, 1, 5, 8, 1, 2, 3, 5, 7, 9, 2, 7, 1, 2, 3, 4, 2, 3, 1, 2, 3, 4, 5, 7, 10, 1, 2, 10, 1, 3, 5, 9, 7, 5, 3, 10, 2, 6, 7, 1, 2, 3, 4, 5, 7, 8, 9, 1, 2, 3, 4, 5, 7, 9, 1, 4, 5, 7, 8, 6, 5, 1, 3, 4, 5, 7, 8, 9, 1, 2, 3, 4, 5, 7, 9, 4, 9, 4, 8, 4, 4, 9, 5, 1, 3, 4, 9, 1, 4, 9, 5, 4, 4, 4, 1, 3, 4, 9, 1, 2, 3, 4, 5, 7, 8, 1, 4, 6, 1, 3, 4, 5, 7, 1, 3, 4, 5, 9, 1, 2, 3, 4, 5, 7, 8, 9, 7, 9, 8, 10, 1, 9, 1, 9, 9, 5, 4, 10, 4, 10, 6, 1, 2, 3, 4, 5, 7, 8, 2, 5, 7, 1, 2, 3, 7, 9, 4, 2, 4, 6, 7, 6, 7, 1, 3, 4, 8, 1, 2, 3, 5, 8, 9, 1, 3, 4, 8, 9, 1, 2, 3, 4, 5, 7, 8, 9, 1, 6, 1, 4, 8, 9, 1, 1, 5, 8, 8, 8, 8, 8, 4, 5, 6, 7, 3, 6, 9, 3, 5, 1, 2, 3, 4, 5, 7, 8, 10, 8, 1, 2, 3, 4, 5, 6, 7, 8, 9, 1, 1, 7, 9, 10, 10, 10, 7, 4, 6, 10, 7, 10, 7, 4, 10, 7, 6, 6, 4, 1, 2, 3, 4, 5, 7, 8, 9, 1, 5, 1, 1, 2, 3, 4, 5, 7, 8, 1, 2, 3, 4, 5, 7, 8, 9, 1, 2, 3, 4, 5, 7, 8, 2, 3, 7, 8, 2, 4, 8, 2, 9, 1, 2, 3, 4, 5, 8, 10, 1, 2, 3, 4, 5, 6, 7, 8, 1, 2, 3, 4, 5, 7, 8, 9, 1, 2, 3, 4, 5, 7, 8, 10, 3, 1, 3, 1, 2, 3, 8, 9, 6, 2, 3, 1, 2, 3, 6, 2, 3, 6, 6, 4, 5, 9, 2, 3, 3, 2, 3, 4, 5, 9, 5, 10, 1, 3, 1, 3, 4, 5, 6, 8, 3, 4, 3, 4, 5, 6, 8, 8, 1, 3, 4, 5, 8, 1, 3, 4, 5, 8, 1, 2, 3, 4, 5, 7, 8, 9, 1, 2, 7, 5, 2, 4, 1, 1, 2, 3, 4, 5, 7, 8, 9, 2, 3, 4, 5, 7, 1, 3, 1, 9, 7, 1, 1, 2, 3, 4, 8, 9, 4, 8, 1, 7, 1, 2, 4, 5, 7, 8, 1, 3, 4, 5, 6, 7, 9, 7, 4, 6, 8, 9, 1, 2, 3, 4, 5, 8, 4, 5, 2, 4, 8, 4, 10, 1, 3, 4, 5, 8, 9, 1, 2, 3, 4, 5, 7, 8, 9, 1, 7, 6, 2, 6, 7, 2, 6, 7, 1, 2, 3, 4, 5, 7, 8, 9, 10, 1, 2, 4, 9, 4, 5, 7, 9, 3, 1, 2, 3, 4, 5, 7, 8, 9, 10, 5, 5, 1, 3, 4, 3, 9, 9, 7, 2, 6, 1, 2, 3, 4, 6, 7, 8, 9, 4, 9, 1, 5, 2, 2, 10, 2, 7, 9, 10, 2, 9, 4, 4, 7, 2, 8, 1, 2, 3, 4, 5, 6, 8, 10, 3, 6, 8, 2, 1, 2, 3, 4, 5, 7, 8, 9, 10, 1, 5, 5, 6, 1, 2, 1, 2, 1, 2, 1, 4, 7, 6, 2, 5, 3, 4, 1, 4, 8, 8, 8, 10, 6, 2, 3, 4, 5, 8, 9, 1, 2, 3, 4, 5, 7, 9, 9, 8, 10, 2, 4, 8, 10, 1, 4, 9, 1, 3, 4, 7, 8, 9, 1, 2, 3, 4, 5, 7, 9, 1, 2, 3, 4, 5, 7, 9, 10, 4, 5, 9, 2, 7, 9, 10, 2, 7, 9, 9, 5, 8, 2, 1, 2, 3, 4, 5, 7, 8, 9, 9, 4, 6, 10, 2, 4, 8, 1, 2, 2, 4, 7, 1, 2, 3, 7, 2, 3, 7, 2, 3, 4, 5, 1, 3, 4, 5, 7, 8, 9, 1, 2, 4, 5, 7, 8, 9, 1, 2, 4, 8, 9, 2, 2, 6, 1, 4, 9, 9, 9, 9, 9, 9, 8, 3, 5, 8, 8, 8, 8, 2, 7, 7, 7, 1, 2, 3, 4, 5, 7, 8, 9, 10, 8, 6, 6, 4, 1, 1, 4, 1, 2, 3, 4, 5, 7, 8, 9, 10, 1, 2, 3, 4, 5, 7, 8, 9, 10, 2, 7, 2, 7, 1, 2, 3, 4, 5, 7, 8, 9, 3, 1, 2, 10, 10, 10, 10, 2, 5, 5, 5, 1, 2, 4, 6, 7, 1, 2, 3, 4, 5, 7, 8, 10, 9, 1, 3, 4, 9, 10, 4, 6, 4, 1, 3, 4, 7, 8, 9, 10, 1, 2, 3, 4, 5, 7, 8, 9, 10, 2, 4, 2, 2, 9], \"Freq\": [0.9984765568202403, 0.5459154622860442, 0.0023642939033609537, 0.023642939033609537, 0.11041252528695654, 0.20687571654408343, 0.036173696721422594, 0.058398059413015554, 0.01631362793319058, 0.2879516178054325, 0.03330783638794182, 0.08165792146721221, 0.492096421473463, 0.003760562172832141, 0.1015351786664678, 0.8732386863973093, 0.06600443585769533, 0.021121419474462506, 0.03894261715604025, 0.9972930485478699, 0.9985271175917692, 0.9990368450166379, 0.9944698239653635, 0.3216113240423778, 0.0921119811577684, 0.5854575073586975, 0.43569650986066316, 0.03817391493303199, 0.21766472649315355, 0.03413628931511514, 0.27088797327478464, 0.003303511869204691, 0.9985881882435499, 0.007612153086228458, 0.12233817460010023, 0.35668374461184776, 0.015224306172456917, 0.498596027147964, 0.9944797909307922, 0.27741377858739064, 0.28009241708760474, 0.08839507050706528, 0.12589600951006266, 0.05485385798264525, 0.05578555833054581, 0.05392215763474469, 0.06254038585282484, 0.0011646254348756954, 0.9958110897901811, 0.005217669489792077, 0.1158322626733841, 0.024001279653043554, 0.0135659406734594, 0.776389220081061, 0.02921894914283563, 0.004174135591833661, 0.03130601693875246, 0.10564894766303104, 0.24941555542039429, 0.020559525326470526, 0.12065590045607522, 0.03856786867812355, 0.3438092884886422, 0.0997962360737438, 0.02161001202198362, 0.9981939673471533, 0.9972906758825336, 0.027286342377059035, 0.4056382031723621, 0.14880902182952813, 0.17440754921419177, 0.24360796390240333, 0.6121267273645418, 0.028745795609455577, 0.000705418297164554, 0.3583524949595934, 0.9994116047770129, 0.9995917571513352, 0.998969148687927, 0.10511589994467133, 0.710482167095911, 0.06838865779532834, 0.0006332283129197068, 0.0753541692374451, 0.039260155401021825, 0.38052478591778727, 0.026057079285576497, 0.17042244136250734, 0.14747392592152592, 0.1242511254354332, 0.046171315927074144, 0.051657016829300774, 0.05348558379670965, 0.5106245985339717, 0.07217689472948545, 0.1538337398115003, 0.08812044759510312, 0.09393768985688254, 0.052786087190220696, 0.004093614924955891, 0.024346236132632402, 0.88470275208899, 0.09887031283229619, 0.01632292900533192, 0.998073237523043, 0.9949450114430132, 0.027672807226991003, 0.9720073538480589, 0.16773209427864216, 0.07482659295663978, 0.0346512410336117, 0.5031962828359265, 0.19434826492764826, 0.025611786850930393, 0.08612468927679902, 0.04849037127349188, 0.864865577191385, 0.9968468340101279, 0.9982652636565355, 0.9976477122614423, 0.10632843042332853, 0.022430929157798072, 0.7670212528893808, 0.036122535267103385, 0.0029131076828309184, 0.058844775193184554, 0.00640883690222802, 0.9987831916848898, 0.972272514697227, 0.02400672875795622, 0.0034295326797080315, 0.9957606983459503, 0.06037774591582572, 0.5631198641262294, 0.039683760420482224, 0.05258706902346111, 0.0693857160726223, 0.02483278259441219, 0.18989774925138733, 0.9988629803163972, 0.23444026484809027, 0.515287006024654, 0.007223649617168047, 0.17008411371332038, 0.003721274045207782, 0.029989090834909773, 0.003721274045207782, 0.035461552666097684, 0.211276578726561, 0.120891427729881, 0.15108851922592118, 0.18324378389064655, 0.16149775554366883, 0.05977581251775872, 0.050088008420052996, 0.062146232669325015, 0.9943457111602113, 0.3154108305630938, 0.02827387923374347, 0.007225546915289998, 0.09801611467697736, 0.4379309739093155, 0.026388953951493904, 0.0009424626411247823, 0.0857641003423552, 0.645456504454838, 0.02933893202067446, 0.14572477805310208, 0.025944344844728653, 0.06570950890580808, 0.02351963971905308, 0.002182234613108018, 0.062314921729862284, 0.22771892453258027, 0.7710735735755092, 0.9944292429492115, 0.05731819995353715, 0.941858322693308, 0.9989984648645913, 0.989448405490284, 0.9983833415201022, 0.9976704927229225, 0.9956763953938248, 0.9961865032205314, 0.9987415088028777, 0.9990995058835886, 0.9984241153782429, 0.9990817256087399, 0.9992969986943862, 0.0015105708655199248, 0.0015105708655199248, 0.9909344877810706, 0.004531712596559774, 0.0015105708655199248, 0.9961738102656661, 0.99454484072604, 0.10412924466609404, 0.146518140724858, 0.2626268560162549, 0.022115945769789886, 0.050682375722435155, 0.41467398318356036, 0.3815524734510629, 0.0003604652559764411, 0.021447682730598244, 0.3100001201397394, 0.025052335290362656, 0.26151754321090803, 0.9985629927609179, 0.997447972109729, 0.9960248665111877, 0.8044223231217796, 0.19341843774198153, 0.001983778848635708, 0.031253512074155464, 0.8594715820392752, 0.05938167294089538, 0.012501404829662185, 0.03437886328157101, 0.0031253512074155463, 0.9977495587048016, 0.9981602158769374, 0.996807957105401, 0.9991435591923526, 0.0355391373227769, 0.9595567077149764, 0.9952701449006444, 0.9959947830782093, 0.07684711512538835, 0.9029536027233132, 0.019211778781347087, 0.9976308786103791, 0.9981646062535995, 0.996836991362877, 0.9927651706863158, 0.15763502315129146, 0.30181852432700607, 0.07440373092740957, 0.004623960679104549, 0.46155534778698143, 0.11780818315641409, 0.1323292713387156, 0.4941854203976813, 0.17097410279161487, 0.028573754165173992, 0.051526441937199005, 0.0030447442962890318, 0.0014052665982872456, 0.0007026332991436228, 0.9993174564589387, 0.04465190446876284, 0.41609446272116746, 0.3808544792923889, 0.029330172543206964, 0.12826478440536776, 0.0006566456539523947, 0.5620297421345651, 0.16735335943042753, 0.08499832519936323, 0.025359072727118088, 0.0983799857263767, 0.05707856434670554, 0.004708362037282512, 0.05462826211389534, 0.943388064966885, 0.997225505576087, 0.9958924171837575, 0.9966271465783582, 0.998010730893494, 0.9996816034223256, 0.5521642894930548, 0.27987727200248164, 0.03356816784139772, 0.010155974346919693, 0.04212056729143536, 0.00037416747593914656, 0.08172886724442216, 0.9094162108835868, 0.06588187851357061, 0.024013021140460316, 0.06753622495152521, 0.9302570340097182, 0.33586060955932645, 0.05301279414627796, 0.25778106290937713, 0.006774797973965234, 0.09874268047054328, 0.24778823589777843, 0.6819816559164961, 0.0009141845253572333, 0.23640811825738053, 0.0029253904811431465, 0.07752284775029337, 0.9999595337850936, 0.9923948064377972, 0.03006215743432674, 0.9697470140105401, 0.9929739960216896, 0.9998172226483361, 0.5237291566949765, 0.09043236439215718, 0.2170975635242184, 0.0023955593216465477, 0.06288343219322189, 0.10330849574600738, 0.262945520867821, 0.11491447826339281, 0.3960741095187833, 0.005960981581386371, 0.219893987224475, 0.09336787918736572, 0.05702333561107571, 0.22558682219766216, 0.6213037061360612, 0.002819835277470777, 0.9962030748398083, 0.8429358082909395, 0.036700856821656073, 0.03906865403595647, 0.0003946328690500653, 0.0007892657381001306, 0.08011047241716326, 0.9929878866948594, 0.0056760207936059764, 0.9933036388810458, 0.9925083867353762, 0.9957608368617563, 0.8627263234620078, 0.06338571114193253, 0.07359549011781429, 0.9989676654474866, 0.9995105735813622, 0.07225752638779055, 0.2385488199925688, 0.07819650115938977, 0.05938974771599223, 0.04256265252979443, 0.004949145642999353, 0.5038230264573341, 0.29571270900521646, 0.2023893175411485, 0.0783011035326965, 0.1960099897894702, 0.07490565489067418, 0.0909568666529615, 0.0190350908719433, 0.04053959893808465, 0.002263632428014879, 0.07552809716710236, 0.9196656537405993, 0.9986066508251916, 0.013691325540954851, 0.9857754389487493, 0.7497477455277053, 0.06590410239515745, 0.0403928369518707, 0.08999807531381718, 0.04110148321418422, 0.012046986459329858, 0.9959806450366859, 0.9927586766986081, 0.9972731941809381, 0.9405810126571131, 0.036468407598983385, 0.022792754749364614, 0.07088301651933349, 0.14671135977257396, 0.6666300437306619, 0.013517226406012432, 0.04945326733906987, 0.02373756832275354, 0.02934227195451479, 0.9924278265044916, 0.00677425137545728, 0.6106979419304912, 0.2921919143052471, 0.03747129736767578, 0.013472826019838482, 0.004841796850879454, 0.04126052968575535, 0.7134956632290184, 0.2844035311603629, 0.001808607511353659, 0.9767749643519523, 0.008819638504306566, 0.014331912569498171, 0.9992852108890038, 0.991227325682639, 0.718131616185897, 0.04105955495631201, 0.1757348952130154, 0.015602630883398564, 0.007801315441699282, 0.017245013081651044, 0.023814541874660967, 0.08473904856389032, 0.08091884555486248, 0.8334988383333474, 0.0006945823652777895, 0.9996363741647171, 0.9983997529694956, 0.9987097861074437, 0.9996320200613635, 0.030513975745590526, 0.4645521640783236, 0.002034265049706035, 0.06879514531733137, 0.10670644851639838, 0.3219686774125643, 0.005363062403770456, 0.06584264368401666, 0.6965458621309131, 0.22756141764475935, 0.009241072797756725, 0.08953756365845676, 0.7862517308758235, 0.12311415003037805, 0.5928227060675272, 0.407114087751033, 0.0003649828913704269, 0.4467390590374025, 0.5525840975348263, 0.9941079958411958, 0.9953207951346228, 0.9983702496717222, 0.0015195894211137324, 0.24343181810752926, 0.007951290541200704, 0.004893101871508126, 0.08685255821926922, 0.0012232754678770314, 0.43793261749997725, 0.2177430332821116, 0.1556011473698645, 0.06210396671341083, 0.477722820872391, 0.3036952218403057, 0.9995136939225466, 0.9897285518989921, 0.9990447281055118, 0.10304863274759568, 0.0008837790115574244, 0.0017675580231148488, 0.706846453443628, 0.04684028761254349, 0.008837790115574243, 0.1320365843266792, 0.9920949289239774, 0.20301025799015376, 0.4319981319316542, 0.0065974897654213814, 0.07545878919200705, 0.06253870506805685, 0.22032866862438488, 0.0015882742020693857, 0.9974361988995741, 0.03891986577932417, 0.3595857164394081, 0.6015657515021627, 0.38481283926049625, 0.19567111531089273, 0.3220464319810064, 0.04970762455691139, 0.01032065086139262, 0.037701969473250586, 0.4037423191997734, 0.014831350501216164, 0.4538393253372146, 0.021423061835090015, 0.035924826769612485, 0.03361772780275664, 0.03658399790299987, 0.5228929300645263, 0.010445569695766094, 0.23763671057867866, 0.06190536157931965, 0.041167833506842846, 0.037941995806679785, 0.01735807905325836, 0.07066120676547652, 0.03601192427444675, 0.012003974758148916, 0.9513149995833017, 0.0026857084867272117, 0.05639987822127144, 0.4941703615578069, 0.10401016503143565, 0.1591892666678311, 0.06128298456077546, 0.010010367995983243, 0.11231144580859248, 0.03807605312813073, 0.9086330860122106, 0.05192189062926918, 0.9969891865311986, 0.1953231566645455, 0.0518827134890199, 0.16305995667977682, 0.5898933726944867, 0.061799995725202166, 0.0342682440751121, 0.026799524212587668, 0.16109003625052698, 0.576848775264387, 0.1042691871003411, 0.03397535310011114, 0.0010251184125033535, 0.9986105297102982, 0.9964787309986571, 0.9979109400249171, 0.6378788010215645, 0.05199883194388608, 0.06509777434196426, 0.002778563538986279, 0.012702004749651562, 0.034533575413115185, 0.015877505937064454, 0.1790188794404017, 0.9956554252709309, 0.9977490280646215, 0.9971441952720984, 0.9962450614362263, 0.996217272698608, 0.9938164884219813, 0.020873375647493076, 0.9775697594909258, 0.9977546390366336, 0.9964342782928675, 0.01129056641285016, 0.987924561124389, 0.9532769658522906, 0.04486009251069603, 0.028300643227104037, 0.3917404825646506, 0.05213276383940217, 0.5272856685470962, 0.9938226588851647, 0.9915796317699668, 0.011461195942710778, 0.987573050396912, 0.9608606681859377, 0.03790952560369405, 0.3930395529739177, 0.12382395213122778, 0.48311640339724937, 0.9969735851475099, 0.9951515536827086, 0.9970893213532935, 0.9995458593604368, 0.8495555197014739, 0.1485084198964016, 0.9268439250422845, 0.07285885400065018, 0.9930174524891396, 0.9969781311621527, 0.995933148940159, 0.1712190987440649, 0.8265749594541064, 0.07527976087884856, 0.011211879279828509, 0.8513019767469789, 0.020822061519681516, 0.040843274519375285, 0.9949061126338101, 0.9976303754911998, 0.5919036645946345, 0.13831602098701887, 0.170458680993891, 0.028552256495466194, 0.0005129147873437041, 0.06240463246015067, 0.0070098354270306225, 0.0006838863831249389, 0.994761323294345, 0.27361898463525686, 0.6178104714695721, 0.058770274868840386, 0.00024086178224934585, 0.049617527143365245, 0.9964505629029267, 0.22613437400069167, 0.5337634746698904, 0.05181121695481241, 0.1883553616378076, 0.9986143367090385, 0.9852496261559281, 0.013386543833640328, 0.5755976627773867, 0.03762599464608787, 0.12595368420534378, 0.05016799286145049, 0.05310335414589706, 0.005603871543034363, 0.008272381801622155, 0.14383270293788197, 0.9962574118427016, 0.016348941581128183, 0.18793346438889094, 0.45292917283251716, 0.12674397915078497, 0.059046662797861006, 0.02071395025570124, 0.08055425099439371, 0.05039600924279804, 0.005317374203570817, 0.9972956746939348, 0.9964724236742921, 0.9970297094483048, 0.9947318450878369, 0.935402212797428, 0.0639591256613626, 0.997491249683766, 0.9916054298031308, 0.22447031815024251, 0.7722847850645249, 0.9938075296947255, 0.5502103142197885, 0.04293548694778696, 0.004770609660865218, 0.048766232088844445, 0.03657467406663334, 0.08057029649461257, 0.0270334547449029, 0.03392433536615266, 0.17651255745201305, 0.011217935251798141, 0.9871783021582364, 0.9936079837210557, 0.9958149934218237, 0.9977239072594546, 0.9967948904853497, 0.9936584553522535, 0.9970895477846893, 0.9946146716415882, 0.9887282747260693, 0.14557920778290667, 0.1150009266960861, 0.680034381561249, 0.05929527549879121, 0.00013294904820356773, 0.9997581191735277, 0.9926975059078001, 0.8260059894012923, 0.12995030936331362, 0.044063610646181056, 0.36421279906157616, 0.33389954840456987, 4.537911775000949e-05, 0.15950759889128335, 0.019876053574504157, 0.01157167502625242, 0.004900944717001025, 0.09565918021702001, 0.010391817964752173, 0.0020926842599184405, 0.024215346436199096, 0.7908851728020335, 0.014947744713703146, 0.16756421824061227, 0.5272261990367513, 0.289322362934302, 0.027199655498009078, 0.13339009134640067, 0.006520465359111765, 0.010991641605359833, 0.0022355881231240337, 0.002794485153905042, 0.31292717259063574, 0.6862288811973996, 0.9933845017348643, 0.9941848666445977, 0.9957988786420117, 0.9998262256620715, 0.741820911342453, 0.03119581212645551, 0.052994128053326595, 0.008234919350151299, 0.11867972004629813, 0.04698748099792212, 0.9871318396754267, 0.9978819587090072, 0.9997041016616767, 0.9906329878232252, 0.014000927952049248, 0.6852676403197437, 0.14571336127873477, 0.15478803680321113, 0.9968051578590191, 0.9916630916390096, 0.9833790947753759, 0.015981783155313373, 0.011845425407734077, 0.9831703088419285, 0.003948475135911359, 0.0103096673429246, 0.45779310095071574, 0.1364385763255128, 0.014696759829275494, 0.00329031936476317, 0.17416757170813046, 0.20312238211804637, 0.13028703308312378, 0.23398487574112026, 0.1608646020720202, 0.47328758956726596, 0.9980944433270963, 0.9987808930260607, 0.9960344707441134, 0.9952909543164562, 0.048768042566948916, 0.04660057400841785, 0.022487486294759777, 0.07166192921643326, 0.048768042566948916, 0.761458797968944, 0.9986446328455061, 0.9956941723241457, 0.1112252829168605, 0.009930828831862545, 0.7170058416604757, 0.16087942707617323, 0.9975639685594822, 0.991429942422512, 0.3773683937231688, 0.1315596234998203, 0.004327619194073037, 0.13242514733863492, 0.015579429098662933, 0.0034620953552584295, 0.33495772562125303, 0.13830380949390045, 0.3647122679987301, 0.495844768852206, 0.11149347513778349, 0.8414954464309804, 0.03799498314751281, 0.00809729149045355, 0.9995591729816151, 0.9995476352803043, 0.9966099540740667, 0.9928923896443036, 0.05689135375491927, 0.05689135375491927, 0.8858796513266001, 0.49714604071105806, 0.0009191278484797704, 0.20588463805946858, 0.21364616211329776, 0.005004140508389861, 0.00765939873733142, 0.025735579757433572, 0.04411813672702898, 0.5740547806658437, 0.040414427476052, 0.17391553925880637, 0.12136464707523123, 0.01274328794289928, 0.06638646195015149, 0.011044182883846043, 0.008409232966440812, 0.08514348378521323, 0.196565820590554, 0.5991578488589079, 0.10932002856373056, 0.9988997700259861, 0.9956348692990175, 0.5751594081921129, 0.2862841117654391, 0.010364738644938526, 0.11041790120938542, 0.0026329779622222865, 0.00016717320395062137, 0.014920208452592959, 0.8437613520652618, 0.0003739129820496855, 0.07318011220115274, 0.002991303856397484, 0.0616422258979053, 0.011644718583833064, 0.006409936835137466, 0.5064105817638774, 0.4931421822416798, 0.9696439700644948, 0.029971822772457194, 0.9978964673315097, 0.9988152044430154, 0.9941872073592695, 0.9958088792509636, 0.9974878405510741, 0.9945490356469227, 0.9963231430243138, 0.9996780508560971, 0.0018812090406904037, 0.6828788817706165, 0.3151025143156426, 0.9995714275791818, 0.9964266631523618, 0.9948524332299903, 0.9961764256659298, 0.06212037044571591, 0.12596630673714615, 0.8115911361009736, 0.9963716495396462, 0.4516187475087169, 0.369104078564407, 0.12963843092882246, 0.022311658735524344, 0.007886017311693949, 0.0017310769708596472, 0.017695453479898617, 0.0016377348509703789, 0.981003175731257, 0.01637734850970379, 0.1525757935574766, 0.5622495498438796, 0.03388112687125387, 0.21458047018460788, 0.03653847015527378, 0.49551162344586164, 0.3027279158158473, 0.0012907004162691163, 0.11592836466126245, 0.08448220906488761, 0.4008933231403188, 0.31877200364241204, 0.11630699935033792, 0.073921802190128, 0.0005045856804786895, 0.024346259083096764, 0.06509155278175094, 0.00012614642011967236, 0.9114385592037534, 0.08800381373998163, 0.9968048435282891, 0.9981136654013024, 0.9978381676686878, 0.9986565810228957, 0.9436703996068883, 0.05637511478171021, 0.9872282047577808, 0.9964904361235256, 0.18099986328715328, 0.817357277370408, 0.3513697328581547, 0.6474678223453638, 0.999658795831028, 0.44199694183504223, 0.042074076763672835, 0.4130710140600171, 0.028487656142070147, 0.009203704292053432, 0.05193518850515865, 0.013148148988647761, 0.14378466444663734, 0.8544917201400162, 0.9969915585425991, 0.01981722539668463, 0.373430841068776, 0.003715729761878368, 0.5877045906704286, 0.014862919047513473, 0.9960845050046081, 0.9981588017493703, 0.994492342379972, 0.035917538072825585, 0.9632430664985044, 0.04194153667189781, 0.9553350019710056, 0.9984425854146944, 0.9919917256523884, 0.9921412398285469, 0.0038907499601119485, 0.3047693339242169, 0.03278579198275667, 0.1269872224684237, 0.001385315154200986, 0.10528395171927493, 0.42852415436617164, 0.15417663888156646, 0.2632015478049599, 0.19492332201455187, 0.021291059655073465, 0.3663530609614365, 0.11263355596381203, 0.26198587137428225, 0.08934714629973946, 0.16058264063853356, 0.16355537378713858, 0.06050062463549825, 0.06011527033845686, 0.09127391778494641, 0.0864567278551336, 0.9132849585331969, 0.005177840904937032, 0.14368508511200265, 0.031067045429622193, 0.8198248099483634, 0.9977110067459212, 0.9749943185753107, 0.024095181747668757, 0.9979201015611883, 0.9960264119158682, 0.9994441945189148, 0.9993095816400109, 0.9997765135894353, 0.006664036728135147, 0.9240797596347404, 0.046648257096946026, 0.02221345576045049, 0.9656031132398418, 0.029439119306092738, 0.9951768477126176, 0.9953603813409574, 0.9962611366156231, 0.03582447100761068, 0.14329788403044272, 0.21933349596496335, 0.0131600097578978, 0.005848893225732356, 0.033631136047961044, 0.30121800112521635, 0.24711573878719204, 0.9970195837998589, 0.7294113252918764, 0.0020991567169310757, 0.1108902352639677, 0.0354118611377938, 0.0723752728924497, 0.005202257950655275, 0.0036507073337931754, 0.000730141466758635, 0.040249048355069754, 0.9959519893939838, 0.9975948723769898, 0.9962222790464353, 0.2439799755286473, 0.7536807164845343, 0.9950124260482317, 0.9922981128259108, 0.9986322345245955, 0.03607063437405425, 0.9363936683504483, 0.025970856749319062, 0.9991073404153604, 0.9972760880573379, 0.9986399912477203, 0.9724772879022281, 0.027111488026365146, 0.997810466902651, 0.9994209152454321, 0.9993146179942295, 0.9961075142096727, 0.11433257058244793, 0.365004202102815, 0.04186292130839631, 0.1747871820187423, 0.09498203595953363, 0.07335496785157058, 0.1120560370973992, 0.023650653428006378, 0.9486681782696658, 0.05018551796307105, 0.995961294390179, 0.49635697783632027, 0.018035390767921957, 0.31427627742400177, 0.06005401393999545, 0.022640171389519053, 0.07904873400408348, 0.009401427102427404, 0.1532560286679506, 0.5594296684971556, 0.14934182754283595, 0.0370343644914694, 0.011140418586864778, 0.0003010923942395886, 0.07135889743478249, 0.018366636048614906, 0.22345170296325934, 0.5451407149741475, 0.0010180032025661017, 0.18069556845548307, 0.0290130912731339, 0.01857855844683136, 0.001781505604490678, 0.024184160646160566, 0.20019110757099579, 0.7752367051574803, 0.9968932887691644, 0.9370883805332699, 0.04635931949804361, 0.01620325730028709, 0.9981597484331887, 0.9979503947275701, 0.1689389717268916, 0.09261628906854971, 0.037732562213112844, 0.1680814134947754, 0.0008575582321162011, 0.20581397570788826, 0.3250145699720402, 0.5157849801011676, 0.011059306291734244, 0.38855029438292976, 0.016430969347719447, 0.014219108089372599, 0.010532672658794519, 0.028754196358509034, 0.014745741722312326, 0.42597979340560377, 0.00474330948116872, 0.3528410214056474, 0.08124830111292226, 0.08216636101250331, 0.026623737087850236, 0.0022951497489526063, 0.02417557735563412, 0.18733252851215984, 0.5603427045425559, 0.0724837875338569, 0.055604001395835434, 0.017210762336806205, 0.08307502589496842, 0.023499310113716164, 0.00033097619878473474, 0.9966887147361738, 0.9992109723618481, 0.9991621400762947, 0.27784887633112815, 0.2966393774355777, 0.003507560206163926, 0.0005010800294519895, 0.4214083047691231, 0.9991244673749392, 0.30541040450952744, 0.6941145557034715, 0.02694634696248764, 0.023337461208583047, 0.9272430463698872, 0.022615684057802125, 0.06963107547950247, 0.8927698606121923, 0.03730236186401918, 0.9994617418947085, 0.05626824770061955, 0.9135315509041763, 0.029789072312092702, 0.19682016759566157, 0.8032390623498621, 0.9996081840673191, 0.9982099264414823, 0.7012464149330223, 0.03429077823633361, 0.24174998656615196, 0.022289005853616848, 0.9503925672092071, 0.04636061303459547, 0.949727527128511, 0.047966036723662175, 0.0003680765693318667, 0.7210619993211269, 0.03643958036385481, 0.03975226948784161, 0.034231120947863604, 0.1682109921846631, 0.9105615570892783, 0.08672014829421698, 0.38029370563127995, 0.08141718868850248, 0.00026011881370128587, 0.06867136681713948, 0.46899422110341843, 0.9976881668287229, 0.13658659538430493, 0.49884966762165595, 0.10680052055590052, 0.06896415523333274, 0.18864514057989462, 0.382277097464572, 0.39795407622494877, 0.1668995277258573, 0.01736526878072504, 0.03521290613869244, 0.06845742924421319, 0.7306865667401629, 0.01361023073994743, 0.03676793677508187, 0.003453342128046363, 0.13549289408276025, 0.0004062755444760427, 0.010766301928615132, 0.053402937572844665, 0.8853020317631582, 0.060523329249223955, 0.9986664689868214, 0.5476422364586873, 0.451944265199715, 0.9956696712370562, 0.32652831318677317, 0.07719815202454926, 0.14571243184805294, 0.1407081665118572, 0.15351319840153457, 0.04776129710575069, 0.02951044705609557, 0.07903795545697417, 0.18699502083145234, 0.7604103881787672, 0.04701897922640565, 0.0054044803708512236, 0.9993954957701866, 0.9967805089823718, 0.9953062216505293, 0.9597836460668037, 0.03999098525278349, 0.997498287017063, 0.9973899903160003, 0.004709881291013431, 0.08746922397596371, 0.022876566270636663, 0.17224708721420548, 0.6856241479346694, 0.026240767192789116, 0.981292973666387, 0.015540838949467667, 0.9981647807105124, 0.9977103291110703, 0.1493752663009322, 0.19570050711577827, 0.026471566179912035, 0.043489001581284055, 0.013235783089956018, 0.5700840859459627, 0.1432484445306127, 0.037411964894593, 0.00935299122364825, 0.5729937781224508, 0.013291092791500146, 0.0300280244548707, 0.19345923952072436, 0.9986159108229001, 0.6926602112318118, 0.08526298028058645, 0.07308255452621695, 0.1486011942033078, 0.021549028787003967, 0.0012593588252145175, 0.2002380532091083, 0.3622755553867096, 0.001539216341928855, 0.4129297659120046, 0.060549383293620494, 0.9385154410511176, 0.032510409934077306, 0.941216014432921, 0.02616691531279393, 0.9975423856810967, 0.9982981341393435, 0.21188293376725426, 0.3189717811586463, 0.08222893638981889, 0.0013386105923924004, 0.23062348206074784, 0.15508759863289096, 0.1514521344102255, 0.00021391544408223942, 0.27167261398444403, 0.038932610822967575, 0.013048842089016605, 0.001069577220411197, 0.3435482031960765, 0.18033071936132783, 0.02284158891956275, 0.9769171876366838, 0.9978215271091361, 0.951481276196139, 0.01961817064321936, 0.027465438900507105, 0.9199195829108794, 0.01012755504122069, 0.06751703360813793, 0.29841777633409144, 0.20815226625118416, 0.01913628813757634, 0.1565203944837612, 0.1884743850531104, 0.02220531548039519, 0.07022656684450186, 0.03664779709366035, 0.00018053102016581454, 0.9057358066184376, 0.05345656765119954, 0.016137831743758352, 0.023198133131652632, 0.07817014968681489, 0.8085854107816037, 0.0057903814582825845, 0.10712205697822781, 0.9919568055961946, 0.6075423794140219, 0.019640914462027446, 0.1907737767577518, 0.05917136255648774, 0.008784544020991178, 0.043839847048154086, 0.03754149473121701, 0.027016616517387963, 0.005718240919324446, 0.9987576500169393, 0.9971789399046196, 0.16652180027176414, 0.07977092228587504, 0.7533366473372324, 0.03703272411996752, 0.9575604379591601, 0.9985887113884392, 0.9996754516594635, 0.9992661702016797, 0.9991007636104355, 0.32935884449712394, 0.09003433915074217, 0.07795305402508348, 0.040558600064711334, 0.016108380167544928, 0.026176117772260504, 0.008054190083772464, 0.41133899356409365, 0.8236201514462348, 0.1750314371432376, 0.9976318524417471, 0.9973862856281668, 0.9991550687929456, 0.8511473400457934, 0.14724960535523554, 0.4894808423657174, 0.10678065244620677, 0.4000103347496574, 0.0035454513507529595, 0.8225349748686968, 0.1770420919984469, 0.9975653492251957, 0.9933490449363067, 0.9965046447317567, 0.995995006577848, 0.9962565692774349, 0.005244257354868153, 0.06817534561328599, 0.3010820693147834, 0.005244257354868153, 0.008329114622437654, 0.04688983046705642, 0.5626779656046771, 0.002159400087298651, 0.11815407951720343, 0.0659464629863461, 0.8154005371332586, 0.9982122322754428, 0.30469870712855, 0.35767809398144, 0.02312805720481492, 0.026086297079849385, 0.008336857829642587, 0.11375776973996175, 0.02178340271616289, 0.0013446544886520301, 0.14334016849030642, 0.9967544278564489, 0.9993180472700632, 0.9975401336410874, 0.998916038476889, 0.9089901725632213, 0.09042803789229974, 0.9149528679673885, 0.08449858839463528, 0.9140075183607195, 0.08517177153013658, 0.7982217677555874, 0.09903125422902861, 0.10251476568432108, 0.9994060419087963, 0.9954462302879785, 0.9981397888391101, 0.9940173562363267, 0.9930924779520216, 0.9985507520567845, 0.09555723143532617, 0.9043563881523135, 0.9952355505833916, 0.9977366691836806, 0.995875995141753, 0.9987901952917058, 0.26677590692601094, 0.0015736781026534355, 0.033496862470765984, 0.38030554147458023, 0.00044962231504383867, 0.3172834803159355, 0.1013067573790525, 0.3537983440100073, 0.03605176697545363, 0.020674848444704592, 0.14007209821287359, 0.00012921780277940368, 0.34785432508215475, 0.9890652462052554, 0.8993014454354711, 0.0991355924102094, 0.9955189835276451, 0.9451050205294167, 0.05151515835170825, 0.9962587327234033, 0.21097234622232647, 0.7886161871705414, 0.9938705115405243, 0.44161780648167204, 0.06296615176287065, 0.15784275147796537, 0.057267857485687794, 0.006553038418760294, 0.27351812530477754, 0.2456795651723198, 0.0028019088100320203, 0.10660921325975492, 0.06157365458143537, 0.48609700892092095, 0.04797414596688971, 0.04927259151300211, 0.7526237768017994, 0.048145700622720056, 0.05127054176890621, 0.051386276626172366, 0.07719514979652471, 0.0035877805752507733, 0.01573994058819694, 0.9950286740905817, 0.0018792143661800116, 0.9677953985827059, 0.030067429858880185, 0.9586908953907882, 0.007871025413717474, 0.022038871158408923, 0.009445230496460968, 0.9015839670171198, 0.01801366567466773, 0.07926012896853801, 0.9925705451925553, 0.9993315995730386, 0.9968243371646732, 0.997866626871544, 0.3474404392408163, 0.24914687686227494, 0.1328498929022473, 0.03762800434803536, 0.11459049850206687, 0.10733793530573352, 0.010665534112254921, 0.0003412970915921575, 0.9928876664004652, 0.9982358827039589, 0.9972283571517265, 0.9958955875118299, 0.9368646744128727, 0.03860132845576424, 0.023995420391421014, 0.0072113722449883184, 0.990361788311729, 0.927393644945592, 0.07152880096994535, 0.0008269225545658421, 0.02345362795518306, 0.05916710688693908, 0.28570783145404816, 0.6311158067940169, 0.12286380419616744, 0.14494089401266627, 0.7314235843553093, 0.09058550357846622, 0.020509925338520654, 0.025637406673150814, 0.8631260246627441, 0.7678306825927506, 0.03206087068150905, 0.01738894681030999, 0.07118600100470653, 0.030430656918042486, 0.010324687168621557, 0.07118600100470653, 0.7312132128484209, 0.0002830868032707785, 0.04755858294949079, 0.11719793655410231, 0.010191124917748026, 0.004246302049061678, 0.08917234303029523, 0.9009691440816306, 0.005851806085429288, 0.01055415026122068, 0.0005224826861990436, 0.08202978173324983, 0.9977369614982453, 0.9522605087089809, 0.04619174109409236, 0.8894517898250686, 0.04069387273709464, 0.06927647382624444, 0.9968805043757142, 0.998771499225607, 0.9999467056472091, 0.999694616049412, 0.9976875923882563, 0.9977261680547214, 0.01361727844318609, 0.012569795486017929, 0.9741591501663895, 0.9991763757441037, 0.9963820768653371, 0.9987154893251287, 0.996674486315447, 0.9985839979053146, 0.9994639320641331, 0.9991884512340501, 0.2585949426463019, 0.09200682595501847, 0.2024349319984335, 0.1679821595087837, 0.14816683660288688, 0.024196600332326283, 0.04351405080340159, 0.060541288074297865, 0.0023897876871433366, 0.9917078288343996, 0.9997706092136828, 0.9997126615711956, 0.9945025241767156, 0.9980087784203332, 0.7911723812933537, 0.20809063983983406, 0.25798357020631, 0.2505186213871966, 0.059340016884138994, 0.14196055211941142, 0.09236292606699673, 0.07781260209753833, 0.04554884025221756, 0.07047417783468106, 0.004048785800197117, 0.1396575788981849, 0.2789683260606955, 0.018613303147854112, 0.22844650323080573, 0.13618926154144187, 0.06890390482062764, 0.043353966959287525, 0.08312400598327395, 0.0026590433068363014, 0.7332990443809858, 0.26641970305902146, 0.6237340159882437, 0.3758397275826597, 0.3446156475721385, 0.09536982379325572, 0.04788310355039605, 0.18312908808181272, 0.1362765811310113, 0.05557293971660204, 0.03995543739966823, 0.09711391034641584, 0.9980763939521174, 0.9979950344311939, 0.16489239915215756, 0.8330278346777831, 0.9987325363099114, 0.9988510098885907, 0.9990218606560402, 0.20399828487971672, 0.794889868669241, 0.9975230434768629, 0.9991137766184482, 0.998445778747844, 0.8868289210997943, 0.04634489734653252, 0.05020697212541023, 0.016896577157589982, 0.29006981785261016, 0.07182017124716068, 0.034166877583600715, 0.02231306291173924, 0.15409959073419913, 0.14782404179027248, 0.029983178287649605, 0.24893010810909091, 0.9936219916829022, 0.02361831694043856, 0.04509973853864697, 0.9113296293732078, 0.0014620862867890537, 0.018557249024630296, 0.9803441850698992, 0.019467827788622112, 0.9974147965662438, 0.016908897601459787, 0.15470851169933766, 0.7223417844511466, 0.004898839492011714, 0.012484139350610495, 0.021965764173858975, 0.0666874279235143, 0.4366068111555909, 0.22958708922433224, 0.10383597899009572, 0.06731076024986105, 0.019306187048409758, 0.08922589149400185, 0.040699529453404354, 0.008870410265485565, 0.004435205132742782, 0.9981875421343657, 0.9962418022585511, 0.9965244008447167, 0.21794361698130738, 0.7807347291862023], \"Term\": [\"abstractive\", \"accuracy\", \"accuracy\", \"accuracy\", \"accuracy\", \"accuracy\", \"accuracy\", \"accuracy\", \"accuracy\", \"achieved\", \"achieved\", \"achieved\", \"achieved\", \"achieved\", \"achieved\", \"adaptation\", \"adaptation\", \"adaptation\", \"adaptation\", \"adequacy\", \"adjectives\", \"adversarial\", \"affective\", \"al\", \"al\", \"al\", \"algorithm\", \"algorithm\", \"algorithm\", \"algorithm\", \"algorithm\", \"algorithm\", \"aligner\", \"alignment\", \"alignment\", \"alignment\", \"alignment\", \"alignment\", \"alis\", \"also\", \"also\", \"also\", \"also\", \"also\", \"also\", \"also\", \"also\", \"also\", \"amr\", \"analyse\", \"analyse\", \"analyse\", \"analyse\", \"analyse\", \"analyse\", \"analyse\", \"analyse\", \"analysis\", \"analysis\", \"analysis\", \"analysis\", \"analysis\", \"analysis\", \"analysis\", \"analysis\", \"analyzer\", \"anaphora\", \"annotated\", \"annotated\", \"annotated\", \"annotated\", \"annotated\", \"annotation\", \"annotation\", \"annotation\", \"annotation\", \"answer\", \"answering\", \"answers\", \"application\", \"application\", \"application\", \"application\", \"application\", \"application\", \"approach\", \"approach\", \"approach\", \"approach\", \"approach\", \"approach\", \"approach\", \"approach\", \"approaches\", \"approaches\", \"approaches\", \"approaches\", \"approaches\", \"approaches\", \"approaches\", \"approaches\", \"arabic\", \"arabic\", \"arabic\", \"argument\", \"argumentation\", \"arguments\", \"arguments\", \"article\", \"article\", \"article\", \"article\", \"article\", \"article\", \"articles\", \"articles\", \"articles\", \"asian\", \"asr\", \"association\", \"attention\", \"attention\", \"attention\", \"attention\", \"attention\", \"attention\", \"attention\", \"au\", \"augmentation\", \"augmentation\", \"augmentation\", \"aussi\", \"automatic\", \"automatic\", \"automatic\", \"automatic\", \"automatic\", \"automatic\", \"automatic\", \"automatique\", \"available\", \"available\", \"available\", \"available\", \"available\", \"available\", \"available\", \"available\", \"based\", \"based\", \"based\", \"based\", \"based\", \"based\", \"based\", \"based\", \"basque\", \"best\", \"best\", \"best\", \"best\", \"best\", \"best\", \"best\", \"best\", \"better\", \"better\", \"better\", \"better\", \"better\", \"better\", \"better\", \"better\", \"bias\", \"bias\", \"biases\", \"bilingual\", \"bilingual\", \"bleu\", \"btec\", \"campaign\", \"captioning\", \"catalan\", \"categorial\", \"causal\", \"ce\", \"ces\", \"cet\", \"cette\", \"character\", \"character\", \"character\", \"character\", \"character\", \"chunking\", \"chunks\", \"classes\", \"classes\", \"classes\", \"classes\", \"classes\", \"classes\", \"classification\", \"classification\", \"classification\", \"classification\", \"classification\", \"classification\", \"clinical\", \"coding\", \"collaborative\", \"collected\", \"collected\", \"collected\", \"collection\", \"collection\", \"collection\", \"collection\", \"collection\", \"collection\", \"collocations\", \"comments\", \"commercial\", \"commonsense\", \"competition\", \"competition\", \"compound\", \"compounds\", \"comprehension\", \"comprehension\", \"comprehension\", \"comprises\", \"connectives\", \"consortium\", \"constituents\", \"content\", \"content\", \"content\", \"content\", \"content\", \"context\", \"context\", \"context\", \"context\", \"context\", \"context\", \"context\", \"context\", \"context\", \"coreference\", \"corpora\", \"corpora\", \"corpora\", \"corpora\", \"corpora\", \"corpora\", \"corpus\", \"corpus\", \"corpus\", \"corpus\", \"corpus\", \"corpus\", \"corpus\", \"correction\", \"correction\", \"crowdsourcing\", \"customization\", \"czech\", \"danish\", \"dans\", \"data\", \"data\", \"data\", \"data\", \"data\", \"data\", \"data\", \"database\", \"database\", \"database\", \"databases\", \"databases\", \"dataset\", \"dataset\", \"dataset\", \"dataset\", \"dataset\", \"dataset\", \"datasets\", \"datasets\", \"datasets\", \"datasets\", \"datasets\", \"de\", \"decoders\", \"dependency\", \"dependency\", \"derivational\", \"des\", \"describe\", \"describe\", \"describe\", \"describe\", \"describe\", \"describe\", \"describes\", \"describes\", \"describes\", \"describes\", \"describes\", \"detection\", \"detection\", \"detection\", \"detection\", \"detection\", \"developers\", \"development\", \"development\", \"development\", \"development\", \"development\", \"development\", \"diagnosis\", \"dialect\", \"dialect\", \"dialectal\", \"dialects\", \"dialogue\", \"dialogue\", \"dialogue\", \"dictionaries\", \"dictionary\", \"differences\", \"differences\", \"differences\", \"differences\", \"differences\", \"differences\", \"differences\", \"different\", \"different\", \"different\", \"different\", \"different\", \"different\", \"different\", \"different\", \"different\", \"dimension\", \"dimension\", \"disambiguation\", \"discourse\", \"discourse\", \"discuss\", \"discuss\", \"discuss\", \"discuss\", \"discuss\", \"discuss\", \"discusses\", \"disease\", \"disfluencies\", \"distributional\", \"distributional\", \"distributional\", \"document\", \"document\", \"document\", \"document\", \"document\", \"document\", \"document\", \"documentation\", \"documentation\", \"domain\", \"domain\", \"domain\", \"domain\", \"domain\", \"domain\", \"domains\", \"domains\", \"domains\", \"downstream\", \"downstream\", \"downstream\", \"du\", \"ebmt\", \"effective\", \"effective\", \"effective\", \"effective\", \"effective\", \"effective\", \"effective\", \"embeddings\", \"embeddings\", \"embeddings\", \"embeddings\", \"emotion\", \"emotional\", \"emotions\", \"en\", \"english\", \"english\", \"english\", \"english\", \"english\", \"english\", \"english\", \"ensemble\", \"ensemble\", \"ensemble\", \"ensemble\", \"entailment\", \"entailment\", \"entailment\", \"entities\", \"entities\", \"entity\", \"entity\", \"entity\", \"entr\", \"entry\", \"environment\", \"environment\", \"error\", \"error\", \"error\", \"error\", \"error\", \"error\", \"error\", \"errors\", \"errors\", \"errors\", \"errors\", \"es\", \"essay\", \"est\", \"et\", \"et\", \"et\", \"et\", \"et\", \"et\", \"et\", \"europarl\", \"evaluation\", \"evaluation\", \"evaluation\", \"evaluation\", \"evaluation\", \"evaluation\", \"event\", \"event\", \"events\", \"events\", \"events\", \"existing\", \"existing\", \"existing\", \"existing\", \"existing\", \"existing\", \"experimental\", \"experimental\", \"experimental\", \"experimental\", \"experimental\", \"experimental\", \"experimental\", \"experiments\", \"experiments\", \"experiments\", \"experiments\", \"experiments\", \"experiments\", \"experiments\", \"experiments\", \"explanations\", \"explanations\", \"explanations\", \"extraction\", \"extraction\", \"extraction\", \"extraction\", \"extraction\", \"extraction\", \"extraction\", \"extraction\", \"facts\", \"facts\", \"facts\", \"fake\", \"feature\", \"feature\", \"feature\", \"feature\", \"features\", \"features\", \"features\", \"features\", \"features\", \"features\", \"features\", \"features\", \"feedback\", \"files\", \"financial\", \"find\", \"find\", \"find\", \"find\", \"find\", \"find\", \"find\", \"find\", \"finite\", \"formalism\", \"formation\", \"formats\", \"forums\", \"fr\", \"fragments\", \"fragments\", \"frame\", \"framenet\", \"frames\", \"frames\", \"freely\", \"freely\", \"frequency\", \"frequency\", \"frequency\", \"frequency\", \"gated\", \"gaussian\", \"gender\", \"gender\", \"generalization\", \"generalization\", \"generation\", \"generation\", \"generation\", \"gles\", \"goals\", \"grammaire\", \"grammar\", \"grammatical\", \"grammatical\", \"graph\", \"graph\", \"greek\", \"grid\", \"hate\", \"health\", \"health\", \"hierarchical\", \"hierarchical\", \"hierarchical\", \"hierarchical\", \"hierarchical\", \"hlt\", \"hours\", \"however\", \"however\", \"however\", \"however\", \"however\", \"however\", \"however\", \"however\", \"hpsg\", \"human\", \"human\", \"human\", \"human\", \"human\", \"humor\", \"identification\", \"identification\", \"identification\", \"identification\", \"image\", \"images\", \"images\", \"improve\", \"improve\", \"improve\", \"improve\", \"improve\", \"improve\", \"improve\", \"improve\", \"indian\", \"information\", \"information\", \"information\", \"information\", \"information\", \"information\", \"information\", \"information\", \"information\", \"infrastructure\", \"institute\", \"intelligibility\", \"intensity\", \"interface\", \"interface\", \"interfaces\", \"interlingua\", \"international\", \"international\", \"interpr\", \"investigate\", \"investigate\", \"investigate\", \"investigate\", \"investigate\", \"investigate\", \"investigate\", \"investigate\", \"investigate\", \"ir\", \"ir\", \"irony\", \"iso\", \"iwslt\", \"kb\", \"kernel\", \"kg\", \"kgs\", \"kit\", \"knowledge\", \"knowledge\", \"knowledge\", \"knowledge\", \"knowledge\", \"la\", \"lab\", \"labeled\", \"labeled\", \"labeled\", \"language\", \"language\", \"language\", \"language\", \"language\", \"language\", \"language\", \"language\", \"language\", \"languages\", \"languages\", \"languages\", \"languages\", \"languages\", \"large\", \"large\", \"large\", \"large\", \"large\", \"large\", \"large\", \"large\", \"latent\", \"latent\", \"latin\", \"lattice\", \"ldc\", \"le\", \"learning\", \"learning\", \"learning\", \"learning\", \"learning\", \"learning\", \"lectures\", \"lemmatization\", \"les\", \"lexica\", \"lexical\", \"lexical\", \"lexical\", \"lexical\", \"lexicales\", \"lexicalized\", \"lexicon\", \"lexicon\", \"lexicons\", \"lexicons\", \"lexicons\", \"linguistic\", \"linguistic\", \"linguistic\", \"linguistic\", \"linguistic\", \"linguistic\", \"linguistic\", \"linguistics\", \"linguistics\", \"linguistics\", \"linguistics\", \"linking\", \"lm\", \"logistic\", \"lr\", \"machine\", \"machine\", \"machine\", \"machine\", \"machine\", \"machine\", \"management\", \"market\", \"matching\", \"matching\", \"matching\", \"matching\", \"material\", \"math\", \"measure\", \"measure\", \"measure\", \"measure\", \"measure\", \"measure\", \"measure\", \"measures\", \"measures\", \"measures\", \"mechanism\", \"mechanism\", \"mechanism\", \"mechanism\", \"media\", \"medical\", \"memories\", \"men\", \"messages\", \"messages\", \"messages\", \"method\", \"method\", \"method\", \"method\", \"method\", \"method\", \"method\", \"method\", \"methods\", \"methods\", \"methods\", \"methods\", \"methods\", \"methods\", \"methods\", \"mining\", \"mining\", \"mining\", \"mining\", \"mining\", \"mod\", \"modalities\", \"model\", \"model\", \"model\", \"model\", \"model\", \"model\", \"model\", \"models\", \"models\", \"models\", \"models\", \"models\", \"models\", \"models\", \"monolingual\", \"monolingual\", \"morphological\", \"morphological\", \"morphologically\", \"morphology\", \"moses\", \"motion\", \"motivation\", \"mrc\", \"msa\", \"mt\", \"multilingual\", \"multilingual\", \"multilingual\", \"multimodal\", \"multiword\", \"mwe\", \"mwes\", \"named\", \"named\", \"named\", \"nan\", \"natural\", \"natural\", \"natural\", \"natural\", \"natural\", \"natural\", \"natural\", \"ner\", \"ner\", \"ner\", \"network\", \"network\", \"network\", \"network\", \"network\", \"neural\", \"neural\", \"neural\", \"neural\", \"neural\", \"new\", \"new\", \"new\", \"new\", \"new\", \"new\", \"new\", \"new\", \"news\", \"news\", \"nist\", \"niveau\", \"nli\", \"nmt\", \"noise\", \"noise\", \"normalisation\", \"notes\", \"noun\", \"noun\", \"nouns\", \"nouns\", \"nous\", \"novel\", \"novel\", \"novel\", \"novel\", \"novel\", \"novel\", \"novel\", \"objects\", \"objects\", \"offensive\", \"online\", \"online\", \"online\", \"online\", \"online\", \"ontological\", \"ontologies\", \"oov\", \"opinion\", \"opinion\", \"opinions\", \"opinions\", \"optimization\", \"ordered\", \"orthographic\", \"orthographic\", \"output\", \"output\", \"output\", \"output\", \"output\", \"output\", \"pairs\", \"pairs\", \"pairs\", \"pairs\", \"pairs\", \"paper\", \"paper\", \"paper\", \"paper\", \"paper\", \"paper\", \"paper\", \"paper\", \"par\", \"par\", \"parallel\", \"parallel\", \"parallel\", \"parallel\", \"parameter\", \"parameters\", \"parameters\", \"parse\", \"parsed\", \"parser\", \"parsers\", \"parsing\", \"participation\", \"participation\", \"participation\", \"participation\", \"passage\", \"passage\", \"patent\", \"paths\", \"patient\", \"patterns\", \"patterns\", \"patterns\", \"patterns\", \"patterns\", \"patterns\", \"patterns\", \"patterns\", \"penn\", \"performance\", \"performance\", \"performance\", \"performance\", \"performance\", \"performance\", \"performance\", \"performance\", \"performance\", \"perplexity\", \"persian\", \"personality\", \"phonetic\", \"phonetic\", \"phonological\", \"phrasal\", \"platforms\", \"plus\", \"plus\", \"plus\", \"polarity\", \"polish\", \"political\", \"pos\", \"pos\", \"posts\", \"pour\", \"pr\", \"predicate\", \"present\", \"present\", \"present\", \"present\", \"present\", \"present\", \"present\", \"present\", \"pretrained\", \"pretrained\", \"pretraining\", \"problem\", \"problem\", \"problem\", \"problem\", \"problem\", \"problem\", \"problem\", \"process\", \"process\", \"process\", \"process\", \"process\", \"process\", \"process\", \"process\", \"processing\", \"processing\", \"processing\", \"processing\", \"processing\", \"processing\", \"processing\", \"product\", \"product\", \"product\", \"programs\", \"project\", \"project\", \"project\", \"projects\", \"pronunciation\", \"properties\", \"properties\", \"properties\", \"properties\", \"properties\", \"properties\", \"properties\", \"propose\", \"propose\", \"propose\", \"propose\", \"propose\", \"propose\", \"propose\", \"propose\", \"proposed\", \"proposed\", \"proposed\", \"proposed\", \"proposed\", \"proposed\", \"proposed\", \"proposed\", \"provide\", \"provide\", \"provide\", \"provide\", \"provide\", \"provide\", \"provide\", \"provide\", \"pruning\", \"punctuation\", \"qa\", \"quality\", \"quality\", \"quality\", \"quality\", \"quality\", \"que\", \"query\", \"query\", \"question\", \"question\", \"question\", \"question\", \"questions\", \"questions\", \"questions\", \"qui\", \"ranked\", \"ranked\", \"ranked\", \"reading\", \"reading\", \"reasoning\", \"recorded\", \"recurrent\", \"recurrent\", \"recurrent\", \"recurrent\", \"regression\", \"regression\", \"reinforcement\", \"reinforcement\", \"relation\", \"relation\", \"relation\", \"relation\", \"relation\", \"relation\", \"relational\", \"relational\", \"relations\", \"relations\", \"relations\", \"relations\", \"relations\", \"reordering\", \"representation\", \"representation\", \"representation\", \"representation\", \"representation\", \"representations\", \"representations\", \"representations\", \"representations\", \"representations\", \"research\", \"research\", \"research\", \"research\", \"research\", \"research\", \"research\", \"research\", \"researchers\", \"researchers\", \"researchers\", \"resolution\", \"resources\", \"resources\", \"restrictions\", \"results\", \"results\", \"results\", \"results\", \"results\", \"results\", \"results\", \"results\", \"retrieval\", \"retrieval\", \"retrieval\", \"retrieval\", \"reviews\", \"reward\", \"rnns\", \"robustness\", \"robustness\", \"romanian\", \"rouge\", \"rules\", \"rules\", \"rules\", \"rules\", \"rules\", \"rules\", \"russian\", \"russian\", \"sampling\", \"sarcasm\", \"scheme\", \"scheme\", \"scheme\", \"scheme\", \"scheme\", \"scheme\", \"score\", \"score\", \"score\", \"score\", \"score\", \"score\", \"score\", \"section\", \"segmentation\", \"segmentation\", \"segmentation\", \"segmentation\", \"semantic\", \"semantic\", \"semantic\", \"semantic\", \"semantic\", \"semantic\", \"semeval\", \"semeval\", \"sense\", \"sense\", \"sense\", \"senses\", \"sent\", \"sentence\", \"sentence\", \"sentence\", \"sentence\", \"sentence\", \"sentence\", \"sentences\", \"sentences\", \"sentences\", \"sentences\", \"sentences\", \"sentences\", \"sentences\", \"sentences\", \"sentiment\", \"sentiment\", \"sentons\", \"service\", \"service\", \"service\", \"services\", \"services\", \"services\", \"set\", \"set\", \"set\", \"set\", \"set\", \"set\", \"set\", \"set\", \"set\", \"settings\", \"settings\", \"settings\", \"settings\", \"shared\", \"shared\", \"shared\", \"shared\", \"shorter\", \"show\", \"show\", \"show\", \"show\", \"show\", \"show\", \"show\", \"show\", \"show\", \"sign\", \"signs\", \"similarity\", \"similarity\", \"similarity\", \"simultaneous\", \"simultaneous\", \"smt\", \"social\", \"software\", \"sont\", \"source\", \"source\", \"source\", \"source\", \"source\", \"source\", \"source\", \"source\", \"spanish\", \"spanish\", \"sparsity\", \"spatial\", \"speaker\", \"speakers\", \"speakers\", \"speech\", \"speech\", \"speech\", \"speech\", \"spoken\", \"spoken\", \"spontaneous\", \"srl\", \"stance\", \"standards\", \"strings\", \"structure\", \"structure\", \"structure\", \"structure\", \"structure\", \"structure\", \"structure\", \"structure\", \"structures\", \"structures\", \"structures\", \"students\", \"study\", \"study\", \"study\", \"study\", \"study\", \"study\", \"study\", \"study\", \"study\", \"stylistic\", \"subtask\", \"subtasks\", \"sultats\", \"summaries\", \"summaries\", \"summarization\", \"summarization\", \"summary\", \"summary\", \"supervised\", \"supervised\", \"supervised\", \"sur\", \"survey\", \"swedish\", \"synchronous\", \"synonyms\", \"synsets\", \"syntactic\", \"syntactic\", \"syntactically\", \"syntax\", \"synthesis\", \"syst\", \"system\", \"system\", \"system\", \"system\", \"system\", \"system\", \"systems\", \"systems\", \"systems\", \"systems\", \"systems\", \"systems\", \"systems\", \"systran\", \"tag\", \"tag\", \"tagged\", \"tagger\", \"tagger\", \"taggers\", \"tagging\", \"tagging\", \"talks\", \"target\", \"target\", \"target\", \"target\", \"target\", \"target\", \"task\", \"task\", \"task\", \"task\", \"task\", \"task\", \"task\", \"tasks\", \"tasks\", \"tasks\", \"tasks\", \"tasks\", \"tasks\", \"tasks\", \"te\", \"team\", \"team\", \"team\", \"technologies\", \"technologies\", \"technologies\", \"technologies\", \"technology\", \"technology\", \"technology\", \"ted\", \"temporal\", \"terminological\", \"terminology\", \"text\", \"text\", \"text\", \"text\", \"text\", \"text\", \"text\", \"text\", \"thai\", \"thesaurus\", \"thode\", \"tm\", \"tool\", \"tool\", \"tool\", \"toolkit\", \"toolkit\", \"tools\", \"tools\", \"tools\", \"topic\", \"topic\", \"topic\", \"topic\", \"topics\", \"topics\", \"topics\", \"track\", \"track\", \"track\", \"track\", \"train\", \"train\", \"train\", \"train\", \"train\", \"train\", \"train\", \"trained\", \"trained\", \"trained\", \"trained\", \"trained\", \"trained\", \"trained\", \"training\", \"training\", \"training\", \"training\", \"training\", \"transcribed\", \"transcription\", \"transcription\", \"transfer\", \"transfer\", \"transfer\", \"translate\", \"translating\", \"translation\", \"translations\", \"translators\", \"transliteration\", \"tree\", \"tree\", \"tree\", \"treebank\", \"treebanks\", \"trees\", \"tutorial\", \"tweet\", \"tweets\", \"twitter\", \"two\", \"two\", \"two\", \"two\", \"two\", \"two\", \"two\", \"two\", \"two\", \"ud\", \"un\", \"une\", \"unification\", \"unlabeled\", \"unsupervised\", \"unsupervised\", \"use\", \"use\", \"use\", \"use\", \"use\", \"use\", \"use\", \"use\", \"use\", \"used\", \"used\", \"used\", \"used\", \"used\", \"used\", \"used\", \"used\", \"used\", \"user\", \"user\", \"users\", \"users\", \"using\", \"using\", \"using\", \"using\", \"using\", \"using\", \"using\", \"using\", \"valence\", \"valency\", \"variation\", \"variation\", \"verb\", \"verbal\", \"verbs\", \"video\", \"video\", \"videos\", \"visual\", \"weak\", \"web\", \"web\", \"web\", \"web\", \"whether\", \"whether\", \"whether\", \"whether\", \"whether\", \"whether\", \"whether\", \"whether\", \"wmt\", \"word\", \"word\", \"word\", \"word\", \"word\", \"wordnet\", \"wordnet\", \"wordnets\", \"words\", \"words\", \"words\", \"words\", \"words\", \"words\", \"words\", \"work\", \"work\", \"work\", \"work\", \"work\", \"work\", \"work\", \"work\", \"work\", \"workflow\", \"wsd\", \"xml\", \"year\", \"year\"]}, \"R\": 30, \"lambda.step\": 0.01, \"plot.opts\": {\"xlab\": \"PC1\", \"ylab\": \"PC2\"}, \"topic.order\": [8, 4, 10, 1, 5, 6, 7, 3, 2, 9]};\n",
              "\n",
              "function LDAvis_load_lib(url, callback){\n",
              "  var s = document.createElement('script');\n",
              "  s.src = url;\n",
              "  s.async = true;\n",
              "  s.onreadystatechange = s.onload = callback;\n",
              "  s.onerror = function(){console.warn(\"failed to load library \" + url);};\n",
              "  document.getElementsByTagName(\"head\")[0].appendChild(s);\n",
              "}\n",
              "\n",
              "if(typeof(LDAvis) !== \"undefined\"){\n",
              "   // already loaded: just create the visualization\n",
              "   !function(LDAvis){\n",
              "       new LDAvis(\"#\" + \"ldavis_el521398258148566564297780151\", ldavis_el521398258148566564297780151_data);\n",
              "   }(LDAvis);\n",
              "}else if(typeof define === \"function\" && define.amd){\n",
              "   // require.js is available: use it to load d3/LDAvis\n",
              "   require.config({paths: {d3: \"https://cdnjs.cloudflare.com/ajax/libs/d3/3.5.5/d3.min\"}});\n",
              "   require([\"d3\"], function(d3){\n",
              "      window.d3 = d3;\n",
              "      LDAvis_load_lib(\"https://cdn.rawgit.com/bmabey/pyLDAvis/files/ldavis.v1.0.0.js\", function(){\n",
              "        new LDAvis(\"#\" + \"ldavis_el521398258148566564297780151\", ldavis_el521398258148566564297780151_data);\n",
              "      });\n",
              "    });\n",
              "}else{\n",
              "    // require.js not available: dynamically load d3 & LDAvis\n",
              "    LDAvis_load_lib(\"https://cdnjs.cloudflare.com/ajax/libs/d3/3.5.5/d3.min.js\", function(){\n",
              "         LDAvis_load_lib(\"https://cdn.rawgit.com/bmabey/pyLDAvis/files/ldavis.v1.0.0.js\", function(){\n",
              "                 new LDAvis(\"#\" + \"ldavis_el521398258148566564297780151\", ldavis_el521398258148566564297780151_data);\n",
              "            })\n",
              "         });\n",
              "}\n",
              "</script>"
            ]
          },
          "metadata": {},
          "execution_count": 34
        }
      ]
    },
    {
      "cell_type": "markdown",
      "source": [
        "topicos de sklearn\n",
        "\n",
        "\n",
        "1 embedings\n",
        "6 sequence 2 sequence\n",
        "3 herramientas - implementacion\n",
        "7 palabras en otro idioma? articulos? parte de nombres?\n",
        "9 emotions analysis (hater etc)\n",
        "5 computation and social sceince,\n",
        "\n",
        "promediar la distribucion para todos los años y ver como se distribuyo para cada año y decir este año el topico no fue tan frecuente"
      ],
      "metadata": {
        "id": "F5s2gpon-GMM"
      }
    },
    {
      "cell_type": "code",
      "metadata": {
        "id": "4gpsFpeM21BH"
      },
      "source": [
        "lsatopics  = [[word for word, prob in topic] for topicid, topic in lsamodel.show_topics(10,formatted=False)]\n",
        "ldatopics = [[word for word, prob in topic] for topicid, topic in ldamodel.show_topics(10,formatted=False)]"
      ],
      "execution_count": null,
      "outputs": []
    },
    {
      "cell_type": "code",
      "source": [
        "ldatopics[0]"
      ],
      "metadata": {
        "colab": {
          "base_uri": "https://localhost:8080/"
        },
        "id": "6PzNfDlj6FcU",
        "outputId": "a71bd42a-56d6-4480-f42b-6e69ee928d40"
      },
      "execution_count": null,
      "outputs": [
        {
          "output_type": "execute_result",
          "data": {
            "text/plain": [
              "['information',\n",
              " 'text',\n",
              " 'analysis',\n",
              " 'documents',\n",
              " 'social',\n",
              " 'sentiment',\n",
              " 'news',\n",
              " 'users',\n",
              " 'event',\n",
              " 'extraction']"
            ]
          },
          "metadata": {},
          "execution_count": 50
        }
      ]
    },
    {
      "cell_type": "code",
      "metadata": {
        "id": "Ni9GdVOZ21BK"
      },
      "source": [
        "lsa_coherence = CoherenceModel(topics=lsatopics, texts=texts, dictionary=dictionary, window_size=30,coherence='c_npmi',topn=5).get_coherence_per_topic()\n",
        "lda_coherence = CoherenceModel(topics=ldatopics, texts=texts, dictionary=dictionary, window_size=30,coherence='c_npmi',topn=5).get_coherence_per_topic()"
      ],
      "execution_count": null,
      "outputs": []
    },
    {
      "cell_type": "code",
      "metadata": {
        "id": "mzWg3JKK21BM",
        "colab": {
          "base_uri": "https://localhost:8080/",
          "height": 275
        },
        "outputId": "1a3bca2a-d128-425a-e404-62ecc4591846"
      },
      "source": [
        "df_lda = pd.DataFrame([range(10),lda_coherence,ldatopics],index=['topic_id','coherence','topic']).transpose()\n",
        "df_lsa = pd.DataFrame([range(10),lsa_coherence,lsatopics],index=['topic_id','coherence','topic']).transpose()\n",
        "pd.Series({'LSA':np.mean(lsa_coherence),'LDA':np.mean(lda_coherence)}).plot.bar();"
      ],
      "execution_count": null,
      "outputs": [
        {
          "output_type": "display_data",
          "data": {
            "text/plain": [
              "<Figure size 432x288 with 1 Axes>"
            ],
            "image/png": "[encoded data removed]"
          },
          "metadata": {
            "needs_background": "light"
          }
        }
      ]
    },
    {
      "cell_type": "code",
      "metadata": {
        "id": "aq1ChgAcVF2e",
        "colab": {
          "base_uri": "https://localhost:8080/",
          "height": 363
        },
        "outputId": "3ef7f837-119f-43a9-d907-90af4e45d138"
      },
      "source": [
        "df_lda.sort_values(by='coherence',ascending=False)"
      ],
      "execution_count": null,
      "outputs": [
        {
          "output_type": "execute_result",
          "data": {
            "text/plain": [
              "  topic_id coherence                                              topic\n",
              "5        5  0.555164      [de, des, la, les, et, un, le, une, nous, en]\n",
              "6        6  0.168902  [word, semantic, words, lexical, syntactic, pa...\n",
              "9        9  0.135183  [translation, machine, languages, language, da...\n",
              "4        4  0.106065  [speech, parser, grammar, errors, error, ontol...\n",
              "1        1  0.089009  [evaluation, human, results, text, automatic, ...\n",
              "2        2  0.079501  [model, models, learning, propose, performance...\n",
              "8        8  0.073562  [question, dialogue, system, knowledge, questi...\n",
              "7        7  0.029253  [corpus, language, annotation, paper, data, re...\n",
              "3        3  0.026759  [task, system, paper, model, features, results...\n",
              "0        0   0.02665  [information, text, analysis, documents, socia..."
            ],
            "text/html": [
              "\n",
              "  <div id=\"df-7eafb6bb-2704-46b1-bf11-16d9d5e668f9\">\n",
              "    <div class=\"colab-df-container\">\n",
              "      <div>\n",
              "<style scoped>\n",
              "    .dataframe tbody tr th:only-of-type {\n",
              "        vertical-align: middle;\n",
              "    }\n",
              "\n",
              "    .dataframe tbody tr th {\n",
              "        vertical-align: top;\n",
              "    }\n",
              "\n",
              "    .dataframe thead th {\n",
              "        text-align: right;\n",
              "    }\n",
              "</style>\n",
              "<table border=\"1\" class=\"dataframe\">\n",
              "  <thead>\n",
              "    <tr style=\"text-align: right;\">\n",
              "      <th></th>\n",
              "      <th>topic_id</th>\n",
              "      <th>coherence</th>\n",
              "      <th>topic</th>\n",
              "    </tr>\n",
              "  </thead>\n",
              "  <tbody>\n",
              "    <tr>\n",
              "      <th>5</th>\n",
              "      <td>5</td>\n",
              "      <td>0.555164</td>\n",
              "      <td>[de, des, la, les, et, un, le, une, nous, en]</td>\n",
              "    </tr>\n",
              "    <tr>\n",
              "      <th>6</th>\n",
              "      <td>6</td>\n",
              "      <td>0.168902</td>\n",
              "      <td>[word, semantic, words, lexical, syntactic, pa...</td>\n",
              "    </tr>\n",
              "    <tr>\n",
              "      <th>9</th>\n",
              "      <td>9</td>\n",
              "      <td>0.135183</td>\n",
              "      <td>[translation, machine, languages, language, da...</td>\n",
              "    </tr>\n",
              "    <tr>\n",
              "      <th>4</th>\n",
              "      <td>4</td>\n",
              "      <td>0.106065</td>\n",
              "      <td>[speech, parser, grammar, errors, error, ontol...</td>\n",
              "    </tr>\n",
              "    <tr>\n",
              "      <th>1</th>\n",
              "      <td>1</td>\n",
              "      <td>0.089009</td>\n",
              "      <td>[evaluation, human, results, text, automatic, ...</td>\n",
              "    </tr>\n",
              "    <tr>\n",
              "      <th>2</th>\n",
              "      <td>2</td>\n",
              "      <td>0.079501</td>\n",
              "      <td>[model, models, learning, propose, performance...</td>\n",
              "    </tr>\n",
              "    <tr>\n",
              "      <th>8</th>\n",
              "      <td>8</td>\n",
              "      <td>0.073562</td>\n",
              "      <td>[question, dialogue, system, knowledge, questi...</td>\n",
              "    </tr>\n",
              "    <tr>\n",
              "      <th>7</th>\n",
              "      <td>7</td>\n",
              "      <td>0.029253</td>\n",
              "      <td>[corpus, language, annotation, paper, data, re...</td>\n",
              "    </tr>\n",
              "    <tr>\n",
              "      <th>3</th>\n",
              "      <td>3</td>\n",
              "      <td>0.026759</td>\n",
              "      <td>[task, system, paper, model, features, results...</td>\n",
              "    </tr>\n",
              "    <tr>\n",
              "      <th>0</th>\n",
              "      <td>0</td>\n",
              "      <td>0.02665</td>\n",
              "      <td>[information, text, analysis, documents, socia...</td>\n",
              "    </tr>\n",
              "  </tbody>\n",
              "</table>\n",
              "</div>\n",
              "      <button class=\"colab-df-convert\" onclick=\"convertToInteractive('df-7eafb6bb-2704-46b1-bf11-16d9d5e668f9')\"\n",
              "              title=\"Convert this dataframe to an interactive table.\"\n",
              "              style=\"display:none;\">\n",
              "        \n",
              "  <svg xmlns=\"http://www.w3.org/2000/svg\" height=\"24px\"viewBox=\"0 0 24 24\"\n",
              "       width=\"24px\">\n",
              "    <path d=\"M0 0h24v24H0V0z\" fill=\"none\"/>\n",
              "    <path d=\"M18.56 5.44l.94 2.06.94-2.06 2.06-.94-2.06-.94-.94-2.06-.94 2.06-2.06.94zm-11 1L8.5 8.5l.94-2.06 2.06-.94-2.06-.94L8.5 2.5l-.94 2.06-2.06.94zm10 10l.94 2.06.94-2.06 2.06-.94-2.06-.94-.94-2.06-.94 2.06-2.06.94z\"/><path d=\"M17.41 7.96l-1.37-1.37c-.4-.4-.92-.59-1.43-.59-.52 0-1.04.2-1.43.59L10.3 9.45l-7.72 7.72c-.78.78-.78 2.05 0 2.83L4 21.41c.39.39.9.59 1.41.59.51 0 1.02-.2 1.41-.59l7.78-7.78 2.81-2.81c.8-.78.8-2.07 0-2.86zM5.41 20L4 18.59l7.72-7.72 1.47 1.35L5.41 20z\"/>\n",
              "  </svg>\n",
              "      </button>\n",
              "      \n",
              "  <style>\n",
              "    .colab-df-container {\n",
              "      display:flex;\n",
              "      flex-wrap:wrap;\n",
              "      gap: 12px;\n",
              "    }\n",
              "\n",
              "    .colab-df-convert {\n",
              "      background-color: #E8F0FE;\n",
              "      border: none;\n",
              "      border-radius: 50%;\n",
              "      cursor: pointer;\n",
              "      display: none;\n",
              "      fill: #1967D2;\n",
              "      height: 32px;\n",
              "      padding: 0 0 0 0;\n",
              "      width: 32px;\n",
              "    }\n",
              "\n",
              "    .colab-df-convert:hover {\n",
              "      background-color: #E2EBFA;\n",
              "      box-shadow: 0px 1px 2px rgba(60, 64, 67, 0.3), 0px 1px 3px 1px rgba(60, 64, 67, 0.15);\n",
              "      fill: #174EA6;\n",
              "    }\n",
              "\n",
              "    [theme=dark] .colab-df-convert {\n",
              "      background-color: #3B4455;\n",
              "      fill: #D2E3FC;\n",
              "    }\n",
              "\n",
              "    [theme=dark] .colab-df-convert:hover {\n",
              "      background-color: #434B5C;\n",
              "      box-shadow: 0px 1px 3px 1px rgba(0, 0, 0, 0.15);\n",
              "      filter: drop-shadow(0px 1px 2px rgba(0, 0, 0, 0.3));\n",
              "      fill: #FFFFFF;\n",
              "    }\n",
              "  </style>\n",
              "\n",
              "      <script>\n",
              "        const buttonEl =\n",
              "          document.querySelector('#df-7eafb6bb-2704-46b1-bf11-16d9d5e668f9 button.colab-df-convert');\n",
              "        buttonEl.style.display =\n",
              "          google.colab.kernel.accessAllowed ? 'block' : 'none';\n",
              "\n",
              "        async function convertToInteractive(key) {\n",
              "          const element = document.querySelector('#df-7eafb6bb-2704-46b1-bf11-16d9d5e668f9');\n",
              "          const dataTable =\n",
              "            await google.colab.kernel.invokeFunction('convertToInteractive',\n",
              "                                                     [key], {});\n",
              "          if (!dataTable) return;\n",
              "\n",
              "          const docLinkHtml = 'Like what you see? Visit the ' +\n",
              "            '<a target=\"_blank\" href=https://colab.research.google.com/notebooks/data_table.ipynb>data table notebook</a>'\n",
              "            + ' to learn more about interactive tables.';\n",
              "          element.innerHTML = '';\n",
              "          dataTable['output_type'] = 'display_data';\n",
              "          await google.colab.output.renderOutput(dataTable, element);\n",
              "          const docLink = document.createElement('div');\n",
              "          docLink.innerHTML = docLinkHtml;\n",
              "          element.appendChild(docLink);\n",
              "        }\n",
              "      </script>\n",
              "    </div>\n",
              "  </div>\n",
              "  "
            ]
          },
          "metadata": {},
          "execution_count": 48
        }
      ]
    },
    {
      "cell_type": "code",
      "source": [],
      "metadata": {
        "id": "mQqqpWE_YobL"
      },
      "execution_count": null,
      "outputs": []
    }
  ]
}