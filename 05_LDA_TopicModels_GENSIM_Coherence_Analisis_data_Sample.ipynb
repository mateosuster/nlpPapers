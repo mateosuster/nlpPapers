{
  "nbformat": 4,
  "nbformat_minor": 0,
  "metadata": {
    "kernelspec": {
      "display_name": "Python 3",
      "language": "python",
      "name": "python3"
    },
    "language_info": {
      "codemirror_mode": {
        "name": "ipython",
        "version": 3
      },
      "file_extension": ".py",
      "mimetype": "text/x-python",
      "name": "python",
      "nbconvert_exporter": "python",
      "pygments_lexer": "ipython3",
      "version": "3.6.6"
    },
    "colab": {
      "provenance": [],
      "collapsed_sections": [],
      "include_colab_link": true
    }
  },
  "cells": [
    {
      "cell_type": "markdown",
      "metadata": {
        "id": "view-in-github",
        "colab_type": "text"
      },
      "source": [
        "<a href=\"https://colab.research.google.com/github/mateosuster/nlpPapers/blob/main/05_LDA_TopicModels_GENSIM_Coherence_Analisis_data_Sample.ipynb\" target=\"_parent\"><img src=\"https://colab.research.google.com/assets/colab-badge.svg\" alt=\"Open In Colab\"/></a>"
      ]
    },
    {
      "cell_type": "markdown",
      "source": [
        "# Dependencias"
      ],
      "metadata": {
        "id": "IlCxk75pDePP"
      }
    },
    {
      "cell_type": "code",
      "metadata": {
        "id": "ohKmaOtj21AU"
      },
      "source": [
        "%%capture\n",
        "!pip install pyLDAvis==2.1.2\n"
      ],
      "execution_count": null,
      "outputs": []
    },
    {
      "cell_type": "code",
      "metadata": {
        "id": "eMOaCBjl21AY",
        "colab": {
          "base_uri": "https://localhost:8080/"
        },
        "outputId": "954c3af7-6522-4f70-a510-e4c62903ee65"
      },
      "source": [
        "import pandas as pd\n",
        "import numpy as np\n",
        "import matplotlib.pyplot  as plt\n",
        "from collections import Counter\n",
        "import numpy as np\n",
        "from nltk import word_tokenize, sent_tokenize\n",
        "import nltk\n",
        "nltk.download('punkt')\n",
        "nltk.download('stopwords')\n",
        "from nltk.corpus import stopwords\n",
        "\n",
        "import gensim\n",
        "from gensim.models import CoherenceModel, LdaModel, LsiModel, HdpModel\n",
        "from gensim.models.wrappers import LdaMallet\n",
        "from gensim.corpora import Dictionary\n",
        "from gensim import corpora\n",
        "\n",
        "import pyLDAvis.gensim\n",
        "pyLDAvis.enable_notebook()\n",
        "\n",
        "import os, re, operator, warnings\n",
        "warnings.filterwarnings('ignore')  \n",
        "%matplotlib inline"
      ],
      "execution_count": null,
      "outputs": [
        {
          "output_type": "stream",
          "name": "stderr",
          "text": [
            "[nltk_data] Downloading package punkt to /root/nltk_data...\n",
            "[nltk_data]   Unzipping tokenizers/punkt.zip.\n",
            "[nltk_data] Downloading package stopwords to /root/nltk_data...\n",
            "[nltk_data]   Unzipping corpora/stopwords.zip.\n",
            "/usr/local/lib/python3.7/dist-packages/past/types/oldstr.py:5: DeprecationWarning: Using or importing the ABCs from 'collections' instead of from 'collections.abc' is deprecated since Python 3.3,and in 3.9 it will stop working\n",
            "  from collections import Iterable\n"
          ]
        }
      ]
    },
    {
      "cell_type": "markdown",
      "source": [
        "# Data"
      ],
      "metadata": {
        "id": "n358byU_Dhh8"
      }
    },
    {
      "cell_type": "code",
      "source": [
        "Tipo_Datos = \"sampleados\"  ##### ELIJA: \"totales\" O \"sampleados\".\n",
        "\n",
        "from pandas.core.describe import describe_categorical_1d\n",
        "data_Total = pd.read_csv(\"https://raw.githubusercontent.com/mateosuster/nlpPapers/main/code/data/ACL_data.csv\")\n",
        "data_Sampleada = pd.read_csv(\"https://raw.githubusercontent.com/mateosuster/nlpPapers/main/code/data/data_clean.csv\")\n",
        "\n",
        "if Tipo_Datos == \"sampleados\":\n",
        "  data = data_Sampleada\n",
        "elif Tipo_Datos == \"totales\":\n",
        "  data = data_Total\n",
        "data\n",
        "\n"
      ],
      "metadata": {
        "colab": {
          "base_uri": "https://localhost:8080/",
          "height": 424
        },
        "id": "StS-k1EIDTwC",
        "outputId": "0aa49dbd-9eaf-458c-f40a-dd06bd76b94b"
      },
      "execution_count": null,
      "outputs": [
        {
          "output_type": "execute_result",
          "data": {
            "text/plain": [
              "                                                    text\n",
              "0      used think output translation machine would st...\n",
              "1      program determination divided routines analysi...\n",
              "2      statistical study made extent russian nouns en...\n",
              "3      paper concerned use electrical networks automa...\n",
              "4      les recherches depuis quelques en vue de la tr...\n",
              "...                                                  ...\n",
              "18663  patronizing condescending language pcl large h...\n",
              "18664  language models plms shown great potentials na...\n",
              "18665  named entity recognition ner aims borrow entit...\n",
              "18666  product listing ads plas primary online advert...\n",
              "18667  thanks strong representation power neural enco...\n",
              "\n",
              "[18668 rows x 1 columns]"
            ],
            "text/html": [
              "\n",
              "  <div id=\"df-61ce714a-bbcf-4490-9301-b9e29e2306ab\">\n",
              "    <div class=\"colab-df-container\">\n",
              "      <div>\n",
              "<style scoped>\n",
              "    .dataframe tbody tr th:only-of-type {\n",
              "        vertical-align: middle;\n",
              "    }\n",
              "\n",
              "    .dataframe tbody tr th {\n",
              "        vertical-align: top;\n",
              "    }\n",
              "\n",
              "    .dataframe thead th {\n",
              "        text-align: right;\n",
              "    }\n",
              "</style>\n",
              "<table border=\"1\" class=\"dataframe\">\n",
              "  <thead>\n",
              "    <tr style=\"text-align: right;\">\n",
              "      <th></th>\n",
              "      <th>text</th>\n",
              "    </tr>\n",
              "  </thead>\n",
              "  <tbody>\n",
              "    <tr>\n",
              "      <th>0</th>\n",
              "      <td>used think output translation machine would st...</td>\n",
              "    </tr>\n",
              "    <tr>\n",
              "      <th>1</th>\n",
              "      <td>program determination divided routines analysi...</td>\n",
              "    </tr>\n",
              "    <tr>\n",
              "      <th>2</th>\n",
              "      <td>statistical study made extent russian nouns en...</td>\n",
              "    </tr>\n",
              "    <tr>\n",
              "      <th>3</th>\n",
              "      <td>paper concerned use electrical networks automa...</td>\n",
              "    </tr>\n",
              "    <tr>\n",
              "      <th>4</th>\n",
              "      <td>les recherches depuis quelques en vue de la tr...</td>\n",
              "    </tr>\n",
              "    <tr>\n",
              "      <th>...</th>\n",
              "      <td>...</td>\n",
              "    </tr>\n",
              "    <tr>\n",
              "      <th>18663</th>\n",
              "      <td>patronizing condescending language pcl large h...</td>\n",
              "    </tr>\n",
              "    <tr>\n",
              "      <th>18664</th>\n",
              "      <td>language models plms shown great potentials na...</td>\n",
              "    </tr>\n",
              "    <tr>\n",
              "      <th>18665</th>\n",
              "      <td>named entity recognition ner aims borrow entit...</td>\n",
              "    </tr>\n",
              "    <tr>\n",
              "      <th>18666</th>\n",
              "      <td>product listing ads plas primary online advert...</td>\n",
              "    </tr>\n",
              "    <tr>\n",
              "      <th>18667</th>\n",
              "      <td>thanks strong representation power neural enco...</td>\n",
              "    </tr>\n",
              "  </tbody>\n",
              "</table>\n",
              "<p>18668 rows × 1 columns</p>\n",
              "</div>\n",
              "      <button class=\"colab-df-convert\" onclick=\"convertToInteractive('df-61ce714a-bbcf-4490-9301-b9e29e2306ab')\"\n",
              "              title=\"Convert this dataframe to an interactive table.\"\n",
              "              style=\"display:none;\">\n",
              "        \n",
              "  <svg xmlns=\"http://www.w3.org/2000/svg\" height=\"24px\"viewBox=\"0 0 24 24\"\n",
              "       width=\"24px\">\n",
              "    <path d=\"M0 0h24v24H0V0z\" fill=\"none\"/>\n",
              "    <path d=\"M18.56 5.44l.94 2.06.94-2.06 2.06-.94-2.06-.94-.94-2.06-.94 2.06-2.06.94zm-11 1L8.5 8.5l.94-2.06 2.06-.94-2.06-.94L8.5 2.5l-.94 2.06-2.06.94zm10 10l.94 2.06.94-2.06 2.06-.94-2.06-.94-.94-2.06-.94 2.06-2.06.94z\"/><path d=\"M17.41 7.96l-1.37-1.37c-.4-.4-.92-.59-1.43-.59-.52 0-1.04.2-1.43.59L10.3 9.45l-7.72 7.72c-.78.78-.78 2.05 0 2.83L4 21.41c.39.39.9.59 1.41.59.51 0 1.02-.2 1.41-.59l7.78-7.78 2.81-2.81c.8-.78.8-2.07 0-2.86zM5.41 20L4 18.59l7.72-7.72 1.47 1.35L5.41 20z\"/>\n",
              "  </svg>\n",
              "      </button>\n",
              "      \n",
              "  <style>\n",
              "    .colab-df-container {\n",
              "      display:flex;\n",
              "      flex-wrap:wrap;\n",
              "      gap: 12px;\n",
              "    }\n",
              "\n",
              "    .colab-df-convert {\n",
              "      background-color: #E8F0FE;\n",
              "      border: none;\n",
              "      border-radius: 50%;\n",
              "      cursor: pointer;\n",
              "      display: none;\n",
              "      fill: #1967D2;\n",
              "      height: 32px;\n",
              "      padding: 0 0 0 0;\n",
              "      width: 32px;\n",
              "    }\n",
              "\n",
              "    .colab-df-convert:hover {\n",
              "      background-color: #E2EBFA;\n",
              "      box-shadow: 0px 1px 2px rgba(60, 64, 67, 0.3), 0px 1px 3px 1px rgba(60, 64, 67, 0.15);\n",
              "      fill: #174EA6;\n",
              "    }\n",
              "\n",
              "    [theme=dark] .colab-df-convert {\n",
              "      background-color: #3B4455;\n",
              "      fill: #D2E3FC;\n",
              "    }\n",
              "\n",
              "    [theme=dark] .colab-df-convert:hover {\n",
              "      background-color: #434B5C;\n",
              "      box-shadow: 0px 1px 3px 1px rgba(0, 0, 0, 0.15);\n",
              "      filter: drop-shadow(0px 1px 2px rgba(0, 0, 0, 0.3));\n",
              "      fill: #FFFFFF;\n",
              "    }\n",
              "  </style>\n",
              "\n",
              "      <script>\n",
              "        const buttonEl =\n",
              "          document.querySelector('#df-61ce714a-bbcf-4490-9301-b9e29e2306ab button.colab-df-convert');\n",
              "        buttonEl.style.display =\n",
              "          google.colab.kernel.accessAllowed ? 'block' : 'none';\n",
              "\n",
              "        async function convertToInteractive(key) {\n",
              "          const element = document.querySelector('#df-61ce714a-bbcf-4490-9301-b9e29e2306ab');\n",
              "          const dataTable =\n",
              "            await google.colab.kernel.invokeFunction('convertToInteractive',\n",
              "                                                     [key], {});\n",
              "          if (!dataTable) return;\n",
              "\n",
              "          const docLinkHtml = 'Like what you see? Visit the ' +\n",
              "            '<a target=\"_blank\" href=https://colab.research.google.com/notebooks/data_table.ipynb>data table notebook</a>'\n",
              "            + ' to learn more about interactive tables.';\n",
              "          element.innerHTML = '';\n",
              "          dataTable['output_type'] = 'display_data';\n",
              "          await google.colab.output.renderOutput(dataTable, element);\n",
              "          const docLink = document.createElement('div');\n",
              "          docLink.innerHTML = docLinkHtml;\n",
              "          element.appendChild(docLink);\n",
              "        }\n",
              "      </script>\n",
              "    </div>\n",
              "  </div>\n",
              "  "
            ]
          },
          "metadata": {},
          "execution_count": 5
        }
      ]
    },
    {
      "cell_type": "code",
      "metadata": {
        "id": "dXS0khKmQe5T",
        "colab": {
          "base_uri": "https://localhost:8080/",
          "height": 140
        },
        "outputId": "26fc6746-efbd-4758-f79d-2fb942a61bef"
      },
      "source": [
        "if Tipo_Datos == \"sampleados\":\n",
        "  dataset = data.text.tolist()\n",
        "elif Tipo_Datos == \"totales\":\n",
        "  dataset = data.ABSTRACT\n",
        "  dataset = dataset.tolist()\n",
        "dataset[0]"
      ],
      "execution_count": null,
      "outputs": [
        {
          "output_type": "execute_result",
          "data": {
            "text/plain": [
              "'used think output translation machine would stylistically inelegant would tolerable message got across find getting message across accurately difficult may able stylistic elegance output since much style reflects depth phenomena thus systematic example order clauses many twoclause sentences reversed without change meaning normally true sentences two clauses meaning usually changes clause order changed equivalently appear severe restrictions clause order given meaning restrictions appear follow depth considerations idea investigated normal clause order deviations order must signalled special syntactic semantic devices nature devices explored translating sentences may trouble due fact clause types two languages exactly parallel therefore list allowed preferred clause orders two languages equivalent special syntactic semantic devices available signal deviations normal order different thus one would predict sentences language often split two sentences translated language time sentences language often broken two sentences translating language'"
            ],
            "application/vnd.google.colaboratory.intrinsic+json": {
              "type": "string"
            }
          },
          "metadata": {},
          "execution_count": 8
        }
      ]
    },
    {
      "cell_type": "code",
      "source": [
        "type(dataset)\n"
      ],
      "metadata": {
        "colab": {
          "base_uri": "https://localhost:8080/"
        },
        "id": "qYCZQmyR_MVL",
        "outputId": "7b343545-4dd2-44f6-ff52-1c45fea13b47"
      },
      "execution_count": null,
      "outputs": [
        {
          "output_type": "execute_result",
          "data": {
            "text/plain": [
              "list"
            ]
          },
          "metadata": {},
          "execution_count": 10
        }
      ]
    },
    {
      "cell_type": "markdown",
      "source": [
        "# Preproc"
      ],
      "metadata": {
        "id": "SY3beaVvDkXD"
      }
    },
    {
      "cell_type": "markdown",
      "source": [
        "## Limpieza"
      ],
      "metadata": {
        "id": "kljKN4KUDnI4"
      }
    },
    {
      "cell_type": "code",
      "source": [
        "STOP_WORDS = stopwords.words(\"english\")\n",
        "\n",
        "def tokenize(x):\n",
        "    return [word for word in word_tokenize(x) if word not in STOP_WORDS and word.isalpha() and len(word)>1]\n",
        "\n",
        "if Tipo_Datos == \"sampleados\":\n",
        "  texts = [word_tokenize(str(doc)) for doc in dataset]\n",
        "elif Tipo_Datos == \"totales\":\n",
        "  texts= [tokenize(str(doc).lower()) for doc in dataset]"
      ],
      "metadata": {
        "id": "2eEls9f2QLkN"
      },
      "execution_count": null,
      "outputs": []
    },
    {
      "cell_type": "code",
      "source": [
        "print(texts[100])"
      ],
      "metadata": {
        "colab": {
          "base_uri": "https://localhost:8080/"
        },
        "id": "wUKvuUdw0jRq",
        "outputId": "28fe04f5-30ae-46a8-bae2-552411e463a4"
      },
      "execution_count": null,
      "outputs": [
        {
          "output_type": "stream",
          "name": "stdout",
          "text": [
            "['nan']\n"
          ]
        }
      ]
    },
    {
      "cell_type": "markdown",
      "source": [
        "## Ajustes para LDA"
      ],
      "metadata": {
        "id": "fQCaFocqDpBy"
      }
    },
    {
      "cell_type": "code",
      "metadata": {
        "id": "u25ufjLL21Al",
        "colab": {
          "base_uri": "https://localhost:8080/"
        },
        "outputId": "5a17ed79-ab4c-4782-be62-a00f26e484d3"
      },
      "source": [
        "### dictionary:\n",
        "dictionary = corpora.Dictionary(texts)  #crea diccionario asinandole un indice numerico a cada palabra\n",
        "print(len(dictionary))\n",
        "\n",
        "dictionary.filter_extremes(no_below=10, no_above=0.5)  #filtra tokens q aparencen en menos de 10 documentos y en mas de la mitad de los documentos.\n",
        "print(len(dictionary))\n",
        "\n",
        "#Documentacion de filter_extremes: https://tedboy.github.io/nlps/generated/generated/gensim.corpora.Dictionary.filter_extremes.html"
      ],
      "execution_count": null,
      "outputs": [
        {
          "output_type": "stream",
          "name": "stdout",
          "text": [
            "37082\n",
            "7917\n"
          ]
        }
      ]
    },
    {
      "cell_type": "code",
      "metadata": {
        "id": "qcG0Toxp21Ao",
        "colab": {
          "base_uri": "https://localhost:8080/"
        },
        "outputId": "d211366b-4389-4f99-f534-06997dd1c86a"
      },
      "source": [
        "### doc2bow:\n",
        "corpus = [dictionary.doc2bow(text) for text in texts] #el bow cuenta cantidad de apariciones de cada palabra del diccionario\n",
        "len(corpus) "
      ],
      "execution_count": null,
      "outputs": [
        {
          "output_type": "execute_result",
          "data": {
            "text/plain": [
              "18668"
            ]
          },
          "metadata": {},
          "execution_count": 15
        }
      ]
    },
    {
      "cell_type": "code",
      "source": [
        "#### SETEO DE SEMILLA:\n",
        "semilla = 420\n",
        "# before training/inference:\n",
        "np.random.seed(semilla)"
      ],
      "metadata": {
        "id": "SapjkE26IE3t"
      },
      "execution_count": null,
      "outputs": []
    },
    {
      "cell_type": "code",
      "source": [
        "### TF-IDF:\n",
        "from gensim import corpora, models\n",
        "\n",
        "#tfidf = models.TfidfModel(bow_corpus)\n",
        "tfidf = models.TfidfModel(corpus)\n",
        "\n",
        "#corpus_tfidf = tfidf[bow_corpus]\n",
        "corpus_tfidf = tfidf[corpus]\n",
        "\n",
        "#from pprint import pprint\n",
        "#for text in corpus_tfidf:\n",
        " #   pprint(text)\n",
        "  #  break\n",
        "len(corpus_tfidf)"
      ],
      "metadata": {
        "id": "0kxMnG59uLG_",
        "outputId": "a8ef7186-1ddb-4a6f-fc17-8076d90db0ad",
        "colab": {
          "base_uri": "https://localhost:8080/"
        }
      },
      "execution_count": null,
      "outputs": [
        {
          "output_type": "execute_result",
          "data": {
            "text/plain": [
              "18668"
            ]
          },
          "metadata": {},
          "execution_count": 17
        }
      ]
    },
    {
      "cell_type": "markdown",
      "source": [
        "## LDA con BOW, LDA con TF-IDF y LSI (diag. matrices)."
      ],
      "metadata": {
        "id": "7cFr9cAzDrl2"
      }
    },
    {
      "cell_type": "code",
      "source": [
        "#### PRUEBA INICIAL CON 10 TOPICOS (MAS ADELANTE BUSCAREMOS CANT. OPTIMA DE TOPICOS):\n",
        "n_topics = 10"
      ],
      "metadata": {
        "id": "vdBuakNSC1kj"
      },
      "execution_count": null,
      "outputs": []
    },
    {
      "cell_type": "code",
      "metadata": {
        "id": "Ro3bENF821Ar"
      },
      "source": [
        "### LSI: trabaja diagonalizando matrices y disminuyendo dimensionalidad, similar a un ACP:\n",
        "np.random.seed(semilla)\n",
        "lsamodel = LsiModel(corpus=corpus, num_topics=n_topics, id2word=dictionary)"
      ],
      "execution_count": null,
      "outputs": []
    },
    {
      "cell_type": "code",
      "metadata": {
        "id": "NBp4urdZ21Au",
        "colab": {
          "base_uri": "https://localhost:8080/"
        },
        "outputId": "7e3d4f8d-1301-4f3c-93d4-b3968e341c90"
      },
      "source": [
        "lsamodel.print_topics(n_topics,8)\n"
      ],
      "execution_count": null,
      "outputs": [
        {
          "output_type": "execute_result",
          "data": {
            "text/plain": [
              "[(0,\n",
              "  '-0.679*\"de\" + -0.280*\"la\" + -0.277*\"des\" + -0.233*\"les\" + -0.211*\"et\" + -0.174*\"le\" + -0.174*\"un\" + -0.165*\"une\"'),\n",
              " (1,\n",
              "  '0.298*\"language\" + 0.263*\"model\" + 0.227*\"data\" + 0.220*\"models\" + 0.173*\"paper\" + 0.168*\"translation\" + 0.165*\"task\" + 0.138*\"results\"'),\n",
              " (2,\n",
              "  '-0.544*\"translation\" + 0.398*\"model\" + 0.301*\"models\" + -0.236*\"system\" + -0.200*\"machine\" + -0.186*\"corpus\" + -0.165*\"language\" + -0.131*\"mt\"'),\n",
              " (3,\n",
              "  '-0.561*\"translation\" + 0.363*\"corpus\" + -0.323*\"model\" + 0.250*\"language\" + -0.206*\"machine\" + 0.185*\"annotation\" + 0.156*\"data\" + -0.137*\"models\"'),\n",
              " (4,\n",
              "  '-0.772*\"language\" + -0.251*\"models\" + 0.189*\"corpus\" + 0.167*\"system\" + -0.149*\"languages\" + 0.144*\"task\" + 0.130*\"information\" + 0.118*\"paper\"'),\n",
              " (5,\n",
              "  '0.796*\"data\" + -0.315*\"word\" + 0.210*\"training\" + -0.159*\"words\" + -0.155*\"language\" + -0.146*\"information\" + -0.132*\"semantic\" + 0.107*\"models\"'),\n",
              " (6,\n",
              "  '-0.542*\"word\" + 0.386*\"system\" + 0.332*\"task\" + -0.244*\"data\" + -0.205*\"words\" + -0.165*\"embeddings\" + 0.161*\"systems\" + -0.155*\"corpus\"'),\n",
              " (7,\n",
              "  '0.607*\"model\" + 0.478*\"corpus\" + -0.294*\"word\" + -0.233*\"task\" + 0.150*\"annotation\" + -0.144*\"system\" + -0.143*\"embeddings\" + -0.119*\"models\"'),\n",
              " (8,\n",
              "  '-0.615*\"models\" + 0.416*\"model\" + 0.247*\"system\" + 0.247*\"data\" + -0.228*\"corpus\" + 0.187*\"word\" + 0.172*\"language\" + 0.162*\"task\"'),\n",
              " (9,\n",
              "  '-0.354*\"corpus\" + -0.350*\"models\" + 0.327*\"information\" + -0.301*\"task\" + 0.251*\"knowledge\" + -0.248*\"system\" + -0.229*\"word\" + -0.191*\"speech\"')]"
            ]
          },
          "metadata": {},
          "execution_count": 24
        }
      ]
    },
    {
      "cell_type": "code",
      "metadata": {
        "id": "m_njO3Ak21A2"
      },
      "source": [
        "# LDA realizado con el doc2bow (bolsa de palabras comun)  (NO con TF-IDF):\n",
        "ldamodel = LdaModel(corpus=corpus, num_topics=n_topics, id2word=dictionary, iterations = 200, passes=10, random_state=semilla)\n"
      ],
      "execution_count": null,
      "outputs": []
    },
    {
      "cell_type": "code",
      "metadata": {
        "id": "KGbtvXC-W1_l",
        "colab": {
          "base_uri": "https://localhost:8080/"
        },
        "outputId": "482ed538-c4b9-4575-867c-092395c5b08d"
      },
      "source": [
        "ldamodel.print_topics(10, 8)"
      ],
      "execution_count": null,
      "outputs": [
        {
          "output_type": "execute_result",
          "data": {
            "text/plain": [
              "[(0,\n",
              "  '0.129*\"et\" + 0.089*\"augmentation\" + 0.045*\"al\" + 0.035*\"extractive\" + 0.022*\"gradient\" + 0.021*\"st\" + 0.019*\"patients\" + 0.017*\"perturbations\"'),\n",
              " (1,\n",
              "  '0.019*\"language\" + 0.011*\"data\" + 0.011*\"research\" + 0.010*\"annotation\" + 0.009*\"paper\" + 0.009*\"nlp\" + 0.008*\"information\" + 0.007*\"text\"'),\n",
              " (2,\n",
              "  '0.023*\"semantic\" + 0.014*\"neural\" + 0.013*\"parsing\" + 0.011*\"structure\" + 0.011*\"syntactic\" + 0.010*\"dependency\" + 0.009*\"graph\" + 0.008*\"discourse\"'),\n",
              " (3,\n",
              "  '0.037*\"model\" + 0.029*\"models\" + 0.016*\"task\" + 0.016*\"tasks\" + 0.016*\"learning\" + 0.014*\"performance\" + 0.012*\"propose\" + 0.011*\"datasets\"'),\n",
              " (4,\n",
              "  '0.074*\"de\" + 0.031*\"des\" + 0.030*\"la\" + 0.027*\"les\" + 0.022*\"et\" + 0.019*\"le\" + 0.018*\"un\" + 0.018*\"une\"'),\n",
              " (5,\n",
              "  '0.022*\"text\" + 0.016*\"social\" + 0.014*\"evaluation\" + 0.014*\"human\" + 0.013*\"news\" + 0.013*\"generation\" + 0.012*\"dataset\" + 0.012*\"summarization\"'),\n",
              " (6,\n",
              "  '0.032*\"languages\" + 0.019*\"word\" + 0.017*\"language\" + 0.013*\"words\" + 0.012*\"english\" + 0.012*\"corpus\" + 0.012*\"multilingual\" + 0.009*\"paper\"'),\n",
              " (7,\n",
              "  '0.019*\"translation\" + 0.017*\"data\" + 0.016*\"models\" + 0.013*\"language\" + 0.011*\"training\" + 0.011*\"machine\" + 0.010*\"neural\" + 0.009*\"systems\"'),\n",
              " (8,\n",
              "  '0.026*\"task\" + 0.019*\"system\" + 0.018*\"speech\" + 0.015*\"paper\" + 0.011*\"shared\" + 0.011*\"data\" + 0.010*\"corpus\" + 0.009*\"systems\"'),\n",
              " (9,\n",
              "  '0.034*\"knowledge\" + 0.027*\"dialogue\" + 0.026*\"entity\" + 0.018*\"information\" + 0.017*\"entities\" + 0.016*\"extraction\" + 0.013*\"relation\" + 0.013*\"event\"')]"
            ]
          },
          "metadata": {},
          "execution_count": 26
        }
      ]
    },
    {
      "cell_type": "code",
      "source": [
        "#### LDA MODEL USANDO TF-IDF COMO INPUT (EN VEZ DE UNA BOLSA DE PALABRAS bow2word):\n",
        "\n",
        "# Running LDA using TF-IDF (from Susan Li: https://towardsdatascience.com/topic-modeling-and-latent-dirichlet-allocation-in-python-9bf156893c24):\n",
        "\n",
        "lda_model_tfidf = gensim.models.LdaMulticore(corpus_tfidf, num_topics=n_topics, id2word=dictionary, passes=10, workers=4, random_state=semilla)\n",
        "\n",
        "\n",
        "## NOTA: USE EL LdaMulticore DE SUSAN LI, PORQUE NO FUNCIONA DE CON EL LdaModel DE LOS PROFES, DA UNA COHERENCIA NEGATIVA!!!!\n",
        "#ESTE ERA EL DE LOS PROFES:\n",
        "#lda_model_tfidf = LdaModel(corpus=corpus_tfidf, num_topics=10, id2word=dictionary, iterations = 200, passes=10\n",
        "                    # , random_seed = semilla\n",
        "#                    )\n",
        "\n"
      ],
      "metadata": {
        "id": "ya82SNPftjKy"
      },
      "execution_count": null,
      "outputs": []
    },
    {
      "cell_type": "code",
      "metadata": {
        "colab": {
          "base_uri": "https://localhost:8080/"
        },
        "outputId": "dac05019-9131-4231-e0b1-8511c09cff20",
        "id": "jLmCaj_ezSGR"
      },
      "source": [
        "#### PRUEBA DE COMO CLASIFICARIA UN NUEVO TEXTO, USANDO EL MODELO LDA BOW ENTRENADO:\n",
        "#LOS RESULTADOS: PARA ESE NUEVO TEXTO: PROBABILIDAD DE CADA TOPICO Y TOP WORDS DEL TOPICO MAS PROBABLE.\n",
        "new_text = dataset[0]\n",
        "\n",
        "# transform held_out_text into the bag-of-words space\n",
        "bow_vector = dictionary.doc2bow(tokenize(new_text.lower()))\n",
        "lda_vector = ldamodel[bow_vector]\n",
        "print(lda_vector)\n",
        "# print the document's single most prominent LDA topic\n",
        "print(ldamodel.print_topic(max(lda_vector, key=lambda item: item[1])[0]))"
      ],
      "execution_count": null,
      "outputs": [
        {
          "output_type": "stream",
          "name": "stdout",
          "text": [
            "[(2, 0.4099776), (3, 0.097811714), (6, 0.23451647), (7, 0.11616038), (8, 0.13759571)]\n",
            "0.023*\"semantic\" + 0.014*\"neural\" + 0.013*\"parsing\" + 0.011*\"structure\" + 0.011*\"syntactic\" + 0.010*\"dependency\" + 0.009*\"graph\" + 0.008*\"discourse\" + 0.008*\"linguistic\" + 0.008*\"representation\"\n"
          ]
        }
      ]
    },
    {
      "cell_type": "code",
      "source": [
        "#### COMPARACION DE TOPICOS ENCONTRADOS EN CADA MODELO:"
      ],
      "metadata": {
        "id": "SOSY9pFkNd1h"
      },
      "execution_count": null,
      "outputs": []
    },
    {
      "cell_type": "markdown",
      "source": [
        "### Comparacion de Topicos encontrados en cada Modelo (LDA Sklern, LDA BOW, LDA IF-IDF y LSI):"
      ],
      "metadata": {
        "id": "S1wNWXAKNivB"
      }
    },
    {
      "cell_type": "markdown",
      "source": [
        "#### Topicos hallados con LDA de Sklearn (ver otra notebook):\n",
        "\n",
        "\n",
        "1 embedings\n",
        "6 sequence \n",
        "2 sequence\n",
        "3 herramientas - implementacion\n",
        "7 palabras en otro idioma? articulos? parte de nombres?\n",
        "9 emotions analysis (hater etc)\n",
        "5 computation and social sceince,\n"
      ],
      "metadata": {
        "id": "F5s2gpon-GMM"
      }
    },
    {
      "cell_type": "code",
      "metadata": {
        "id": "4gpsFpeM21BH"
      },
      "source": [
        "lsatopics  = [[word for word, prob in topic] for topicid, topic in lsamodel.show_topics(n_topics,formatted=False)]\n",
        "ldatopics = [[word for word, prob in topic] for topicid, topic in ldamodel.show_topics(n_topics,formatted=False)]"
      ],
      "execution_count": null,
      "outputs": []
    },
    {
      "cell_type": "code",
      "source": [
        "ldatopics[0]"
      ],
      "metadata": {
        "colab": {
          "base_uri": "https://localhost:8080/"
        },
        "id": "6PzNfDlj6FcU",
        "outputId": "2a170eca-b3de-4507-9424-527767c8e8f5"
      },
      "execution_count": null,
      "outputs": [
        {
          "output_type": "execute_result",
          "data": {
            "text/plain": [
              "['et',\n",
              " 'augmentation',\n",
              " 'al',\n",
              " 'extractive',\n",
              " 'gradient',\n",
              " 'st',\n",
              " 'patients',\n",
              " 'perturbations',\n",
              " 'perturbation',\n",
              " 'substitution']"
            ]
          },
          "metadata": {},
          "execution_count": 30
        }
      ]
    },
    {
      "cell_type": "code",
      "source": [
        "lda_tf_idf_topics = [[word for word, prob in topic] for topicid, topic in lda_model_tfidf.show_topics(n_topics,formatted=False)]"
      ],
      "metadata": {
        "id": "daJGTzlM0yAB"
      },
      "execution_count": null,
      "outputs": []
    },
    {
      "cell_type": "code",
      "source": [
        "lda_tf_idf_topics[0]"
      ],
      "metadata": {
        "id": "okSbkWqP011m",
        "outputId": "3090e8ac-3778-4051-80af-5f5dc8b792b0",
        "colab": {
          "base_uri": "https://localhost:8080/"
        }
      },
      "execution_count": null,
      "outputs": [
        {
          "output_type": "execute_result",
          "data": {
            "text/plain": [
              "['disentanglement',\n",
              " 'ape',\n",
              " 'forgetting',\n",
              " 'indic',\n",
              " 'formality',\n",
              " 'catastrophic',\n",
              " 'cca',\n",
              " 'triage',\n",
              " 'replay',\n",
              " 'universality']"
            ]
          },
          "metadata": {},
          "execution_count": 32
        }
      ]
    },
    {
      "cell_type": "markdown",
      "source": [
        "### **Comparación de los resultados de cada Modelo, según la coherencia media de los tópicos hallados:**\n",
        "\n",
        "\n"
      ],
      "metadata": {
        "id": "rJv5-XIlPHI7"
      }
    },
    {
      "cell_type": "code",
      "metadata": {
        "id": "Ni9GdVOZ21BK"
      },
      "source": [
        "#window_size=30,coherence='c_npmi',topn=5 #ORIGINAL PROFES\n",
        "#AJUSTE LA WINDOW Y EL TOP WORDS DE ACUERDO A DOCUMENTACION HALLADA Y AL CASO DE ESTUDIO:\n",
        "lsa_coherence = CoherenceModel(topics=lsatopics, texts=texts, dictionary=dictionary, window_size=10,coherence='c_npmi',topn=20).get_coherence_per_topic()\n",
        "lda_coherence = CoherenceModel(topics=ldatopics, texts=texts, dictionary=dictionary, window_size=10,coherence='c_npmi',topn=20).get_coherence_per_topic()"
      ],
      "execution_count": null,
      "outputs": []
    },
    {
      "cell_type": "code",
      "source": [
        "lda_tf_idf_coherence = CoherenceModel(topics=lda_tf_idf_topics, texts=texts, dictionary=dictionary, window_size=10,coherence='c_npmi',topn=20).get_coherence_per_topic()"
      ],
      "metadata": {
        "id": "ccdzzLuZ1BvV"
      },
      "execution_count": null,
      "outputs": []
    },
    {
      "cell_type": "code",
      "metadata": {
        "id": "mzWg3JKK21BM",
        "colab": {
          "base_uri": "https://localhost:8080/",
          "height": 303
        },
        "outputId": "d299dfac-5e80-4ad4-bb12-fd423c034043"
      },
      "source": [
        "#### COMPARACION DE LAS COHERENCIAS MEDIAS HALLADAS EN LOS DISTINTOS MODELOS:\n",
        "df_lda = pd.DataFrame([range(10),lda_coherence,ldatopics],index=['topic_id','coherence','topic']).transpose()\n",
        "df_lsa = pd.DataFrame([range(10),lsa_coherence,lsatopics],index=['topic_id','coherence','topic']).transpose()\n",
        "df_tf_idf = pd.DataFrame([range(10),lda_tf_idf_coherence,lda_tf_idf_topics],index=['topic_id','coherence','topic']).transpose()\n",
        "\n",
        "pd.Series({'LSA':np.mean(lsa_coherence),'LDA':np.mean(lda_coherence),'TF-IDF':np.mean(lda_tf_idf_coherence)}).plot.bar(title=\"Coherence - n Topics: 10\", color=[\"green\",\"blue\",\"red\"]);"
      ],
      "execution_count": null,
      "outputs": [
        {
          "output_type": "display_data",
          "data": {
            "text/plain": [
              "<Figure size 432x288 with 1 Axes>"
            ],
            "image/png": "[encoded data removed]"
          },
          "metadata": {
            "needs_background": "light"
          }
        }
      ]
    },
    {
      "cell_type": "markdown",
      "source": [
        "### **Visualización de los (10) Tópicos hallados en cada Modelo:**"
      ],
      "metadata": {
        "id": "fiTVhFMdP-4R"
      }
    },
    {
      "cell_type": "code",
      "metadata": {
        "colab": {
          "base_uri": "https://localhost:8080/",
          "height": 861
        },
        "outputId": "35c9aa9a-8178-4ce8-a857-acbdc19beda3",
        "id": "QoPvpG6duoeQ"
      },
      "source": [
        "### LDA TOPICS:\n",
        "# GRAFICO LDA doc2bow:\n",
        "pyLDAvis.gensim.prepare(ldamodel, corpus, dictionary)"
      ],
      "execution_count": null,
      "outputs": [
        {
          "output_type": "execute_result",
          "data": {
            "text/plain": [
              "PreparedData(topic_coordinates=              x         y  topics  cluster       Freq\n",
              "topic                                                \n",
              "7     -0.136941  0.020439       1        1  17.013075\n",
              "3     -0.136669 -0.000507       2        1  15.887410\n",
              "1     -0.085439 -0.012185       3        1  14.738202\n",
              "6     -0.104678 -0.003785       4        1  13.590373\n",
              "8     -0.081522 -0.008903       5        1  10.074372\n",
              "4      0.399610 -0.287564       6        1   9.374416\n",
              "2     -0.086884  0.016079       7        1   7.830049\n",
              "5     -0.086676 -0.007628       8        1   5.620368\n",
              "9     -0.059154 -0.019983       9        1   5.252229\n",
              "0      0.378355  0.304036      10        1   0.619506, topic_info=           Term          Freq         Total Category  logprob  loglift\n",
              "280          de   9696.000000   9696.000000  Default  30.0000  30.0000\n",
              "287          et   4044.000000   4044.000000  Default  29.0000  29.0000\n",
              "32    languages   6467.000000   6467.000000  Default  28.0000  28.0000\n",
              "355       model  11235.000000  11235.000000  Default  27.0000  27.0000\n",
              "1297     models  10904.000000  10904.000000  Default  26.0000  26.0000\n",
              "...         ...           ...           ...      ...      ...      ...\n",
              "5058     traits     79.195913    107.643318  Topic10  -4.6957   4.7771\n",
              "3463         si    103.137554    214.670445  Topic10  -4.4315   4.3510\n",
              "4774   sessions     61.512412     85.603967  Topic10  -4.9484   4.7535\n",
              "1478  cognitive     78.878495    327.041908  Topic10  -4.6997   3.6618\n",
              "4181         ne     57.380594    393.447592  Topic10  -5.0179   3.1588\n",
              "\n",
              "[637 rows x 6 columns], token_table=      Topic      Freq         Term\n",
              "term                              \n",
              "6434      5  0.994763     ablation\n",
              "7648      8  0.995597  abstractive\n",
              "7513      5  0.996448      abusive\n",
              "5119      3  0.993986     academic\n",
              "2327      5  0.995540     acoustic\n",
              "...     ...       ...          ...\n",
              "549       9  0.054073         work\n",
              "3009      3  0.993975     workflow\n",
              "1424      5  0.997770     workshop\n",
              "3949      4  0.995071          wsd\n",
              "3854      4  0.994912         zero\n",
              "\n",
              "[1328 rows x 3 columns], R=30, lambda_step=0.01, plot_opts={'xlab': 'PC1', 'ylab': 'PC2'}, topic_order=[8, 4, 2, 7, 9, 5, 3, 6, 10, 1])"
            ],
            "text/html": [
              "\n",
              "<link rel=\"stylesheet\" type=\"text/css\" href=\"https://cdn.rawgit.com/bmabey/pyLDAvis/files/ldavis.v1.0.0.css\">\n",
              "\n",
              "\n",
              "<div id=\"ldavis_el561402483822943527336709743\"></div>\n",
              "<script type=\"text/javascript\">\n",
              "\n",
              "var ldavis_el561402483822943527336709743_data = {\"mdsDat\": {\"x\": [-0.1369414490671909, -0.1366693532922754, -0.08543905987459786, -0.1046776414844573, -0.08152232138208582, 0.39960966351710764, -0.086884431767911, -0.08667627797836139, -0.059154189208649434, 0.37835506053842244], \"y\": [0.02043947290895346, -0.000506638300677079, -0.012185242870100204, -0.0037852323560659306, -0.008903109922157088, -0.2875635113875556, 0.01607890311480601, -0.007627767445731834, -0.019982942413748515, 0.3040360686722773], \"topics\": [1, 2, 3, 4, 5, 6, 7, 8, 9, 10], \"cluster\": [1, 1, 1, 1, 1, 1, 1, 1, 1, 1], \"Freq\": [17.01307450961759, 15.887409849875048, 14.73820200655499, 13.59037289736007, 10.074372032246599, 9.374416207042884, 7.830049103435699, 5.620367738714245, 5.252229258671695, 0.6195063964811828]}, \"tinfo\": {\"Term\": [\"de\", \"et\", \"languages\", \"model\", \"models\", \"des\", \"la\", \"les\", \"knowledge\", \"task\", \"translation\", \"word\", \"semantic\", \"neural\", \"le\", \"speech\", \"dialogue\", \"un\", \"entity\", \"text\", \"une\", \"en\", \"nous\", \"system\", \"learning\", \"corpus\", \"english\", \"information\", \"training\", \"pour\", \"reasoning\", \"answering\", \"answer\", \"mt\", \"qa\", \"nmt\", \"contrastive\", \"leverage\", \"jointly\", \"decoding\", \"answers\", \"explanations\", \"factual\", \"leverages\", \"dense\", \"lms\", \"nlg\", \"wmt\", \"moral\", \"simultaneous\", \"discrete\", \"smt\", \"latency\", \"attack\", \"clip\", \"ratings\", \"tutorial\", \"curriculum\", \"vqa\", \"costs\", \"bleu\", \"translation\", \"question\", \"questions\", \"synthetic\", \"inference\", \"machine\", \"transformer\", \"loss\", \"noise\", \"quality\", \"output\", \"neural\", \"training\", \"systems\", \"data\", \"source\", \"models\", \"improvements\", \"improve\", \"performance\", \"language\", \"generation\", \"show\", \"system\", \"model\", \"however\", \"using\", \"results\", \"work\", \"methods\", \"approach\", \"new\", \"experiments\", \"embeddings\", \"embedding\", \"lstm\", \"masked\", \"nli\", \"convolutional\", \"alleviate\", \"polarity\", \"margin\", \"prompt\", \"weights\", \"stance\", \"regularization\", \"cnn\", \"sizes\", \"encoders\", \"glue\", \"plms\", \"subword\", \"pruning\", \"kgs\", \"debiasing\", \"pseudo\", \"constituency\", \"aggregation\", \"vanilla\", \"adapters\", \"condescending\", \"smoothing\", \"entropy\", \"bert\", \"label\", \"sequence\", \"labeled\", \"prediction\", \"vector\", \"token\", \"sentiment\", \"adversarial\", \"model\", \"pretrained\", \"outperforms\", \"supervised\", \"datasets\", \"learning\", \"tasks\", \"classification\", \"attention\", \"deep\", \"network\", \"models\", \"proposed\", \"networks\", \"performance\", \"propose\", \"representations\", \"transfer\", \"methods\", \"benchmark\", \"task\", \"method\", \"show\", \"training\", \"novel\", \"experiments\", \"results\", \"approach\", \"dataset\", \"features\", \"language\", \"text\", \"data\", \"two\", \"using\", \"word\", \"different\", \"paper\", \"based\", \"clinical\", \"privacy\", \"predicted\", \"slot\", \"legal\", \"software\", \"services\", \"digital\", \"compression\", \"metadata\", \"bridge\", \"videos\", \"practitioners\", \"academic\", \"terminology\", \"cultural\", \"filling\", \"framenet\", \"ed\", \"practices\", \"identity\", \"argumentation\", \"inductive\", \"generalizability\", \"prone\", \"projects\", \"intensity\", \"workflow\", \"paragraphs\", \"slots\", \"tools\", \"project\", \"tool\", \"platform\", \"web\", \"downstream\", \"technology\", \"survey\", \"researchers\", \"interface\", \"database\", \"technologies\", \"research\", \"development\", \"community\", \"annotation\", \"nlp\", \"creation\", \"scientific\", \"processing\", \"resources\", \"applications\", \"claims\", \"language\", \"available\", \"process\", \"discuss\", \"annotated\", \"application\", \"documents\", \"data\", \"natural\", \"paper\", \"information\", \"present\", \"linguistic\", \"text\", \"new\", \"corpus\", \"also\", \"work\", \"use\", \"used\", \"provide\", \"encoder\", \"morphological\", \"submitted\", \"unlabeled\", \"entailment\", \"signals\", \"amr\", \"induction\", \"hindi\", \"morphology\", \"wsd\", \"fake\", \"turkish\", \"morphologically\", \"patient\", \"korean\", \"spelling\", \"mbert\", \"da\", \"iteratively\", \"zero\", \"calibration\", \"endangered\", \"families\", \"dominant\", \"gendered\", \"literary\", \"sampled\", \"compounds\", \"affective\", \"senses\", \"russian\", \"tagger\", \"languages\", \"pos\", \"sense\", \"nouns\", \"distributional\", \"bilingual\", \"multilingual\", \"alignment\", \"dictionary\", \"lexicon\", \"wordnet\", \"word\", \"words\", \"lexical\", \"english\", \"monolingual\", \"corpora\", \"tagging\", \"parallel\", \"outperform\", \"chinese\", \"segmentation\", \"similarity\", \"corpus\", \"language\", \"using\", \"method\", \"pairs\", \"used\", \"paper\", \"approach\", \"resource\", \"results\", \"two\", \"based\", \"present\", \"different\", \"sentences\", \"texts\", \"one\", \"set\", \"data\", \"speech\", \"emotion\", \"speaker\", \"submission\", \"hate\", \"team\", \"contextualized\", \"teams\", \"asr\", \"emotions\", \"subtasks\", \"prompts\", \"participated\", \"suffer\", \"reinforcement\", \"workshop\", \"emotional\", \"abusive\", \"ablation\", \"acoustic\", \"participating\", \"dialect\", \"dialects\", \"depression\", \"personality\", \"logistic\", \"voice\", \"tracks\", \"campaign\", \"movie\", \"submissions\", \"sign\", \"speakers\", \"regression\", \"track\", \"shared\", \"gender\", \"participants\", \"spoken\", \"subtask\", \"audio\", \"describes\", \"system\", \"task\", \"detection\", \"ranked\", \"recognition\", \"paper\", \"systems\", \"corpus\", \"english\", \"features\", \"evaluation\", \"data\", \"analysis\", \"results\", \"automatic\", \"different\", \"used\", \"language\", \"using\", \"test\", \"two\", \"best\", \"dataset\", \"present\", \"based\", \"first\", \"also\", \"de\", \"des\", \"la\", \"les\", \"le\", \"un\", \"une\", \"en\", \"nous\", \"pour\", \"dans\", \"es\", \"sur\", \"du\", \"pr\", \"est\", \"que\", \"span\", \"syst\", \"qui\", \"sont\", \"mod\", \"cet\", \"ces\", \"ce\", \"cette\", \"donn\", \"lm\", \"au\", \"sultats\", \"par\", \"et\", \"plus\", \"article\", \"corpus\", \"parsing\", \"dependency\", \"parser\", \"tree\", \"recurrent\", \"causal\", \"probing\", \"trees\", \"parsers\", \"compositional\", \"logical\", \"attacks\", \"discriminative\", \"nodes\", \"parse\", \"triples\", \"beam\", \"paths\", \"treebanks\", \"heads\", \"drop\", \"induce\", \"logic\", \"counterfactual\", \"conditioned\", \"forgetting\", \"srl\", \"summarize\", \"premise\", \"discourse\", \"treebank\", \"syntax\", \"negation\", \"structures\", \"structure\", \"syntactic\", \"argument\", \"semantic\", \"structural\", \"meaning\", \"semantics\", \"graph\", \"constraints\", \"properties\", \"neural\", \"representation\", \"latent\", \"representations\", \"relations\", \"linguistic\", \"sentence\", \"sentences\", \"information\", \"natural\", \"show\", \"language\", \"model\", \"find\", \"models\", \"summarization\", \"summaries\", \"summary\", \"health\", \"offensive\", \"abstractive\", \"distillation\", \"sarcasm\", \"story\", \"paraphrase\", \"simplification\", \"uncertainty\", \"risk\", \"stories\", \"toxic\", \"judgments\", \"tweet\", \"memes\", \"pcl\", \"ood\", \"macro\", \"rouge\", \"captions\", \"reddit\", \"paraphrasing\", \"sarcastic\", \"lengths\", \"propaganda\", \"keyword\", \"humor\", \"media\", \"social\", \"metric\", \"metrics\", \"news\", \"responses\", \"tweets\", \"topic\", \"predictions\", \"articles\", \"style\", \"twitter\", \"content\", \"topics\", \"human\", \"text\", \"generation\", \"evaluation\", \"dataset\", \"document\", \"generated\", \"automatic\", \"scores\", \"documents\", \"generate\", \"task\", \"work\", \"propose\", \"results\", \"entity\", \"entities\", \"event\", \"events\", \"dialog\", \"commonsense\", \"temporal\", \"mentions\", \"agents\", \"kg\", \"modalities\", \"tracking\", \"recommendation\", \"customer\", \"kb\", \"grounding\", \"spatial\", \"intents\", \"rl\", \"ie\", \"personalized\", \"policies\", \"headline\", \"kbs\", \"empathetic\", \"localization\", \"artifacts\", \"slu\", \"norms\", \"unimodal\", \"dialogue\", \"ner\", \"conversation\", \"agent\", \"conversational\", \"conversations\", \"named\", \"visual\", \"utterances\", \"political\", \"multimodal\", \"utterance\", \"dialogues\", \"knowledge\", \"relation\", \"extraction\", \"facts\", \"relations\", \"user\", \"image\", \"information\", \"recognition\", \"graph\", \"response\", \"understanding\", \"new\", \"propose\", \"framework\", \"augmentation\", \"al\", \"extractive\", \"gradient\", \"st\", \"patients\", \"perturbations\", \"perturbation\", \"substitution\", \"title\", \"metaphor\", \"typologically\", \"replacing\", \"session\", \"metaphors\", \"inject\", \"rst\", \"stream\", \"clients\", \"valence\", \"motion\", \"quantifier\", \"triplets\", \"devised\", \"vocal\", \"pointer\", \"gaining\", \"genuine\", \"formulating\", \"lecture\", \"et\", \"traits\", \"si\", \"sessions\", \"cognitive\", \"ne\"], \"Freq\": [9696.0, 4044.0, 6467.0, 11235.0, 10904.0, 4081.0, 3982.0, 3502.0, 4131.0, 8958.0, 4873.0, 5120.0, 3779.0, 3975.0, 2533.0, 2584.0, 2015.0, 2412.0, 1914.0, 5864.0, 2315.0, 2298.0, 2105.0, 5704.0, 4777.0, 6121.0, 3425.0, 5951.0, 4891.0, 1852.0, 1225.371765745769, 987.40639887511, 916.7743170132386, 885.6621773055498, 794.258383070016, 747.6182789732442, 509.75358177518257, 485.62346038447043, 466.21123206960544, 415.21846735178127, 414.80897017585824, 319.00861092461514, 247.93878783495495, 241.44226786192482, 234.83537711899316, 233.22366453028508, 226.15587465442826, 185.880494194453, 182.32865915586692, 182.09056651059964, 174.82021772302997, 168.2422501087754, 167.5945909940329, 164.3627535793829, 152.50874718523613, 149.93992433649024, 144.64168390248173, 143.4166293349004, 142.67355299881532, 116.95552828392186, 651.8155083063855, 4563.9935377761985, 2119.2917388160677, 1244.1732684091996, 334.7265505163363, 999.6842184930588, 2520.6040712260915, 1058.370424569312, 498.40174575363534, 359.5653232064138, 1416.3623129452383, 705.4262665775776, 2431.0989757549464, 2713.221963639639, 2225.382051977934, 4074.2887980384075, 1052.6001010230577, 3796.9753370229555, 612.4247847682957, 979.722908070773, 1864.2475624238466, 2990.8192510447925, 1118.3651146499633, 1648.6093541511937, 1571.4380674881534, 2024.6682335375142, 1126.3018318113623, 1264.8825057162228, 1291.9513389371816, 1133.8860942489873, 1011.7565965875243, 1011.7300987331732, 946.466770424002, 933.0855757160881, 1823.7885218406639, 988.3425434280172, 301.2622739779595, 298.84483211766036, 248.1488526551403, 247.81746612091106, 201.78636750803577, 198.43165799242337, 188.98051558921532, 183.52687370302945, 176.72752242833204, 162.92670851812105, 158.61508576573164, 157.79618338582497, 139.5463829540178, 150.25340603629095, 117.97333440879734, 284.79221051407677, 107.64279987089905, 105.47382673162886, 105.14016891970073, 102.97184286809403, 102.17202310338382, 101.61258346390889, 90.41885339553765, 88.23391013273239, 82.81987648242908, 81.10240876036279, 77.63830260435985, 77.31895837154823, 1237.4549354976086, 662.0543352489193, 741.7884771448211, 580.1032710178823, 1125.9263224404067, 464.10276453579644, 368.0347323039179, 1051.1967047669652, 609.6847541370413, 8207.908405438293, 656.344433706236, 1118.0173581821007, 684.7444900528917, 2404.4249413262532, 3478.051257520361, 3539.2054936838003, 1938.0673092347342, 1196.7605759136322, 816.0848566857992, 1165.4093339183198, 6509.636047122973, 1878.7199488958267, 755.5059073387141, 3044.5636080538848, 2632.547466136473, 1386.0753381645495, 926.7966380436177, 2015.2260422299244, 797.8661811706062, 3555.452881340921, 2120.161919103383, 2282.141731301758, 1990.8866421562482, 1207.484216207104, 1437.9619330443945, 2128.0288485470683, 1668.4817882303319, 1410.572213492014, 1234.0729965331163, 2178.5033428441275, 1491.5398597755773, 1638.6055955057104, 1373.762968239664, 1407.048122309605, 1351.5759370358123, 1334.8809717836052, 1349.8228989048837, 1246.6898600289364, 707.6001770720248, 405.82725061482944, 390.26333549022326, 315.2251254055026, 288.16746378922386, 303.93220889209607, 265.1774976485662, 246.14391089323303, 238.80449241682572, 213.50690242499198, 189.82475237729648, 184.87004582538228, 183.21533550469522, 180.1506493866923, 199.33593913134698, 179.52263550798014, 172.207708492337, 168.08156966818652, 167.44647247484158, 157.9546988051321, 150.35350983338088, 149.74064704461205, 146.0325558455932, 139.8911179634756, 130.85761073927026, 130.314428557499, 124.4213749066312, 120.79518603375601, 119.69475108589218, 117.82773341611038, 1044.8334731876112, 744.6884124892064, 818.488483187355, 411.0660701172258, 899.267467663957, 1190.6373820379822, 537.1430197490416, 214.42324322611194, 591.5425879938796, 434.62728757458933, 438.3038880375374, 378.9230448081033, 2202.751032004239, 941.8473608990707, 655.8488560728731, 1998.1424535445285, 1905.6019972943714, 362.13731793743455, 454.9980840764092, 1412.2231529645705, 1233.981793028714, 914.5082635851286, 341.6270401654392, 3849.25969072858, 1248.846572993448, 909.37802289212, 545.9420812645203, 916.5118571655247, 533.2670780044622, 774.0031062823181, 2216.4253348859465, 1118.6250919306724, 1915.6880610617702, 1558.705235165748, 1291.1708906321169, 957.0520439212333, 1438.866884882699, 1162.490066518823, 1367.8970665994448, 1090.889136907407, 1002.7638667408893, 897.232851566593, 860.7574789381803, 770.9315889676608, 943.7974033578947, 842.3456625653662, 591.2063555407385, 525.158235219068, 395.2482178246818, 382.44417647732513, 376.1866272103657, 282.35449660849457, 275.83782874033494, 262.73678517846054, 249.295564039141, 208.69841237355126, 203.7272010860786, 188.98327961178336, 185.9817726634869, 179.3951939192023, 178.53961321446153, 170.52986380202765, 167.82658790550144, 158.70232738742644, 152.84446020451105, 152.18353396293801, 152.0902751790146, 148.15256030336172, 143.23578318499534, 135.04749811155332, 126.11878877572227, 123.31758229959178, 118.45331306490878, 116.92849209357993, 397.6928290148487, 269.83678541158844, 196.25567131965664, 6085.674656661249, 459.1508104446082, 777.4518964598948, 215.43593882899393, 350.3658117530845, 608.587206770528, 2256.3768813253005, 1048.3141963764645, 505.73153602286766, 585.6503727095334, 491.42344216081085, 3671.5106438659204, 2485.81102561659, 1460.5358228521707, 2375.200085473833, 721.4106739218081, 1697.6460595653118, 512.2901614873082, 987.2464316627224, 629.1802164372767, 757.4356210770105, 555.1903091526626, 824.8461344405554, 2298.422511064078, 3314.128813495905, 1711.8422960255689, 1309.6357595817967, 800.2159847867559, 1264.6882140652083, 1741.2810740489042, 1220.3496404368034, 696.4358298833648, 1362.1132655226356, 1189.7061147993084, 1068.9521084206576, 1038.7631861429716, 1067.4390665739838, 810.8750298214508, 756.1556819077218, 784.0774326662671, 776.4247213640319, 807.1584060158043, 2583.0563071333877, 835.941257220183, 494.03481084560224, 472.4395688578716, 433.8256532662665, 538.3361595574198, 420.68573289405214, 374.2282410616756, 371.2211823152241, 370.4599801530135, 359.7961579436223, 342.9443060823134, 317.0279148329036, 293.9313099880845, 264.2245166916103, 229.55075536855412, 224.85051502186528, 219.82119400433416, 202.09951873993518, 197.92406768848377, 189.16187219253175, 185.60712801439269, 171.56380323896136, 163.56377827228127, 157.79360721382858, 154.8271870579509, 154.8032569024353, 146.11249078700723, 143.17369371187908, 142.84277478492038, 298.73907190458317, 205.84719774529373, 501.0421775094125, 371.07333400186013, 316.93475463900336, 1554.8580796366452, 713.6268465294227, 445.75760958797474, 527.7603766856047, 553.4062816778833, 267.77724207062147, 899.2689834750327, 2646.692269547759, 3648.6316649414034, 1186.250700562966, 324.41461877673913, 727.5968708422116, 2149.3954075715556, 1307.2663833074716, 1469.065747555004, 987.4176316379109, 883.6198435038973, 935.6713784805715, 1509.3018913433527, 910.5232469838194, 1171.9078385185635, 737.962140562694, 1000.9984708700507, 907.8823951165615, 1271.7798994119419, 883.7518696842592, 639.6675660252255, 734.9493044398765, 582.8075469600069, 633.9683155442646, 625.7254438142038, 617.2697939386668, 597.3151955348461, 602.945905323466, 9695.711069598528, 4080.847687117463, 3981.9508381590053, 3501.6977657245857, 2532.349126214072, 2411.174987032647, 2314.8041112989445, 2297.186566013857, 2104.3380282158705, 1851.8735166572171, 1741.4789321689943, 1675.9933756610485, 1605.0865190681839, 1292.9045012080019, 1249.2921818392333, 1149.7314004775967, 964.4762993607225, 858.8963244259528, 709.5990765091775, 677.8500586897381, 664.4682897302678, 647.2995158321651, 641.1101239083459, 630.4571488930413, 617.1291396423304, 599.5209412156976, 520.6909420915224, 517.5384849879855, 515.5667865786555, 481.39216735433797, 926.8303913055777, 2928.1999446208238, 527.0612232172014, 649.8165087419343, 980.6216838938958, 1376.7837452897406, 1121.5193352467393, 665.1907533592904, 516.6826487182333, 422.19958330881644, 398.9350637854644, 388.1250808701764, 339.651044991862, 328.1594521158827, 307.4328811046482, 274.78658064196037, 266.23234501947525, 215.11070500653065, 213.8447668181962, 199.10484936554974, 193.6843714111944, 180.47477241405048, 169.3925384173679, 146.69257441168986, 142.51354199848137, 129.79636001909174, 129.14388610328396, 119.54121210212509, 118.11572727922024, 117.73976514489071, 112.58481555054043, 102.6656187325367, 99.03724991367547, 98.63893186049374, 916.8285677490343, 380.2741414064133, 320.5619350109887, 179.92477216223122, 725.7856135277378, 1247.8654721854982, 1156.806708471474, 380.636683611138, 2545.5524585422404, 368.33048059760387, 717.9031652938949, 529.529960642394, 975.5632623899324, 347.33540894157534, 467.54595916762383, 1543.2269990446973, 826.1021896678849, 369.606828160993, 823.2136901428951, 730.9423362876918, 829.1325934675178, 786.204534847221, 591.9669740374381, 717.6421144959538, 559.7009729486861, 539.6939499881095, 598.8236906176041, 519.6641182498394, 407.73555256488146, 448.8329133737766, 963.934049708533, 443.0488660380322, 377.7904349627627, 309.8434032625324, 305.0797864875811, 278.2418890699617, 270.97399424102633, 259.30263044447474, 234.86746426950648, 220.38168801862412, 205.25811721439797, 204.43480973070209, 168.14542224589835, 167.7301882693136, 165.3742106802843, 164.09984855941448, 158.35861709927207, 153.08833759109405, 148.2631517666024, 145.55909478298253, 145.24091172193587, 144.1172674112139, 129.48730201352728, 127.97732198921125, 123.46439489872091, 107.61193957910052, 97.09652461539737, 91.92270084306976, 91.43914023833658, 90.4594927855967, 902.8310350202657, 1238.2458116382043, 424.9515211289398, 869.7101094944816, 1041.395605583181, 476.51737650143565, 492.3369595890736, 546.4634427970632, 454.5002697352295, 497.5727827716388, 397.23603584010596, 324.2953183674897, 821.5967358279778, 322.19882080907826, 1099.7964678628289, 1708.7710655496037, 986.6604641567133, 1100.6086225948382, 974.3785925063464, 514.2101976898458, 466.00877405600403, 552.578923244834, 389.8718134678683, 434.4957859745214, 407.8677397581759, 634.3002442406545, 390.8720083547499, 381.2906042966556, 382.0804535252919, 1913.6709839805055, 1252.70889070024, 928.6467787729712, 678.4206592380907, 640.5368347845427, 587.8073626936166, 522.7946416703418, 372.7285884438305, 364.6531511379005, 209.33896213130487, 189.52945423271152, 181.77614792983223, 177.98024572871373, 165.10363090688023, 164.26191113564056, 159.7720316564735, 149.51069684442572, 120.14287599745246, 101.56919905690499, 109.66346142278051, 95.45920069143922, 90.49955039817554, 90.3318790119784, 86.98185691251649, 78.72428715161301, 72.62004754312152, 71.06306961924938, 70.03843016325663, 69.90446419120752, 69.22702301695209, 1963.4421150146738, 632.5378956767553, 521.4368756649211, 302.7585103618672, 533.2360125102329, 452.8112491368897, 877.1853627199796, 693.1039321765928, 451.94310582696284, 233.4753758310091, 643.6383832064138, 267.89001555563954, 307.61356177659684, 2504.5746925339718, 966.7651977008228, 1192.4558293788434, 280.0711813220106, 801.6208875507692, 670.3573041979076, 375.8219907488524, 1331.2249983593913, 499.0433715834334, 520.2704749506927, 338.7069817434821, 429.68500526755645, 482.86093932562835, 471.6510953113769, 398.05353086004465, 775.2943649369138, 393.6533115905284, 299.63218604226427, 189.41457815693443, 182.0163721951546, 160.73268260143848, 151.07652619700468, 130.7058561430066, 124.56816410026897, 120.92049451846113, 117.68931435446358, 117.07249305837614, 104.60523897880555, 92.98206592068564, 89.8646448084412, 73.46715235047306, 71.61183579771341, 67.99050463785308, 61.96313602499895, 55.42099337104936, 55.27624912793401, 53.29213107091105, 51.460221963039764, 49.90766403644667, 48.63997608677896, 42.94604850456735, 42.93499880179752, 42.50778669105458, 41.33120529688805, 39.0362219994633, 1115.6989126129629, 79.19591253608185, 103.13755423501483, 61.512411503247066, 78.87849498746105, 57.38059376460094], \"Total\": [9696.0, 4044.0, 6467.0, 11235.0, 10904.0, 4081.0, 3982.0, 3502.0, 4131.0, 8958.0, 4873.0, 5120.0, 3779.0, 3975.0, 2533.0, 2584.0, 2015.0, 2412.0, 1914.0, 5864.0, 2315.0, 2298.0, 2105.0, 5704.0, 4777.0, 6121.0, 3425.0, 5951.0, 4891.0, 1852.0, 1226.360412754977, 988.3913791492706, 917.7593554617763, 886.6570227095392, 795.2432831434315, 748.6031255353151, 510.73878721345216, 486.6086795620739, 467.19642908820333, 416.20360009266443, 415.8192842582663, 319.993586924302, 248.92387256022332, 242.42750940949279, 235.82050420178138, 234.20993933014287, 227.14084548895852, 186.86540116287378, 183.3139123790542, 183.07553160520257, 175.8200349239487, 169.22710478384204, 168.57952176378993, 165.34779498996218, 153.4942112331211, 150.92497326442248, 145.62665707992443, 144.40162646619967, 143.65842921043796, 117.94047203734108, 657.8078855361972, 4873.669848881494, 2237.735340400034, 1358.2901196163673, 348.35773145543, 1134.778037139441, 3069.0232005800735, 1226.6688386588098, 562.0021824267569, 398.8334601592851, 1969.048191236739, 883.9544677274931, 3975.2131645822838, 4891.042979648974, 4201.426456915108, 10263.201497984031, 1791.8612755605736, 10904.988809556808, 891.1732894963736, 1859.8691865670112, 5380.421139660756, 14219.342796553465, 2601.5541390886183, 5593.86111784285, 5704.455770734382, 11235.608640079832, 3178.269249716234, 6053.6262183501985, 6714.062383965727, 4567.8592709339355, 4004.7082823630003, 4609.640512901323, 4196.462405362374, 3062.6054224965255, 1825.0652803152452, 989.3386239765697, 302.2583794047607, 299.85790943092445, 249.14504220056003, 248.82417272366402, 202.78255853598475, 199.42777548682477, 189.97667395996916, 184.52311966543482, 177.72359372403474, 163.92285694912724, 159.6111662203267, 158.79225171957506, 140.54259764117683, 151.34388023281022, 118.96940248153741, 287.36301805312246, 108.63891306965091, 106.47002995941452, 106.14574373787062, 103.96796412626682, 103.16813345969236, 102.60873246506145, 91.41499225268592, 89.23001595814786, 83.81607041500452, 82.09918943787693, 78.63442592651937, 78.3151675645612, 1271.316119548002, 689.2753660378875, 784.3545788738357, 610.7702581524371, 1221.0829384769625, 493.89557263199833, 394.5887006906796, 1204.0633803613014, 688.224347231028, 11235.608640079832, 747.0201701127038, 1329.9910794354014, 788.4629038546518, 3114.0378291621546, 4777.278036762283, 5084.24331154717, 2614.6822821039514, 1522.1064292681262, 995.8053749405273, 1500.08759259058, 10904.988809556808, 2837.7720078097063, 987.119363465408, 5380.421139660756, 4832.719914866113, 2210.524963843487, 1348.628835982364, 4004.7082823630003, 1127.8042533549497, 8958.95854401771, 4453.218506159569, 5593.86111784285, 4891.042979648974, 2161.9401588557917, 3062.6054224965255, 6714.062383965727, 4609.640512901323, 3839.6912914228815, 2885.2438593217507, 14219.342796553465, 5864.862685739086, 10263.201497984031, 4935.68286799288, 6053.6262183501985, 5120.142171713508, 5066.525723989247, 8725.227741939962, 4595.775058862101, 708.5385869665871, 406.7656390232882, 391.2023655486809, 316.16360965771287, 289.1057601564178, 304.96138919080164, 266.1158503965269, 247.08223488637742, 239.74342678886742, 214.44522401657488, 190.76371676829143, 185.80868077514307, 184.1537859371229, 181.08907225579347, 200.3765827361049, 180.46103953982123, 173.14620835839284, 169.0199409058893, 168.38509394777975, 158.89310319530557, 151.29232703555462, 150.679066672207, 146.97188274928567, 140.83026151589374, 131.79693084249558, 131.2527084602888, 125.36000773382446, 121.73348931739004, 120.63349751871944, 118.76625308359938, 1081.4097080848808, 773.496328458249, 856.6033572486067, 425.7166032977537, 959.6832790771244, 1292.0399649016535, 577.0347248626936, 220.26554676452488, 650.0232152011444, 475.90809106104166, 501.0653724342672, 424.9242954430083, 3197.94633106982, 1205.2667663366026, 806.8868740236753, 2964.5168438411, 2973.847614041717, 415.0575620816966, 551.9950315874756, 2222.556852441669, 1886.8247223736448, 1401.330488423184, 392.8199817993327, 14219.342796553465, 2806.2597745948633, 1857.3812834411558, 833.3014284161691, 2034.8669437399067, 801.8242048598123, 1566.554657757597, 10263.201497984031, 3137.0495033703473, 8725.227741939962, 5951.522784078597, 4274.922269129118, 2459.1076255544, 5864.862685739086, 4196.462405362374, 6121.143509246526, 4565.336082455842, 4567.8592709339355, 3879.584251145782, 4208.773533058421, 1972.325580184175, 944.7357451233429, 843.4044409109196, 592.1445904867726, 526.0964408913201, 396.18621959462433, 383.3826361508348, 377.124674813415, 283.2939461076056, 276.7756430804127, 263.6755014590982, 250.23330214537498, 209.63671904025858, 204.66497986439077, 189.92104873055817, 186.92073409602952, 180.33305361263183, 179.47740581401658, 171.4677390180039, 168.7645342608621, 159.6407412975841, 153.78251886811512, 153.12189729707265, 153.0282289366456, 149.0903841372493, 144.17424869338709, 135.98562332789822, 127.05660883093807, 124.2558154713876, 119.39107925044205, 117.86671016116912, 401.1159260940551, 273.06403925993345, 198.1043443668049, 6467.927785481451, 469.88998746807397, 814.8949658185494, 219.27660839738374, 363.1377002476267, 650.6823438937274, 2593.2276964915327, 1159.9539019770782, 543.0780588517177, 656.7618518945194, 546.851089906531, 5120.142171713508, 3389.9291503744225, 1894.8558982870966, 3425.1690585033143, 873.7441571972718, 2493.5696410874184, 609.6368574500848, 1364.2650985895423, 833.1007802990542, 1099.6703927699032, 739.5972900350799, 1344.0077193281388, 6121.143509246526, 14219.342796553465, 6053.6262183501985, 4453.218506159569, 1639.1155104298307, 4208.773533058421, 8725.227741939962, 4609.640512901323, 1266.3690769721222, 6714.062383965727, 4935.68286799288, 4595.775058862101, 4274.922269129118, 5066.525723989247, 2306.237696157796, 1719.2682858435803, 2891.590475572807, 2789.161406660837, 10263.201497984031, 2584.0194497137154, 836.9043529078556, 494.99806233352956, 473.4026575277934, 434.8119593690004, 539.5643513074457, 421.6494181593952, 375.19130338377875, 372.18426952455076, 371.4230632776029, 360.75926828959143, 343.9079727006989, 317.99096254752675, 294.895365177918, 265.188346909903, 230.51414753050312, 225.8136008283748, 220.7842969332703, 203.06340739935698, 198.88711432789472, 190.1249430770581, 186.57017961462387, 172.5268854196974, 164.5268655326691, 158.75676180125416, 155.7903124046736, 155.76635915498585, 147.07560565454187, 144.136729927477, 143.80611857483564, 301.08765736763826, 208.6413583833219, 529.6781725702411, 392.50162796553053, 336.04507302851897, 1886.0539741493562, 850.5267502463197, 506.34826214342456, 627.2521585154053, 682.3990694203849, 287.9907114300747, 1316.8306236818446, 5704.455770734382, 8958.95854401771, 2138.938701971293, 377.69478544070984, 1320.079691544987, 8725.227741939962, 4201.426456915108, 6121.143509246526, 3425.1690585033143, 2885.2438593217507, 3518.0184502561865, 10263.201497984031, 3413.1721698013894, 6714.062383965727, 2179.0033930728778, 5066.525723989247, 4208.773533058421, 14219.342796553465, 6053.6262183501985, 1844.7986746200402, 4935.68286799288, 1698.3833409447323, 3839.6912914228815, 4274.922269129118, 4595.775058862101, 3036.9393058611913, 4565.336082455842, 9696.58113496697, 4081.717740323484, 3982.820894619773, 3502.5678183051946, 2533.219185910069, 2412.0450463196535, 2315.6741632719795, 2298.0566429929854, 2105.208079589731, 1852.7435692357137, 1742.348984454744, 1676.8634389787667, 1605.9565714082205, 1293.774557149342, 1250.16224096974, 1150.6014549731885, 965.3463522054145, 859.7680252940723, 710.4691278015322, 678.7201105814524, 665.3383421714873, 648.1695688028923, 641.9801751753968, 631.3272014737806, 617.9991980097064, 600.3909939212932, 521.5609950404422, 518.4097519330023, 516.4368428599718, 482.2622201341611, 1001.3122363759862, 4044.6664390728624, 544.1912356986408, 1178.4716342191414, 6121.143509246526, 1377.751651489212, 1122.4872352367995, 666.1586286151222, 517.6505761898561, 423.1675928919959, 399.9030991982208, 389.0932396596074, 340.6189263616058, 329.1273233491422, 308.400913878499, 275.75450608775304, 267.20056647464776, 216.07876560873132, 214.81268861886795, 200.07271603223657, 194.65252374707677, 181.4428464547749, 170.36052603665436, 147.6666100878745, 143.48151449994796, 130.76457021047537, 130.11192992774446, 120.50916011674722, 119.08384884443637, 118.70800384943843, 113.5529969294863, 103.6335023242152, 100.00595187524364, 99.60706813568858, 926.1001087310821, 392.2019866428724, 329.77417489667255, 185.85517688741066, 814.6605131969453, 1560.4986286614298, 1447.2127414077954, 430.65903844554686, 3779.19022609309, 435.1228933492874, 947.4220408236897, 686.311372822024, 1557.8547420138773, 437.0066998312757, 666.4401677741173, 3975.2131645822838, 1820.9845352590157, 526.037924840032, 2210.524963843487, 1796.4874930935932, 2459.1076255544, 2633.4480880259025, 2306.237696157796, 5951.522784078597, 3137.0495033703473, 5593.86111784285, 14219.342796553465, 11235.608640079832, 1573.258627990242, 10904.988809556808, 964.9215885952149, 444.0363597778324, 378.77795632384516, 310.830952059857, 306.06732744990256, 279.2294396731685, 271.962108693251, 260.29017820967124, 235.85497893508364, 221.40111233889465, 206.2458347552601, 205.42254814481743, 169.13301254427324, 168.7177161819949, 166.3618126901452, 165.0873980088815, 159.34612198374316, 154.0759027365217, 149.25081528752958, 146.54674291756677, 146.22854432803393, 145.10474295632946, 130.47490371346984, 128.9648869587455, 124.45222512323981, 108.59951765623894, 98.08420912914468, 92.91025464402246, 92.42672726761464, 91.44697881533185, 1026.493807863911, 1480.05920020324, 476.8699160534218, 1034.5866175896324, 1292.4061504533652, 547.8780137457169, 583.0779456590074, 716.5464290464726, 594.7561685799475, 676.0019453685369, 521.6730033892935, 405.2079329616342, 1375.2359399370725, 429.4180150720503, 2618.682793060495, 5864.862685739086, 2601.5541390886183, 3518.0184502561865, 3839.6912914228815, 1264.9529664670072, 1069.5006681815678, 2179.0033930728778, 967.4333157601594, 1566.554657757597, 1325.0770239720573, 8958.95854401771, 4567.8592709339355, 4832.719914866113, 6714.062383965727, 1914.6569906387765, 1253.6918498246885, 929.629738812042, 679.4122252581435, 641.5198085266558, 588.8176713777567, 523.7775974785793, 373.71158582366456, 365.6361638843671, 210.32236120029816, 190.5270785292956, 182.75916489133692, 178.9632286473933, 166.0866550661059, 165.24484200884794, 160.7550018781999, 150.4936884082115, 121.12591433430102, 102.55219905611604, 110.77972640972388, 96.44226117591766, 91.48261655500202, 91.31493587771767, 87.96480544487005, 79.70723509972409, 73.60649143872165, 72.04654143214809, 71.02156700036294, 70.88768473649081, 70.2100573092557, 2015.5885378764813, 645.7729016931274, 542.0606973218717, 312.6938034336418, 559.2463837581194, 473.5943067287787, 957.9988005853096, 776.8445155751426, 499.0046556323692, 256.50584848349496, 791.3784022702065, 301.6923363367421, 353.9105333369467, 4131.744569714839, 1354.776766485749, 1891.167475635376, 337.33353855774624, 1796.4874930935932, 1389.2659818543818, 625.5518515479323, 5951.522784078597, 1320.079691544987, 1557.8547420138773, 600.2288523286683, 1387.7396081684499, 4196.462405362374, 4832.719914866113, 2388.326147846756, 776.2573695967444, 394.6170764856811, 300.5951936792778, 190.37757200189122, 182.9793365863257, 161.6956710338571, 152.0395181323935, 131.66888158273545, 125.5311153395358, 121.88352234738392, 118.65223134058502, 118.0355449261976, 105.56827056287393, 93.94504052295271, 90.82755934814675, 74.43021945404232, 72.57480921733175, 68.953514578673, 62.926123356093655, 56.383944273945296, 56.239198806797624, 54.25509916829771, 52.42329885934685, 50.87079870370697, 49.60298257364349, 43.90906542611007, 43.89806060829266, 43.470818974237126, 42.29429465495842, 39.999162638568286, 4044.6664390728624, 107.64331769560107, 214.67044484594572, 85.60396737668063, 327.04190801964774, 393.4475918143], \"Category\": [\"Default\", \"Default\", \"Default\", \"Default\", \"Default\", \"Default\", \"Default\", \"Default\", \"Default\", \"Default\", \"Default\", \"Default\", \"Default\", \"Default\", \"Default\", \"Default\", \"Default\", \"Default\", \"Default\", \"Default\", \"Default\", \"Default\", \"Default\", \"Default\", \"Default\", \"Default\", \"Default\", \"Default\", \"Default\", \"Default\", \"Topic1\", \"Topic1\", \"Topic1\", \"Topic1\", \"Topic1\", \"Topic1\", \"Topic1\", \"Topic1\", \"Topic1\", \"Topic1\", \"Topic1\", \"Topic1\", \"Topic1\", \"Topic1\", \"Topic1\", \"Topic1\", \"Topic1\", \"Topic1\", \"Topic1\", \"Topic1\", \"Topic1\", \"Topic1\", \"Topic1\", \"Topic1\", \"Topic1\", \"Topic1\", \"Topic1\", \"Topic1\", \"Topic1\", \"Topic1\", \"Topic1\", \"Topic1\", \"Topic1\", \"Topic1\", \"Topic1\", \"Topic1\", \"Topic1\", \"Topic1\", \"Topic1\", \"Topic1\", \"Topic1\", \"Topic1\", \"Topic1\", \"Topic1\", \"Topic1\", \"Topic1\", \"Topic1\", \"Topic1\", \"Topic1\", \"Topic1\", \"Topic1\", \"Topic1\", \"Topic1\", \"Topic1\", \"Topic1\", \"Topic1\", \"Topic1\", \"Topic1\", \"Topic1\", \"Topic1\", \"Topic1\", \"Topic1\", \"Topic1\", \"Topic1\", \"Topic2\", \"Topic2\", \"Topic2\", \"Topic2\", \"Topic2\", \"Topic2\", \"Topic2\", \"Topic2\", \"Topic2\", \"Topic2\", \"Topic2\", \"Topic2\", \"Topic2\", \"Topic2\", \"Topic2\", \"Topic2\", \"Topic2\", \"Topic2\", \"Topic2\", \"Topic2\", \"Topic2\", \"Topic2\", \"Topic2\", \"Topic2\", \"Topic2\", \"Topic2\", \"Topic2\", \"Topic2\", \"Topic2\", \"Topic2\", \"Topic2\", \"Topic2\", \"Topic2\", \"Topic2\", \"Topic2\", \"Topic2\", \"Topic2\", \"Topic2\", \"Topic2\", \"Topic2\", \"Topic2\", \"Topic2\", \"Topic2\", \"Topic2\", \"Topic2\", \"Topic2\", \"Topic2\", \"Topic2\", \"Topic2\", \"Topic2\", \"Topic2\", \"Topic2\", \"Topic2\", \"Topic2\", \"Topic2\", \"Topic2\", \"Topic2\", \"Topic2\", \"Topic2\", \"Topic2\", \"Topic2\", \"Topic2\", \"Topic2\", \"Topic2\", \"Topic2\", \"Topic2\", \"Topic2\", \"Topic2\", \"Topic2\", \"Topic2\", \"Topic2\", \"Topic2\", \"Topic2\", \"Topic2\", \"Topic2\", \"Topic2\", \"Topic2\", \"Topic2\", \"Topic3\", \"Topic3\", \"Topic3\", \"Topic3\", \"Topic3\", \"Topic3\", \"Topic3\", \"Topic3\", \"Topic3\", \"Topic3\", \"Topic3\", \"Topic3\", \"Topic3\", \"Topic3\", \"Topic3\", \"Topic3\", \"Topic3\", \"Topic3\", \"Topic3\", \"Topic3\", \"Topic3\", \"Topic3\", \"Topic3\", \"Topic3\", \"Topic3\", \"Topic3\", \"Topic3\", \"Topic3\", \"Topic3\", \"Topic3\", \"Topic3\", \"Topic3\", \"Topic3\", \"Topic3\", \"Topic3\", \"Topic3\", \"Topic3\", \"Topic3\", \"Topic3\", \"Topic3\", \"Topic3\", \"Topic3\", \"Topic3\", \"Topic3\", \"Topic3\", \"Topic3\", \"Topic3\", \"Topic3\", \"Topic3\", \"Topic3\", \"Topic3\", \"Topic3\", \"Topic3\", \"Topic3\", \"Topic3\", \"Topic3\", \"Topic3\", \"Topic3\", \"Topic3\", \"Topic3\", \"Topic3\", \"Topic3\", \"Topic3\", \"Topic3\", \"Topic3\", \"Topic3\", \"Topic3\", \"Topic3\", \"Topic3\", \"Topic3\", \"Topic3\", \"Topic3\", \"Topic3\", \"Topic3\", \"Topic4\", \"Topic4\", \"Topic4\", \"Topic4\", \"Topic4\", \"Topic4\", \"Topic4\", \"Topic4\", \"Topic4\", \"Topic4\", \"Topic4\", \"Topic4\", \"Topic4\", \"Topic4\", \"Topic4\", \"Topic4\", \"Topic4\", \"Topic4\", \"Topic4\", \"Topic4\", \"Topic4\", \"Topic4\", \"Topic4\", \"Topic4\", \"Topic4\", \"Topic4\", \"Topic4\", \"Topic4\", \"Topic4\", \"Topic4\", \"Topic4\", \"Topic4\", \"Topic4\", \"Topic4\", \"Topic4\", \"Topic4\", \"Topic4\", \"Topic4\", \"Topic4\", \"Topic4\", \"Topic4\", \"Topic4\", \"Topic4\", \"Topic4\", \"Topic4\", \"Topic4\", \"Topic4\", \"Topic4\", \"Topic4\", \"Topic4\", \"Topic4\", \"Topic4\", \"Topic4\", \"Topic4\", \"Topic4\", \"Topic4\", \"Topic4\", \"Topic4\", \"Topic4\", \"Topic4\", \"Topic4\", \"Topic4\", \"Topic4\", \"Topic4\", \"Topic4\", \"Topic4\", \"Topic4\", \"Topic4\", \"Topic4\", \"Topic4\", \"Topic4\", \"Topic4\", \"Topic4\", \"Topic4\", \"Topic4\", \"Topic5\", \"Topic5\", \"Topic5\", \"Topic5\", \"Topic5\", \"Topic5\", \"Topic5\", \"Topic5\", \"Topic5\", \"Topic5\", \"Topic5\", \"Topic5\", \"Topic5\", \"Topic5\", \"Topic5\", \"Topic5\", \"Topic5\", \"Topic5\", \"Topic5\", \"Topic5\", \"Topic5\", \"Topic5\", \"Topic5\", \"Topic5\", \"Topic5\", \"Topic5\", \"Topic5\", \"Topic5\", \"Topic5\", \"Topic5\", \"Topic5\", \"Topic5\", \"Topic5\", \"Topic5\", \"Topic5\", \"Topic5\", \"Topic5\", \"Topic5\", \"Topic5\", \"Topic5\", \"Topic5\", \"Topic5\", \"Topic5\", \"Topic5\", \"Topic5\", \"Topic5\", \"Topic5\", \"Topic5\", \"Topic5\", \"Topic5\", \"Topic5\", \"Topic5\", \"Topic5\", \"Topic5\", \"Topic5\", \"Topic5\", \"Topic5\", \"Topic5\", \"Topic5\", \"Topic5\", \"Topic5\", \"Topic5\", \"Topic5\", \"Topic5\", \"Topic5\", \"Topic5\", \"Topic5\", \"Topic5\", \"Topic5\", \"Topic6\", \"Topic6\", \"Topic6\", \"Topic6\", \"Topic6\", \"Topic6\", \"Topic6\", \"Topic6\", \"Topic6\", \"Topic6\", \"Topic6\", \"Topic6\", \"Topic6\", \"Topic6\", \"Topic6\", \"Topic6\", \"Topic6\", \"Topic6\", \"Topic6\", \"Topic6\", \"Topic6\", \"Topic6\", \"Topic6\", \"Topic6\", \"Topic6\", \"Topic6\", \"Topic6\", \"Topic6\", \"Topic6\", \"Topic6\", \"Topic6\", \"Topic6\", \"Topic6\", \"Topic6\", \"Topic6\", \"Topic7\", \"Topic7\", \"Topic7\", \"Topic7\", \"Topic7\", \"Topic7\", \"Topic7\", \"Topic7\", \"Topic7\", \"Topic7\", \"Topic7\", \"Topic7\", \"Topic7\", \"Topic7\", \"Topic7\", \"Topic7\", \"Topic7\", \"Topic7\", \"Topic7\", \"Topic7\", \"Topic7\", \"Topic7\", \"Topic7\", \"Topic7\", \"Topic7\", \"Topic7\", \"Topic7\", \"Topic7\", \"Topic7\", \"Topic7\", \"Topic7\", \"Topic7\", \"Topic7\", \"Topic7\", \"Topic7\", \"Topic7\", \"Topic7\", \"Topic7\", \"Topic7\", \"Topic7\", \"Topic7\", \"Topic7\", \"Topic7\", \"Topic7\", \"Topic7\", \"Topic7\", \"Topic7\", \"Topic7\", \"Topic7\", \"Topic7\", \"Topic7\", \"Topic7\", \"Topic7\", \"Topic7\", \"Topic7\", \"Topic7\", \"Topic7\", \"Topic7\", \"Topic7\", \"Topic8\", \"Topic8\", \"Topic8\", \"Topic8\", \"Topic8\", \"Topic8\", \"Topic8\", \"Topic8\", \"Topic8\", \"Topic8\", \"Topic8\", \"Topic8\", \"Topic8\", \"Topic8\", \"Topic8\", \"Topic8\", \"Topic8\", \"Topic8\", \"Topic8\", \"Topic8\", \"Topic8\", \"Topic8\", \"Topic8\", \"Topic8\", \"Topic8\", \"Topic8\", \"Topic8\", \"Topic8\", \"Topic8\", \"Topic8\", \"Topic8\", \"Topic8\", \"Topic8\", \"Topic8\", \"Topic8\", \"Topic8\", \"Topic8\", \"Topic8\", \"Topic8\", \"Topic8\", \"Topic8\", \"Topic8\", \"Topic8\", \"Topic8\", \"Topic8\", \"Topic8\", \"Topic8\", \"Topic8\", \"Topic8\", \"Topic8\", \"Topic8\", \"Topic8\", \"Topic8\", \"Topic8\", \"Topic8\", \"Topic8\", \"Topic8\", \"Topic8\", \"Topic8\", \"Topic9\", \"Topic9\", \"Topic9\", \"Topic9\", \"Topic9\", \"Topic9\", \"Topic9\", \"Topic9\", \"Topic9\", \"Topic9\", \"Topic9\", \"Topic9\", \"Topic9\", \"Topic9\", \"Topic9\", \"Topic9\", \"Topic9\", \"Topic9\", \"Topic9\", \"Topic9\", \"Topic9\", \"Topic9\", \"Topic9\", \"Topic9\", \"Topic9\", \"Topic9\", \"Topic9\", \"Topic9\", \"Topic9\", \"Topic9\", \"Topic9\", \"Topic9\", \"Topic9\", \"Topic9\", \"Topic9\", \"Topic9\", \"Topic9\", \"Topic9\", \"Topic9\", \"Topic9\", \"Topic9\", \"Topic9\", \"Topic9\", \"Topic9\", \"Topic9\", \"Topic9\", \"Topic9\", \"Topic9\", \"Topic9\", \"Topic9\", \"Topic9\", \"Topic9\", \"Topic9\", \"Topic9\", \"Topic9\", \"Topic9\", \"Topic9\", \"Topic9\", \"Topic10\", \"Topic10\", \"Topic10\", \"Topic10\", \"Topic10\", \"Topic10\", \"Topic10\", \"Topic10\", \"Topic10\", \"Topic10\", \"Topic10\", \"Topic10\", \"Topic10\", \"Topic10\", \"Topic10\", \"Topic10\", \"Topic10\", \"Topic10\", \"Topic10\", \"Topic10\", \"Topic10\", \"Topic10\", \"Topic10\", \"Topic10\", \"Topic10\", \"Topic10\", \"Topic10\", \"Topic10\", \"Topic10\", \"Topic10\", \"Topic10\", \"Topic10\", \"Topic10\", \"Topic10\", \"Topic10\", \"Topic10\"], \"logprob\": [30.0, 29.0, 28.0, 27.0, 26.0, 25.0, 24.0, 23.0, 22.0, 21.0, 20.0, 19.0, 18.0, 17.0, 16.0, 15.0, 14.0, 13.0, 12.0, 11.0, 10.0, 9.0, 8.0, 7.0, 6.0, 5.0, 4.0, 3.0, 2.0, 1.0, -5.269400119781494, -5.485300064086914, -5.559500217437744, -5.594099998474121, -5.703000068664551, -5.763500213623047, -6.146500110626221, -6.195000171661377, -6.235799789428711, -6.351600170135498, -6.35260009765625, -6.615200042724609, -6.867199897766113, -6.893799781799316, -6.921500205993652, -6.928400039672852, -6.959199905395508, -7.155300140380859, -7.174600124359131, -7.175899982452393, -7.216599941253662, -7.255000114440918, -7.258900165557861, -7.278299808502197, -7.3531999588012695, -7.370200157165527, -7.406099796295166, -7.414700031280518, -7.4197998046875, -7.618599891662598, -5.900599956512451, -3.9544999599456787, -4.72160005569458, -5.254199981689453, -6.5671000480651855, -5.4730000495910645, -4.5482001304626465, -5.415900230407715, -6.169000148773193, -6.495500087738037, -5.124599933624268, -5.821599960327148, -4.5843000411987305, -4.4745001792907715, -4.672699928283691, -4.067999839782715, -5.42140007019043, -4.138400077819824, -5.9629998207092285, -5.493100166320801, -4.849800109863281, -4.377099990844727, -5.360799789428711, -4.972700119018555, -5.020699977874756, -4.767199993133545, -5.353700160980225, -5.23769998550415, -5.2164998054504395, -5.3470001220703125, -5.460999965667725, -5.460999965667725, -5.527699947357178, -5.541900157928467, -4.803299903869629, -5.415900230407715, -6.604000091552734, -6.611999988555908, -6.797900199890137, -6.799300193786621, -7.004700183868408, -7.021500110626221, -7.070300102233887, -7.099599838256836, -7.13730001449585, -7.218699932098389, -7.245500087738037, -7.2505998611450195, -7.373600006103516, -7.299600124359131, -7.541500091552734, -6.660200119018555, -7.6331000328063965, -7.653500080108643, -7.656700134277344, -7.677499771118164, -7.685299873352051, -7.690800189971924, -7.807499885559082, -7.831999778747559, -7.895299911499023, -7.916200160980225, -7.95989990234375, -7.964000225067139, -5.191100120544434, -5.8165998458862305, -5.702899932861328, -5.948699951171875, -5.285600185394287, -6.171800136566162, -6.403800010681152, -5.354300022125244, -5.89900016784668, -3.299099922180176, -5.825300216674805, -5.292600154876709, -5.782899856567383, -4.526899814605713, -4.157700061798096, -4.1402997970581055, -4.742499828338623, -5.224599838256836, -5.607399940490723, -5.251100063323975, -3.530900001525879, -4.773600101470947, -5.684599876403809, -4.290800094604492, -4.436200141906738, -5.077700138092041, -5.480199813842773, -4.703499794006348, -5.630000114440918, -4.135700225830078, -4.652699947357178, -4.579100131988525, -4.71560001373291, -5.215700149536133, -5.040999889373779, -4.64900016784668, -4.892300128936768, -5.060200214385986, -5.193900108337402, -4.6255998611450195, -5.00439977645874, -4.910399913787842, -5.086599826812744, -5.062699794769287, -5.10290002822876, -5.1153998374938965, -5.1041998863220215, -5.183700084686279, -5.675000190734863, -6.230899810791016, -6.269999980926514, -6.48360013961792, -6.573299884796143, -6.520100116729736, -6.656499862670898, -6.730999946594238, -6.761199951171875, -6.873199939727783, -6.990799903869629, -7.017199993133545, -7.026199817657471, -7.043099880218506, -6.94189977645874, -7.046599864959717, -7.088200092315674, -7.112400054931641, -7.116199970245361, -7.174600124359131, -7.223899841308594, -7.228000164031982, -7.252999782562256, -7.296000003814697, -7.362800121307373, -7.3668999671936035, -7.4131999015808105, -7.442800045013428, -7.451900005340576, -7.467599868774414, -5.285299777984619, -5.623899936676025, -5.529399871826172, -6.218100070953369, -5.435299873352051, -5.154600143432617, -5.9506001472473145, -6.868899822235107, -5.854100227355957, -6.162399768829346, -6.1539998054504395, -6.299499988555908, -4.539400100708008, -5.388999938964844, -5.750899791717529, -4.636899948120117, -4.684299945831299, -6.344799995422363, -6.116600036621094, -4.98390007019043, -5.118899822235107, -5.418499946594238, -6.40310001373291, -3.9811999797821045, -5.106900215148926, -5.424099922180176, -5.9344000816345215, -5.416299819946289, -5.957799911499023, -5.585299968719482, -4.533199787139893, -5.2170000076293945, -4.678999900817871, -4.885300159454346, -5.073599815368652, -5.373000144958496, -4.9653000831604, -5.178500175476074, -5.0157999992370605, -5.242099761962891, -5.326399803161621, -5.437600135803223, -5.479100227355957, -5.589300155639648, -5.3059000968933105, -5.419600009918213, -5.773600101470947, -5.892099857330322, -6.176300048828125, -6.209199905395508, -6.2256999015808105, -6.512599945068359, -6.535999774932861, -6.58459997177124, -6.6371002197265625, -6.814899921417236, -6.839000225067139, -6.914100170135498, -6.930099964141846, -6.96619987487793, -6.9710001945495605, -7.016900062561035, -7.032899856567383, -7.088799953460693, -7.126399993896484, -7.13070011138916, -7.13129997253418, -7.15749979019165, -7.191299915313721, -7.250199794769287, -7.318600177764893, -7.341000080108643, -7.38129997253418, -7.394199848175049, -6.170100212097168, -6.558000087738037, -6.876399993896484, -3.4421000480651855, -6.026400089263916, -5.499800205230713, -6.783100128173828, -6.296800136566162, -5.74459981918335, -4.434299945831299, -5.200799942016602, -5.929800033569336, -5.783100128173828, -5.958499908447266, -3.9474000930786133, -4.337399959564209, -4.869200229644775, -4.382999897003174, -5.5746002197265625, -4.718800067901611, -5.916900157928467, -5.260900020599365, -5.711400032043457, -5.5258002281188965, -5.83650016784668, -5.4405999183654785, -4.415800094604492, -4.049799919128418, -4.7104997634887695, -4.978300094604492, -5.470900058746338, -5.013199806213379, -4.693399906158447, -5.048900127410889, -5.609799861907959, -4.939000129699707, -5.0742998123168945, -5.181399822235107, -5.210000038146973, -5.182799816131592, -5.457699775695801, -5.527500152587891, -5.491300106048584, -5.501100063323975, -5.462299823760986, -3.9997000694274902, -5.127900123596191, -5.653800010681152, -5.698500156402588, -5.78380012512207, -5.56790018081665, -5.814499855041504, -5.931600093841553, -5.939599990844727, -5.941699981689453, -5.970900058746338, -6.018899917602539, -6.097400188446045, -6.173099994659424, -6.279600143432617, -6.420300006866455, -6.440999984741211, -6.463600158691406, -6.547699928283691, -6.56850004196167, -6.613800048828125, -6.632800102233887, -6.71150016784668, -6.759200096130371, -6.795100212097168, -6.8140997886657715, -6.814300060272217, -6.872000217437744, -6.892399787902832, -6.894700050354004, -6.156799793243408, -6.529300212860107, -5.639699935913086, -5.940000057220459, -6.097700119018555, -4.507299900054932, -5.286099910736084, -5.7565999031066895, -5.587800025939941, -5.540299892425537, -6.266300201416016, -5.054800033569336, -3.975399971008301, -3.6542999744415283, -4.777900218963623, -6.074399948120117, -5.26669979095459, -4.183499813079834, -4.680699825286865, -4.564000129699707, -4.961299896240234, -5.072400093078613, -5.015200138092041, -4.5370001792907715, -5.042399883270264, -4.789999961853027, -5.252500057220459, -4.947700023651123, -5.045300006866455, -4.708199977874756, -5.072199821472168, -5.395500183105469, -5.2565999031066895, -5.48859977722168, -5.404399871826172, -5.417500019073486, -5.431099891662598, -5.464000225067139, -5.454599857330322, -2.6050000190734863, -3.4702999591827393, -3.4948999881744385, -3.6233999729156494, -3.947499990463257, -3.996500015258789, -4.037300109863281, -4.045000076293945, -4.132699966430664, -4.260499954223633, -4.321899890899658, -4.360199928283691, -4.403500080108643, -4.619800090789795, -4.654099941253662, -4.737100124359131, -4.912799835205078, -5.028800010681152, -5.219699859619141, -5.265500068664551, -5.285399913787842, -5.311600208282471, -5.321199893951416, -5.3379998207092285, -5.359300136566162, -5.388299942016602, -5.529300212860107, -5.535299777984619, -5.539100170135498, -5.607699871063232, -4.952600002288818, -3.802299976348877, -5.517099857330322, -5.307700157165527, -4.896200180053711, -4.3769001960754395, -4.581999778747559, -5.104300022125244, -5.35699987411499, -5.558899879455566, -5.615600109100342, -5.643099784851074, -5.776500225067139, -5.8109002113342285, -5.876100063323975, -5.988399982452393, -6.019999980926514, -6.2332000732421875, -6.239099979400635, -6.3105998039245605, -6.338200092315674, -6.40880012512207, -6.4721999168396, -6.616099834442139, -6.644999980926514, -6.738399982452393, -6.743500232696533, -6.820700168609619, -6.832699775695801, -6.835899829864502, -6.88070011138916, -6.972899913787842, -7.008900165557861, -7.012899875640869, -4.7835001945495605, -5.66349983215332, -5.8343000411987305, -6.411900043487549, -5.017099857330322, -4.475200176239014, -4.551000118255615, -5.662499904632568, -3.7623000144958496, -5.695400238037109, -5.02810001373291, -5.332399845123291, -4.721399784088135, -5.7540998458862305, -5.456900119781494, -4.262800216674805, -4.887700080871582, -5.691999912261963, -4.891200065612793, -5.0100998878479, -4.883999824523926, -4.93720006942749, -5.220900058746338, -5.02839994430542, -5.2769999504089355, -5.313399791717529, -5.209400177001953, -5.351200103759766, -5.593800067901611, -5.497700214385986, -4.401800155639648, -5.179100036621094, -5.338500022888184, -5.536799907684326, -5.552199840545654, -5.6442999839782715, -5.67080020904541, -5.714799880981445, -5.813799858093262, -5.877500057220459, -5.948599815368652, -5.952600002288818, -6.1479997634887695, -6.1504998207092285, -6.164599895477295, -6.172299861907959, -6.208000183105469, -6.241799831390381, -6.273799896240234, -6.292200088500977, -6.294400215148926, -6.302199840545654, -6.409200191497803, -6.421000003814697, -6.456900119781494, -6.594299793243408, -6.6971001625061035, -6.7519001960754395, -6.7571001052856445, -6.767899990081787, -4.467299938201904, -4.151400089263916, -5.220799922943115, -4.504700183868408, -4.32450008392334, -5.106299877166748, -5.073699951171875, -4.969399929046631, -5.153600215911865, -5.0630998611450195, -5.288300037384033, -5.491199970245361, -4.561600208282471, -5.497700214385986, -4.269899845123291, -3.8292999267578125, -4.378499984741211, -4.269199848175049, -4.390999794006348, -5.030200004577637, -5.128600120544434, -4.958199977874756, -5.307000160217285, -5.198599815368652, -5.261899948120117, -4.820300102233887, -5.3043999671936035, -5.3292999267578125, -5.327199935913086, -3.6482999324798584, -4.072000026702881, -4.371300220489502, -4.685299873352051, -4.742800235748291, -4.828700065612793, -4.945899963378906, -5.284200191497803, -5.306099891662598, -5.861100196838379, -5.9604997634887695, -6.002299785614014, -6.023399829864502, -6.098499774932861, -6.103600025177002, -6.13129997253418, -6.197700023651123, -6.416399955749512, -6.5843000411987305, -6.507699966430664, -6.646399974822998, -6.699699878692627, -6.701600074768066, -6.7393999099731445, -6.839099884033203, -6.9197998046875, -6.941500186920166, -6.955999851226807, -6.957900047302246, -6.967700004577637, -3.6226000785827637, -4.755300045013428, -4.948500156402588, -5.492099761962891, -4.92609977722168, -5.089600086212158, -4.428400039672852, -4.663899898529053, -5.0914998054504395, -5.751999855041504, -4.7378997802734375, -5.614500045776367, -5.476200103759766, -3.379199981689453, -4.331099987030029, -4.121300220489502, -5.570000171661377, -4.518400192260742, -4.697299957275391, -5.276000022888184, -4.011199951171875, -4.992400169372559, -4.950699806213379, -5.379899978637695, -5.142000198364258, -5.025300025939941, -5.048799991607666, -5.218500137329102, -2.414400100708008, -3.092099905014038, -3.365000009536743, -3.823699951171875, -3.8635001182556152, -3.9879000186920166, -4.049799919128418, -4.1946001052856445, -4.242700099945068, -4.272500038146973, -4.299499988555908, -4.304800033569336, -4.417399883270264, -4.535200119018555, -4.569300174713135, -4.7708001136779785, -4.796299934387207, -4.848199844360352, -4.941100120544434, -5.052599906921387, -5.055200099945068, -5.091800212860107, -5.126800060272217, -5.157400131225586, -5.18310022354126, -5.307600021362305, -5.3078999519348145, -5.31790018081665, -5.3460001945495605, -5.40310001373291, -2.0504000186920166, -4.695700168609619, -4.43149995803833, -4.948400020599365, -4.699699878692627, -5.017899990081787], \"loglift\": [30.0, 29.0, 28.0, 27.0, 26.0, 25.0, 24.0, 23.0, 22.0, 21.0, 20.0, 19.0, 18.0, 17.0, 16.0, 15.0, 14.0, 13.0, 12.0, 11.0, 10.0, 9.0, 8.0, 7.0, 6.0, 5.0, 4.0, 3.0, 2.0, 1.0, 1.7704, 1.7702, 1.7701, 1.7701, 1.7699, 1.7699, 1.7693, 1.7692, 1.7691, 1.7688, 1.7688, 1.7681, 1.7672, 1.7671, 1.767, 1.767, 1.7668, 1.7659, 1.7658, 1.7658, 1.7655, 1.7654, 1.7653, 1.7652, 1.7647, 1.7646, 1.7644, 1.7643, 1.7643, 1.7628, 1.762, 1.7055, 1.7168, 1.6834, 1.7313, 1.6444, 1.5743, 1.6236, 1.6511, 1.6675, 1.4417, 1.5456, 1.2795, 1.1819, 1.1357, 0.8473, 1.2392, 0.7162, 1.3961, 1.1302, 0.7113, 0.2121, 0.9269, 0.5495, 0.4819, 0.0575, 0.7338, 0.2055, 0.1231, 0.3778, 0.3954, 0.2547, 0.2819, 0.5827, 1.8389, 1.8386, 1.8363, 1.8363, 1.8356, 1.8356, 1.8347, 1.8346, 1.8344, 1.8342, 1.834, 1.8335, 1.8334, 1.8334, 1.8325, 1.8324, 1.8312, 1.8307, 1.8304, 1.8302, 1.8301, 1.83, 1.8299, 1.8299, 1.8287, 1.8284, 1.8277, 1.8274, 1.8269, 1.8268, 1.8126, 1.7993, 1.7838, 1.7881, 1.7585, 1.7774, 1.77, 1.7039, 1.7185, 1.5257, 1.7102, 1.666, 1.6986, 1.581, 1.5222, 1.4774, 1.5402, 1.5992, 1.6406, 1.5872, 1.3237, 1.4272, 1.5722, 1.2702, 1.2322, 1.3729, 1.4645, 1.1529, 1.4936, 0.9155, 1.0975, 0.9431, 0.9408, 1.2572, 1.0836, 0.6906, 0.8234, 0.8382, 0.9904, -0.0363, 0.4705, 0.0049, 0.5607, 0.3805, 0.5077, 0.5058, -0.0266, 0.535, 1.9134, 1.9124, 1.9123, 1.9118, 1.9115, 1.9113, 1.9112, 1.9109, 1.9108, 1.9103, 1.9098, 1.9097, 1.9096, 1.9095, 1.9095, 1.9095, 1.9093, 1.9092, 1.9091, 1.9088, 1.9085, 1.9085, 1.9083, 1.908, 1.9076, 1.9076, 1.9072, 1.907, 1.9069, 1.9068, 1.8803, 1.8768, 1.8692, 1.8797, 1.8497, 1.833, 1.8431, 1.8878, 1.8205, 1.824, 1.7809, 1.8001, 1.5419, 1.6681, 1.7075, 1.5202, 1.4697, 1.7783, 1.7215, 1.4612, 1.4901, 1.4879, 1.7751, 0.608, 1.1051, 1.2006, 1.4918, 1.1171, 1.5069, 1.2097, 0.3821, 0.8835, 0.3986, 0.5749, 0.7175, 0.971, 0.5096, 0.631, 0.4163, 0.4832, 0.3984, 0.4506, 0.3276, 0.9754, 1.9948, 1.9946, 1.9942, 1.994, 1.9934, 1.9934, 1.9933, 1.9925, 1.9924, 1.9922, 1.9921, 1.9913, 1.9912, 1.9909, 1.9908, 1.9906, 1.9906, 1.9903, 1.9902, 1.9899, 1.9897, 1.9897, 1.9897, 1.9895, 1.9893, 1.9889, 1.9884, 1.9882, 1.9879, 1.9878, 1.9872, 1.9839, 1.9864, 1.9349, 1.9727, 1.9488, 1.9781, 1.96, 1.9289, 1.8567, 1.8946, 1.9246, 1.8812, 1.8889, 1.6632, 1.6856, 1.7355, 1.6297, 1.8042, 1.6113, 1.8218, 1.6724, 1.7151, 1.623, 1.709, 1.5076, 1.0163, 0.5394, 0.7327, 0.7719, 1.2788, 0.7935, 0.3842, 0.6668, 1.3979, 0.4006, 0.573, 0.5373, 0.5811, 0.4384, 0.9505, 1.1744, 0.6908, 0.717, -0.547, 2.2948, 2.294, 2.2932, 2.2931, 2.2929, 2.2929, 2.2929, 2.2926, 2.2926, 2.2926, 2.2925, 2.2924, 2.2921, 2.2919, 2.2915, 2.291, 2.2909, 2.2908, 2.2904, 2.2903, 2.2901, 2.29, 2.2896, 2.2893, 2.2891, 2.289, 2.289, 2.2886, 2.2885, 2.2885, 2.2873, 2.2817, 2.2396, 2.239, 2.2366, 2.1021, 2.1197, 2.1677, 2.1225, 2.0857, 2.2224, 1.9138, 1.5272, 1.3969, 1.7057, 2.1431, 1.6995, 0.8941, 1.1277, 0.8681, 1.0514, 1.1118, 0.9708, 0.3783, 0.9738, 0.5496, 1.2124, 0.6735, 0.7614, -0.119, 0.3709, 1.236, 0.3907, 1.2256, 0.494, 0.3736, 0.2876, 0.669, 0.2708, 2.3671, 2.367, 2.367, 2.3669, 2.3668, 2.3668, 2.3668, 2.3668, 2.3668, 2.3667, 2.3667, 2.3667, 2.3666, 2.3665, 2.3665, 2.3664, 2.3663, 2.3662, 2.366, 2.3659, 2.3659, 2.3658, 2.3658, 2.3658, 2.3658, 2.3657, 2.3655, 2.3655, 2.3655, 2.3654, 2.2899, 2.0442, 2.3352, 1.7719, 0.5359, 2.5465, 2.5463, 2.5457, 2.5453, 2.5449, 2.5448, 2.5447, 2.5444, 2.5443, 2.5441, 2.5437, 2.5436, 2.5427, 2.5427, 2.5424, 2.5422, 2.5419, 2.5415, 2.5406, 2.5404, 2.5398, 2.5397, 2.5391, 2.539, 2.539, 2.5386, 2.5378, 2.5375, 2.5374, 2.5371, 2.5163, 2.5189, 2.5148, 2.4317, 2.3236, 2.3232, 2.4237, 2.152, 2.3806, 2.2698, 2.2879, 2.0792, 2.3175, 2.1927, 1.601, 1.7568, 2.1943, 1.5594, 1.6479, 1.46, 1.3384, 1.1873, 0.4318, 0.8236, 0.2088, -0.6202, -0.5265, 1.1969, -0.6431, 2.8777, 2.8765, 2.8762, 2.8756, 2.8755, 2.8752, 2.8751, 2.875, 2.8746, 2.8742, 2.874, 2.874, 2.8729, 2.8729, 2.8728, 2.8728, 2.8726, 2.8723, 2.8721, 2.872, 2.872, 2.8719, 2.8712, 2.8711, 2.8708, 2.8696, 2.8687, 2.8681, 2.868, 2.8679, 2.7504, 2.7004, 2.7635, 2.7052, 2.6628, 2.7392, 2.7096, 2.6078, 2.6098, 2.5723, 2.6063, 2.656, 2.3636, 2.5915, 2.0112, 1.6456, 1.9092, 1.7167, 1.5074, 1.9786, 2.048, 1.5067, 1.9699, 1.5963, 1.7005, 0.2309, 0.4204, 0.3392, 0.0124, 2.946, 2.9457, 2.9455, 2.9451, 2.945, 2.9448, 2.9446, 2.9439, 2.9438, 2.9418, 2.9413, 2.9411, 2.941, 2.9406, 2.9406, 2.9404, 2.94, 2.9384, 2.9369, 2.9364, 2.9363, 2.9357, 2.9357, 2.9353, 2.9341, 2.933, 2.9328, 2.9326, 2.9326, 2.9324, 2.9203, 2.9258, 2.9077, 2.9142, 2.8989, 2.9016, 2.8584, 2.8325, 2.8475, 2.8524, 2.7399, 2.8277, 2.8063, 2.4459, 2.6091, 2.4853, 2.7605, 2.1396, 2.2178, 2.437, 1.449, 1.9738, 1.8498, 2.3743, 1.7741, 0.7842, 0.6196, 1.1548, 5.0828, 5.0816, 5.0808, 5.0789, 5.0787, 5.078, 5.0776, 5.0767, 5.0763, 5.0761, 5.0759, 5.0758, 5.0748, 5.0737, 5.0733, 5.071, 5.0706, 5.0699, 5.0686, 5.0668, 5.0667, 5.0661, 5.0655, 5.0649, 5.0644, 5.0618, 5.0618, 5.0616, 5.061, 5.0596, 3.7961, 4.7771, 4.351, 4.7535, 3.6618, 3.1588]}, \"token.table\": {\"Topic\": [5, 8, 5, 3, 5, 2, 1, 2, 8, 4, 6, 9, 9, 2, 10, 1, 4, 2, 1, 2, 3, 4, 5, 7, 8, 9, 4, 1, 2, 3, 4, 5, 7, 8, 9, 2, 3, 4, 5, 7, 9, 3, 4, 5, 6, 7, 1, 1, 1, 1, 2, 3, 4, 5, 6, 7, 9, 1, 2, 3, 4, 5, 6, 7, 8, 9, 1, 2, 3, 4, 5, 7, 8, 9, 3, 6, 7, 3, 3, 4, 5, 6, 8, 3, 4, 6, 8, 9, 9, 5, 1, 7, 1, 2, 3, 5, 6, 7, 8, 9, 6, 5, 6, 10, 1, 3, 4, 5, 8, 1, 2, 3, 4, 5, 9, 1, 2, 3, 4, 5, 7, 8, 9, 7, 1, 2, 5, 9, 2, 6, 7, 8, 1, 2, 4, 5, 7, 8, 1, 4, 1, 6, 3, 4, 5, 8, 7, 6, 6, 6, 6, 1, 2, 4, 5, 1, 3, 2, 3, 4, 5, 6, 8, 9, 10, 3, 1, 2, 1, 2, 3, 5, 10, 9, 1, 3, 5, 7, 4, 3, 2, 7, 2, 1, 2, 3, 4, 7, 9, 1, 3, 5, 8, 9, 5, 1, 5, 9, 5, 9, 6, 9, 2, 1, 2, 3, 4, 5, 3, 4, 5, 6, 9, 1, 7, 1, 3, 4, 5, 3, 1, 9, 4, 6, 1, 2, 3, 4, 5, 7, 9, 3, 4, 5, 1, 2, 4, 5, 7, 8, 1, 2, 5, 6, 2, 1, 1, 2, 3, 5, 9, 1, 7, 5, 6, 1, 3, 4, 5, 2, 4, 5, 9, 1, 3, 4, 5, 10, 5, 5, 9, 6, 9, 5, 6, 9, 3, 4, 1, 2, 3, 4, 5, 7, 8, 9, 3, 5, 7, 1, 7, 1, 3, 4, 5, 7, 9, 8, 2, 4, 1, 2, 3, 6, 8, 1, 2, 3, 4, 6, 8, 9, 4, 6, 3, 5, 7, 6, 3, 2, 2, 5, 5, 5, 9, 6, 4, 2, 4, 1, 3, 4, 5, 4, 9, 9, 2, 6, 6, 6, 10, 1, 2, 3, 4, 5, 7, 8, 9, 9, 9, 1, 2, 4, 5, 7, 8, 9, 1, 2, 3, 4, 6, 8, 9, 10, 7, 8, 9, 1, 4, 4, 2, 3, 4, 5, 7, 8, 9, 3, 1, 2, 5, 7, 8, 9, 1, 2, 3, 4, 5, 7, 8, 9, 7, 10, 3, 1, 2, 3, 4, 5, 7, 8, 9, 10, 4, 5, 4, 3, 1, 2, 4, 7, 8, 9, 1, 2, 3, 4, 5, 7, 8, 9, 1, 2, 3, 7, 8, 9, 10, 2, 10, 2, 7, 9, 9, 5, 9, 7, 8, 4, 1, 2, 3, 4, 5, 7, 8, 9, 1, 3, 4, 5, 7, 8, 9, 8, 3, 9, 1, 8, 9, 1, 2, 3, 4, 5, 7, 8, 9, 1, 2, 4, 5, 7, 4, 3, 1, 4, 9, 1, 2, 3, 4, 5, 6, 7, 8, 9, 10, 3, 9, 3, 6, 4, 1, 8, 9, 9, 8, 9, 2, 1, 2, 3, 4, 7, 9, 4, 6, 2, 3, 4, 2, 4, 1, 2, 3, 4, 5, 7, 8, 9, 3, 4, 5, 1, 7, 8, 6, 1, 2, 3, 4, 5, 7, 9, 10, 3, 8, 6, 1, 1, 3, 4, 6, 7, 3, 4, 3, 4, 5, 7, 9, 4, 6, 1, 9, 7, 7, 5, 1, 8, 2, 1, 2, 3, 4, 5, 6, 8, 2, 2, 4, 2, 3, 4, 7, 8, 5, 6, 8, 8, 9, 3, 10, 10, 1, 2, 4, 7, 8, 9, 1, 2, 3, 4, 5, 7, 8, 9, 1, 8, 1, 5, 8, 6, 9, 1, 2, 4, 5, 7, 8, 9, 1, 2, 4, 5, 7, 8, 9, 1, 4, 1, 4, 4, 4, 10, 5, 1, 1, 2, 3, 4, 5, 5, 9, 2, 9, 1, 2, 3, 4, 5, 7, 8, 9, 6, 10, 5, 7, 6, 9, 1, 2, 3, 5, 7, 8, 9, 1, 2, 7, 9, 1, 7, 1, 2, 3, 4, 5, 7, 8, 9, 1, 4, 5, 8, 9, 1, 2, 1, 2, 3, 4, 7, 1, 7, 1, 4, 9, 4, 7, 6, 1, 2, 3, 4, 5, 7, 8, 8, 1, 2, 3, 4, 5, 7, 8, 9, 8, 3, 4, 1, 2, 8, 9, 1, 2, 3, 4, 5, 7, 8, 1, 2, 4, 9, 1, 2, 3, 4, 5, 7, 8, 9, 1, 2, 6, 3, 1, 4, 8, 8, 7, 7, 7, 7, 5, 6, 8, 9, 5, 5, 7, 4, 10, 8, 1, 2, 4, 5, 6, 7, 8, 9, 5, 9, 10, 10, 3, 5, 2, 7, 4, 6, 10, 2, 9, 1, 9, 4, 6, 6, 6, 3, 3, 3, 1, 2, 7, 9, 4, 8, 7, 1, 2, 3, 4, 5, 7, 8, 9, 1, 2, 3, 7, 1, 2, 3, 4, 5, 7, 8, 9, 1, 2, 3, 4, 5, 7, 3, 4, 5, 3, 2, 5, 3, 8, 2, 3, 4, 5, 7, 1, 2, 4, 6, 7, 8, 9, 1, 2, 3, 4, 5, 7, 8, 9, 1, 2, 3, 4, 5, 7, 8, 9, 2, 2, 1, 1, 3, 4, 5, 8, 10, 6, 1, 6, 7, 1, 6, 6, 2, 4, 5, 8, 1, 1, 2, 3, 4, 5, 9, 9, 7, 8, 4, 5, 2, 5, 2, 4, 6, 7, 9, 3, 4, 6, 7, 9, 10, 2, 3, 7, 9, 2, 7, 1, 2, 3, 4, 5, 7, 8, 9, 1, 2, 3, 5, 1, 3, 4, 5, 9, 3, 4, 1, 8, 9, 1, 5, 8, 1, 2, 3, 4, 5, 7, 8, 9, 8, 9, 8, 10, 4, 5, 4, 8, 8, 3, 8, 1, 2, 4, 5, 6, 8, 2, 4, 5, 6, 2, 3, 4, 7, 8, 9, 2, 3, 4, 7, 9, 4, 7, 4, 7, 1, 2, 4, 7, 8, 1, 2, 3, 4, 5, 7, 8, 2, 8, 1, 2, 4, 9, 3, 10, 5, 10, 1, 2, 3, 4, 5, 7, 8, 9, 1, 2, 4, 5, 7, 1, 2, 4, 5, 7, 8, 9, 6, 10, 4, 5, 10, 4, 2, 4, 8, 8, 1, 2, 3, 3, 9, 2, 1, 5, 8, 3, 6, 1, 2, 3, 4, 6, 8, 6, 9, 5, 4, 5, 5, 4, 3, 4, 5, 9, 7, 10, 2, 8, 8, 10, 2, 3, 4, 7, 2, 3, 6, 7, 3, 4, 6, 7, 1, 2, 3, 5, 6, 7, 8, 5, 1, 5, 4, 10, 2, 5, 8, 5, 2, 5, 6, 8, 8, 7, 8, 1, 2, 4, 6, 1, 3, 3, 4, 7, 3, 7, 1, 5, 6, 1, 2, 3, 4, 5, 8, 9, 1, 3, 4, 5, 8, 9, 4, 6, 2, 3, 4, 1, 2, 4, 5, 7, 8, 9, 1, 2, 3, 4, 5, 7, 8, 9, 5, 5, 3, 5, 6, 1, 3, 5, 9, 3, 1, 2, 4, 5, 6, 7, 8, 1, 2, 3, 4, 5, 7, 8, 9, 1, 2, 3, 4, 5, 8, 9, 10, 2, 3, 3, 4, 5, 3, 4, 5, 2, 3, 4, 5, 8, 9, 3, 5, 8, 9, 8, 1, 5, 9, 9, 5, 1, 2, 4, 5, 7, 6, 10, 1, 2, 4, 7, 1, 5, 1, 4, 7, 3, 6, 7, 7, 7, 7, 10, 4, 1, 8, 5, 8, 2, 5, 8, 1, 2, 3, 4, 5, 7, 8, 9, 10, 6, 8, 1, 2, 3, 5, 7, 8, 9, 6, 9, 4, 1, 2, 3, 4, 5, 7, 8, 9, 1, 2, 3, 4, 5, 7, 8, 9, 1, 3, 5, 8, 9, 1, 2, 3, 4, 5, 7, 8, 9, 5, 9, 1, 7, 9, 10, 2, 2, 4, 3, 1, 7, 9, 10, 5, 1, 3, 6, 2, 1, 2, 4, 7, 3, 4, 6, 1, 2, 4, 7, 8, 1, 2, 3, 4, 5, 7, 8, 9, 3, 5, 4, 4], \"Freq\": [0.994763175635748, 0.9955970270376665, 0.9964476779183832, 0.9939859857791136, 0.9955396088334201, 0.9902635567264864, 0.09880499036918448, 0.886338884194155, 0.01453014564252713, 0.9926466925225622, 0.028782150145517455, 0.9689990548990877, 0.9982601177148104, 0.9845212232937169, 0.9984362651226942, 0.09569345799932787, 0.9034841800296901, 0.9961408982033044, 0.1940711448177528, 0.14412958610618662, 0.23897473927332766, 0.1537674307698222, 0.13208228027664215, 0.07337904459813452, 0.04293221713801303, 0.020589940872312373, 0.9970177639159478, 0.0038087735845908012, 0.19864219156558177, 0.18809481856209956, 0.21475623365423516, 0.2669071335047861, 0.05127195210026078, 0.07529652394152583, 0.001464912917150308, 0.002457163115938401, 0.4506437154631027, 0.3051796589995494, 0.22605900666633288, 0.0004914326231876802, 0.015234411318818086, 0.6739715458695819, 0.0931011745045068, 0.16090311680670197, 0.0651033575339486, 0.007083785016647257, 0.9991725985060711, 0.9985922791531547, 0.9980297107679176, 0.058616339735238214, 0.0012471561645795363, 0.6647342357208929, 0.07233505754561312, 0.04863909041860192, 0.09353671234346524, 0.05362771507692007, 0.007482936987477219, 0.06351107089673419, 0.13487182471328946, 0.6529508974214807, 0.032112339217449874, 0.01784018845413882, 0.04852531259525759, 0.01784018845413882, 0.00784968291982108, 0.024976263835794345, 0.21953989626037973, 0.3618503428481358, 0.032974371770333716, 0.2646627207882048, 0.009545212880886075, 0.040784091400149595, 0.030154195237344646, 0.040350218087382046, 0.1068130374461334, 0.006966067659530439, 0.8846905927603658, 0.9954932912234964, 0.1315262883715512, 0.11625226778646784, 0.02206247417845375, 0.5515618544613438, 0.1790454635251439, 0.17159713932000614, 0.017751428205517877, 0.05769214166793309, 0.7366842705289919, 0.01627214252172472, 0.9854740920057391, 0.9968180559429242, 0.9918487271629839, 0.9955068715216902, 0.09329176808502004, 0.7864101858997816, 0.034820166961310295, 0.017738575621799587, 0.009854764234333104, 0.03876207265504354, 0.004598889976022115, 0.014453654210355217, 0.9991541214264409, 0.9305855687816913, 0.06597435002556766, 0.998380215575412, 0.07755839230781213, 0.1353829924899679, 0.195043294265208, 0.3386869439240553, 0.25378574524390596, 0.16249386608046015, 0.04454327469310859, 0.44507640073354104, 0.2394646447501518, 0.07198193190406349, 0.036347312149576615, 0.09813361059313162, 0.27133616942269434, 0.07202267207611213, 0.23260494395578205, 0.13425374220834194, 0.06527734629254875, 0.08116150055706894, 0.04525896009616714, 0.9920479286840634, 0.2606835353966966, 0.707569596076748, 0.003546714767301995, 0.027487039446590457, 0.9730074062458969, 0.025170765561737026, 0.0007865864238042821, 0.0007865864238042821, 0.20490073801973568, 0.29498640732151604, 0.11128229737278748, 0.3432676157054767, 0.004121566569362499, 0.04121566569362499, 0.06301077689407278, 0.9359405641095201, 0.9911708484134953, 0.007601003438753798, 0.9959965302562276, 0.9926731753140698, 0.9921135304786715, 0.988695881955132, 0.9977417049279402, 0.9983831726433878, 0.9978977597184433, 0.9984732002430933, 0.9993487678442018, 0.0009093633934084116, 0.20187867333666737, 0.6883880888101676, 0.10730488042219258, 0.12728476736588692, 0.8706278087826665, 0.7411990409942095, 0.006119290328125569, 0.01185612501074329, 0.18243134290724353, 0.04704204439746531, 0.004589467746094177, 0.006884201619141265, 0.9852823707118775, 0.9992398621945306, 0.9967802614238624, 0.9950107658843823, 0.036692545223528585, 0.012230848407842861, 0.20180899872940722, 0.5075802089254787, 0.2415592560548965, 0.998611333495064, 0.0817958528323556, 0.8130012039094738, 0.10410381269572531, 0.995457491156946, 0.9883485494965328, 0.9968990733184017, 0.9866114459180054, 0.9940357530538849, 0.9940674399689254, 0.15102743281849454, 0.027459533239726282, 0.009153177746575427, 0.0022882944366438567, 0.7940381695154183, 0.013729766619863141, 0.011634367264087151, 0.2712261868440317, 0.10616360128479525, 0.5977156181924774, 0.013088663172098045, 0.9984598148807364, 0.9985534930341146, 0.036896237079745604, 0.961146975927373, 0.04470301592654159, 0.9530682995538667, 0.04223023739061488, 0.956514876897427, 0.9966877304779415, 0.012833008339821282, 0.0036092835955747354, 0.2670869860725304, 0.6809515050317667, 0.03569180444512794, 0.22348765356236389, 0.3754200496244972, 0.23998783851104719, 0.16026417262037937, 0.0008168408390437276, 0.9920258752479529, 0.9908984395872841, 0.045776783115832484, 0.8721681835753347, 0.033730261243244984, 0.045776783115832484, 0.9974452128780988, 0.9902935548546071, 0.9934573005538984, 0.9954698167822373, 0.9992257667856557, 0.3969521596940529, 0.15969675742232514, 0.2159170313897941, 0.07863043516767322, 0.1470301445700358, 0.00019487096695829792, 0.0014615322521872344, 0.8741374361435433, 0.025944718424351743, 0.09779163098409503, 0.20835008319211581, 0.3674774592300943, 0.0018230632279310135, 0.16511744092975178, 0.003125251247881737, 0.253666226286401, 0.2254307874573496, 0.7719880527741716, 0.0022478853450163066, 0.9999400680550309, 0.9906897847389677, 0.9971081458872618, 0.04920640240862974, 0.8194372319477932, 0.09238753105293747, 0.0220926704691807, 0.015063184410805022, 0.9965206409656417, 0.9995659324921439, 0.9967976930031255, 0.9998241572864303, 0.0015187982144643788, 0.15643621608983102, 0.1579550143042954, 0.6826997974017383, 0.4156266840095408, 0.02571368686223256, 0.5544805930655966, 0.003740172634506554, 0.016593836782532234, 0.7815697124572683, 0.01908291229991207, 0.18253220460785458, 0.9828821499583903, 0.9969438866607642, 0.9969460677481328, 0.9991897233417475, 0.02530278330205774, 0.9739090906262615, 0.0819416131149452, 0.04803473872255408, 0.8702764427380386, 0.06813016912933781, 0.9317260967417549, 0.1150689904207101, 0.2634941718896192, 0.12454293817404473, 0.21059796360016755, 0.19757128543933244, 0.03671154754417166, 0.04125114750931117, 0.01065819122250145, 0.9956199405154519, 0.008638374971104786, 0.9901737310628861, 0.9953359415250748, 0.995007535304581, 0.0684026188558661, 0.6552250858825068, 0.06240238913166732, 0.16320624849820684, 0.04680179184875049, 0.0024000918896795124, 0.9964623428687406, 0.0330453158452485, 0.9638217121530813, 0.025297383261114817, 0.29171045072973023, 0.2181899306271153, 0.05691911233750834, 0.40633921863165673, 0.036385580112213343, 0.07468619075664844, 0.4940778773132128, 0.000638343510740585, 0.11107177086886179, 0.2770410836614139, 0.005745091596665265, 0.9918553507021608, 0.9989243922651871, 0.921798111787243, 0.07817095658313312, 0.9941530782440172, 0.9994013198473708, 0.9917742484485633, 0.9986469506555913, 0.9994163056375379, 0.9989194070926822, 0.996397024690319, 0.9961686189730784, 0.991127090296894, 0.999540201501905, 0.9992212159567998, 0.9911203529951594, 0.9932807891472671, 0.015181732379283573, 0.002919563919092995, 0.6933964307845863, 0.2881609588144786, 0.9970059039513336, 0.9994481500180565, 0.9996568624866027, 0.983206732419017, 0.9994850868838236, 0.9994772690660273, 0.7239163090717489, 0.2759189210806256, 0.23592826806793987, 0.0008527527761491803, 0.07077848042038197, 0.11284761737707485, 0.26605886615854424, 0.0002842509253830601, 0.31296026884674916, 0.0008527527761491803, 0.9993225917956898, 0.9979214014619667, 0.3046425743083326, 0.46953485729408595, 0.0822828818067522, 0.01665248798469985, 0.0411414409033761, 0.04995746395409955, 0.035590611575142816, 0.9968949786342529, 0.0386004946365071, 0.14699914395820513, 0.05763635500519553, 0.10945619711995849, 0.016920764772167494, 0.6302984877632393, 0.9980199494476519, 0.07411062684987188, 0.09486160236783601, 0.8300390207185651, 0.9962885337162678, 0.9969627504037768, 0.9926864221085814, 0.42769348456046374, 0.04020457391330129, 0.09323302054032799, 0.30638658051170986, 0.12581258905627904, 0.005892049625225189, 0.0006931823088500222, 0.9933801128580285, 0.4684544466420502, 0.14301526525707095, 0.007627480813710451, 0.2593343476661554, 0.10042849738052094, 0.020339948836561202, 0.12808948774486306, 0.1290773244112759, 0.11689400552551771, 0.22753171216375417, 0.19657949661615232, 0.058940921095965264, 0.08791746331074149, 0.05466029554150969, 0.9951300542967643, 0.9693978900578099, 0.9939655587357161, 0.20307109246250207, 0.2575025193081212, 0.22777458618474458, 0.00041870328342783934, 0.00041870328342783934, 0.12896061129577452, 0.014654614919974376, 0.16664390680428004, 0.9795421347583859, 0.15990090842012114, 0.8394797692056359, 0.9927520034561181, 0.9941045233676568, 0.43771040438191977, 0.07999534976635085, 0.00226401933300993, 0.02792290510712247, 0.3079066292893505, 0.1441425642016322, 0.3870965323508482, 0.02992050491600759, 0.014025236679378557, 0.0981766567556499, 0.0018700315572504744, 0.009350157786252372, 0.4357173528393605, 0.024310410244256165, 0.429743122851812, 0.0034594705775190587, 0.0011531568591730196, 0.06380801287424041, 0.37938860666792346, 0.12185024145261573, 0.989169309772697, 0.9918516655432656, 0.9927640005731476, 0.03915641064271743, 0.6265025702834789, 0.3337923530198863, 0.9953034003957654, 0.998132619511711, 0.9855999912273, 0.9966440659507526, 0.9973266753058203, 0.9971975746428404, 0.3542808716097709, 0.35522478156965487, 0.058837054166098725, 0.06544442388528628, 0.007551279679071494, 0.058837054166098725, 0.03807103504865211, 0.061354147392455885, 0.32153569811177535, 0.04391520817441112, 0.01374736951546783, 0.11303392712717994, 0.005728070631444929, 0.42005851297262814, 0.08210234571737732, 0.984176854893655, 0.9914580794619484, 0.9929614701625095, 0.1758447356966561, 0.22060521387398674, 0.6010692783812972, 0.5269187785238306, 0.3263670393509849, 0.011291116682653514, 0.0860275556773601, 0.0064520666758020075, 0.011291116682653514, 0.0032260333379010037, 0.027958955595142033, 0.6867351245972126, 0.2592088460489479, 0.05161734596645716, 0.0011221162166621121, 0.9914540509209113, 0.9954324964391786, 0.9933872878872786, 0.8812296037389032, 0.0008812296037389032, 0.11808476690101302, 0.024867585216329313, 0.2033093115659356, 0.26194976589363106, 0.0692259804670789, 0.001008145346607945, 0.0336048448869315, 0.12064139314408409, 0.06200093881638862, 0.22364024272252916, 0.9807844251362793, 0.9891511833924568, 0.9907045957878712, 0.9140420349445275, 0.08615108835109339, 0.9959863547840229, 0.9974391304947722, 0.9934131979666734, 0.9924666815997725, 0.9890319152075574, 0.984563693751877, 0.9937126932545284, 0.9892059380100999, 0.11157514512854237, 0.1432808805121412, 0.05421438722081018, 0.010891283147037759, 0.07381869688547814, 0.6062814285184353, 0.9926078243232362, 0.999793891153659, 0.9604289266934455, 0.010155592880444287, 0.027565180675491636, 0.9496205688772137, 0.049118305286752435, 0.21034727432866793, 0.15324196280914992, 0.27068761581111433, 0.233062810807491, 0.08945561114880161, 0.04212571625639321, 0.0002109802149735887, 0.0009142475982188843, 0.05859681996616301, 0.9409505179790715, 0.0003092180473148444, 0.9965623240727783, 0.7033713398373642, 0.2965565649044022, 0.9995187207183452, 0.15887708317567362, 0.7280296380566441, 0.010884859453405836, 0.002093242202578045, 0.014234046977530708, 0.007744996149538767, 0.07786860993590328, 0.975020411112185, 0.9961752399681711, 0.9889461398652138, 0.9998378851360916, 0.9987491395290735, 0.9941116030397296, 0.08391139407684359, 0.7710348851966571, 0.01266587080405186, 0.13246389882570905, 0.10658353526179302, 0.8922564523344388, 0.3891655615456223, 0.16347393494392912, 0.10938927487541526, 0.337114159374421, 0.00040665157946251026, 0.9916839522110652, 0.9992095983312921, 0.994833953957704, 0.9917603539189671, 0.9957749260201136, 0.9972638485642265, 0.9949270760647765, 0.8861175553618104, 0.11209920881083142, 0.9958367426992798, 0.8214339987796468, 0.0022808560061315067, 0.014662645753702542, 0.07526824820233971, 0.08439167222686574, 0.0019550194338270057, 0.9915984643512695, 0.9948589795809618, 0.997138946801328, 0.9972721456486063, 0.005277479079601098, 0.009499462343281976, 0.1709903221790756, 0.7578459958307177, 0.05488578242785142, 0.09936737973340296, 0.020457989945112373, 0.879693567639832, 0.9930170603098036, 0.998095895737093, 0.9979238333769538, 0.9945029997900939, 0.9908886757049733, 0.1731332066759298, 0.476060179186733, 0.2941692616672737, 0.002919236947843174, 0.029866039543318627, 0.023578452271041023, 0.2527025512587059, 0.5031577478125419, 0.030963553711541036, 0.11286714740013346, 0.0009988243132755172, 0.0019976486265510345, 0.07491182349566379, 0.02247354704869914, 0.10694740490672236, 0.8912283742226863, 0.11985463362061818, 0.03866278503890909, 0.8409155745962728, 0.9981955820526218, 0.9972335768051229, 0.1802305566942221, 0.7305345231339136, 0.0004450137202326472, 0.00035601097618611775, 0.04628142690419531, 0.024386751868749067, 0.01780054880930589, 0.3481892614756672, 0.5969744777999982, 0.0001834022973271884, 9.17011486635942e-05, 0.041173815749953796, 0.013021563110230377, 0.0003668045946543768, 0.17281946752510025, 0.8251843449377304, 0.9928324459283958, 0.998334795451868, 0.995150359916847, 0.997438133405037, 0.9779655679118985, 0.99439440697778, 0.9992589888844151, 0.04781685779762567, 0.0065555369561261, 0.054758014574700364, 0.8699583160600283, 0.020823470331224083, 0.1857518471293947, 0.8137699969478243, 0.08350741144051779, 0.9154499979166763, 0.1823369377453117, 0.19476900168249203, 0.3567046037360206, 0.004462792182577559, 0.0031877087018411135, 0.17851168730310235, 0.00031877087018411136, 0.07969271754602784, 0.8514475802360835, 0.14487317036852762, 0.026902667354963987, 0.9684960247787034, 0.01858238394416622, 0.980220753054768, 0.011332671561293169, 0.7766213158180318, 0.03333138694497991, 0.016665693472489956, 0.14065845290781523, 0.0019998832166987944, 0.019332204428088348, 0.021274022957342088, 0.7658648264643152, 0.20970108343665775, 0.0030391461367631554, 0.6115395324354763, 0.38815528529327026, 0.2254279697087649, 0.17562411593589825, 0.276899895139096, 0.10961613749051995, 0.012629685406516428, 0.03312313719822233, 0.051233629479264756, 0.11509694436504594, 0.0023212517202487975, 0.0007737505734162658, 0.18415263647307126, 0.8054743469263327, 0.006190004587330126, 0.994977365314888, 0.9954041140435848, 0.005043970622157636, 0.3174338844877872, 0.6409205337221636, 0.013450588325753696, 0.023538529570068967, 0.9991943320636234, 0.9962167569146259, 0.9026323916158492, 0.09527786355945074, 0.9874775888112218, 0.9804967414051139, 0.013681349880071357, 0.9994261471816286, 0.20860891923978694, 0.5582948237747735, 0.01711425723253241, 0.02544011210241304, 0.002312737463855731, 0.09898516345302528, 0.08927166610483123, 0.9965127690734084, 0.1677277623152789, 0.10236580957798463, 0.1404071577319654, 0.2711310632065539, 0.15285705349145004, 0.0847284572520481, 0.048762091724648085, 0.03181640027423847, 0.9962691568118008, 0.24366799887899523, 0.755010696033931, 0.08797051484711313, 0.8406071418724144, 0.027067850722188657, 0.043609315052415054, 0.7975523918244831, 0.0011312799884035222, 0.004525119953614089, 0.013575359860842266, 0.0011312799884035222, 0.08937111908387825, 0.09163367906068529, 0.44170163444438587, 0.054297576609876164, 0.4880681043584374, 0.015252128261201169, 0.10360761079675901, 0.15472375506153171, 0.21959312199844055, 0.19953633893490866, 0.24629729602017159, 0.030027869500830598, 0.022348986842221245, 0.023724309109434863, 0.04094626881659795, 0.03295675294994469, 0.9257851510484463, 0.9947485770391334, 0.27560625892191404, 0.7234664296700244, 0.9936716111130012, 0.9883310634116688, 0.9946383692213998, 0.9982607316555655, 0.9965748108128163, 0.9994544361544407, 0.8808166895093821, 0.0375235809432248, 0.0059247759384039155, 0.0750471618864496, 0.9968836770089696, 0.9940831378626519, 0.99201384224206, 0.995074200299489, 0.9956976520805467, 0.9916193738364517, 0.3464412824973638, 0.5659408289723566, 0.027321281398665492, 0.02583440894159526, 0.010036389085224058, 0.01468286551356853, 0.005761630771147145, 0.004274758314076914, 0.9952331995647433, 0.9850453405142909, 0.9949199721703784, 0.9931628424954075, 0.965430985816025, 0.032885727010764844, 0.9917768887968541, 0.0069598378161182745, 0.029401429038927764, 0.9684095689696832, 0.9792966345949713, 0.9928406387558633, 0.9837934614155834, 0.08576802490106032, 0.908361354633957, 0.9768243892006448, 0.02128157710676786, 0.9995986658660915, 0.9990703278889319, 0.994379219882138, 0.9937346607822831, 0.9969264870190789, 0.029482026867808205, 0.9221322848097788, 0.033576752821670455, 0.013922068243131653, 0.23370921958132754, 0.7650193878381585, 0.993905370903382, 0.08772089324477812, 0.04631663163324285, 0.3019937951440228, 0.2430453548835319, 0.14643541112328295, 0.07228201603369717, 0.0458487868692707, 0.056375294058644075, 0.12047867460716837, 0.8781556726922495, 0.9981177391848371, 0.9971902887324288, 0.20189715668138986, 0.035533899575924614, 0.489398707795689, 0.09637224278925009, 0.05383924178170396, 0.07052940673403219, 0.008614278685072634, 0.043609785843180204, 0.004499322475829648, 0.20246951141233416, 0.6353043335871463, 0.06074085342370025, 0.05174220847204095, 0.04499322475829648, 0.9631590643551619, 0.007756985753195934, 0.028442281095051758, 0.9904557515423172, 0.9971650183110751, 0.9973598381754031, 0.99395334293901, 0.9902028613794029, 0.009003058774262891, 0.10203466610831277, 0.13054435222681193, 0.05551886244128783, 0.7022385843925055, 0.18416130371268513, 0.5448277670511235, 0.013863828481741464, 0.013656905668581144, 0.0670429914639438, 0.07883759181408205, 0.09766756781167121, 0.11805035749103923, 0.6621391693303365, 0.0003523891268389231, 0.08175427742663015, 0.005285836902583846, 0.022552904117691078, 0.0655443775920397, 0.04440102998170431, 0.18404669272002405, 0.04258931732364193, 0.390909091149142, 0.0704751798569789, 0.12523287355880425, 0.07706638372849492, 0.06033486620849273, 0.04918052119515794, 0.9861930163824046, 0.9886773810815455, 0.9984366002583296, 0.7191291743401287, 0.027424417665513384, 0.09750904058849202, 0.08176539341014175, 0.07363964002776742, 0.9768667058481557, 0.9986053169390047, 0.9469395069844103, 0.03351602785456856, 0.01921585596995264, 0.9158573577428015, 0.08319283072744098, 0.9989390168786431, 0.03441932613613149, 0.07678157368829333, 0.8578355129312771, 0.026476404720101147, 0.9938713041028544, 0.9988906909087836, 0.011362950355250439, 0.002272590071050088, 0.05681475177625219, 0.5514818572414879, 0.3780074818179979, 0.9946177287106777, 0.9972408263023725, 0.992518219637147, 0.05350296280005294, 0.945219009467602, 0.9961709056151933, 0.9955188569793879, 0.0029525159413353996, 0.0007381289853338499, 0.04724025506136639, 0.23546314632149812, 0.7137707288178329, 0.01725589525069127, 0.02838873089629854, 0.10130880437502617, 0.40690514284694573, 0.44642670938885154, 0.9946170325624925, 0.473919455816382, 0.052169580883611, 0.453600776945923, 0.01976952538747364, 0.6270003834700569, 0.3723097515121622, 0.10444202792117084, 0.008442918424765307, 0.6888796033243694, 0.011882625931151173, 0.15603764051695881, 0.0012508027295948603, 0.018136639579125476, 0.010631823201556314, 0.00923043955921382, 0.05845945054168752, 0.9107367031757634, 0.021537692304832243, 0.0015793184122767615, 0.4382608594068013, 0.5496028074723129, 0.002368977618415142, 0.007896592061383807, 0.6540088145800927, 0.3455540900374558, 0.0016660312081306422, 0.43316811411396694, 0.5647845795562877, 0.08213507180612209, 0.047455819265759425, 0.8706317611448942, 0.1924319325786287, 0.31694671248244727, 0.013255760061530925, 0.20285781127870922, 0.174558997664205, 0.029341401484512274, 0.05689550947758217, 0.013553642310104653, 0.9933010562087833, 0.9946154342744628, 0.9923865827276098, 0.9920797695022465, 0.9887790451344758, 0.007324289223218339, 0.989893306268013, 0.9950433081319267, 0.9944795550737466, 0.8242827814798824, 0.17391460883971147, 0.2687523736927597, 0.11060193840432805, 0.1137029273315522, 0.07442373425337963, 0.028942563320758743, 0.4031285605391396, 0.05949183507407529, 0.7504083742298132, 0.1095190600227295, 0.07977314248569185, 0.007144387655741923, 0.11536863029272142, 0.1899877902526926, 0.673689295241442, 0.00026460695021266384, 0.013494954460845855, 0.0611967128379374, 0.09325213384828555, 0.020398904279312468, 0.7722442334311148, 0.052454325289660625, 0.9534971163056769, 0.04540462458598461, 0.9922318564500865, 0.007479134596357436, 0.09910960507888805, 0.3254288565233987, 0.2270787120198278, 0.29846800609963986, 0.04974466768327331, 0.14829347407241403, 0.08455329662023607, 0.00043360664933454393, 0.35165499261031513, 0.005203279792014528, 0.25669513640605, 0.153063147215094, 0.8728776384550688, 0.12623920175563316, 0.0012749335911773278, 0.9460007246535772, 0.0229488046411919, 0.02932347259707854, 0.9958068999089522, 0.9899404958719261, 0.26867913608248756, 0.724265497265836, 0.10755921090961806, 0.1756800444857095, 0.12369309254606078, 0.2782198255528787, 0.1803409436251263, 0.04768458350326401, 0.06561111865486702, 0.020794780775859494, 0.004241660159067368, 0.14103520028899, 0.029161413593588155, 0.8244726934187196, 0.000530207519883421, 0.29478744024233133, 0.4079472035372954, 0.09170767546653485, 0.0016089065871321905, 0.09653439522793143, 0.06471379828242811, 0.04272540825828817, 0.5170716447699967, 0.4798052199217086, 0.004792913580263273, 0.9873401975342343, 0.004792913580263273, 0.9963935869273672, 0.25520686754051053, 0.6138357601193037, 0.13095162882545147, 0.9939594670760821, 0.9941252028833546, 0.9961392656014361, 0.9963195964931808, 0.99354822549584, 0.9856161016503943, 0.991931957039882, 0.9927487692624095, 0.16283132456249463, 0.8364530282504912, 0.9968475052092574, 0.9979884788134721, 0.587657099554526, 0.03013626151561672, 0.08203760079251218, 0.22044117219756673, 0.049669023609072, 0.030694340432572582, 0.9991067063772119, 0.9967195407765381, 0.9979837045647725, 0.05286228780040373, 0.9458573638572239, 0.9996054790865339, 0.9973400227630251, 0.10043807605080202, 0.006377020701638223, 0.8417667326162455, 0.051016165613105784, 0.9938870895028395, 0.9946478296151016, 0.994370175298899, 0.9957460532406645, 0.9963749803419713, 0.9861716319392962, 0.08043704556796177, 0.04136762343495177, 0.029876616925242943, 0.8457380791145696, 0.000640820813061389, 0.14931124944330362, 0.04998402341878834, 0.7997443747006134, 0.03928016576429298, 0.0110475466212074, 0.05769274346630531, 0.8911687607773969, 0.032587463582649516, 0.00766763849003518, 0.021086005847596744, 0.07284256565533422, 0.03450437320515831, 0.06709183678780782, 0.7610131201359916, 0.997037072974794, 0.0033212919079541213, 0.9930662804782823, 0.9980670422306287, 0.9957690542452423, 0.10257927235958351, 0.8103762516407098, 0.08499425424079778, 0.9978953602683828, 0.9941189298420052, 0.9969637868761423, 0.9973827099004148, 0.9976660474868524, 0.9990449083053924, 0.9899410799419364, 0.997946141503599, 0.058341362383841223, 0.8687789833245921, 0.0722925577364989, 0.9994043603511759, 0.022699873282248973, 0.971554576480256, 0.007600817547598154, 0.1927843723436259, 0.7994678093246421, 0.024259025141997924, 0.9733933838226667, 0.9616551313512643, 0.03731796032109384, 0.9993396929110997, 0.2753987519825668, 0.0003506031215564186, 0.08169052732264553, 0.1262171237603107, 0.46402323137992, 0.01262171237603107, 0.0396181527358753, 0.529582041436875, 0.04141450571236686, 0.04498472172205366, 0.311084821644043, 0.019517180852954497, 0.053077211344010396, 0.9893775960667044, 0.005047844877891349, 0.14762886938371983, 0.011482245396511543, 0.8398442347162729, 0.06540938850434774, 0.3968095155852495, 0.02611910735497845, 0.40730180657400156, 0.0021207822211307286, 0.07076715411562537, 0.031365252849354465, 0.1760340615421187, 0.6960721159749252, 0.08280484906059439, 0.00314697763650715, 0.026945996012592472, 0.007867444091267875, 0.00019668610228169687, 0.006884013579859391, 0.9971007141156472, 0.9968248107751043, 0.8919235827757752, 0.08942769431524923, 0.01882688301373668, 0.003465995916408503, 0.930619903555683, 0.06412092445355731, 0.9985154052362633, 0.9931300218952339, 0.33445383959150937, 0.10245020369983027, 0.10678672025855324, 0.34692132469783793, 0.04390723015707011, 0.06450568381100424, 0.0010841291396807434, 0.07007836705186321, 0.25439640788656914, 0.2453595381694189, 0.05814287874619308, 0.040580660239278456, 0.008525348789764381, 0.2913964216341466, 0.031714297497923497, 0.009306284616393887, 0.0046531423081969435, 0.25475954137378265, 0.4397219481246112, 0.08084834760492189, 0.1785643360770577, 0.03140871058032937, 0.9927510927616141, 0.9326166698535986, 0.0658913951526999, 0.9549343848329057, 0.022180627520568715, 0.021013226072117728, 0.9663312546459746, 0.028666286022990633, 0.004623594519837199, 0.04465865532619185, 0.14095388087329302, 0.025120493620982915, 0.02372491064203942, 0.7619883065031484, 0.0027911659578869906, 0.11410792812634675, 0.12575159426168825, 0.7498520991159929, 0.009314932908273203, 0.9918141509272826, 0.032733704145296215, 0.9433258376417182, 0.020830539001552136, 0.9958460912655828, 0.9926867161297414, 0.5546874176506847, 0.40707064081920874, 0.0286237517401754, 0.007973759413334575, 0.00143118758700877, 0.2601183296782039, 0.7339052873063611, 0.11938051130482084, 0.6873648073265151, 0.19278840334940014, 0.0007414938590361544, 0.8624984728207284, 0.1361410632902284, 0.9364606429069948, 0.0634019146928706, 0.998743213627531, 0.010198826462453089, 0.020397652924906178, 0.9688885139330435, 0.9954857087362011, 0.9981829360798679, 0.9966477509023997, 0.9728498799137841, 0.9967508859364637, 0.995696824383049, 0.9915522137157471, 0.1543532913052989, 0.8437979924689673, 0.007403606286957974, 0.190025894698588, 0.7995894789914612, 0.12987058065597837, 0.2783809326385558, 0.015195465755379684, 0.24110138998535766, 0.1489155644027209, 0.06503659343302505, 0.0563245263999407, 0.06523919964309678, 0.991226838264312, 0.9995667384731276, 0.9930750146093282, 0.16573714452350027, 0.18303145525638725, 0.08863334250604579, 0.04972114335705008, 0.19384039946444162, 0.008647155366443492, 0.3098564006308918, 0.9997088695453479, 0.9827651855641459, 0.9979158937295556, 0.16470837044234315, 0.16702820664575646, 0.2312103416068573, 0.18893777078910412, 0.13403498064165642, 0.06521317327372898, 0.04098377292696802, 0.007732787344710947, 0.07650684872227131, 0.0950395636301507, 0.2045726607138994, 0.3005626199803516, 0.2157398094404421, 0.03017506145257285, 0.07318046399521605, 0.004514379272432158, 0.030231791858848164, 0.3656607205784492, 0.021594137042034403, 0.09933303039335825, 0.48226906060543495, 0.2089656603120686, 0.2324226751455182, 0.03964565887343594, 0.282805699963843, 0.14602817685048905, 0.027917151456711142, 0.04988745408240689, 0.012389268397948731, 0.10938295748807539, 0.888322200206188, 0.0320638291034055, 0.06212366888784816, 0.9058031721712054, 0.9754549935843206, 0.986215222031062, 0.9394698509389686, 0.05871686568368554, 0.9956477772094959, 0.10169345141287606, 0.005149035514576003, 0.8920704029002925, 0.9878438242549575, 0.995080072750347, 0.9954167032588568, 0.9367673894084304, 0.061478616212566624, 0.9959285443824734, 0.995368852888291, 0.2640551677391293, 0.7171675857530198, 0.01874947936609202, 0.062174146906813985, 0.8978678273895784, 0.038401678971855695, 0.00029499141593845656, 0.1876145405368584, 0.733348660023003, 0.07315787115273722, 0.005309845486892218, 0.24825633469398556, 0.23205618586915758, 0.21957769285543874, 0.062392465068594256, 0.022986697656850515, 0.07508987901237835, 0.08559808365551001, 0.05407346972611502, 0.993974629976492, 0.99776956192923, 0.9950713908388641, 0.9949115226238022], \"Term\": [\"ablation\", \"abstractive\", \"abusive\", \"academic\", \"acoustic\", \"adapters\", \"adversarial\", \"adversarial\", \"adversarial\", \"affective\", \"agent\", \"agent\", \"agents\", \"aggregation\", \"al\", \"alignment\", \"alignment\", \"alleviate\", \"also\", \"also\", \"also\", \"also\", \"also\", \"also\", \"also\", \"also\", \"amr\", \"analysis\", \"analysis\", \"analysis\", \"analysis\", \"analysis\", \"analysis\", \"analysis\", \"analysis\", \"annotated\", \"annotated\", \"annotated\", \"annotated\", \"annotated\", \"annotated\", \"annotation\", \"annotation\", \"annotation\", \"annotation\", \"annotation\", \"answer\", \"answering\", \"answers\", \"application\", \"application\", \"application\", \"application\", \"application\", \"application\", \"application\", \"application\", \"applications\", \"applications\", \"applications\", \"applications\", \"applications\", \"applications\", \"applications\", \"applications\", \"applications\", \"approach\", \"approach\", \"approach\", \"approach\", \"approach\", \"approach\", \"approach\", \"approach\", \"argument\", \"argument\", \"argument\", \"argumentation\", \"article\", \"article\", \"article\", \"article\", \"article\", \"articles\", \"articles\", \"articles\", \"articles\", \"articles\", \"artifacts\", \"asr\", \"attack\", \"attacks\", \"attention\", \"attention\", \"attention\", \"attention\", \"attention\", \"attention\", \"attention\", \"attention\", \"au\", \"audio\", \"audio\", \"augmentation\", \"automatic\", \"automatic\", \"automatic\", \"automatic\", \"automatic\", \"available\", \"available\", \"available\", \"available\", \"available\", \"available\", \"based\", \"based\", \"based\", \"based\", \"based\", \"based\", \"based\", \"based\", \"beam\", \"benchmark\", \"benchmark\", \"benchmark\", \"benchmark\", \"bert\", \"bert\", \"bert\", \"bert\", \"best\", \"best\", \"best\", \"best\", \"best\", \"best\", \"bilingual\", \"bilingual\", \"bleu\", \"bleu\", \"bridge\", \"calibration\", \"campaign\", \"captions\", \"causal\", \"ce\", \"ces\", \"cet\", \"cette\", \"chinese\", \"chinese\", \"chinese\", \"chinese\", \"claims\", \"claims\", \"classification\", \"classification\", \"classification\", \"classification\", \"classification\", \"classification\", \"classification\", \"clients\", \"clinical\", \"clip\", \"cnn\", \"cognitive\", \"cognitive\", \"cognitive\", \"cognitive\", \"cognitive\", \"commonsense\", \"community\", \"community\", \"community\", \"compositional\", \"compounds\", \"compression\", \"condescending\", \"conditioned\", \"constituency\", \"constraints\", \"constraints\", \"constraints\", \"constraints\", \"constraints\", \"constraints\", \"content\", \"content\", \"content\", \"content\", \"content\", \"contextualized\", \"contrastive\", \"conversation\", \"conversation\", \"conversational\", \"conversational\", \"conversations\", \"conversations\", \"convolutional\", \"corpora\", \"corpora\", \"corpora\", \"corpora\", \"corpora\", \"corpus\", \"corpus\", \"corpus\", \"corpus\", \"corpus\", \"costs\", \"counterfactual\", \"creation\", \"creation\", \"creation\", \"creation\", \"cultural\", \"curriculum\", \"customer\", \"da\", \"dans\", \"data\", \"data\", \"data\", \"data\", \"data\", \"data\", \"data\", \"database\", \"database\", \"database\", \"dataset\", \"dataset\", \"dataset\", \"dataset\", \"dataset\", \"dataset\", \"datasets\", \"datasets\", \"datasets\", \"de\", \"debiasing\", \"decoding\", \"deep\", \"deep\", \"deep\", \"deep\", \"deep\", \"dense\", \"dependency\", \"depression\", \"des\", \"describes\", \"describes\", \"describes\", \"describes\", \"detection\", \"detection\", \"detection\", \"detection\", \"development\", \"development\", \"development\", \"development\", \"devised\", \"dialect\", \"dialects\", \"dialog\", \"dialogue\", \"dialogue\", \"dialogues\", \"dialogues\", \"dialogues\", \"dictionary\", \"dictionary\", \"different\", \"different\", \"different\", \"different\", \"different\", \"different\", \"different\", \"different\", \"digital\", \"discourse\", \"discourse\", \"discrete\", \"discriminative\", \"discuss\", \"discuss\", \"discuss\", \"discuss\", \"discuss\", \"discuss\", \"distillation\", \"distributional\", \"distributional\", \"document\", \"document\", \"document\", \"document\", \"document\", \"documents\", \"documents\", \"documents\", \"documents\", \"documents\", \"documents\", \"documents\", \"dominant\", \"donn\", \"downstream\", \"downstream\", \"drop\", \"du\", \"ed\", \"embedding\", \"embeddings\", \"emotion\", \"emotional\", \"emotions\", \"empathetic\", \"en\", \"encoder\", \"encoders\", \"endangered\", \"english\", \"english\", \"english\", \"english\", \"entailment\", \"entities\", \"entity\", \"entropy\", \"es\", \"est\", \"et\", \"et\", \"evaluation\", \"evaluation\", \"evaluation\", \"evaluation\", \"evaluation\", \"evaluation\", \"evaluation\", \"evaluation\", \"event\", \"events\", \"experiments\", \"experiments\", \"experiments\", \"experiments\", \"experiments\", \"experiments\", \"experiments\", \"explanations\", \"extraction\", \"extraction\", \"extraction\", \"extraction\", \"extraction\", \"extraction\", \"extractive\", \"facts\", \"facts\", \"facts\", \"factual\", \"fake\", \"families\", \"features\", \"features\", \"features\", \"features\", \"features\", \"features\", \"features\", \"filling\", \"find\", \"find\", \"find\", \"find\", \"find\", \"find\", \"first\", \"first\", \"first\", \"first\", \"first\", \"first\", \"first\", \"first\", \"forgetting\", \"formulating\", \"framenet\", \"framework\", \"framework\", \"framework\", \"framework\", \"framework\", \"framework\", \"framework\", \"framework\", \"gaining\", \"gender\", \"gender\", \"gendered\", \"generalizability\", \"generate\", \"generate\", \"generate\", \"generate\", \"generate\", \"generate\", \"generated\", \"generated\", \"generated\", \"generated\", \"generated\", \"generated\", \"generated\", \"generated\", \"generation\", \"generation\", \"generation\", \"generation\", \"generation\", \"generation\", \"genuine\", \"glue\", \"gradient\", \"graph\", \"graph\", \"graph\", \"grounding\", \"hate\", \"headline\", \"heads\", \"health\", \"hindi\", \"however\", \"however\", \"however\", \"however\", \"however\", \"however\", \"however\", \"however\", \"human\", \"human\", \"human\", \"human\", \"human\", \"human\", \"human\", \"humor\", \"identity\", \"ie\", \"image\", \"image\", \"image\", \"improve\", \"improve\", \"improve\", \"improve\", \"improve\", \"improve\", \"improve\", \"improve\", \"improvements\", \"improvements\", \"improvements\", \"improvements\", \"induce\", \"induction\", \"inductive\", \"inference\", \"inference\", \"inference\", \"information\", \"information\", \"information\", \"information\", \"information\", \"information\", \"information\", \"information\", \"information\", \"inject\", \"intensity\", \"intents\", \"interface\", \"interface\", \"iteratively\", \"jointly\", \"judgments\", \"kb\", \"kbs\", \"keyword\", \"kg\", \"kgs\", \"knowledge\", \"knowledge\", \"knowledge\", \"knowledge\", \"knowledge\", \"knowledge\", \"korean\", \"la\", \"label\", \"label\", \"label\", \"labeled\", \"labeled\", \"language\", \"language\", \"language\", \"language\", \"language\", \"language\", \"language\", \"language\", \"languages\", \"languages\", \"languages\", \"latency\", \"latent\", \"latent\", \"le\", \"learning\", \"learning\", \"learning\", \"learning\", \"learning\", \"learning\", \"learning\", \"lecture\", \"legal\", \"lengths\", \"les\", \"leverage\", \"leverages\", \"lexical\", \"lexical\", \"lexical\", \"lexical\", \"lexicon\", \"lexicon\", \"linguistic\", \"linguistic\", \"linguistic\", \"linguistic\", \"linguistic\", \"literary\", \"lm\", \"lms\", \"localization\", \"logic\", \"logical\", \"logistic\", \"loss\", \"loss\", \"lstm\", \"machine\", \"machine\", \"machine\", \"machine\", \"machine\", \"machine\", \"macro\", \"margin\", \"masked\", \"mbert\", \"meaning\", \"meaning\", \"meaning\", \"meaning\", \"meaning\", \"media\", \"media\", \"media\", \"memes\", \"mentions\", \"metadata\", \"metaphor\", \"metaphors\", \"method\", \"method\", \"method\", \"method\", \"method\", \"method\", \"methods\", \"methods\", \"methods\", \"methods\", \"methods\", \"methods\", \"methods\", \"methods\", \"metric\", \"metric\", \"metrics\", \"metrics\", \"metrics\", \"mod\", \"modalities\", \"model\", \"model\", \"model\", \"model\", \"model\", \"model\", \"model\", \"models\", \"models\", \"models\", \"models\", \"models\", \"models\", \"models\", \"monolingual\", \"monolingual\", \"moral\", \"morphological\", \"morphologically\", \"morphology\", \"motion\", \"movie\", \"mt\", \"multilingual\", \"multilingual\", \"multilingual\", \"multilingual\", \"multilingual\", \"multimodal\", \"multimodal\", \"named\", \"named\", \"natural\", \"natural\", \"natural\", \"natural\", \"natural\", \"natural\", \"natural\", \"natural\", \"ne\", \"ne\", \"negation\", \"negation\", \"ner\", \"ner\", \"network\", \"network\", \"network\", \"network\", \"network\", \"network\", \"network\", \"networks\", \"networks\", \"networks\", \"networks\", \"neural\", \"neural\", \"new\", \"new\", \"new\", \"new\", \"new\", \"new\", \"new\", \"new\", \"news\", \"news\", \"news\", \"news\", \"news\", \"nlg\", \"nli\", \"nlp\", \"nlp\", \"nlp\", \"nlp\", \"nlp\", \"nmt\", \"nodes\", \"noise\", \"noise\", \"norms\", \"nouns\", \"nouns\", \"nous\", \"novel\", \"novel\", \"novel\", \"novel\", \"novel\", \"novel\", \"novel\", \"offensive\", \"one\", \"one\", \"one\", \"one\", \"one\", \"one\", \"one\", \"one\", \"ood\", \"outperform\", \"outperform\", \"outperforms\", \"outperforms\", \"outperforms\", \"outperforms\", \"output\", \"output\", \"output\", \"output\", \"output\", \"output\", \"output\", \"pairs\", \"pairs\", \"pairs\", \"pairs\", \"paper\", \"paper\", \"paper\", \"paper\", \"paper\", \"paper\", \"paper\", \"paper\", \"par\", \"par\", \"par\", \"paragraphs\", \"parallel\", \"parallel\", \"paraphrase\", \"paraphrasing\", \"parse\", \"parser\", \"parsers\", \"parsing\", \"participants\", \"participants\", \"participants\", \"participants\", \"participated\", \"participating\", \"paths\", \"patient\", \"patients\", \"pcl\", \"performance\", \"performance\", \"performance\", \"performance\", \"performance\", \"performance\", \"performance\", \"performance\", \"personality\", \"personalized\", \"perturbation\", \"perturbations\", \"platform\", \"platform\", \"plms\", \"plms\", \"plus\", \"plus\", \"pointer\", \"polarity\", \"policies\", \"political\", \"political\", \"pos\", \"pos\", \"pour\", \"pr\", \"practices\", \"practitioners\", \"predicted\", \"prediction\", \"prediction\", \"prediction\", \"prediction\", \"predictions\", \"predictions\", \"premise\", \"present\", \"present\", \"present\", \"present\", \"present\", \"present\", \"present\", \"present\", \"pretrained\", \"pretrained\", \"privacy\", \"probing\", \"process\", \"process\", \"process\", \"process\", \"process\", \"process\", \"process\", \"process\", \"processing\", \"processing\", \"processing\", \"processing\", \"processing\", \"processing\", \"project\", \"project\", \"project\", \"projects\", \"prompt\", \"prompts\", \"prone\", \"propaganda\", \"properties\", \"properties\", \"properties\", \"properties\", \"properties\", \"propose\", \"propose\", \"propose\", \"propose\", \"propose\", \"propose\", \"propose\", \"proposed\", \"proposed\", \"proposed\", \"proposed\", \"proposed\", \"proposed\", \"proposed\", \"proposed\", \"provide\", \"provide\", \"provide\", \"provide\", \"provide\", \"provide\", \"provide\", \"provide\", \"pruning\", \"pseudo\", \"qa\", \"quality\", \"quality\", \"quality\", \"quality\", \"quality\", \"quantifier\", \"que\", \"question\", \"question\", \"question\", \"questions\", \"questions\", \"qui\", \"ranked\", \"ranked\", \"ranked\", \"ranked\", \"ratings\", \"reasoning\", \"recognition\", \"recognition\", \"recognition\", \"recognition\", \"recognition\", \"recommendation\", \"recurrent\", \"reddit\", \"regression\", \"regression\", \"regularization\", \"reinforcement\", \"relation\", \"relation\", \"relation\", \"relation\", \"relation\", \"relations\", \"relations\", \"relations\", \"relations\", \"relations\", \"replacing\", \"representation\", \"representation\", \"representation\", \"representation\", \"representations\", \"representations\", \"research\", \"research\", \"research\", \"research\", \"research\", \"research\", \"research\", \"research\", \"researchers\", \"researchers\", \"researchers\", \"researchers\", \"resource\", \"resource\", \"resource\", \"resource\", \"resource\", \"resources\", \"resources\", \"response\", \"response\", \"response\", \"responses\", \"responses\", \"responses\", \"results\", \"results\", \"results\", \"results\", \"results\", \"results\", \"results\", \"results\", \"risk\", \"rl\", \"rouge\", \"rst\", \"russian\", \"russian\", \"sampled\", \"sarcasm\", \"sarcastic\", \"scientific\", \"scientific\", \"scores\", \"scores\", \"scores\", \"scores\", \"scores\", \"scores\", \"segmentation\", \"segmentation\", \"segmentation\", \"segmentation\", \"semantic\", \"semantic\", \"semantic\", \"semantic\", \"semantic\", \"semantic\", \"semantics\", \"semantics\", \"semantics\", \"semantics\", \"semantics\", \"sense\", \"sense\", \"senses\", \"senses\", \"sentence\", \"sentence\", \"sentence\", \"sentence\", \"sentence\", \"sentences\", \"sentences\", \"sentences\", \"sentences\", \"sentences\", \"sentences\", \"sentences\", \"sentiment\", \"sentiment\", \"sequence\", \"sequence\", \"sequence\", \"sequence\", \"services\", \"session\", \"sessions\", \"sessions\", \"set\", \"set\", \"set\", \"set\", \"set\", \"set\", \"set\", \"set\", \"shared\", \"shared\", \"shared\", \"shared\", \"shared\", \"show\", \"show\", \"show\", \"show\", \"show\", \"show\", \"show\", \"si\", \"si\", \"sign\", \"sign\", \"sign\", \"signals\", \"similarity\", \"similarity\", \"similarity\", \"simplification\", \"simultaneous\", \"sizes\", \"slot\", \"slots\", \"slu\", \"smoothing\", \"smt\", \"social\", \"social\", \"software\", \"sont\", \"source\", \"source\", \"source\", \"source\", \"source\", \"source\", \"span\", \"spatial\", \"speaker\", \"speakers\", \"speakers\", \"speech\", \"spelling\", \"spoken\", \"spoken\", \"spoken\", \"spoken\", \"srl\", \"st\", \"stance\", \"stories\", \"story\", \"stream\", \"structural\", \"structural\", \"structural\", \"structural\", \"structure\", \"structure\", \"structure\", \"structure\", \"structures\", \"structures\", \"structures\", \"structures\", \"style\", \"style\", \"style\", \"style\", \"style\", \"style\", \"style\", \"submission\", \"submissions\", \"submissions\", \"submitted\", \"substitution\", \"subtask\", \"subtask\", \"subtask\", \"subtasks\", \"subword\", \"suffer\", \"sultats\", \"summaries\", \"summarization\", \"summarize\", \"summary\", \"supervised\", \"supervised\", \"supervised\", \"sur\", \"survey\", \"survey\", \"syntactic\", \"syntactic\", \"syntactic\", \"syntax\", \"syntax\", \"synthetic\", \"synthetic\", \"syst\", \"system\", \"system\", \"system\", \"system\", \"system\", \"system\", \"system\", \"systems\", \"systems\", \"systems\", \"systems\", \"systems\", \"systems\", \"tagger\", \"tagger\", \"tagging\", \"tagging\", \"tagging\", \"task\", \"task\", \"task\", \"task\", \"task\", \"task\", \"task\", \"tasks\", \"tasks\", \"tasks\", \"tasks\", \"tasks\", \"tasks\", \"tasks\", \"tasks\", \"team\", \"teams\", \"technologies\", \"technologies\", \"technologies\", \"technology\", \"technology\", \"technology\", \"temporal\", \"terminology\", \"test\", \"test\", \"test\", \"test\", \"test\", \"test\", \"test\", \"text\", \"text\", \"text\", \"text\", \"text\", \"text\", \"text\", \"text\", \"texts\", \"texts\", \"texts\", \"texts\", \"texts\", \"texts\", \"texts\", \"title\", \"token\", \"token\", \"tool\", \"tool\", \"tool\", \"tools\", \"tools\", \"tools\", \"topic\", \"topic\", \"topic\", \"topic\", \"topic\", \"topic\", \"topics\", \"topics\", \"topics\", \"topics\", \"toxic\", \"track\", \"track\", \"track\", \"tracking\", \"tracks\", \"training\", \"training\", \"training\", \"training\", \"training\", \"traits\", \"traits\", \"transfer\", \"transfer\", \"transfer\", \"transfer\", \"transformer\", \"transformer\", \"translation\", \"translation\", \"tree\", \"treebank\", \"treebank\", \"treebank\", \"treebanks\", \"trees\", \"triples\", \"triplets\", \"turkish\", \"tutorial\", \"tweet\", \"tweets\", \"tweets\", \"twitter\", \"twitter\", \"twitter\", \"two\", \"two\", \"two\", \"two\", \"two\", \"two\", \"two\", \"two\", \"typologically\", \"un\", \"uncertainty\", \"understanding\", \"understanding\", \"understanding\", \"understanding\", \"understanding\", \"understanding\", \"understanding\", \"une\", \"unimodal\", \"unlabeled\", \"use\", \"use\", \"use\", \"use\", \"use\", \"use\", \"use\", \"use\", \"used\", \"used\", \"used\", \"used\", \"used\", \"used\", \"used\", \"used\", \"user\", \"user\", \"user\", \"user\", \"user\", \"using\", \"using\", \"using\", \"using\", \"using\", \"using\", \"using\", \"using\", \"utterance\", \"utterance\", \"utterances\", \"utterances\", \"utterances\", \"valence\", \"vanilla\", \"vector\", \"vector\", \"videos\", \"visual\", \"visual\", \"visual\", \"vocal\", \"voice\", \"vqa\", \"web\", \"web\", \"weights\", \"wmt\", \"word\", \"word\", \"word\", \"wordnet\", \"wordnet\", \"wordnet\", \"words\", \"words\", \"words\", \"words\", \"words\", \"work\", \"work\", \"work\", \"work\", \"work\", \"work\", \"work\", \"work\", \"workflow\", \"workshop\", \"wsd\", \"zero\"]}, \"R\": 30, \"lambda.step\": 0.01, \"plot.opts\": {\"xlab\": \"PC1\", \"ylab\": \"PC2\"}, \"topic.order\": [8, 4, 2, 7, 9, 5, 3, 6, 10, 1]};\n",
              "\n",
              "function LDAvis_load_lib(url, callback){\n",
              "  var s = document.createElement('script');\n",
              "  s.src = url;\n",
              "  s.async = true;\n",
              "  s.onreadystatechange = s.onload = callback;\n",
              "  s.onerror = function(){console.warn(\"failed to load library \" + url);};\n",
              "  document.getElementsByTagName(\"head\")[0].appendChild(s);\n",
              "}\n",
              "\n",
              "if(typeof(LDAvis) !== \"undefined\"){\n",
              "   // already loaded: just create the visualization\n",
              "   !function(LDAvis){\n",
              "       new LDAvis(\"#\" + \"ldavis_el561402483822943527336709743\", ldavis_el561402483822943527336709743_data);\n",
              "   }(LDAvis);\n",
              "}else if(typeof define === \"function\" && define.amd){\n",
              "   // require.js is available: use it to load d3/LDAvis\n",
              "   require.config({paths: {d3: \"https://cdnjs.cloudflare.com/ajax/libs/d3/3.5.5/d3.min\"}});\n",
              "   require([\"d3\"], function(d3){\n",
              "      window.d3 = d3;\n",
              "      LDAvis_load_lib(\"https://cdn.rawgit.com/bmabey/pyLDAvis/files/ldavis.v1.0.0.js\", function(){\n",
              "        new LDAvis(\"#\" + \"ldavis_el561402483822943527336709743\", ldavis_el561402483822943527336709743_data);\n",
              "      });\n",
              "    });\n",
              "}else{\n",
              "    // require.js not available: dynamically load d3 & LDAvis\n",
              "    LDAvis_load_lib(\"https://cdnjs.cloudflare.com/ajax/libs/d3/3.5.5/d3.min.js\", function(){\n",
              "         LDAvis_load_lib(\"https://cdn.rawgit.com/bmabey/pyLDAvis/files/ldavis.v1.0.0.js\", function(){\n",
              "                 new LDAvis(\"#\" + \"ldavis_el561402483822943527336709743\", ldavis_el561402483822943527336709743_data);\n",
              "            })\n",
              "         });\n",
              "}\n",
              "</script>"
            ]
          },
          "metadata": {},
          "execution_count": 36
        }
      ]
    },
    {
      "cell_type": "code",
      "metadata": {
        "id": "Oypnd8WN21BB",
        "colab": {
          "base_uri": "https://localhost:8080/",
          "height": 861
        },
        "outputId": "3ad7ef98-55f1-49dc-c403-aa70d9328262"
      },
      "source": [
        "### LDA TF-IDF TOPICS:\n",
        "# GRAFICO LA doc2bow:\n",
        "pyLDAvis.gensim.prepare(lda_model_tfidf, corpus, dictionary)"
      ],
      "execution_count": null,
      "outputs": [
        {
          "output_type": "execute_result",
          "data": {
            "text/plain": [
              "PreparedData(topic_coordinates=              x         y  topics  cluster       Freq\n",
              "topic                                                \n",
              "3      0.147823 -0.046847       1        1  48.429297\n",
              "7      0.123141 -0.049999       2        1  19.421314\n",
              "8      0.128438 -0.050946       3        1  12.288910\n",
              "4     -0.358903 -0.126252       4        1   9.259374\n",
              "1      0.111768 -0.055717       5        1   5.539492\n",
              "6      0.083955 -0.015750       6        1   3.700816\n",
              "2      0.010822  0.113714       7        1   0.785013\n",
              "9     -0.085919  0.129150       8        1   0.250192\n",
              "5     -0.081350  0.052545       9        1   0.166764\n",
              "0     -0.079775  0.050101      10        1   0.158827, topic_info=             Term         Freq        Total Category  logprob  loglift\n",
              "280            de  5518.000000  5518.000000  Default  30.0000  30.0000\n",
              "282           des  2446.000000  2446.000000  Default  29.0000  29.0000\n",
              "291            la  2394.000000  2394.000000  Default  28.0000  28.0000\n",
              "294           les  2100.000000  2100.000000  Default  27.0000  27.0000\n",
              "72    translation  3709.000000  3709.000000  Default  26.0000  26.0000\n",
              "...           ...          ...          ...      ...      ...      ...\n",
              "608        unless     0.445632    24.095647  Topic10  -8.5147   2.4548\n",
              "3222     facility     0.786940    48.273984  Topic10  -7.9461   2.3286\n",
              "5152    inductive     1.137357    76.958172  Topic10  -7.5778   2.2306\n",
              "7353   retraining     1.056335    82.631263  Topic10  -7.6517   2.0855\n",
              "7223        trust     0.505829    96.321521  Topic10  -8.3880   1.1959\n",
              "\n",
              "[627 rows x 6 columns], token_table=      Topic      Freq  Term\n",
              "term                       \n",
              "7604      1  0.024491  absa\n",
              "7604      2  0.024491  absa\n",
              "7604      3  0.024491  absa\n",
              "7604      4  0.048983  absa\n",
              "7604      5  0.024491  absa\n",
              "...     ...       ...   ...\n",
              "7607      3  0.160997  yelp\n",
              "7607      4  0.107331  yelp\n",
              "7607      5  0.053666  yelp\n",
              "7607      6  0.053666  yelp\n",
              "7607      8  0.482990  yelp\n",
              "\n",
              "[3717 rows x 3 columns], R=30, lambda_step=0.01, plot_opts={'xlab': 'PC1', 'ylab': 'PC2'}, topic_order=[4, 8, 9, 5, 2, 7, 3, 10, 6, 1])"
            ],
            "text/html": [
              "\n",
              "<link rel=\"stylesheet\" type=\"text/css\" href=\"https://cdn.rawgit.com/bmabey/pyLDAvis/files/ldavis.v1.0.0.css\">\n",
              "\n",
              "\n",
              "<div id=\"ldavis_el561402485648310565919112424\"></div>\n",
              "<script type=\"text/javascript\">\n",
              "\n",
              "var ldavis_el561402485648310565919112424_data = {\"mdsDat\": {\"x\": [0.14782269648939977, 0.12314056139951357, 0.12843782314419888, -0.3589026383209423, 0.11176823524732411, 0.08395490017567757, 0.01082193497491243, -0.08591909837487607, -0.08134971057363292, -0.07977470416157453], \"y\": [-0.04684656184297799, -0.04999917261483793, -0.05094580450530765, -0.12625163667293773, -0.05571675386115442, -0.0157495459402794, 0.11371362077438414, 0.12915002805450998, 0.05254465605259233, 0.05010117055600847], \"topics\": [1, 2, 3, 4, 5, 6, 7, 8, 9, 10], \"cluster\": [1, 1, 1, 1, 1, 1, 1, 1, 1, 1], \"Freq\": [48.42929747932768, 19.421314480072773, 12.28891027982877, 9.25937421194968, 5.539491984243513, 3.7008162043224324, 0.7850126623378622, 0.25019173639206094, 0.1667636208091538, 0.1588273407160911]}, \"tinfo\": {\"Term\": [\"de\", \"des\", \"la\", \"les\", \"translation\", \"dialogue\", \"le\", \"et\", \"un\", \"une\", \"nous\", \"en\", \"pour\", \"dans\", \"learning\", \"models\", \"generation\", \"sur\", \"social\", \"es\", \"reasoning\", \"semantic\", \"detection\", \"pr\", \"du\", \"mt\", \"human\", \"system\", \"language\", \"knowledge\", \"plms\", \"kg\", \"masked\", \"pcl\", \"regularization\", \"amr\", \"encoder\", \"vectors\", \"glue\", \"ood\", \"supervision\", \"kgs\", \"condescending\", \"sota\", \"generalization\", \"adversarial\", \"debiasing\", \"patronizing\", \"masking\", \"kb\", \"learns\", \"dense\", \"contextualized\", \"ensembling\", \"denoising\", \"lm\", \"superiority\", \"vanilla\", \"probing\", \"multitask\", \"embeddings\", \"embedding\", \"ner\", \"representations\", \"nli\", \"downstream\", \"loss\", \"graph\", \"pretraining\", \"latent\", \"sequence\", \"pretrained\", \"learn\", \"inference\", \"outperforms\", \"bert\", \"vector\", \"model\", \"space\", \"learned\", \"models\", \"reasoning\", \"attention\", \"achieves\", \"neural\", \"propose\", \"datasets\", \"performance\", \"tasks\", \"transfer\", \"learning\", \"benchmark\", \"network\", \"training\", \"sentiment\", \"word\", \"show\", \"method\", \"knowledge\", \"proposed\", \"methods\", \"entity\", \"generation\", \"task\", \"sentence\", \"novel\", \"classification\", \"approach\", \"experiments\", \"data\", \"text\", \"language\", \"results\", \"dataset\", \"information\", \"two\", \"semantic\", \"mwes\", \"crosslingual\", \"bangla\", \"clir\", \"rst\", \"taxonomies\", \"spider\", \"pdtb\", \"slang\", \"urdu\", \"inclusive\", \"peer\", \"wikidata\", \"metonymy\", \"idioms\", \"adjustment\", \"decoupled\", \"amharic\", \"hyperbolic\", \"victim\", \"connective\", \"casting\", \"categorisation\", \"textbook\", \"connectives\", \"sorting\", \"stop\", \"latin\", \"glossaries\", \"bounded\", \"interventions\", \"terminological\", \"icelandic\", \"mwe\", \"publication\", \"multiword\", \"proficiency\", \"spelling\", \"treebank\", \"basque\", \"rhetorical\", \"pronunciation\", \"portuguese\", \"databases\", \"web\", \"annotation\", \"database\", \"ontology\", \"guidelines\", \"resources\", \"corpus\", \"tools\", \"students\", \"tool\", \"resource\", \"lexicon\", \"format\", \"annotated\", \"texts\", \"discourse\", \"historical\", \"written\", \"corpora\", \"errors\", \"project\", \"wikipedia\", \"linguistic\", \"available\", \"creation\", \"languages\", \"scientific\", \"present\", \"research\", \"lexical\", \"documents\", \"questions\", \"development\", \"language\", \"english\", \"data\", \"used\", \"information\", \"text\", \"system\", \"automatic\", \"paper\", \"evaluation\", \"different\", \"words\", \"latency\", \"distillation\", \"dravidian\", \"explainability\", \"kd\", \"iwslt\", \"slt\", \"wat\", \"bart\", \"pun\", \"curricula\", \"bpe\", \"backtranslation\", \"federated\", \"subtitling\", \"btec\", \"surprisal\", \"summarizers\", \"aes\", \"ebmt\", \"moses\", \"pbsmt\", \"regularizer\", \"tamil\", \"xnli\", \"fused\", \"asr\", \"pbmt\", \"smt\", \"puns\", \"translators\", \"campaign\", \"mt\", \"subtitles\", \"st\", \"translation\", \"explainable\", \"simultaneous\", \"wmt\", \"year\", \"ted\", \"streaming\", \"machine\", \"bleu\", \"services\", \"submissions\", \"systems\", \"summaries\", \"participated\", \"speech\", \"translations\", \"system\", \"technology\", \"quality\", \"evaluation\", \"toolkit\", \"feedback\", \"augmentation\", \"nmt\", \"describes\", \"parallel\", \"data\", \"statistical\", \"english\", \"shared\", \"language\", \"languages\", \"automatic\", \"summarization\", \"task\", \"arabic\", \"human\", \"paper\", \"research\", \"using\", \"models\", \"results\", \"des\", \"les\", \"une\", \"nous\", \"la\", \"pour\", \"dans\", \"le\", \"sur\", \"du\", \"de\", \"pr\", \"est\", \"que\", \"syst\", \"qui\", \"un\", \"mod\", \"cet\", \"sont\", \"cette\", \"ces\", \"es\", \"automatique\", \"au\", \"en\", \"fran\", \"sultats\", \"sentons\", \"donn\", \"ce\", \"par\", \"et\", \"plus\", \"analyse\", \"article\", \"offensive\", \"abusive\", \"memes\", \"depression\", \"meme\", \"malayalam\", \"hateful\", \"misogynous\", \"symptoms\", \"suicide\", \"equality\", \"sigmorphon\", \"hate\", \"empathetic\", \"abuse\", \"mami\", \"harm\", \"violence\", \"stereotypes\", \"thinking\", \"icd\", \"brand\", \"clinicians\", \"facial\", \"aggression\", \"emojis\", \"harassment\", \"socially\", \"negations\", \"medication\", \"misogyny\", \"chatbots\", \"health\", \"gendered\", \"mental\", \"comments\", \"posts\", \"social\", \"media\", \"notes\", \"platforms\", \"individuals\", \"emotions\", \"emotional\", \"personality\", \"conversations\", \"tweets\", \"gender\", \"twitter\", \"emotion\", \"conversation\", \"detection\", \"clinical\", \"people\", \"online\", \"stance\", \"users\", \"speech\", \"political\", \"multimodal\", \"dataset\", \"content\", \"news\", \"task\", \"user\", \"dialogue\", \"classification\", \"shared\", \"instructional\", \"faithfulness\", \"rumour\", \"framenet\", \"recipes\", \"players\", \"stances\", \"replies\", \"enforcing\", \"plwordnet\", \"nps\", \"practicality\", \"storytelling\", \"vae\", \"dsms\", \"subcategorization\", \"verbnet\", \"rumours\", \"cooking\", \"centuries\", \"sexual\", \"valency\", \"readings\", \"manifests\", \"contextualization\", \"corporate\", \"attends\", \"endings\", \"forecasting\", \"gestures\", \"sign\", \"headline\", \"instruction\", \"synsets\", \"verb\", \"frames\", \"verbs\", \"story\", \"wordnet\", \"compounds\", \"game\", \"frame\", \"navigation\", \"stories\", \"narrative\", \"instructions\", \"spatial\", \"predicates\", \"headlines\", \"roles\", \"wordnets\", \"noun\", \"annotation\", \"corpus\", \"lexical\", \"semantic\", \"relations\", \"resource\", \"resources\", \"annotated\", \"lexicon\", \"sense\", \"project\", \"language\", \"linguistic\", \"structure\", \"present\", \"paper\", \"information\", \"automatic\", \"rl\", \"imbalance\", \"augmentations\", \"analogical\", \"continually\", \"drift\", \"subgraph\", \"disentangled\", \"formulating\", \"arithmetic\", \"dual\", \"dl\", \"perturbation\", \"superficial\", \"ucca\", \"substitutes\", \"disinformation\", \"poems\", \"invariant\", \"adapters\", \"verse\", \"generalisation\", \"flaws\", \"subgraphs\", \"intractable\", \"plagiarism\", \"bilstms\", \"craft\", \"symptom\", \"lms\", \"perturbations\", \"metaphors\", \"nlu\", \"agnostic\", \"agent\", \"neighbors\", \"da\", \"augmentation\", \"reinforcement\", \"dialogue\", \"policy\", \"reward\", \"intents\", \"agents\", \"responses\", \"dialog\", \"proof\", \"metaphor\", \"response\", \"controllable\", \"generation\", \"conversational\", \"human\", \"learning\", \"commonsense\", \"nan\", \"toxic\", \"vqa\", \"toxicity\", \"absa\", \"negatives\", \"bots\", \"overlook\", \"distortion\", \"negated\", \"personas\", \"bandit\", \"symmetric\", \"episodic\", \"manifold\", \"wild\", \"subspace\", \"initializing\", \"shortcut\", \"illness\", \"reinflection\", \"yelp\", \"autoencoding\", \"mle\", \"unconditional\", \"wikiqa\", \"visualisations\", \"competitors\", \"coreferent\", \"shaped\", \"adaptively\", \"ideology\", \"subwords\", \"inductive\", \"attack\", \"artifacts\", \"gradients\", \"tabular\", \"negation\", \"idiom\", \"explanation\", \"therapy\", \"lyrics\", \"explainable\", \"hotpotqa\", \"dp\", \"stereotypical\", \"capsule\", \"conflict\", \"ta\", \"distilling\", \"moral\", \"mae\", \"xgboost\", \"enumerate\", \"temporelle\", \"nonlinear\", \"fl\", \"fairness\", \"saturation\", \"rateur\", \"opposition\", \"employment\", \"arousal\", \"systemic\", \"anomalies\", \"integrity\", \"jeuxdemots\", \"accumulation\", \"deft\", \"angles\", \"partitioning\", \"restructuring\", \"cyclic\", \"transliterated\", \"race\", \"valence\", \"stereotypes\", \"disentanglement\", \"indic\", \"ape\", \"catastrophic\", \"cca\", \"forgetting\", \"triage\", \"replay\", \"universality\", \"commercially\", \"swiss\", \"myriad\", \"formality\", \"benefited\", \"consolidation\", \"lis\", \"pe\", \"drift\", \"adjusts\", \"archiving\", \"han\", \"derives\", \"scanned\", \"altogether\", \"fused\", \"rateur\", \"coupling\", \"saturation\", \"optionally\", \"relieve\", \"nonlinear\", \"placing\", \"unless\", \"facility\", \"inductive\", \"retraining\", \"trust\"], \"Freq\": [5518.0, 2446.0, 2394.0, 2100.0, 3709.0, 1380.0, 1661.0, 2260.0, 1624.0, 1581.0, 1513.0, 1427.0, 1213.0, 1192.0, 2661.0, 4285.0, 1932.0, 1056.0, 1019.0, 1003.0, 1040.0, 2125.0, 1473.0, 944.0, 934.0, 1387.0, 1691.0, 3032.0, 3748.0, 2567.0, 490.9574165737633, 289.11634609798114, 416.88084507515197, 235.0560885046212, 241.99987945519675, 356.9726613430392, 640.1861273024881, 477.9363168342434, 205.54880855636827, 195.52698214148592, 520.8774432719738, 178.27290558982114, 159.8090816284422, 235.37086091254577, 564.2340187920269, 691.9157514436148, 155.8193936293905, 144.5316231266277, 149.5728833292808, 219.1431183581947, 499.58590464104714, 298.9289094175087, 390.678359809247, 130.96098338931495, 127.31370259850759, 262.2404869467691, 136.99097177428564, 160.14317472652607, 310.43857691256045, 121.4998317650738, 1717.1430943410915, 999.5719122725908, 718.4141519660485, 1641.6270673191875, 373.2040135822286, 771.1897168079278, 582.1983748045863, 1151.6076559519943, 555.4297015955138, 511.49072413810126, 817.1711052320118, 798.6667955977874, 956.0432948336306, 900.3893712466713, 1043.6744498757928, 1183.2774921693795, 601.2332094847774, 3544.5006366759994, 723.0214511234236, 589.2333152285933, 3508.160144428557, 929.7718902298833, 1239.0575772001969, 999.7653755998826, 1849.8851317347394, 1840.7964581632018, 1717.6147598266343, 2124.047441174905, 2230.650784126512, 1112.681840358152, 2111.029063492804, 950.5529444694646, 1158.5177367856916, 2100.641218980325, 1204.6217361439567, 1985.7189529551656, 1777.642674635079, 1920.0602453997737, 1938.2986613092942, 1473.1012575954599, 1780.8548601900172, 1347.601944342142, 1500.5987715410165, 2285.2686689897073, 1440.2773479326022, 1228.7103662984662, 1454.108240029243, 1636.332862889625, 1381.3923816393087, 2035.3492396244653, 1731.1076434020197, 1986.6697005464655, 1585.9015812371817, 1474.8711472193636, 1533.4490338756993, 1436.8398233634937, 1382.9405616589343, 215.91652129480934, 138.7782240279425, 112.82173379961621, 101.02913597210063, 142.86882107406691, 88.62175572625772, 81.48024160252227, 90.19850018643774, 85.58982318035002, 92.41466740505177, 78.61640126440479, 66.02848998739516, 110.72281979493509, 76.50150861220668, 110.47704921159192, 60.924557965606645, 59.501524930451545, 58.417891815934155, 121.8406519941622, 57.762359891327684, 66.13642891546112, 55.442331463853144, 66.17163335643855, 50.563492706294205, 117.55548722874293, 50.08548197355729, 61.849025557345165, 145.24751961472637, 47.103284945601644, 49.45237157191465, 117.04983422682378, 108.41657888361011, 70.25770180072954, 117.73664712252231, 118.19248154916323, 141.21039566623315, 134.68397245946522, 206.61101577375794, 454.298293258139, 136.6768103932538, 127.07191089701874, 134.88876809521528, 262.2988330529787, 177.75572993831534, 574.2113982871291, 1044.8331297988875, 392.6400464239696, 291.2244565783823, 260.38247114106855, 757.8321303476671, 1235.0797165509898, 543.6150410491708, 249.13244331941365, 487.2628759034338, 536.248030239907, 416.13704310879547, 260.014677480202, 631.7623733281614, 604.8216142332309, 521.8350370524835, 234.87759128107916, 312.92599117736233, 660.799847386184, 456.7244531280569, 412.8460428971307, 338.09628448652296, 602.4632924232664, 592.962926504723, 271.77559487043754, 836.2700770140602, 325.86654408587276, 644.6714751958166, 586.6362680328037, 504.7781946982768, 508.34361631571375, 510.68804777664866, 421.3512713046698, 844.2388974783207, 556.772460591506, 735.2285773656878, 553.8713077383699, 623.2224348684913, 647.9007440385592, 629.21547183661, 474.50223307369896, 509.70085212807356, 505.5245715621947, 500.6199177966299, 479.9899967305326, 228.67939256081135, 369.4711999551656, 122.07018255654017, 106.7032881689179, 95.37798092323779, 297.4007990254624, 95.69292955232005, 92.6031956093136, 89.35846994219295, 86.56388396752486, 79.55874955042621, 76.89310812127998, 67.51742018070182, 66.66766351307402, 61.973970940136, 60.865889727095244, 55.370540676051384, 60.5352246989392, 51.40272050530326, 62.30538174646465, 87.7191093725643, 48.114969944412486, 46.38558544047144, 290.05915848539274, 49.22645971406765, 51.568673666988005, 418.3429545567615, 42.95322899243403, 365.2863132891845, 48.84916102662169, 188.0555841722427, 246.1646773555638, 1111.146291257061, 109.87654926725656, 165.38472856054673, 2251.822435057644, 92.29716628696684, 200.43181799369495, 238.89657354644697, 221.4704905250208, 114.88649683238458, 98.78438529191294, 976.8402313321982, 440.8071945780863, 203.97353355108362, 246.4467316614891, 911.269252140225, 337.2828934822015, 252.9388457741722, 718.2536124620797, 387.8510982228004, 1027.9728650188963, 300.00297423159736, 588.5670927368179, 707.8192848976489, 201.10814369702138, 259.42511378681763, 274.63458391212515, 389.1736382100813, 416.69019000091646, 420.65128315244317, 666.742864236646, 330.6895337260584, 478.06535112067365, 422.45208217293987, 623.4285084310995, 552.0235218193786, 403.5059931208383, 364.7933589223125, 503.51863001603476, 342.06940790890485, 376.76308858224377, 371.86786071990906, 355.04943174725764, 356.5815103749286, 368.63785040733524, 349.0622645148799, 2438.2736201276407, 2092.7846662469738, 1574.4531211538058, 1506.2179636094759, 2381.5942239820374, 1206.1024557221647, 1185.1775657628536, 1651.488272071089, 1049.8468485488327, 927.5804147533403, 5474.701081549518, 936.0138372754817, 806.9099369139171, 702.9924408767223, 633.5125113025329, 582.2307276255416, 1605.1700085662917, 548.902347233256, 543.8627975512643, 492.5058291368062, 488.59435222122215, 475.3650666641677, 989.2851804739489, 425.05941741574975, 419.3219047656362, 1403.3560709408575, 378.01163266217617, 367.88507519544976, 365.77311419728704, 360.7019458937603, 488.2141745017917, 661.5908126797432, 1616.8967760211833, 409.48899619528436, 433.85204920124636, 460.47842830483796, 345.3818108987847, 253.698656212279, 181.0060946990176, 134.55636886452973, 121.39908627424268, 93.64213358790853, 80.30794590271766, 74.60376286276026, 74.42398335337185, 80.49197160367592, 74.51317593846186, 68.88731505267866, 307.1713572820717, 62.97406686753228, 58.871853230112634, 56.28995215926045, 53.43194485060154, 55.090554207001986, 62.905229829914745, 42.569293354843666, 43.50833794365285, 44.724052823346575, 46.30866292836125, 43.95673306597449, 39.94812516492575, 80.41083820896185, 41.718331294667344, 41.728475225218915, 39.5867611762999, 38.02987992059101, 118.08188561114027, 62.395704891230935, 253.88276313688044, 80.26356169412992, 157.17354355785014, 280.9852698553518, 218.8334976143686, 681.6946590892891, 529.1592202046121, 118.62122865173012, 175.59533658256842, 113.26690291761098, 202.78937332208432, 146.05552492785094, 104.76520613348504, 234.52987641553798, 308.80276123042256, 298.1241444604722, 226.75316382097503, 307.8642491077189, 226.48119096412262, 420.87337525634007, 222.12271221996173, 229.97115431632528, 254.64155441171584, 132.0685789216062, 260.98580683468845, 340.41803551575026, 144.30358509298156, 207.36484554149607, 288.36431149277564, 227.23938659890783, 218.8362953176346, 284.49714554152183, 211.1495785197445, 212.53370159877772, 196.8325396275084, 191.1824244593788, 56.100030252832106, 66.79344972845729, 47.98971141384565, 138.44333895608983, 50.877659937832156, 50.316340323104434, 34.08410225480581, 32.99406349857854, 29.95450800227423, 32.66500190668399, 28.187299475439325, 27.58965327458256, 37.650580158557155, 41.04103540359575, 25.81984008630238, 36.1924340059919, 40.35394440519138, 24.60121576646888, 23.882903499247462, 23.27246762688427, 26.946503879449303, 55.67905184674051, 22.94569867969936, 22.40783910590576, 41.57035747598541, 22.126302034096792, 23.723582026190726, 22.213502421405966, 21.281597364381916, 54.64905897785914, 130.5240949454877, 60.86587938576856, 64.84061083917575, 99.27753920690975, 198.16868412358454, 146.302543108655, 178.10305969044686, 155.49136663594095, 235.13518492353342, 74.25506919346705, 89.55104602906057, 110.56352519064254, 58.01905074848745, 100.79611712259059, 102.52582937736965, 79.9594586378732, 81.83985538070819, 59.988904347487846, 58.96852219699481, 86.88973319735697, 61.64079631228059, 82.6857433022949, 192.80659060411082, 220.1013925855036, 162.0510376652017, 188.71572863195982, 155.55138237674237, 123.8914813371416, 119.54949864926037, 114.23057498151843, 97.82945597090041, 94.30638004727354, 95.51570868010879, 117.291570700275, 98.14826773766312, 89.87952277799172, 92.95613440680211, 92.28163562003766, 90.33708703049511, 88.22447145533481, 57.89498448183423, 34.99074722744942, 23.237349847152966, 23.20499036737388, 22.656572514078913, 28.900509478717904, 20.842345480638865, 24.026689923269224, 24.34530712658927, 18.965248820015976, 35.418168097781, 17.77931903233165, 33.03081045206364, 28.967581668961138, 16.749679572167807, 16.112516785592046, 15.866329209112918, 17.54081910240031, 21.2654844942674, 37.89062061135786, 14.447121361544598, 14.015665467945965, 15.52868408941657, 12.855082788385173, 12.524053572131132, 16.651927136868036, 12.549513226070038, 12.448091541403176, 14.061063636221919, 93.32937452418554, 35.06650079263299, 34.598883161197286, 73.11333755358757, 18.852394782580745, 64.99699887932834, 23.086349172955, 38.286536326963414, 92.99741552602495, 50.78322463987262, 150.47331520144348, 55.05343796674268, 37.87943509202548, 36.97988964192441, 46.49636987948405, 54.66285794592957, 59.00416953380187, 26.89792039716532, 30.979619483286143, 41.178362685072706, 25.149774383435393, 31.813566070181587, 28.644015007624134, 30.997107568279393, 31.298121582931376, 27.768035116546436, 226.19021185849357, 78.14415175848288, 45.787777439807506, 33.88877921231344, 32.902386782043585, 20.562095545139673, 12.919334643439322, 12.852853735810985, 10.549540965570554, 11.038009740075967, 15.9722765085419, 12.719688116423013, 10.910986777205219, 9.585277587876684, 10.030319778085818, 9.135744369830341, 8.769302096112854, 8.778080347655981, 8.099575633749593, 7.6278000480302675, 7.4550377315813074, 8.869097642259154, 6.867009823721897, 7.212165978750437, 7.566490058821139, 6.011209374270028, 6.123359119247151, 7.949387478099361, 5.087879241130179, 5.132877562887003, 11.9882041109783, 9.481682317506527, 14.126753469314824, 25.44691372483783, 31.806119468510122, 21.236962762910714, 13.689893607368912, 17.958929832607943, 28.063232140786795, 12.353527092406715, 20.091128654213325, 9.700027465960865, 11.102054780727071, 9.920691905429337, 15.713588642486114, 15.301902245000177, 11.984018867216118, 12.045089019178578, 14.346345363837402, 10.562891055339282, 9.627146789897258, 34.334562087604986, 13.29201339393243, 8.625995679879445, 5.613288637859451, 5.155940089381317, 5.110489312079957, 12.332434435495644, 26.166152411995185, 3.7047377136131887, 3.425417705334288, 3.8476757759362097, 3.7970197177315286, 4.1151191910000255, 3.030771613618817, 5.261877431642663, 2.1706942391032826, 2.435241725927184, 3.8777582187954107, 3.9853425370385906, 1.3409733053482484, 1.6190650096987649, 1.1058945848743156, 1.4432785792471514, 2.0574199475860135, 2.9768612699785706, 2.818373928639999, 2.3792510630700296, 23.450544140806272, 19.120605333010122, 22.735479469351272, 14.421207474653981, 9.359822487492231, 22.63804950140784, 9.126724197637502, 9.00722934148795, 7.388989012102278, 4.700373379377545, 7.073576413716916, 3.711904063038142, 16.492876702518856, 5.55837180490271, 3.1254940537371074, 2.9650811365380942, 5.483573407138036, 2.36274710504684, 0.9758444700173227, 1.3177661405723535, 1.440565865285661, 1.7628888786305936, 1.016247665562185, 1.0404568887031465, 1.6082856160662053, 0.252547255046025, 1.2895565049669657, 0.25254717418387135, 0.25428119837876245, 0.25254717418387135, 0.2567779144066999, 0.4877990981211122, 0.4456324930747293, 0.7869397406416113, 1.1373572418851616, 1.056334787120935, 0.5058290942404943], \"Total\": [5518.0, 2446.0, 2394.0, 2100.0, 3709.0, 1380.0, 1661.0, 2260.0, 1624.0, 1581.0, 1513.0, 1427.0, 1213.0, 1192.0, 2661.0, 4285.0, 1932.0, 1056.0, 1019.0, 1003.0, 1040.0, 2125.0, 1473.0, 944.0, 934.0, 1387.0, 1691.0, 3032.0, 3748.0, 2567.0, 498.7907426082841, 296.67588116668384, 428.9598894130897, 242.3276719309842, 249.68501091582533, 368.6990457664207, 661.984498955333, 494.98899365085595, 212.93695874434462, 203.1242235514511, 541.9956545946169, 185.52398366432845, 167.00651660306673, 246.1374037995234, 590.8518967794054, 724.6825929509802, 163.25524243407926, 151.7128564292913, 157.05440569510887, 230.62050577226717, 525.8938040685001, 314.74346658286623, 412.27419926531803, 138.2587155791952, 134.49825990247365, 277.4401138131646, 144.95382151358817, 169.5191302290843, 328.75535235488775, 128.68086184841158, 1818.963090177263, 1062.1158968037914, 761.0492787698911, 1754.0819308247335, 396.0352335128957, 826.9065920202553, 621.6815151556159, 1248.1019395104381, 593.7323114933077, 545.9923497311946, 881.6657638804714, 865.5768157154843, 1045.986637667358, 984.0026371571956, 1152.7467067346304, 1321.2924400265822, 653.1950207772584, 4227.906508593801, 794.8332550332117, 640.0266791095405, 4285.228955555284, 1040.4930863599384, 1421.7041768242482, 1131.4684703985354, 2225.451694354873, 2213.9842223639653, 2080.609941828898, 2640.175307863455, 2793.273998199758, 1286.4075870549932, 2661.5706475393954, 1080.0899713249353, 1358.3125994583786, 2694.8930743727074, 1435.4248275119644, 2607.6568607922686, 2295.3003918539057, 2534.192727145782, 2567.9964158759853, 1830.5032650896376, 2391.8395440126965, 1679.2090860357534, 1932.5919101143427, 3441.7455989657255, 1864.8728256494596, 1512.2670055400304, 1962.5145841266478, 2387.5193947250195, 1834.0812762688581, 3669.982671338349, 2887.1287646613164, 3748.930323845129, 2474.0721935650304, 2275.7763050885865, 2617.927843230904, 2202.6242345811943, 2125.4224049508507, 222.81994941249914, 145.7410984038278, 119.59649989085514, 107.8554549296692, 153.65674702894643, 95.50932164156318, 88.22723050107741, 97.75163807268487, 92.81360941417324, 100.52009726904168, 86.49065338809221, 72.8152669935915, 122.18714265701306, 84.42345848644374, 122.70031953331237, 67.70527337682027, 66.25541143718318, 65.17935054667578, 135.98498022278312, 64.51897385862861, 73.9581931820503, 62.25228541945538, 74.31534876151116, 57.32008120074357, 133.6174850578779, 56.95250166148637, 70.62671524766918, 166.02908586239442, 53.89129581055348, 56.65576065327214, 134.47011930759496, 124.45799015752995, 80.83794444691212, 138.886574344556, 141.50792798402293, 171.80023906251458, 164.47701099496453, 265.0315628051193, 638.4911435654275, 167.60961953964, 155.4631508782322, 168.1240877220392, 361.20833301960096, 231.69632810318487, 907.4591317418746, 1930.603931544104, 608.4721892144037, 429.0978381152476, 374.060281994645, 1425.770598386285, 2654.5375510901804, 959.1058998675277, 361.0149785814226, 858.7886662155963, 985.8267026023676, 726.2676427622691, 391.76213126131813, 1282.4066629634308, 1296.3571922742249, 1068.0583426006685, 354.11503284507853, 538.7919475925108, 1593.3445560579178, 936.7298895383256, 814.161074277786, 607.3489687084951, 1501.2353043643375, 1565.4148961022934, 449.38982696453854, 2845.10677962388, 605.1924791907913, 1922.097602360444, 1660.5306727890297, 1290.0049393151196, 1320.9794450847494, 1373.8975016858303, 958.5040562214285, 3748.930323845129, 1883.6070042330355, 3669.982671338349, 1925.8433663435649, 2617.927843230904, 2887.1287646613164, 3032.6300702676363, 1436.1069620695425, 2018.2091417813558, 2209.434759710228, 2320.990997359388, 1938.3859852387511, 237.9720903937615, 391.9038966954393, 130.23752954169692, 114.64749393109851, 102.49662009147094, 319.7357255252211, 102.93277365080347, 99.76630821371178, 96.43602936992245, 93.64121363086299, 86.64822370081104, 83.9959670553746, 74.57523211413412, 73.74771305135485, 69.06900603444898, 68.04924224273573, 62.447808243176915, 68.52692164164351, 58.532520603382935, 71.24641480306042, 100.42613848266183, 55.21611998979434, 53.53169586098095, 335.25292533000487, 57.198110526845156, 60.03455785105955, 487.2894276485086, 50.0670570360007, 426.82363029323915, 57.1403886205361, 224.41702420633203, 295.6884922043518, 1387.709636182615, 135.2726258155404, 212.04643810634, 3709.6585378593995, 112.6814158474648, 270.14262724181367, 334.62487644928814, 319.35211420253916, 146.2184758795393, 122.53094572182962, 2102.754760900954, 806.3251295730832, 308.69325068071197, 398.37844133236086, 2391.4293042720556, 626.8393409551511, 423.73568987452165, 1772.6558545973319, 770.7390479804509, 3032.6300702676363, 542.1423774621452, 1551.7090315714563, 2209.434759710228, 321.1170760667768, 478.24554866854027, 537.0017972455114, 984.1637482529956, 1128.1436442161921, 1229.8082894387856, 3669.982671338349, 810.4590444309042, 1883.6070042330355, 1450.59501575035, 3748.930323845129, 2845.10677962388, 1436.1069620695425, 1152.537855670775, 3441.7455989657255, 1012.1109472895859, 1691.3885384322418, 2018.2091417813558, 1660.5306727890297, 2340.91369765489, 4285.228955555284, 2474.0721935650304, 2446.367438375046, 2100.2887996522263, 1581.7613535600055, 1513.4203242610154, 2394.5557514716807, 1213.168640131372, 1192.3116049439552, 1661.7890829756086, 1056.770079181388, 934.7060591579423, 5518.496635249618, 944.1176109765524, 814.2266110300778, 709.7687562663713, 640.277283861853, 588.940944168883, 1624.4535937673961, 555.6180843909447, 550.5573825129595, 499.1492786013942, 495.2473942167754, 482.001259398776, 1003.4468603834435, 431.6579072357719, 425.9536830682756, 1427.8019562806492, 384.62002272619077, 374.47076389822973, 372.378124705639, 367.2384681086016, 497.44539708679105, 758.8110014783581, 2260.7924922329207, 448.33943267833195, 578.5501572146488, 900.7094330329259, 352.98129042493923, 264.36338258971705, 189.68879550736676, 142.02934862994337, 130.5265664480589, 101.04982801939494, 87.71788012680081, 82.01833333668398, 81.9360316149134, 88.62782010108695, 82.06009627923447, 76.33098034640291, 342.3814844655226, 70.40447857991629, 66.40026073458762, 63.735062146797354, 60.85984096098885, 63.43551277197528, 72.43554709382455, 50.01121499362026, 51.22187236308741, 52.661147547944644, 54.67393184160702, 52.08821864528361, 47.376652681941906, 95.5878220294168, 49.620064777318106, 49.703473611331844, 47.25041029496195, 45.57059723126689, 142.87453601615346, 75.09189903343666, 319.10059207316294, 97.60880162321446, 198.1807134498413, 373.4990411448396, 292.4076722071412, 1019.9428259769861, 785.3844737186649, 155.8023203637427, 255.41931585070714, 151.74429543342393, 315.4591851160591, 214.96212446117477, 141.41857507752113, 418.2747469361269, 625.1037985847519, 602.8208199027295, 429.7224305418889, 675.2126966934533, 471.82836090991947, 1473.4461957785436, 508.1949275476598, 541.1366899174467, 749.0736344467987, 222.40169709868186, 934.2742521331347, 1772.6558545973319, 270.40574529782174, 786.9506900344802, 2275.7763050885865, 1087.928318841124, 1104.85935723066, 3441.7455989657255, 1061.9606205619896, 1380.2879077923758, 1962.5145841266478, 1450.59501575035, 63.67578961417921, 76.02240889254757, 55.45642949219874, 163.0827567435979, 60.60768474120052, 61.12849594081622, 41.56364677311967, 40.46549692097156, 37.51482326708107, 41.24282196776105, 35.682136409480805, 35.05104101546982, 48.09192672701045, 52.52834338443471, 33.352043187930256, 46.97355824531709, 52.476477678278535, 32.097717488028024, 31.348522886527796, 30.772381840730258, 35.64072978997241, 73.67600337804221, 30.591396068647427, 29.905360634825733, 55.6466864747234, 29.629910657659032, 31.927600874201914, 29.984530411964528, 28.889655572067507, 74.21742397876488, 182.20303905834112, 84.21912169824526, 91.18791817896602, 145.59946631541067, 313.91589232432614, 247.6442314224691, 324.09744542748746, 280.5441041851556, 507.5267162904265, 124.09862946611207, 165.60294361579273, 231.88744461368086, 96.32350603066341, 213.6981324514723, 248.21168680040378, 170.7289470575236, 191.8860347859517, 115.89377406894185, 114.56368556536576, 253.3131318478629, 129.95787494404084, 246.3696026199994, 1930.603931544104, 2654.5375510901804, 1290.0049393151196, 2125.4224049508507, 1423.7670427906244, 985.8267026023676, 1425.770598386285, 1282.4066629634308, 726.2676427622691, 658.7833982878713, 814.161074277786, 3748.930323845129, 1501.2353043643375, 1184.3988339343887, 1922.097602360444, 2018.2091417813558, 2617.927843230904, 1436.1069620695425, 67.17068001848367, 42.85225441342283, 31.07693051293187, 31.513983906463867, 30.86831960835199, 39.70131538440335, 28.707792112728946, 33.46186733009925, 34.28683928016235, 26.895911722239063, 50.50504819119576, 25.66518779270112, 48.553026765023944, 42.62658937919712, 24.821636153011177, 23.935465178916434, 23.688326532053694, 26.735813069656057, 32.55714699568591, 58.19226939828297, 22.42802864845346, 21.891550001714716, 24.753979907028086, 20.687257569813408, 20.38009906467758, 27.10305950197032, 20.5610332652879, 20.498700294350815, 23.191845010850134, 155.26263954719676, 64.31513164952277, 64.99728412482354, 156.27031747950042, 34.35552032673551, 199.5374842964531, 50.19459006818621, 117.99725582560589, 537.0017972455114, 190.51577381653738, 1380.2879077923758, 248.92920119945094, 131.9893847897311, 130.09779119471904, 251.1527267205209, 457.94650356515154, 592.1126402467202, 82.81898275265253, 134.1641126395098, 548.2322967195176, 92.97267155382738, 1932.5919101143427, 498.9742256474737, 1691.3885384322418, 2661.5706475393954, 570.2823076193314, 234.90927569403385, 86.06550178200295, 54.048761864359925, 41.86022884408787, 40.830812849392636, 32.81077032447287, 20.844887641343647, 21.61121371201736, 18.525761828864887, 19.47126393391616, 28.31131558227667, 22.88647490994418, 19.938303905186103, 17.52706923788701, 18.476164218351443, 17.098971483661867, 16.713115883194977, 17.220116953828438, 16.104759385886645, 15.618321698109256, 15.379219874631223, 18.633917718461404, 14.788045496075112, 15.568135262057158, 16.735724881228517, 14.071977416827966, 14.951300925966176, 20.38124969806054, 13.085727936092908, 13.203078481853698, 31.937505732242272, 25.301142540878352, 39.12557037011912, 76.95817221230425, 100.77608535948262, 65.37693491801745, 39.92418761266734, 72.82314648154025, 204.29244577376303, 49.41028298674282, 220.11308875331073, 29.72217482185677, 83.11264132308196, 112.6814158474648, 23.657773984495428, 23.486217763403477, 19.92168917385146, 20.161993257108854, 24.035008842304002, 18.59095456010264, 17.583235681913965, 63.03043013668411, 24.98070171160775, 16.702125529888313, 13.55834796148559, 13.218783997033857, 13.230144572897132, 37.6348983612492, 83.08505121569483, 11.88428261356901, 11.404414698787143, 18.901380977689456, 19.8340649012773, 24.631699080527596, 18.26284333658444, 34.953297577777356, 19.441255490913004, 22.82833627034072, 55.40124276327215, 62.54911080793392, 22.688459724179815, 30.040486141132543, 21.181984617749205, 28.699877715479175, 41.04555720563526, 59.82100637172014, 79.63188089145794, 72.43554709382455, 31.38772206742901, 27.062140423242994, 33.64689635558598, 25.895696664295095, 17.37983125218785, 42.381045661392236, 17.152914739305903, 16.954718773843872, 15.338140633032452, 12.68026295671812, 24.543334604390708, 15.911750219742725, 82.29358819987432, 34.31773632692297, 19.6177590292719, 23.156573787834994, 75.40542651085491, 39.70131538440335, 17.92373706985491, 25.15373206813949, 27.942674120132484, 41.948657257103044, 29.848855273033756, 34.23395907247219, 60.03455785105955, 11.404414698787143, 58.712977077941844, 11.88428261356901, 12.667379918411745, 13.007912069941142, 13.230144572897132, 26.0474640630756, 24.095646888515276, 48.27398377825755, 76.95817221230425, 82.63126347438966, 96.32152141594815], \"Category\": [\"Default\", \"Default\", \"Default\", \"Default\", \"Default\", \"Default\", \"Default\", \"Default\", \"Default\", \"Default\", \"Default\", \"Default\", \"Default\", \"Default\", \"Default\", \"Default\", \"Default\", \"Default\", \"Default\", \"Default\", \"Default\", \"Default\", \"Default\", \"Default\", \"Default\", \"Default\", \"Default\", \"Default\", \"Default\", \"Default\", \"Topic1\", \"Topic1\", \"Topic1\", \"Topic1\", \"Topic1\", \"Topic1\", \"Topic1\", \"Topic1\", \"Topic1\", \"Topic1\", \"Topic1\", \"Topic1\", \"Topic1\", \"Topic1\", \"Topic1\", \"Topic1\", \"Topic1\", \"Topic1\", \"Topic1\", \"Topic1\", \"Topic1\", \"Topic1\", \"Topic1\", \"Topic1\", \"Topic1\", \"Topic1\", \"Topic1\", \"Topic1\", \"Topic1\", \"Topic1\", \"Topic1\", \"Topic1\", \"Topic1\", \"Topic1\", \"Topic1\", \"Topic1\", \"Topic1\", \"Topic1\", \"Topic1\", \"Topic1\", \"Topic1\", \"Topic1\", \"Topic1\", \"Topic1\", \"Topic1\", \"Topic1\", \"Topic1\", \"Topic1\", \"Topic1\", \"Topic1\", \"Topic1\", \"Topic1\", \"Topic1\", \"Topic1\", \"Topic1\", \"Topic1\", \"Topic1\", \"Topic1\", \"Topic1\", \"Topic1\", \"Topic1\", \"Topic1\", \"Topic1\", \"Topic1\", \"Topic1\", \"Topic1\", \"Topic1\", \"Topic1\", \"Topic1\", \"Topic1\", \"Topic1\", \"Topic1\", \"Topic1\", \"Topic1\", \"Topic1\", \"Topic1\", \"Topic1\", \"Topic1\", \"Topic1\", \"Topic1\", \"Topic1\", \"Topic1\", \"Topic1\", \"Topic1\", \"Topic1\", \"Topic1\", \"Topic1\", \"Topic2\", \"Topic2\", \"Topic2\", \"Topic2\", \"Topic2\", \"Topic2\", \"Topic2\", \"Topic2\", \"Topic2\", \"Topic2\", \"Topic2\", \"Topic2\", \"Topic2\", \"Topic2\", \"Topic2\", \"Topic2\", \"Topic2\", \"Topic2\", \"Topic2\", \"Topic2\", \"Topic2\", \"Topic2\", \"Topic2\", \"Topic2\", \"Topic2\", \"Topic2\", \"Topic2\", \"Topic2\", \"Topic2\", \"Topic2\", \"Topic2\", \"Topic2\", \"Topic2\", \"Topic2\", \"Topic2\", \"Topic2\", \"Topic2\", \"Topic2\", \"Topic2\", \"Topic2\", \"Topic2\", \"Topic2\", \"Topic2\", \"Topic2\", \"Topic2\", \"Topic2\", \"Topic2\", \"Topic2\", \"Topic2\", \"Topic2\", \"Topic2\", \"Topic2\", \"Topic2\", \"Topic2\", \"Topic2\", \"Topic2\", \"Topic2\", \"Topic2\", \"Topic2\", \"Topic2\", \"Topic2\", \"Topic2\", \"Topic2\", \"Topic2\", \"Topic2\", \"Topic2\", \"Topic2\", \"Topic2\", \"Topic2\", \"Topic2\", \"Topic2\", \"Topic2\", \"Topic2\", \"Topic2\", \"Topic2\", \"Topic2\", \"Topic2\", \"Topic2\", \"Topic2\", \"Topic2\", \"Topic2\", \"Topic2\", \"Topic2\", \"Topic2\", \"Topic2\", \"Topic2\", \"Topic2\", \"Topic2\", \"Topic2\", \"Topic3\", \"Topic3\", \"Topic3\", \"Topic3\", \"Topic3\", \"Topic3\", \"Topic3\", \"Topic3\", \"Topic3\", \"Topic3\", \"Topic3\", \"Topic3\", \"Topic3\", \"Topic3\", \"Topic3\", \"Topic3\", \"Topic3\", \"Topic3\", \"Topic3\", \"Topic3\", \"Topic3\", \"Topic3\", \"Topic3\", \"Topic3\", \"Topic3\", \"Topic3\", \"Topic3\", \"Topic3\", \"Topic3\", \"Topic3\", \"Topic3\", \"Topic3\", \"Topic3\", \"Topic3\", \"Topic3\", \"Topic3\", \"Topic3\", \"Topic3\", \"Topic3\", \"Topic3\", \"Topic3\", \"Topic3\", \"Topic3\", \"Topic3\", \"Topic3\", \"Topic3\", \"Topic3\", \"Topic3\", \"Topic3\", \"Topic3\", \"Topic3\", \"Topic3\", \"Topic3\", \"Topic3\", \"Topic3\", \"Topic3\", \"Topic3\", \"Topic3\", \"Topic3\", \"Topic3\", \"Topic3\", \"Topic3\", \"Topic3\", \"Topic3\", \"Topic3\", \"Topic3\", \"Topic3\", \"Topic3\", \"Topic3\", \"Topic3\", \"Topic3\", \"Topic3\", \"Topic3\", \"Topic3\", \"Topic3\", \"Topic3\", \"Topic3\", \"Topic4\", \"Topic4\", \"Topic4\", \"Topic4\", \"Topic4\", \"Topic4\", \"Topic4\", \"Topic4\", \"Topic4\", \"Topic4\", \"Topic4\", \"Topic4\", \"Topic4\", \"Topic4\", \"Topic4\", \"Topic4\", \"Topic4\", \"Topic4\", \"Topic4\", \"Topic4\", \"Topic4\", \"Topic4\", \"Topic4\", \"Topic4\", \"Topic4\", \"Topic4\", \"Topic4\", \"Topic4\", \"Topic4\", \"Topic4\", \"Topic4\", \"Topic4\", \"Topic4\", \"Topic4\", \"Topic4\", \"Topic4\", \"Topic5\", \"Topic5\", \"Topic5\", \"Topic5\", \"Topic5\", \"Topic5\", \"Topic5\", \"Topic5\", \"Topic5\", \"Topic5\", \"Topic5\", \"Topic5\", \"Topic5\", \"Topic5\", \"Topic5\", \"Topic5\", \"Topic5\", \"Topic5\", \"Topic5\", \"Topic5\", \"Topic5\", \"Topic5\", \"Topic5\", \"Topic5\", \"Topic5\", \"Topic5\", \"Topic5\", \"Topic5\", \"Topic5\", \"Topic5\", \"Topic5\", \"Topic5\", \"Topic5\", \"Topic5\", \"Topic5\", \"Topic5\", \"Topic5\", \"Topic5\", \"Topic5\", \"Topic5\", \"Topic5\", \"Topic5\", \"Topic5\", \"Topic5\", \"Topic5\", \"Topic5\", \"Topic5\", \"Topic5\", \"Topic5\", \"Topic5\", \"Topic5\", \"Topic5\", \"Topic5\", \"Topic5\", \"Topic5\", \"Topic5\", \"Topic5\", \"Topic5\", \"Topic5\", \"Topic5\", \"Topic5\", \"Topic5\", \"Topic5\", \"Topic5\", \"Topic5\", \"Topic5\", \"Topic5\", \"Topic5\", \"Topic6\", \"Topic6\", \"Topic6\", \"Topic6\", \"Topic6\", \"Topic6\", \"Topic6\", \"Topic6\", \"Topic6\", \"Topic6\", \"Topic6\", \"Topic6\", \"Topic6\", \"Topic6\", \"Topic6\", \"Topic6\", \"Topic6\", \"Topic6\", \"Topic6\", \"Topic6\", \"Topic6\", \"Topic6\", \"Topic6\", \"Topic6\", \"Topic6\", \"Topic6\", \"Topic6\", \"Topic6\", \"Topic6\", \"Topic6\", \"Topic6\", \"Topic6\", \"Topic6\", \"Topic6\", \"Topic6\", \"Topic6\", \"Topic6\", \"Topic6\", \"Topic6\", \"Topic6\", \"Topic6\", \"Topic6\", \"Topic6\", \"Topic6\", \"Topic6\", \"Topic6\", \"Topic6\", \"Topic6\", \"Topic6\", \"Topic6\", \"Topic6\", \"Topic6\", \"Topic6\", \"Topic6\", \"Topic6\", \"Topic6\", \"Topic6\", \"Topic6\", \"Topic6\", \"Topic6\", \"Topic6\", \"Topic6\", \"Topic6\", \"Topic6\", \"Topic6\", \"Topic6\", \"Topic6\", \"Topic6\", \"Topic6\", \"Topic6\", \"Topic7\", \"Topic7\", \"Topic7\", \"Topic7\", \"Topic7\", \"Topic7\", \"Topic7\", \"Topic7\", \"Topic7\", \"Topic7\", \"Topic7\", \"Topic7\", \"Topic7\", \"Topic7\", \"Topic7\", \"Topic7\", \"Topic7\", \"Topic7\", \"Topic7\", \"Topic7\", \"Topic7\", \"Topic7\", \"Topic7\", \"Topic7\", \"Topic7\", \"Topic7\", \"Topic7\", \"Topic7\", \"Topic7\", \"Topic7\", \"Topic7\", \"Topic7\", \"Topic7\", \"Topic7\", \"Topic7\", \"Topic7\", \"Topic7\", \"Topic7\", \"Topic7\", \"Topic7\", \"Topic7\", \"Topic7\", \"Topic7\", \"Topic7\", \"Topic7\", \"Topic7\", \"Topic7\", \"Topic7\", \"Topic7\", \"Topic7\", \"Topic7\", \"Topic7\", \"Topic7\", \"Topic7\", \"Topic7\", \"Topic8\", \"Topic8\", \"Topic8\", \"Topic8\", \"Topic8\", \"Topic8\", \"Topic8\", \"Topic8\", \"Topic8\", \"Topic8\", \"Topic8\", \"Topic8\", \"Topic8\", \"Topic8\", \"Topic8\", \"Topic8\", \"Topic8\", \"Topic8\", \"Topic8\", \"Topic8\", \"Topic8\", \"Topic8\", \"Topic8\", \"Topic8\", \"Topic8\", \"Topic8\", \"Topic8\", \"Topic8\", \"Topic8\", \"Topic8\", \"Topic8\", \"Topic8\", \"Topic8\", \"Topic8\", \"Topic8\", \"Topic8\", \"Topic8\", \"Topic8\", \"Topic8\", \"Topic8\", \"Topic8\", \"Topic8\", \"Topic8\", \"Topic8\", \"Topic9\", \"Topic9\", \"Topic9\", \"Topic9\", \"Topic9\", \"Topic9\", \"Topic9\", \"Topic9\", \"Topic9\", \"Topic9\", \"Topic9\", \"Topic9\", \"Topic9\", \"Topic9\", \"Topic9\", \"Topic9\", \"Topic9\", \"Topic9\", \"Topic9\", \"Topic9\", \"Topic9\", \"Topic9\", \"Topic9\", \"Topic9\", \"Topic9\", \"Topic9\", \"Topic9\", \"Topic9\", \"Topic9\", \"Topic9\", \"Topic9\", \"Topic9\", \"Topic9\", \"Topic9\", \"Topic10\", \"Topic10\", \"Topic10\", \"Topic10\", \"Topic10\", \"Topic10\", \"Topic10\", \"Topic10\", \"Topic10\", \"Topic10\", \"Topic10\", \"Topic10\", \"Topic10\", \"Topic10\", \"Topic10\", \"Topic10\", \"Topic10\", \"Topic10\", \"Topic10\", \"Topic10\", \"Topic10\", \"Topic10\", \"Topic10\", \"Topic10\", \"Topic10\", \"Topic10\", \"Topic10\", \"Topic10\", \"Topic10\", \"Topic10\", \"Topic10\", \"Topic10\", \"Topic10\", \"Topic10\", \"Topic10\", \"Topic10\", \"Topic10\"], \"logprob\": [30.0, 29.0, 28.0, 27.0, 26.0, 25.0, 24.0, 23.0, 22.0, 21.0, 20.0, 19.0, 18.0, 17.0, 16.0, 15.0, 14.0, 13.0, 12.0, 11.0, 10.0, 9.0, 8.0, 7.0, 6.0, 5.0, 4.0, 3.0, 2.0, 1.0, -7.230199813842773, -7.759699821472168, -7.393700122833252, -7.966700077056885, -7.937600135803223, -7.548900127410889, -6.964799880981445, -7.2571001052856445, -8.100799560546875, -8.150799751281738, -7.171000003814697, -8.243200302124023, -8.35260009765625, -7.965400218963623, -7.091100215911865, -6.8871002197265625, -8.377799987792969, -8.45300006866455, -8.418700218200684, -8.036800384521484, -7.212800025939941, -7.72629976272583, -7.458600044250488, -8.551600456237793, -8.579899787902832, -7.8572998046875, -8.506600379943848, -8.350500106811523, -7.688499927520752, -8.62660026550293, -5.978099822998047, -6.519199848175049, -6.8495001792907715, -6.023099899291992, -7.50439977645874, -6.778600215911865, -7.059700012207031, -6.377600193023682, -7.106800079345703, -7.189199924468994, -6.720699787139893, -6.743599891662598, -6.563700199127197, -6.623700141906738, -6.47599983215332, -6.350500106811523, -7.027500152587891, -5.253399848937988, -6.843100070953369, -7.047699928283691, -5.263700008392334, -6.591599941253662, -6.3043999671936035, -6.519000053405762, -5.90369987487793, -5.908599853515625, -5.977799892425537, -5.765500068664551, -5.7164998054504395, -6.4120001792907715, -5.771599769592285, -6.569499969482422, -6.371600151062012, -5.776500225067139, -6.332600116729736, -5.832799911499023, -5.94350004196167, -5.866399765014648, -5.85699987411499, -6.131400108337402, -5.941699981689453, -6.220399856567383, -6.1128997802734375, -5.692299842834473, -6.153900146484375, -6.31279993057251, -6.144400119781494, -6.026299953460693, -6.195700168609619, -5.80810022354126, -5.96999979019165, -5.832300186157227, -6.057600021362305, -6.130199909210205, -6.091300010681152, -6.156300067901611, -6.1946001052856445, -7.137899875640869, -7.579899787902832, -7.7870001792907715, -7.89739990234375, -7.550899982452393, -8.028400421142578, -8.11240005493164, -8.0108003616333, -8.063199996948242, -7.986499786376953, -8.148200035095215, -8.322699546813965, -7.805799961090088, -8.17549991607666, -7.808000087738037, -8.403200149536133, -8.426799774169922, -8.445199966430664, -7.710100173950195, -8.456500053405762, -8.321100234985352, -8.4975004196167, -8.320500373840332, -8.589599609375, -7.7459001541137695, -8.599100112915039, -8.388099670410156, -7.53439998626709, -8.660499572753906, -8.611800193786621, -7.750199794769287, -7.8267998695373535, -8.260600090026855, -7.74429988861084, -7.740499973297119, -7.5625, -7.609899997711182, -7.182000160217285, -6.394000053405762, -7.595200061798096, -7.668000221252441, -7.60830020904541, -6.943299770355225, -7.332399845123291, -6.159800052642822, -5.561200141906738, -6.539899826049805, -6.838699817657471, -6.9506001472473145, -5.882299900054932, -5.393899917602539, -6.214600086212158, -6.994800090789795, -6.323999881744385, -6.2281999588012695, -6.481800079345703, -6.952099800109863, -6.064300060272217, -6.107900142669678, -6.25540018081665, -7.053699970245361, -6.7667999267578125, -6.0192999839782715, -6.388700008392334, -6.489699840545654, -6.689499855041504, -6.111800193786621, -6.127699851989746, -6.907800197601318, -5.78380012512207, -6.72629976272583, -6.044099807739258, -6.138400077819824, -6.288700103759766, -6.281599998474121, -6.2769999504089355, -6.469299793243408, -5.774400234222412, -6.1905999183654785, -5.912600040435791, -6.195899963378906, -6.077899932861328, -6.039100170135498, -6.068299770355225, -6.350500106811523, -6.2789998054504395, -6.287199974060059, -6.296899795532227, -6.339000225067139, -6.622799873352051, -6.14300012588501, -7.250500202178955, -7.3850998878479, -7.497300148010254, -6.360000133514404, -7.49399995803833, -7.526800155639648, -7.5625, -7.594200134277344, -7.678599834442139, -7.712699890136719, -7.842700004577637, -7.855400085449219, -7.928400039672852, -7.946400165557861, -8.041099548339844, -7.951900005340576, -8.115400314331055, -7.923099994659424, -7.580999851226807, -8.181500434875488, -8.218099594116211, -6.385000228881836, -8.158699989318848, -8.112199783325195, -6.018799781799316, -8.295000076293945, -6.154399871826172, -8.166399955749512, -6.818399906158447, -6.549099922180176, -5.041999816894531, -7.355800151824951, -6.946800231933594, -4.335599899291992, -7.530099868774414, -6.7546000480651855, -6.579100131988525, -6.654799938201904, -7.311200141906738, -7.462200164794922, -5.17080020904541, -5.9664998054504395, -6.737100124359131, -6.547999858856201, -5.240300178527832, -6.2342000007629395, -6.521999835968018, -5.478300094604492, -6.0945000648498535, -5.119800090789795, -6.35129976272583, -5.6774001121521, -5.4928998947143555, -6.751299858093262, -6.496699810028076, -6.439700126647949, -6.091100215911865, -6.022799968719482, -6.013299942016602, -5.552700042724609, -6.253900051116943, -5.88539981842041, -6.008999824523926, -5.619900226593018, -5.741499900817871, -6.054900169372559, -6.155799865722656, -5.833499908447266, -6.220099925994873, -6.123499870300293, -6.136600017547607, -6.1828999519348145, -6.178599834442139, -6.145299911499023, -6.199900150299072, -3.9730000495910645, -4.125800132751465, -4.410399913787842, -4.454699993133545, -3.996500015258789, -4.6768999099731445, -4.694399833679199, -4.362599849700928, -4.815700054168701, -4.939499855041504, -3.1642000675201416, -4.9303998947143555, -5.078800201416016, -5.216700077056885, -5.320799827575684, -5.405200004577637, -4.39109992980957, -5.464099884033203, -5.473400115966797, -5.5725998878479, -5.58050012588501, -5.607999801635742, -4.875100135803223, -5.719799995422363, -5.733399868011475, -4.525400161743164, -5.837100028991699, -5.864299774169922, -5.869999885559082, -5.883999824523926, -5.581299781799316, -5.277400016784668, -4.383800029754639, -5.757199764251709, -5.699399948120117, -5.639800071716309, -5.413700103759766, -5.7221999168396, -6.059800148010254, -6.356299877166748, -6.459199905395508, -6.718800067901611, -6.872499942779541, -6.946100234985352, -6.948599815368652, -6.870200157165527, -6.947400093078613, -7.025899887084961, -5.530900001525879, -7.115600109100342, -7.183000087738037, -7.227799892425537, -7.279900074005127, -7.2494001388549805, -7.116700172424316, -7.507199764251709, -7.485400199890137, -7.457799911499023, -7.422999858856201, -7.475100040435791, -7.570700168609619, -6.871200084686279, -7.527400016784668, -7.527100086212158, -7.579800128936768, -7.619999885559082, -6.486999988555908, -7.124800205230713, -5.721499919891357, -6.873000144958496, -6.201000213623047, -5.619999885559082, -5.869999885559082, -4.733699798583984, -4.986999988555908, -6.482399940490723, -6.090099811553955, -6.528600215911865, -5.946199893951416, -6.2743000984191895, -6.606599807739258, -5.8007001876831055, -5.525599956512451, -5.560800075531006, -5.834499835968018, -5.52869987487793, -5.835700035095215, -5.216000080108643, -5.855100154876709, -5.820400238037109, -5.718500137329102, -6.375, -5.693900108337402, -5.428199768066406, -6.286399841308594, -5.923799991607666, -5.594099998474121, -5.832300186157227, -5.869999885559082, -5.607600212097168, -5.905799865722656, -5.899199962615967, -5.97599983215332, -6.005099773406982, -6.8277997970581055, -6.65339994430542, -6.984000205993652, -5.924499988555908, -6.925600051879883, -6.936600208282471, -7.326099872589111, -7.358699798583984, -7.4552998542785645, -7.36870002746582, -7.51609992980957, -7.537499904632568, -7.226600170135498, -7.140399932861328, -7.603799819946289, -7.26609992980957, -7.157299995422363, -7.652200222015381, -7.68179988861084, -7.707699775695801, -7.561100006103516, -6.835400104522705, -7.721799850463867, -7.74560022354126, -7.127600193023682, -7.758200168609619, -7.688499927520752, -7.754300117492676, -7.797100067138672, -6.854000091552734, -5.983399868011475, -6.746300220489502, -6.683000087738037, -6.2571001052856445, -5.565899848937988, -5.86929988861084, -5.672599792480469, -5.8084001541137695, -5.394800186157227, -6.547500133514404, -6.360199928283691, -6.149400234222412, -6.7941999435424805, -6.2418999671936035, -6.224899768829346, -6.473499774932861, -6.450200080871582, -6.760799884796143, -6.7779998779296875, -6.3902997970581055, -6.733699798583984, -6.439899921417236, -5.593299865722656, -5.460899829864502, -5.767099857330322, -5.614699840545654, -5.808000087738037, -6.035600185394287, -6.071199893951416, -6.116799831390381, -6.2718000411987305, -6.3084001541137695, -6.2957000732421875, -6.0903000831604, -6.268499851226807, -6.356500148773193, -6.32289981842041, -6.330100059509277, -6.351399898529053, -6.375100135803223, -5.245699882507324, -5.749300003051758, -6.158599853515625, -6.159999847412109, -6.183899879455566, -5.940499782562256, -6.267399787902832, -6.125199794769287, -6.111999988555908, -6.361800193786621, -5.737100124359131, -6.426300048828125, -5.8069000244140625, -5.938199996948242, -6.486000061035156, -6.524799823760986, -6.540200233459473, -6.439799785614014, -6.247300148010254, -5.6697001457214355, -6.633900165557861, -6.6641998291015625, -6.561699867248535, -6.7505998611450195, -6.776700019836426, -6.491799831390381, -6.774700164794922, -6.782800197601318, -6.660999774932861, -4.768199920654297, -5.747099876403809, -5.760499954223633, -5.012400150299072, -6.367700099945068, -5.130000114440918, -6.16510009765625, -5.659299850463867, -4.7718000411987305, -5.376800060272217, -4.290599822998047, -5.29610013961792, -5.670000076293945, -5.693999767303467, -5.465000152587891, -5.303199768066406, -5.226799964904785, -6.01230001449585, -5.870999813079834, -5.58650016784668, -6.079500198364258, -5.8445000648498535, -5.949399948120117, -5.870500087738037, -5.860799789428711, -5.980500221252441, -2.739500045776367, -3.802299976348877, -4.336900234222412, -4.637800216674805, -4.667399883270264, -5.137400150299072, -5.602200031280518, -5.6072998046875, -5.804800033569336, -5.7596001625061035, -5.389999866485596, -5.617700099945068, -5.771100044250488, -5.900700092315674, -5.855299949645996, -5.948699951171875, -5.98960018157959, -5.98859977722168, -6.0690999031066895, -6.1290998458862305, -6.1519999504089355, -5.978300094604492, -6.2342000007629395, -6.185100078582764, -6.137199878692627, -6.367300033569336, -6.348800182342529, -6.087800025939941, -6.533999919891357, -6.525199890136719, -5.677000045776367, -5.911499977111816, -5.512800216674805, -4.924300193786621, -4.701200008392334, -5.105199813842773, -5.5441999435424805, -5.272799968719482, -4.826399803161621, -5.646999835968018, -5.160600185394287, -5.888800144195557, -5.753799915313721, -5.866300106048584, -5.000699996948242, -5.027299880981445, -5.271699905395508, -5.266600131988525, -5.091800212860107, -5.397900104522705, -5.490699768066406, -4.219099998474121, -5.168099880218506, -5.600500106811523, -6.030099868774414, -6.115099906921387, -6.124000072479248, -5.243000030517578, -4.490799903869629, -6.4456000328063965, -6.52400016784668, -6.407800197601318, -6.421000003814697, -6.34060001373291, -6.646399974822998, -6.094799995422363, -6.980199813842773, -6.865200042724609, -6.400000095367432, -6.372600078582764, -7.461900234222412, -7.273399829864502, -7.654600143432617, -7.388299942016602, -7.03380012512207, -6.664400100708008, -6.719099998474121, -6.888500213623047, -4.551599979400635, -4.75570011138916, -4.582600116729736, -5.037799835205078, -5.470099925994873, -4.586900234222412, -5.495299816131592, -5.508500099182129, -5.706500053405762, -6.15880012512207, -5.750100135803223, -6.394899845123291, -4.903600215911865, -5.991199970245361, -6.56689977645874, -6.61959981918335, -6.004700183868408, -6.846700191497803, -7.730899810791016, -7.430600166320801, -7.3414998054504395, -7.139500141143799, -7.690400123596191, -7.666800022125244, -7.231299877166748, -9.082599639892578, -7.452199935913086, -9.082599639892578, -9.075799942016602, -9.082599639892578, -9.065999984741211, -8.424300193786621, -8.514699935913086, -7.946100234985352, -7.5777997970581055, -7.651700019836426, -8.387999534606934], \"loglift\": [30.0, 29.0, 28.0, 27.0, 26.0, 25.0, 24.0, 23.0, 22.0, 21.0, 20.0, 19.0, 18.0, 17.0, 16.0, 15.0, 14.0, 13.0, 12.0, 11.0, 10.0, 9.0, 8.0, 7.0, 6.0, 5.0, 4.0, 3.0, 2.0, 1.0, 0.7092, 0.6993, 0.6965, 0.6946, 0.6938, 0.6927, 0.6916, 0.69, 0.6898, 0.6869, 0.6853, 0.6852, 0.681, 0.6803, 0.679, 0.6788, 0.6784, 0.6766, 0.6763, 0.674, 0.6737, 0.6735, 0.6713, 0.6708, 0.6702, 0.6687, 0.6686, 0.6682, 0.6677, 0.6676, 0.6675, 0.6644, 0.6674, 0.6588, 0.6657, 0.6553, 0.6594, 0.6446, 0.6584, 0.6598, 0.6491, 0.6446, 0.6352, 0.6363, 0.6257, 0.6147, 0.6422, 0.5488, 0.6304, 0.6424, 0.525, 0.6126, 0.5876, 0.6013, 0.5402, 0.5405, 0.5333, 0.5075, 0.5001, 0.58, 0.4933, 0.5973, 0.566, 0.4759, 0.5498, 0.4526, 0.4695, 0.4475, 0.4437, 0.5078, 0.4301, 0.5051, 0.4721, 0.3156, 0.4667, 0.5174, 0.4252, 0.3473, 0.4416, 0.1355, 0.2136, 0.0901, 0.2804, 0.2913, 0.1902, 0.2979, 0.2953, 1.6073, 1.5898, 1.5805, 1.5734, 1.566, 1.564, 1.5592, 1.5584, 1.5578, 1.5547, 1.5433, 1.541, 1.5403, 1.5403, 1.5339, 1.5333, 1.5313, 1.5293, 1.529, 1.5282, 1.527, 1.5229, 1.5227, 1.5134, 1.5107, 1.5103, 1.5061, 1.5051, 1.5042, 1.5028, 1.5001, 1.5008, 1.4985, 1.4736, 1.4588, 1.4427, 1.439, 1.3898, 1.2984, 1.4348, 1.4371, 1.4185, 1.3188, 1.3738, 1.1811, 1.0248, 1.2007, 1.2512, 1.2765, 1.0068, 0.8737, 1.071, 1.2679, 1.0721, 1.0299, 1.0819, 1.2289, 0.9308, 0.8764, 0.9226, 1.2282, 1.0954, 0.7587, 0.9205, 0.9597, 1.053, 0.7258, 0.668, 1.1359, 0.4144, 1.0197, 0.5464, 0.5983, 0.7005, 0.6838, 0.6492, 0.8169, 0.148, 0.42, 0.031, 0.3926, 0.2036, 0.1445, 0.0661, 0.5314, 0.2627, 0.1639, 0.1049, 0.243, 2.0566, 2.0375, 2.0317, 2.0247, 2.0245, 2.0241, 2.0235, 2.022, 2.0202, 2.0179, 2.0111, 2.0081, 1.9971, 1.9955, 1.9881, 1.9849, 1.9762, 1.9725, 1.9666, 1.9624, 1.9612, 1.9588, 1.9532, 1.9517, 1.9464, 1.9445, 1.9439, 1.9432, 1.9408, 1.9397, 1.9197, 1.9132, 1.8742, 1.8885, 1.8479, 1.5973, 1.8969, 1.798, 1.7595, 1.7305, 1.8553, 1.881, 1.3298, 1.4926, 1.6821, 1.6162, 1.1317, 1.4767, 1.5805, 1.1931, 1.4097, 1.0146, 1.5047, 1.1271, 0.9582, 1.6285, 1.4848, 1.4259, 1.1687, 1.1005, 1.0237, 0.3909, 1.2001, 0.7253, 0.8628, 0.3025, 0.4567, 0.827, 0.9461, 0.1744, 1.0117, 0.5948, 0.405, 0.5538, 0.2147, -0.3566, 0.1381, 2.3762, 2.376, 2.3749, 2.3748, 2.3741, 2.3737, 2.3735, 2.3733, 2.373, 2.3719, 2.3716, 2.3709, 2.3705, 2.3699, 2.3689, 2.3681, 2.3676, 2.3674, 2.3673, 2.3661, 2.366, 2.3657, 2.3653, 2.3641, 2.3638, 2.3623, 2.3622, 2.3618, 2.3616, 2.3616, 2.3608, 2.2424, 2.0443, 2.2889, 2.0917, 1.7086, 2.8715, 2.8521, 2.8464, 2.8392, 2.8208, 2.8171, 2.805, 2.7985, 2.7971, 2.797, 2.7968, 2.7907, 2.7847, 2.7817, 2.7729, 2.769, 2.7631, 2.7522, 2.7522, 2.7322, 2.7301, 2.7299, 2.7272, 2.7235, 2.7227, 2.7204, 2.7198, 2.7184, 2.7163, 2.7124, 2.7027, 2.7081, 2.6646, 2.6976, 2.6614, 2.6087, 2.6034, 2.4903, 2.4984, 2.6206, 2.5185, 2.6008, 2.4514, 2.5068, 2.5933, 2.3147, 2.1881, 2.1892, 2.254, 2.1079, 2.1593, 1.6402, 2.0656, 2.0375, 1.8143, 2.3721, 1.618, 1.2432, 2.2653, 1.5596, 0.8274, 1.3272, 1.2741, 0.4003, 1.278, 1.0223, 0.5936, 0.8668, 3.1699, 3.1672, 3.152, 3.1328, 3.1216, 3.102, 3.0982, 3.0925, 3.0716, 3.0634, 3.0608, 3.0573, 3.0519, 3.0498, 3.0406, 3.0359, 3.0339, 3.0306, 3.0246, 3.0173, 3.017, 3.0165, 3.009, 3.008, 3.005, 3.0046, 2.9996, 2.9966, 2.991, 2.9905, 2.9631, 2.9719, 2.9556, 2.9137, 2.8366, 2.7703, 2.6979, 2.7065, 2.5272, 2.783, 2.6818, 2.556, 2.7897, 2.5452, 2.4124, 2.5381, 2.4445, 2.6381, 2.6325, 2.2266, 2.5507, 2.2048, 0.9927, 0.8067, 1.2221, 0.8751, 1.0825, 1.2225, 0.8179, 0.8783, 1.2919, 1.3528, 1.1537, -0.1679, 0.5691, 0.7181, 0.2676, 0.2115, -0.07, 0.5068, 4.6986, 4.6446, 4.5565, 4.5412, 4.5379, 4.5297, 4.527, 4.516, 4.5048, 4.4979, 4.4924, 4.4801, 4.462, 4.4609, 4.4539, 4.4515, 4.4464, 4.4258, 4.4213, 4.4182, 4.4074, 4.4013, 4.3809, 4.3714, 4.3603, 4.3601, 4.3535, 4.3484, 4.3468, 4.3382, 4.2407, 4.2167, 4.0876, 4.2471, 3.7256, 4.0706, 3.7217, 3.0938, 3.5251, 2.631, 3.3384, 3.5989, 3.5893, 3.1605, 2.7217, 2.5411, 3.7226, 3.3815, 2.2584, 3.5398, 0.7405, 1.9896, 0.8478, 0.4041, 1.825, 5.9529, 5.8941, 5.8248, 5.7794, 5.7748, 5.5234, 5.5123, 5.4711, 5.4276, 5.4231, 5.4183, 5.4033, 5.3878, 5.3872, 5.3798, 5.3639, 5.3458, 5.3169, 5.3034, 5.2741, 5.2666, 5.2483, 5.2236, 5.2212, 5.1969, 5.1401, 5.098, 5.0492, 5.046, 5.0459, 5.0108, 5.0092, 4.972, 4.884, 4.8375, 4.8663, 4.9204, 4.5908, 4.0056, 4.6045, 3.5968, 4.8709, 3.9776, 3.5608, 5.9872, 5.9679, 5.8881, 5.8812, 5.8803, 5.831, 5.794, 5.7889, 5.7654, 5.7356, 5.5145, 5.4549, 5.4451, 5.2806, 5.2409, 5.2307, 5.1936, 4.8046, 4.7432, 4.607, 4.6003, 4.5028, 4.204, 4.1584, 3.737, 3.643, 3.5679, 3.4757, 3.4439, 3.4064, 3.4031, 3.3959, 3.0551, 2.9804, 6.1536, 6.0977, 6.0531, 5.8597, 5.8262, 5.818, 5.8141, 5.8126, 5.7148, 5.4527, 5.201, 4.9896, 4.8377, 4.6248, 4.6083, 4.3897, 3.824, 3.6235, 3.5345, 3.496, 3.48, 3.2756, 3.0651, 2.9515, 2.8254, 2.635, 2.6267, 2.5937, 2.5368, 2.5034, 2.5031, 2.4673, 2.4548, 2.3286, 2.2306, 2.0855, 1.1959]}, \"token.table\": {\"Topic\": [1, 2, 3, 4, 5, 6, 8, 1, 2, 3, 4, 5, 6, 1, 2, 3, 4, 5, 6, 1, 2, 3, 4, 5, 6, 9, 1, 2, 3, 4, 5, 6, 7, 1, 2, 3, 4, 5, 6, 7, 1, 2, 3, 4, 5, 6, 7, 8, 1, 2, 3, 4, 5, 6, 1, 2, 3, 4, 5, 6, 7, 10, 1, 2, 3, 4, 5, 6, 7, 8, 1, 2, 3, 4, 5, 6, 1, 2, 3, 4, 5, 6, 7, 1, 2, 3, 4, 5, 6, 7, 1, 2, 3, 4, 5, 6, 1, 2, 3, 4, 5, 6, 7, 1, 2, 3, 4, 5, 6, 7, 8, 10, 1, 2, 3, 4, 5, 6, 1, 2, 3, 4, 5, 6, 1, 2, 3, 4, 5, 6, 7, 1, 2, 3, 4, 5, 6, 7, 1, 2, 3, 4, 5, 6, 9, 1, 2, 3, 4, 5, 6, 7, 1, 2, 3, 4, 5, 6, 7, 1, 2, 3, 4, 5, 6, 9, 1, 2, 3, 4, 5, 6, 10, 1, 2, 3, 4, 5, 6, 7, 8, 1, 2, 3, 4, 5, 6, 7, 1, 2, 3, 4, 5, 6, 10, 1, 2, 3, 4, 5, 6, 7, 1, 2, 3, 4, 5, 6, 9, 1, 2, 3, 4, 5, 6, 1, 2, 3, 4, 5, 6, 8, 1, 2, 3, 4, 5, 6, 1, 2, 3, 4, 5, 6, 7, 8, 1, 2, 3, 4, 5, 6, 8, 1, 2, 3, 4, 5, 6, 7, 1, 2, 3, 4, 5, 6, 1, 2, 3, 4, 5, 6, 7, 8, 1, 2, 3, 4, 5, 6, 7, 1, 2, 3, 4, 5, 6, 8, 1, 2, 3, 4, 5, 6, 7, 1, 2, 3, 4, 5, 6, 1, 2, 3, 4, 5, 6, 7, 1, 2, 3, 4, 5, 6, 1, 2, 3, 4, 5, 6, 8, 1, 2, 3, 4, 5, 6, 1, 2, 3, 4, 5, 6, 1, 2, 3, 4, 5, 6, 1, 2, 3, 4, 5, 6, 7, 1, 2, 3, 4, 5, 6, 7, 10, 1, 2, 3, 4, 5, 6, 7, 1, 2, 3, 4, 5, 6, 7, 1, 2, 3, 4, 5, 6, 7, 1, 2, 3, 4, 5, 6, 8, 1, 2, 3, 4, 5, 6, 1, 2, 3, 4, 5, 6, 1, 2, 3, 4, 5, 6, 7, 1, 2, 3, 4, 5, 6, 1, 2, 3, 4, 5, 6, 1, 2, 3, 4, 5, 6, 9, 1, 2, 3, 4, 5, 6, 1, 2, 3, 4, 5, 6, 8, 10, 1, 2, 3, 4, 5, 6, 1, 2, 3, 4, 5, 6, 10, 1, 2, 3, 4, 5, 6, 1, 2, 3, 4, 5, 6, 1, 2, 3, 4, 5, 6, 1, 2, 3, 4, 5, 6, 1, 2, 3, 4, 5, 6, 1, 2, 3, 4, 5, 6, 7, 1, 2, 3, 4, 5, 6, 7, 1, 2, 3, 4, 5, 6, 1, 2, 3, 4, 5, 6, 1, 2, 3, 4, 5, 6, 1, 2, 3, 4, 5, 6, 1, 2, 3, 4, 5, 6, 10, 1, 2, 3, 4, 5, 6, 7, 1, 2, 3, 4, 5, 6, 8, 1, 2, 3, 4, 5, 6, 7, 1, 2, 3, 4, 5, 6, 1, 2, 3, 4, 5, 6, 8, 9, 1, 2, 3, 4, 5, 6, 1, 2, 3, 4, 5, 6, 1, 2, 3, 4, 5, 6, 10, 1, 2, 3, 4, 5, 6, 7, 1, 2, 3, 4, 5, 6, 1, 2, 3, 4, 5, 6, 7, 1, 2, 3, 4, 5, 6, 7, 8, 1, 2, 3, 4, 5, 6, 7, 8, 1, 2, 3, 4, 5, 6, 7, 1, 2, 3, 4, 5, 6, 7, 1, 2, 3, 4, 5, 6, 7, 1, 2, 3, 4, 5, 6, 1, 2, 3, 4, 5, 6, 8, 1, 2, 3, 4, 5, 6, 7, 1, 2, 3, 4, 5, 6, 1, 2, 3, 4, 5, 6, 7, 1, 2, 3, 4, 5, 6, 7, 10, 1, 2, 3, 4, 5, 6, 7, 1, 2, 3, 4, 5, 6, 7, 1, 2, 3, 4, 5, 6, 1, 2, 3, 4, 5, 6, 1, 2, 3, 4, 5, 6, 9, 1, 2, 3, 4, 5, 6, 7, 1, 2, 3, 4, 5, 6, 1, 2, 3, 4, 5, 6, 7, 8, 1, 2, 3, 4, 5, 6, 7, 1, 2, 3, 4, 5, 6, 1, 2, 3, 4, 5, 6, 7, 8, 1, 2, 3, 4, 5, 6, 7, 1, 2, 3, 4, 5, 6, 7, 1, 2, 3, 4, 5, 6, 1, 2, 3, 4, 5, 6, 1, 2, 3, 4, 5, 6, 9, 1, 2, 3, 4, 5, 6, 1, 2, 3, 4, 5, 6, 7, 1, 2, 3, 4, 5, 6, 1, 2, 3, 4, 5, 6, 7, 10, 1, 2, 3, 4, 5, 6, 1, 2, 3, 4, 5, 6, 7, 1, 2, 3, 4, 5, 6, 7, 8, 1, 2, 3, 4, 5, 6, 7, 1, 2, 3, 4, 5, 6, 7, 1, 2, 3, 4, 5, 6, 7, 1, 2, 3, 4, 5, 6, 7, 8, 1, 2, 3, 4, 5, 6, 7, 1, 2, 3, 4, 5, 6, 7, 1, 2, 3, 4, 5, 6, 10, 1, 2, 3, 4, 5, 6, 7, 1, 2, 3, 4, 5, 6, 7, 8, 1, 2, 3, 4, 5, 6, 9, 1, 2, 3, 4, 5, 6, 8, 1, 2, 3, 4, 5, 6, 7, 1, 2, 3, 4, 5, 6, 7, 1, 2, 3, 4, 5, 6, 1, 2, 3, 4, 5, 6, 7, 1, 2, 3, 4, 5, 6, 9, 1, 2, 3, 4, 5, 6, 1, 2, 3, 4, 5, 6, 7, 10, 1, 2, 3, 4, 5, 6, 1, 2, 3, 4, 5, 6, 1, 2, 3, 4, 5, 6, 7, 8, 1, 2, 3, 4, 5, 6, 1, 2, 3, 4, 5, 6, 7, 1, 2, 3, 4, 5, 6, 7, 1, 2, 3, 4, 5, 6, 1, 2, 3, 4, 5, 6, 7, 1, 2, 3, 4, 5, 6, 1, 2, 3, 4, 5, 6, 1, 2, 3, 4, 5, 6, 1, 2, 3, 4, 5, 6, 9, 1, 2, 3, 4, 5, 6, 1, 2, 3, 4, 5, 6, 1, 2, 3, 4, 5, 6, 8, 1, 2, 3, 4, 5, 6, 1, 2, 3, 4, 5, 6, 7, 1, 2, 3, 4, 5, 6, 1, 2, 3, 4, 5, 6, 7, 1, 2, 3, 4, 5, 6, 9, 1, 2, 3, 4, 5, 6, 8, 1, 2, 3, 4, 5, 6, 1, 2, 3, 4, 5, 6, 7, 1, 2, 3, 4, 5, 6, 1, 2, 3, 4, 5, 6, 1, 2, 3, 4, 5, 6, 7, 1, 2, 3, 4, 5, 6, 7, 1, 2, 3, 4, 5, 6, 7, 1, 2, 3, 4, 5, 6, 1, 2, 3, 4, 5, 6, 8, 9, 1, 2, 3, 4, 5, 6, 7, 8, 1, 2, 3, 4, 5, 6, 1, 2, 3, 4, 5, 6, 10, 1, 2, 3, 4, 5, 6, 9, 1, 2, 3, 4, 5, 6, 1, 2, 3, 4, 5, 6, 1, 2, 3, 4, 5, 6, 7, 1, 2, 3, 4, 5, 6, 9, 1, 2, 3, 4, 5, 6, 7, 1, 2, 3, 4, 5, 6, 1, 2, 3, 4, 5, 6, 10, 1, 2, 3, 4, 5, 6, 7, 10, 1, 2, 3, 4, 5, 6, 7, 1, 2, 3, 4, 5, 6, 7, 1, 2, 3, 4, 5, 6, 7, 1, 2, 3, 4, 5, 6, 1, 2, 3, 4, 5, 6, 1, 2, 3, 4, 5, 6, 1, 2, 3, 4, 5, 6, 10, 1, 2, 3, 4, 5, 6, 7, 1, 2, 3, 4, 5, 6, 1, 2, 3, 4, 5, 6, 1, 2, 3, 4, 5, 6, 7, 1, 2, 3, 4, 5, 6, 7, 1, 2, 3, 4, 5, 6, 7, 8, 1, 2, 3, 4, 5, 6, 1, 2, 3, 4, 5, 6, 1, 2, 3, 4, 5, 6, 1, 2, 3, 4, 5, 6, 8, 1, 2, 3, 4, 5, 6, 7, 1, 2, 3, 4, 5, 6, 1, 2, 3, 4, 5, 6, 10, 1, 2, 3, 4, 5, 6, 1, 2, 3, 4, 5, 6, 1, 2, 3, 4, 5, 6, 1, 2, 3, 4, 5, 6, 1, 2, 3, 4, 5, 6, 1, 2, 3, 4, 5, 6, 1, 2, 3, 4, 5, 6, 1, 2, 3, 4, 5, 6, 7, 1, 2, 3, 4, 5, 6, 9, 1, 2, 3, 4, 5, 6, 7, 1, 2, 3, 4, 5, 6, 7, 1, 2, 3, 4, 5, 6, 1, 2, 3, 4, 5, 6, 1, 2, 3, 4, 5, 6, 8, 1, 2, 3, 4, 5, 6, 8, 1, 2, 3, 4, 5, 6, 8, 1, 2, 3, 4, 5, 6, 8, 1, 2, 3, 4, 5, 6, 7, 1, 2, 3, 4, 5, 6, 8, 1, 2, 3, 4, 5, 6, 10, 1, 2, 3, 4, 5, 6, 1, 2, 3, 4, 5, 6, 8, 10, 1, 2, 3, 4, 5, 6, 7, 1, 2, 3, 4, 5, 6, 7, 1, 2, 3, 4, 5, 6, 8, 1, 2, 3, 4, 5, 6, 7, 8, 1, 2, 3, 4, 5, 6, 1, 2, 3, 4, 5, 6, 7, 1, 2, 3, 4, 5, 6, 7, 9, 1, 2, 3, 4, 5, 6, 7, 1, 2, 3, 4, 5, 6, 7, 9, 1, 2, 3, 4, 5, 6, 7, 1, 2, 3, 4, 5, 6, 7, 8, 1, 2, 3, 4, 5, 6, 1, 2, 3, 4, 5, 6, 9, 1, 2, 3, 4, 5, 6, 7, 1, 2, 3, 4, 5, 6, 1, 2, 3, 4, 5, 6, 1, 2, 3, 4, 5, 6, 1, 2, 3, 4, 5, 6, 7, 8, 1, 2, 3, 4, 5, 6, 1, 2, 3, 4, 5, 6, 7, 8, 1, 2, 3, 4, 5, 6, 7, 8, 1, 2, 3, 4, 5, 6, 7, 1, 2, 3, 4, 5, 6, 7, 1, 2, 3, 4, 5, 6, 1, 2, 3, 4, 5, 6, 1, 2, 3, 4, 5, 6, 7, 1, 2, 3, 4, 5, 6, 7, 1, 2, 3, 4, 5, 6, 7, 8, 1, 2, 3, 4, 5, 6, 7, 1, 2, 3, 4, 5, 6, 1, 2, 3, 4, 5, 6, 7, 1, 2, 3, 4, 5, 6, 7, 1, 2, 3, 4, 5, 6, 7, 1, 2, 3, 4, 5, 6, 10, 1, 2, 3, 4, 5, 6, 7, 1, 2, 3, 4, 5, 6, 7, 8, 1, 2, 3, 4, 5, 6, 7, 1, 2, 3, 4, 5, 6, 7, 8, 1, 2, 3, 4, 5, 6, 7, 1, 2, 3, 4, 5, 6, 9, 1, 2, 3, 4, 5, 6, 1, 2, 3, 4, 5, 6, 1, 2, 3, 4, 5, 6, 1, 2, 3, 4, 5, 6, 8, 9, 1, 2, 3, 4, 5, 6, 7, 1, 2, 3, 4, 5, 6, 7, 1, 2, 3, 4, 5, 6, 1, 2, 3, 4, 5, 6, 1, 2, 3, 4, 5, 6, 1, 2, 3, 4, 5, 6, 1, 2, 3, 4, 5, 6, 1, 2, 3, 4, 5, 6, 7, 1, 2, 3, 4, 5, 6, 7, 1, 2, 3, 4, 5, 6, 7, 8, 1, 2, 3, 4, 5, 6, 7, 8, 1, 2, 3, 4, 5, 6, 1, 2, 3, 4, 5, 6, 1, 2, 3, 4, 5, 6, 1, 2, 3, 4, 5, 6, 8, 1, 2, 3, 4, 5, 6, 1, 2, 3, 4, 5, 6, 7, 8, 1, 2, 3, 4, 5, 6, 7, 8, 1, 2, 3, 4, 5, 6, 7, 9, 1, 2, 3, 4, 5, 6, 1, 2, 3, 4, 5, 6, 7, 1, 2, 3, 4, 5, 6, 7, 1, 2, 3, 4, 5, 6, 1, 2, 3, 4, 5, 6, 1, 2, 3, 4, 5, 6, 1, 2, 3, 4, 5, 6, 1, 2, 3, 4, 5, 6, 10, 1, 2, 3, 4, 5, 6, 8, 1, 2, 3, 4, 5, 6, 7, 1, 2, 3, 4, 5, 6, 7, 1, 2, 3, 4, 5, 6, 8, 1, 2, 3, 4, 5, 6, 7, 8, 1, 2, 3, 4, 5, 6, 7, 1, 2, 3, 4, 5, 6, 8, 1, 2, 3, 4, 5, 6, 7, 1, 2, 3, 4, 5, 6, 7, 1, 2, 3, 4, 5, 6, 7, 8, 1, 2, 3, 4, 5, 6, 7, 8, 1, 2, 3, 4, 5, 6, 1, 2, 3, 4, 5, 6, 7, 8, 1, 2, 3, 4, 5, 6, 7, 8, 1, 2, 3, 4, 5, 6, 1, 2, 3, 4, 5, 6, 9, 1, 2, 3, 4, 5, 6, 1, 2, 3, 4, 5, 6, 7, 1, 2, 3, 4, 5, 6, 1, 2, 3, 4, 5, 6, 7, 8, 1, 2, 3, 4, 5, 6, 1, 2, 3, 4, 5, 6, 1, 2, 3, 4, 5, 6, 7, 1, 2, 3, 4, 5, 6, 7, 1, 2, 3, 4, 5, 6, 7, 1, 2, 3, 4, 5, 6, 9, 1, 2, 3, 4, 5, 6, 8, 1, 2, 3, 4, 5, 6, 7, 1, 2, 3, 4, 5, 6, 7, 8, 1, 2, 3, 4, 5, 6, 7, 8, 1, 2, 3, 4, 5, 6, 1, 2, 3, 4, 5, 6, 7, 1, 2, 3, 4, 5, 6, 1, 2, 3, 4, 5, 6, 9, 1, 2, 3, 4, 5, 6, 1, 2, 3, 4, 5, 6, 1, 2, 3, 4, 5, 6, 1, 2, 3, 4, 5, 6, 1, 2, 3, 4, 5, 6, 1, 2, 3, 4, 5, 6, 7, 10, 1, 2, 3, 4, 5, 6, 1, 2, 3, 4, 5, 6, 7, 1, 2, 3, 4, 5, 6, 7, 8, 1, 2, 3, 4, 5, 6, 1, 2, 3, 4, 5, 6, 8, 1, 2, 3, 4, 5, 6, 7, 8, 1, 2, 3, 4, 5, 6, 7, 8, 1, 2, 3, 4, 5, 6, 7, 8, 9, 1, 2, 3, 4, 5, 6, 7, 1, 2, 3, 4, 5, 6, 7, 1, 2, 3, 4, 5, 6, 1, 2, 3, 4, 5, 6, 7, 1, 2, 3, 4, 5, 6, 1, 2, 3, 4, 5, 6, 1, 2, 3, 4, 5, 6, 7, 1, 2, 3, 4, 5, 6, 7, 1, 2, 3, 4, 5, 6, 8, 1, 2, 3, 4, 5, 6, 1, 2, 3, 4, 5, 6, 1, 2, 3, 4, 5, 6, 1, 2, 3, 4, 5, 6, 1, 2, 3, 4, 5, 6, 1, 2, 3, 4, 5, 6, 7, 1, 2, 3, 4, 5, 6, 7, 1, 2, 3, 4, 5, 6, 7, 1, 2, 3, 4, 5, 6, 1, 2, 3, 4, 5, 6, 7, 1, 2, 3, 4, 5, 6, 1, 2, 3, 4, 5, 6, 7, 1, 2, 3, 4, 5, 6, 1, 2, 3, 4, 5, 6, 7, 1, 2, 3, 4, 5, 6, 7, 8, 1, 2, 3, 4, 5, 6, 7, 1, 2, 3, 4, 5, 6, 1, 2, 3, 4, 5, 6, 1, 2, 3, 4, 5, 6, 1, 2, 3, 4, 5, 6, 7, 1, 2, 3, 4, 5, 6, 1, 2, 3, 4, 5, 6, 7, 1, 2, 3, 4, 5, 6, 1, 2, 3, 4, 5, 6, 9, 1, 2, 3, 4, 5, 6, 9, 1, 2, 3, 4, 5, 6, 1, 2, 3, 4, 5, 6, 7, 8, 1, 2, 3, 4, 5, 6, 1, 2, 3, 4, 5, 6, 7, 1, 2, 3, 4, 5, 6, 1, 2, 3, 4, 5, 6, 8, 1, 2, 3, 4, 5, 6, 7, 1, 2, 3, 4, 5, 6, 7, 1, 2, 3, 4, 5, 6, 8, 1, 2, 3, 4, 5, 6, 10, 1, 2, 3, 4, 5, 6, 1, 2, 3, 4, 5, 6, 7, 1, 2, 3, 4, 5, 6, 7, 1, 2, 3, 4, 5, 6, 7, 1, 2, 3, 4, 5, 6, 7, 1, 2, 3, 4, 5, 6, 7, 1, 2, 3, 4, 5, 6, 7, 1, 2, 3, 4, 5, 6, 9, 1, 2, 3, 4, 5, 6, 7, 8, 1, 2, 3, 4, 5, 6, 7, 10, 1, 2, 3, 4, 5, 6, 7, 1, 2, 3, 4, 5, 6, 1, 2, 3, 4, 5, 6, 7, 1, 2, 3, 4, 5, 6, 7, 1, 2, 3, 4, 5, 6, 1, 2, 3, 4, 5, 6, 1, 2, 3, 4, 5, 6, 1, 2, 3, 4, 5, 6, 7, 9, 1, 2, 3, 4, 5, 6, 10, 1, 2, 3, 4, 5, 6, 7, 1, 2, 3, 4, 5, 6, 7, 8, 1, 2, 3, 4, 5, 6, 7, 1, 2, 3, 4, 5, 6, 7, 1, 2, 3, 4, 5, 6, 7, 1, 2, 3, 4, 5, 6, 1, 2, 3, 4, 5, 6, 7, 1, 2, 3, 4, 5, 6, 7, 1, 2, 3, 4, 5, 6, 9, 1, 2, 3, 4, 5, 6, 7, 8, 1, 2, 3, 4, 5, 6, 7, 1, 2, 3, 4, 5, 6, 8, 1, 2, 3, 4, 5, 6, 7, 8, 1, 2, 3, 4, 5, 6, 1, 2, 3, 4, 5, 6, 1, 2, 3, 4, 5, 6, 1, 2, 3, 4, 5, 6, 1, 2, 3, 4, 5, 6, 1, 2, 3, 4, 5, 6, 1, 2, 3, 4, 5, 6, 7, 1, 2, 3, 4, 5, 6, 1, 2, 3, 4, 5, 6, 1, 2, 3, 4, 5, 6, 1, 2, 3, 4, 5, 6, 1, 2, 3, 4, 5, 6, 7, 1, 2, 3, 4, 5, 6, 7, 8, 1, 2, 3, 4, 5, 6, 7, 1, 2, 3, 4, 5, 6, 1, 2, 3, 4, 5, 6, 1, 2, 3, 4, 5, 6, 1, 2, 3, 4, 5, 6, 1, 2, 3, 4, 5, 6, 1, 2, 3, 4, 5, 6, 7, 1, 2, 3, 4, 5, 6, 9, 1, 2, 3, 4, 5, 6, 9, 1, 2, 3, 4, 5, 6, 7, 1, 2, 3, 4, 5, 6, 1, 2, 3, 4, 5, 6, 1, 2, 3, 4, 5, 6, 1, 2, 3, 4, 5, 6, 1, 2, 3, 4, 5, 6, 7, 1, 2, 3, 4, 5, 6, 1, 2, 3, 4, 5, 6, 7, 1, 2, 3, 4, 5, 6, 7, 1, 2, 3, 4, 5, 6, 7, 1, 2, 3, 4, 5, 6, 1, 2, 3, 4, 5, 6, 8, 1, 2, 3, 4, 5, 6, 7, 1, 2, 3, 4, 5, 6, 1, 2, 3, 4, 5, 6, 1, 2, 3, 4, 5, 6, 8, 1, 2, 3, 4, 5, 6, 1, 2, 3, 4, 5, 6, 1, 2, 3, 4, 5, 6, 7, 1, 2, 3, 4, 5, 6, 7, 1, 2, 3, 4, 5, 6, 1, 2, 3, 4, 5, 6, 7, 1, 2, 3, 4, 5, 6, 7, 1, 2, 3, 4, 5, 6, 7, 1, 2, 3, 4, 5, 6, 1, 2, 3, 4, 5, 6, 1, 2, 3, 4, 5, 6, 10, 1, 2, 3, 4, 5, 6, 8, 1, 2, 3, 4, 5, 6, 7, 8, 1, 2, 3, 4, 5, 6, 1, 2, 3, 4, 5, 6, 7, 1, 2, 3, 4, 5, 6, 1, 2, 3, 4, 5, 6, 7, 8, 1, 2, 3, 4, 5, 6, 7, 9, 1, 2, 3, 4, 5, 6, 7, 8, 1, 2, 3, 4, 5, 6, 9, 1, 2, 3, 4, 5, 6, 8, 1, 2, 3, 4, 5, 6, 7, 8, 1, 2, 3, 4, 5, 6, 7, 8, 1, 2, 3, 4, 5, 6, 7, 8, 1, 2, 3, 4, 5, 6, 1, 2, 3, 4, 5, 6, 1, 2, 3, 4, 5, 6, 1, 2, 3, 4, 5, 6, 9, 1, 2, 3, 4, 5, 6, 1, 2, 3, 4, 5, 6, 7, 8, 1, 2, 3, 4, 5, 6, 1, 2, 3, 4, 5, 6, 7, 1, 2, 3, 4, 5, 6, 8, 1, 2, 3, 4, 5, 6, 1, 2, 3, 4, 5, 6, 7, 1, 2, 3, 4, 5, 6, 7, 1, 2, 3, 4, 5, 6, 7, 1, 2, 3, 4, 5, 6, 8, 1, 2, 3, 4, 5, 6, 8, 1, 2, 3, 4, 5, 6, 7, 8, 1, 2, 3, 4, 5, 6, 7, 1, 2, 3, 4, 5, 6, 7, 8, 1, 2, 3, 4, 5, 6, 7, 1, 2, 3, 4, 5, 6, 1, 2, 3, 4, 5, 6, 9, 1, 2, 3, 4, 5, 6, 7, 1, 2, 3, 4, 5, 6, 10, 1, 2, 3, 4, 5, 6, 8, 9, 10, 1, 2, 3, 4, 5, 6, 1, 2, 3, 4, 5, 6, 1, 2, 3, 4, 5, 6, 7, 8, 1, 2, 3, 4, 5, 6, 7, 1, 2, 3, 4, 5, 6, 1, 2, 3, 4, 5, 6, 8, 1, 2, 3, 4, 5, 6, 1, 2, 3, 4, 5, 6, 10, 1, 2, 3, 4, 5, 6, 7, 1, 2, 3, 4, 5, 6, 1, 2, 3, 4, 5, 6, 7, 8, 1, 2, 3, 4, 5, 6, 7, 1, 2, 3, 4, 5, 6, 7, 1, 2, 3, 4, 5, 6, 7, 8, 1, 2, 3, 4, 5, 6, 1, 2, 3, 4, 5, 6, 9, 1, 2, 3, 4, 5, 6, 1, 2, 3, 4, 5, 6, 1, 2, 3, 4, 5, 6, 7, 1, 2, 3, 4, 5, 6, 7, 1, 2, 3, 4, 5, 6, 7, 1, 2, 3, 4, 5, 6, 1, 2, 3, 4, 5, 6, 7, 1, 2, 3, 4, 5, 6, 7, 1, 2, 3, 4, 5, 6, 1, 2, 3, 4, 5, 6, 8, 1, 2, 3, 4, 5, 6, 8, 1, 2, 3, 4, 5, 6, 8, 1, 2, 3, 4, 5, 6, 1, 2, 3, 4, 5, 6, 7, 1, 2, 3, 4, 5, 6, 1, 2, 3, 4, 5, 6, 7, 1, 2, 3, 4, 5, 6, 7, 8, 1, 2, 3, 4, 5, 6, 8, 1, 2, 3, 4, 5, 6, 1, 2, 3, 4, 5, 6, 7, 8, 1, 2, 3, 4, 5, 6, 7, 1, 2, 3, 4, 5, 6, 1, 2, 3, 4, 5, 6, 7, 8, 1, 2, 3, 4, 5, 6, 7, 1, 2, 3, 4, 5, 6, 9, 1, 2, 3, 4, 5, 6, 8, 1, 2, 3, 4, 5, 6, 1, 2, 3, 4, 5, 6, 8], \"Freq\": [0.024491307672187945, 0.024491307672187945, 0.024491307672187945, 0.04898261534437589, 0.024491307672187945, 0.024491307672187945, 0.8082131531822022, 0.015060181826652138, 0.030120363653304276, 0.015060181826652138, 0.030120363653304276, 0.8885507277724761, 0.015060181826652138, 0.01513068852734368, 0.00378267213183592, 0.00378267213183592, 0.00756534426367184, 0.9607987214863237, 0.00378267213183592, 0.018050136605652873, 0.7581057374374207, 0.018050136605652873, 0.036100273211305746, 0.07220054642261149, 0.018050136605652873, 0.07220054642261149, 0.8838072170475697, 0.04595797528647362, 0.04595797528647362, 0.0017676144340951394, 0.01855995155799896, 0.0008838072170475697, 0.0017676144340951394, 0.017184413159001256, 0.017184413159001256, 0.22339737106701635, 0.03436882631800251, 0.017184413159001256, 0.017184413159001256, 0.6530077000420478, 0.031311148979003, 0.031311148979003, 0.062622297958006, 0.062622297958006, 0.15655574489501498, 0.031311148979003, 0.250489191832024, 0.37573378774803595, 0.01476989826825457, 0.9009637943635288, 0.01476989826825457, 0.02953979653650914, 0.01476989826825457, 0.01476989826825457, 0.05579193647522609, 0.05579193647522609, 0.05579193647522609, 0.11158387295045218, 0.05579193647522609, 0.05579193647522609, 0.5021274282770348, 0.05579193647522609, 0.9549008168971006, 0.012419230277563448, 0.002759828950569655, 0.002759828950569655, 0.015179059228133103, 0.0013799144752848274, 0.004139743425854482, 0.00551965790113931, 0.017084519677121237, 0.017084519677121237, 0.8713105035331831, 0.034169039354242474, 0.017084519677121237, 0.017084519677121237, 0.15034769084002764, 0.010023179389335175, 0.11025497328268694, 0.07517384542001382, 0.17039404961869797, 0.15535928053469522, 0.3257533301533932, 0.1353757948160153, 0.05972461536000675, 0.1035226666240117, 0.0477796922880054, 0.33047620499203734, 0.13139415379201486, 0.18315548710402071, 0.02110744308411557, 0.02110744308411557, 0.02110744308411557, 0.04221488616823114, 0.8442977233646227, 0.02110744308411557, 0.029107403715314967, 0.029107403715314967, 0.2619666334378347, 0.058214807430629935, 0.029107403715314967, 0.029107403715314967, 0.5530406705909844, 0.02921076110078394, 0.3797398943101912, 0.02921076110078394, 0.05842152220156788, 0.02921076110078394, 0.08763228330235182, 0.20447532770548757, 0.17526456660470363, 0.02921076110078394, 0.015342282358028208, 0.889852376765636, 0.015342282358028208, 0.030684564716056417, 0.015342282358028208, 0.015342282358028208, 0.9682693896261606, 0.0027122391866279006, 0.0027122391866279006, 0.016273435119767404, 0.0027122391866279006, 0.0027122391866279006, 0.031731944871460346, 0.06346388974292069, 0.031731944871460346, 0.06346388974292069, 0.031731944871460346, 0.031731944871460346, 0.729834732043588, 0.11234980958770052, 0.06913834436166186, 0.03456917218083093, 0.7501510363240312, 0.027655337744664745, 0.003456917218083093, 0.0017284586090415466, 0.044075270518882693, 0.48482797570770964, 0.044075270518882693, 0.1322258115566481, 0.044075270518882693, 0.17630108207553077, 0.044075270518882693, 0.2534297500053364, 0.4928233907796081, 0.08889535846341032, 0.001559567692340532, 0.07174011384766446, 0.08889535846341032, 0.001559567692340532, 0.1626434064851726, 0.5412814005637113, 0.12172356854782025, 0.045063618994299406, 0.027452549502274354, 0.09996871799884811, 0.0015539178963551521, 0.028609603937219962, 0.34331524724663953, 0.028609603937219962, 0.057219207874439924, 0.34331524724663953, 0.028609603937219962, 0.14304801968609981, 0.05944084645619817, 0.11888169291239634, 0.029720423228099084, 0.05944084645619817, 0.029720423228099084, 0.029720423228099084, 0.683569734246279, 0.6852300356657102, 0.15287833925304659, 0.10177927791367211, 0.0008376895301536799, 0.03518296026645456, 0.02010454872368832, 0.00293191335553788, 0.00041884476507683997, 0.2213196098707042, 0.3863212833010953, 0.33790761864187874, 0.002964101917911217, 0.03359315506966046, 0.015808543562193158, 0.0009880339726370724, 0.039755531993863905, 0.6758440438956864, 0.039755531993863905, 0.07951106398772781, 0.039755531993863905, 0.039755531993863905, 0.039755531993863905, 0.03718037188429435, 0.03718037188429435, 0.03718037188429435, 0.0743607437685887, 0.03718037188429435, 0.03718037188429435, 0.7064270658015925, 0.12179427777970978, 0.040598092593236594, 0.040598092593236594, 0.08119618518647319, 0.040598092593236594, 0.4871771111188391, 0.16239237037294638, 0.17652751727558258, 0.19096058472578742, 0.051070854054571055, 0.5107085405457106, 0.028866134900409728, 0.039968494477490395, 0.015295914396323383, 0.015295914396323383, 0.520061089474995, 0.030591828792646766, 0.015295914396323383, 0.06118365758529353, 0.321214202322791, 0.006156505415019918, 0.11902577135705177, 0.857806421159442, 0.004104336943346613, 0.004104336943346613, 0.004104336943346613, 0.009922989134107144, 0.009922989134107144, 0.019845978268214288, 0.019845978268214288, 0.4266885327666072, 0.009922989134107144, 0.17861380441392857, 0.3175356522914286, 0.031320862595974705, 0.031320862595974705, 0.031320862595974705, 0.06264172519194941, 0.031320862595974705, 0.7517007023033929, 0.031320862595974705, 0.8714893155674859, 0.052753590530719485, 0.028838629490126652, 0.012660861727372677, 0.023211579833516575, 0.009143955691991378, 0.0014067624141525196, 0.00234767309158285, 0.0046953461831657, 0.00234767309158285, 0.983675025373214, 0.00234767309158285, 0.00234767309158285, 0.0018621911604940326, 0.12476680775310017, 0.5121025691358589, 0.026070676246916454, 0.13593995471606438, 0.013035338123458227, 0.17318377792594503, 0.011173146962964195, 0.03217821012226016, 0.03217821012226016, 0.03217821012226016, 0.06435642024452032, 0.03217821012226016, 0.03217821012226016, 0.7400988328119837, 0.06762218849444367, 0.06762218849444367, 0.06762218849444367, 0.13524437698888733, 0.06762218849444367, 0.06762218849444367, 0.4733553194611057, 0.24162545629605878, 0.33075530760987876, 0.2813160932092442, 0.002088980890167655, 0.08077392775314933, 0.06127677277825122, 0.0027853078535568735, 0.002316649326323586, 0.004633298652647172, 0.002316649326323586, 0.9845759636875241, 0.002316649326323586, 0.002316649326323586, 0.38839543530207327, 0.3788133110758708, 0.1609796870002014, 0.001277616563493662, 0.030023989242101055, 0.03768968862306303, 0.001277616563493662, 0.013409277740759075, 0.013409277740759075, 0.911830886371617, 0.02681855548151815, 0.013409277740759075, 0.013409277740759075, 0.043693928572875136, 0.08738785714575027, 0.043693928572875136, 0.08738785714575027, 0.13108178571862542, 0.043693928572875136, 0.5680210714473768, 0.008361448712233294, 0.9448437044823622, 0.008361448712233294, 0.016722897424466587, 0.008361448712233294, 0.008361448712233294, 0.010369568371215948, 0.010369568371215948, 0.9228915850382193, 0.020739136742431896, 0.010369568371215948, 0.010369568371215948, 0.011932489349318022, 0.8173755204282845, 0.13722362751715725, 0.011932489349318022, 0.005966244674659011, 0.011932489349318022, 0.8804822054161081, 0.07129035732601506, 0.017591127132393327, 0.0018516975928835082, 0.019442824725276836, 0.0037033951857670163, 0.004629243982208771, 0.029139451112790312, 0.029139451112790312, 0.5827890222558062, 0.058278902225580624, 0.029139451112790312, 0.029139451112790312, 0.058278902225580624, 0.17483670667674187, 0.8953354792344078, 0.0037841736231378183, 0.0083251819709032, 0.011352520869413454, 0.07871081136126662, 0.0007568347246275636, 0.0007568347246275636, 0.04863568805602036, 0.04863568805602036, 0.04863568805602036, 0.09727137611204072, 0.04863568805602036, 0.04863568805602036, 0.6322639447282646, 0.42166613383365137, 0.016122528646580786, 0.5469257794724713, 0.011161750601479007, 0.0012401945112754452, 0.0012401945112754452, 0.0012401945112754452, 0.04797339363041732, 0.04797339363041732, 0.04797339363041732, 0.09594678726083464, 0.04797339363041732, 0.04797339363041732, 0.6236541171954252, 0.017650455813662175, 0.8648723348694466, 0.017650455813662175, 0.03530091162732435, 0.017650455813662175, 0.017650455813662175, 0.011905333494651556, 0.011905333494651556, 0.9167106790881698, 0.023810666989303113, 0.011905333494651556, 0.011905333494651556, 0.018989331728663208, 0.018989331728663208, 0.018989331728663208, 0.037978663457326416, 0.8545199277898444, 0.018989331728663208, 0.018989331728663208, 0.014695240785091185, 0.014695240785091185, 0.8964096878905623, 0.02939048157018237, 0.014695240785091185, 0.014695240785091185, 0.013527749998588311, 0.1217497499872948, 0.8319566249131811, 0.006763874999294156, 0.006763874999294156, 0.013527749998588311, 0.04959827072888307, 0.09919654145776614, 0.04959827072888307, 0.09919654145776614, 0.04959827072888307, 0.04959827072888307, 0.5951792487465969, 0.016063667273611054, 0.883501700048608, 0.016063667273611054, 0.03212733454722211, 0.016063667273611054, 0.016063667273611054, 0.03861645480960537, 0.03861645480960537, 0.03861645480960537, 0.07723290961921074, 0.03861645480960537, 0.03861645480960537, 0.15446581923842148, 0.5406303673344751, 0.013456170450187167, 0.8881072497123531, 0.026912340900374334, 0.026912340900374334, 0.013456170450187167, 0.013456170450187167, 0.05753795796343625, 0.05753795796343625, 0.05753795796343625, 0.1150759159268725, 0.05753795796343625, 0.05753795796343625, 0.5178416216709262, 0.0020102708877322802, 0.0040205417754645605, 0.008041083550929121, 0.9810121932133526, 0.0020102708877322802, 0.0020102708877322802, 0.03249667202154635, 0.03249667202154635, 0.03249667202154635, 0.0649933440430927, 0.03249667202154635, 0.7474234564955661, 0.0020746833758221906, 0.004149366751644381, 0.0020746833758221906, 0.9854746035155405, 0.0020746833758221906, 0.0020746833758221906, 0.0018163410967910526, 0.003632682193582105, 0.0018163410967910526, 0.9880895566543326, 0.0018163410967910526, 0.0018163410967910526, 0.002019192855282927, 0.004038385710565854, 0.002019192855282927, 0.9873853062333513, 0.002019192855282927, 0.002019192855282927, 0.01331701572169221, 0.02663403144338442, 0.01331701572169221, 0.02663403144338442, 0.825654974744917, 0.01331701572169221, 0.07990209433015326, 0.740886213921847, 0.08407580831987946, 0.031082571560682712, 0.029553920500321264, 0.10038141963040154, 0.012229208482891558, 0.0010191007069076299, 0.23809761459819434, 0.28138808997968423, 0.03541947985758263, 0.003935497761953626, 0.4368402515768524, 0.001967748880976813, 0.01829025216070151, 0.01829025216070151, 0.01829025216070151, 0.03658050432140302, 0.8413515993922696, 0.03658050432140302, 0.00927166827725203, 0.9364384960024551, 0.00927166827725203, 0.01854333655450406, 0.00927166827725203, 0.00927166827725203, 0.12048223701476492, 0.021419064358180428, 0.05354766089545107, 0.005354766089545107, 0.7523446355810876, 0.045515511761133415, 0.07886271786423725, 0.07886271786423725, 0.07886271786423725, 0.1577254357284745, 0.07886271786423725, 0.07886271786423725, 0.39431358932118626, 0.9013079892759003, 0.03156331479954515, 0.0017535174888636193, 0.0035070349777272386, 0.005260552466590858, 0.007014069955454477, 0.04909848968818134, 0.049064704805376044, 0.049064704805376044, 0.049064704805376044, 0.09812940961075209, 0.2453235240268802, 0.049064704805376044, 0.39251763844300835, 0.2256269881501474, 0.12892970751436994, 0.008058106719648121, 0.016116213439296243, 0.008058106719648121, 0.5962998972539609, 0.008058106719648121, 0.9580464478537716, 0.011975580598172145, 0.0059877902990860725, 0.011975580598172145, 0.0059877902990860725, 0.0059877902990860725, 0.041605975956201885, 0.041605975956201885, 0.041605975956201885, 0.08321195191240377, 0.041605975956201885, 0.041605975956201885, 0.08321195191240377, 0.5824836633868263, 0.013521152383191274, 0.8923960572906241, 0.013521152383191274, 0.027042304766382547, 0.013521152383191274, 0.027042304766382547, 0.0748405045617225, 0.8831179538283256, 0.007484050456172251, 0.014968100912344502, 0.007484050456172251, 0.007484050456172251, 0.05097422180116942, 0.05097422180116942, 0.05097422180116942, 0.10194844360233885, 0.05097422180116942, 0.4587679962105248, 0.15292266540350827, 0.3685904604699973, 0.21692605653595853, 0.17096714625291645, 0.0018383564113216824, 0.20865345268501095, 0.0312520589924686, 0.0018383564113216824, 0.017970521936723646, 0.10782313162034189, 0.053911565810170946, 0.03594104387344729, 0.017970521936723646, 0.7547619213423932, 0.9483979368506952, 0.004851140341947289, 0.021830131538762804, 0.004851140341947289, 0.016978991196815514, 0.0024255701709736447, 0.0024255701709736447, 0.03239567338577872, 0.03239567338577872, 0.03239567338577872, 0.06479134677155744, 0.03239567338577872, 0.03239567338577872, 0.7451004878729106, 0.03239567338577872, 0.010755848824039016, 0.010755848824039016, 0.5270365923779118, 0.021511697648078032, 0.010755848824039016, 0.11831433706442919, 0.2688962206009754, 0.021511697648078032, 0.35818109719832025, 0.03179122164482132, 0.05722419896067839, 0.019074732986892794, 0.4789877394486413, 0.03179122164482132, 0.023313562539535638, 0.36675241043269813, 0.10822202275063224, 0.14429603033417632, 0.004008223064838231, 0.30462495292770553, 0.012024669194514693, 0.05811923444015435, 0.2079972569161232, 0.06216009976803681, 0.06455087283603823, 0.06216009976803681, 0.5618316709803327, 0.019126184544011327, 0.021516957612012742, 0.03189942963563861, 0.03189942963563861, 0.03189942963563861, 0.06379885927127722, 0.03189942963563861, 0.7655863112553266, 0.07641913425708716, 0.1528382685141743, 0.07641913425708716, 0.1528382685141743, 0.07641913425708716, 0.07641913425708716, 0.3820956712854358, 0.33828213612097563, 0.41485063446375675, 0.17886903301387394, 0.0012552212843078873, 0.017573097980310422, 0.047698408803699716, 0.0006276106421539436, 0.033749679894546365, 0.033749679894546365, 0.033749679894546365, 0.06749935978909273, 0.033749679894546365, 0.74249295768002, 0.1763018947717651, 0.465241111203269, 0.12167844446854728, 0.11640445616340901, 0.03616449123523387, 0.08287695908074427, 0.0011301403511010583, 0.0170320097833311, 0.39173622501661526, 0.49392828371660186, 0.0340640195666622, 0.0170320097833311, 0.0170320097833311, 0.0170320097833311, 0.0170320097833311, 0.04878358069733755, 0.0975671613946751, 0.04878358069733755, 0.0975671613946751, 0.04878358069733755, 0.04878358069733755, 0.5854029683680506, 0.1068114966558593, 0.6052651477165361, 0.18246964012042632, 0.004450479027327471, 0.022252395136637355, 0.07788338297823075, 0.0022252395136637356, 0.006861482525877104, 0.9537460710969174, 0.006861482525877104, 0.013722965051754209, 0.006861482525877104, 0.006861482525877104, 0.01154091748554379, 0.01154091748554379, 0.9232733988435031, 0.02308183497108758, 0.01154091748554379, 0.01154091748554379, 0.48780695648919614, 0.06968670806988517, 0.24390347824459807, 0.06968670806988517, 0.034843354034942584, 0.034843354034942584, 0.034843354034942584, 0.008474773358102077, 0.49153685476992054, 0.0762729602229187, 0.016949546716204154, 0.06779818686481662, 0.008474773358102077, 0.322041387607879, 0.0008387069251473109, 0.0016774138502946218, 0.0008387069251473109, 0.9938677062995634, 0.0008387069251473109, 0.0008387069251473109, 0.5544985309856756, 0.2002734251963005, 0.18174472735501013, 0.0008174425518216348, 0.03950972333804568, 0.02043606379554087, 0.0024523276554649044, 0.0002724808506072116, 0.07724264285715594, 0.6458799711247295, 0.10518147112463788, 0.003286920972644934, 0.03451267021277181, 0.13147683890579737, 0.001643460486322467, 0.07768789495871417, 0.7682469612583956, 0.07337190079434117, 0.008631988328746018, 0.02157997082186505, 0.0431599416437301, 0.6481304848380449, 0.14280841191346752, 0.05844159625997287, 0.0008788209963905694, 0.126550223480242, 0.01889465142239724, 0.003075873487366993, 0.0004394104981952847, 0.8257194034600466, 0.0692104738639387, 0.049024085653623255, 0.0009612565814435932, 0.049024085653623255, 0.002403141453608983, 0.0028837697443307797, 0.0012684614058269459, 0.001449670178087938, 0.0034429666729588527, 0.9921180281289326, 0.00018120877226099225, 0.0012684614058269459, 0.00018120877226099225, 0.9555589007378501, 0.006125377568832372, 0.006125377568832372, 0.012250755137664745, 0.006125377568832372, 0.006125377568832372, 0.015093106786426055, 0.9055864071855633, 0.015093106786426055, 0.03018621357285211, 0.015093106786426055, 0.015093106786426055, 0.015987437504437825, 0.03197487500887565, 0.015987437504437825, 0.8313467502307669, 0.015987437504437825, 0.015987437504437825, 0.0639497500177513, 0.9442501344782399, 0.007435040428962519, 0.007435040428962519, 0.014870080857925037, 0.007435040428962519, 0.007435040428962519, 0.949980005133097, 0.025417525220952426, 0.0031771906526190533, 0.00953157195785716, 0.0031771906526190533, 0.0031771906526190533, 0.0031771906526190533, 0.007040798325460846, 0.007040798325460846, 0.007040798325460846, 0.014081596650921692, 0.9505077739372142, 0.007040798325460846, 0.02383866529674613, 0.5006119712316687, 0.2622253182642074, 0.04767733059349226, 0.02383866529674613, 0.07151599589023838, 0.02383866529674613, 0.04767733059349226, 0.0004087693386992722, 0.0008175386773985444, 0.0008175386773985444, 0.9965796477488256, 0.0004087693386992722, 0.0004087693386992722, 0.299607236838031, 0.23755840080648608, 0.36963378035934585, 0.0017728238866155678, 0.04343418522208141, 0.046093421052004764, 0.0008864119433077839, 0.5666986703635964, 0.11944786345388379, 0.0162883450164387, 0.0013573620847032249, 0.28572471883002887, 0.008822853550570962, 0.0006786810423516124, 0.0006786810423516124, 0.1137188719155711, 0.4392261016188572, 0.32863710691197157, 0.0020865848057902954, 0.0500780353389671, 0.06259754417370887, 0.0020865848057902954, 0.6147478963602758, 0.03715509263715953, 0.09795433513432966, 0.00337773569428723, 0.0911988637457552, 0.05404377110859568, 0.09964320298147328, 0.5477118184778869, 0.01593870371231946, 0.08186697815873177, 0.060132382187387055, 0.1543156313965475, 0.030428434359882604, 0.10867297985672358, 0.5833715001654284, 0.21585607207007357, 0.1309785347491065, 0.0008617008865072797, 0.03834568944957395, 0.02800527881148659, 0.0021542522162681993, 0.00043085044325363983, 0.4157076278425786, 0.4887373462473559, 0.029024631673693548, 0.002808835323260666, 0.02715207479151977, 0.033706023879127994, 0.0009362784410868887, 0.029884763756160462, 0.059769527512320925, 0.029884763756160462, 0.059769527512320925, 0.029884763756160462, 0.059769527512320925, 0.7172343301478511, 0.031859591398564674, 0.031859591398564674, 0.031859591398564674, 0.06371918279712935, 0.031859591398564674, 0.031859591398564674, 0.7327706021669875, 0.04221488582770323, 0.04221488582770323, 0.04221488582770323, 0.08442977165540647, 0.04221488582770323, 0.04221488582770323, 0.6754381732432517, 0.002551645973495209, 0.005103291946990418, 0.9415573642197321, 0.005103291946990418, 0.002551645973495209, 0.002551645973495209, 0.03572304362893292, 0.002551645973495209, 0.056872353762999116, 0.056872353762999116, 0.056872353762999116, 0.11374470752599823, 0.056872353762999116, 0.056872353762999116, 0.5687235376299912, 0.05397888676523443, 0.05397888676523443, 0.05397888676523443, 0.10795777353046886, 0.05397888676523443, 0.05397888676523443, 0.5937677544175787, 0.0389632839656988, 0.0389632839656988, 0.0389632839656988, 0.0779265679313976, 0.0389632839656988, 0.0389632839656988, 0.7013391113825783, 0.4352830788847816, 0.3845631375190766, 0.07343036287273708, 0.08629960172672192, 0.011355210753516042, 0.007570140502344028, 0.0007570140502344028, 0.002723026280853222, 0.002723026280853222, 0.002723026280853222, 0.9830124873880132, 0.002723026280853222, 0.002723026280853222, 0.9323906804471503, 0.0350704665797242, 0.014511917205403119, 0.0024186528675671864, 0.01088393790405234, 0.0012093264337835932, 0.0024186528675671864, 0.04257816265155357, 0.04257816265155357, 0.04257816265155357, 0.08515632530310714, 0.04257816265155357, 0.04257816265155357, 0.6386724397733036, 0.007678278323605943, 0.007678278323605943, 0.936749955479925, 0.015356556647211885, 0.007678278323605943, 0.015356556647211885, 0.025188082317112587, 0.025188082317112587, 0.05037616463422517, 0.05037616463422517, 0.025188082317112587, 0.025188082317112587, 0.7304543871962651, 0.05037616463422517, 0.029983170577144405, 0.029983170577144405, 0.029983170577144405, 0.05996634115428881, 0.029983170577144405, 0.7795624350057546, 0.0010698550525080363, 0.0021397101050160726, 0.0010698550525080363, 0.9928254887274577, 0.0010698550525080363, 0.0010698550525080363, 0.019800000907123656, 0.11880000544274193, 0.019800000907123656, 0.03960000181424731, 0.019800000907123656, 0.03960000181424731, 0.6930000317493279, 0.03960000181424731, 0.014035793980149085, 0.02807158796029817, 0.8702192267692432, 0.02807158796029817, 0.014035793980149085, 0.02807158796029817, 0.9415168372955194, 0.026362471444274543, 0.015064269396728312, 0.001883033674591039, 0.012239718884841752, 0.001883033674591039, 0.0009415168372955195, 0.943944387476644, 0.01649291300192156, 0.0087962202676915, 0.009895747801152936, 0.018691968068844433, 0.0010995275334614375, 0.0005497637667307187, 0.09415425321889104, 0.010461583690987892, 0.010461583690987892, 0.020923167381975784, 0.8369266952790314, 0.010461583690987892, 0.5005830039263199, 0.005924059218062958, 0.005924059218062958, 0.002962029609031479, 0.4561525597908478, 0.02517725167676757, 0.0014810148045157395, 0.18142731003314008, 0.02791189385125232, 0.004651982308542054, 0.009303964617084107, 0.6791894170471398, 0.09303964617084107, 0.25676855777776664, 0.019019893168723455, 0.0031699821947872428, 0.0063399643895744855, 0.6435063855418103, 0.06973960828531933, 0.01420364187293707, 0.01420364187293707, 0.01420364187293707, 0.02840728374587414, 0.8948294379950354, 0.01420364187293707, 0.05041830834866334, 0.10083661669732669, 0.10083661669732669, 0.10083661669732669, 0.30250985009198006, 0.10083661669732669, 0.20167323339465337, 0.004202263467707869, 0.0028015089784719127, 0.008404526935415739, 0.9826292741990234, 0.0007003772446179782, 0.0007003772446179782, 0.9667900094488218, 0.0045318281692913525, 0.016616703287401623, 0.0045318281692913525, 0.006042437559055137, 0.0015106093897637842, 0.033350530632321546, 0.033350530632321546, 0.033350530632321546, 0.06670106126464309, 0.033350530632321546, 0.7337116739110741, 0.033350530632321546, 0.026656129841813522, 0.026656129841813522, 0.026656129841813522, 0.053312259683627045, 0.026656129841813522, 0.7996838952544056, 0.3434899098092092, 0.29570924229324497, 0.25376843414034306, 0.001592688917198806, 0.059460386242088756, 0.044064393375833635, 0.0010617926114658705, 0.9474990379536877, 0.014465634167231874, 0.007232817083615937, 0.014465634167231874, 0.007232817083615937, 0.007232817083615937, 0.8027588769081366, 0.17567794413048984, 0.013696924457631411, 0.0011910369093592532, 0.002977592273398133, 0.0023820738187185064, 0.0005955184546796266, 0.07375529842135943, 0.07375529842135943, 0.07375529842135943, 0.14751059684271886, 0.07375529842135943, 0.07375529842135943, 0.4425317905281566, 0.0570546043053434, 0.0570546043053434, 0.0570546043053434, 0.1141092086106868, 0.0570546043053434, 0.0570546043053434, 0.570546043053434, 0.012186190917899919, 0.012186190917899919, 0.012186190917899919, 0.024372381835799838, 0.9139643188424939, 0.012186190917899919, 0.32026308047868235, 0.4878674259291928, 0.16760434545051045, 0.0032026308047868237, 0.0032026308047868237, 0.016013154023934117, 0.001067543601595608, 0.00099656497965211, 0.005979389877912659, 0.00398625991860844, 0.9856027648759367, 0.00099656497965211, 0.00099656497965211, 0.0012281593188595253, 0.0024563186377190506, 0.0012281593188595253, 0.9911245703196369, 0.0012281593188595253, 0.0012281593188595253, 0.19462201927494216, 0.046886213734417884, 0.02432775240936777, 0.7152359208354124, 0.006192518795111796, 0.010173423734826522, 0.00221161385539707, 0.40191274990009807, 0.22901785073136216, 0.3204439492446728, 0.00226302224042848, 0.02127240906002771, 0.021725013508113407, 0.003168231136599872, 0.7529655407689573, 0.09105376199016355, 0.10959165365283158, 0.0010904642154510604, 0.031623462248080755, 0.009268945831334014, 0.003271392646353181, 0.008722388651608778, 0.008722388651608778, 0.9332955857221393, 0.017444777303217557, 0.008722388651608778, 0.017444777303217557, 0.00887457787496818, 0.00887457787496818, 0.8164611644970725, 0.01774915574993636, 0.00887457787496818, 0.026623733624904538, 0.0887457787496818, 0.01774915574993636, 0.004543119201424404, 0.2635009136826154, 0.427053204933894, 0.009086238402848808, 0.09994862243133688, 0.03634495361139523, 0.06814678802136606, 0.09086238402848808, 0.019198199247509613, 0.038396398495019225, 0.019198199247509613, 0.038396398495019225, 0.844720766890423, 0.019198199247509613, 0.020715091685687578, 0.41430183371375157, 0.45573201708512673, 0.041430183371375155, 0.020715091685687578, 0.020715091685687578, 0.020715091685687578, 0.012035859464104166, 0.012035859464104166, 0.6017929732052083, 0.024071718928208332, 0.012035859464104166, 0.012035859464104166, 0.31293234606670833, 0.013154016224524416, 0.013154016224524416, 0.013154016224524416, 0.05261606489809766, 0.013154016224524416, 0.8813190870431359, 0.013559742514369788, 0.013559742514369788, 0.9085027484627758, 0.027119485028739575, 0.013559742514369788, 0.013559742514369788, 0.20909760744957281, 0.2007337031515899, 0.5415628032943935, 0.006272928223487184, 0.01045488037247864, 0.025091712893948737, 0.004181952148991456, 0.026571082786014662, 0.026571082786014662, 0.026571082786014662, 0.5048505729342786, 0.026571082786014662, 0.026571082786014662, 0.31885299343217594, 0.040397544304222474, 0.040397544304222474, 0.040397544304222474, 0.08079508860844495, 0.040397544304222474, 0.08079508860844495, 0.6463607088675596, 0.034614465980926, 0.034614465980926, 0.034614465980926, 0.069228931961852, 0.034614465980926, 0.726903785599446, 0.0235954536844042, 0.0707863610532126, 0.2595499905284462, 0.0471909073688084, 0.0235954536844042, 0.0235954536844042, 0.5426954347412966, 0.4982162146146717, 0.0243032299812035, 0.21872906983083149, 0.0243032299812035, 0.0243032299812035, 0.01215161499060175, 0.01215161499060175, 0.194425839849628, 0.10976048108978047, 0.6636680251940213, 0.10976048108978047, 0.05360395588105558, 0.005105138655338626, 0.05615652520872489, 0.002552569327669313, 0.029165709671540918, 0.029165709671540918, 0.029165709671540918, 0.058331419343081836, 0.029165709671540918, 0.08749712901462275, 0.699977032116982, 0.4226188276957631, 0.025874622103822232, 0.03881193315573335, 0.00862487403460741, 0.01724974806921482, 0.4786805089207113, 0.004312437017303705, 0.018395568359913503, 0.06745041731968283, 0.012263712239942335, 0.04292299283979817, 0.006131856119971167, 0.8461961445560211, 0.19786449180965726, 0.14133177986404089, 0.012114152559774934, 0.04845661023909974, 0.004038050853258311, 0.5895554245757134, 0.002599968646749042, 0.005199937293498084, 0.002599968646749042, 0.9827881484711379, 0.002599968646749042, 0.002599968646749042, 0.016657072789324306, 0.016657072789324306, 0.8661677850448639, 0.03331414557864861, 0.016657072789324306, 0.016657072789324306, 0.03331414557864861, 0.0241541600207313, 0.10869372009329084, 0.08453956007255954, 0.01207708001036565, 0.06642394005701106, 0.5434686004664542, 0.1509635001295706, 0.39646938544452526, 0.0796256506332101, 0.019906412658302525, 0.0033177354430504206, 0.49434258101451267, 0.0033177354430504206, 0.010244977741455729, 0.020489955482911458, 0.11269475515601302, 0.020489955482911458, 0.8195982193164584, 0.010244977741455729, 0.045679725735348675, 0.045679725735348675, 0.045679725735348675, 0.09135945147069735, 0.045679725735348675, 0.045679725735348675, 0.6395161602948815, 0.9545539297990432, 0.00846235753367946, 0.00846235753367946, 0.003384943013471784, 0.001692471506735892, 0.005077414520207676, 0.01692471506735892, 0.7766771619732138, 0.10193564351014199, 0.05898813888404156, 0.0010348796295445886, 0.022249912035208656, 0.021732472220436363, 0.016558074072713418, 0.0005174398147722943, 0.02694784988188543, 0.02694784988188543, 0.02694784988188543, 0.02694784988188543, 0.14821317435036985, 0.7410658717518492, 0.018555872241694568, 0.8721259953596446, 0.018555872241694568, 0.037111744483389136, 0.018555872241694568, 0.018555872241694568, 0.9674224766557634, 0.004696225614833803, 0.004696225614833803, 0.009392451229667606, 0.004696225614833803, 0.004696225614833803, 0.025047472717584243, 0.5009494543516849, 0.025047472717584243, 0.050094945435168486, 0.025047472717584243, 0.025047472717584243, 0.35066461804617943, 0.9230015301890055, 0.04727177975794386, 0.004807299636401071, 0.004006083030334225, 0.0056085162424679156, 0.010415815878868986, 0.00320486642426738, 0.09356780627273616, 0.6950751323117543, 0.1015879039532564, 0.005346731787013495, 0.04277385429610796, 0.06148741555065519, 0.6083884429569191, 0.03578755546805406, 0.03578755546805406, 0.07157511093610812, 0.10736266640416219, 0.03578755546805406, 0.03578755546805406, 0.04030627547496114, 0.02015313773748057, 0.02015313773748057, 0.04030627547496114, 0.846431784974184, 0.02015313773748057, 0.016431196404883802, 0.016431196404883802, 0.016431196404883802, 0.032862392809767604, 0.8708534094588416, 0.016431196404883802, 0.08470084194322215, 0.005841437375394632, 0.002920718687697316, 0.005841437375394632, 0.8966606371230759, 0.002920718687697316, 0.01140018430170049, 0.01140018430170049, 0.01140018430170049, 0.02280036860340098, 0.9120147441360392, 0.01140018430170049, 0.2018543966880885, 0.011873788040475794, 0.011873788040475794, 0.02374757608095159, 0.011873788040475794, 0.7243010704690235, 0.3491507784740174, 0.008728769461850434, 0.08728769461850434, 0.017457538923700867, 0.008728769461850434, 0.5149973982491756, 0.040739504478949314, 0.12848612951053245, 0.021936656257895783, 0.00626761607368451, 0.7959872413579328, 0.003133808036842255, 0.26545046462662875, 0.663626161566572, 0.022591528904393938, 0.0056478822260984845, 0.01411970556524621, 0.025415470017443178, 0.0028239411130492422, 0.04226940373406936, 0.04226940373406936, 0.04226940373406936, 0.08453880746813872, 0.04226940373406936, 0.04226940373406936, 0.6763104597451097, 0.5066842895804168, 0.15608477531998838, 0.22289378899861978, 0.002364920838181642, 0.06621778346908598, 0.026605359429543476, 0.018328136495907726, 0.007353753321592634, 0.8971579052343013, 0.007353753321592634, 0.014707506643185268, 0.05883002657274107, 0.007353753321592634, 0.007353753321592634, 0.019522909918471495, 0.019522909918471495, 0.019522909918471495, 0.03904581983694299, 0.8590080364127457, 0.019522909918471495, 0.012370428353193961, 0.8659299847235773, 0.012370428353193961, 0.024740856706387922, 0.03711128505958188, 0.03711128505958188, 0.35571516129988795, 0.07904781362219732, 0.03952390681109866, 0.07904781362219732, 0.03952390681109866, 0.03952390681109866, 0.35571516129988795, 0.020238702139558848, 0.6273997663263242, 0.020238702139558848, 0.040477404279117696, 0.020238702139558848, 0.020238702139558848, 0.24286442567470615, 0.01629987605253964, 0.8964931828896802, 0.00814993802626982, 0.01629987605253964, 0.00814993802626982, 0.02444981407880946, 0.02444981407880946, 0.06402736602109171, 0.06402736602109171, 0.06402736602109171, 0.12805473204218343, 0.06402736602109171, 0.06402736602109171, 0.5122189281687337, 0.023335995122972224, 0.023335995122972224, 0.023335995122972224, 0.04667199024594445, 0.023335995122972224, 0.023335995122972224, 0.8167598293040278, 0.011561942947903284, 0.9133934928843594, 0.011561942947903284, 0.023123885895806568, 0.011561942947903284, 0.011561942947903284, 0.011561942947903284, 0.03695199213219384, 0.03695199213219384, 0.03695199213219384, 0.07390398426438768, 0.03695199213219384, 0.03695199213219384, 0.702087850511683, 0.03954020138195199, 0.01318006712731733, 0.17793090621878396, 0.01318006712731733, 0.7446737926934291, 0.006590033563658665, 0.012994071600886042, 0.25988143201772085, 0.025988143201772083, 0.07796442960531626, 0.11694664440797438, 0.15592885921063251, 0.32485179002215103, 0.012994071600886042, 0.914631695093947, 0.03353649548677806, 0.025406435974831863, 0.005081287194966372, 0.004065029755973098, 0.004065029755973098, 0.012195089267919294, 0.5855776368947033, 0.23797447344122646, 0.05844316923998018, 0.026356723382736157, 0.05462335425697493, 0.034378334847047165, 0.00190990749150262, 0.058071614883990465, 0.11614322976798093, 0.058071614883990465, 0.11614322976798093, 0.058071614883990465, 0.058071614883990465, 0.5226445339559141, 0.010966365062062207, 0.12063001568268426, 0.010966365062062207, 0.08773092049649765, 0.010966365062062207, 0.7128137290340434, 0.03289909518618662, 0.010966365062062207, 0.015704555939693002, 0.015704555939693002, 0.015704555939693002, 0.031409111879386005, 0.015704555939693002, 0.8794551326228081, 0.3221480653861754, 0.06442961307723509, 0.08785856328713876, 0.011714475104951834, 0.005857237552475917, 0.46857900419807336, 0.029286187762379585, 0.051437007268764504, 0.051437007268764504, 0.308622043612587, 0.10287401453752901, 0.051437007268764504, 0.051437007268764504, 0.20574802907505801, 0.10287401453752901, 0.007686525580617177, 0.5457433162238196, 0.007686525580617177, 0.015373051161234354, 0.10761135812864048, 0.02305957674185153, 0.28440144648283555, 0.0074365963616983225, 0.8700817743187037, 0.0074365963616983225, 0.03718298180849161, 0.0074365963616983225, 0.02974638544679329, 0.02974638544679329, 0.0074365963616983225, 0.04906747493358273, 0.04906747493358273, 0.04906747493358273, 0.09813494986716546, 0.04906747493358273, 0.04906747493358273, 0.6378771741365755, 0.03071522207190047, 0.06143044414380094, 0.03071522207190047, 0.06143044414380094, 0.03071522207190047, 0.03071522207190047, 0.6450196635099099, 0.12286088828760187, 0.05004132701692074, 0.006255165877115092, 0.9288921327515912, 0.006255165877115092, 0.003127582938557546, 0.003127582938557546, 0.04380520718451265, 0.04380520718451265, 0.04380520718451265, 0.6132729005831771, 0.04380520718451265, 0.04380520718451265, 0.0876104143690253, 0.949612001181967, 0.017344511437113554, 0.004336127859278388, 0.008672255718556777, 0.004336127859278388, 0.004336127859278388, 0.008672255718556777, 0.009756419276143654, 0.009756419276143654, 0.9268598312336471, 0.019512838552287307, 0.009756419276143654, 0.009756419276143654, 0.9741270468752017, 0.006741363646195168, 0.003370681823097584, 0.006741363646195168, 0.003370681823097584, 0.003370681823097584, 0.9594446846401179, 0.0053901386777534714, 0.0053901386777534714, 0.010780277355506943, 0.0053901386777534714, 0.0053901386777534714, 0.7546739504848244, 0.16471985606557313, 0.04010909024764547, 0.0007788172863620479, 0.012850485224973791, 0.017912797586327103, 0.007788172863620479, 0.00038940864318102395, 0.0008352279953268204, 0.0025056839859804616, 0.0008352279953268204, 0.9947565424342432, 0.0004176139976634102, 0.0004176139976634102, 0.5300178526556378, 0.22513088457038666, 0.16618073588548685, 0.0010669710169212638, 0.04161186965992929, 0.031208902244946966, 0.004267884067685055, 0.00026674275423031594, 0.4720385222861629, 0.29383782921163976, 0.19401732263735064, 0.0010544419708551666, 0.012653303650261998, 0.02565808795747572, 0.0007029613139034444, 0.0003514806569517222, 0.004202173449606405, 0.004202173449606405, 0.9622977199598667, 0.00840434689921281, 0.004202173449606405, 0.00840434689921281, 0.004202173449606405, 0.9359105493906239, 0.01465221995132092, 0.00366305498783023, 0.009157637469575576, 0.016483747445236036, 0.00366305498783023, 0.01465221995132092, 0.006023041052149164, 0.8733409525616288, 0.024092164208596657, 0.012046082104298328, 0.018069123156447493, 0.05420736946934247, 0.0024070443361185034, 0.0012035221680592517, 0.0012035221680592517, 0.9935075497329122, 0.0006017610840296258, 0.0006017610840296258, 0.9139696106749163, 0.02294484378263388, 0.040153476619609295, 0.0019120703152194901, 0.010516386733707197, 0.0038241406304389803, 0.0047801757880487255, 0.9202741373523161, 0.040623306572428214, 0.020311653286214107, 0.003124869736340632, 0.003124869736340632, 0.0078121743408515795, 0.004687304604510948, 0.7931406975620225, 0.07476788195871269, 0.06725352196286216, 0.0018785899989626302, 0.04170469797697039, 0.009017231995020625, 0.011647257993568307, 0.0003757179997925261, 0.950762294843224, 0.019015245896864482, 0.009507622948432241, 0.003803049179372896, 0.005704573769059344, 0.003803049179372896, 0.007606098358745792, 0.0004761249977458261, 0.0009522499954916522, 0.0004761249977458261, 0.996529620282014, 0.0004761249977458261, 0.0004761249977458261, 0.40464961341709016, 0.3914713693019742, 0.051937785630162915, 0.01550381660601878, 0.00852709913331033, 0.1255809145087521, 0.0023255724909028172, 0.2519732247797549, 0.5727915929419566, 0.028914960220627617, 0.002753805735297868, 0.005507611470595736, 0.13493648102959555, 0.001376902867648934, 0.3730261327934322, 0.40100309275293966, 0.11523843030939959, 0.0013322361885479723, 0.04063320375071315, 0.06527957323885064, 0.0019983542828219585, 0.04318428145554663, 0.04318428145554663, 0.04318428145554663, 0.6045799403776528, 0.04318428145554663, 0.04318428145554663, 0.1295528443666399, 0.9443479401700275, 0.0072087629020612795, 0.025230670157214478, 0.0072087629020612795, 0.0036043814510306397, 0.0036043814510306397, 0.0072087629020612795, 0.006440699468438574, 0.28339077661129725, 0.07728839362126289, 0.012881398936877148, 0.006440699468438574, 0.006440699468438574, 0.5989850505647873, 0.006440699468438574, 0.9361706690833762, 0.02091102869086579, 0.022519569359393928, 0.0032170813370562754, 0.009651244011168826, 0.0016085406685281377, 0.004825622005584413, 0.012031864035131814, 0.7820711622835679, 0.012031864035131814, 0.024063728070263628, 0.012031864035131814, 0.012031864035131814, 0.012031864035131814, 0.13235050438644994, 0.36000394058109425, 0.13696319007576635, 0.4646285996667491, 0.0038045330576601767, 0.02330276497816858, 0.010462465908565486, 0.0004755666322075221, 0.04003090111497273, 0.20015450557486367, 0.04003090111497273, 0.08006180222994547, 0.04003090111497273, 0.04003090111497273, 0.5204017144946456, 0.00989610788657716, 0.00989610788657716, 0.00989610788657716, 0.01979221577315432, 0.9302341413382531, 0.00989610788657716, 0.01568995096759703, 0.01568995096759703, 0.01568995096759703, 0.03137990193519406, 0.8786372541854337, 0.01568995096759703, 0.03343882095959306, 0.03343882095959306, 0.03343882095959306, 0.06687764191918612, 0.03343882095959306, 0.7356540611110474, 0.054123788259402374, 0.054123788259402374, 0.054123788259402374, 0.10824757651880475, 0.054123788259402374, 0.054123788259402374, 0.5412378825940237, 0.054123788259402374, 0.9721188630725978, 0.004662440590276248, 0.0069936608854143725, 0.004662440590276248, 0.004662440590276248, 0.004662440590276248, 0.002331220295138124, 0.95508304486024, 0.0063672202990682665, 0.0063672202990682665, 0.012734440598136533, 0.0063672202990682665, 0.0063672202990682665, 0.0063672202990682665, 0.15406467029719229, 0.08021548949357946, 0.06366308689966624, 0.014005879117926572, 0.6735554593984688, 0.012732617379933248, 0.021943973982282598, 0.021943973982282598, 0.021943973982282598, 0.043887947964565195, 0.8338710113267387, 0.021943973982282598, 0.022983826830331934, 0.007661275610110644, 0.007661275610110644, 0.015322551220221288, 0.927014348823388, 0.007661275610110644, 0.010543585321687216, 0.005271792660843608, 0.005271792660843608, 0.010543585321687216, 0.954194471612693, 0.005271792660843608, 0.11100979311777534, 0.030275398123029637, 0.015137699061514819, 0.045413097184544456, 0.7922062508859422, 0.0050458996871716065, 0.305595879504412, 0.007453558036692977, 0.007453558036692977, 0.014907116073385953, 0.3503172277245699, 0.07453558036692977, 0.23106029913748227, 0.03077051644433505, 0.015385258222167525, 0.03077051644433505, 0.03077051644433505, 0.323090422665518, 0.015385258222167525, 0.5384840377758633, 0.7576377200649862, 0.12864057121936745, 0.07457996306889708, 0.0011838089376015408, 0.014600310230419005, 0.01933554598082517, 0.003551426812804623, 0.00039460297920051367, 0.7446151663719404, 0.11162956171887034, 0.09657838485789906, 0.0008361764922761824, 0.03386514793718538, 0.009197941415038005, 0.0029266177229666382, 0.0004180882461380912, 0.01184504897013399, 0.9120687707003172, 0.01184504897013399, 0.02369009794026798, 0.01184504897013399, 0.02369009794026798, 0.012192396008524285, 0.012192396008524285, 0.012192396008524285, 0.02438479201704857, 0.9144297006393213, 0.012192396008524285, 0.12598466110129597, 0.006999147838960888, 0.006999147838960888, 0.013998295677921775, 0.8258994449973848, 0.006999147838960888, 0.064233768731263, 0.064233768731263, 0.064233768731263, 0.128467537462526, 0.064233768731263, 0.064233768731263, 0.449636381118841, 0.001799797429373049, 0.003599594858746098, 0.001799797429373049, 0.9880887887258039, 0.001799797429373049, 0.001799797429373049, 0.8384764404781185, 0.04020902535438086, 0.074268435066327, 0.0004730473571103631, 0.0371342175331635, 0.006386139320989901, 0.0026017604641069966, 0.00023652367855518154, 0.8186260375778287, 0.0417713970143761, 0.08610975138717754, 0.000700079279570549, 0.043404915333374046, 0.004433835437280144, 0.004667195197136994, 0.0002333597598568497, 0.015865352621447424, 0.015865352621447424, 0.015865352621447424, 0.03173070524289485, 0.015865352621447424, 0.3014416998075011, 0.047596057864342275, 0.5394219891292125, 0.029872700925545774, 0.029872700925545774, 0.8762658938160094, 0.049787834875909626, 0.009957566975181924, 0.009957566975181924, 0.07350240809784025, 0.11457728321133923, 0.8005997587911816, 0.0021618355322894195, 0.0014412236881929464, 0.006485506596868258, 0.0007206118440964732, 0.5197276083233114, 0.06861929303046166, 0.07497293127402292, 0.005082910594849012, 0.26304062328343636, 0.062265654786900396, 0.005082910594849012, 0.9403107677545727, 0.007771163369872502, 0.007771163369872502, 0.015542326739745004, 0.007771163369872502, 0.007771163369872502, 0.11059355972773874, 0.820720627453219, 0.011641427339761973, 0.011641427339761973, 0.0058207136698809865, 0.03492428201928592, 0.0072001199879777825, 0.8496141585813783, 0.0072001199879777825, 0.014400239975955565, 0.10800179981966673, 0.0072001199879777825, 0.00448792849400003, 0.9693925547040063, 0.00448792849400003, 0.00897585698800006, 0.00448792849400003, 0.00448792849400003, 0.06284663762250592, 0.06284663762250592, 0.3142331881125296, 0.12569327524501184, 0.06284663762250592, 0.06284663762250592, 0.2513865504900237, 0.004256962595646867, 0.008513925191293735, 0.004256962595646867, 0.008513925191293735, 0.004256962595646867, 0.004256962595646867, 0.9620735466161922, 0.342449628765271, 0.004028819161944365, 0.01611527664777746, 0.00805763832388873, 0.209498596421107, 0.4149683736802696, 0.004028819161944365, 0.010381681909311546, 0.05190840954655773, 0.010381681909311546, 0.20763363818623093, 0.010381681909311546, 0.6021375507400697, 0.10381681909311546, 0.051357734320376755, 0.10271546864075351, 0.051357734320376755, 0.10271546864075351, 0.051357734320376755, 0.051357734320376755, 0.5649350775241443, 0.37201571361167074, 0.3524359392110565, 0.004894943600153562, 0.009789887200307124, 0.08321404120261056, 0.009789887200307124, 0.024474718000767812, 0.13705842080429975, 0.021163837388024215, 0.021163837388024215, 0.021163837388024215, 0.04232767477604843, 0.8465534955209686, 0.021163837388024215, 0.021163837388024215, 0.030477797080372748, 0.030477797080372748, 0.15238898540186374, 0.060955594160745495, 0.030477797080372748, 0.030477797080372748, 0.6400337386878276, 0.019922465720739278, 0.3785268486940463, 0.019922465720739278, 0.039844931441478555, 0.019922465720739278, 0.039844931441478555, 0.4582167115770034, 0.9434343084333868, 0.02759348255863666, 0.006569876799675396, 0.01708167967915603, 0.0013139753599350791, 0.0013139753599350791, 0.0013139753599350791, 0.8532645581452653, 0.04343624584173481, 0.04270003828509524, 0.0014724151132791462, 0.04564486851165353, 0.010306905792954024, 0.0014724151132791462, 0.0007362075566395731, 0.8312919146673677, 0.027410165834978073, 0.11278609220622125, 0.0008986939618025598, 0.021568655083261435, 0.0022467349045063993, 0.003145428866308959, 0.0004493469809012799, 0.37832869610456193, 0.14843518220370372, 0.2262731436032069, 0.0018101851488256553, 0.19821527379640924, 0.04615972129505421, 0.9418353935114069, 0.01767519505249289, 0.010100111458567367, 0.005050055729283683, 0.0025250278646418416, 0.005050055729283683, 0.012625139323209206, 0.0025250278646418416, 0.00639916790423863, 0.05119334323390904, 0.41594591377551093, 0.038395007425431775, 0.00639916790423863, 0.00639916790423863, 0.46713925700941994, 0.00639916790423863, 0.5883167318729143, 0.011177001814511327, 0.39525942780408235, 0.0020321821480929684, 0.0010160910740464842, 0.0010160910740464842, 0.07558496390497269, 0.07558496390497269, 0.07558496390497269, 0.15116992780994537, 0.07558496390497269, 0.07558496390497269, 0.37792481952486345, 0.006418389646992148, 0.173296520468788, 0.03209194823496074, 0.012836779293984297, 0.7637883679920656, 0.006418389646992148, 0.35718692186118123, 0.25571336451425475, 0.032471538351016474, 0.008117884587754119, 0.004058942293877059, 0.33689221039179595, 0.004058942293877059, 0.0006607549693693242, 0.0013215099387386485, 0.0006607549693693242, 0.9950969838702023, 0.0006607549693693242, 0.0006607549693693242, 0.8126871746177682, 0.08265736112873964, 0.05554574667851304, 0.0013225177780598343, 0.02777287333925652, 0.01388643666962826, 0.005951330001269254, 0.0006612588890299171, 0.02802522776450959, 0.02802522776450959, 0.02802522776450959, 0.05605045552901918, 0.02802522776450959, 0.7847063774062686, 0.002833011344018099, 0.002833011344018099, 0.002833011344018099, 0.005666022688036198, 0.9773889136862441, 0.002833011344018099, 0.22027206994390452, 0.25364662599601123, 0.15752790456594384, 0.0026699644841685394, 0.3404204717314888, 0.020024733631264047, 0.004004946726252809, 0.12584542545631894, 0.678167014959052, 0.020974237576053156, 0.004660941683567368, 0.0069914125253510515, 0.1584720172412905, 0.002330470841783684, 0.9649267653710117, 0.00984619148337767, 0.004923095741688835, 0.00984619148337767, 0.004923095741688835, 0.004923095741688835, 0.004923095741688835, 0.05290618718179194, 0.05290618718179194, 0.10581237436358389, 0.42324949745433554, 0.05290618718179194, 0.05290618718179194, 0.21162474872716777, 0.07894292319649489, 0.07894292319649489, 0.07894292319649489, 0.15788584639298978, 0.07894292319649489, 0.07894292319649489, 0.3947146159824744, 0.9056629647265046, 0.02255482479203939, 0.034699730449291366, 0.0017349865224645683, 0.02862727762066538, 0.0034699730449291367, 0.0026024797836968526, 0.046272273891027664, 0.046272273891027664, 0.046272273891027664, 0.09254454778205533, 0.046272273891027664, 0.046272273891027664, 0.046272273891027664, 0.6015395605833597, 0.45882261695766263, 0.2526992814777623, 0.18432182884260312, 0.0009909775744225975, 0.05450376659324286, 0.04558496842343948, 0.0024774439360564933, 0.0004954887872112987, 0.10411024595859546, 0.007907107287994592, 0.010542809717326122, 0.8724175041087366, 0.0026357024293315306, 0.0013178512146657653, 0.37892084807190224, 0.25776375287294634, 0.34232977905208334, 0.0016262697342141726, 0.002439404601321259, 0.01544956247503464, 0.0008131348671070863, 0.2879153276801563, 0.016519731916074542, 0.5970703106809799, 0.0047199234045927265, 0.08731858298496545, 0.0023599617022963633, 0.7323450058911259, 0.03328840935868754, 0.03328840935868754, 0.06657681871737509, 0.03328840935868754, 0.03328840935868754, 0.06657681871737509, 0.9557528835242783, 0.0065913991967191604, 0.0065913991967191604, 0.013182798393438321, 0.0065913991967191604, 0.0065913991967191604, 0.019973213110587876, 0.019973213110587876, 0.8588481637552786, 0.03994642622117575, 0.019973213110587876, 0.019973213110587876, 0.018110653196654003, 0.018110653196654003, 0.8693113534393923, 0.036221306393308006, 0.018110653196654003, 0.018110653196654003, 0.9697613076022488, 0.008253287724274458, 0.004126643862137229, 0.008253287724274458, 0.004126643862137229, 0.004126643862137229, 0.010230007595948758, 0.9207006836353882, 0.010230007595948758, 0.020460015191897517, 0.010230007595948758, 0.010230007595948758, 0.01326164503367733, 0.7691754119532852, 0.01326164503367733, 0.02652329006735466, 0.01326164503367733, 0.01326164503367733, 0.07956987020206399, 0.06630822516838666, 0.013733383688451084, 0.9064033234377715, 0.013733383688451084, 0.02746676737690217, 0.013733383688451084, 0.013733383688451084, 0.14229306834054584, 0.24023505044507737, 0.13120529678154225, 0.0036959238530011903, 0.4250312430951369, 0.053590895868517265, 0.0036959238530011903, 0.8044920326593136, 0.07158615544849824, 0.08673666453812749, 0.00795401727205536, 0.022347000907203155, 0.003408864545166583, 0.0030301018179258515, 0.00037876272724073144, 0.19092258555992, 0.00707120687258963, 0.00707120687258963, 0.01414241374517926, 0.7424767216219111, 0.02828482749035852, 0.03532156593337597, 0.03532156593337597, 0.03532156593337597, 0.07064313186675195, 0.17660782966687988, 0.03532156593337597, 0.5651450549340156, 0.020596038324028197, 0.020596038324028197, 0.08238415329611279, 0.08238415329611279, 0.020596038324028197, 0.020596038324028197, 0.6796692646929305, 0.06178811497208459, 0.015548440535726092, 0.015548440535726092, 0.10883908375008265, 0.10883908375008265, 0.06219376214290437, 0.015548440535726092, 0.5441954187504132, 0.12438752428580874, 0.03839145329381916, 0.1919572664690958, 0.03839145329381916, 0.07678290658763832, 0.03839145329381916, 0.42230598623201077, 0.11517435988145748, 0.03839145329381916, 0.03839145329381916, 0.03689620354216108, 0.03689620354216108, 0.03689620354216108, 0.07379240708432216, 0.11068861062648325, 0.03689620354216108, 0.6272354602167385, 0.031321045447776585, 0.12919931247207841, 0.12919931247207841, 0.007830261361944146, 0.6890629998510849, 0.003915130680972073, 0.003915130680972073, 0.01635898257611616, 0.01635898257611616, 0.06543593030446464, 0.03271796515223232, 0.01635898257611616, 0.8179491288058081, 0.9843807393706935, 0.004009697512711583, 0.0020048487563557914, 0.004009697512711583, 0.0020048487563557914, 0.0020048487563557914, 0.0020048487563557914, 0.024534982199284086, 0.03791769976252995, 0.015613170490453509, 0.9122552472279265, 0.002230452927207644, 0.004460905854415288, 0.024246643471236916, 0.024246643471236916, 0.04849328694247383, 0.04849328694247383, 0.024246643471236916, 0.8001392345508183, 0.03740301435361825, 0.03740301435361825, 0.03740301435361825, 0.0748060287072365, 0.03740301435361825, 0.0748060287072365, 0.6732542583651285, 0.35351417019769915, 0.1446194332626951, 0.21692914989404266, 0.008034412959038617, 0.0482064777542317, 0.0040172064795193085, 0.22094635637356197, 0.15532214359477345, 0.23668136166822618, 0.03698146276066034, 0.007396292552132068, 0.532533063753509, 0.025887023932462238, 0.003698146276066034, 0.04983273738322983, 0.725343177467012, 0.1328872996886129, 0.005536970820358871, 0.033221824922153226, 0.0470642519730504, 0.17783391115388814, 0.05129824360208312, 0.003419882906805541, 0.006839765813611082, 0.7489543565904135, 0.006839765813611082, 0.0008242877098205503, 0.0016485754196411005, 0.0008242877098205503, 0.9940909780435836, 0.0008242877098205503, 0.0008242877098205503, 0.0010591900716327549, 0.0021183801432655097, 0.0010591900716327549, 0.9914019070482586, 0.0021183801432655097, 0.0010591900716327549, 0.02852982311020802, 0.02852982311020802, 0.02852982311020802, 0.05705964622041604, 0.02852982311020802, 0.7988350470858245, 0.19845759778534752, 0.2070861889934061, 0.017257182416117175, 0.017257182416117175, 0.008628591208058587, 0.5177154724835152, 0.025885773624175764, 0.41725248448106844, 0.3355708883918817, 0.1363094151297256, 0.0015607948297296824, 0.058269673643241475, 0.04838463972162016, 0.0026013247162161375, 0.9230838736589173, 0.006931793794685236, 0.023105979315617454, 0.0023105979315617454, 0.03696956690498793, 0.0011552989657808727, 0.005776494828904364, 0.9347646898382684, 0.0016842607024112944, 0.04884356036992754, 0.003368521404822589, 0.006737042809645178, 0.0016842607024112944, 0.9429504273602166, 0.021292429004908117, 0.006083551144259462, 0.006083551144259462, 0.006083551144259462, 0.003041775572129731, 0.012167102288518925, 0.018239631069729527, 0.8207833981378287, 0.10943778641837716, 0.012159754046486351, 0.006079877023243176, 0.030399385116215878, 0.028249938159230346, 0.5072706286853101, 0.3242601597407309, 0.002456516361672204, 0.01842387271254153, 0.1179127853602658, 0.001228258180836102, 0.023791950660950082, 0.8029783348070653, 0.1189597533047504, 0.01784396299571256, 0.0059479876652375205, 0.023791950660950082, 0.19319242362328523, 0.3018631619113832, 0.12074526476455326, 0.024149052952910654, 0.012074526476455327, 0.012074526476455327, 0.3260122148642938, 0.8315325743533465, 0.06594446271351906, 0.04878083543191821, 0.011743534455832162, 0.02664878972669606, 0.01038851124938999, 0.004516744021473908, 0.0004516744021473908, 0.8046967345495933, 0.07211131633438311, 0.06664833782420257, 0.0010925957020361077, 0.03769455172024572, 0.013657446275451346, 0.0027314892550902694, 0.056533934981390206, 0.8338755409755055, 0.014133483745347552, 0.06360067685406398, 0.007066741872673776, 0.021200225618021328, 0.010679058517353648, 0.010679058517353648, 0.9290780910097675, 0.021358117034707295, 0.010679058517353648, 0.010679058517353648, 0.03500151203524026, 0.01750075601762013, 0.8575370448633864, 0.03500151203524026, 0.01750075601762013, 0.01750075601762013, 0.38731488170262923, 0.18302400399924576, 0.3795814730829428, 0.0012889014366144068, 0.02448912729567373, 0.02062242298583051, 0.0025778028732288136, 0.001408909579593705, 0.00281781915918741, 0.001408909579593705, 0.9904634344543746, 0.001408909579593705, 0.001408909579593705, 0.5407972567737459, 0.3719345870947297, 0.0174685520357603, 0.049494230767987514, 0.008006419683056803, 0.005094994343763421, 0.006550707013410112, 0.0016979631148097642, 0.0033959262296195283, 0.0016979631148097642, 0.9882145328192827, 0.0016979631148097642, 0.0016979631148097642, 0.5850787561565656, 0.016716535890187588, 0.2674645742430014, 0.033433071780375176, 0.016716535890187588, 0.016716535890187588, 0.050149607670562764, 0.08768534172177637, 0.08768534172177637, 0.08768534172177637, 0.17537068344355275, 0.08768534172177637, 0.08768534172177637, 0.2630560251653291, 0.032688929846679406, 0.032688929846679406, 0.032688929846679406, 0.06537785969335881, 0.032688929846679406, 0.7518453864736264, 0.8938069961171127, 0.05574280190837907, 0.00672757954066644, 0.001922165583047554, 0.007688662332190216, 0.007688662332190216, 0.024988152579618204, 0.000961082791523777, 0.04949867352317171, 0.03299911568211447, 0.016499557841057236, 0.03299911568211447, 0.016499557841057236, 0.8414774498939189, 0.9692211763628209, 0.004005046183317442, 0.004005046183317442, 0.008010092366634884, 0.004005046183317442, 0.004005046183317442, 0.004005046183317442, 0.018680521584762574, 0.03736104316952515, 0.8593039928990783, 0.03736104316952515, 0.018680521584762574, 0.018680521584762574, 0.06502280402724127, 0.06502280402724127, 0.06502280402724127, 0.13004560805448254, 0.06502280402724127, 0.06502280402724127, 0.45515962819068884, 0.6613625605685297, 0.010497818421722694, 0.026244546054306733, 0.010497818421722694, 0.01574672763258404, 0.005248909210861347, 0.2676943697539287, 0.5267715696873966, 0.26408814693661486, 0.011237793486664462, 0.08077164068540081, 0.005618896743332231, 0.1095684864949785, 0.0021070862787495865, 0.07687628841763264, 0.07687628841763264, 0.07687628841763264, 0.15375257683526528, 0.07687628841763264, 0.07687628841763264, 0.3843814420881632, 0.05898063030940418, 0.05898063030940418, 0.05898063030940418, 0.11796126061880836, 0.05898063030940418, 0.05898063030940418, 0.5308256727846377, 0.024712411216720836, 0.024712411216720836, 0.024712411216720836, 0.04942482243344167, 0.024712411216720836, 0.8155095701517876, 0.9361022259820926, 0.035346125463392046, 0.009121580764746335, 0.0011401975955932918, 0.005700987977966459, 0.009121580764746335, 0.0034205927867798757, 0.28183761231820337, 0.35350144963843033, 0.21378707772000471, 0.001204434240676083, 0.0987636077354388, 0.04637071826602919, 0.003011085601690207, 0.17345847860338665, 0.5437061083708494, 0.13592652709271236, 0.0020287541357121245, 0.017244410153553057, 0.12578275641415174, 0.0010143770678560622, 0.168330024669913, 0.5316423279158087, 0.20480153001506085, 0.0014027502055826086, 0.008416501233495651, 0.0841650123349565, 0.0007013751027913043, 0.6639521279174598, 0.06748963937622532, 0.02371257599705214, 0.003648088614931098, 0.1550437661345717, 0.010944265844793294, 0.07478581660608752, 0.5415479713663046, 0.12446868696725549, 0.037122239972690235, 0.004367322349728263, 0.16159092693994573, 0.010918305874320657, 0.12010136461752723, 0.04720992947762134, 0.04720992947762134, 0.28325957686572806, 0.09441985895524269, 0.04720992947762134, 0.37767943582097074, 0.04720992947762134, 0.6410483914435184, 0.15561389073502813, 0.14106298147149304, 0.0008083838479741721, 0.037589848930799, 0.021017980047328473, 0.0024251515439225164, 0.00040419192398708604, 0.01210195703118996, 0.37516066796688874, 0.290446968748559, 0.02420391406237992, 0.1815293554678494, 0.01210195703118996, 0.08471369921832972, 0.01210195703118996, 0.6288384488815155, 0.007576366853994162, 0.03788183426997081, 0.015152733707988324, 0.007576366853994162, 0.007576366853994162, 0.2879019404517782, 0.006432392463106954, 0.8169138428145831, 0.038594354778641725, 0.012864784926213908, 0.09005349448349735, 0.025729569852427817, 0.014887447912166818, 0.014887447912166818, 0.04466234373650045, 0.029774895824333635, 0.014887447912166818, 0.014887447912166818, 0.8634719789056754, 0.4579312535193333, 0.09474439727986206, 0.027633782539959767, 0.007895366439988505, 0.06316293151990804, 0.34344844013949993, 0.003947683219994252, 0.006508012302327448, 0.9306457592328252, 0.006508012302327448, 0.03904807381396469, 0.006508012302327448, 0.006508012302327448, 0.01803217425205266, 0.01803217425205266, 0.01803217425205266, 0.03606434850410532, 0.01803217425205266, 0.8655443640985279, 0.031154863281882435, 0.031154863281882435, 0.031154863281882435, 0.06230972656376487, 0.031154863281882435, 0.7788715820470609, 0.08414475088788607, 0.08414475088788607, 0.08414475088788607, 0.16828950177577215, 0.08414475088788607, 0.08414475088788607, 0.08414475088788607, 0.3365790035515443, 0.03350212230428235, 0.0670042446085647, 0.16751061152141175, 0.0670042446085647, 0.03350212230428235, 0.6030382014770823, 0.03350212230428235, 0.26107396478433326, 0.5386715982259028, 0.18010798836387548, 0.0033047337314472563, 0.006609467462894513, 0.00826183432861814, 0.0016523668657236281, 0.6506941852022028, 0.2258374612415454, 0.02446572496783409, 0.0009409894218397726, 0.0037639576873590903, 0.08892350036385852, 0.004704947109198863, 0.0004704947109198863, 0.6162875401158615, 0.194297549593178, 0.03339489133632747, 0.004553848818590109, 0.003035899212393406, 0.1426872629824901, 0.003035899212393406, 0.77217061678107, 0.11421690373219993, 0.09276771993272577, 0.0026811479749342705, 0.005362295949868541, 0.010188362304750228, 0.0010724591899737082, 0.8394727309326522, 0.03761952487167072, 0.006966578679939023, 0.002089973603981707, 0.10031873299112193, 0.012539841623890241, 0.0006966578679939023, 0.0026854423867956516, 0.005370884773591303, 0.0026854423867956516, 0.9828719135672085, 0.0026854423867956516, 0.0026854423867956516, 0.9266550131244086, 0.01814746659729564, 0.03629493319459128, 0.002268433324661955, 0.007939516636316842, 0.005671083311654887, 0.0011342166623309776, 0.01619730910531506, 0.2235228656533478, 0.6608502114968544, 0.022676232747441082, 0.0550708509580712, 0.01619730910531506, 0.0032394618210630118, 0.02805778686050789, 0.02805778686050789, 0.02805778686050789, 0.05611557372101578, 0.02805778686050789, 0.757560245233713, 0.02805778686050789, 0.07573991182241319, 0.07573991182241319, 0.07573991182241319, 0.15147982364482637, 0.07573991182241319, 0.07573991182241319, 0.07573991182241319, 0.37869955911206593, 0.49290118347066814, 0.0778990681569028, 0.29091510409038035, 0.001378744569148722, 0.13167010635370296, 0.003446861422871805, 0.000689372284574361, 0.062093445548546775, 0.12418689109709355, 0.062093445548546775, 0.12418689109709355, 0.062093445548546775, 0.062093445548546775, 0.4967475643883742, 0.7746262782467074, 0.09105561988389305, 0.08539187319255041, 0.0008713456448219431, 0.029190079101535094, 0.013505857494740117, 0.0047924010465206866, 0.00043567282241097153, 0.013100840516679214, 0.013100840516679214, 0.013100840516679214, 0.026201681033358428, 0.9039579956508658, 0.013100840516679214, 0.03293029595449728, 0.010976765318165759, 0.17013986243156926, 0.043907061272663035, 0.021953530636331518, 0.7189781283398572, 0.15917517512520993, 0.07773671343324207, 0.7403496517451625, 0.007403496517451625, 0.0037017482587258124, 0.007403496517451625, 0.010774281986358065, 0.9265882508267935, 0.02154856397271613, 0.02154856397271613, 0.010774281986358065, 0.010774281986358065, 0.00971507873082748, 0.00971507873082748, 0.932647558159438, 0.01943015746165496, 0.00971507873082748, 0.00971507873082748, 0.09371552360519247, 0.03514332135194718, 0.8551541528973814, 0.007028664270389436, 0.002342888090129812, 0.002342888090129812, 0.1970698698796822, 0.08627934601697529, 0.030393860528707205, 0.002941341341487794, 0.6686649316315585, 0.012745812479780442, 0.0009804471138292648, 0.020119318175219267, 0.040238636350438534, 0.020119318175219267, 0.040238636350438534, 0.8450113633592092, 0.020119318175219267, 0.0020034086852774363, 0.004006817370554873, 0.0020034086852774363, 0.9876804818417761, 0.0020034086852774363, 0.0020034086852774363, 0.01755849121332349, 0.8779245606661745, 0.01755849121332349, 0.03511698242664698, 0.01755849121332349, 0.01755849121332349, 0.9547512745824087, 0.008125542762403478, 0.020313856906008697, 0.008125542762403478, 0.004062771381201739, 0.004062771381201739, 0.9096247488660875, 0.03900189103021952, 0.02767876137628482, 0.0025162510342077106, 0.007548753102623132, 0.005032502068415421, 0.008806878619726987, 0.4221255605722181, 0.09901710680089067, 0.005211426673731087, 0.010422853347462175, 0.015634280021193263, 0.4273369872459492, 0.02084570669492435, 0.005211426673731087, 0.09759367536080367, 0.2589335086162363, 0.4050419590118904, 0.0011282505822058227, 0.19180259897498986, 0.043437647414924174, 0.0011282505822058227, 0.17733736881202952, 0.7810390498742577, 0.018865677533194628, 0.007546271013277851, 0.0037731355066389256, 0.011319406519916777, 0.011334369154745123, 0.918083901534355, 0.011334369154745123, 0.022668738309490247, 0.011334369154745123, 0.011334369154745123, 0.19335387269952042, 0.00471594811462245, 0.7781314389127042, 0.0094318962292449, 0.00471594811462245, 0.00471594811462245, 0.2877675882644122, 0.049460054232945846, 0.00449636856663144, 0.00899273713326288, 0.5935206507953502, 0.049460054232945846, 0.024059486537806082, 0.024059486537806082, 0.024059486537806082, 0.048118973075612165, 0.024059486537806082, 0.8180225422854068, 0.3306767958745982, 0.2208624867968398, 0.4084105202779552, 0.002467737282646255, 0.00987094913058502, 0.02344350418513942, 0.0037016059239693825, 0.013805376505332619, 0.013805376505332619, 0.013805376505332619, 0.027610753010665238, 0.8697387198359551, 0.013805376505332619, 0.027610753010665238, 0.050196546651905725, 0.050196546651905725, 0.050196546651905725, 0.10039309330381145, 0.050196546651905725, 0.050196546651905725, 0.6023585598228687, 0.014158948161375832, 0.8778547860053015, 0.014158948161375832, 0.028317896322751664, 0.014158948161375832, 0.028317896322751664, 0.014158948161375832, 0.2807698846578601, 0.03743598462104802, 0.04211548269867902, 0.009358996155262004, 0.14974393848419207, 0.47262930584073126, 0.41348222354172676, 0.007129003854167703, 0.007129003854167703, 0.007129003854167703, 0.010693505781251554, 0.552497798697997, 0.020793510845934934, 0.020793510845934934, 0.0623805325378048, 0.04158702169186987, 0.04158702169186987, 0.7901534121455275, 0.008161203638060586, 0.14690166548509054, 0.807959160167998, 0.01632240727612117, 0.008161203638060586, 0.008161203638060586, 0.6019931627520477, 0.22289788915363337, 0.03883826856464824, 0.04981430098509231, 0.007598791675692047, 0.07598791675692047, 0.002532930558564016, 0.06647923610900008, 0.6897220746308759, 0.17450799478612522, 0.005539936342416673, 0.005539936342416673, 0.05539936342416673, 0.021288572493860253, 0.06386571748158076, 0.06386571748158076, 0.04257714498772051, 0.021288572493860253, 0.7663886097789692, 0.021288572493860253, 0.03483374813615858, 0.03483374813615858, 0.03483374813615858, 0.06966749627231716, 0.03483374813615858, 0.03483374813615858, 0.7315087108593302, 0.04833893504855799, 0.04833893504855799, 0.04833893504855799, 0.09667787009711598, 0.04833893504855799, 0.04833893504855799, 0.6284061556312539, 0.2861600633275524, 0.02510175994101337, 0.6175032945489288, 0.0050203519882026735, 0.06024422385843208, 0.0025101759941013367, 0.05983324755173265, 0.05983324755173265, 0.05983324755173265, 0.1196664951034653, 0.05983324755173265, 0.05983324755173265, 0.5384992279655939, 0.04177900836791969, 0.04177900836791969, 0.04177900836791969, 0.08355801673583937, 0.04177900836791969, 0.04177900836791969, 0.668464133886715, 0.007392478662782916, 0.08131726529061208, 0.8131726529061208, 0.014784957325565833, 0.007392478662782916, 0.06653230796504625, 0.014478274082896724, 0.014478274082896724, 0.8976529931395969, 0.028956548165793447, 0.014478274082896724, 0.014478274082896724, 0.025558732832268623, 0.025558732832268623, 0.4600571909808352, 0.051117465664537245, 0.025558732832268623, 0.025558732832268623, 0.35782225965176073, 0.011283138848043672, 0.011283138848043672, 0.011283138848043672, 0.022566277696087343, 0.9026511078434937, 0.011283138848043672, 0.0026704354422492937, 0.005340870884498587, 0.0026704354422492937, 0.9827202427477402, 0.0026704354422492937, 0.0026704354422492937, 0.3429905973552843, 0.07497933988696913, 0.5376178200406084, 0.003190610207956133, 0.033501407183539396, 0.003190610207956133, 0.0015953051039780666, 0.5856640601250804, 0.04598547435056187, 0.31669241769726575, 0.0017353009188891273, 0.04425017343167274, 0.0034706018377782546, 0.0017353009188891273, 0.014592804930439256, 0.014592804930439256, 0.8901611007567947, 0.029185609860878512, 0.029185609860878512, 0.014592804930439256, 0.023459535810013126, 0.14075721486007875, 0.023459535810013126, 0.04691907162002625, 0.023459535810013126, 0.04691907162002625, 0.6803265384903806, 0.9451285834996591, 0.01379749756933809, 0.006898748784669045, 0.01379749756933809, 0.006898748784669045, 0.006898748784669045, 0.006898748784669045, 0.9612623193255664, 0.011070199454804986, 0.005535099727402493, 0.014760265939739982, 0.0036900664849349955, 0.0018450332424674977, 0.0018450332424674977, 0.000946279630451532, 0.001892559260903064, 0.000946279630451532, 0.9935936119741087, 0.000946279630451532, 0.000946279630451532, 0.016013372256491652, 0.016013372256491652, 0.8807354741070409, 0.032026744512983304, 0.016013372256491652, 0.016013372256491652, 0.04074425973971377, 0.04074425973971377, 0.04074425973971377, 0.08148851947942753, 0.04074425973971377, 0.4074425973971377, 0.28520981817799634, 0.05015471751034412, 0.05015471751034412, 0.05015471751034412, 0.10030943502068825, 0.10030943502068825, 0.05015471751034412, 0.5517018926137853, 0.04311860481700173, 0.04311860481700173, 0.04311860481700173, 0.08623720963400346, 0.04311860481700173, 0.04311860481700173, 0.6036604674380242, 0.08623720963400346, 0.01220464282063164, 0.02440928564126328, 0.01220464282063164, 0.02440928564126328, 0.9031435687267414, 0.01220464282063164, 0.0068681570427855144, 0.23351733945470748, 0.013736314085571029, 0.0480770992994986, 0.0068681570427855144, 0.6799475472357659, 0.0068681570427855144, 0.001561823330617741, 0.003123646661235482, 0.001561823330617741, 0.9901959916116477, 0.001561823330617741, 0.001561823330617741, 0.37756006287273647, 0.20741072449515394, 0.33897968963595904, 0.0009892403394045498, 0.04880252341062445, 0.022752527806304643, 0.0029677210182136493, 0.00032974677980151656, 0.054755986325348525, 0.27377993162674263, 0.054755986325348525, 0.10951197265069705, 0.054755986325348525, 0.2190239453013941, 0.054755986325348525, 0.16426795897604557, 0.38888876971551933, 0.1660095070721088, 0.3809437303342345, 0.0012544799023081268, 0.045161276483092566, 0.01463559886026148, 0.002927119772052296, 0.0004181599674360423, 0.05378959949404981, 0.05378959949404981, 0.05378959949404981, 0.10757919898809962, 0.05378959949404981, 0.05378959949404981, 0.5916855944345478, 0.013731897731904339, 0.5767397047399823, 0.013731897731904339, 0.027463795463808678, 0.09612328412333038, 0.013731897731904339, 0.2471741591742781, 0.0029828225928697086, 0.04474233889304563, 0.8650185519322156, 0.005965645185739417, 0.0029828225928697086, 0.07158774222887301, 0.0029828225928697086, 0.0029828225928697086, 0.6639072918947474, 0.09530047778620443, 0.1464373195251434, 0.0005811004743061246, 0.08251626735146969, 0.00900705735174493, 0.0017433014229183738, 0.0002905502371530623, 0.7987043166684905, 0.06802053795025244, 0.08950070782927953, 0.0007160056626342362, 0.03007223783063792, 0.009666076445562189, 0.002864022650536945, 0.0003580028313171181, 0.010470182206433198, 0.9318462163725547, 0.010470182206433198, 0.020940364412866397, 0.010470182206433198, 0.010470182206433198, 0.057180551251344594, 0.30065902754739254, 0.553360173400109, 0.0036890678226673933, 0.057180551251344594, 0.025823474758671753, 0.10942529597409732, 0.06839080998381084, 0.7864943148138245, 0.013678161996762165, 0.006839080998381083, 0.006839080998381083, 0.07564992364081208, 0.07564992364081208, 0.07564992364081208, 0.15129984728162416, 0.07564992364081208, 0.07564992364081208, 0.37824961820406044, 0.02410451909277031, 0.8677626873397312, 0.04820903818554062, 0.016069679395180208, 0.008034839697590104, 0.02410451909277031, 0.5995576024137117, 0.22444444041830452, 0.09455761147252645, 0.0020781892631324492, 0.058535664244897326, 0.018703703368192045, 0.0017318243859437078, 0.00034636487718874156, 0.017445892941041884, 0.8897405399931362, 0.017445892941041884, 0.03489178588208377, 0.017445892941041884, 0.017445892941041884, 0.3255275648678873, 0.4666923619551465, 0.09950961106151057, 0.0023141770014304787, 0.048597717030040045, 0.056311640368141645, 0.0007713923338101595, 0.03364491346927382, 0.06728982693854764, 0.43738387510055965, 0.06728982693854764, 0.03364491346927382, 0.03364491346927382, 0.3364491346927382, 0.01999551500853491, 0.01999551500853491, 0.01999551500853491, 0.03999103001706982, 0.8598071453670012, 0.01999551500853491, 0.09664775894837334, 0.5670778145525038, 0.24802376693980144, 0.0023288616614065864, 0.012808739137736225, 0.0698658498421976, 0.0011644308307032932, 0.13390754713728797, 0.20553251421072105, 0.6259399296417414, 0.006228258006385487, 0.0031141290031927436, 0.01868477401915646, 0.0031141290031927436, 0.06464353937199581, 0.567194926102673, 0.28568273851494924, 0.002085275463612768, 0.029193856490578755, 0.050046611126706435, 0.001042637731806384, 0.011619057337664981, 0.011619057337664981, 0.011619057337664981, 0.023238114675329963, 0.011619057337664981, 0.011619057337664981, 0.9062864723378686, 0.023889023725230663, 0.047778047450461325, 0.023889023725230663, 0.047778047450461325, 0.023889023725230663, 0.023889023725230663, 0.8122268066578425, 0.7796227687026327, 0.07755409741020954, 0.12059847683405789, 0.0011132167092374574, 0.011874311565199547, 0.004081794600537344, 0.0048239390733623155, 0.00037107223641248585, 0.8652001210192022, 0.04975095035510237, 0.0668528395396688, 0.0015547171985969492, 0.010105661790880169, 0.003886792996492373, 0.0015547171985969492, 0.2701057226086874, 0.11025273507679956, 0.6070639593959721, 0.0010782663577193112, 0.0010782663577193112, 0.009434830630043972, 0.0002695665894298278, 0.0002695665894298278, 0.25819374342254353, 0.21278278352410623, 0.503412926874105, 0.002594911994196417, 0.0012974559970982086, 0.01946183995647313, 0.0012974559970982086, 0.01782395972028551, 0.11585573818185581, 0.8377261068534189, 0.008911979860142754, 0.004455989930071377, 0.01336796979021413, 0.024363172730000292, 0.5847161455200071, 0.21926855457000263, 0.048726345460000584, 0.024363172730000292, 0.024363172730000292, 0.048726345460000584, 0.21770074871172648, 0.7110513662958549, 0.02192669411485015, 0.02192669411485015, 0.0015661924367750106, 0.02349288655162516, 0.003132384873550021, 0.05829912963471451, 0.05829912963471451, 0.05829912963471451, 0.11659825926942902, 0.05829912963471451, 0.05829912963471451, 0.5246921667124306, 0.01038189581414178, 0.01038189581414178, 0.6021499572202232, 0.02076379162828356, 0.3010749786101116, 0.03114568744242534, 0.01038189581414178, 0.01038189581414178, 0.01038189581414178, 0.3919349083379195, 0.06718884142935762, 0.009598405918479661, 0.02559574911594576, 0.4943179048017025, 0.009598405918479661, 0.3513896163381229, 0.09773750918014014, 0.011635417759540493, 0.004654167103816197, 0.5282479662831384, 0.0023270835519080984, 0.6524036090401186, 0.1693434559303857, 0.10850693288837046, 0.0009080078065972423, 0.0408603512968759, 0.024970214681424165, 0.002270019516493106, 0.00045400390329862115, 0.040287432860411476, 0.040287432860411476, 0.040287432860411476, 0.08057486572082295, 0.040287432860411476, 0.040287432860411476, 0.6848863586269951, 0.003077958040281171, 0.0012311832161124685, 0.005540324472506108, 0.9880245309302559, 0.0006155916080562342, 0.0006155916080562342, 0.05975241628891985, 0.05975241628891985, 0.1195048325778397, 0.1195048325778397, 0.05975241628891985, 0.05975241628891985, 0.4780193303113588, 0.0006322066206443475, 0.001264413241288695, 0.0006322066206443475, 0.9950932208942029, 0.0006322066206443475, 0.0006322066206443475, 0.06519695078596326, 0.06519695078596326, 0.06519695078596326, 0.1303939015719265, 0.06519695078596326, 0.06519695078596326, 0.4563786555017427, 0.5395165384082798, 0.04150127218525229, 0.08300254437050458, 0.08300254437050458, 0.04150127218525229, 0.04150127218525229, 0.12450381655575689, 0.00994825937467513, 0.9152398624701121, 0.00994825937467513, 0.01989651874935026, 0.01989651874935026, 0.00994825937467513, 0.4309800134866889, 0.2876661776766574, 0.17550752356445887, 0.0010385060565944312, 0.0565985800843965, 0.04517501346185775, 0.0020770121131888624, 0.0005192530282972156, 0.2655465697501717, 0.27119649676613283, 0.20998895409322088, 0.0018833090053203667, 0.1986891000612987, 0.0282496350798055, 0.024483017069164767, 0.1166680979927802, 0.32538625495234114, 0.23226584646269086, 0.0021406990457390864, 0.27936122546895076, 0.03746223330043401, 0.0053517476143477155, 0.5813969141038561, 0.18155304077453258, 0.15250455425060735, 0.001281550876055524, 0.05510668767038753, 0.02520383389575864, 0.002563101752111048, 0.0004271836253518413, 0.019037341282236622, 0.019037341282236622, 0.09518670641118311, 0.038074682564473245, 0.019037341282236622, 0.7805309925717016, 0.20092455208748322, 0.050231138021870805, 0.012557784505467701, 0.23859790560388633, 0.11302006054920931, 0.3390601816476279, 0.0376733535164031, 0.013572940362533722, 0.14930234398787096, 0.027145880725067444, 0.027145880725067444, 0.013572940362533722, 0.7600846603018885, 0.9438462773126527, 0.017697117699612238, 0.005899039233204079, 0.011798078466408159, 0.011798078466408159, 0.005899039233204079, 0.9200927454787549, 0.019902172531154432, 0.022964045228255115, 0.0030618726971006816, 0.03061872697100682, 0.0015309363485503408, 0.0015309363485503408, 0.9656780375548325, 0.012121481642947688, 0.004040493880982563, 0.004040493880982563, 0.004040493880982563, 0.008080987761965126, 0.0020202469404912815, 0.17202059953119297, 0.15290719958328264, 0.022298966605895386, 0.00637113331597011, 0.003185566657985055, 0.6307421982810409, 0.01274226663194022, 0.01905615704870237, 0.03811231409740474, 0.01905615704870237, 0.11433694229221421, 0.01905615704870237, 0.7622462819480947, 0.10490672012287444, 0.2684377838438258, 0.021598442378238856, 0.006170983536639673, 0.00925647530495951, 0.5492175347609309, 0.04011139298815788, 0.04458706628542477, 0.04458706628542477, 0.04458706628542477, 0.08917413257084954, 0.04458706628542477, 0.04458706628542477, 0.6242189279959467, 0.015499316560600605, 0.8989603605148351, 0.015499316560600605, 0.03099863312120121, 0.015499316560600605, 0.015499316560600605, 0.015764040618613598, 0.015764040618613598, 0.015764040618613598, 0.031528081237227196, 0.8670222340237479, 0.015764040618613598, 0.015764040618613598, 0.06688381198075434, 0.06688381198075434, 0.06688381198075434, 0.13376762396150868, 0.06688381198075434, 0.06688381198075434, 0.401302871884526, 0.018501811429271722, 0.018501811429271722, 0.018501811429271722, 0.037003622858543445, 0.018501811429271722, 0.018501811429271722, 0.8510833257464991, 0.010023423918402155, 0.010023423918402155, 0.9321784244114004, 0.02004684783680431, 0.010023423918402155, 0.010023423918402155, 0.10578988809746978, 0.6325353725827881, 0.14986900813808218, 0.057302856052796135, 0.017631648016244963, 0.03526329603248993, 0.0011019780010153102, 0.008184167157481229, 0.9084425544804164, 0.032736668629924914, 0.016368334314962457, 0.008184167157481229, 0.016368334314962457, 0.3622299721160666, 0.5565169571601387, 0.023050998225567873, 0.013171998986038786, 0.01646499873254848, 0.024697498098822723, 0.0016464998732548483, 0.07106321808079016, 0.07106321808079016, 0.07106321808079016, 0.14212643616158033, 0.07106321808079016, 0.07106321808079016, 0.07106321808079016, 0.426379308484741, 0.058483049752758746, 0.058483049752758746, 0.058483049752758746, 0.11696609950551749, 0.058483049752758746, 0.058483049752758746, 0.5263474477748287, 0.25700420396877804, 0.0149421048819057, 0.7142326133550925, 0.00597684195276228, 0.00298842097638114, 0.00298842097638114, 0.7616032729845466, 0.1480256109627568, 0.057139419775779174, 0.0015339441550544744, 0.007286234736508754, 0.023392648364580736, 0.0011504581162908559, 0.0003834860387636186, 0.12610173601851674, 0.34875011367621034, 0.007881358501157296, 0.0492584906322331, 0.001970339625289324, 0.46302981194299114, 0.001970339625289324, 0.015389602214265117, 0.4616880664279535, 0.007694801107132558, 0.030779204428530233, 0.007694801107132558, 0.4770776686422186, 0.6531206940417837, 0.24762869916276162, 0.045398594846506296, 0.0015476793697672602, 0.010317862465115069, 0.03972377049069301, 0.0015476793697672602, 0.0005158931232557534, 0.10764823093433737, 0.5809292462490965, 0.17075236630963858, 0.0037120079632530123, 0.06124813139367471, 0.07424015926506025, 0.0018560039816265062, 0.05987261909931813, 0.05987261909931813, 0.05987261909931813, 0.11974523819863626, 0.05987261909931813, 0.05987261909931813, 0.5388535718938632, 0.017483094997179385, 0.03496618999435877, 0.8566716548617899, 0.03496618999435877, 0.017483094997179385, 0.017483094997179385, 0.017483094997179385, 0.06888947660464581, 0.17222369151161454, 0.6920261058921239, 0.006262679691331438, 0.04070741799365435, 0.012525359382662875, 0.05366557989087062, 0.05366557989087062, 0.16099673967261185, 0.10733115978174124, 0.05366557989087062, 0.05366557989087062, 0.48299021901783556], \"Term\": [\"absa\", \"absa\", \"absa\", \"absa\", \"absa\", \"absa\", \"absa\", \"abuse\", \"abuse\", \"abuse\", \"abuse\", \"abuse\", \"abuse\", \"abusive\", \"abusive\", \"abusive\", \"abusive\", \"abusive\", \"abusive\", \"accumulation\", \"accumulation\", \"accumulation\", \"accumulation\", \"accumulation\", \"accumulation\", \"accumulation\", \"achieves\", \"achieves\", \"achieves\", \"achieves\", \"achieves\", \"achieves\", \"achieves\", \"adapters\", \"adapters\", \"adapters\", \"adapters\", \"adapters\", \"adapters\", \"adapters\", \"adaptively\", \"adaptively\", \"adaptively\", \"adaptively\", \"adaptively\", \"adaptively\", \"adaptively\", \"adaptively\", \"adjustment\", \"adjustment\", \"adjustment\", \"adjustment\", \"adjustment\", \"adjustment\", \"adjusts\", \"adjusts\", \"adjusts\", \"adjusts\", \"adjusts\", \"adjusts\", \"adjusts\", \"adjusts\", \"adversarial\", \"adversarial\", \"adversarial\", \"adversarial\", \"adversarial\", \"adversarial\", \"adversarial\", \"adversarial\", \"aes\", \"aes\", \"aes\", \"aes\", \"aes\", \"aes\", \"agent\", \"agent\", \"agent\", \"agent\", \"agent\", \"agent\", \"agent\", \"agents\", \"agents\", \"agents\", \"agents\", \"agents\", \"agents\", \"agents\", \"aggression\", \"aggression\", \"aggression\", \"aggression\", \"aggression\", \"aggression\", \"agnostic\", \"agnostic\", \"agnostic\", \"agnostic\", \"agnostic\", \"agnostic\", \"agnostic\", \"altogether\", \"altogether\", \"altogether\", \"altogether\", \"altogether\", \"altogether\", \"altogether\", \"altogether\", \"altogether\", \"amharic\", \"amharic\", \"amharic\", \"amharic\", \"amharic\", \"amharic\", \"amr\", \"amr\", \"amr\", \"amr\", \"amr\", \"amr\", \"analogical\", \"analogical\", \"analogical\", \"analogical\", \"analogical\", \"analogical\", \"analogical\", \"analyse\", \"analyse\", \"analyse\", \"analyse\", \"analyse\", \"analyse\", \"analyse\", \"angles\", \"angles\", \"angles\", \"angles\", \"angles\", \"angles\", \"angles\", \"annotated\", \"annotated\", \"annotated\", \"annotated\", \"annotated\", \"annotated\", \"annotated\", \"annotation\", \"annotation\", \"annotation\", \"annotation\", \"annotation\", \"annotation\", \"annotation\", \"anomalies\", \"anomalies\", \"anomalies\", \"anomalies\", \"anomalies\", \"anomalies\", \"anomalies\", \"ape\", \"ape\", \"ape\", \"ape\", \"ape\", \"ape\", \"ape\", \"approach\", \"approach\", \"approach\", \"approach\", \"approach\", \"approach\", \"approach\", \"approach\", \"arabic\", \"arabic\", \"arabic\", \"arabic\", \"arabic\", \"arabic\", \"arabic\", \"archiving\", \"archiving\", \"archiving\", \"archiving\", \"archiving\", \"archiving\", \"archiving\", \"arithmetic\", \"arithmetic\", \"arithmetic\", \"arithmetic\", \"arithmetic\", \"arithmetic\", \"arithmetic\", \"arousal\", \"arousal\", \"arousal\", \"arousal\", \"arousal\", \"arousal\", \"arousal\", \"article\", \"article\", \"article\", \"article\", \"article\", \"article\", \"artifacts\", \"artifacts\", \"artifacts\", \"artifacts\", \"artifacts\", \"artifacts\", \"artifacts\", \"asr\", \"asr\", \"asr\", \"asr\", \"asr\", \"asr\", \"attack\", \"attack\", \"attack\", \"attack\", \"attack\", \"attack\", \"attack\", \"attack\", \"attends\", \"attends\", \"attends\", \"attends\", \"attends\", \"attends\", \"attends\", \"attention\", \"attention\", \"attention\", \"attention\", \"attention\", \"attention\", \"attention\", \"au\", \"au\", \"au\", \"au\", \"au\", \"au\", \"augmentation\", \"augmentation\", \"augmentation\", \"augmentation\", \"augmentation\", \"augmentation\", \"augmentation\", \"augmentation\", \"augmentations\", \"augmentations\", \"augmentations\", \"augmentations\", \"augmentations\", \"augmentations\", \"augmentations\", \"autoencoding\", \"autoencoding\", \"autoencoding\", \"autoencoding\", \"autoencoding\", \"autoencoding\", \"autoencoding\", \"automatic\", \"automatic\", \"automatic\", \"automatic\", \"automatic\", \"automatic\", \"automatic\", \"automatique\", \"automatique\", \"automatique\", \"automatique\", \"automatique\", \"automatique\", \"available\", \"available\", \"available\", \"available\", \"available\", \"available\", \"available\", \"backtranslation\", \"backtranslation\", \"backtranslation\", \"backtranslation\", \"backtranslation\", \"backtranslation\", \"bandit\", \"bandit\", \"bandit\", \"bandit\", \"bandit\", \"bandit\", \"bandit\", \"bangla\", \"bangla\", \"bangla\", \"bangla\", \"bangla\", \"bangla\", \"bart\", \"bart\", \"bart\", \"bart\", \"bart\", \"bart\", \"basque\", \"basque\", \"basque\", \"basque\", \"basque\", \"basque\", \"benchmark\", \"benchmark\", \"benchmark\", \"benchmark\", \"benchmark\", \"benchmark\", \"benchmark\", \"benefited\", \"benefited\", \"benefited\", \"benefited\", \"benefited\", \"benefited\", \"benefited\", \"benefited\", \"bert\", \"bert\", \"bert\", \"bert\", \"bert\", \"bert\", \"bert\", \"bilstms\", \"bilstms\", \"bilstms\", \"bilstms\", \"bilstms\", \"bilstms\", \"bilstms\", \"bleu\", \"bleu\", \"bleu\", \"bleu\", \"bleu\", \"bleu\", \"bleu\", \"bots\", \"bots\", \"bots\", \"bots\", \"bots\", \"bots\", \"bots\", \"bounded\", \"bounded\", \"bounded\", \"bounded\", \"bounded\", \"bounded\", \"bpe\", \"bpe\", \"bpe\", \"bpe\", \"bpe\", \"bpe\", \"brand\", \"brand\", \"brand\", \"brand\", \"brand\", \"brand\", \"brand\", \"btec\", \"btec\", \"btec\", \"btec\", \"btec\", \"btec\", \"campaign\", \"campaign\", \"campaign\", \"campaign\", \"campaign\", \"campaign\", \"capsule\", \"capsule\", \"capsule\", \"capsule\", \"capsule\", \"capsule\", \"capsule\", \"casting\", \"casting\", \"casting\", \"casting\", \"casting\", \"casting\", \"catastrophic\", \"catastrophic\", \"catastrophic\", \"catastrophic\", \"catastrophic\", \"catastrophic\", \"catastrophic\", \"catastrophic\", \"categorisation\", \"categorisation\", \"categorisation\", \"categorisation\", \"categorisation\", \"categorisation\", \"cca\", \"cca\", \"cca\", \"cca\", \"cca\", \"cca\", \"cca\", \"ce\", \"ce\", \"ce\", \"ce\", \"ce\", \"ce\", \"centuries\", \"centuries\", \"centuries\", \"centuries\", \"centuries\", \"centuries\", \"ces\", \"ces\", \"ces\", \"ces\", \"ces\", \"ces\", \"cet\", \"cet\", \"cet\", \"cet\", \"cet\", \"cet\", \"cette\", \"cette\", \"cette\", \"cette\", \"cette\", \"cette\", \"chatbots\", \"chatbots\", \"chatbots\", \"chatbots\", \"chatbots\", \"chatbots\", \"chatbots\", \"classification\", \"classification\", \"classification\", \"classification\", \"classification\", \"classification\", \"classification\", \"clinical\", \"clinical\", \"clinical\", \"clinical\", \"clinical\", \"clinical\", \"clinicians\", \"clinicians\", \"clinicians\", \"clinicians\", \"clinicians\", \"clinicians\", \"clir\", \"clir\", \"clir\", \"clir\", \"clir\", \"clir\", \"comments\", \"comments\", \"comments\", \"comments\", \"comments\", \"comments\", \"commercially\", \"commercially\", \"commercially\", \"commercially\", \"commercially\", \"commercially\", \"commercially\", \"commonsense\", \"commonsense\", \"commonsense\", \"commonsense\", \"commonsense\", \"commonsense\", \"commonsense\", \"competitors\", \"competitors\", \"competitors\", \"competitors\", \"competitors\", \"competitors\", \"competitors\", \"compounds\", \"compounds\", \"compounds\", \"compounds\", \"compounds\", \"compounds\", \"compounds\", \"condescending\", \"condescending\", \"condescending\", \"condescending\", \"condescending\", \"condescending\", \"conflict\", \"conflict\", \"conflict\", \"conflict\", \"conflict\", \"conflict\", \"conflict\", \"conflict\", \"connective\", \"connective\", \"connective\", \"connective\", \"connective\", \"connective\", \"connectives\", \"connectives\", \"connectives\", \"connectives\", \"connectives\", \"connectives\", \"consolidation\", \"consolidation\", \"consolidation\", \"consolidation\", \"consolidation\", \"consolidation\", \"consolidation\", \"content\", \"content\", \"content\", \"content\", \"content\", \"content\", \"content\", \"contextualization\", \"contextualization\", \"contextualization\", \"contextualization\", \"contextualization\", \"contextualization\", \"contextualized\", \"contextualized\", \"contextualized\", \"contextualized\", \"contextualized\", \"contextualized\", \"contextualized\", \"continually\", \"continually\", \"continually\", \"continually\", \"continually\", \"continually\", \"continually\", \"continually\", \"controllable\", \"controllable\", \"controllable\", \"controllable\", \"controllable\", \"controllable\", \"controllable\", \"controllable\", \"conversation\", \"conversation\", \"conversation\", \"conversation\", \"conversation\", \"conversation\", \"conversation\", \"conversational\", \"conversational\", \"conversational\", \"conversational\", \"conversational\", \"conversational\", \"conversational\", \"conversations\", \"conversations\", \"conversations\", \"conversations\", \"conversations\", \"conversations\", \"conversations\", \"cooking\", \"cooking\", \"cooking\", \"cooking\", \"cooking\", \"cooking\", \"coreferent\", \"coreferent\", \"coreferent\", \"coreferent\", \"coreferent\", \"coreferent\", \"coreferent\", \"corpora\", \"corpora\", \"corpora\", \"corpora\", \"corpora\", \"corpora\", \"corpora\", \"corporate\", \"corporate\", \"corporate\", \"corporate\", \"corporate\", \"corporate\", \"corpus\", \"corpus\", \"corpus\", \"corpus\", \"corpus\", \"corpus\", \"corpus\", \"coupling\", \"coupling\", \"coupling\", \"coupling\", \"coupling\", \"coupling\", \"coupling\", \"coupling\", \"craft\", \"craft\", \"craft\", \"craft\", \"craft\", \"craft\", \"craft\", \"creation\", \"creation\", \"creation\", \"creation\", \"creation\", \"creation\", \"creation\", \"crosslingual\", \"crosslingual\", \"crosslingual\", \"crosslingual\", \"crosslingual\", \"crosslingual\", \"curricula\", \"curricula\", \"curricula\", \"curricula\", \"curricula\", \"curricula\", \"cyclic\", \"cyclic\", \"cyclic\", \"cyclic\", \"cyclic\", \"cyclic\", \"cyclic\", \"da\", \"da\", \"da\", \"da\", \"da\", \"da\", \"da\", \"dans\", \"dans\", \"dans\", \"dans\", \"dans\", \"dans\", \"data\", \"data\", \"data\", \"data\", \"data\", \"data\", \"data\", \"data\", \"database\", \"database\", \"database\", \"database\", \"database\", \"database\", \"database\", \"databases\", \"databases\", \"databases\", \"databases\", \"databases\", \"databases\", \"dataset\", \"dataset\", \"dataset\", \"dataset\", \"dataset\", \"dataset\", \"dataset\", \"dataset\", \"datasets\", \"datasets\", \"datasets\", \"datasets\", \"datasets\", \"datasets\", \"datasets\", \"de\", \"de\", \"de\", \"de\", \"de\", \"de\", \"de\", \"debiasing\", \"debiasing\", \"debiasing\", \"debiasing\", \"debiasing\", \"debiasing\", \"decoupled\", \"decoupled\", \"decoupled\", \"decoupled\", \"decoupled\", \"decoupled\", \"deft\", \"deft\", \"deft\", \"deft\", \"deft\", \"deft\", \"deft\", \"denoising\", \"denoising\", \"denoising\", \"denoising\", \"denoising\", \"denoising\", \"dense\", \"dense\", \"dense\", \"dense\", \"dense\", \"dense\", \"dense\", \"depression\", \"depression\", \"depression\", \"depression\", \"depression\", \"depression\", \"derives\", \"derives\", \"derives\", \"derives\", \"derives\", \"derives\", \"derives\", \"derives\", \"des\", \"des\", \"des\", \"des\", \"des\", \"des\", \"describes\", \"describes\", \"describes\", \"describes\", \"describes\", \"describes\", \"describes\", \"detection\", \"detection\", \"detection\", \"detection\", \"detection\", \"detection\", \"detection\", \"detection\", \"development\", \"development\", \"development\", \"development\", \"development\", \"development\", \"development\", \"dialog\", \"dialog\", \"dialog\", \"dialog\", \"dialog\", \"dialog\", \"dialog\", \"dialogue\", \"dialogue\", \"dialogue\", \"dialogue\", \"dialogue\", \"dialogue\", \"dialogue\", \"different\", \"different\", \"different\", \"different\", \"different\", \"different\", \"different\", \"different\", \"discourse\", \"discourse\", \"discourse\", \"discourse\", \"discourse\", \"discourse\", \"discourse\", \"disentangled\", \"disentangled\", \"disentangled\", \"disentangled\", \"disentangled\", \"disentangled\", \"disentangled\", \"disentanglement\", \"disentanglement\", \"disentanglement\", \"disentanglement\", \"disentanglement\", \"disentanglement\", \"disentanglement\", \"disinformation\", \"disinformation\", \"disinformation\", \"disinformation\", \"disinformation\", \"disinformation\", \"disinformation\", \"distillation\", \"distillation\", \"distillation\", \"distillation\", \"distillation\", \"distillation\", \"distillation\", \"distillation\", \"distilling\", \"distilling\", \"distilling\", \"distilling\", \"distilling\", \"distilling\", \"distilling\", \"distortion\", \"distortion\", \"distortion\", \"distortion\", \"distortion\", \"distortion\", \"distortion\", \"dl\", \"dl\", \"dl\", \"dl\", \"dl\", \"dl\", \"dl\", \"documents\", \"documents\", \"documents\", \"documents\", \"documents\", \"documents\", \"documents\", \"donn\", \"donn\", \"donn\", \"donn\", \"donn\", \"donn\", \"downstream\", \"downstream\", \"downstream\", \"downstream\", \"downstream\", \"downstream\", \"downstream\", \"dp\", \"dp\", \"dp\", \"dp\", \"dp\", \"dp\", \"dp\", \"dravidian\", \"dravidian\", \"dravidian\", \"dravidian\", \"dravidian\", \"dravidian\", \"drift\", \"drift\", \"drift\", \"drift\", \"drift\", \"drift\", \"drift\", \"drift\", \"dsms\", \"dsms\", \"dsms\", \"dsms\", \"dsms\", \"dsms\", \"du\", \"du\", \"du\", \"du\", \"du\", \"du\", \"dual\", \"dual\", \"dual\", \"dual\", \"dual\", \"dual\", \"dual\", \"dual\", \"ebmt\", \"ebmt\", \"ebmt\", \"ebmt\", \"ebmt\", \"ebmt\", \"embedding\", \"embedding\", \"embedding\", \"embedding\", \"embedding\", \"embedding\", \"embedding\", \"embeddings\", \"embeddings\", \"embeddings\", \"embeddings\", \"embeddings\", \"embeddings\", \"embeddings\", \"emojis\", \"emojis\", \"emojis\", \"emojis\", \"emojis\", \"emojis\", \"emotion\", \"emotion\", \"emotion\", \"emotion\", \"emotion\", \"emotion\", \"emotion\", \"emotional\", \"emotional\", \"emotional\", \"emotional\", \"emotional\", \"emotional\", \"emotions\", \"emotions\", \"emotions\", \"emotions\", \"emotions\", \"emotions\", \"empathetic\", \"empathetic\", \"empathetic\", \"empathetic\", \"empathetic\", \"empathetic\", \"employment\", \"employment\", \"employment\", \"employment\", \"employment\", \"employment\", \"employment\", \"en\", \"en\", \"en\", \"en\", \"en\", \"en\", \"encoder\", \"encoder\", \"encoder\", \"encoder\", \"encoder\", \"encoder\", \"endings\", \"endings\", \"endings\", \"endings\", \"endings\", \"endings\", \"endings\", \"enforcing\", \"enforcing\", \"enforcing\", \"enforcing\", \"enforcing\", \"enforcing\", \"english\", \"english\", \"english\", \"english\", \"english\", \"english\", \"english\", \"ensembling\", \"ensembling\", \"ensembling\", \"ensembling\", \"ensembling\", \"ensembling\", \"entity\", \"entity\", \"entity\", \"entity\", \"entity\", \"entity\", \"entity\", \"enumerate\", \"enumerate\", \"enumerate\", \"enumerate\", \"enumerate\", \"enumerate\", \"enumerate\", \"episodic\", \"episodic\", \"episodic\", \"episodic\", \"episodic\", \"episodic\", \"episodic\", \"equality\", \"equality\", \"equality\", \"equality\", \"equality\", \"equality\", \"errors\", \"errors\", \"errors\", \"errors\", \"errors\", \"errors\", \"errors\", \"es\", \"es\", \"es\", \"es\", \"es\", \"es\", \"est\", \"est\", \"est\", \"est\", \"est\", \"est\", \"et\", \"et\", \"et\", \"et\", \"et\", \"et\", \"et\", \"evaluation\", \"evaluation\", \"evaluation\", \"evaluation\", \"evaluation\", \"evaluation\", \"evaluation\", \"experiments\", \"experiments\", \"experiments\", \"experiments\", \"experiments\", \"experiments\", \"experiments\", \"explainability\", \"explainability\", \"explainability\", \"explainability\", \"explainability\", \"explainability\", \"explainable\", \"explainable\", \"explainable\", \"explainable\", \"explainable\", \"explainable\", \"explainable\", \"explainable\", \"explanation\", \"explanation\", \"explanation\", \"explanation\", \"explanation\", \"explanation\", \"explanation\", \"explanation\", \"facial\", \"facial\", \"facial\", \"facial\", \"facial\", \"facial\", \"facility\", \"facility\", \"facility\", \"facility\", \"facility\", \"facility\", \"facility\", \"fairness\", \"fairness\", \"fairness\", \"fairness\", \"fairness\", \"fairness\", \"fairness\", \"faithfulness\", \"faithfulness\", \"faithfulness\", \"faithfulness\", \"faithfulness\", \"faithfulness\", \"federated\", \"federated\", \"federated\", \"federated\", \"federated\", \"federated\", \"feedback\", \"feedback\", \"feedback\", \"feedback\", \"feedback\", \"feedback\", \"feedback\", \"fl\", \"fl\", \"fl\", \"fl\", \"fl\", \"fl\", \"fl\", \"flaws\", \"flaws\", \"flaws\", \"flaws\", \"flaws\", \"flaws\", \"flaws\", \"forecasting\", \"forecasting\", \"forecasting\", \"forecasting\", \"forecasting\", \"forecasting\", \"forgetting\", \"forgetting\", \"forgetting\", \"forgetting\", \"forgetting\", \"forgetting\", \"forgetting\", \"formality\", \"formality\", \"formality\", \"formality\", \"formality\", \"formality\", \"formality\", \"formality\", \"format\", \"format\", \"format\", \"format\", \"format\", \"format\", \"format\", \"formulating\", \"formulating\", \"formulating\", \"formulating\", \"formulating\", \"formulating\", \"formulating\", \"frame\", \"frame\", \"frame\", \"frame\", \"frame\", \"frame\", \"frame\", \"framenet\", \"framenet\", \"framenet\", \"framenet\", \"framenet\", \"framenet\", \"frames\", \"frames\", \"frames\", \"frames\", \"frames\", \"frames\", \"fran\", \"fran\", \"fran\", \"fran\", \"fran\", \"fran\", \"fused\", \"fused\", \"fused\", \"fused\", \"fused\", \"fused\", \"fused\", \"game\", \"game\", \"game\", \"game\", \"game\", \"game\", \"game\", \"gender\", \"gender\", \"gender\", \"gender\", \"gender\", \"gender\", \"gendered\", \"gendered\", \"gendered\", \"gendered\", \"gendered\", \"gendered\", \"generalisation\", \"generalisation\", \"generalisation\", \"generalisation\", \"generalisation\", \"generalisation\", \"generalisation\", \"generalization\", \"generalization\", \"generalization\", \"generalization\", \"generalization\", \"generalization\", \"generalization\", \"generation\", \"generation\", \"generation\", \"generation\", \"generation\", \"generation\", \"generation\", \"generation\", \"gestures\", \"gestures\", \"gestures\", \"gestures\", \"gestures\", \"gestures\", \"glossaries\", \"glossaries\", \"glossaries\", \"glossaries\", \"glossaries\", \"glossaries\", \"glue\", \"glue\", \"glue\", \"glue\", \"glue\", \"glue\", \"gradients\", \"gradients\", \"gradients\", \"gradients\", \"gradients\", \"gradients\", \"gradients\", \"graph\", \"graph\", \"graph\", \"graph\", \"graph\", \"graph\", \"graph\", \"guidelines\", \"guidelines\", \"guidelines\", \"guidelines\", \"guidelines\", \"guidelines\", \"han\", \"han\", \"han\", \"han\", \"han\", \"han\", \"han\", \"harassment\", \"harassment\", \"harassment\", \"harassment\", \"harassment\", \"harassment\", \"harm\", \"harm\", \"harm\", \"harm\", \"harm\", \"harm\", \"hate\", \"hate\", \"hate\", \"hate\", \"hate\", \"hate\", \"hateful\", \"hateful\", \"hateful\", \"hateful\", \"hateful\", \"hateful\", \"headline\", \"headline\", \"headline\", \"headline\", \"headline\", \"headline\", \"headlines\", \"headlines\", \"headlines\", \"headlines\", \"headlines\", \"headlines\", \"health\", \"health\", \"health\", \"health\", \"health\", \"health\", \"historical\", \"historical\", \"historical\", \"historical\", \"historical\", \"historical\", \"historical\", \"hotpotqa\", \"hotpotqa\", \"hotpotqa\", \"hotpotqa\", \"hotpotqa\", \"hotpotqa\", \"hotpotqa\", \"human\", \"human\", \"human\", \"human\", \"human\", \"human\", \"human\", \"hyperbolic\", \"hyperbolic\", \"hyperbolic\", \"hyperbolic\", \"hyperbolic\", \"hyperbolic\", \"hyperbolic\", \"icd\", \"icd\", \"icd\", \"icd\", \"icd\", \"icd\", \"icelandic\", \"icelandic\", \"icelandic\", \"icelandic\", \"icelandic\", \"icelandic\", \"ideology\", \"ideology\", \"ideology\", \"ideology\", \"ideology\", \"ideology\", \"ideology\", \"idiom\", \"idiom\", \"idiom\", \"idiom\", \"idiom\", \"idiom\", \"idiom\", \"idioms\", \"idioms\", \"idioms\", \"idioms\", \"idioms\", \"idioms\", \"idioms\", \"illness\", \"illness\", \"illness\", \"illness\", \"illness\", \"illness\", \"illness\", \"imbalance\", \"imbalance\", \"imbalance\", \"imbalance\", \"imbalance\", \"imbalance\", \"imbalance\", \"inclusive\", \"inclusive\", \"inclusive\", \"inclusive\", \"inclusive\", \"inclusive\", \"inclusive\", \"indic\", \"indic\", \"indic\", \"indic\", \"indic\", \"indic\", \"indic\", \"individuals\", \"individuals\", \"individuals\", \"individuals\", \"individuals\", \"individuals\", \"inductive\", \"inductive\", \"inductive\", \"inductive\", \"inductive\", \"inductive\", \"inductive\", \"inductive\", \"inference\", \"inference\", \"inference\", \"inference\", \"inference\", \"inference\", \"inference\", \"information\", \"information\", \"information\", \"information\", \"information\", \"information\", \"information\", \"initializing\", \"initializing\", \"initializing\", \"initializing\", \"initializing\", \"initializing\", \"initializing\", \"instruction\", \"instruction\", \"instruction\", \"instruction\", \"instruction\", \"instruction\", \"instruction\", \"instruction\", \"instructional\", \"instructional\", \"instructional\", \"instructional\", \"instructional\", \"instructional\", \"instructions\", \"instructions\", \"instructions\", \"instructions\", \"instructions\", \"instructions\", \"instructions\", \"integrity\", \"integrity\", \"integrity\", \"integrity\", \"integrity\", \"integrity\", \"integrity\", \"integrity\", \"intents\", \"intents\", \"intents\", \"intents\", \"intents\", \"intents\", \"intents\", \"interventions\", \"interventions\", \"interventions\", \"interventions\", \"interventions\", \"interventions\", \"interventions\", \"interventions\", \"intractable\", \"intractable\", \"intractable\", \"intractable\", \"intractable\", \"intractable\", \"intractable\", \"invariant\", \"invariant\", \"invariant\", \"invariant\", \"invariant\", \"invariant\", \"invariant\", \"invariant\", \"iwslt\", \"iwslt\", \"iwslt\", \"iwslt\", \"iwslt\", \"iwslt\", \"jeuxdemots\", \"jeuxdemots\", \"jeuxdemots\", \"jeuxdemots\", \"jeuxdemots\", \"jeuxdemots\", \"jeuxdemots\", \"kb\", \"kb\", \"kb\", \"kb\", \"kb\", \"kb\", \"kb\", \"kd\", \"kd\", \"kd\", \"kd\", \"kd\", \"kd\", \"kg\", \"kg\", \"kg\", \"kg\", \"kg\", \"kg\", \"kgs\", \"kgs\", \"kgs\", \"kgs\", \"kgs\", \"kgs\", \"knowledge\", \"knowledge\", \"knowledge\", \"knowledge\", \"knowledge\", \"knowledge\", \"knowledge\", \"knowledge\", \"la\", \"la\", \"la\", \"la\", \"la\", \"la\", \"language\", \"language\", \"language\", \"language\", \"language\", \"language\", \"language\", \"language\", \"languages\", \"languages\", \"languages\", \"languages\", \"languages\", \"languages\", \"languages\", \"languages\", \"latency\", \"latency\", \"latency\", \"latency\", \"latency\", \"latency\", \"latency\", \"latent\", \"latent\", \"latent\", \"latent\", \"latent\", \"latent\", \"latent\", \"latin\", \"latin\", \"latin\", \"latin\", \"latin\", \"latin\", \"le\", \"le\", \"le\", \"le\", \"le\", \"le\", \"learn\", \"learn\", \"learn\", \"learn\", \"learn\", \"learn\", \"learn\", \"learned\", \"learned\", \"learned\", \"learned\", \"learned\", \"learned\", \"learned\", \"learning\", \"learning\", \"learning\", \"learning\", \"learning\", \"learning\", \"learning\", \"learning\", \"learns\", \"learns\", \"learns\", \"learns\", \"learns\", \"learns\", \"learns\", \"les\", \"les\", \"les\", \"les\", \"les\", \"les\", \"lexical\", \"lexical\", \"lexical\", \"lexical\", \"lexical\", \"lexical\", \"lexical\", \"lexicon\", \"lexicon\", \"lexicon\", \"lexicon\", \"lexicon\", \"lexicon\", \"lexicon\", \"linguistic\", \"linguistic\", \"linguistic\", \"linguistic\", \"linguistic\", \"linguistic\", \"linguistic\", \"lis\", \"lis\", \"lis\", \"lis\", \"lis\", \"lis\", \"lis\", \"lm\", \"lm\", \"lm\", \"lm\", \"lm\", \"lm\", \"lm\", \"lms\", \"lms\", \"lms\", \"lms\", \"lms\", \"lms\", \"lms\", \"lms\", \"loss\", \"loss\", \"loss\", \"loss\", \"loss\", \"loss\", \"loss\", \"lyrics\", \"lyrics\", \"lyrics\", \"lyrics\", \"lyrics\", \"lyrics\", \"lyrics\", \"lyrics\", \"machine\", \"machine\", \"machine\", \"machine\", \"machine\", \"machine\", \"machine\", \"mae\", \"mae\", \"mae\", \"mae\", \"mae\", \"mae\", \"mae\", \"malayalam\", \"malayalam\", \"malayalam\", \"malayalam\", \"malayalam\", \"malayalam\", \"mami\", \"mami\", \"mami\", \"mami\", \"mami\", \"mami\", \"manifests\", \"manifests\", \"manifests\", \"manifests\", \"manifests\", \"manifests\", \"manifold\", \"manifold\", \"manifold\", \"manifold\", \"manifold\", \"manifold\", \"manifold\", \"manifold\", \"masked\", \"masked\", \"masked\", \"masked\", \"masked\", \"masked\", \"masked\", \"masking\", \"masking\", \"masking\", \"masking\", \"masking\", \"masking\", \"masking\", \"media\", \"media\", \"media\", \"media\", \"media\", \"media\", \"medication\", \"medication\", \"medication\", \"medication\", \"medication\", \"medication\", \"meme\", \"meme\", \"meme\", \"meme\", \"meme\", \"meme\", \"memes\", \"memes\", \"memes\", \"memes\", \"memes\", \"memes\", \"mental\", \"mental\", \"mental\", \"mental\", \"mental\", \"mental\", \"metaphor\", \"metaphor\", \"metaphor\", \"metaphor\", \"metaphor\", \"metaphor\", \"metaphor\", \"metaphors\", \"metaphors\", \"metaphors\", \"metaphors\", \"metaphors\", \"metaphors\", \"metaphors\", \"method\", \"method\", \"method\", \"method\", \"method\", \"method\", \"method\", \"method\", \"methods\", \"methods\", \"methods\", \"methods\", \"methods\", \"methods\", \"methods\", \"methods\", \"metonymy\", \"metonymy\", \"metonymy\", \"metonymy\", \"metonymy\", \"metonymy\", \"misogynous\", \"misogynous\", \"misogynous\", \"misogynous\", \"misogynous\", \"misogynous\", \"misogyny\", \"misogyny\", \"misogyny\", \"misogyny\", \"misogyny\", \"misogyny\", \"mle\", \"mle\", \"mle\", \"mle\", \"mle\", \"mle\", \"mle\", \"mod\", \"mod\", \"mod\", \"mod\", \"mod\", \"mod\", \"model\", \"model\", \"model\", \"model\", \"model\", \"model\", \"model\", \"model\", \"models\", \"models\", \"models\", \"models\", \"models\", \"models\", \"models\", \"models\", \"moral\", \"moral\", \"moral\", \"moral\", \"moral\", \"moral\", \"moral\", \"moral\", \"moses\", \"moses\", \"moses\", \"moses\", \"moses\", \"moses\", \"mt\", \"mt\", \"mt\", \"mt\", \"mt\", \"mt\", \"mt\", \"multimodal\", \"multimodal\", \"multimodal\", \"multimodal\", \"multimodal\", \"multimodal\", \"multimodal\", \"multitask\", \"multitask\", \"multitask\", \"multitask\", \"multitask\", \"multitask\", \"multiword\", \"multiword\", \"multiword\", \"multiword\", \"multiword\", \"multiword\", \"mwe\", \"mwe\", \"mwe\", \"mwe\", \"mwe\", \"mwe\", \"mwes\", \"mwes\", \"mwes\", \"mwes\", \"mwes\", \"mwes\", \"myriad\", \"myriad\", \"myriad\", \"myriad\", \"myriad\", \"myriad\", \"myriad\", \"nan\", \"nan\", \"nan\", \"nan\", \"nan\", \"nan\", \"nan\", \"narrative\", \"narrative\", \"narrative\", \"narrative\", \"narrative\", \"narrative\", \"narrative\", \"navigation\", \"navigation\", \"navigation\", \"navigation\", \"navigation\", \"navigation\", \"navigation\", \"negated\", \"negated\", \"negated\", \"negated\", \"negated\", \"negated\", \"negated\", \"negation\", \"negation\", \"negation\", \"negation\", \"negation\", \"negation\", \"negation\", \"negation\", \"negations\", \"negations\", \"negations\", \"negations\", \"negations\", \"negations\", \"negations\", \"negatives\", \"negatives\", \"negatives\", \"negatives\", \"negatives\", \"negatives\", \"negatives\", \"neighbors\", \"neighbors\", \"neighbors\", \"neighbors\", \"neighbors\", \"neighbors\", \"neighbors\", \"ner\", \"ner\", \"ner\", \"ner\", \"ner\", \"ner\", \"ner\", \"network\", \"network\", \"network\", \"network\", \"network\", \"network\", \"network\", \"network\", \"neural\", \"neural\", \"neural\", \"neural\", \"neural\", \"neural\", \"neural\", \"neural\", \"news\", \"news\", \"news\", \"news\", \"news\", \"news\", \"nli\", \"nli\", \"nli\", \"nli\", \"nli\", \"nli\", \"nli\", \"nli\", \"nlu\", \"nlu\", \"nlu\", \"nlu\", \"nlu\", \"nlu\", \"nlu\", \"nlu\", \"nmt\", \"nmt\", \"nmt\", \"nmt\", \"nmt\", \"nmt\", \"nonlinear\", \"nonlinear\", \"nonlinear\", \"nonlinear\", \"nonlinear\", \"nonlinear\", \"nonlinear\", \"notes\", \"notes\", \"notes\", \"notes\", \"notes\", \"notes\", \"noun\", \"noun\", \"noun\", \"noun\", \"noun\", \"noun\", \"noun\", \"nous\", \"nous\", \"nous\", \"nous\", \"nous\", \"nous\", \"novel\", \"novel\", \"novel\", \"novel\", \"novel\", \"novel\", \"novel\", \"novel\", \"nps\", \"nps\", \"nps\", \"nps\", \"nps\", \"nps\", \"offensive\", \"offensive\", \"offensive\", \"offensive\", \"offensive\", \"offensive\", \"online\", \"online\", \"online\", \"online\", \"online\", \"online\", \"online\", \"ontology\", \"ontology\", \"ontology\", \"ontology\", \"ontology\", \"ontology\", \"ontology\", \"ood\", \"ood\", \"ood\", \"ood\", \"ood\", \"ood\", \"ood\", \"opposition\", \"opposition\", \"opposition\", \"opposition\", \"opposition\", \"opposition\", \"opposition\", \"optionally\", \"optionally\", \"optionally\", \"optionally\", \"optionally\", \"optionally\", \"optionally\", \"outperforms\", \"outperforms\", \"outperforms\", \"outperforms\", \"outperforms\", \"outperforms\", \"outperforms\", \"overlook\", \"overlook\", \"overlook\", \"overlook\", \"overlook\", \"overlook\", \"overlook\", \"overlook\", \"paper\", \"paper\", \"paper\", \"paper\", \"paper\", \"paper\", \"paper\", \"paper\", \"par\", \"par\", \"par\", \"par\", \"par\", \"par\", \"parallel\", \"parallel\", \"parallel\", \"parallel\", \"parallel\", \"parallel\", \"parallel\", \"participated\", \"participated\", \"participated\", \"participated\", \"participated\", \"participated\", \"partitioning\", \"partitioning\", \"partitioning\", \"partitioning\", \"partitioning\", \"partitioning\", \"partitioning\", \"patronizing\", \"patronizing\", \"patronizing\", \"patronizing\", \"patronizing\", \"patronizing\", \"pbmt\", \"pbmt\", \"pbmt\", \"pbmt\", \"pbmt\", \"pbmt\", \"pbsmt\", \"pbsmt\", \"pbsmt\", \"pbsmt\", \"pbsmt\", \"pbsmt\", \"pcl\", \"pcl\", \"pcl\", \"pcl\", \"pcl\", \"pcl\", \"pdtb\", \"pdtb\", \"pdtb\", \"pdtb\", \"pdtb\", \"pdtb\", \"pe\", \"pe\", \"pe\", \"pe\", \"pe\", \"pe\", \"pe\", \"pe\", \"peer\", \"peer\", \"peer\", \"peer\", \"peer\", \"peer\", \"people\", \"people\", \"people\", \"people\", \"people\", \"people\", \"people\", \"performance\", \"performance\", \"performance\", \"performance\", \"performance\", \"performance\", \"performance\", \"performance\", \"personality\", \"personality\", \"personality\", \"personality\", \"personality\", \"personality\", \"personas\", \"personas\", \"personas\", \"personas\", \"personas\", \"personas\", \"personas\", \"perturbation\", \"perturbation\", \"perturbation\", \"perturbation\", \"perturbation\", \"perturbation\", \"perturbation\", \"perturbation\", \"perturbations\", \"perturbations\", \"perturbations\", \"perturbations\", \"perturbations\", \"perturbations\", \"perturbations\", \"perturbations\", \"placing\", \"placing\", \"placing\", \"placing\", \"placing\", \"placing\", \"placing\", \"placing\", \"placing\", \"plagiarism\", \"plagiarism\", \"plagiarism\", \"plagiarism\", \"plagiarism\", \"plagiarism\", \"plagiarism\", \"platforms\", \"platforms\", \"platforms\", \"platforms\", \"platforms\", \"platforms\", \"platforms\", \"players\", \"players\", \"players\", \"players\", \"players\", \"players\", \"plms\", \"plms\", \"plms\", \"plms\", \"plms\", \"plms\", \"plms\", \"plus\", \"plus\", \"plus\", \"plus\", \"plus\", \"plus\", \"plwordnet\", \"plwordnet\", \"plwordnet\", \"plwordnet\", \"plwordnet\", \"plwordnet\", \"poems\", \"poems\", \"poems\", \"poems\", \"poems\", \"poems\", \"poems\", \"policy\", \"policy\", \"policy\", \"policy\", \"policy\", \"policy\", \"policy\", \"political\", \"political\", \"political\", \"political\", \"political\", \"political\", \"political\", \"portuguese\", \"portuguese\", \"portuguese\", \"portuguese\", \"portuguese\", \"portuguese\", \"posts\", \"posts\", \"posts\", \"posts\", \"posts\", \"posts\", \"pour\", \"pour\", \"pour\", \"pour\", \"pour\", \"pour\", \"pr\", \"pr\", \"pr\", \"pr\", \"pr\", \"pr\", \"practicality\", \"practicality\", \"practicality\", \"practicality\", \"practicality\", \"practicality\", \"predicates\", \"predicates\", \"predicates\", \"predicates\", \"predicates\", \"predicates\", \"predicates\", \"present\", \"present\", \"present\", \"present\", \"present\", \"present\", \"present\", \"pretrained\", \"pretrained\", \"pretrained\", \"pretrained\", \"pretrained\", \"pretrained\", \"pretrained\", \"pretraining\", \"pretraining\", \"pretraining\", \"pretraining\", \"pretraining\", \"pretraining\", \"probing\", \"probing\", \"probing\", \"probing\", \"probing\", \"probing\", \"probing\", \"proficiency\", \"proficiency\", \"proficiency\", \"proficiency\", \"proficiency\", \"proficiency\", \"project\", \"project\", \"project\", \"project\", \"project\", \"project\", \"project\", \"pronunciation\", \"pronunciation\", \"pronunciation\", \"pronunciation\", \"pronunciation\", \"pronunciation\", \"proof\", \"proof\", \"proof\", \"proof\", \"proof\", \"proof\", \"proof\", \"propose\", \"propose\", \"propose\", \"propose\", \"propose\", \"propose\", \"propose\", \"propose\", \"proposed\", \"proposed\", \"proposed\", \"proposed\", \"proposed\", \"proposed\", \"proposed\", \"publication\", \"publication\", \"publication\", \"publication\", \"publication\", \"publication\", \"pun\", \"pun\", \"pun\", \"pun\", \"pun\", \"pun\", \"puns\", \"puns\", \"puns\", \"puns\", \"puns\", \"puns\", \"quality\", \"quality\", \"quality\", \"quality\", \"quality\", \"quality\", \"quality\", \"que\", \"que\", \"que\", \"que\", \"que\", \"que\", \"questions\", \"questions\", \"questions\", \"questions\", \"questions\", \"questions\", \"questions\", \"qui\", \"qui\", \"qui\", \"qui\", \"qui\", \"qui\", \"race\", \"race\", \"race\", \"race\", \"race\", \"race\", \"race\", \"rateur\", \"rateur\", \"rateur\", \"rateur\", \"rateur\", \"rateur\", \"rateur\", \"readings\", \"readings\", \"readings\", \"readings\", \"readings\", \"readings\", \"reasoning\", \"reasoning\", \"reasoning\", \"reasoning\", \"reasoning\", \"reasoning\", \"reasoning\", \"reasoning\", \"recipes\", \"recipes\", \"recipes\", \"recipes\", \"recipes\", \"recipes\", \"regularization\", \"regularization\", \"regularization\", \"regularization\", \"regularization\", \"regularization\", \"regularization\", \"regularizer\", \"regularizer\", \"regularizer\", \"regularizer\", \"regularizer\", \"regularizer\", \"reinflection\", \"reinflection\", \"reinflection\", \"reinflection\", \"reinflection\", \"reinflection\", \"reinflection\", \"reinforcement\", \"reinforcement\", \"reinforcement\", \"reinforcement\", \"reinforcement\", \"reinforcement\", \"reinforcement\", \"relations\", \"relations\", \"relations\", \"relations\", \"relations\", \"relations\", \"relations\", \"relieve\", \"relieve\", \"relieve\", \"relieve\", \"relieve\", \"relieve\", \"relieve\", \"replay\", \"replay\", \"replay\", \"replay\", \"replay\", \"replay\", \"replay\", \"replies\", \"replies\", \"replies\", \"replies\", \"replies\", \"replies\", \"representations\", \"representations\", \"representations\", \"representations\", \"representations\", \"representations\", \"representations\", \"research\", \"research\", \"research\", \"research\", \"research\", \"research\", \"research\", \"resource\", \"resource\", \"resource\", \"resource\", \"resource\", \"resource\", \"resource\", \"resources\", \"resources\", \"resources\", \"resources\", \"resources\", \"resources\", \"resources\", \"response\", \"response\", \"response\", \"response\", \"response\", \"response\", \"response\", \"responses\", \"responses\", \"responses\", \"responses\", \"responses\", \"responses\", \"responses\", \"restructuring\", \"restructuring\", \"restructuring\", \"restructuring\", \"restructuring\", \"restructuring\", \"restructuring\", \"results\", \"results\", \"results\", \"results\", \"results\", \"results\", \"results\", \"results\", \"retraining\", \"retraining\", \"retraining\", \"retraining\", \"retraining\", \"retraining\", \"retraining\", \"retraining\", \"reward\", \"reward\", \"reward\", \"reward\", \"reward\", \"reward\", \"reward\", \"rhetorical\", \"rhetorical\", \"rhetorical\", \"rhetorical\", \"rhetorical\", \"rhetorical\", \"rl\", \"rl\", \"rl\", \"rl\", \"rl\", \"rl\", \"rl\", \"roles\", \"roles\", \"roles\", \"roles\", \"roles\", \"roles\", \"roles\", \"rst\", \"rst\", \"rst\", \"rst\", \"rst\", \"rst\", \"rumour\", \"rumour\", \"rumour\", \"rumour\", \"rumour\", \"rumour\", \"rumours\", \"rumours\", \"rumours\", \"rumours\", \"rumours\", \"rumours\", \"saturation\", \"saturation\", \"saturation\", \"saturation\", \"saturation\", \"saturation\", \"saturation\", \"saturation\", \"scanned\", \"scanned\", \"scanned\", \"scanned\", \"scanned\", \"scanned\", \"scanned\", \"scientific\", \"scientific\", \"scientific\", \"scientific\", \"scientific\", \"scientific\", \"scientific\", \"semantic\", \"semantic\", \"semantic\", \"semantic\", \"semantic\", \"semantic\", \"semantic\", \"semantic\", \"sense\", \"sense\", \"sense\", \"sense\", \"sense\", \"sense\", \"sense\", \"sentence\", \"sentence\", \"sentence\", \"sentence\", \"sentence\", \"sentence\", \"sentence\", \"sentiment\", \"sentiment\", \"sentiment\", \"sentiment\", \"sentiment\", \"sentiment\", \"sentiment\", \"sentons\", \"sentons\", \"sentons\", \"sentons\", \"sentons\", \"sentons\", \"sequence\", \"sequence\", \"sequence\", \"sequence\", \"sequence\", \"sequence\", \"sequence\", \"services\", \"services\", \"services\", \"services\", \"services\", \"services\", \"services\", \"sexual\", \"sexual\", \"sexual\", \"sexual\", \"sexual\", \"sexual\", \"sexual\", \"shaped\", \"shaped\", \"shaped\", \"shaped\", \"shaped\", \"shaped\", \"shaped\", \"shaped\", \"shared\", \"shared\", \"shared\", \"shared\", \"shared\", \"shared\", \"shared\", \"shortcut\", \"shortcut\", \"shortcut\", \"shortcut\", \"shortcut\", \"shortcut\", \"shortcut\", \"show\", \"show\", \"show\", \"show\", \"show\", \"show\", \"show\", \"show\", \"sigmorphon\", \"sigmorphon\", \"sigmorphon\", \"sigmorphon\", \"sigmorphon\", \"sigmorphon\", \"sign\", \"sign\", \"sign\", \"sign\", \"sign\", \"sign\", \"simultaneous\", \"simultaneous\", \"simultaneous\", \"simultaneous\", \"simultaneous\", \"simultaneous\", \"slang\", \"slang\", \"slang\", \"slang\", \"slang\", \"slang\", \"slt\", \"slt\", \"slt\", \"slt\", \"slt\", \"slt\", \"smt\", \"smt\", \"smt\", \"smt\", \"smt\", \"smt\", \"social\", \"social\", \"social\", \"social\", \"social\", \"social\", \"social\", \"socially\", \"socially\", \"socially\", \"socially\", \"socially\", \"socially\", \"sont\", \"sont\", \"sont\", \"sont\", \"sont\", \"sont\", \"sorting\", \"sorting\", \"sorting\", \"sorting\", \"sorting\", \"sorting\", \"sota\", \"sota\", \"sota\", \"sota\", \"sota\", \"sota\", \"space\", \"space\", \"space\", \"space\", \"space\", \"space\", \"space\", \"spatial\", \"spatial\", \"spatial\", \"spatial\", \"spatial\", \"spatial\", \"spatial\", \"spatial\", \"speech\", \"speech\", \"speech\", \"speech\", \"speech\", \"speech\", \"speech\", \"spelling\", \"spelling\", \"spelling\", \"spelling\", \"spelling\", \"spelling\", \"spider\", \"spider\", \"spider\", \"spider\", \"spider\", \"spider\", \"st\", \"st\", \"st\", \"st\", \"st\", \"st\", \"stance\", \"stance\", \"stance\", \"stance\", \"stance\", \"stance\", \"stances\", \"stances\", \"stances\", \"stances\", \"stances\", \"stances\", \"statistical\", \"statistical\", \"statistical\", \"statistical\", \"statistical\", \"statistical\", \"statistical\", \"stereotypes\", \"stereotypes\", \"stereotypes\", \"stereotypes\", \"stereotypes\", \"stereotypes\", \"stereotypes\", \"stereotypical\", \"stereotypical\", \"stereotypical\", \"stereotypical\", \"stereotypical\", \"stereotypical\", \"stereotypical\", \"stop\", \"stop\", \"stop\", \"stop\", \"stop\", \"stop\", \"stop\", \"stories\", \"stories\", \"stories\", \"stories\", \"stories\", \"stories\", \"story\", \"story\", \"story\", \"story\", \"story\", \"story\", \"storytelling\", \"storytelling\", \"storytelling\", \"storytelling\", \"storytelling\", \"storytelling\", \"streaming\", \"streaming\", \"streaming\", \"streaming\", \"streaming\", \"streaming\", \"structure\", \"structure\", \"structure\", \"structure\", \"structure\", \"structure\", \"structure\", \"students\", \"students\", \"students\", \"students\", \"students\", \"students\", \"subcategorization\", \"subcategorization\", \"subcategorization\", \"subcategorization\", \"subcategorization\", \"subcategorization\", \"subcategorization\", \"subgraph\", \"subgraph\", \"subgraph\", \"subgraph\", \"subgraph\", \"subgraph\", \"subgraph\", \"subgraphs\", \"subgraphs\", \"subgraphs\", \"subgraphs\", \"subgraphs\", \"subgraphs\", \"subgraphs\", \"submissions\", \"submissions\", \"submissions\", \"submissions\", \"submissions\", \"submissions\", \"subspace\", \"subspace\", \"subspace\", \"subspace\", \"subspace\", \"subspace\", \"subspace\", \"substitutes\", \"substitutes\", \"substitutes\", \"substitutes\", \"substitutes\", \"substitutes\", \"substitutes\", \"subtitles\", \"subtitles\", \"subtitles\", \"subtitles\", \"subtitles\", \"subtitles\", \"subtitling\", \"subtitling\", \"subtitling\", \"subtitling\", \"subtitling\", \"subtitling\", \"subwords\", \"subwords\", \"subwords\", \"subwords\", \"subwords\", \"subwords\", \"subwords\", \"suicide\", \"suicide\", \"suicide\", \"suicide\", \"suicide\", \"suicide\", \"sultats\", \"sultats\", \"sultats\", \"sultats\", \"sultats\", \"sultats\", \"summaries\", \"summaries\", \"summaries\", \"summaries\", \"summaries\", \"summaries\", \"summaries\", \"summarization\", \"summarization\", \"summarization\", \"summarization\", \"summarization\", \"summarization\", \"summarization\", \"summarizers\", \"summarizers\", \"summarizers\", \"summarizers\", \"summarizers\", \"summarizers\", \"superficial\", \"superficial\", \"superficial\", \"superficial\", \"superficial\", \"superficial\", \"superficial\", \"superiority\", \"superiority\", \"superiority\", \"superiority\", \"superiority\", \"superiority\", \"superiority\", \"supervision\", \"supervision\", \"supervision\", \"supervision\", \"supervision\", \"supervision\", \"supervision\", \"sur\", \"sur\", \"sur\", \"sur\", \"sur\", \"sur\", \"surprisal\", \"surprisal\", \"surprisal\", \"surprisal\", \"surprisal\", \"surprisal\", \"swiss\", \"swiss\", \"swiss\", \"swiss\", \"swiss\", \"swiss\", \"swiss\", \"symmetric\", \"symmetric\", \"symmetric\", \"symmetric\", \"symmetric\", \"symmetric\", \"symmetric\", \"symptom\", \"symptom\", \"symptom\", \"symptom\", \"symptom\", \"symptom\", \"symptom\", \"symptom\", \"symptoms\", \"symptoms\", \"symptoms\", \"symptoms\", \"symptoms\", \"symptoms\", \"synsets\", \"synsets\", \"synsets\", \"synsets\", \"synsets\", \"synsets\", \"synsets\", \"syst\", \"syst\", \"syst\", \"syst\", \"syst\", \"syst\", \"system\", \"system\", \"system\", \"system\", \"system\", \"system\", \"system\", \"system\", \"systemic\", \"systemic\", \"systemic\", \"systemic\", \"systemic\", \"systemic\", \"systemic\", \"systemic\", \"systems\", \"systems\", \"systems\", \"systems\", \"systems\", \"systems\", \"systems\", \"systems\", \"ta\", \"ta\", \"ta\", \"ta\", \"ta\", \"ta\", \"ta\", \"tabular\", \"tabular\", \"tabular\", \"tabular\", \"tabular\", \"tabular\", \"tabular\", \"tamil\", \"tamil\", \"tamil\", \"tamil\", \"tamil\", \"tamil\", \"tamil\", \"tamil\", \"task\", \"task\", \"task\", \"task\", \"task\", \"task\", \"task\", \"task\", \"tasks\", \"tasks\", \"tasks\", \"tasks\", \"tasks\", \"tasks\", \"tasks\", \"tasks\", \"taxonomies\", \"taxonomies\", \"taxonomies\", \"taxonomies\", \"taxonomies\", \"taxonomies\", \"technology\", \"technology\", \"technology\", \"technology\", \"technology\", \"technology\", \"ted\", \"ted\", \"ted\", \"ted\", \"ted\", \"ted\", \"temporelle\", \"temporelle\", \"temporelle\", \"temporelle\", \"temporelle\", \"temporelle\", \"temporelle\", \"terminological\", \"terminological\", \"terminological\", \"terminological\", \"terminological\", \"terminological\", \"text\", \"text\", \"text\", \"text\", \"text\", \"text\", \"text\", \"text\", \"textbook\", \"textbook\", \"textbook\", \"textbook\", \"textbook\", \"textbook\", \"texts\", \"texts\", \"texts\", \"texts\", \"texts\", \"texts\", \"texts\", \"therapy\", \"therapy\", \"therapy\", \"therapy\", \"therapy\", \"therapy\", \"therapy\", \"thinking\", \"thinking\", \"thinking\", \"thinking\", \"thinking\", \"thinking\", \"tool\", \"tool\", \"tool\", \"tool\", \"tool\", \"tool\", \"tool\", \"toolkit\", \"toolkit\", \"toolkit\", \"toolkit\", \"toolkit\", \"toolkit\", \"toolkit\", \"tools\", \"tools\", \"tools\", \"tools\", \"tools\", \"tools\", \"tools\", \"toxic\", \"toxic\", \"toxic\", \"toxic\", \"toxic\", \"toxic\", \"toxic\", \"toxicity\", \"toxicity\", \"toxicity\", \"toxicity\", \"toxicity\", \"toxicity\", \"toxicity\", \"training\", \"training\", \"training\", \"training\", \"training\", \"training\", \"training\", \"training\", \"transfer\", \"transfer\", \"transfer\", \"transfer\", \"transfer\", \"transfer\", \"transfer\", \"translation\", \"translation\", \"translation\", \"translation\", \"translation\", \"translation\", \"translation\", \"translation\", \"translations\", \"translations\", \"translations\", \"translations\", \"translations\", \"translations\", \"translations\", \"translators\", \"translators\", \"translators\", \"translators\", \"translators\", \"translators\", \"transliterated\", \"transliterated\", \"transliterated\", \"transliterated\", \"transliterated\", \"transliterated\", \"transliterated\", \"treebank\", \"treebank\", \"treebank\", \"treebank\", \"treebank\", \"treebank\", \"treebank\", \"triage\", \"triage\", \"triage\", \"triage\", \"triage\", \"triage\", \"triage\", \"trust\", \"trust\", \"trust\", \"trust\", \"trust\", \"trust\", \"trust\", \"trust\", \"trust\", \"tweets\", \"tweets\", \"tweets\", \"tweets\", \"tweets\", \"tweets\", \"twitter\", \"twitter\", \"twitter\", \"twitter\", \"twitter\", \"twitter\", \"two\", \"two\", \"two\", \"two\", \"two\", \"two\", \"two\", \"two\", \"ucca\", \"ucca\", \"ucca\", \"ucca\", \"ucca\", \"ucca\", \"ucca\", \"un\", \"un\", \"un\", \"un\", \"un\", \"un\", \"unconditional\", \"unconditional\", \"unconditional\", \"unconditional\", \"unconditional\", \"unconditional\", \"unconditional\", \"une\", \"une\", \"une\", \"une\", \"une\", \"une\", \"universality\", \"universality\", \"universality\", \"universality\", \"universality\", \"universality\", \"universality\", \"unless\", \"unless\", \"unless\", \"unless\", \"unless\", \"unless\", \"unless\", \"urdu\", \"urdu\", \"urdu\", \"urdu\", \"urdu\", \"urdu\", \"used\", \"used\", \"used\", \"used\", \"used\", \"used\", \"used\", \"used\", \"user\", \"user\", \"user\", \"user\", \"user\", \"user\", \"user\", \"users\", \"users\", \"users\", \"users\", \"users\", \"users\", \"users\", \"using\", \"using\", \"using\", \"using\", \"using\", \"using\", \"using\", \"using\", \"vae\", \"vae\", \"vae\", \"vae\", \"vae\", \"vae\", \"valence\", \"valence\", \"valence\", \"valence\", \"valence\", \"valence\", \"valence\", \"valency\", \"valency\", \"valency\", \"valency\", \"valency\", \"valency\", \"vanilla\", \"vanilla\", \"vanilla\", \"vanilla\", \"vanilla\", \"vanilla\", \"vector\", \"vector\", \"vector\", \"vector\", \"vector\", \"vector\", \"vector\", \"vectors\", \"vectors\", \"vectors\", \"vectors\", \"vectors\", \"vectors\", \"vectors\", \"verb\", \"verb\", \"verb\", \"verb\", \"verb\", \"verb\", \"verb\", \"verbnet\", \"verbnet\", \"verbnet\", \"verbnet\", \"verbnet\", \"verbnet\", \"verbs\", \"verbs\", \"verbs\", \"verbs\", \"verbs\", \"verbs\", \"verbs\", \"verse\", \"verse\", \"verse\", \"verse\", \"verse\", \"verse\", \"verse\", \"victim\", \"victim\", \"victim\", \"victim\", \"victim\", \"victim\", \"violence\", \"violence\", \"violence\", \"violence\", \"violence\", \"violence\", \"violence\", \"visualisations\", \"visualisations\", \"visualisations\", \"visualisations\", \"visualisations\", \"visualisations\", \"visualisations\", \"vqa\", \"vqa\", \"vqa\", \"vqa\", \"vqa\", \"vqa\", \"vqa\", \"wat\", \"wat\", \"wat\", \"wat\", \"wat\", \"wat\", \"web\", \"web\", \"web\", \"web\", \"web\", \"web\", \"web\", \"wikidata\", \"wikidata\", \"wikidata\", \"wikidata\", \"wikidata\", \"wikidata\", \"wikipedia\", \"wikipedia\", \"wikipedia\", \"wikipedia\", \"wikipedia\", \"wikipedia\", \"wikipedia\", \"wikiqa\", \"wikiqa\", \"wikiqa\", \"wikiqa\", \"wikiqa\", \"wikiqa\", \"wikiqa\", \"wikiqa\", \"wild\", \"wild\", \"wild\", \"wild\", \"wild\", \"wild\", \"wild\", \"wmt\", \"wmt\", \"wmt\", \"wmt\", \"wmt\", \"wmt\", \"word\", \"word\", \"word\", \"word\", \"word\", \"word\", \"word\", \"word\", \"wordnet\", \"wordnet\", \"wordnet\", \"wordnet\", \"wordnet\", \"wordnet\", \"wordnet\", \"wordnets\", \"wordnets\", \"wordnets\", \"wordnets\", \"wordnets\", \"wordnets\", \"words\", \"words\", \"words\", \"words\", \"words\", \"words\", \"words\", \"words\", \"written\", \"written\", \"written\", \"written\", \"written\", \"written\", \"written\", \"xgboost\", \"xgboost\", \"xgboost\", \"xgboost\", \"xgboost\", \"xgboost\", \"xgboost\", \"xnli\", \"xnli\", \"xnli\", \"xnli\", \"xnli\", \"xnli\", \"xnli\", \"year\", \"year\", \"year\", \"year\", \"year\", \"year\", \"yelp\", \"yelp\", \"yelp\", \"yelp\", \"yelp\", \"yelp\", \"yelp\"]}, \"R\": 30, \"lambda.step\": 0.01, \"plot.opts\": {\"xlab\": \"PC1\", \"ylab\": \"PC2\"}, \"topic.order\": [4, 8, 9, 5, 2, 7, 3, 10, 6, 1]};\n",
              "\n",
              "function LDAvis_load_lib(url, callback){\n",
              "  var s = document.createElement('script');\n",
              "  s.src = url;\n",
              "  s.async = true;\n",
              "  s.onreadystatechange = s.onload = callback;\n",
              "  s.onerror = function(){console.warn(\"failed to load library \" + url);};\n",
              "  document.getElementsByTagName(\"head\")[0].appendChild(s);\n",
              "}\n",
              "\n",
              "if(typeof(LDAvis) !== \"undefined\"){\n",
              "   // already loaded: just create the visualization\n",
              "   !function(LDAvis){\n",
              "       new LDAvis(\"#\" + \"ldavis_el561402485648310565919112424\", ldavis_el561402485648310565919112424_data);\n",
              "   }(LDAvis);\n",
              "}else if(typeof define === \"function\" && define.amd){\n",
              "   // require.js is available: use it to load d3/LDAvis\n",
              "   require.config({paths: {d3: \"https://cdnjs.cloudflare.com/ajax/libs/d3/3.5.5/d3.min\"}});\n",
              "   require([\"d3\"], function(d3){\n",
              "      window.d3 = d3;\n",
              "      LDAvis_load_lib(\"https://cdn.rawgit.com/bmabey/pyLDAvis/files/ldavis.v1.0.0.js\", function(){\n",
              "        new LDAvis(\"#\" + \"ldavis_el561402485648310565919112424\", ldavis_el561402485648310565919112424_data);\n",
              "      });\n",
              "    });\n",
              "}else{\n",
              "    // require.js not available: dynamically load d3 & LDAvis\n",
              "    LDAvis_load_lib(\"https://cdnjs.cloudflare.com/ajax/libs/d3/3.5.5/d3.min.js\", function(){\n",
              "         LDAvis_load_lib(\"https://cdn.rawgit.com/bmabey/pyLDAvis/files/ldavis.v1.0.0.js\", function(){\n",
              "                 new LDAvis(\"#\" + \"ldavis_el561402485648310565919112424\", ldavis_el561402485648310565919112424_data);\n",
              "            })\n",
              "         });\n",
              "}\n",
              "</script>"
            ]
          },
          "metadata": {},
          "execution_count": 37
        }
      ]
    },
    {
      "cell_type": "markdown",
      "source": [
        "## **Análisis de cantidad óptima de Topics, por métrica de Coherencia interna total y promedio:**"
      ],
      "metadata": {
        "id": "gCxib4lZQ3of"
      }
    },
    {
      "cell_type": "markdown",
      "source": [
        "### ***Pruebas manuales:***"
      ],
      "metadata": {
        "id": "KD2i-ycZRZ3N"
      }
    },
    {
      "cell_type": "code",
      "source": [
        "#### ANALIZADOR DE CANTIDAD OPTIMA DE TOPICOS, POR COMPARACION DE COHERENCIA TOTAL Y PROMEDIO:\n",
        "nro_topics = 5 # INGRESE MANUALMENTE NRO DE TOPICOS \n",
        "window_size_=10  # INGRESE COHERENCIA WINDOW_SIZE \n",
        "coherence_='c_npmi' # INGRESE METRICA DE COHERENCIA \n",
        "topn_=20  # INGRESE COHERENCIA TOP WORDS TO EVALUATE. \n",
        "\n",
        "semilla = 420\n",
        "np.random.seed(semilla)\n",
        "\n",
        "### LSI NO USA SEMILLA, PORQUE NO ES UN MODELO ESTOCASTICO/ESTADISTICO!, ES UN CALCULO MATRICIAL!\n",
        "lsamodel = LsiModel(corpus=corpus, num_topics=nro_topics, id2word=dictionary)\n",
        "\n",
        "ldamodel = LdaModel(corpus=corpus, num_topics=nro_topics, id2word=dictionary, iterations = 200, passes=10, random_state=semilla)\n",
        "lda_model_tfidf = gensim.models.LdaMulticore(corpus_tfidf, num_topics=nro_topics, id2word=dictionary, passes=10, workers=4, random_state=semilla)\n",
        "\n",
        "lsatopics  = [[word for word, prob in topic] for topicid, topic in lsamodel.show_topics(nro_topics,formatted=False)]\n",
        "ldatopics = [[word for word, prob in topic] for topicid, topic in ldamodel.show_topics(nro_topics,formatted=False)]\n",
        "lda_tf_idf_topics = [[word for word, prob in topic] for topicid, topic in lda_model_tfidf.show_topics(nro_topics,formatted=False)]\n",
        "\n",
        "lsa_coherence = CoherenceModel(topics=lsatopics, texts=texts, dictionary=dictionary, window_size=window_size_,coherence=coherence_,topn=topn_).get_coherence_per_topic()\n",
        "lda_coherence = CoherenceModel(topics=ldatopics, texts=texts, dictionary=dictionary, window_size=window_size_,coherence=coherence_,topn=topn_).get_coherence_per_topic()\n",
        "lda_tf_idf_coherence = CoherenceModel(topics=lda_tf_idf_topics, texts=texts, dictionary=dictionary, window_size=window_size_,coherence=coherence_,topn=topn_).get_coherence_per_topic()\n",
        "\n",
        "df_lda = pd.DataFrame([range(5),lda_coherence,ldatopics],index=['topic_id','coherence','topic']).transpose()\n",
        "df_lsa = pd.DataFrame([range(5),lsa_coherence,lsatopics],index=['topic_id','coherence','topic']).transpose()\n",
        "df_tf_idf = pd.DataFrame([range(5),lda_tf_idf_coherence,lda_tf_idf_topics],index=['topic_id','coherence','topic']).transpose()\n",
        "\n",
        "title = \"Coherence - n Topics: \" + str(nro_topics)\n",
        "pd.Series({'LSA':np.mean(lsa_coherence),'LDA':np.mean(lda_coherence),'TF-IDF':np.mean(lda_tf_idf_coherence)}).plot.bar(title=title, ylim=(0,0.20), color=[\"green\",\"blue\",\"red\"]);\n",
        "print('LSA Mean Coherence: %.2f LSA' % (np.mean(lsa_coherence)))\n",
        "print('LDA Mean Coherence: %.2f LDA' % (np.mean(lda_coherence)))\n",
        "print('LDA Mean Coherence: %.2f TF-IF' % (np.mean(lda_tf_idf_coherence)))"
      ],
      "metadata": {
        "colab": {
          "base_uri": "https://localhost:8080/",
          "height": 355
        },
        "id": "ME-R7szcGDi_",
        "outputId": "291f69c3-5dd0-480b-94d3-bd4c56271b6a"
      },
      "execution_count": null,
      "outputs": [
        {
          "output_type": "stream",
          "name": "stdout",
          "text": [
            "LSA Mean Coherence: 0.08 LSA\n",
            "LDA Mean Coherence: 0.09 LDA\n",
            "LDA Mean Coherence: 0.07 TF-IF\n"
          ]
        },
        {
          "output_type": "display_data",
          "data": {
            "text/plain": [
              "<Figure size 432x288 with 1 Axes>"
            ],
            "image/png": "[encoded data removed]"
          },
          "metadata": {
            "needs_background": "light"
          }
        }
      ]
    },
    {
      "cell_type": "code",
      "source": [
        "#### ANALIZADOR DE CANTIDAD OPTIMA DE TOPICOS, POR COMPARACION DE COHERENCIAS PROMEDIO:\n",
        "nro_topics = 10 # INGRESE MANUALMENTE NRO DE TOPICOS \n",
        "window_size_=10  # INGRESE COHERENCIA WINDOW_SIZE \n",
        "coherence_='c_npmi' # INGRESE METRICA DE COHERENCIA \n",
        "topn_=20  # INGRESE COHERENCIA TOP WORDS TO EVALUATE. \n",
        "\n",
        "semilla = 420\n",
        "np.random.seed(semilla)\n",
        "\n",
        "### LSI NO USA SEMILLA, PORQUE NO ES UN MODELO ESTOCASTICO/ESTADISTICO!, ES UN CALCULO MATRICIAL!\n",
        "lsamodel = LsiModel(corpus=corpus, num_topics=nro_topics, id2word=dictionary)\n",
        "\n",
        "ldamodel = LdaModel(corpus=corpus, num_topics=nro_topics, id2word=dictionary, iterations = 200, passes=10, random_state=semilla)\n",
        "lda_model_tfidf = gensim.models.LdaMulticore(corpus_tfidf, num_topics=nro_topics, id2word=dictionary, passes=10, workers=4, random_state=semilla)\n",
        "\n",
        "lsatopics  = [[word for word, prob in topic] for topicid, topic in lsamodel.show_topics(nro_topics,formatted=False)]\n",
        "ldatopics = [[word for word, prob in topic] for topicid, topic in ldamodel.show_topics(nro_topics,formatted=False)]\n",
        "lda_tf_idf_topics = [[word for word, prob in topic] for topicid, topic in lda_model_tfidf.show_topics(nro_topics,formatted=False)]\n",
        "\n",
        "lsa_coherence = CoherenceModel(topics=lsatopics, texts=texts, dictionary=dictionary, window_size=window_size_,coherence=coherence_,topn=topn_).get_coherence_per_topic()\n",
        "lda_coherence = CoherenceModel(topics=ldatopics, texts=texts, dictionary=dictionary, window_size=window_size_,coherence=coherence_,topn=topn_).get_coherence_per_topic()\n",
        "lda_tf_idf_coherence = CoherenceModel(topics=lda_tf_idf_topics, texts=texts, dictionary=dictionary, window_size=window_size_,coherence=coherence_,topn=topn_).get_coherence_per_topic()\n",
        "\n",
        "df_lda = pd.DataFrame([range(10),lda_coherence,ldatopics],index=['topic_id','coherence','topic']).transpose()\n",
        "df_lsa = pd.DataFrame([range(10),lsa_coherence,lsatopics],index=['topic_id','coherence','topic']).transpose()\n",
        "df_tf_idf = pd.DataFrame([range(10),lda_tf_idf_coherence,lda_tf_idf_topics],index=['topic_id','coherence','topic']).transpose()\n",
        "\n",
        "title = \"Coherence - n Topics: \" + str(nro_topics)\n",
        "pd.Series({'LSA':np.mean(lsa_coherence),'LDA':np.mean(lda_coherence),'TF-IDF':np.mean(lda_tf_idf_coherence)}).plot.bar(title=title, ylim=(0,0.20), color=[\"green\",\"blue\",\"red\"]);\n",
        "print('LSA Mean Coherence: %.2f LSA' % (np.mean(lsa_coherence)))\n",
        "print('LDA Mean Coherence: %.2f LDA' % (np.mean(lda_coherence)))\n",
        "print('LDA Mean Coherence: %.2f TF-IF' % (np.mean(lda_tf_idf_coherence)))"
      ],
      "metadata": {
        "outputId": "f42d76e3-315d-42ac-b9ce-5ad2211c9d59",
        "colab": {
          "base_uri": "https://localhost:8080/",
          "height": 355
        },
        "id": "XJL56GoUU1v8"
      },
      "execution_count": null,
      "outputs": [
        {
          "output_type": "stream",
          "name": "stdout",
          "text": [
            "LSA Mean Coherence: 0.04 LSA\n",
            "LDA Mean Coherence: 0.05 LDA\n",
            "LDA Mean Coherence: -0.04 TF-IF\n"
          ]
        },
        {
          "output_type": "display_data",
          "data": {
            "text/plain": [
              "<Figure size 432x288 with 1 Axes>"
            ],
            "image/png": "[encoded data removed]"
          },
          "metadata": {
            "needs_background": "light"
          }
        }
      ]
    },
    {
      "cell_type": "code",
      "source": [
        "#### ANALIZADOR DE CANTIDAD OPTIMA DE TOPICOS, POR COMPARACION DE COHERENCIAS PROMEDIO:\n",
        "nro_topics = 50 # INGRESE MANUALMENTE NRO DE TOPICOS \n",
        "window_size_=10  # INGRESE COHERENCIA WINDOW_SIZE \n",
        "coherence_='c_npmi' # INGRESE METRICA DE COHERENCIA \n",
        "topn_=20  # INGRESE COHERENCIA TOP WORDS TO EVALUATE. \n",
        "\n",
        "semilla = 420\n",
        "np.random.seed(semilla)\n",
        "\n",
        "lsamodel = LsiModel(corpus=corpus, num_topics=nro_topics, id2word=dictionary)\n",
        "\n",
        "ldamodel = LdaModel(corpus=corpus, num_topics=nro_topics, id2word=dictionary, iterations = 200, passes=10, random_state=semilla)\n",
        "\n",
        "lda_model_tfidf = gensim.models.LdaMulticore(corpus_tfidf, num_topics=nro_topics, id2word=dictionary, passes=10, workers=4, random_state=semilla)\n",
        "\n",
        "lsatopics  = [[word for word, prob in topic] for topicid, topic in lsamodel.show_topics(nro_topics,formatted=False)]\n",
        "ldatopics = [[word for word, prob in topic] for topicid, topic in ldamodel.show_topics(nro_topics,formatted=False)]\n",
        "lda_tf_idf_topics = [[word for word, prob in topic] for topicid, topic in lda_model_tfidf.show_topics(nro_topics,formatted=False)]\n",
        "\n",
        "lsa_coherence = CoherenceModel(topics=lsatopics, texts=texts, dictionary=dictionary, window_size=window_size_,coherence=coherence_,topn=topn_).get_coherence_per_topic()\n",
        "lda_coherence = CoherenceModel(topics=ldatopics, texts=texts, dictionary=dictionary, window_size=window_size_,coherence=coherence_,topn=topn_).get_coherence_per_topic()\n",
        "lda_tf_idf_coherence = CoherenceModel(topics=lda_tf_idf_topics, texts=texts, dictionary=dictionary, window_size=window_size_,coherence=coherence_,topn=topn_).get_coherence_per_topic()\n",
        "\n",
        "df_lda = pd.DataFrame([range(50),lda_coherence,ldatopics],index=['topic_id','coherence','topic']).transpose()\n",
        "df_lsa = pd.DataFrame([range(50),lsa_coherence,lsatopics],index=['topic_id','coherence','topic']).transpose()\n",
        "df_tf_idf = pd.DataFrame([range(50),lda_tf_idf_coherence,lda_tf_idf_topics],index=['topic_id','coherence','topic']).transpose()\n",
        "\n",
        "title = \"Coherence - n Topics: \" + str(nro_topics)\n",
        "pd.Series({'LSA':np.mean(lsa_coherence),'LDA':np.mean(lda_coherence),'TF-IDF':np.mean(lda_tf_idf_coherence)}).plot.bar(title=title, ylim=(0,0.20), color=[\"green\",\"blue\",\"red\"]);\n",
        "print('LSA Mean Coherence: %.2f LSA' % (np.mean(lsa_coherence)))\n",
        "print('LDA Mean Coherence: %.2f LDA' % (np.mean(lda_coherence)))\n",
        "print('LDA Mean Coherence: %.2f TF-IF' % (np.mean(lda_tf_idf_coherence)))"
      ],
      "metadata": {
        "id": "W78r0MiEU-8M",
        "colab": {
          "base_uri": "https://localhost:8080/",
          "height": 355
        },
        "outputId": "d42eef6c-fe2d-47cb-bc34-0b4f948dfc30"
      },
      "execution_count": 42,
      "outputs": [
        {
          "output_type": "stream",
          "name": "stdout",
          "text": [
            "LSA Mean Coherence: -0.01 LSA\n",
            "LDA Mean Coherence: -0.05 LDA\n",
            "LDA Mean Coherence: -0.21 TF-IF\n"
          ]
        },
        {
          "output_type": "display_data",
          "data": {
            "text/plain": [
              "<Figure size 432x288 with 1 Axes>"
            ],
            "image/png": "[encoded data removed]"
          },
          "metadata": {
            "needs_background": "light"
          }
        }
      ]
    },
    {
      "cell_type": "markdown",
      "source": [
        "## **Analisis Automático (Grid Search) de cantidad óptima de Topics:**\n",
        "###Considerandos:\n",
        "- Utilizaremos solo el Modelo LDA bow, por demostrar ser superior en todos los escenarios ensayados al LSA y al LDA TF-IDF.\n",
        "- Agregaremos al análisis la medición de la Coherencia Total (sumatoria total de las coherencias de todos los topicos), por considerar que la Coherencia Media podría ser insuficiente."
      ],
      "metadata": {
        "id": "OL3_YA_xdKBq"
      }
    },
    {
      "cell_type": "code",
      "source": [
        "##** Analisis Automático (Grid Search) de cantidad óptima de Topics** "
      ],
      "metadata": {
        "id": "JjWZ6GXBc5dc"
      },
      "execution_count": null,
      "outputs": []
    },
    {
      "cell_type": "code",
      "source": [
        "##### CON MEDIA NO ES COMPARABLE: \n",
        "### ****HACER SUMATORIA TOTAL COHERENCIA!!!! PARA COMPARAR NUMERO DE TOPICS!!!!****"
      ],
      "metadata": {
        "id": "KRdmEY05pTNm"
      },
      "execution_count": null,
      "outputs": []
    },
    {
      "cell_type": "code",
      "source": [
        "type(lda_coherence)"
      ],
      "metadata": {
        "colab": {
          "base_uri": "https://localhost:8080/"
        },
        "id": "M3vxvaRS1NB5",
        "outputId": "099753f8-8a93-4758-aa1a-d29137ce86e2"
      },
      "execution_count": 43,
      "outputs": [
        {
          "output_type": "execute_result",
          "data": {
            "text/plain": [
              "list"
            ]
          },
          "metadata": {},
          "execution_count": 43
        }
      ]
    },
    {
      "cell_type": "markdown",
      "source": [
        "## **Grid Search Automático:**\n",
        "#### ***Setee parámetros de búsqueda:***\n",
        "#### - *Cantidad mínima de Topics a evaluar  (=5).*\n",
        "#### - *Cantidad máxima de Topics a evaluar  (=60).*\n",
        "#### - *Step (=5).*\n",
        "\n",
        "##### ***Setee parámetros de evaluación:***\n",
        "##### - *Windows size  (=10).*\n",
        "##### - *Tipo de métrica de Coherencia  (='c_npmi').*\n",
        "##### - *Top Words/Topic to evaluate (=30).*\n"
      ],
      "metadata": {
        "id": "YMoSr15JhJI2"
      }
    },
    {
      "cell_type": "code",
      "source": [
        "################# GRID SEARCH ###############################\n",
        "#### ANALIZADOR DE CANTIDAD OPTIMA DE TOPICOS, POR COMPARACION DE COHERENCIAS TOTALES Y PROMEDIO:\n",
        "#### SOLO LO HAREMOS CON EL MODELO LDA CON BOW VECTOR, DADO QUE RESULTO MEJOR Q EL LSI Y EL TD-IDF:\n",
        "Cant_Topics_Min = 5   # INGRESE CANTIDAD MINIMA DE TOPICOS A EVALUAR.\n",
        "Cant_Topics_Max = 60  # INGRESE CANTIDAD MAXIMA DE TOPICOS A EVALUAR.\n",
        "Step = 5              # INGRESE STEP.\n",
        "\n",
        "window_size_=10     # INGRESE COHERENCIA WINDOW_SIZE \n",
        "coherence_='c_npmi' # INGRESE METRICA DE COHERENCIA \n",
        "topn_=30            # INGRESE COHERENCIA TOP WORDS TO EVALUATE. \n",
        "Grid_Search = range(Cant_Topics_Min, Cant_Topics_Max + Step, Step)  \n",
        "\n",
        "Max_Coherence_Total = 0\n",
        "Max_Topic_Total = 0\n",
        "Max_Coherence_Media = 0\n",
        "Max_Topic_Media = 0\n",
        "Coherence_Total_array = []\n",
        "Coherence_Media_array = []\n",
        "N_Topics_array = []\n",
        "Models_array = []\n",
        "Topics_Models_array = []\n",
        "\n",
        "for n_topics in Grid_Search:\n",
        "  semilla = 420\n",
        "  np.random.seed(semilla)\n",
        "\n",
        "  ldamodel = LdaModel(corpus=corpus, num_topics=n_topics, id2word=dictionary, iterations = 200, passes=10, random_state=semilla)\n",
        "  \n",
        "  ldatopics = [[word for word, prob in topic] for topicid, topic in ldamodel.show_topics(n_topics,formatted=False)]\n",
        "  \n",
        "  lda_coherence = CoherenceModel(topics=ldatopics, texts=texts, dictionary=dictionary, window_size=window_size_,coherence=coherence_,topn=topn_).get_coherence_per_topic()\n",
        "  \n",
        "  df_lda = pd.DataFrame([range(n_topics),lda_coherence,ldatopics],index=['topic_id','coherence','topic']).transpose()\n",
        "  \n",
        "  Coherence_Total_array.append(sum(lda_coherence))\n",
        "  Coherence_Media_array.append(np.mean(lda_coherence))\n",
        "  N_Topics_array.append(n_topics)\n",
        "  Models_array.append(ldamodel)\n",
        "  Topics_Models_array.append(ldatopics)\n",
        "\n",
        "  if sum(lda_coherence) > Max_Coherence_Total:\n",
        "    Max_Coherence_Total = sum(lda_coherence)\n",
        "    Max_Topic_Total = n_topics\n",
        "\n",
        "  if np.mean(lda_coherence) > Max_Coherence_Media:\n",
        "    Max_Coherence_Media = np.mean(lda_coherence)\n",
        "    Max_Topic_Media = n_topics \n",
        "    \n",
        "  print(\" \")\n",
        "  print('n Topics: %.2f ' % (n_topics))\n",
        "  print('LDA Mean Coherence: %.2f ' % (round(np.mean(lda_coherence),2)))\n",
        "  print('LDA Total Coherence: %.2f ' % (round(sum(lda_coherence),2)))\n",
        "\n",
        "\n",
        "print(\"--------------------------------------------------------------- \")\n",
        "print(\" \")\n",
        "print(\"Final Results:\")\n",
        "print(\" \")\n",
        "print('Max Coherence Total: %.2f ' % (Max_Coherence_Total))\n",
        "print('N Topics Total Optimo: %.2f ' % (Max_Topic_Total))\n",
        "print(\" \")\n",
        "print('Max Coherence Media: %.2f ' % (Max_Coherence_Media))\n",
        "print('N Topics Media Optimo: %.2f ' % (Max_Topic_Media))\n",
        "print(\"--------------------------------------------------------------- \")\n",
        "\n",
        "\n",
        "\"\"\"##### RESULTADOS CON DATOS TOTALES (NO SAMPLEADOS):\n",
        "\n",
        "n Topics: 5.00 \n",
        "LDA Mean Coherence: 0.10 \n",
        "LDA Total Coherence: 0.48 \n",
        " \n",
        "n Topics: 10.00 \n",
        "LDA Mean Coherence: 0.09 \n",
        "LDA Total Coherence: 0.88 \n",
        " \n",
        "n Topics: 15.00 \n",
        "LDA Mean Coherence: 0.08 \n",
        "LDA Total Coherence: 1.23 \n",
        " \n",
        "n Topics: 20.00 \n",
        "LDA Mean Coherence: 0.09 \n",
        "LDA Total Coherence: 1.87 \n",
        " \n",
        "n Topics: 25.00 \n",
        "LDA Mean Coherence: 0.06 \n",
        "LDA Total Coherence: 1.60 \n",
        " \n",
        "n Topics: 30.00 \n",
        "LDA Mean Coherence: 0.06 \n",
        "LDA Total Coherence: 1.84 \n",
        " \n",
        "n Topics: 35.00 \n",
        "LDA Mean Coherence: 0.07 \n",
        "LDA Total Coherence: 2.34 \n",
        " \n",
        "n Topics: 40.00 \n",
        "LDA Mean Coherence: 0.06 \n",
        "LDA Total Coherence: 2.37 \n",
        " \n",
        "n Topics: 45.00 \n",
        "LDA Mean Coherence: 0.06 \n",
        "LDA Total Coherence: 2.68 \n",
        " \n",
        "n Topics: 50.00 \n",
        "LDA Mean Coherence: 0.04 \n",
        "LDA Total Coherence: 1.95 \n",
        " \n",
        "n Topics: 55.00 \n",
        "LDA Mean Coherence: 0.03 \n",
        "LDA Total Coherence: 1.47 \n",
        " \n",
        "n Topics: 60.00 \n",
        "LDA Mean Coherence: 0.01 \n",
        "LDA Total Coherence: 0.87 \n",
        "--------------------------------------------------------------- \n",
        " \n",
        "Final Results:\n",
        " \n",
        "Max Coherence Total: 2.68 \n",
        "N Topics Total Optimo: 45.00 \n",
        " \n",
        "Max Coherence Media: 0.10 \n",
        "N Topics Media Optimo: 5.00 \n",
        "--------------------------------------------------------------- \"\"\"\n",
        "\n",
        "#####################################################\n",
        "\"\"\"RESULTADOS CON DATOS SAMPLEADOS:\n",
        "n Topics: 5.00 \n",
        "LDA Mean Coherence: 0.09 \n",
        "LDA Total Coherence: 0.43 \n",
        " \n",
        "n Topics: 10.00 \n",
        "LDA Mean Coherence: 0.05 \n",
        "LDA Total Coherence: 0.51 \n",
        " \n",
        "n Topics: 15.00 \n",
        "LDA Mean Coherence: 0.04 \n",
        "LDA Total Coherence: 0.57 \n",
        " \n",
        "n Topics: 20.00 \n",
        "LDA Mean Coherence: 0.03 \n",
        "LDA Total Coherence: 0.63 \n",
        " \n",
        "n Topics: 25.00 \n",
        "LDA Mean Coherence: 0.01 \n",
        "LDA Total Coherence: 0.13 \n",
        " \n",
        "n Topics: 30.00 \n",
        "LDA Mean Coherence: -0.01 \n",
        "LDA Total Coherence: -0.25 \n",
        " \n",
        "n Topics: 35.00 \n",
        "LDA Mean Coherence: -0.01 \n",
        "LDA Total Coherence: -0.32 \n",
        " \n",
        "n Topics: 40.00 \n",
        "LDA Mean Coherence: -0.01 \n",
        "LDA Total Coherence: -0.54 \n",
        " \n",
        "n Topics: 45.00 \n",
        "LDA Mean Coherence: -0.03 \n",
        "LDA Total Coherence: -1.27 \n",
        " \n",
        "n Topics: 50.00 \n",
        "LDA Mean Coherence: -0.05 \n",
        "LDA Total Coherence: -2.45 \n",
        " \n",
        "n Topics: 55.00 \n",
        "LDA Mean Coherence: -0.05 \n",
        "LDA Total Coherence: -2.78 \n",
        " \n",
        "n Topics: 60.00 \n",
        "LDA Mean Coherence: -0.04 \n",
        "LDA Total Coherence: -2.58 \n",
        "--------------------------------------------------------------- \n",
        " \n",
        "Final Results:\n",
        " \n",
        "Max Coherence Total: 0.63 \n",
        "N Topics Total Optimo: 20.00 \n",
        " \n",
        "Max Coherence Media: 0.09 \n",
        "N Topics Media Optimo: 5.00 \n",
        "---------------------------------------------------------------\"\"\" \n",
        "\n",
        "\n",
        "\n"
      ],
      "metadata": {
        "outputId": "c1c38e42-fdce-452f-854e-4698bc546171",
        "colab": {
          "base_uri": "https://localhost:8080/",
          "height": 1000
        },
        "id": "rC2h4VhrzRHE"
      },
      "execution_count": 44,
      "outputs": [
        {
          "output_type": "stream",
          "name": "stdout",
          "text": [
            " \n",
            "n Topics: 5.00 \n",
            "LDA Mean Coherence: 0.09 \n",
            "LDA Total Coherence: 0.43 \n",
            " \n",
            "n Topics: 10.00 \n",
            "LDA Mean Coherence: 0.05 \n",
            "LDA Total Coherence: 0.51 \n",
            " \n",
            "n Topics: 15.00 \n",
            "LDA Mean Coherence: 0.04 \n",
            "LDA Total Coherence: 0.57 \n",
            " \n",
            "n Topics: 20.00 \n",
            "LDA Mean Coherence: 0.03 \n",
            "LDA Total Coherence: 0.63 \n",
            " \n",
            "n Topics: 25.00 \n",
            "LDA Mean Coherence: 0.01 \n",
            "LDA Total Coherence: 0.13 \n",
            " \n",
            "n Topics: 30.00 \n",
            "LDA Mean Coherence: -0.01 \n",
            "LDA Total Coherence: -0.25 \n",
            " \n",
            "n Topics: 35.00 \n",
            "LDA Mean Coherence: -0.01 \n",
            "LDA Total Coherence: -0.32 \n",
            " \n",
            "n Topics: 40.00 \n",
            "LDA Mean Coherence: -0.01 \n",
            "LDA Total Coherence: -0.54 \n",
            " \n",
            "n Topics: 45.00 \n",
            "LDA Mean Coherence: -0.03 \n",
            "LDA Total Coherence: -1.27 \n",
            " \n",
            "n Topics: 50.00 \n",
            "LDA Mean Coherence: -0.05 \n",
            "LDA Total Coherence: -2.45 \n",
            " \n",
            "n Topics: 55.00 \n",
            "LDA Mean Coherence: -0.05 \n",
            "LDA Total Coherence: -2.78 \n",
            " \n",
            "n Topics: 60.00 \n",
            "LDA Mean Coherence: -0.04 \n",
            "LDA Total Coherence: -2.58 \n",
            "--------------------------------------------------------------- \n",
            " \n",
            "Final Results:\n",
            " \n",
            "Max Coherence Total: 0.63 \n",
            "N Topics Total Optimo: 20.00 \n",
            " \n",
            "Max Coherence Media: 0.09 \n",
            "N Topics Media Optimo: 5.00 \n",
            "--------------------------------------------------------------- \n"
          ]
        },
        {
          "output_type": "execute_result",
          "data": {
            "text/plain": [
              "'##### RESULTADOS CON DATOS TOTALES:\\n\\nn Topics: 5.00 \\nLDA Mean Coherence: 0.10 \\nLDA Total Coherence: 0.48 \\n \\nn Topics: 10.00 \\nLDA Mean Coherence: 0.09 \\nLDA Total Coherence: 0.88 \\n \\nn Topics: 15.00 \\nLDA Mean Coherence: 0.08 \\nLDA Total Coherence: 1.23 \\n \\nn Topics: 20.00 \\nLDA Mean Coherence: 0.09 \\nLDA Total Coherence: 1.87 \\n \\nn Topics: 25.00 \\nLDA Mean Coherence: 0.06 \\nLDA Total Coherence: 1.60 \\n \\nn Topics: 30.00 \\nLDA Mean Coherence: 0.06 \\nLDA Total Coherence: 1.84 \\n \\nn Topics: 35.00 \\nLDA Mean Coherence: 0.07 \\nLDA Total Coherence: 2.34 \\n \\nn Topics: 40.00 \\nLDA Mean Coherence: 0.06 \\nLDA Total Coherence: 2.37 \\n \\nn Topics: 45.00 \\nLDA Mean Coherence: 0.06 \\nLDA Total Coherence: 2.68 \\n \\nn Topics: 50.00 \\nLDA Mean Coherence: 0.04 \\nLDA Total Coherence: 1.95 \\n \\nn Topics: 55.00 \\nLDA Mean Coherence: 0.03 \\nLDA Total Coherence: 1.47 \\n \\nn Topics: 60.00 \\nLDA Mean Coherence: 0.01 \\nLDA Total Coherence: 0.87 \\n--------------------------------------------------------------- \\n \\nFinal Results:\\n \\nMax Coherence Total: 2.68 \\nN Topics Total Optimo: 45.00 \\n \\nMax Coherence Media: 0.10 \\nN Topics Media Optimo: 5.00 \\n--------------------------------------------------------------- '"
            ],
            "application/vnd.google.colaboratory.intrinsic+json": {
              "type": "string"
            }
          },
          "metadata": {},
          "execution_count": 44
        }
      ]
    },
    {
      "cell_type": "markdown",
      "source": [
        "## **Gráficos de evolución de la Coherencia Media y Total en función de la cant. de Topics:**\n",
        "#### ***Setee parámetros visualización:***\n",
        "#### - *Tipo de gráfico: \"barras\" ó \"lineas\".*"
      ],
      "metadata": {
        "id": "27xqM2gujUb4"
      }
    },
    {
      "cell_type": "code",
      "source": [
        "Tipo_Grafico = \"barras\"  ###INGRESE TIPO DE GRAFICO: \"barras\" o \"lineas\"\n",
        "\n",
        "\n",
        "for i in range(0,2):\n",
        "  plt.figure(figsize=[15,5])\n",
        "  x=N_Topics_array\n",
        "  if i == 1:\n",
        "    y=Coherence_Total_array\n",
        "    title_=\"Coherencia Total en funcion del nro Topics\"\n",
        "    lable_y=\"Total Coherence\"\n",
        "    color_=\"b\"\n",
        "  elif i == 0:\n",
        "    y=Coherence_Media_array\n",
        "    title_=\"Coherencia Media en funcion del nro Topics\"\n",
        "    lable_y=\"Mean Coherence\"\n",
        "    color_=\"violet\"\n",
        "\n",
        "  values = N_Topics_array \n",
        "\n",
        "  if Tipo_Grafico == \"barras\":\n",
        "    plt.bar(x,y, color=color_, width=3)\n",
        "  elif Tipo_Grafico == \"lineas\": \n",
        "    plt.plot(x,y, color=color_, linewidth=3, marker=\"o\")\n",
        "\n",
        "  plt.title(title_)\n",
        "  plt.xlabel(\"n Topics\")\n",
        "  plt.ylabel(lable_y)\n",
        "  plt.legend()\n",
        "  plt.xticks(x,values)\n",
        "  plt.grid()\n",
        "  plt.show()\n",
        "  print(\" \")\n"
      ],
      "metadata": {
        "colab": {
          "base_uri": "https://localhost:8080/",
          "height": 752
        },
        "id": "OGULWx7C0EpH",
        "outputId": "80c16a5b-099a-4d82-c2d6-8f0709c17fb9"
      },
      "execution_count": 45,
      "outputs": [
        {
          "output_type": "stream",
          "name": "stderr",
          "text": [
            "WARNING:matplotlib.legend:No handles with labels found to put in legend.\n"
          ]
        },
        {
          "output_type": "display_data",
          "data": {
            "text/plain": [
              "<Figure size 1080x360 with 1 Axes>"
            ],
            "image/png": "[encoded data removed]"
          },
          "metadata": {
            "needs_background": "light"
          }
        },
        {
          "output_type": "stream",
          "name": "stderr",
          "text": [
            "WARNING:matplotlib.legend:No handles with labels found to put in legend.\n"
          ]
        },
        {
          "output_type": "stream",
          "name": "stdout",
          "text": [
            " \n"
          ]
        },
        {
          "output_type": "display_data",
          "data": {
            "text/plain": [
              "<Figure size 1080x360 with 1 Axes>"
            ],
            "image/png": "[encoded data removed]"
          },
          "metadata": {
            "needs_background": "light"
          }
        },
        {
          "output_type": "stream",
          "name": "stdout",
          "text": [
            " \n"
          ]
        }
      ]
    },
    {
      "cell_type": "markdown",
      "source": [
        "## ***Análisis fino de la cant. óptima de Topics:***\n",
        "\n",
        "## **Grid Search Automático:**\n",
        "#### ***Setee parámetros de búsqueda:***\n",
        "#### - *Cantidad mínima de Topics a evaluar  (=2).*\n",
        "#### - *Cantidad máxima de Topics a evaluar  (=60).*\n",
        "#### - ***Step (=1).***\n",
        "\n",
        "##### *Setee parámetros de evaluación:*\n",
        "##### - *Windows size  (=10).*\n",
        "##### - *Tipo de métrica de Coherencia  (='c_npmi').*\n",
        "##### - *Top Words/Topic to evaluate (=30).*"
      ],
      "metadata": {
        "id": "0OPYm42ikcWu"
      }
    },
    {
      "cell_type": "code",
      "source": [
        "################# GRID SEARCH ###############################\n",
        "#### ANALIZADOR DE CANTIDAD OPTIMA DE TOPICOS, POR COMPARACION DE COHERENCIAS TOTALES Y PROMEDIO:\n",
        "#### SOLO LO HAREMOS CON EL MODELO LDA CON BOW VECTOR, DADO QUE RESULTO MEJOR Q EL LSI Y EL TD-IDF:\n",
        "Cant_Topics_Min = 2   # INGRESE CANTIDAD MINIMA DE TOPICOS\n",
        "Cant_Topics_Max = 60  # INGRESE CANTIDAD MAXIMA DE TOPICOS\n",
        "Step = 1              # INGRESE STEP\n",
        "\n",
        "window_size_=10     # INGRESE COHERENCIA WINDOW_SIZE \n",
        "coherence_='c_npmi' # INGRESE METRICA DE COHERENCIA \n",
        "topn_=30            # INGRESE COHERENCIA TOP WORDS TO EVALUATE. \n",
        "Grid_Search = range(Cant_Topics_Min, Cant_Topics_Max + Step, Step)  \n",
        "\n",
        "\n",
        "Max_Coherence_Total = 0\n",
        "Max_Topic_Total = 0\n",
        "Max_Coherence_Media = 0\n",
        "Max_Topic_Media = 0\n",
        "Coherence_Total_array = []\n",
        "Coherence_Media_array = []\n",
        "N_Topics_array = []\n",
        "Models_array = []\n",
        "Topics_Models_array = []\n",
        "\n",
        "for n_topics in Grid_Search:\n",
        "  semilla = 420\n",
        "  np.random.seed(semilla)\n",
        "\n",
        "  ldamodel = LdaModel(corpus=corpus, num_topics=n_topics, id2word=dictionary, iterations = 200, passes=10, random_state=semilla)\n",
        "  \n",
        "  ldatopics = [[word for word, prob in topic] for topicid, topic in ldamodel.show_topics(n_topics,formatted=False)]\n",
        "  \n",
        "  lda_coherence = CoherenceModel(topics=ldatopics, texts=texts, dictionary=dictionary, window_size=window_size_,coherence=coherence_,topn=topn_).get_coherence_per_topic()\n",
        "  \n",
        "  df_lda = pd.DataFrame([range(n_topics),lda_coherence,ldatopics],index=['topic_id','coherence','topic']).transpose()\n",
        "  \n",
        "  Coherence_Total_array.append(sum(lda_coherence))\n",
        "  Coherence_Media_array.append(np.mean(lda_coherence))\n",
        "  N_Topics_array.append(n_topics)\n",
        "  Models_array.append(ldamodel)\n",
        "  Topics_Models_array.append(ldatopics)\n",
        "\n",
        "  if sum(lda_coherence) > Max_Coherence_Total:\n",
        "    Max_Coherence_Total = sum(lda_coherence)\n",
        "    Max_Topic_Total = n_topics\n",
        "\n",
        "  if np.mean(lda_coherence) > Max_Coherence_Media:\n",
        "    Max_Coherence_Media = np.mean(lda_coherence)\n",
        "    Max_Topic_Media = n_topics \n",
        "    \n",
        "  print(\" \")\n",
        "  print('n Topics: %.2f ' % (n_topics))\n",
        "  print('LDA Mean Coherence: %.2f ' % (round(np.mean(lda_coherence),2)))\n",
        "  print('LDA Total Coherence: %.2f ' % (round(sum(lda_coherence),2)))\n",
        "\n",
        "print(\"--------------------------------------------------------------- \")\n",
        "print(\" \")\n",
        "print(\"Final Results:\")\n",
        "print(\" \")\n",
        "print('Max Coherence Total: %.2f ' % (Max_Coherence_Total))\n",
        "print('N Topics Total Optimo: %.2f ' % (Max_Topic_Total))\n",
        "print(\" \")\n",
        "print('Max Coherence Media: %.2f ' % (Max_Coherence_Media))\n",
        "print('N Topics Media Optimo: %.2f ' % (Max_Topic_Media))\n",
        "print(\"--------------------------------------------------------------- \")\n",
        "\n",
        "\n",
        "#########################################################\n",
        "\"\"\"RESULTADOS CON *DATOS TOTALES* (NO SAMPLEADOS):\n",
        "n Topics: 5.00 \n",
        "LDA Mean Coherence: 0.10 \n",
        "LDA Total Coherence: 0.52 \n",
        " \n",
        "n Topics: 6.00 \n",
        "LDA Mean Coherence: 0.10 \n",
        "LDA Total Coherence: 0.57 \n",
        " \n",
        "n Topics: 7.00 \n",
        "LDA Mean Coherence: 0.10 \n",
        "LDA Total Coherence: 0.72 \n",
        " \n",
        "n Topics: 8.00 \n",
        "LDA Mean Coherence: 0.10 \n",
        "LDA Total Coherence: 0.78 \n",
        " \n",
        "n Topics: 9.00 \n",
        "LDA Mean Coherence: 0.09 \n",
        "LDA Total Coherence: 0.84 \n",
        " \n",
        "n Topics: 10.00 \n",
        "LDA Mean Coherence: 0.09 \n",
        "LDA Total Coherence: 0.93 \n",
        " \n",
        "n Topics: 11.00 \n",
        "LDA Mean Coherence: 0.08 \n",
        "LDA Total Coherence: 0.89 \n",
        " \n",
        "n Topics: 12.00 \n",
        "LDA Mean Coherence: 0.09 \n",
        "LDA Total Coherence: 1.11 \n",
        " \n",
        "n Topics: 13.00 \n",
        "LDA Mean Coherence: 0.10 \n",
        "LDA Total Coherence: 1.26 \n",
        " \n",
        "n Topics: 14.00 \n",
        "LDA Mean Coherence: 0.05 \n",
        "LDA Total Coherence: 0.77 \n",
        " \n",
        "n Topics: 15.00 \n",
        "LDA Mean Coherence: 0.08 \n",
        "LDA Total Coherence: 1.26 \n",
        " \n",
        "n Topics: 16.00 \n",
        "LDA Mean Coherence: 0.08 \n",
        "LDA Total Coherence: 1.33 \n",
        " \n",
        "n Topics: 17.00 \n",
        "LDA Mean Coherence: 0.09 \n",
        "LDA Total Coherence: 1.55 \n",
        " \n",
        "n Topics: 18.00 \n",
        "LDA Mean Coherence: 0.09 \n",
        "LDA Total Coherence: 1.68 \n",
        " \n",
        "n Topics: 19.00 \n",
        "LDA Mean Coherence: 0.10 \n",
        "LDA Total Coherence: 1.87 \n",
        " \n",
        "n Topics: 20.00 \n",
        "LDA Mean Coherence: 0.07 \n",
        "LDA Total Coherence: 1.32 \n",
        " \n",
        "n Topics: 21.00 \n",
        "LDA Mean Coherence: 0.06 \n",
        "LDA Total Coherence: 1.18 \n",
        " \n",
        "n Topics: 22.00 \n",
        "LDA Mean Coherence: 0.08 \n",
        "LDA Total Coherence: 1.79 \n",
        " \n",
        "n Topics: 23.00 \n",
        "LDA Mean Coherence: 0.05 \n",
        "LDA Total Coherence: 1.04 \n",
        " \n",
        "n Topics: 24.00 \n",
        "LDA Mean Coherence: 0.07 \n",
        "LDA Total Coherence: 1.65 \n",
        " \n",
        "n Topics: 25.00 \n",
        "LDA Mean Coherence: 0.09 \n",
        "LDA Total Coherence: 2.15 \n",
        " \n",
        "n Topics: 26.00 \n",
        "LDA Mean Coherence: 0.09 \n",
        "LDA Total Coherence: 2.38 \n",
        " \n",
        "n Topics: 27.00 \n",
        "LDA Mean Coherence: 0.08 \n",
        "LDA Total Coherence: 2.05 \n",
        " \n",
        "n Topics: 28.00 \n",
        "LDA Mean Coherence: 0.06 \n",
        "LDA Total Coherence: 1.54 \n",
        " \n",
        "n Topics: 29.00 \n",
        "LDA Mean Coherence: 0.06 \n",
        "LDA Total Coherence: 1.85 \n",
        " \n",
        "n Topics: 30.00 \n",
        "LDA Mean Coherence: 0.06 \n",
        "LDA Total Coherence: 1.77 \n",
        " \n",
        "n Topics: 31.00 \n",
        "LDA Mean Coherence: 0.07 \n",
        "LDA Total Coherence: 2.14 \n",
        " \n",
        "n Topics: 32.00 \n",
        "LDA Mean Coherence: 0.07 \n",
        "LDA Total Coherence: 2.33 \n",
        " \n",
        "n Topics: 33.00 \n",
        "LDA Mean Coherence: 0.06 \n",
        "LDA Total Coherence: 1.84 \n",
        " \n",
        "n Topics: 34.00 \n",
        "LDA Mean Coherence: 0.05 \n",
        "LDA Total Coherence: 1.58 \n",
        " \n",
        "n Topics: 35.00 \n",
        "LDA Mean Coherence: 0.03 \n",
        "LDA Total Coherence: 0.94 \n",
        " \n",
        "n Topics: 36.00 \n",
        "LDA Mean Coherence: 0.06 \n",
        "LDA Total Coherence: 2.05 \n",
        " \n",
        "n Topics: 37.00 \n",
        "LDA Mean Coherence: 0.06 \n",
        "LDA Total Coherence: 2.38 \n",
        " \n",
        "n Topics: 38.00 \n",
        "LDA Mean Coherence: 0.04 \n",
        "LDA Total Coherence: 1.69 \n",
        " \n",
        "n Topics: 39.00 \n",
        "LDA Mean Coherence: 0.05 \n",
        "LDA Total Coherence: 1.76 \n",
        " \n",
        "n Topics: 40.00 \n",
        "LDA Mean Coherence: 0.04 \n",
        "LDA Total Coherence: 1.58 \n",
        " \n",
        "n Topics: 41.00 \n",
        "LDA Mean Coherence: 0.05 \n",
        "LDA Total Coherence: 2.08 \n",
        " \n",
        "n Topics: 42.00 \n",
        "LDA Mean Coherence: 0.06 \n",
        "LDA Total Coherence: 2.53 \n",
        " \n",
        "n Topics: 43.00 \n",
        "LDA Mean Coherence: 0.05 \n",
        "LDA Total Coherence: 2.23 \n",
        " \n",
        "n Topics: 44.00 \n",
        "LDA Mean Coherence: 0.06 \n",
        "LDA Total Coherence: 2.61 \n",
        " \n",
        "n Topics: 45.00 \n",
        "LDA Mean Coherence: 0.03 \n",
        "LDA Total Coherence: 1.40 \n",
        " \n",
        "n Topics: 46.00 \n",
        "LDA Mean Coherence: 0.04 \n",
        "LDA Total Coherence: 1.98 \n",
        " \n",
        "n Topics: 47.00 \n",
        "LDA Mean Coherence: 0.06 \n",
        "LDA Total Coherence: 2.59 \n",
        " \n",
        "n Topics: 48.00 \n",
        "LDA Mean Coherence: 0.04 \n",
        "LDA Total Coherence: 2.13 \n",
        " \n",
        "n Topics: 49.00 \n",
        "LDA Mean Coherence: 0.04 \n",
        "LDA Total Coherence: 1.73 \n",
        " \n",
        "n Topics: 50.00 \n",
        "LDA Mean Coherence: 0.03 \n",
        "LDA Total Coherence: 1.48 \n",
        " \n",
        "n Topics: 51.00 \n",
        "LDA Mean Coherence: 0.05 \n",
        "LDA Total Coherence: 2.52 \n",
        " \n",
        "n Topics: 52.00 \n",
        "LDA Mean Coherence: 0.03 \n",
        "LDA Total Coherence: 1.64 \n",
        " \n",
        "n Topics: 53.00 \n",
        "LDA Mean Coherence: 0.04 \n",
        "LDA Total Coherence: 2.04 \n",
        "\n",
        "(*SE INTERRUMPIO EL PROCESO EN LA ITERACION DE N TOPICS: 53*)\n",
        "\"\"\"\n",
        "\n",
        "###############################################\n",
        "\"\"\"RESULTADOS CON *DATOS SAMPLEADOS*:\n",
        "n Topics: 2.00 \n",
        "LDA Mean Coherence: 0.19 \n",
        "LDA Total Coherence: 0.37 \n",
        " \n",
        "n Topics: 3.00 \n",
        "LDA Mean Coherence: 0.13 \n",
        "LDA Total Coherence: 0.39 \n",
        " \n",
        "n Topics: 4.00 \n",
        "LDA Mean Coherence: 0.10 \n",
        "LDA Total Coherence: 0.41 \n",
        " \n",
        "n Topics: 5.00 \n",
        "LDA Mean Coherence: 0.09 \n",
        "LDA Total Coherence: 0.43 \n",
        " \n",
        "n Topics: 6.00 \n",
        "LDA Mean Coherence: 0.05 \n",
        "LDA Total Coherence: 0.33 \n",
        " \n",
        "n Topics: 7.00 \n",
        "LDA Mean Coherence: 0.06 \n",
        "LDA Total Coherence: 0.44 \n",
        " \n",
        "n Topics: 8.00 \n",
        "LDA Mean Coherence: 0.05 \n",
        "LDA Total Coherence: 0.43 \n",
        " \n",
        "n Topics: 9.00 \n",
        "LDA Mean Coherence: 0.05 \n",
        "LDA Total Coherence: 0.45 \n",
        " \n",
        "n Topics: 10.00 \n",
        "LDA Mean Coherence: 0.05 \n",
        "LDA Total Coherence: 0.51 \n",
        " \n",
        "n Topics: 11.00 \n",
        "LDA Mean Coherence: 0.05 \n",
        "LDA Total Coherence: 0.53 \n",
        " \n",
        "n Topics: 12.00 \n",
        "LDA Mean Coherence: 0.07 \n",
        "LDA Total Coherence: 0.80 \n",
        " \n",
        "n Topics: 13.00 \n",
        "LDA Mean Coherence: 0.06 \n",
        "LDA Total Coherence: 0.72 \n",
        " \n",
        "n Topics: 14.00 \n",
        "LDA Mean Coherence: 0.02 \n",
        "LDA Total Coherence: 0.23 \n",
        " \n",
        "n Topics: 15.00 \n",
        "LDA Mean Coherence: 0.04 \n",
        "LDA Total Coherence: 0.57 \n",
        " \n",
        "n Topics: 16.00 \n",
        "LDA Mean Coherence: 0.02 \n",
        "LDA Total Coherence: 0.36 \n",
        " \n",
        "n Topics: 17.00 \n",
        "LDA Mean Coherence: 0.01 \n",
        "LDA Total Coherence: 0.24 \n",
        " \n",
        "n Topics: 18.00 \n",
        "LDA Mean Coherence: 0.01 \n",
        "LDA Total Coherence: 0.24 \n",
        " \n",
        "n Topics: 19.00 \n",
        "LDA Mean Coherence: 0.02 \n",
        "LDA Total Coherence: 0.47 \n",
        " \n",
        "n Topics: 20.00 \n",
        "LDA Mean Coherence: 0.03 \n",
        "LDA Total Coherence: 0.63 \n",
        " \n",
        "n Topics: 21.00 \n",
        "LDA Mean Coherence: 0.02 \n",
        "LDA Total Coherence: 0.33 \n",
        " \n",
        "n Topics: 22.00 \n",
        "LDA Mean Coherence: -0.00 \n",
        "LDA Total Coherence: -0.07 \n",
        " \n",
        "n Topics: 23.00 \n",
        "LDA Mean Coherence: 0.02 \n",
        "LDA Total Coherence: 0.49 \n",
        " \n",
        "n Topics: 24.00 \n",
        "LDA Mean Coherence: -0.00 \n",
        "LDA Total Coherence: -0.09 \n",
        " \n",
        "n Topics: 25.00 \n",
        "LDA Mean Coherence: 0.01 \n",
        "LDA Total Coherence: 0.13 \n",
        " \n",
        "n Topics: 26.00 \n",
        "LDA Mean Coherence: 0.01 \n",
        "LDA Total Coherence: 0.24 \n",
        " \n",
        "n Topics: 27.00 \n",
        "LDA Mean Coherence: -0.01 \n",
        "LDA Total Coherence: -0.39 \n",
        " \n",
        "n Topics: 28.00 \n",
        "LDA Mean Coherence: -0.01 \n",
        "LDA Total Coherence: -0.16 \n",
        " \n",
        "n Topics: 29.00 \n",
        "LDA Mean Coherence: 0.01 \n",
        "LDA Total Coherence: 0.20 \n",
        " \n",
        "n Topics: 30.00 \n",
        "LDA Mean Coherence: -0.01 \n",
        "LDA Total Coherence: -0.25 \n",
        " \n",
        "n Topics: 31.00 \n",
        "LDA Mean Coherence: -0.01 \n",
        "LDA Total Coherence: -0.17 \n",
        " \n",
        "n Topics: 32.00 \n",
        "LDA Mean Coherence: 0.01 \n",
        "LDA Total Coherence: 0.42 \n",
        " \n",
        "n Topics: 33.00 \n",
        "LDA Mean Coherence: -0.00 \n",
        "LDA Total Coherence: -0.05 \n",
        " \n",
        "n Topics: 34.00 \n",
        "LDA Mean Coherence: 0.01 \n",
        "LDA Total Coherence: 0.18 \n",
        " \n",
        "n Topics: 35.00 \n",
        "LDA Mean Coherence: -0.01 \n",
        "LDA Total Coherence: -0.32 \n",
        " \n",
        "n Topics: 36.00 \n",
        "LDA Mean Coherence: -0.02 \n",
        "LDA Total Coherence: -0.68 \n",
        " \n",
        "n Topics: 37.00 \n",
        "LDA Mean Coherence: -0.01 \n",
        "LDA Total Coherence: -0.44 \n",
        " \n",
        "n Topics: 38.00 \n",
        "LDA Mean Coherence: -0.03 \n",
        "LDA Total Coherence: -1.06 \n",
        " \n",
        "n Topics: 39.00 \n",
        "LDA Mean Coherence: -0.04 \n",
        "LDA Total Coherence: -1.61 \n",
        " \n",
        "n Topics: 40.00 \n",
        "LDA Mean Coherence: -0.01 \n",
        "LDA Total Coherence: -0.54 \n",
        " \n",
        "n Topics: 41.00 \n",
        "LDA Mean Coherence: -0.04 \n",
        "LDA Total Coherence: -1.44 \n",
        " \n",
        "n Topics: 42.00 \n",
        "LDA Mean Coherence: -0.03 \n",
        "LDA Total Coherence: -1.29 \n",
        " \n",
        "n Topics: 43.00 \n",
        "LDA Mean Coherence: -0.04 \n",
        "LDA Total Coherence: -1.81 \n",
        " \n",
        "n Topics: 44.00 \n",
        "LDA Mean Coherence: -0.02 \n",
        "LDA Total Coherence: -0.99 \n",
        " \n",
        "n Topics: 45.00 \n",
        "LDA Mean Coherence: -0.03 \n",
        "LDA Total Coherence: -1.27 \n",
        " \n",
        "n Topics: 46.00 \n",
        "LDA Mean Coherence: -0.02 \n",
        "LDA Total Coherence: -0.83 \n",
        " \n",
        "n Topics: 47.00 \n",
        "LDA Mean Coherence: -0.03 \n",
        "LDA Total Coherence: -1.35 \n",
        " \n",
        "n Topics: 48.00 \n",
        "LDA Mean Coherence: -0.04 \n",
        "LDA Total Coherence: -1.70 \n",
        " \n",
        "n Topics: 49.00 \n",
        "LDA Mean Coherence: -0.03 \n",
        "LDA Total Coherence: -1.67 \n",
        " \n",
        "n Topics: 50.00 \n",
        "LDA Mean Coherence: -0.05 \n",
        "LDA Total Coherence: -2.45 \n",
        " \n",
        "n Topics: 51.00 \n",
        "LDA Mean Coherence: -0.05 \n",
        "LDA Total Coherence: -2.38 \n",
        " \n",
        "n Topics: 52.00 \n",
        "LDA Mean Coherence: -0.01 \n",
        "LDA Total Coherence: -0.49 \n",
        " \n",
        "n Topics: 53.00 \n",
        "LDA Mean Coherence: -0.05 \n",
        "LDA Total Coherence: -2.80 \n",
        " \n",
        "n Topics: 54.00 \n",
        "LDA Mean Coherence: -0.06 \n",
        "LDA Total Coherence: -3.33 \n",
        " \n",
        "n Topics: 55.00 \n",
        "LDA Mean Coherence: -0.05 \n",
        "LDA Total Coherence: -2.78 \n",
        " \n",
        "n Topics: 56.00 \n",
        "LDA Mean Coherence: -0.05 \n",
        "LDA Total Coherence: -2.64 \n",
        " \n",
        "n Topics: 57.00 \n",
        "LDA Mean Coherence: -0.06 \n",
        "LDA Total Coherence: -3.25 \n",
        " \n",
        "n Topics: 58.00 \n",
        "LDA Mean Coherence: -0.04 \n",
        "LDA Total Coherence: -2.53 \n",
        " \n",
        "n Topics: 59.00 \n",
        "LDA Mean Coherence: -0.06 \n",
        "LDA Total Coherence: -3.43 \n",
        " \n",
        "n Topics: 60.00 \n",
        "LDA Mean Coherence: -0.04 \n",
        "LDA Total Coherence: -2.58 \n",
        "--------------------------------------------------------------- \n",
        " \n",
        "Final Results:\n",
        " \n",
        "Max Coherence Total: 0.80 \n",
        "N Topics Total Optimo: 12.00 \n",
        " \n",
        "Max Coherence Media: 0.19 \n",
        "N Topics Media Optimo: 2.00 \n",
        "---------------------------------------------------------------\"\"\"\n",
        "\n"
      ],
      "metadata": {
        "outputId": "b3c3d2cd-b405-467c-c731-df5edd939086",
        "colab": {
          "base_uri": "https://localhost:8080/",
          "height": 1000
        },
        "id": "SWInDa9AKOfi"
      },
      "execution_count": 51,
      "outputs": [
        {
          "output_type": "stream",
          "name": "stdout",
          "text": [
            " \n",
            "n Topics: 2.00 \n",
            "LDA Mean Coherence: 0.19 \n",
            "LDA Total Coherence: 0.37 \n",
            " \n",
            "n Topics: 3.00 \n",
            "LDA Mean Coherence: 0.13 \n",
            "LDA Total Coherence: 0.39 \n",
            " \n",
            "n Topics: 4.00 \n",
            "LDA Mean Coherence: 0.10 \n",
            "LDA Total Coherence: 0.41 \n",
            " \n",
            "n Topics: 5.00 \n",
            "LDA Mean Coherence: 0.09 \n",
            "LDA Total Coherence: 0.43 \n",
            " \n",
            "n Topics: 6.00 \n",
            "LDA Mean Coherence: 0.05 \n",
            "LDA Total Coherence: 0.33 \n",
            " \n",
            "n Topics: 7.00 \n",
            "LDA Mean Coherence: 0.06 \n",
            "LDA Total Coherence: 0.44 \n",
            " \n",
            "n Topics: 8.00 \n",
            "LDA Mean Coherence: 0.05 \n",
            "LDA Total Coherence: 0.43 \n",
            " \n",
            "n Topics: 9.00 \n",
            "LDA Mean Coherence: 0.05 \n",
            "LDA Total Coherence: 0.45 \n",
            " \n",
            "n Topics: 10.00 \n",
            "LDA Mean Coherence: 0.05 \n",
            "LDA Total Coherence: 0.51 \n",
            " \n",
            "n Topics: 11.00 \n",
            "LDA Mean Coherence: 0.05 \n",
            "LDA Total Coherence: 0.53 \n",
            " \n",
            "n Topics: 12.00 \n",
            "LDA Mean Coherence: 0.07 \n",
            "LDA Total Coherence: 0.80 \n",
            " \n",
            "n Topics: 13.00 \n",
            "LDA Mean Coherence: 0.06 \n",
            "LDA Total Coherence: 0.72 \n",
            " \n",
            "n Topics: 14.00 \n",
            "LDA Mean Coherence: 0.02 \n",
            "LDA Total Coherence: 0.23 \n",
            " \n",
            "n Topics: 15.00 \n",
            "LDA Mean Coherence: 0.04 \n",
            "LDA Total Coherence: 0.57 \n",
            " \n",
            "n Topics: 16.00 \n",
            "LDA Mean Coherence: 0.02 \n",
            "LDA Total Coherence: 0.36 \n",
            " \n",
            "n Topics: 17.00 \n",
            "LDA Mean Coherence: 0.01 \n",
            "LDA Total Coherence: 0.24 \n",
            " \n",
            "n Topics: 18.00 \n",
            "LDA Mean Coherence: 0.01 \n",
            "LDA Total Coherence: 0.24 \n",
            " \n",
            "n Topics: 19.00 \n",
            "LDA Mean Coherence: 0.02 \n",
            "LDA Total Coherence: 0.47 \n",
            " \n",
            "n Topics: 20.00 \n",
            "LDA Mean Coherence: 0.03 \n",
            "LDA Total Coherence: 0.63 \n",
            " \n",
            "n Topics: 21.00 \n",
            "LDA Mean Coherence: 0.02 \n",
            "LDA Total Coherence: 0.33 \n",
            " \n",
            "n Topics: 22.00 \n",
            "LDA Mean Coherence: -0.00 \n",
            "LDA Total Coherence: -0.07 \n",
            " \n",
            "n Topics: 23.00 \n",
            "LDA Mean Coherence: 0.02 \n",
            "LDA Total Coherence: 0.49 \n",
            " \n",
            "n Topics: 24.00 \n",
            "LDA Mean Coherence: -0.00 \n",
            "LDA Total Coherence: -0.09 \n",
            " \n",
            "n Topics: 25.00 \n",
            "LDA Mean Coherence: 0.01 \n",
            "LDA Total Coherence: 0.13 \n",
            " \n",
            "n Topics: 26.00 \n",
            "LDA Mean Coherence: 0.01 \n",
            "LDA Total Coherence: 0.24 \n",
            " \n",
            "n Topics: 27.00 \n",
            "LDA Mean Coherence: -0.01 \n",
            "LDA Total Coherence: -0.39 \n",
            " \n",
            "n Topics: 28.00 \n",
            "LDA Mean Coherence: -0.01 \n",
            "LDA Total Coherence: -0.16 \n",
            " \n",
            "n Topics: 29.00 \n",
            "LDA Mean Coherence: 0.01 \n",
            "LDA Total Coherence: 0.20 \n",
            " \n",
            "n Topics: 30.00 \n",
            "LDA Mean Coherence: -0.01 \n",
            "LDA Total Coherence: -0.25 \n",
            " \n",
            "n Topics: 31.00 \n",
            "LDA Mean Coherence: -0.01 \n",
            "LDA Total Coherence: -0.17 \n",
            " \n",
            "n Topics: 32.00 \n",
            "LDA Mean Coherence: 0.01 \n",
            "LDA Total Coherence: 0.42 \n",
            " \n",
            "n Topics: 33.00 \n",
            "LDA Mean Coherence: -0.00 \n",
            "LDA Total Coherence: -0.05 \n",
            " \n",
            "n Topics: 34.00 \n",
            "LDA Mean Coherence: 0.01 \n",
            "LDA Total Coherence: 0.18 \n",
            " \n",
            "n Topics: 35.00 \n",
            "LDA Mean Coherence: -0.01 \n",
            "LDA Total Coherence: -0.32 \n",
            " \n",
            "n Topics: 36.00 \n",
            "LDA Mean Coherence: -0.02 \n",
            "LDA Total Coherence: -0.68 \n",
            " \n",
            "n Topics: 37.00 \n",
            "LDA Mean Coherence: -0.01 \n",
            "LDA Total Coherence: -0.44 \n",
            " \n",
            "n Topics: 38.00 \n",
            "LDA Mean Coherence: -0.03 \n",
            "LDA Total Coherence: -1.06 \n",
            " \n",
            "n Topics: 39.00 \n",
            "LDA Mean Coherence: -0.04 \n",
            "LDA Total Coherence: -1.61 \n",
            " \n",
            "n Topics: 40.00 \n",
            "LDA Mean Coherence: -0.01 \n",
            "LDA Total Coherence: -0.54 \n",
            " \n",
            "n Topics: 41.00 \n",
            "LDA Mean Coherence: -0.04 \n",
            "LDA Total Coherence: -1.44 \n",
            " \n",
            "n Topics: 42.00 \n",
            "LDA Mean Coherence: -0.03 \n",
            "LDA Total Coherence: -1.29 \n",
            " \n",
            "n Topics: 43.00 \n",
            "LDA Mean Coherence: -0.04 \n",
            "LDA Total Coherence: -1.81 \n",
            " \n",
            "n Topics: 44.00 \n",
            "LDA Mean Coherence: -0.02 \n",
            "LDA Total Coherence: -0.99 \n",
            " \n",
            "n Topics: 45.00 \n",
            "LDA Mean Coherence: -0.03 \n",
            "LDA Total Coherence: -1.27 \n",
            " \n",
            "n Topics: 46.00 \n",
            "LDA Mean Coherence: -0.02 \n",
            "LDA Total Coherence: -0.83 \n",
            " \n",
            "n Topics: 47.00 \n",
            "LDA Mean Coherence: -0.03 \n",
            "LDA Total Coherence: -1.35 \n",
            " \n",
            "n Topics: 48.00 \n",
            "LDA Mean Coherence: -0.04 \n",
            "LDA Total Coherence: -1.70 \n",
            " \n",
            "n Topics: 49.00 \n",
            "LDA Mean Coherence: -0.03 \n",
            "LDA Total Coherence: -1.67 \n",
            " \n",
            "n Topics: 50.00 \n",
            "LDA Mean Coherence: -0.05 \n",
            "LDA Total Coherence: -2.45 \n",
            " \n",
            "n Topics: 51.00 \n",
            "LDA Mean Coherence: -0.05 \n",
            "LDA Total Coherence: -2.38 \n",
            " \n",
            "n Topics: 52.00 \n",
            "LDA Mean Coherence: -0.01 \n",
            "LDA Total Coherence: -0.49 \n",
            " \n",
            "n Topics: 53.00 \n",
            "LDA Mean Coherence: -0.05 \n",
            "LDA Total Coherence: -2.80 \n",
            " \n",
            "n Topics: 54.00 \n",
            "LDA Mean Coherence: -0.06 \n",
            "LDA Total Coherence: -3.33 \n",
            " \n",
            "n Topics: 55.00 \n",
            "LDA Mean Coherence: -0.05 \n",
            "LDA Total Coherence: -2.78 \n",
            " \n",
            "n Topics: 56.00 \n",
            "LDA Mean Coherence: -0.05 \n",
            "LDA Total Coherence: -2.64 \n",
            " \n",
            "n Topics: 57.00 \n",
            "LDA Mean Coherence: -0.06 \n",
            "LDA Total Coherence: -3.25 \n",
            " \n",
            "n Topics: 58.00 \n",
            "LDA Mean Coherence: -0.04 \n",
            "LDA Total Coherence: -2.53 \n",
            " \n",
            "n Topics: 59.00 \n",
            "LDA Mean Coherence: -0.06 \n",
            "LDA Total Coherence: -3.43 \n",
            " \n",
            "n Topics: 60.00 \n",
            "LDA Mean Coherence: -0.04 \n",
            "LDA Total Coherence: -2.58 \n",
            "--------------------------------------------------------------- \n",
            " \n",
            "Final Results:\n",
            " \n",
            "Max Coherence Total: 0.80 \n",
            "N Topics Total Optimo: 12.00 \n",
            " \n",
            "Max Coherence Media: 0.19 \n",
            "N Topics Media Optimo: 2.00 \n",
            "--------------------------------------------------------------- \n"
          ]
        },
        {
          "output_type": "execute_result",
          "data": {
            "text/plain": [
              "'RESULTADOS CON DATOS TOTALES (NO SAMPLEADOS):\\nn Topics: 5.00 \\nLDA Mean Coherence: 0.10 \\nLDA Total Coherence: 0.52 \\n \\nn Topics: 6.00 \\nLDA Mean Coherence: 0.10 \\nLDA Total Coherence: 0.57 \\n \\nn Topics: 7.00 \\nLDA Mean Coherence: 0.10 \\nLDA Total Coherence: 0.72 \\n \\nn Topics: 8.00 \\nLDA Mean Coherence: 0.10 \\nLDA Total Coherence: 0.78 \\n \\nn Topics: 9.00 \\nLDA Mean Coherence: 0.09 \\nLDA Total Coherence: 0.84 \\n \\nn Topics: 10.00 \\nLDA Mean Coherence: 0.09 \\nLDA Total Coherence: 0.93 \\n \\nn Topics: 11.00 \\nLDA Mean Coherence: 0.08 \\nLDA Total Coherence: 0.89 \\n \\nn Topics: 12.00 \\nLDA Mean Coherence: 0.09 \\nLDA Total Coherence: 1.11 \\n \\nn Topics: 13.00 \\nLDA Mean Coherence: 0.10 \\nLDA Total Coherence: 1.26 \\n \\nn Topics: 14.00 \\nLDA Mean Coherence: 0.05 \\nLDA Total Coherence: 0.77 \\n \\nn Topics: 15.00 \\nLDA Mean Coherence: 0.08 \\nLDA Total Coherence: 1.26 \\n \\nn Topics: 16.00 \\nLDA Mean Coherence: 0.08 \\nLDA Total Coherence: 1.33 \\n \\nn Topics: 17.00 \\nLDA Mean Coherence: 0.09 \\nLDA Total Coherence: 1.55 \\n \\nn Topics: 18.00 \\nLDA Mean Coherence: 0.09 \\nLDA Total Coherence: 1.68 \\n \\nn Topics: 19.00 \\nLDA Mean Coherence: 0.10 \\nLDA Total Coherence: 1.87 \\n \\nn Topics: 20.00 \\nLDA Mean Coherence: 0.07 \\nLDA Total Coherence: 1.32 \\n \\nn Topics: 21.00 \\nLDA Mean Coherence: 0.06 \\nLDA Total Coherence: 1.18 \\n \\nn Topics: 22.00 \\nLDA Mean Coherence: 0.08 \\nLDA Total Coherence: 1.79 \\n \\nn Topics: 23.00 \\nLDA Mean Coherence: 0.05 \\nLDA Total Coherence: 1.04 \\n \\nn Topics: 24.00 \\nLDA Mean Coherence: 0.07 \\nLDA Total Coherence: 1.65 \\n \\nn Topics: 25.00 \\nLDA Mean Coherence: 0.09 \\nLDA Total Coherence: 2.15 \\n \\nn Topics: 26.00 \\nLDA Mean Coherence: 0.09 \\nLDA Total Coherence: 2.38 \\n \\nn Topics: 27.00 \\nLDA Mean Coherence: 0.08 \\nLDA Total Coherence: 2.05 \\n \\nn Topics: 28.00 \\nLDA Mean Coherence: 0.06 \\nLDA Total Coherence: 1.54 \\n \\nn Topics: 29.00 \\nLDA Mean Coherence: 0.06 \\nLDA Total Coherence: 1.85 \\n \\nn Topics: 30.00 \\nLDA Mean Coherence: 0.06 \\nLDA Total Coherence: 1.77 \\n \\nn Topics: 31.00 \\nLDA Mean Coherence: 0.07 \\nLDA Total Coherence: 2.14 \\n \\nn Topics: 32.00 \\nLDA Mean Coherence: 0.07 \\nLDA Total Coherence: 2.33 \\n \\nn Topics: 33.00 \\nLDA Mean Coherence: 0.06 \\nLDA Total Coherence: 1.84 \\n \\nn Topics: 34.00 \\nLDA Mean Coherence: 0.05 \\nLDA Total Coherence: 1.58 \\n \\nn Topics: 35.00 \\nLDA Mean Coherence: 0.03 \\nLDA Total Coherence: 0.94 \\n \\nn Topics: 36.00 \\nLDA Mean Coherence: 0.06 \\nLDA Total Coherence: 2.05 \\n \\nn Topics: 37.00 \\nLDA Mean Coherence: 0.06 \\nLDA Total Coherence: 2.38 \\n \\nn Topics: 38.00 \\nLDA Mean Coherence: 0.04 \\nLDA Total Coherence: 1.69 \\n \\nn Topics: 39.00 \\nLDA Mean Coherence: 0.05 \\nLDA Total Coherence: 1.76 \\n \\nn Topics: 40.00 \\nLDA Mean Coherence: 0.04 \\nLDA Total Coherence: 1.58 \\n \\nn Topics: 41.00 \\nLDA Mean Coherence: 0.05 \\nLDA Total Coherence: 2.08 \\n \\nn Topics: 42.00 \\nLDA Mean Coherence: 0.06 \\nLDA Total Coherence: 2.53 \\n \\nn Topics: 43.00 \\nLDA Mean Coherence: 0.05 \\nLDA Total Coherence: 2.23 \\n \\nn Topics: 44.00 \\nLDA Mean Coherence: 0.06 \\nLDA Total Coherence: 2.61 \\n \\nn Topics: 45.00 \\nLDA Mean Coherence: 0.03 \\nLDA Total Coherence: 1.40 \\n \\nn Topics: 46.00 \\nLDA Mean Coherence: 0.04 \\nLDA Total Coherence: 1.98 \\n \\nn Topics: 47.00 \\nLDA Mean Coherence: 0.06 \\nLDA Total Coherence: 2.59 \\n \\nn Topics: 48.00 \\nLDA Mean Coherence: 0.04 \\nLDA Total Coherence: 2.13 \\n \\nn Topics: 49.00 \\nLDA Mean Coherence: 0.04 \\nLDA Total Coherence: 1.73 \\n \\nn Topics: 50.00 \\nLDA Mean Coherence: 0.03 \\nLDA Total Coherence: 1.48 \\n \\nn Topics: 51.00 \\nLDA Mean Coherence: 0.05 \\nLDA Total Coherence: 2.52 \\n \\nn Topics: 52.00 \\nLDA Mean Coherence: 0.03 \\nLDA Total Coherence: 1.64 \\n \\nn Topics: 53.00 \\nLDA Mean Coherence: 0.04 \\nLDA Total Coherence: 2.04 \\n\\n(*SE INTERRUMPIO EL PROCESO EN LA ITERACION DE N TOPICS: 53*)\\n'"
            ],
            "application/vnd.google.colaboratory.intrinsic+json": {
              "type": "string"
            }
          },
          "metadata": {},
          "execution_count": 51
        }
      ]
    },
    {
      "cell_type": "code",
      "source": [
        "#### TRAIGO A MANO LOS RESULTADOS, PARA GRAFICAR, PORQUE SE CAYO EL COLAB ANTES DE TERMINAR:\n",
        "\"\"\"N_Topics_array = pd.read_excel(\"n_Topics.xlsx\")\n",
        "N_Topics_array.head()\n",
        "N_Topics_array = N_Topics_array[\"n_Topics\"].tolist()\n",
        "\n",
        "Coherence_Total_array = pd.read_excel(\"LDA_Total_Coherence.xlsx\")\n",
        "Coherence_Total_array.head()\n",
        "Coherence_Total_array = Coherence_Total_array[\"LDA Total Coherence\"].tolist()\n",
        "\n",
        "Coherence_Media_array = pd.read_excel(\"LDA_Mean_Coherence.xlsx\")\n",
        "Coherence_Media_array.head()\n",
        "Coherence_Media_array = Coherence_Media_array[\"LDA Mean Coherence\"].tolist()\n",
        "\n",
        "print(type(N_Topics_array))\n",
        "print(len(N_Topics_array))\n",
        "print(type(Coherence_Total_array))\n",
        "print(len(Coherence_Total_array))\n",
        "print(type(Coherence_Media_array))\n",
        "print(len(Coherence_Media_array))\"\"\""
      ],
      "metadata": {
        "colab": {
          "base_uri": "https://localhost:8080/"
        },
        "id": "uA3-xOggMLZX",
        "outputId": "ad2b252d-a345-42ff-dc84-5882694b07b2"
      },
      "execution_count": null,
      "outputs": [
        {
          "output_type": "stream",
          "name": "stdout",
          "text": [
            "<class 'list'>\n",
            "49\n",
            "<class 'list'>\n",
            "49\n",
            "<class 'list'>\n",
            "49\n"
          ]
        }
      ]
    },
    {
      "cell_type": "markdown",
      "source": [
        "## **Gráficos de evolución de la Coherencia Media y Total en función de la cant. de Topics: Analisis de granularidad fina (Step=1)**\n",
        "#### ***Setee parámetros visualización:***\n",
        "#### - *Tipo de gráfico: \"barras\" ó \"lineas\".*"
      ],
      "metadata": {
        "id": "mGQsqAYAlaph"
      }
    },
    {
      "cell_type": "code",
      "source": [
        "Tipo_Grafico = \"lineas\"  ###INGRESE TIPO DE GRAFICO: \"barras\" o \"lineas\"\n",
        "\n",
        "#fig, axes = plt.subplots(1, 2, figsize=(10, 4), sharex=True)\n",
        "#plt.subplots(1, 2)\n",
        "\n",
        "#plt.figure(figsize=[10,4])\n",
        "for i in range(0,2):\n",
        "  plt.figure(figsize=[15,5])\n",
        "  x=N_Topics_array\n",
        "  if i == 1:\n",
        "    y=Coherence_Total_array\n",
        "    title_=\"Coherencia Total en funcion del nro Topics\"\n",
        "    lable_y=\"Total Coherence\"\n",
        "    color_=\"b\"\n",
        "  elif i == 0:\n",
        "    y=Coherence_Media_array\n",
        "    title_=\"Coherencia Media en funcion del nro Topics\"\n",
        "    lable_y=\"Mean Coherence\"\n",
        "    color_=\"violet\"\n",
        "\n",
        "  #values = N_Topics_array \n",
        "\n",
        "  if Tipo_Grafico == \"barras\":\n",
        "    plt.bar(x,y, color=color_, width=0.5)\n",
        "  elif Tipo_Grafico == \"lineas\": \n",
        "    plt.plot(x,y, color=color_, linewidth=2)\n",
        "\n",
        "  #plt.plot(pd.DataFrame(Coherence_Total_array, index=N_Topics_array), label='Coherence Total', color=\"b\", linewidth=2)\n",
        "  plt.title(title_)\n",
        "  plt.xlabel(\"n Topics\")\n",
        "  plt.ylabel(lable_y)\n",
        "  plt.legend()\n",
        "  #plt.xticks(x,values)\n",
        "  plt.grid()\n",
        "  plt.show()\n",
        "  print(\" \")\n"
      ],
      "metadata": {
        "outputId": "6083861e-6f6b-4d0c-f75a-d23023fb4df5",
        "colab": {
          "base_uri": "https://localhost:8080/",
          "height": 752
        },
        "id": "PuqxujpNKXJG"
      },
      "execution_count": 52,
      "outputs": [
        {
          "output_type": "stream",
          "name": "stderr",
          "text": [
            "WARNING:matplotlib.legend:No handles with labels found to put in legend.\n"
          ]
        },
        {
          "output_type": "display_data",
          "data": {
            "text/plain": [
              "<Figure size 1080x360 with 1 Axes>"
            ],
            "image/png": "[encoded data removed]"
          },
          "metadata": {
            "needs_background": "light"
          }
        },
        {
          "output_type": "stream",
          "name": "stderr",
          "text": [
            "WARNING:matplotlib.legend:No handles with labels found to put in legend.\n"
          ]
        },
        {
          "output_type": "stream",
          "name": "stdout",
          "text": [
            " \n"
          ]
        },
        {
          "output_type": "display_data",
          "data": {
            "text/plain": [
              "<Figure size 1080x360 with 1 Axes>"
            ],
            "image/png": "[encoded data removed]"
          },
          "metadata": {
            "needs_background": "light"
          }
        },
        {
          "output_type": "stream",
          "name": "stdout",
          "text": [
            " \n"
          ]
        }
      ]
    },
    {
      "cell_type": "markdown",
      "source": [
        "###***Resultados preliminares del análisis de la cant. óptima de tópicos:***\n",
        "\n",
        "####***A) Resultados para Datos Totales (sin samplear):***\n",
        "Nótese, como tanto para la coherencia media como para la total, **se observan picos máximos en alrededor de 19 topics y en 26 topics.** En principio, aplicando un criterio similar al que se aplica para la métrica de Silhouette en la optimización de clusters, **podríamos elegir como las cantidades de tópicos candidatas a ser las óptimas a la de 19 tópicos y a la de 26 tópicos.**\n",
        "\n",
        "Sin embargo, **un análisis más profundo y de carácter cualitativo será necesario** para confirmar o refutar a estas cantidades óptimas. En este sentido, **proseguiremos con los siguientes pasos:**\n",
        "\n",
        "***1) Analizaremos la cantidad de “tópicos basura” existentes en cada caso.***\n",
        "\n",
        "***2) Realizaremos un análisis cualitativo (y subjetivo) del contenido semántico de las top 30 words de cada tópico contenido en dichos casos, antes de tomar una decisión.***\n",
        "\n",
        "***3) En caso de que los dos análisis anteriores resultaran negativos, volveremos a escoger una cantidad de tópicos candidata a ser óptima de entre los restantetes picos máximos de coherencia media y total, y repetiremos pasos 1) a 3).***\n"
      ],
      "metadata": {
        "id": "-mm0SbxYsyBG"
      }
    },
    {
      "cell_type": "code",
      "source": [
        "\n",
        "import matplotlib.pyplot as plt\n",
        "import matplotlib.image as mpimg\n",
        "\n",
        "\n",
        "imagen_1_Total = mpimg.imread(\"https://raw.githubusercontent.com/mateosuster/nlpPapers/main/results/Coherencia_Media_Topics_iteracion_1_topic.png\")\n",
        "imgplot = plt.imshow(imagen_1_Total)\n",
        "plt.suptitle(\"Datos Totales\")\n",
        "plt.title(\"Coherencia Media en función de la cant. Topics\")\n",
        "plt.show()\n",
        "\n",
        "imagen_2_Total = mpimg.imread(\"https://raw.githubusercontent.com/mateosuster/nlpPapers/main/results/Coherencia_Total_iteracion_1_topic.png\")\n",
        "imgplot = plt.imshow(imagen_2_Total)\n",
        "plt.suptitle(\"Datos Totales\")\n",
        "plt.title(\"Coherencia Total en función de la cant. Topics\")\n",
        "plt.figure(figsize=[15,5])\n",
        "plt.show()\n",
        "\n",
        "\n",
        "#if Tipo_Datos == \"sampleados\":\n",
        " # imagen_1 = imagen_1_Sampleada\n",
        "#elif Tipo_Datos == \"totales\":\n",
        " # imagen_1 = imagen_1_Total\n",
        "\n",
        "\"\"\"Nótese, como tanto para la coherencia media como para la total, se observan picos máximos en alrededor de 19 topics y en 26 topics. En principio, aplicando un criterio similar al que se aplica para la métrica de Silhouette en la optimización de clusters, podríamos elegir como las cantidades de tópicos candidatas a ser las óptimas a la de 19 tópicos y a la de 26 tópicos. \n",
        "   Sin embargo, un análisis más profundo y de carácter cualitativo será necesario para confirmar o refutar a estas cantidades óptimas. En este sentido, proseguiremos con los siguientes pasos: \n",
        "    1) Analizaremos la cantidad de “tópicos basura” existentes en cada caso. \n",
        "    2) Realizaremos un análisis cualitativo (y subjetivo) del contenido semántico de las top 30 words de cada tópico contenido en dichos casos, antes de tomar una decisión.\n",
        "    3) En caso de que los dos análisis anteriores resultaran negativos, volveremos a escoger una cantidad de tópicos candidata a ser óptima de entre los restantetes picos máximos de coherencia media y total, y repetiremos pasos 1) a 3).\n",
        "\"\"\"\n",
        "\n",
        "\n",
        "\n",
        "\n"
      ],
      "metadata": {
        "id": "g0oYcfPpsrWT",
        "colab": {
          "base_uri": "https://localhost:8080/",
          "height": 619
        },
        "outputId": "f04ce12d-e658-4f62-e3a0-3674ddcf1fba"
      },
      "execution_count": 49,
      "outputs": [
        {
          "output_type": "display_data",
          "data": {
            "text/plain": [
              "<Figure size 432x288 with 1 Axes>"
            ],
            "image/png": "[encoded data removed]"
          },
          "metadata": {
            "needs_background": "light"
          }
        },
        {
          "output_type": "display_data",
          "data": {
            "text/plain": [
              "<Figure size 432x288 with 1 Axes>"
            ],
            "image/png": "[encoded data removed]"
          },
          "metadata": {
            "needs_background": "light"
          }
        },
        {
          "output_type": "display_data",
          "data": {
            "text/plain": [
              "<Figure size 1080x360 with 0 Axes>"
            ]
          },
          "metadata": {}
        },
        {
          "output_type": "execute_result",
          "data": {
            "text/plain": [
              "'Nótese, como tanto para la coherencia media como para la total, se observan picos máximos en alrededor de 19 topics y en 26 topics. En principio, aplicando un criterio similar al que se aplica para la métrica de Silhouette en la optimización de clusters, podríamos elegir como las cantidades de tópicos candidatas a ser las óptimas a la de 19 tópicos y a la de 26 tópicos. \\n   Sin embargo, un análisis más profundo y de carácter cualitativo será necesario para confirmar o refutar a estas cantidades óptimas. En este sentido, proseguiremos con los siguientes pasos: \\n    1) Analizaremos la cantidad de “tópicos basura” existentes en cada caso. \\n    2) Realizaremos un análisis cualitativo (y subjetivo) del contenido semántico de las top 30 words de cada tópico contenido en dichos casos, antes de tomar una decisión.\\n    3) En caso de que los dos análisis anteriores resultaran negativos, volveremos a escoger una cantidad de tópicos candidata a ser óptima de entre los restantetes picos máximos de coherencia media y total, y repetiremos pasos 1) a 3).\\n'"
            ],
            "application/vnd.google.colaboratory.intrinsic+json": {
              "type": "string"
            }
          },
          "metadata": {},
          "execution_count": 49
        }
      ]
    },
    {
      "cell_type": "code",
      "source": [
        "###### ACA INTENTO GRAFICAR LOS TOPICS COMO HACE EL SKLEARN PERO PARA GENSIM, SIN EXITO AUN: XXXX\n",
        "\n",
        "cant_topics = 10 #### INGRESE CANTIDAD TOPICS\n",
        "\n",
        "import math\n",
        "from time import time\n",
        "import matplotlib.pyplot as plt\n",
        "\n",
        "from sklearn.feature_extraction.text import TfidfVectorizer, CountVectorizer\n",
        "#from sklearn.decomposition import NMF, MiniBatchNMF, LatentDirichletAllocation\n",
        "from sklearn.datasets import fetch_20newsgroups\n",
        "\n",
        "n_samples = 2000\n",
        "n_features = 1000\n",
        "n_components = cant_topics\n",
        "n_top_words = 30\n",
        "batch_size = 128\n",
        "init = \"nndsvda\"\n",
        "\n",
        "def plot_top_words(model, feature_names, n_top_words, title):\n",
        "    fig, axes = plt.subplots(math.ceil(cant_topics/5), 5, figsize=(35, 15), sharex=True)\n",
        "    axes = axes.flatten()\n",
        "    for topic_idx, topic in enumerate(model.components_):\n",
        "        top_features_ind = topic.argsort()[: -n_top_words - 1 : -1]\n",
        "        top_features = [feature_names[i] for i in top_features_ind]\n",
        "        weights = topic[top_features_ind]\n",
        "\n",
        "        ax = axes[topic_idx]\n",
        "        ax.barh(top_features, weights, height=0.7)\n",
        "        ax.set_title(f\"Topic {topic_idx +1}\", fontdict={\"fontsize\": 30})\n",
        "        ax.invert_yaxis()\n",
        "        ax.tick_params(axis=\"both\", which=\"major\", labelsize=20)\n",
        "        for i in \"top right left\".split():\n",
        "            ax.spines[i].set_visible(False)\n",
        "        fig.suptitle(title, fontsize=40)\n",
        "\n",
        "    plt.subplots_adjust(top=0.90, bottom=0.05, wspace=0.90, hspace=0.3)\n",
        "    plt.show()\n",
        "\n",
        "tf_vectorizer = count_vect\n",
        "\n",
        "tf_feature_names = tf_vectorizer.get_feature_names_out()\n",
        "\n",
        "plot_top_words(lda, tf_feature_names, n_top_words, \"Topics in LDA model\")\n"
      ],
      "metadata": {
        "id": "-vBPWgLoSGUc"
      },
      "execution_count": null,
      "outputs": []
    },
    {
      "cell_type": "code",
      "source": [
        "print('Max Coherence Total: %.2f ' % (Max_Coherence))\n",
        "print('N Topics Total Optimo: %.2f ' % (Max_Topic))\n",
        "print(\" \")\n"
      ],
      "metadata": {
        "colab": {
          "base_uri": "https://localhost:8080/"
        },
        "id": "viibYgAGkQrF",
        "outputId": "d7fed45e-dd29-44f3-ac4e-312adea69121"
      },
      "execution_count": null,
      "outputs": [
        {
          "output_type": "stream",
          "name": "stdout",
          "text": [
            "Max Coherence Total: 2.65 \n",
            "N Topics Total Optimo: 40.00 \n",
            " \n"
          ]
        }
      ]
    },
    {
      "cell_type": "code",
      "source": [
        "Max_Coherence"
      ],
      "metadata": {
        "colab": {
          "base_uri": "https://localhost:8080/"
        },
        "id": "2q9xnC9bjutv",
        "outputId": "836d8ef6-74e9-4b87-f4d8-ec9ff0934afb"
      },
      "execution_count": null,
      "outputs": [
        {
          "output_type": "execute_result",
          "data": {
            "text/plain": [
              "2.646271142888884"
            ]
          },
          "metadata": {},
          "execution_count": 32
        }
      ]
    },
    {
      "cell_type": "code",
      "source": [
        "n_topics = 2\n",
        "title = \"Coherence - n Topics: \" + str(n_topics)\n",
        "  #fig, ax = plt.subplots(figsize = (2.5, 4))\n",
        "fig, axes = plt.subplots(2, 5, figsize=(35, 15), sharex=True)\n",
        "pd.Series({'LDA':sum(lda_coherence),}).plot.bar(title=title, ylim=(0,2.0), color=[\"blue\"])\n",
        "print('n Topics: %.2f ' % (n_topics))\n",
        "print('LDA Mean Coherence: %.2f ' % (round(np.mean(lda_coherence),2)))\n",
        "print('LDA Total Coherence: %.2f ' % (round(sum(lda_coherence),2)))"
      ],
      "metadata": {
        "colab": {
          "base_uri": "https://localhost:8080/",
          "height": 764
        },
        "id": "CqR0sF3KqWdO",
        "outputId": "31bd12f0-1126-4063-e2bf-e0e9450d4a56"
      },
      "execution_count": null,
      "outputs": [
        {
          "output_type": "error",
          "ename": "NameError",
          "evalue": "ignored",
          "traceback": [
            "\u001b[0;31m---------------------------------------------------------------------------\u001b[0m",
            "\u001b[0;31mNameError\u001b[0m                                 Traceback (most recent call last)",
            "\u001b[0;32m<ipython-input-11-6b9ee8175a16>\u001b[0m in \u001b[0;36m<module>\u001b[0;34m\u001b[0m\n\u001b[1;32m      3\u001b[0m   \u001b[0;31m#fig, ax = plt.subplots(figsize = (2.5, 4))\u001b[0m\u001b[0;34m\u001b[0m\u001b[0;34m\u001b[0m\u001b[0;34m\u001b[0m\u001b[0m\n\u001b[1;32m      4\u001b[0m \u001b[0mfig\u001b[0m\u001b[0;34m,\u001b[0m \u001b[0maxes\u001b[0m \u001b[0;34m=\u001b[0m \u001b[0mplt\u001b[0m\u001b[0;34m.\u001b[0m\u001b[0msubplots\u001b[0m\u001b[0;34m(\u001b[0m\u001b[0;36m2\u001b[0m\u001b[0;34m,\u001b[0m \u001b[0;36m5\u001b[0m\u001b[0;34m,\u001b[0m \u001b[0mfigsize\u001b[0m\u001b[0;34m=\u001b[0m\u001b[0;34m(\u001b[0m\u001b[0;36m35\u001b[0m\u001b[0;34m,\u001b[0m \u001b[0;36m15\u001b[0m\u001b[0;34m)\u001b[0m\u001b[0;34m,\u001b[0m \u001b[0msharex\u001b[0m\u001b[0;34m=\u001b[0m\u001b[0;32mTrue\u001b[0m\u001b[0;34m)\u001b[0m\u001b[0;34m\u001b[0m\u001b[0;34m\u001b[0m\u001b[0m\n\u001b[0;32m----> 5\u001b[0;31m \u001b[0mpd\u001b[0m\u001b[0;34m.\u001b[0m\u001b[0mSeries\u001b[0m\u001b[0;34m(\u001b[0m\u001b[0;34m{\u001b[0m\u001b[0;34m'LDA'\u001b[0m\u001b[0;34m:\u001b[0m\u001b[0msum\u001b[0m\u001b[0;34m(\u001b[0m\u001b[0mlda_coherence\u001b[0m\u001b[0;34m)\u001b[0m\u001b[0;34m,\u001b[0m\u001b[0;34m}\u001b[0m\u001b[0;34m)\u001b[0m\u001b[0;34m.\u001b[0m\u001b[0mplot\u001b[0m\u001b[0;34m.\u001b[0m\u001b[0mbar\u001b[0m\u001b[0;34m(\u001b[0m\u001b[0mtitle\u001b[0m\u001b[0;34m=\u001b[0m\u001b[0mtitle\u001b[0m\u001b[0;34m,\u001b[0m \u001b[0mylim\u001b[0m\u001b[0;34m=\u001b[0m\u001b[0;34m(\u001b[0m\u001b[0;36m0\u001b[0m\u001b[0;34m,\u001b[0m\u001b[0;36m2.0\u001b[0m\u001b[0;34m)\u001b[0m\u001b[0;34m,\u001b[0m \u001b[0mcolor\u001b[0m\u001b[0;34m=\u001b[0m\u001b[0;34m[\u001b[0m\u001b[0;34m\"blue\"\u001b[0m\u001b[0;34m]\u001b[0m\u001b[0;34m)\u001b[0m\u001b[0;34m\u001b[0m\u001b[0;34m\u001b[0m\u001b[0m\n\u001b[0m\u001b[1;32m      6\u001b[0m \u001b[0mprint\u001b[0m\u001b[0;34m(\u001b[0m\u001b[0;34m'n Topics: %.2f '\u001b[0m \u001b[0;34m%\u001b[0m \u001b[0;34m(\u001b[0m\u001b[0mn_topics\u001b[0m\u001b[0;34m)\u001b[0m\u001b[0;34m)\u001b[0m\u001b[0;34m\u001b[0m\u001b[0;34m\u001b[0m\u001b[0m\n\u001b[1;32m      7\u001b[0m \u001b[0mprint\u001b[0m\u001b[0;34m(\u001b[0m\u001b[0;34m'LDA Mean Coherence: %.2f '\u001b[0m \u001b[0;34m%\u001b[0m \u001b[0;34m(\u001b[0m\u001b[0mround\u001b[0m\u001b[0;34m(\u001b[0m\u001b[0mnp\u001b[0m\u001b[0;34m.\u001b[0m\u001b[0mmean\u001b[0m\u001b[0;34m(\u001b[0m\u001b[0mlda_coherence\u001b[0m\u001b[0;34m)\u001b[0m\u001b[0;34m,\u001b[0m\u001b[0;36m2\u001b[0m\u001b[0;34m)\u001b[0m\u001b[0;34m)\u001b[0m\u001b[0;34m)\u001b[0m\u001b[0;34m\u001b[0m\u001b[0;34m\u001b[0m\u001b[0m\n",
            "\u001b[0;31mNameError\u001b[0m: name 'lda_coherence' is not defined"
          ]
        },
        {
          "output_type": "display_data",
          "data": {
            "text/plain": [
              "<Figure size 2520x1080 with 10 Axes>"
            ],
            "image/png": "[encoded data removed]"
          },
          "metadata": {
            "needs_background": "light"
          }
        }
      ]
    },
    {
      "cell_type": "markdown",
      "source": [],
      "metadata": {
        "id": "8OOD9cK2NnRa"
      }
    },
    {
      "cell_type": "markdown",
      "source": [],
      "metadata": {
        "id": "y6S8HblWNmv8"
      }
    },
    {
      "cell_type": "code",
      "metadata": {
        "id": "aq1ChgAcVF2e",
        "colab": {
          "base_uri": "https://localhost:8080/",
          "height": 363
        },
        "outputId": "cd47ca46-11dd-4d83-f189-62002257f7c0"
      },
      "source": [
        "df_lda.sort_values(by='coherence',ascending=False)"
      ],
      "execution_count": null,
      "outputs": [
        {
          "output_type": "execute_result",
          "data": {
            "text/plain": [
              "  topic_id coherence                                              topic\n",
              "5        5  0.555076      [de, des, la, les, et, un, le, une, nous, en]\n",
              "1        1  0.257901  [translation, machine, system, mt, systems, la...\n",
              "2        2  0.198918  [semantic, parsing, syntactic, annotation, dep...\n",
              "6        6  0.158358  [sentiment, social, analysis, news, detection,...\n",
              "7        7  0.085927  [models, model, data, training, language, perf...\n",
              "8        8  0.080812  [verbs, linguistic, verb, et, lexical, bias, s...\n",
              "0        0  0.052261  [word, languages, words, language, paper, lexi...\n",
              "9        9   0.05089  [model, information, knowledge, question, prop...\n",
              "4        4  0.026575  [task, system, features, paper, model, results...\n",
              "3        3   0.02495  [language, corpus, data, paper, research, syst..."
            ],
            "text/html": [
              "\n",
              "  <div id=\"df-d6cca9a7-e364-4bc7-b739-c805209c94d7\">\n",
              "    <div class=\"colab-df-container\">\n",
              "      <div>\n",
              "<style scoped>\n",
              "    .dataframe tbody tr th:only-of-type {\n",
              "        vertical-align: middle;\n",
              "    }\n",
              "\n",
              "    .dataframe tbody tr th {\n",
              "        vertical-align: top;\n",
              "    }\n",
              "\n",
              "    .dataframe thead th {\n",
              "        text-align: right;\n",
              "    }\n",
              "</style>\n",
              "<table border=\"1\" class=\"dataframe\">\n",
              "  <thead>\n",
              "    <tr style=\"text-align: right;\">\n",
              "      <th></th>\n",
              "      <th>topic_id</th>\n",
              "      <th>coherence</th>\n",
              "      <th>topic</th>\n",
              "    </tr>\n",
              "  </thead>\n",
              "  <tbody>\n",
              "    <tr>\n",
              "      <th>5</th>\n",
              "      <td>5</td>\n",
              "      <td>0.555076</td>\n",
              "      <td>[de, des, la, les, et, un, le, une, nous, en]</td>\n",
              "    </tr>\n",
              "    <tr>\n",
              "      <th>1</th>\n",
              "      <td>1</td>\n",
              "      <td>0.257901</td>\n",
              "      <td>[translation, machine, system, mt, systems, la...</td>\n",
              "    </tr>\n",
              "    <tr>\n",
              "      <th>2</th>\n",
              "      <td>2</td>\n",
              "      <td>0.198918</td>\n",
              "      <td>[semantic, parsing, syntactic, annotation, dep...</td>\n",
              "    </tr>\n",
              "    <tr>\n",
              "      <th>6</th>\n",
              "      <td>6</td>\n",
              "      <td>0.158358</td>\n",
              "      <td>[sentiment, social, analysis, news, detection,...</td>\n",
              "    </tr>\n",
              "    <tr>\n",
              "      <th>7</th>\n",
              "      <td>7</td>\n",
              "      <td>0.085927</td>\n",
              "      <td>[models, model, data, training, language, perf...</td>\n",
              "    </tr>\n",
              "    <tr>\n",
              "      <th>8</th>\n",
              "      <td>8</td>\n",
              "      <td>0.080812</td>\n",
              "      <td>[verbs, linguistic, verb, et, lexical, bias, s...</td>\n",
              "    </tr>\n",
              "    <tr>\n",
              "      <th>0</th>\n",
              "      <td>0</td>\n",
              "      <td>0.052261</td>\n",
              "      <td>[word, languages, words, language, paper, lexi...</td>\n",
              "    </tr>\n",
              "    <tr>\n",
              "      <th>9</th>\n",
              "      <td>9</td>\n",
              "      <td>0.05089</td>\n",
              "      <td>[model, information, knowledge, question, prop...</td>\n",
              "    </tr>\n",
              "    <tr>\n",
              "      <th>4</th>\n",
              "      <td>4</td>\n",
              "      <td>0.026575</td>\n",
              "      <td>[task, system, features, paper, model, results...</td>\n",
              "    </tr>\n",
              "    <tr>\n",
              "      <th>3</th>\n",
              "      <td>3</td>\n",
              "      <td>0.02495</td>\n",
              "      <td>[language, corpus, data, paper, research, syst...</td>\n",
              "    </tr>\n",
              "  </tbody>\n",
              "</table>\n",
              "</div>\n",
              "      <button class=\"colab-df-convert\" onclick=\"convertToInteractive('df-d6cca9a7-e364-4bc7-b739-c805209c94d7')\"\n",
              "              title=\"Convert this dataframe to an interactive table.\"\n",
              "              style=\"display:none;\">\n",
              "        \n",
              "  <svg xmlns=\"http://www.w3.org/2000/svg\" height=\"24px\"viewBox=\"0 0 24 24\"\n",
              "       width=\"24px\">\n",
              "    <path d=\"M0 0h24v24H0V0z\" fill=\"none\"/>\n",
              "    <path d=\"M18.56 5.44l.94 2.06.94-2.06 2.06-.94-2.06-.94-.94-2.06-.94 2.06-2.06.94zm-11 1L8.5 8.5l.94-2.06 2.06-.94-2.06-.94L8.5 2.5l-.94 2.06-2.06.94zm10 10l.94 2.06.94-2.06 2.06-.94-2.06-.94-.94-2.06-.94 2.06-2.06.94z\"/><path d=\"M17.41 7.96l-1.37-1.37c-.4-.4-.92-.59-1.43-.59-.52 0-1.04.2-1.43.59L10.3 9.45l-7.72 7.72c-.78.78-.78 2.05 0 2.83L4 21.41c.39.39.9.59 1.41.59.51 0 1.02-.2 1.41-.59l7.78-7.78 2.81-2.81c.8-.78.8-2.07 0-2.86zM5.41 20L4 18.59l7.72-7.72 1.47 1.35L5.41 20z\"/>\n",
              "  </svg>\n",
              "      </button>\n",
              "      \n",
              "  <style>\n",
              "    .colab-df-container {\n",
              "      display:flex;\n",
              "      flex-wrap:wrap;\n",
              "      gap: 12px;\n",
              "    }\n",
              "\n",
              "    .colab-df-convert {\n",
              "      background-color: #E8F0FE;\n",
              "      border: none;\n",
              "      border-radius: 50%;\n",
              "      cursor: pointer;\n",
              "      display: none;\n",
              "      fill: #1967D2;\n",
              "      height: 32px;\n",
              "      padding: 0 0 0 0;\n",
              "      width: 32px;\n",
              "    }\n",
              "\n",
              "    .colab-df-convert:hover {\n",
              "      background-color: #E2EBFA;\n",
              "      box-shadow: 0px 1px 2px rgba(60, 64, 67, 0.3), 0px 1px 3px 1px rgba(60, 64, 67, 0.15);\n",
              "      fill: #174EA6;\n",
              "    }\n",
              "\n",
              "    [theme=dark] .colab-df-convert {\n",
              "      background-color: #3B4455;\n",
              "      fill: #D2E3FC;\n",
              "    }\n",
              "\n",
              "    [theme=dark] .colab-df-convert:hover {\n",
              "      background-color: #434B5C;\n",
              "      box-shadow: 0px 1px 3px 1px rgba(0, 0, 0, 0.15);\n",
              "      filter: drop-shadow(0px 1px 2px rgba(0, 0, 0, 0.3));\n",
              "      fill: #FFFFFF;\n",
              "    }\n",
              "  </style>\n",
              "\n",
              "      <script>\n",
              "        const buttonEl =\n",
              "          document.querySelector('#df-d6cca9a7-e364-4bc7-b739-c805209c94d7 button.colab-df-convert');\n",
              "        buttonEl.style.display =\n",
              "          google.colab.kernel.accessAllowed ? 'block' : 'none';\n",
              "\n",
              "        async function convertToInteractive(key) {\n",
              "          const element = document.querySelector('#df-d6cca9a7-e364-4bc7-b739-c805209c94d7');\n",
              "          const dataTable =\n",
              "            await google.colab.kernel.invokeFunction('convertToInteractive',\n",
              "                                                     [key], {});\n",
              "          if (!dataTable) return;\n",
              "\n",
              "          const docLinkHtml = 'Like what you see? Visit the ' +\n",
              "            '<a target=\"_blank\" href=https://colab.research.google.com/notebooks/data_table.ipynb>data table notebook</a>'\n",
              "            + ' to learn more about interactive tables.';\n",
              "          element.innerHTML = '';\n",
              "          dataTable['output_type'] = 'display_data';\n",
              "          await google.colab.output.renderOutput(dataTable, element);\n",
              "          const docLink = document.createElement('div');\n",
              "          docLink.innerHTML = docLinkHtml;\n",
              "          element.appendChild(docLink);\n",
              "        }\n",
              "      </script>\n",
              "    </div>\n",
              "  </div>\n",
              "  "
            ]
          },
          "metadata": {},
          "execution_count": 41
        }
      ]
    },
    {
      "cell_type": "code",
      "source": [
        "df_tf_idf.sort_values(by='coherence',ascending=False)"
      ],
      "metadata": {
        "id": "Zf-vYr0i-IDd",
        "outputId": "ab272d7b-75ff-41c8-b919-fc0cd8ab8f12",
        "colab": {
          "base_uri": "https://localhost:8080/",
          "height": 363
        }
      },
      "execution_count": null,
      "outputs": [
        {
          "output_type": "execute_result",
          "data": {
            "text/plain": [
              "  topic_id coherence                                              topic\n",
              "4        4  0.568605      [de, des, la, les, un, le, une, nous, et, en]\n",
              "6        6  0.254704  [translation, mt, system, machine, systems, ev...\n",
              "0        0  0.231611  [social, news, media, sentiment, analysis, fea...\n",
              "9        9  0.227263  [dialogue, dialog, conversation, user, convers...\n",
              "3        3  0.155374  [task, subtask, shared, system, tweets, emotio...\n",
              "2        2  0.042644  [model, models, word, tasks, learning, knowled...\n",
              "8        8 -0.161693  [nan, annotation, corpus, resources, lexical, ...\n",
              "1        1 -0.363209  [ud, afips, hpsg, attachment, amharic, ashingt...\n",
              "5        5 -0.400593  [privacy, hyperpartisan, tl, gender, bridging,...\n",
              "7        7 -0.428394  [gec, bibliography, urdu, poetry, attacks, att..."
            ],
            "text/html": [
              "\n",
              "  <div id=\"df-56b99015-84b6-494b-9636-ec48d11261ef\">\n",
              "    <div class=\"colab-df-container\">\n",
              "      <div>\n",
              "<style scoped>\n",
              "    .dataframe tbody tr th:only-of-type {\n",
              "        vertical-align: middle;\n",
              "    }\n",
              "\n",
              "    .dataframe tbody tr th {\n",
              "        vertical-align: top;\n",
              "    }\n",
              "\n",
              "    .dataframe thead th {\n",
              "        text-align: right;\n",
              "    }\n",
              "</style>\n",
              "<table border=\"1\" class=\"dataframe\">\n",
              "  <thead>\n",
              "    <tr style=\"text-align: right;\">\n",
              "      <th></th>\n",
              "      <th>topic_id</th>\n",
              "      <th>coherence</th>\n",
              "      <th>topic</th>\n",
              "    </tr>\n",
              "  </thead>\n",
              "  <tbody>\n",
              "    <tr>\n",
              "      <th>4</th>\n",
              "      <td>4</td>\n",
              "      <td>0.568605</td>\n",
              "      <td>[de, des, la, les, un, le, une, nous, et, en]</td>\n",
              "    </tr>\n",
              "    <tr>\n",
              "      <th>6</th>\n",
              "      <td>6</td>\n",
              "      <td>0.254704</td>\n",
              "      <td>[translation, mt, system, machine, systems, ev...</td>\n",
              "    </tr>\n",
              "    <tr>\n",
              "      <th>0</th>\n",
              "      <td>0</td>\n",
              "      <td>0.231611</td>\n",
              "      <td>[social, news, media, sentiment, analysis, fea...</td>\n",
              "    </tr>\n",
              "    <tr>\n",
              "      <th>9</th>\n",
              "      <td>9</td>\n",
              "      <td>0.227263</td>\n",
              "      <td>[dialogue, dialog, conversation, user, convers...</td>\n",
              "    </tr>\n",
              "    <tr>\n",
              "      <th>3</th>\n",
              "      <td>3</td>\n",
              "      <td>0.155374</td>\n",
              "      <td>[task, subtask, shared, system, tweets, emotio...</td>\n",
              "    </tr>\n",
              "    <tr>\n",
              "      <th>2</th>\n",
              "      <td>2</td>\n",
              "      <td>0.042644</td>\n",
              "      <td>[model, models, word, tasks, learning, knowled...</td>\n",
              "    </tr>\n",
              "    <tr>\n",
              "      <th>8</th>\n",
              "      <td>8</td>\n",
              "      <td>-0.161693</td>\n",
              "      <td>[nan, annotation, corpus, resources, lexical, ...</td>\n",
              "    </tr>\n",
              "    <tr>\n",
              "      <th>1</th>\n",
              "      <td>1</td>\n",
              "      <td>-0.363209</td>\n",
              "      <td>[ud, afips, hpsg, attachment, amharic, ashingt...</td>\n",
              "    </tr>\n",
              "    <tr>\n",
              "      <th>5</th>\n",
              "      <td>5</td>\n",
              "      <td>-0.400593</td>\n",
              "      <td>[privacy, hyperpartisan, tl, gender, bridging,...</td>\n",
              "    </tr>\n",
              "    <tr>\n",
              "      <th>7</th>\n",
              "      <td>7</td>\n",
              "      <td>-0.428394</td>\n",
              "      <td>[gec, bibliography, urdu, poetry, attacks, att...</td>\n",
              "    </tr>\n",
              "  </tbody>\n",
              "</table>\n",
              "</div>\n",
              "      <button class=\"colab-df-convert\" onclick=\"convertToInteractive('df-56b99015-84b6-494b-9636-ec48d11261ef')\"\n",
              "              title=\"Convert this dataframe to an interactive table.\"\n",
              "              style=\"display:none;\">\n",
              "        \n",
              "  <svg xmlns=\"http://www.w3.org/2000/svg\" height=\"24px\"viewBox=\"0 0 24 24\"\n",
              "       width=\"24px\">\n",
              "    <path d=\"M0 0h24v24H0V0z\" fill=\"none\"/>\n",
              "    <path d=\"M18.56 5.44l.94 2.06.94-2.06 2.06-.94-2.06-.94-.94-2.06-.94 2.06-2.06.94zm-11 1L8.5 8.5l.94-2.06 2.06-.94-2.06-.94L8.5 2.5l-.94 2.06-2.06.94zm10 10l.94 2.06.94-2.06 2.06-.94-2.06-.94-.94-2.06-.94 2.06-2.06.94z\"/><path d=\"M17.41 7.96l-1.37-1.37c-.4-.4-.92-.59-1.43-.59-.52 0-1.04.2-1.43.59L10.3 9.45l-7.72 7.72c-.78.78-.78 2.05 0 2.83L4 21.41c.39.39.9.59 1.41.59.51 0 1.02-.2 1.41-.59l7.78-7.78 2.81-2.81c.8-.78.8-2.07 0-2.86zM5.41 20L4 18.59l7.72-7.72 1.47 1.35L5.41 20z\"/>\n",
              "  </svg>\n",
              "      </button>\n",
              "      \n",
              "  <style>\n",
              "    .colab-df-container {\n",
              "      display:flex;\n",
              "      flex-wrap:wrap;\n",
              "      gap: 12px;\n",
              "    }\n",
              "\n",
              "    .colab-df-convert {\n",
              "      background-color: #E8F0FE;\n",
              "      border: none;\n",
              "      border-radius: 50%;\n",
              "      cursor: pointer;\n",
              "      display: none;\n",
              "      fill: #1967D2;\n",
              "      height: 32px;\n",
              "      padding: 0 0 0 0;\n",
              "      width: 32px;\n",
              "    }\n",
              "\n",
              "    .colab-df-convert:hover {\n",
              "      background-color: #E2EBFA;\n",
              "      box-shadow: 0px 1px 2px rgba(60, 64, 67, 0.3), 0px 1px 3px 1px rgba(60, 64, 67, 0.15);\n",
              "      fill: #174EA6;\n",
              "    }\n",
              "\n",
              "    [theme=dark] .colab-df-convert {\n",
              "      background-color: #3B4455;\n",
              "      fill: #D2E3FC;\n",
              "    }\n",
              "\n",
              "    [theme=dark] .colab-df-convert:hover {\n",
              "      background-color: #434B5C;\n",
              "      box-shadow: 0px 1px 3px 1px rgba(0, 0, 0, 0.15);\n",
              "      filter: drop-shadow(0px 1px 2px rgba(0, 0, 0, 0.3));\n",
              "      fill: #FFFFFF;\n",
              "    }\n",
              "  </style>\n",
              "\n",
              "      <script>\n",
              "        const buttonEl =\n",
              "          document.querySelector('#df-56b99015-84b6-494b-9636-ec48d11261ef button.colab-df-convert');\n",
              "        buttonEl.style.display =\n",
              "          google.colab.kernel.accessAllowed ? 'block' : 'none';\n",
              "\n",
              "        async function convertToInteractive(key) {\n",
              "          const element = document.querySelector('#df-56b99015-84b6-494b-9636-ec48d11261ef');\n",
              "          const dataTable =\n",
              "            await google.colab.kernel.invokeFunction('convertToInteractive',\n",
              "                                                     [key], {});\n",
              "          if (!dataTable) return;\n",
              "\n",
              "          const docLinkHtml = 'Like what you see? Visit the ' +\n",
              "            '<a target=\"_blank\" href=https://colab.research.google.com/notebooks/data_table.ipynb>data table notebook</a>'\n",
              "            + ' to learn more about interactive tables.';\n",
              "          element.innerHTML = '';\n",
              "          dataTable['output_type'] = 'display_data';\n",
              "          await google.colab.output.renderOutput(dataTable, element);\n",
              "          const docLink = document.createElement('div');\n",
              "          docLink.innerHTML = docLinkHtml;\n",
              "          element.appendChild(docLink);\n",
              "        }\n",
              "      </script>\n",
              "    </div>\n",
              "  </div>\n",
              "  "
            ]
          },
          "metadata": {},
          "execution_count": 74
        }
      ]
    },
    {
      "cell_type": "code",
      "source": [],
      "metadata": {
        "id": "mQqqpWE_YobL"
      },
      "execution_count": null,
      "outputs": []
    }
  ]
}